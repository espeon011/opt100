{
 "cells": [
  {
   "cell_type": "code",
   "execution_count": null,
   "id": "Hbol",
   "metadata": {},
   "outputs": [],
   "source": [
    "import marimo as mo"
   ]
  },
  {
   "cell_type": "code",
   "execution_count": null,
   "id": "MJUe",
   "metadata": {},
   "outputs": [],
   "source": [
    "import os\n",
    "import pathlib\n",
    "from typing import Self\n",
    "import pydantic\n",
    "import networkx as nx\n",
    "from ortools.sat.python import cp_model"
   ]
  },
  {
   "cell_type": "markdown",
   "id": "vblA",
   "metadata": {
    "marimo": {
     "config": {
      "hide_code": true
     }
    }
   },
   "source": [
    "# シフト最適化問題"
   ]
  },
  {
   "cell_type": "markdown",
   "id": "bkHC",
   "metadata": {
    "marimo": {
     "config": {
      "hide_code": true
     }
    }
   },
   "source": [
    "## 問題設定"
   ]
  },
  {
   "cell_type": "markdown",
   "id": "lEQa",
   "metadata": {
    "marimo": {
     "config": {
      "hide_code": true
     }
    }
   },
   "source": [
    "各ジョブは予め実行時間が与えられている.\n",
    "その上で作業員を各ジョブに割り当て, 同じ作業員が同一時刻に複数のタスクを処理しないようにする."
   ]
  },
  {
   "cell_type": "markdown",
   "id": "PKri",
   "metadata": {
    "marimo": {
     "config": {
      "hide_code": true
     }
    }
   },
   "source": [
    "### 定数\n",
    "\n",
    "- $J$: ジョブの集合\n",
    "- $W$: 作業員の集合\n",
    "- $b_w$: 作業員 $w$ の固定費用\n",
    "- $s_j, f_j$: ジョブ $j$ の開始時刻と終了時刻\n",
    "- $J_w$: 作業員 $w$ が遂行できるジョブの集合\n",
    "- $W_j$: ジョブ $j$ を遂行できる作業員の集合\n",
    "- $G = (J, E)$: ジョブを点, ジョブの作業時間に重なりがあるとき点の間に線を張るというルールで作成したグラフ\n",
    "- $C$: 区間グラフ $G$ に対する極大クリークの集合\n",
    "- $J_c$: クリーク $c$ に含まれるジョブの集合\n",
    "\n",
    "### 決定変数\n",
    "\n",
    "- $x_{jw} \\in \\{ 0, 1 \\}$: ジョブ $j$ に作業員 $w$ を割り当てる時 $1$, それ以外のとき $0$.\n",
    "- $y_w \\in \\{ 0, 1 \\}$: 作業員 $w$ が使われるとき $1$, それ以外のとき $0$.\n",
    "\n",
    "### 制約条件\n",
    "\n",
    "- $\\sum_{w \\in W} x_{jw} = 1 \\quad (\\forall j \\in J)$: 各ジョブは 1 人の作業員によって必ず遂行される.\n",
    "- $\\sum_{j \\in J_c \\cap J_w} x_{jw} \\leq y_w \\quad (\\forall w \\in W, \\space \\forall c \\in C)$: 各作業員は同時に 2 つ以上のジョブを処理できない.\n",
    "\n",
    "### 目的関数\n",
    "\n",
    "- $\\min \\sum_{w \\in W} b_w y_w$: 作業員の固定費用の総和を最小化"
   ]
  },
  {
   "cell_type": "code",
   "execution_count": null,
   "id": "Xref",
   "metadata": {},
   "outputs": [],
   "source": [
    "current_dir = pathlib.Path(os.path.dirname(__file__))\n",
    "data_dir = current_dir / \"data\" / \"ptask\""
   ]
  },
  {
   "cell_type": "code",
   "execution_count": null,
   "id": "SFPL",
   "metadata": {},
   "outputs": [
    {
     "data": {
      "application/json": "[\"# Randomly generated data for apersonnel scheduling problem\\n\", \"# ./datagen tightness = 90 Multi-skilling level = 66\\n\", \"# Random number generator seed = 0\\n\", \"Type = 1\\n\", \"Jobs = 111\\n\", \"  17  419\\n\", \" 236  706\\n\", \"  17  404\\n\", \"  66  581\\n\", \" 600 1018\\n\", \"  30  404\\n\", \"  21  328\\n\", \"   1  583\\n\", \"   6  575\\n\", \"  91  561\\n\", \"  59  495\\n\", \"  17  555\\n\", \"  18  461\\n\", \"1027 1420\\n\", \"  24  590\\n\", \" 134  799\\n\", \" 597  951\\n\", \"  15  342\\n\", \"  16  347\\n\", \"  52  725\\n\", \" 179  668\\n\", \"   7  513\\n\", \" 418  972\\n\", \" 500  837\\n\", \"   1  575\\n\", \"  49  591\\n\", \"  21  440\\n\", \"  39  362\\n\", \"  28  423\\n\", \" 442  831\\n\", \" 405  849\\n\", \"   8  388\\n\", \" 583  957\\n\", \" 466  837\\n\", \" 962 1411\\n\", \" 382  816\\n\", \" 416  939\\n\", \" 961 1399\\n\", \"  53  662\\n\", \"  27  391\\n\", \" 196  669\\n\", \" 335  934\\n\", \" 575 1201\\n\", \"  15  622\\n\", \" 550  959\\n\", \"  31  456\\n\", \" 428  841\\n\", \" 454  969\\n\", \" 706 1373\\n\", \"  11  526\\n\", \" 395  967\\n\", \" 390  977\\n\", \"  34  473\\n\", \" 914 1430\\n\", \"  11  439\\n\", \" 938 1401\\n\", \" 652 1118\\n\", \" 981 1433\\n\", \" 898 1409\\n\", \" 470 1006\\n\", \"   1  399\\n\", \" 390  927\\n\", \" 853 1431\\n\", \"1133 1435\\n\", \" 599 1030\\n\", \"   5  458\\n\", \"   4  387\\n\", \"  27  679\\n\", \" 414  836\\n\", \" 531  949\\n\", \" 587 1016\\n\", \" 900 1381\\n\", \" 855 1406\\n\", \"1059 1382\\n\", \" 923 1407\\n\", \"  34  597\\n\", \" 988 1429\\n\", \" 582 1021\\n\", \" 575 1016\\n\", \" 503 1074\\n\", \" 828 1327\\n\", \" 473  987\\n\", \"1067 1393\\n\", \" 461  843\\n\", \"   1  383\\n\", \" 133  607\\n\", \"1008 1425\\n\", \" 938 1366\\n\", \" 865 1389\\n\", \" 622  970\\n\", \"1029 1439\\n\", \" 395  823\\n\", \" 874 1431\\n\", \" 978 1415\\n\", \" 759 1389\\n\", \"1057 1425\\n\", \" 788 1255\\n\", \" 998 1433\\n\", \"1077 1437\\n\", \"1121 1435\\n\", \"1062 1419\\n\", \" 988 1381\\n\", \" 460  843\\n\", \" 905 1436\\n\", \" 847 1380\\n\", \" 855 1433\\n\", \" 755 1368\\n\", \" 990 1405\\n\", \" 990 1411\\n\", \" 847 1435\\n\", \" 649 1294\\n\", \"Qualifications = 51\\n\", \" 76:  45 102 103   0   1   3   6   7   8  11  12  14  15  16  21  22  23  24  25  26  27  28  29  30  33  35  36  37  39  40  41  43  47  50  52  54  55  57  59  61  62  64  65  66  67  69  70  71  72  73  74  75  76  77  79  80  81  82  83  85  87  88  90  91  93  94  96  98  99 100 101 104 106 107 108 109 \\n\", \" 80:  84  91 104   0   3   5   7   8   9  10  11  12  13  15  16  18  19  20  21  22  23  24  25  26  28  29  30  31  32  34  35  36  37  39  40  42  45  47  50  51  52  53  54  55  58  59  60  62  63  66  69  71  73  74  75  77  79  80  81  83  85  86  87  88  90  93  94  95  96  97  98  99 100 101 102 103 107 108 109 110 \\n\", \" 71:  54  59  99   1   6   7  11  12  13  14  15  16  17  18  19  20  23  24  25  26  27  28  29  30  31  34  35  38  39  41  43  44  45  46  47  48  50  51  52  53  55  56  57  58  60  61  65  67  68  69  70  73  74  75  76  79  81  83  91  92  93  94  96  97  98 100 104 106 107 108 109 \\n\", \" 77:  27  61  87   0   1   2   4   5   7   8  11  12  13  14  16  17  18  21  22  24  25  28  29  30  32  33  34  35  37  38  42  43  44  45  47  49  50  52  54  57  58  59  62  64  66  67  68  69  72  74  75  77  78  79  80  81  82  83  85  86  88  89  91  92  93  94  95  96  97  98 100 103 104 106 107 108 109 \\n\", \" 70:  11  70  73   0   1   5   7   8   9  10  17  18  21  22  23  25  26  27  28  30  31  32  33  35  36  37  38  39  40  41  42  43  45  46  48  51  52  55  56  59  60  63  67  71  72  74  75  77  78  80  81  82  83  84  85  86  89  92  93  94  96  97  98  99 100 101 103 105 108 109 \\n\", \" 76:  25  64  82   2   3   4   5   6   7   8   9  10  11  12  14  15  16  17  18  20  26  29  31  32  34  36  37  38  39  41  42  43  44  45  46  47  48  49  50  52  54  55  57  58  60  61  62  65  66  67  70  72  75  76  78  80  81  86  87  88  89  90  93  94  95  96  97  99 102 103 104 105 106 107 108 110 \\n\", \" 78:  17  35  72   2   3   4   5   6   7   8  10  11  12  14  15  16  18  20  21  22  23  24  25  26  27  28  29  32  34  37  39  40  41  45  48  49  50  51  52  53  56  57  59  60  61  63  64  66  67  69  71  73  75  76  77  79  80  82  83  84  87  88  90  91  92  93  94  95  96  97  98 100 102 103 104 105 107 108 \\n\", \" 76:  18  22  97   0   1   2   3   4   5   6   7   8   9  10  11  14  15  19  20  24  25  27  30  33  34  35  36  37  38  40  43  45  48  49  50  51  53  54  55  59  60  62  63  64  65  67  69  70  71  72  73  74  77  78  79  80  83  84  85  86  88  89  90  92  93  94  96  98  99 100 101 103 106 107 108 110 \\n\", \" 79:  10  23  92   0   4   5   7   8   9  11  12  13  14  15  17  18  19  21  24  25  27  30  31  32  33  34  36  37  38  39  42  43  44  45  46  47  48  50  51  52  55  56  58  59  60  63  64  65  66  67  68  70  72  73  76  78  80  81  83  84  87  89  90  91  93  94  95  96  98  99 100 101 103 104 105 106 107 108 109 \\n\", \" 78:  75  89  93   0   3   4   5   6   8   9  10  11  12  13  14  15  17  19  20  21  25  26  27  28  29  31  32  33  35  36  37  38  40  41  42  43  44  45  46  47  48  49  50  51  52  54  56  57  59  60  61  63  64  66  67  68  70  72  74  78  79  80  83  84  85  87  91  92  96  97  99 100 101 103 104 105 106 108 \\n\", \" 85:  14  16  37   0   1   3   4   5   9  10  11  12  13  15  17  19  20  21  22  23  24  25  26  27  29  32  33  34  35  36  39  40  41  43  44  45  46  47  48  49  50  51  53  54  55  56  57  58  59  60  62  63  64  65  66  67  68  69  70  71  72  73  74  77  78  79  83  84  86  87  89  93  95  97  98 100 101 102 103 104 105 106 107 109 110 \\n\", \" 73:   8  77 100   0   1   2   4   6   7   9  10  11  13  16  17  18  19  20  21  22  23  24  27  28  30  31  33  35  36  40  42  43  45  47  48  49  50  52  53  55  56  59  60  62  63  65  66  67  69  72  73  74  76  78  79  83  84  85  86  88  89  91  92  93  94  95  96 102 103 104 106 107 109 \\n\", \" 79:  52  79  98   0   1   3   4   5   7   8  10  11  12  13  14  17  18  19  21  22  23  24  25  27  30  31  32  35  37  38  40  41  44  45  46  47  49  50  51  56  59  61  62  63  65  66  67  68  69  71  72  73  74  75  76  77  78  80  81  82  87  88  89  91  92  93  94  95  96  97  99 100 101 102 103 104 105 106 109 \\n\", \" 76:  39  50  76   0   1   3   4   5   6   7   8   9  11  12  13  14  15  17  19  20  23  25  26  28  29  30  31  32  33  34  35  37  38  41  42  44  46  48  49  51  52  53  54  55  56  58  61  64  65  68  70  71  74  75  80  82  83  84  88  89  90  91  92  93  94  95  96  98 100 101 102 103 105 106 107 108 \\n\", \" 75:  24  78  95   0   1   2   3   7  10  11  15  16  17  20  21  25  26  29  33  34  36  37  38  39  40  42  44  45  47  48  49  52  56  57  58  59  60  61  62  63  64  65  68  69  70  71  72  74  75  76  77  80  81  82  84  88  89  90  91  92  93  96  97  98 100 101 102 103 104 105 106 107 108 109 110 \\n\", \" 70:  12  33 105   0   3   4   7   8   9  11  13  14  15  19  22  23  26  27  28  30  34  35  36  38  39  41  42  43  44  45  49  51  52  53  54  55  57  58  59  60  61  62  65  66  68  69  70  71  72  74  75  78  79  80  81  82  84  86  88  90  91  92  98  99 100 101 102 106 107 108 \\n\", \" 78:   5  30  62   0   1   2   3   4   6   8   9  13  16  17  18  21  24  25  26  27  29  31  32  33  34  35  37  38  39  42  43  44  45  46  47  49  50  51  52  53  54  55  56  57  60  61  63  67  68  69  71  73  74  75  76  77  80  82  83  85  88  89  91  92  93  94  95  96  97 100 101 104 105 106 107 108 109 110 \\n\", \" 75:   7  32  34   0   2   3   5   9  10  11  12  13  14  15  17  20  22  23  24  25  26  28  30  31  35  36  40  41  43  45  46  49  50  51  53  56  57  60  61  63  64  65  66  67  70  71  72  74  75  76  77  79  80  81  82  85  86  87  88  89  90  91  92  93  95  96  98  99 100 101 103 104 105 106 110 \\n\", \" 66:  31  51  57   0   1   3   5   7   8   9  10  11  14  15  17  18  24  25  26  28  29  30  32  34  35  37  40  41  46  47  49  50  52  54  55  56  61  62  63  68  69  70  71  72  74  77  78  80  81  82  85  87  89  90  91  93  94  95  96  98  99 101 105 106 107 108 \\n\", \" 77:  65  83 109   1   2   3   4   5   7   8   9  10  13  14  16  17  20  21  23  24  27  28  29  31  35  37  38  40  41  44  45  46  47  48  49  50  51  53  55  56  57  58  59  60  63  64  68  69  71  72  73  74  75  76  77  78  79  81  82  84  85  86  88  89  90  91  92  93  94  95  97 100 101 102 104 108 110 \\n\", \" 79:   6  41  55   0   1   2   4   5   7  10  12  14  15  16  17  18  19  20  21  22  23  24  25  27  28  29  30  31  32  33  35  39  40  42  43  44  50  52  54  56  57  58  60  61  62  63  65  66  67  68  69  72  73  75  77  78  79  82  83  86  87  88  89  90  91  92  93  95  98  99 100 102 103 104 105 106 107 108 109 \\n\", \" 78:  43  56  63   1   2   3   4   6   7   9  10  11  13  15  16  17  18  19  23  24  26  27  28  32  34  35  36  37  38  39  40  42  44  45  46  47  49  52  54  55  57  58  59  60  62  64  65  66  67  68  70  71  72  73  74  75  77  82  84  85  86  88  89  90  92  93  94  95  98 100 101 102 103 104 105 108 109 110 \\n\", \" 73:  38  96   1   2   3   4   7   8  10  11  12  13  14  15  18  20  22  24  25  26  27  29  31  32  34  36  40  41  43  45  46  47  48  50  51  56  57  58  59  60  64  65  66  68  69  72  73  74  77  78  79  80  81  83  84  87  88  89  91  93  95  97  99 100 101 102 103 104 105 106 107 108 110 \\n\", \" 68:   1 106   0   2   3   4   5   8   9  10  14  15  16  19  21  23  24  26  27  28  29  31  32  37  38  39  40  42  43  44  45  46  47  48  49  51  53  55  56  58  60  61  62  63  64  67  69  70  71  72  73  75  77  81  83  85  87  91  95  96  97 100 101 102 104 108 109 110 \\n\", \" 74:   9  42   0   3   5   7   8  10  12  14  15  17  18  19  20  21  23  24  26  27  28  30  31  32  33  36  37  38  39  40  41  43  44  45  46  51  52  53  54  55  56  57  59  63  65  66  68  70  71  73  74  77  78  79  80  81  83  84  86  88  89  90  91  93  96  97  98  99 101 102 105 106 107 110 \\n\", \" 73:  40  94   0   3   4   5   7   8   9  10  14  16  18  19  22  23  24  25  27  29  30  31  34  35  36  37  38  39  41  42  45  46  53  54  58  59  60  61  62  63  64  69  70  71  76  77  78  79  80  81  82  84  85  86  87  88  89  90  91  92  93  97  98  99 100 101 103 104 105 106 108 109 110 \\n\", \" 76:  85 110   1   4   6   7  10  11  12  13  14  15  16  17  18  19  21  23  24  25  26  28  29  33  35  37  40  41  42  45  46  48  50  51  52  53  54  56  57  58  64  65  66  69  70  72  73  74  76  77  78  79  80  81  82  83  84  87  88  90  91  92  93  94  95  96  97  99 100 101 102 104 105 106 107 109 \\n\", \" 81:  67  71   1   2   3   6   7   8   9  11  12  13  14  15  16  17  18  19  25  26  27  28  29  31  32  33  35  37  38  39  41  42  43  44  45  46  47  50  51  53  54  56  57  58  59  60  61  62  64  66  68  69  72  74  76  77  78  79  80  81  83  85  86  87  88  89  90  91  93  94  95  98  99 101 103 104 105 106 108 109 110 \\n\", \" 78:  15  74   0   1   3   5   6   8   9  10  11  12  13  14  16  20  21  22  23  25  26  27  28  29  30  31  33  34  36  37  38  40  41  42  43  45  47  50  51  52  53  54  56  57  58  59  61  65  66  67  69  70  71  76  77  78  79  80  81  82  84  85  87  88  89  90  91  92  93  94  96  97  98  99 101 102 105 110 \\n\", \" 74:  20  48   0   1   3   4   7   8   9  10  13  14  15  16  18  22  23  24  25  30  33  34  35  37  38  40  41  42  43  44  49  51  52  53  55  56  57  58  60  61  62  64  65  67  69  70  71  72  73  74  75  76  77  78  83  85  86  88  89  91  92  93  94  95  97  98 100 102 103 104 106 108 109 110 \\n\", \" 69:  19  80   0   2   3   4   5   7   8   9  10  11  14  15  16  18  22  23  24  25  26  27  30  31  33  34  38  39  40  42  43  45  48  51  54  59  62  63  65  67  68  70  71  74  75  76  77  78  79  84  85  86  87  88  90  91  92  93  95  96  98  99 100 101 103 104 105 107 108 \\n\", \" 80:  21  44  90   0   1   2   3   5   7   9  10  11  13  14  16  17  18  23  25  26  27  28  29  31  32  33  34  35  36  37  38  39  40  41  43  45  46  51  53  54  55  56  57  58  59  60  63  64  65  66  67  68  70  73  74  75  76  77  78  79  81  82  83  85  89  91  92  94  95  97  98 100 101 102 103 105 106 108 109 110 \\n\", \" 74:   0  46  58   1   2   3   4   5   7   8  10  11  13  14  17  19  20  21  22  24  26  27  28  30  33  34  35  37  38  39  40  42  43  44  45  49  50  52  54  55  60  62  63  64  66  67  68  69  70  72  75  78  79  80  81  82  84  87  89  92  94  96  97  99 100 101 102 103 104 105 106 107 108 110 \\n\", \" 70:  60  81 107   0   1   2   3   4   5   8  10  11  12  13  14  17  19  20  21  24  25  27  34  35  40  41  42  43  44  45  46  50  51  52  53  55  56  58  59  61  63  64  65  69  72  73  76  78  80  82  84  85  87  88  89  90  91  92  93  94  96  97  98  99 100 101 102 103 105 110 \\n\", \" 83:  28  47  86   1   2   3   5   6   7   8   9  10  11  12  13  15  16  17  19  20  21  22  23  24  25  26  27  29  31  32  33  34  37  38  39  41  42  44  45  48  49  52  57  61  62  63  64  65  67  68  69  71  72  73  74  75  76  79  80  81  82  83  84  85  87  88  89  90  91  92  93  95  99 100 101 102 103 104 105 106 107 108 110 \\n\", \" 77:   3   4  13   0   1   2   5   7   8   9  10  11  12  14  17  18  19  20  21  24  25  27  28  29  30  31  34  35  36  38  39  41  44  46  47  50  51  52  55  56  58  59  60  62  65  66  68  69  70  71  73  74  75  76  77  79  80  81  82  83  84  85  88  90  91  93  97  98  99 100 101 103 104 106 108 109 110 \\n\", \" 76:  49  69 101   1   3   6   7   9  10  13  14  15  16  17  18  19  20  21  22  24  27  28  29  30  34  35  36  37  38  40  42  44  46  47  48  50  51  52  54  56  57  58  59  61  62  63  64  66  67  68  71  72  73  74  75  80  84  85  86  87  88  91  92  93  94  95  96  97  98  99 103 104 106 107 108 110 \\n\", \" 67:  26  29  53   0   1   2   3   4   5   6   7  10  11  13  16  18  20  21  22  23  25  27  28  30  33  34  35  36  39  42  43  44  46  48  49  50  51  55  56  57  60  61  64  66  70  71  73  75  77  78  80  81  82  83  87  88  89  92  95  97 100 101 102 104 105 107 109 \\n\", \" 78:   2  36 108   1   6   8   9  10  11  12  14  15  17  18  21  24  25  26  27  29  31  32  33  34  35  37  38  39  40  42  43  44  45  46  48  49  50  53  56  57  62  63  64  65  66  67  68  69  70  71  72  75  76  78  80  82  83  84  85  86  87  88  89  90  91  92  93  94  95  97  98  99 101 104 105 106 107 110 \\n\", \" 72:  66  68  88   2   4   7   9  10  13  15  16  17  18  19  21  22  23  25  29  30  32  33  34  35  37  38  39  42  43  44  45  47  48  49  51  52  54  55  56  57  58  60  61  63  65  67  70  71  72  73  74  75  78  79  80  83  85  87  90  93  95  96  98  99 101 102 103 105 106 107 108 110 \\n\", \" 83:  83  17  50  25  87  90  91   9   6  74  29 106 103   4  88  24  68  46  85  22 107  16  77 110 102  42  59  82  41  61  38   8  89  67  55  23  73  72  27  97  86  60  84   1  99  30 100  28   7  43  53  79  13  40  52  94  15  63  10  93  51  80  58  64 109  45  20 101   2  56   3  81  37   5  75  35  11  98  96  78  14  49 104 \\n\", \" 77:  36  49 110   0  10  29  91  83  64  15 107  82  78  13  69  88  42 106  45  40  73 105  31  97  41  94  53  76  86  54  75  65  46   7  37  23  81  99  39  20   6  63  35  87  18  66   9  95  30  48  70  93   5  84  96  72  52  57  62  92  90  51  61  60  89   8 108  56   1  43  14  77  21  98   3  12  27 \\n\", \" 82:  42  90  80 109  37  64  70  10  19  17  87  27  98  33 103  72 110 104   2  82  26  94  44  76  45  60  88  39  14  18  79  28   4  56  67  91  43  41  30   3  29 106  48  83  74  66  53   7  84  40  77  32  96   0  35 107  61  16  92  34  51  52  15  49 108  13  59  38  50  46  75  78 101  73  55  57  81  97  11  36  63  62 \\n\", \" 80: 110  94  63  33  40  85  89  57  68  44  45  11  86  14   9   5  25  78  95  53   3  56  62  12  10  75   8  79  48  47 104  91 108   4   7  13  88  31  35  67  51  77  61 102  29 107  82  87  59  34  64  46  73 103  16  28  76 109  32  19  55  90  43  92  71  66  58  23  74  70  60  39  50  36  20  99   0  83  98 100 \\n\", \" 85:  76  82   0 106  90  45  83  67 100  84  15   5  30  55  66  21  58  86  20  91  68  94  32 109  70  73  74  41   7  81  49  96  54  98  92  50 105  22  89  88  60  79  71  34  95   1 108  56  37  97  23  25  40  72 110   9  61  99  52  59 104  17   2  18  27  62 107  75  35  87   4  78  64  63  42  13  48  31  26  36  24  11  46  39  16 \\n\", \" 77: 101   6  21  62  54  52  29  81  89  37  45  98  39  44   5  33  68  48  34  46 105  31   0  61 109 104  18  99  50 106  32  17 110   4  38  85  94  43   8 103 108  14  88  16  55  90  36  26  96  20   7 100  70  15  82  75  10  73  77  58  22  97  13  11  78 102  57   9  56  12  93  59  60   3  24  87  84 \\n\", \" 79:  54  57  36  94  66  55  18  47  39  32  90  96  82  99  93  37 103 105 110  22  88  89  17  44  20   3  45 109  19  26  78  52  73   6  84  92  33  25  21  50  80  42 108  13  63  53  85  49  72  91  86  97  30 107   2  81  28  71  16  10  87  31  70  74  11  65  12  58   5   7  14  24  79  48  23   8  59  75  68 \\n\", \" 78:  56  29  80  54 107   8  65  73 104  39  19   0  62  38  41  88   6  30 106  53  14 102  59  18   1   5  99  81  95  89  66  90 103  71  64  67  26  63  45  48  11  75  55  58  69  61  72  60  33  23  97  76 108  36  28  42  87 105  96  52 101  43 109  24  94   3 110  40  46  83  77   9  10  82  78  74  20   4 \\n\", \" 85:  95  30  14 105  53 102   2  49   3  11  94  74   5  31  27  68  93  76  98  43  16  66  97  64  78   6   9  88  24  67  51  79  71  62   4  86  35  12 107  47 109  15 103   1 108  38  59  36  39  87  32  26 101  60  37 110  96  56  57   7  70   8  10  13  75  42  55  92  46  44  73  22  34  81  77  20  17 106  61  48  69  33  29  41   0 \\n\", \" 76:  86  79  14  99  12  61  62  41  96  16  63  59  64  68  17  82   1  19   4  13  95  38 102  66  46  85  90  92  40  45  42  22  27  35  43  31  48 105  20  55  39   9  75  25  30  71  87  84   7  65  93  51  24  49 104  11  60  21 106  76   3  78  89  83  57  50  37 101  18  67  81 107  69   2 103 108 \\n\", \" 75:   6 104  91   8  11  46  59  14  41  76  72  48  64  26 100  55   4  31  73  87  98  95  24  57  67  23  69  53   3  18 102  29  63  83  68  50   7  12  90  19  17  78  22  80  45  20 101 109  84  92  28  89  38  39  42   0  85 110  82  77  94  36  58  61  37   9  79 107 103  65  16  86 108  10  66 \\n\"]"
     },
     "metadata": {},
     "output_type": "display_data"
    }
   ],
   "source": [
    "fname1 = data_dir / \"data_10_51_111_66.dat\"\n",
    "\n",
    "with open(fname1) as f:\n",
    "    _lines = f.readlines()\n",
    "\n",
    "_lines"
   ]
  },
  {
   "cell_type": "code",
   "execution_count": null,
   "id": "BYtC",
   "metadata": {},
   "outputs": [],
   "source": [
    "class Job(pydantic.BaseModel):\n",
    "    model_config = pydantic.ConfigDict(frozen=True)\n",
    "\n",
    "    start: int\n",
    "    finish: int\n",
    "\n",
    "    def intersect_with(self, other: Self) -> bool:\n",
    "        if self.start <= other.start and self.finish > other.start:\n",
    "            return True\n",
    "        if other.start <= self.start and other.finish > self.start:\n",
    "            return True\n",
    "\n",
    "        return False"
   ]
  },
  {
   "cell_type": "code",
   "execution_count": null,
   "id": "RGSE",
   "metadata": {},
   "outputs": [],
   "source": [
    "class Worker(pydantic.BaseModel):\n",
    "    model_config = pydantic.ConfigDict(frozen=True)\n",
    "\n",
    "    cost: int\n",
    "    jobs: list[int]"
   ]
  },
  {
   "cell_type": "code",
   "execution_count": null,
   "id": "Kclp",
   "metadata": {},
   "outputs": [],
   "source": [
    "class Condition(pydantic.BaseModel):\n",
    "    model_config = pydantic.ConfigDict(frozen=True)\n",
    "\n",
    "    jobs: list[Job]\n",
    "    workers: list[Worker]\n",
    "\n",
    "    @staticmethod\n",
    "    def from_file(path: str | os.PathLike) -> Self:\n",
    "        jobs = []\n",
    "        workers = []\n",
    "\n",
    "        with open(path) as f:\n",
    "            lines = f.readlines()\n",
    "        idx = 0\n",
    "        num_jobs = None\n",
    "        while idx < len(lines):\n",
    "            line = lines[idx]\n",
    "            if line.startswith(\"Jobs = \"):\n",
    "                num_jobs: int = int(line.split()[2])\n",
    "                print(f\"{num_jobs=}\")\n",
    "                for _ in range(num_jobs):\n",
    "                    idx += 1\n",
    "                    line = lines[idx]\n",
    "                    start, finish = line.strip().split()\n",
    "                    jobs.append(Job(start=start, finish=finish))\n",
    "            if line.startswith(\"Qualifications = \"):\n",
    "                num_workers: int = int(line.split()[2])\n",
    "                print(f\"{num_workers=}\")\n",
    "                for _ in range(num_workers):\n",
    "                    idx += 1\n",
    "                    line = lines[idx]\n",
    "                    bw, jw = line.strip().split(\":\")\n",
    "                    workers.append(Worker(cost=bw, jobs=jw.strip().split()))\n",
    "\n",
    "            idx += 1\n",
    "\n",
    "        return Condition(jobs=jobs, workers=workers)"
   ]
  },
  {
   "cell_type": "code",
   "execution_count": null,
   "id": "emfo",
   "metadata": {},
   "outputs": [
    {
     "name": "stdout",
     "output_type": "stream",
     "text": [
      "num_jobs=111\n",
      "num_workers=51\n"
     ]
    }
   ],
   "source": [
    "cond1 = Condition.from_file(fname1)"
   ]
  },
  {
   "cell_type": "code",
   "execution_count": null,
   "id": "Hstk",
   "metadata": {},
   "outputs": [],
   "source": [
    "class Model:\n",
    "    def __init__(self, cond: Condition):\n",
    "        # グラフの定義\n",
    "        g = nx.Graph()\n",
    "        for id_job1, job1 in enumerate(cond.jobs):\n",
    "            for id_job2, job2 in enumerate(cond.jobs):\n",
    "                if id_job2 <= id_job1:\n",
    "                    continue\n",
    "                if job1.intersect_with(job2):\n",
    "                    g.add_edge(id_job1, id_job2)\n",
    "\n",
    "        # クリークの列挙\n",
    "        cliques = [set(c) for c in nx.find_cliques(g)]\n",
    "\n",
    "        model = cp_model.CpModel()\n",
    "\n",
    "        x = [[model.new_bool_var(\"\") for _ in cond.workers] for _ in cond.jobs]\n",
    "        y = [model.new_bool_var(\"\") for _ in cond.workers]\n",
    "\n",
    "        # x と y の関係\n",
    "        for idw, worker in enumerate(cond.workers):\n",
    "            model.add_max_equality(\n",
    "                y[idw],\n",
    "                [x[idj][idw] for idj, _ in enumerate(cond.jobs)],\n",
    "            )\n",
    "\n",
    "        # worker ごとに担当できる job はきまっている\n",
    "        for idj, job in enumerate(cond.jobs):\n",
    "            for idw, worker in enumerate(cond.workers):\n",
    "                if idj not in worker.jobs:\n",
    "                    model.add(x[idj][idw] == 0)\n",
    "\n",
    "        # 各 job は 1 人の worker によって処理される\n",
    "        for idj, _ in enumerate(cond.jobs):\n",
    "            model.add_exactly_one(\n",
    "                [x[idj][idw] for idw, _ in enumerate(cond.workers)]\n",
    "            )\n",
    "\n",
    "        # 同一クリークに属する job は同じ worker で処理できない\n",
    "        for clique in cliques:\n",
    "            for idw, worker in enumerate(cond.workers):\n",
    "                model.add_at_most_one([x[idj][idw] for idj in clique])\n",
    "\n",
    "        # model.minimize(\n",
    "        #     sum(\n",
    "        #         y[idw]\n",
    "        #         for idw, _ in enumerate(cond.workers)\n",
    "        #     )\n",
    "        # )\n",
    "\n",
    "        # 解説ページでは worker 数を最小化していたが,\n",
    "        # worker のコスト込で最小化するのが正しい.\n",
    "        model.minimize(\n",
    "            sum(\n",
    "                y[idw] * worker.cost for idw, worker in enumerate(cond.workers)\n",
    "            )\n",
    "        )\n",
    "\n",
    "        self.model = model\n",
    "        self.x = x\n",
    "        self.y = y\n",
    "        self.cliques = cliques\n",
    "\n",
    "    def solve(self, timeout: int = 10):\n",
    "        self.solver = cp_model.CpSolver()\n",
    "        self.solver.parameters.log_search_progress = True\n",
    "        self.solver.parameters.max_time_in_seconds = timeout\n",
    "        self.status = self.solver.solve(self.model)"
   ]
  },
  {
   "cell_type": "code",
   "execution_count": null,
   "id": "nWHF",
   "metadata": {},
   "outputs": [
    {
     "name": "stdout",
     "output_type": "stream",
     "text": [
      "\n",
      "Starting CP-SAT solver v9.13.4784\n",
      "Parameters: max_time_in_seconds: 10 log_search_progress: true\n",
      "Setting number of workers to 12\n",
      "\n",
      "Initial optimization model '': (model_fingerprint: 0xf10b473897d169be)\n",
      "#Variables: 5'712 (#bools: 51 in objective) (3'892 primary variables)\n",
      "  - 5'712 Booleans in [0,1]\n",
      "#kAtMostOne: 1'632 (#literals: 62'169)\n",
      "#kExactlyOne: 111 (#literals: 5'661)\n",
      "#kLinMax: 51 (#expressions: 5'661)\n",
      "#kLinear1: 1'769\n",
      "\n",
      "Starting presolve at 0.00s\n"
     ]
    },
    {
     "name": "stdout",
     "output_type": "stream",
     "text": [
      "  2.30e-03s  0.00e+00d  [DetectDominanceRelations] \n",
      "  1.58e-02s  0.00e+00d  [PresolveToFixPoint] #num_loops=2 #num_dual_strengthening=1 \n",
      "  8.69e-05s  0.00e+00d  [ExtractEncodingFromLinear] #potential_supersets=1'743 \n",
      "  1.60e-03s  0.00e+00d  [DetectDuplicateColumns] \n",
      "  1.89e-04s  0.00e+00d  [DetectDuplicateConstraints] #duplicates=47 \n",
      "[Symmetry] Graph for symmetry has 15'294 nodes and 61'059 arcs.\n",
      "[Symmetry] Symmetry computation done. time: 0.002689 dtime: 0.00593729\n",
      "[SAT presolve] num removable Booleans: 0 / 3943\n",
      "[SAT presolve] num trivial clauses: 0\n",
      "[SAT presolve] [0s] clauses:3892 literals:7784 vars:3943 one_side_vars:3943 simple_definition:0 singleton_clauses:0\n",
      "[SAT presolve] [0.000114948s] clauses:3892 literals:7784 vars:3943 one_side_vars:3943 simple_definition:0 singleton_clauses:0\n",
      "[SAT presolve] [0.000170423s] clauses:3892 literals:7784 vars:3943 one_side_vars:3943 simple_definition:0 singleton_clauses:0\n"
     ]
    },
    {
     "name": "stdout",
     "output_type": "stream",
     "text": [
      "  1.19e-04s  0.00e+00d  [DetectDuplicateConstraintsWithDifferentEnforcements] \n",
      "  1.59e-02s  4.04e-02d  [Probe] #probed=7'886 \n"
     ]
    },
    {
     "name": "stdout",
     "output_type": "stream",
     "text": [
      "  2.68e-02s  1.48e-01d  [MaxClique] Merged 5'477(49'281 literals) into 1'183(31'779 literals) at_most_ones. \n",
      "  1.61e-03s  0.00e+00d  [DetectDominanceRelations] \n",
      "  3.59e-03s  0.00e+00d  [PresolveToFixPoint] #num_loops=1 #num_dual_strengthening=1 \n",
      "  7.48e-04s  0.00e+00d  [ProcessAtMostOneAndLinear] \n",
      "  1.12e-04s  0.00e+00d  [DetectDuplicateConstraints] \n",
      "  7.83e-05s  0.00e+00d  [DetectDuplicateConstraintsWithDifferentEnforcements] \n",
      "  1.99e-05s  0.00e+00d  [DetectDominatedLinearConstraints] \n",
      "  1.98e-05s  0.00e+00d  [DetectDifferentVariables] \n",
      "  1.52e-03s  1.21e-04d  [ProcessSetPPC] #relevant_constraints=1'294 \n",
      "  3.14e-05s  0.00e+00d  [FindAlmostIdenticalLinearConstraints] \n",
      "  2.41e-03s  3.17e-03d  [FindBigAtMostOneAndLinearOverlap] \n",
      "  2.65e-04s  1.79e-04d  [FindBigVerticalLinearOverlap] \n",
      "  7.94e-05s  0.00e+00d  [FindBigHorizontalLinearOverlap] \n",
      "  6.66e-05s  0.00e+00d  [MergeClauses] \n"
     ]
    },
    {
     "name": "stdout",
     "output_type": "stream",
     "text": [
      "  1.63e-03s  0.00e+00d  [DetectDominanceRelations] \n",
      "  3.48e-03s  0.00e+00d  [PresolveToFixPoint] #num_loops=1 #num_dual_strengthening=1 \n",
      "  1.60e-03s  0.00e+00d  [DetectDominanceRelations] \n",
      "  3.42e-03s  0.00e+00d  [PresolveToFixPoint] #num_loops=1 #num_dual_strengthening=1 \n",
      "  9.09e-04s  0.00e+00d  [DetectDuplicateColumns] \n",
      "  9.16e-05s  0.00e+00d  [DetectDuplicateConstraints] \n",
      "[Symmetry] Graph for symmetry has 7'057 nodes and 35'722 arcs.\n",
      "[Symmetry] Symmetry computation done. time: 0.00119884 dtime: 0.0028611\n"
     ]
    },
    {
     "name": "stdout",
     "output_type": "stream",
     "text": [
      "  9.82e-05s  0.00e+00d  [DetectDuplicateConstraintsWithDifferentEnforcements] \n",
      "  1.41e-02s  3.78e-02d  [Probe] #probed=7'886 \n"
     ]
    },
    {
     "name": "stdout",
     "output_type": "stream",
     "text": [
      "  1.93e-02s  1.03e-01d  [MaxClique] \n",
      "  1.62e-03s  0.00e+00d  [DetectDominanceRelations] \n",
      "  3.59e-03s  0.00e+00d  [PresolveToFixPoint] #num_loops=1 #num_dual_strengthening=1 \n",
      "  7.51e-04s  0.00e+00d  [ProcessAtMostOneAndLinear] \n",
      "  1.08e-04s  0.00e+00d  [DetectDuplicateConstraints] \n",
      "  7.75e-05s  0.00e+00d  [DetectDuplicateConstraintsWithDifferentEnforcements] \n",
      "  2.22e-05s  0.00e+00d  [DetectDominatedLinearConstraints] \n",
      "  2.10e-05s  0.00e+00d  [DetectDifferentVariables] \n",
      "  1.49e-03s  1.21e-04d  [ProcessSetPPC] #relevant_constraints=1'294 \n",
      "  3.21e-05s  0.00e+00d  [FindAlmostIdenticalLinearConstraints] \n",
      "  2.41e-03s  3.19e-03d  [FindBigAtMostOneAndLinearOverlap] \n",
      "  2.70e-04s  1.79e-04d  [FindBigVerticalLinearOverlap] \n",
      "  8.15e-05s  0.00e+00d  [FindBigHorizontalLinearOverlap] \n",
      "  6.98e-05s  0.00e+00d  [MergeClauses] \n"
     ]
    },
    {
     "name": "stdout",
     "output_type": "stream",
     "text": [
      "  1.61e-03s  0.00e+00d  [DetectDominanceRelations] \n",
      "  3.48e-03s  0.00e+00d  [PresolveToFixPoint] #num_loops=1 #num_dual_strengthening=1 \n",
      "  1.15e-03s  0.00e+00d  [ExpandObjective] #entries=133'826 #tight_variables=3'892 #tight_constraints=111 \n",
      "\n",
      "Presolve summary:\n",
      "  - 0 affine relations were detected.\n",
      "  - rule 'TODO dual: only one blocking constraint?' was applied 23'352 times.\n",
      "  - rule 'TODO dual: only one unspecified blocking constraint?' was applied 306 times.\n",
      "  - rule 'TODO linear2: contains a Boolean.' was applied 7'784 times.\n",
      "  - rule 'at_most_one: transformed into max clique.' was applied 1 time.\n",
      "  - rule 'bool_or: implications' was applied 3'892 times.\n",
      "  - rule 'duplicate: removed constraint' was applied 47 times.\n",
      "  - rule 'lin_max: removed exprs' was applied 51 times.\n",
      "  - rule 'lin_max: rewrite with precedences' was applied 51 times.\n",
      "  - rule 'linear1: x in domain' was applied 1'769 times.\n",
      "  - rule 'linear: fixed or dup variables' was applied 1'769 times.\n",
      "  - rule 'linear: negative clause' was applied 3'892 times.\n",
      "  - rule 'presolve: 1769 unused variables removed.' was applied 1 time.\n",
      "  - rule 'presolve: iteration' was applied 2 times.\n",
      "\n",
      "Presolved optimization model '': (model_fingerprint: 0x2c43a086132e9227)\n",
      "#Variables: 3'943 (#bools: 51 in objective) (3'832 primary variables)\n",
      "  - 3'943 Booleans in [0,1]\n",
      "#kAtMostOne: 1'183 (#literals: 31'779)\n",
      "#kExactlyOne: 111 (#literals: 3'892)\n",
      "[Symmetry] Graph for symmetry has 5'288 nodes and 35'722 arcs.\n",
      "[Symmetry] Symmetry computation done. time: 0.00110702 dtime: 0.00275496\n",
      "\n",
      "Preloading model.\n",
      "#Bound   0.15s best:inf   next:[0,3892]   initial_domain\n",
      "#Model   0.15s var:3943/3943 constraints:1294/1294\n",
      "\n",
      "Starting search at 0.15s with 12 workers.\n",
      "8 full problem subsolvers: [core, default_lp, max_lp, no_lp, pseudo_costs, quick_restart, quick_restart_no_lp, reduced_costs]\n",
      "4 first solution subsolvers: [fj(2), fs_random, fs_random_no_lp]\n",
      "10 interleaved subsolvers: [feasibility_pump, graph_arc_lns, graph_cst_lns, graph_dec_lns, graph_var_lns, ls, ls_lin, rins/rens, rnd_cst_lns, rnd_var_lns]\n",
      "3 helper subsolvers: [neighborhood_helper, synchronization_agent, update_gap_integral]\n",
      "\n"
     ]
    },
    {
     "name": "stdout",
     "output_type": "stream",
     "text": [
      "#1       0.16s best:3666  next:[0,3665]   fj_restart(batch:1 lin{mvs:205 evals:3'940} #w_updates:9 #perturb:0)\n"
     ]
    },
    {
     "name": "stdout",
     "output_type": "stream",
     "text": [
      "#2       0.18s best:3637  next:[0,3636]   core\n",
      "#3       0.19s best:3588  next:[0,3587]   no_lp\n",
      "#4       0.19s best:3515  next:[0,3514]   no_lp\n",
      "#5       0.19s best:3512  next:[0,3511]   no_lp\n"
     ]
    },
    {
     "name": "stdout",
     "output_type": "stream",
     "text": [
      "#6       0.19s best:3446  next:[0,3445]   no_lp\n",
      "#7       0.20s best:3437  next:[0,3436]   no_lp\n",
      "#8       0.20s best:3371  next:[0,3370]   no_lp\n",
      "#9       0.20s best:3361  next:[0,3360]   no_lp\n",
      "#10      0.20s best:3295  next:[0,3294]   no_lp\n",
      "#11      0.20s best:3284  next:[0,3283]   no_lp\n"
     ]
    },
    {
     "name": "stdout",
     "output_type": "stream",
     "text": [
      "#12      0.22s best:3276  next:[0,3275]   no_lp\n",
      "#13      0.22s best:3209  next:[0,3208]   no_lp\n",
      "#14      0.22s best:3195  next:[0,3194]   no_lp\n",
      "#15      0.23s best:3193  next:[0,3192]   no_lp\n",
      "#16      0.23s best:3187  next:[0,3186]   no_lp\n"
     ]
    },
    {
     "name": "stdout",
     "output_type": "stream",
     "text": [
      "#17      0.24s best:3181  next:[0,3180]   no_lp\n",
      "#18      0.24s best:3106  next:[0,3105]   no_lp\n"
     ]
    },
    {
     "name": "stdout",
     "output_type": "stream",
     "text": [
      "#19      0.25s best:3102  next:[0,3101]   no_lp\n",
      "#20      0.25s best:3101  next:[0,3100]   no_lp\n",
      "#21      0.25s best:3099  next:[0,3098]   no_lp\n",
      "#22      0.26s best:3098  next:[0,3097]   no_lp\n"
     ]
    },
    {
     "name": "stdout",
     "output_type": "stream",
     "text": [
      "#23      0.26s best:3090  next:[0,3089]   no_lp\n",
      "#24      0.27s best:3089  next:[0,3088]   ls_lin_restart_perturb(batch:1 lin{mvs:24 evals:526} #w_updates:16 #perturb:0)\n",
      "#25      0.27s best:3087  next:[0,3086]   no_lp\n",
      "#26      0.27s best:3083  next:[0,3082]   no_lp\n"
     ]
    },
    {
     "name": "stdout",
     "output_type": "stream",
     "text": [
      "#27      0.28s best:3081  next:[0,3080]   no_lp\n",
      "#28      0.28s best:3080  next:[0,3079]   no_lp\n"
     ]
    },
    {
     "name": "stdout",
     "output_type": "stream",
     "text": [
      "#29      0.31s best:3074  next:[0,3073]   ls_restart_compound_perturb(batch:1 lin{mvs:0 evals:38'049} gen{mvs:1'808 evals:0} comp{mvs:8 btracks:900} #w_updates:1 #perturb:0)\n"
     ]
    },
    {
     "name": "stdout",
     "output_type": "stream",
     "text": [
      "#Bound   0.33s best:3074  next:[617,3073] pseudo_costs\n"
     ]
    },
    {
     "name": "stdout",
     "output_type": "stream",
     "text": [
      "#Bound   0.36s best:3074  next:[656,3073] reduced_costs\n"
     ]
    },
    {
     "name": "stdout",
     "output_type": "stream",
     "text": [
      "#30      0.39s best:3068  next:[656,3067] core\n"
     ]
    },
    {
     "name": "stdout",
     "output_type": "stream",
     "text": [
      "#Bound   0.48s best:3068  next:[2752,3067] max_lp\n"
     ]
    },
    {
     "name": "stdout",
     "output_type": "stream",
     "text": [
      "#Bound   0.83s best:3068  next:[2989,3067] max_lp\n"
     ]
    },
    {
     "name": "stdout",
     "output_type": "stream",
     "text": [
      "#31      1.59s best:2998  next:[2989,2997] ls_lin_restart(batch:1 lin{mvs:2'037 evals:3'943} #w_updates:941 #perturb:0)\n"
     ]
    },
    {
     "name": "stdout",
     "output_type": "stream",
     "text": [
      "#32      1.67s best:2991  next:[2989,2990] rnd_cst_lns (d=5.65e-01 s=112 t=0.10 p=0.55 stall=10 h=base)\n"
     ]
    },
    {
     "name": "stdout",
     "output_type": "stream",
     "text": [
      "#33      2.10s best:2990  next:[2989,2989] rnd_cst_lns (d=4.41e-01 s=138 t=0.10 p=0.50 stall=2 h=base)\n"
     ]
    },
    {
     "name": "stdout",
     "output_type": "stream",
     "text": [
      "#Model   2.58s var:3069/3943 constraints:1039/1294\n"
     ]
    },
    {
     "name": "stdout",
     "output_type": "stream",
     "text": [
      "#34      2.63s best:2989  next:[]         graph_var_lns (d=4.32e-01 s=165 t=0.10 p=0.47 stall=5 h=base)\n"
     ]
    },
    {
     "name": "stdout",
     "output_type": "stream",
     "text": [
      "\n",
      "Task timing                      n [     min,      max]      avg      dev     time         n [     min,      max]      avg      dev    dtime\n",
      "                 'core':         1 [   2.48s,    2.48s]    2.48s   0.00ns    2.48s         1 [   6.70s,    6.70s]    6.70s   0.00ns    6.70s\n",
      "           'default_lp':         1 [   2.48s,    2.48s]    2.48s   0.00ns    2.48s         1 [   5.12s,    5.12s]    5.12s   0.00ns    5.12s\n",
      "     'feasibility_pump':         1 [ 34.35ms,  34.35ms]  34.35ms   0.00ns  34.35ms         0 [  0.00ns,   0.00ns]   0.00ns   0.00ns   0.00ns\n",
      "                   'fj':         0 [  0.00ns,   0.00ns]   0.00ns   0.00ns   0.00ns         0 [  0.00ns,   0.00ns]   0.00ns   0.00ns   0.00ns\n",
      "                   'fj':         1 [  6.72ms,   6.72ms]   6.72ms   0.00ns   6.72ms         1 [  1.68ms,   1.68ms]   1.68ms   0.00ns   1.68ms\n",
      "            'fs_random':         1 [  9.88ms,   9.88ms]   9.88ms   0.00ns   9.88ms         0 [  0.00ns,   0.00ns]   0.00ns   0.00ns   0.00ns\n",
      "      'fs_random_no_lp':         1 [  7.06ms,   7.06ms]   7.06ms   0.00ns   7.06ms         0 [  0.00ns,   0.00ns]   0.00ns   0.00ns   0.00ns\n",
      "        'graph_arc_lns':        17 [  8.97ms,  87.02ms]  44.02ms  30.30ms 748.41ms        17 [ 57.51us, 100.14ms]  53.26ms  49.62ms 905.44ms\n",
      "        'graph_cst_lns':        17 [  9.48ms, 144.34ms]  56.02ms  36.66ms 952.26ms        17 [ 17.85us, 100.30ms]  63.84ms  44.53ms    1.09s\n",
      "        'graph_dec_lns':        17 [ 12.80ms, 110.13ms]  54.75ms  32.59ms 930.79ms        17 [258.00ns, 100.38ms]  55.47ms  45.95ms 942.95ms\n",
      "        'graph_var_lns':        18 [ 10.67ms, 100.47ms]  47.93ms  28.81ms 862.74ms        18 [ 24.07us, 100.55ms]  51.58ms  48.64ms 928.41ms\n",
      "                   'ls':        15 [  2.76ms, 217.74ms] 116.00ms  62.45ms    1.74s        14 [ 19.04ms, 100.02ms]  94.22ms  20.85ms    1.32s\n",
      "               'ls_lin':        16 [  3.50ms, 196.05ms] 107.57ms  59.61ms    1.72s        16 [215.15us, 100.02ms]  84.10ms  33.64ms    1.35s\n",
      "               'max_lp':         1 [   2.48s,    2.48s]    2.48s   0.00ns    2.48s         1 [496.18ms, 496.18ms] 496.18ms   0.00ns 496.18ms\n",
      "                'no_lp':         1 [   2.48s,    2.48s]    2.48s   0.00ns    2.48s         1 [   6.41s,    6.41s]    6.41s   0.00ns    6.41s\n",
      "         'pseudo_costs':         1 [   2.49s,    2.49s]    2.49s   0.00ns    2.49s         1 [   1.96s,    1.96s]    1.96s   0.00ns    1.96s\n",
      "        'quick_restart':         1 [   2.48s,    2.48s]    2.48s   0.00ns    2.48s         1 [   3.20s,    3.20s]    3.20s   0.00ns    3.20s\n",
      "  'quick_restart_no_lp':         1 [   2.48s,    2.48s]    2.48s   0.00ns    2.48s         1 [   3.25s,    3.25s]    3.25s   0.00ns    3.25s\n",
      "        'reduced_costs':         1 [   2.49s,    2.49s]    2.49s   0.00ns    2.49s         1 [   1.98s,    1.98s]    1.98s   0.00ns    1.98s\n",
      "            'rins/rens':        18 [986.48us, 136.44ms]  51.69ms  39.27ms 930.34ms        16 [ 10.00ns, 100.20ms]  66.97ms  43.61ms    1.07s\n",
      "          'rnd_cst_lns':        18 [  1.24ms, 116.57ms]  46.00ms  35.60ms 828.02ms        17 [  2.74us, 100.25ms]  53.91ms  48.99ms 916.40ms\n",
      "          'rnd_var_lns':        18 [  9.66ms, 153.35ms]  54.97ms  41.51ms 989.47ms        18 [  1.01us, 100.39ms]  55.23ms  44.65ms 994.18ms\n",
      "\n",
      "Search stats              Bools  Conflicts  Branches  Restarts  BoolPropag  IntegerPropag\n",
      "                 'core':  3'943     29'026    96'378    24'113   4'030'028         30'902\n",
      "           'default_lp':  3'943     25'715   124'628    24'228   5'955'045         60'375\n",
      "            'fs_random':  3'943          0     1'120     1'120      42'701            560\n",
      "      'fs_random_no_lp':  3'943          0     1'168     1'168      44'690            584\n",
      "               'max_lp':  3'943          0     7'929     7'886     303'357        311'341\n",
      "                'no_lp':  3'943     18'128    80'212    16'036   3'354'067         29'648\n",
      "         'pseudo_costs':  3'943         35     8'524     7'886     310'027        318'633\n",
      "        'quick_restart':  3'943     10'560   518'478    41'284   5'955'666        122'256\n",
      "  'quick_restart_no_lp':  3'943     10'512   495'804    41'287   6'071'662        133'027\n",
      "        'reduced_costs':  3'943        113    41'689    24'105     948'105        983'259\n",
      "\n",
      "SAT stats                 ClassicMinim  LitRemoved  LitLearned  LitForgotten  Subsumed  MClauses  MDecisions  MLitTrue  MSubsumed  MLitRemoved  MReused\n",
      "                 'core':        24'996     602'668   9'726'017     3'585'809       203       444      15'124         0          0            0        0\n",
      "           'default_lp':        16'244     195'042   9'739'473     4'510'522       433       444      15'124         0          0            0        0\n",
      "            'fs_random':             0           0           0             0         0         0           0         0          0            0        0\n",
      "      'fs_random_no_lp':             0           0           0             0         0         0           0         0          0            0        0\n",
      "               'max_lp':             0           0           0             0         0         0           0         0          0            0        0\n",
      "                'no_lp':         7'852      61'711  10'324'965     1'757'977     1'312       222       7'562         0          0            0        0\n",
      "         'pseudo_costs':            35       4'022       4'556             0         0         0           0         0          0            0        0\n",
      "        'quick_restart':         2'892      14'624   2'385'435     1'078'898       125       888      30'248         0          0            0        0\n",
      "  'quick_restart_no_lp':         2'867      11'826   2'279'604     1'110'671        93       888      30'248         0          0            0        0\n",
      "        'reduced_costs':            54       5'780      27'047             0        11       444      15'124         0          0            0        0\n",
      "\n",
      "Lp stats            Component  Iterations  AddedCuts  OPTIMAL  DUAL_F.  DUAL_U.\n",
      "         'max_lp':          1       4'148         40       14        1        0\n",
      "   'pseudo_costs':          1      16'050          0      111       87       35\n",
      "  'reduced_costs':          1      19'450         46       64      187       51\n",
      "\n",
      "Lp dimension            Final dimension of first component\n",
      "         'max_lp':  1065 rows, 3943 columns, 40993 entries\n",
      "   'pseudo_costs':   982 rows, 3943 columns, 27697 entries\n",
      "  'reduced_costs':   960 rows, 3943 columns, 28703 entries\n",
      "\n",
      "Lp debug            CutPropag  CutEqPropag  Adjust  Overflow     Bad  BadScaling\n",
      "         'max_lp':          0            0      15         0  20'205           0\n",
      "   'pseudo_costs':          0            0     195         0       0           0\n",
      "  'reduced_costs':          0            0     206         0   2'130           0\n",
      "\n",
      "Lp pool             Constraints  Updates  Simplif  Merged  Shortened  Split  Strenghtened  Cuts/Call\n",
      "         'max_lp':        1'334       65    1'239       0      1'239      0             0      40/51\n",
      "   'pseudo_costs':        1'294        0        0       0          0      0             0        0/0\n",
      "  'reduced_costs':        1'340        0        0       0          0      0             0      46/75\n",
      "\n",
      "Lp Cut           max_lp  reduced_costs\n",
      "  ZERO_HALF_FF:       7             23\n",
      "   ZERO_HALF_R:      33             23\n",
      "\n",
      "LNS stats           Improv/Calls  Closed  Difficulty  TimeLimit\n",
      "  'graph_arc_lns':          1/17     47%    3.42e-01       0.10\n",
      "  'graph_cst_lns':          1/17     47%    3.42e-01       0.10\n",
      "  'graph_dec_lns':          0/17     53%    6.01e-01       0.10\n",
      "  'graph_var_lns':          2/18     50%    5.31e-01       0.10\n",
      "      'rins/rens':          0/16     38%    9.89e-02       0.10\n",
      "    'rnd_cst_lns':          3/17     47%    3.55e-01       0.10\n",
      "    'rnd_var_lns':          2/18     50%    4.75e-01       0.10\n",
      "\n",
      "LS stats                                    Batches  Restarts/Perturbs  LinMoves  GenMoves  CompoundMoves  Bactracks  WeightUpdates  ScoreComputed\n",
      "                             'fj_restart':        1                  1       205         0              0          0              9          3'940\n",
      "                         'ls_lin_restart':        1                  1     2'037         0              0          0            941          3'943\n",
      "                'ls_lin_restart_compound':        2                  2         0     9'097             69      4'509        188'681        232'618\n",
      "        'ls_lin_restart_compound_perturb':        1                  1         0     9'289            100      4'593             13        233'116\n",
      "                   'ls_lin_restart_decay':        3                  3         0         0              0          0        430'405         38'460\n",
      "          'ls_lin_restart_decay_compound':        3                  3         0    28'595            600     13'992             28        690'654\n",
      "  'ls_lin_restart_decay_compound_perturb':        3                  3         0    19'253            439      9'403        184'502        472'559\n",
      "           'ls_lin_restart_decay_perturb':        1                  1    16'823         0              0          0            908         11'766\n",
      "                 'ls_lin_restart_perturb':        2                  2    17'531         0              0          0         16'143          4'469\n",
      "                             'ls_restart':        1                  1         0         0              0          0        188'669             40\n",
      "                    'ls_restart_compound':        3                  3         0     8'715             32      4'341        377'351        220'989\n",
      "            'ls_restart_compound_perturb':        6                  6         0    46'419            337     23'033             63      1'193'002\n",
      "                       'ls_restart_decay':        1                  1         0         0              0          0              0              0\n",
      "      'ls_restart_decay_compound_perturb':        1                  1         0     9'530            202      4'662             10        231'288\n",
      "               'ls_restart_decay_perturb':        3                  3    33'639         0              0          0        186'324         40'114\n",
      "\n",
      "Solutions (34)                    Num     Rank\n",
      "                         'core':    2   [2,30]\n",
      "                   'fj_restart':    1    [1,1]\n",
      "                'graph_var_lns':    1  [34,34]\n",
      "               'ls_lin_restart':    1  [31,31]\n",
      "       'ls_lin_restart_perturb':    1  [24,24]\n",
      "  'ls_restart_compound_perturb':    1  [29,29]\n",
      "                        'no_lp':   25   [3,28]\n",
      "                  'rnd_cst_lns':    2  [32,33]\n",
      "\n",
      "Objective bounds     Num\n",
      "  'initial_domain':    1\n",
      "          'max_lp':    2\n",
      "    'pseudo_costs':    1\n",
      "   'reduced_costs':    1\n",
      "\n",
      "Solution repositories    Added  Queried  Synchro\n",
      "  'feasible solutions':    117      290       86\n",
      "   'fj solution hints':      0        0        0\n",
      "        'lp solutions':     35       18       17\n",
      "                'pump':      0        0\n",
      "\n",
      "Improving bounds shared    Num  Sym\n",
      "                'max_lp':  874    0\n",
      "\n",
      "CpSolverResponse summary:\n",
      "status: OPTIMAL\n",
      "objective: 2989\n",
      "best_bound: 2989\n",
      "integers: 52\n",
      "booleans: 3943\n",
      "conflicts: 0\n",
      "branches: 1168\n",
      "propagations: 44690\n",
      "integer_propagations: 584\n",
      "restarts: 1168\n",
      "lp_iterations: 0\n",
      "walltime: 2.64715\n",
      "usertime: 2.64715\n",
      "deterministic_time: 38.9502\n",
      "gap_integral: 33.2195\n",
      "solution_fingerprint: 0x6c6f7fb31116ecee\n",
      "\n"
     ]
    }
   ],
   "source": [
    "model1 = Model(cond1)\n",
    "model1.solve()\n",
    "\n",
    "mo.md(f\"Optimal Value = {model1.solver.objective_value}\")"
   ]
  },
  {
   "cell_type": "code",
   "execution_count": null,
   "id": "iLit",
   "metadata": {},
   "outputs": [
    {
     "name": "stdout",
     "output_type": "stream",
     "text": [
      "num_jobs=360\n",
      "num_workers=138\n"
     ]
    }
   ],
   "source": [
    "fname2 = data_dir / \"data_40_138_360_33.dat\"\n",
    "cond2 = Condition.from_file(fname2)"
   ]
  },
  {
   "cell_type": "code",
   "execution_count": null,
   "id": "ZHCJ",
   "metadata": {},
   "outputs": [
    {
     "name": "stdout",
     "output_type": "stream",
     "text": [
      "\n",
      "Starting CP-SAT solver v9.13.4784\n",
      "Parameters: max_time_in_seconds: 60 log_search_progress: true\n",
      "Setting number of workers to 12\n"
     ]
    },
    {
     "name": "stdout",
     "output_type": "stream",
     "text": [
      "\n"
     ]
    },
    {
     "name": "stdout",
     "output_type": "stream",
     "text": [
      "Initial optimization model '': (model_fingerprint: 0x3a865ba7c720b275)\n",
      "#Variables: 49'818 (#bools: 138 in objective) (16'804 primary variables)\n",
      "  - 49'818 Booleans in [0,1]\n",
      "#kAtMostOne: 13'386 (#literals: 1'201'014)\n",
      "#kExactlyOne: 360 (#literals: 49'680)\n",
      "#kLinMax: 138 (#expressions: 49'680)\n",
      "#kLinear1: 32'876\n",
      "\n",
      "Starting presolve at 0.05s\n",
      "Large number of fixed variables 32'876 / 49'818, doing a first remapping phase to go down to 16'942 variables.\n",
      "TODO: 32876 fixed variables still required in the model!\n"
     ]
    },
    {
     "name": "stdout",
     "output_type": "stream",
     "text": [
      "  1.92e-02s  0.00e+00d  [DetectDominanceRelations] \n",
      "  1.01e-01s  0.00e+00d  [PresolveToFixPoint] #num_loops=2 #num_dual_strengthening=1 \n",
      "  8.06e-04s  0.00e+00d  [ExtractEncodingFromLinear] #potential_supersets=13'746 \n"
     ]
    },
    {
     "name": "stdout",
     "output_type": "stream",
     "text": [
      "  1.49e-02s  0.00e+00d  [DetectDuplicateColumns] \n",
      "  4.25e-03s  0.00e+00d  [DetectDuplicateConstraints] #duplicates=2'604 \n",
      "[Symmetry] Graph for symmetry has 94'844 nodes and 415'651 arcs.\n"
     ]
    },
    {
     "name": "stdout",
     "output_type": "stream",
     "text": [
      "[Symmetry] Symmetry computation done. time: 0.0207552 dtime: 0.0356038\n",
      "[SAT presolve] num removable Booleans: 0 / 16942\n",
      "[SAT presolve] num trivial clauses: 0\n",
      "[SAT presolve] [0s] clauses:16804 literals:33608 vars:16942 one_side_vars:16942 simple_definition:0 singleton_clauses:0\n",
      "[SAT presolve] [0.000507633s] clauses:16804 literals:33608 vars:16942 one_side_vars:16942 simple_definition:0 singleton_clauses:0\n",
      "[SAT presolve] [0.000720006s] clauses:16804 literals:33608 vars:16942 one_side_vars:16942 simple_definition:0 singleton_clauses:0\n"
     ]
    },
    {
     "name": "stdout",
     "output_type": "stream",
     "text": [
      "  7.78e-04s  0.00e+00d  [DetectDuplicateConstraintsWithDifferentEnforcements] \n",
      "  1.12e-01s  2.68e-01d  [Probe] #probed=33'884 \n"
     ]
    },
    {
     "name": "stdout",
     "output_type": "stream",
     "text": [
      "  1.66e-01s  1.00e+00d *[MaxClique] Merged 27'586(364'963 literals) into 6'919(202'306 literals) at_most_ones. \n"
     ]
    },
    {
     "name": "stdout",
     "output_type": "stream",
     "text": [
      "  1.18e-02s  0.00e+00d  [DetectDominanceRelations] \n",
      "  2.51e-02s  0.00e+00d  [PresolveToFixPoint] #num_loops=1 #num_dual_strengthening=1 \n",
      "  5.07e-03s  0.00e+00d  [ProcessAtMostOneAndLinear] \n",
      "  6.00e-04s  0.00e+00d  [DetectDuplicateConstraints] \n",
      "  4.31e-04s  0.00e+00d  [DetectDuplicateConstraintsWithDifferentEnforcements] \n",
      "  1.19e-04s  0.00e+00d  [DetectDominatedLinearConstraints] \n",
      "  1.01e-04s  0.00e+00d  [DetectDifferentVariables] \n"
     ]
    },
    {
     "name": "stdout",
     "output_type": "stream",
     "text": [
      "  1.21e-02s  1.12e-03d  [ProcessSetPPC] #relevant_constraints=7'279 #num_inclusions=2'021 \n",
      "  5.12e-04s  0.00e+00d  [FindAlmostIdenticalLinearConstraints] \n"
     ]
    },
    {
     "name": "stdout",
     "output_type": "stream",
     "text": [
      "  1.40e-02s  1.71e-02d  [FindBigAtMostOneAndLinearOverlap] \n",
      "  1.51e-03s  8.52e-04d  [FindBigVerticalLinearOverlap] \n",
      "  4.08e-04s  0.00e+00d  [FindBigHorizontalLinearOverlap] \n",
      "  5.71e-04s  0.00e+00d  [MergeClauses] \n"
     ]
    },
    {
     "name": "stdout",
     "output_type": "stream",
     "text": [
      "  1.04e-02s  0.00e+00d  [DetectDominanceRelations] \n",
      "  2.07e-02s  0.00e+00d  [PresolveToFixPoint] #num_loops=1 #num_dual_strengthening=1 \n"
     ]
    },
    {
     "name": "stdout",
     "output_type": "stream",
     "text": [
      "  1.01e-02s  0.00e+00d  [DetectDominanceRelations] \n",
      "  2.05e-02s  0.00e+00d  [PresolveToFixPoint] #num_loops=1 #num_dual_strengthening=1 \n",
      "  3.79e-03s  0.00e+00d  [DetectDuplicateColumns] \n",
      "  6.84e-04s  0.00e+00d  [DetectDuplicateConstraints] \n"
     ]
    },
    {
     "name": "stdout",
     "output_type": "stream",
     "text": [
      "[Symmetry] Graph for symmetry has 55'311 nodes and 170'649 arcs.\n",
      "[Symmetry] Symmetry computation done. time: 0.00664239 dtime: 0.0148827\n",
      "[SAT presolve] num removable Booleans: 0 / 16942\n",
      "[SAT presolve] num trivial clauses: 0\n",
      "[SAT presolve] [0s] clauses:93 literals:186 vars:97 one_side_vars:97 simple_definition:0 singleton_clauses:0\n",
      "[SAT presolve] [3.213e-05s] clauses:93 literals:186 vars:97 one_side_vars:97 simple_definition:0 singleton_clauses:0\n",
      "[SAT presolve] [0.00019009s] clauses:93 literals:186 vars:97 one_side_vars:97 simple_definition:0 singleton_clauses:0\n"
     ]
    },
    {
     "name": "stdout",
     "output_type": "stream",
     "text": [
      "  6.74e-04s  0.00e+00d  [DetectDuplicateConstraintsWithDifferentEnforcements] \n",
      "  8.21e-02s  2.11e-01d  [Probe] #probed=33'884 \n"
     ]
    },
    {
     "name": "stdout",
     "output_type": "stream",
     "text": [
      "  1.39e-01s  7.76e-01d  [MaxClique] Merged 4'898(153'517 literals) into 4'805(153'339 literals) at_most_ones. \n"
     ]
    },
    {
     "name": "stdout",
     "output_type": "stream",
     "text": [
      "  1.05e-02s  0.00e+00d  [DetectDominanceRelations] \n",
      "  2.20e-02s  0.00e+00d  [PresolveToFixPoint] #num_loops=1 #num_dual_strengthening=1 \n",
      "  4.56e-03s  0.00e+00d  [ProcessAtMostOneAndLinear] \n",
      "  5.80e-04s  0.00e+00d  [DetectDuplicateConstraints] \n",
      "  3.98e-04s  0.00e+00d  [DetectDuplicateConstraintsWithDifferentEnforcements] \n",
      "  1.36e-04s  0.00e+00d  [DetectDominatedLinearConstraints] \n",
      "  1.10e-04s  0.00e+00d  [DetectDifferentVariables] \n"
     ]
    },
    {
     "name": "stdout",
     "output_type": "stream",
     "text": [
      "  7.66e-03s  7.92e-04d  [ProcessSetPPC] #relevant_constraints=5'165 \n",
      "  3.48e-04s  0.00e+00d  [FindAlmostIdenticalLinearConstraints] \n",
      "  1.58e-02s  1.71e-02d  [FindBigAtMostOneAndLinearOverlap] \n",
      "  1.48e-03s  8.51e-04d  [FindBigVerticalLinearOverlap] \n"
     ]
    },
    {
     "name": "stdout",
     "output_type": "stream",
     "text": [
      "  4.88e-04s  0.00e+00d  [FindBigHorizontalLinearOverlap] \n"
     ]
    },
    {
     "name": "stdout",
     "output_type": "stream",
     "text": [
      "  6.71e-04s  0.00e+00d  [MergeClauses] \n",
      "  1.04e-02s  0.00e+00d  [DetectDominanceRelations] \n",
      "  2.09e-02s  0.00e+00d  [PresolveToFixPoint] #num_loops=1 #num_dual_strengthening=1 \n"
     ]
    },
    {
     "name": "stdout",
     "output_type": "stream",
     "text": [
      "  1.05e-02s  0.00e+00d  [DetectDominanceRelations] \n",
      "  2.11e-02s  0.00e+00d  [PresolveToFixPoint] #num_loops=1 #num_dual_strengthening=1 \n",
      "  3.09e-03s  0.00e+00d  [DetectDuplicateColumns] \n",
      "  6.24e-04s  0.00e+00d  [DetectDuplicateConstraints] \n"
     ]
    },
    {
     "name": "stdout",
     "output_type": "stream",
     "text": [
      "[Symmetry] Graph for symmetry has 55'121 nodes and 170'281 arcs.\n",
      "[Symmetry] Symmetry computation done. time: 0.0066073 dtime: 0.0148317\n"
     ]
    },
    {
     "name": "stdout",
     "output_type": "stream",
     "text": [
      "  6.38e-04s  0.00e+00d  [DetectDuplicateConstraintsWithDifferentEnforcements] \n",
      "  8.22e-02s  2.11e-01d  [Probe] #probed=33'884 \n"
     ]
    },
    {
     "name": "stdout",
     "output_type": "stream",
     "text": [
      "  1.38e-01s  7.75e-01d  [MaxClique] \n"
     ]
    },
    {
     "name": "stdout",
     "output_type": "stream",
     "text": [
      "  1.05e-02s  0.00e+00d  [DetectDominanceRelations] \n",
      "  2.21e-02s  0.00e+00d  [PresolveToFixPoint] #num_loops=1 #num_dual_strengthening=1 \n",
      "  4.74e-03s  0.00e+00d  [ProcessAtMostOneAndLinear] \n",
      "  5.83e-04s  0.00e+00d  [DetectDuplicateConstraints] \n",
      "  4.08e-04s  0.00e+00d  [DetectDuplicateConstraintsWithDifferentEnforcements] \n",
      "  1.41e-04s  0.00e+00d  [DetectDominatedLinearConstraints] \n",
      "  1.23e-04s  0.00e+00d  [DetectDifferentVariables] \n",
      "  7.77e-03s  7.92e-04d  [ProcessSetPPC] #relevant_constraints=5'165 \n",
      "  4.66e-04s  0.00e+00d  [FindAlmostIdenticalLinearConstraints] \n"
     ]
    },
    {
     "name": "stdout",
     "output_type": "stream",
     "text": [
      "  1.42e-02s  1.71e-02d  [FindBigAtMostOneAndLinearOverlap] \n",
      "  1.56e-03s  8.51e-04d  [FindBigVerticalLinearOverlap] \n",
      "  5.15e-04s  0.00e+00d  [FindBigHorizontalLinearOverlap] \n",
      "  6.28e-04s  0.00e+00d  [MergeClauses] \n"
     ]
    },
    {
     "name": "stdout",
     "output_type": "stream",
     "text": [
      "  1.03e-02s  0.00e+00d  [DetectDominanceRelations] \n",
      "  2.07e-02s  0.00e+00d  [PresolveToFixPoint] #num_loops=1 #num_dual_strengthening=1 \n",
      "  6.95e-03s  0.00e+00d  [ExpandObjective] #entries=777'366 #tight_variables=16'804 #tight_constraints=360 \n",
      "\n",
      "Presolve summary:\n",
      "  - 0 affine relations were detected.\n",
      "  - rule 'TODO dual: only one blocking constraint?' was applied 151'236 times.\n",
      "  - rule 'TODO dual: only one unspecified blocking constraint?' was applied 1'242 times.\n",
      "  - rule 'TODO linear2: contains a Boolean.' was applied 33'608 times.\n",
      "  - rule 'at_most_one: transformed into max clique.' was applied 2 times.\n",
      "  - rule 'bool_or: implications' was applied 16'804 times.\n",
      "  - rule 'duplicate: removed constraint' was applied 2'604 times.\n",
      "  - rule 'lin_max: removed exprs' was applied 138 times.\n",
      "  - rule 'lin_max: rewrite with precedences' was applied 138 times.\n",
      "  - rule 'linear1: x in domain' was applied 32'876 times.\n",
      "  - rule 'linear: fixed or dup variables' was applied 32'876 times.\n",
      "  - rule 'linear: negative clause' was applied 16'804 times.\n",
      "  - rule 'presolve: 32876 unused variables removed.' was applied 1 time.\n",
      "  - rule 'presolve: iteration' was applied 3 times.\n",
      "  - rule 'setppc: removed dominated constraints' was applied 2'021 times.\n"
     ]
    },
    {
     "name": "stdout",
     "output_type": "stream",
     "text": [
      "\n",
      "Presolved optimization model '': (model_fingerprint: 0x88efa9976c7e3b19)\n",
      "#Variables: 16'942 (#bools: 138 in objective) (16'582 primary variables)\n",
      "  - 16'942 Booleans in [0,1]\n",
      "#kAtMostOne: 4'805 (#literals: 153'339)\n",
      "#kExactlyOne: 360 (#literals: 16'804)\n",
      "[Symmetry] Graph for symmetry has 22'245 nodes and 170'281 arcs.\n"
     ]
    },
    {
     "name": "stdout",
     "output_type": "stream",
     "text": [
      "[Symmetry] Symmetry computation done. time: 0.00557664 dtime: 0.0128591\n",
      "\n",
      "Preloading model.\n",
      "#Bound   1.35s best:inf   next:[0,16804]  initial_domain\n",
      "#Model   1.36s var:16942/16942 constraints:5165/5165\n"
     ]
    },
    {
     "name": "stdout",
     "output_type": "stream",
     "text": [
      "\n",
      "Starting search at 1.36s with 12 workers.\n",
      "8 full problem subsolvers: [core, default_lp, max_lp, no_lp, pseudo_costs, quick_restart, quick_restart_no_lp, reduced_costs]\n",
      "4 first solution subsolvers: [fj(2), fs_random, fs_random_no_lp]\n",
      "10 interleaved subsolvers: [feasibility_pump, graph_arc_lns, graph_cst_lns, graph_dec_lns, graph_var_lns, ls, ls_lin, rins/rens, rnd_cst_lns, rnd_var_lns]\n",
      "3 helper subsolvers: [neighborhood_helper, synchronization_agent, update_gap_integral]\n",
      "\n"
     ]
    },
    {
     "name": "stdout",
     "output_type": "stream",
     "text": [
      "#1       1.44s best:16431 next:[0,16430]  fj_restart(batch:1 lin{mvs:601 evals:16'939} #w_updates:7 #perturb:0)\n"
     ]
    },
    {
     "name": "stdout",
     "output_type": "stream",
     "text": [
      "#2       1.51s best:15273 next:[0,15272]  core\n"
     ]
    },
    {
     "name": "stdout",
     "output_type": "stream",
     "text": [
      "#3       1.58s best:15170 next:[0,15169]  quick_restart_no_lp\n",
      "#4       1.59s best:15152 next:[0,15151]  quick_restart_no_lp\n"
     ]
    },
    {
     "name": "stdout",
     "output_type": "stream",
     "text": [
      "#5       1.62s best:14985 next:[0,14984]  core\n"
     ]
    },
    {
     "name": "stdout",
     "output_type": "stream",
     "text": [
      "#6       1.65s best:14888 next:[0,14887]  quick_restart_no_lp\n"
     ]
    },
    {
     "name": "stdout",
     "output_type": "stream",
     "text": [
      "#7       1.68s best:14855 next:[0,14854]  core\n",
      "#8       1.69s best:14721 next:[0,14720]  core\n"
     ]
    },
    {
     "name": "stdout",
     "output_type": "stream",
     "text": [
      "#9       1.70s best:14588 next:[0,14587]  core\n"
     ]
    },
    {
     "name": "stdout",
     "output_type": "stream",
     "text": [
      "#10      1.86s best:14587 next:[0,14586]  ls_restart_decay(batch:1 lin{mvs:198 evals:6'114} #w_updates:42 #perturb:0)\n",
      "#11      1.87s best:14463 next:[0,14462]  ls_restart_perturb(batch:1 lin{mvs:231 evals:4'624} #w_updates:172 #perturb:0)\n"
     ]
    },
    {
     "name": "stdout",
     "output_type": "stream",
     "text": [
      "#12      1.88s best:14458 next:[0,14457]  ls_lin_restart_perturb(batch:1 lin{mvs:18 evals:723} #w_updates:15 #perturb:0)\n",
      "#13      1.89s best:14334 next:[0,14333]  ls_lin_restart_decay_perturb(batch:1 lin{mvs:113 evals:4'265} #w_updates:46 #perturb:0)\n"
     ]
    },
    {
     "name": "stdout",
     "output_type": "stream",
     "text": [
      "#14      2.20s best:14330 next:[0,14329]  ls_restart_perturb(batch:1 lin{mvs:222 evals:5'889} #w_updates:84 #perturb:0)\n"
     ]
    },
    {
     "name": "stdout",
     "output_type": "stream",
     "text": [
      "#15      2.33s best:14329 next:[0,14328]  ls_lin_restart_compound(batch:1 lin{mvs:0 evals:151'283} gen{mvs:4'564 evals:0} comp{mvs:30 btracks:2'267} #w_updates:5 #perturb:0)\n"
     ]
    },
    {
     "name": "stdout",
     "output_type": "stream",
     "text": [
      "#16      2.46s best:14328 next:[0,14327]  ls_lin_restart(batch:1 lin{mvs:764 evals:12'632} #w_updates:314 #perturb:0)\n"
     ]
    },
    {
     "name": "stdout",
     "output_type": "stream",
     "text": [
      "#17      3.78s best:14327 next:[0,14326]  ls_lin_restart(batch:1 lin{mvs:13'056 evals:16'942} #w_updates:4'079 #perturb:0)\n"
     ]
    },
    {
     "name": "stdout",
     "output_type": "stream",
     "text": [
      "#18      7.75s best:14325 next:[0,14324]  ls_restart_perturb(batch:1 lin{mvs:5'314 evals:16'942} #w_updates:1'413 #perturb:0)\n"
     ]
    },
    {
     "name": "stdout",
     "output_type": "stream",
     "text": [
      "#19     24.25s best:14324 next:[0,14323]  rnd_var_lns (d=3.65e-01 s=970 t=0.10 p=0.50 stall=113 h=base)\n"
     ]
    },
    {
     "name": "stdout",
     "output_type": "stream",
     "text": [
      "#Done   27.85s max_lp\n",
      "#Done   27.85s quick_restart_no_lp\n"
     ]
    },
    {
     "name": "stdout",
     "output_type": "stream",
     "text": [
      "\n",
      "Task timing                      n [     min,      max]      avg      dev     time         n [     min,      max]      avg      dev    dtime\n",
      "                 'core':         1 [  26.50s,   26.50s]   26.50s   0.00ns   26.50s         1 [  56.57s,   56.57s]   56.57s   0.00ns   56.57s\n",
      "           'default_lp':         1 [  26.50s,   26.50s]   26.50s   0.00ns   26.50s         1 [  57.42s,   57.42s]   57.42s   0.00ns   57.42s\n",
      "     'feasibility_pump':         1 [257.33ms, 257.33ms] 257.33ms   0.00ns 257.33ms         0 [  0.00ns,   0.00ns]   0.00ns   0.00ns   0.00ns\n",
      "                   'fj':         0 [  0.00ns,   0.00ns]   0.00ns   0.00ns   0.00ns         0 [  0.00ns,   0.00ns]   0.00ns   0.00ns   0.00ns\n",
      "                   'fj':         1 [ 73.54ms,  73.54ms]  73.54ms   0.00ns  73.54ms         1 [  7.16ms,   7.16ms]   7.16ms   0.00ns   7.16ms\n",
      "            'fs_random':         1 [ 88.85ms,  88.85ms]  88.85ms   0.00ns  88.85ms         0 [  0.00ns,   0.00ns]   0.00ns   0.00ns   0.00ns\n",
      "      'fs_random_no_lp':         1 [ 76.17ms,  76.17ms]  76.17ms   0.00ns  76.17ms         0 [  0.00ns,   0.00ns]   0.00ns   0.00ns   0.00ns\n",
      "        'graph_arc_lns':       133 [ 37.61ms, 207.59ms]  90.51ms  35.96ms   12.04s       133 [ 56.03us, 102.02ms]  55.61ms  46.28ms    7.40s\n",
      "        'graph_cst_lns':       133 [ 38.11ms, 189.26ms]  89.50ms  31.34ms   11.90s       133 [ 31.87us, 100.52ms]  54.11ms  48.24ms    7.20s\n",
      "        'graph_dec_lns':       126 [ 45.20ms, 190.52ms] 106.27ms  38.29ms   13.39s       125 [527.00ns, 104.12ms]  54.93ms  48.99ms    6.87s\n",
      "        'graph_var_lns':       133 [ 26.38ms, 276.09ms]  73.95ms  38.04ms    9.84s       133 [ 39.84us, 100.51ms]  51.16ms  49.45ms    6.80s\n",
      "                   'ls':        97 [  5.99ms, 280.68ms] 137.30ms  43.99ms   13.32s        97 [  2.52ms, 100.12ms]  95.92ms  18.35ms    9.30s\n",
      "               'ls_lin':        93 [  5.34ms, 198.90ms] 143.94ms  38.28ms   13.39s        93 [288.64us, 100.07ms]  96.33ms  17.49ms    8.96s\n",
      "               'max_lp':         1 [  26.50s,   26.50s]   26.50s   0.00ns   26.50s         1 [  14.67s,   14.67s]   14.67s   0.00ns   14.67s\n",
      "                'no_lp':         1 [  26.50s,   26.50s]   26.50s   0.00ns   26.50s         1 [  53.30s,   53.30s]   53.30s   0.00ns   53.30s\n",
      "         'pseudo_costs':         1 [  26.50s,   26.50s]   26.50s   0.00ns   26.50s         1 [  12.79s,   12.79s]   12.79s   0.00ns   12.79s\n",
      "        'quick_restart':         1 [  26.50s,   26.50s]   26.50s   0.00ns   26.50s         1 [  19.42s,   19.42s]   19.42s   0.00ns   19.42s\n",
      "  'quick_restart_no_lp':         1 [  26.49s,   26.49s]   26.49s   0.00ns   26.49s         1 [  19.82s,   19.82s]   19.82s   0.00ns   19.82s\n",
      "        'reduced_costs':         1 [  26.50s,   26.50s]   26.50s   0.00ns   26.50s         1 [   8.52s,    8.52s]    8.52s   0.00ns    8.52s\n",
      "            'rins/rens':       134 [  4.93ms, 319.78ms]  60.01ms  50.33ms    8.04s       100 [ 10.00ns, 100.46ms]  55.51ms  47.71ms    5.55s\n",
      "          'rnd_cst_lns':       133 [ 29.42ms, 232.51ms]  80.33ms  33.80ms   10.68s       133 [ 24.39us, 100.47ms]  53.47ms  48.81ms    7.11s\n",
      "          'rnd_var_lns':       133 [ 44.02ms, 144.84ms]  91.82ms  29.80ms   12.21s       133 [967.00ns, 104.37ms]  56.78ms  47.93ms    7.55s\n",
      "\n",
      "Search stats               Bools  Conflicts   Branches  Restarts  BoolPropag  IntegerPropag\n",
      "                 'core':  16'942    115'391    398'924    68'511  12'154'857         55'186\n",
      "           'default_lp':  16'942    138'250    351'862   103'096  32'408'482        715'229\n",
      "            'fs_random':  16'942          0     16'526    16'526     837'442          8'264\n",
      "      'fs_random_no_lp':  16'942          0      5'914     5'914     294'953          2'958\n",
      "               'max_lp':  16'942         61    101'671    68'490   3'525'785      3'658'646\n",
      "                'no_lp':  16'942    105'329    281'169    68'502  32'957'557        354'444\n",
      "         'pseudo_costs':  16'942      1'297    254'586   137'703   7'307'281      7'618'656\n",
      "        'quick_restart':  16'942     27'565  5'420'046   209'478  51'365'009      1'581'294\n",
      "  'quick_restart_no_lp':  16'942     26'538  4'882'287   243'996  51'897'417      1'607'843\n",
      "        'reduced_costs':  16'942      2'389    420'257   206'940  11'915'895     11'959'660\n",
      "\n",
      "SAT stats                 ClassicMinim  LitRemoved   LitLearned  LitForgotten  Subsumed  MClauses  MDecisions  MLitTrue  MSubsumed  MLitRemoved  MReused\n",
      "                 'core':        91'825     679'280   87'779'766    75'512'766     1'345       720      32'888         0          0            0        0\n",
      "           'default_lp':       113'238   1'231'845  100'301'738    87'684'430       930     1'440      65'776         0          0            0        0\n",
      "            'fs_random':             0           0            0             0         0         0           0         0          0            0        0\n",
      "      'fs_random_no_lp':             0           0            0             0         0         0           0         0          0            0        0\n",
      "               'max_lp':            19      19'258       33'821             0         0       720      32'888         0          0            0        0\n",
      "                'no_lp':        72'136     610'578   98'619'221    84'779'540     1'688       720      32'888         0          0            0        0\n",
      "         'pseudo_costs':           922      56'298    1'254'428             0        17     2'160      98'664         0          0            0        0\n",
      "        'quick_restart':         6'012      23'398   11'164'663     4'884'093       224     3'600     164'440         0          0            0        0\n",
      "  'quick_restart_no_lp':         5'744      21'306   11'034'113     5'066'868       224     4'320     197'328         0          0            0        0\n",
      "        'reduced_costs':         1'072     289'120    2'568'713             0         4     3'600     164'440         0          0            0        0\n",
      "\n",
      "Lp stats            Component  Iterations  AddedCuts  OPTIMAL  DUAL_F.  DUAL_U.\n",
      "         'max_lp':          1      28'535          0        0    1'023       12\n",
      "   'pseudo_costs':          1      54'809          0       49    2'018      805\n",
      "  'reduced_costs':          1      76'203          0       15    6'325      452\n",
      "\n",
      "Lp dimension              Final dimension of first component\n",
      "         'max_lp':  5165 rows, 16942 columns, 174236 entries\n",
      "   'pseudo_costs':   1810 rows, 16942 columns, 66538 entries\n",
      "  'reduced_costs':    760 rows, 16942 columns, 29941 entries\n",
      "\n",
      "Lp debug            CutPropag  CutEqPropag  Adjust  Overflow  Bad  BadScaling\n",
      "         'max_lp':          0            0      25         0    0           0\n",
      "   'pseudo_costs':          0            0   1'149         0    0           0\n",
      "  'reduced_costs':          0            0   3'021         0    0           0\n",
      "\n",
      "Lp pool             Constraints  Updates  Simplif  Merged  Shortened  Split  Strenghtened  Cuts/Call\n",
      "         'max_lp':        5'165        0        0       0          0      0             0        0/0\n",
      "   'pseudo_costs':        5'165        0        0       0          0      0             0        0/0\n",
      "  'reduced_costs':        5'165        0        0       0          0      0             0        0/0\n",
      "\n",
      "LNS stats           Improv/Calls  Closed  Difficulty  TimeLimit\n",
      "  'graph_arc_lns':         4/133     50%    3.36e-01       0.10\n",
      "  'graph_cst_lns':         7/133     50%    2.89e-01       0.10\n",
      "  'graph_dec_lns':         1/125     49%    2.85e-01       0.10\n",
      "  'graph_var_lns':         8/133     50%    2.52e-01       0.10\n",
      "      'rins/rens':        19/100     48%    8.24e-02       0.10\n",
      "    'rnd_cst_lns':         6/133     49%    2.24e-01       0.10\n",
      "    'rnd_var_lns':         2/133     50%    3.35e-01       0.10\n",
      "\n",
      "LS stats                                    Batches  Restarts/Perturbs  LinMoves  GenMoves  CompoundMoves  Bactracks  WeightUpdates  ScoreComputed\n",
      "                             'fj_restart':        1                  1       601         0              0          0              7         16'939\n",
      "                         'ls_lin_restart':       12                 11   175'202         0              0          0         55'223        198'993\n",
      "                'ls_lin_restart_compound':       10                  9         0    69'809            409     34'677             70      2'317'618\n",
      "        'ls_lin_restart_compound_perturb':       12                 10         0    88'109            436     43'792             79      2'847'581\n",
      "                   'ls_lin_restart_decay':       10                 10   121'592         0              0          0          3'766        169'420\n",
      "          'ls_lin_restart_decay_compound':       11                  6         0    85'860            618     42'584             50      2'281'748\n",
      "  'ls_lin_restart_decay_compound_perturb':       15                 11         0   115'522            651     57'397             67      3'142'865\n",
      "           'ls_lin_restart_decay_perturb':       13                  9   145'152         0              0          0          4'404        270'090\n",
      "                 'ls_lin_restart_perturb':       10                  9   145'646         0              0          0         47'039        153'201\n",
      "                             'ls_restart':        8                  8   128'194         0              0          0         39'014        135'536\n",
      "                    'ls_restart_compound':       13                 11         0    94'543            509     46'990             82      3'077'041\n",
      "            'ls_restart_compound_perturb':        8                  5         0    59'538            499     29'502             62      1'839'766\n",
      "                       'ls_restart_decay':       20                 13   229'682         0              0          0          6'803        412'538\n",
      "              'ls_restart_decay_compound':        8                  8         0    60'515            150     30'157             32      1'723'508\n",
      "      'ls_restart_decay_compound_perturb':       13                 12         0    96'904            380     48'210             53      2'705'652\n",
      "               'ls_restart_decay_perturb':       20                 13   241'486         0              0          0          7'188        438'806\n",
      "                     'ls_restart_perturb':        7                  7    70'485         0              0          0         22'454         95'223\n",
      "\n",
      "Solutions (19)                     Num     Rank\n",
      "                          'core':    5    [2,9]\n",
      "                    'fj_restart':    1    [1,1]\n",
      "                'ls_lin_restart':    2  [16,17]\n",
      "       'ls_lin_restart_compound':    1  [15,15]\n",
      "  'ls_lin_restart_decay_perturb':    1  [13,13]\n",
      "        'ls_lin_restart_perturb':    1  [12,12]\n",
      "              'ls_restart_decay':    1  [10,10]\n",
      "            'ls_restart_perturb':    3  [11,18]\n",
      "           'quick_restart_no_lp':    3    [3,6]\n",
      "                   'rnd_var_lns':    1  [19,19]\n",
      "\n",
      "Objective bounds     Num\n",
      "  'initial_domain':    1\n",
      "\n",
      "Solution repositories    Added  Queried  Synchro\n",
      "  'feasible solutions':    621    2'103      405\n",
      "   'fj solution hints':      0        0        0\n",
      "        'lp solutions':    738      134      363\n",
      "                'pump':      0        0\n",
      "\n",
      "Improving bounds shared      Num  Sym\n",
      "                'max_lp':  2'618    0\n",
      "\n",
      "Clauses shared    Num\n",
      "       'max_lp':    1\n",
      "\n",
      "CpSolverResponse summary:\n",
      "status: OPTIMAL\n",
      "objective: 14324\n",
      "best_bound: 14324\n",
      "integers: 151\n",
      "booleans: 16942\n",
      "conflicts: 0\n",
      "branches: 5914\n",
      "propagations: 294953\n",
      "integer_propagations: 2958\n",
      "restarts: 5914\n",
      "lp_iterations: 0\n",
      "walltime: 27.9047\n",
      "usertime: 27.9047\n",
      "deterministic_time: 312.55\n",
      "gap_integral: 826.848\n",
      "solution_fingerprint: 0xe0e9210874bd3389\n",
      "\n"
     ]
    }
   ],
   "source": [
    "model2 = Model(cond2)\n",
    "model2.solve(timeout=60)\n",
    "\n",
    "mo.md(f\"Optimal Value = {model2.solver.objective_value}\")"
   ]
  },
  {
   "cell_type": "code",
   "execution_count": null,
   "id": "ROlb",
   "metadata": {},
   "outputs": [],
   "source": []
  }
 ],
 "metadata": {},
 "nbformat": 4,
 "nbformat_minor": 5
}
