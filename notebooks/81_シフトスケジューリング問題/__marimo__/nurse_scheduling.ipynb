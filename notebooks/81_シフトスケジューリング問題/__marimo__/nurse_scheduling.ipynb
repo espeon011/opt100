{
 "cells": [
  {
   "cell_type": "code",
   "execution_count": null,
   "id": "Hbol",
   "metadata": {},
   "outputs": [],
   "source": [
    "import marimo as mo"
   ]
  },
  {
   "cell_type": "markdown",
   "id": "MJUe",
   "metadata": {
    "marimo": {
     "config": {
      "hide_code": true
     }
    }
   },
   "source": [
    "# 看護師スケジューリング問題"
   ]
  },
  {
   "cell_type": "markdown",
   "id": "vblA",
   "metadata": {
    "marimo": {
     "config": {
      "hide_code": true
     }
    }
   },
   "source": [
    "## 問題設定"
   ]
  },
  {
   "cell_type": "markdown",
   "id": "bkHC",
   "metadata": {
    "marimo": {
     "config": {
      "hide_code": true
     }
    }
   },
   "source": [
    "典型的な設定だと下記.\n",
    "\n",
    "- 毎日の各勤務 (昼, 夕, 夜) の必要人数\n",
    "- 各看護師に対して 30 日間の勤務日数の上下限\n",
    "- 指定休日, 指定会議日\n",
    "- 連続 7 日間に最低 1 日の休日, 最低 1 日の昼勤務\n",
    "- 禁止パターン\n",
    "    - 3 連続夜勤\n",
    "    - 4 連続夕勤\n",
    "    - 5 連続昼勤\n",
    "    - 夜勤明けの休日以外\n",
    "    - 夕勤の直後の昼勤あるいは会議\n",
    "    - 休日 ::lucide:arrow-right:: 勤務 ::lucide:arrow-right:: 休日\n",
    "- 夜勤は 2 回連続で行う\n",
    "- 2 つのチームの人数をできるだけ均等化"
   ]
  },
  {
   "cell_type": "markdown",
   "id": "lEQa",
   "metadata": {
    "marimo": {
     "config": {
      "hide_code": true
     }
    }
   },
   "source": [
    "### 定数\n",
    "\n",
    "- $W$: 休日以外のシフトの集合\n",
    "- $N$: 夜勤以外のシフトの集合\n",
    "- $L_{d s}$: 日 $d$ のシフト $s$ の必要人数\n",
    "- $\\mathrm{LB}, \\mathrm{UB}$: 各看護師の 30 日間の勤務日数の上下限\n",
    "- $R_i$: 看護師 $i$ が休日を希望する日の集合\n",
    "- $T_1, T_2$: チーム 1, チーム 2.\n",
    "\n",
    "### 決定変数\n",
    "\n",
    "- $x_{i d s}$: 看護師 $i$ の $d$ 日の勤務が $s$ であるとき $1$. そうでないとき $0$\n",
    "\n",
    "### 制約条件\n",
    "\n",
    "- 毎日の各勤務の必要人数: $\\sum_{i} x_{i d s} \\geq L_{d s}$ $(\\forall d, s)$\n",
    "- 各看護師の 30 日間の勤務日数の上下限: $\\mathrm{LB} \\leq \\sum_{d, s \\in W} x_{i d s} \\leq \\mathrm{UB}$ $(\\forall i)$\n",
    "- 指定休日・指定会議日: $\\sum_{d \\in R_i, s \\in W} x_{i d s} \\leq 0$ $(\\forall i)$\n",
    "- 連続 7 日間に最低 1 日の休日, 最低 1 日の昼勤:\n",
    "    - $\\sum_{t = 0}^{6} x_{i, d+t, \\text{休}} \\geq 1$ $(\\forall i, d)$\n",
    "    - $\\sum_{t = 0}^{6} x_{i, d+t, \\text{昼}} \\geq 1$ $(\\forall i, d)$\n",
    "- 禁止パターン\n",
    "    - 3 連続夜勤: $\\sum_{t = 0}^{2} x_{i, d+t, \\text{夜}} \\leq 2$ $(\\forall i, d)$\n",
    "    - 4 連続夕勤: $\\sum_{t = 0}^{3} x_{i, d+t, \\text{夕}} \\leq 3$ $(\\forall i, d)$\n",
    "    - 5 連続昼勤: $\\sum_{t = 0}^{4} x_{i, d+t, \\text{昼}} \\leq 4$ $(\\forall i, d)$\n",
    "    - 夜勤明けの休日以外: $\\sum_{s \\in W \\cap N} x_{i, d + 1, s} <= 5 \\cdot (1 - x_{i, d, \\text{夜}})$\n",
    "    - 夕の直後の昼あるいは会議: 会議がよくわからないので省略\n",
    "    - 休日 ::lucide:arrow-right:: 勤務 ::lucide:arrow-right:: 休日: $x_{i, d-1, \\text{休}} + \\sum_{s \\in W} x_{i d s} + x_{i, d+1, \\text{休}} \\leq 2$\n",
    "- 夜勤は 2 連続: $\\sum_{s \\in N} x_{i,d-1,s} + x_{i,d,\\text{夜}} + \\sum_{s \\in N} x_{i,d+1,s} \\leq 2$\n",
    "- 2 チームの人数をできるだけ均等化:\n",
    "  $\\sum_{i \\in T_1} x_{i d s} = \\sum_{i \\in T_2} x_{i d s}$ $(\\forall d, s)$. これは制約というよりは目的関数?"
   ]
  },
  {
   "cell_type": "code",
   "execution_count": null,
   "id": "PKri",
   "metadata": {},
   "outputs": [],
   "source": []
  }
 ],
 "metadata": {},
 "nbformat": 4,
 "nbformat_minor": 5
}
