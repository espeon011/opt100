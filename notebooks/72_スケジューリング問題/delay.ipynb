{
 "cells": [
  {
   "cell_type": "code",
   "execution_count": null,
   "id": "Hbol",
   "metadata": {},
   "outputs": [],
   "source": [
    "import marimo as mo"
   ]
  },
  {
   "cell_type": "code",
   "execution_count": null,
   "id": "MJUe",
   "metadata": {},
   "outputs": [],
   "source": [
    "import random\n",
    "import pyscipopt as scip"
   ]
  },
  {
   "cell_type": "markdown",
   "id": "vblA",
   "metadata": {
    "marimo": {
     "config": {
      "hide_code": true
     }
    }
   },
   "source": [
    "# 1 機械総納期遅れ最小化問題"
   ]
  },
  {
   "cell_type": "markdown",
   "id": "bkHC",
   "metadata": {
    "marimo": {
     "config": {
      "hide_code": true
     }
    }
   },
   "source": [
    "## 離接定式化"
   ]
  },
  {
   "cell_type": "markdown",
   "id": "lEQa",
   "metadata": {
    "marimo": {
     "config": {
      "hide_code": true
     }
    }
   },
   "source": [
    "- 機械: 1 つだけ\n",
    "- ジョブ: $J = \\{ 1, \\dots, n \\}$\n",
    "- $p_j$: ジョブ $j$ の処理時間\n",
    "- $d_j$: ジョブ $j$ の納期\n",
    "\n",
    "各ジョブ $j$ について $d_j$ からの遅れの重み付き和を最小化する."
   ]
  },
  {
   "cell_type": "markdown",
   "id": "PKri",
   "metadata": {
    "marimo": {
     "config": {
      "hide_code": true
     }
    }
   },
   "source": [
    "$M$ を大きな定数として\n",
    "\n",
    "\\begin{align*}\n",
    "&\\text{minimize} &\\sum_{j \\in J} w_j T_j \\\\\n",
    "&\\text{s.t.} &x_{jk} + x_{kj} &= 1 \\ &(\\forall j < k) \\\\\n",
    "& &x_{jk} + x_{kl} + x_{lj} &\\leq 2 \\ &(\\forall j \\neq k \\neq l) \\\\\n",
    "& &\\sum_{k \\neq j} p_k x_{kj} +p_j &\\leq d_j + T_j  \\ &(\\forall j \\in J) \\\\\n",
    "& &x_{jk} &\\in \\{ 0, 1 \\}\n",
    "\\end{align*}"
   ]
  },
  {
   "cell_type": "markdown",
   "id": "Xref",
   "metadata": {
    "marimo": {
     "config": {
      "hide_code": true
     }
    }
   },
   "source": [
    "## 実装"
   ]
  },
  {
   "cell_type": "code",
   "execution_count": null,
   "id": "SFPL",
   "metadata": {},
   "outputs": [],
   "source": [
    "def make_data(n):\n",
    "    \"\"\"\n",
    "    Data generator for the one machine scheduling problem.\n",
    "    \"\"\"\n",
    "    p, r, d, w = {}, {}, {}, {}\n",
    "\n",
    "    J = range(1, n + 1)\n",
    "\n",
    "    for j in J:\n",
    "        p[j] = random.randint(1, 4)\n",
    "        w[j] = random.randint(1, 3)\n",
    "\n",
    "    T = sum(p)\n",
    "    for j in J:\n",
    "        r[j] = random.randint(0, 5)\n",
    "        d[j] = r[j] + random.randint(0, 5)\n",
    "\n",
    "    return J, p, r, d, w"
   ]
  },
  {
   "cell_type": "code",
   "execution_count": null,
   "id": "BYtC",
   "metadata": {},
   "outputs": [],
   "source": [
    "def scheduling_linear_ordering(J, p, d, w):\n",
    "    \"\"\"\n",
    "    scheduling_linear_ordering: model for the one machine total weighted tardiness problem\n",
    "\n",
    "    Model for the one machine total weighted tardiness problem\n",
    "    using the linear ordering formulation\n",
    "\n",
    "    Parameters:\n",
    "        - J: set of jobs\n",
    "        - p[j]: processing time of job j\n",
    "        - d[j]: latest non-tardy time for job j\n",
    "        - w[j]: weighted of job j,  the objective is the sum of the weighted completion time\n",
    "\n",
    "    Returns a model, ready to be solved.\n",
    "    \"\"\"\n",
    "    model = scip.Model(\"scheduling: linear ordering\")\n",
    "\n",
    "    T, x = {}, {}  # tardiness variable,  x[j,k] =1 if job j precedes job k, =0 otherwise\n",
    "    for j in J:\n",
    "        T[j] = model.addVar(vtype=\"C\", name=\"T(%s)\" % (j))\n",
    "        for k in J:\n",
    "            if j != k:\n",
    "                x[j, k] = model.addVar(vtype=\"B\", name=\"x(%s,%s)\" % (j, k))\n",
    "\n",
    "    for j in J:\n",
    "        model.addCons(\n",
    "            scip.quicksum(p[k] * x[k, j] for k in J if k != j) - T[j] <= d[j] - p[j],\n",
    "            \"Tardiness(%r)\" % (j),\n",
    "        )\n",
    "\n",
    "        for k in J:\n",
    "            if k <= j:\n",
    "                continue\n",
    "            model.addCons(x[j, k] + x[k, j] == 1, \"Disjunctive(%s,%s)\" % (j, k))\n",
    "\n",
    "            for ell in J:\n",
    "                if ell == j or ell == k:\n",
    "                    continue\n",
    "                # if ell > k:\n",
    "                    # j < k < ell\n",
    "                    # 1 -> 3 -> 2\n",
    "                    # x[1, 3], x[3, 2], x[2, 1]\n",
    "                model.addCons(\n",
    "                    x[j, k] + x[k, ell] + x[ell, j] <= 2,\n",
    "                    \"Triangle(%s,%s,%s)\" % (j, k, ell),\n",
    "                )\n",
    "\n",
    "    model.setObjective(scip.quicksum(w[j] * T[j] for j in J), sense=\"minimize\")\n",
    "\n",
    "    return model, x, T"
   ]
  },
  {
   "cell_type": "code",
   "execution_count": null,
   "id": "RGSE",
   "metadata": {},
   "outputs": [
    {
     "name": "stdout",
     "output_type": "stream",
     "text": [
      "x((2, 1)) = 1\n",
      "x((2, 3)) = 1\n",
      "x((2, 4)) = 1\n",
      "x((2, 5)) = 1\n",
      "x((3, 1)) = 1\n",
      "x((3, 4)) = 1\n",
      "x((3, 5)) = 1\n",
      "x((4, 1)) = 1\n",
      "x((4, 5)) = 1\n",
      "x((5, 1)) = 1\n",
      "T(1) = 9\n",
      "T(2) = 3\n",
      "T(3) = 0\n",
      "T(4) = 1\n",
      "T(5) = 1\n",
      "Opt.value by the linear ordering formulation= 33.0\n"
     ]
    }
   ],
   "source": [
    "n = 5  # number of jobs\n",
    "J, p, r, d, w = make_data(n)\n",
    "\n",
    "model, x, T = scheduling_linear_ordering(J, p, d, w)\n",
    "model.optimize()\n",
    "z = model.getObjVal()\n",
    "for (i, j) in x:\n",
    "    if model.getVal(x[i, j]) > 0.5:\n",
    "        print(\"x(%s) = %s\" % ((i, j), int(model.getVal(x[i, j]) + 0.5)))\n",
    "for i in T:\n",
    "    print(\"T(%s) = %s\" % (i, int(model.getVal(T[i]) + 0.5)))\n",
    "print(\"Opt.value by the linear ordering formulation=\", z)"
   ]
  }
 ],
 "metadata": {},
 "nbformat": 4,
 "nbformat_minor": 5
}
