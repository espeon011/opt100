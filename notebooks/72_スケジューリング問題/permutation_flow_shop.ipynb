{
 "cells": [
  {
   "cell_type": "code",
   "execution_count": null,
   "id": "Hbol",
   "metadata": {},
   "outputs": [],
   "source": [
    "import marimo as mo"
   ]
  },
  {
   "cell_type": "code",
   "execution_count": null,
   "id": "MJUe",
   "metadata": {},
   "outputs": [],
   "source": [
    "import random\n",
    "import pyscipopt as scip"
   ]
  },
  {
   "cell_type": "markdown",
   "id": "vblA",
   "metadata": {
    "marimo": {
     "config": {
      "hide_code": true
     }
    }
   },
   "source": [
    "# 順列フローショップ問題"
   ]
  },
  {
   "cell_type": "markdown",
   "id": "bkHC",
   "metadata": {
    "marimo": {
     "config": {
      "hide_code": true
     }
    }
   },
   "source": [
    "$n$ 個のジョブを $m$ 台のマシンで順番に処理する.\n",
    "各ジョブはマシン 1, マシン 2, ... で順に処理されマシン $m$ で処理されると完了になる."
   ]
  },
  {
   "cell_type": "code",
   "execution_count": null,
   "id": "lEQa",
   "metadata": {
    "marimo": {
     "config": {
      "hide_code": true
     }
    }
   },
   "outputs": [
    {
     "data": {
      "text/html": [
       "<div style='display: flex;flex: 1;flex-direction: row;justify-content: center;align-items: normal;flex-wrap: nowrap;gap: 0.5rem'><div><figure style='display: flex; flex-direction: column;'><img src='https://www.researchgate.net/profile/Mariusz-Makuchowski/publication/280775329/figure/fig1/AS:284468087672848@1444833885900/Schedules-of-the-different-variants-of-the-flow-shop-problem.png' style='width: 800px' /><figcaption style='color: var(--muted-foreground); text-align: center; margin-top: 0.5rem;'>https://www.researchgate.net/figure/Schedules-of-the-different-variants-of-the-flow-shop-problem_fig1_280775329</figcaption></figure></div></div>"
      ]
     },
     "metadata": {},
     "output_type": "display_data"
    }
   ],
   "source": [
    "mo.image(\n",
    "    src=\"https://www.researchgate.net/profile/Mariusz-Makuchowski/publication/280775329/figure/fig1/AS:284468087672848@1444833885900/Schedules-of-the-different-variants-of-the-flow-shop-problem.png\",\n",
    "    width=800,\n",
    "    caption=\"https://www.researchgate.net/figure/Schedules-of-the-different-variants-of-the-flow-shop-problem_fig1_280775329\"\n",
    ").center()"
   ]
  },
  {
   "cell_type": "markdown",
   "id": "PKri",
   "metadata": {
    "marimo": {
     "config": {
      "hide_code": true
     }
    }
   },
   "source": [
    "## 位置データ定式化"
   ]
  },
  {
   "cell_type": "markdown",
   "id": "Xref",
   "metadata": {
    "marimo": {
     "config": {
      "hide_code": true
     }
    }
   },
   "source": [
    "## 定数\n",
    "\n",
    "- ジョブ: $J = \\{ 1, \\dots, n \\}$\n",
    "- マシン: $M = \\{ 1, \\dots, m \\}$\n",
    "- 処理時間: $p_{ij} \\ (\\forall i \\in M, \\forall j \\in J)$\n",
    "\n",
    "## 決定変数\n",
    "\n",
    "- $x_{j \\kappa} \\in \\{ 0, 1 \\}$: ジョブ $j$ を並べた時の順番が $\\kappa$ 番目であるとき $1$.\n",
    "- $s_{i \\kappa}$: マシン $i$ の $\\kappa$ 番目に並べられているジョブの開始時刻\n",
    "- $f_{i \\kappa}$: マシン $i$ の $\\kappa$ 番目に並べられているジョブの終了時刻"
   ]
  },
  {
   "cell_type": "markdown",
   "id": "SFPL",
   "metadata": {
    "marimo": {
     "config": {
      "hide_code": true
     }
    }
   },
   "source": [
    "\\begin{align*}\n",
    "&\\text{minimize} &f_{mn} \\\\\n",
    "&\\text{s.t.} &\\sum_{\\kappa} x_{j \\kappa} &= 1 \\ &(\\forall j \\in J) \\\\\n",
    "& &\\sum_{j \\in J} x_{j \\kappa} &= 1 \\ &(\\forall \\kappa = 1, \\dots, n) \\\\\n",
    "& &f_{i \\kappa} &\\leq s_{i,\\kappa+1} \\ &(\\forall i \\in M, \\forall \\kappa = 1, \\dots, n-1) \\\\\n",
    "& &s_{i \\kappa} + \\sum_{j \\in J} p_{ij} x_{j \\kappa} &\\leq f_{i \\kappa} \\ &(\\forall i \\in M, \\forall \\kappa = 1, \\dots, n) \\\\\n",
    "& &f_{i \\kappa} &\\leq s_{i+1, \\kappa} \\ &(\\forall i \\in M \\setminus \\{m\\}, \\forall \\kappa = 1, \\dots, n) \\\\\n",
    "& &x_{j \\kappa} &\\in \\{ 0, 1 \\} \\ &(\\forall j \\in J, \\kappa = 1, \\dots, n) \\\\\n",
    "& &s_{i \\kappa} &\\geq 0 \\ &(\\forall i \\in M, \\kappa = 1, \\dots, n) \\\\\n",
    "& &f_{i \\kappa} &\\geq 0 \\ &(\\forall i \\in M, \\kappa = 1, \\dots, n) \\\\\n",
    "\\end{align*}"
   ]
  },
  {
   "cell_type": "markdown",
   "id": "BYtC",
   "metadata": {
    "marimo": {
     "config": {
      "hide_code": true
     }
    }
   },
   "source": [
    "## 実装"
   ]
  },
  {
   "cell_type": "code",
   "execution_count": null,
   "id": "RGSE",
   "metadata": {},
   "outputs": [],
   "source": [
    "def make_data_permutation_flow_shop(n, m):\n",
    "    \"\"\"make_data: prepare matrix of m times n random processing times\"\"\"\n",
    "    p = {}\n",
    "    for i in range(1, m + 1):\n",
    "        for j in range(1, n + 1):\n",
    "            p[i, j] = random.randint(1, 10)\n",
    "    return p"
   ]
  },
  {
   "cell_type": "code",
   "execution_count": null,
   "id": "Kclp",
   "metadata": {},
   "outputs": [],
   "source": [
    "def permutation_flow_shop(n, m, p):\n",
    "    \"\"\" permutation_flow_shop problem\n",
    "    Parameters:\n",
    "        - n: number of jobs\n",
    "        - m: number of machines\n",
    "        - p[i,j]: processing time of job i on machine j\n",
    "    Returns a model, ready to be solved.\n",
    "    \"\"\"\n",
    "    model = scip.Model(\"permutation flow shop\")\n",
    "    x, s, f = {}, {}, {}\n",
    "    for j in range(1, n + 1):\n",
    "        for k in range(1, n + 1):\n",
    "            x[j, k] = model.addVar(vtype=\"B\", name=\"x(%s,%s)\" % (j, k))\n",
    "\n",
    "    for i in range(1, m + 1):\n",
    "        for k in range(1, n + 1):\n",
    "            s[i, k] = model.addVar(vtype=\"C\", name=\"start(%s,%s)\" % (i, k))\n",
    "            f[i, k] = model.addVar(vtype=\"C\", name=\"finish(%s,%s)\" % (i, k))\n",
    "\n",
    "    for j in range(1, n + 1):\n",
    "        model.addCons(\n",
    "            scip.quicksum(x[j, k] for k in range(1, n + 1)) == 1, \"Assign1(%s)\" % (j)\n",
    "        )\n",
    "        model.addCons(\n",
    "            scip.quicksum(x[k, j] for k in range(1, n + 1)) == 1, \"Assign2(%s)\" % (j)\n",
    "        )\n",
    "\n",
    "    for i in range(1, m + 1):\n",
    "        for k in range(1, n + 1):\n",
    "            if k != n:\n",
    "                model.addCons(f[i, k] <= s[i, k + 1], \"FinishStart(%s,%s)\" % (i, k))\n",
    "            if i != m:\n",
    "                model.addCons(f[i, k] <= s[i + 1, k], \"Machine(%s,%s)\" % (i, k))\n",
    "\n",
    "            model.addCons(\n",
    "                s[i, k] + scip.quicksum(p[i, j] * x[j, k] for j in range(1, n + 1))\n",
    "                <= f[i, k],\n",
    "                \"StartFinish(%s,%s)\" % (i, k),\n",
    "            )\n",
    "\n",
    "    model.setObjective(f[m, n], sense=\"minimize\")\n",
    "\n",
    "    return model, x, s, f"
   ]
  },
  {
   "cell_type": "code",
   "execution_count": null,
   "id": "emfo",
   "metadata": {},
   "outputs": [
    {
     "name": "stdout",
     "output_type": "stream",
     "text": [
      "presolving:\n",
      "(round 1, fast)       1 del vars, 0 del conss, 0 add conss, 1 chg bounds, 0 chg sides, 0 chg coeffs, 0 upgd conss, 0 impls, 20 clqs\n",
      "(round 2, fast)       3 del vars, 2 del conss, 0 add conss, 1 chg bounds, 0 chg sides, 0 chg coeffs, 0 upgd conss, 0 impls, 20 clqs\n",
      "(round 3, exhaustive) 5 del vars, 4 del conss, 0 add conss, 3 chg bounds, 0 chg sides, 0 chg coeffs, 0 upgd conss, 0 impls, 20 clqs\n",
      "(round 4, fast)       5 del vars, 4 del conss, 0 add conss, 6 chg bounds, 0 chg sides, 0 chg coeffs, 0 upgd conss, 0 impls, 20 clqs\n",
      "(round 5, fast)       7 del vars, 6 del conss, 0 add conss, 6 chg bounds, 0 chg sides, 0 chg coeffs, 0 upgd conss, 0 impls, 20 clqs\n",
      "(round 6, fast)       7 del vars, 6 del conss, 0 add conss, 9 chg bounds, 0 chg sides, 0 chg coeffs, 0 upgd conss, 0 impls, 20 clqs\n",
      "(round 7, fast)       9 del vars, 8 del conss, 0 add conss, 9 chg bounds, 0 chg sides, 0 chg coeffs, 0 upgd conss, 0 impls, 20 clqs\n",
      "(round 8, fast)       9 del vars, 8 del conss, 0 add conss, 13 chg bounds, 0 chg sides, 0 chg coeffs, 0 upgd conss, 0 impls, 20 clqs\n",
      "(round 9, fast)       11 del vars, 10 del conss, 0 add conss, 13 chg bounds, 0 chg sides, 0 chg coeffs, 0 upgd conss, 0 impls, 20 clqs\n",
      "(round 10, fast)       11 del vars, 10 del conss, 0 add conss, 17 chg bounds, 0 chg sides, 0 chg coeffs, 0 upgd conss, 0 impls, 20 clqs\n",
      "(round 11, fast)       13 del vars, 12 del conss, 0 add conss, 17 chg bounds, 0 chg sides, 0 chg coeffs, 0 upgd conss, 0 impls, 20 clqs\n",
      "(round 12, fast)       13 del vars, 12 del conss, 0 add conss, 22 chg bounds, 0 chg sides, 0 chg coeffs, 0 upgd conss, 0 impls, 20 clqs\n",
      "(round 13, fast)       15 del vars, 14 del conss, 0 add conss, 22 chg bounds, 0 chg sides, 0 chg coeffs, 0 upgd conss, 0 impls, 20 clqs\n",
      "(round 14, fast)       15 del vars, 14 del conss, 0 add conss, 27 chg bounds, 0 chg sides, 0 chg coeffs, 0 upgd conss, 0 impls, 20 clqs\n",
      "(round 15, fast)       17 del vars, 16 del conss, 0 add conss, 27 chg bounds, 0 chg sides, 0 chg coeffs, 0 upgd conss, 0 impls, 20 clqs\n",
      "(round 16, fast)       17 del vars, 16 del conss, 0 add conss, 33 chg bounds, 0 chg sides, 0 chg coeffs, 0 upgd conss, 0 impls, 20 clqs\n",
      "(round 17, fast)       21 del vars, 20 del conss, 0 add conss, 33 chg bounds, 0 chg sides, 0 chg coeffs, 0 upgd conss, 0 impls, 20 clqs\n",
      "(round 18, fast)       21 del vars, 20 del conss, 0 add conss, 37 chg bounds, 0 chg sides, 0 chg coeffs, 0 upgd conss, 0 impls, 20 clqs\n",
      "(round 19, fast)       21 del vars, 20 del conss, 0 add conss, 42 chg bounds, 0 chg sides, 0 chg coeffs, 0 upgd conss, 0 impls, 20 clqs\n",
      "(round 20, fast)       21 del vars, 20 del conss, 0 add conss, 47 chg bounds, 0 chg sides, 0 chg coeffs, 0 upgd conss, 0 impls, 20 clqs\n",
      "(round 21, fast)       21 del vars, 20 del conss, 0 add conss, 53 chg bounds, 0 chg sides, 0 chg coeffs, 0 upgd conss, 0 impls, 20 clqs\n",
      "(round 22, fast)       21 del vars, 20 del conss, 0 add conss, 59 chg bounds, 0 chg sides, 0 chg coeffs, 0 upgd conss, 0 impls, 20 clqs\n",
      "(round 23, fast)       21 del vars, 20 del conss, 0 add conss, 66 chg bounds, 0 chg sides, 0 chg coeffs, 0 upgd conss, 0 impls, 20 clqs\n",
      "(round 24, fast)       21 del vars, 20 del conss, 0 add conss, 73 chg bounds, 0 chg sides, 0 chg coeffs, 0 upgd conss, 0 impls, 20 clqs\n",
      "(round 25, fast)       21 del vars, 20 del conss, 0 add conss, 81 chg bounds, 0 chg sides, 0 chg coeffs, 0 upgd conss, 0 impls, 20 clqs\n",
      "(round 26, fast)       21 del vars, 20 del conss, 0 add conss, 89 chg bounds, 0 chg sides, 0 chg coeffs, 0 upgd conss, 0 impls, 20 clqs\n",
      "(round 27, fast)       21 del vars, 20 del conss, 0 add conss, 98 chg bounds, 0 chg sides, 0 chg coeffs, 0 upgd conss, 0 impls, 20 clqs\n",
      "(round 28, fast)       23 del vars, 22 del conss, 0 add conss, 98 chg bounds, 0 chg sides, 0 chg coeffs, 0 upgd conss, 0 impls, 20 clqs\n",
      "(round 29, fast)       23 del vars, 22 del conss, 0 add conss, 105 chg bounds, 0 chg sides, 0 chg coeffs, 0 upgd conss, 0 impls, 20 clqs\n",
      "(round 30, fast)       23 del vars, 22 del conss, 0 add conss, 113 chg bounds, 0 chg sides, 0 chg coeffs, 0 upgd conss, 0 impls, 20 clqs\n",
      "(round 31, fast)       25 del vars, 24 del conss, 0 add conss, 113 chg bounds, 0 chg sides, 0 chg coeffs, 0 upgd conss, 0 impls, 20 clqs\n",
      "(round 32, fast)       25 del vars, 24 del conss, 0 add conss, 119 chg bounds, 0 chg sides, 0 chg coeffs, 0 upgd conss, 0 impls, 20 clqs\n",
      "(round 33, fast)       25 del vars, 24 del conss, 0 add conss, 126 chg bounds, 0 chg sides, 0 chg coeffs, 0 upgd conss, 0 impls, 20 clqs\n",
      "(round 34, fast)       27 del vars, 26 del conss, 0 add conss, 126 chg bounds, 0 chg sides, 0 chg coeffs, 0 upgd conss, 0 impls, 20 clqs\n",
      "(round 35, fast)       27 del vars, 26 del conss, 0 add conss, 131 chg bounds, 0 chg sides, 0 chg coeffs, 0 upgd conss, 0 impls, 20 clqs\n",
      "(round 36, fast)       27 del vars, 26 del conss, 0 add conss, 137 chg bounds, 0 chg sides, 0 chg coeffs, 0 upgd conss, 0 impls, 20 clqs\n",
      "(round 37, fast)       29 del vars, 28 del conss, 0 add conss, 137 chg bounds, 0 chg sides, 0 chg coeffs, 0 upgd conss, 0 impls, 20 clqs\n",
      "(round 38, fast)       29 del vars, 28 del conss, 0 add conss, 141 chg bounds, 0 chg sides, 0 chg coeffs, 0 upgd conss, 0 impls, 20 clqs\n",
      "(round 39, fast)       29 del vars, 28 del conss, 0 add conss, 146 chg bounds, 0 chg sides, 0 chg coeffs, 0 upgd conss, 0 impls, 20 clqs\n",
      "(round 40, fast)       31 del vars, 30 del conss, 0 add conss, 146 chg bounds, 0 chg sides, 0 chg coeffs, 0 upgd conss, 0 impls, 20 clqs\n",
      "(round 41, fast)       31 del vars, 30 del conss, 0 add conss, 149 chg bounds, 0 chg sides, 0 chg coeffs, 0 upgd conss, 0 impls, 20 clqs\n",
      "(round 42, fast)       31 del vars, 30 del conss, 0 add conss, 153 chg bounds, 0 chg sides, 0 chg coeffs, 0 upgd conss, 0 impls, 20 clqs\n",
      "(round 43, fast)       33 del vars, 32 del conss, 0 add conss, 153 chg bounds, 0 chg sides, 0 chg coeffs, 0 upgd conss, 0 impls, 20 clqs\n",
      "(round 44, exhaustive) 33 del vars, 32 del conss, 0 add conss, 158 chg bounds, 0 chg sides, 0 chg coeffs, 0 upgd conss, 0 impls, 20 clqs\n",
      "(round 45, fast)       35 del vars, 34 del conss, 0 add conss, 158 chg bounds, 0 chg sides, 0 chg coeffs, 0 upgd conss, 0 impls, 20 clqs\n",
      "(round 46, exhaustive) 35 del vars, 34 del conss, 0 add conss, 161 chg bounds, 0 chg sides, 0 chg coeffs, 0 upgd conss, 0 impls, 20 clqs\n",
      "(round 47, fast)       37 del vars, 36 del conss, 0 add conss, 161 chg bounds, 0 chg sides, 0 chg coeffs, 0 upgd conss, 0 impls, 20 clqs\n",
      "(round 48, exhaustive) 38 del vars, 37 del conss, 0 add conss, 162 chg bounds, 0 chg sides, 0 chg coeffs, 0 upgd conss, 0 impls, 20 clqs\n",
      "(round 49, exhaustive) 38 del vars, 37 del conss, 0 add conss, 162 chg bounds, 0 chg sides, 0 chg coeffs, 20 upgd conss, 0 impls, 20 clqs\n",
      "   (0.0s) sparsify finished: 267/1675 (15.9%) nonzeros canceled - in total 267 canceled nonzeros, 990 changed coefficients, 0 added nonzeros\n",
      "(round 50, exhaustive) 38 del vars, 37 del conss, 0 add conss, 162 chg bounds, 0 chg sides, 990 chg coeffs, 20 upgd conss, 0 impls, 20 clqs\n",
      "(round 51, fast)       38 del vars, 37 del conss, 0 add conss, 242 chg bounds, 0 chg sides, 990 chg coeffs, 20 upgd conss, 0 impls, 20 clqs\n",
      "(round 52, fast)       38 del vars, 37 del conss, 0 add conss, 340 chg bounds, 0 chg sides, 990 chg coeffs, 20 upgd conss, 0 impls, 20 clqs\n",
      "(round 53, fast)       38 del vars, 37 del conss, 0 add conss, 440 chg bounds, 0 chg sides, 990 chg coeffs, 20 upgd conss, 0 impls, 20 clqs\n",
      "(round 54, fast)       38 del vars, 37 del conss, 0 add conss, 513 chg bounds, 0 chg sides, 990 chg coeffs, 20 upgd conss, 0 impls, 20 clqs\n",
      "(round 55, fast)       38 del vars, 37 del conss, 0 add conss, 583 chg bounds, 0 chg sides, 990 chg coeffs, 20 upgd conss, 0 impls, 20 clqs\n",
      "(round 56, fast)       38 del vars, 37 del conss, 0 add conss, 627 chg bounds, 0 chg sides, 990 chg coeffs, 20 upgd conss, 0 impls, 20 clqs\n",
      "(round 57, fast)       38 del vars, 37 del conss, 0 add conss, 663 chg bounds, 0 chg sides, 990 chg coeffs, 20 upgd conss, 0 impls, 20 clqs\n",
      "(round 58, fast)       38 del vars, 37 del conss, 0 add conss, 692 chg bounds, 0 chg sides, 990 chg coeffs, 20 upgd conss, 0 impls, 20 clqs\n",
      "(round 59, fast)       38 del vars, 37 del conss, 0 add conss, 711 chg bounds, 0 chg sides, 990 chg coeffs, 20 upgd conss, 0 impls, 20 clqs\n",
      "(round 60, fast)       38 del vars, 37 del conss, 0 add conss, 724 chg bounds, 0 chg sides, 990 chg coeffs, 20 upgd conss, 0 impls, 20 clqs\n",
      "(round 61, exhaustive) 38 del vars, 37 del conss, 0 add conss, 797 chg bounds, 0 chg sides, 990 chg coeffs, 20 upgd conss, 0 impls, 20 clqs\n",
      "(round 62, fast)       38 del vars, 37 del conss, 0 add conss, 843 chg bounds, 0 chg sides, 990 chg coeffs, 20 upgd conss, 0 impls, 20 clqs\n",
      "(round 63, fast)       38 del vars, 37 del conss, 0 add conss, 884 chg bounds, 0 chg sides, 990 chg coeffs, 20 upgd conss, 0 impls, 20 clqs\n",
      "(round 64, fast)       38 del vars, 37 del conss, 0 add conss, 925 chg bounds, 0 chg sides, 990 chg coeffs, 20 upgd conss, 0 impls, 20 clqs\n",
      "(round 65, fast)       38 del vars, 37 del conss, 0 add conss, 962 chg bounds, 0 chg sides, 990 chg coeffs, 20 upgd conss, 0 impls, 20 clqs\n",
      "(round 66, fast)       38 del vars, 37 del conss, 0 add conss, 1000 chg bounds, 0 chg sides, 990 chg coeffs, 20 upgd conss, 0 impls, 20 clqs\n",
      "(round 67, fast)       38 del vars, 37 del conss, 0 add conss, 1035 chg bounds, 0 chg sides, 990 chg coeffs, 20 upgd conss, 0 impls, 20 clqs\n",
      "(round 68, fast)       38 del vars, 37 del conss, 0 add conss, 1072 chg bounds, 0 chg sides, 990 chg coeffs, 20 upgd conss, 0 impls, 20 clqs\n",
      "(round 69, fast)       38 del vars, 37 del conss, 0 add conss, 1109 chg bounds, 0 chg sides, 990 chg coeffs, 20 upgd conss, 0 impls, 20 clqs\n",
      "(round 70, fast)       38 del vars, 37 del conss, 0 add conss, 1148 chg bounds, 0 chg sides, 990 chg coeffs, 20 upgd conss, 0 impls, 20 clqs\n",
      "(round 71, fast)       38 del vars, 37 del conss, 0 add conss, 1186 chg bounds, 0 chg sides, 990 chg coeffs, 20 upgd conss, 0 impls, 20 clqs\n",
      "(round 72, fast)       38 del vars, 37 del conss, 0 add conss, 1226 chg bounds, 0 chg sides, 990 chg coeffs, 20 upgd conss, 0 impls, 20 clqs\n",
      "(round 73, fast)       38 del vars, 37 del conss, 0 add conss, 1263 chg bounds, 0 chg sides, 990 chg coeffs, 20 upgd conss, 0 impls, 20 clqs\n",
      "(round 74, fast)       38 del vars, 37 del conss, 0 add conss, 1303 chg bounds, 0 chg sides, 990 chg coeffs, 20 upgd conss, 0 impls, 20 clqs\n",
      "(round 75, fast)       38 del vars, 37 del conss, 0 add conss, 1338 chg bounds, 0 chg sides, 990 chg coeffs, 20 upgd conss, 0 impls, 20 clqs\n",
      "(round 76, fast)       38 del vars, 37 del conss, 0 add conss, 1377 chg bounds, 0 chg sides, 990 chg coeffs, 20 upgd conss, 0 impls, 20 clqs\n",
      "(round 77, fast)       38 del vars, 37 del conss, 0 add conss, 1410 chg bounds, 0 chg sides, 990 chg coeffs, 20 upgd conss, 0 impls, 20 clqs\n",
      "(round 78, fast)       38 del vars, 37 del conss, 0 add conss, 1447 chg bounds, 0 chg sides, 990 chg coeffs, 20 upgd conss, 0 impls, 20 clqs\n",
      "(round 79, fast)       38 del vars, 37 del conss, 0 add conss, 1476 chg bounds, 0 chg sides, 990 chg coeffs, 20 upgd conss, 0 impls, 20 clqs\n",
      "(round 80, fast)       38 del vars, 37 del conss, 0 add conss, 1507 chg bounds, 0 chg sides, 990 chg coeffs, 20 upgd conss, 0 impls, 20 clqs\n",
      "(round 81, fast)       38 del vars, 37 del conss, 0 add conss, 1532 chg bounds, 0 chg sides, 990 chg coeffs, 20 upgd conss, 0 impls, 20 clqs\n",
      "(round 82, fast)       38 del vars, 37 del conss, 0 add conss, 1557 chg bounds, 0 chg sides, 990 chg coeffs, 20 upgd conss, 0 impls, 20 clqs\n",
      "(round 83, fast)       38 del vars, 37 del conss, 0 add conss, 1578 chg bounds, 0 chg sides, 990 chg coeffs, 20 upgd conss, 0 impls, 20 clqs\n",
      "(round 84, fast)       38 del vars, 37 del conss, 0 add conss, 1598 chg bounds, 0 chg sides, 990 chg coeffs, 20 upgd conss, 0 impls, 20 clqs\n",
      "(round 85, fast)       38 del vars, 37 del conss, 0 add conss, 1612 chg bounds, 0 chg sides, 990 chg coeffs, 20 upgd conss, 0 impls, 20 clqs\n",
      "(round 86, fast)       38 del vars, 37 del conss, 0 add conss, 1628 chg bounds, 0 chg sides, 990 chg coeffs, 20 upgd conss, 0 impls, 20 clqs\n",
      "(round 87, fast)       38 del vars, 37 del conss, 0 add conss, 1637 chg bounds, 0 chg sides, 990 chg coeffs, 20 upgd conss, 0 impls, 20 clqs\n",
      "(round 88, fast)       38 del vars, 37 del conss, 0 add conss, 1647 chg bounds, 0 chg sides, 990 chg coeffs, 20 upgd conss, 0 impls, 20 clqs\n",
      "(round 89, fast)       38 del vars, 37 del conss, 0 add conss, 1653 chg bounds, 0 chg sides, 990 chg coeffs, 20 upgd conss, 0 impls, 20 clqs\n",
      "(round 90, fast)       38 del vars, 37 del conss, 0 add conss, 1658 chg bounds, 0 chg sides, 990 chg coeffs, 20 upgd conss, 0 impls, 20 clqs\n",
      "(round 91, fast)       38 del vars, 37 del conss, 0 add conss, 1661 chg bounds, 0 chg sides, 990 chg coeffs, 20 upgd conss, 0 impls, 20 clqs\n",
      "   (0.0s) probing cycle finished: starting next cycle\n",
      "(round 92, exhaustive) 38 del vars, 37 del conss, 0 add conss, 1738 chg bounds, 0 chg sides, 990 chg coeffs, 20 upgd conss, 8092 impls, 20 clqs\n",
      "(round 93, fast)       38 del vars, 37 del conss, 0 add conss, 1745 chg bounds, 0 chg sides, 990 chg coeffs, 20 upgd conss, 8092 impls, 20 clqs\n",
      "   (0.0s) probing: 61/100 (61.0%) - 0 fixings, 0 aggregations, 8092 implications, 81 bound changes\n",
      "   (0.0s) probing aborted: 50/50 successive totally useless probings\n",
      "(round 94, exhaustive) 38 del vars, 37 del conss, 0 add conss, 1751 chg bounds, 0 chg sides, 990 chg coeffs, 20 upgd conss, 8092 impls, 20 clqs\n",
      "   (0.0s) probing: 66/100 (66.0%) - 0 fixings, 0 aggregations, 8092 implications, 81 bound changes\n",
      "   (0.0s) probing aborted: 50/50 successive totally useless probings\n",
      "   (0.0s) dualsparsify: 1 nonzeros canceled\n",
      "(round 95, exhaustive) 38 del vars, 37 del conss, 0 add conss, 1751 chg bounds, 0 chg sides, 993 chg coeffs, 20 upgd conss, 8092 impls, 20 clqs\n",
      "   (0.0s) probing: 71/100 (71.0%) - 0 fixings, 0 aggregations, 8092 implications, 81 bound changes\n",
      "   (0.0s) probing aborted: 50/50 successive totally useless probings\n",
      "   (0.0s) symmetry computation started: requiring (bin +, int +, cont +), (fixed: bin -, int -, cont -)\n",
      "   (0.0s) no symmetry present (symcode time: 0.00)\n",
      "presolving (96 rounds: 96 fast, 11 medium, 11 exhaustive):\n",
      " 38 deleted vars, 37 deleted constraints, 0 added constraints, 1753 tightened bounds, 0 added holes, 0 changed sides, 993 changed coefficients\n",
      " 8092 implications, 20 cliques\n",
      "presolved problem has 262 variables (100 bin, 0 int, 0 impl, 162 cont) and 263 constraints\n",
      "     20 constraints of type <setppc>\n",
      "    243 constraints of type <linear>\n",
      "Presolving Time: 0.03\n",
      "\n",
      " time | node  | left  |LP iter|LP it/n|mem/heur|mdpt |vars |cons |rows |cuts |sepa|confs|strbr|  dualbound   | primalbound  |  gap   | compl. \n",
      "p 0.0s|     1 |     0 |   107 |     - |  clique|   0 | 262 | 263 | 263 |   0 |  0 |   0 |   0 | 3.400000e+01 | 1.360000e+02 | 300.00%| unknown\n",
      "p 0.0s|     1 |     0 |   228 |     - |   locks|   0 | 262 | 264 | 263 |   0 |  0 |   1 |   0 | 3.400000e+01 | 1.270000e+02 | 273.53%| unknown\n",
      "  0.1s|     1 |     0 |  1495 |     - |  4917k |   0 | 262 | 264 | 263 |   0 |  0 |   1 |   0 | 9.571940e+01 | 1.270000e+02 |  32.68%| unknown\n",
      "  0.1s|     1 |     0 |  1495 |     - |  5031k |   0 | 262 | 265 | 263 |   0 |  0 |   2 |   0 | 9.571940e+01 | 1.270000e+02 |  32.68%| unknown\n",
      "  0.1s|     1 |     0 |  1556 |     - |  5556k |   0 | 262 | 265 | 265 |   2 |  1 |   2 |   0 | 9.626912e+01 | 1.270000e+02 |  31.92%| unknown\n",
      "  0.1s|     1 |     0 |  1647 |     - |  6707k |   0 | 262 | 265 | 267 |   4 |  2 |   2 |   0 | 9.653988e+01 | 1.270000e+02 |  31.55%| unknown\n",
      "  0.1s|     1 |     0 |  1692 |     - |  8328k |   0 | 262 | 265 | 271 |   8 |  3 |   2 |   0 | 9.665458e+01 | 1.270000e+02 |  31.40%| unknown\n",
      "  0.1s|     1 |     0 |  1737 |     - |  9168k |   0 | 262 | 265 | 272 |   9 |  4 |   2 |   0 | 9.672630e+01 | 1.270000e+02 |  31.30%| unknown\n",
      "  0.1s|     1 |     0 |  1798 |     - |    10M |   0 | 262 | 266 | 274 |  11 |  5 |   3 |   0 | 9.681713e+01 | 1.270000e+02 |  31.18%| unknown\n",
      "  0.2s|     1 |     0 |  1817 |     - |    11M |   0 | 262 | 266 | 275 |  12 |  6 |   3 |   0 | 9.682780e+01 | 1.270000e+02 |  31.16%| unknown\n",
      "  0.2s|     1 |     0 |  1846 |     - |    12M |   0 | 262 | 267 | 276 |  13 |  7 |   4 |   0 | 9.683458e+01 | 1.270000e+02 |  31.15%| unknown\n",
      "  0.2s|     1 |     0 |  1893 |     - |    12M |   0 | 262 | 268 | 277 |  14 |  8 |   5 |   0 | 9.684631e+01 | 1.270000e+02 |  31.14%| unknown\n",
      "  0.2s|     1 |     0 |  1928 |     - |    14M |   0 | 262 | 268 | 278 |  15 |  9 |   5 |   0 | 9.685207e+01 | 1.270000e+02 |  31.13%| unknown\n",
      "  0.2s|     1 |     0 |  1963 |     - |    18M |   0 | 262 | 268 | 279 |  16 | 10 |   5 |   0 | 9.686301e+01 | 1.270000e+02 |  31.11%| unknown\n",
      "  0.2s|     1 |     0 |  1989 |     - |    18M |   0 | 262 | 270 | 281 |  18 | 11 |   7 |   0 | 9.686786e+01 | 1.270000e+02 |  31.11%| unknown\n",
      " time | node  | left  |LP iter|LP it/n|mem/heur|mdpt |vars |cons |rows |cuts |sepa|confs|strbr|  dualbound   | primalbound  |  gap   | compl. \n",
      "  0.3s|     1 |     0 |  2011 |     - |    18M |   0 | 262 | 270 | 283 |  20 | 12 |   7 |   0 | 9.686971e+01 | 1.270000e+02 |  31.10%| unknown\n",
      "  0.3s|     1 |     0 |  2041 |     - |    18M |   0 | 262 | 270 | 285 |  22 | 13 |   7 |   0 | 9.688124e+01 | 1.270000e+02 |  31.09%| unknown\n",
      "  0.3s|     1 |     0 |  2058 |     - |    18M |   0 | 262 | 270 | 286 |  23 | 14 |   7 |   0 | 9.688401e+01 | 1.270000e+02 |  31.08%| unknown\n",
      "  0.3s|     1 |     0 |  2064 |     - |    18M |   0 | 262 | 271 | 283 |  24 | 15 |   8 |   0 | 9.688438e+01 | 1.270000e+02 |  31.08%| unknown\n",
      "  0.4s|     1 |     0 |  2098 |     - |    18M |   0 | 262 | 271 | 284 |  25 | 16 |   8 |   0 | 9.688861e+01 | 1.270000e+02 |  31.08%| unknown\n",
      "  0.4s|     1 |     0 |  2112 |     - |    18M |   0 | 262 | 272 | 285 |  26 | 17 |   9 |   0 | 9.688967e+01 | 1.270000e+02 |  31.08%| unknown\n",
      "  0.4s|     1 |     0 |  2113 |     - |    18M |   0 | 262 | 273 | 286 |  27 | 18 |  10 |   0 | 9.688968e+01 | 1.270000e+02 |  31.08%| unknown\n",
      "  0.4s|     1 |     0 |  2114 |     - |    18M |   0 | 262 | 274 | 287 |  28 | 19 |  11 |   0 | 9.688970e+01 | 1.270000e+02 |  31.08%| unknown\n",
      "  0.5s|     1 |     0 |  2117 |     - |    18M |   0 | 262 | 274 | 288 |  29 | 20 |  11 |   0 | 9.688971e+01 | 1.270000e+02 |  31.08%| unknown\n",
      "  0.5s|     1 |     0 |  2122 |     - |    18M |   0 | 262 | 274 | 288 |  30 | 21 |  11 |   0 | 9.688998e+01 | 1.270000e+02 |  31.08%| unknown\n",
      "  0.5s|     1 |     0 |  2132 |     - |    18M |   0 | 262 | 275 | 289 |  31 | 22 |  12 |   0 | 9.689026e+01 | 1.270000e+02 |  31.08%| unknown\n",
      "  0.5s|     1 |     0 |  2133 |     - |    18M |   0 | 262 | 276 | 290 |  32 | 23 |  13 |   0 | 9.689027e+01 | 1.270000e+02 |  31.08%| unknown\n",
      "r 0.5s|     1 |     0 |  2410 |     - |intshift|   0 | 262 | 276 | 290 |  32 | 23 |  13 |   0 | 9.689027e+01 | 1.250000e+02 |  29.01%| unknown\n",
      "d 0.6s|     1 |     0 |  3052 |     - |farkasdi|   0 | 262 | 276 | 290 |   0 | 23 |  13 |   0 | 9.689027e+01 | 1.130000e+02 |  16.63%| unknown\n",
      "  0.6s|     1 |     0 |  4010 |     - |    19M |   0 | 262 | 277 | 290 |  32 | 23 |  15 |   0 | 9.689027e+01 | 1.130000e+02 |  16.63%| unknown\n",
      " time | node  | left  |LP iter|LP it/n|mem/heur|mdpt |vars |cons |rows |cuts |sepa|confs|strbr|  dualbound   | primalbound  |  gap   | compl. \n",
      "  0.6s|     1 |     0 |  4015 |     - |    19M |   0 | 262 | 279 | 291 |  33 | 24 |  17 |   0 | 9.689034e+01 | 1.130000e+02 |  16.63%| unknown\n",
      "  0.7s|     1 |     0 |  4015 |     - |    19M |   0 | 262 | 279 | 291 |  33 | 25 |  17 |   9 | 9.700413e+01 | 1.130000e+02 |  16.49%| unknown\n",
      "  0.8s|     1 |     0 |  4015 |     - |    19M |   0 | 262 | 279 | 291 |  33 | 26 |  17 |  17 | 9.700413e+01 | 1.130000e+02 |  16.49%| unknown\n",
      "  1.0s|     1 |     0 |  4071 |     - |    19M |   0 | 262 | 279 | 291 |  33 | 27 |  17 |  35 | 9.700413e+01 | 1.130000e+02 |  16.49%| unknown\n",
      "  1.0s|     1 |     0 |  4077 |     - |    19M |   0 | 262 | 279 | 292 |  34 | 28 |  17 |  35 | 9.700413e+01 | 1.130000e+02 |  16.49%| unknown\n",
      "  1.0s|     1 |     0 |  4091 |     - |    19M |   0 | 262 | 279 | 293 |  35 | 29 |  17 |  35 | 9.700413e+01 | 1.130000e+02 |  16.49%| unknown\n",
      "  1.1s|     1 |     0 |  4091 |     - |    19M |   0 | 262 | 279 | 293 |  35 | 29 |  17 |  40 | 9.700413e+01 | 1.130000e+02 |  16.49%| unknown\n",
      "  1.1s|     1 |     0 |  4094 |     - |    19M |   0 | 262 | 279 | 294 |  36 | 30 |  17 |  40 | 9.700413e+01 | 1.130000e+02 |  16.49%| unknown\n",
      "  1.1s|     1 |     0 |  4095 |     - |    19M |   0 | 262 | 280 | 291 |  37 | 31 |  18 |  40 | 9.700413e+01 | 1.130000e+02 |  16.49%| unknown\n",
      "  1.2s|     1 |     0 |  4095 |     - |    19M |   0 | 262 | 280 | 291 |  37 | 31 |  18 |  48 | 9.700413e+01 | 1.130000e+02 |  16.49%| unknown\n",
      "  1.2s|     1 |     0 |  4095 |     - |    19M |   0 | 262 | 280 | 291 |  37 | 32 |  18 |  52 | 9.700413e+01 | 1.130000e+02 |  16.49%| unknown\n",
      "  1.3s|     1 |     2 |  4095 |     - |    19M |   0 | 262 | 280 | 291 |  37 | 33 |  18 |  52 | 9.700413e+01 | 1.130000e+02 |  16.49%| unknown\n",
      "* 2.1s|    25 |     6 |  6860 | 202.9 |strongbr|  10 | 262 | 295 | 282 |  43 |  2 |  39 | 273 | 9.704669e+01 | 1.120000e+02 |  15.41%|  34.18%\n",
      "* 2.4s|    51 |    10 |  8709 | 134.4 |strongbr|  11 | 262 | 314 | 282 |  44 |  1 |  61 | 417 | 9.782989e+01 | 1.110000e+02 |  13.46%|  43.40%\n",
      "* 2.4s|    53 |     9 |  8720 | 129.4 |    LP  |  12 | 262 | 314 | 282 |  44 |  1 |  61 | 419 | 9.782989e+01 | 1.100000e+02 |  12.44%|  44.43%\n",
      " time | node  | left  |LP iter|LP it/n|mem/heur|mdpt |vars |cons |rows |cuts |sepa|confs|strbr|  dualbound   | primalbound  |  gap   | compl. \n",
      "  2.9s|   100 |    14 | 11655 |  97.6 |    28M |  16 | 262 | 332 | 284 |  96 |  0 |  90 | 505 | 1.048370e+02 | 1.100000e+02 |   4.92%|  55.65%\n",
      "  3.2s|   200 |    24 | 15561 |  68.2 |    29M |  20 | 262 | 338 |   0 | 107 |  0 | 101 | 580 | 1.050000e+02 | 1.100000e+02 |   4.76%|  64.92%\n",
      "  3.4s|   300 |    20 | 17108 |  50.6 |    29M |  24 | 262 | 340 | 293 | 112 |  0 | 104 | 593 | 1.050000e+02 | 1.100000e+02 |   4.76%|  67.19%\n",
      "  3.7s|   400 |    26 | 22325 |  51.0 |    30M |  25 | 262 | 354 | 283 | 133 |  0 | 121 | 643 | 1.050000e+02 | 1.100000e+02 |   4.76%|  69.67%\n",
      "  3.9s|   500 |    20 | 26012 |  48.1 |    30M |  25 | 262 | 357 | 285 | 144 |  2 | 127 | 675 | 1.076199e+02 | 1.100000e+02 |   2.21%|  77.91%\n",
      "  4.0s|   600 |    12 | 27952 |  43.3 |    31M |  25 | 262 | 359 | 294 | 149 |  3 | 135 | 697 | 1.080511e+02 | 1.100000e+02 |   1.80%|  84.96%\n",
      "\n",
      "SCIP Status        : problem is solved [optimal solution found]\n",
      "Solving Time (sec) : 4.07\n",
      "Solving Nodes      : 680\n",
      "Primal Bound       : +1.10000000000000e+02 (8 solutions)\n",
      "Dual Bound         : +1.10000000000000e+02\n",
      "Gap                : 0.00 %\n",
      "Opt.value= 110.0\n"
     ]
    }
   ],
   "source": [
    "n = 10\n",
    "m = 10\n",
    "p = make_data_permutation_flow_shop(n, m)\n",
    "\n",
    "model, x, s, f = permutation_flow_shop(n, m, p)\n",
    "model.optimize()\n",
    "print(\"Opt.value=\", model.getObjVal())"
   ]
  },
  {
   "cell_type": "code",
   "execution_count": null,
   "id": "Hstk",
   "metadata": {},
   "outputs": [],
   "source": []
  }
 ],
 "metadata": {},
 "nbformat": 4,
 "nbformat_minor": 5
}
