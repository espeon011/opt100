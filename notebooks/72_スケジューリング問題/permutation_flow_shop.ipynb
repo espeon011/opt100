{
 "cells": [
  {
   "cell_type": "code",
   "execution_count": null,
   "id": "Hbol",
   "metadata": {},
   "outputs": [],
   "source": [
    "import marimo as mo"
   ]
  },
  {
   "cell_type": "code",
   "execution_count": null,
   "id": "MJUe",
   "metadata": {},
   "outputs": [],
   "source": [
    "import random\n",
    "import pyscipopt as scip"
   ]
  },
  {
   "cell_type": "markdown",
   "id": "vblA",
   "metadata": {
    "marimo": {
     "config": {
      "hide_code": true
     }
    }
   },
   "source": [
    "# 順列フローショップ問題"
   ]
  },
  {
   "cell_type": "markdown",
   "id": "bkHC",
   "metadata": {
    "marimo": {
     "config": {
      "hide_code": true
     }
    }
   },
   "source": [
    "$n$ 個のジョブを $m$ 台のマシンで順番に処理する.\n",
    "各ジョブはマシン 1, マシン 2, ... で順に処理されマシン $m$ で処理されると完了になる.\n",
    "\n",
    "![](https://www.researchgate.net/profile/Mariusz-Makuchowski/publication/280775329/figure/fig1/AS:284468087672848@1444833885900/Schedules-of-the-different-variants-of-the-flow-shop-problem.png)"
   ]
  },
  {
   "cell_type": "markdown",
   "id": "lEQa",
   "metadata": {
    "marimo": {
     "config": {
      "hide_code": true
     }
    }
   },
   "source": [
    "## 位置データ定式化"
   ]
  },
  {
   "cell_type": "markdown",
   "id": "PKri",
   "metadata": {
    "marimo": {
     "config": {
      "hide_code": true
     }
    }
   },
   "source": [
    "## 定数\n",
    "\n",
    "- ジョブ: $J = \\{ 1, \\dots, n \\}$\n",
    "- マシン: $M = \\{ 1, \\dots, m \\}$\n",
    "- 処理時間: $p_{ij} \\ (\\forall i \\in M, \\forall j \\in J)$\n",
    "\n",
    "## 決定変数\n",
    "\n",
    "- $x_{j \\kappa} \\in \\{ 0, 1 \\}$: ジョブ $j$ を並べた時の順番が $\\kappa$ 番目であるとき $1$.\n",
    "- $s_{i \\kappa}$: マシン $i$ の $\\kappa$ 番目に並べられているジョブの開始時刻\n",
    "- $f_{i \\kappa}$: マシン $i$ の $\\kappa$ 番目に並べられているジョブの終了時刻"
   ]
  },
  {
   "cell_type": "markdown",
   "id": "Xref",
   "metadata": {
    "marimo": {
     "config": {
      "hide_code": true
     }
    }
   },
   "source": [
    "\\begin{align*}\n",
    "&\\text{minimize} &f_{mn} \\\\\n",
    "&\\text{s.t.} &\\sum_{\\kappa} x_{j \\kappa} &= 1 \\ &(\\forall j \\in J) \\\\\n",
    "& &\\sum_{j \\in J} x_{j \\kappa} &= 1 \\ &(\\forall \\kappa = 1, \\dots, n) \\\\\n",
    "& &f_{i \\kappa} &\\leq s_{i,\\kappa+1} \\ &(\\forall i \\in M, \\forall \\kappa = 1, \\dots, n-1) \\\\\n",
    "& &s_{i \\kappa} + \\sum_{j \\in J} p_{ij} x_{j \\kappa} &\\leq f_{i \\kappa} \\ &(\\forall i \\in M, \\forall \\kappa = 1, \\dots, n) \\\\\n",
    "& &f_{i \\kappa} &\\leq s_{i+1, \\kappa} \\ &(\\forall i \\in M \\setminus \\{m\\}, \\forall \\kappa = 1, \\dots, n) \\\\\n",
    "& &x_{j \\kappa} &\\in \\{ 0, 1 \\} \\ &(\\forall j \\in J, \\kappa = 1, \\dots, n) \\\\\n",
    "& &s_{i \\kappa} &\\geq 0 \\ &(\\forall i \\in M, \\kappa = 1, \\dots, n) \\\\\n",
    "& &f_{i \\kappa} &\\geq 0 \\ &(\\forall i \\in M, \\kappa = 1, \\dots, n) \\\\\n",
    "\\end{align*}"
   ]
  },
  {
   "cell_type": "markdown",
   "id": "SFPL",
   "metadata": {
    "marimo": {
     "config": {
      "hide_code": true
     }
    }
   },
   "source": [
    "## 実装"
   ]
  },
  {
   "cell_type": "code",
   "execution_count": null,
   "id": "BYtC",
   "metadata": {},
   "outputs": [],
   "source": [
    "def make_data_permutation_flow_shop(n, m):\n",
    "    \"\"\"make_data: prepare matrix of m times n random processing times\"\"\"\n",
    "    p = {}\n",
    "    for i in range(1, m + 1):\n",
    "        for j in range(1, n + 1):\n",
    "            p[i, j] = random.randint(1, 10)\n",
    "    return p"
   ]
  },
  {
   "cell_type": "code",
   "execution_count": null,
   "id": "RGSE",
   "metadata": {},
   "outputs": [],
   "source": [
    "def permutation_flow_shop(n, m, p):\n",
    "    \"\"\" permutation_flow_shop problem\n",
    "    Parameters:\n",
    "        - n: number of jobs\n",
    "        - m: number of machines\n",
    "        - p[i,j]: processing time of job i on machine j\n",
    "    Returns a model, ready to be solved.\n",
    "    \"\"\"\n",
    "    model = scip.Model(\"permutation flow shop\")\n",
    "    x, s, f = {}, {}, {}\n",
    "    for j in range(1, n + 1):\n",
    "        for k in range(1, n + 1):\n",
    "            x[j, k] = model.addVar(vtype=\"B\", name=\"x(%s,%s)\" % (j, k))\n",
    "\n",
    "    for i in range(1, m + 1):\n",
    "        for k in range(1, n + 1):\n",
    "            s[i, k] = model.addVar(vtype=\"C\", name=\"start(%s,%s)\" % (i, k))\n",
    "            f[i, k] = model.addVar(vtype=\"C\", name=\"finish(%s,%s)\" % (i, k))\n",
    "\n",
    "    for j in range(1, n + 1):\n",
    "        model.addCons(\n",
    "            scip.quicksum(x[j, k] for k in range(1, n + 1)) == 1, \"Assign1(%s)\" % (j)\n",
    "        )\n",
    "        model.addCons(\n",
    "            scip.quicksum(x[k, j] for k in range(1, n + 1)) == 1, \"Assign2(%s)\" % (j)\n",
    "        )\n",
    "\n",
    "    for i in range(1, m + 1):\n",
    "        for k in range(1, n + 1):\n",
    "            if k != n:\n",
    "                model.addCons(f[i, k] <= s[i, k + 1], \"FinishStart(%s,%s)\" % (i, k))\n",
    "            if i != m:\n",
    "                model.addCons(f[i, k] <= s[i + 1, k], \"Machine(%s,%s)\" % (i, k))\n",
    "\n",
    "            model.addCons(\n",
    "                s[i, k] + scip.quicksum(p[i, j] * x[j, k] for j in range(1, n + 1))\n",
    "                <= f[i, k],\n",
    "                \"StartFinish(%s,%s)\" % (i, k),\n",
    "            )\n",
    "\n",
    "    model.setObjective(f[m, n], sense=\"minimize\")\n",
    "\n",
    "    return model, x, s, f"
   ]
  },
  {
   "cell_type": "code",
   "execution_count": null,
   "id": "Kclp",
   "metadata": {},
   "outputs": [
    {
     "name": "stdout",
     "output_type": "stream",
     "text": [
      "presolving:\n",
      "(round 1, fast)       1 del vars, 0 del conss, 0 add conss, 1 chg bounds, 0 chg sides, 0 chg coeffs, 0 upgd conss, 0 impls, 20 clqs\n",
      "(round 2, fast)       3 del vars, 2 del conss, 0 add conss, 1 chg bounds, 0 chg sides, 0 chg coeffs, 0 upgd conss, 0 impls, 20 clqs\n",
      "(round 3, exhaustive) 5 del vars, 4 del conss, 0 add conss, 3 chg bounds, 0 chg sides, 0 chg coeffs, 0 upgd conss, 0 impls, 20 clqs\n",
      "(round 4, fast)       5 del vars, 4 del conss, 0 add conss, 6 chg bounds, 0 chg sides, 0 chg coeffs, 0 upgd conss, 0 impls, 20 clqs\n",
      "(round 5, fast)       7 del vars, 6 del conss, 0 add conss, 6 chg bounds, 0 chg sides, 0 chg coeffs, 0 upgd conss, 0 impls, 20 clqs\n",
      "(round 6, fast)       7 del vars, 6 del conss, 0 add conss, 9 chg bounds, 0 chg sides, 0 chg coeffs, 0 upgd conss, 0 impls, 20 clqs\n",
      "(round 7, fast)       9 del vars, 8 del conss, 0 add conss, 9 chg bounds, 0 chg sides, 0 chg coeffs, 0 upgd conss, 0 impls, 20 clqs\n",
      "(round 8, fast)       9 del vars, 8 del conss, 0 add conss, 13 chg bounds, 0 chg sides, 0 chg coeffs, 0 upgd conss, 0 impls, 20 clqs\n",
      "(round 9, fast)       11 del vars, 10 del conss, 0 add conss, 13 chg bounds, 0 chg sides, 0 chg coeffs, 0 upgd conss, 0 impls, 20 clqs\n",
      "(round 10, fast)       11 del vars, 10 del conss, 0 add conss, 17 chg bounds, 0 chg sides, 0 chg coeffs, 0 upgd conss, 0 impls, 20 clqs\n",
      "(round 11, fast)       13 del vars, 12 del conss, 0 add conss, 17 chg bounds, 0 chg sides, 0 chg coeffs, 0 upgd conss, 0 impls, 20 clqs\n",
      "(round 12, fast)       13 del vars, 12 del conss, 0 add conss, 22 chg bounds, 0 chg sides, 0 chg coeffs, 0 upgd conss, 0 impls, 20 clqs\n",
      "(round 13, fast)       15 del vars, 14 del conss, 0 add conss, 22 chg bounds, 0 chg sides, 0 chg coeffs, 0 upgd conss, 0 impls, 20 clqs\n",
      "(round 14, fast)       15 del vars, 14 del conss, 0 add conss, 27 chg bounds, 0 chg sides, 0 chg coeffs, 0 upgd conss, 0 impls, 20 clqs\n",
      "(round 15, fast)       17 del vars, 16 del conss, 0 add conss, 27 chg bounds, 0 chg sides, 0 chg coeffs, 0 upgd conss, 0 impls, 20 clqs\n",
      "(round 16, fast)       17 del vars, 16 del conss, 0 add conss, 33 chg bounds, 0 chg sides, 0 chg coeffs, 0 upgd conss, 0 impls, 20 clqs\n",
      "(round 17, fast)       21 del vars, 20 del conss, 0 add conss, 33 chg bounds, 0 chg sides, 0 chg coeffs, 0 upgd conss, 0 impls, 20 clqs\n",
      "(round 18, fast)       21 del vars, 20 del conss, 0 add conss, 37 chg bounds, 0 chg sides, 0 chg coeffs, 0 upgd conss, 0 impls, 20 clqs\n",
      "(round 19, fast)       21 del vars, 20 del conss, 0 add conss, 42 chg bounds, 0 chg sides, 0 chg coeffs, 0 upgd conss, 0 impls, 20 clqs\n",
      "(round 20, fast)       21 del vars, 20 del conss, 0 add conss, 47 chg bounds, 0 chg sides, 0 chg coeffs, 0 upgd conss, 0 impls, 20 clqs\n",
      "(round 21, fast)       21 del vars, 20 del conss, 0 add conss, 53 chg bounds, 0 chg sides, 0 chg coeffs, 0 upgd conss, 0 impls, 20 clqs\n",
      "(round 22, fast)       21 del vars, 20 del conss, 0 add conss, 59 chg bounds, 0 chg sides, 0 chg coeffs, 0 upgd conss, 0 impls, 20 clqs\n",
      "(round 23, fast)       21 del vars, 20 del conss, 0 add conss, 66 chg bounds, 0 chg sides, 0 chg coeffs, 0 upgd conss, 0 impls, 20 clqs\n",
      "(round 24, fast)       21 del vars, 20 del conss, 0 add conss, 73 chg bounds, 0 chg sides, 0 chg coeffs, 0 upgd conss, 0 impls, 20 clqs\n",
      "(round 25, fast)       21 del vars, 20 del conss, 0 add conss, 81 chg bounds, 0 chg sides, 0 chg coeffs, 0 upgd conss, 0 impls, 20 clqs\n",
      "(round 26, fast)       21 del vars, 20 del conss, 0 add conss, 89 chg bounds, 0 chg sides, 0 chg coeffs, 0 upgd conss, 0 impls, 20 clqs\n",
      "(round 27, fast)       21 del vars, 20 del conss, 0 add conss, 98 chg bounds, 0 chg sides, 0 chg coeffs, 0 upgd conss, 0 impls, 20 clqs\n",
      "(round 28, fast)       23 del vars, 22 del conss, 0 add conss, 98 chg bounds, 0 chg sides, 0 chg coeffs, 0 upgd conss, 0 impls, 20 clqs\n",
      "(round 29, fast)       23 del vars, 22 del conss, 0 add conss, 105 chg bounds, 0 chg sides, 0 chg coeffs, 0 upgd conss, 0 impls, 20 clqs\n",
      "(round 30, fast)       23 del vars, 22 del conss, 0 add conss, 113 chg bounds, 0 chg sides, 0 chg coeffs, 0 upgd conss, 0 impls, 20 clqs\n",
      "(round 31, fast)       25 del vars, 24 del conss, 0 add conss, 113 chg bounds, 0 chg sides, 0 chg coeffs, 0 upgd conss, 0 impls, 20 clqs\n",
      "(round 32, fast)       25 del vars, 24 del conss, 0 add conss, 119 chg bounds, 0 chg sides, 0 chg coeffs, 0 upgd conss, 0 impls, 20 clqs\n",
      "(round 33, fast)       25 del vars, 24 del conss, 0 add conss, 126 chg bounds, 0 chg sides, 0 chg coeffs, 0 upgd conss, 0 impls, 20 clqs\n",
      "(round 34, fast)       27 del vars, 26 del conss, 0 add conss, 126 chg bounds, 0 chg sides, 0 chg coeffs, 0 upgd conss, 0 impls, 20 clqs\n",
      "(round 35, fast)       27 del vars, 26 del conss, 0 add conss, 131 chg bounds, 0 chg sides, 0 chg coeffs, 0 upgd conss, 0 impls, 20 clqs\n",
      "(round 36, fast)       27 del vars, 26 del conss, 0 add conss, 137 chg bounds, 0 chg sides, 0 chg coeffs, 0 upgd conss, 0 impls, 20 clqs\n",
      "(round 37, fast)       29 del vars, 28 del conss, 0 add conss, 137 chg bounds, 0 chg sides, 0 chg coeffs, 0 upgd conss, 0 impls, 20 clqs\n",
      "(round 38, fast)       29 del vars, 28 del conss, 0 add conss, 141 chg bounds, 0 chg sides, 0 chg coeffs, 0 upgd conss, 0 impls, 20 clqs\n",
      "(round 39, fast)       29 del vars, 28 del conss, 0 add conss, 146 chg bounds, 0 chg sides, 0 chg coeffs, 0 upgd conss, 0 impls, 20 clqs\n",
      "(round 40, fast)       31 del vars, 30 del conss, 0 add conss, 146 chg bounds, 0 chg sides, 0 chg coeffs, 0 upgd conss, 0 impls, 20 clqs\n",
      "(round 41, fast)       31 del vars, 30 del conss, 0 add conss, 149 chg bounds, 0 chg sides, 0 chg coeffs, 0 upgd conss, 0 impls, 20 clqs\n",
      "(round 42, fast)       31 del vars, 30 del conss, 0 add conss, 153 chg bounds, 0 chg sides, 0 chg coeffs, 0 upgd conss, 0 impls, 20 clqs\n",
      "(round 43, fast)       33 del vars, 32 del conss, 0 add conss, 153 chg bounds, 0 chg sides, 0 chg coeffs, 0 upgd conss, 0 impls, 20 clqs\n",
      "(round 44, exhaustive) 33 del vars, 32 del conss, 0 add conss, 158 chg bounds, 0 chg sides, 0 chg coeffs, 0 upgd conss, 0 impls, 20 clqs\n",
      "(round 45, fast)       35 del vars, 34 del conss, 0 add conss, 158 chg bounds, 0 chg sides, 0 chg coeffs, 0 upgd conss, 0 impls, 20 clqs\n",
      "(round 46, exhaustive) 35 del vars, 34 del conss, 0 add conss, 161 chg bounds, 0 chg sides, 0 chg coeffs, 0 upgd conss, 0 impls, 20 clqs\n",
      "(round 47, fast)       37 del vars, 36 del conss, 0 add conss, 161 chg bounds, 0 chg sides, 0 chg coeffs, 0 upgd conss, 0 impls, 20 clqs\n",
      "(round 48, exhaustive) 38 del vars, 37 del conss, 0 add conss, 162 chg bounds, 0 chg sides, 0 chg coeffs, 0 upgd conss, 0 impls, 20 clqs\n",
      "(round 49, exhaustive) 38 del vars, 37 del conss, 0 add conss, 162 chg bounds, 0 chg sides, 0 chg coeffs, 20 upgd conss, 0 impls, 20 clqs\n",
      "   (0.0s) sparsify finished: 278/1675 (16.6%) nonzeros canceled - in total 278 canceled nonzeros, 990 changed coefficients, 0 added nonzeros\n",
      "(round 50, exhaustive) 38 del vars, 37 del conss, 0 add conss, 162 chg bounds, 0 chg sides, 990 chg coeffs, 20 upgd conss, 0 impls, 20 clqs\n",
      "(round 51, fast)       38 del vars, 37 del conss, 0 add conss, 208 chg bounds, 0 chg sides, 990 chg coeffs, 20 upgd conss, 0 impls, 20 clqs\n",
      "(round 52, fast)       38 del vars, 37 del conss, 0 add conss, 264 chg bounds, 0 chg sides, 990 chg coeffs, 20 upgd conss, 0 impls, 20 clqs\n",
      "(round 53, fast)       38 del vars, 37 del conss, 0 add conss, 317 chg bounds, 0 chg sides, 990 chg coeffs, 20 upgd conss, 0 impls, 20 clqs\n",
      "(round 54, fast)       38 del vars, 37 del conss, 0 add conss, 361 chg bounds, 0 chg sides, 990 chg coeffs, 20 upgd conss, 0 impls, 20 clqs\n",
      "(round 55, fast)       38 del vars, 37 del conss, 0 add conss, 400 chg bounds, 0 chg sides, 990 chg coeffs, 20 upgd conss, 0 impls, 20 clqs\n",
      "(round 56, fast)       38 del vars, 37 del conss, 0 add conss, 437 chg bounds, 0 chg sides, 990 chg coeffs, 20 upgd conss, 0 impls, 20 clqs\n",
      "(round 57, fast)       38 del vars, 37 del conss, 0 add conss, 464 chg bounds, 0 chg sides, 990 chg coeffs, 20 upgd conss, 0 impls, 20 clqs\n",
      "(round 58, fast)       38 del vars, 37 del conss, 0 add conss, 481 chg bounds, 0 chg sides, 990 chg coeffs, 20 upgd conss, 0 impls, 20 clqs\n",
      "(round 59, fast)       38 del vars, 37 del conss, 0 add conss, 495 chg bounds, 0 chg sides, 990 chg coeffs, 20 upgd conss, 0 impls, 20 clqs\n",
      "(round 60, fast)       38 del vars, 37 del conss, 0 add conss, 504 chg bounds, 0 chg sides, 990 chg coeffs, 20 upgd conss, 0 impls, 20 clqs\n",
      "(round 61, exhaustive) 38 del vars, 37 del conss, 0 add conss, 574 chg bounds, 0 chg sides, 990 chg coeffs, 20 upgd conss, 0 impls, 20 clqs\n",
      "(round 62, fast)       38 del vars, 37 del conss, 0 add conss, 635 chg bounds, 0 chg sides, 990 chg coeffs, 20 upgd conss, 0 impls, 20 clqs\n",
      "(round 63, fast)       38 del vars, 37 del conss, 0 add conss, 688 chg bounds, 0 chg sides, 990 chg coeffs, 20 upgd conss, 0 impls, 20 clqs\n",
      "(round 64, fast)       38 del vars, 37 del conss, 0 add conss, 737 chg bounds, 0 chg sides, 990 chg coeffs, 20 upgd conss, 0 impls, 20 clqs\n",
      "(round 65, fast)       38 del vars, 37 del conss, 0 add conss, 778 chg bounds, 0 chg sides, 990 chg coeffs, 20 upgd conss, 0 impls, 20 clqs\n",
      "(round 66, fast)       38 del vars, 37 del conss, 0 add conss, 821 chg bounds, 0 chg sides, 990 chg coeffs, 20 upgd conss, 0 impls, 20 clqs\n",
      "(round 67, fast)       38 del vars, 37 del conss, 0 add conss, 856 chg bounds, 0 chg sides, 990 chg coeffs, 20 upgd conss, 0 impls, 20 clqs\n",
      "(round 68, fast)       38 del vars, 37 del conss, 0 add conss, 894 chg bounds, 0 chg sides, 990 chg coeffs, 20 upgd conss, 0 impls, 20 clqs\n",
      "(round 69, fast)       38 del vars, 37 del conss, 0 add conss, 924 chg bounds, 0 chg sides, 990 chg coeffs, 20 upgd conss, 0 impls, 20 clqs\n",
      "(round 70, fast)       38 del vars, 37 del conss, 0 add conss, 955 chg bounds, 0 chg sides, 990 chg coeffs, 20 upgd conss, 0 impls, 20 clqs\n",
      "(round 71, fast)       38 del vars, 37 del conss, 0 add conss, 985 chg bounds, 0 chg sides, 990 chg coeffs, 20 upgd conss, 0 impls, 20 clqs\n",
      "(round 72, fast)       38 del vars, 37 del conss, 0 add conss, 1019 chg bounds, 0 chg sides, 990 chg coeffs, 20 upgd conss, 0 impls, 20 clqs\n",
      "(round 73, fast)       38 del vars, 37 del conss, 0 add conss, 1051 chg bounds, 0 chg sides, 990 chg coeffs, 20 upgd conss, 0 impls, 20 clqs\n",
      "(round 74, fast)       38 del vars, 37 del conss, 0 add conss, 1087 chg bounds, 0 chg sides, 990 chg coeffs, 20 upgd conss, 0 impls, 20 clqs\n",
      "(round 75, fast)       38 del vars, 37 del conss, 0 add conss, 1120 chg bounds, 0 chg sides, 990 chg coeffs, 20 upgd conss, 0 impls, 20 clqs\n",
      "(round 76, fast)       38 del vars, 37 del conss, 0 add conss, 1157 chg bounds, 0 chg sides, 990 chg coeffs, 20 upgd conss, 0 impls, 20 clqs\n",
      "(round 77, fast)       38 del vars, 37 del conss, 0 add conss, 1190 chg bounds, 0 chg sides, 990 chg coeffs, 20 upgd conss, 0 impls, 20 clqs\n",
      "(round 78, fast)       38 del vars, 37 del conss, 0 add conss, 1226 chg bounds, 0 chg sides, 990 chg coeffs, 20 upgd conss, 0 impls, 20 clqs\n",
      "(round 79, fast)       38 del vars, 37 del conss, 0 add conss, 1255 chg bounds, 0 chg sides, 990 chg coeffs, 20 upgd conss, 0 impls, 20 clqs\n",
      "(round 80, fast)       38 del vars, 37 del conss, 0 add conss, 1283 chg bounds, 0 chg sides, 990 chg coeffs, 20 upgd conss, 0 impls, 20 clqs\n",
      "(round 81, fast)       38 del vars, 37 del conss, 0 add conss, 1303 chg bounds, 0 chg sides, 990 chg coeffs, 20 upgd conss, 0 impls, 20 clqs\n",
      "(round 82, fast)       38 del vars, 37 del conss, 0 add conss, 1325 chg bounds, 0 chg sides, 990 chg coeffs, 20 upgd conss, 0 impls, 20 clqs\n",
      "(round 83, fast)       38 del vars, 37 del conss, 0 add conss, 1341 chg bounds, 0 chg sides, 990 chg coeffs, 20 upgd conss, 0 impls, 20 clqs\n",
      "(round 84, fast)       38 del vars, 37 del conss, 0 add conss, 1357 chg bounds, 0 chg sides, 990 chg coeffs, 20 upgd conss, 0 impls, 20 clqs\n",
      "(round 85, fast)       38 del vars, 37 del conss, 0 add conss, 1369 chg bounds, 0 chg sides, 990 chg coeffs, 20 upgd conss, 0 impls, 20 clqs\n",
      "(round 86, fast)       38 del vars, 37 del conss, 0 add conss, 1382 chg bounds, 0 chg sides, 990 chg coeffs, 20 upgd conss, 0 impls, 20 clqs\n",
      "(round 87, fast)       38 del vars, 37 del conss, 0 add conss, 1391 chg bounds, 0 chg sides, 990 chg coeffs, 20 upgd conss, 0 impls, 20 clqs\n",
      "(round 88, fast)       38 del vars, 37 del conss, 0 add conss, 1400 chg bounds, 0 chg sides, 990 chg coeffs, 20 upgd conss, 0 impls, 20 clqs\n",
      "(round 89, fast)       38 del vars, 37 del conss, 0 add conss, 1406 chg bounds, 0 chg sides, 990 chg coeffs, 20 upgd conss, 0 impls, 20 clqs\n",
      "(round 90, fast)       38 del vars, 37 del conss, 0 add conss, 1411 chg bounds, 0 chg sides, 990 chg coeffs, 20 upgd conss, 0 impls, 20 clqs\n",
      "(round 91, fast)       38 del vars, 37 del conss, 0 add conss, 1414 chg bounds, 0 chg sides, 990 chg coeffs, 20 upgd conss, 0 impls, 20 clqs\n",
      "(round 92, fast)       38 del vars, 37 del conss, 0 add conss, 1417 chg bounds, 0 chg sides, 990 chg coeffs, 20 upgd conss, 0 impls, 20 clqs\n",
      "   (0.0s) probing cycle finished: starting next cycle\n",
      "(round 93, exhaustive) 38 del vars, 37 del conss, 0 add conss, 1604 chg bounds, 0 chg sides, 990 chg coeffs, 20 upgd conss, 7813 impls, 20 clqs\n",
      "   (0.0s) probing cycle finished: starting next cycle\n",
      "(round 94, exhaustive) 38 del vars, 37 del conss, 0 add conss, 1628 chg bounds, 0 chg sides, 990 chg coeffs, 20 upgd conss, 7837 impls, 20 clqs\n",
      "   (0.0s) probing: 46/100 (46.0%) - 0 fixings, 0 aggregations, 7837 implications, 209 bound changes\n",
      "   (0.0s) probing aborted: 50/50 successive totally useless probings\n",
      "   (0.0s) dualsparsify: 2 nonzeros canceled\n",
      "(round 95, exhaustive) 38 del vars, 37 del conss, 0 add conss, 1628 chg bounds, 0 chg sides, 996 chg coeffs, 20 upgd conss, 7837 impls, 20 clqs\n",
      "(round 96, exhaustive) 38 del vars, 37 del conss, 0 add conss, 1634 chg bounds, 0 chg sides, 996 chg coeffs, 20 upgd conss, 7837 impls, 20 clqs\n",
      "   (0.0s) probing: 51/100 (51.0%) - 0 fixings, 0 aggregations, 7837 implications, 209 bound changes\n",
      "   (0.0s) probing aborted: 50/50 successive totally useless probings\n",
      "   (0.0s) symmetry computation started: requiring (bin +, int +, cont +), (fixed: bin -, int -, cont -)\n",
      "   (0.0s) no symmetry present (symcode time: 0.00)\n",
      "presolving (97 rounds: 97 fast, 12 medium, 12 exhaustive):\n",
      " 38 deleted vars, 37 deleted constraints, 0 added constraints, 1636 tightened bounds, 0 added holes, 0 changed sides, 996 changed coefficients\n",
      " 7837 implications, 20 cliques\n",
      "presolved problem has 262 variables (100 bin, 0 int, 0 impl, 162 cont) and 263 constraints\n",
      "     20 constraints of type <setppc>\n",
      "    243 constraints of type <linear>\n",
      "Presolving Time: 0.04\n",
      "\n",
      " time | node  | left  |LP iter|LP it/n|mem/heur|mdpt |vars |cons |rows |cuts |sepa|confs|strbr|  dualbound   | primalbound  |  gap   | compl. \n",
      "p 0.0s|     1 |     0 |    95 |     - |  clique|   0 | 262 | 263 | 263 |   0 |  0 |   0 |   0 | 0.000000e+00 | 1.510000e+02 |    Inf | unknown\n",
      "  0.1s|     1 |     0 |  1394 |     - |  4654k |   0 | 262 | 264 | 263 |   0 |  0 |   1 |   0 | 1.197477e+02 | 1.510000e+02 |  26.10%| unknown\n",
      "  0.1s|     1 |     0 |  1394 |     - |  4776k |   0 | 262 | 264 | 263 |   0 |  0 |   1 |   0 | 1.197477e+02 | 1.510000e+02 |  26.10%| unknown\n",
      "  0.1s|     1 |     0 |  1431 |     - |  5342k |   0 | 262 | 264 | 265 |   2 |  1 |   1 |   0 | 1.202639e+02 | 1.510000e+02 |  25.56%| unknown\n",
      "  0.1s|     1 |     0 |  1468 |     - |  6390k |   0 | 262 | 264 | 266 |   3 |  2 |   1 |   0 | 1.204004e+02 | 1.510000e+02 |  25.41%| unknown\n",
      "  0.1s|     1 |     0 |  1514 |     - |  7971k |   0 | 262 | 264 | 267 |   4 |  3 |   1 |   0 | 1.204775e+02 | 1.510000e+02 |  25.33%| unknown\n",
      "  0.1s|     1 |     0 |  1599 |     - |  8758k |   0 | 262 | 264 | 268 |   5 |  4 |   1 |   0 | 1.206393e+02 | 1.510000e+02 |  25.17%| unknown\n",
      "  0.2s|     1 |     0 |  1614 |     - |  9426k |   0 | 262 | 264 | 269 |   6 |  5 |   1 |   0 | 1.206721e+02 | 1.510000e+02 |  25.13%| unknown\n",
      "  0.2s|     1 |     0 |  1641 |     - |    10M |   0 | 262 | 265 | 270 |   7 |  6 |   2 |   0 | 1.207350e+02 | 1.510000e+02 |  25.07%| unknown\n",
      "  0.2s|     1 |     0 |  1708 |     - |    11M |   0 | 262 | 265 | 271 |   8 |  7 |   2 |   0 | 1.210032e+02 | 1.510000e+02 |  24.79%| unknown\n",
      "  0.3s|     1 |     0 |  1771 |     - |    12M |   0 | 262 | 265 | 272 |   9 |  8 |   2 |   0 | 1.210603e+02 | 1.510000e+02 |  24.73%| unknown\n",
      "  0.3s|     1 |     0 |  1829 |     - |    13M |   0 | 262 | 265 | 273 |  10 |  9 |   2 |   0 | 1.211015e+02 | 1.510000e+02 |  24.69%| unknown\n",
      "  0.3s|     1 |     0 |  1856 |     - |    15M |   0 | 262 | 266 | 274 |  11 | 10 |   3 |   0 | 1.211147e+02 | 1.510000e+02 |  24.68%| unknown\n",
      "  0.3s|     1 |     0 |  1877 |     - |    15M |   0 | 262 | 266 | 275 |  12 | 11 |   3 |   0 | 1.211217e+02 | 1.510000e+02 |  24.67%| unknown\n",
      "  0.4s|     1 |     0 |  1925 |     - |    15M |   0 | 262 | 266 | 276 |  13 | 12 |   3 |   0 | 1.211872e+02 | 1.510000e+02 |  24.60%| unknown\n",
      " time | node  | left  |LP iter|LP it/n|mem/heur|mdpt |vars |cons |rows |cuts |sepa|confs|strbr|  dualbound   | primalbound  |  gap   | compl. \n",
      "  0.4s|     1 |     0 |  1926 |     - |    15M |   0 | 262 | 267 | 277 |  14 | 13 |   4 |   0 | 1.211872e+02 | 1.510000e+02 |  24.60%| unknown\n",
      "  0.4s|     1 |     0 |  1965 |     - |    15M |   0 | 262 | 267 | 278 |  15 | 14 |   4 |   0 | 1.211951e+02 | 1.510000e+02 |  24.59%| unknown\n",
      "  0.5s|     1 |     0 |  1993 |     - |    15M |   0 | 262 | 268 | 277 |  16 | 15 |   5 |   0 | 1.212004e+02 | 1.510000e+02 |  24.59%| unknown\n",
      "  0.5s|     1 |     0 |  1994 |     - |    15M |   0 | 262 | 268 | 278 |  17 | 16 |   5 |   0 | 1.212004e+02 | 1.510000e+02 |  24.59%| unknown\n",
      "  0.5s|     1 |     0 |  1996 |     - |    15M |   0 | 262 | 268 | 279 |  18 | 17 |   5 |   0 | 1.212004e+02 | 1.510000e+02 |  24.59%| unknown\n",
      "  0.6s|     1 |     0 |  1999 |     - |    15M |   0 | 262 | 268 | 280 |  19 | 18 |   5 |   0 | 1.212004e+02 | 1.510000e+02 |  24.59%| unknown\n",
      "r 0.6s|     1 |     0 |  2172 |     - |intshift|   0 | 262 | 268 | 280 |  19 | 19 |   5 |   0 | 1.212004e+02 | 1.470000e+02 |  21.29%| unknown\n",
      "d 0.6s|     1 |     0 |  2902 |     - |farkasdi|   0 | 262 | 268 | 280 |   0 | 19 |   5 |   0 | 1.212004e+02 | 1.330000e+02 |   9.74%| unknown\n",
      "  0.7s|     1 |     0 |  4062 |     - |    15M |   0 | 262 | 269 | 280 |  19 | 19 |   8 |   0 | 1.212004e+02 | 1.330000e+02 |   9.74%| unknown\n",
      "  0.7s|     1 |     0 |  4062 |     - |    15M |   0 | 262 | 270 | 280 |  19 | 20 |   9 |   5 | 1.212593e+02 | 1.330000e+02 |   9.68%| unknown\n",
      "  0.8s|     1 |     0 |  4062 |     - |    15M |   0 | 262 | 270 | 280 |  19 | 21 |   9 |  12 | 1.212593e+02 | 1.330000e+02 |   9.68%| unknown\n",
      "  0.9s|     1 |     0 |  4062 |     - |    15M |   0 | 262 | 270 | 280 |  19 | 22 |   9 |  17 | 1.212990e+02 | 1.330000e+02 |   9.65%| unknown\n",
      "  1.0s|     1 |     0 |  4062 |     - |    15M |   0 | 262 | 270 | 280 |  19 | 23 |   9 |  28 | 1.212990e+02 | 1.330000e+02 |   9.65%| unknown\n",
      "  1.1s|     1 |     0 |  4062 |     - |    15M |   0 | 262 | 270 | 280 |  19 | 24 |   9 |  30 | 1.212990e+02 | 1.330000e+02 |   9.65%| unknown\n",
      "  1.2s|     1 |     0 |  4062 |     - |    15M |   0 | 262 | 270 | 280 |  19 | 25 |   9 |  49 | 1.212990e+02 | 1.330000e+02 |   9.65%| unknown\n",
      " time | node  | left  |LP iter|LP it/n|mem/heur|mdpt |vars |cons |rows |cuts |sepa|confs|strbr|  dualbound   | primalbound  |  gap   | compl. \n",
      "  1.3s|     1 |     0 |  4062 |     - |    15M |   0 | 262 | 270 | 280 |  19 | 26 |   9 |  55 | 1.212990e+02 | 1.330000e+02 |   9.65%| unknown\n",
      "  1.3s|     1 |     2 |  4062 |     - |    15M |   0 | 262 | 270 | 280 |  19 | 27 |   9 |  55 | 1.212990e+02 | 1.330000e+02 |   9.65%| unknown\n",
      "* 2.4s|    62 |    24 |  7652 |  94.8 |strongbr|  14 | 262 | 299 | 274 |  44 |  1 |  43 | 375 | 1.213523e+02 | 1.310000e+02 |   7.95%|  12.33%\n",
      "* 2.7s|    95 |    27 |  9375 |  79.8 |strongbr|  16 | 262 | 304 | 274 |  67 |  1 |  49 | 442 | 1.213523e+02 | 1.300000e+02 |   7.13%|  12.78%\n",
      "  2.7s|   100 |    30 |  9797 |  80.1 |    25M |  16 | 262 | 304 | 279 |  74 |  0 |  49 | 449 | 1.213523e+02 | 1.300000e+02 |   7.13%|  12.93%\n",
      "  3.2s|   200 |    48 | 16804 |  75.0 |    28M |  21 | 262 | 317 |   0 | 125 |  0 |  66 | 525 | 1.221415e+02 | 1.300000e+02 |   6.43%|  15.29%\n",
      "  3.6s|   300 |    62 | 21321 |  65.0 |    33M |  26 | 262 | 317 | 279 | 157 |  1 |  71 | 551 | 1.240667e+02 | 1.300000e+02 |   4.78%|  18.54%\n",
      "  3.8s|   400 |    64 | 26345 |  61.3 |    35M |  26 | 262 | 321 |   0 | 191 |  0 |  79 | 559 | 1.240836e+02 | 1.300000e+02 |   4.77%|  36.43%\n",
      "  3.9s|   500 |    60 | 30781 |  57.9 |    35M |  26 | 262 | 330 | 279 | 210 |  0 |  88 | 566 | 1.267692e+02 | 1.300000e+02 |   2.55%|  56.83%\n",
      "  4.1s|   600 |    64 | 35128 |  55.5 |    37M |  26 | 262 | 333 |   0 | 242 |  0 |  94 | 568 | 1.280000e+02 | 1.300000e+02 |   1.56%|  69.54%\n",
      "  4.3s|   700 |    65 | 38827 |  52.9 |    38M |  26 | 262 | 335 | 282 | 300 |  1 |  98 | 568 | 1.280000e+02 | 1.300000e+02 |   1.56%|  83.73%\n",
      "  4.6s|   800 |    85 | 44072 |  52.8 |    39M |  26 | 262 | 342 | 286 | 451 |  0 | 107 | 568 | 1.285000e+02 | 1.300000e+02 |   1.17%|  86.92%\n",
      "  4.7s|   900 |    72 | 46453 |  49.6 |    39M |  26 | 262 | 346 | 281 | 503 |  0 | 115 | 570 | 1.289233e+02 | 1.300000e+02 |   0.84%|  90.16%\n",
      "  4.9s|  1000 |    66 | 48643 |  46.8 |    40M |  26 | 262 | 347 | 280 | 556 |  2 | 119 | 571 | 1.290000e+02 | 1.300000e+02 |   0.78%|  91.04%\n",
      "  5.2s|  1100 |    64 | 51047 |  44.7 |    41M |  26 | 262 | 350 | 282 | 578 |  0 | 131 | 573 | 1.290000e+02 | 1.300000e+02 |   0.78%|  92.54%\n",
      " time | node  | left  |LP iter|LP it/n|mem/heur|mdpt |vars |cons |rows |cuts |sepa|confs|strbr|  dualbound   | primalbound  |  gap   | compl. \n",
      "  5.3s|  1200 |    55 | 53019 |  42.7 |    41M |  26 | 262 | 350 | 282 | 608 |  0 | 134 | 574 | 1.290000e+02 | 1.300000e+02 |   0.78%|  92.78%\n",
      "  5.4s|  1300 |    34 | 55959 |  41.6 |    41M |  26 | 262 | 360 | 281 | 623 |  0 | 150 | 575 | 1.290000e+02 | 1.300000e+02 |   0.78%|  95.88%\n",
      "  5.5s|  1400 |    18 | 57660 |  39.9 |    42M |  26 | 262 | 367 | 285 | 633 |  0 | 160 | 576 | 1.292516e+02 | 1.300000e+02 |   0.58%|  97.69%\n",
      "\n",
      "SCIP Status        : problem is solved [optimal solution found]\n",
      "Solving Time (sec) : 5.54\n",
      "Solving Nodes      : 1438\n",
      "Primal Bound       : +1.30000000000000e+02 (7 solutions)\n",
      "Dual Bound         : +1.30000000000000e+02\n",
      "Gap                : 0.00 %\n",
      "Opt.value= 130.0\n"
     ]
    }
   ],
   "source": [
    "n = 10\n",
    "m = 10\n",
    "p = make_data_permutation_flow_shop(n, m)\n",
    "\n",
    "model, x, s, f = permutation_flow_shop(n, m, p)\n",
    "model.optimize()\n",
    "print(\"Opt.value=\", model.getObjVal())"
   ]
  },
  {
   "cell_type": "code",
   "execution_count": null,
   "id": "emfo",
   "metadata": {},
   "outputs": [],
   "source": []
  }
 ],
 "metadata": {},
 "nbformat": 4,
 "nbformat_minor": 5
}
