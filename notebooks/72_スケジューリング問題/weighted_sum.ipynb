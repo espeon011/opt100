{
 "cells": [
  {
   "cell_type": "code",
   "execution_count": null,
   "id": "Hbol",
   "metadata": {},
   "outputs": [],
   "source": [
    "import marimo as mo"
   ]
  },
  {
   "cell_type": "code",
   "execution_count": null,
   "id": "MJUe",
   "metadata": {},
   "outputs": [],
   "source": [
    "import random\n",
    "import pyscipopt as scip\n",
    "from ortools.sat.python import cp_model"
   ]
  },
  {
   "cell_type": "markdown",
   "id": "vblA",
   "metadata": {
    "marimo": {
     "config": {
      "hide_code": true
     }
    }
   },
   "source": [
    "# 1 機械リリース時刻付き重み付き完了時刻和最小化問題"
   ]
  },
  {
   "cell_type": "markdown",
   "id": "bkHC",
   "metadata": {
    "marimo": {
     "config": {
      "hide_code": true
     }
    }
   },
   "source": [
    "- 機械: 1 つだけ\n",
    "- ジョブ $J = \\{ 1, \\dots, n \\}$\n",
    "- 各ジョブの処理時間: $p_j \\ (\\forall j \\in J)$\n",
    "- 各ジョブの重要度: $w_j \\ (\\forall j \\in J)$\n",
    "- 各ジョブのリリース時刻: $r_j \\ (\\forall j \\in J)$\n",
    "- 各ジョブの処理完了時刻: $C_j \\ (\\forall j \\in J)$\n",
    "\n",
    "$C_j$ の重み付き和を最小化する."
   ]
  },
  {
   "cell_type": "markdown",
   "id": "lEQa",
   "metadata": {
    "marimo": {
     "config": {
      "hide_code": true
     }
    }
   },
   "source": [
    "## 離接定式化(Disjunctive formulation)"
   ]
  },
  {
   "cell_type": "markdown",
   "id": "PKri",
   "metadata": {
    "marimo": {
     "config": {
      "hide_code": true
     }
    }
   },
   "source": [
    "$M$ を大きな定数として\n",
    "\n",
    "\\begin{align*}\n",
    "&\\text{minimize} &\\sum_{j=1}^n w_j s_j + \\sum_{j=1}^n w_j p_j \\\\\n",
    "&\\text{s.t.} &s_j + p_j - M (1 - x_{jk}) &\\leq s_k \\ &(\\forall j \\neq k) \\\\\n",
    "& &x_{jk} + x_{kj} &= 1 \\ &(\\forall j < k) \\\\\n",
    "& &s_j &\\geq r_j \\ &(\\forall j \\in J) \\\\\n",
    "& &x_{jk} &\\in \\{0, 1\\} \\ &(\\forall j \\neq k)\n",
    "\\end{align*}\n",
    "\n",
    "- 決定変数\n",
    "    - $s_j$: ジョブ $j$ の開始時刻\n",
    "    - $x_{jk}$: ジョブ $j$ がジョブ $k$ に先行するとき $1$\n",
    "- 補足\n",
    "    - 目的関数の第 2 項目は定数であるため第 1 項だけを最小化すればよい"
   ]
  },
  {
   "cell_type": "markdown",
   "id": "Xref",
   "metadata": {
    "marimo": {
     "config": {
      "hide_code": true
     }
    }
   },
   "source": [
    "## 実装"
   ]
  },
  {
   "cell_type": "code",
   "execution_count": null,
   "id": "SFPL",
   "metadata": {},
   "outputs": [],
   "source": [
    "def make_data(n):\n",
    "    \"\"\"\n",
    "    Data generator for the one machine scheduling problem.\n",
    "    \"\"\"\n",
    "\n",
    "    random.seed(0)\n",
    "    p, r, d, w = {}, {}, {}, {}\n",
    "\n",
    "    J = range(1, n + 1)\n",
    "\n",
    "    for j in J:\n",
    "        p[j] = random.randint(1, 4)\n",
    "        w[j] = random.randint(1, 3)\n",
    "\n",
    "    T = sum(p)\n",
    "    for j in J:\n",
    "        r[j] = random.randint(0, 5)\n",
    "        d[j] = r[j] + random.randint(0, 5)\n",
    "\n",
    "    return J, p, r, d, w"
   ]
  },
  {
   "cell_type": "code",
   "execution_count": null,
   "id": "BYtC",
   "metadata": {},
   "outputs": [],
   "source": [
    "class ModelDisjunctiveScip:\n",
    "    def __init__(self, J, p, r, w):\n",
    "        self.J = J\n",
    "        self.p = p\n",
    "        self.r = r\n",
    "        self.w = w\n",
    "\n",
    "        self.scip = scip.Model(\"scheduling: disjunctive\")\n",
    "\n",
    "        # Big M\n",
    "        M = max(self.r.values()) + sum(self.p.values())\n",
    "\n",
    "        # start time variable, x[j,k] = 1 if job j precedes job k, 0 otherwise\n",
    "        self.x = {}\n",
    "        self.s = {}\n",
    "\n",
    "        ub = sum(self.p[j] for j in self.J)\n",
    "        for j in self.J:\n",
    "            self.s[j] = self.scip.addVar(lb=r[j], ub=ub, vtype=\"C\", name=f\"s[{j}]\")\n",
    "            for k in self.J:\n",
    "                if j != k:\n",
    "                    self.x[j, k] = self.scip.addVar(vtype=\"B\", name=f\"x[{j},{k}]\")\n",
    "\n",
    "        for j in self.J:\n",
    "            for k in self.J:\n",
    "                if j != k:\n",
    "                    self.scip.addCons(\n",
    "                        self.s[j] - self.s[k] + M * self.x[j, k] <= (M - self.p[j]), f\"Bound[{j},{k}]\"\n",
    "                    )\n",
    "\n",
    "                if j < k:\n",
    "                    self.scip.addCons(self.x[j, k] + self.x[k, j] == 1, f\"Disjunctive[{j},{k}]\")\n",
    "\n",
    "        self.scip.setObjective(scip.quicksum(self.w[_j] * self.s[_j] for _j in self.J), sense=\"minimize\")\n",
    "\n",
    "    def solve(self) -> None:\n",
    "        self.scip.optimize()\n",
    "\n",
    "    def get_z(self):\n",
    "        return self.scip.getObjVal() + sum([self.w[_j] * self.p[_j] for _j in self.J])\n",
    "\n",
    "    def get_seq(self):\n",
    "        return [_j for (_t, _j) in sorted([(int(self.scip.getVal(self.s[_j]) + 0.5), _j) for _j in self.s])]"
   ]
  },
  {
   "cell_type": "code",
   "execution_count": null,
   "id": "RGSE",
   "metadata": {},
   "outputs": [],
   "source": [
    "class _MyInterval:\n",
    "    # [start, end)\n",
    "    def __init__(self, scip: scip.Model, lb: int, ub: int, size: int):\n",
    "        self.lb = lb\n",
    "        self.ub = ub\n",
    "        self.size = size\n",
    "        self.start = scip.addVar(lb=self.lb, ub=self.ub - self.size, vtype='C')\n",
    "        self.end = self.start + self.size\n",
    "\n",
    "def _my_add_no_overlap(scip: scip.Model, jobs: dict[int, _MyInterval]):\n",
    "    if len(jobs) == 0:\n",
    "        return\n",
    "    for _j1 in jobs.keys():\n",
    "        for _j2 in jobs.keys():\n",
    "            if _j2 <= _j1:\n",
    "                continue\n",
    "            big_m = max(jobs[_j1].ub - jobs[_j2].lb, jobs[_j2].ub - jobs[_j1].lb)\n",
    "            tmp1 = scip.addVar(vtype='B')\n",
    "            scip.addCons(\n",
    "                jobs[_j1].end <= jobs[_j2].start + big_m * (1 - tmp1)\n",
    "            )\n",
    "            tmp2 = scip.addVar(vtype='B')\n",
    "            scip.addCons(\n",
    "                jobs[_j2].end <= jobs[_j1].start + big_m * (1 - tmp2)\n",
    "            )\n",
    "            scip.addCons(tmp1 + tmp2 >= 1)\n",
    "\n",
    "class ModelIntervalScip:\n",
    "    def __init__(self, J, p, r, w):\n",
    "        self.J = J\n",
    "        self.p = p\n",
    "        self.r = r\n",
    "        self.w = w\n",
    "\n",
    "        self.scip = scip.Model(\"scheduling: disjunctive\")\n",
    "\n",
    "        ub = sum(p[_j] for _j in J)\n",
    "        self.jobs = {_j: _MyInterval(self.scip, self.r[_j], ub, self.p[_j]) for _j in self.J}\n",
    "        _my_add_no_overlap(self.scip, self.jobs)\n",
    "\n",
    "        self.scip.setObjective(scip.quicksum(self.w[_j] * self.jobs[_j].start for _j in self.J), sense=\"minimize\")\n",
    "\n",
    "    def solve(self) -> None:\n",
    "            self.scip.optimize()\n",
    "\n",
    "    def get_z(self):\n",
    "        return self.scip.getObjVal() + sum([self.w[_j] * self.p[_j] for _j in self.J])\n",
    "\n",
    "    def get_seq(self):\n",
    "        return [_j for (_t, _j) in sorted([(int(self.scip.getVal(self.jobs[_j].start) + 0.5), _j) for _j in self.jobs])]"
   ]
  },
  {
   "cell_type": "code",
   "execution_count": null,
   "id": "Kclp",
   "metadata": {},
   "outputs": [],
   "source": [
    "class ModelDisjunctiveCpSat:\n",
    "    def __init__(self, J, p, r, w):\n",
    "        self.J = J\n",
    "        self.p = p\n",
    "        self.r = r\n",
    "        self.w = w\n",
    "\n",
    "        self.cp = cp_model.CpModel()\n",
    "        self.solver = cp_model.CpSolver()\n",
    "\n",
    "        # Big M\n",
    "        M = max(r.values()) + sum(p.values())\n",
    "\n",
    "        # start time variable, x[j,k] = 1 if job j precedes job k, 0 otherwise\n",
    "        self.x = {}\n",
    "        self.s = {}\n",
    "\n",
    "        ub = sum(p[j] for j in J)\n",
    "        for j in J:\n",
    "            self.s[j] = self.cp.new_int_var(lb=r[j], ub=ub, name=f\"s[{j}]\")\n",
    "            for k in J:\n",
    "                if j != k:\n",
    "                    self.x[j, k] = self.cp.new_bool_var(name=f\"x[{j},{k}]\")\n",
    "\n",
    "        for j in J:\n",
    "            for k in J:\n",
    "                if j != k:\n",
    "                    self.cp.add(self.s[j] - self.s[k] + M * self.x[j, k] <= (M - p[j]))\n",
    "\n",
    "                if j < k:\n",
    "                    self.cp.add(self.x[j, k] + self.x[k, j] == 1)\n",
    "\n",
    "        self.cp.minimize(sum(self.w[j] * self.s[j] for j in J))\n",
    "\n",
    "    def solve(self) -> None:\n",
    "        self.solver.parameters.log_search_progress = True\n",
    "        self.solver.solve(self.cp)\n",
    "\n",
    "    def get_z(self):\n",
    "        return self.solver.objective_value + sum([self.w[_j] * self.p[_j] for _j in self.J])\n",
    "\n",
    "    def get_seq(self):\n",
    "        return [_j for (_t, _j) in sorted([(int(self.solver.value(self.s[_j]) + 0.5), _j) for _j in self.s])]"
   ]
  },
  {
   "cell_type": "code",
   "execution_count": null,
   "id": "emfo",
   "metadata": {},
   "outputs": [],
   "source": [
    "class ModelIntervalCpSat:\n",
    "    def __init__(self, J, p, r, w):\n",
    "        self.J = J\n",
    "        self.p = p\n",
    "        self.r = r\n",
    "        self.w = w\n",
    "\n",
    "        self.cp = cp_model.CpModel()\n",
    "        self.solver = cp_model.CpSolver()\n",
    "\n",
    "        ub = sum(p[_j] for _j in J)\n",
    "        s = {_j: self.cp.new_int_var(lb=self.r[_j], ub=ub, name=f\"s[{_j}]\") for _j in self.J}\n",
    "        self.jobs = {_j: self.cp.new_fixed_size_interval_var(s[_j], self.p[_j], f\"jobs[{_j}]\") for _j in self.J}\n",
    "        self.cp.add_no_overlap(self.jobs.values())\n",
    "\n",
    "        self.cp.minimize(sum(self.w[_j] * self.jobs[_j].start_expr() for _j in J))\n",
    "\n",
    "    def solve(self) -> None:\n",
    "        self.solver.parameters.log_search_progress = True\n",
    "        self.solver.solve(self.cp)\n",
    "\n",
    "    def get_z(self):\n",
    "        return self.solver.objective_value + sum([self.w[_j] * self.p[_j] for _j in self.J])\n",
    "\n",
    "    def get_seq(self):\n",
    "        return [_j for (_t, _j) in sorted([(self.solver.value(self.jobs[_j].start_expr()), _j) for _j in self.jobs])]"
   ]
  },
  {
   "cell_type": "code",
   "execution_count": null,
   "id": "Hstk",
   "metadata": {},
   "outputs": [],
   "source": [
    "n = 30\n",
    "J, p, r, d, w = make_data(n)"
   ]
  },
  {
   "cell_type": "code",
   "execution_count": null,
   "id": "nWHF",
   "metadata": {
    "marimo": {
     "config": {
      "hide_code": true
     }
    }
   },
   "outputs": [
    {
     "data": {
      "text/markdown": [
       "&lt;marimo-button data-initial-value=&#x27;0&#x27; data-label=&#x27;&amp;quot;&amp;lt;span class=&amp;#92;&amp;quot;markdown prose dark:prose-invert&amp;#92;&amp;quot;&amp;gt;&amp;lt;span class=&amp;#92;&amp;quot;paragraph&amp;#92;&amp;quot;&amp;gt;Run&amp;lt;/span&amp;gt;&amp;lt;/span&amp;gt;&amp;quot;&#x27; data-kind=&#x27;&amp;quot;neutral&amp;quot;&#x27; data-disabled=&#x27;false&#x27; data-full-width=&#x27;true&#x27;&gt;&lt;/marimo-button&gt;"
      ]
     },
     "metadata": {},
     "output_type": "display_data"
    }
   ],
   "source": [
    "run_scip_disj = mo.ui.run_button(label=\"Run\", full_width=True)\n",
    "run_scip_disj"
   ]
  },
  {
   "cell_type": "code",
   "execution_count": null,
   "id": "iLit",
   "metadata": {},
   "outputs": [],
   "source": [
    "if run_scip_disj.value:\n",
    "    _model = ModelDisjunctiveScip(J, p, r, w)\n",
    "    with mo.redirect_stderr():\n",
    "        _model.solve()\n",
    "\n",
    "    _z = _model.get_z()\n",
    "    _seq = _model.get_seq()\n",
    "    mo.md(f\"\"\"\n",
    "    - Opt.value by Disjunctive Formulation: {_z}\n",
    "    - Solution: {_seq}\n",
    "    \"\"\")"
   ]
  },
  {
   "cell_type": "code",
   "execution_count": null,
   "id": "ZHCJ",
   "metadata": {
    "marimo": {
     "config": {
      "hide_code": true
     }
    }
   },
   "outputs": [
    {
     "data": {
      "text/markdown": [
       "&lt;marimo-button data-initial-value=&#x27;0&#x27; data-label=&#x27;&amp;quot;&amp;lt;span class=&amp;#92;&amp;quot;markdown prose dark:prose-invert&amp;#92;&amp;quot;&amp;gt;&amp;lt;span class=&amp;#92;&amp;quot;paragraph&amp;#92;&amp;quot;&amp;gt;Run&amp;lt;/span&amp;gt;&amp;lt;/span&amp;gt;&amp;quot;&#x27; data-kind=&#x27;&amp;quot;neutral&amp;quot;&#x27; data-disabled=&#x27;false&#x27; data-full-width=&#x27;true&#x27;&gt;&lt;/marimo-button&gt;"
      ]
     },
     "metadata": {},
     "output_type": "display_data"
    }
   ],
   "source": [
    "run_scip_interval = mo.ui.run_button(label=\"Run\", full_width=True)\n",
    "run_scip_interval"
   ]
  },
  {
   "cell_type": "code",
   "execution_count": null,
   "id": "ROlb",
   "metadata": {},
   "outputs": [],
   "source": [
    "if run_scip_interval.value:\n",
    "    _model = ModelIntervalScip(J, p, r, w)\n",
    "    with mo.redirect_stderr():\n",
    "        _model.solve()\n",
    "\n",
    "    _z = _model.get_z()\n",
    "    _seq = _model.get_seq()\n",
    "    mo.md(f\"\"\"\n",
    "    - Optimal value: {_z}\n",
    "    - Solution: {_seq}\n",
    "    \"\"\")"
   ]
  },
  {
   "cell_type": "code",
   "execution_count": null,
   "id": "qnkX",
   "metadata": {},
   "outputs": [
    {
     "name": "stdout",
     "output_type": "stream",
     "text": [
      "\n",
      "Starting CP-SAT solver v9.12.4544\n",
      "Parameters: log_search_progress: true\n",
      "Setting number of workers to 12\n",
      "\n",
      "Initial optimization model '': (model_fingerprint: 0x89d2d6e0295b344b)\n",
      "#Variables: 900 (#ints: 30 in objective)\n",
      "  - 870 Booleans in [0,1]\n",
      "  - 5 in [0,74]\n",
      "  - 4 in [1,74]\n",
      "  - 9 in [2,74]\n",
      "  - 4 in [3,74]\n",
      "  - 2 in [4,74]\n",
      "  - 6 in [5,74]\n",
      "#kLinear2: 435\n",
      "#kLinear3: 870\n",
      "\n",
      "Starting presolve at 0.00s\n",
      "  1.42e-04s  0.00e+00d  [DetectDominanceRelations] \n",
      "  2.88e-03s  0.00e+00d  [PresolveToFixPoint] #num_loops=2 #num_dual_strengthening=1 \n",
      "  8.25e-06s  0.00e+00d  [ExtractEncodingFromLinear] \n",
      "  2.79e-05s  0.00e+00d  [DetectDuplicateColumns] \n",
      "  1.33e-04s  0.00e+00d  [DetectDuplicateConstraints] \n",
      "[Symmetry] Graph for symmetry has 2'234 nodes and 3'074 arcs.\n",
      "[Symmetry] Symmetry computation done. time: 0.00020009 dtime: 0.00044344\n",
      "  1.38e-04s  0.00e+00d  [DetectDuplicateConstraintsWithDifferentEnforcements] \n",
      "  2.40e-03s  5.07e-04d  [Probe] #probed=1'740 \n",
      "  4.32e-06s  0.00e+00d  [MaxClique] \n",
      "  1.32e-04s  0.00e+00d  [DetectDominanceRelations] \n",
      "  9.39e-04s  0.00e+00d  [PresolveToFixPoint] #num_loops=1 #num_dual_strengthening=1 \n",
      "  9.94e-05s  0.00e+00d  [ProcessAtMostOneAndLinear] \n",
      "  1.33e-04s  0.00e+00d  [DetectDuplicateConstraints] \n",
      "  1.16e-04s  0.00e+00d  [DetectDuplicateConstraintsWithDifferentEnforcements] \n",
      "  4.23e-06s  0.00e+00d  [DetectDominatedLinearConstraints] \n",
      "  2.44e-04s  0.00e+00d  [DetectDifferentVariables] #different=435 #cliques=1 #size=30 \n",
      "  5.44e-06s  0.00e+00d  [ProcessSetPPC] \n",
      "  5.85e-06s  0.00e+00d  [FindAlmostIdenticalLinearConstraints] \n",
      "  2.38e-05s  0.00e+00d  [FindBigAtMostOneAndLinearOverlap] \n",
      "  1.15e-04s  6.99e-05d  [FindBigVerticalLinearOverlap] \n",
      "  4.31e-06s  0.00e+00d  [FindBigHorizontalLinearOverlap] \n",
      "  2.85e-06s  0.00e+00d  [MergeClauses] \n",
      "  1.39e-04s  0.00e+00d  [DetectDominanceRelations] \n",
      "  9.61e-04s  0.00e+00d  [PresolveToFixPoint] #num_loops=1 #num_dual_strengthening=1 \n"
     ]
    },
    {
     "name": "stdout",
     "output_type": "stream",
     "text": [
      "  1.37e-04s  0.00e+00d  [DetectDominanceRelations] \n",
      "  9.39e-04s  0.00e+00d  [PresolveToFixPoint] #num_loops=1 #num_dual_strengthening=1 \n",
      "  2.19e-05s  0.00e+00d  [DetectDuplicateColumns] \n",
      "  1.35e-04s  0.00e+00d  [DetectDuplicateConstraints] \n",
      "[Symmetry] Graph for symmetry has 2'265 nodes and 3'134 arcs.\n",
      "[Symmetry] Symmetry computation done. time: 0.00020016 dtime: 0.00044797\n",
      "  1.45e-04s  0.00e+00d  [DetectDuplicateConstraintsWithDifferentEnforcements] \n",
      "  6.21e-03s  6.03e-04d  [Probe] #probed=1'740 \n",
      "  2.56e-06s  0.00e+00d  [MaxClique] \n",
      "  1.40e-04s  0.00e+00d  [DetectDominanceRelations] \n",
      "  9.54e-04s  0.00e+00d  [PresolveToFixPoint] #num_loops=1 #num_dual_strengthening=1 \n",
      "  9.84e-05s  0.00e+00d  [ProcessAtMostOneAndLinear] \n",
      "  1.34e-04s  0.00e+00d  [DetectDuplicateConstraints] \n",
      "  1.18e-04s  0.00e+00d  [DetectDuplicateConstraintsWithDifferentEnforcements] \n",
      "  4.25e-06s  0.00e+00d  [DetectDominatedLinearConstraints] \n",
      "  1.19e-04s  0.00e+00d  [DetectDifferentVariables] \n",
      "  4.60e-06s  0.00e+00d  [ProcessSetPPC] \n",
      "  5.11e-06s  0.00e+00d  [FindAlmostIdenticalLinearConstraints] \n",
      "  2.38e-05s  0.00e+00d  [FindBigAtMostOneAndLinearOverlap] \n",
      "  1.21e-04s  6.99e-05d  [FindBigVerticalLinearOverlap] \n",
      "  4.20e-06s  0.00e+00d  [FindBigHorizontalLinearOverlap] \n",
      "  3.14e-06s  0.00e+00d  [MergeClauses] \n",
      "  1.38e-04s  0.00e+00d  [DetectDominanceRelations] \n",
      "  9.40e-04s  0.00e+00d  [PresolveToFixPoint] #num_loops=1 #num_dual_strengthening=1 \n",
      "  1.23e-04s  0.00e+00d  [ExpandObjective] \n",
      "\n",
      "Presolve summary:\n",
      "  - 435 affine relations were detected.\n",
      "  - rule 'TODO dual: only one blocking enforced constraint?' was applied 5'220 times.\n",
      "  - rule 'affine: new relation' was applied 435 times.\n",
      "  - rule 'deductions: 1547 stored' was applied 1 time.\n",
      "  - rule 'linear: extracted enforcement literal' was applied 870 times.\n",
      "  - rule 'linear: remapped using affine relations' was applied 435 times.\n",
      "  - rule 'linear: simplified rhs' was applied 870 times.\n",
      "  - rule 'no_overlap: inferred from x != y constraints' was applied 1 time.\n",
      "  - rule 'presolve: 0 unused variables removed.' was applied 1 time.\n",
      "  - rule 'presolve: iteration' was applied 2 times.\n"
     ]
    },
    {
     "name": "stdout",
     "output_type": "stream",
     "text": [
      "\n",
      "Presolved optimization model '': (model_fingerprint: 0x11ab455e049cc254)\n",
      "#Variables: 465 (#ints: 30 in objective)\n",
      "  - 435 Booleans in [0,1]\n",
      "  - 5 in [0,74]\n",
      "  - 4 in [1,74]\n",
      "  - 9 in [2,74]\n",
      "  - 4 in [3,74]\n",
      "  - 2 in [4,74]\n",
      "  - 6 in [5,74]\n",
      "#kInterval: 30\n",
      "#kLinear2: 870 (#enforced: 870)\n",
      "#kNoOverlap: 1 (#intervals: 30)\n",
      "[Symmetry] Graph for symmetry has 1'830 nodes and 3'134 arcs.\n",
      "[Symmetry] Symmetry computation done. time: 0.000190611 dtime: 0.00042187\n",
      "\n",
      "Preloading model.\n",
      "#Bound   0.02s best:inf   next:[157,4736] initial_domain\n",
      "#Model   0.02s var:465/465 constraints:901/901\n",
      "\n",
      "Starting search at 0.02s with 12 workers.\n",
      "8 full problem subsolvers: [core, default_lp, fixed, max_lp, no_lp, quick_restart, quick_restart_no_lp, reduced_costs]\n",
      "4 first solution subsolvers: [fj(2), fs_random, fs_random_no_lp]\n",
      "13 interleaved subsolvers: [feasibility_pump, graph_arc_lns, graph_cst_lns, graph_dec_lns, graph_var_lns, ls, ls_lin, rins/rens, rnd_cst_lns, rnd_var_lns, scheduling_intervals_lns, scheduling_precedences_lns, scheduling_time_window_lns]\n",
      "3 helper subsolvers: [neighborhood_helper, synchronization_agent, update_gap_integral]\n",
      "\n"
     ]
    },
    {
     "name": "stdout",
     "output_type": "stream",
     "text": [
      "#1       0.04s best:1650  next:[157,1649] fixed\n",
      "#2       0.04s best:1618  next:[157,1617] fixed\n",
      "#3       0.04s best:1615  next:[157,1614] fixed\n"
     ]
    },
    {
     "name": "stdout",
     "output_type": "stream",
     "text": [
      "#Bound   0.06s best:1615  next:[159,1614] quick_restart_no_lp\n",
      "#4       0.06s best:1609  next:[159,1608] quick_restart_no_lp\n",
      "#Bound   0.06s best:1609  next:[1208,1608] max_lp\n"
     ]
    },
    {
     "name": "stdout",
     "output_type": "stream",
     "text": [
      "#5       0.07s best:1605  next:[1208,1604] quick_restart_no_lp\n"
     ]
    },
    {
     "name": "stdout",
     "output_type": "stream",
     "text": [
      "#Bound   0.09s best:1605  next:[1330,1604] reduced_costs\n",
      "#Bound   0.09s best:1605  next:[1335,1604] max_lp\n"
     ]
    },
    {
     "name": "stdout",
     "output_type": "stream",
     "text": [
      "#6       0.11s best:1578  next:[1335,1577] fixed\n",
      "#Bound   0.11s best:1578  next:[1365,1577] reduced_costs\n"
     ]
    },
    {
     "name": "stdout",
     "output_type": "stream",
     "text": [
      "#Bound   0.12s best:1578  next:[1410,1577] max_lp\n"
     ]
    },
    {
     "name": "stdout",
     "output_type": "stream",
     "text": [
      "#Bound   0.16s best:1578  next:[1433,1577] max_lp\n"
     ]
    },
    {
     "name": "stdout",
     "output_type": "stream",
     "text": [
      "#7       0.18s best:1577  next:[1433,1576] quick_restart_no_lp\n"
     ]
    },
    {
     "name": "stdout",
     "output_type": "stream",
     "text": [
      "#Bound   0.19s best:1577  next:[1434,1576] max_lp\n"
     ]
    },
    {
     "name": "stdout",
     "output_type": "stream",
     "text": [
      "#8       0.21s best:1570  next:[1434,1569] quick_restart\n"
     ]
    },
    {
     "name": "stdout",
     "output_type": "stream",
     "text": [
      "#9       0.24s best:1538  next:[1434,1537] reduced_costs\n"
     ]
    },
    {
     "name": "stdout",
     "output_type": "stream",
     "text": [
      "#10      0.35s best:1526  next:[1434,1525] scheduling_time_window_lns (d=5.00e-01 s=21 t=0.10 p=0.00 stall=0 h=base)\n"
     ]
    },
    {
     "name": "stdout",
     "output_type": "stream",
     "text": [
      "#11      0.47s best:1525  next:[1434,1524] ls_restart_decay(batch:1 lin{mvs:54 evals:1'574} #w_updates:26 #perturb:0)\n"
     ]
    },
    {
     "name": "stdout",
     "output_type": "stream",
     "text": [
      "#12      0.58s best:1521  next:[1434,1520] rnd_var_lns (d=7.07e-01 s=26 t=0.10 p=1.00 stall=1 h=base)\n"
     ]
    },
    {
     "name": "stdout",
     "output_type": "stream",
     "text": [
      "#13      0.64s best:1519  next:[1434,1518] quick_restart_no_lp\n"
     ]
    },
    {
     "name": "stdout",
     "output_type": "stream",
     "text": [
      "#14      0.88s best:1517  next:[1434,1516] quick_restart\n"
     ]
    },
    {
     "name": "stdout",
     "output_type": "stream",
     "text": [
      "#15      1.00s best:1516  next:[1434,1515] quick_restart_no_lp\n"
     ]
    },
    {
     "name": "stdout",
     "output_type": "stream",
     "text": [
      "#16      1.03s best:1500  next:[1434,1499] scheduling_precedences_lns (d=5.00e-01 s=22 t=0.10 p=0.00 stall=0 h=base)\n"
     ]
    },
    {
     "name": "stdout",
     "output_type": "stream",
     "text": [
      "#17      1.05s best:1498  next:[1434,1497] quick_restart\n"
     ]
    },
    {
     "name": "stdout",
     "output_type": "stream",
     "text": [
      "#18      1.07s best:1496  next:[1434,1495] graph_cst_lns (d=7.07e-01 s=27 t=0.10 p=1.00 stall=0 h=base)\n"
     ]
    },
    {
     "name": "stdout",
     "output_type": "stream",
     "text": [
      "#Bound   1.13s best:1496  next:[1436,1495] max_lp\n"
     ]
    },
    {
     "name": "stdout",
     "output_type": "stream",
     "text": [
      "#19      1.23s best:1495  next:[1436,1494] quick_restart\n"
     ]
    },
    {
     "name": "stdout",
     "output_type": "stream",
     "text": [
      "#20      1.24s best:1494  next:[1436,1493] quick_restart\n"
     ]
    },
    {
     "name": "stdout",
     "output_type": "stream",
     "text": [
      "#21      1.80s best:1492  next:[1436,1491] rnd_cst_lns (d=7.07e-01 s=37 t=0.10 p=1.00 stall=0 h=base)\n"
     ]
    },
    {
     "name": "stdout",
     "output_type": "stream",
     "text": [
      "#22      1.86s best:1491  next:[1436,1490] quick_restart\n"
     ]
    },
    {
     "name": "stdout",
     "output_type": "stream",
     "text": [
      "#23      2.04s best:1490  next:[1436,1489] graph_cst_lns (d=5.38e-01 s=50 t=0.10 p=0.50 stall=0 h=base)\n",
      "#24      2.04s best:1489  next:[1436,1488] graph_cst_lns (d=5.38e-01 s=50 t=0.10 p=0.50 stall=0 h=base) [combined with: rnd_var_lns (d=7.21e...]\n"
     ]
    },
    {
     "name": "stdout",
     "output_type": "stream",
     "text": [
      "#25      2.10s best:1485  next:[1436,1484] graph_arc_lns (d=7.07e-01 s=41 t=0.10 p=1.00 stall=0 h=base)\n"
     ]
    },
    {
     "name": "stdout",
     "output_type": "stream",
     "text": [
      "#26      2.13s best:1481  next:[1436,1480] graph_var_lns (d=2.93e-01 s=55 t=0.10 p=0.00 stall=0 h=base)\n"
     ]
    },
    {
     "name": "stdout",
     "output_type": "stream",
     "text": [
      "#27      2.68s best:1473  next:[1436,1472] graph_var_lns (d=4.62e-01 s=57 t=0.10 p=0.50 stall=0 h=base)\n"
     ]
    },
    {
     "name": "stdout",
     "output_type": "stream",
     "text": [
      "#Bound   3.48s best:1473  next:[1439,1472] reduced_costs\n"
     ]
    },
    {
     "name": "stdout",
     "output_type": "stream",
     "text": [
      "#28      3.75s best:1472  next:[1439,1471] rnd_var_lns (d=7.29e-01 s=81 t=0.10 p=0.60 stall=0 h=base)\n"
     ]
    },
    {
     "name": "stdout",
     "output_type": "stream",
     "text": [
      "#Bound   3.85s best:1472  next:[1440,1471] reduced_costs\n"
     ]
    },
    {
     "name": "stdout",
     "output_type": "stream",
     "text": [
      "#Model   4.60s var:463/465 constraints:897/901\n"
     ]
    },
    {
     "name": "stdout",
     "output_type": "stream",
     "text": [
      "#Bound   8.31s best:1472  next:[1442,1471] reduced_costs\n"
     ]
    },
    {
     "name": "stdout",
     "output_type": "stream",
     "text": [
      "#Model   8.70s var:461/465 constraints:893/901\n"
     ]
    },
    {
     "name": "stdout",
     "output_type": "stream",
     "text": [
      "#Bound   8.79s best:1472  next:[1443,1471] reduced_costs\n"
     ]
    },
    {
     "name": "stdout",
     "output_type": "stream",
     "text": [
      "#Model   8.82s var:459/465 constraints:889/901\n"
     ]
    },
    {
     "name": "stdout",
     "output_type": "stream",
     "text": [
      "#Bound   9.56s best:1472  next:[1447,1471] reduced_costs\n"
     ]
    },
    {
     "name": "stdout",
     "output_type": "stream",
     "text": [
      "#Model  16.11s var:457/465 constraints:887/901\n"
     ]
    },
    {
     "name": "stdout",
     "output_type": "stream",
     "text": [
      "#Model  17.10s var:456/465 constraints:886/901\n"
     ]
    },
    {
     "name": "stdout",
     "output_type": "stream",
     "text": [
      "#Bound  20.31s best:1472  next:[1449,1471] max_lp\n"
     ]
    },
    {
     "name": "stdout",
     "output_type": "stream",
     "text": [
      "#Bound  23.68s best:1472  next:[1450,1471] max_lp\n"
     ]
    },
    {
     "name": "stdout",
     "output_type": "stream",
     "text": [
      "#Bound  24.23s best:1472  next:[1455,1471] max_lp\n"
     ]
    },
    {
     "name": "stdout",
     "output_type": "stream",
     "text": [
      "#Model  24.30s var:453/465 constraints:881/901\n"
     ]
    },
    {
     "name": "stdout",
     "output_type": "stream",
     "text": [
      "#Model  24.40s var:451/465 constraints:878/901\n"
     ]
    },
    {
     "name": "stdout",
     "output_type": "stream",
     "text": [
      "#Model  24.50s var:449/465 constraints:876/901\n"
     ]
    },
    {
     "name": "stdout",
     "output_type": "stream",
     "text": [
      "#Model  25.08s var:447/465 constraints:874/901\n"
     ]
    },
    {
     "name": "stdout",
     "output_type": "stream",
     "text": [
      "#Model  25.37s var:446/465 constraints:873/901\n"
     ]
    },
    {
     "name": "stdout",
     "output_type": "stream",
     "text": [
      "#Bound  25.57s best:1472  next:[1464,1471] reduced_costs\n"
     ]
    },
    {
     "name": "stdout",
     "output_type": "stream",
     "text": [
      "#Model  25.63s var:445/465 constraints:871/901\n"
     ]
    },
    {
     "name": "stdout",
     "output_type": "stream",
     "text": [
      "#Model  25.93s var:444/465 constraints:869/901\n"
     ]
    },
    {
     "name": "stdout",
     "output_type": "stream",
     "text": [
      "#Model  26.22s var:441/465 constraints:858/901\n"
     ]
    },
    {
     "name": "stdout",
     "output_type": "stream",
     "text": [
      "#Model  26.78s var:438/465 constraints:850/901\n"
     ]
    },
    {
     "name": "stdout",
     "output_type": "stream",
     "text": [
      "#Model  28.92s var:437/465 constraints:848/901\n"
     ]
    },
    {
     "name": "stdout",
     "output_type": "stream",
     "text": [
      "#Model  29.63s var:436/465 constraints:847/901\n"
     ]
    },
    {
     "name": "stdout",
     "output_type": "stream",
     "text": [
      "#Model  31.70s var:434/465 constraints:843/901\n"
     ]
    },
    {
     "name": "stdout",
     "output_type": "stream",
     "text": [
      "#Model  39.48s var:433/465 constraints:841/901\n"
     ]
    },
    {
     "name": "stdout",
     "output_type": "stream",
     "text": [
      "#Model  41.59s var:432/465 constraints:839/901\n"
     ]
    },
    {
     "name": "stdout",
     "output_type": "stream",
     "text": [
      "#Model  42.96s var:430/465 constraints:836/901\n"
     ]
    },
    {
     "name": "stdout",
     "output_type": "stream",
     "text": [
      "#Model  43.37s var:429/465 constraints:834/901\n"
     ]
    },
    {
     "name": "stdout",
     "output_type": "stream",
     "text": [
      "#Bound  43.72s best:1472  next:[1469,1471] max_lp\n"
     ]
    },
    {
     "name": "stdout",
     "output_type": "stream",
     "text": [
      "#Model  43.77s var:426/465 constraints:830/901\n"
     ]
    },
    {
     "name": "stdout",
     "output_type": "stream",
     "text": [
      "#Model  44.14s var:425/465 constraints:828/901\n"
     ]
    },
    {
     "name": "stdout",
     "output_type": "stream",
     "text": [
      "#Model  44.39s var:423/465 constraints:826/901\n"
     ]
    },
    {
     "name": "stdout",
     "output_type": "stream",
     "text": [
      "#Model  45.07s var:422/465 constraints:824/901\n"
     ]
    },
    {
     "name": "stdout",
     "output_type": "stream",
     "text": [
      "#Done   45.34s max_lp\n"
     ]
    },
    {
     "name": "stdout",
     "output_type": "stream",
     "text": [
      "\n",
      "Task timing                             n [     min,      max]      avg      dev     time         n [     min,      max]      avg      dev    dtime\n",
      "                        'core':         1 [  45.36s,   45.36s]   45.36s   0.00ns   45.36s         1 [  59.00s,   59.00s]   59.00s   0.00ns   59.00s\n",
      "                  'default_lp':         1 [  45.32s,   45.32s]   45.32s   0.00ns   45.32s         1 [  14.79s,   14.79s]   14.79s   0.00ns   14.79s\n",
      "            'feasibility_pump':         1 [  6.17ms,   6.17ms]   6.17ms   0.00ns   6.17ms         0 [  0.00ns,   0.00ns]   0.00ns   0.00ns   0.00ns\n",
      "                       'fixed':         1 [  45.32s,   45.32s]   45.32s   0.00ns   45.32s         1 [  32.94s,   32.94s]   32.94s   0.00ns   32.94s\n",
      "                          'fj':         1 [ 63.43ms,  63.43ms]  63.43ms   0.00ns  63.43ms         1 [ 95.29ms,  95.29ms]  95.29ms   0.00ns  95.29ms\n",
      "                          'fj':         1 [ 65.53ms,  65.53ms]  65.53ms   0.00ns  65.53ms         1 [100.25ms, 100.25ms] 100.25ms   0.00ns 100.25ms\n",
      "                   'fs_random':         1 [ 10.86ms,  10.86ms]  10.86ms   0.00ns  10.86ms         1 [ 92.68us,  92.68us]  92.68us   0.00ns  92.68us\n",
      "             'fs_random_no_lp':         1 [ 10.93ms,  10.93ms]  10.93ms   0.00ns  10.93ms         1 [ 68.86us,  68.86us]  68.86us   0.00ns  68.86us\n",
      "               'graph_arc_lns':        61 [  7.66ms, 675.99ms] 274.74ms 217.61ms   16.76s        60 [ 37.97us, 102.02ms]  57.22ms  45.34ms    3.43s\n",
      "               'graph_cst_lns':        57 [ 10.02ms, 670.91ms] 294.27ms 213.68ms   16.77s        57 [ 77.33us, 100.05ms]  59.40ms  43.95ms    3.39s\n",
      "               'graph_dec_lns':        64 [  8.83ms, 568.32ms] 271.51ms 181.84ms   17.38s        64 [ 21.71us, 102.04ms]  61.20ms  43.13ms    3.92s\n",
      "               'graph_var_lns':        51 [  9.96ms, 671.85ms] 356.94ms 239.40ms   18.20s        51 [ 73.09us, 100.25ms]  60.58ms  43.82ms    3.09s\n",
      "                          'ls':       167 [  2.14ms, 101.82ms]  68.23ms   8.47ms   11.39s       167 [  2.21ms, 100.41ms]  99.50ms   7.55ms   16.62s\n",
      "                      'ls_lin':       167 [ 55.15ms, 107.88ms]  69.86ms   7.56ms   11.67s       167 [100.00ms, 100.38ms] 100.07ms  92.96us   16.71s\n",
      "                      'max_lp':         1 [  45.31s,   45.31s]   45.31s   0.00ns   45.31s         1 [  20.26s,   20.26s]   20.26s   0.00ns   20.26s\n",
      "                       'no_lp':         1 [  45.32s,   45.32s]   45.32s   0.00ns   45.32s         1 [  13.57s,   13.57s]   13.57s   0.00ns   13.57s\n",
      "               'quick_restart':         1 [  45.32s,   45.32s]   45.32s   0.00ns   45.32s         1 [  16.27s,   16.27s]   16.27s   0.00ns   16.27s\n",
      "         'quick_restart_no_lp':         1 [  45.32s,   45.32s]   45.32s   0.00ns   45.32s         1 [  17.11s,   17.11s]   17.11s   0.00ns   17.11s\n",
      "               'reduced_costs':         1 [  45.32s,   45.32s]   45.32s   0.00ns   45.32s         1 [  21.09s,   21.09s]   21.09s   0.00ns   21.09s\n",
      "                   'rins/rens':        78 [157.64us, 654.07ms] 227.37ms 192.02ms   17.73s        61 [ 12.75us, 100.06ms]  69.76ms  39.68ms    4.26s\n",
      "                 'rnd_cst_lns':        56 [  8.71ms, 649.09ms] 301.29ms 190.62ms   16.87s        56 [  7.86us, 100.12ms]  63.82ms  41.71ms    3.57s\n",
      "                 'rnd_var_lns':        68 [  2.69ms, 673.72ms] 247.23ms 215.26ms   16.81s        68 [  1.28us, 102.05ms]  55.78ms  47.45ms    3.79s\n",
      "    'scheduling_intervals_lns':        45 [ 26.31ms, 739.40ms] 386.28ms 246.54ms   17.38s        45 [  1.22ms, 100.12ms]  62.54ms  43.03ms    2.81s\n",
      "  'scheduling_precedences_lns':        35 [ 13.47ms, 816.68ms] 504.64ms 268.93ms   17.66s        35 [ 34.07us, 100.68ms]  69.67ms  39.46ms    2.44s\n",
      "  'scheduling_time_window_lns':       167 [  9.68ms,  25.95ms]  14.21ms   2.37ms    2.37s       167 [316.00ns,  87.49us]   8.10us  12.31us   1.35ms\n",
      "\n",
      "Search stats              Bools  Conflicts  Branches  Restarts   BoolPropag  IntegerPropag\n",
      "                 'core':  4'624    186'485   477'143    67'302  138'053'449     13'475'055\n",
      "           'default_lp':  1'261    250'103   505'555    54'944   38'877'505     14'452'581\n",
      "                'fixed':    944    723'564   731'334     2'995   48'985'609     27'497'397\n",
      "            'fs_random':    435          0       901       870          205          1'846\n",
      "      'fs_random_no_lp':    435          0       947       870            0          1'784\n",
      "               'max_lp':    435     14'054   147'690    71'676    1'047'879      2'263'968\n",
      "                'no_lp':  1'150    279'316   380'542    21'055   40'076'080     13'740'558\n",
      "        'quick_restart':  2'284    141'571   930'091    36'252   45'022'029     11'995'582\n",
      "  'quick_restart_no_lp':  2'278    145'616   938'643    35'893   45'839'145     12'322'284\n",
      "        'reduced_costs':  1'618     15'955   360'708   120'163    4'232'323      2'765'871\n",
      "\n",
      "SAT stats                 ClassicMinim  LitRemoved  LitLearned  LitForgotten  Subsumed  MClauses  MDecisions  MLitTrue  MSubsumed  MLitRemoved  MReused\n",
      "                 'core':       178'424   2'766'500   3'137'447       564'253       318    79'430     209'467         0      3'473       39'596   16'741\n",
      "           'default_lp':       226'461   3'290'621  11'180'638     8'631'775       296    44'545     151'448         0        284        2'102    7'616\n",
      "                'fixed':        67'237     137'189  22'917'050    22'356'563     3'700         2           9         0          0            0        9\n",
      "            'fs_random':             0           0           0             0         0         0           0         0          0            0        0\n",
      "      'fs_random_no_lp':             0           0           0             0         0         0           0         0          0            0        0\n",
      "               'max_lp':        12'606     177'611     440'812       154'907       214    30'180      62'514         0         16           92    2'007\n",
      "                'no_lp':       273'281  12'572'922  19'904'236    14'834'954       270    13'254      38'348         0        230        1'713    2'339\n",
      "        'quick_restart':        84'919   1'105'972   4'831'410     3'145'380       544    10'994      46'890         0        158        2'935      835\n",
      "  'quick_restart_no_lp':        85'210   1'124'408   4'985'863     3'190'569       479    11'025      49'087         0        159        2'871      981\n",
      "        'reduced_costs':         9'774      44'833     308'651       101'309       198     3'859      18'300         0         95          627    1'586\n",
      "\n",
      "Lp stats            Component  Iterations  AddedCuts  OPTIMAL  DUAL_F.  DUAL_U.\n",
      "         'max_lp':          1     750'984     11'781   33'172   55'557        4\n",
      "  'reduced_costs':          1     709'921     11'338   12'123   61'347        6\n",
      "\n",
      "Lp dimension          Final dimension of first component\n",
      "         'max_lp':  1362 rows, 465 columns, 9241 entries\n",
      "  'reduced_costs':   883 rows, 465 columns, 4904 entries\n",
      "\n",
      "Lp debug            CutPropag  CutEqPropag  Adjust  Overflow     Bad  BadScaling\n",
      "         'max_lp':          0            6  66'249         0  18'864           0\n",
      "  'reduced_costs':          0            5  48'639         0  22'163           0\n",
      "\n",
      "Lp pool             Constraints  Updates  Simplif  Merged  Shortened  Split  Strenghtened      Cuts/Call\n",
      "         'max_lp':        9'992    1'915    8'000     659      2'972  1'903         3'783  11'781/34'343\n",
      "  'reduced_costs':        9'766    1'767    8'305     442      3'619  1'349         4'072  11'338/28'841\n",
      "\n",
      "Lp Cut                                                       max_lp  reduced_costs\n",
      "                                                     CG_FF:     147            121\n",
      "                                                      CG_K:      50             57\n",
      "                                                      CG_R:     261            168\n",
      "                                                     CG_RB:     579            464\n",
      "                                                    CG_RBP:     213            133\n",
      "                                                    Clique:     254            155\n",
      "                                                        IB:     941            562\n",
      "                                                  MIR_1_FF:   1'644          1'536\n",
      "                                                   MIR_1_K:     157            150\n",
      "                                                  MIR_1_KL:       3              1\n",
      "                                                   MIR_1_R:      54             45\n",
      "                                                  MIR_1_RB:   1'479          1'804\n",
      "                                                 MIR_1_RBP:     244            229\n",
      "                                                  MIR_2_FF:     397            398\n",
      "                                                   MIR_2_K:      75             88\n",
      "                                                   MIR_2_R:     101            116\n",
      "                                                  MIR_2_RB:     320            393\n",
      "                                                 MIR_2_RBP:      77             63\n",
      "                                                  MIR_3_FF:     145            143\n",
      "                                                   MIR_3_K:      20             16\n",
      "                                                   MIR_3_R:      66             72\n",
      "                                                  MIR_3_RB:     143            187\n",
      "                                                 MIR_3_RBP:      25             26\n",
      "                                                  MIR_4_FF:      60             50\n",
      "                                                   MIR_4_K:       7             11\n",
      "                                                   MIR_4_R:      29             35\n",
      "                                                  MIR_4_RB:      53             84\n",
      "                                                 MIR_4_RBP:      12              5\n",
      "                                                  MIR_5_FF:      20             22\n",
      "                                                   MIR_5_K:       3              9\n",
      "                                                   MIR_5_R:      18             26\n",
      "                                                  MIR_5_RB:      35             49\n",
      "                                                 MIR_5_RBP:       8              7\n",
      "                                                  MIR_6_FF:       9             12\n",
      "                                                   MIR_6_K:       3              -\n",
      "                                                   MIR_6_R:      13             10\n",
      "                                                  MIR_6_RB:      13             19\n",
      "                                                 MIR_6_RBP:       3              2\n",
      "         NoOverlapCompletionTimeExhaustive_mirror_weighted:       9             11\n",
      "  NoOverlapCompletionTimeExhaustive_mirror_weighted_lifted:      49             83\n",
      "                NoOverlapCompletionTimeExhaustive_weighted:      58             23\n",
      "         NoOverlapCompletionTimeExhaustive_weighted_lifted:     107            125\n",
      "                           NoOverlapCompletionTimeQueyrane:      76             67\n",
      "                    NoOverlapCompletionTimeQueyrane_lifted:     148            153\n",
      "                    NoOverlapCompletionTimeQueyrane_mirror:      18             36\n",
      "             NoOverlapCompletionTimeQueyrane_mirror_lifted:      21             46\n",
      "                                 NoOverlapDisjunctionOnEnd:      35             62\n",
      "                               NoOverlapDisjunctionOnStart:      74             39\n",
      "                                              ZERO_HALF_FF:     308            258\n",
      "                                               ZERO_HALF_K:      41             24\n",
      "                                              ZERO_HALF_KL:       3              -\n",
      "                                               ZERO_HALF_R:   2'628          2'597\n",
      "                                              ZERO_HALF_RB:     418            502\n",
      "                                             ZERO_HALF_RBP:     107             44\n",
      "\n",
      "LNS stats                        Improv/Calls  Closed  Difficulty  TimeLimit\n",
      "               'graph_arc_lns':          2/61     48%    3.08e-01       0.10\n",
      "               'graph_cst_lns':          3/57     49%    4.37e-01       0.10\n",
      "               'graph_dec_lns':          3/64     48%    4.03e-01       0.10\n",
      "               'graph_var_lns':          3/51     49%    3.14e-01       0.10\n",
      "                   'rins/rens':          6/69     48%    2.07e-01       0.10\n",
      "                 'rnd_cst_lns':          2/56     50%    4.56e-01       0.10\n",
      "                 'rnd_var_lns':          5/68     49%    5.77e-01       0.10\n",
      "    'scheduling_intervals_lns':          2/45     47%    1.35e-01       0.10\n",
      "  'scheduling_precedences_lns':          2/35     43%    6.44e-02       0.10\n",
      "  'scheduling_time_window_lns':         1/167    100%    1.00e+00       0.11\n",
      "\n",
      "LS stats                                    Batches  Restarts/Perturbs  LinMoves  GenMoves  CompoundMoves  Bactracks  WeightUpdates  ScoreComputed\n",
      "                             'fj_restart':        1                  1     3'618         0              0          0            552        141'937\n",
      "  'fj_restart_decay_compound_perturb_obj':        1                  1         0     1'094            542        274              0         86'219\n",
      "                         'ls_lin_restart':       15                 10    48'760         0              0          0         20'077      2'235'249\n",
      "                'ls_lin_restart_compound':       11                  7         0     4'964             78      2'424              4        928'726\n",
      "        'ls_lin_restart_compound_perturb':       21                 14         0     9'276            219      4'488             16      1'774'071\n",
      "                   'ls_lin_restart_decay':       20                 11    87'760         0              0          0          5'540      2'929'922\n",
      "          'ls_lin_restart_decay_compound':       14                  8         0     5'932            139      2'871              5      1'182'282\n",
      "  'ls_lin_restart_decay_compound_perturb':       23                 15         0    10'078            265      4'869             15      1'943'367\n",
      "           'ls_lin_restart_decay_perturb':       35                 10   157'006         0              0          0          8'763      5'119'934\n",
      "                 'ls_lin_restart_perturb':       28                 12    92'800         0              0          0         35'894      4'182'694\n",
      "                             'ls_restart':       18                  8    59'664         0              0          0         32'007      2'693'022\n",
      "                    'ls_restart_compound':       33                 18         0    14'697            519      7'015             31      2'788'759\n",
      "            'ls_restart_compound_perturb':       13                  9         0     5'479            200      2'610             16      1'099'754\n",
      "                       'ls_restart_decay':       31                 13   131'968         0              0          0          8'212      4'400'241\n",
      "              'ls_restart_decay_compound':       19                 10         0     8'005            341      3'800             30      1'607'763\n",
      "      'ls_restart_decay_compound_perturb':       13                 10         0     6'139             80      2'986              6      1'097'150\n",
      "               'ls_restart_decay_perturb':       16                  9    70'446         0              0          0          4'489      2'346'343\n",
      "                     'ls_restart_perturb':       24                 10    77'621         0              0          0         33'795      3'588'749\n",
      "\n",
      "Solutions (28)                   Num     Rank\n",
      "                       'fixed':    4    [1,6]\n",
      "               'graph_arc_lns':    1  [25,25]\n",
      "               'graph_cst_lns':    3  [18,24]\n",
      "               'graph_var_lns':    2  [26,27]\n",
      "            'ls_restart_decay':    1  [11,11]\n",
      "               'quick_restart':    6   [8,22]\n",
      "         'quick_restart_no_lp':    5   [4,15]\n",
      "               'reduced_costs':    1    [9,9]\n",
      "                 'rnd_cst_lns':    1  [21,21]\n",
      "                 'rnd_var_lns':    2  [12,28]\n",
      "  'scheduling_precedences_lns':    1  [16,16]\n",
      "  'scheduling_time_window_lns':    1  [10,10]\n",
      "\n",
      "Objective bounds          Num\n",
      "       'initial_domain':    1\n",
      "               'max_lp':   10\n",
      "  'quick_restart_no_lp':    1\n",
      "        'reduced_costs':    8\n",
      "\n",
      "Solution repositories    Added  Queried  Synchro\n",
      "  'feasible solutions':    403    1'600      262\n",
      "   'fj solution hints':      0        0        0\n",
      "        'lp solutions':    527       78      407\n",
      "                'pump':      0        0\n",
      "\n",
      "Improving bounds shared    Num  Sym\n",
      "                'max_lp':   93    0\n",
      "         'reduced_costs':   61    0\n",
      "\n",
      "Clauses shared            Num\n",
      "                 'core':   10\n",
      "           'default_lp':   34\n",
      "               'max_lp':  979\n",
      "                'no_lp':    2\n",
      "        'quick_restart':    4\n",
      "  'quick_restart_no_lp':    5\n",
      "        'reduced_costs':  281\n",
      "\n",
      "CpSolverResponse summary:\n",
      "status: OPTIMAL\n",
      "objective: 1472\n",
      "best_bound: 1472\n",
      "integers: 31\n",
      "booleans: 435\n",
      "conflicts: 0\n",
      "branches: 947\n",
      "propagations: 0\n",
      "integer_propagations: 1784\n",
      "restarts: 870\n",
      "lp_iterations: 0\n",
      "walltime: 45.3931\n",
      "usertime: 45.3931\n",
      "deterministic_time: 259.263\n",
      "gap_integral: 197.752\n",
      "solution_fingerprint: 0x4bb9ae499b010d50\n",
      "\n"
     ]
    }
   ],
   "source": [
    "_model = ModelDisjunctiveCpSat(J, p, r, w)\n",
    "with mo.redirect_stderr():\n",
    "    _model.solve()\n",
    "\n",
    "_z = _model.get_z()\n",
    "_seq = _model.get_seq()\n",
    "mo.md(f\"\"\"\n",
    "- Opt.value by Disjunctive Formulation: {_z}\n",
    "- Solution: {_seq}\n",
    "\"\"\")"
   ]
  },
  {
   "cell_type": "code",
   "execution_count": null,
   "id": "TqIu",
   "metadata": {},
   "outputs": [
    {
     "name": "stdout",
     "output_type": "stream",
     "text": [
      "\n",
      "Starting CP-SAT solver v9.12.4544\n",
      "Parameters: log_search_progress: true\n",
      "Setting number of workers to 12\n",
      "\n",
      "Initial optimization model '': (model_fingerprint: 0x77d9b8aa7f03b1b1)\n",
      "#Variables: 30 (#ints: 30 in objective)\n",
      "  - 5 in [0,74]\n",
      "  - 4 in [1,74]\n",
      "  - 9 in [2,74]\n",
      "  - 4 in [3,74]\n",
      "  - 2 in [4,74]\n",
      "  - 6 in [5,74]\n",
      "#kInterval: 30\n",
      "#kNoOverlap: 1 (#intervals: 30)\n",
      "\n",
      "Starting presolve at 0.00s\n"
     ]
    },
    {
     "name": "stdout",
     "output_type": "stream",
     "text": [
      "  1.37e-05s  0.00e+00d  [DetectDominanceRelations] \n",
      "  5.41e-05s  0.00e+00d  [PresolveToFixPoint] #num_loops=2 #num_dual_strengthening=1 \n",
      "  1.15e-06s  0.00e+00d  [ExtractEncodingFromLinear] \n",
      "  2.78e-06s  0.00e+00d  [DetectDuplicateColumns] \n",
      "  1.02e-04s  0.00e+00d  [DetectDuplicateConstraints] \n",
      "[Symmetry] Graph for symmetry has 61 nodes and 60 arcs.\n",
      "[Symmetry] Symmetry computation done. time: 1.8335e-05 dtime: 8.17e-06\n",
      "[Symmetry] #generators: 2, average support size: 2\n",
      "[Symmetry] 2 orbits on 4 variables with sizes: 2,2\n",
      "[Symmetry] Found orbitope of size 1 x 2\n",
      "  9.58e-05s  0.00e+00d  [DetectDuplicateConstraintsWithDifferentEnforcements] \n",
      "  1.72e-04s  1.10e-07d  [Probe] \n",
      "  1.92e-06s  0.00e+00d  [MaxClique] \n",
      "  7.92e-06s  0.00e+00d  [DetectDominanceRelations] \n",
      "  3.25e-05s  0.00e+00d  [PresolveToFixPoint] #num_loops=1 #num_dual_strengthening=1 \n",
      "  5.71e-07s  0.00e+00d  [ProcessAtMostOneAndLinear] \n",
      "  9.22e-05s  0.00e+00d  [DetectDuplicateConstraints] \n",
      "  8.23e-05s  0.00e+00d  [DetectDuplicateConstraintsWithDifferentEnforcements] \n",
      "  6.12e-07s  0.00e+00d  [DetectDominatedLinearConstraints] \n",
      "  4.51e-07s  0.00e+00d  [DetectDifferentVariables] \n",
      "  6.01e-07s  0.00e+00d  [ProcessSetPPC] \n",
      "  8.61e-07s  0.00e+00d  [FindAlmostIdenticalLinearConstraints] \n",
      "  1.22e-06s  0.00e+00d  [FindBigAtMostOneAndLinearOverlap] \n",
      "  7.02e-07s  3.00e-07d  [FindBigVerticalLinearOverlap] \n",
      "  5.41e-07s  0.00e+00d  [FindBigHorizontalLinearOverlap] \n",
      "  7.31e-07s  0.00e+00d  [MergeClauses] \n",
      "  6.31e-06s  0.00e+00d  [DetectDominanceRelations] \n",
      "  2.42e-05s  0.00e+00d  [PresolveToFixPoint] #num_loops=1 #num_dual_strengthening=1 \n",
      "  8.26e-05s  0.00e+00d  [ExpandObjective] \n",
      "\n",
      "Presolve summary:\n",
      "  - 0 affine relations were detected.\n",
      "  - rule 'TODO dual: only one blocking constraint?' was applied 90 times.\n",
      "  - rule 'presolve: 0 unused variables removed.' was applied 1 time.\n",
      "  - rule 'presolve: iteration' was applied 1 time.\n",
      "\n",
      "Presolved optimization model '': (model_fingerprint: 0x47b6f70236671c2e)\n",
      "#Variables: 30 (#ints: 30 in objective)\n",
      "  - 5 in [0,74]\n",
      "  - 4 in [1,74]\n",
      "  - 9 in [2,74]\n",
      "  - 4 in [3,74]\n",
      "  - 2 in [4,74]\n",
      "  - 6 in [5,74]\n",
      "#kInterval: 30\n",
      "#kNoOverlap: 1 (#intervals: 30)\n",
      "[Symmetry] Graph for symmetry has 61 nodes and 60 arcs.\n",
      "[Symmetry] Symmetry computation done. time: 1.2203e-05 dtime: 8.17e-06\n",
      "[Symmetry] #generators: 2, average support size: 2\n",
      "[Symmetry] 2 orbits on 4 variables with sizes: 2,2\n",
      "[Symmetry] Found orbitope of size 1 x 2\n",
      "\n",
      "Preloading model.\n",
      "#Bound   0.00s best:inf   next:[157,4736] initial_domain\n",
      "#Model   0.00s var:30/30 constraints:31/31\n",
      "\n",
      "Starting search at 0.00s with 12 workers.\n",
      "8 full problem subsolvers: [core, default_lp, fixed, max_lp_sym, no_lp, quick_restart, quick_restart_no_lp, reduced_costs]\n",
      "4 first solution subsolvers: [fj(2), fs_random, fs_random_no_lp]\n",
      "13 interleaved subsolvers: [feasibility_pump, graph_arc_lns, graph_cst_lns, graph_dec_lns, graph_var_lns, ls, ls_lin, rins/rens, rnd_cst_lns, rnd_var_lns, scheduling_intervals_lns, scheduling_precedences_lns, scheduling_time_window_lns]\n",
      "3 helper subsolvers: [neighborhood_helper, synchronization_agent, update_gap_integral]\n",
      "\n",
      "#Bound   0.00s best:inf   next:[160,4736] bool_core (num_cores=1 [size:2 mw:3 d:1] a=29 d=1 fixed=0/30 clauses=0)\n",
      "#Bound   0.00s best:inf   next:[163,4736] bool_core (num_cores=1 [cover] a=29 d=1 fixed=0/33 clauses=1)\n",
      "#Bound   0.00s best:inf   next:[166,4736] bool_core (num_cores=1 [cover] a=29 d=1 fixed=1/36 clauses=3)\n",
      "#1       0.00s best:1646  next:[166,1645] default_lp\n",
      "#2       0.00s best:1610  next:[166,1609] no_lp\n",
      "#3       0.00s best:1606  next:[166,1605] fixed\n",
      "#Bound   0.00s best:1606  next:[169,1605] bool_core (num_cores=2 [size:2 mw:3 d:1] a=28 d=1 fixed=2/39 clauses=0)\n",
      "#Bound   0.00s best:1606  next:[172,1605] bool_core (num_cores=3 [size:2 mw:3 d:1] a=27 d=1 fixed=2/42 clauses=1)\n",
      "#Bound   0.00s best:1606  next:[175,1605] bool_core (num_cores=4 [size:2 mw:3 d:1] a=26 d=1 fixed=2/45 clauses=2)\n",
      "#Bound   0.00s best:1606  next:[178,1605] bool_core (num_cores=5 [size:2 mw:3 d:1] a=25 d=1 fixed=2/48 clauses=3)\n",
      "#Bound   0.00s best:1606  next:[181,1605] bool_core (num_cores=6 [size:2 mw:3 d:2] a=24 d=2 fixed=2/51 clauses=4)\n",
      "#Bound   0.00s best:1606  next:[184,1605] bool_core (num_cores=6 [cover] a=24 d=2 fixed=2/58 clauses=11)\n",
      "#Bound   0.00s best:1606  next:[187,1605] bool_core (num_cores=6 [cover] a=24 d=2 fixed=3/65 clauses=21)\n",
      "#Bound   0.00s best:1606  next:[190,1605] bool_core (num_cores=6 [cover] a=24 d=2 fixed=4/72 clauses=34)\n",
      "#Bound   0.00s best:1606  next:[1208,1605] max_lp_sym\n",
      "#4       0.01s best:1605  next:[1208,1604] quick_restart_no_lp\n",
      "#Bound   0.01s best:1605  next:[1330,1604] max_lp_sym\n",
      "#5       0.01s best:1604  next:[1330,1603] quick_restart\n",
      "#6       0.01s best:1603  next:[1330,1602] quick_restart\n"
     ]
    },
    {
     "name": "stdout",
     "output_type": "stream",
     "text": [
      "#Bound   0.01s best:1603  next:[1364,1602] max_lp_sym\n",
      "#Bound   0.02s best:1603  next:[1376,1602] max_lp_sym\n",
      "#7       0.02s best:1596  next:[1376,1595] quick_restart_no_lp\n",
      "#8       0.02s best:1573  next:[1376,1572] quick_restart_no_lp\n",
      "#9       0.02s best:1571  next:[1376,1570] quick_restart_no_lp\n"
     ]
    },
    {
     "name": "stdout",
     "output_type": "stream",
     "text": [
      "#Bound   0.02s best:1571  next:[1382,1570] max_lp_sym\n",
      "#10      0.02s best:1567  next:[1382,1566] quick_restart_no_lp\n",
      "#11      0.03s best:1566  next:[1382,1565] quick_restart_no_lp\n",
      "#12      0.03s best:1563  next:[1382,1562] quick_restart_no_lp\n"
     ]
    },
    {
     "name": "stdout",
     "output_type": "stream",
     "text": [
      "#13      0.04s best:1561  next:[1382,1560] quick_restart_no_lp\n",
      "#14      0.05s best:1560  next:[1382,1559] quick_restart\n"
     ]
    },
    {
     "name": "stdout",
     "output_type": "stream",
     "text": [
      "#15      0.06s best:1556  next:[1382,1555] quick_restart_no_lp\n",
      "#16      0.06s best:1548  next:[1382,1547] quick_restart_no_lp\n",
      "#17      0.07s best:1542  next:[1382,1541] quick_restart_no_lp\n"
     ]
    },
    {
     "name": "stdout",
     "output_type": "stream",
     "text": [
      "#18      0.08s best:1534  next:[1382,1533] quick_restart\n",
      "#19      0.08s best:1533  next:[1382,1532] quick_restart\n"
     ]
    },
    {
     "name": "stdout",
     "output_type": "stream",
     "text": [
      "#20      0.09s best:1532  next:[1382,1531] quick_restart\n",
      "#21      0.10s best:1531  next:[1382,1530] quick_restart\n"
     ]
    },
    {
     "name": "stdout",
     "output_type": "stream",
     "text": [
      "#22      0.12s best:1528  next:[1382,1527] quick_restart\n",
      "#23      0.12s best:1527  next:[1382,1526] quick_restart\n"
     ]
    },
    {
     "name": "stdout",
     "output_type": "stream",
     "text": [
      "#24      0.17s best:1526  next:[1382,1525] quick_restart\n",
      "#25      0.17s best:1523  next:[1382,1522] quick_restart_no_lp\n",
      "#26      0.17s best:1520  next:[1382,1519] quick_restart_no_lp\n",
      "#27      0.18s best:1519  next:[1382,1518] quick_restart_no_lp\n"
     ]
    },
    {
     "name": "stdout",
     "output_type": "stream",
     "text": [
      "#28      0.19s best:1516  next:[1382,1515] quick_restart_no_lp\n",
      "#29      0.20s best:1513  next:[1382,1512] quick_restart_no_lp\n",
      "#Bound   0.20s best:1513  next:[1383,1512] max_lp_sym\n"
     ]
    },
    {
     "name": "stdout",
     "output_type": "stream",
     "text": [
      "#30      0.21s best:1508  next:[1383,1507] quick_restart\n",
      "#31      0.21s best:1505  next:[1383,1504] quick_restart_no_lp\n"
     ]
    },
    {
     "name": "stdout",
     "output_type": "stream",
     "text": [
      "#Bound   0.22s best:1505  next:[1390,1504] max_lp_sym\n",
      "#32      0.23s best:1504  next:[1390,1503] quick_restart_no_lp\n",
      "#Bound   0.23s best:1504  next:[1397,1503] max_lp_sym\n"
     ]
    },
    {
     "name": "stdout",
     "output_type": "stream",
     "text": [
      "#Bound   0.23s best:1504  next:[1416,1503] max_lp_sym\n"
     ]
    },
    {
     "name": "stdout",
     "output_type": "stream",
     "text": [
      "#33      0.26s best:1502  next:[1416,1501] quick_restart\n"
     ]
    },
    {
     "name": "stdout",
     "output_type": "stream",
     "text": [
      "#34      0.27s best:1501  next:[1416,1500] quick_restart\n",
      "#35      0.27s best:1500  next:[1416,1499] quick_restart\n",
      "#36      0.27s best:1498  next:[1416,1497] quick_restart\n"
     ]
    },
    {
     "name": "stdout",
     "output_type": "stream",
     "text": [
      "#37      0.31s best:1495  next:[1416,1494] quick_restart_no_lp\n"
     ]
    },
    {
     "name": "stdout",
     "output_type": "stream",
     "text": [
      "#38      0.32s best:1493  next:[1416,1492] quick_restart_no_lp\n",
      "#39      0.32s best:1491  next:[1416,1490] quick_restart_no_lp\n"
     ]
    },
    {
     "name": "stdout",
     "output_type": "stream",
     "text": [
      "#40      0.33s best:1489  next:[1420,1488] quick_restart_no_lp\n"
     ]
    },
    {
     "name": "stdout",
     "output_type": "stream",
     "text": [
      "#41      0.38s best:1488  next:[1438,1487] quick_restart_no_lp\n"
     ]
    },
    {
     "name": "stdout",
     "output_type": "stream",
     "text": [
      "#42      0.41s best:1483  next:[1442,1482] quick_restart\n"
     ]
    },
    {
     "name": "stdout",
     "output_type": "stream",
     "text": [
      "#43      0.45s best:1482  next:[1442,1481] quick_restart_no_lp\n"
     ]
    },
    {
     "name": "stdout",
     "output_type": "stream",
     "text": [
      "#44      0.54s best:1480  next:[1442,1479] quick_restart\n"
     ]
    },
    {
     "name": "stdout",
     "output_type": "stream",
     "text": [
      "#45      0.74s best:1478  next:[1447,1477] graph_dec_lns (d=5.00e-01 s=16 t=0.10 p=0.00 stall=0 h=base) [combined with: quick_restart...]\n"
     ]
    },
    {
     "name": "stdout",
     "output_type": "stream",
     "text": [
      "#46      0.83s best:1476  next:[1447,1475] quick_restart\n",
      "#47      0.83s best:1475  next:[1447,1474] quick_restart\n"
     ]
    },
    {
     "name": "stdout",
     "output_type": "stream",
     "text": [
      "#Bound   0.86s best:1475  next:[1448,1474] max_lp_sym [skipped_logs=10]\n",
      "#48      1.02s best:1473  next:[1448,1472] rins_lp_lns (d=2.93e-01 s=27 t=0.10 p=0.00 stall=1 h=base)\n"
     ]
    },
    {
     "name": "stdout",
     "output_type": "stream",
     "text": [
      "#49      1.22s best:1472  next:[1471,1471] max_lp_sym\n",
      "#Done    1.22s max_lp_sym\n",
      "#Bound   1.21s best:1473  next:[1471,1472] max_lp_sym [skipped_logs=6]\n",
      "\n"
     ]
    },
    {
     "name": "stdout",
     "output_type": "stream",
     "text": [
      "Task timing                             n [     min,      max]      avg      dev     time         n [     min,      max]      avg      dev    dtime\n",
      "                        'core':         1 [   1.23s,    1.23s]    1.23s   0.00ns    1.23s         1 [   1.22s,    1.22s]    1.22s   0.00ns    1.22s\n",
      "                  'default_lp':         1 [   1.22s,    1.22s]    1.22s   0.00ns    1.22s         1 [545.78ms, 545.78ms] 545.78ms   0.00ns 545.78ms\n",
      "            'feasibility_pump':         1 [101.83us, 101.83us] 101.83us   0.00ns 101.83us         0 [  0.00ns,   0.00ns]   0.00ns   0.00ns   0.00ns\n",
      "                       'fixed':         1 [   1.22s,    1.22s]    1.22s   0.00ns    1.22s         1 [946.22ms, 946.22ms] 946.22ms   0.00ns 946.22ms\n",
      "                          'fj':         0 [  0.00ns,   0.00ns]   0.00ns   0.00ns   0.00ns         0 [  0.00ns,   0.00ns]   0.00ns   0.00ns   0.00ns\n",
      "                          'fj':         0 [  0.00ns,   0.00ns]   0.00ns   0.00ns   0.00ns         0 [  0.00ns,   0.00ns]   0.00ns   0.00ns   0.00ns\n",
      "                   'fs_random':         1 [374.97us, 374.97us] 374.97us   0.00ns 374.97us         1 [ 28.23us,  28.23us]  28.23us   0.00ns  28.23us\n",
      "             'fs_random_no_lp':         1 [399.41us, 399.41us] 399.41us   0.00ns 399.41us         1 [ 40.41us,  40.41us]  40.41us   0.00ns  40.41us\n",
      "               'graph_arc_lns':         1 [425.34ms, 425.34ms] 425.34ms   0.00ns 425.34ms         1 [100.03ms, 100.03ms] 100.03ms   0.00ns 100.03ms\n",
      "               'graph_cst_lns':         1 [381.85ms, 381.85ms] 381.85ms   0.00ns 381.85ms         1 [100.01ms, 100.01ms] 100.01ms   0.00ns 100.01ms\n",
      "               'graph_dec_lns':         3 [  2.34ms, 336.32ms] 139.35ms 142.78ms 418.06ms         3 [125.00us, 100.03ms]  39.15ms  43.62ms 117.46ms\n",
      "               'graph_var_lns':         1 [400.24ms, 400.24ms] 400.24ms   0.00ns 400.24ms         1 [100.01ms, 100.01ms] 100.01ms   0.00ns 100.01ms\n",
      "                          'ls':         4 [ 76.15ms,  77.79ms]  77.19ms 643.28us 308.78ms         4 [100.15ms, 100.20ms] 100.17ms  16.86us 400.69ms\n",
      "                      'ls_lin':         4 [ 77.18ms,  78.83ms]  77.90ms 598.01us 311.61ms         4 [100.02ms, 100.20ms] 100.12ms  80.18us 400.48ms\n",
      "                  'max_lp_sym':         1 [   1.22s,    1.22s]    1.22s   0.00ns    1.22s         1 [325.87ms, 325.87ms] 325.87ms   0.00ns 325.87ms\n",
      "                       'no_lp':         1 [   1.22s,    1.22s]    1.22s   0.00ns    1.22s         1 [514.27ms, 514.27ms] 514.27ms   0.00ns 514.27ms\n",
      "               'quick_restart':         1 [   1.22s,    1.22s]    1.22s   0.00ns    1.22s         1 [437.72ms, 437.72ms] 437.72ms   0.00ns 437.72ms\n",
      "         'quick_restart_no_lp':         1 [   1.22s,    1.22s]    1.22s   0.00ns    1.22s         1 [451.18ms, 451.18ms] 451.18ms   0.00ns 451.18ms\n",
      "               'reduced_costs':         1 [   1.22s,    1.22s]    1.22s   0.00ns    1.22s         1 [236.82ms, 236.82ms] 236.82ms   0.00ns 236.82ms\n",
      "                   'rins/rens':         3 [ 24.70ms, 258.03ms] 162.82ms  99.97ms 488.46ms         3 [  5.81ms, 100.00ms]  61.70ms  40.42ms 185.09ms\n",
      "                 'rnd_cst_lns':         1 [378.76ms, 378.76ms] 378.76ms   0.00ns 378.76ms         1 [100.00ms, 100.00ms] 100.00ms   0.00ns 100.00ms\n",
      "                 'rnd_var_lns':         3 [  2.48ms, 337.58ms] 118.90ms 154.74ms 356.70ms         3 [135.80us, 100.01ms]  34.23ms  46.52ms 102.68ms\n",
      "    'scheduling_intervals_lns':         1 [386.92ms, 386.92ms] 386.92ms   0.00ns 386.92ms         1 [100.01ms, 100.01ms] 100.01ms   0.00ns 100.01ms\n",
      "  'scheduling_precedences_lns':         2 [209.58ms, 397.53ms] 303.56ms  93.98ms 607.11ms         2 [ 49.92ms, 100.04ms]  74.98ms  25.06ms 149.95ms\n",
      "  'scheduling_time_window_lns':         1 [417.18ms, 417.18ms] 417.18ms   0.00ns 417.18ms         1 [100.11ms, 100.11ms] 100.11ms   0.00ns 100.11ms\n",
      "\n",
      "Search stats              Bools  Conflicts  Branches  Restarts  BoolPropag  IntegerPropag\n",
      "                 'core':    785      7'235    60'972    17'684   4'364'393        858'110\n",
      "           'default_lp':    518     24'270    32'325       765   1'065'419      1'155'808\n",
      "                'fixed':    317     30'863    31'601       123   1'295'387        753'262\n",
      "            'fs_random':     11          0        11         0           0            260\n",
      "      'fs_random_no_lp':     17          0        17         0           0            371\n",
      "           'max_lp_sym':    511      4'495    17'375     1'306     211'234        323'010\n",
      "                'no_lp':    473     24'704    36'516     1'001     857'862      1'158'211\n",
      "        'quick_restart':  1'027      8'969    48'886     1'598   1'233'160        752'051\n",
      "  'quick_restart_no_lp':  1'065      8'853    51'966     1'598   1'352'625        754'901\n",
      "        'reduced_costs':    809      4'706    10'019     3'353     712'600        334'132\n",
      "\n",
      "SAT stats                 ClassicMinim  LitRemoved  LitLearned  LitForgotten  Subsumed  MClauses  MDecisions  MLitTrue  MSubsumed  MLitRemoved  MReused\n",
      "                 'core':         6'641      62'819      64'871             0        39    22'126      50'238         0        709        5'809    4'788\n",
      "           'default_lp':        24'120     411'583     412'407       192'392         8        27          88         0          0            0       11\n",
      "                'fixed':        29'744     171'028     947'855       642'318        17         0           0         0          0            0        0\n",
      "            'fs_random':             0           0           0             0         0         0           0         0          0            0        0\n",
      "      'fs_random_no_lp':             0           0           0             0         0         0           0         0          0            0        0\n",
      "           'max_lp_sym':         3'741      15'347      78'156             0        32       699       4'170         0        274        2'436      196\n",
      "                'no_lp':        24'582     391'536     423'459       181'769         4         0           0         0          0            0        0\n",
      "        'quick_restart':         6'832      38'920     288'904             0        44         0           0         0          0            0        0\n",
      "  'quick_restart_no_lp':         6'879      40'009     285'621             0        68         0           0         0          0            0        0\n",
      "        'reduced_costs':         2'709      17'452     134'808             0        14         3           6         0          0            0       12\n",
      "\n",
      "Lp stats            Component  Iterations  AddedCuts  OPTIMAL  DUAL_F.  DUAL_U.\n",
      "     'max_lp_sym':          1      21'395        683   13'067       32        0\n",
      "  'reduced_costs':          1      24'890        137   10'330        9        0\n",
      "\n",
      "Lp dimension        Final dimension of first component\n",
      "     'max_lp_sym':  120 rows, 28 columns, 1341 entries\n",
      "  'reduced_costs':    15 rows, 30 columns, 235 entries\n",
      "\n",
      "Lp debug            CutPropag  CutEqPropag  Adjust  Overflow  Bad  BadScaling\n",
      "     'max_lp_sym':          0            3   5'068         0  409           0\n",
      "  'reduced_costs':          0            0   1'013         0   21           0\n",
      "\n",
      "Lp pool             Constraints  Updates  Simplif  Merged  Shortened  Split  Strenghtened  Cuts/Call\n",
      "     'max_lp_sym':          654      668      615      29        469      3             3    683/900\n",
      "  'reduced_costs':          137        2        0       0          0      0             0    137/176\n",
      "\n",
      "Lp Cut                                                       max_lp_sym  reduced_costs\n",
      "                                                      CG_K:           1              -\n",
      "                                                      CG_R:          45              2\n",
      "                                                   MIR_1_K:           2              -\n",
      "                                                   MIR_1_R:           7              2\n",
      "                                                   MIR_2_R:           3              1\n",
      "         NoOverlapCompletionTimeExhaustive_mirror_weighted:           9              4\n",
      "  NoOverlapCompletionTimeExhaustive_mirror_weighted_lifted:          49             17\n",
      "                NoOverlapCompletionTimeExhaustive_weighted:          39              1\n",
      "         NoOverlapCompletionTimeExhaustive_weighted_lifted:          86             29\n",
      "                           NoOverlapCompletionTimeQueyrane:          65              6\n",
      "                    NoOverlapCompletionTimeQueyrane_lifted:         129             24\n",
      "                    NoOverlapCompletionTimeQueyrane_mirror:          20              5\n",
      "             NoOverlapCompletionTimeQueyrane_mirror_lifted:          27             12\n",
      "                               NoOverlapDetectedPrecedence:           1              -\n",
      "                                 NoOverlapDisjunctionOnEnd:          34             24\n",
      "                               NoOverlapDisjunctionOnStart:          54              7\n",
      "                                               ZERO_HALF_K:           3              -\n",
      "                                               ZERO_HALF_R:         109              3\n",
      "\n",
      "LNS stats                        Improv/Calls  Closed  Difficulty  TimeLimit\n",
      "               'graph_arc_lns':           1/1      0%    2.93e-01       0.10\n",
      "               'graph_cst_lns':           1/1      0%    2.93e-01       0.10\n",
      "               'graph_dec_lns':           1/3     33%    3.08e-01       0.10\n",
      "               'graph_var_lns':           1/1      0%    2.93e-01       0.10\n",
      "                   'rins/rens':           1/3     33%    3.08e-01       0.10\n",
      "                 'rnd_cst_lns':           0/1      0%    2.93e-01       0.10\n",
      "                 'rnd_var_lns':           1/3     33%    3.08e-01       0.10\n",
      "    'scheduling_intervals_lns':           0/1      0%    2.93e-01       0.10\n",
      "  'scheduling_precedences_lns':           0/2      0%    1.86e-01       0.10\n",
      "  'scheduling_time_window_lns':           0/1      0%    2.93e-01       0.10\n",
      "\n",
      "LS stats                                Batches  Restarts/Perturbs  LinMoves  GenMoves  CompoundMoves  Bactracks  WeightUpdates  ScoreComputed\n",
      "               'ls_lin_restart_decay':        1                  1         2       958              0          0             89        165'668\n",
      "      'ls_lin_restart_decay_compound':        1                  1         0       755             76        339              4        166'385\n",
      "             'ls_lin_restart_perturb':        2                  2         5     1'250              0          0            399        333'012\n",
      "                   'ls_restart_decay':        2                  2         5     1'849              0          0            172        331'799\n",
      "  'ls_restart_decay_compound_perturb':        1                  1         0       796            125        335              2        166'204\n",
      "                 'ls_restart_perturb':        1                  1         2       600              0          0            195        166'815\n",
      "\n",
      "Solutions (49)            Num     Rank\n",
      "           'default_lp':    1    [1,1]\n",
      "                'fixed':    1    [3,3]\n",
      "        'graph_dec_lns':    1  [45,45]\n",
      "           'max_lp_sym':    1  [49,49]\n",
      "                'no_lp':    1    [2,2]\n",
      "        'quick_restart':   19   [5,47]\n",
      "  'quick_restart_no_lp':   24   [4,43]\n",
      "          'rins_lp_lns':    1  [48,48]\n",
      "\n",
      "Objective bounds     Num\n",
      "       'bool_core':   11\n",
      "  'initial_domain':    1\n",
      "      'max_lp_sym':   27\n",
      "\n",
      "Solution repositories    Added  Queried  Synchro\n",
      "  'feasible solutions':     79       45       58\n",
      "   'fj solution hints':      0        0        0\n",
      "        'lp solutions':    111        3       24\n",
      "                'pump':      0        0\n",
      "\n",
      "Improving bounds shared    Num  Sym\n",
      "            'max_lp_sym':   83    9\n",
      "\n",
      "CpSolverResponse summary:\n",
      "status: OPTIMAL\n",
      "objective: 1472\n",
      "best_bound: 1472\n",
      "integers: 31\n",
      "booleans: 17\n",
      "conflicts: 0\n",
      "branches: 17\n",
      "propagations: 0\n",
      "integer_propagations: 371\n",
      "restarts: 0\n",
      "lp_iterations: 0\n",
      "walltime: 1.23084\n",
      "usertime: 1.23084\n",
      "deterministic_time: 6.63539\n",
      "gap_integral: 6.49803\n",
      "solution_fingerprint: 0x78f9d501f62f39ef\n",
      "\n"
     ]
    }
   ],
   "source": [
    "_model = ModelIntervalCpSat(J, p, r, w)\n",
    "with mo.redirect_stderr():\n",
    "    _model.solve()\n",
    "\n",
    "_z = _model.get_z()\n",
    "_seq = _model.get_seq()\n",
    "mo.md(f\"\"\"\n",
    "- Optimal value: {_z}\n",
    "- Solution: {_seq}\n",
    "\"\"\")"
   ]
  },
  {
   "cell_type": "code",
   "execution_count": null,
   "id": "Vxnm",
   "metadata": {},
   "outputs": [],
   "source": []
  }
 ],
 "metadata": {},
 "nbformat": 4,
 "nbformat_minor": 5
}
