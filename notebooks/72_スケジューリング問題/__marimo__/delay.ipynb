{
 "cells": [
  {
   "cell_type": "code",
   "execution_count": null,
   "id": "Hbol",
   "metadata": {},
   "outputs": [],
   "source": [
    "import marimo as mo"
   ]
  },
  {
   "cell_type": "code",
   "execution_count": null,
   "id": "MJUe",
   "metadata": {},
   "outputs": [],
   "source": [
    "import random\n",
    "import pyscipopt as scip"
   ]
  },
  {
   "cell_type": "markdown",
   "id": "vblA",
   "metadata": {
    "marimo": {
     "config": {
      "hide_code": true
     }
    }
   },
   "source": [
    "# 1 機械総納期遅れ最小化問題"
   ]
  },
  {
   "cell_type": "markdown",
   "id": "bkHC",
   "metadata": {
    "marimo": {
     "config": {
      "hide_code": true
     }
    }
   },
   "source": [
    "## 離接定式化"
   ]
  },
  {
   "cell_type": "markdown",
   "id": "lEQa",
   "metadata": {
    "marimo": {
     "config": {
      "hide_code": true
     }
    }
   },
   "source": [
    "- 機械: 1 つだけ\n",
    "- ジョブ: $J = \\{ 1, \\dots, n \\}$\n",
    "- $p_j$: ジョブ $j$ の処理時間\n",
    "- $d_j$: ジョブ $j$ の納期\n",
    "\n",
    "各ジョブ $j$ について $d_j$ からの遅れの重み付き和を最小化する."
   ]
  },
  {
   "cell_type": "markdown",
   "id": "PKri",
   "metadata": {
    "marimo": {
     "config": {
      "hide_code": true
     }
    }
   },
   "source": [
    "$M$ を大きな定数として\n",
    "\n",
    "\\begin{align*}\n",
    "&\\text{minimize} &\\sum_{j \\in J} w_j T_j \\\\\n",
    "&\\text{s.t.} &x_{jk} + x_{kj} &= 1 \\ &(\\forall j < k) \\\\\n",
    "& &x_{jk} + x_{kl} + x_{lj} &\\leq 2 \\ &(\\forall j \\neq k \\neq l) \\\\\n",
    "& &\\sum_{k \\neq j} p_k x_{kj} +p_j &\\leq d_j + T_j  \\ &(\\forall j \\in J) \\\\\n",
    "& &x_{jk} &\\in \\{ 0, 1 \\}\n",
    "\\end{align*}"
   ]
  },
  {
   "cell_type": "markdown",
   "id": "Xref",
   "metadata": {
    "marimo": {
     "config": {
      "hide_code": true
     }
    }
   },
   "source": [
    "## 実装"
   ]
  },
  {
   "cell_type": "code",
   "execution_count": null,
   "id": "SFPL",
   "metadata": {},
   "outputs": [],
   "source": [
    "def make_data(n):\n",
    "    \"\"\"\n",
    "    Data generator for the one machine scheduling problem.\n",
    "    \"\"\"\n",
    "    p, r, d, w = {}, {}, {}, {}\n",
    "\n",
    "    J = range(1, n + 1)\n",
    "\n",
    "    for j in J:\n",
    "        p[j] = random.randint(1, 4)\n",
    "        w[j] = random.randint(1, 3)\n",
    "\n",
    "    T = sum(p)\n",
    "    for j in J:\n",
    "        r[j] = random.randint(0, 5)\n",
    "        d[j] = r[j] + random.randint(0, 5)\n",
    "\n",
    "    return J, p, r, d, w"
   ]
  },
  {
   "cell_type": "code",
   "execution_count": null,
   "id": "BYtC",
   "metadata": {},
   "outputs": [],
   "source": [
    "def scheduling_linear_ordering(J, p, d, w):\n",
    "    \"\"\"\n",
    "    scheduling_linear_ordering: model for the one machine total weighted tardiness problem\n",
    "\n",
    "    Model for the one machine total weighted tardiness problem\n",
    "    using the linear ordering formulation\n",
    "\n",
    "    Parameters:\n",
    "        - J: set of jobs\n",
    "        - p[j]: processing time of job j\n",
    "        - d[j]: latest non-tardy time for job j\n",
    "        - w[j]: weighted of job j,  the objective is the sum of the weighted completion time\n",
    "\n",
    "    Returns a model, ready to be solved.\n",
    "    \"\"\"\n",
    "    model = scip.Model(\"scheduling: linear ordering\")\n",
    "\n",
    "    T, x = {}, {}  # tardiness variable,  x[j,k] =1 if job j precedes job k, =0 otherwise\n",
    "    for j in J:\n",
    "        T[j] = model.addVar(vtype=\"C\", name=\"T(%s)\" % (j))\n",
    "        for k in J:\n",
    "            if j != k:\n",
    "                x[j, k] = model.addVar(vtype=\"B\", name=\"x(%s,%s)\" % (j, k))\n",
    "\n",
    "    for j in J:\n",
    "        model.addCons(\n",
    "            scip.quicksum(p[k] * x[k, j] for k in J if k != j) - T[j] <= d[j] - p[j],\n",
    "            \"Tardiness(%r)\" % (j),\n",
    "        )\n",
    "\n",
    "        for k in J:\n",
    "            if k <= j:\n",
    "                continue\n",
    "            model.addCons(x[j, k] + x[k, j] == 1, \"Disjunctive(%s,%s)\" % (j, k))\n",
    "\n",
    "            for ell in J:\n",
    "                if ell == j or ell == k:\n",
    "                    continue\n",
    "                # if ell > k:\n",
    "                    # j < k < ell\n",
    "                    # 1 -> 3 -> 2\n",
    "                    # x[1, 3], x[3, 2], x[2, 1]\n",
    "                model.addCons(\n",
    "                    x[j, k] + x[k, ell] + x[ell, j] <= 2,\n",
    "                    \"Triangle(%s,%s,%s)\" % (j, k, ell),\n",
    "                )\n",
    "\n",
    "    model.setObjective(scip.quicksum(w[j] * T[j] for j in J), sense=\"minimize\")\n",
    "\n",
    "    return model, x, T"
   ]
  },
  {
   "cell_type": "code",
   "execution_count": null,
   "id": "RGSE",
   "metadata": {},
   "outputs": [
    {
     "name": "stdout",
     "output_type": "stream",
     "text": [
      "x((1, 2)) = 1\n",
      "x((1, 3)) = 1\n",
      "x((1, 4)) = 1\n",
      "x((1, 5)) = 1\n",
      "x((2, 3)) = 1\n",
      "x((4, 2)) = 1\n",
      "x((4, 3)) = 1\n",
      "x((5, 2)) = 1\n",
      "x((5, 3)) = 1\n",
      "x((5, 4)) = 1\n",
      "T(1) = 0\n",
      "T(2) = 1\n",
      "T(3) = 8\n",
      "T(4) = 0\n",
      "T(5) = 0\n",
      "Opt.value by the linear ordering formulation= 10.0\n",
      "presolving:\n",
      "(round 1, fast)       11 del vars, 11 del conss, 0 add conss, 0 chg bounds, 0 chg sides, 0 chg coeffs, 0 upgd conss, 0 impls, 0 clqs\n",
      "(round 2, fast)       11 del vars, 11 del conss, 0 add conss, 4 chg bounds, 0 chg sides, 0 chg coeffs, 0 upgd conss, 0 impls, 0 clqs\n",
      "(round 3, exhaustive) 11 del vars, 31 del conss, 0 add conss, 4 chg bounds, 0 chg sides, 0 chg coeffs, 0 upgd conss, 0 impls, 0 clqs\n",
      "   (0.0s) probing cycle finished: starting next cycle\n",
      "   (0.0s) symmetry computation started: requiring (bin +, int +, cont +), (fixed: bin -, int -, cont -)\n",
      "   (0.0s) no symmetry present (symcode time: 0.00)\n",
      "presolving (4 rounds: 4 fast, 2 medium, 2 exhaustive):\n",
      " 11 deleted vars, 31 deleted constraints, 0 added constraints, 4 tightened bounds, 0 added holes, 0 changed sides, 0 changed coefficients\n",
      " 2 implications, 0 cliques\n",
      "presolved problem has 14 variables (10 bin, 0 int, 4 impl, 0 cont) and 14 constraints\n",
      "     14 constraints of type <linear>\n",
      "transformed objective value is always integral (scale: 1)\n",
      "Presolving Time: 0.00\n",
      "\n",
      " time | node  | left  |LP iter|LP it/n|mem/heur|mdpt |vars |cons |rows |cuts |sepa|confs|strbr|  dualbound   | primalbound  |  gap   | compl. \n",
      "t 0.0s|     1 |     0 |     0 |     - | trivial|   0 |  14 |  14 |   0 |   0 |  0 |   0 |   0 | 0.000000e+00 | 6.100000e+01 |    Inf | unknown\n",
      "p 0.0s|     1 |     0 |     0 |     - |   locks|   0 |  14 |  14 |  14 |   0 |  0 |   0 |   0 | 0.000000e+00 | 1.100000e+01 |    Inf | unknown\n",
      "  0.0s|     1 |     0 |     6 |     - |   770k |   0 |  14 |  14 |  14 |   0 |  0 |   0 |   0 | 7.500000e+00 | 1.100000e+01 |  46.67%| unknown\n",
      "r 0.0s|     1 |     0 |     6 |     - |shifting|   0 |  14 |  14 |  14 |   0 |  0 |   0 |   0 | 7.500000e+00 | 1.000000e+01 |  33.33%| unknown\n",
      "  0.0s|     1 |     0 |     6 |     - |   771k |   0 |  14 |  14 |  14 |   0 |  0 |   0 |   0 | 7.500000e+00 | 1.000000e+01 |  33.33%| unknown\n",
      "  0.0s|     1 |     0 |     6 |     - |   771k |   0 |  14 |  14 |  14 |   0 |  0 |   0 |   0 | 7.500000e+00 | 1.000000e+01 |  33.33%| unknown\n",
      "  0.0s|     1 |     0 |    17 |     - |   790k |   0 |  14 |  14 |  15 |   3 |  1 |   0 |   0 | 7.750000e+00 | 1.000000e+01 |  29.03%| unknown\n",
      "  0.0s|     1 |     0 |    17 |     - |   790k |   0 |  14 |  14 |  15 |   3 |  1 |   0 |   0 | 7.750000e+00 | 1.000000e+01 |  29.03%| unknown\n",
      "  0.0s|     1 |     0 |    24 |     - |   850k |   0 |  14 |  14 |  17 |   5 |  2 |   0 |   0 | 8.500000e+00 | 1.000000e+01 |  17.65%| unknown\n",
      "  0.0s|     1 |     0 |    24 |     - |   850k |   0 |  14 |  14 |  17 |   5 |  2 |   0 |   0 | 8.500000e+00 | 1.000000e+01 |  17.65%| unknown\n",
      "  0.0s|     1 |     0 |    27 |     - |   861k |   0 |  14 |  14 |  18 |   6 |  3 |   0 |   0 | 1.000000e+01 | 1.000000e+01 |   0.00%| unknown\n",
      "  0.0s|     1 |     0 |    27 |     - |   861k |   0 |  14 |  14 |  18 |   6 |  3 |   0 |   0 | 1.000000e+01 | 1.000000e+01 |   0.00%| unknown\n",
      "\n",
      "SCIP Status        : problem is solved [optimal solution found]\n",
      "Solving Time (sec) : 0.00\n",
      "Solving Nodes      : 1\n",
      "Primal Bound       : +1.00000000000000e+01 (6 solutions)\n",
      "Dual Bound         : +1.00000000000000e+01\n",
      "Gap                : 0.00 %\n"
     ]
    }
   ],
   "source": [
    "n = 5  # number of jobs\n",
    "J, p, r, d, w = make_data(n)\n",
    "\n",
    "model, x, T = scheduling_linear_ordering(J, p, d, w)\n",
    "model.optimize()\n",
    "z = model.getObjVal()\n",
    "for (i, j) in x:\n",
    "    if model.getVal(x[i, j]) > 0.5:\n",
    "        print(\"x(%s) = %s\" % ((i, j), int(model.getVal(x[i, j]) + 0.5)))\n",
    "for i in T:\n",
    "    print(\"T(%s) = %s\" % (i, int(model.getVal(T[i]) + 0.5)))\n",
    "print(\"Opt.value by the linear ordering formulation=\", z)"
   ]
  }
 ],
 "metadata": {},
 "nbformat": 4,
 "nbformat_minor": 5
}
