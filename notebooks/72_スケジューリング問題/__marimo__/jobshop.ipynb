{
 "cells": [
  {
   "cell_type": "code",
   "execution_count": null,
   "id": "Hbol",
   "metadata": {},
   "outputs": [],
   "source": [
    "import marimo as mo"
   ]
  },
  {
   "cell_type": "code",
   "execution_count": null,
   "id": "MJUe",
   "metadata": {},
   "outputs": [],
   "source": [
    "import os\n",
    "from pathlib import Path\n",
    "from pprint import pprint\n",
    "from typing import Self\n",
    "import datetime\n",
    "import random\n",
    "import dotenv\n",
    "import pandas\n",
    "import pydantic\n",
    "import plotly.express\n",
    "import altair\n",
    "from ortools.sat.python import cp_model\n",
    "import highspy\n",
    "import amplify_sched\n",
    "import didppy"
   ]
  },
  {
   "cell_type": "markdown",
   "id": "vblA",
   "metadata": {
    "marimo": {
     "config": {
      "hide_code": true
     }
    }
   },
   "source": [
    "# ジョブショップスケジューリング問題"
   ]
  },
  {
   "cell_type": "markdown",
   "id": "bkHC",
   "metadata": {
    "marimo": {
     "config": {
      "hide_code": true
     }
    }
   },
   "source": [
    "$J || C_{\\max}$ と書く.\n",
    "\n",
    "- ジョブ $J_1, \\dots, J_n$\n",
    "- ジョブ $J_j$ に属するオペレーション $O_{1j}, \\dots, O_{m_jj}$. この順で処理される.\n",
    "- 機械 $M_1, \\dots, M_m$\n",
    "- オペレーション $O_{ij}$ は機械 $\\mu_{ij}$ で作業時間 $p_{ij}$ かけて処理する.\n",
    "- オペレーションは中断できない\n",
    "- 最後のオペレーションの終了時刻を最小化"
   ]
  },
  {
   "cell_type": "code",
   "execution_count": null,
   "id": "lEQa",
   "metadata": {},
   "outputs": [],
   "source": [
    "parent = str(Path(os.path.abspath(__file__)).parent)\n",
    "data_dir = os.path.join(parent, \"data\")"
   ]
  },
  {
   "cell_type": "code",
   "execution_count": null,
   "id": "PKri",
   "metadata": {},
   "outputs": [],
   "source": [
    "class Task(pydantic.BaseModel):\n",
    "    model_config = pydantic.ConfigDict(frozen=True)\n",
    "\n",
    "    machine: int = pydantic.Field(..., ge=0, frozen=True)\n",
    "    time: int = pydantic.Field(..., ge=0, frozen=True)"
   ]
  },
  {
   "cell_type": "code",
   "execution_count": null,
   "id": "Xref",
   "metadata": {},
   "outputs": [],
   "source": [
    "class Job(pydantic.BaseModel):\n",
    "    model_config = pydantic.ConfigDict(frozen=True)\n",
    "\n",
    "    tasks: list[Task] = pydantic.Field(frozen=True)\n",
    "\n",
    "    def from_file(fname: str) -> list[Self]:\n",
    "        with open(fname) as f:\n",
    "            n, m = None, None\n",
    "            machine, proc_time = {}, {}\n",
    "\n",
    "            i = 0\n",
    "            for line in f:\n",
    "                if line[0] == \"#\":\n",
    "                    continue\n",
    "\n",
    "                if n is None or m is None:\n",
    "                    n, m = map(int, line.split())\n",
    "                    print(f\"{n=}, {m=}\")\n",
    "                    continue\n",
    "\n",
    "                L = list(map(int, line.split()))\n",
    "                for j in range(m):\n",
    "                    machine[i, j] = L[2 * j]\n",
    "                    proc_time[i, j] = L[2 * j + 1]\n",
    "                i += 1\n",
    "\n",
    "        jobs = []\n",
    "        for i in range(n):\n",
    "            tasks = []\n",
    "            for j in range(m):\n",
    "                tasks.append(Task(machine=machine[i, j], time=proc_time[i, j]))\n",
    "            jobs.append(Job(tasks=tasks))\n",
    "\n",
    "        return jobs"
   ]
  },
  {
   "cell_type": "code",
   "execution_count": null,
   "id": "SFPL",
   "metadata": {},
   "outputs": [],
   "source": [
    "def plot_plotly(df: pandas.DataFrame):\n",
    "    return plotly.express.timeline(\n",
    "        df,\n",
    "        x_start=\"start\",\n",
    "        x_end=\"end\",\n",
    "        y=\"resource\",\n",
    "        color=\"job\",\n",
    "        opacity=0.5,\n",
    "    ).update_yaxes(categoryorder=\"category descending\")"
   ]
  },
  {
   "cell_type": "code",
   "execution_count": null,
   "id": "BYtC",
   "metadata": {},
   "outputs": [],
   "source": [
    "def plot_altair(df: pandas.DataFrame):\n",
    "    return (\n",
    "        altair.Chart(df)\n",
    "        .mark_bar()\n",
    "        .encode(\n",
    "            x=\"start\",\n",
    "            x2=\"end\",\n",
    "            y=\"resource\",\n",
    "            color=\"job\",\n",
    "        )\n",
    "        .properties(width=\"container\", height=400)\n",
    "    )"
   ]
  },
  {
   "cell_type": "code",
   "execution_count": null,
   "id": "RGSE",
   "metadata": {},
   "outputs": [
    {
     "name": "stdout",
     "output_type": "stream",
     "text": [
      "n=6, m=6\n",
      "[Job(tasks=[Task(machine=2, time=1), Task(machine=0, time=3), Task(machine=1, time=6), Task(machine=3, time=7), Task(machine=5, time=3), Task(machine=4, time=6)]),\n",
      " Job(tasks=[Task(machine=1, time=8), Task(machine=2, time=5), Task(machine=4, time=10), Task(machine=5, time=10), Task(machine=0, time=10), Task(machine=3, time=4)]),\n",
      " Job(tasks=[Task(machine=2, time=5), Task(machine=3, time=4), Task(machine=5, time=8), Task(machine=0, time=9), Task(machine=1, time=1), Task(machine=4, time=7)]),\n",
      " Job(tasks=[Task(machine=1, time=5), Task(machine=0, time=5), Task(machine=2, time=5), Task(machine=3, time=3), Task(machine=4, time=8), Task(machine=5, time=9)]),\n",
      " Job(tasks=[Task(machine=2, time=9), Task(machine=1, time=3), Task(machine=4, time=5), Task(machine=5, time=4), Task(machine=0, time=3), Task(machine=3, time=1)]),\n",
      " Job(tasks=[Task(machine=1, time=3), Task(machine=3, time=3), Task(machine=5, time=9), Task(machine=0, time=10), Task(machine=4, time=4), Task(machine=2, time=1)])]\n"
     ]
    }
   ],
   "source": [
    "fname1 = os.path.join(data_dir, \"ft06.txt\")\n",
    "jobs1 = Job.from_file(fname1)\n",
    "pprint(jobs1)"
   ]
  },
  {
   "cell_type": "markdown",
   "id": "Kclp",
   "metadata": {
    "marimo": {
     "config": {
      "hide_code": true
     }
    }
   },
   "source": [
    "## OR-Tools による求解"
   ]
  },
  {
   "cell_type": "code",
   "execution_count": null,
   "id": "emfo",
   "metadata": {},
   "outputs": [],
   "source": [
    "class ModelCpSat:\n",
    "    def __init__(self, jobs: list[Job]):\n",
    "        self.jobs = jobs\n",
    "        self.model = cp_model.CpModel()\n",
    "        num_machines = len(\n",
    "            set(task.machine for job in self.jobs for task in job.tasks)\n",
    "        )\n",
    "        self.machines = list(range(num_machines))\n",
    "        horizon = sum(task.time for job in self.jobs for task in job.tasks)\n",
    "\n",
    "        self.starts = [[None for task in job.tasks] for job in jobs]\n",
    "        self.intervals = [[None for task in job.tasks] for job in jobs]\n",
    "        machine_to_interval = {m: [] for m in self.machines}\n",
    "\n",
    "        for id_job, job in enumerate(self.jobs):\n",
    "            for id_task, task in enumerate(job.tasks):\n",
    "                suffix = f\"_{id_job}_{id_task}\"\n",
    "                start = self.model.new_int_var(0, horizon, \"start\" + suffix)\n",
    "                interval = self.model.new_fixed_size_interval_var(\n",
    "                    start, task.time, \"interval\" + suffix\n",
    "                )\n",
    "                self.starts[id_job][id_task] = start\n",
    "                self.intervals[id_job][id_task] = interval\n",
    "                machine_to_interval[task.machine].append(interval)\n",
    "\n",
    "        for machine in machine_to_interval:\n",
    "            if len(machine_to_interval[machine]) > 0:\n",
    "                self.model.add_no_overlap(machine_to_interval[machine])\n",
    "\n",
    "        for id_job, job in enumerate(self.jobs):\n",
    "            for id_task, task in enumerate(job.tasks):\n",
    "                if id_task > 0:\n",
    "                    curr = self.intervals[id_job][id_task]\n",
    "                    prev = self.intervals[id_job][id_task - 1]\n",
    "                    self.model.add(curr.start_expr() >= prev.end_expr())\n",
    "\n",
    "        makespan = self.model.new_int_var(0, horizon, \"makespan\")\n",
    "        self.model.add_max_equality(\n",
    "            makespan,\n",
    "            [\n",
    "                self.intervals[id_job][-1].end_expr()\n",
    "                for id_job, job in enumerate(self.jobs)\n",
    "            ],\n",
    "        )\n",
    "        self.model.minimize(makespan)\n",
    "\n",
    "    def solve(self, timeout: int = 10):\n",
    "        self.solver = cp_model.CpSolver()\n",
    "        self.solver.parameters.log_search_progress = True\n",
    "        self.solver.parameters.max_time_in_seconds = timeout\n",
    "        self.status = self.solver.solve(self.model)\n",
    "\n",
    "    def to_df(self) -> pandas.DataFrame:\n",
    "        today = datetime.date.today()\n",
    "        l = []\n",
    "        for id_job, job in enumerate(self.jobs):\n",
    "            for id_task, task in enumerate(job.tasks):\n",
    "                start = self.solver.value(\n",
    "                    self.intervals[id_job][id_task].start_expr()\n",
    "                )\n",
    "                end = start + self.jobs[id_job].tasks[id_task].time\n",
    "                l.append(\n",
    "                    dict(\n",
    "                        job=f\"job{id_job}\",\n",
    "                        task=f\"task{id_task}\",\n",
    "                        resource=f\"machine{self.jobs[id_job].tasks[id_task].machine}\",\n",
    "                        start=today + datetime.timedelta(start),\n",
    "                        end=today + datetime.timedelta(end),\n",
    "                    )\n",
    "                )\n",
    "        df = pandas.DataFrame(l)\n",
    "        df[\"start\"] = pandas.to_datetime(df[\"start\"])\n",
    "        df[\"end\"] = pandas.to_datetime(df[\"end\"])\n",
    "        return df"
   ]
  },
  {
   "cell_type": "code",
   "execution_count": null,
   "id": "Hstk",
   "metadata": {},
   "outputs": [
    {
     "name": "stdout",
     "output_type": "stream",
     "text": [
      "\n",
      "Starting CP-SAT solver v9.13.4784\n",
      "Parameters: max_time_in_seconds: 10 log_search_progress: true\n",
      "Setting number of workers to 12\n",
      "\n",
      "Initial optimization model '': (model_fingerprint: 0x43f0af3eddfba1f7)\n",
      "#Variables: 37 (#ints: 1 in objective) (36 primary variables)\n",
      "  - 37 in [0,197]\n",
      "#kInterval: 36\n",
      "#kLinMax: 1 (#expressions: 6)\n",
      "#kLinear2: 30\n",
      "#kNoOverlap: 6 (#intervals: 36)\n",
      "\n",
      "Starting presolve at 0.00s\n",
      "  1.57e-05s  0.00e+00d  [DetectDominanceRelations] \n",
      "  2.80e-04s  0.00e+00d  [PresolveToFixPoint] #num_loops=7 #num_dual_strengthening=1 \n",
      "  5.12e-06s  0.00e+00d  [ExtractEncodingFromLinear] \n",
      "  3.80e-06s  0.00e+00d  [DetectDuplicateColumns] \n",
      "  1.54e-05s  0.00e+00d  [DetectDuplicateConstraints] \n",
      "[Symmetry] Graph for symmetry has 146 nodes and 175 arcs.\n",
      "[Symmetry] Symmetry computation done. time: 1.8075e-05 dtime: 1.547e-05\n",
      "  1.42e-05s  0.00e+00d  [DetectDuplicateConstraintsWithDifferentEnforcements] \n",
      "  1.77e-04s  8.14e-07d  [Probe] \n",
      "  1.68e-06s  0.00e+00d  [MaxClique] \n",
      "  1.91e-05s  0.00e+00d  [DetectDominanceRelations] \n",
      "  7.78e-05s  0.00e+00d  [PresolveToFixPoint] #num_loops=1 #num_dual_strengthening=1 \n",
      "  6.03e-06s  0.00e+00d  [ProcessAtMostOneAndLinear] \n",
      "  1.28e-05s  0.00e+00d  [DetectDuplicateConstraints] \n",
      "  9.24e-06s  0.00e+00d  [DetectDuplicateConstraintsWithDifferentEnforcements] \n",
      "  7.33e-06s  2.16e-07d  [DetectDominatedLinearConstraints] #relevant_constraints=36 \n",
      "  6.86e-06s  0.00e+00d  [DetectDifferentVariables] \n",
      "  8.91e-07s  0.00e+00d  [ProcessSetPPC] \n",
      "  7.41e-07s  0.00e+00d  [FindAlmostIdenticalLinearConstraints] \n",
      "  1.46e-06s  0.00e+00d  [FindBigAtMostOneAndLinearOverlap] \n",
      "  2.27e-06s  1.26e-06d  [FindBigVerticalLinearOverlap] \n",
      "  6.52e-07s  0.00e+00d  [FindBigHorizontalLinearOverlap] \n",
      "  8.11e-07s  0.00e+00d  [MergeClauses] \n",
      "  8.64e-06s  0.00e+00d  [DetectDominanceRelations] \n",
      "  5.59e-05s  0.00e+00d  [PresolveToFixPoint] #num_loops=1 #num_dual_strengthening=1 \n",
      "  7.71e-06s  0.00e+00d  [DetectDominanceRelations] \n",
      "  5.28e-05s  0.00e+00d  [PresolveToFixPoint] #num_loops=1 #num_dual_strengthening=1 \n",
      "  2.90e-06s  0.00e+00d  [DetectDuplicateColumns] \n",
      "  9.95e-06s  0.00e+00d  [DetectDuplicateConstraints] \n",
      "[Symmetry] Graph for symmetry has 146 nodes and 175 arcs.\n",
      "[Symmetry] Symmetry computation done. time: 1.4057e-05 dtime: 1.547e-05\n",
      "  1.28e-05s  0.00e+00d  [DetectDuplicateConstraintsWithDifferentEnforcements] \n",
      "  1.06e-04s  8.14e-07d  [Probe] \n",
      "  7.82e-07s  0.00e+00d  [MaxClique] \n",
      "  1.86e-05s  0.00e+00d  [DetectDominanceRelations] \n",
      "  7.25e-05s  0.00e+00d  [PresolveToFixPoint] #num_loops=1 #num_dual_strengthening=1 \n",
      "  5.38e-06s  0.00e+00d  [ProcessAtMostOneAndLinear] \n",
      "  1.02e-05s  0.00e+00d  [DetectDuplicateConstraints] \n",
      "  9.10e-06s  0.00e+00d  [DetectDuplicateConstraintsWithDifferentEnforcements] \n",
      "  5.75e-06s  2.16e-07d  [DetectDominatedLinearConstraints] #relevant_constraints=36 \n",
      "  5.64e-06s  0.00e+00d  [DetectDifferentVariables] \n",
      "  6.21e-07s  0.00e+00d  [ProcessSetPPC] \n",
      "  6.11e-07s  0.00e+00d  [FindAlmostIdenticalLinearConstraints] \n",
      "  1.19e-06s  0.00e+00d  [FindBigAtMostOneAndLinearOverlap] \n",
      "  2.10e-06s  1.26e-06d  [FindBigVerticalLinearOverlap] \n",
      "  4.31e-07s  0.00e+00d  [FindBigHorizontalLinearOverlap] \n",
      "  4.81e-07s  0.00e+00d  [MergeClauses] \n",
      "  8.13e-06s  0.00e+00d  [DetectDominanceRelations] \n",
      "  5.45e-05s  0.00e+00d  [PresolveToFixPoint] #num_loops=1 #num_dual_strengthening=1 \n",
      "  3.99e-06s  0.00e+00d  [ExpandObjective] \n",
      "\n",
      "Presolve summary:\n",
      "  - 0 affine relations were detected.\n",
      "  - rule 'TODO dual: only one blocking constraint?' was applied 36 times.\n",
      "  - rule 'TODO dual: only one unspecified blocking constraint?' was applied 6 times.\n",
      "  - rule 'lin_max: reduced expression domain.' was applied 6 times.\n",
      "  - rule 'lin_max: rewrite with precedences' was applied 1 time.\n",
      "  - rule 'lin_max: target domain reduced' was applied 1 time.\n",
      "  - rule 'linear: reduced variable domains' was applied 120 times.\n",
      "  - rule 'presolve: 0 unused variables removed.' was applied 1 time.\n",
      "  - rule 'presolve: iteration' was applied 2 times.\n",
      "\n",
      "Presolved optimization model '': (model_fingerprint: 0xf066a8827239ad24)\n",
      "#Variables: 37 (#ints: 1 in objective) (36 primary variables)\n",
      "  - 1 in [0,150]\n",
      "  - 1 in [0,162]\n",
      "  - 1 in [0,163]\n",
      "  - 1 in [0,167]\n",
      "  - 1 in [0,171]\n",
      "  - 1 in [0,172]\n",
      "  - 1 in [1,172]\n",
      "  - 1 in [3,170]\n",
      "  - 1 in [4,175]\n",
      "  - 1 in [5,167]\n",
      "  - 1 in [5,168]\n",
      "  - 1 in [6,173]\n",
      "  - 1 in [8,158]\n",
      "  - 1 in [9,172]\n",
      "  - 1 in [9,181]\n",
      "  - 1 in [10,172]\n",
      "  - 1 in [10,181]\n",
      "  - 1 in [12,184]\n",
      "  - 1 in [13,163]\n",
      "  - 1 in [15,177]\n",
      "  - 1 in [15,182]\n",
      "  - 1 in [17,180]\n",
      "  - 1 in [17,188]\n",
      "  - 1 in [17,189]\n",
      "  - 1 in [18,180]\n",
      "  - 1 in [20,191]\n",
      "  - 1 in [21,193]\n",
      "  - 1 in [23,173]\n",
      "  - 1 in [24,196]\n",
      "  - 1 in [25,192]\n",
      "  - 1 in [26,188]\n",
      "  - 1 in [26,189]\n",
      "  - 1 in [27,190]\n",
      "  - 1 in [29,196]\n",
      "  - 1 in [33,183]\n",
      "  - 1 in [43,193]\n",
      "  - 1 in [47,197]\n",
      "#kInterval: 36\n",
      "#kLinear2: 36\n",
      "#kNoOverlap: 6 (#intervals: 36)\n",
      "[Symmetry] Graph for symmetry has 146 nodes and 175 arcs.\n",
      "[Symmetry] Symmetry computation done. time: 1.3356e-05 dtime: 1.547e-05\n",
      "\n",
      "Preloading model.\n",
      "#Bound   0.00s best:inf   next:[47,197]   initial_domain\n",
      "#Model   0.00s var:37/37 constraints:78/78\n",
      "\n",
      "Starting search at 0.00s with 12 workers.\n",
      "8 full problem subsolvers: [default_lp, fixed, max_lp, no_lp, pseudo_costs, quick_restart, quick_restart_no_lp, reduced_costs]\n",
      "4 first solution subsolvers: [fj(2), fs_random, fs_random_no_lp]\n",
      "14 interleaved subsolvers: [feasibility_pump, graph_arc_lns, graph_cst_lns, graph_dec_lns, graph_var_lns, ls, ls_lin, rins/rens, rnd_cst_lns, rnd_var_lns, scheduling_intervals_lns, scheduling_precedences_lns, scheduling_resource_windows_lns, scheduling_time_window_lns]\n",
      "3 helper subsolvers: [neighborhood_helper, synchronization_agent, update_gap_integral]\n",
      "\n",
      "#1       0.00s best:61    next:[47,60]    no_lp\n",
      "#Bound   0.00s best:61    next:[52,60]    no_lp\n",
      "#2       0.00s best:58    next:[52,57]    no_lp\n",
      "#3       0.00s best:57    next:[52,56]    fixed\n",
      "#4       0.01s best:56    next:[52,55]    quick_restart\n",
      "#5       0.01s best:55    next:[52,54]    quick_restart\n",
      "#Done    0.01s quick_restart\n",
      "#Done    0.01s quick_restart_no_lp\n",
      "#Done    0.01s default_lp\n",
      "#Done    0.01s no_lp\n",
      "\n",
      "Task timing                                  n [     min,      max]      avg      dev     time         n [     min,      max]      avg      dev    dtime\n",
      "                       'default_lp':         1 [  4.24ms,   4.24ms]   4.24ms   0.00ns   4.24ms         1 [396.18us, 396.18us] 396.18us   0.00ns 396.18us\n",
      "                 'feasibility_pump':         0 [  0.00ns,   0.00ns]   0.00ns   0.00ns   0.00ns         0 [  0.00ns,   0.00ns]   0.00ns   0.00ns   0.00ns\n",
      "                            'fixed':         1 [  4.38ms,   4.38ms]   4.38ms   0.00ns   4.38ms         1 [307.87us, 307.87us] 307.87us   0.00ns 307.87us\n",
      "                               'fj':         0 [  0.00ns,   0.00ns]   0.00ns   0.00ns   0.00ns         0 [  0.00ns,   0.00ns]   0.00ns   0.00ns   0.00ns\n",
      "                               'fj':         0 [  0.00ns,   0.00ns]   0.00ns   0.00ns   0.00ns         0 [  0.00ns,   0.00ns]   0.00ns   0.00ns   0.00ns\n",
      "                        'fs_random':         0 [  0.00ns,   0.00ns]   0.00ns   0.00ns   0.00ns         0 [  0.00ns,   0.00ns]   0.00ns   0.00ns   0.00ns\n",
      "                  'fs_random_no_lp':         1 [  3.31ms,   3.31ms]   3.31ms   0.00ns   3.31ms         0 [  0.00ns,   0.00ns]   0.00ns   0.00ns   0.00ns\n",
      "                    'graph_arc_lns':         0 [  0.00ns,   0.00ns]   0.00ns   0.00ns   0.00ns         0 [  0.00ns,   0.00ns]   0.00ns   0.00ns   0.00ns\n",
      "                    'graph_cst_lns':         0 [  0.00ns,   0.00ns]   0.00ns   0.00ns   0.00ns         0 [  0.00ns,   0.00ns]   0.00ns   0.00ns   0.00ns\n",
      "                    'graph_dec_lns':         0 [  0.00ns,   0.00ns]   0.00ns   0.00ns   0.00ns         0 [  0.00ns,   0.00ns]   0.00ns   0.00ns   0.00ns\n",
      "                    'graph_var_lns':         1 [  2.27ms,   2.27ms]   2.27ms   0.00ns   2.27ms         1 [ 17.92us,  17.92us]  17.92us   0.00ns  17.92us\n",
      "                               'ls':         0 [  0.00ns,   0.00ns]   0.00ns   0.00ns   0.00ns         0 [  0.00ns,   0.00ns]   0.00ns   0.00ns   0.00ns\n",
      "                           'ls_lin':         0 [  0.00ns,   0.00ns]   0.00ns   0.00ns   0.00ns         0 [  0.00ns,   0.00ns]   0.00ns   0.00ns   0.00ns\n",
      "                           'max_lp':         1 [  4.22ms,   4.22ms]   4.22ms   0.00ns   4.22ms         1 [257.63us, 257.63us] 257.63us   0.00ns 257.63us\n",
      "                            'no_lp':         1 [  4.28ms,   4.28ms]   4.28ms   0.00ns   4.28ms         1 [352.71us, 352.71us] 352.71us   0.00ns 352.71us\n",
      "                     'pseudo_costs':         1 [  3.93ms,   3.93ms]   3.93ms   0.00ns   3.93ms         1 [326.68us, 326.68us] 326.68us   0.00ns 326.68us\n",
      "                    'quick_restart':         1 [  4.08ms,   4.08ms]   4.08ms   0.00ns   4.08ms         1 [348.27us, 348.27us] 348.27us   0.00ns 348.27us\n",
      "              'quick_restart_no_lp':         1 [  4.00ms,   4.00ms]   4.00ms   0.00ns   4.00ms         1 [421.52us, 421.52us] 421.52us   0.00ns 421.52us\n",
      "                    'reduced_costs':         1 [  4.09ms,   4.09ms]   4.09ms   0.00ns   4.09ms         1 [ 20.26us,  20.26us]  20.26us   0.00ns  20.26us\n",
      "                        'rins/rens':         0 [  0.00ns,   0.00ns]   0.00ns   0.00ns   0.00ns         0 [  0.00ns,   0.00ns]   0.00ns   0.00ns   0.00ns\n",
      "                      'rnd_cst_lns':         1 [  3.17ms,   3.17ms]   3.17ms   0.00ns   3.17ms         0 [  0.00ns,   0.00ns]   0.00ns   0.00ns   0.00ns\n",
      "                      'rnd_var_lns':         1 [  3.21ms,   3.21ms]   3.21ms   0.00ns   3.21ms         1 [  1.81us,   1.81us]   1.81us   0.00ns   1.81us\n",
      "         'scheduling_intervals_lns':         0 [  0.00ns,   0.00ns]   0.00ns   0.00ns   0.00ns         0 [  0.00ns,   0.00ns]   0.00ns   0.00ns   0.00ns\n",
      "       'scheduling_precedences_lns':         0 [  0.00ns,   0.00ns]   0.00ns   0.00ns   0.00ns         0 [  0.00ns,   0.00ns]   0.00ns   0.00ns   0.00ns\n",
      "  'scheduling_resource_windows_lns':         0 [  0.00ns,   0.00ns]   0.00ns   0.00ns   0.00ns         0 [  0.00ns,   0.00ns]   0.00ns   0.00ns   0.00ns\n",
      "       'scheduling_time_window_lns':         0 [  0.00ns,   0.00ns]   0.00ns   0.00ns   0.00ns         0 [  0.00ns,   0.00ns]   0.00ns   0.00ns   0.00ns\n",
      "\n",
      "Search stats              Bools  Conflicts  Branches  Restarts  BoolPropag  IntegerPropag\n",
      "           'default_lp':     65          7       160        56         343          2'564\n",
      "                'fixed':     60          2       119        31         194          1'925\n",
      "            'fs_random':      0          0         0         0           0              0\n",
      "      'fs_random_no_lp':      0          0         0         0           0              0\n",
      "               'max_lp':     14          0        14         0           0            191\n",
      "                'no_lp':     63          1       183        58         186          2'220\n",
      "         'pseudo_costs':      2          0         2         0           0            122\n",
      "        'quick_restart':     74          2       169        59         207          2'155\n",
      "  'quick_restart_no_lp':     42         18       169        61         255          2'873\n",
      "        'reduced_costs':     90          0       180       180           0          1'015\n",
      "\n",
      "SAT stats                 ClassicMinim  LitRemoved  LitLearned  LitForgotten  Subsumed  MClauses  MDecisions  MLitTrue  MSubsumed  MLitRemoved  MReused\n",
      "           'default_lp':             0           0           7             0         0         0           0         0          0            0        0\n",
      "                'fixed':             0           0           2             0         0         0           0         0          0            0        0\n",
      "            'fs_random':             0           0           0             0         0         0           0         0          0            0        0\n",
      "      'fs_random_no_lp':             0           0           0             0         0         0           0         0          0            0        0\n",
      "               'max_lp':             0           0           0             0         0         0           0         0          0            0        0\n",
      "                'no_lp':             0           0           0             0         0         0           0         0          0            0        0\n",
      "         'pseudo_costs':             0           0           0             0         0         0           0         0          0            0        0\n",
      "        'quick_restart':             0           0           1             0         0         0           0         0          0            0        0\n",
      "  'quick_restart_no_lp':             6           8          95             0         2         0           0         0          0            0        0\n",
      "        'reduced_costs':             0           0           0             0         0         0           0         0          0            0        0\n",
      "\n",
      "Lp stats            Component  Iterations  AddedCuts  OPTIMAL  DUAL_F.  DUAL_U.\n",
      "     'default_lp':          1           0          0       63        0        0\n",
      "          'fixed':          1           0          0       59        0        0\n",
      "         'max_lp':          1          68         51       21        0        0\n",
      "   'pseudo_costs':          1          83         78       12        0        0\n",
      "  'quick_restart':          1           0          0       77        0        0\n",
      "  'reduced_costs':          1          18         59        4        0        0\n",
      "\n",
      "Lp dimension        Final dimension of first component\n",
      "     'default_lp':       0 rows, 37 columns, 0 entries\n",
      "          'fixed':       0 rows, 37 columns, 0 entries\n",
      "         'max_lp':    71 rows, 37 columns, 181 entries\n",
      "   'pseudo_costs':    78 rows, 37 columns, 229 entries\n",
      "  'quick_restart':       0 rows, 37 columns, 0 entries\n",
      "  'reduced_costs':    65 rows, 37 columns, 195 entries\n",
      "\n",
      "Lp debug            CutPropag  CutEqPropag  Adjust  Overflow  Bad  BadScaling\n",
      "     'default_lp':          0            0       0         0    0           0\n",
      "          'fixed':          0            0       0         0    0           0\n",
      "         'max_lp':          0            0       0         0  107           0\n",
      "   'pseudo_costs':          0            5       0         0  196           0\n",
      "  'quick_restart':          0            0       0         0    0           0\n",
      "  'reduced_costs':          0            0       0         0    6           0\n",
      "\n",
      "Lp pool             Constraints  Updates  Simplif  Merged  Shortened  Split  Strenghtened  Cuts/Call\n",
      "     'default_lp':           36        0        2       0          0      0             0        0/0\n",
      "          'fixed':           36        0        0       0          0      0             0        0/0\n",
      "         'max_lp':           87       69       12       0          0      0             1      51/61\n",
      "   'pseudo_costs':          114       49       18       0          0      0             3     78/107\n",
      "  'quick_restart':           36        0        0       0          0      0             0        0/0\n",
      "  'reduced_costs':           95        0        0       0          0      0             0      59/73\n",
      "\n",
      "Lp Cut                                                max_lp  reduced_costs  pseudo_costs\n",
      "                                               CG_K:       -              -             2\n",
      "                                               CG_R:       -              -             1\n",
      "                                           MIR_5_FF:       1              -             1\n",
      "                                           MIR_6_FF:       -              -             1\n",
      "                  NoOverlapCompletionTimeExhaustive:       5              6             9\n",
      "           NoOverlapCompletionTimeExhaustive_lifted:       7             10            11\n",
      "  NoOverlapCompletionTimeExhaustive_lifted_weighted:       4              5             7\n",
      "         NoOverlapCompletionTimeExhaustive_weighted:       7             12            19\n",
      "                        NoOverlapDetectedPrecedence:       4              -             2\n",
      "                        NoOverlapDisjunctionOnStart:      23             26            25\n",
      "\n",
      "LNS stats                             Improv/Calls  Closed  Difficulty  TimeLimit\n",
      "                    'graph_arc_lns':           0/0      0%    5.00e-01       0.10\n",
      "                    'graph_cst_lns':           0/0      0%    5.00e-01       0.10\n",
      "                    'graph_dec_lns':           0/0      0%    5.00e-01       0.10\n",
      "                    'graph_var_lns':           1/1    100%    7.07e-01       0.10\n",
      "                        'rins/rens':           0/0      0%    5.00e-01       0.10\n",
      "                      'rnd_cst_lns':           1/1    100%    7.07e-01       0.10\n",
      "                      'rnd_var_lns':           1/1    100%    7.07e-01       0.10\n",
      "         'scheduling_intervals_lns':           0/0      0%    5.00e-01       0.10\n",
      "       'scheduling_precedences_lns':           0/0      0%    5.00e-01       0.10\n",
      "  'scheduling_resource_windows_lns':           0/0      0%    5.00e-01       0.10\n",
      "       'scheduling_time_window_lns':           0/0      0%    5.00e-01       0.10\n",
      "\n",
      "Solutions (5)       Num   Rank\n",
      "          'fixed':    1  [3,3]\n",
      "          'no_lp':    2  [1,2]\n",
      "  'quick_restart':    2  [4,5]\n",
      "\n",
      "Objective bounds     Num\n",
      "  'initial_domain':    1\n",
      "           'no_lp':    1\n",
      "\n",
      "Solution repositories    Added  Queried  Synchro\n",
      "  'feasible solutions':     16        6        6\n",
      "   'fj solution hints':      0        0        0\n",
      "        'lp solutions':      0        0        0\n",
      "                'pump':      0        0\n",
      "\n",
      "Improving bounds shared    Num  Sym\n",
      "            'default_lp':    5    0\n",
      "                 'fixed':   44    0\n",
      "                 'no_lp':   74    0\n",
      "         'quick_restart':   33    0\n",
      "   'quick_restart_no_lp':   41    0\n",
      "\n",
      "CpSolverResponse summary:\n",
      "status: OPTIMAL\n",
      "objective: 55\n",
      "best_bound: 55\n",
      "integers: 0\n",
      "booleans: 0\n",
      "conflicts: 0\n",
      "branches: 0\n",
      "propagations: 0\n",
      "integer_propagations: 0\n",
      "restarts: 0\n",
      "lp_iterations: 0\n",
      "walltime: 0.00814824\n",
      "usertime: 0.00814827\n",
      "deterministic_time: 0.00245544\n",
      "gap_integral: 0.00260527\n",
      "solution_fingerprint: 0x4defa99f3d362e0d\n",
      "\n"
     ]
    }
   ],
   "source": [
    "model1_cpsat = ModelCpSat(jobs1)\n",
    "model1_cpsat.solve()"
   ]
  },
  {
   "cell_type": "code",
   "execution_count": null,
   "id": "nWHF",
   "metadata": {},
   "outputs": [
    {
     "data": {
      "text/html": [
       "<marimo-plotly data-figure='{&quot;data&quot;: [{&quot;base&quot;: [&quot;2025-06-24T00:00:00.000000000&quot;, &quot;2025-06-25T00:00:00.000000000&quot;, &quot;2025-07-05T00:00:00.000000000&quot;, &quot;2025-07-19T00:00:00.000000000&quot;, &quot;2025-07-27T00:00:00.000000000&quot;, &quot;2025-07-31T00:00:00.000000000&quot;], &quot;hovertemplate&quot;: &quot;job=job0&lt;br&gt;start=%{base}&lt;br&gt;end=%{x}&lt;br&gt;resource=%{y}&lt;extra&gt;&lt;/extra&gt;&quot;, &quot;legendgroup&quot;: &quot;job0&quot;, &quot;marker&quot;: {&quot;color&quot;: &quot;#636efa&quot;, &quot;opacity&quot;: 0.5, &quot;pattern&quot;: {&quot;shape&quot;: &quot;&quot;}}, &quot;name&quot;: &quot;job0&quot;, &quot;orientation&quot;: &quot;h&quot;, &quot;showlegend&quot;: true, &quot;textposition&quot;: &quot;auto&quot;, &quot;x&quot;: {&quot;dtype&quot;: &quot;i4&quot;, &quot;bdata&quot;: &quot;AFwmBQAUcw8AKOYeAIQMJAAUcw8AKOYe&quot;}, &quot;xaxis&quot;: &quot;x&quot;, &quot;y&quot;: [&quot;machine2&quot;, &quot;machine0&quot;, &quot;machine1&quot;, &quot;machine3&quot;, &quot;machine5&quot;, &quot;machine4&quot;], &quot;yaxis&quot;: &quot;y&quot;, &quot;type&quot;: &quot;bar&quot;}, {&quot;base&quot;: [&quot;2025-06-19T00:00:00.000000000&quot;, &quot;2025-06-27T00:00:00.000000000&quot;, &quot;2025-07-02T00:00:00.000000000&quot;, &quot;2025-07-17T00:00:00.000000000&quot;, &quot;2025-07-27T00:00:00.000000000&quot;, &quot;2025-08-06T00:00:00.000000000&quot;], &quot;hovertemplate&quot;: &quot;job=job1&lt;br&gt;start=%{base}&lt;br&gt;end=%{x}&lt;br&gt;resource=%{y}&lt;extra&gt;&lt;/extra&gt;&quot;, &quot;legendgroup&quot;: &quot;job1&quot;, &quot;marker&quot;: {&quot;color&quot;: &quot;#EF553B&quot;, &quot;opacity&quot;: 0.5, &quot;pattern&quot;: {&quot;shape&quot;: &quot;&quot;}}, &quot;name&quot;: &quot;job1&quot;, &quot;orientation&quot;: &quot;h&quot;, &quot;showlegend&quot;: true, &quot;textposition&quot;: &quot;auto&quot;, &quot;x&quot;: {&quot;dtype&quot;: &quot;i4&quot;, &quot;bdata&quot;: &quot;AOAyKQDMvxkAmH8zAJh/MwCYfzMAcJkU&quot;}, &quot;xaxis&quot;: &quot;x&quot;, &quot;y&quot;: [&quot;machine1&quot;, &quot;machine2&quot;, &quot;machine4&quot;, &quot;machine5&quot;, &quot;machine0&quot;, &quot;machine3&quot;], &quot;yaxis&quot;: &quot;y&quot;, &quot;type&quot;: &quot;bar&quot;}, {&quot;base&quot;: [&quot;2025-06-19T00:00:00.000000000&quot;, &quot;2025-06-24T00:00:00.000000000&quot;, &quot;2025-06-28T00:00:00.000000000&quot;, &quot;2025-07-07T00:00:00.000000000&quot;, &quot;2025-07-16T00:00:00.000000000&quot;, &quot;2025-08-06T00:00:00.000000000&quot;], &quot;hovertemplate&quot;: &quot;job=job2&lt;br&gt;start=%{base}&lt;br&gt;end=%{x}&lt;br&gt;resource=%{y}&lt;extra&gt;&lt;/extra&gt;&quot;, &quot;legendgroup&quot;: &quot;job2&quot;, &quot;marker&quot;: {&quot;color&quot;: &quot;#00cc96&quot;, &quot;opacity&quot;: 0.5, &quot;pattern&quot;: {&quot;shape&quot;: &quot;&quot;}}, &quot;name&quot;: &quot;job2&quot;, &quot;orientation&quot;: &quot;h&quot;, &quot;showlegend&quot;: true, &quot;textposition&quot;: &quot;auto&quot;, &quot;x&quot;: {&quot;dtype&quot;: &quot;i4&quot;, &quot;bdata&quot;: &quot;AMy/GQBwmRQA4DIpADxZLgBcJgUAhAwk&quot;}, &quot;xaxis&quot;: &quot;x&quot;, &quot;y&quot;: [&quot;machine2&quot;, &quot;machine3&quot;, &quot;machine5&quot;, &quot;machine0&quot;, &quot;machine1&quot;, &quot;machine4&quot;], &quot;yaxis&quot;: &quot;y&quot;, &quot;type&quot;: &quot;bar&quot;}, {&quot;base&quot;: [&quot;2025-06-27T00:00:00.000000000&quot;, &quot;2025-07-02T00:00:00.000000000&quot;, &quot;2025-07-11T00:00:00.000000000&quot;, &quot;2025-07-16T00:00:00.000000000&quot;, &quot;2025-07-19T00:00:00.000000000&quot;, &quot;2025-08-03T00:00:00.000000000&quot;], &quot;hovertemplate&quot;: &quot;job=job3&lt;br&gt;start=%{base}&lt;br&gt;end=%{x}&lt;br&gt;resource=%{y}&lt;extra&gt;&lt;/extra&gt;&quot;, &quot;legendgroup&quot;: &quot;job3&quot;, &quot;marker&quot;: {&quot;color&quot;: &quot;#ab63fa&quot;, &quot;opacity&quot;: 0.5, &quot;pattern&quot;: {&quot;shape&quot;: &quot;&quot;}}, &quot;name&quot;: &quot;job3&quot;, &quot;orientation&quot;: &quot;h&quot;, &quot;showlegend&quot;: true, &quot;textposition&quot;: &quot;auto&quot;, &quot;x&quot;: {&quot;dtype&quot;: &quot;i4&quot;, &quot;bdata&quot;: &quot;AMy/GQDMvxkAzL8ZABRzDwDgMikAPFku&quot;}, &quot;xaxis&quot;: &quot;x&quot;, &quot;y&quot;: [&quot;machine1&quot;, &quot;machine0&quot;, &quot;machine2&quot;, &quot;machine3&quot;, &quot;machine4&quot;, &quot;machine5&quot;], &quot;yaxis&quot;: &quot;y&quot;, &quot;type&quot;: &quot;bar&quot;}, {&quot;base&quot;: [&quot;2025-07-02T00:00:00.000000000&quot;, &quot;2025-07-11T00:00:00.000000000&quot;, &quot;2025-07-14T00:00:00.000000000&quot;, &quot;2025-07-30T00:00:00.000000000&quot;, &quot;2025-08-06T00:00:00.000000000&quot;, &quot;2025-08-10T00:00:00.000000000&quot;], &quot;hovertemplate&quot;: &quot;job=job4&lt;br&gt;start=%{base}&lt;br&gt;end=%{x}&lt;br&gt;resource=%{y}&lt;extra&gt;&lt;/extra&gt;&quot;, &quot;legendgroup&quot;: &quot;job4&quot;, &quot;marker&quot;: {&quot;color&quot;: &quot;#FFA15A&quot;, &quot;opacity&quot;: 0.5, &quot;pattern&quot;: {&quot;shape&quot;: &quot;&quot;}}, &quot;name&quot;: &quot;job4&quot;, &quot;orientation&quot;: &quot;h&quot;, &quot;showlegend&quot;: true, &quot;textposition&quot;: &quot;auto&quot;, &quot;x&quot;: {&quot;dtype&quot;: &quot;i4&quot;, &quot;bdata&quot;: &quot;ADxZLgAUcw8AzL8ZAHCZFAAUcw8AXCYF&quot;}, &quot;xaxis&quot;: &quot;x&quot;, &quot;y&quot;: [&quot;machine2&quot;, &quot;machine1&quot;, &quot;machine4&quot;, &quot;machine5&quot;, &quot;machine0&quot;, &quot;machine3&quot;], &quot;yaxis&quot;: &quot;y&quot;, &quot;type&quot;: &quot;bar&quot;}, {&quot;base&quot;: [&quot;2025-07-02T00:00:00.000000000&quot;, &quot;2025-07-05T00:00:00.000000000&quot;, &quot;2025-07-08T00:00:00.000000000&quot;, &quot;2025-07-17T00:00:00.000000000&quot;, &quot;2025-07-27T00:00:00.000000000&quot;, &quot;2025-07-31T00:00:00.000000000&quot;], &quot;hovertemplate&quot;: &quot;job=job5&lt;br&gt;start=%{base}&lt;br&gt;end=%{x}&lt;br&gt;resource=%{y}&lt;extra&gt;&lt;/extra&gt;&quot;, &quot;legendgroup&quot;: &quot;job5&quot;, &quot;marker&quot;: {&quot;color&quot;: &quot;#19d3f3&quot;, &quot;opacity&quot;: 0.5, &quot;pattern&quot;: {&quot;shape&quot;: &quot;&quot;}}, &quot;name&quot;: &quot;job5&quot;, &quot;orientation&quot;: &quot;h&quot;, &quot;showlegend&quot;: true, &quot;textposition&quot;: &quot;auto&quot;, &quot;x&quot;: {&quot;dtype&quot;: &quot;i4&quot;, &quot;bdata&quot;: &quot;ABRzDwAUcw8APFkuAJh/MwBwmRQAXCYF&quot;}, &quot;xaxis&quot;: &quot;x&quot;, &quot;y&quot;: [&quot;machine1&quot;, &quot;machine3&quot;, &quot;machine5&quot;, &quot;machine0&quot;, &quot;machine4&quot;, &quot;machine2&quot;], &quot;yaxis&quot;: &quot;y&quot;, &quot;type&quot;: &quot;bar&quot;}], &quot;layout&quot;: {&quot;template&quot;: {&quot;data&quot;: {&quot;histogram2dcontour&quot;: [{&quot;type&quot;: &quot;histogram2dcontour&quot;, &quot;colorbar&quot;: {&quot;outlinewidth&quot;: 0, &quot;ticks&quot;: &quot;&quot;}, &quot;colorscale&quot;: [[0.0, &quot;#0d0887&quot;], [0.1111111111111111, &quot;#46039f&quot;], [0.2222222222222222, &quot;#7201a8&quot;], [0.3333333333333333, &quot;#9c179e&quot;], [0.4444444444444444, &quot;#bd3786&quot;], [0.5555555555555556, &quot;#d8576b&quot;], [0.6666666666666666, &quot;#ed7953&quot;], [0.7777777777777778, &quot;#fb9f3a&quot;], [0.8888888888888888, &quot;#fdca26&quot;], [1.0, &quot;#f0f921&quot;]]}], &quot;choropleth&quot;: [{&quot;type&quot;: &quot;choropleth&quot;, &quot;colorbar&quot;: {&quot;outlinewidth&quot;: 0, &quot;ticks&quot;: &quot;&quot;}}], &quot;histogram2d&quot;: [{&quot;type&quot;: &quot;histogram2d&quot;, &quot;colorbar&quot;: {&quot;outlinewidth&quot;: 0, &quot;ticks&quot;: &quot;&quot;}, &quot;colorscale&quot;: [[0.0, &quot;#0d0887&quot;], [0.1111111111111111, &quot;#46039f&quot;], [0.2222222222222222, &quot;#7201a8&quot;], [0.3333333333333333, &quot;#9c179e&quot;], [0.4444444444444444, &quot;#bd3786&quot;], [0.5555555555555556, &quot;#d8576b&quot;], [0.6666666666666666, &quot;#ed7953&quot;], [0.7777777777777778, &quot;#fb9f3a&quot;], [0.8888888888888888, &quot;#fdca26&quot;], [1.0, &quot;#f0f921&quot;]]}], &quot;heatmap&quot;: [{&quot;type&quot;: &quot;heatmap&quot;, &quot;colorbar&quot;: {&quot;outlinewidth&quot;: 0, &quot;ticks&quot;: &quot;&quot;}, &quot;colorscale&quot;: [[0.0, &quot;#0d0887&quot;], [0.1111111111111111, &quot;#46039f&quot;], [0.2222222222222222, &quot;#7201a8&quot;], [0.3333333333333333, &quot;#9c179e&quot;], [0.4444444444444444, &quot;#bd3786&quot;], [0.5555555555555556, &quot;#d8576b&quot;], [0.6666666666666666, &quot;#ed7953&quot;], [0.7777777777777778, &quot;#fb9f3a&quot;], [0.8888888888888888, &quot;#fdca26&quot;], [1.0, &quot;#f0f921&quot;]]}], &quot;contourcarpet&quot;: [{&quot;type&quot;: &quot;contourcarpet&quot;, &quot;colorbar&quot;: {&quot;outlinewidth&quot;: 0, &quot;ticks&quot;: &quot;&quot;}}], &quot;contour&quot;: [{&quot;type&quot;: &quot;contour&quot;, &quot;colorbar&quot;: {&quot;outlinewidth&quot;: 0, &quot;ticks&quot;: &quot;&quot;}, &quot;colorscale&quot;: [[0.0, &quot;#0d0887&quot;], [0.1111111111111111, &quot;#46039f&quot;], [0.2222222222222222, &quot;#7201a8&quot;], [0.3333333333333333, &quot;#9c179e&quot;], [0.4444444444444444, &quot;#bd3786&quot;], [0.5555555555555556, &quot;#d8576b&quot;], [0.6666666666666666, &quot;#ed7953&quot;], [0.7777777777777778, &quot;#fb9f3a&quot;], [0.8888888888888888, &quot;#fdca26&quot;], [1.0, &quot;#f0f921&quot;]]}], &quot;surface&quot;: [{&quot;type&quot;: &quot;surface&quot;, &quot;colorbar&quot;: {&quot;outlinewidth&quot;: 0, &quot;ticks&quot;: &quot;&quot;}, &quot;colorscale&quot;: [[0.0, &quot;#0d0887&quot;], [0.1111111111111111, &quot;#46039f&quot;], [0.2222222222222222, &quot;#7201a8&quot;], [0.3333333333333333, &quot;#9c179e&quot;], [0.4444444444444444, &quot;#bd3786&quot;], [0.5555555555555556, &quot;#d8576b&quot;], [0.6666666666666666, &quot;#ed7953&quot;], [0.7777777777777778, &quot;#fb9f3a&quot;], [0.8888888888888888, &quot;#fdca26&quot;], [1.0, &quot;#f0f921&quot;]]}], &quot;mesh3d&quot;: [{&quot;type&quot;: &quot;mesh3d&quot;, &quot;colorbar&quot;: {&quot;outlinewidth&quot;: 0, &quot;ticks&quot;: &quot;&quot;}}], &quot;scatter&quot;: [{&quot;fillpattern&quot;: {&quot;fillmode&quot;: &quot;overlay&quot;, &quot;size&quot;: 10, &quot;solidity&quot;: 0.2}, &quot;type&quot;: &quot;scatter&quot;}], &quot;parcoords&quot;: [{&quot;type&quot;: &quot;parcoords&quot;, &quot;line&quot;: {&quot;colorbar&quot;: {&quot;outlinewidth&quot;: 0, &quot;ticks&quot;: &quot;&quot;}}}], &quot;scatterpolargl&quot;: [{&quot;type&quot;: &quot;scatterpolargl&quot;, &quot;marker&quot;: {&quot;colorbar&quot;: {&quot;outlinewidth&quot;: 0, &quot;ticks&quot;: &quot;&quot;}}}], &quot;bar&quot;: [{&quot;error_x&quot;: {&quot;color&quot;: &quot;#2a3f5f&quot;}, &quot;error_y&quot;: {&quot;color&quot;: &quot;#2a3f5f&quot;}, &quot;marker&quot;: {&quot;line&quot;: {&quot;color&quot;: &quot;#E5ECF6&quot;, &quot;width&quot;: 0.5}, &quot;pattern&quot;: {&quot;fillmode&quot;: &quot;overlay&quot;, &quot;size&quot;: 10, &quot;solidity&quot;: 0.2}}, &quot;type&quot;: &quot;bar&quot;}], &quot;scattergeo&quot;: [{&quot;type&quot;: &quot;scattergeo&quot;, &quot;marker&quot;: {&quot;colorbar&quot;: {&quot;outlinewidth&quot;: 0, &quot;ticks&quot;: &quot;&quot;}}}], &quot;scatterpolar&quot;: [{&quot;type&quot;: &quot;scatterpolar&quot;, &quot;marker&quot;: {&quot;colorbar&quot;: {&quot;outlinewidth&quot;: 0, &quot;ticks&quot;: &quot;&quot;}}}], &quot;histogram&quot;: [{&quot;marker&quot;: {&quot;pattern&quot;: {&quot;fillmode&quot;: &quot;overlay&quot;, &quot;size&quot;: 10, &quot;solidity&quot;: 0.2}}, &quot;type&quot;: &quot;histogram&quot;}], &quot;scattergl&quot;: [{&quot;type&quot;: &quot;scattergl&quot;, &quot;marker&quot;: {&quot;colorbar&quot;: {&quot;outlinewidth&quot;: 0, &quot;ticks&quot;: &quot;&quot;}}}], &quot;scatter3d&quot;: [{&quot;type&quot;: &quot;scatter3d&quot;, &quot;line&quot;: {&quot;colorbar&quot;: {&quot;outlinewidth&quot;: 0, &quot;ticks&quot;: &quot;&quot;}}, &quot;marker&quot;: {&quot;colorbar&quot;: {&quot;outlinewidth&quot;: 0, &quot;ticks&quot;: &quot;&quot;}}}], &quot;scattermap&quot;: [{&quot;type&quot;: &quot;scattermap&quot;, &quot;marker&quot;: {&quot;colorbar&quot;: {&quot;outlinewidth&quot;: 0, &quot;ticks&quot;: &quot;&quot;}}}], &quot;scattermapbox&quot;: [{&quot;type&quot;: &quot;scattermapbox&quot;, &quot;marker&quot;: {&quot;colorbar&quot;: {&quot;outlinewidth&quot;: 0, &quot;ticks&quot;: &quot;&quot;}}}], &quot;scatterternary&quot;: [{&quot;type&quot;: &quot;scatterternary&quot;, &quot;marker&quot;: {&quot;colorbar&quot;: {&quot;outlinewidth&quot;: 0, &quot;ticks&quot;: &quot;&quot;}}}], &quot;scattercarpet&quot;: [{&quot;type&quot;: &quot;scattercarpet&quot;, &quot;marker&quot;: {&quot;colorbar&quot;: {&quot;outlinewidth&quot;: 0, &quot;ticks&quot;: &quot;&quot;}}}], &quot;carpet&quot;: [{&quot;aaxis&quot;: {&quot;endlinecolor&quot;: &quot;#2a3f5f&quot;, &quot;gridcolor&quot;: &quot;white&quot;, &quot;linecolor&quot;: &quot;white&quot;, &quot;minorgridcolor&quot;: &quot;white&quot;, &quot;startlinecolor&quot;: &quot;#2a3f5f&quot;}, &quot;baxis&quot;: {&quot;endlinecolor&quot;: &quot;#2a3f5f&quot;, &quot;gridcolor&quot;: &quot;white&quot;, &quot;linecolor&quot;: &quot;white&quot;, &quot;minorgridcolor&quot;: &quot;white&quot;, &quot;startlinecolor&quot;: &quot;#2a3f5f&quot;}, &quot;type&quot;: &quot;carpet&quot;}], &quot;table&quot;: [{&quot;cells&quot;: {&quot;fill&quot;: {&quot;color&quot;: &quot;#EBF0F8&quot;}, &quot;line&quot;: {&quot;color&quot;: &quot;white&quot;}}, &quot;header&quot;: {&quot;fill&quot;: {&quot;color&quot;: &quot;#C8D4E3&quot;}, &quot;line&quot;: {&quot;color&quot;: &quot;white&quot;}}, &quot;type&quot;: &quot;table&quot;}], &quot;barpolar&quot;: [{&quot;marker&quot;: {&quot;line&quot;: {&quot;color&quot;: &quot;#E5ECF6&quot;, &quot;width&quot;: 0.5}, &quot;pattern&quot;: {&quot;fillmode&quot;: &quot;overlay&quot;, &quot;size&quot;: 10, &quot;solidity&quot;: 0.2}}, &quot;type&quot;: &quot;barpolar&quot;}], &quot;pie&quot;: [{&quot;automargin&quot;: true, &quot;type&quot;: &quot;pie&quot;}]}, &quot;layout&quot;: {&quot;autotypenumbers&quot;: &quot;strict&quot;, &quot;colorway&quot;: [&quot;#636efa&quot;, &quot;#EF553B&quot;, &quot;#00cc96&quot;, &quot;#ab63fa&quot;, &quot;#FFA15A&quot;, &quot;#19d3f3&quot;, &quot;#FF6692&quot;, &quot;#B6E880&quot;, &quot;#FF97FF&quot;, &quot;#FECB52&quot;], &quot;font&quot;: {&quot;color&quot;: &quot;#2a3f5f&quot;}, &quot;hovermode&quot;: &quot;closest&quot;, &quot;hoverlabel&quot;: {&quot;align&quot;: &quot;left&quot;}, &quot;paper_bgcolor&quot;: &quot;white&quot;, &quot;plot_bgcolor&quot;: &quot;#E5ECF6&quot;, &quot;polar&quot;: {&quot;bgcolor&quot;: &quot;#E5ECF6&quot;, &quot;angularaxis&quot;: {&quot;gridcolor&quot;: &quot;white&quot;, &quot;linecolor&quot;: &quot;white&quot;, &quot;ticks&quot;: &quot;&quot;}, &quot;radialaxis&quot;: {&quot;gridcolor&quot;: &quot;white&quot;, &quot;linecolor&quot;: &quot;white&quot;, &quot;ticks&quot;: &quot;&quot;}}, &quot;ternary&quot;: {&quot;bgcolor&quot;: &quot;#E5ECF6&quot;, &quot;aaxis&quot;: {&quot;gridcolor&quot;: &quot;white&quot;, &quot;linecolor&quot;: &quot;white&quot;, &quot;ticks&quot;: &quot;&quot;}, &quot;baxis&quot;: {&quot;gridcolor&quot;: &quot;white&quot;, &quot;linecolor&quot;: &quot;white&quot;, &quot;ticks&quot;: &quot;&quot;}, &quot;caxis&quot;: {&quot;gridcolor&quot;: &quot;white&quot;, &quot;linecolor&quot;: &quot;white&quot;, &quot;ticks&quot;: &quot;&quot;}}, &quot;coloraxis&quot;: {&quot;colorbar&quot;: {&quot;outlinewidth&quot;: 0, &quot;ticks&quot;: &quot;&quot;}}, &quot;colorscale&quot;: {&quot;sequential&quot;: [[0.0, &quot;#0d0887&quot;], [0.1111111111111111, &quot;#46039f&quot;], [0.2222222222222222, &quot;#7201a8&quot;], [0.3333333333333333, &quot;#9c179e&quot;], [0.4444444444444444, &quot;#bd3786&quot;], [0.5555555555555556, &quot;#d8576b&quot;], [0.6666666666666666, &quot;#ed7953&quot;], [0.7777777777777778, &quot;#fb9f3a&quot;], [0.8888888888888888, &quot;#fdca26&quot;], [1.0, &quot;#f0f921&quot;]], &quot;sequentialminus&quot;: [[0.0, &quot;#0d0887&quot;], [0.1111111111111111, &quot;#46039f&quot;], [0.2222222222222222, &quot;#7201a8&quot;], [0.3333333333333333, &quot;#9c179e&quot;], [0.4444444444444444, &quot;#bd3786&quot;], [0.5555555555555556, &quot;#d8576b&quot;], [0.6666666666666666, &quot;#ed7953&quot;], [0.7777777777777778, &quot;#fb9f3a&quot;], [0.8888888888888888, &quot;#fdca26&quot;], [1.0, &quot;#f0f921&quot;]], &quot;diverging&quot;: [[0, &quot;#8e0152&quot;], [0.1, &quot;#c51b7d&quot;], [0.2, &quot;#de77ae&quot;], [0.3, &quot;#f1b6da&quot;], [0.4, &quot;#fde0ef&quot;], [0.5, &quot;#f7f7f7&quot;], [0.6, &quot;#e6f5d0&quot;], [0.7, &quot;#b8e186&quot;], [0.8, &quot;#7fbc41&quot;], [0.9, &quot;#4d9221&quot;], [1, &quot;#276419&quot;]]}, &quot;xaxis&quot;: {&quot;gridcolor&quot;: &quot;white&quot;, &quot;linecolor&quot;: &quot;white&quot;, &quot;ticks&quot;: &quot;&quot;, &quot;title&quot;: {&quot;standoff&quot;: 15}, &quot;zerolinecolor&quot;: &quot;white&quot;, &quot;automargin&quot;: true, &quot;zerolinewidth&quot;: 2}, &quot;yaxis&quot;: {&quot;gridcolor&quot;: &quot;white&quot;, &quot;linecolor&quot;: &quot;white&quot;, &quot;ticks&quot;: &quot;&quot;, &quot;title&quot;: {&quot;standoff&quot;: 15}, &quot;zerolinecolor&quot;: &quot;white&quot;, &quot;automargin&quot;: true, &quot;zerolinewidth&quot;: 2}, &quot;scene&quot;: {&quot;xaxis&quot;: {&quot;backgroundcolor&quot;: &quot;#E5ECF6&quot;, &quot;gridcolor&quot;: &quot;white&quot;, &quot;linecolor&quot;: &quot;white&quot;, &quot;showbackground&quot;: true, &quot;ticks&quot;: &quot;&quot;, &quot;zerolinecolor&quot;: &quot;white&quot;, &quot;gridwidth&quot;: 2}, &quot;yaxis&quot;: {&quot;backgroundcolor&quot;: &quot;#E5ECF6&quot;, &quot;gridcolor&quot;: &quot;white&quot;, &quot;linecolor&quot;: &quot;white&quot;, &quot;showbackground&quot;: true, &quot;ticks&quot;: &quot;&quot;, &quot;zerolinecolor&quot;: &quot;white&quot;, &quot;gridwidth&quot;: 2}, &quot;zaxis&quot;: {&quot;backgroundcolor&quot;: &quot;#E5ECF6&quot;, &quot;gridcolor&quot;: &quot;white&quot;, &quot;linecolor&quot;: &quot;white&quot;, &quot;showbackground&quot;: true, &quot;ticks&quot;: &quot;&quot;, &quot;zerolinecolor&quot;: &quot;white&quot;, &quot;gridwidth&quot;: 2}}, &quot;shapedefaults&quot;: {&quot;line&quot;: {&quot;color&quot;: &quot;#2a3f5f&quot;}}, &quot;annotationdefaults&quot;: {&quot;arrowcolor&quot;: &quot;#2a3f5f&quot;, &quot;arrowhead&quot;: 0, &quot;arrowwidth&quot;: 1}, &quot;geo&quot;: {&quot;bgcolor&quot;: &quot;white&quot;, &quot;landcolor&quot;: &quot;#E5ECF6&quot;, &quot;subunitcolor&quot;: &quot;white&quot;, &quot;showland&quot;: true, &quot;showlakes&quot;: true, &quot;lakecolor&quot;: &quot;white&quot;}, &quot;title&quot;: {&quot;x&quot;: 0.05}, &quot;mapbox&quot;: {&quot;style&quot;: &quot;light&quot;}}}, &quot;xaxis&quot;: {&quot;anchor&quot;: &quot;y&quot;, &quot;domain&quot;: [0.0, 1.0], &quot;type&quot;: &quot;date&quot;}, &quot;yaxis&quot;: {&quot;anchor&quot;: &quot;x&quot;, &quot;domain&quot;: [0.0, 1.0], &quot;title&quot;: {&quot;text&quot;: &quot;resource&quot;}, &quot;categoryorder&quot;: &quot;category descending&quot;}, &quot;legend&quot;: {&quot;title&quot;: {&quot;text&quot;: &quot;job&quot;}, &quot;tracegroupgap&quot;: 0}, &quot;margin&quot;: {&quot;t&quot;: 60}, &quot;barmode&quot;: &quot;overlay&quot;, &quot;dragmode&quot;: &quot;zoom&quot;}}' data-config='{}'></marimo-plotly>"
      ]
     },
     "metadata": {},
     "output_type": "display_data"
    }
   ],
   "source": [
    "plot_plotly(model1_cpsat.to_df())"
   ]
  },
  {
   "cell_type": "code",
   "execution_count": null,
   "id": "iLit",
   "metadata": {},
   "outputs": [
    {
     "data": {
      "text/html": [
       "<marimo-ui-element object-id='iLit-0' random-id='94b5936f-f468-3ab3-c0fa-24db77390656'><marimo-vega data-initial-value='{}' data-label='null' data-spec='{&quot;config&quot;: {&quot;view&quot;: {&quot;continuousWidth&quot;: 300, &quot;continuousHeight&quot;: 300}}, &quot;data&quot;: {&quot;url&quot;: &quot;./@file/5658-1220480-zwMztQiF.arrow&quot;, &quot;format&quot;: {&quot;type&quot;: &quot;arrow&quot;}}, &quot;mark&quot;: {&quot;type&quot;: &quot;bar&quot;}, &quot;encoding&quot;: {&quot;color&quot;: {&quot;field&quot;: &quot;job&quot;, &quot;type&quot;: &quot;nominal&quot;}, &quot;x&quot;: {&quot;field&quot;: &quot;start&quot;, &quot;type&quot;: &quot;temporal&quot;}, &quot;x2&quot;: {&quot;field&quot;: &quot;end&quot;}, &quot;y&quot;: {&quot;field&quot;: &quot;resource&quot;, &quot;type&quot;: &quot;nominal&quot;}}, &quot;height&quot;: 400, &quot;width&quot;: &quot;container&quot;, &quot;&#36;schema&quot;: &quot;https://vega.github.io/schema/vega-lite/v5.20.1.json&quot;}' data-chart-selection='true' data-field-selection='true'></marimo-vega></marimo-ui-element>"
      ]
     },
     "metadata": {},
     "output_type": "display_data"
    }
   ],
   "source": [
    "mo.ui.altair_chart(plot_altair(model1_cpsat.to_df()))"
   ]
  },
  {
   "cell_type": "code",
   "execution_count": null,
   "id": "ZHCJ",
   "metadata": {},
   "outputs": [
    {
     "data": {
      "application/vnd.vegalite.v5+json": "{\n  \"$schema\": \"https://vega.github.io/schema/vega-lite/v5.20.1.json\",\n  \"config\": {\n    \"view\": {\n      \"continuousHeight\": 300,\n      \"continuousWidth\": 300\n    }\n  },\n  \"data\": {\n    \"name\": \"data-890b3eff51eb149b8f090e2355e0d1f3\"\n  },\n  \"datasets\": {\n    \"data-890b3eff51eb149b8f090e2355e0d1f3\": [\n      {\n        \"end\": \"2025-06-25T00:00:00\",\n        \"job\": \"job0\",\n        \"resource\": \"machine2\",\n        \"start\": \"2025-06-24T00:00:00\",\n        \"task\": \"task0\"\n      },\n      {\n        \"end\": \"2025-06-28T00:00:00\",\n        \"job\": \"job0\",\n        \"resource\": \"machine0\",\n        \"start\": \"2025-06-25T00:00:00\",\n        \"task\": \"task1\"\n      },\n      {\n        \"end\": \"2025-07-11T00:00:00\",\n        \"job\": \"job0\",\n        \"resource\": \"machine1\",\n        \"start\": \"2025-07-05T00:00:00\",\n        \"task\": \"task2\"\n      },\n      {\n        \"end\": \"2025-07-26T00:00:00\",\n        \"job\": \"job0\",\n        \"resource\": \"machine3\",\n        \"start\": \"2025-07-19T00:00:00\",\n        \"task\": \"task3\"\n      },\n      {\n        \"end\": \"2025-07-30T00:00:00\",\n        \"job\": \"job0\",\n        \"resource\": \"machine5\",\n        \"start\": \"2025-07-27T00:00:00\",\n        \"task\": \"task4\"\n      },\n      {\n        \"end\": \"2025-08-06T00:00:00\",\n        \"job\": \"job0\",\n        \"resource\": \"machine4\",\n        \"start\": \"2025-07-31T00:00:00\",\n        \"task\": \"task5\"\n      },\n      {\n        \"end\": \"2025-06-27T00:00:00\",\n        \"job\": \"job1\",\n        \"resource\": \"machine1\",\n        \"start\": \"2025-06-19T00:00:00\",\n        \"task\": \"task0\"\n      },\n      {\n        \"end\": \"2025-07-02T00:00:00\",\n        \"job\": \"job1\",\n        \"resource\": \"machine2\",\n        \"start\": \"2025-06-27T00:00:00\",\n        \"task\": \"task1\"\n      },\n      {\n        \"end\": \"2025-07-12T00:00:00\",\n        \"job\": \"job1\",\n        \"resource\": \"machine4\",\n        \"start\": \"2025-07-02T00:00:00\",\n        \"task\": \"task2\"\n      },\n      {\n        \"end\": \"2025-07-27T00:00:00\",\n        \"job\": \"job1\",\n        \"resource\": \"machine5\",\n        \"start\": \"2025-07-17T00:00:00\",\n        \"task\": \"task3\"\n      },\n      {\n        \"end\": \"2025-08-06T00:00:00\",\n        \"job\": \"job1\",\n        \"resource\": \"machine0\",\n        \"start\": \"2025-07-27T00:00:00\",\n        \"task\": \"task4\"\n      },\n      {\n        \"end\": \"2025-08-10T00:00:00\",\n        \"job\": \"job1\",\n        \"resource\": \"machine3\",\n        \"start\": \"2025-08-06T00:00:00\",\n        \"task\": \"task5\"\n      },\n      {\n        \"end\": \"2025-06-24T00:00:00\",\n        \"job\": \"job2\",\n        \"resource\": \"machine2\",\n        \"start\": \"2025-06-19T00:00:00\",\n        \"task\": \"task0\"\n      },\n      {\n        \"end\": \"2025-06-28T00:00:00\",\n        \"job\": \"job2\",\n        \"resource\": \"machine3\",\n        \"start\": \"2025-06-24T00:00:00\",\n        \"task\": \"task1\"\n      },\n      {\n        \"end\": \"2025-07-06T00:00:00\",\n        \"job\": \"job2\",\n        \"resource\": \"machine5\",\n        \"start\": \"2025-06-28T00:00:00\",\n        \"task\": \"task2\"\n      },\n      {\n        \"end\": \"2025-07-16T00:00:00\",\n        \"job\": \"job2\",\n        \"resource\": \"machine0\",\n        \"start\": \"2025-07-07T00:00:00\",\n        \"task\": \"task3\"\n      },\n      {\n        \"end\": \"2025-07-17T00:00:00\",\n        \"job\": \"job2\",\n        \"resource\": \"machine1\",\n        \"start\": \"2025-07-16T00:00:00\",\n        \"task\": \"task4\"\n      },\n      {\n        \"end\": \"2025-08-13T00:00:00\",\n        \"job\": \"job2\",\n        \"resource\": \"machine4\",\n        \"start\": \"2025-08-06T00:00:00\",\n        \"task\": \"task5\"\n      },\n      {\n        \"end\": \"2025-07-02T00:00:00\",\n        \"job\": \"job3\",\n        \"resource\": \"machine1\",\n        \"start\": \"2025-06-27T00:00:00\",\n        \"task\": \"task0\"\n      },\n      {\n        \"end\": \"2025-07-07T00:00:00\",\n        \"job\": \"job3\",\n        \"resource\": \"machine0\",\n        \"start\": \"2025-07-02T00:00:00\",\n        \"task\": \"task1\"\n      },\n      {\n        \"end\": \"2025-07-16T00:00:00\",\n        \"job\": \"job3\",\n        \"resource\": \"machine2\",\n        \"start\": \"2025-07-11T00:00:00\",\n        \"task\": \"task2\"\n      },\n      {\n        \"end\": \"2025-07-19T00:00:00\",\n        \"job\": \"job3\",\n        \"resource\": \"machine3\",\n        \"start\": \"2025-07-16T00:00:00\",\n        \"task\": \"task3\"\n      },\n      {\n        \"end\": \"2025-07-27T00:00:00\",\n        \"job\": \"job3\",\n        \"resource\": \"machine4\",\n        \"start\": \"2025-07-19T00:00:00\",\n        \"task\": \"task4\"\n      },\n      {\n        \"end\": \"2025-08-12T00:00:00\",\n        \"job\": \"job3\",\n        \"resource\": \"machine5\",\n        \"start\": \"2025-08-03T00:00:00\",\n        \"task\": \"task5\"\n      },\n      {\n        \"end\": \"2025-07-11T00:00:00\",\n        \"job\": \"job4\",\n        \"resource\": \"machine2\",\n        \"start\": \"2025-07-02T00:00:00\",\n        \"task\": \"task0\"\n      },\n      {\n        \"end\": \"2025-07-14T00:00:00\",\n        \"job\": \"job4\",\n        \"resource\": \"machine1\",\n        \"start\": \"2025-07-11T00:00:00\",\n        \"task\": \"task1\"\n      },\n      {\n        \"end\": \"2025-07-19T00:00:00\",\n        \"job\": \"job4\",\n        \"resource\": \"machine4\",\n        \"start\": \"2025-07-14T00:00:00\",\n        \"task\": \"task2\"\n      },\n      {\n        \"end\": \"2025-08-03T00:00:00\",\n        \"job\": \"job4\",\n        \"resource\": \"machine5\",\n        \"start\": \"2025-07-30T00:00:00\",\n        \"task\": \"task3\"\n      },\n      {\n        \"end\": \"2025-08-09T00:00:00\",\n        \"job\": \"job4\",\n        \"resource\": \"machine0\",\n        \"start\": \"2025-08-06T00:00:00\",\n        \"task\": \"task4\"\n      },\n      {\n        \"end\": \"2025-08-11T00:00:00\",\n        \"job\": \"job4\",\n        \"resource\": \"machine3\",\n        \"start\": \"2025-08-10T00:00:00\",\n        \"task\": \"task5\"\n      },\n      {\n        \"end\": \"2025-07-05T00:00:00\",\n        \"job\": \"job5\",\n        \"resource\": \"machine1\",\n        \"start\": \"2025-07-02T00:00:00\",\n        \"task\": \"task0\"\n      },\n      {\n        \"end\": \"2025-07-08T00:00:00\",\n        \"job\": \"job5\",\n        \"resource\": \"machine3\",\n        \"start\": \"2025-07-05T00:00:00\",\n        \"task\": \"task1\"\n      },\n      {\n        \"end\": \"2025-07-17T00:00:00\",\n        \"job\": \"job5\",\n        \"resource\": \"machine5\",\n        \"start\": \"2025-07-08T00:00:00\",\n        \"task\": \"task2\"\n      },\n      {\n        \"end\": \"2025-07-27T00:00:00\",\n        \"job\": \"job5\",\n        \"resource\": \"machine0\",\n        \"start\": \"2025-07-17T00:00:00\",\n        \"task\": \"task3\"\n      },\n      {\n        \"end\": \"2025-07-31T00:00:00\",\n        \"job\": \"job5\",\n        \"resource\": \"machine4\",\n        \"start\": \"2025-07-27T00:00:00\",\n        \"task\": \"task4\"\n      },\n      {\n        \"end\": \"2025-08-01T00:00:00\",\n        \"job\": \"job5\",\n        \"resource\": \"machine2\",\n        \"start\": \"2025-07-31T00:00:00\",\n        \"task\": \"task5\"\n      }\n    ]\n  },\n  \"encoding\": {\n    \"color\": {\n      \"field\": \"job\",\n      \"type\": \"nominal\"\n    },\n    \"x\": {\n      \"field\": \"start\",\n      \"type\": \"temporal\"\n    },\n    \"x2\": {\n      \"field\": \"end\"\n    },\n    \"y\": {\n      \"field\": \"resource\",\n      \"type\": \"nominal\"\n    }\n  },\n  \"height\": 400,\n  \"mark\": {\n    \"type\": \"bar\"\n  },\n  \"usermeta\": {\n    \"embedOptions\": {}\n  },\n  \"width\": \"container\"\n}"
     },
     "metadata": {},
     "output_type": "display_data"
    }
   ],
   "source": [
    "plot_altair(model1_cpsat.to_df())"
   ]
  },
  {
   "cell_type": "markdown",
   "id": "ROlb",
   "metadata": {
    "marimo": {
     "config": {
      "hide_code": true
     }
    }
   },
   "source": [
    "## 数理最適化ソルバーによる求解"
   ]
  },
  {
   "cell_type": "markdown",
   "id": "qnkX",
   "metadata": {
    "marimo": {
     "config": {
      "hide_code": true
     }
    }
   },
   "source": [
    "各ジョブに含まれるオペレーション数は機械の数 $m$ に一致すると仮定する.\n",
    "\n",
    "\\begin{align*}\n",
    "&\\min &z \\\\\n",
    "&\\text{s.t. } & s_{ij} + p_{ij} - M (1 - x_{ijkl}) &\\leq s_{kl} \\quad &(\\forall j \\ne k) \\\\\n",
    "& & x_{ijkl} + x_{klij} &= 1 \\quad &((i,j) \\ne (k,l) \\land \\text{machine} (i,j) = \\text{machine} (k,l)) \\\\\n",
    "& & s_{ij} + p_{ij} &\\le s_{i,j+1} \\quad &(\\forall i, j = 1, \\dots, m-1) \\\\\n",
    "& & s_{im} &\\le z \\quad &(\\forall i) \\\\\n",
    "& & s_{i1} &\\ge 0 \\quad &(\\forall i) \\\\\n",
    "& & x_{ijkl} &\\in \\{ 0, 1 \\} \\quad &(\\forall (i,j) \\ne (k,l))\n",
    "\\end{align*}"
   ]
  },
  {
   "cell_type": "code",
   "execution_count": null,
   "id": "TqIu",
   "metadata": {},
   "outputs": [],
   "source": [
    "class _MyInterval:\n",
    "    def __init__(self, model: highspy.Highs, lb: int, ub: int, proctime: int):\n",
    "        self.lb = lb\n",
    "        self.ub = ub\n",
    "        self.start = model.addVariable(lb=lb, ub=ub - proctime)\n",
    "        self.time = proctime\n",
    "        self.end = self.start + self.time\n",
    "\n",
    "\n",
    "def _my_add_no_overlap(model: highspy.Highs, tasks: list[_MyInterval]) -> None:\n",
    "    for idx1, task1 in enumerate(tasks):\n",
    "        for idx2, task2 in enumerate(tasks):\n",
    "            if idx1 >= idx2:\n",
    "                continue\n",
    "\n",
    "            big_m = max(task1.ub - task2.lb, task2.ub - task1.lb)\n",
    "            tmp1 = model.addBinary()  # [ task1 ] [ task2 ] の順\n",
    "            tmp2 = model.addBinary()  # [ task2 ] [ task1 ] の順\n",
    "            model.addConstrs(\n",
    "                [\n",
    "                    task1.end - big_m * (1 - tmp1) <= task2.start,\n",
    "                    task2.end - big_m * (1 - tmp2) <= task1.start,\n",
    "                    tmp1 + tmp2 == 1,\n",
    "                ]\n",
    "            )\n",
    "\n",
    "\n",
    "class ModelHighs:\n",
    "    def __init__(self, jobs: list[Job]):\n",
    "        self.jobs = jobs\n",
    "        num_machines = len(\n",
    "            set(task.machine for job in self.jobs for task in job.tasks)\n",
    "        )\n",
    "        self.machines = list(range(num_machines))\n",
    "\n",
    "        self.model = highspy.Highs()\n",
    "\n",
    "        self.intervals = [[None for task in job.tasks] for job in jobs]\n",
    "        machine_to_interval = {m: [] for m in self.machines}\n",
    "\n",
    "        horizon = sum(task.time for job in self.jobs for task in job.tasks)\n",
    "        for id_job, job in enumerate(self.jobs):\n",
    "            for id_task, task in enumerate(job.tasks):\n",
    "                interval = _MyInterval(self.model, 0, horizon, task.time)\n",
    "                self.intervals[id_job][id_task] = interval\n",
    "                machine_to_interval[task.machine].append(interval)\n",
    "\n",
    "        for machine in machine_to_interval:\n",
    "            if len(machine_to_interval[machine]) > 0:\n",
    "                _my_add_no_overlap(self.model, machine_to_interval[machine])\n",
    "\n",
    "        for id_job, job in enumerate(self.jobs):\n",
    "            for id_task, task in enumerate(job.tasks):\n",
    "                if id_task > 0:\n",
    "                    curr = self.intervals[id_job][id_task]\n",
    "                    prev = self.intervals[id_job][id_task - 1]\n",
    "                    self.model.addConstr(curr.start >= prev.end)\n",
    "\n",
    "        makespan = self.model.addVariable(lb=0, ub=horizon)\n",
    "        self.model.addConstrs(\n",
    "            [\n",
    "                self.intervals[id_job][-1].end <= makespan\n",
    "                for id_job, job in enumerate(self.jobs)\n",
    "            ],\n",
    "        )\n",
    "        self.model.minimize(makespan)\n",
    "\n",
    "    def solve(self) -> None:\n",
    "        self.model.run()\n",
    "        self.solution = self.model.getSolution()\n",
    "\n",
    "    def to_df(self) -> pandas.DataFrame:\n",
    "        today = datetime.date.today()\n",
    "        l = []\n",
    "        for id_job, job in enumerate(self.jobs):\n",
    "            for id_task, task in enumerate(job.tasks):\n",
    "                start = self.solution.col_value[\n",
    "                    self.intervals[id_job][id_task].start.index\n",
    "                ]\n",
    "                start = round(start)\n",
    "                end = start + self.jobs[id_job].tasks[id_task].time\n",
    "                l.append(\n",
    "                    dict(\n",
    "                        job=f\"job{id_job}\",\n",
    "                        task=f\"task{id_task}\",\n",
    "                        resource=f\"machine{self.jobs[id_job].tasks[id_task].machine}\",\n",
    "                        start=today + datetime.timedelta(start),\n",
    "                        end=today + datetime.timedelta(end),\n",
    "                    )\n",
    "                )\n",
    "        df = pandas.DataFrame(l)\n",
    "        df[\"start\"] = pandas.to_datetime(df[\"start\"])\n",
    "        df[\"end\"] = pandas.to_datetime(df[\"end\"])\n",
    "        return df"
   ]
  },
  {
   "cell_type": "code",
   "execution_count": null,
   "id": "Vxnm",
   "metadata": {},
   "outputs": [
    {
     "name": "stdout",
     "output_type": "stream",
     "text": [
      "Running HiGHS 1.11.0 (git hash: 364c83a): Copyright (c) 2025 HiGHS under MIT licence terms\n"
     ]
    },
    {
     "name": "stdout",
     "output_type": "stream",
     "text": [
      "MIP  has 306 rows; 217 cols; 792 nonzeros; 180 integer variables (180 binary)\n",
      "Coefficient ranges:\n",
      "  Matrix [1e+00, 2e+02]\n",
      "  Cost   [1e+00, 1e+00]\n",
      "  Bound  [1e+00, 2e+02]\n",
      "  RHS    [1e+00, 2e+02]\n",
      "Presolving model\n",
      "216 rows, 127 cols, 612 nonzeros  0s\n",
      "212 rows, 127 cols, 600 nonzeros  0s\n",
      "\n",
      "Solving MIP model with:\n",
      "   212 rows\n",
      "   127 cols (90 binary, 0 integer, 0 implied int., 37 continuous, 0 domain fixed)\n",
      "   600 nonzeros\n"
     ]
    },
    {
     "name": "stdout",
     "output_type": "stream",
     "text": [
      "\n",
      "Src: B => Branching; C => Central rounding; F => Feasibility pump; J => Feasibility jump;\n",
      "     H => Heuristic; L => Sub-MIP; P => Empty MIP; R => Randomized rounding; Z => ZI Round;\n",
      "     I => Shifting; S => Solve LP; T => Evaluate node; U => Unbounded; X => User solution;\n",
      "     z => Trivial zero; l => Trivial lower; u => Trivial upper; p => Trivial point\n",
      "\n",
      "        Nodes      |    B&B Tree     |            Objective Bounds              |  Dynamic Constraints |       Work      \n",
      "Src  Proc. InQueue |  Leaves   Expl. | BestBound       BestSol              Gap |   Cuts   InLp Confl. | LpIters     Time\n",
      "\n",
      "         0       0         0   0.00%   9               inf                  inf        0      0      0         0     0.0s\n",
      " R       0       0         0   0.00%   47              152               69.08%        0      0      0        92     0.0s\n"
     ]
    },
    {
     "name": "stdout",
     "output_type": "stream",
     "text": [
      " L       0       0         0   0.00%   49.48911212     60                17.52%     2421    188      0      1007     0.2s\n",
      "\n",
      "6.7% inactive integer columns, restarting\n",
      "Model after restart has 186 rows, 109 cols (72 bin., 0 int., 0 impl., 37 cont., 0 dom.fix.), and 510 nonzeros\n",
      "\n",
      "         0       0         0   0.00%   49.78946174     60                17.02%       45      0      0      2085     0.2s\n",
      "         0       0         0   0.00%   49.7947358      60                17.01%       45     26      0      2190     0.2s\n"
     ]
    },
    {
     "name": "stdout",
     "output_type": "stream",
     "text": [
      " L       0       0         0   0.00%   49.98814373     57                12.30%     1682    133      0      2786     0.2s\n"
     ]
    },
    {
     "name": "stdout",
     "output_type": "stream",
     "text": [
      " B     254       8        99  93.21%   51.60271405     56                 7.85%     3930    137    520      8738     0.5s\n"
     ]
    },
    {
     "name": "stdout",
     "output_type": "stream",
     "text": [
      " B     272       6       105  94.92%   51.73613877     55                 5.93%     3726     57    560      9288     0.5s\n"
     ]
    },
    {
     "name": "stdout",
     "output_type": "stream",
     "text": [
      "       286       0       113 100.00%   55              55                 0.00%     4191     37    597      9803     0.5s\n",
      "\n",
      "Solving report\n",
      "  Status            Optimal\n",
      "  Primal bound      55\n",
      "  Dual bound        55\n",
      "  Gap               0% (tolerance: 0.01%)\n",
      "  P-D integral      0.143436718592\n",
      "  Solution status   feasible\n",
      "                    55 (objective)\n",
      "                    0 (bound viol.)\n",
      "                    0 (int. viol.)\n",
      "                    0 (row viol.)\n",
      "  Timing            0.54 (total)\n",
      "                    0.00 (presolve)\n",
      "                    0.00 (solve)\n",
      "                    0.00 (postsolve)\n",
      "  Max sub-MIP depth 2\n",
      "  Nodes             286\n",
      "  Repair LPs        0 (0 feasible; 0 iterations)\n",
      "  LP iterations     9803 (total)\n",
      "                    1516 (strong br.)\n",
      "                    2336 (separation)\n",
      "                    1486 (heuristics)\n",
      "MIP  has 306 rows; 217 cols; 792 nonzeros; 180 integer variables (180 binary)\n",
      "Coefficient ranges:\n",
      "  Matrix [1e+00, 2e+02]\n",
      "  Cost   [1e+00, 1e+00]\n",
      "  Bound  [1e+00, 2e+02]\n",
      "  RHS    [1e+00, 2e+02]\n",
      "Assessing feasibility of MIP using primal feasibility and integrality tolerance of       1e-06\n",
      "Solution has               num          max          sum\n",
      "Col     infeasibilities      0            0            0\n",
      "Integer infeasibilities      0            0            0\n",
      "Row     infeasibilities      0            0            0\n",
      "Row     residuals            0            0            0\n",
      "Presolving model\n",
      "216 rows, 127 cols, 612 nonzeros  0s\n",
      "212 rows, 127 cols, 600 nonzeros  0s\n",
      "\n",
      "MIP start solution is feasible, objective value is 55\n",
      "\n",
      "Solving MIP model with:\n",
      "   212 rows\n",
      "   127 cols (77 binary, 0 integer, 0 implied int., 37 continuous, 13 domain fixed)\n",
      "   600 nonzeros\n"
     ]
    },
    {
     "name": "stdout",
     "output_type": "stream",
     "text": [
      "\n",
      "Src: B => Branching; C => Central rounding; F => Feasibility pump; J => Feasibility jump;\n",
      "     H => Heuristic; L => Sub-MIP; P => Empty MIP; R => Randomized rounding; Z => ZI Round;\n",
      "     I => Shifting; S => Solve LP; T => Evaluate node; U => Unbounded; X => User solution;\n",
      "     z => Trivial zero; l => Trivial lower; u => Trivial upper; p => Trivial point\n",
      "\n",
      "        Nodes      |    B&B Tree     |            Objective Bounds              |  Dynamic Constraints |       Work      \n",
      "Src  Proc. InQueue |  Leaves   Expl. | BestBound       BestSol              Gap |   Cuts   InLp Confl. | LpIters     Time\n",
      "\n",
      "         0       0         0   0.00%   47              55                14.55%        0      0      0         0     0.0s\n",
      "         0       0         0   0.00%   47              55                14.55%        0      0      0        84     0.0s\n"
     ]
    },
    {
     "name": "stdout",
     "output_type": "stream",
     "text": [
      "\n",
      "26.0% inactive integer columns, restarting\n",
      "         0       0         0   0.00%   55              55                 0.00%        0    134      0       227     0.0s\n",
      "\n",
      "Solving report\n",
      "  Status            Optimal\n",
      "  Primal bound      55\n",
      "  Dual bound        55\n",
      "  Gap               0% (tolerance: 0.01%)\n",
      "  P-D integral      0.00501451666647\n",
      "  Solution status   feasible\n",
      "                    55 (objective)\n",
      "                    0 (bound viol.)\n",
      "                    0 (int. viol.)\n",
      "                    0 (row viol.)\n",
      "  Timing            0.05 (total)\n",
      "                    0.00 (presolve)\n",
      "                    0.00 (solve)\n",
      "                    0.00 (postsolve)\n",
      "  Max sub-MIP depth 1\n",
      "  Nodes             0\n",
      "  Repair LPs        0 (0 feasible; 0 iterations)\n",
      "  LP iterations     227 (total)\n",
      "                    0 (strong br.)\n",
      "                    52 (separation)\n",
      "                    91 (heuristics)\n"
     ]
    }
   ],
   "source": [
    "model1_highs = ModelHighs(jobs1)\n",
    "model1_highs.solve()"
   ]
  },
  {
   "cell_type": "code",
   "execution_count": null,
   "id": "DnEU",
   "metadata": {},
   "outputs": [
    {
     "data": {
      "application/vnd.vegalite.v5+json": "{\n  \"$schema\": \"https://vega.github.io/schema/vega-lite/v5.20.1.json\",\n  \"config\": {\n    \"view\": {\n      \"continuousHeight\": 300,\n      \"continuousWidth\": 300\n    }\n  },\n  \"data\": {\n    \"name\": \"data-09f0d17c13ff42c5e07809f84018ba0d\"\n  },\n  \"datasets\": {\n    \"data-09f0d17c13ff42c5e07809f84018ba0d\": [\n      {\n        \"end\": \"2025-06-20T00:00:00\",\n        \"job\": \"job0\",\n        \"resource\": \"machine2\",\n        \"start\": \"2025-06-19T00:00:00\",\n        \"task\": \"task0\"\n      },\n      {\n        \"end\": \"2025-06-23T00:00:00\",\n        \"job\": \"job0\",\n        \"resource\": \"machine0\",\n        \"start\": \"2025-06-20T00:00:00\",\n        \"task\": \"task1\"\n      },\n      {\n        \"end\": \"2025-07-11T00:00:00\",\n        \"job\": \"job0\",\n        \"resource\": \"machine1\",\n        \"start\": \"2025-07-05T00:00:00\",\n        \"task\": \"task2\"\n      },\n      {\n        \"end\": \"2025-07-26T00:00:00\",\n        \"job\": \"job0\",\n        \"resource\": \"machine3\",\n        \"start\": \"2025-07-19T00:00:00\",\n        \"task\": \"task3\"\n      },\n      {\n        \"end\": \"2025-07-30T00:00:00\",\n        \"job\": \"job0\",\n        \"resource\": \"machine5\",\n        \"start\": \"2025-07-27T00:00:00\",\n        \"task\": \"task4\"\n      },\n      {\n        \"end\": \"2025-08-13T00:00:00\",\n        \"job\": \"job0\",\n        \"resource\": \"machine4\",\n        \"start\": \"2025-08-07T00:00:00\",\n        \"task\": \"task5\"\n      },\n      {\n        \"end\": \"2025-06-27T00:00:00\",\n        \"job\": \"job1\",\n        \"resource\": \"machine1\",\n        \"start\": \"2025-06-19T00:00:00\",\n        \"task\": \"task0\"\n      },\n      {\n        \"end\": \"2025-07-02T00:00:00\",\n        \"job\": \"job1\",\n        \"resource\": \"machine2\",\n        \"start\": \"2025-06-27T00:00:00\",\n        \"task\": \"task1\"\n      },\n      {\n        \"end\": \"2025-07-12T00:00:00\",\n        \"job\": \"job1\",\n        \"resource\": \"machine4\",\n        \"start\": \"2025-07-02T00:00:00\",\n        \"task\": \"task2\"\n      },\n      {\n        \"end\": \"2025-07-27T00:00:00\",\n        \"job\": \"job1\",\n        \"resource\": \"machine5\",\n        \"start\": \"2025-07-17T00:00:00\",\n        \"task\": \"task3\"\n      },\n      {\n        \"end\": \"2025-08-08T00:00:00\",\n        \"job\": \"job1\",\n        \"resource\": \"machine0\",\n        \"start\": \"2025-07-29T00:00:00\",\n        \"task\": \"task4\"\n      },\n      {\n        \"end\": \"2025-08-12T00:00:00\",\n        \"job\": \"job1\",\n        \"resource\": \"machine3\",\n        \"start\": \"2025-08-08T00:00:00\",\n        \"task\": \"task5\"\n      },\n      {\n        \"end\": \"2025-06-25T00:00:00\",\n        \"job\": \"job2\",\n        \"resource\": \"machine2\",\n        \"start\": \"2025-06-20T00:00:00\",\n        \"task\": \"task0\"\n      },\n      {\n        \"end\": \"2025-06-29T00:00:00\",\n        \"job\": \"job2\",\n        \"resource\": \"machine3\",\n        \"start\": \"2025-06-25T00:00:00\",\n        \"task\": \"task1\"\n      },\n      {\n        \"end\": \"2025-07-07T00:00:00\",\n        \"job\": \"job2\",\n        \"resource\": \"machine5\",\n        \"start\": \"2025-06-29T00:00:00\",\n        \"task\": \"task2\"\n      },\n      {\n        \"end\": \"2025-07-16T00:00:00\",\n        \"job\": \"job2\",\n        \"resource\": \"machine0\",\n        \"start\": \"2025-07-07T00:00:00\",\n        \"task\": \"task3\"\n      },\n      {\n        \"end\": \"2025-07-17T00:00:00\",\n        \"job\": \"job2\",\n        \"resource\": \"machine1\",\n        \"start\": \"2025-07-16T00:00:00\",\n        \"task\": \"task4\"\n      },\n      {\n        \"end\": \"2025-07-26T00:00:00\",\n        \"job\": \"job2\",\n        \"resource\": \"machine4\",\n        \"start\": \"2025-07-19T00:00:00\",\n        \"task\": \"task5\"\n      },\n      {\n        \"end\": \"2025-07-02T00:00:00\",\n        \"job\": \"job3\",\n        \"resource\": \"machine1\",\n        \"start\": \"2025-06-27T00:00:00\",\n        \"task\": \"task0\"\n      },\n      {\n        \"end\": \"2025-07-07T00:00:00\",\n        \"job\": \"job3\",\n        \"resource\": \"machine0\",\n        \"start\": \"2025-07-02T00:00:00\",\n        \"task\": \"task1\"\n      },\n      {\n        \"end\": \"2025-07-16T00:00:00\",\n        \"job\": \"job3\",\n        \"resource\": \"machine2\",\n        \"start\": \"2025-07-11T00:00:00\",\n        \"task\": \"task2\"\n      },\n      {\n        \"end\": \"2025-07-19T00:00:00\",\n        \"job\": \"job3\",\n        \"resource\": \"machine3\",\n        \"start\": \"2025-07-16T00:00:00\",\n        \"task\": \"task3\"\n      },\n      {\n        \"end\": \"2025-08-03T00:00:00\",\n        \"job\": \"job3\",\n        \"resource\": \"machine4\",\n        \"start\": \"2025-07-26T00:00:00\",\n        \"task\": \"task4\"\n      },\n      {\n        \"end\": \"2025-08-13T00:00:00\",\n        \"job\": \"job3\",\n        \"resource\": \"machine5\",\n        \"start\": \"2025-08-04T00:00:00\",\n        \"task\": \"task5\"\n      },\n      {\n        \"end\": \"2025-07-11T00:00:00\",\n        \"job\": \"job4\",\n        \"resource\": \"machine2\",\n        \"start\": \"2025-07-02T00:00:00\",\n        \"task\": \"task0\"\n      },\n      {\n        \"end\": \"2025-07-14T00:00:00\",\n        \"job\": \"job4\",\n        \"resource\": \"machine1\",\n        \"start\": \"2025-07-11T00:00:00\",\n        \"task\": \"task1\"\n      },\n      {\n        \"end\": \"2025-07-19T00:00:00\",\n        \"job\": \"job4\",\n        \"resource\": \"machine4\",\n        \"start\": \"2025-07-14T00:00:00\",\n        \"task\": \"task2\"\n      },\n      {\n        \"end\": \"2025-08-03T00:00:00\",\n        \"job\": \"job4\",\n        \"resource\": \"machine5\",\n        \"start\": \"2025-07-30T00:00:00\",\n        \"task\": \"task3\"\n      },\n      {\n        \"end\": \"2025-08-11T00:00:00\",\n        \"job\": \"job4\",\n        \"resource\": \"machine0\",\n        \"start\": \"2025-08-08T00:00:00\",\n        \"task\": \"task4\"\n      },\n      {\n        \"end\": \"2025-08-13T00:00:00\",\n        \"job\": \"job4\",\n        \"resource\": \"machine3\",\n        \"start\": \"2025-08-12T00:00:00\",\n        \"task\": \"task5\"\n      },\n      {\n        \"end\": \"2025-07-05T00:00:00\",\n        \"job\": \"job5\",\n        \"resource\": \"machine1\",\n        \"start\": \"2025-07-02T00:00:00\",\n        \"task\": \"task0\"\n      },\n      {\n        \"end\": \"2025-07-08T00:00:00\",\n        \"job\": \"job5\",\n        \"resource\": \"machine3\",\n        \"start\": \"2025-07-05T00:00:00\",\n        \"task\": \"task1\"\n      },\n      {\n        \"end\": \"2025-07-17T00:00:00\",\n        \"job\": \"job5\",\n        \"resource\": \"machine5\",\n        \"start\": \"2025-07-08T00:00:00\",\n        \"task\": \"task2\"\n      },\n      {\n        \"end\": \"2025-07-27T00:00:00\",\n        \"job\": \"job5\",\n        \"resource\": \"machine0\",\n        \"start\": \"2025-07-17T00:00:00\",\n        \"task\": \"task3\"\n      },\n      {\n        \"end\": \"2025-08-07T00:00:00\",\n        \"job\": \"job5\",\n        \"resource\": \"machine4\",\n        \"start\": \"2025-08-03T00:00:00\",\n        \"task\": \"task4\"\n      },\n      {\n        \"end\": \"2025-08-08T00:00:00\",\n        \"job\": \"job5\",\n        \"resource\": \"machine2\",\n        \"start\": \"2025-08-07T00:00:00\",\n        \"task\": \"task5\"\n      }\n    ]\n  },\n  \"encoding\": {\n    \"color\": {\n      \"field\": \"job\",\n      \"type\": \"nominal\"\n    },\n    \"x\": {\n      \"field\": \"start\",\n      \"type\": \"temporal\"\n    },\n    \"x2\": {\n      \"field\": \"end\"\n    },\n    \"y\": {\n      \"field\": \"resource\",\n      \"type\": \"nominal\"\n    }\n  },\n  \"height\": 400,\n  \"mark\": {\n    \"type\": \"bar\"\n  },\n  \"usermeta\": {\n    \"embedOptions\": {}\n  },\n  \"width\": \"container\"\n}"
     },
     "metadata": {},
     "output_type": "display_data"
    }
   ],
   "source": [
    "plot_altair(model1_highs.to_df())"
   ]
  },
  {
   "cell_type": "markdown",
   "id": "ulZA",
   "metadata": {
    "marimo": {
     "config": {
      "hide_code": true
     }
    }
   },
   "source": [
    "## FIXSTARS Amplify Scheduling Engine による求解"
   ]
  },
  {
   "cell_type": "code",
   "execution_count": null,
   "id": "ecfG",
   "metadata": {},
   "outputs": [],
   "source": [
    "dotenv.load_dotenv(dotenv.find_dotenv(usecwd=True))\n",
    "token = os.environ[\"FIXSTARS_SE\"]\n",
    "\n",
    "\n",
    "class ModelAmplifySe:\n",
    "    def __init__(self, jobs: list[Job]):\n",
    "        self.jobs = jobs\n",
    "        num_machines = len(\n",
    "            set(task.machine for job in self.jobs for task in job.tasks)\n",
    "        )\n",
    "        self.machines = list(range(num_machines))\n",
    "        self.se_machines = [\n",
    "            amplify_sched.Machine(name=f\"machine{midx}\")\n",
    "            for midx in self.machines\n",
    "        ]\n",
    "\n",
    "        self.model = amplify_sched.Model()\n",
    "\n",
    "        for semachine in self.se_machines:\n",
    "            self.model.machines.add(machine=semachine)\n",
    "\n",
    "        self.se_jobs = [\n",
    "            amplify_sched.Job(name=f\"job{jidx}\")\n",
    "            for jidx, _ in enumerate(self.jobs)\n",
    "        ]\n",
    "        for idx, job in enumerate(self.jobs):\n",
    "            sejob = self.se_jobs[idx]\n",
    "            self.model.jobs.add(sejob)\n",
    "            for jdx, task in enumerate(job.tasks):\n",
    "                semachine = self.se_machines[task.machine]\n",
    "                setask = amplify_sched.Task()\n",
    "                setask.processing_times[semachine] = task.time\n",
    "                self.model.jobs[sejob.name].append(setask)\n",
    "\n",
    "    def solve(self, timeout: int = 5) -> None:\n",
    "        self.solution = self.model.solve(token=token, timeout=timeout)\n",
    "\n",
    "    def get_makespan(self) -> int:\n",
    "        return int(self.solution.table[\"Finish\"].max())\n",
    "\n",
    "    def to_df(self) -> pandas.DataFrame:\n",
    "        sol_df = self.solution.table\n",
    "        today = datetime.date.today()\n",
    "        l = []\n",
    "        for id_job, job in enumerate(self.jobs):\n",
    "            sejob = self.se_jobs[id_job]\n",
    "            for id_task, task in enumerate(job.tasks):\n",
    "                start = int(\n",
    "                    sol_df[sol_df[\"Job\"] == sejob.name][\"Start\"].reset_index(\n",
    "                        drop=True\n",
    "                    )[id_task]\n",
    "                )\n",
    "                end = start + self.jobs[id_job].tasks[id_task].time\n",
    "                l.append(\n",
    "                    dict(\n",
    "                        job=f\"job{id_job}\",\n",
    "                        task=f\"task{id_task}\",\n",
    "                        resource=f\"machine{self.jobs[id_job].tasks[id_task].machine}\",\n",
    "                        start=today + datetime.timedelta(start),\n",
    "                        end=today + datetime.timedelta(end),\n",
    "                    )\n",
    "                )\n",
    "        df = pandas.DataFrame(l)\n",
    "        df[\"start\"] = pandas.to_datetime(df[\"start\"])\n",
    "        df[\"end\"] = pandas.to_datetime(df[\"end\"])\n",
    "        return df"
   ]
  },
  {
   "cell_type": "code",
   "execution_count": null,
   "id": "Pvdt",
   "metadata": {},
   "outputs": [
    {
     "name": "stdout",
     "output_type": "stream",
     "text": [
      "makespan = 55\n"
     ]
    }
   ],
   "source": [
    "model1_amplify = ModelAmplifySe(jobs1)\n",
    "model1_amplify.solve()\n",
    "\n",
    "print(f\"makespan = {model1_amplify.get_makespan()}\")"
   ]
  },
  {
   "cell_type": "code",
   "execution_count": null,
   "id": "ZBYS",
   "metadata": {},
   "outputs": [
    {
     "data": {
      "text/html": [
       "<marimo-plotly data-figure='{&quot;data&quot;: [{&quot;base&quot;: [5, 6, 16, 30, 38, 42], &quot;customdata&quot;: [[&quot;job0&quot;, 0], [&quot;job0&quot;, 1], [&quot;job0&quot;, 2], [&quot;job0&quot;, 3], [&quot;job0&quot;, 4], [&quot;job0&quot;, 5]], &quot;hovertemplate&quot;: &quot;Job=%{customdata[0]}&lt;br&gt;Start=%{base}&lt;br&gt;Finish=%{x}&lt;br&gt;Machine=%{y}&lt;br&gt;Process=%{customdata[1]}&lt;extra&gt;&lt;/extra&gt;&quot;, &quot;legendgroup&quot;: &quot;job0&quot;, &quot;marker&quot;: {&quot;color&quot;: &quot;#636efa&quot;, &quot;pattern&quot;: {&quot;shape&quot;: &quot;&quot;}}, &quot;name&quot;: &quot;job0&quot;, &quot;orientation&quot;: &quot;h&quot;, &quot;showlegend&quot;: true, &quot;textposition&quot;: &quot;auto&quot;, &quot;x&quot;: {&quot;dtype&quot;: &quot;i1&quot;, &quot;bdata&quot;: &quot;AQMGBwMG&quot;}, &quot;xaxis&quot;: &quot;x&quot;, &quot;y&quot;: [&quot;machine2&quot;, &quot;machine0&quot;, &quot;machine1&quot;, &quot;machine3&quot;, &quot;machine5&quot;, &quot;machine4&quot;], &quot;yaxis&quot;: &quot;y&quot;, &quot;type&quot;: &quot;bar&quot;}, {&quot;base&quot;: [0, 8, 13, 28, 38, 48], &quot;customdata&quot;: [[&quot;job1&quot;, 0], [&quot;job1&quot;, 1], [&quot;job1&quot;, 2], [&quot;job1&quot;, 3], [&quot;job1&quot;, 4], [&quot;job1&quot;, 5]], &quot;hovertemplate&quot;: &quot;Job=%{customdata[0]}&lt;br&gt;Start=%{base}&lt;br&gt;Finish=%{x}&lt;br&gt;Machine=%{y}&lt;br&gt;Process=%{customdata[1]}&lt;extra&gt;&lt;/extra&gt;&quot;, &quot;legendgroup&quot;: &quot;job1&quot;, &quot;marker&quot;: {&quot;color&quot;: &quot;#EF553B&quot;, &quot;pattern&quot;: {&quot;shape&quot;: &quot;&quot;}}, &quot;name&quot;: &quot;job1&quot;, &quot;orientation&quot;: &quot;h&quot;, &quot;showlegend&quot;: true, &quot;textposition&quot;: &quot;auto&quot;, &quot;x&quot;: {&quot;dtype&quot;: &quot;i1&quot;, &quot;bdata&quot;: &quot;CAUKCgoE&quot;}, &quot;xaxis&quot;: &quot;x&quot;, &quot;y&quot;: [&quot;machine1&quot;, &quot;machine2&quot;, &quot;machine4&quot;, &quot;machine5&quot;, &quot;machine0&quot;, &quot;machine3&quot;], &quot;yaxis&quot;: &quot;y&quot;, &quot;type&quot;: &quot;bar&quot;}, {&quot;base&quot;: [0, 5, 9, 18, 27, 48], &quot;customdata&quot;: [[&quot;job2&quot;, 0], [&quot;job2&quot;, 1], [&quot;job2&quot;, 2], [&quot;job2&quot;, 3], [&quot;job2&quot;, 4], [&quot;job2&quot;, 5]], &quot;hovertemplate&quot;: &quot;Job=%{customdata[0]}&lt;br&gt;Start=%{base}&lt;br&gt;Finish=%{x}&lt;br&gt;Machine=%{y}&lt;br&gt;Process=%{customdata[1]}&lt;extra&gt;&lt;/extra&gt;&quot;, &quot;legendgroup&quot;: &quot;job2&quot;, &quot;marker&quot;: {&quot;color&quot;: &quot;#00cc96&quot;, &quot;pattern&quot;: {&quot;shape&quot;: &quot;&quot;}}, &quot;name&quot;: &quot;job2&quot;, &quot;orientation&quot;: &quot;h&quot;, &quot;showlegend&quot;: true, &quot;textposition&quot;: &quot;auto&quot;, &quot;x&quot;: {&quot;dtype&quot;: &quot;i1&quot;, &quot;bdata&quot;: &quot;BQQICQEH&quot;}, &quot;xaxis&quot;: &quot;x&quot;, &quot;y&quot;: [&quot;machine2&quot;, &quot;machine3&quot;, &quot;machine5&quot;, &quot;machine0&quot;, &quot;machine1&quot;, &quot;machine4&quot;], &quot;yaxis&quot;: &quot;y&quot;, &quot;type&quot;: &quot;bar&quot;}, {&quot;base&quot;: [8, 13, 22, 27, 30, 45], &quot;customdata&quot;: [[&quot;job3&quot;, 0], [&quot;job3&quot;, 1], [&quot;job3&quot;, 2], [&quot;job3&quot;, 3], [&quot;job3&quot;, 4], [&quot;job3&quot;, 5]], &quot;hovertemplate&quot;: &quot;Job=%{customdata[0]}&lt;br&gt;Start=%{base}&lt;br&gt;Finish=%{x}&lt;br&gt;Machine=%{y}&lt;br&gt;Process=%{customdata[1]}&lt;extra&gt;&lt;/extra&gt;&quot;, &quot;legendgroup&quot;: &quot;job3&quot;, &quot;marker&quot;: {&quot;color&quot;: &quot;#ab63fa&quot;, &quot;pattern&quot;: {&quot;shape&quot;: &quot;&quot;}}, &quot;name&quot;: &quot;job3&quot;, &quot;orientation&quot;: &quot;h&quot;, &quot;showlegend&quot;: true, &quot;textposition&quot;: &quot;auto&quot;, &quot;x&quot;: {&quot;dtype&quot;: &quot;i1&quot;, &quot;bdata&quot;: &quot;BQUFAwgJ&quot;}, &quot;xaxis&quot;: &quot;x&quot;, &quot;y&quot;: [&quot;machine1&quot;, &quot;machine0&quot;, &quot;machine2&quot;, &quot;machine3&quot;, &quot;machine4&quot;, &quot;machine5&quot;], &quot;yaxis&quot;: &quot;y&quot;, &quot;type&quot;: &quot;bar&quot;}, {&quot;base&quot;: [13, 22, 25, 41, 48, 52], &quot;customdata&quot;: [[&quot;job4&quot;, 0], [&quot;job4&quot;, 1], [&quot;job4&quot;, 2], [&quot;job4&quot;, 3], [&quot;job4&quot;, 4], [&quot;job4&quot;, 5]], &quot;hovertemplate&quot;: &quot;Job=%{customdata[0]}&lt;br&gt;Start=%{base}&lt;br&gt;Finish=%{x}&lt;br&gt;Machine=%{y}&lt;br&gt;Process=%{customdata[1]}&lt;extra&gt;&lt;/extra&gt;&quot;, &quot;legendgroup&quot;: &quot;job4&quot;, &quot;marker&quot;: {&quot;color&quot;: &quot;#FFA15A&quot;, &quot;pattern&quot;: {&quot;shape&quot;: &quot;&quot;}}, &quot;name&quot;: &quot;job4&quot;, &quot;orientation&quot;: &quot;h&quot;, &quot;showlegend&quot;: true, &quot;textposition&quot;: &quot;auto&quot;, &quot;x&quot;: {&quot;dtype&quot;: &quot;i1&quot;, &quot;bdata&quot;: &quot;CQMFBAMB&quot;}, &quot;xaxis&quot;: &quot;x&quot;, &quot;y&quot;: [&quot;machine2&quot;, &quot;machine1&quot;, &quot;machine4&quot;, &quot;machine5&quot;, &quot;machine0&quot;, &quot;machine3&quot;], &quot;yaxis&quot;: &quot;y&quot;, &quot;type&quot;: &quot;bar&quot;}, {&quot;base&quot;: [13, 16, 19, 28, 38, 42], &quot;customdata&quot;: [[&quot;job5&quot;, 0], [&quot;job5&quot;, 1], [&quot;job5&quot;, 2], [&quot;job5&quot;, 3], [&quot;job5&quot;, 4], [&quot;job5&quot;, 5]], &quot;hovertemplate&quot;: &quot;Job=%{customdata[0]}&lt;br&gt;Start=%{base}&lt;br&gt;Finish=%{x}&lt;br&gt;Machine=%{y}&lt;br&gt;Process=%{customdata[1]}&lt;extra&gt;&lt;/extra&gt;&quot;, &quot;legendgroup&quot;: &quot;job5&quot;, &quot;marker&quot;: {&quot;color&quot;: &quot;#19d3f3&quot;, &quot;pattern&quot;: {&quot;shape&quot;: &quot;&quot;}}, &quot;name&quot;: &quot;job5&quot;, &quot;orientation&quot;: &quot;h&quot;, &quot;showlegend&quot;: true, &quot;textposition&quot;: &quot;auto&quot;, &quot;x&quot;: {&quot;dtype&quot;: &quot;i1&quot;, &quot;bdata&quot;: &quot;AwMJCgQB&quot;}, &quot;xaxis&quot;: &quot;x&quot;, &quot;y&quot;: [&quot;machine1&quot;, &quot;machine3&quot;, &quot;machine5&quot;, &quot;machine0&quot;, &quot;machine4&quot;, &quot;machine2&quot;], &quot;yaxis&quot;: &quot;y&quot;, &quot;type&quot;: &quot;bar&quot;}], &quot;layout&quot;: {&quot;template&quot;: {&quot;data&quot;: {&quot;histogram2dcontour&quot;: [{&quot;type&quot;: &quot;histogram2dcontour&quot;, &quot;colorbar&quot;: {&quot;outlinewidth&quot;: 0, &quot;ticks&quot;: &quot;&quot;}, &quot;colorscale&quot;: [[0.0, &quot;#0d0887&quot;], [0.1111111111111111, &quot;#46039f&quot;], [0.2222222222222222, &quot;#7201a8&quot;], [0.3333333333333333, &quot;#9c179e&quot;], [0.4444444444444444, &quot;#bd3786&quot;], [0.5555555555555556, &quot;#d8576b&quot;], [0.6666666666666666, &quot;#ed7953&quot;], [0.7777777777777778, &quot;#fb9f3a&quot;], [0.8888888888888888, &quot;#fdca26&quot;], [1.0, &quot;#f0f921&quot;]]}], &quot;choropleth&quot;: [{&quot;type&quot;: &quot;choropleth&quot;, &quot;colorbar&quot;: {&quot;outlinewidth&quot;: 0, &quot;ticks&quot;: &quot;&quot;}}], &quot;histogram2d&quot;: [{&quot;type&quot;: &quot;histogram2d&quot;, &quot;colorbar&quot;: {&quot;outlinewidth&quot;: 0, &quot;ticks&quot;: &quot;&quot;}, &quot;colorscale&quot;: [[0.0, &quot;#0d0887&quot;], [0.1111111111111111, &quot;#46039f&quot;], [0.2222222222222222, &quot;#7201a8&quot;], [0.3333333333333333, &quot;#9c179e&quot;], [0.4444444444444444, &quot;#bd3786&quot;], [0.5555555555555556, &quot;#d8576b&quot;], [0.6666666666666666, &quot;#ed7953&quot;], [0.7777777777777778, &quot;#fb9f3a&quot;], [0.8888888888888888, &quot;#fdca26&quot;], [1.0, &quot;#f0f921&quot;]]}], &quot;heatmap&quot;: [{&quot;type&quot;: &quot;heatmap&quot;, &quot;colorbar&quot;: {&quot;outlinewidth&quot;: 0, &quot;ticks&quot;: &quot;&quot;}, &quot;colorscale&quot;: [[0.0, &quot;#0d0887&quot;], [0.1111111111111111, &quot;#46039f&quot;], [0.2222222222222222, &quot;#7201a8&quot;], [0.3333333333333333, &quot;#9c179e&quot;], [0.4444444444444444, &quot;#bd3786&quot;], [0.5555555555555556, &quot;#d8576b&quot;], [0.6666666666666666, &quot;#ed7953&quot;], [0.7777777777777778, &quot;#fb9f3a&quot;], [0.8888888888888888, &quot;#fdca26&quot;], [1.0, &quot;#f0f921&quot;]]}], &quot;contourcarpet&quot;: [{&quot;type&quot;: &quot;contourcarpet&quot;, &quot;colorbar&quot;: {&quot;outlinewidth&quot;: 0, &quot;ticks&quot;: &quot;&quot;}}], &quot;contour&quot;: [{&quot;type&quot;: &quot;contour&quot;, &quot;colorbar&quot;: {&quot;outlinewidth&quot;: 0, &quot;ticks&quot;: &quot;&quot;}, &quot;colorscale&quot;: [[0.0, &quot;#0d0887&quot;], [0.1111111111111111, &quot;#46039f&quot;], [0.2222222222222222, &quot;#7201a8&quot;], [0.3333333333333333, &quot;#9c179e&quot;], [0.4444444444444444, &quot;#bd3786&quot;], [0.5555555555555556, &quot;#d8576b&quot;], [0.6666666666666666, &quot;#ed7953&quot;], [0.7777777777777778, &quot;#fb9f3a&quot;], [0.8888888888888888, &quot;#fdca26&quot;], [1.0, &quot;#f0f921&quot;]]}], &quot;surface&quot;: [{&quot;type&quot;: &quot;surface&quot;, &quot;colorbar&quot;: {&quot;outlinewidth&quot;: 0, &quot;ticks&quot;: &quot;&quot;}, &quot;colorscale&quot;: [[0.0, &quot;#0d0887&quot;], [0.1111111111111111, &quot;#46039f&quot;], [0.2222222222222222, &quot;#7201a8&quot;], [0.3333333333333333, &quot;#9c179e&quot;], [0.4444444444444444, &quot;#bd3786&quot;], [0.5555555555555556, &quot;#d8576b&quot;], [0.6666666666666666, &quot;#ed7953&quot;], [0.7777777777777778, &quot;#fb9f3a&quot;], [0.8888888888888888, &quot;#fdca26&quot;], [1.0, &quot;#f0f921&quot;]]}], &quot;mesh3d&quot;: [{&quot;type&quot;: &quot;mesh3d&quot;, &quot;colorbar&quot;: {&quot;outlinewidth&quot;: 0, &quot;ticks&quot;: &quot;&quot;}}], &quot;scatter&quot;: [{&quot;fillpattern&quot;: {&quot;fillmode&quot;: &quot;overlay&quot;, &quot;size&quot;: 10, &quot;solidity&quot;: 0.2}, &quot;type&quot;: &quot;scatter&quot;}], &quot;parcoords&quot;: [{&quot;type&quot;: &quot;parcoords&quot;, &quot;line&quot;: {&quot;colorbar&quot;: {&quot;outlinewidth&quot;: 0, &quot;ticks&quot;: &quot;&quot;}}}], &quot;scatterpolargl&quot;: [{&quot;type&quot;: &quot;scatterpolargl&quot;, &quot;marker&quot;: {&quot;colorbar&quot;: {&quot;outlinewidth&quot;: 0, &quot;ticks&quot;: &quot;&quot;}}}], &quot;bar&quot;: [{&quot;error_x&quot;: {&quot;color&quot;: &quot;#2a3f5f&quot;}, &quot;error_y&quot;: {&quot;color&quot;: &quot;#2a3f5f&quot;}, &quot;marker&quot;: {&quot;line&quot;: {&quot;color&quot;: &quot;#E5ECF6&quot;, &quot;width&quot;: 0.5}, &quot;pattern&quot;: {&quot;fillmode&quot;: &quot;overlay&quot;, &quot;size&quot;: 10, &quot;solidity&quot;: 0.2}}, &quot;type&quot;: &quot;bar&quot;}], &quot;scattergeo&quot;: [{&quot;type&quot;: &quot;scattergeo&quot;, &quot;marker&quot;: {&quot;colorbar&quot;: {&quot;outlinewidth&quot;: 0, &quot;ticks&quot;: &quot;&quot;}}}], &quot;scatterpolar&quot;: [{&quot;type&quot;: &quot;scatterpolar&quot;, &quot;marker&quot;: {&quot;colorbar&quot;: {&quot;outlinewidth&quot;: 0, &quot;ticks&quot;: &quot;&quot;}}}], &quot;histogram&quot;: [{&quot;marker&quot;: {&quot;pattern&quot;: {&quot;fillmode&quot;: &quot;overlay&quot;, &quot;size&quot;: 10, &quot;solidity&quot;: 0.2}}, &quot;type&quot;: &quot;histogram&quot;}], &quot;scattergl&quot;: [{&quot;type&quot;: &quot;scattergl&quot;, &quot;marker&quot;: {&quot;colorbar&quot;: {&quot;outlinewidth&quot;: 0, &quot;ticks&quot;: &quot;&quot;}}}], &quot;scatter3d&quot;: [{&quot;type&quot;: &quot;scatter3d&quot;, &quot;line&quot;: {&quot;colorbar&quot;: {&quot;outlinewidth&quot;: 0, &quot;ticks&quot;: &quot;&quot;}}, &quot;marker&quot;: {&quot;colorbar&quot;: {&quot;outlinewidth&quot;: 0, &quot;ticks&quot;: &quot;&quot;}}}], &quot;scattermap&quot;: [{&quot;type&quot;: &quot;scattermap&quot;, &quot;marker&quot;: {&quot;colorbar&quot;: {&quot;outlinewidth&quot;: 0, &quot;ticks&quot;: &quot;&quot;}}}], &quot;scattermapbox&quot;: [{&quot;type&quot;: &quot;scattermapbox&quot;, &quot;marker&quot;: {&quot;colorbar&quot;: {&quot;outlinewidth&quot;: 0, &quot;ticks&quot;: &quot;&quot;}}}], &quot;scatterternary&quot;: [{&quot;type&quot;: &quot;scatterternary&quot;, &quot;marker&quot;: {&quot;colorbar&quot;: {&quot;outlinewidth&quot;: 0, &quot;ticks&quot;: &quot;&quot;}}}], &quot;scattercarpet&quot;: [{&quot;type&quot;: &quot;scattercarpet&quot;, &quot;marker&quot;: {&quot;colorbar&quot;: {&quot;outlinewidth&quot;: 0, &quot;ticks&quot;: &quot;&quot;}}}], &quot;carpet&quot;: [{&quot;aaxis&quot;: {&quot;endlinecolor&quot;: &quot;#2a3f5f&quot;, &quot;gridcolor&quot;: &quot;white&quot;, &quot;linecolor&quot;: &quot;white&quot;, &quot;minorgridcolor&quot;: &quot;white&quot;, &quot;startlinecolor&quot;: &quot;#2a3f5f&quot;}, &quot;baxis&quot;: {&quot;endlinecolor&quot;: &quot;#2a3f5f&quot;, &quot;gridcolor&quot;: &quot;white&quot;, &quot;linecolor&quot;: &quot;white&quot;, &quot;minorgridcolor&quot;: &quot;white&quot;, &quot;startlinecolor&quot;: &quot;#2a3f5f&quot;}, &quot;type&quot;: &quot;carpet&quot;}], &quot;table&quot;: [{&quot;cells&quot;: {&quot;fill&quot;: {&quot;color&quot;: &quot;#EBF0F8&quot;}, &quot;line&quot;: {&quot;color&quot;: &quot;white&quot;}}, &quot;header&quot;: {&quot;fill&quot;: {&quot;color&quot;: &quot;#C8D4E3&quot;}, &quot;line&quot;: {&quot;color&quot;: &quot;white&quot;}}, &quot;type&quot;: &quot;table&quot;}], &quot;barpolar&quot;: [{&quot;marker&quot;: {&quot;line&quot;: {&quot;color&quot;: &quot;#E5ECF6&quot;, &quot;width&quot;: 0.5}, &quot;pattern&quot;: {&quot;fillmode&quot;: &quot;overlay&quot;, &quot;size&quot;: 10, &quot;solidity&quot;: 0.2}}, &quot;type&quot;: &quot;barpolar&quot;}], &quot;pie&quot;: [{&quot;automargin&quot;: true, &quot;type&quot;: &quot;pie&quot;}]}, &quot;layout&quot;: {&quot;autotypenumbers&quot;: &quot;strict&quot;, &quot;colorway&quot;: [&quot;#636efa&quot;, &quot;#EF553B&quot;, &quot;#00cc96&quot;, &quot;#ab63fa&quot;, &quot;#FFA15A&quot;, &quot;#19d3f3&quot;, &quot;#FF6692&quot;, &quot;#B6E880&quot;, &quot;#FF97FF&quot;, &quot;#FECB52&quot;], &quot;font&quot;: {&quot;color&quot;: &quot;#2a3f5f&quot;}, &quot;hovermode&quot;: &quot;closest&quot;, &quot;hoverlabel&quot;: {&quot;align&quot;: &quot;left&quot;}, &quot;paper_bgcolor&quot;: &quot;white&quot;, &quot;plot_bgcolor&quot;: &quot;#E5ECF6&quot;, &quot;polar&quot;: {&quot;bgcolor&quot;: &quot;#E5ECF6&quot;, &quot;angularaxis&quot;: {&quot;gridcolor&quot;: &quot;white&quot;, &quot;linecolor&quot;: &quot;white&quot;, &quot;ticks&quot;: &quot;&quot;}, &quot;radialaxis&quot;: {&quot;gridcolor&quot;: &quot;white&quot;, &quot;linecolor&quot;: &quot;white&quot;, &quot;ticks&quot;: &quot;&quot;}}, &quot;ternary&quot;: {&quot;bgcolor&quot;: &quot;#E5ECF6&quot;, &quot;aaxis&quot;: {&quot;gridcolor&quot;: &quot;white&quot;, &quot;linecolor&quot;: &quot;white&quot;, &quot;ticks&quot;: &quot;&quot;}, &quot;baxis&quot;: {&quot;gridcolor&quot;: &quot;white&quot;, &quot;linecolor&quot;: &quot;white&quot;, &quot;ticks&quot;: &quot;&quot;}, &quot;caxis&quot;: {&quot;gridcolor&quot;: &quot;white&quot;, &quot;linecolor&quot;: &quot;white&quot;, &quot;ticks&quot;: &quot;&quot;}}, &quot;coloraxis&quot;: {&quot;colorbar&quot;: {&quot;outlinewidth&quot;: 0, &quot;ticks&quot;: &quot;&quot;}}, &quot;colorscale&quot;: {&quot;sequential&quot;: [[0.0, &quot;#0d0887&quot;], [0.1111111111111111, &quot;#46039f&quot;], [0.2222222222222222, &quot;#7201a8&quot;], [0.3333333333333333, &quot;#9c179e&quot;], [0.4444444444444444, &quot;#bd3786&quot;], [0.5555555555555556, &quot;#d8576b&quot;], [0.6666666666666666, &quot;#ed7953&quot;], [0.7777777777777778, &quot;#fb9f3a&quot;], [0.8888888888888888, &quot;#fdca26&quot;], [1.0, &quot;#f0f921&quot;]], &quot;sequentialminus&quot;: [[0.0, &quot;#0d0887&quot;], [0.1111111111111111, &quot;#46039f&quot;], [0.2222222222222222, &quot;#7201a8&quot;], [0.3333333333333333, &quot;#9c179e&quot;], [0.4444444444444444, &quot;#bd3786&quot;], [0.5555555555555556, &quot;#d8576b&quot;], [0.6666666666666666, &quot;#ed7953&quot;], [0.7777777777777778, &quot;#fb9f3a&quot;], [0.8888888888888888, &quot;#fdca26&quot;], [1.0, &quot;#f0f921&quot;]], &quot;diverging&quot;: [[0, &quot;#8e0152&quot;], [0.1, &quot;#c51b7d&quot;], [0.2, &quot;#de77ae&quot;], [0.3, &quot;#f1b6da&quot;], [0.4, &quot;#fde0ef&quot;], [0.5, &quot;#f7f7f7&quot;], [0.6, &quot;#e6f5d0&quot;], [0.7, &quot;#b8e186&quot;], [0.8, &quot;#7fbc41&quot;], [0.9, &quot;#4d9221&quot;], [1, &quot;#276419&quot;]]}, &quot;xaxis&quot;: {&quot;gridcolor&quot;: &quot;white&quot;, &quot;linecolor&quot;: &quot;white&quot;, &quot;ticks&quot;: &quot;&quot;, &quot;title&quot;: {&quot;standoff&quot;: 15}, &quot;zerolinecolor&quot;: &quot;white&quot;, &quot;automargin&quot;: true, &quot;zerolinewidth&quot;: 2}, &quot;yaxis&quot;: {&quot;gridcolor&quot;: &quot;white&quot;, &quot;linecolor&quot;: &quot;white&quot;, &quot;ticks&quot;: &quot;&quot;, &quot;title&quot;: {&quot;standoff&quot;: 15}, &quot;zerolinecolor&quot;: &quot;white&quot;, &quot;automargin&quot;: true, &quot;zerolinewidth&quot;: 2}, &quot;scene&quot;: {&quot;xaxis&quot;: {&quot;backgroundcolor&quot;: &quot;#E5ECF6&quot;, &quot;gridcolor&quot;: &quot;white&quot;, &quot;linecolor&quot;: &quot;white&quot;, &quot;showbackground&quot;: true, &quot;ticks&quot;: &quot;&quot;, &quot;zerolinecolor&quot;: &quot;white&quot;, &quot;gridwidth&quot;: 2}, &quot;yaxis&quot;: {&quot;backgroundcolor&quot;: &quot;#E5ECF6&quot;, &quot;gridcolor&quot;: &quot;white&quot;, &quot;linecolor&quot;: &quot;white&quot;, &quot;showbackground&quot;: true, &quot;ticks&quot;: &quot;&quot;, &quot;zerolinecolor&quot;: &quot;white&quot;, &quot;gridwidth&quot;: 2}, &quot;zaxis&quot;: {&quot;backgroundcolor&quot;: &quot;#E5ECF6&quot;, &quot;gridcolor&quot;: &quot;white&quot;, &quot;linecolor&quot;: &quot;white&quot;, &quot;showbackground&quot;: true, &quot;ticks&quot;: &quot;&quot;, &quot;zerolinecolor&quot;: &quot;white&quot;, &quot;gridwidth&quot;: 2}}, &quot;shapedefaults&quot;: {&quot;line&quot;: {&quot;color&quot;: &quot;#2a3f5f&quot;}}, &quot;annotationdefaults&quot;: {&quot;arrowcolor&quot;: &quot;#2a3f5f&quot;, &quot;arrowhead&quot;: 0, &quot;arrowwidth&quot;: 1}, &quot;geo&quot;: {&quot;bgcolor&quot;: &quot;white&quot;, &quot;landcolor&quot;: &quot;#E5ECF6&quot;, &quot;subunitcolor&quot;: &quot;white&quot;, &quot;showland&quot;: true, &quot;showlakes&quot;: true, &quot;lakecolor&quot;: &quot;white&quot;}, &quot;title&quot;: {&quot;x&quot;: 0.05}, &quot;mapbox&quot;: {&quot;style&quot;: &quot;light&quot;}}}, &quot;xaxis&quot;: {&quot;anchor&quot;: &quot;y&quot;, &quot;domain&quot;: [0.0, 1.0], &quot;type&quot;: &quot;linear&quot;}, &quot;yaxis&quot;: {&quot;anchor&quot;: &quot;x&quot;, &quot;domain&quot;: [0.0, 1.0], &quot;title&quot;: {&quot;text&quot;: &quot;Machine&quot;}, &quot;categoryorder&quot;: &quot;array&quot;, &quot;categoryarray&quot;: [&quot;machine5&quot;, &quot;machine4&quot;, &quot;machine3&quot;, &quot;machine2&quot;, &quot;machine1&quot;, &quot;machine0&quot;]}, &quot;legend&quot;: {&quot;title&quot;: {&quot;text&quot;: &quot;Job&quot;}, &quot;tracegroupgap&quot;: 0}, &quot;margin&quot;: {&quot;t&quot;: 60}, &quot;barmode&quot;: &quot;overlay&quot;, &quot;dragmode&quot;: &quot;zoom&quot;}}' data-config='{}'></marimo-plotly>"
      ]
     },
     "metadata": {},
     "output_type": "display_data"
    }
   ],
   "source": [
    "model1_amplify.solution.timeline(machine_view=True)"
   ]
  },
  {
   "cell_type": "code",
   "execution_count": null,
   "id": "aLJB",
   "metadata": {},
   "outputs": [
    {
     "data": {
      "application/vnd.vegalite.v5+json": "{\n  \"$schema\": \"https://vega.github.io/schema/vega-lite/v5.20.1.json\",\n  \"config\": {\n    \"view\": {\n      \"continuousHeight\": 300,\n      \"continuousWidth\": 300\n    }\n  },\n  \"data\": {\n    \"name\": \"data-890b3eff51eb149b8f090e2355e0d1f3\"\n  },\n  \"datasets\": {\n    \"data-890b3eff51eb149b8f090e2355e0d1f3\": [\n      {\n        \"end\": \"2025-06-25T00:00:00\",\n        \"job\": \"job0\",\n        \"resource\": \"machine2\",\n        \"start\": \"2025-06-24T00:00:00\",\n        \"task\": \"task0\"\n      },\n      {\n        \"end\": \"2025-06-28T00:00:00\",\n        \"job\": \"job0\",\n        \"resource\": \"machine0\",\n        \"start\": \"2025-06-25T00:00:00\",\n        \"task\": \"task1\"\n      },\n      {\n        \"end\": \"2025-07-11T00:00:00\",\n        \"job\": \"job0\",\n        \"resource\": \"machine1\",\n        \"start\": \"2025-07-05T00:00:00\",\n        \"task\": \"task2\"\n      },\n      {\n        \"end\": \"2025-07-26T00:00:00\",\n        \"job\": \"job0\",\n        \"resource\": \"machine3\",\n        \"start\": \"2025-07-19T00:00:00\",\n        \"task\": \"task3\"\n      },\n      {\n        \"end\": \"2025-07-30T00:00:00\",\n        \"job\": \"job0\",\n        \"resource\": \"machine5\",\n        \"start\": \"2025-07-27T00:00:00\",\n        \"task\": \"task4\"\n      },\n      {\n        \"end\": \"2025-08-06T00:00:00\",\n        \"job\": \"job0\",\n        \"resource\": \"machine4\",\n        \"start\": \"2025-07-31T00:00:00\",\n        \"task\": \"task5\"\n      },\n      {\n        \"end\": \"2025-06-27T00:00:00\",\n        \"job\": \"job1\",\n        \"resource\": \"machine1\",\n        \"start\": \"2025-06-19T00:00:00\",\n        \"task\": \"task0\"\n      },\n      {\n        \"end\": \"2025-07-02T00:00:00\",\n        \"job\": \"job1\",\n        \"resource\": \"machine2\",\n        \"start\": \"2025-06-27T00:00:00\",\n        \"task\": \"task1\"\n      },\n      {\n        \"end\": \"2025-07-12T00:00:00\",\n        \"job\": \"job1\",\n        \"resource\": \"machine4\",\n        \"start\": \"2025-07-02T00:00:00\",\n        \"task\": \"task2\"\n      },\n      {\n        \"end\": \"2025-07-27T00:00:00\",\n        \"job\": \"job1\",\n        \"resource\": \"machine5\",\n        \"start\": \"2025-07-17T00:00:00\",\n        \"task\": \"task3\"\n      },\n      {\n        \"end\": \"2025-08-06T00:00:00\",\n        \"job\": \"job1\",\n        \"resource\": \"machine0\",\n        \"start\": \"2025-07-27T00:00:00\",\n        \"task\": \"task4\"\n      },\n      {\n        \"end\": \"2025-08-10T00:00:00\",\n        \"job\": \"job1\",\n        \"resource\": \"machine3\",\n        \"start\": \"2025-08-06T00:00:00\",\n        \"task\": \"task5\"\n      },\n      {\n        \"end\": \"2025-06-24T00:00:00\",\n        \"job\": \"job2\",\n        \"resource\": \"machine2\",\n        \"start\": \"2025-06-19T00:00:00\",\n        \"task\": \"task0\"\n      },\n      {\n        \"end\": \"2025-06-28T00:00:00\",\n        \"job\": \"job2\",\n        \"resource\": \"machine3\",\n        \"start\": \"2025-06-24T00:00:00\",\n        \"task\": \"task1\"\n      },\n      {\n        \"end\": \"2025-07-06T00:00:00\",\n        \"job\": \"job2\",\n        \"resource\": \"machine5\",\n        \"start\": \"2025-06-28T00:00:00\",\n        \"task\": \"task2\"\n      },\n      {\n        \"end\": \"2025-07-16T00:00:00\",\n        \"job\": \"job2\",\n        \"resource\": \"machine0\",\n        \"start\": \"2025-07-07T00:00:00\",\n        \"task\": \"task3\"\n      },\n      {\n        \"end\": \"2025-07-17T00:00:00\",\n        \"job\": \"job2\",\n        \"resource\": \"machine1\",\n        \"start\": \"2025-07-16T00:00:00\",\n        \"task\": \"task4\"\n      },\n      {\n        \"end\": \"2025-08-13T00:00:00\",\n        \"job\": \"job2\",\n        \"resource\": \"machine4\",\n        \"start\": \"2025-08-06T00:00:00\",\n        \"task\": \"task5\"\n      },\n      {\n        \"end\": \"2025-07-02T00:00:00\",\n        \"job\": \"job3\",\n        \"resource\": \"machine1\",\n        \"start\": \"2025-06-27T00:00:00\",\n        \"task\": \"task0\"\n      },\n      {\n        \"end\": \"2025-07-07T00:00:00\",\n        \"job\": \"job3\",\n        \"resource\": \"machine0\",\n        \"start\": \"2025-07-02T00:00:00\",\n        \"task\": \"task1\"\n      },\n      {\n        \"end\": \"2025-07-16T00:00:00\",\n        \"job\": \"job3\",\n        \"resource\": \"machine2\",\n        \"start\": \"2025-07-11T00:00:00\",\n        \"task\": \"task2\"\n      },\n      {\n        \"end\": \"2025-07-19T00:00:00\",\n        \"job\": \"job3\",\n        \"resource\": \"machine3\",\n        \"start\": \"2025-07-16T00:00:00\",\n        \"task\": \"task3\"\n      },\n      {\n        \"end\": \"2025-07-27T00:00:00\",\n        \"job\": \"job3\",\n        \"resource\": \"machine4\",\n        \"start\": \"2025-07-19T00:00:00\",\n        \"task\": \"task4\"\n      },\n      {\n        \"end\": \"2025-08-12T00:00:00\",\n        \"job\": \"job3\",\n        \"resource\": \"machine5\",\n        \"start\": \"2025-08-03T00:00:00\",\n        \"task\": \"task5\"\n      },\n      {\n        \"end\": \"2025-07-11T00:00:00\",\n        \"job\": \"job4\",\n        \"resource\": \"machine2\",\n        \"start\": \"2025-07-02T00:00:00\",\n        \"task\": \"task0\"\n      },\n      {\n        \"end\": \"2025-07-14T00:00:00\",\n        \"job\": \"job4\",\n        \"resource\": \"machine1\",\n        \"start\": \"2025-07-11T00:00:00\",\n        \"task\": \"task1\"\n      },\n      {\n        \"end\": \"2025-07-19T00:00:00\",\n        \"job\": \"job4\",\n        \"resource\": \"machine4\",\n        \"start\": \"2025-07-14T00:00:00\",\n        \"task\": \"task2\"\n      },\n      {\n        \"end\": \"2025-08-03T00:00:00\",\n        \"job\": \"job4\",\n        \"resource\": \"machine5\",\n        \"start\": \"2025-07-30T00:00:00\",\n        \"task\": \"task3\"\n      },\n      {\n        \"end\": \"2025-08-09T00:00:00\",\n        \"job\": \"job4\",\n        \"resource\": \"machine0\",\n        \"start\": \"2025-08-06T00:00:00\",\n        \"task\": \"task4\"\n      },\n      {\n        \"end\": \"2025-08-11T00:00:00\",\n        \"job\": \"job4\",\n        \"resource\": \"machine3\",\n        \"start\": \"2025-08-10T00:00:00\",\n        \"task\": \"task5\"\n      },\n      {\n        \"end\": \"2025-07-05T00:00:00\",\n        \"job\": \"job5\",\n        \"resource\": \"machine1\",\n        \"start\": \"2025-07-02T00:00:00\",\n        \"task\": \"task0\"\n      },\n      {\n        \"end\": \"2025-07-08T00:00:00\",\n        \"job\": \"job5\",\n        \"resource\": \"machine3\",\n        \"start\": \"2025-07-05T00:00:00\",\n        \"task\": \"task1\"\n      },\n      {\n        \"end\": \"2025-07-17T00:00:00\",\n        \"job\": \"job5\",\n        \"resource\": \"machine5\",\n        \"start\": \"2025-07-08T00:00:00\",\n        \"task\": \"task2\"\n      },\n      {\n        \"end\": \"2025-07-27T00:00:00\",\n        \"job\": \"job5\",\n        \"resource\": \"machine0\",\n        \"start\": \"2025-07-17T00:00:00\",\n        \"task\": \"task3\"\n      },\n      {\n        \"end\": \"2025-07-31T00:00:00\",\n        \"job\": \"job5\",\n        \"resource\": \"machine4\",\n        \"start\": \"2025-07-27T00:00:00\",\n        \"task\": \"task4\"\n      },\n      {\n        \"end\": \"2025-08-01T00:00:00\",\n        \"job\": \"job5\",\n        \"resource\": \"machine2\",\n        \"start\": \"2025-07-31T00:00:00\",\n        \"task\": \"task5\"\n      }\n    ]\n  },\n  \"encoding\": {\n    \"color\": {\n      \"field\": \"job\",\n      \"type\": \"nominal\"\n    },\n    \"x\": {\n      \"field\": \"start\",\n      \"type\": \"temporal\"\n    },\n    \"x2\": {\n      \"field\": \"end\"\n    },\n    \"y\": {\n      \"field\": \"resource\",\n      \"type\": \"nominal\"\n    }\n  },\n  \"height\": 400,\n  \"mark\": {\n    \"type\": \"bar\"\n  },\n  \"usermeta\": {\n    \"embedOptions\": {}\n  },\n  \"width\": \"container\"\n}"
     },
     "metadata": {},
     "output_type": "display_data"
    }
   ],
   "source": [
    "plot_altair(model1_amplify.to_df())"
   ]
  },
  {
   "cell_type": "markdown",
   "id": "nHfw",
   "metadata": {
    "marimo": {
     "config": {
      "hide_code": true
     }
    }
   },
   "source": [
    "## より大きい問題"
   ]
  },
  {
   "cell_type": "code",
   "execution_count": null,
   "id": "xXTn",
   "metadata": {},
   "outputs": [],
   "source": [
    "def gen_data(n_jobs: int, n_machines: int) -> list[Job]:\n",
    "    random.seed(0)\n",
    "    jobs = []\n",
    "    for id_job in range(n_jobs):\n",
    "        machines = list(range(n_machines))\n",
    "        random.shuffle(machines)\n",
    "        tasks = []\n",
    "        for id_task in range(n_machines):\n",
    "            machine = machines[id_task]\n",
    "            time = random.randint(1, 10)\n",
    "            tasks.append(Task(machine=machine, time=time))\n",
    "\n",
    "        jobs.append(Job(tasks=tasks))\n",
    "\n",
    "    return jobs"
   ]
  },
  {
   "cell_type": "code",
   "execution_count": null,
   "id": "AjVT",
   "metadata": {},
   "outputs": [
    {
     "name": "stdout",
     "output_type": "stream",
     "text": [
      "[Job(tasks=[Task(machine=1, time=9), Task(machine=10, time=3), Task(machine=9, time=5), Task(machine=5, time=3), Task(machine=11, time=2), Task(machine=2, time=10), Task(machine=3, time=5), Task(machine=7, time=9), Task(machine=8, time=10), Task(machine=4, time=3), Task(machine=0, time=5), Task(machine=14, time=2), Task(machine=12, time=2), Task(machine=6, time=6), Task(machine=13, time=8)]),\n",
      " Job(tasks=[Task(machine=13, time=2), Task(machine=11, time=7), Task(machine=10, time=1), Task(machine=0, time=10), Task(machine=2, time=8), Task(machine=4, time=6), Task(machine=14, time=4), Task(machine=7, time=6), Task(machine=3, time=2), Task(machine=9, time=4), Task(machine=12, time=10), Task(machine=6, time=4), Task(machine=5, time=4), Task(machine=1, time=3), Task(machine=8, time=9)]),\n",
      " Job(tasks=[Task(machine=10, time=10), Task(machine=6, time=9), Task(machine=3, time=10), Task(machine=11, time=5), Task(machine=0, time=8), Task(machine=2, time=2), Task(machine=9, time=10), Task(machine=4, time=7), Task(machine=12, time=6), Task(machine=14, time=10), Task(machine=8, time=4), Task(machine=5, time=5), Task(machine=13, time=3), Task(machine=1, time=4), Task(machine=7, time=3)]),\n",
      " Job(tasks=[Task(machine=11, time=9), Task(machine=6, time=4), Task(machine=12, time=4), Task(machine=3, time=10), Task(machine=5, time=7), Task(machine=14, time=10), Task(machine=8, time=5), Task(machine=2, time=8), Task(machine=13, time=8), Task(machine=1, time=6), Task(machine=7, time=2), Task(machine=4, time=6), Task(machine=10, time=10), Task(machine=9, time=2), Task(machine=0, time=8)]),\n",
      " Job(tasks=[Task(machine=14, time=1), Task(machine=8, time=2), Task(machine=13, time=3), Task(machine=6, time=4), Task(machine=2, time=1), Task(machine=7, time=10), Task(machine=12, time=9), Task(machine=1, time=10), Task(machine=4, time=2), Task(machine=0, time=1), Task(machine=11, time=2), Task(machine=3, time=4), Task(machine=5, time=10), Task(machine=10, time=10), Task(machine=9, time=2)]),\n",
      " Job(tasks=[Task(machine=14, time=1), Task(machine=2, time=9), Task(machine=4, time=7), Task(machine=7, time=10), Task(machine=8, time=2), Task(machine=12, time=5), Task(machine=11, time=2), Task(machine=3, time=4), Task(machine=10, time=2), Task(machine=9, time=5), Task(machine=0, time=6), Task(machine=13, time=7), Task(machine=5, time=3), Task(machine=1, time=1), Task(machine=6, time=9)]),\n",
      " Job(tasks=[Task(machine=10, time=1), Task(machine=13, time=3), Task(machine=2, time=3), Task(machine=11, time=6), Task(machine=8, time=9), Task(machine=12, time=5), Task(machine=14, time=2), Task(machine=5, time=10), Task(machine=4, time=8), Task(machine=3, time=3), Task(machine=6, time=1), Task(machine=1, time=8), Task(machine=9, time=7), Task(machine=0, time=10), Task(machine=7, time=9)]),\n",
      " Job(tasks=[Task(machine=1, time=9), Task(machine=9, time=5), Task(machine=12, time=3), Task(machine=8, time=4), Task(machine=7, time=8), Task(machine=11, time=6), Task(machine=3, time=10), Task(machine=0, time=5), Task(machine=2, time=6), Task(machine=13, time=10), Task(machine=6, time=10), Task(machine=5, time=3), Task(machine=10, time=5), Task(machine=4, time=7), Task(machine=14, time=7)]),\n",
      " Job(tasks=[Task(machine=11, time=1), Task(machine=8, time=7), Task(machine=7, time=10), Task(machine=4, time=7), Task(machine=14, time=1), Task(machine=6, time=3), Task(machine=12, time=8), Task(machine=2, time=2), Task(machine=5, time=5), Task(machine=3, time=3), Task(machine=9, time=8), Task(machine=0, time=9), Task(machine=1, time=8), Task(machine=10, time=9), Task(machine=13, time=10)]),\n",
      " Job(tasks=[Task(machine=9, time=1), Task(machine=10, time=7), Task(machine=2, time=7), Task(machine=8, time=6), Task(machine=1, time=1), Task(machine=3, time=4), Task(machine=6, time=1), Task(machine=14, time=1), Task(machine=11, time=9), Task(machine=4, time=10), Task(machine=5, time=2), Task(machine=7, time=4), Task(machine=13, time=2), Task(machine=0, time=10), Task(machine=12, time=4)]),\n",
      " Job(tasks=[Task(machine=3, time=5), Task(machine=12, time=3), Task(machine=9, time=9), Task(machine=10, time=6), Task(machine=8, time=2), Task(machine=0, time=3), Task(machine=5, time=5), Task(machine=6, time=1), Task(machine=7, time=1), Task(machine=1, time=1), Task(machine=2, time=4), Task(machine=11, time=5), Task(machine=14, time=9), Task(machine=4, time=6), Task(machine=13, time=6)]),\n",
      " Job(tasks=[Task(machine=12, time=1), Task(machine=8, time=3), Task(machine=3, time=3), Task(machine=5, time=5), Task(machine=1, time=6), Task(machine=4, time=6), Task(machine=2, time=6), Task(machine=6, time=2), Task(machine=10, time=6), Task(machine=7, time=10), Task(machine=14, time=1), Task(machine=11, time=1), Task(machine=0, time=5), Task(machine=13, time=3), Task(machine=9, time=3)]),\n",
      " Job(tasks=[Task(machine=14, time=9), Task(machine=11, time=2), Task(machine=10, time=5), Task(machine=0, time=7), Task(machine=7, time=6), Task(machine=12, time=5), Task(machine=3, time=7), Task(machine=1, time=2), Task(machine=13, time=2), Task(machine=2, time=9), Task(machine=8, time=8), Task(machine=6, time=8), Task(machine=5, time=6), Task(machine=4, time=6), Task(machine=9, time=2)]),\n",
      " Job(tasks=[Task(machine=9, time=2), Task(machine=3, time=2), Task(machine=2, time=2), Task(machine=8, time=4), Task(machine=13, time=4), Task(machine=10, time=1), Task(machine=12, time=7), Task(machine=5, time=1), Task(machine=4, time=2), Task(machine=0, time=7), Task(machine=6, time=9), Task(machine=14, time=9), Task(machine=11, time=5), Task(machine=1, time=8), Task(machine=7, time=8)]),\n",
      " Job(tasks=[Task(machine=7, time=6), Task(machine=0, time=2), Task(machine=14, time=2), Task(machine=13, time=1), Task(machine=4, time=9), Task(machine=2, time=8), Task(machine=8, time=4), Task(machine=5, time=2), Task(machine=1, time=8), Task(machine=6, time=7), Task(machine=3, time=5), Task(machine=10, time=4), Task(machine=11, time=1), Task(machine=9, time=4), Task(machine=12, time=10)]),\n",
      " Job(tasks=[Task(machine=10, time=7), Task(machine=9, time=9), Task(machine=11, time=8), Task(machine=13, time=6), Task(machine=12, time=8), Task(machine=4, time=8), Task(machine=0, time=4), Task(machine=14, time=9), Task(machine=8, time=10), Task(machine=5, time=4), Task(machine=6, time=1), Task(machine=7, time=6), Task(machine=3, time=6), Task(machine=1, time=6), Task(machine=2, time=1)]),\n",
      " Job(tasks=[Task(machine=1, time=3), Task(machine=10, time=1), Task(machine=3, time=5), Task(machine=5, time=1), Task(machine=14, time=8), Task(machine=11, time=6), Task(machine=0, time=3), Task(machine=7, time=3), Task(machine=12, time=8), Task(machine=6, time=6), Task(machine=13, time=9), Task(machine=9, time=7), Task(machine=4, time=9), Task(machine=2, time=9), Task(machine=8, time=1)]),\n",
      " Job(tasks=[Task(machine=0, time=10), Task(machine=11, time=10), Task(machine=12, time=4), Task(machine=7, time=1), Task(machine=5, time=1), Task(machine=4, time=3), Task(machine=2, time=5), Task(machine=3, time=9), Task(machine=6, time=10), Task(machine=13, time=5), Task(machine=14, time=6), Task(machine=8, time=2), Task(machine=10, time=8), Task(machine=1, time=5), Task(machine=9, time=5)]),\n",
      " Job(tasks=[Task(machine=4, time=7), Task(machine=1, time=3), Task(machine=7, time=8), Task(machine=10, time=10), Task(machine=11, time=2), Task(machine=5, time=3), Task(machine=8, time=6), Task(machine=3, time=7), Task(machine=9, time=1), Task(machine=2, time=10), Task(machine=0, time=8), Task(machine=14, time=7), Task(machine=13, time=8), Task(machine=6, time=1), Task(machine=12, time=2)]),\n",
      " Job(tasks=[Task(machine=3, time=8), Task(machine=1, time=2), Task(machine=6, time=1), Task(machine=8, time=10), Task(machine=4, time=8), Task(machine=14, time=10), Task(machine=10, time=6), Task(machine=5, time=2), Task(machine=13, time=10), Task(machine=9, time=5), Task(machine=11, time=3), Task(machine=0, time=7), Task(machine=2, time=5), Task(machine=12, time=2), Task(machine=7, time=9)]),\n",
      " Job(tasks=[Task(machine=8, time=5), Task(machine=1, time=1), Task(machine=10, time=9), Task(machine=4, time=10), Task(machine=11, time=10), Task(machine=2, time=4), Task(machine=9, time=4), Task(machine=14, time=2), Task(machine=5, time=9), Task(machine=7, time=9), Task(machine=6, time=7), Task(machine=0, time=9), Task(machine=3, time=5), Task(machine=12, time=2), Task(machine=13, time=3)]),\n",
      " Job(tasks=[Task(machine=4, time=1), Task(machine=2, time=8), Task(machine=5, time=6), Task(machine=13, time=5), Task(machine=0, time=2), Task(machine=7, time=6), Task(machine=3, time=2), Task(machine=8, time=2), Task(machine=10, time=6), Task(machine=12, time=1), Task(machine=11, time=6), Task(machine=1, time=6), Task(machine=14, time=3), Task(machine=9, time=1), Task(machine=6, time=4)]),\n",
      " Job(tasks=[Task(machine=7, time=1), Task(machine=10, time=10), Task(machine=12, time=4), Task(machine=4, time=3), Task(machine=8, time=3), Task(machine=6, time=8), Task(machine=14, time=2), Task(machine=11, time=8), Task(machine=0, time=6), Task(machine=3, time=5), Task(machine=2, time=3), Task(machine=9, time=1), Task(machine=1, time=4), Task(machine=5, time=6), Task(machine=13, time=6)]),\n",
      " Job(tasks=[Task(machine=3, time=3), Task(machine=14, time=3), Task(machine=6, time=4), Task(machine=11, time=6), Task(machine=9, time=9), Task(machine=12, time=4), Task(machine=0, time=4), Task(machine=1, time=3), Task(machine=2, time=5), Task(machine=5, time=6), Task(machine=10, time=7), Task(machine=8, time=1), Task(machine=13, time=3), Task(machine=4, time=10), Task(machine=7, time=1)]),\n",
      " Job(tasks=[Task(machine=0, time=2), Task(machine=10, time=4), Task(machine=7, time=8), Task(machine=3, time=6), Task(machine=8, time=9), Task(machine=12, time=1), Task(machine=5, time=7), Task(machine=9, time=7), Task(machine=4, time=1), Task(machine=14, time=7), Task(machine=2, time=6), Task(machine=13, time=8), Task(machine=11, time=4), Task(machine=1, time=6), Task(machine=6, time=5)]),\n",
      " Job(tasks=[Task(machine=14, time=7), Task(machine=9, time=3), Task(machine=0, time=4), Task(machine=10, time=8), Task(machine=3, time=6), Task(machine=5, time=9), Task(machine=6, time=3), Task(machine=12, time=6), Task(machine=8, time=8), Task(machine=11, time=2), Task(machine=4, time=8), Task(machine=13, time=4), Task(machine=2, time=5), Task(machine=1, time=1), Task(machine=7, time=8)]),\n",
      " Job(tasks=[Task(machine=8, time=4), Task(machine=14, time=9), Task(machine=13, time=7), Task(machine=12, time=5), Task(machine=6, time=1), Task(machine=5, time=2), Task(machine=11, time=5), Task(machine=2, time=1), Task(machine=10, time=1), Task(machine=1, time=5), Task(machine=4, time=7), Task(machine=3, time=9), Task(machine=0, time=10), Task(machine=7, time=7), Task(machine=9, time=8)]),\n",
      " Job(tasks=[Task(machine=8, time=3), Task(machine=9, time=2), Task(machine=6, time=7), Task(machine=10, time=5), Task(machine=13, time=5), Task(machine=2, time=9), Task(machine=7, time=3), Task(machine=0, time=10), Task(machine=14, time=9), Task(machine=3, time=4), Task(machine=12, time=9), Task(machine=5, time=2), Task(machine=4, time=7), Task(machine=11, time=9), Task(machine=1, time=7)]),\n",
      " Job(tasks=[Task(machine=10, time=3), Task(machine=9, time=9), Task(machine=6, time=5), Task(machine=3, time=6), Task(machine=8, time=8), Task(machine=0, time=7), Task(machine=1, time=4), Task(machine=2, time=8), Task(machine=5, time=8), Task(machine=7, time=9), Task(machine=14, time=6), Task(machine=4, time=8), Task(machine=13, time=1), Task(machine=12, time=8), Task(machine=11, time=5)]),\n",
      " Job(tasks=[Task(machine=1, time=7), Task(machine=12, time=1), Task(machine=14, time=6), Task(machine=4, time=1), Task(machine=8, time=2), Task(machine=6, time=10), Task(machine=10, time=1), Task(machine=5, time=5), Task(machine=13, time=5), Task(machine=3, time=4), Task(machine=9, time=3), Task(machine=0, time=10), Task(machine=7, time=5), Task(machine=11, time=4), Task(machine=2, time=2)]),\n",
      " Job(tasks=[Task(machine=9, time=9), Task(machine=0, time=6), Task(machine=4, time=3), Task(machine=1, time=4), Task(machine=3, time=3), Task(machine=13, time=8), Task(machine=8, time=6), Task(machine=10, time=7), Task(machine=12, time=7), Task(machine=2, time=8), Task(machine=14, time=7), Task(machine=5, time=4), Task(machine=11, time=4), Task(machine=7, time=8), Task(machine=6, time=4)]),\n",
      " Job(tasks=[Task(machine=5, time=10), Task(machine=14, time=2), Task(machine=13, time=9), Task(machine=4, time=5), Task(machine=8, time=6), Task(machine=10, time=7), Task(machine=7, time=8), Task(machine=2, time=1), Task(machine=1, time=9), Task(machine=3, time=9), Task(machine=12, time=7), Task(machine=6, time=10), Task(machine=0, time=8), Task(machine=11, time=8), Task(machine=9, time=5)]),\n",
      " Job(tasks=[Task(machine=6, time=3), Task(machine=10, time=2), Task(machine=12, time=7), Task(machine=14, time=4), Task(machine=13, time=10), Task(machine=2, time=7), Task(machine=1, time=9), Task(machine=8, time=4), Task(machine=9, time=8), Task(machine=0, time=4), Task(machine=4, time=6), Task(machine=5, time=10), Task(machine=3, time=2), Task(machine=7, time=10), Task(machine=11, time=2)]),\n",
      " Job(tasks=[Task(machine=6, time=9), Task(machine=3, time=6), Task(machine=9, time=4), Task(machine=2, time=4), Task(machine=1, time=5), Task(machine=10, time=5), Task(machine=11, time=5), Task(machine=0, time=9), Task(machine=4, time=7), Task(machine=14, time=5), Task(machine=7, time=8), Task(machine=8, time=6), Task(machine=13, time=4), Task(machine=5, time=1), Task(machine=12, time=5)]),\n",
      " Job(tasks=[Task(machine=2, time=2), Task(machine=13, time=2), Task(machine=12, time=4), Task(machine=4, time=2), Task(machine=5, time=3), Task(machine=3, time=7), Task(machine=6, time=4), Task(machine=11, time=8), Task(machine=9, time=10), Task(machine=10, time=2), Task(machine=7, time=7), Task(machine=0, time=9), Task(machine=1, time=7), Task(machine=8, time=1), Task(machine=14, time=3)]),\n",
      " Job(tasks=[Task(machine=13, time=8), Task(machine=12, time=9), Task(machine=8, time=10), Task(machine=1, time=8), Task(machine=11, time=9), Task(machine=10, time=5), Task(machine=0, time=5), Task(machine=6, time=4), Task(machine=9, time=1), Task(machine=5, time=2), Task(machine=4, time=10), Task(machine=2, time=2), Task(machine=14, time=3), Task(machine=7, time=7), Task(machine=3, time=4)]),\n",
      " Job(tasks=[Task(machine=13, time=2), Task(machine=1, time=10), Task(machine=2, time=6), Task(machine=14, time=4), Task(machine=5, time=9), Task(machine=12, time=5), Task(machine=7, time=4), Task(machine=6, time=4), Task(machine=9, time=2), Task(machine=8, time=9), Task(machine=0, time=5), Task(machine=10, time=6), Task(machine=11, time=4), Task(machine=4, time=6), Task(machine=3, time=8)]),\n",
      " Job(tasks=[Task(machine=6, time=3), Task(machine=7, time=9), Task(machine=3, time=2), Task(machine=1, time=3), Task(machine=10, time=4), Task(machine=14, time=8), Task(machine=11, time=10), Task(machine=5, time=4), Task(machine=13, time=4), Task(machine=8, time=3), Task(machine=0, time=4), Task(machine=12, time=7), Task(machine=2, time=6), Task(machine=9, time=10), Task(machine=4, time=10)]),\n",
      " Job(tasks=[Task(machine=11, time=8), Task(machine=4, time=8), Task(machine=12, time=9), Task(machine=13, time=6), Task(machine=14, time=2), Task(machine=6, time=5), Task(machine=3, time=3), Task(machine=5, time=10), Task(machine=8, time=7), Task(machine=0, time=4), Task(machine=9, time=6), Task(machine=1, time=5), Task(machine=7, time=7), Task(machine=10, time=1), Task(machine=2, time=4)]),\n",
      " Job(tasks=[Task(machine=8, time=10), Task(machine=4, time=9), Task(machine=14, time=1), Task(machine=9, time=3), Task(machine=1, time=6), Task(machine=6, time=1), Task(machine=2, time=8), Task(machine=10, time=1), Task(machine=7, time=1), Task(machine=13, time=4), Task(machine=3, time=1), Task(machine=12, time=1), Task(machine=11, time=4), Task(machine=5, time=6), Task(machine=0, time=2)]),\n",
      " Job(tasks=[Task(machine=11, time=7), Task(machine=12, time=7), Task(machine=14, time=1), Task(machine=4, time=7), Task(machine=9, time=5), Task(machine=1, time=9), Task(machine=8, time=9), Task(machine=7, time=8), Task(machine=3, time=1), Task(machine=2, time=10), Task(machine=6, time=2), Task(machine=10, time=7), Task(machine=5, time=7), Task(machine=0, time=3), Task(machine=13, time=1)]),\n",
      " Job(tasks=[Task(machine=4, time=2), Task(machine=12, time=7), Task(machine=3, time=10), Task(machine=0, time=2), Task(machine=7, time=10), Task(machine=6, time=8), Task(machine=11, time=3), Task(machine=5, time=10), Task(machine=1, time=10), Task(machine=13, time=1), Task(machine=14, time=5), Task(machine=10, time=6), Task(machine=9, time=7), Task(machine=2, time=1), Task(machine=8, time=1)]),\n",
      " Job(tasks=[Task(machine=0, time=8), Task(machine=12, time=7), Task(machine=6, time=1), Task(machine=8, time=5), Task(machine=13, time=9), Task(machine=9, time=5), Task(machine=11, time=9), Task(machine=3, time=8), Task(machine=14, time=1), Task(machine=2, time=9), Task(machine=10, time=10), Task(machine=4, time=9), Task(machine=5, time=5), Task(machine=1, time=1), Task(machine=7, time=8)]),\n",
      " Job(tasks=[Task(machine=4, time=4), Task(machine=12, time=9), Task(machine=3, time=9), Task(machine=13, time=6), Task(machine=9, time=7), Task(machine=10, time=5), Task(machine=2, time=4), Task(machine=8, time=2), Task(machine=0, time=10), Task(machine=7, time=6), Task(machine=5, time=4), Task(machine=14, time=10), Task(machine=1, time=9), Task(machine=11, time=6), Task(machine=6, time=3)]),\n",
      " Job(tasks=[Task(machine=8, time=7), Task(machine=3, time=10), Task(machine=1, time=7), Task(machine=4, time=3), Task(machine=11, time=1), Task(machine=6, time=3), Task(machine=7, time=10), Task(machine=12, time=1), Task(machine=10, time=8), Task(machine=9, time=3), Task(machine=0, time=6), Task(machine=5, time=1), Task(machine=2, time=8), Task(machine=13, time=5), Task(machine=14, time=10)])]\n"
     ]
    }
   ],
   "source": [
    "jobs2 = gen_data(45, 15)\n",
    "pprint(jobs2)"
   ]
  },
  {
   "cell_type": "code",
   "execution_count": null,
   "id": "pHFh",
   "metadata": {},
   "outputs": [
    {
     "name": "stdout",
     "output_type": "stream",
     "text": [
      "\n",
      "Starting CP-SAT solver v9.13.4784\n",
      "Parameters: max_time_in_seconds: 10 log_search_progress: true\n",
      "Setting number of workers to 12\n",
      "\n",
      "Initial optimization model '': (model_fingerprint: 0x62b4a1d48ce14446)\n",
      "#Variables: 676 (#ints: 1 in objective) (675 primary variables)\n",
      "  - 676 in [0,3683]\n",
      "#kInterval: 675\n",
      "#kLinMax: 1 (#expressions: 45)\n",
      "#kLinear2: 630\n",
      "#kNoOverlap: 15 (#intervals: 675)\n",
      "\n",
      "Starting presolve at 0.00s\n",
      "  1.17e-04s  0.00e+00d  [DetectDominanceRelations] \n",
      "  6.51e-03s  0.00e+00d  [PresolveToFixPoint] #num_loops=16 #num_dual_strengthening=1 \n",
      "  4.43e-06s  0.00e+00d  [ExtractEncodingFromLinear] \n",
      "  2.08e-05s  0.00e+00d  [DetectDuplicateColumns] \n",
      "  1.59e-04s  0.00e+00d  [DetectDuplicateConstraints] \n",
      "[Symmetry] Graph for symmetry has 2'672 nodes and 3'331 arcs.\n",
      "[Symmetry] Symmetry computation done. time: 0.000176384 dtime: 0.00031934\n",
      "  1.63e-04s  0.00e+00d  [DetectDuplicateConstraintsWithDifferentEnforcements] \n",
      "  9.79e-04s  4.47e-06d  [Probe] #new_bounds=1 \n",
      "  3.25e-06s  0.00e+00d  [MaxClique] \n",
      "  1.09e-04s  0.00e+00d  [DetectDominanceRelations] \n",
      "  9.77e-04s  0.00e+00d  [PresolveToFixPoint] #num_loops=2 #num_dual_strengthening=1 \n",
      "  7.90e-05s  0.00e+00d  [ProcessAtMostOneAndLinear] \n",
      "  1.53e-04s  0.00e+00d  [DetectDuplicateConstraints] \n",
      "  1.52e-04s  0.00e+00d  [DetectDuplicateConstraintsWithDifferentEnforcements] \n",
      "  6.06e-05s  4.05e-06d  [DetectDominatedLinearConstraints] #relevant_constraints=675 \n",
      "  8.28e-05s  0.00e+00d  [DetectDifferentVariables] \n",
      "  3.93e-06s  0.00e+00d  [ProcessSetPPC] \n",
      "  4.28e-06s  0.00e+00d  [FindAlmostIdenticalLinearConstraints] \n",
      "  1.78e-05s  0.00e+00d  [FindBigAtMostOneAndLinearOverlap] \n",
      "  2.91e-05s  2.41e-05d  [FindBigVerticalLinearOverlap] \n",
      "  2.80e-06s  0.00e+00d  [FindBigHorizontalLinearOverlap] \n",
      "  7.34e-06s  0.00e+00d  [MergeClauses] \n",
      "  1.04e-04s  0.00e+00d  [DetectDominanceRelations] \n",
      "  8.76e-04s  0.00e+00d  [PresolveToFixPoint] #num_loops=1 #num_dual_strengthening=1 \n",
      "  1.04e-04s  0.00e+00d  [DetectDominanceRelations] \n",
      "  8.70e-04s  0.00e+00d  [PresolveToFixPoint] #num_loops=1 #num_dual_strengthening=1 \n",
      "  1.80e-05s  0.00e+00d  [DetectDuplicateColumns] \n"
     ]
    },
    {
     "name": "stdout",
     "output_type": "stream",
     "text": [
      "  1.53e-04s  0.00e+00d  [DetectDuplicateConstraints] \n",
      "[Symmetry] Graph for symmetry has 2'672 nodes and 3'331 arcs.\n",
      "[Symmetry] Symmetry computation done. time: 0.000164923 dtime: 0.00031934\n",
      "  1.55e-04s  0.00e+00d  [DetectDuplicateConstraintsWithDifferentEnforcements] \n",
      "  9.15e-04s  4.36e-06d  [Probe] \n",
      "  2.38e-06s  0.00e+00d  [MaxClique] \n",
      "  1.07e-04s  0.00e+00d  [DetectDominanceRelations] \n",
      "  9.23e-04s  0.00e+00d  [PresolveToFixPoint] #num_loops=1 #num_dual_strengthening=1 \n",
      "  7.91e-05s  0.00e+00d  [ProcessAtMostOneAndLinear] \n",
      "  1.53e-04s  0.00e+00d  [DetectDuplicateConstraints] \n",
      "  1.51e-04s  0.00e+00d  [DetectDuplicateConstraintsWithDifferentEnforcements] \n",
      "  6.11e-05s  4.05e-06d  [DetectDominatedLinearConstraints] #relevant_constraints=675 \n",
      "  8.18e-05s  0.00e+00d  [DetectDifferentVariables] \n",
      "  3.55e-06s  0.00e+00d  [ProcessSetPPC] \n",
      "  3.84e-06s  0.00e+00d  [FindAlmostIdenticalLinearConstraints] \n",
      "  1.73e-05s  0.00e+00d  [FindBigAtMostOneAndLinearOverlap] \n",
      "  2.82e-05s  2.41e-05d  [FindBigVerticalLinearOverlap] \n",
      "  2.59e-06s  0.00e+00d  [FindBigHorizontalLinearOverlap] \n",
      "  2.51e-06s  0.00e+00d  [MergeClauses] \n",
      "  1.05e-04s  0.00e+00d  [DetectDominanceRelations] \n",
      "  8.85e-04s  0.00e+00d  [PresolveToFixPoint] #num_loops=1 #num_dual_strengthening=1 \n",
      "  1.27e-05s  0.00e+00d  [ExpandObjective] \n",
      "\n",
      "Presolve summary:\n",
      "  - 0 affine relations were detected.\n",
      "  - rule 'TODO dual: only one blocking constraint?' was applied 270 times.\n",
      "  - rule 'TODO dual: only one unspecified blocking constraint?' was applied 6 times.\n",
      "  - rule 'lin_max: reduced expression domain.' was applied 45 times.\n",
      "  - rule 'lin_max: rewrite with precedences' was applied 1 time.\n",
      "  - rule 'lin_max: target domain reduced' was applied 1 time.\n",
      "  - rule 'linear: reduced variable domains' was applied 5'355 times.\n",
      "  - rule 'presolve: 0 unused variables removed.' was applied 1 time.\n",
      "  - rule 'presolve: iteration' was applied 2 times.\n",
      "\n",
      "Presolved optimization model '': (model_fingerprint: 0x2e16e16968a696b)\n",
      "#Variables: 676 (#ints: 1 in objective) (675 primary variables)\n",
      "  - 591 different domains in [0,3683] with a largest complexity of 1.\n",
      "#kInterval: 675\n",
      "#kLinear2: 675\n",
      "#kNoOverlap: 15 (#intervals: 675)\n",
      "[Symmetry] Graph for symmetry has 2'672 nodes and 3'331 arcs.\n",
      "[Symmetry] Symmetry computation done. time: 0.000165514 dtime: 0.00031934\n",
      "\n",
      "Preloading model.\n",
      "#Bound   0.02s best:inf   next:[111,3683] initial_domain\n",
      "#Model   0.02s var:676/676 constraints:1365/1365\n",
      "\n",
      "Starting search at 0.02s with 12 workers.\n",
      "8 full problem subsolvers: [default_lp, fixed, max_lp, no_lp, pseudo_costs, quick_restart, quick_restart_no_lp, reduced_costs]\n",
      "4 first solution subsolvers: [fj(2), fs_random, fs_random_no_lp]\n",
      "14 interleaved subsolvers: [feasibility_pump, graph_arc_lns, graph_cst_lns, graph_dec_lns, graph_var_lns, ls, ls_lin, rins/rens, rnd_cst_lns, rnd_var_lns, scheduling_intervals_lns, scheduling_precedences_lns, scheduling_resource_windows_lns, scheduling_time_window_lns]\n",
      "3 helper subsolvers: [neighborhood_helper, synchronization_agent, update_gap_integral]\n",
      "\n"
     ]
    },
    {
     "name": "stdout",
     "output_type": "stream",
     "text": [
      "#Bound   0.07s best:inf   next:[184,3683] max_lp\n"
     ]
    },
    {
     "name": "stdout",
     "output_type": "stream",
     "text": [
      "#1       0.10s best:324   next:[184,323]  no_lp\n",
      "#Bound   0.10s best:324   next:[297,323]  no_lp\n"
     ]
    },
    {
     "name": "stdout",
     "output_type": "stream",
     "text": [
      "#2       0.15s best:323   next:[297,322]  quick_restart_no_lp\n"
     ]
    },
    {
     "name": "stdout",
     "output_type": "stream",
     "text": [
      "#3       0.19s best:317   next:[297,316]  rnd_cst_lns (d=5.00e-01 s=17 t=0.10 p=0.00 stall=0 h=base)\n"
     ]
    },
    {
     "name": "stdout",
     "output_type": "stream",
     "text": [
      "#4       0.50s best:316   next:[297,315]  rnd_var_lns (d=7.07e-01 s=29 t=0.10 p=1.00 stall=1 h=base) [hint]\n"
     ]
    },
    {
     "name": "stdout",
     "output_type": "stream",
     "text": [
      "#5       0.55s best:312   next:[297,311]  no_lp\n"
     ]
    },
    {
     "name": "stdout",
     "output_type": "stream",
     "text": [
      "#6       0.63s best:311   next:[297,310]  graph_arc_lns (d=7.07e-01 s=31 t=0.10 p=1.00 stall=0 h=base)\n"
     ]
    },
    {
     "name": "stdout",
     "output_type": "stream",
     "text": [
      "#7       0.74s best:309   next:[297,308]  no_lp\n"
     ]
    },
    {
     "name": "stdout",
     "output_type": "stream",
     "text": [
      "#8       0.82s best:308   next:[297,307]  no_lp\n",
      "#9       0.84s best:307   next:[297,306]  graph_dec_lns (d=7.07e-01 s=33 t=0.10 p=1.00 stall=1 h=base)\n"
     ]
    },
    {
     "name": "stdout",
     "output_type": "stream",
     "text": [
      "#10      0.95s best:306   next:[297,305]  quick_restart_no_lp\n"
     ]
    },
    {
     "name": "stdout",
     "output_type": "stream",
     "text": [
      "#11      1.12s best:305   next:[297,304]  quick_restart_no_lp\n"
     ]
    },
    {
     "name": "stdout",
     "output_type": "stream",
     "text": [
      "#12      1.46s best:304   next:[297,303]  fixed\n"
     ]
    },
    {
     "name": "stdout",
     "output_type": "stream",
     "text": [
      "#13      1.49s best:301   next:[297,300]  scheduling_resource_windows_lns (d=7.07e-01 s=34 t=0.10 p=1.00 stall=0 h=base)\n"
     ]
    },
    {
     "name": "stdout",
     "output_type": "stream",
     "text": [
      "#14      1.69s best:300   next:[297,299]  graph_var_lns (d=7.07e-01 s=37 t=0.10 p=1.00 stall=0 h=base)\n"
     ]
    },
    {
     "name": "stdout",
     "output_type": "stream",
     "text": [
      "#15      2.45s best:299   next:[297,298]  no_lp\n"
     ]
    },
    {
     "name": "stdout",
     "output_type": "stream",
     "text": [
      "#16      2.53s best:298   next:[297,297]  no_lp\n"
     ]
    },
    {
     "name": "stdout",
     "output_type": "stream",
     "text": [
      "#Model   2.55s var:675/676 constraints:1320/1365\n"
     ]
    },
    {
     "name": "stdout",
     "output_type": "stream",
     "text": [
      "#17      2.61s best:297   next:[]         no_lp\n",
      "#Done    2.61s no_lp\n",
      "\n",
      "Task timing                                  n [     min,      max]      avg      dev     time         n [     min,      max]      avg      dev    dtime\n",
      "                       'default_lp':         1 [   2.59s,    2.59s]    2.59s   0.00ns    2.59s         1 [ 83.16ms,  83.16ms]  83.16ms   0.00ns  83.16ms\n",
      "                 'feasibility_pump':         2 [  4.84ms,   5.38ms]   5.11ms 270.87us  10.21ms         1 [  1.07ms,   1.07ms]   1.07ms   0.00ns   1.07ms\n",
      "                            'fixed':         1 [   2.59s,    2.59s]    2.59s   0.00ns    2.59s         1 [ 60.31ms,  60.31ms]  60.31ms   0.00ns  60.31ms\n",
      "                               'fj':         1 [ 87.12ms,  87.12ms]  87.12ms   0.00ns  87.12ms         1 [100.26ms, 100.26ms] 100.26ms   0.00ns 100.26ms\n",
      "                               'fj':         2 [ 56.78ms,  56.91ms]  56.85ms  62.96us 113.69ms         2 [100.48ms, 100.69ms] 100.58ms 104.73us 201.17ms\n",
      "                        'fs_random':         1 [ 82.81ms,  82.81ms]  82.81ms   0.00ns  82.81ms         1 [  2.46ms,   2.46ms]   2.46ms   0.00ns   2.46ms\n",
      "                  'fs_random_no_lp':         1 [ 82.52ms,  82.52ms]  82.52ms   0.00ns  82.52ms         1 [  2.36ms,   2.36ms]   2.36ms   0.00ns   2.36ms\n",
      "                    'graph_arc_lns':         2 [ 48.49ms,  87.05ms]  67.77ms  19.28ms 135.54ms         2 [831.28us,   1.40ms]   1.12ms 285.93us   2.23ms\n",
      "                    'graph_cst_lns':         2 [ 43.05ms,  90.05ms]  66.55ms  23.50ms 133.10ms         2 [997.38us,   1.06ms]   1.03ms  32.00us   2.06ms\n",
      "                    'graph_dec_lns':         2 [ 14.47ms, 170.53ms]  92.50ms  78.03ms 185.00ms         2 [157.16us,   5.04ms]   2.60ms   2.44ms   5.20ms\n",
      "                    'graph_var_lns':         2 [ 91.60ms, 157.59ms] 124.59ms  33.00ms 249.18ms         2 [  1.68ms,   3.56ms]   2.62ms 939.91us   5.23ms\n",
      "                               'ls':         2 [ 50.25ms,  57.42ms]  53.84ms   3.59ms 107.67ms         2 [100.06ms, 100.07ms] 100.06ms   7.00us 200.13ms\n",
      "                           'ls_lin':         2 [ 54.06ms, 106.10ms]  80.08ms  26.02ms 160.16ms         2 [100.02ms, 100.03ms] 100.02ms   3.84us 200.04ms\n",
      "                           'max_lp':         1 [   2.59s,    2.59s]    2.59s   0.00ns    2.59s         1 [247.35ms, 247.35ms] 247.35ms   0.00ns 247.35ms\n",
      "                            'no_lp':         1 [   2.59s,    2.59s]    2.59s   0.00ns    2.59s         1 [ 99.20ms,  99.20ms]  99.20ms   0.00ns  99.20ms\n",
      "                     'pseudo_costs':         1 [   2.59s,    2.59s]    2.59s   0.00ns    2.59s         1 [340.53ms, 340.53ms] 340.53ms   0.00ns 340.53ms\n",
      "                    'quick_restart':         1 [   2.59s,    2.59s]    2.59s   0.00ns    2.59s         1 [ 59.58ms,  59.58ms]  59.58ms   0.00ns  59.58ms\n",
      "              'quick_restart_no_lp':         1 [   2.59s,    2.59s]    2.59s   0.00ns    2.59s         1 [ 50.76ms,  50.76ms]  50.76ms   0.00ns  50.76ms\n",
      "                    'reduced_costs':         1 [   2.59s,    2.59s]    2.59s   0.00ns    2.59s         0 [  0.00ns,   0.00ns]   0.00ns   0.00ns   0.00ns\n",
      "                        'rins/rens':         3 [174.82us, 118.37ms]  39.58ms  55.71ms 118.74ms         1 [  6.03ms,   6.03ms]   6.03ms   0.00ns   6.03ms\n",
      "                      'rnd_cst_lns':         3 [ 74.16ms, 754.32ms] 306.87ms 316.48ms 920.62ms         3 [  1.69ms,  20.16ms]   7.87ms   8.69ms  23.61ms\n",
      "                      'rnd_var_lns':         3 [ 14.57ms,  48.20ms]  35.13ms  14.72ms 105.38ms         3 [214.49us, 906.56us] 592.17us 286.06us   1.78ms\n",
      "         'scheduling_intervals_lns':         1 [   2.40s,    2.40s]    2.40s   0.00ns    2.40s         1 [  2.26ms,   2.26ms]   2.26ms   0.00ns   2.26ms\n",
      "       'scheduling_precedences_lns':         1 [   2.34s,    2.34s]    2.34s   0.00ns    2.34s         1 [  2.52ms,   2.52ms]   2.52ms   0.00ns   2.52ms\n",
      "  'scheduling_resource_windows_lns':         2 [ 55.72ms, 648.74ms] 352.23ms 296.51ms 704.46ms         2 [118.26us,   4.31ms]   2.21ms   2.10ms   4.43ms\n",
      "       'scheduling_time_window_lns':         1 [   2.40s,    2.40s]    2.40s   0.00ns    2.40s         1 [  6.66ms,   6.66ms]   6.66ms   0.00ns   6.66ms\n",
      "\n",
      "Search stats               Bools  Conflicts  Branches  Restarts  BoolPropag  IntegerPropag\n",
      "           'default_lp':   1'329        471    10'416     3'569      36'181        420'941\n",
      "                'fixed':   2'241         51    14'101     3'646      10'785        237'625\n",
      "            'fs_random':     327          0       327         0           0         12'207\n",
      "      'fs_random_no_lp':     567          0       567         0           0         15'897\n",
      "               'max_lp':   1'278        188     7'194     2'943      12'760        180'090\n",
      "                'no_lp':   1'563        625    18'753     3'523      19'661        358'765\n",
      "         'pseudo_costs':   1'637        466     7'925     1'515      24'141        258'816\n",
      "        'quick_restart':   2'707         92    12'574     2'505      26'058        268'113\n",
      "  'quick_restart_no_lp':   2'991         93    19'963     2'586      29'724        259'490\n",
      "        'reduced_costs':  14'850          0    18'036    18'036           0        202'806\n",
      "\n",
      "SAT stats                 ClassicMinim  LitRemoved  LitLearned  LitForgotten  Subsumed  MClauses  MDecisions  MLitTrue  MSubsumed  MLitRemoved  MReused\n",
      "           'default_lp':           456       4'247      12'298             0         0        10          30         0          0            1        1\n",
      "                'fixed':            49         167      13'270             0         0         0           0         0          0            0        0\n",
      "            'fs_random':             0           0           0             0         0         0           0         0          0            0        0\n",
      "      'fs_random_no_lp':             0           0           0             0         0         0           0         0          0            0        0\n",
      "               'max_lp':           178       1'767      11'529             0         0         6           8         0          0            0       16\n",
      "                'no_lp':           623       6'641     118'512             0         0         0           0         0          0            0        0\n",
      "         'pseudo_costs':           463       6'748      33'525             0         2         0           0         0          0            0        0\n",
      "        'quick_restart':            89       1'423      10'618             0         0         0           0         0          0            0        0\n",
      "  'quick_restart_no_lp':            90       1'121      15'433             0         0         0           0         0          0            0        0\n",
      "        'reduced_costs':             0           0           0             0         0         0           0         0          0            0        0\n",
      "\n",
      "Lp stats            Component  Iterations  AddedCuts  OPTIMAL  DUAL_F.  DUAL_U.\n",
      "     'default_lp':          1           0          0    5'076        0        0\n",
      "          'fixed':          1           0          0    5'776        0        0\n",
      "      'fs_random':          1           0          0      304        0        0\n",
      "         'max_lp':          1       5'256      1'648    2'025      129        0\n",
      "   'pseudo_costs':          1       7'142      1'235    5'127      188        0\n",
      "  'quick_restart':          1           0          0    5'722        0        0\n",
      "  'reduced_costs':          1           0          0        0        0        0\n",
      "\n",
      "Lp dimension        Final dimension of first component\n",
      "     'default_lp':      0 rows, 676 columns, 0 entries\n",
      "          'fixed':      0 rows, 676 columns, 0 entries\n",
      "      'fs_random':      0 rows, 676 columns, 0 entries\n",
      "         'max_lp':  368 rows, 676 columns, 939 entries\n",
      "   'pseudo_costs':  251 rows, 676 columns, 556 entries\n",
      "  'quick_restart':      0 rows, 676 columns, 0 entries\n",
      "  'reduced_costs':      0 rows, 676 columns, 0 entries\n",
      "\n",
      "Lp debug            CutPropag  CutEqPropag  Adjust  Overflow    Bad  BadScaling\n",
      "     'default_lp':          0            0       0         0      0           0\n",
      "          'fixed':          0            0       0         0      0           0\n",
      "      'fs_random':          0            0       0         0      0           0\n",
      "         'max_lp':          0           37       0         0  2'743           0\n",
      "   'pseudo_costs':          0           29       0         0    413           0\n",
      "  'quick_restart':          0            0       0         0      0           0\n",
      "  'reduced_costs':          0            0       0         0      0           0\n",
      "\n",
      "Lp pool             Constraints  Updates  Simplif  Merged  Shortened  Split  Strenghtened    Cuts/Call\n",
      "     'default_lp':          675        0        0       0          0      0             0          0/0\n",
      "          'fixed':          675        0        0       0          0      0             0          0/0\n",
      "      'fs_random':          675        0        0       0          0      0             0          0/0\n",
      "         'max_lp':        1'972      628      125     351          0      0            20  1'648/2'122\n",
      "   'pseudo_costs':        1'634       98      162     276          0      0             2  1'235/1'647\n",
      "  'quick_restart':          675        0       45       0         45      0             0          0/0\n",
      "  'reduced_costs':          675        0        0       0          0      0             0          0/0\n",
      "\n",
      "Lp Cut                                                max_lp  pseudo_costs\n",
      "                                               CG_K:       1             1\n",
      "                                               CG_R:      33            17\n",
      "                                           MIR_1_FF:       1             -\n",
      "                                            MIR_1_K:       2            12\n",
      "                                            MIR_1_R:      15            16\n",
      "                                            MIR_4_R:       2             -\n",
      "                                            MIR_5_R:       2             -\n",
      "                  NoOverlapCompletionTimeExhaustive:      22            12\n",
      "           NoOverlapCompletionTimeExhaustive_lifted:      45            21\n",
      "  NoOverlapCompletionTimeExhaustive_lifted_weighted:     319           232\n",
      "         NoOverlapCompletionTimeExhaustive_weighted:      71            46\n",
      "                    NoOverlapCompletionTimeQueyrane:     181           133\n",
      "             NoOverlapCompletionTimeQueyrane_lifted:     427           348\n",
      "                          NoOverlapDisjunctionOnEnd:      31            13\n",
      "                        NoOverlapDisjunctionOnStart:     490           368\n",
      "                                        ZERO_HALF_R:       6            16\n",
      "\n",
      "LNS stats                             Improv/Calls  Closed  Difficulty  TimeLimit\n",
      "                    'graph_arc_lns':           2/2    100%    8.14e-01       0.10\n",
      "                    'graph_cst_lns':           1/2    100%    8.14e-01       0.10\n",
      "                    'graph_dec_lns':           1/2    100%    8.14e-01       0.10\n",
      "                    'graph_var_lns':           2/2    100%    8.14e-01       0.10\n",
      "                        'rins/rens':           0/1    100%    7.07e-01       0.10\n",
      "                      'rnd_cst_lns':           3/3     67%    7.21e-01       0.10\n",
      "                      'rnd_var_lns':           1/3    100%    8.76e-01       0.10\n",
      "         'scheduling_intervals_lns':           1/1      0%    2.93e-01       0.10\n",
      "       'scheduling_precedences_lns':           1/1      0%    2.93e-01       0.10\n",
      "  'scheduling_resource_windows_lns':           2/2    100%    8.14e-01       0.10\n",
      "       'scheduling_time_window_lns':           1/1      0%    2.93e-01       0.10\n",
      "\n",
      "LS stats                                    Batches  Restarts/Perturbs  LinMoves  GenMoves  CompoundMoves  Bactracks  WeightUpdates  ScoreComputed\n",
      "                             'fj_restart':        1                  1         0       332              0          0              0        110'798\n",
      "                    'fj_restart_compound':        1                  1         0       547            543          0              0        110'229\n",
      "  'fj_restart_decay_compound_perturb_obj':        1                  1         0       570            531          0              0        109'995\n",
      "          'ls_lin_restart_decay_compound':        1                  1         0     3'974            170      1'900             26        104'697\n",
      "                 'ls_lin_restart_perturb':        1                  1         0     1'020              0          0             87        108'826\n",
      "                       'ls_restart_decay':        2                  2         7     2'831              0          0            148        216'570\n",
      "\n",
      "Solutions (17)                        Num     Rank\n",
      "                            'fixed':    1  [12,12]\n",
      "                    'graph_arc_lns':    1    [6,6]\n",
      "                    'graph_dec_lns':    1    [9,9]\n",
      "                    'graph_var_lns':    1  [14,14]\n",
      "                            'no_lp':    7   [1,17]\n",
      "              'quick_restart_no_lp':    3   [2,11]\n",
      "                      'rnd_cst_lns':    1    [3,3]\n",
      "                      'rnd_var_lns':    1    [4,4]\n",
      "  'scheduling_resource_windows_lns':    1  [13,13]\n",
      "\n",
      "Objective bounds     Num\n",
      "  'initial_domain':    1\n",
      "          'max_lp':    1\n",
      "           'no_lp':    1\n",
      "\n",
      "Solution repositories    Added  Queried  Synchro\n",
      "  'feasible solutions':     40       48       30\n",
      "   'fj solution hints':      0        0        0\n",
      "        'lp solutions':     54        2       26\n",
      "                'pump':      1        1\n",
      "\n",
      "Improving bounds shared      Num  Sym\n",
      "                 'fixed':  2'028    0\n",
      "                'max_lp':      1    0\n",
      "                 'no_lp':  4'056    0\n",
      "         'quick_restart':  2'028    0\n",
      "   'quick_restart_no_lp':  2'704    0\n",
      "\n",
      "CpSolverResponse summary:\n",
      "status: OPTIMAL\n",
      "objective: 297\n",
      "best_bound: 297\n",
      "integers: 676\n",
      "booleans: 567\n",
      "conflicts: 0\n",
      "branches: 567\n",
      "propagations: 0\n",
      "integer_propagations: 15897\n",
      "restarts: 0\n",
      "lp_iterations: 0\n",
      "walltime: 2.61497\n",
      "usertime: 2.61497\n",
      "deterministic_time: 1.71044\n",
      "gap_integral: 2.63573\n",
      "solution_fingerprint: 0xc5d0cf643807147e\n",
      "\n"
     ]
    }
   ],
   "source": [
    "model2_cpsat = ModelCpSat(jobs2)\n",
    "model2_cpsat.solve()"
   ]
  },
  {
   "cell_type": "code",
   "execution_count": null,
   "id": "NCOB",
   "metadata": {},
   "outputs": [
    {
     "data": {
      "text/html": [
       "<marimo-plotly data-figure='{&quot;data&quot;: [{&quot;base&quot;: [&quot;2025-07-17T00:00:00.000000000&quot;, &quot;2025-07-26T00:00:00.000000000&quot;, &quot;2025-07-29T00:00:00.000000000&quot;, &quot;2025-08-10T00:00:00.000000000&quot;, &quot;2025-08-31T00:00:00.000000000&quot;, &quot;2025-09-15T00:00:00.000000000&quot;, &quot;2025-10-26T00:00:00.000000000&quot;, &quot;2025-11-02T00:00:00.000000000&quot;, &quot;2025-12-02T00:00:00.000000000&quot;, &quot;2026-01-22T00:00:00.000000000&quot;, &quot;2026-02-01T00:00:00.000000000&quot;, &quot;2026-02-09T00:00:00.000000000&quot;, &quot;2026-02-11T00:00:00.000000000&quot;, &quot;2026-02-13T00:00:00.000000000&quot;, &quot;2026-03-09T00:00:00.000000000&quot;], &quot;hovertemplate&quot;: &quot;job=job0&lt;br&gt;start=%{base}&lt;br&gt;end=%{x}&lt;br&gt;resource=%{y}&lt;extra&gt;&lt;/extra&gt;&quot;, &quot;legendgroup&quot;: &quot;job0&quot;, &quot;marker&quot;: {&quot;color&quot;: &quot;#636efa&quot;, &quot;opacity&quot;: 0.5, &quot;pattern&quot;: {&quot;shape&quot;: &quot;&quot;}}, &quot;name&quot;: &quot;job0&quot;, &quot;orientation&quot;: &quot;h&quot;, &quot;showlegend&quot;: true, &quot;textposition&quot;: &quot;auto&quot;, &quot;x&quot;: {&quot;dtype&quot;: &quot;i4&quot;, &quot;bdata&quot;: &quot;ADxZLgAUcw8AzL8ZABRzDwC4TAoAmH8zAMy/GQA8WS4AmH8zABRzDwDMvxkAuEwKALhMCgAo5h4A4DIp&quot;}, &quot;xaxis&quot;: &quot;x&quot;, &quot;y&quot;: [&quot;machine1&quot;, &quot;machine10&quot;, &quot;machine9&quot;, &quot;machine5&quot;, &quot;machine11&quot;, &quot;machine2&quot;, &quot;machine3&quot;, &quot;machine7&quot;, &quot;machine8&quot;, &quot;machine4&quot;, &quot;machine0&quot;, &quot;machine14&quot;, &quot;machine12&quot;, &quot;machine6&quot;, &quot;machine13&quot;], &quot;yaxis&quot;: &quot;y&quot;, &quot;type&quot;: &quot;bar&quot;}, {&quot;base&quot;: [&quot;2025-07-10T00:00:00.000000000&quot;, &quot;2025-07-14T00:00:00.000000000&quot;, &quot;2025-08-11T00:00:00.000000000&quot;, &quot;2025-08-12T00:00:00.000000000&quot;, &quot;2025-08-22T00:00:00.000000000&quot;, &quot;2025-09-22T00:00:00.000000000&quot;, &quot;2025-09-30T00:00:00.000000000&quot;, &quot;2025-10-27T00:00:00.000000000&quot;, &quot;2025-12-23T00:00:00.000000000&quot;, &quot;2025-12-25T00:00:00.000000000&quot;, &quot;2025-12-30T00:00:00.000000000&quot;, &quot;2026-01-25T00:00:00.000000000&quot;, &quot;2026-03-19T00:00:00.000000000&quot;, &quot;2026-03-26T00:00:00.000000000&quot;, &quot;2026-03-29T00:00:00.000000000&quot;], &quot;hovertemplate&quot;: &quot;job=job1&lt;br&gt;start=%{base}&lt;br&gt;end=%{x}&lt;br&gt;resource=%{y}&lt;extra&gt;&lt;/extra&gt;&quot;, &quot;legendgroup&quot;: &quot;job1&quot;, &quot;marker&quot;: {&quot;color&quot;: &quot;#EF553B&quot;, &quot;opacity&quot;: 0.5, &quot;pattern&quot;: {&quot;shape&quot;: &quot;&quot;}}, &quot;name&quot;: &quot;job1&quot;, &quot;orientation&quot;: &quot;h&quot;, &quot;showlegend&quot;: true, &quot;textposition&quot;: &quot;auto&quot;, &quot;x&quot;: {&quot;dtype&quot;: &quot;i4&quot;, &quot;bdata&quot;: &quot;ALhMCgCEDCQAXCYFAJh/MwDgMikAKOYeAHCZFAAo5h4AuEwKAHCZFACYfzMAcJkUAHCZFAAUcw8APFku&quot;}, &quot;xaxis&quot;: &quot;x&quot;, &quot;y&quot;: [&quot;machine13&quot;, &quot;machine11&quot;, &quot;machine10&quot;, &quot;machine0&quot;, &quot;machine2&quot;, &quot;machine4&quot;, &quot;machine14&quot;, &quot;machine7&quot;, &quot;machine3&quot;, &quot;machine9&quot;, &quot;machine12&quot;, &quot;machine6&quot;, &quot;machine5&quot;, &quot;machine1&quot;, &quot;machine8&quot;], &quot;yaxis&quot;: &quot;y&quot;, &quot;type&quot;: &quot;bar&quot;}, {&quot;base&quot;: [&quot;2025-06-19T00:00:00.000000000&quot;, &quot;2025-07-02T00:00:00.000000000&quot;, &quot;2025-07-22T00:00:00.000000000&quot;, &quot;2025-08-16T00:00:00.000000000&quot;, &quot;2025-08-29T00:00:00.000000000&quot;, &quot;2025-10-02T00:00:00.000000000&quot;, &quot;2025-10-15T00:00:00.000000000&quot;, &quot;2025-11-12T00:00:00.000000000&quot;, &quot;2025-12-01T00:00:00.000000000&quot;, &quot;2025-12-19T00:00:00.000000000&quot;, &quot;2026-01-19T00:00:00.000000000&quot;, &quot;2026-03-13T00:00:00.000000000&quot;, &quot;2026-03-29T00:00:00.000000000&quot;, &quot;2026-04-04T00:00:00.000000000&quot;, &quot;2026-04-08T00:00:00.000000000&quot;], &quot;hovertemplate&quot;: &quot;job=job2&lt;br&gt;start=%{base}&lt;br&gt;end=%{x}&lt;br&gt;resource=%{y}&lt;extra&gt;&lt;/extra&gt;&quot;, &quot;legendgroup&quot;: &quot;job2&quot;, &quot;marker&quot;: {&quot;color&quot;: &quot;#00cc96&quot;, &quot;opacity&quot;: 0.5, &quot;pattern&quot;: {&quot;shape&quot;: &quot;&quot;}}, &quot;name&quot;: &quot;job2&quot;, &quot;orientation&quot;: &quot;h&quot;, &quot;showlegend&quot;: true, &quot;textposition&quot;: &quot;auto&quot;, &quot;x&quot;: {&quot;dtype&quot;: &quot;i4&quot;, &quot;bdata&quot;: &quot;AJh/MwA8WS4AmH8zAMy/GQDgMikAuEwKAJh/MwCEDCQAKOYeAJh/MwBwmRQAzL8ZABRzDwBwmRQAFHMP&quot;}, &quot;xaxis&quot;: &quot;x&quot;, &quot;y&quot;: [&quot;machine10&quot;, &quot;machine6&quot;, &quot;machine3&quot;, &quot;machine11&quot;, &quot;machine0&quot;, &quot;machine2&quot;, &quot;machine9&quot;, &quot;machine4&quot;, &quot;machine12&quot;, &quot;machine14&quot;, &quot;machine8&quot;, &quot;machine5&quot;, &quot;machine13&quot;, &quot;machine1&quot;, &quot;machine7&quot;], &quot;yaxis&quot;: &quot;y&quot;, &quot;type&quot;: &quot;bar&quot;}, {&quot;base&quot;: [&quot;2025-06-19T00:00:00.000000000&quot;, &quot;2025-06-28T00:00:00.000000000&quot;, &quot;2025-07-08T00:00:00.000000000&quot;, &quot;2025-07-12T00:00:00.000000000&quot;, &quot;2025-07-22T00:00:00.000000000&quot;, &quot;2025-08-01T00:00:00.000000000&quot;, &quot;2025-09-21T00:00:00.000000000&quot;, &quot;2025-10-24T00:00:00.000000000&quot;, &quot;2025-11-01T00:00:00.000000000&quot;, &quot;2025-11-17T00:00:00.000000000&quot;, &quot;2025-12-04T00:00:00.000000000&quot;, &quot;2026-01-16T00:00:00.000000000&quot;, &quot;2026-01-29T00:00:00.000000000&quot;, &quot;2026-02-11T00:00:00.000000000&quot;, &quot;2026-04-02T00:00:00.000000000&quot;], &quot;hovertemplate&quot;: &quot;job=job3&lt;br&gt;start=%{base}&lt;br&gt;end=%{x}&lt;br&gt;resource=%{y}&lt;extra&gt;&lt;/extra&gt;&quot;, &quot;legendgroup&quot;: &quot;job3&quot;, &quot;marker&quot;: {&quot;color&quot;: &quot;#ab63fa&quot;, &quot;opacity&quot;: 0.5, &quot;pattern&quot;: {&quot;shape&quot;: &quot;&quot;}}, &quot;name&quot;: &quot;job3&quot;, &quot;orientation&quot;: &quot;h&quot;, &quot;showlegend&quot;: true, &quot;textposition&quot;: &quot;auto&quot;, &quot;x&quot;: {&quot;dtype&quot;: &quot;i4&quot;, &quot;bdata&quot;: &quot;ADxZLgBwmRQAcJkUAJh/MwCEDCQAmH8zAMy/GQDgMikA4DIpACjmHgC4TAoAKOYeAJh/MwC4TAoA4DIp&quot;}, &quot;xaxis&quot;: &quot;x&quot;, &quot;y&quot;: [&quot;machine11&quot;, &quot;machine6&quot;, &quot;machine12&quot;, &quot;machine3&quot;, &quot;machine5&quot;, &quot;machine14&quot;, &quot;machine8&quot;, &quot;machine2&quot;, &quot;machine13&quot;, &quot;machine1&quot;, &quot;machine7&quot;, &quot;machine4&quot;, &quot;machine10&quot;, &quot;machine9&quot;, &quot;machine0&quot;], &quot;yaxis&quot;: &quot;y&quot;, &quot;type&quot;: &quot;bar&quot;}, {&quot;base&quot;: [&quot;2025-06-27T00:00:00.000000000&quot;, &quot;2025-07-12T00:00:00.000000000&quot;, &quot;2025-07-20T00:00:00.000000000&quot;, &quot;2025-07-25T00:00:00.000000000&quot;, &quot;2025-07-29T00:00:00.000000000&quot;, &quot;2025-10-03T00:00:00.000000000&quot;, &quot;2025-10-22T00:00:00.000000000&quot;, &quot;2025-10-31T00:00:00.000000000&quot;, &quot;2025-11-10T00:00:00.000000000&quot;, &quot;2025-11-27T00:00:00.000000000&quot;, &quot;2025-11-28T00:00:00.000000000&quot;, &quot;2026-01-10T00:00:00.000000000&quot;, &quot;2026-01-26T00:00:00.000000000&quot;, &quot;2026-03-03T00:00:00.000000000&quot;, &quot;2026-03-19T00:00:00.000000000&quot;], &quot;hovertemplate&quot;: &quot;job=job4&lt;br&gt;start=%{base}&lt;br&gt;end=%{x}&lt;br&gt;resource=%{y}&lt;extra&gt;&lt;/extra&gt;&quot;, &quot;legendgroup&quot;: &quot;job4&quot;, &quot;marker&quot;: {&quot;color&quot;: &quot;#FFA15A&quot;, &quot;opacity&quot;: 0.5, &quot;pattern&quot;: {&quot;shape&quot;: &quot;&quot;}}, &quot;name&quot;: &quot;job4&quot;, &quot;orientation&quot;: &quot;h&quot;, &quot;showlegend&quot;: true, &quot;textposition&quot;: &quot;auto&quot;, &quot;x&quot;: {&quot;dtype&quot;: &quot;i4&quot;, &quot;bdata&quot;: &quot;AFwmBQC4TAoAFHMPAHCZFABcJgUAmH8zADxZLgCYfzMAuEwKAFwmBQC4TAoAcJkUAJh/MwCYfzMAuEwK&quot;}, &quot;xaxis&quot;: &quot;x&quot;, &quot;y&quot;: [&quot;machine14&quot;, &quot;machine8&quot;, &quot;machine13&quot;, &quot;machine6&quot;, &quot;machine2&quot;, &quot;machine7&quot;, &quot;machine12&quot;, &quot;machine1&quot;, &quot;machine4&quot;, &quot;machine0&quot;, &quot;machine11&quot;, &quot;machine3&quot;, &quot;machine5&quot;, &quot;machine10&quot;, &quot;machine9&quot;], &quot;yaxis&quot;: &quot;y&quot;, &quot;type&quot;: &quot;bar&quot;}, {&quot;base&quot;: [&quot;2025-06-19T00:00:00.000000000&quot;, &quot;2025-06-21T00:00:00.000000000&quot;, &quot;2025-06-30T00:00:00.000000000&quot;, &quot;2025-07-31T00:00:00.000000000&quot;, &quot;2025-11-08T00:00:00.000000000&quot;, &quot;2025-11-13T00:00:00.000000000&quot;, &quot;2025-11-19T00:00:00.000000000&quot;, &quot;2025-12-19T00:00:00.000000000&quot;, &quot;2025-12-24T00:00:00.000000000&quot;, &quot;2025-12-31T00:00:00.000000000&quot;, &quot;2026-01-08T00:00:00.000000000&quot;, &quot;2026-02-23T00:00:00.000000000&quot;, &quot;2026-03-10T00:00:00.000000000&quot;, &quot;2026-03-13T00:00:00.000000000&quot;, &quot;2026-03-14T00:00:00.000000000&quot;], &quot;hovertemplate&quot;: &quot;job=job5&lt;br&gt;start=%{base}&lt;br&gt;end=%{x}&lt;br&gt;resource=%{y}&lt;extra&gt;&lt;/extra&gt;&quot;, &quot;legendgroup&quot;: &quot;job5&quot;, &quot;marker&quot;: {&quot;color&quot;: &quot;#19d3f3&quot;, &quot;opacity&quot;: 0.5, &quot;pattern&quot;: {&quot;shape&quot;: &quot;&quot;}}, &quot;name&quot;: &quot;job5&quot;, &quot;orientation&quot;: &quot;h&quot;, &quot;showlegend&quot;: true, &quot;textposition&quot;: &quot;auto&quot;, &quot;x&quot;: {&quot;dtype&quot;: &quot;i4&quot;, &quot;bdata&quot;: &quot;AFwmBQA8WS4AhAwkAJh/MwC4TAoAzL8ZALhMCgBwmRQAuEwKAMy/GQAo5h4AhAwkABRzDwBcJgUAPFku&quot;}, &quot;xaxis&quot;: &quot;x&quot;, &quot;y&quot;: [&quot;machine14&quot;, &quot;machine2&quot;, &quot;machine4&quot;, &quot;machine7&quot;, &quot;machine8&quot;, &quot;machine12&quot;, &quot;machine11&quot;, &quot;machine3&quot;, &quot;machine10&quot;, &quot;machine9&quot;, &quot;machine0&quot;, &quot;machine13&quot;, &quot;machine5&quot;, &quot;machine1&quot;, &quot;machine6&quot;], &quot;yaxis&quot;: &quot;y&quot;, &quot;type&quot;: &quot;bar&quot;}, {&quot;base&quot;: [&quot;2025-07-09T00:00:00.000000000&quot;, &quot;2025-07-12T00:00:00.000000000&quot;, &quot;2025-07-18T00:00:00.000000000&quot;, &quot;2025-07-23T00:00:00.000000000&quot;, &quot;2025-08-19T00:00:00.000000000&quot;, &quot;2025-08-30T00:00:00.000000000&quot;, &quot;2025-09-14T00:00:00.000000000&quot;, &quot;2025-09-21T00:00:00.000000000&quot;, &quot;2025-10-11T00:00:00.000000000&quot;, &quot;2025-12-12T00:00:00.000000000&quot;, &quot;2025-12-24T00:00:00.000000000&quot;, &quot;2025-12-25T00:00:00.000000000&quot;, &quot;2026-01-19T00:00:00.000000000&quot;, &quot;2026-03-10T00:00:00.000000000&quot;, &quot;2026-03-22T00:00:00.000000000&quot;], &quot;hovertemplate&quot;: &quot;job=job6&lt;br&gt;start=%{base}&lt;br&gt;end=%{x}&lt;br&gt;resource=%{y}&lt;extra&gt;&lt;/extra&gt;&quot;, &quot;legendgroup&quot;: &quot;job6&quot;, &quot;marker&quot;: {&quot;color&quot;: &quot;#FF6692&quot;, &quot;opacity&quot;: 0.5, &quot;pattern&quot;: {&quot;shape&quot;: &quot;&quot;}}, &quot;name&quot;: &quot;job6&quot;, &quot;orientation&quot;: &quot;h&quot;, &quot;showlegend&quot;: true, &quot;textposition&quot;: &quot;auto&quot;, &quot;x&quot;: {&quot;dtype&quot;: &quot;i4&quot;, &quot;bdata&quot;: &quot;AFwmBQAUcw8AFHMPACjmHgA8WS4AzL8ZALhMCgCYfzMA4DIpABRzDwBcJgUA4DIpAIQMJACYfzMAPFku&quot;}, &quot;xaxis&quot;: &quot;x&quot;, &quot;y&quot;: [&quot;machine10&quot;, &quot;machine13&quot;, &quot;machine2&quot;, &quot;machine11&quot;, &quot;machine8&quot;, &quot;machine12&quot;, &quot;machine14&quot;, &quot;machine5&quot;, &quot;machine4&quot;, &quot;machine3&quot;, &quot;machine6&quot;, &quot;machine1&quot;, &quot;machine9&quot;, &quot;machine0&quot;, &quot;machine7&quot;], &quot;yaxis&quot;: &quot;y&quot;, &quot;type&quot;: &quot;bar&quot;}, {&quot;base&quot;: [&quot;2025-06-19T00:00:00.000000000&quot;, &quot;2025-06-30T00:00:00.000000000&quot;, &quot;2025-07-05T00:00:00.000000000&quot;, &quot;2025-07-08T00:00:00.000000000&quot;, &quot;2025-07-13T00:00:00.000000000&quot;, &quot;2025-09-08T00:00:00.000000000&quot;, &quot;2025-09-22T00:00:00.000000000&quot;, &quot;2025-10-02T00:00:00.000000000&quot;, &quot;2025-11-02T00:00:00.000000000&quot;, &quot;2025-12-04T00:00:00.000000000&quot;, &quot;2025-12-14T00:00:00.000000000&quot;, &quot;2026-02-09T00:00:00.000000000&quot;, &quot;2026-02-12T00:00:00.000000000&quot;, &quot;2026-02-22T00:00:00.000000000&quot;, &quot;2026-03-12T00:00:00.000000000&quot;], &quot;hovertemplate&quot;: &quot;job=job7&lt;br&gt;start=%{base}&lt;br&gt;end=%{x}&lt;br&gt;resource=%{y}&lt;extra&gt;&lt;/extra&gt;&quot;, &quot;legendgroup&quot;: &quot;job7&quot;, &quot;marker&quot;: {&quot;color&quot;: &quot;#B6E880&quot;, &quot;opacity&quot;: 0.5, &quot;pattern&quot;: {&quot;shape&quot;: &quot;&quot;}}, &quot;name&quot;: &quot;job7&quot;, &quot;orientation&quot;: &quot;h&quot;, &quot;showlegend&quot;: true, &quot;textposition&quot;: &quot;auto&quot;, &quot;x&quot;: {&quot;dtype&quot;: &quot;i4&quot;, &quot;bdata&quot;: &quot;ADxZLgDMvxkAFHMPAHCZFADgMikAKOYeAJh/MwDMvxkAKOYeAJh/MwCYfzMAFHMPAMy/GQCEDCQAhAwk&quot;}, &quot;xaxis&quot;: &quot;x&quot;, &quot;y&quot;: [&quot;machine1&quot;, &quot;machine9&quot;, &quot;machine12&quot;, &quot;machine8&quot;, &quot;machine7&quot;, &quot;machine11&quot;, &quot;machine3&quot;, &quot;machine0&quot;, &quot;machine2&quot;, &quot;machine13&quot;, &quot;machine6&quot;, &quot;machine5&quot;, &quot;machine10&quot;, &quot;machine4&quot;, &quot;machine14&quot;], &quot;yaxis&quot;: &quot;y&quot;, &quot;type&quot;: &quot;bar&quot;}, {&quot;base&quot;: [&quot;2025-06-28T00:00:00.000000000&quot;, &quot;2025-07-14T00:00:00.000000000&quot;, &quot;2025-07-21T00:00:00.000000000&quot;, &quot;2025-08-02T00:00:00.000000000&quot;, &quot;2025-08-11T00:00:00.000000000&quot;, &quot;2025-08-12T00:00:00.000000000&quot;, &quot;2025-09-12T00:00:00.000000000&quot;, &quot;2025-09-30T00:00:00.000000000&quot;, &quot;2025-10-03T00:00:00.000000000&quot;, &quot;2025-11-16T00:00:00.000000000&quot;, &quot;2025-11-20T00:00:00.000000000&quot;, &quot;2025-11-28T00:00:00.000000000&quot;, &quot;2025-12-07T00:00:00.000000000&quot;, &quot;2025-12-15T00:00:00.000000000&quot;, &quot;2026-01-13T00:00:00.000000000&quot;], &quot;hovertemplate&quot;: &quot;job=job8&lt;br&gt;start=%{base}&lt;br&gt;end=%{x}&lt;br&gt;resource=%{y}&lt;extra&gt;&lt;/extra&gt;&quot;, &quot;legendgroup&quot;: &quot;job8&quot;, &quot;marker&quot;: {&quot;color&quot;: &quot;#FF97FF&quot;, &quot;opacity&quot;: 0.5, &quot;pattern&quot;: {&quot;shape&quot;: &quot;&quot;}}, &quot;name&quot;: &quot;job8&quot;, &quot;orientation&quot;: &quot;h&quot;, &quot;showlegend&quot;: true, &quot;textposition&quot;: &quot;auto&quot;, &quot;x&quot;: {&quot;dtype&quot;: &quot;i4&quot;, &quot;bdata&quot;: &quot;AFwmBQCEDCQAmH8zAIQMJABcJgUAFHMPAOAyKQC4TAoAzL8ZABRzDwDgMikAPFkuAOAyKQA8WS4AmH8z&quot;}, &quot;xaxis&quot;: &quot;x&quot;, &quot;y&quot;: [&quot;machine11&quot;, &quot;machine8&quot;, &quot;machine7&quot;, &quot;machine4&quot;, &quot;machine14&quot;, &quot;machine6&quot;, &quot;machine12&quot;, &quot;machine2&quot;, &quot;machine5&quot;, &quot;machine3&quot;, &quot;machine9&quot;, &quot;machine0&quot;, &quot;machine1&quot;, &quot;machine10&quot;, &quot;machine13&quot;], &quot;yaxis&quot;: &quot;y&quot;, &quot;type&quot;: &quot;bar&quot;}, {&quot;base&quot;: [&quot;2025-07-28T00:00:00.000000000&quot;, &quot;2025-08-12T00:00:00.000000000&quot;, &quot;2025-09-08T00:00:00.000000000&quot;, &quot;2025-09-29T00:00:00.000000000&quot;, &quot;2025-10-05T00:00:00.000000000&quot;, &quot;2025-11-22T00:00:00.000000000&quot;, &quot;2025-11-30T00:00:00.000000000&quot;, &quot;2025-12-01T00:00:00.000000000&quot;, &quot;2025-12-02T00:00:00.000000000&quot;, &quot;2025-12-13T00:00:00.000000000&quot;, &quot;2025-12-27T00:00:00.000000000&quot;, &quot;2025-12-29T00:00:00.000000000&quot;, &quot;2026-01-02T00:00:00.000000000&quot;, &quot;2026-03-23T00:00:00.000000000&quot;, &quot;2026-04-02T00:00:00.000000000&quot;], &quot;hovertemplate&quot;: &quot;job=job9&lt;br&gt;start=%{base}&lt;br&gt;end=%{x}&lt;br&gt;resource=%{y}&lt;extra&gt;&lt;/extra&gt;&quot;, &quot;legendgroup&quot;: &quot;job9&quot;, &quot;marker&quot;: {&quot;color&quot;: &quot;#FECB52&quot;, &quot;opacity&quot;: 0.5, &quot;pattern&quot;: {&quot;shape&quot;: &quot;&quot;}}, &quot;name&quot;: &quot;job9&quot;, &quot;orientation&quot;: &quot;h&quot;, &quot;showlegend&quot;: true, &quot;textposition&quot;: &quot;auto&quot;, &quot;x&quot;: {&quot;dtype&quot;: &quot;i4&quot;, &quot;bdata&quot;: &quot;AFwmBQCEDCQAhAwkACjmHgBcJgUAcJkUAFwmBQBcJgUAPFkuAJh/MwC4TAoAcJkUALhMCgCYfzMAcJkU&quot;}, &quot;xaxis&quot;: &quot;x&quot;, &quot;y&quot;: [&quot;machine9&quot;, &quot;machine10&quot;, &quot;machine2&quot;, &quot;machine8&quot;, &quot;machine1&quot;, &quot;machine3&quot;, &quot;machine6&quot;, &quot;machine14&quot;, &quot;machine11&quot;, &quot;machine4&quot;, &quot;machine5&quot;, &quot;machine7&quot;, &quot;machine13&quot;, &quot;machine0&quot;, &quot;machine12&quot;], &quot;yaxis&quot;: &quot;y&quot;, &quot;type&quot;: &quot;bar&quot;}, {&quot;base&quot;: [&quot;2025-09-14T00:00:00.000000000&quot;, &quot;2025-09-20T00:00:00.000000000&quot;, &quot;2025-09-23T00:00:00.000000000&quot;, &quot;2025-10-05T00:00:00.000000000&quot;, &quot;2025-10-22T00:00:00.000000000&quot;, &quot;2025-10-26T00:00:00.000000000&quot;, &quot;2025-12-29T00:00:00.000000000&quot;, &quot;2026-01-03T00:00:00.000000000&quot;, &quot;2026-01-12T00:00:00.000000000&quot;, &quot;2026-01-13T00:00:00.000000000&quot;, &quot;2026-01-14T00:00:00.000000000&quot;, &quot;2026-01-18T00:00:00.000000000&quot;, &quot;2026-01-24T00:00:00.000000000&quot;, &quot;2026-03-02T00:00:00.000000000&quot;, &quot;2026-04-05T00:00:00.000000000&quot;], &quot;hovertemplate&quot;: &quot;job=job10&lt;br&gt;start=%{base}&lt;br&gt;end=%{x}&lt;br&gt;resource=%{y}&lt;extra&gt;&lt;/extra&gt;&quot;, &quot;legendgroup&quot;: &quot;job10&quot;, &quot;marker&quot;: {&quot;color&quot;: &quot;#636efa&quot;, &quot;opacity&quot;: 0.5, &quot;pattern&quot;: {&quot;shape&quot;: &quot;&quot;}}, &quot;name&quot;: &quot;job10&quot;, &quot;orientation&quot;: &quot;h&quot;, &quot;showlegend&quot;: true, &quot;textposition&quot;: &quot;auto&quot;, &quot;x&quot;: {&quot;dtype&quot;: &quot;i4&quot;, &quot;bdata&quot;: &quot;AMy/GQAUcw8APFkuACjmHgC4TAoAFHMPAMy/GQBcJgUAXCYFAFwmBQBwmRQAzL8ZADxZLgAo5h4AKOYe&quot;}, &quot;xaxis&quot;: &quot;x&quot;, &quot;y&quot;: [&quot;machine3&quot;, &quot;machine12&quot;, &quot;machine9&quot;, &quot;machine10&quot;, &quot;machine8&quot;, &quot;machine0&quot;, &quot;machine5&quot;, &quot;machine6&quot;, &quot;machine7&quot;, &quot;machine1&quot;, &quot;machine2&quot;, &quot;machine11&quot;, &quot;machine14&quot;, &quot;machine4&quot;, &quot;machine13&quot;], &quot;yaxis&quot;: &quot;y&quot;, &quot;type&quot;: &quot;bar&quot;}, {&quot;base&quot;: [&quot;2025-06-19T00:00:00.000000000&quot;, &quot;2025-09-26T00:00:00.000000000&quot;, &quot;2025-10-15T00:00:00.000000000&quot;, &quot;2025-10-20T00:00:00.000000000&quot;, &quot;2025-10-25T00:00:00.000000000&quot;, &quot;2025-10-31T00:00:00.000000000&quot;, &quot;2025-11-17T00:00:00.000000000&quot;, &quot;2025-12-25T00:00:00.000000000&quot;, &quot;2025-12-27T00:00:00.000000000&quot;, &quot;2026-01-02T00:00:00.000000000&quot;, &quot;2026-03-01T00:00:00.000000000&quot;, &quot;2026-03-02T00:00:00.000000000&quot;, &quot;2026-03-05T00:00:00.000000000&quot;, &quot;2026-04-02T00:00:00.000000000&quot;, &quot;2026-04-05T00:00:00.000000000&quot;], &quot;hovertemplate&quot;: &quot;job=job11&lt;br&gt;start=%{base}&lt;br&gt;end=%{x}&lt;br&gt;resource=%{y}&lt;extra&gt;&lt;/extra&gt;&quot;, &quot;legendgroup&quot;: &quot;job11&quot;, &quot;marker&quot;: {&quot;color&quot;: &quot;#EF553B&quot;, &quot;opacity&quot;: 0.5, &quot;pattern&quot;: {&quot;shape&quot;: &quot;&quot;}}, &quot;name&quot;: &quot;job11&quot;, &quot;orientation&quot;: &quot;h&quot;, &quot;showlegend&quot;: true, &quot;textposition&quot;: &quot;auto&quot;, &quot;x&quot;: {&quot;dtype&quot;: &quot;i4&quot;, &quot;bdata&quot;: &quot;AFwmBQAUcw8AFHMPAMy/GQAo5h4AKOYeACjmHgC4TAoAKOYeAJh/MwBcJgUAXCYFAMy/GQAUcw8AFHMP&quot;}, &quot;xaxis&quot;: &quot;x&quot;, &quot;y&quot;: [&quot;machine12&quot;, &quot;machine8&quot;, &quot;machine3&quot;, &quot;machine5&quot;, &quot;machine1&quot;, &quot;machine4&quot;, &quot;machine2&quot;, &quot;machine6&quot;, &quot;machine10&quot;, &quot;machine7&quot;, &quot;machine14&quot;, &quot;machine11&quot;, &quot;machine0&quot;, &quot;machine13&quot;, &quot;machine9&quot;], &quot;yaxis&quot;: &quot;y&quot;, &quot;type&quot;: &quot;bar&quot;}, {&quot;base&quot;: [&quot;2025-07-04T00:00:00.000000000&quot;, &quot;2025-07-21T00:00:00.000000000&quot;, &quot;2025-07-30T00:00:00.000000000&quot;, &quot;2025-08-04T00:00:00.000000000&quot;, &quot;2025-08-24T00:00:00.000000000&quot;, &quot;2025-10-12T00:00:00.000000000&quot;, &quot;2025-10-31T00:00:00.000000000&quot;, &quot;2025-11-15T00:00:00.000000000&quot;, &quot;2025-11-23T00:00:00.000000000&quot;, &quot;2025-11-25T00:00:00.000000000&quot;, &quot;2026-01-07T00:00:00.000000000&quot;, &quot;2026-01-17T00:00:00.000000000&quot;, &quot;2026-02-19T00:00:00.000000000&quot;, &quot;2026-03-18T00:00:00.000000000&quot;, &quot;2026-03-24T00:00:00.000000000&quot;], &quot;hovertemplate&quot;: &quot;job=job12&lt;br&gt;start=%{base}&lt;br&gt;end=%{x}&lt;br&gt;resource=%{y}&lt;extra&gt;&lt;/extra&gt;&quot;, &quot;legendgroup&quot;: &quot;job12&quot;, &quot;marker&quot;: {&quot;color&quot;: &quot;#00cc96&quot;, &quot;opacity&quot;: 0.5, &quot;pattern&quot;: {&quot;shape&quot;: &quot;&quot;}}, &quot;name&quot;: &quot;job12&quot;, &quot;orientation&quot;: &quot;h&quot;, &quot;showlegend&quot;: true, &quot;textposition&quot;: &quot;auto&quot;, &quot;x&quot;: {&quot;dtype&quot;: &quot;i4&quot;, &quot;bdata&quot;: &quot;ADxZLgC4TAoAzL8ZAIQMJAAo5h4AzL8ZAIQMJAC4TAoAuEwKADxZLgDgMikA4DIpACjmHgAo5h4AuEwK&quot;}, &quot;xaxis&quot;: &quot;x&quot;, &quot;y&quot;: [&quot;machine14&quot;, &quot;machine11&quot;, &quot;machine10&quot;, &quot;machine0&quot;, &quot;machine7&quot;, &quot;machine12&quot;, &quot;machine3&quot;, &quot;machine1&quot;, &quot;machine13&quot;, &quot;machine2&quot;, &quot;machine8&quot;, &quot;machine6&quot;, &quot;machine5&quot;, &quot;machine4&quot;, &quot;machine9&quot;], &quot;yaxis&quot;: &quot;y&quot;, &quot;type&quot;: &quot;bar&quot;}, {&quot;base&quot;: [&quot;2025-06-28T00:00:00.000000000&quot;, &quot;2025-06-30T00:00:00.000000000&quot;, &quot;2025-07-08T00:00:00.000000000&quot;, &quot;2025-09-17T00:00:00.000000000&quot;, &quot;2025-09-30T00:00:00.000000000&quot;, &quot;2025-10-04T00:00:00.000000000&quot;, &quot;2025-10-05T00:00:00.000000000&quot;, &quot;2025-10-25T00:00:00.000000000&quot;, &quot;2025-10-26T00:00:00.000000000&quot;, &quot;2025-10-29T00:00:00.000000000&quot;, &quot;2025-12-01T00:00:00.000000000&quot;, &quot;2025-12-10T00:00:00.000000000&quot;, &quot;2025-12-19T00:00:00.000000000&quot;, &quot;2026-01-28T00:00:00.000000000&quot;, &quot;2026-03-13T00:00:00.000000000&quot;], &quot;hovertemplate&quot;: &quot;job=job13&lt;br&gt;start=%{base}&lt;br&gt;end=%{x}&lt;br&gt;resource=%{y}&lt;extra&gt;&lt;/extra&gt;&quot;, &quot;legendgroup&quot;: &quot;job13&quot;, &quot;marker&quot;: {&quot;color&quot;: &quot;#ab63fa&quot;, &quot;opacity&quot;: 0.5, &quot;pattern&quot;: {&quot;shape&quot;: &quot;&quot;}}, &quot;name&quot;: &quot;job13&quot;, &quot;orientation&quot;: &quot;h&quot;, &quot;showlegend&quot;: true, &quot;textposition&quot;: &quot;auto&quot;, &quot;x&quot;: {&quot;dtype&quot;: &quot;i4&quot;, &quot;bdata&quot;: &quot;ALhMCgC4TAoAuEwKAHCZFABwmRQAXCYFAIQMJABcJgUAuEwKAIQMJAA8WS4APFkuAMy/GQDgMikA4DIp&quot;}, &quot;xaxis&quot;: &quot;x&quot;, &quot;y&quot;: [&quot;machine9&quot;, &quot;machine3&quot;, &quot;machine2&quot;, &quot;machine8&quot;, &quot;machine13&quot;, &quot;machine10&quot;, &quot;machine12&quot;, &quot;machine5&quot;, &quot;machine4&quot;, &quot;machine0&quot;, &quot;machine6&quot;, &quot;machine14&quot;, &quot;machine11&quot;, &quot;machine1&quot;, &quot;machine7&quot;], &quot;yaxis&quot;: &quot;y&quot;, &quot;type&quot;: &quot;bar&quot;}, {&quot;base&quot;: [&quot;2025-06-19T00:00:00.000000000&quot;, &quot;2025-07-05T00:00:00.000000000&quot;, &quot;2025-07-26T00:00:00.000000000&quot;, &quot;2025-09-01T00:00:00.000000000&quot;, &quot;2025-09-02T00:00:00.000000000&quot;, &quot;2025-10-08T00:00:00.000000000&quot;, &quot;2025-11-10T00:00:00.000000000&quot;, &quot;2025-11-16T00:00:00.000000000&quot;, &quot;2025-11-26T00:00:00.000000000&quot;, &quot;2025-12-27T00:00:00.000000000&quot;, &quot;2026-01-19T00:00:00.000000000&quot;, &quot;2026-01-24T00:00:00.000000000&quot;, &quot;2026-02-17T00:00:00.000000000&quot;, &quot;2026-03-10T00:00:00.000000000&quot;, &quot;2026-03-14T00:00:00.000000000&quot;], &quot;hovertemplate&quot;: &quot;job=job14&lt;br&gt;start=%{base}&lt;br&gt;end=%{x}&lt;br&gt;resource=%{y}&lt;extra&gt;&lt;/extra&gt;&quot;, &quot;legendgroup&quot;: &quot;job14&quot;, &quot;marker&quot;: {&quot;color&quot;: &quot;#FFA15A&quot;, &quot;opacity&quot;: 0.5, &quot;pattern&quot;: {&quot;shape&quot;: &quot;&quot;}}, &quot;name&quot;: &quot;job14&quot;, &quot;orientation&quot;: &quot;h&quot;, &quot;showlegend&quot;: true, &quot;textposition&quot;: &quot;auto&quot;, &quot;x&quot;: {&quot;dtype&quot;: &quot;i4&quot;, &quot;bdata&quot;: &quot;ACjmHgC4TAoAuEwKAFwmBQA8WS4A4DIpAHCZFAC4TAoA4DIpAIQMJADMvxkAcJkUAFwmBQBwmRQAmH8z&quot;}, &quot;xaxis&quot;: &quot;x&quot;, &quot;y&quot;: [&quot;machine7&quot;, &quot;machine0&quot;, &quot;machine14&quot;, &quot;machine13&quot;, &quot;machine4&quot;, &quot;machine2&quot;, &quot;machine8&quot;, &quot;machine5&quot;, &quot;machine1&quot;, &quot;machine6&quot;, &quot;machine3&quot;, &quot;machine10&quot;, &quot;machine11&quot;, &quot;machine9&quot;, &quot;machine12&quot;], &quot;yaxis&quot;: &quot;y&quot;, &quot;type&quot;: &quot;bar&quot;}, {&quot;base&quot;: [&quot;2025-07-02T00:00:00.000000000&quot;, &quot;2025-07-19T00:00:00.000000000&quot;, &quot;2025-07-29T00:00:00.000000000&quot;, &quot;2025-08-19T00:00:00.000000000&quot;, &quot;2025-09-04T00:00:00.000000000&quot;, &quot;2025-09-14T00:00:00.000000000&quot;, &quot;2025-09-22T00:00:00.000000000&quot;, &quot;2025-10-08T00:00:00.000000000&quot;, &quot;2025-12-28T00:00:00.000000000&quot;, &quot;2026-01-10T00:00:00.000000000&quot;, &quot;2026-01-14T00:00:00.000000000&quot;, &quot;2026-01-22T00:00:00.000000000&quot;, &quot;2026-02-16T00:00:00.000000000&quot;, &quot;2026-03-02T00:00:00.000000000&quot;, &quot;2026-03-09T00:00:00.000000000&quot;], &quot;hovertemplate&quot;: &quot;job=job15&lt;br&gt;start=%{base}&lt;br&gt;end=%{x}&lt;br&gt;resource=%{y}&lt;extra&gt;&lt;/extra&gt;&quot;, &quot;legendgroup&quot;: &quot;job15&quot;, &quot;marker&quot;: {&quot;color&quot;: &quot;#19d3f3&quot;, &quot;opacity&quot;: 0.5, &quot;pattern&quot;: {&quot;shape&quot;: &quot;&quot;}}, &quot;name&quot;: &quot;job15&quot;, &quot;orientation&quot;: &quot;h&quot;, &quot;showlegend&quot;: true, &quot;textposition&quot;: &quot;auto&quot;, &quot;x&quot;: {&quot;dtype&quot;: &quot;i4&quot;, &quot;bdata&quot;: &quot;AIQMJAA8WS4A4DIpACjmHgDgMikA4DIpAHCZFAA8WS4AmH8zAHCZFABcJgUAKOYeACjmHgAo5h4AXCYF&quot;}, &quot;xaxis&quot;: &quot;x&quot;, &quot;y&quot;: [&quot;machine10&quot;, &quot;machine9&quot;, &quot;machine11&quot;, &quot;machine13&quot;, &quot;machine12&quot;, &quot;machine4&quot;, &quot;machine0&quot;, &quot;machine14&quot;, &quot;machine8&quot;, &quot;machine5&quot;, &quot;machine6&quot;, &quot;machine7&quot;, &quot;machine3&quot;, &quot;machine1&quot;, &quot;machine2&quot;], &quot;yaxis&quot;: &quot;y&quot;, &quot;type&quot;: &quot;bar&quot;}, {&quot;base&quot;: [&quot;2025-07-12T00:00:00.000000000&quot;, &quot;2025-07-29T00:00:00.000000000&quot;, &quot;2025-08-07T00:00:00.000000000&quot;, &quot;2025-08-13T00:00:00.000000000&quot;, &quot;2025-08-14T00:00:00.000000000&quot;, &quot;2025-09-02T00:00:00.000000000&quot;, &quot;2025-09-08T00:00:00.000000000&quot;, &quot;2025-09-30T00:00:00.000000000&quot;, &quot;2025-10-31T00:00:00.000000000&quot;, &quot;2025-11-14T00:00:00.000000000&quot;, &quot;2025-11-25T00:00:00.000000000&quot;, &quot;2025-12-13T00:00:00.000000000&quot;, &quot;2026-02-10T00:00:00.000000000&quot;, &quot;2026-02-19T00:00:00.000000000&quot;, &quot;2026-02-28T00:00:00.000000000&quot;], &quot;hovertemplate&quot;: &quot;job=job16&lt;br&gt;start=%{base}&lt;br&gt;end=%{x}&lt;br&gt;resource=%{y}&lt;extra&gt;&lt;/extra&gt;&quot;, &quot;legendgroup&quot;: &quot;job16&quot;, &quot;marker&quot;: {&quot;color&quot;: &quot;#FF6692&quot;, &quot;opacity&quot;: 0.5, &quot;pattern&quot;: {&quot;shape&quot;: &quot;&quot;}}, &quot;name&quot;: &quot;job16&quot;, &quot;orientation&quot;: &quot;h&quot;, &quot;showlegend&quot;: true, &quot;textposition&quot;: &quot;auto&quot;, &quot;x&quot;: {&quot;dtype&quot;: &quot;i4&quot;, &quot;bdata&quot;: &quot;ABRzDwBcJgUAzL8ZAFwmBQDgMikAKOYeABRzDwAUcw8A4DIpACjmHgA8WS4AhAwkADxZLgA8WS4AXCYF&quot;}, &quot;xaxis&quot;: &quot;x&quot;, &quot;y&quot;: [&quot;machine1&quot;, &quot;machine10&quot;, &quot;machine3&quot;, &quot;machine5&quot;, &quot;machine14&quot;, &quot;machine11&quot;, &quot;machine0&quot;, &quot;machine7&quot;, &quot;machine12&quot;, &quot;machine6&quot;, &quot;machine13&quot;, &quot;machine9&quot;, &quot;machine4&quot;, &quot;machine2&quot;, &quot;machine8&quot;], &quot;yaxis&quot;: &quot;y&quot;, &quot;type&quot;: &quot;bar&quot;}, {&quot;base&quot;: [&quot;2025-07-07T00:00:00.000000000&quot;, &quot;2025-08-06T00:00:00.000000000&quot;, &quot;2025-08-26T00:00:00.000000000&quot;, &quot;2025-09-07T00:00:00.000000000&quot;, &quot;2025-09-08T00:00:00.000000000&quot;, &quot;2025-09-11T00:00:00.000000000&quot;, &quot;2025-09-25T00:00:00.000000000&quot;, &quot;2025-11-07T00:00:00.000000000&quot;, &quot;2025-11-20T00:00:00.000000000&quot;, &quot;2025-12-14T00:00:00.000000000&quot;, &quot;2025-12-29T00:00:00.000000000&quot;, &quot;2026-01-17T00:00:00.000000000&quot;, &quot;2026-03-13T00:00:00.000000000&quot;, &quot;2026-03-21T00:00:00.000000000&quot;, &quot;2026-03-26T00:00:00.000000000&quot;], &quot;hovertemplate&quot;: &quot;job=job17&lt;br&gt;start=%{base}&lt;br&gt;end=%{x}&lt;br&gt;resource=%{y}&lt;extra&gt;&lt;/extra&gt;&quot;, &quot;legendgroup&quot;: &quot;job17&quot;, &quot;marker&quot;: {&quot;color&quot;: &quot;#B6E880&quot;, &quot;opacity&quot;: 0.5, &quot;pattern&quot;: {&quot;shape&quot;: &quot;&quot;}}, &quot;name&quot;: &quot;job17&quot;, &quot;orientation&quot;: &quot;h&quot;, &quot;showlegend&quot;: true, &quot;textposition&quot;: &quot;auto&quot;, &quot;x&quot;: {&quot;dtype&quot;: &quot;i4&quot;, &quot;bdata&quot;: &quot;AJh/MwCYfzMAcJkUAFwmBQBcJgUAFHMPAMy/GQA8WS4AmH8zAMy/GQAo5h4AuEwKAOAyKQDMvxkAzL8Z&quot;}, &quot;xaxis&quot;: &quot;x&quot;, &quot;y&quot;: [&quot;machine0&quot;, &quot;machine11&quot;, &quot;machine12&quot;, &quot;machine7&quot;, &quot;machine5&quot;, &quot;machine4&quot;, &quot;machine2&quot;, &quot;machine3&quot;, &quot;machine6&quot;, &quot;machine13&quot;, &quot;machine14&quot;, &quot;machine8&quot;, &quot;machine10&quot;, &quot;machine1&quot;, &quot;machine9&quot;], &quot;yaxis&quot;: &quot;y&quot;, &quot;type&quot;: &quot;bar&quot;}, {&quot;base&quot;: [&quot;2025-06-21T00:00:00.000000000&quot;, &quot;2025-06-29T00:00:00.000000000&quot;, &quot;2025-07-05T00:00:00.000000000&quot;, &quot;2025-09-14T00:00:00.000000000&quot;, &quot;2025-10-10T00:00:00.000000000&quot;, &quot;2025-10-17T00:00:00.000000000&quot;, &quot;2025-11-02T00:00:00.000000000&quot;, &quot;2025-12-05T00:00:00.000000000&quot;, &quot;2025-12-12T00:00:00.000000000&quot;, &quot;2025-12-13T00:00:00.000000000&quot;, &quot;2026-01-14T00:00:00.000000000&quot;, &quot;2026-02-02T00:00:00.000000000&quot;, &quot;2026-02-15T00:00:00.000000000&quot;, &quot;2026-02-23T00:00:00.000000000&quot;, &quot;2026-02-24T00:00:00.000000000&quot;], &quot;hovertemplate&quot;: &quot;job=job18&lt;br&gt;start=%{base}&lt;br&gt;end=%{x}&lt;br&gt;resource=%{y}&lt;extra&gt;&lt;/extra&gt;&quot;, &quot;legendgroup&quot;: &quot;job18&quot;, &quot;marker&quot;: {&quot;color&quot;: &quot;#FF97FF&quot;, &quot;opacity&quot;: 0.5, &quot;pattern&quot;: {&quot;shape&quot;: &quot;&quot;}}, &quot;name&quot;: &quot;job18&quot;, &quot;orientation&quot;: &quot;h&quot;, &quot;showlegend&quot;: true, &quot;textposition&quot;: &quot;auto&quot;, &quot;x&quot;: {&quot;dtype&quot;: &quot;i4&quot;, &quot;bdata&quot;: &quot;AIQMJAAUcw8A4DIpAJh/MwC4TAoAFHMPACjmHgCEDCQAXCYFAJh/MwDgMikAhAwkAOAyKQBcJgUAuEwK&quot;}, &quot;xaxis&quot;: &quot;x&quot;, &quot;y&quot;: [&quot;machine4&quot;, &quot;machine1&quot;, &quot;machine7&quot;, &quot;machine10&quot;, &quot;machine11&quot;, &quot;machine5&quot;, &quot;machine8&quot;, &quot;machine3&quot;, &quot;machine9&quot;, &quot;machine2&quot;, &quot;machine0&quot;, &quot;machine14&quot;, &quot;machine13&quot;, &quot;machine6&quot;, &quot;machine12&quot;], &quot;yaxis&quot;: &quot;y&quot;, &quot;type&quot;: &quot;bar&quot;}, {&quot;base&quot;: [&quot;2025-06-19T00:00:00.000000000&quot;, &quot;2025-07-15T00:00:00.000000000&quot;, &quot;2025-07-24T00:00:00.000000000&quot;, &quot;2025-08-01T00:00:00.000000000&quot;, &quot;2025-08-20T00:00:00.000000000&quot;, &quot;2025-08-31T00:00:00.000000000&quot;, &quot;2025-10-11T00:00:00.000000000&quot;, &quot;2025-11-07T00:00:00.000000000&quot;, &quot;2025-11-13T00:00:00.000000000&quot;, &quot;2025-11-28T00:00:00.000000000&quot;, &quot;2025-12-13T00:00:00.000000000&quot;, &quot;2025-12-17T00:00:00.000000000&quot;, &quot;2025-12-28T00:00:00.000000000&quot;, &quot;2026-01-09T00:00:00.000000000&quot;, &quot;2026-01-13T00:00:00.000000000&quot;], &quot;hovertemplate&quot;: &quot;job=job19&lt;br&gt;start=%{base}&lt;br&gt;end=%{x}&lt;br&gt;resource=%{y}&lt;extra&gt;&lt;/extra&gt;&quot;, &quot;legendgroup&quot;: &quot;job19&quot;, &quot;marker&quot;: {&quot;color&quot;: &quot;#FECB52&quot;, &quot;opacity&quot;: 0.5, &quot;pattern&quot;: {&quot;shape&quot;: &quot;&quot;}}, &quot;name&quot;: &quot;job19&quot;, &quot;orientation&quot;: &quot;h&quot;, &quot;showlegend&quot;: true, &quot;textposition&quot;: &quot;auto&quot;, &quot;x&quot;: {&quot;dtype&quot;: &quot;i4&quot;, &quot;bdata&quot;: &quot;AOAyKQC4TAoAXCYFAJh/MwDgMikAmH8zACjmHgC4TAoAmH8zAMy/GQAUcw8AhAwkAMy/GQC4TAoAPFku&quot;}, &quot;xaxis&quot;: &quot;x&quot;, &quot;y&quot;: [&quot;machine3&quot;, &quot;machine1&quot;, &quot;machine6&quot;, &quot;machine8&quot;, &quot;machine4&quot;, &quot;machine14&quot;, &quot;machine10&quot;, &quot;machine5&quot;, &quot;machine13&quot;, &quot;machine9&quot;, &quot;machine11&quot;, &quot;machine0&quot;, &quot;machine2&quot;, &quot;machine12&quot;, &quot;machine7&quot;], &quot;yaxis&quot;: &quot;y&quot;, &quot;type&quot;: &quot;bar&quot;}, {&quot;base&quot;: [&quot;2025-06-19T00:00:00.000000000&quot;, &quot;2025-06-28T00:00:00.000000000&quot;, &quot;2025-07-12T00:00:00.000000000&quot;, &quot;2025-07-23T00:00:00.000000000&quot;, &quot;2025-08-21T00:00:00.000000000&quot;, &quot;2025-08-31T00:00:00.000000000&quot;, &quot;2025-09-04T00:00:00.000000000&quot;, &quot;2025-09-10T00:00:00.000000000&quot;, &quot;2025-09-12T00:00:00.000000000&quot;, &quot;2025-09-21T00:00:00.000000000&quot;, &quot;2025-09-30T00:00:00.000000000&quot;, &quot;2025-10-07T00:00:00.000000000&quot;, &quot;2026-01-26T00:00:00.000000000&quot;, &quot;2026-01-31T00:00:00.000000000&quot;, &quot;2026-02-05T00:00:00.000000000&quot;], &quot;hovertemplate&quot;: &quot;job=job20&lt;br&gt;start=%{base}&lt;br&gt;end=%{x}&lt;br&gt;resource=%{y}&lt;extra&gt;&lt;/extra&gt;&quot;, &quot;legendgroup&quot;: &quot;job20&quot;, &quot;marker&quot;: {&quot;color&quot;: &quot;#636efa&quot;, &quot;opacity&quot;: 0.5, &quot;pattern&quot;: {&quot;shape&quot;: &quot;&quot;}}, &quot;name&quot;: &quot;job20&quot;, &quot;orientation&quot;: &quot;h&quot;, &quot;showlegend&quot;: true, &quot;textposition&quot;: &quot;auto&quot;, &quot;x&quot;: {&quot;dtype&quot;: &quot;i4&quot;, &quot;bdata&quot;: &quot;AMy/GQBcJgUAPFkuAJh/MwCYfzMAcJkUAHCZFAC4TAoAPFkuADxZLgCEDCQAPFkuAMy/GQC4TAoAFHMP&quot;}, &quot;xaxis&quot;: &quot;x&quot;, &quot;y&quot;: [&quot;machine8&quot;, &quot;machine1&quot;, &quot;machine10&quot;, &quot;machine4&quot;, &quot;machine11&quot;, &quot;machine2&quot;, &quot;machine9&quot;, &quot;machine14&quot;, &quot;machine5&quot;, &quot;machine7&quot;, &quot;machine6&quot;, &quot;machine0&quot;, &quot;machine3&quot;, &quot;machine12&quot;, &quot;machine13&quot;], &quot;yaxis&quot;: &quot;y&quot;, &quot;type&quot;: &quot;bar&quot;}, {&quot;base&quot;: [&quot;2025-06-28T00:00:00.000000000&quot;, &quot;2025-06-30T00:00:00.000000000&quot;, &quot;2025-07-08T00:00:00.000000000&quot;, &quot;2025-07-15T00:00:00.000000000&quot;, &quot;2025-07-23T00:00:00.000000000&quot;, &quot;2025-08-10T00:00:00.000000000&quot;, &quot;2026-01-04T00:00:00.000000000&quot;, &quot;2026-01-15T00:00:00.000000000&quot;, &quot;2026-01-17T00:00:00.000000000&quot;, &quot;2026-01-23T00:00:00.000000000&quot;, &quot;2026-01-29T00:00:00.000000000&quot;, &quot;2026-02-05T00:00:00.000000000&quot;, &quot;2026-02-26T00:00:00.000000000&quot;, &quot;2026-03-01T00:00:00.000000000&quot;, &quot;2026-03-02T00:00:00.000000000&quot;], &quot;hovertemplate&quot;: &quot;job=job21&lt;br&gt;start=%{base}&lt;br&gt;end=%{x}&lt;br&gt;resource=%{y}&lt;extra&gt;&lt;/extra&gt;&quot;, &quot;legendgroup&quot;: &quot;job21&quot;, &quot;marker&quot;: {&quot;color&quot;: &quot;#EF553B&quot;, &quot;opacity&quot;: 0.5, &quot;pattern&quot;: {&quot;shape&quot;: &quot;&quot;}}, &quot;name&quot;: &quot;job21&quot;, &quot;orientation&quot;: &quot;h&quot;, &quot;showlegend&quot;: true, &quot;textposition&quot;: &quot;auto&quot;, &quot;x&quot;: {&quot;dtype&quot;: &quot;i4&quot;, &quot;bdata&quot;: &quot;AFwmBQDgMikAKOYeAMy/GQC4TAoAKOYeALhMCgC4TAoAKOYeAFwmBQAo5h4AKOYeABRzDwBcJgUAcJkU&quot;}, &quot;xaxis&quot;: &quot;x&quot;, &quot;y&quot;: [&quot;machine4&quot;, &quot;machine2&quot;, &quot;machine5&quot;, &quot;machine13&quot;, &quot;machine0&quot;, &quot;machine7&quot;, &quot;machine3&quot;, &quot;machine8&quot;, &quot;machine10&quot;, &quot;machine12&quot;, &quot;machine11&quot;, &quot;machine1&quot;, &quot;machine14&quot;, &quot;machine9&quot;, &quot;machine6&quot;], &quot;yaxis&quot;: &quot;y&quot;, &quot;type&quot;: &quot;bar&quot;}, {&quot;base&quot;: [&quot;2025-07-04T00:00:00.000000000&quot;, &quot;2025-09-04T00:00:00.000000000&quot;, &quot;2025-09-29T00:00:00.000000000&quot;, &quot;2025-10-07T00:00:00.000000000&quot;, &quot;2025-10-13T00:00:00.000000000&quot;, &quot;2025-10-23T00:00:00.000000000&quot;, &quot;2025-10-31T00:00:00.000000000&quot;, &quot;2025-11-11T00:00:00.000000000&quot;, &quot;2025-12-07T00:00:00.000000000&quot;, &quot;2026-01-14T00:00:00.000000000&quot;, &quot;2026-02-09T00:00:00.000000000&quot;, &quot;2026-02-13T00:00:00.000000000&quot;, &quot;2026-02-14T00:00:00.000000000&quot;, &quot;2026-02-25T00:00:00.000000000&quot;, &quot;2026-03-03T00:00:00.000000000&quot;], &quot;hovertemplate&quot;: &quot;job=job22&lt;br&gt;start=%{base}&lt;br&gt;end=%{x}&lt;br&gt;resource=%{y}&lt;extra&gt;&lt;/extra&gt;&quot;, &quot;legendgroup&quot;: &quot;job22&quot;, &quot;marker&quot;: {&quot;color&quot;: &quot;#00cc96&quot;, &quot;opacity&quot;: 0.5, &quot;pattern&quot;: {&quot;shape&quot;: &quot;&quot;}}, &quot;name&quot;: &quot;job22&quot;, &quot;orientation&quot;: &quot;h&quot;, &quot;showlegend&quot;: true, &quot;textposition&quot;: &quot;auto&quot;, &quot;x&quot;: {&quot;dtype&quot;: &quot;i4&quot;, &quot;bdata&quot;: &quot;AFwmBQCYfzMAcJkUABRzDwAUcw8A4DIpALhMCgDgMikAKOYeAMy/GQAUcw8AXCYFAHCZFAAo5h4AKOYe&quot;}, &quot;xaxis&quot;: &quot;x&quot;, &quot;y&quot;: [&quot;machine7&quot;, &quot;machine10&quot;, &quot;machine12&quot;, &quot;machine4&quot;, &quot;machine8&quot;, &quot;machine6&quot;, &quot;machine14&quot;, &quot;machine11&quot;, &quot;machine0&quot;, &quot;machine3&quot;, &quot;machine2&quot;, &quot;machine9&quot;, &quot;machine1&quot;, &quot;machine5&quot;, &quot;machine13&quot;], &quot;yaxis&quot;: &quot;y&quot;, &quot;type&quot;: &quot;bar&quot;}, {&quot;base&quot;: [&quot;2025-06-27T00:00:00.000000000&quot;, &quot;2025-07-01T00:00:00.000000000&quot;, &quot;2025-07-29T00:00:00.000000000&quot;, &quot;2025-09-23T00:00:00.000000000&quot;, &quot;2025-10-02T00:00:00.000000000&quot;, &quot;2025-11-08T00:00:00.000000000&quot;, &quot;2025-11-14T00:00:00.000000000&quot;, &quot;2025-11-23T00:00:00.000000000&quot;, &quot;2025-12-23T00:00:00.000000000&quot;, &quot;2026-01-04T00:00:00.000000000&quot;, &quot;2026-01-10T00:00:00.000000000&quot;, &quot;2026-01-29T00:00:00.000000000&quot;, &quot;2026-02-02T00:00:00.000000000&quot;, &quot;2026-03-08T00:00:00.000000000&quot;, &quot;2026-04-11T00:00:00.000000000&quot;], &quot;hovertemplate&quot;: &quot;job=job23&lt;br&gt;start=%{base}&lt;br&gt;end=%{x}&lt;br&gt;resource=%{y}&lt;extra&gt;&lt;/extra&gt;&quot;, &quot;legendgroup&quot;: &quot;job23&quot;, &quot;marker&quot;: {&quot;color&quot;: &quot;#ab63fa&quot;, &quot;opacity&quot;: 0.5, &quot;pattern&quot;: {&quot;shape&quot;: &quot;&quot;}}, &quot;name&quot;: &quot;job23&quot;, &quot;orientation&quot;: &quot;h&quot;, &quot;showlegend&quot;: true, &quot;textposition&quot;: &quot;auto&quot;, &quot;x&quot;: {&quot;dtype&quot;: &quot;i4&quot;, &quot;bdata&quot;: &quot;ABRzDwAUcw8AcJkUACjmHgA8WS4AcJkUAHCZFAAUcw8AzL8ZACjmHgCEDCQAXCYFABRzDwCYfzMAXCYF&quot;}, &quot;xaxis&quot;: &quot;x&quot;, &quot;y&quot;: [&quot;machine3&quot;, &quot;machine14&quot;, &quot;machine6&quot;, &quot;machine11&quot;, &quot;machine9&quot;, &quot;machine12&quot;, &quot;machine0&quot;, &quot;machine1&quot;, &quot;machine2&quot;, &quot;machine5&quot;, &quot;machine10&quot;, &quot;machine8&quot;, &quot;machine13&quot;, &quot;machine4&quot;, &quot;machine7&quot;], &quot;yaxis&quot;: &quot;y&quot;, &quot;type&quot;: &quot;bar&quot;}, {&quot;base&quot;: [&quot;2025-06-27T00:00:00.000000000&quot;, &quot;2025-08-23T00:00:00.000000000&quot;, &quot;2025-08-30T00:00:00.000000000&quot;, &quot;2025-09-08T00:00:00.000000000&quot;, &quot;2026-01-30T00:00:00.000000000&quot;, &quot;2026-02-08T00:00:00.000000000&quot;, &quot;2026-02-12T00:00:00.000000000&quot;, &quot;2026-02-22T00:00:00.000000000&quot;, &quot;2026-03-01T00:00:00.000000000&quot;, &quot;2026-03-02T00:00:00.000000000&quot;, &quot;2026-03-11T00:00:00.000000000&quot;, &quot;2026-03-17T00:00:00.000000000&quot;, &quot;2026-03-25T00:00:00.000000000&quot;, &quot;2026-03-29T00:00:00.000000000&quot;, &quot;2026-04-04T00:00:00.000000000&quot;], &quot;hovertemplate&quot;: &quot;job=job24&lt;br&gt;start=%{base}&lt;br&gt;end=%{x}&lt;br&gt;resource=%{y}&lt;extra&gt;&lt;/extra&gt;&quot;, &quot;legendgroup&quot;: &quot;job24&quot;, &quot;marker&quot;: {&quot;color&quot;: &quot;#FFA15A&quot;, &quot;opacity&quot;: 0.5, &quot;pattern&quot;: {&quot;shape&quot;: &quot;&quot;}}, &quot;name&quot;: &quot;job24&quot;, &quot;orientation&quot;: &quot;h&quot;, &quot;showlegend&quot;: true, &quot;textposition&quot;: &quot;auto&quot;, &quot;x&quot;: {&quot;dtype&quot;: &quot;i4&quot;, &quot;bdata&quot;: &quot;ALhMCgBwmRQA4DIpACjmHgA8WS4AXCYFAIQMJACEDCQAXCYFAIQMJAAo5h4A4DIpAHCZFAAo5h4AzL8Z&quot;}, &quot;xaxis&quot;: &quot;x&quot;, &quot;y&quot;: [&quot;machine0&quot;, &quot;machine10&quot;, &quot;machine7&quot;, &quot;machine3&quot;, &quot;machine8&quot;, &quot;machine12&quot;, &quot;machine5&quot;, &quot;machine9&quot;, &quot;machine4&quot;, &quot;machine14&quot;, &quot;machine2&quot;, &quot;machine13&quot;, &quot;machine11&quot;, &quot;machine1&quot;, &quot;machine6&quot;], &quot;yaxis&quot;: &quot;y&quot;, &quot;type&quot;: &quot;bar&quot;}, {&quot;base&quot;: [&quot;2025-06-20T00:00:00.000000000&quot;, &quot;2025-07-16T00:00:00.000000000&quot;, &quot;2025-07-19T00:00:00.000000000&quot;, &quot;2025-08-27T00:00:00.000000000&quot;, &quot;2025-10-02T00:00:00.000000000&quot;, &quot;2025-10-08T00:00:00.000000000&quot;, &quot;2025-10-19T00:00:00.000000000&quot;, &quot;2025-11-18T00:00:00.000000000&quot;, &quot;2025-11-24T00:00:00.000000000&quot;, &quot;2025-12-11T00:00:00.000000000&quot;, &quot;2026-01-08T00:00:00.000000000&quot;, &quot;2026-01-23T00:00:00.000000000&quot;, &quot;2026-02-12T00:00:00.000000000&quot;, &quot;2026-02-18T00:00:00.000000000&quot;, &quot;2026-03-31T00:00:00.000000000&quot;], &quot;hovertemplate&quot;: &quot;job=job25&lt;br&gt;start=%{base}&lt;br&gt;end=%{x}&lt;br&gt;resource=%{y}&lt;extra&gt;&lt;/extra&gt;&quot;, &quot;legendgroup&quot;: &quot;job25&quot;, &quot;marker&quot;: {&quot;color&quot;: &quot;#19d3f3&quot;, &quot;opacity&quot;: 0.5, &quot;pattern&quot;: {&quot;shape&quot;: &quot;&quot;}}, &quot;name&quot;: &quot;job25&quot;, &quot;orientation&quot;: &quot;h&quot;, &quot;showlegend&quot;: true, &quot;textposition&quot;: &quot;auto&quot;, &quot;x&quot;: {&quot;dtype&quot;: &quot;i4&quot;, &quot;bdata&quot;: &quot;AIQMJAAUcw8AcJkUAOAyKQAo5h4APFkuABRzDwAo5h4A4DIpALhMCgDgMikAcJkUAMy/GQBcJgUA4DIp&quot;}, &quot;xaxis&quot;: &quot;x&quot;, &quot;y&quot;: [&quot;machine14&quot;, &quot;machine9&quot;, &quot;machine0&quot;, &quot;machine10&quot;, &quot;machine3&quot;, &quot;machine5&quot;, &quot;machine6&quot;, &quot;machine12&quot;, &quot;machine8&quot;, &quot;machine11&quot;, &quot;machine4&quot;, &quot;machine13&quot;, &quot;machine2&quot;, &quot;machine1&quot;, &quot;machine7&quot;], &quot;yaxis&quot;: &quot;y&quot;, &quot;type&quot;: &quot;bar&quot;}, {&quot;base&quot;: [&quot;2025-07-04T00:00:00.000000000&quot;, &quot;2025-07-13T00:00:00.000000000&quot;, &quot;2025-08-25T00:00:00.000000000&quot;, &quot;2025-09-24T00:00:00.000000000&quot;, &quot;2025-09-29T00:00:00.000000000&quot;, &quot;2025-10-01T00:00:00.000000000&quot;, &quot;2025-10-12T00:00:00.000000000&quot;, &quot;2025-11-01T00:00:00.000000000&quot;, &quot;2025-11-02T00:00:00.000000000&quot;, &quot;2025-11-10T00:00:00.000000000&quot;, &quot;2025-12-06T00:00:00.000000000&quot;, &quot;2025-12-25T00:00:00.000000000&quot;, &quot;2026-01-22T00:00:00.000000000&quot;, &quot;2026-02-04T00:00:00.000000000&quot;, &quot;2026-02-14T00:00:00.000000000&quot;], &quot;hovertemplate&quot;: &quot;job=job26&lt;br&gt;start=%{base}&lt;br&gt;end=%{x}&lt;br&gt;resource=%{y}&lt;extra&gt;&lt;/extra&gt;&quot;, &quot;legendgroup&quot;: &quot;job26&quot;, &quot;marker&quot;: {&quot;color&quot;: &quot;#FF6692&quot;, &quot;opacity&quot;: 0.5, &quot;pattern&quot;: {&quot;shape&quot;: &quot;&quot;}}, &quot;name&quot;: &quot;job26&quot;, &quot;orientation&quot;: &quot;h&quot;, &quot;showlegend&quot;: true, &quot;textposition&quot;: &quot;auto&quot;, &quot;x&quot;: {&quot;dtype&quot;: &quot;i4&quot;, &quot;bdata&quot;: &quot;AHCZFAA8WS4AhAwkAMy/GQBcJgUAuEwKAMy/GQBcJgUAXCYFAMy/GQCEDCQAPFkuAJh/MwCEDCQA4DIp&quot;}, &quot;xaxis&quot;: &quot;x&quot;, &quot;y&quot;: [&quot;machine8&quot;, &quot;machine14&quot;, &quot;machine13&quot;, &quot;machine12&quot;, &quot;machine6&quot;, &quot;machine5&quot;, &quot;machine11&quot;, &quot;machine2&quot;, &quot;machine10&quot;, &quot;machine1&quot;, &quot;machine4&quot;, &quot;machine3&quot;, &quot;machine0&quot;, &quot;machine7&quot;, &quot;machine9&quot;], &quot;yaxis&quot;: &quot;y&quot;, &quot;type&quot;: &quot;bar&quot;}, {&quot;base&quot;: [&quot;2025-07-01T00:00:00.000000000&quot;, &quot;2025-07-05T00:00:00.000000000&quot;, &quot;2025-07-11T00:00:00.000000000&quot;, &quot;2025-07-21T00:00:00.000000000&quot;, &quot;2025-08-05T00:00:00.000000000&quot;, &quot;2025-08-12T00:00:00.000000000&quot;, &quot;2025-09-08T00:00:00.000000000&quot;, &quot;2025-09-11T00:00:00.000000000&quot;, &quot;2025-10-17T00:00:00.000000000&quot;, &quot;2025-12-15T00:00:00.000000000&quot;, &quot;2025-12-21T00:00:00.000000000&quot;, &quot;2026-01-24T00:00:00.000000000&quot;, &quot;2026-01-26T00:00:00.000000000&quot;, &quot;2026-02-04T00:00:00.000000000&quot;, &quot;2026-03-14T00:00:00.000000000&quot;], &quot;hovertemplate&quot;: &quot;job=job27&lt;br&gt;start=%{base}&lt;br&gt;end=%{x}&lt;br&gt;resource=%{y}&lt;extra&gt;&lt;/extra&gt;&quot;, &quot;legendgroup&quot;: &quot;job27&quot;, &quot;marker&quot;: {&quot;color&quot;: &quot;#B6E880&quot;, &quot;opacity&quot;: 0.5, &quot;pattern&quot;: {&quot;shape&quot;: &quot;&quot;}}, &quot;name&quot;: &quot;job27&quot;, &quot;orientation&quot;: &quot;h&quot;, &quot;showlegend&quot;: true, &quot;textposition&quot;: &quot;auto&quot;, &quot;x&quot;: {&quot;dtype&quot;: &quot;i4&quot;, &quot;bdata&quot;: &quot;ABRzDwC4TAoAhAwkAMy/GQDMvxkAPFkuABRzDwCYfzMAPFkuAHCZFAA8WS4AuEwKAIQMJAA8WS4AhAwk&quot;}, &quot;xaxis&quot;: &quot;x&quot;, &quot;y&quot;: [&quot;machine8&quot;, &quot;machine9&quot;, &quot;machine6&quot;, &quot;machine10&quot;, &quot;machine13&quot;, &quot;machine2&quot;, &quot;machine7&quot;, &quot;machine0&quot;, &quot;machine14&quot;, &quot;machine3&quot;, &quot;machine12&quot;, &quot;machine5&quot;, &quot;machine4&quot;, &quot;machine11&quot;, &quot;machine1&quot;], &quot;yaxis&quot;: &quot;y&quot;, &quot;type&quot;: &quot;bar&quot;}, {&quot;base&quot;: [&quot;2025-06-29T00:00:00.000000000&quot;, &quot;2025-07-07T00:00:00.000000000&quot;, &quot;2025-07-18T00:00:00.000000000&quot;, &quot;2025-08-01T00:00:00.000000000&quot;, &quot;2025-08-11T00:00:00.000000000&quot;, &quot;2025-08-22T00:00:00.000000000&quot;, &quot;2025-08-29T00:00:00.000000000&quot;, &quot;2025-10-16T00:00:00.000000000&quot;, &quot;2025-10-30T00:00:00.000000000&quot;, &quot;2025-11-25T00:00:00.000000000&quot;, &quot;2025-12-04T00:00:00.000000000&quot;, &quot;2026-02-02T00:00:00.000000000&quot;, &quot;2026-02-14T00:00:00.000000000&quot;, &quot;2026-02-15T00:00:00.000000000&quot;, &quot;2026-03-03T00:00:00.000000000&quot;], &quot;hovertemplate&quot;: &quot;job=job28&lt;br&gt;start=%{base}&lt;br&gt;end=%{x}&lt;br&gt;resource=%{y}&lt;extra&gt;&lt;/extra&gt;&quot;, &quot;legendgroup&quot;: &quot;job28&quot;, &quot;marker&quot;: {&quot;color&quot;: &quot;#FF97FF&quot;, &quot;opacity&quot;: 0.5, &quot;pattern&quot;: {&quot;shape&quot;: &quot;&quot;}}, &quot;name&quot;: &quot;job28&quot;, &quot;orientation&quot;: &quot;h&quot;, &quot;showlegend&quot;: true, &quot;textposition&quot;: &quot;auto&quot;, &quot;x&quot;: {&quot;dtype&quot;: &quot;i4&quot;, &quot;bdata&quot;: &quot;ABRzDwA8WS4AzL8ZACjmHgDgMikAhAwkAHCZFADgMikA4DIpADxZLgAo5h4A4DIpAFwmBQDgMikAzL8Z&quot;}, &quot;xaxis&quot;: &quot;x&quot;, &quot;y&quot;: [&quot;machine10&quot;, &quot;machine9&quot;, &quot;machine6&quot;, &quot;machine3&quot;, &quot;machine8&quot;, &quot;machine0&quot;, &quot;machine1&quot;, &quot;machine2&quot;, &quot;machine5&quot;, &quot;machine7&quot;, &quot;machine14&quot;, &quot;machine4&quot;, &quot;machine13&quot;, &quot;machine12&quot;, &quot;machine11&quot;], &quot;yaxis&quot;: &quot;y&quot;, &quot;type&quot;: &quot;bar&quot;}, {&quot;base&quot;: [&quot;2025-07-30T00:00:00.000000000&quot;, &quot;2025-09-23T00:00:00.000000000&quot;, &quot;2025-09-24T00:00:00.000000000&quot;, &quot;2025-10-10T00:00:00.000000000&quot;, &quot;2025-10-16T00:00:00.000000000&quot;, &quot;2025-10-31T00:00:00.000000000&quot;, &quot;2025-11-10T00:00:00.000000000&quot;, &quot;2025-11-11T00:00:00.000000000&quot;, &quot;2025-12-19T00:00:00.000000000&quot;, &quot;2026-01-06T00:00:00.000000000&quot;, &quot;2026-01-10T00:00:00.000000000&quot;, &quot;2026-02-23T00:00:00.000000000&quot;, &quot;2026-03-08T00:00:00.000000000&quot;, &quot;2026-03-13T00:00:00.000000000&quot;, &quot;2026-03-19T00:00:00.000000000&quot;], &quot;hovertemplate&quot;: &quot;job=job29&lt;br&gt;start=%{base}&lt;br&gt;end=%{x}&lt;br&gt;resource=%{y}&lt;extra&gt;&lt;/extra&gt;&quot;, &quot;legendgroup&quot;: &quot;job29&quot;, &quot;marker&quot;: {&quot;color&quot;: &quot;#FECB52&quot;, &quot;opacity&quot;: 0.5, &quot;pattern&quot;: {&quot;shape&quot;: &quot;&quot;}}, &quot;name&quot;: &quot;job29&quot;, &quot;orientation&quot;: &quot;h&quot;, &quot;showlegend&quot;: true, &quot;textposition&quot;: &quot;auto&quot;, &quot;x&quot;: {&quot;dtype&quot;: &quot;i4&quot;, &quot;bdata&quot;: &quot;AIQMJABcJgUAKOYeAFwmBQC4TAoAmH8zAFwmBQDMvxkAzL8ZAHCZFAAUcw8AmH8zAMy/GQBwmRQAuEwK&quot;}, &quot;xaxis&quot;: &quot;x&quot;, &quot;y&quot;: [&quot;machine1&quot;, &quot;machine12&quot;, &quot;machine14&quot;, &quot;machine4&quot;, &quot;machine8&quot;, &quot;machine6&quot;, &quot;machine10&quot;, &quot;machine5&quot;, &quot;machine13&quot;, &quot;machine3&quot;, &quot;machine9&quot;, &quot;machine0&quot;, &quot;machine7&quot;, &quot;machine11&quot;, &quot;machine2&quot;], &quot;yaxis&quot;: &quot;y&quot;, &quot;type&quot;: &quot;bar&quot;}, {&quot;base&quot;: [&quot;2025-06-19T00:00:00.000000000&quot;, &quot;2025-06-29T00:00:00.000000000&quot;, &quot;2025-07-07T00:00:00.000000000&quot;, &quot;2025-07-26T00:00:00.000000000&quot;, &quot;2025-09-19T00:00:00.000000000&quot;, &quot;2025-09-22T00:00:00.000000000&quot;, &quot;2025-10-05T00:00:00.000000000&quot;, &quot;2025-10-17T00:00:00.000000000&quot;, &quot;2025-11-24T00:00:00.000000000&quot;, &quot;2025-12-04T00:00:00.000000000&quot;, &quot;2026-01-14T00:00:00.000000000&quot;, &quot;2026-02-05T00:00:00.000000000&quot;, &quot;2026-02-13T00:00:00.000000000&quot;, &quot;2026-02-18T00:00:00.000000000&quot;, &quot;2026-02-26T00:00:00.000000000&quot;], &quot;hovertemplate&quot;: &quot;job=job30&lt;br&gt;start=%{base}&lt;br&gt;end=%{x}&lt;br&gt;resource=%{y}&lt;extra&gt;&lt;/extra&gt;&quot;, &quot;legendgroup&quot;: &quot;job30&quot;, &quot;marker&quot;: {&quot;color&quot;: &quot;#636efa&quot;, &quot;opacity&quot;: 0.5, &quot;pattern&quot;: {&quot;shape&quot;: &quot;&quot;}}, &quot;name&quot;: &quot;job30&quot;, &quot;orientation&quot;: &quot;h&quot;, &quot;showlegend&quot;: true, &quot;textposition&quot;: &quot;auto&quot;, &quot;x&quot;: {&quot;dtype&quot;: &quot;i4&quot;, &quot;bdata&quot;: &quot;ADxZLgAo5h4AFHMPAHCZFAAUcw8A4DIpACjmHgCEDCQAhAwkAOAyKQCEDCQAcJkUAHCZFADgMikAcJkU&quot;}, &quot;xaxis&quot;: &quot;x&quot;, &quot;y&quot;: [&quot;machine9&quot;, &quot;machine0&quot;, &quot;machine4&quot;, &quot;machine1&quot;, &quot;machine3&quot;, &quot;machine13&quot;, &quot;machine8&quot;, &quot;machine10&quot;, &quot;machine12&quot;, &quot;machine2&quot;, &quot;machine14&quot;, &quot;machine5&quot;, &quot;machine11&quot;, &quot;machine7&quot;, &quot;machine6&quot;], &quot;yaxis&quot;: &quot;y&quot;, &quot;type&quot;: &quot;bar&quot;}, {&quot;base&quot;: [&quot;2025-06-19T00:00:00.000000000&quot;, &quot;2025-06-29T00:00:00.000000000&quot;, &quot;2025-07-01T00:00:00.000000000&quot;, &quot;2025-07-10T00:00:00.000000000&quot;, &quot;2025-07-21T00:00:00.000000000&quot;, &quot;2025-08-04T00:00:00.000000000&quot;, &quot;2025-08-16T00:00:00.000000000&quot;, &quot;2025-08-30T00:00:00.000000000&quot;, &quot;2025-09-24T00:00:00.000000000&quot;, &quot;2025-11-26T00:00:00.000000000&quot;, &quot;2025-12-07T00:00:00.000000000&quot;, &quot;2026-01-04T00:00:00.000000000&quot;, &quot;2026-02-06T00:00:00.000000000&quot;, &quot;2026-02-18T00:00:00.000000000&quot;, &quot;2026-03-14T00:00:00.000000000&quot;], &quot;hovertemplate&quot;: &quot;job=job31&lt;br&gt;start=%{base}&lt;br&gt;end=%{x}&lt;br&gt;resource=%{y}&lt;extra&gt;&lt;/extra&gt;&quot;, &quot;legendgroup&quot;: &quot;job31&quot;, &quot;marker&quot;: {&quot;color&quot;: &quot;#EF553B&quot;, &quot;opacity&quot;: 0.5, &quot;pattern&quot;: {&quot;shape&quot;: &quot;&quot;}}, &quot;name&quot;: &quot;job31&quot;, &quot;orientation&quot;: &quot;h&quot;, &quot;showlegend&quot;: true, &quot;textposition&quot;: &quot;auto&quot;, &quot;x&quot;: {&quot;dtype&quot;: &quot;i4&quot;, &quot;bdata&quot;: &quot;AJh/MwC4TAoAPFkuAMy/GQAo5h4AhAwkAOAyKQBcJgUAPFkuADxZLgCEDCQAmH8zAOAyKQDgMikAzL8Z&quot;}, &quot;xaxis&quot;: &quot;x&quot;, &quot;y&quot;: [&quot;machine5&quot;, &quot;machine14&quot;, &quot;machine13&quot;, &quot;machine4&quot;, &quot;machine8&quot;, &quot;machine10&quot;, &quot;machine7&quot;, &quot;machine2&quot;, &quot;machine1&quot;, &quot;machine3&quot;, &quot;machine12&quot;, &quot;machine6&quot;, &quot;machine0&quot;, &quot;machine11&quot;, &quot;machine9&quot;], &quot;yaxis&quot;: &quot;y&quot;, &quot;type&quot;: &quot;bar&quot;}, {&quot;base&quot;: [&quot;2025-06-19T00:00:00.000000000&quot;, &quot;2025-07-10T00:00:00.000000000&quot;, &quot;2025-07-12T00:00:00.000000000&quot;, &quot;2025-07-22T00:00:00.000000000&quot;, &quot;2025-07-26T00:00:00.000000000&quot;, &quot;2025-08-05T00:00:00.000000000&quot;, &quot;2025-08-17T00:00:00.000000000&quot;, &quot;2025-10-18T00:00:00.000000000&quot;, &quot;2025-10-25T00:00:00.000000000&quot;, &quot;2025-12-13T00:00:00.000000000&quot;, &quot;2026-01-02T00:00:00.000000000&quot;, &quot;2026-01-14T00:00:00.000000000&quot;, &quot;2026-01-24T00:00:00.000000000&quot;, &quot;2026-02-26T00:00:00.000000000&quot;, &quot;2026-03-08T00:00:00.000000000&quot;], &quot;hovertemplate&quot;: &quot;job=job32&lt;br&gt;start=%{base}&lt;br&gt;end=%{x}&lt;br&gt;resource=%{y}&lt;extra&gt;&lt;/extra&gt;&quot;, &quot;legendgroup&quot;: &quot;job32&quot;, &quot;marker&quot;: {&quot;color&quot;: &quot;#00cc96&quot;, &quot;opacity&quot;: 0.5, &quot;pattern&quot;: {&quot;shape&quot;: &quot;&quot;}}, &quot;name&quot;: &quot;job32&quot;, &quot;orientation&quot;: &quot;h&quot;, &quot;showlegend&quot;: true, &quot;textposition&quot;: &quot;auto&quot;, &quot;x&quot;: {&quot;dtype&quot;: &quot;i4&quot;, &quot;bdata&quot;: &quot;ABRzDwC4TAoAhAwkAHCZFACYfzMAhAwkADxZLgBwmRQA4DIpAHCZFAAo5h4AmH8zALhMCgCYfzMAuEwK&quot;}, &quot;xaxis&quot;: &quot;x&quot;, &quot;y&quot;: [&quot;machine6&quot;, &quot;machine10&quot;, &quot;machine12&quot;, &quot;machine14&quot;, &quot;machine13&quot;, &quot;machine2&quot;, &quot;machine1&quot;, &quot;machine8&quot;, &quot;machine9&quot;, &quot;machine0&quot;, &quot;machine4&quot;, &quot;machine5&quot;, &quot;machine3&quot;, &quot;machine7&quot;, &quot;machine11&quot;], &quot;yaxis&quot;: &quot;y&quot;, &quot;type&quot;: &quot;bar&quot;}, {&quot;base&quot;: [&quot;2025-08-02T00:00:00.000000000&quot;, &quot;2025-08-14T00:00:00.000000000&quot;, &quot;2025-08-29T00:00:00.000000000&quot;, &quot;2025-09-04T00:00:00.000000000&quot;, &quot;2025-09-11T00:00:00.000000000&quot;, &quot;2025-09-29T00:00:00.000000000&quot;, &quot;2025-10-26T00:00:00.000000000&quot;, &quot;2025-11-05T00:00:00.000000000&quot;, &quot;2025-11-19T00:00:00.000000000&quot;, &quot;2025-11-26T00:00:00.000000000&quot;, &quot;2025-12-06T00:00:00.000000000&quot;, &quot;2026-01-23T00:00:00.000000000&quot;, &quot;2026-01-29T00:00:00.000000000&quot;, &quot;2026-03-18T00:00:00.000000000&quot;, &quot;2026-03-24T00:00:00.000000000&quot;], &quot;hovertemplate&quot;: &quot;job=job33&lt;br&gt;start=%{base}&lt;br&gt;end=%{x}&lt;br&gt;resource=%{y}&lt;extra&gt;&lt;/extra&gt;&quot;, &quot;legendgroup&quot;: &quot;job33&quot;, &quot;marker&quot;: {&quot;color&quot;: &quot;#ab63fa&quot;, &quot;opacity&quot;: 0.5, &quot;pattern&quot;: {&quot;shape&quot;: &quot;&quot;}}, &quot;name&quot;: &quot;job33&quot;, &quot;orientation&quot;: &quot;h&quot;, &quot;showlegend&quot;: true, &quot;textposition&quot;: &quot;auto&quot;, &quot;x&quot;: {&quot;dtype&quot;: &quot;i4&quot;, &quot;bdata&quot;: &quot;ADxZLgAo5h4AcJkUAHCZFADMvxkAzL8ZAMy/GQA8WS4AhAwkAMy/GQDgMikAKOYeAHCZFABcJgUAzL8Z&quot;}, &quot;xaxis&quot;: &quot;x&quot;, &quot;y&quot;: [&quot;machine6&quot;, &quot;machine3&quot;, &quot;machine9&quot;, &quot;machine2&quot;, &quot;machine1&quot;, &quot;machine10&quot;, &quot;machine11&quot;, &quot;machine0&quot;, &quot;machine4&quot;, &quot;machine14&quot;, &quot;machine7&quot;, &quot;machine8&quot;, &quot;machine13&quot;, &quot;machine5&quot;, &quot;machine12&quot;], &quot;yaxis&quot;: &quot;y&quot;, &quot;type&quot;: &quot;bar&quot;}, {&quot;base&quot;: [&quot;2025-06-19T00:00:00.000000000&quot;, &quot;2025-07-23T00:00:00.000000000&quot;, &quot;2025-08-22T00:00:00.000000000&quot;, &quot;2025-08-28T00:00:00.000000000&quot;, &quot;2025-08-30T00:00:00.000000000&quot;, &quot;2025-10-08T00:00:00.000000000&quot;, &quot;2025-10-15T00:00:00.000000000&quot;, &quot;2025-10-31T00:00:00.000000000&quot;, &quot;2025-11-08T00:00:00.000000000&quot;, &quot;2025-12-05T00:00:00.000000000&quot;, &quot;2025-12-14T00:00:00.000000000&quot;, &quot;2026-02-14T00:00:00.000000000&quot;, &quot;2026-02-23T00:00:00.000000000&quot;, &quot;2026-03-02T00:00:00.000000000&quot;, &quot;2026-03-09T00:00:00.000000000&quot;], &quot;hovertemplate&quot;: &quot;job=job34&lt;br&gt;start=%{base}&lt;br&gt;end=%{x}&lt;br&gt;resource=%{y}&lt;extra&gt;&lt;/extra&gt;&quot;, &quot;legendgroup&quot;: &quot;job34&quot;, &quot;marker&quot;: {&quot;color&quot;: &quot;#FFA15A&quot;, &quot;opacity&quot;: 0.5, &quot;pattern&quot;: {&quot;shape&quot;: &quot;&quot;}}, &quot;name&quot;: &quot;job34&quot;, &quot;orientation&quot;: &quot;h&quot;, &quot;showlegend&quot;: true, &quot;textposition&quot;: &quot;auto&quot;, &quot;x&quot;: {&quot;dtype&quot;: &quot;i4&quot;, &quot;bdata&quot;: &quot;ALhMCgC4TAoAcJkUALhMCgAUcw8AhAwkAHCZFADgMikAmH8zALhMCgCEDCQAPFkuAIQMJABcJgUAFHMP&quot;}, &quot;xaxis&quot;: &quot;x&quot;, &quot;y&quot;: [&quot;machine2&quot;, &quot;machine13&quot;, &quot;machine12&quot;, &quot;machine4&quot;, &quot;machine5&quot;, &quot;machine3&quot;, &quot;machine6&quot;, &quot;machine11&quot;, &quot;machine9&quot;, &quot;machine10&quot;, &quot;machine7&quot;, &quot;machine0&quot;, &quot;machine1&quot;, &quot;machine8&quot;, &quot;machine14&quot;], &quot;yaxis&quot;: &quot;y&quot;, &quot;type&quot;: &quot;bar&quot;}, {&quot;base&quot;: [&quot;2025-06-19T00:00:00.000000000&quot;, &quot;2025-07-19T00:00:00.000000000&quot;, &quot;2025-08-28T00:00:00.000000000&quot;, &quot;2025-09-16T00:00:00.000000000&quot;, &quot;2025-10-17T00:00:00.000000000&quot;, &quot;2025-10-26T00:00:00.000000000&quot;, &quot;2025-11-18T00:00:00.000000000&quot;, &quot;2025-12-10T00:00:00.000000000&quot;, &quot;2025-12-20T00:00:00.000000000&quot;, &quot;2025-12-21T00:00:00.000000000&quot;, &quot;2025-12-23T00:00:00.000000000&quot;, &quot;2026-01-02T00:00:00.000000000&quot;, &quot;2026-01-21T00:00:00.000000000&quot;, &quot;2026-01-28T00:00:00.000000000&quot;, &quot;2026-02-04T00:00:00.000000000&quot;], &quot;hovertemplate&quot;: &quot;job=job35&lt;br&gt;start=%{base}&lt;br&gt;end=%{x}&lt;br&gt;resource=%{y}&lt;extra&gt;&lt;/extra&gt;&quot;, &quot;legendgroup&quot;: &quot;job35&quot;, &quot;marker&quot;: {&quot;color&quot;: &quot;#19d3f3&quot;, &quot;opacity&quot;: 0.5, &quot;pattern&quot;: {&quot;shape&quot;: &quot;&quot;}}, &quot;name&quot;: &quot;job35&quot;, &quot;orientation&quot;: &quot;h&quot;, &quot;showlegend&quot;: true, &quot;textposition&quot;: &quot;auto&quot;, &quot;x&quot;: {&quot;dtype&quot;: &quot;i4&quot;, &quot;bdata&quot;: &quot;AOAyKQA8WS4AmH8zAOAyKQA8WS4AzL8ZAMy/GQBwmRQAXCYFALhMCgCYfzMAuEwKABRzDwCEDCQAcJkU&quot;}, &quot;xaxis&quot;: &quot;x&quot;, &quot;y&quot;: [&quot;machine13&quot;, &quot;machine12&quot;, &quot;machine8&quot;, &quot;machine1&quot;, &quot;machine11&quot;, &quot;machine10&quot;, &quot;machine0&quot;, &quot;machine6&quot;, &quot;machine9&quot;, &quot;machine5&quot;, &quot;machine4&quot;, &quot;machine2&quot;, &quot;machine14&quot;, &quot;machine7&quot;, &quot;machine3&quot;], &quot;yaxis&quot;: &quot;y&quot;, &quot;type&quot;: &quot;bar&quot;}, {&quot;base&quot;: [&quot;2025-06-27T00:00:00.000000000&quot;, &quot;2025-07-02T00:00:00.000000000&quot;, &quot;2025-07-12T00:00:00.000000000&quot;, &quot;2025-07-28T00:00:00.000000000&quot;, &quot;2025-08-01T00:00:00.000000000&quot;, &quot;2025-10-17T00:00:00.000000000&quot;, &quot;2025-10-23T00:00:00.000000000&quot;, &quot;2025-11-10T00:00:00.000000000&quot;, &quot;2025-11-18T00:00:00.000000000&quot;, &quot;2025-12-12T00:00:00.000000000&quot;, &quot;2025-12-30T00:00:00.000000000&quot;, &quot;2026-01-04T00:00:00.000000000&quot;, &quot;2026-01-10T00:00:00.000000000&quot;, &quot;2026-03-24T00:00:00.000000000&quot;, &quot;2026-03-30T00:00:00.000000000&quot;], &quot;hovertemplate&quot;: &quot;job=job36&lt;br&gt;start=%{base}&lt;br&gt;end=%{x}&lt;br&gt;resource=%{y}&lt;extra&gt;&lt;/extra&gt;&quot;, &quot;legendgroup&quot;: &quot;job36&quot;, &quot;marker&quot;: {&quot;color&quot;: &quot;#FF6692&quot;, &quot;opacity&quot;: 0.5, &quot;pattern&quot;: {&quot;shape&quot;: &quot;&quot;}}, &quot;name&quot;: &quot;job36&quot;, &quot;orientation&quot;: &quot;h&quot;, &quot;showlegend&quot;: true, &quot;textposition&quot;: &quot;auto&quot;, &quot;x&quot;: {&quot;dtype&quot;: &quot;i4&quot;, &quot;bdata&quot;: &quot;ALhMCgCYfzMAKOYeAHCZFAA8WS4AzL8ZAHCZFABwmRQAuEwKADxZLgDMvxkAKOYeAHCZFAAo5h4A4DIp&quot;}, &quot;xaxis&quot;: &quot;x&quot;, &quot;y&quot;: [&quot;machine13&quot;, &quot;machine1&quot;, &quot;machine2&quot;, &quot;machine14&quot;, &quot;machine5&quot;, &quot;machine12&quot;, &quot;machine7&quot;, &quot;machine6&quot;, &quot;machine9&quot;, &quot;machine8&quot;, &quot;machine0&quot;, &quot;machine10&quot;, &quot;machine11&quot;, &quot;machine4&quot;, &quot;machine3&quot;], &quot;yaxis&quot;: &quot;y&quot;, &quot;type&quot;: &quot;bar&quot;}, {&quot;base&quot;: [&quot;2025-06-22T00:00:00.000000000&quot;, &quot;2025-06-25T00:00:00.000000000&quot;, &quot;2025-08-12T00:00:00.000000000&quot;, &quot;2025-08-14T00:00:00.000000000&quot;, &quot;2025-08-19T00:00:00.000000000&quot;, &quot;2025-08-23T00:00:00.000000000&quot;, &quot;2025-09-29T00:00:00.000000000&quot;, &quot;2025-10-26T00:00:00.000000000&quot;, &quot;2025-11-09T00:00:00.000000000&quot;, &quot;2025-11-14T00:00:00.000000000&quot;, &quot;2025-11-23T00:00:00.000000000&quot;, &quot;2025-12-14T00:00:00.000000000&quot;, &quot;2026-01-26T00:00:00.000000000&quot;, &quot;2026-02-01T00:00:00.000000000&quot;, &quot;2026-03-30T00:00:00.000000000&quot;], &quot;hovertemplate&quot;: &quot;job=job37&lt;br&gt;start=%{base}&lt;br&gt;end=%{x}&lt;br&gt;resource=%{y}&lt;extra&gt;&lt;/extra&gt;&quot;, &quot;legendgroup&quot;: &quot;job37&quot;, &quot;marker&quot;: {&quot;color&quot;: &quot;#B6E880&quot;, &quot;opacity&quot;: 0.5, &quot;pattern&quot;: {&quot;shape&quot;: &quot;&quot;}}, &quot;name&quot;: &quot;job37&quot;, &quot;orientation&quot;: &quot;h&quot;, &quot;showlegend&quot;: true, &quot;textposition&quot;: &quot;auto&quot;, &quot;x&quot;: {&quot;dtype&quot;: &quot;i4&quot;, &quot;bdata&quot;: &quot;ABRzDwA8WS4AuEwKABRzDwBwmRQA4DIpAJh/MwBwmRQAcJkUABRzDwBwmRQAhAwkACjmHgCYfzMAmH8z&quot;}, &quot;xaxis&quot;: &quot;x&quot;, &quot;y&quot;: [&quot;machine6&quot;, &quot;machine7&quot;, &quot;machine3&quot;, &quot;machine1&quot;, &quot;machine10&quot;, &quot;machine14&quot;, &quot;machine11&quot;, &quot;machine5&quot;, &quot;machine13&quot;, &quot;machine8&quot;, &quot;machine0&quot;, &quot;machine12&quot;, &quot;machine2&quot;, &quot;machine9&quot;, &quot;machine4&quot;], &quot;yaxis&quot;: &quot;y&quot;, &quot;type&quot;: &quot;bar&quot;}, {&quot;base&quot;: [&quot;2025-06-29T00:00:00.000000000&quot;, &quot;2025-07-15T00:00:00.000000000&quot;, &quot;2025-08-04T00:00:00.000000000&quot;, &quot;2025-09-02T00:00:00.000000000&quot;, &quot;2025-09-12T00:00:00.000000000&quot;, &quot;2025-09-14T00:00:00.000000000&quot;, &quot;2025-11-19T00:00:00.000000000&quot;, &quot;2025-11-22T00:00:00.000000000&quot;, &quot;2025-12-21T00:00:00.000000000&quot;, &quot;2026-01-04T00:00:00.000000000&quot;, &quot;2026-01-13T00:00:00.000000000&quot;, &quot;2026-01-23T00:00:00.000000000&quot;, &quot;2026-02-11T00:00:00.000000000&quot;, &quot;2026-02-24T00:00:00.000000000&quot;, &quot;2026-02-28T00:00:00.000000000&quot;], &quot;hovertemplate&quot;: &quot;job=job38&lt;br&gt;start=%{base}&lt;br&gt;end=%{x}&lt;br&gt;resource=%{y}&lt;extra&gt;&lt;/extra&gt;&quot;, &quot;legendgroup&quot;: &quot;job38&quot;, &quot;marker&quot;: {&quot;color&quot;: &quot;#FF97FF&quot;, &quot;opacity&quot;: 0.5, &quot;pattern&quot;: {&quot;shape&quot;: &quot;&quot;}}, &quot;name&quot;: &quot;job38&quot;, &quot;orientation&quot;: &quot;h&quot;, &quot;showlegend&quot;: true, &quot;textposition&quot;: &quot;auto&quot;, &quot;x&quot;: {&quot;dtype&quot;: &quot;i4&quot;, &quot;bdata&quot;: &quot;AOAyKQDgMikAPFkuACjmHgC4TAoAzL8ZABRzDwCYfzMAhAwkAHCZFAAo5h4AzL8ZAIQMJABcJgUAcJkU&quot;}, &quot;xaxis&quot;: &quot;x&quot;, &quot;y&quot;: [&quot;machine11&quot;, &quot;machine4&quot;, &quot;machine12&quot;, &quot;machine13&quot;, &quot;machine14&quot;, &quot;machine6&quot;, &quot;machine3&quot;, &quot;machine5&quot;, &quot;machine8&quot;, &quot;machine0&quot;, &quot;machine9&quot;, &quot;machine1&quot;, &quot;machine7&quot;, &quot;machine10&quot;, &quot;machine2&quot;], &quot;yaxis&quot;: &quot;y&quot;, &quot;type&quot;: &quot;bar&quot;}, {&quot;base&quot;: [&quot;2025-09-07T00:00:00.000000000&quot;, &quot;2025-09-28T00:00:00.000000000&quot;, &quot;2025-10-07T00:00:00.000000000&quot;, &quot;2025-10-11T00:00:00.000000000&quot;, &quot;2025-10-14T00:00:00.000000000&quot;, &quot;2025-10-22T00:00:00.000000000&quot;, &quot;2026-01-18T00:00:00.000000000&quot;, &quot;2026-01-28T00:00:00.000000000&quot;, &quot;2026-03-21T00:00:00.000000000&quot;, &quot;2026-03-25T00:00:00.000000000&quot;, &quot;2026-03-29T00:00:00.000000000&quot;, &quot;2026-03-30T00:00:00.000000000&quot;, &quot;2026-03-31T00:00:00.000000000&quot;, &quot;2026-04-04T00:00:00.000000000&quot;, &quot;2026-04-10T00:00:00.000000000&quot;], &quot;hovertemplate&quot;: &quot;job=job39&lt;br&gt;start=%{base}&lt;br&gt;end=%{x}&lt;br&gt;resource=%{y}&lt;extra&gt;&lt;/extra&gt;&quot;, &quot;legendgroup&quot;: &quot;job39&quot;, &quot;marker&quot;: {&quot;color&quot;: &quot;#FECB52&quot;, &quot;opacity&quot;: 0.5, &quot;pattern&quot;: {&quot;shape&quot;: &quot;&quot;}}, &quot;name&quot;: &quot;job39&quot;, &quot;orientation&quot;: &quot;h&quot;, &quot;showlegend&quot;: true, &quot;textposition&quot;: &quot;auto&quot;, &quot;x&quot;: {&quot;dtype&quot;: &quot;i4&quot;, &quot;bdata&quot;: &quot;AJh/MwA8WS4AXCYFABRzDwAo5h4AXCYFAOAyKQBcJgUAXCYFAHCZFABcJgUAXCYFAHCZFAAo5h4AuEwK&quot;}, &quot;xaxis&quot;: &quot;x&quot;, &quot;y&quot;: [&quot;machine8&quot;, &quot;machine4&quot;, &quot;machine14&quot;, &quot;machine9&quot;, &quot;machine1&quot;, &quot;machine6&quot;, &quot;machine2&quot;, &quot;machine10&quot;, &quot;machine7&quot;, &quot;machine13&quot;, &quot;machine3&quot;, &quot;machine12&quot;, &quot;machine11&quot;, &quot;machine5&quot;, &quot;machine0&quot;], &quot;yaxis&quot;: &quot;y&quot;, &quot;type&quot;: &quot;bar&quot;}, {&quot;base&quot;: [&quot;2025-07-07T00:00:00.000000000&quot;, &quot;2025-07-28T00:00:00.000000000&quot;, &quot;2025-08-12T00:00:00.000000000&quot;, &quot;2025-08-13T00:00:00.000000000&quot;, &quot;2025-08-24T00:00:00.000000000&quot;, &quot;2025-09-02T00:00:00.000000000&quot;, &quot;2025-10-24T00:00:00.000000000&quot;, &quot;2025-11-11T00:00:00.000000000&quot;, &quot;2026-01-03T00:00:00.000000000&quot;, &quot;2026-01-04T00:00:00.000000000&quot;, &quot;2026-01-15T00:00:00.000000000&quot;, &quot;2026-02-17T00:00:00.000000000&quot;, &quot;2026-03-03T00:00:00.000000000&quot;, &quot;2026-03-20T00:00:00.000000000&quot;, &quot;2026-04-01T00:00:00.000000000&quot;], &quot;hovertemplate&quot;: &quot;job=job40&lt;br&gt;start=%{base}&lt;br&gt;end=%{x}&lt;br&gt;resource=%{y}&lt;extra&gt;&lt;/extra&gt;&quot;, &quot;legendgroup&quot;: &quot;job40&quot;, &quot;marker&quot;: {&quot;color&quot;: &quot;#636efa&quot;, &quot;opacity&quot;: 0.5, &quot;pattern&quot;: {&quot;shape&quot;: &quot;&quot;}}, &quot;name&quot;: &quot;job40&quot;, &quot;orientation&quot;: &quot;h&quot;, &quot;showlegend&quot;: true, &quot;textposition&quot;: &quot;auto&quot;, &quot;x&quot;: {&quot;dtype&quot;: &quot;i4&quot;, &quot;bdata&quot;: &quot;AIQMJACEDCQAXCYFAIQMJADMvxkAPFkuADxZLgDgMikAXCYFAJh/MwC4TAoAhAwkAIQMJAAUcw8AXCYF&quot;}, &quot;xaxis&quot;: &quot;x&quot;, &quot;y&quot;: [&quot;machine11&quot;, &quot;machine12&quot;, &quot;machine14&quot;, &quot;machine4&quot;, &quot;machine9&quot;, &quot;machine1&quot;, &quot;machine8&quot;, &quot;machine7&quot;, &quot;machine3&quot;, &quot;machine2&quot;, &quot;machine6&quot;, &quot;machine10&quot;, &quot;machine5&quot;, &quot;machine0&quot;, &quot;machine13&quot;], &quot;yaxis&quot;: &quot;y&quot;, &quot;type&quot;: &quot;bar&quot;}, {&quot;base&quot;: [&quot;2025-06-19T00:00:00.000000000&quot;, &quot;2025-06-21T00:00:00.000000000&quot;, &quot;2025-08-20T00:00:00.000000000&quot;, &quot;2025-09-06T00:00:00.000000000&quot;, &quot;2025-09-11T00:00:00.000000000&quot;, &quot;2025-09-21T00:00:00.000000000&quot;, &quot;2025-11-08T00:00:00.000000000&quot;, &quot;2025-12-11T00:00:00.000000000&quot;, &quot;2026-01-02T00:00:00.000000000&quot;, &quot;2026-01-12T00:00:00.000000000&quot;, &quot;2026-02-11T00:00:00.000000000&quot;, &quot;2026-02-25T00:00:00.000000000&quot;, &quot;2026-03-03T00:00:00.000000000&quot;, &quot;2026-03-10T00:00:00.000000000&quot;, &quot;2026-03-11T00:00:00.000000000&quot;], &quot;hovertemplate&quot;: &quot;job=job41&lt;br&gt;start=%{base}&lt;br&gt;end=%{x}&lt;br&gt;resource=%{y}&lt;extra&gt;&lt;/extra&gt;&quot;, &quot;legendgroup&quot;: &quot;job41&quot;, &quot;marker&quot;: {&quot;color&quot;: &quot;#EF553B&quot;, &quot;opacity&quot;: 0.5, &quot;pattern&quot;: {&quot;shape&quot;: &quot;&quot;}}, &quot;name&quot;: &quot;job41&quot;, &quot;orientation&quot;: &quot;h&quot;, &quot;showlegend&quot;: true, &quot;textposition&quot;: &quot;auto&quot;, &quot;x&quot;: {&quot;dtype&quot;: &quot;i4&quot;, &quot;bdata&quot;: &quot;ALhMCgCEDCQAmH8zALhMCgCYfzMA4DIpABRzDwCYfzMAmH8zAFwmBQDMvxkAKOYeAIQMJABcJgUAXCYF&quot;}, &quot;xaxis&quot;: &quot;x&quot;, &quot;y&quot;: [&quot;machine4&quot;, &quot;machine12&quot;, &quot;machine3&quot;, &quot;machine0&quot;, &quot;machine7&quot;, &quot;machine6&quot;, &quot;machine11&quot;, &quot;machine5&quot;, &quot;machine1&quot;, &quot;machine13&quot;, &quot;machine14&quot;, &quot;machine10&quot;, &quot;machine9&quot;, &quot;machine2&quot;, &quot;machine8&quot;], &quot;yaxis&quot;: &quot;y&quot;, &quot;type&quot;: &quot;bar&quot;}, {&quot;base&quot;: [&quot;2025-06-19T00:00:00.000000000&quot;, &quot;2025-06-28T00:00:00.000000000&quot;, &quot;2025-07-23T00:00:00.000000000&quot;, &quot;2025-07-27T00:00:00.000000000&quot;, &quot;2025-08-10T00:00:00.000000000&quot;, &quot;2025-08-19T00:00:00.000000000&quot;, &quot;2025-09-14T00:00:00.000000000&quot;, &quot;2025-10-18T00:00:00.000000000&quot;, &quot;2025-10-26T00:00:00.000000000&quot;, &quot;2025-11-08T00:00:00.000000000&quot;, &quot;2025-11-17T00:00:00.000000000&quot;, &quot;2025-11-27T00:00:00.000000000&quot;, &quot;2025-12-06T00:00:00.000000000&quot;, &quot;2025-12-15T00:00:00.000000000&quot;, &quot;2025-12-21T00:00:00.000000000&quot;], &quot;hovertemplate&quot;: &quot;job=job42&lt;br&gt;start=%{base}&lt;br&gt;end=%{x}&lt;br&gt;resource=%{y}&lt;extra&gt;&lt;/extra&gt;&quot;, &quot;legendgroup&quot;: &quot;job42&quot;, &quot;marker&quot;: {&quot;color&quot;: &quot;#00cc96&quot;, &quot;opacity&quot;: 0.5, &quot;pattern&quot;: {&quot;shape&quot;: &quot;&quot;}}, &quot;name&quot;: &quot;job42&quot;, &quot;orientation&quot;: &quot;h&quot;, &quot;showlegend&quot;: true, &quot;textposition&quot;: &quot;auto&quot;, &quot;x&quot;: {&quot;dtype&quot;: &quot;i4&quot;, &quot;bdata&quot;: &quot;AOAyKQCEDCQAXCYFAMy/GQA8WS4AzL8ZADxZLgDgMikAXCYFADxZLgCYfzMAPFkuAMy/GQBcJgUA4DIp&quot;}, &quot;xaxis&quot;: &quot;x&quot;, &quot;y&quot;: [&quot;machine0&quot;, &quot;machine12&quot;, &quot;machine6&quot;, &quot;machine8&quot;, &quot;machine13&quot;, &quot;machine9&quot;, &quot;machine11&quot;, &quot;machine3&quot;, &quot;machine14&quot;, &quot;machine2&quot;, &quot;machine10&quot;, &quot;machine4&quot;, &quot;machine5&quot;, &quot;machine1&quot;, &quot;machine7&quot;], &quot;yaxis&quot;: &quot;y&quot;, &quot;type&quot;: &quot;bar&quot;}, {&quot;base&quot;: [&quot;2025-08-09T00:00:00.000000000&quot;, &quot;2025-08-13T00:00:00.000000000&quot;, &quot;2025-08-30T00:00:00.000000000&quot;, &quot;2025-09-08T00:00:00.000000000&quot;, &quot;2025-09-14T00:00:00.000000000&quot;, &quot;2025-09-24T00:00:00.000000000&quot;, &quot;2025-10-04T00:00:00.000000000&quot;, &quot;2025-10-11T00:00:00.000000000&quot;, &quot;2025-10-16T00:00:00.000000000&quot;, &quot;2025-11-19T00:00:00.000000000&quot;, &quot;2025-12-23T00:00:00.000000000&quot;, &quot;2026-01-04T00:00:00.000000000&quot;, &quot;2026-01-14T00:00:00.000000000&quot;, &quot;2026-01-23T00:00:00.000000000&quot;, &quot;2026-01-29T00:00:00.000000000&quot;], &quot;hovertemplate&quot;: &quot;job=job43&lt;br&gt;start=%{base}&lt;br&gt;end=%{x}&lt;br&gt;resource=%{y}&lt;extra&gt;&lt;/extra&gt;&quot;, &quot;legendgroup&quot;: &quot;job43&quot;, &quot;marker&quot;: {&quot;color&quot;: &quot;#ab63fa&quot;, &quot;opacity&quot;: 0.5, &quot;pattern&quot;: {&quot;shape&quot;: &quot;&quot;}}, &quot;name&quot;: &quot;job43&quot;, &quot;orientation&quot;: &quot;h&quot;, &quot;showlegend&quot;: true, &quot;textposition&quot;: &quot;auto&quot;, &quot;x&quot;: {&quot;dtype&quot;: &quot;i4&quot;, &quot;bdata&quot;: &quot;AHCZFAA8WS4APFkuACjmHgCEDCQAzL8ZAHCZFAC4TAoAmH8zACjmHgBwmRQAmH8zADxZLgAo5h4AFHMP&quot;}, &quot;xaxis&quot;: &quot;x&quot;, &quot;y&quot;: [&quot;machine4&quot;, &quot;machine12&quot;, &quot;machine3&quot;, &quot;machine13&quot;, &quot;machine9&quot;, &quot;machine10&quot;, &quot;machine2&quot;, &quot;machine8&quot;, &quot;machine0&quot;, &quot;machine7&quot;, &quot;machine5&quot;, &quot;machine14&quot;, &quot;machine1&quot;, &quot;machine11&quot;, &quot;machine6&quot;], &quot;yaxis&quot;: &quot;y&quot;, &quot;type&quot;: &quot;bar&quot;}, {&quot;base&quot;: [&quot;2025-06-24T00:00:00.000000000&quot;, &quot;2025-07-02T00:00:00.000000000&quot;, &quot;2025-08-06T00:00:00.000000000&quot;, &quot;2025-08-30T00:00:00.000000000&quot;, &quot;2025-10-09T00:00:00.000000000&quot;, &quot;2025-10-10T00:00:00.000000000&quot;, &quot;2025-10-13T00:00:00.000000000&quot;, &quot;2025-11-12T00:00:00.000000000&quot;, &quot;2025-11-27T00:00:00.000000000&quot;, &quot;2025-12-05T00:00:00.000000000&quot;, &quot;2025-12-24T00:00:00.000000000&quot;, &quot;2026-01-03T00:00:00.000000000&quot;, &quot;2026-02-01T00:00:00.000000000&quot;, &quot;2026-02-09T00:00:00.000000000&quot;, &quot;2026-02-16T00:00:00.000000000&quot;], &quot;hovertemplate&quot;: &quot;job=job44&lt;br&gt;start=%{base}&lt;br&gt;end=%{x}&lt;br&gt;resource=%{y}&lt;extra&gt;&lt;/extra&gt;&quot;, &quot;legendgroup&quot;: &quot;job44&quot;, &quot;marker&quot;: {&quot;color&quot;: &quot;#FFA15A&quot;, &quot;opacity&quot;: 0.5, &quot;pattern&quot;: {&quot;shape&quot;: &quot;&quot;}}, &quot;name&quot;: &quot;job44&quot;, &quot;orientation&quot;: &quot;h&quot;, &quot;showlegend&quot;: true, &quot;textposition&quot;: &quot;auto&quot;, &quot;x&quot;: {&quot;dtype&quot;: &quot;i4&quot;, &quot;bdata&quot;: &quot;AIQMJACYfzMAhAwkABRzDwBcJgUAFHMPAJh/MwBcJgUA4DIpABRzDwAo5h4AXCYFAOAyKQDMvxkAmH8z&quot;}, &quot;xaxis&quot;: &quot;x&quot;, &quot;y&quot;: [&quot;machine8&quot;, &quot;machine3&quot;, &quot;machine1&quot;, &quot;machine4&quot;, &quot;machine11&quot;, &quot;machine6&quot;, &quot;machine7&quot;, &quot;machine12&quot;, &quot;machine10&quot;, &quot;machine9&quot;, &quot;machine0&quot;, &quot;machine5&quot;, &quot;machine2&quot;, &quot;machine13&quot;, &quot;machine14&quot;], &quot;yaxis&quot;: &quot;y&quot;, &quot;type&quot;: &quot;bar&quot;}], &quot;layout&quot;: {&quot;template&quot;: {&quot;data&quot;: {&quot;histogram2dcontour&quot;: [{&quot;type&quot;: &quot;histogram2dcontour&quot;, &quot;colorbar&quot;: {&quot;outlinewidth&quot;: 0, &quot;ticks&quot;: &quot;&quot;}, &quot;colorscale&quot;: [[0.0, &quot;#0d0887&quot;], [0.1111111111111111, &quot;#46039f&quot;], [0.2222222222222222, &quot;#7201a8&quot;], [0.3333333333333333, &quot;#9c179e&quot;], [0.4444444444444444, &quot;#bd3786&quot;], [0.5555555555555556, &quot;#d8576b&quot;], [0.6666666666666666, &quot;#ed7953&quot;], [0.7777777777777778, &quot;#fb9f3a&quot;], [0.8888888888888888, &quot;#fdca26&quot;], [1.0, &quot;#f0f921&quot;]]}], &quot;choropleth&quot;: [{&quot;type&quot;: &quot;choropleth&quot;, &quot;colorbar&quot;: {&quot;outlinewidth&quot;: 0, &quot;ticks&quot;: &quot;&quot;}}], &quot;histogram2d&quot;: [{&quot;type&quot;: &quot;histogram2d&quot;, &quot;colorbar&quot;: {&quot;outlinewidth&quot;: 0, &quot;ticks&quot;: &quot;&quot;}, &quot;colorscale&quot;: [[0.0, &quot;#0d0887&quot;], [0.1111111111111111, &quot;#46039f&quot;], [0.2222222222222222, &quot;#7201a8&quot;], [0.3333333333333333, &quot;#9c179e&quot;], [0.4444444444444444, &quot;#bd3786&quot;], [0.5555555555555556, &quot;#d8576b&quot;], [0.6666666666666666, &quot;#ed7953&quot;], [0.7777777777777778, &quot;#fb9f3a&quot;], [0.8888888888888888, &quot;#fdca26&quot;], [1.0, &quot;#f0f921&quot;]]}], &quot;heatmap&quot;: [{&quot;type&quot;: &quot;heatmap&quot;, &quot;colorbar&quot;: {&quot;outlinewidth&quot;: 0, &quot;ticks&quot;: &quot;&quot;}, &quot;colorscale&quot;: [[0.0, &quot;#0d0887&quot;], [0.1111111111111111, &quot;#46039f&quot;], [0.2222222222222222, &quot;#7201a8&quot;], [0.3333333333333333, &quot;#9c179e&quot;], [0.4444444444444444, &quot;#bd3786&quot;], [0.5555555555555556, &quot;#d8576b&quot;], [0.6666666666666666, &quot;#ed7953&quot;], [0.7777777777777778, &quot;#fb9f3a&quot;], [0.8888888888888888, &quot;#fdca26&quot;], [1.0, &quot;#f0f921&quot;]]}], &quot;contourcarpet&quot;: [{&quot;type&quot;: &quot;contourcarpet&quot;, &quot;colorbar&quot;: {&quot;outlinewidth&quot;: 0, &quot;ticks&quot;: &quot;&quot;}}], &quot;contour&quot;: [{&quot;type&quot;: &quot;contour&quot;, &quot;colorbar&quot;: {&quot;outlinewidth&quot;: 0, &quot;ticks&quot;: &quot;&quot;}, &quot;colorscale&quot;: [[0.0, &quot;#0d0887&quot;], [0.1111111111111111, &quot;#46039f&quot;], [0.2222222222222222, &quot;#7201a8&quot;], [0.3333333333333333, &quot;#9c179e&quot;], [0.4444444444444444, &quot;#bd3786&quot;], [0.5555555555555556, &quot;#d8576b&quot;], [0.6666666666666666, &quot;#ed7953&quot;], [0.7777777777777778, &quot;#fb9f3a&quot;], [0.8888888888888888, &quot;#fdca26&quot;], [1.0, &quot;#f0f921&quot;]]}], &quot;surface&quot;: [{&quot;type&quot;: &quot;surface&quot;, &quot;colorbar&quot;: {&quot;outlinewidth&quot;: 0, &quot;ticks&quot;: &quot;&quot;}, &quot;colorscale&quot;: [[0.0, &quot;#0d0887&quot;], [0.1111111111111111, &quot;#46039f&quot;], [0.2222222222222222, &quot;#7201a8&quot;], [0.3333333333333333, &quot;#9c179e&quot;], [0.4444444444444444, &quot;#bd3786&quot;], [0.5555555555555556, &quot;#d8576b&quot;], [0.6666666666666666, &quot;#ed7953&quot;], [0.7777777777777778, &quot;#fb9f3a&quot;], [0.8888888888888888, &quot;#fdca26&quot;], [1.0, &quot;#f0f921&quot;]]}], &quot;mesh3d&quot;: [{&quot;type&quot;: &quot;mesh3d&quot;, &quot;colorbar&quot;: {&quot;outlinewidth&quot;: 0, &quot;ticks&quot;: &quot;&quot;}}], &quot;scatter&quot;: [{&quot;fillpattern&quot;: {&quot;fillmode&quot;: &quot;overlay&quot;, &quot;size&quot;: 10, &quot;solidity&quot;: 0.2}, &quot;type&quot;: &quot;scatter&quot;}], &quot;parcoords&quot;: [{&quot;type&quot;: &quot;parcoords&quot;, &quot;line&quot;: {&quot;colorbar&quot;: {&quot;outlinewidth&quot;: 0, &quot;ticks&quot;: &quot;&quot;}}}], &quot;scatterpolargl&quot;: [{&quot;type&quot;: &quot;scatterpolargl&quot;, &quot;marker&quot;: {&quot;colorbar&quot;: {&quot;outlinewidth&quot;: 0, &quot;ticks&quot;: &quot;&quot;}}}], &quot;bar&quot;: [{&quot;error_x&quot;: {&quot;color&quot;: &quot;#2a3f5f&quot;}, &quot;error_y&quot;: {&quot;color&quot;: &quot;#2a3f5f&quot;}, &quot;marker&quot;: {&quot;line&quot;: {&quot;color&quot;: &quot;#E5ECF6&quot;, &quot;width&quot;: 0.5}, &quot;pattern&quot;: {&quot;fillmode&quot;: &quot;overlay&quot;, &quot;size&quot;: 10, &quot;solidity&quot;: 0.2}}, &quot;type&quot;: &quot;bar&quot;}], &quot;scattergeo&quot;: [{&quot;type&quot;: &quot;scattergeo&quot;, &quot;marker&quot;: {&quot;colorbar&quot;: {&quot;outlinewidth&quot;: 0, &quot;ticks&quot;: &quot;&quot;}}}], &quot;scatterpolar&quot;: [{&quot;type&quot;: &quot;scatterpolar&quot;, &quot;marker&quot;: {&quot;colorbar&quot;: {&quot;outlinewidth&quot;: 0, &quot;ticks&quot;: &quot;&quot;}}}], &quot;histogram&quot;: [{&quot;marker&quot;: {&quot;pattern&quot;: {&quot;fillmode&quot;: &quot;overlay&quot;, &quot;size&quot;: 10, &quot;solidity&quot;: 0.2}}, &quot;type&quot;: &quot;histogram&quot;}], &quot;scattergl&quot;: [{&quot;type&quot;: &quot;scattergl&quot;, &quot;marker&quot;: {&quot;colorbar&quot;: {&quot;outlinewidth&quot;: 0, &quot;ticks&quot;: &quot;&quot;}}}], &quot;scatter3d&quot;: [{&quot;type&quot;: &quot;scatter3d&quot;, &quot;line&quot;: {&quot;colorbar&quot;: {&quot;outlinewidth&quot;: 0, &quot;ticks&quot;: &quot;&quot;}}, &quot;marker&quot;: {&quot;colorbar&quot;: {&quot;outlinewidth&quot;: 0, &quot;ticks&quot;: &quot;&quot;}}}], &quot;scattermap&quot;: [{&quot;type&quot;: &quot;scattermap&quot;, &quot;marker&quot;: {&quot;colorbar&quot;: {&quot;outlinewidth&quot;: 0, &quot;ticks&quot;: &quot;&quot;}}}], &quot;scattermapbox&quot;: [{&quot;type&quot;: &quot;scattermapbox&quot;, &quot;marker&quot;: {&quot;colorbar&quot;: {&quot;outlinewidth&quot;: 0, &quot;ticks&quot;: &quot;&quot;}}}], &quot;scatterternary&quot;: [{&quot;type&quot;: &quot;scatterternary&quot;, &quot;marker&quot;: {&quot;colorbar&quot;: {&quot;outlinewidth&quot;: 0, &quot;ticks&quot;: &quot;&quot;}}}], &quot;scattercarpet&quot;: [{&quot;type&quot;: &quot;scattercarpet&quot;, &quot;marker&quot;: {&quot;colorbar&quot;: {&quot;outlinewidth&quot;: 0, &quot;ticks&quot;: &quot;&quot;}}}], &quot;carpet&quot;: [{&quot;aaxis&quot;: {&quot;endlinecolor&quot;: &quot;#2a3f5f&quot;, &quot;gridcolor&quot;: &quot;white&quot;, &quot;linecolor&quot;: &quot;white&quot;, &quot;minorgridcolor&quot;: &quot;white&quot;, &quot;startlinecolor&quot;: &quot;#2a3f5f&quot;}, &quot;baxis&quot;: {&quot;endlinecolor&quot;: &quot;#2a3f5f&quot;, &quot;gridcolor&quot;: &quot;white&quot;, &quot;linecolor&quot;: &quot;white&quot;, &quot;minorgridcolor&quot;: &quot;white&quot;, &quot;startlinecolor&quot;: &quot;#2a3f5f&quot;}, &quot;type&quot;: &quot;carpet&quot;}], &quot;table&quot;: [{&quot;cells&quot;: {&quot;fill&quot;: {&quot;color&quot;: &quot;#EBF0F8&quot;}, &quot;line&quot;: {&quot;color&quot;: &quot;white&quot;}}, &quot;header&quot;: {&quot;fill&quot;: {&quot;color&quot;: &quot;#C8D4E3&quot;}, &quot;line&quot;: {&quot;color&quot;: &quot;white&quot;}}, &quot;type&quot;: &quot;table&quot;}], &quot;barpolar&quot;: [{&quot;marker&quot;: {&quot;line&quot;: {&quot;color&quot;: &quot;#E5ECF6&quot;, &quot;width&quot;: 0.5}, &quot;pattern&quot;: {&quot;fillmode&quot;: &quot;overlay&quot;, &quot;size&quot;: 10, &quot;solidity&quot;: 0.2}}, &quot;type&quot;: &quot;barpolar&quot;}], &quot;pie&quot;: [{&quot;automargin&quot;: true, &quot;type&quot;: &quot;pie&quot;}]}, &quot;layout&quot;: {&quot;autotypenumbers&quot;: &quot;strict&quot;, &quot;colorway&quot;: [&quot;#636efa&quot;, &quot;#EF553B&quot;, &quot;#00cc96&quot;, &quot;#ab63fa&quot;, &quot;#FFA15A&quot;, &quot;#19d3f3&quot;, &quot;#FF6692&quot;, &quot;#B6E880&quot;, &quot;#FF97FF&quot;, &quot;#FECB52&quot;], &quot;font&quot;: {&quot;color&quot;: &quot;#2a3f5f&quot;}, &quot;hovermode&quot;: &quot;closest&quot;, &quot;hoverlabel&quot;: {&quot;align&quot;: &quot;left&quot;}, &quot;paper_bgcolor&quot;: &quot;white&quot;, &quot;plot_bgcolor&quot;: &quot;#E5ECF6&quot;, &quot;polar&quot;: {&quot;bgcolor&quot;: &quot;#E5ECF6&quot;, &quot;angularaxis&quot;: {&quot;gridcolor&quot;: &quot;white&quot;, &quot;linecolor&quot;: &quot;white&quot;, &quot;ticks&quot;: &quot;&quot;}, &quot;radialaxis&quot;: {&quot;gridcolor&quot;: &quot;white&quot;, &quot;linecolor&quot;: &quot;white&quot;, &quot;ticks&quot;: &quot;&quot;}}, &quot;ternary&quot;: {&quot;bgcolor&quot;: &quot;#E5ECF6&quot;, &quot;aaxis&quot;: {&quot;gridcolor&quot;: &quot;white&quot;, &quot;linecolor&quot;: &quot;white&quot;, &quot;ticks&quot;: &quot;&quot;}, &quot;baxis&quot;: {&quot;gridcolor&quot;: &quot;white&quot;, &quot;linecolor&quot;: &quot;white&quot;, &quot;ticks&quot;: &quot;&quot;}, &quot;caxis&quot;: {&quot;gridcolor&quot;: &quot;white&quot;, &quot;linecolor&quot;: &quot;white&quot;, &quot;ticks&quot;: &quot;&quot;}}, &quot;coloraxis&quot;: {&quot;colorbar&quot;: {&quot;outlinewidth&quot;: 0, &quot;ticks&quot;: &quot;&quot;}}, &quot;colorscale&quot;: {&quot;sequential&quot;: [[0.0, &quot;#0d0887&quot;], [0.1111111111111111, &quot;#46039f&quot;], [0.2222222222222222, &quot;#7201a8&quot;], [0.3333333333333333, &quot;#9c179e&quot;], [0.4444444444444444, &quot;#bd3786&quot;], [0.5555555555555556, &quot;#d8576b&quot;], [0.6666666666666666, &quot;#ed7953&quot;], [0.7777777777777778, &quot;#fb9f3a&quot;], [0.8888888888888888, &quot;#fdca26&quot;], [1.0, &quot;#f0f921&quot;]], &quot;sequentialminus&quot;: [[0.0, &quot;#0d0887&quot;], [0.1111111111111111, &quot;#46039f&quot;], [0.2222222222222222, &quot;#7201a8&quot;], [0.3333333333333333, &quot;#9c179e&quot;], [0.4444444444444444, &quot;#bd3786&quot;], [0.5555555555555556, &quot;#d8576b&quot;], [0.6666666666666666, &quot;#ed7953&quot;], [0.7777777777777778, &quot;#fb9f3a&quot;], [0.8888888888888888, &quot;#fdca26&quot;], [1.0, &quot;#f0f921&quot;]], &quot;diverging&quot;: [[0, &quot;#8e0152&quot;], [0.1, &quot;#c51b7d&quot;], [0.2, &quot;#de77ae&quot;], [0.3, &quot;#f1b6da&quot;], [0.4, &quot;#fde0ef&quot;], [0.5, &quot;#f7f7f7&quot;], [0.6, &quot;#e6f5d0&quot;], [0.7, &quot;#b8e186&quot;], [0.8, &quot;#7fbc41&quot;], [0.9, &quot;#4d9221&quot;], [1, &quot;#276419&quot;]]}, &quot;xaxis&quot;: {&quot;gridcolor&quot;: &quot;white&quot;, &quot;linecolor&quot;: &quot;white&quot;, &quot;ticks&quot;: &quot;&quot;, &quot;title&quot;: {&quot;standoff&quot;: 15}, &quot;zerolinecolor&quot;: &quot;white&quot;, &quot;automargin&quot;: true, &quot;zerolinewidth&quot;: 2}, &quot;yaxis&quot;: {&quot;gridcolor&quot;: &quot;white&quot;, &quot;linecolor&quot;: &quot;white&quot;, &quot;ticks&quot;: &quot;&quot;, &quot;title&quot;: {&quot;standoff&quot;: 15}, &quot;zerolinecolor&quot;: &quot;white&quot;, &quot;automargin&quot;: true, &quot;zerolinewidth&quot;: 2}, &quot;scene&quot;: {&quot;xaxis&quot;: {&quot;backgroundcolor&quot;: &quot;#E5ECF6&quot;, &quot;gridcolor&quot;: &quot;white&quot;, &quot;linecolor&quot;: &quot;white&quot;, &quot;showbackground&quot;: true, &quot;ticks&quot;: &quot;&quot;, &quot;zerolinecolor&quot;: &quot;white&quot;, &quot;gridwidth&quot;: 2}, &quot;yaxis&quot;: {&quot;backgroundcolor&quot;: &quot;#E5ECF6&quot;, &quot;gridcolor&quot;: &quot;white&quot;, &quot;linecolor&quot;: &quot;white&quot;, &quot;showbackground&quot;: true, &quot;ticks&quot;: &quot;&quot;, &quot;zerolinecolor&quot;: &quot;white&quot;, &quot;gridwidth&quot;: 2}, &quot;zaxis&quot;: {&quot;backgroundcolor&quot;: &quot;#E5ECF6&quot;, &quot;gridcolor&quot;: &quot;white&quot;, &quot;linecolor&quot;: &quot;white&quot;, &quot;showbackground&quot;: true, &quot;ticks&quot;: &quot;&quot;, &quot;zerolinecolor&quot;: &quot;white&quot;, &quot;gridwidth&quot;: 2}}, &quot;shapedefaults&quot;: {&quot;line&quot;: {&quot;color&quot;: &quot;#2a3f5f&quot;}}, &quot;annotationdefaults&quot;: {&quot;arrowcolor&quot;: &quot;#2a3f5f&quot;, &quot;arrowhead&quot;: 0, &quot;arrowwidth&quot;: 1}, &quot;geo&quot;: {&quot;bgcolor&quot;: &quot;white&quot;, &quot;landcolor&quot;: &quot;#E5ECF6&quot;, &quot;subunitcolor&quot;: &quot;white&quot;, &quot;showland&quot;: true, &quot;showlakes&quot;: true, &quot;lakecolor&quot;: &quot;white&quot;}, &quot;title&quot;: {&quot;x&quot;: 0.05}, &quot;mapbox&quot;: {&quot;style&quot;: &quot;light&quot;}}}, &quot;xaxis&quot;: {&quot;anchor&quot;: &quot;y&quot;, &quot;domain&quot;: [0.0, 1.0], &quot;type&quot;: &quot;date&quot;}, &quot;yaxis&quot;: {&quot;anchor&quot;: &quot;x&quot;, &quot;domain&quot;: [0.0, 1.0], &quot;title&quot;: {&quot;text&quot;: &quot;resource&quot;}, &quot;categoryorder&quot;: &quot;category descending&quot;}, &quot;legend&quot;: {&quot;title&quot;: {&quot;text&quot;: &quot;job&quot;}, &quot;tracegroupgap&quot;: 0}, &quot;margin&quot;: {&quot;t&quot;: 60}, &quot;barmode&quot;: &quot;overlay&quot;, &quot;dragmode&quot;: &quot;zoom&quot;}}' data-config='{}'></marimo-plotly>"
      ]
     },
     "metadata": {},
     "output_type": "display_data"
    }
   ],
   "source": [
    "plot_plotly(model2_cpsat.to_df())"
   ]
  },
  {
   "cell_type": "code",
   "execution_count": null,
   "id": "aqbW",
   "metadata": {},
   "outputs": [],
   "source": [
    "# model2_highs = ModelHighs(jobs2)\n",
    "# model2_highs.solve()"
   ]
  },
  {
   "cell_type": "code",
   "execution_count": null,
   "id": "TRpd",
   "metadata": {},
   "outputs": [],
   "source": [
    "# plot_altair(model2_highs.to_df())"
   ]
  },
  {
   "cell_type": "code",
   "execution_count": null,
   "id": "TXez",
   "metadata": {},
   "outputs": [
    {
     "name": "stdout",
     "output_type": "stream",
     "text": [
      "makespan = 297\n"
     ]
    }
   ],
   "source": [
    "model2_amplify = ModelAmplifySe(jobs2)\n",
    "model2_amplify.solve(timeout=5)\n",
    "\n",
    "print(f\"makespan = {model2_amplify.get_makespan()}\")"
   ]
  },
  {
   "cell_type": "code",
   "execution_count": null,
   "id": "dNNg",
   "metadata": {},
   "outputs": [
    {
     "data": {
      "text/html": [
       "<marimo-plotly data-figure='{&quot;data&quot;: [{&quot;base&quot;: [&quot;2025-07-05T00:00:00.000000000&quot;, &quot;2025-07-31T00:00:00.000000000&quot;, &quot;2025-08-05T00:00:00.000000000&quot;, &quot;2025-08-12T00:00:00.000000000&quot;, &quot;2025-09-12T00:00:00.000000000&quot;, &quot;2025-09-18T00:00:00.000000000&quot;, &quot;2025-10-18T00:00:00.000000000&quot;, &quot;2025-10-24T00:00:00.000000000&quot;, &quot;2025-12-14T00:00:00.000000000&quot;, &quot;2025-12-29T00:00:00.000000000&quot;, &quot;2026-01-01T00:00:00.000000000&quot;, &quot;2026-02-09T00:00:00.000000000&quot;, &quot;2026-02-11T00:00:00.000000000&quot;, &quot;2026-02-13T00:00:00.000000000&quot;, &quot;2026-03-16T00:00:00.000000000&quot;], &quot;hovertemplate&quot;: &quot;job=job0&lt;br&gt;start=%{base}&lt;br&gt;end=%{x}&lt;br&gt;resource=%{y}&lt;extra&gt;&lt;/extra&gt;&quot;, &quot;legendgroup&quot;: &quot;job0&quot;, &quot;marker&quot;: {&quot;color&quot;: &quot;#636efa&quot;, &quot;opacity&quot;: 0.5, &quot;pattern&quot;: {&quot;shape&quot;: &quot;&quot;}}, &quot;name&quot;: &quot;job0&quot;, &quot;orientation&quot;: &quot;h&quot;, &quot;showlegend&quot;: true, &quot;textposition&quot;: &quot;auto&quot;, &quot;x&quot;: {&quot;dtype&quot;: &quot;i4&quot;, &quot;bdata&quot;: &quot;ADxZLgAUcw8AzL8ZABRzDwC4TAoAmH8zAMy/GQA8WS4AmH8zABRzDwDMvxkAuEwKALhMCgAo5h4A4DIp&quot;}, &quot;xaxis&quot;: &quot;x&quot;, &quot;y&quot;: [&quot;machine1&quot;, &quot;machine10&quot;, &quot;machine9&quot;, &quot;machine5&quot;, &quot;machine11&quot;, &quot;machine2&quot;, &quot;machine3&quot;, &quot;machine7&quot;, &quot;machine8&quot;, &quot;machine4&quot;, &quot;machine0&quot;, &quot;machine14&quot;, &quot;machine12&quot;, &quot;machine6&quot;, &quot;machine13&quot;], &quot;yaxis&quot;: &quot;y&quot;, &quot;type&quot;: &quot;bar&quot;}, {&quot;base&quot;: [&quot;2025-06-29T00:00:00.000000000&quot;, &quot;2025-07-14T00:00:00.000000000&quot;, &quot;2025-08-15T00:00:00.000000000&quot;, &quot;2025-08-16T00:00:00.000000000&quot;, &quot;2025-08-26T00:00:00.000000000&quot;, &quot;2025-09-22T00:00:00.000000000&quot;, &quot;2025-09-30T00:00:00.000000000&quot;, &quot;2025-10-04T00:00:00.000000000&quot;, &quot;2025-12-23T00:00:00.000000000&quot;, &quot;2025-12-26T00:00:00.000000000&quot;, &quot;2025-12-31T00:00:00.000000000&quot;, &quot;2026-01-15T00:00:00.000000000&quot;, &quot;2026-02-23T00:00:00.000000000&quot;, &quot;2026-02-27T00:00:00.000000000&quot;, &quot;2026-03-02T00:00:00.000000000&quot;], &quot;hovertemplate&quot;: &quot;job=job1&lt;br&gt;start=%{base}&lt;br&gt;end=%{x}&lt;br&gt;resource=%{y}&lt;extra&gt;&lt;/extra&gt;&quot;, &quot;legendgroup&quot;: &quot;job1&quot;, &quot;marker&quot;: {&quot;color&quot;: &quot;#EF553B&quot;, &quot;opacity&quot;: 0.5, &quot;pattern&quot;: {&quot;shape&quot;: &quot;&quot;}}, &quot;name&quot;: &quot;job1&quot;, &quot;orientation&quot;: &quot;h&quot;, &quot;showlegend&quot;: true, &quot;textposition&quot;: &quot;auto&quot;, &quot;x&quot;: {&quot;dtype&quot;: &quot;i4&quot;, &quot;bdata&quot;: &quot;ALhMCgCEDCQAXCYFAJh/MwDgMikAKOYeAHCZFAAo5h4AuEwKAHCZFACYfzMAcJkUAHCZFAAUcw8APFku&quot;}, &quot;xaxis&quot;: &quot;x&quot;, &quot;y&quot;: [&quot;machine13&quot;, &quot;machine11&quot;, &quot;machine10&quot;, &quot;machine0&quot;, &quot;machine2&quot;, &quot;machine4&quot;, &quot;machine14&quot;, &quot;machine7&quot;, &quot;machine3&quot;, &quot;machine9&quot;, &quot;machine12&quot;, &quot;machine6&quot;, &quot;machine5&quot;, &quot;machine1&quot;, &quot;machine8&quot;], &quot;yaxis&quot;: &quot;y&quot;, &quot;type&quot;: &quot;bar&quot;}, {&quot;base&quot;: [&quot;2025-06-19T00:00:00.000000000&quot;, &quot;2025-07-08T00:00:00.000000000&quot;, &quot;2025-07-24T00:00:00.000000000&quot;, &quot;2025-08-22T00:00:00.000000000&quot;, &quot;2025-09-02T00:00:00.000000000&quot;, &quot;2025-09-28T00:00:00.000000000&quot;, &quot;2025-10-14T00:00:00.000000000&quot;, &quot;2025-11-04T00:00:00.000000000&quot;, &quot;2025-12-02T00:00:00.000000000&quot;, &quot;2025-12-08T00:00:00.000000000&quot;, &quot;2026-01-23T00:00:00.000000000&quot;, &quot;2026-02-27T00:00:00.000000000&quot;, &quot;2026-03-13T00:00:00.000000000&quot;, &quot;2026-03-22T00:00:00.000000000&quot;, &quot;2026-04-08T00:00:00.000000000&quot;], &quot;hovertemplate&quot;: &quot;job=job2&lt;br&gt;start=%{base}&lt;br&gt;end=%{x}&lt;br&gt;resource=%{y}&lt;extra&gt;&lt;/extra&gt;&quot;, &quot;legendgroup&quot;: &quot;job2&quot;, &quot;marker&quot;: {&quot;color&quot;: &quot;#00cc96&quot;, &quot;opacity&quot;: 0.5, &quot;pattern&quot;: {&quot;shape&quot;: &quot;&quot;}}, &quot;name&quot;: &quot;job2&quot;, &quot;orientation&quot;: &quot;h&quot;, &quot;showlegend&quot;: true, &quot;textposition&quot;: &quot;auto&quot;, &quot;x&quot;: {&quot;dtype&quot;: &quot;i4&quot;, &quot;bdata&quot;: &quot;AJh/MwA8WS4AmH8zAMy/GQDgMikAuEwKAJh/MwCEDCQAKOYeAJh/MwBwmRQAzL8ZABRzDwBwmRQAFHMP&quot;}, &quot;xaxis&quot;: &quot;x&quot;, &quot;y&quot;: [&quot;machine10&quot;, &quot;machine6&quot;, &quot;machine3&quot;, &quot;machine11&quot;, &quot;machine0&quot;, &quot;machine2&quot;, &quot;machine9&quot;, &quot;machine4&quot;, &quot;machine12&quot;, &quot;machine14&quot;, &quot;machine8&quot;, &quot;machine5&quot;, &quot;machine13&quot;, &quot;machine1&quot;, &quot;machine7&quot;], &quot;yaxis&quot;: &quot;y&quot;, &quot;type&quot;: &quot;bar&quot;}, {&quot;base&quot;: [&quot;2025-06-19T00:00:00.000000000&quot;, &quot;2025-07-04T00:00:00.000000000&quot;, &quot;2025-07-09T00:00:00.000000000&quot;, &quot;2025-07-14T00:00:00.000000000&quot;, &quot;2025-07-24T00:00:00.000000000&quot;, &quot;2025-08-03T00:00:00.000000000&quot;, &quot;2025-10-07T00:00:00.000000000&quot;, &quot;2025-10-31T00:00:00.000000000&quot;, &quot;2025-11-08T00:00:00.000000000&quot;, &quot;2025-11-27T00:00:00.000000000&quot;, &quot;2025-12-22T00:00:00.000000000&quot;, &quot;2026-01-07T00:00:00.000000000&quot;, &quot;2026-01-13T00:00:00.000000000&quot;, &quot;2026-02-12T00:00:00.000000000&quot;, &quot;2026-03-30T00:00:00.000000000&quot;], &quot;hovertemplate&quot;: &quot;job=job3&lt;br&gt;start=%{base}&lt;br&gt;end=%{x}&lt;br&gt;resource=%{y}&lt;extra&gt;&lt;/extra&gt;&quot;, &quot;legendgroup&quot;: &quot;job3&quot;, &quot;marker&quot;: {&quot;color&quot;: &quot;#ab63fa&quot;, &quot;opacity&quot;: 0.5, &quot;pattern&quot;: {&quot;shape&quot;: &quot;&quot;}}, &quot;name&quot;: &quot;job3&quot;, &quot;orientation&quot;: &quot;h&quot;, &quot;showlegend&quot;: true, &quot;textposition&quot;: &quot;auto&quot;, &quot;x&quot;: {&quot;dtype&quot;: &quot;i4&quot;, &quot;bdata&quot;: &quot;ADxZLgBwmRQAcJkUAJh/MwCEDCQAmH8zAMy/GQDgMikA4DIpACjmHgC4TAoAKOYeAJh/MwC4TAoA4DIp&quot;}, &quot;xaxis&quot;: &quot;x&quot;, &quot;y&quot;: [&quot;machine11&quot;, &quot;machine6&quot;, &quot;machine12&quot;, &quot;machine3&quot;, &quot;machine5&quot;, &quot;machine14&quot;, &quot;machine8&quot;, &quot;machine2&quot;, &quot;machine13&quot;, &quot;machine1&quot;, &quot;machine7&quot;, &quot;machine4&quot;, &quot;machine10&quot;, &quot;machine9&quot;, &quot;machine0&quot;], &quot;yaxis&quot;: &quot;y&quot;, &quot;type&quot;: &quot;bar&quot;}, {&quot;base&quot;: [&quot;2025-07-08T00:00:00.000000000&quot;, &quot;2025-07-15T00:00:00.000000000&quot;, &quot;2025-07-25T00:00:00.000000000&quot;, &quot;2025-07-31T00:00:00.000000000&quot;, &quot;2025-08-04T00:00:00.000000000&quot;, &quot;2025-08-08T00:00:00.000000000&quot;, &quot;2025-10-23T00:00:00.000000000&quot;, &quot;2025-11-01T00:00:00.000000000&quot;, &quot;2025-11-11T00:00:00.000000000&quot;, &quot;2025-11-14T00:00:00.000000000&quot;, &quot;2025-11-15T00:00:00.000000000&quot;, &quot;2026-01-10T00:00:00.000000000&quot;, &quot;2026-02-09T00:00:00.000000000&quot;, &quot;2026-03-17T00:00:00.000000000&quot;, &quot;2026-03-29T00:00:00.000000000&quot;], &quot;hovertemplate&quot;: &quot;job=job4&lt;br&gt;start=%{base}&lt;br&gt;end=%{x}&lt;br&gt;resource=%{y}&lt;extra&gt;&lt;/extra&gt;&quot;, &quot;legendgroup&quot;: &quot;job4&quot;, &quot;marker&quot;: {&quot;color&quot;: &quot;#FFA15A&quot;, &quot;opacity&quot;: 0.5, &quot;pattern&quot;: {&quot;shape&quot;: &quot;&quot;}}, &quot;name&quot;: &quot;job4&quot;, &quot;orientation&quot;: &quot;h&quot;, &quot;showlegend&quot;: true, &quot;textposition&quot;: &quot;auto&quot;, &quot;x&quot;: {&quot;dtype&quot;: &quot;i4&quot;, &quot;bdata&quot;: &quot;AFwmBQC4TAoAFHMPAHCZFABcJgUAmH8zADxZLgCYfzMAuEwKAFwmBQC4TAoAcJkUAJh/MwCYfzMAuEwK&quot;}, &quot;xaxis&quot;: &quot;x&quot;, &quot;y&quot;: [&quot;machine14&quot;, &quot;machine8&quot;, &quot;machine13&quot;, &quot;machine6&quot;, &quot;machine2&quot;, &quot;machine7&quot;, &quot;machine12&quot;, &quot;machine1&quot;, &quot;machine4&quot;, &quot;machine0&quot;, &quot;machine11&quot;, &quot;machine3&quot;, &quot;machine5&quot;, &quot;machine10&quot;, &quot;machine9&quot;], &quot;yaxis&quot;: &quot;y&quot;, &quot;type&quot;: &quot;bar&quot;}, {&quot;base&quot;: [&quot;2025-07-07T00:00:00.000000000&quot;, &quot;2025-07-11T00:00:00.000000000&quot;, &quot;2025-08-09T00:00:00.000000000&quot;, &quot;2025-09-01T00:00:00.000000000&quot;, &quot;2025-10-03T00:00:00.000000000&quot;, &quot;2025-11-14T00:00:00.000000000&quot;, &quot;2025-11-26T00:00:00.000000000&quot;, &quot;2025-12-19T00:00:00.000000000&quot;, &quot;2025-12-23T00:00:00.000000000&quot;, &quot;2025-12-30T00:00:00.000000000&quot;, &quot;2026-01-06T00:00:00.000000000&quot;, &quot;2026-01-12T00:00:00.000000000&quot;, &quot;2026-03-10T00:00:00.000000000&quot;, &quot;2026-03-16T00:00:00.000000000&quot;, &quot;2026-03-17T00:00:00.000000000&quot;], &quot;hovertemplate&quot;: &quot;job=job5&lt;br&gt;start=%{base}&lt;br&gt;end=%{x}&lt;br&gt;resource=%{y}&lt;extra&gt;&lt;/extra&gt;&quot;, &quot;legendgroup&quot;: &quot;job5&quot;, &quot;marker&quot;: {&quot;color&quot;: &quot;#19d3f3&quot;, &quot;opacity&quot;: 0.5, &quot;pattern&quot;: {&quot;shape&quot;: &quot;&quot;}}, &quot;name&quot;: &quot;job5&quot;, &quot;orientation&quot;: &quot;h&quot;, &quot;showlegend&quot;: true, &quot;textposition&quot;: &quot;auto&quot;, &quot;x&quot;: {&quot;dtype&quot;: &quot;i4&quot;, &quot;bdata&quot;: &quot;AFwmBQA8WS4AhAwkAJh/MwC4TAoAzL8ZALhMCgBwmRQAuEwKAMy/GQAo5h4AhAwkABRzDwBcJgUAPFku&quot;}, &quot;xaxis&quot;: &quot;x&quot;, &quot;y&quot;: [&quot;machine14&quot;, &quot;machine2&quot;, &quot;machine4&quot;, &quot;machine7&quot;, &quot;machine8&quot;, &quot;machine12&quot;, &quot;machine11&quot;, &quot;machine3&quot;, &quot;machine10&quot;, &quot;machine9&quot;, &quot;machine0&quot;, &quot;machine13&quot;, &quot;machine5&quot;, &quot;machine1&quot;, &quot;machine6&quot;], &quot;yaxis&quot;: &quot;y&quot;, &quot;type&quot;: &quot;bar&quot;}, {&quot;base&quot;: [&quot;2025-07-11T00:00:00.000000000&quot;, &quot;2025-07-16T00:00:00.000000000&quot;, &quot;2025-07-20T00:00:00.000000000&quot;, &quot;2025-07-23T00:00:00.000000000&quot;, &quot;2025-08-22T00:00:00.000000000&quot;, &quot;2025-09-01T00:00:00.000000000&quot;, &quot;2025-09-22T00:00:00.000000000&quot;, &quot;2025-09-24T00:00:00.000000000&quot;, &quot;2025-10-14T00:00:00.000000000&quot;, &quot;2025-12-12T00:00:00.000000000&quot;, &quot;2025-12-21T00:00:00.000000000&quot;, &quot;2025-12-24T00:00:00.000000000&quot;, &quot;2026-01-26T00:00:00.000000000&quot;, &quot;2026-03-05T00:00:00.000000000&quot;, &quot;2026-03-22T00:00:00.000000000&quot;], &quot;hovertemplate&quot;: &quot;job=job6&lt;br&gt;start=%{base}&lt;br&gt;end=%{x}&lt;br&gt;resource=%{y}&lt;extra&gt;&lt;/extra&gt;&quot;, &quot;legendgroup&quot;: &quot;job6&quot;, &quot;marker&quot;: {&quot;color&quot;: &quot;#FF6692&quot;, &quot;opacity&quot;: 0.5, &quot;pattern&quot;: {&quot;shape&quot;: &quot;&quot;}}, &quot;name&quot;: &quot;job6&quot;, &quot;orientation&quot;: &quot;h&quot;, &quot;showlegend&quot;: true, &quot;textposition&quot;: &quot;auto&quot;, &quot;x&quot;: {&quot;dtype&quot;: &quot;i4&quot;, &quot;bdata&quot;: &quot;AFwmBQAUcw8AFHMPACjmHgA8WS4AzL8ZALhMCgCYfzMA4DIpABRzDwBcJgUA4DIpAIQMJACYfzMAPFku&quot;}, &quot;xaxis&quot;: &quot;x&quot;, &quot;y&quot;: [&quot;machine10&quot;, &quot;machine13&quot;, &quot;machine2&quot;, &quot;machine11&quot;, &quot;machine8&quot;, &quot;machine12&quot;, &quot;machine14&quot;, &quot;machine5&quot;, &quot;machine4&quot;, &quot;machine3&quot;, &quot;machine6&quot;, &quot;machine1&quot;, &quot;machine9&quot;, &quot;machine0&quot;, &quot;machine7&quot;], &quot;yaxis&quot;: &quot;y&quot;, &quot;type&quot;: &quot;bar&quot;}, {&quot;base&quot;: [&quot;2025-06-19T00:00:00.000000000&quot;, &quot;2025-06-28T00:00:00.000000000&quot;, &quot;2025-07-13T00:00:00.000000000&quot;, &quot;2025-07-17T00:00:00.000000000&quot;, &quot;2025-07-23T00:00:00.000000000&quot;, &quot;2025-08-16T00:00:00.000000000&quot;, &quot;2025-09-22T00:00:00.000000000&quot;, &quot;2025-10-02T00:00:00.000000000&quot;, &quot;2025-11-09T00:00:00.000000000&quot;, &quot;2025-11-16T00:00:00.000000000&quot;, &quot;2025-12-26T00:00:00.000000000&quot;, &quot;2026-02-06T00:00:00.000000000&quot;, &quot;2026-02-10T00:00:00.000000000&quot;, &quot;2026-02-22T00:00:00.000000000&quot;, &quot;2026-03-07T00:00:00.000000000&quot;], &quot;hovertemplate&quot;: &quot;job=job7&lt;br&gt;start=%{base}&lt;br&gt;end=%{x}&lt;br&gt;resource=%{y}&lt;extra&gt;&lt;/extra&gt;&quot;, &quot;legendgroup&quot;: &quot;job7&quot;, &quot;marker&quot;: {&quot;color&quot;: &quot;#B6E880&quot;, &quot;opacity&quot;: 0.5, &quot;pattern&quot;: {&quot;shape&quot;: &quot;&quot;}}, &quot;name&quot;: &quot;job7&quot;, &quot;orientation&quot;: &quot;h&quot;, &quot;showlegend&quot;: true, &quot;textposition&quot;: &quot;auto&quot;, &quot;x&quot;: {&quot;dtype&quot;: &quot;i4&quot;, &quot;bdata&quot;: &quot;ADxZLgDMvxkAFHMPAHCZFADgMikAKOYeAJh/MwDMvxkAKOYeAJh/MwCYfzMAFHMPAMy/GQCEDCQAhAwk&quot;}, &quot;xaxis&quot;: &quot;x&quot;, &quot;y&quot;: [&quot;machine1&quot;, &quot;machine9&quot;, &quot;machine12&quot;, &quot;machine8&quot;, &quot;machine7&quot;, &quot;machine11&quot;, &quot;machine3&quot;, &quot;machine0&quot;, &quot;machine2&quot;, &quot;machine13&quot;, &quot;machine6&quot;, &quot;machine5&quot;, &quot;machine10&quot;, &quot;machine4&quot;, &quot;machine14&quot;], &quot;yaxis&quot;: &quot;y&quot;, &quot;type&quot;: &quot;bar&quot;}, {&quot;base&quot;: [&quot;2025-06-28T00:00:00.000000000&quot;, &quot;2025-07-04T00:00:00.000000000&quot;, &quot;2025-07-13T00:00:00.000000000&quot;, &quot;2025-08-02T00:00:00.000000000&quot;, &quot;2025-08-13T00:00:00.000000000&quot;, &quot;2025-08-14T00:00:00.000000000&quot;, &quot;2025-09-14T00:00:00.000000000&quot;, &quot;2025-10-04T00:00:00.000000000&quot;, &quot;2025-10-07T00:00:00.000000000&quot;, &quot;2025-11-19T00:00:00.000000000&quot;, &quot;2025-11-22T00:00:00.000000000&quot;, &quot;2025-12-02T00:00:00.000000000&quot;, &quot;2026-01-25T00:00:00.000000000&quot;, &quot;2026-02-22T00:00:00.000000000&quot;, &quot;2026-03-03T00:00:00.000000000&quot;], &quot;hovertemplate&quot;: &quot;job=job8&lt;br&gt;start=%{base}&lt;br&gt;end=%{x}&lt;br&gt;resource=%{y}&lt;extra&gt;&lt;/extra&gt;&quot;, &quot;legendgroup&quot;: &quot;job8&quot;, &quot;marker&quot;: {&quot;color&quot;: &quot;#FF97FF&quot;, &quot;opacity&quot;: 0.5, &quot;pattern&quot;: {&quot;shape&quot;: &quot;&quot;}}, &quot;name&quot;: &quot;job8&quot;, &quot;orientation&quot;: &quot;h&quot;, &quot;showlegend&quot;: true, &quot;textposition&quot;: &quot;auto&quot;, &quot;x&quot;: {&quot;dtype&quot;: &quot;i4&quot;, &quot;bdata&quot;: &quot;AFwmBQCEDCQAmH8zAIQMJABcJgUAFHMPAOAyKQC4TAoAzL8ZABRzDwDgMikAPFkuAOAyKQA8WS4AmH8z&quot;}, &quot;xaxis&quot;: &quot;x&quot;, &quot;y&quot;: [&quot;machine11&quot;, &quot;machine8&quot;, &quot;machine7&quot;, &quot;machine4&quot;, &quot;machine14&quot;, &quot;machine6&quot;, &quot;machine12&quot;, &quot;machine2&quot;, &quot;machine5&quot;, &quot;machine3&quot;, &quot;machine9&quot;, &quot;machine0&quot;, &quot;machine1&quot;, &quot;machine10&quot;, &quot;machine13&quot;], &quot;yaxis&quot;: &quot;y&quot;, &quot;type&quot;: &quot;bar&quot;}, {&quot;base&quot;: [&quot;2025-07-28T00:00:00.000000000&quot;, &quot;2025-08-30T00:00:00.000000000&quot;, &quot;2025-09-09T00:00:00.000000000&quot;, &quot;2025-10-18T00:00:00.000000000&quot;, &quot;2025-10-24T00:00:00.000000000&quot;, &quot;2025-11-22T00:00:00.000000000&quot;, &quot;2025-12-04T00:00:00.000000000&quot;, &quot;2025-12-05T00:00:00.000000000&quot;, &quot;2025-12-06T00:00:00.000000000&quot;, &quot;2025-12-19T00:00:00.000000000&quot;, &quot;2026-01-13T00:00:00.000000000&quot;, &quot;2026-01-17T00:00:00.000000000&quot;, &quot;2026-01-25T00:00:00.000000000&quot;, &quot;2026-03-15T00:00:00.000000000&quot;, &quot;2026-03-25T00:00:00.000000000&quot;], &quot;hovertemplate&quot;: &quot;job=job9&lt;br&gt;start=%{base}&lt;br&gt;end=%{x}&lt;br&gt;resource=%{y}&lt;extra&gt;&lt;/extra&gt;&quot;, &quot;legendgroup&quot;: &quot;job9&quot;, &quot;marker&quot;: {&quot;color&quot;: &quot;#FECB52&quot;, &quot;opacity&quot;: 0.5, &quot;pattern&quot;: {&quot;shape&quot;: &quot;&quot;}}, &quot;name&quot;: &quot;job9&quot;, &quot;orientation&quot;: &quot;h&quot;, &quot;showlegend&quot;: true, &quot;textposition&quot;: &quot;auto&quot;, &quot;x&quot;: {&quot;dtype&quot;: &quot;i4&quot;, &quot;bdata&quot;: &quot;AFwmBQCEDCQAhAwkACjmHgBcJgUAcJkUAFwmBQBcJgUAPFkuAJh/MwC4TAoAcJkUALhMCgCYfzMAcJkU&quot;}, &quot;xaxis&quot;: &quot;x&quot;, &quot;y&quot;: [&quot;machine9&quot;, &quot;machine10&quot;, &quot;machine2&quot;, &quot;machine8&quot;, &quot;machine1&quot;, &quot;machine3&quot;, &quot;machine6&quot;, &quot;machine14&quot;, &quot;machine11&quot;, &quot;machine4&quot;, &quot;machine5&quot;, &quot;machine7&quot;, &quot;machine13&quot;, &quot;machine0&quot;, &quot;machine12&quot;], &quot;yaxis&quot;: &quot;y&quot;, &quot;type&quot;: &quot;bar&quot;}, {&quot;base&quot;: [&quot;2025-06-30T00:00:00.000000000&quot;, &quot;2025-09-23T00:00:00.000000000&quot;, &quot;2025-09-26T00:00:00.000000000&quot;, &quot;2025-10-05T00:00:00.000000000&quot;, &quot;2025-10-24T00:00:00.000000000&quot;, &quot;2025-10-26T00:00:00.000000000&quot;, &quot;2026-01-02T00:00:00.000000000&quot;, &quot;2026-01-07T00:00:00.000000000&quot;, &quot;2026-01-08T00:00:00.000000000&quot;, &quot;2026-01-09T00:00:00.000000000&quot;, &quot;2026-01-17T00:00:00.000000000&quot;, &quot;2026-01-23T00:00:00.000000000&quot;, &quot;2026-01-31T00:00:00.000000000&quot;, &quot;2026-03-01T00:00:00.000000000&quot;, &quot;2026-03-24T00:00:00.000000000&quot;], &quot;hovertemplate&quot;: &quot;job=job10&lt;br&gt;start=%{base}&lt;br&gt;end=%{x}&lt;br&gt;resource=%{y}&lt;extra&gt;&lt;/extra&gt;&quot;, &quot;legendgroup&quot;: &quot;job10&quot;, &quot;marker&quot;: {&quot;color&quot;: &quot;#636efa&quot;, &quot;opacity&quot;: 0.5, &quot;pattern&quot;: {&quot;shape&quot;: &quot;&quot;}}, &quot;name&quot;: &quot;job10&quot;, &quot;orientation&quot;: &quot;h&quot;, &quot;showlegend&quot;: true, &quot;textposition&quot;: &quot;auto&quot;, &quot;x&quot;: {&quot;dtype&quot;: &quot;i4&quot;, &quot;bdata&quot;: &quot;AMy/GQAUcw8APFkuACjmHgC4TAoAFHMPAMy/GQBcJgUAXCYFAFwmBQBwmRQAzL8ZADxZLgAo5h4AKOYe&quot;}, &quot;xaxis&quot;: &quot;x&quot;, &quot;y&quot;: [&quot;machine3&quot;, &quot;machine12&quot;, &quot;machine9&quot;, &quot;machine10&quot;, &quot;machine8&quot;, &quot;machine0&quot;, &quot;machine5&quot;, &quot;machine6&quot;, &quot;machine7&quot;, &quot;machine1&quot;, &quot;machine2&quot;, &quot;machine11&quot;, &quot;machine14&quot;, &quot;machine4&quot;, &quot;machine13&quot;], &quot;yaxis&quot;: &quot;y&quot;, &quot;type&quot;: &quot;bar&quot;}, {&quot;base&quot;: [&quot;2025-06-19T00:00:00.000000000&quot;, &quot;2025-07-21T00:00:00.000000000&quot;, &quot;2025-10-08T00:00:00.000000000&quot;, &quot;2025-10-12T00:00:00.000000000&quot;, &quot;2025-10-17T00:00:00.000000000&quot;, &quot;2025-10-29T00:00:00.000000000&quot;, &quot;2025-11-24T00:00:00.000000000&quot;, &quot;2025-12-02T00:00:00.000000000&quot;, &quot;2025-12-06T00:00:00.000000000&quot;, &quot;2025-12-12T00:00:00.000000000&quot;, &quot;2026-02-18T00:00:00.000000000&quot;, &quot;2026-02-19T00:00:00.000000000&quot;, &quot;2026-03-25T00:00:00.000000000&quot;, &quot;2026-04-05T00:00:00.000000000&quot;, &quot;2026-04-08T00:00:00.000000000&quot;], &quot;hovertemplate&quot;: &quot;job=job11&lt;br&gt;start=%{base}&lt;br&gt;end=%{x}&lt;br&gt;resource=%{y}&lt;extra&gt;&lt;/extra&gt;&quot;, &quot;legendgroup&quot;: &quot;job11&quot;, &quot;marker&quot;: {&quot;color&quot;: &quot;#EF553B&quot;, &quot;opacity&quot;: 0.5, &quot;pattern&quot;: {&quot;shape&quot;: &quot;&quot;}}, &quot;name&quot;: &quot;job11&quot;, &quot;orientation&quot;: &quot;h&quot;, &quot;showlegend&quot;: true, &quot;textposition&quot;: &quot;auto&quot;, &quot;x&quot;: {&quot;dtype&quot;: &quot;i4&quot;, &quot;bdata&quot;: &quot;AFwmBQAUcw8AFHMPAMy/GQAo5h4AKOYeACjmHgC4TAoAKOYeAJh/MwBcJgUAXCYFAMy/GQAUcw8AFHMP&quot;}, &quot;xaxis&quot;: &quot;x&quot;, &quot;y&quot;: [&quot;machine12&quot;, &quot;machine8&quot;, &quot;machine3&quot;, &quot;machine5&quot;, &quot;machine1&quot;, &quot;machine4&quot;, &quot;machine2&quot;, &quot;machine6&quot;, &quot;machine10&quot;, &quot;machine7&quot;, &quot;machine14&quot;, &quot;machine11&quot;, &quot;machine0&quot;, &quot;machine13&quot;, &quot;machine9&quot;], &quot;yaxis&quot;: &quot;y&quot;, &quot;type&quot;: &quot;bar&quot;}, {&quot;base&quot;: [&quot;2025-06-19T00:00:00.000000000&quot;, &quot;2025-07-21T00:00:00.000000000&quot;, &quot;2025-08-03T00:00:00.000000000&quot;, &quot;2025-08-08T00:00:00.000000000&quot;, &quot;2025-08-26T00:00:00.000000000&quot;, &quot;2025-10-17T00:00:00.000000000&quot;, &quot;2025-11-03T00:00:00.000000000&quot;, &quot;2025-11-11T00:00:00.000000000&quot;, &quot;2025-11-26T00:00:00.000000000&quot;, &quot;2025-11-30T00:00:00.000000000&quot;, &quot;2026-01-11T00:00:00.000000000&quot;, &quot;2026-01-30T00:00:00.000000000&quot;, &quot;2026-03-04T00:00:00.000000000&quot;, &quot;2026-03-27T00:00:00.000000000&quot;, &quot;2026-04-02T00:00:00.000000000&quot;], &quot;hovertemplate&quot;: &quot;job=job12&lt;br&gt;start=%{base}&lt;br&gt;end=%{x}&lt;br&gt;resource=%{y}&lt;extra&gt;&lt;/extra&gt;&quot;, &quot;legendgroup&quot;: &quot;job12&quot;, &quot;marker&quot;: {&quot;color&quot;: &quot;#00cc96&quot;, &quot;opacity&quot;: 0.5, &quot;pattern&quot;: {&quot;shape&quot;: &quot;&quot;}}, &quot;name&quot;: &quot;job12&quot;, &quot;orientation&quot;: &quot;h&quot;, &quot;showlegend&quot;: true, &quot;textposition&quot;: &quot;auto&quot;, &quot;x&quot;: {&quot;dtype&quot;: &quot;i4&quot;, &quot;bdata&quot;: &quot;ADxZLgC4TAoAzL8ZAIQMJAAo5h4AzL8ZAIQMJAC4TAoAuEwKADxZLgDgMikA4DIpACjmHgAo5h4AuEwK&quot;}, &quot;xaxis&quot;: &quot;x&quot;, &quot;y&quot;: [&quot;machine14&quot;, &quot;machine11&quot;, &quot;machine10&quot;, &quot;machine0&quot;, &quot;machine7&quot;, &quot;machine12&quot;, &quot;machine3&quot;, &quot;machine1&quot;, &quot;machine13&quot;, &quot;machine2&quot;, &quot;machine8&quot;, &quot;machine6&quot;, &quot;machine5&quot;, &quot;machine4&quot;, &quot;machine9&quot;], &quot;yaxis&quot;: &quot;y&quot;, &quot;type&quot;: &quot;bar&quot;}, {&quot;base&quot;: [&quot;2025-07-26T00:00:00.000000000&quot;, &quot;2025-09-11T00:00:00.000000000&quot;, &quot;2025-09-16T00:00:00.000000000&quot;, &quot;2025-09-20T00:00:00.000000000&quot;, &quot;2025-09-30T00:00:00.000000000&quot;, &quot;2025-10-04T00:00:00.000000000&quot;, &quot;2025-10-10T00:00:00.000000000&quot;, &quot;2025-10-26T00:00:00.000000000&quot;, &quot;2025-10-27T00:00:00.000000000&quot;, &quot;2025-10-29T00:00:00.000000000&quot;, &quot;2025-12-05T00:00:00.000000000&quot;, &quot;2025-12-18T00:00:00.000000000&quot;, &quot;2025-12-27T00:00:00.000000000&quot;, &quot;2026-01-01T00:00:00.000000000&quot;, &quot;2026-01-09T00:00:00.000000000&quot;], &quot;hovertemplate&quot;: &quot;job=job13&lt;br&gt;start=%{base}&lt;br&gt;end=%{x}&lt;br&gt;resource=%{y}&lt;extra&gt;&lt;/extra&gt;&quot;, &quot;legendgroup&quot;: &quot;job13&quot;, &quot;marker&quot;: {&quot;color&quot;: &quot;#ab63fa&quot;, &quot;opacity&quot;: 0.5, &quot;pattern&quot;: {&quot;shape&quot;: &quot;&quot;}}, &quot;name&quot;: &quot;job13&quot;, &quot;orientation&quot;: &quot;h&quot;, &quot;showlegend&quot;: true, &quot;textposition&quot;: &quot;auto&quot;, &quot;x&quot;: {&quot;dtype&quot;: &quot;i4&quot;, &quot;bdata&quot;: &quot;ALhMCgC4TAoAuEwKAHCZFABwmRQAXCYFAIQMJABcJgUAuEwKAIQMJAA8WS4APFkuAMy/GQDgMikA4DIp&quot;}, &quot;xaxis&quot;: &quot;x&quot;, &quot;y&quot;: [&quot;machine9&quot;, &quot;machine3&quot;, &quot;machine2&quot;, &quot;machine8&quot;, &quot;machine13&quot;, &quot;machine10&quot;, &quot;machine12&quot;, &quot;machine5&quot;, &quot;machine4&quot;, &quot;machine0&quot;, &quot;machine6&quot;, &quot;machine14&quot;, &quot;machine11&quot;, &quot;machine1&quot;, &quot;machine7&quot;], &quot;yaxis&quot;: &quot;y&quot;, &quot;type&quot;: &quot;bar&quot;}, {&quot;base&quot;: [&quot;2025-06-19T00:00:00.000000000&quot;, &quot;2025-07-15T00:00:00.000000000&quot;, &quot;2025-07-28T00:00:00.000000000&quot;, &quot;2025-09-03T00:00:00.000000000&quot;, &quot;2025-09-05T00:00:00.000000000&quot;, &quot;2025-10-23T00:00:00.000000000&quot;, &quot;2025-11-28T00:00:00.000000000&quot;, &quot;2025-12-09T00:00:00.000000000&quot;, &quot;2025-12-11T00:00:00.000000000&quot;, &quot;2026-01-08T00:00:00.000000000&quot;, &quot;2026-01-19T00:00:00.000000000&quot;, &quot;2026-02-06T00:00:00.000000000&quot;, &quot;2026-02-18T00:00:00.000000000&quot;, &quot;2026-02-23T00:00:00.000000000&quot;, &quot;2026-02-27T00:00:00.000000000&quot;], &quot;hovertemplate&quot;: &quot;job=job14&lt;br&gt;start=%{base}&lt;br&gt;end=%{x}&lt;br&gt;resource=%{y}&lt;extra&gt;&lt;/extra&gt;&quot;, &quot;legendgroup&quot;: &quot;job14&quot;, &quot;marker&quot;: {&quot;color&quot;: &quot;#FFA15A&quot;, &quot;opacity&quot;: 0.5, &quot;pattern&quot;: {&quot;shape&quot;: &quot;&quot;}}, &quot;name&quot;: &quot;job14&quot;, &quot;orientation&quot;: &quot;h&quot;, &quot;showlegend&quot;: true, &quot;textposition&quot;: &quot;auto&quot;, &quot;x&quot;: {&quot;dtype&quot;: &quot;i4&quot;, &quot;bdata&quot;: &quot;ACjmHgC4TAoAuEwKAFwmBQA8WS4A4DIpAHCZFAC4TAoA4DIpAIQMJADMvxkAcJkUAFwmBQBwmRQAmH8z&quot;}, &quot;xaxis&quot;: &quot;x&quot;, &quot;y&quot;: [&quot;machine7&quot;, &quot;machine0&quot;, &quot;machine14&quot;, &quot;machine13&quot;, &quot;machine4&quot;, &quot;machine2&quot;, &quot;machine8&quot;, &quot;machine5&quot;, &quot;machine1&quot;, &quot;machine6&quot;, &quot;machine3&quot;, &quot;machine10&quot;, &quot;machine11&quot;, &quot;machine9&quot;, &quot;machine12&quot;], &quot;yaxis&quot;: &quot;y&quot;, &quot;type&quot;: &quot;bar&quot;}, {&quot;base&quot;: [&quot;2025-07-02T00:00:00.000000000&quot;, &quot;2025-07-14T00:00:00.000000000&quot;, &quot;2025-07-29T00:00:00.000000000&quot;, &quot;2025-08-21T00:00:00.000000000&quot;, &quot;2025-09-06T00:00:00.000000000&quot;, &quot;2025-09-14T00:00:00.000000000&quot;, &quot;2025-09-28T00:00:00.000000000&quot;, &quot;2025-10-15T00:00:00.000000000&quot;, &quot;2026-01-01T00:00:00.000000000&quot;, &quot;2026-01-15T00:00:00.000000000&quot;, &quot;2026-01-19T00:00:00.000000000&quot;, &quot;2026-01-21T00:00:00.000000000&quot;, &quot;2026-01-29T00:00:00.000000000&quot;, &quot;2026-03-03T00:00:00.000000000&quot;, &quot;2026-03-09T00:00:00.000000000&quot;], &quot;hovertemplate&quot;: &quot;job=job15&lt;br&gt;start=%{base}&lt;br&gt;end=%{x}&lt;br&gt;resource=%{y}&lt;extra&gt;&lt;/extra&gt;&quot;, &quot;legendgroup&quot;: &quot;job15&quot;, &quot;marker&quot;: {&quot;color&quot;: &quot;#19d3f3&quot;, &quot;opacity&quot;: 0.5, &quot;pattern&quot;: {&quot;shape&quot;: &quot;&quot;}}, &quot;name&quot;: &quot;job15&quot;, &quot;orientation&quot;: &quot;h&quot;, &quot;showlegend&quot;: true, &quot;textposition&quot;: &quot;auto&quot;, &quot;x&quot;: {&quot;dtype&quot;: &quot;i4&quot;, &quot;bdata&quot;: &quot;AIQMJAA8WS4A4DIpACjmHgDgMikA4DIpAHCZFAA8WS4AmH8zAHCZFABcJgUAKOYeACjmHgAo5h4AXCYF&quot;}, &quot;xaxis&quot;: &quot;x&quot;, &quot;y&quot;: [&quot;machine10&quot;, &quot;machine9&quot;, &quot;machine11&quot;, &quot;machine13&quot;, &quot;machine12&quot;, &quot;machine4&quot;, &quot;machine0&quot;, &quot;machine14&quot;, &quot;machine8&quot;, &quot;machine5&quot;, &quot;machine6&quot;, &quot;machine7&quot;, &quot;machine3&quot;, &quot;machine1&quot;, &quot;machine2&quot;], &quot;yaxis&quot;: &quot;y&quot;, &quot;type&quot;: &quot;bar&quot;}, {&quot;base&quot;: [&quot;2025-07-24T00:00:00.000000000&quot;, &quot;2025-07-30T00:00:00.000000000&quot;, &quot;2025-08-21T00:00:00.000000000&quot;, &quot;2025-08-26T00:00:00.000000000&quot;, &quot;2025-08-27T00:00:00.000000000&quot;, &quot;2025-09-06T00:00:00.000000000&quot;, &quot;2025-09-13T00:00:00.000000000&quot;, &quot;2025-09-24T00:00:00.000000000&quot;, &quot;2025-11-06T00:00:00.000000000&quot;, &quot;2025-11-16T00:00:00.000000000&quot;, &quot;2025-12-02T00:00:00.000000000&quot;, &quot;2026-01-19T00:00:00.000000000&quot;, &quot;2026-02-07T00:00:00.000000000&quot;, &quot;2026-02-27T00:00:00.000000000&quot;, &quot;2026-03-11T00:00:00.000000000&quot;], &quot;hovertemplate&quot;: &quot;job=job16&lt;br&gt;start=%{base}&lt;br&gt;end=%{x}&lt;br&gt;resource=%{y}&lt;extra&gt;&lt;/extra&gt;&quot;, &quot;legendgroup&quot;: &quot;job16&quot;, &quot;marker&quot;: {&quot;color&quot;: &quot;#FF6692&quot;, &quot;opacity&quot;: 0.5, &quot;pattern&quot;: {&quot;shape&quot;: &quot;&quot;}}, &quot;name&quot;: &quot;job16&quot;, &quot;orientation&quot;: &quot;h&quot;, &quot;showlegend&quot;: true, &quot;textposition&quot;: &quot;auto&quot;, &quot;x&quot;: {&quot;dtype&quot;: &quot;i4&quot;, &quot;bdata&quot;: &quot;ABRzDwBcJgUAzL8ZAFwmBQDgMikAKOYeABRzDwAUcw8A4DIpACjmHgA8WS4AhAwkADxZLgA8WS4AXCYF&quot;}, &quot;xaxis&quot;: &quot;x&quot;, &quot;y&quot;: [&quot;machine1&quot;, &quot;machine10&quot;, &quot;machine3&quot;, &quot;machine5&quot;, &quot;machine14&quot;, &quot;machine11&quot;, &quot;machine0&quot;, &quot;machine7&quot;, &quot;machine12&quot;, &quot;machine6&quot;, &quot;machine13&quot;, &quot;machine9&quot;, &quot;machine4&quot;, &quot;machine2&quot;, &quot;machine8&quot;], &quot;yaxis&quot;: &quot;y&quot;, &quot;type&quot;: &quot;bar&quot;}, {&quot;base&quot;: [&quot;2025-06-27T00:00:00.000000000&quot;, &quot;2025-08-06T00:00:00.000000000&quot;, &quot;2025-08-28T00:00:00.000000000&quot;, &quot;2025-09-27T00:00:00.000000000&quot;, &quot;2025-10-04T00:00:00.000000000&quot;, &quot;2025-10-07T00:00:00.000000000&quot;, &quot;2025-10-10T00:00:00.000000000&quot;, &quot;2025-11-10T00:00:00.000000000&quot;, &quot;2025-11-22T00:00:00.000000000&quot;, &quot;2025-12-26T00:00:00.000000000&quot;, &quot;2026-01-10T00:00:00.000000000&quot;, &quot;2026-01-21T00:00:00.000000000&quot;, &quot;2026-03-03T00:00:00.000000000&quot;, &quot;2026-03-17T00:00:00.000000000&quot;, &quot;2026-03-24T00:00:00.000000000&quot;], &quot;hovertemplate&quot;: &quot;job=job17&lt;br&gt;start=%{base}&lt;br&gt;end=%{x}&lt;br&gt;resource=%{y}&lt;extra&gt;&lt;/extra&gt;&quot;, &quot;legendgroup&quot;: &quot;job17&quot;, &quot;marker&quot;: {&quot;color&quot;: &quot;#B6E880&quot;, &quot;opacity&quot;: 0.5, &quot;pattern&quot;: {&quot;shape&quot;: &quot;&quot;}}, &quot;name&quot;: &quot;job17&quot;, &quot;orientation&quot;: &quot;h&quot;, &quot;showlegend&quot;: true, &quot;textposition&quot;: &quot;auto&quot;, &quot;x&quot;: {&quot;dtype&quot;: &quot;i4&quot;, &quot;bdata&quot;: &quot;AJh/MwCYfzMAcJkUAFwmBQBcJgUAFHMPAMy/GQA8WS4AmH8zAMy/GQAo5h4AuEwKAOAyKQDMvxkAzL8Z&quot;}, &quot;xaxis&quot;: &quot;x&quot;, &quot;y&quot;: [&quot;machine0&quot;, &quot;machine11&quot;, &quot;machine12&quot;, &quot;machine7&quot;, &quot;machine5&quot;, &quot;machine4&quot;, &quot;machine2&quot;, &quot;machine3&quot;, &quot;machine6&quot;, &quot;machine13&quot;, &quot;machine14&quot;, &quot;machine8&quot;, &quot;machine10&quot;, &quot;machine1&quot;, &quot;machine9&quot;], &quot;yaxis&quot;: &quot;y&quot;, &quot;type&quot;: &quot;bar&quot;}, {&quot;base&quot;: [&quot;2025-06-25T00:00:00.000000000&quot;, &quot;2025-07-02T00:00:00.000000000&quot;, &quot;2025-07-05T00:00:00.000000000&quot;, &quot;2025-09-14T00:00:00.000000000&quot;, &quot;2025-10-10T00:00:00.000000000&quot;, &quot;2025-10-27T00:00:00.000000000&quot;, &quot;2025-10-31T00:00:00.000000000&quot;, &quot;2025-12-05T00:00:00.000000000&quot;, &quot;2025-12-25T00:00:00.000000000&quot;, &quot;2025-12-28T00:00:00.000000000&quot;, &quot;2026-01-12T00:00:00.000000000&quot;, &quot;2026-02-11T00:00:00.000000000&quot;, &quot;2026-02-19T00:00:00.000000000&quot;, &quot;2026-02-28T00:00:00.000000000&quot;, &quot;2026-03-10T00:00:00.000000000&quot;], &quot;hovertemplate&quot;: &quot;job=job18&lt;br&gt;start=%{base}&lt;br&gt;end=%{x}&lt;br&gt;resource=%{y}&lt;extra&gt;&lt;/extra&gt;&quot;, &quot;legendgroup&quot;: &quot;job18&quot;, &quot;marker&quot;: {&quot;color&quot;: &quot;#FF97FF&quot;, &quot;opacity&quot;: 0.5, &quot;pattern&quot;: {&quot;shape&quot;: &quot;&quot;}}, &quot;name&quot;: &quot;job18&quot;, &quot;orientation&quot;: &quot;h&quot;, &quot;showlegend&quot;: true, &quot;textposition&quot;: &quot;auto&quot;, &quot;x&quot;: {&quot;dtype&quot;: &quot;i4&quot;, &quot;bdata&quot;: &quot;AIQMJAAUcw8A4DIpAJh/MwC4TAoAFHMPACjmHgCEDCQAXCYFAJh/MwDgMikAhAwkAOAyKQBcJgUAuEwK&quot;}, &quot;xaxis&quot;: &quot;x&quot;, &quot;y&quot;: [&quot;machine4&quot;, &quot;machine1&quot;, &quot;machine7&quot;, &quot;machine10&quot;, &quot;machine11&quot;, &quot;machine5&quot;, &quot;machine8&quot;, &quot;machine3&quot;, &quot;machine9&quot;, &quot;machine2&quot;, &quot;machine0&quot;, &quot;machine14&quot;, &quot;machine13&quot;, &quot;machine6&quot;, &quot;machine12&quot;], &quot;yaxis&quot;: &quot;y&quot;, &quot;type&quot;: &quot;bar&quot;}, {&quot;base&quot;: [&quot;2025-06-19T00:00:00.000000000&quot;, &quot;2025-06-29T00:00:00.000000000&quot;, &quot;2025-07-30T00:00:00.000000000&quot;, &quot;2025-08-04T00:00:00.000000000&quot;, &quot;2025-08-23T00:00:00.000000000&quot;, &quot;2025-09-12T00:00:00.000000000&quot;, &quot;2025-10-11T00:00:00.000000000&quot;, &quot;2025-12-07T00:00:00.000000000&quot;, &quot;2025-12-11T00:00:00.000000000&quot;, &quot;2026-01-04T00:00:00.000000000&quot;, &quot;2026-01-09T00:00:00.000000000&quot;, &quot;2026-01-30T00:00:00.000000000&quot;, &quot;2026-02-17T00:00:00.000000000&quot;, &quot;2026-02-22T00:00:00.000000000&quot;, &quot;2026-03-13T00:00:00.000000000&quot;], &quot;hovertemplate&quot;: &quot;job=job19&lt;br&gt;start=%{base}&lt;br&gt;end=%{x}&lt;br&gt;resource=%{y}&lt;extra&gt;&lt;/extra&gt;&quot;, &quot;legendgroup&quot;: &quot;job19&quot;, &quot;marker&quot;: {&quot;color&quot;: &quot;#FECB52&quot;, &quot;opacity&quot;: 0.5, &quot;pattern&quot;: {&quot;shape&quot;: &quot;&quot;}}, &quot;name&quot;: &quot;job19&quot;, &quot;orientation&quot;: &quot;h&quot;, &quot;showlegend&quot;: true, &quot;textposition&quot;: &quot;auto&quot;, &quot;x&quot;: {&quot;dtype&quot;: &quot;i4&quot;, &quot;bdata&quot;: &quot;AOAyKQC4TAoAXCYFAJh/MwDgMikAmH8zACjmHgC4TAoAmH8zAMy/GQAUcw8AhAwkAMy/GQC4TAoAPFku&quot;}, &quot;xaxis&quot;: &quot;x&quot;, &quot;y&quot;: [&quot;machine3&quot;, &quot;machine1&quot;, &quot;machine6&quot;, &quot;machine8&quot;, &quot;machine4&quot;, &quot;machine14&quot;, &quot;machine10&quot;, &quot;machine5&quot;, &quot;machine13&quot;, &quot;machine9&quot;, &quot;machine11&quot;, &quot;machine0&quot;, &quot;machine2&quot;, &quot;machine12&quot;, &quot;machine7&quot;], &quot;yaxis&quot;: &quot;y&quot;, &quot;type&quot;: &quot;bar&quot;}, {&quot;base&quot;: [&quot;2025-06-22T00:00:00.000000000&quot;, &quot;2025-06-28T00:00:00.000000000&quot;, &quot;2025-07-12T00:00:00.000000000&quot;, &quot;2025-07-23T00:00:00.000000000&quot;, &quot;2025-08-27T00:00:00.000000000&quot;, &quot;2025-10-06T00:00:00.000000000&quot;, &quot;2025-10-24T00:00:00.000000000&quot;, &quot;2025-10-28T00:00:00.000000000&quot;, &quot;2025-11-07T00:00:00.000000000&quot;, &quot;2025-11-17T00:00:00.000000000&quot;, &quot;2025-12-14T00:00:00.000000000&quot;, &quot;2025-12-23T00:00:00.000000000&quot;, &quot;2026-01-24T00:00:00.000000000&quot;, &quot;2026-01-30T00:00:00.000000000&quot;, &quot;2026-02-11T00:00:00.000000000&quot;], &quot;hovertemplate&quot;: &quot;job=job20&lt;br&gt;start=%{base}&lt;br&gt;end=%{x}&lt;br&gt;resource=%{y}&lt;extra&gt;&lt;/extra&gt;&quot;, &quot;legendgroup&quot;: &quot;job20&quot;, &quot;marker&quot;: {&quot;color&quot;: &quot;#636efa&quot;, &quot;opacity&quot;: 0.5, &quot;pattern&quot;: {&quot;shape&quot;: &quot;&quot;}}, &quot;name&quot;: &quot;job20&quot;, &quot;orientation&quot;: &quot;h&quot;, &quot;showlegend&quot;: true, &quot;textposition&quot;: &quot;auto&quot;, &quot;x&quot;: {&quot;dtype&quot;: &quot;i4&quot;, &quot;bdata&quot;: &quot;AMy/GQBcJgUAPFkuAJh/MwCYfzMAcJkUAHCZFAC4TAoAPFkuADxZLgCEDCQAPFkuAMy/GQC4TAoAFHMP&quot;}, &quot;xaxis&quot;: &quot;x&quot;, &quot;y&quot;: [&quot;machine8&quot;, &quot;machine1&quot;, &quot;machine10&quot;, &quot;machine4&quot;, &quot;machine11&quot;, &quot;machine2&quot;, &quot;machine9&quot;, &quot;machine14&quot;, &quot;machine5&quot;, &quot;machine7&quot;, &quot;machine6&quot;, &quot;machine0&quot;, &quot;machine3&quot;, &quot;machine12&quot;, &quot;machine13&quot;], &quot;yaxis&quot;: &quot;y&quot;, &quot;type&quot;: &quot;bar&quot;}, {&quot;base&quot;: [&quot;2025-07-02T00:00:00.000000000&quot;, &quot;2025-07-03T00:00:00.000000000&quot;, &quot;2025-07-11T00:00:00.000000000&quot;, &quot;2025-09-10T00:00:00.000000000&quot;, &quot;2025-09-26T00:00:00.000000000&quot;, &quot;2025-09-28T00:00:00.000000000&quot;, &quot;2026-01-04T00:00:00.000000000&quot;, &quot;2026-01-19T00:00:00.000000000&quot;, &quot;2026-01-23T00:00:00.000000000&quot;, &quot;2026-01-29T00:00:00.000000000&quot;, &quot;2026-01-30T00:00:00.000000000&quot;, &quot;2026-02-11T00:00:00.000000000&quot;, &quot;2026-03-04T00:00:00.000000000&quot;, &quot;2026-03-07T00:00:00.000000000&quot;, &quot;2026-03-08T00:00:00.000000000&quot;], &quot;hovertemplate&quot;: &quot;job=job21&lt;br&gt;start=%{base}&lt;br&gt;end=%{x}&lt;br&gt;resource=%{y}&lt;extra&gt;&lt;/extra&gt;&quot;, &quot;legendgroup&quot;: &quot;job21&quot;, &quot;marker&quot;: {&quot;color&quot;: &quot;#EF553B&quot;, &quot;opacity&quot;: 0.5, &quot;pattern&quot;: {&quot;shape&quot;: &quot;&quot;}}, &quot;name&quot;: &quot;job21&quot;, &quot;orientation&quot;: &quot;h&quot;, &quot;showlegend&quot;: true, &quot;textposition&quot;: &quot;auto&quot;, &quot;x&quot;: {&quot;dtype&quot;: &quot;i4&quot;, &quot;bdata&quot;: &quot;AFwmBQDgMikAKOYeAMy/GQC4TAoAKOYeALhMCgC4TAoAKOYeAFwmBQAo5h4AKOYeABRzDwBcJgUAcJkU&quot;}, &quot;xaxis&quot;: &quot;x&quot;, &quot;y&quot;: [&quot;machine4&quot;, &quot;machine2&quot;, &quot;machine5&quot;, &quot;machine13&quot;, &quot;machine0&quot;, &quot;machine7&quot;, &quot;machine3&quot;, &quot;machine8&quot;, &quot;machine10&quot;, &quot;machine12&quot;, &quot;machine11&quot;, &quot;machine1&quot;, &quot;machine14&quot;, &quot;machine9&quot;, &quot;machine6&quot;], &quot;yaxis&quot;: &quot;y&quot;, &quot;type&quot;: &quot;bar&quot;}, {&quot;base&quot;: [&quot;2025-07-04T00:00:00.000000000&quot;, &quot;2025-08-16T00:00:00.000000000&quot;, &quot;2025-10-01T00:00:00.000000000&quot;, &quot;2025-10-10T00:00:00.000000000&quot;, &quot;2025-10-28T00:00:00.000000000&quot;, &quot;2025-11-08T00:00:00.000000000&quot;, &quot;2025-11-16T00:00:00.000000000&quot;, &quot;2025-11-18T00:00:00.000000000&quot;, &quot;2025-11-26T00:00:00.000000000&quot;, &quot;2026-01-14T00:00:00.000000000&quot;, &quot;2026-02-12T00:00:00.000000000&quot;, &quot;2026-02-22T00:00:00.000000000&quot;, &quot;2026-02-23T00:00:00.000000000&quot;, &quot;2026-03-13T00:00:00.000000000&quot;, &quot;2026-03-30T00:00:00.000000000&quot;], &quot;hovertemplate&quot;: &quot;job=job22&lt;br&gt;start=%{base}&lt;br&gt;end=%{x}&lt;br&gt;resource=%{y}&lt;extra&gt;&lt;/extra&gt;&quot;, &quot;legendgroup&quot;: &quot;job22&quot;, &quot;marker&quot;: {&quot;color&quot;: &quot;#00cc96&quot;, &quot;opacity&quot;: 0.5, &quot;pattern&quot;: {&quot;shape&quot;: &quot;&quot;}}, &quot;name&quot;: &quot;job22&quot;, &quot;orientation&quot;: &quot;h&quot;, &quot;showlegend&quot;: true, &quot;textposition&quot;: &quot;auto&quot;, &quot;x&quot;: {&quot;dtype&quot;: &quot;i4&quot;, &quot;bdata&quot;: &quot;AFwmBQCYfzMAcJkUABRzDwAUcw8A4DIpALhMCgDgMikAKOYeAMy/GQAUcw8AXCYFAHCZFAAo5h4AKOYe&quot;}, &quot;xaxis&quot;: &quot;x&quot;, &quot;y&quot;: [&quot;machine7&quot;, &quot;machine10&quot;, &quot;machine12&quot;, &quot;machine4&quot;, &quot;machine8&quot;, &quot;machine6&quot;, &quot;machine14&quot;, &quot;machine11&quot;, &quot;machine0&quot;, &quot;machine3&quot;, &quot;machine2&quot;, &quot;machine9&quot;, &quot;machine1&quot;, &quot;machine5&quot;, &quot;machine13&quot;], &quot;yaxis&quot;: &quot;y&quot;, &quot;type&quot;: &quot;bar&quot;}, {&quot;base&quot;: [&quot;2025-06-27T00:00:00.000000000&quot;, &quot;2025-07-09T00:00:00.000000000&quot;, &quot;2025-08-04T00:00:00.000000000&quot;, &quot;2025-09-23T00:00:00.000000000&quot;, &quot;2025-10-05T00:00:00.000000000&quot;, &quot;2025-11-01T00:00:00.000000000&quot;, &quot;2025-11-10T00:00:00.000000000&quot;, &quot;2025-11-24T00:00:00.000000000&quot;, &quot;2025-12-17T00:00:00.000000000&quot;, &quot;2026-01-19T00:00:00.000000000&quot;, &quot;2026-01-29T00:00:00.000000000&quot;, &quot;2026-02-05T00:00:00.000000000&quot;, &quot;2026-02-08T00:00:00.000000000&quot;, &quot;2026-03-07T00:00:00.000000000&quot;, &quot;2026-04-11T00:00:00.000000000&quot;], &quot;hovertemplate&quot;: &quot;job=job23&lt;br&gt;start=%{base}&lt;br&gt;end=%{x}&lt;br&gt;resource=%{y}&lt;extra&gt;&lt;/extra&gt;&quot;, &quot;legendgroup&quot;: &quot;job23&quot;, &quot;marker&quot;: {&quot;color&quot;: &quot;#ab63fa&quot;, &quot;opacity&quot;: 0.5, &quot;pattern&quot;: {&quot;shape&quot;: &quot;&quot;}}, &quot;name&quot;: &quot;job23&quot;, &quot;orientation&quot;: &quot;h&quot;, &quot;showlegend&quot;: true, &quot;textposition&quot;: &quot;auto&quot;, &quot;x&quot;: {&quot;dtype&quot;: &quot;i4&quot;, &quot;bdata&quot;: &quot;ABRzDwAUcw8AcJkUACjmHgA8WS4AcJkUAHCZFAAUcw8AzL8ZACjmHgCEDCQAXCYFABRzDwCYfzMAXCYF&quot;}, &quot;xaxis&quot;: &quot;x&quot;, &quot;y&quot;: [&quot;machine3&quot;, &quot;machine14&quot;, &quot;machine6&quot;, &quot;machine11&quot;, &quot;machine9&quot;, &quot;machine12&quot;, &quot;machine0&quot;, &quot;machine1&quot;, &quot;machine2&quot;, &quot;machine5&quot;, &quot;machine10&quot;, &quot;machine8&quot;, &quot;machine13&quot;, &quot;machine4&quot;, &quot;machine7&quot;], &quot;yaxis&quot;: &quot;y&quot;, &quot;type&quot;: &quot;bar&quot;}, {&quot;base&quot;: [&quot;2025-07-07T00:00:00.000000000&quot;, &quot;2025-07-21T00:00:00.000000000&quot;, &quot;2025-07-31T00:00:00.000000000&quot;, &quot;2025-09-13T00:00:00.000000000&quot;, &quot;2025-09-24T00:00:00.000000000&quot;, &quot;2025-10-22T00:00:00.000000000&quot;, &quot;2025-11-16T00:00:00.000000000&quot;, &quot;2025-11-30T00:00:00.000000000&quot;, &quot;2025-12-18T00:00:00.000000000&quot;, &quot;2025-12-27T00:00:00.000000000&quot;, &quot;2026-01-21T00:00:00.000000000&quot;, &quot;2026-01-27T00:00:00.000000000&quot;, &quot;2026-02-05T00:00:00.000000000&quot;, &quot;2026-02-17T00:00:00.000000000&quot;, &quot;2026-02-23T00:00:00.000000000&quot;], &quot;hovertemplate&quot;: &quot;job=job24&lt;br&gt;start=%{base}&lt;br&gt;end=%{x}&lt;br&gt;resource=%{y}&lt;extra&gt;&lt;/extra&gt;&quot;, &quot;legendgroup&quot;: &quot;job24&quot;, &quot;marker&quot;: {&quot;color&quot;: &quot;#FFA15A&quot;, &quot;opacity&quot;: 0.5, &quot;pattern&quot;: {&quot;shape&quot;: &quot;&quot;}}, &quot;name&quot;: &quot;job24&quot;, &quot;orientation&quot;: &quot;h&quot;, &quot;showlegend&quot;: true, &quot;textposition&quot;: &quot;auto&quot;, &quot;x&quot;: {&quot;dtype&quot;: &quot;i4&quot;, &quot;bdata&quot;: &quot;ALhMCgBwmRQA4DIpACjmHgA8WS4AXCYFAIQMJACEDCQAXCYFAIQMJAAo5h4A4DIpAHCZFAAo5h4AzL8Z&quot;}, &quot;xaxis&quot;: &quot;x&quot;, &quot;y&quot;: [&quot;machine0&quot;, &quot;machine10&quot;, &quot;machine7&quot;, &quot;machine3&quot;, &quot;machine8&quot;, &quot;machine12&quot;, &quot;machine5&quot;, &quot;machine9&quot;, &quot;machine4&quot;, &quot;machine14&quot;, &quot;machine2&quot;, &quot;machine13&quot;, &quot;machine11&quot;, &quot;machine1&quot;, &quot;machine6&quot;], &quot;yaxis&quot;: &quot;y&quot;, &quot;type&quot;: &quot;bar&quot;}, {&quot;base&quot;: [&quot;2025-06-28T00:00:00.000000000&quot;, &quot;2025-07-23T00:00:00.000000000&quot;, &quot;2025-07-26T00:00:00.000000000&quot;, &quot;2025-09-06T00:00:00.000000000&quot;, &quot;2025-10-02T00:00:00.000000000&quot;, &quot;2025-10-17T00:00:00.000000000&quot;, &quot;2025-10-26T00:00:00.000000000&quot;, &quot;2025-11-19T00:00:00.000000000&quot;, &quot;2025-12-24T00:00:00.000000000&quot;, &quot;2026-01-01T00:00:00.000000000&quot;, &quot;2026-01-13T00:00:00.000000000&quot;, &quot;2026-01-21T00:00:00.000000000&quot;, &quot;2026-02-22T00:00:00.000000000&quot;, &quot;2026-03-02T00:00:00.000000000&quot;, &quot;2026-03-31T00:00:00.000000000&quot;], &quot;hovertemplate&quot;: &quot;job=job25&lt;br&gt;start=%{base}&lt;br&gt;end=%{x}&lt;br&gt;resource=%{y}&lt;extra&gt;&lt;/extra&gt;&quot;, &quot;legendgroup&quot;: &quot;job25&quot;, &quot;marker&quot;: {&quot;color&quot;: &quot;#19d3f3&quot;, &quot;opacity&quot;: 0.5, &quot;pattern&quot;: {&quot;shape&quot;: &quot;&quot;}}, &quot;name&quot;: &quot;job25&quot;, &quot;orientation&quot;: &quot;h&quot;, &quot;showlegend&quot;: true, &quot;textposition&quot;: &quot;auto&quot;, &quot;x&quot;: {&quot;dtype&quot;: &quot;i4&quot;, &quot;bdata&quot;: &quot;AIQMJAAUcw8AcJkUAOAyKQAo5h4APFkuABRzDwAo5h4A4DIpALhMCgDgMikAcJkUAMy/GQBcJgUA4DIp&quot;}, &quot;xaxis&quot;: &quot;x&quot;, &quot;y&quot;: [&quot;machine14&quot;, &quot;machine9&quot;, &quot;machine0&quot;, &quot;machine10&quot;, &quot;machine3&quot;, &quot;machine5&quot;, &quot;machine6&quot;, &quot;machine12&quot;, &quot;machine8&quot;, &quot;machine11&quot;, &quot;machine4&quot;, &quot;machine13&quot;, &quot;machine2&quot;, &quot;machine1&quot;, &quot;machine7&quot;], &quot;yaxis&quot;: &quot;y&quot;, &quot;type&quot;: &quot;bar&quot;}, {&quot;base&quot;: [&quot;2025-07-11T00:00:00.000000000&quot;, &quot;2025-07-15T00:00:00.000000000&quot;, &quot;2025-08-27T00:00:00.000000000&quot;, &quot;2025-09-26T00:00:00.000000000&quot;, &quot;2025-10-02T00:00:00.000000000&quot;, &quot;2025-10-05T00:00:00.000000000&quot;, &quot;2025-10-17T00:00:00.000000000&quot;, &quot;2025-11-08T00:00:00.000000000&quot;, &quot;2025-11-14T00:00:00.000000000&quot;, &quot;2025-11-19T00:00:00.000000000&quot;, &quot;2025-11-24T00:00:00.000000000&quot;, &quot;2025-12-25T00:00:00.000000000&quot;, &quot;2026-01-20T00:00:00.000000000&quot;, &quot;2026-02-03T00:00:00.000000000&quot;, &quot;2026-02-14T00:00:00.000000000&quot;], &quot;hovertemplate&quot;: &quot;job=job26&lt;br&gt;start=%{base}&lt;br&gt;end=%{x}&lt;br&gt;resource=%{y}&lt;extra&gt;&lt;/extra&gt;&quot;, &quot;legendgroup&quot;: &quot;job26&quot;, &quot;marker&quot;: {&quot;color&quot;: &quot;#FF6692&quot;, &quot;opacity&quot;: 0.5, &quot;pattern&quot;: {&quot;shape&quot;: &quot;&quot;}}, &quot;name&quot;: &quot;job26&quot;, &quot;orientation&quot;: &quot;h&quot;, &quot;showlegend&quot;: true, &quot;textposition&quot;: &quot;auto&quot;, &quot;x&quot;: {&quot;dtype&quot;: &quot;i4&quot;, &quot;bdata&quot;: &quot;AHCZFAA8WS4AhAwkAMy/GQBcJgUAuEwKAMy/GQBcJgUAXCYFAMy/GQCEDCQAPFkuAJh/MwCEDCQA4DIp&quot;}, &quot;xaxis&quot;: &quot;x&quot;, &quot;y&quot;: [&quot;machine8&quot;, &quot;machine14&quot;, &quot;machine13&quot;, &quot;machine12&quot;, &quot;machine6&quot;, &quot;machine5&quot;, &quot;machine11&quot;, &quot;machine2&quot;, &quot;machine10&quot;, &quot;machine1&quot;, &quot;machine4&quot;, &quot;machine3&quot;, &quot;machine0&quot;, &quot;machine7&quot;, &quot;machine9&quot;], &quot;yaxis&quot;: &quot;y&quot;, &quot;type&quot;: &quot;bar&quot;}, {&quot;base&quot;: [&quot;2025-06-19T00:00:00.000000000&quot;, &quot;2025-07-12T00:00:00.000000000&quot;, &quot;2025-07-17T00:00:00.000000000&quot;, &quot;2025-07-25T00:00:00.000000000&quot;, &quot;2025-08-07T00:00:00.000000000&quot;, &quot;2025-08-14T00:00:00.000000000&quot;, &quot;2025-09-11T00:00:00.000000000&quot;, &quot;2025-09-16T00:00:00.000000000&quot;, &quot;2025-10-06T00:00:00.000000000&quot;, &quot;2025-12-15T00:00:00.000000000&quot;, &quot;2025-12-22T00:00:00.000000000&quot;, &quot;2026-01-25T00:00:00.000000000&quot;, &quot;2026-01-31T00:00:00.000000000&quot;, &quot;2026-02-09T00:00:00.000000000&quot;, &quot;2026-03-26T00:00:00.000000000&quot;], &quot;hovertemplate&quot;: &quot;job=job27&lt;br&gt;start=%{base}&lt;br&gt;end=%{x}&lt;br&gt;resource=%{y}&lt;extra&gt;&lt;/extra&gt;&quot;, &quot;legendgroup&quot;: &quot;job27&quot;, &quot;marker&quot;: {&quot;color&quot;: &quot;#B6E880&quot;, &quot;opacity&quot;: 0.5, &quot;pattern&quot;: {&quot;shape&quot;: &quot;&quot;}}, &quot;name&quot;: &quot;job27&quot;, &quot;orientation&quot;: &quot;h&quot;, &quot;showlegend&quot;: true, &quot;textposition&quot;: &quot;auto&quot;, &quot;x&quot;: {&quot;dtype&quot;: &quot;i4&quot;, &quot;bdata&quot;: &quot;ABRzDwC4TAoAhAwkAMy/GQDMvxkAPFkuABRzDwCYfzMAPFkuAHCZFAA8WS4AuEwKAIQMJAA8WS4AhAwk&quot;}, &quot;xaxis&quot;: &quot;x&quot;, &quot;y&quot;: [&quot;machine8&quot;, &quot;machine9&quot;, &quot;machine6&quot;, &quot;machine10&quot;, &quot;machine13&quot;, &quot;machine2&quot;, &quot;machine7&quot;, &quot;machine0&quot;, &quot;machine14&quot;, &quot;machine3&quot;, &quot;machine12&quot;, &quot;machine5&quot;, &quot;machine4&quot;, &quot;machine11&quot;, &quot;machine1&quot;], &quot;yaxis&quot;: &quot;y&quot;, &quot;type&quot;: &quot;bar&quot;}, {&quot;base&quot;: [&quot;2025-06-29T00:00:00.000000000&quot;, &quot;2025-07-03T00:00:00.000000000&quot;, &quot;2025-07-24T00:00:00.000000000&quot;, &quot;2025-08-03T00:00:00.000000000&quot;, &quot;2025-08-14T00:00:00.000000000&quot;, &quot;2025-08-26T00:00:00.000000000&quot;, &quot;2025-09-02T00:00:00.000000000&quot;, &quot;2025-10-15T00:00:00.000000000&quot;, &quot;2025-10-30T00:00:00.000000000&quot;, &quot;2025-11-08T00:00:00.000000000&quot;, &quot;2025-11-18T00:00:00.000000000&quot;, &quot;2025-12-01T00:00:00.000000000&quot;, &quot;2025-12-31T00:00:00.000000000&quot;, &quot;2026-01-10T00:00:00.000000000&quot;, &quot;2026-01-18T00:00:00.000000000&quot;], &quot;hovertemplate&quot;: &quot;job=job28&lt;br&gt;start=%{base}&lt;br&gt;end=%{x}&lt;br&gt;resource=%{y}&lt;extra&gt;&lt;/extra&gt;&quot;, &quot;legendgroup&quot;: &quot;job28&quot;, &quot;marker&quot;: {&quot;color&quot;: &quot;#FF97FF&quot;, &quot;opacity&quot;: 0.5, &quot;pattern&quot;: {&quot;shape&quot;: &quot;&quot;}}, &quot;name&quot;: &quot;job28&quot;, &quot;orientation&quot;: &quot;h&quot;, &quot;showlegend&quot;: true, &quot;textposition&quot;: &quot;auto&quot;, &quot;x&quot;: {&quot;dtype&quot;: &quot;i4&quot;, &quot;bdata&quot;: &quot;ABRzDwA8WS4AzL8ZACjmHgDgMikAhAwkAHCZFADgMikA4DIpADxZLgAo5h4A4DIpAFwmBQDgMikAzL8Z&quot;}, &quot;xaxis&quot;: &quot;x&quot;, &quot;y&quot;: [&quot;machine10&quot;, &quot;machine9&quot;, &quot;machine6&quot;, &quot;machine3&quot;, &quot;machine8&quot;, &quot;machine0&quot;, &quot;machine1&quot;, &quot;machine2&quot;, &quot;machine5&quot;, &quot;machine7&quot;, &quot;machine14&quot;, &quot;machine4&quot;, &quot;machine13&quot;, &quot;machine12&quot;, &quot;machine11&quot;], &quot;yaxis&quot;: &quot;y&quot;, &quot;type&quot;: &quot;bar&quot;}, {&quot;base&quot;: [&quot;2025-07-31T00:00:00.000000000&quot;, &quot;2025-09-22T00:00:00.000000000&quot;, &quot;2025-09-24T00:00:00.000000000&quot;, &quot;2025-10-13T00:00:00.000000000&quot;, &quot;2025-10-26T00:00:00.000000000&quot;, &quot;2025-10-29T00:00:00.000000000&quot;, &quot;2025-11-15T00:00:00.000000000&quot;, &quot;2025-12-11T00:00:00.000000000&quot;, &quot;2025-12-21T00:00:00.000000000&quot;, &quot;2026-01-06T00:00:00.000000000&quot;, &quot;2026-01-10T00:00:00.000000000&quot;, &quot;2026-02-06T00:00:00.000000000&quot;, &quot;2026-02-20T00:00:00.000000000&quot;, &quot;2026-03-14T00:00:00.000000000&quot;, &quot;2026-03-18T00:00:00.000000000&quot;], &quot;hovertemplate&quot;: &quot;job=job29&lt;br&gt;start=%{base}&lt;br&gt;end=%{x}&lt;br&gt;resource=%{y}&lt;extra&gt;&lt;/extra&gt;&quot;, &quot;legendgroup&quot;: &quot;job29&quot;, &quot;marker&quot;: {&quot;color&quot;: &quot;#FECB52&quot;, &quot;opacity&quot;: 0.5, &quot;pattern&quot;: {&quot;shape&quot;: &quot;&quot;}}, &quot;name&quot;: &quot;job29&quot;, &quot;orientation&quot;: &quot;h&quot;, &quot;showlegend&quot;: true, &quot;textposition&quot;: &quot;auto&quot;, &quot;x&quot;: {&quot;dtype&quot;: &quot;i4&quot;, &quot;bdata&quot;: &quot;AIQMJABcJgUAKOYeAFwmBQC4TAoAmH8zAFwmBQDMvxkAzL8ZAHCZFAAUcw8AmH8zAMy/GQBwmRQAuEwK&quot;}, &quot;xaxis&quot;: &quot;x&quot;, &quot;y&quot;: [&quot;machine1&quot;, &quot;machine12&quot;, &quot;machine14&quot;, &quot;machine4&quot;, &quot;machine8&quot;, &quot;machine6&quot;, &quot;machine10&quot;, &quot;machine5&quot;, &quot;machine13&quot;, &quot;machine3&quot;, &quot;machine9&quot;, &quot;machine0&quot;, &quot;machine7&quot;, &quot;machine11&quot;, &quot;machine2&quot;], &quot;yaxis&quot;: &quot;y&quot;, &quot;type&quot;: &quot;bar&quot;}, {&quot;base&quot;: [&quot;2025-06-19T00:00:00.000000000&quot;, &quot;2025-07-09T00:00:00.000000000&quot;, &quot;2025-07-15T00:00:00.000000000&quot;, &quot;2025-07-27T00:00:00.000000000&quot;, &quot;2025-09-19T00:00:00.000000000&quot;, &quot;2025-09-22T00:00:00.000000000&quot;, &quot;2025-10-12T00:00:00.000000000&quot;, &quot;2025-10-18T00:00:00.000000000&quot;, &quot;2025-11-25T00:00:00.000000000&quot;, &quot;2025-12-09T00:00:00.000000000&quot;, &quot;2026-01-03T00:00:00.000000000&quot;, &quot;2026-02-19T00:00:00.000000000&quot;, &quot;2026-02-26T00:00:00.000000000&quot;, &quot;2026-03-05T00:00:00.000000000&quot;, &quot;2026-03-13T00:00:00.000000000&quot;], &quot;hovertemplate&quot;: &quot;job=job30&lt;br&gt;start=%{base}&lt;br&gt;end=%{x}&lt;br&gt;resource=%{y}&lt;extra&gt;&lt;/extra&gt;&quot;, &quot;legendgroup&quot;: &quot;job30&quot;, &quot;marker&quot;: {&quot;color&quot;: &quot;#636efa&quot;, &quot;opacity&quot;: 0.5, &quot;pattern&quot;: {&quot;shape&quot;: &quot;&quot;}}, &quot;name&quot;: &quot;job30&quot;, &quot;orientation&quot;: &quot;h&quot;, &quot;showlegend&quot;: true, &quot;textposition&quot;: &quot;auto&quot;, &quot;x&quot;: {&quot;dtype&quot;: &quot;i4&quot;, &quot;bdata&quot;: &quot;ADxZLgAo5h4AFHMPAHCZFAAUcw8A4DIpACjmHgCEDCQAhAwkAOAyKQCEDCQAcJkUAHCZFADgMikAcJkU&quot;}, &quot;xaxis&quot;: &quot;x&quot;, &quot;y&quot;: [&quot;machine9&quot;, &quot;machine0&quot;, &quot;machine4&quot;, &quot;machine1&quot;, &quot;machine3&quot;, &quot;machine13&quot;, &quot;machine8&quot;, &quot;machine10&quot;, &quot;machine12&quot;, &quot;machine2&quot;, &quot;machine14&quot;, &quot;machine5&quot;, &quot;machine11&quot;, &quot;machine7&quot;, &quot;machine6&quot;], &quot;yaxis&quot;: &quot;y&quot;, &quot;type&quot;: &quot;bar&quot;}, {&quot;base&quot;: [&quot;2025-06-19T00:00:00.000000000&quot;, &quot;2025-07-05T00:00:00.000000000&quot;, &quot;2025-07-07T00:00:00.000000000&quot;, &quot;2025-07-18T00:00:00.000000000&quot;, &quot;2025-07-24T00:00:00.000000000&quot;, &quot;2025-08-08T00:00:00.000000000&quot;, &quot;2025-08-18T00:00:00.000000000&quot;, &quot;2025-09-03T00:00:00.000000000&quot;, &quot;2025-09-28T00:00:00.000000000&quot;, &quot;2025-11-26T00:00:00.000000000&quot;, &quot;2025-12-08T00:00:00.000000000&quot;, &quot;2026-01-20T00:00:00.000000000&quot;, &quot;2026-02-16T00:00:00.000000000&quot;, &quot;2026-03-02T00:00:00.000000000&quot;, &quot;2026-03-10T00:00:00.000000000&quot;], &quot;hovertemplate&quot;: &quot;job=job31&lt;br&gt;start=%{base}&lt;br&gt;end=%{x}&lt;br&gt;resource=%{y}&lt;extra&gt;&lt;/extra&gt;&quot;, &quot;legendgroup&quot;: &quot;job31&quot;, &quot;marker&quot;: {&quot;color&quot;: &quot;#EF553B&quot;, &quot;opacity&quot;: 0.5, &quot;pattern&quot;: {&quot;shape&quot;: &quot;&quot;}}, &quot;name&quot;: &quot;job31&quot;, &quot;orientation&quot;: &quot;h&quot;, &quot;showlegend&quot;: true, &quot;textposition&quot;: &quot;auto&quot;, &quot;x&quot;: {&quot;dtype&quot;: &quot;i4&quot;, &quot;bdata&quot;: &quot;AJh/MwC4TAoAPFkuAMy/GQAo5h4AhAwkAOAyKQBcJgUAPFkuADxZLgCEDCQAmH8zAOAyKQDgMikAzL8Z&quot;}, &quot;xaxis&quot;: &quot;x&quot;, &quot;y&quot;: [&quot;machine5&quot;, &quot;machine14&quot;, &quot;machine13&quot;, &quot;machine4&quot;, &quot;machine8&quot;, &quot;machine10&quot;, &quot;machine7&quot;, &quot;machine2&quot;, &quot;machine1&quot;, &quot;machine3&quot;, &quot;machine12&quot;, &quot;machine6&quot;, &quot;machine0&quot;, &quot;machine11&quot;, &quot;machine9&quot;], &quot;yaxis&quot;: &quot;y&quot;, &quot;type&quot;: &quot;bar&quot;}, {&quot;base&quot;: [&quot;2025-06-22T00:00:00.000000000&quot;, &quot;2025-07-09T00:00:00.000000000&quot;, &quot;2025-07-16T00:00:00.000000000&quot;, &quot;2025-07-24T00:00:00.000000000&quot;, &quot;2025-07-28T00:00:00.000000000&quot;, &quot;2025-08-07T00:00:00.000000000&quot;, &quot;2025-08-14T00:00:00.000000000&quot;, &quot;2025-11-24T00:00:00.000000000&quot;, &quot;2025-12-07T00:00:00.000000000&quot;, &quot;2025-12-15T00:00:00.000000000&quot;, &quot;2026-01-01T00:00:00.000000000&quot;, &quot;2026-01-27T00:00:00.000000000&quot;, &quot;2026-02-06T00:00:00.000000000&quot;, &quot;2026-02-10T00:00:00.000000000&quot;, &quot;2026-03-18T00:00:00.000000000&quot;], &quot;hovertemplate&quot;: &quot;job=job32&lt;br&gt;start=%{base}&lt;br&gt;end=%{x}&lt;br&gt;resource=%{y}&lt;extra&gt;&lt;/extra&gt;&quot;, &quot;legendgroup&quot;: &quot;job32&quot;, &quot;marker&quot;: {&quot;color&quot;: &quot;#00cc96&quot;, &quot;opacity&quot;: 0.5, &quot;pattern&quot;: {&quot;shape&quot;: &quot;&quot;}}, &quot;name&quot;: &quot;job32&quot;, &quot;orientation&quot;: &quot;h&quot;, &quot;showlegend&quot;: true, &quot;textposition&quot;: &quot;auto&quot;, &quot;x&quot;: {&quot;dtype&quot;: &quot;i4&quot;, &quot;bdata&quot;: &quot;ABRzDwC4TAoAhAwkAHCZFACYfzMAhAwkADxZLgBwmRQA4DIpAHCZFAAo5h4AmH8zALhMCgCYfzMAuEwK&quot;}, &quot;xaxis&quot;: &quot;x&quot;, &quot;y&quot;: [&quot;machine6&quot;, &quot;machine10&quot;, &quot;machine12&quot;, &quot;machine14&quot;, &quot;machine13&quot;, &quot;machine2&quot;, &quot;machine1&quot;, &quot;machine8&quot;, &quot;machine9&quot;, &quot;machine0&quot;, &quot;machine4&quot;, &quot;machine5&quot;, &quot;machine3&quot;, &quot;machine7&quot;, &quot;machine11&quot;], &quot;yaxis&quot;: &quot;y&quot;, &quot;type&quot;: &quot;bar&quot;}, {&quot;base&quot;: [&quot;2025-06-25T00:00:00.000000000&quot;, &quot;2025-08-26T00:00:00.000000000&quot;, &quot;2025-09-01T00:00:00.000000000&quot;, &quot;2025-09-05T00:00:00.000000000&quot;, &quot;2025-09-15T00:00:00.000000000&quot;, &quot;2025-09-29T00:00:00.000000000&quot;, &quot;2025-10-12T00:00:00.000000000&quot;, &quot;2025-10-17T00:00:00.000000000&quot;, &quot;2025-11-13T00:00:00.000000000&quot;, &quot;2025-11-24T00:00:00.000000000&quot;, &quot;2025-12-04T00:00:00.000000000&quot;, &quot;2026-01-27T00:00:00.000000000&quot;, &quot;2026-02-04T00:00:00.000000000&quot;, &quot;2026-04-01T00:00:00.000000000&quot;, &quot;2026-04-02T00:00:00.000000000&quot;], &quot;hovertemplate&quot;: &quot;job=job33&lt;br&gt;start=%{base}&lt;br&gt;end=%{x}&lt;br&gt;resource=%{y}&lt;extra&gt;&lt;/extra&gt;&quot;, &quot;legendgroup&quot;: &quot;job33&quot;, &quot;marker&quot;: {&quot;color&quot;: &quot;#ab63fa&quot;, &quot;opacity&quot;: 0.5, &quot;pattern&quot;: {&quot;shape&quot;: &quot;&quot;}}, &quot;name&quot;: &quot;job33&quot;, &quot;orientation&quot;: &quot;h&quot;, &quot;showlegend&quot;: true, &quot;textposition&quot;: &quot;auto&quot;, &quot;x&quot;: {&quot;dtype&quot;: &quot;i4&quot;, &quot;bdata&quot;: &quot;ADxZLgAo5h4AcJkUAHCZFADMvxkAzL8ZAMy/GQA8WS4AhAwkAMy/GQDgMikAKOYeAHCZFABcJgUAzL8Z&quot;}, &quot;xaxis&quot;: &quot;x&quot;, &quot;y&quot;: [&quot;machine6&quot;, &quot;machine3&quot;, &quot;machine9&quot;, &quot;machine2&quot;, &quot;machine1&quot;, &quot;machine10&quot;, &quot;machine11&quot;, &quot;machine0&quot;, &quot;machine4&quot;, &quot;machine14&quot;, &quot;machine7&quot;, &quot;machine8&quot;, &quot;machine13&quot;, &quot;machine5&quot;, &quot;machine12&quot;], &quot;yaxis&quot;: &quot;y&quot;, &quot;type&quot;: &quot;bar&quot;}, {&quot;base&quot;: [&quot;2025-06-19T00:00:00.000000000&quot;, &quot;2025-07-01T00:00:00.000000000&quot;, &quot;2025-08-24T00:00:00.000000000&quot;, &quot;2025-08-31T00:00:00.000000000&quot;, &quot;2025-09-02T00:00:00.000000000&quot;, &quot;2025-10-11T00:00:00.000000000&quot;, &quot;2025-10-18T00:00:00.000000000&quot;, &quot;2025-10-31T00:00:00.000000000&quot;, &quot;2025-12-15T00:00:00.000000000&quot;, &quot;2025-12-25T00:00:00.000000000&quot;, &quot;2026-01-01T00:00:00.000000000&quot;, &quot;2026-02-24T00:00:00.000000000&quot;, &quot;2026-03-09T00:00:00.000000000&quot;, &quot;2026-03-16T00:00:00.000000000&quot;, &quot;2026-03-17T00:00:00.000000000&quot;], &quot;hovertemplate&quot;: &quot;job=job34&lt;br&gt;start=%{base}&lt;br&gt;end=%{x}&lt;br&gt;resource=%{y}&lt;extra&gt;&lt;/extra&gt;&quot;, &quot;legendgroup&quot;: &quot;job34&quot;, &quot;marker&quot;: {&quot;color&quot;: &quot;#FFA15A&quot;, &quot;opacity&quot;: 0.5, &quot;pattern&quot;: {&quot;shape&quot;: &quot;&quot;}}, &quot;name&quot;: &quot;job34&quot;, &quot;orientation&quot;: &quot;h&quot;, &quot;showlegend&quot;: true, &quot;textposition&quot;: &quot;auto&quot;, &quot;x&quot;: {&quot;dtype&quot;: &quot;i4&quot;, &quot;bdata&quot;: &quot;ALhMCgC4TAoAcJkUALhMCgAUcw8AhAwkAHCZFADgMikAmH8zALhMCgCEDCQAPFkuAIQMJABcJgUAFHMP&quot;}, &quot;xaxis&quot;: &quot;x&quot;, &quot;y&quot;: [&quot;machine2&quot;, &quot;machine13&quot;, &quot;machine12&quot;, &quot;machine4&quot;, &quot;machine5&quot;, &quot;machine3&quot;, &quot;machine6&quot;, &quot;machine11&quot;, &quot;machine9&quot;, &quot;machine10&quot;, &quot;machine7&quot;, &quot;machine0&quot;, &quot;machine1&quot;, &quot;machine8&quot;, &quot;machine14&quot;], &quot;yaxis&quot;: &quot;y&quot;, &quot;type&quot;: &quot;bar&quot;}, {&quot;base&quot;: [&quot;2025-06-19T00:00:00.000000000&quot;, &quot;2025-07-30T00:00:00.000000000&quot;, &quot;2025-08-31T00:00:00.000000000&quot;, &quot;2025-09-20T00:00:00.000000000&quot;, &quot;2025-10-22T00:00:00.000000000&quot;, &quot;2025-10-31T00:00:00.000000000&quot;, &quot;2025-11-05T00:00:00.000000000&quot;, &quot;2025-12-22T00:00:00.000000000&quot;, &quot;2026-01-09T00:00:00.000000000&quot;, &quot;2026-01-11T00:00:00.000000000&quot;, &quot;2026-01-21T00:00:00.000000000&quot;, &quot;2026-02-15T00:00:00.000000000&quot;, &quot;2026-02-19T00:00:00.000000000&quot;, &quot;2026-02-26T00:00:00.000000000&quot;, &quot;2026-03-05T00:00:00.000000000&quot;], &quot;hovertemplate&quot;: &quot;job=job35&lt;br&gt;start=%{base}&lt;br&gt;end=%{x}&lt;br&gt;resource=%{y}&lt;extra&gt;&lt;/extra&gt;&quot;, &quot;legendgroup&quot;: &quot;job35&quot;, &quot;marker&quot;: {&quot;color&quot;: &quot;#19d3f3&quot;, &quot;opacity&quot;: 0.5, &quot;pattern&quot;: {&quot;shape&quot;: &quot;&quot;}}, &quot;name&quot;: &quot;job35&quot;, &quot;orientation&quot;: &quot;h&quot;, &quot;showlegend&quot;: true, &quot;textposition&quot;: &quot;auto&quot;, &quot;x&quot;: {&quot;dtype&quot;: &quot;i4&quot;, &quot;bdata&quot;: &quot;AOAyKQA8WS4AmH8zAOAyKQA8WS4AzL8ZAMy/GQBwmRQAXCYFALhMCgCYfzMAuEwKABRzDwCEDCQAcJkU&quot;}, &quot;xaxis&quot;: &quot;x&quot;, &quot;y&quot;: [&quot;machine13&quot;, &quot;machine12&quot;, &quot;machine8&quot;, &quot;machine1&quot;, &quot;machine11&quot;, &quot;machine10&quot;, &quot;machine0&quot;, &quot;machine6&quot;, &quot;machine9&quot;, &quot;machine5&quot;, &quot;machine4&quot;, &quot;machine2&quot;, &quot;machine14&quot;, &quot;machine7&quot;, &quot;machine3&quot;], &quot;yaxis&quot;: &quot;y&quot;, &quot;type&quot;: &quot;bar&quot;}, {&quot;base&quot;: [&quot;2025-06-27T00:00:00.000000000&quot;, &quot;2025-07-14T00:00:00.000000000&quot;, &quot;2025-07-24T00:00:00.000000000&quot;, &quot;2025-07-30T00:00:00.000000000&quot;, &quot;2025-08-03T00:00:00.000000000&quot;, &quot;2025-10-05T00:00:00.000000000&quot;, &quot;2025-10-10T00:00:00.000000000&quot;, &quot;2025-10-14T00:00:00.000000000&quot;, &quot;2025-10-28T00:00:00.000000000&quot;, &quot;2025-11-06T00:00:00.000000000&quot;, &quot;2025-11-15T00:00:00.000000000&quot;, &quot;2025-11-20T00:00:00.000000000&quot;, &quot;2025-11-28T00:00:00.000000000&quot;, &quot;2026-02-16T00:00:00.000000000&quot;, &quot;2026-02-22T00:00:00.000000000&quot;], &quot;hovertemplate&quot;: &quot;job=job36&lt;br&gt;start=%{base}&lt;br&gt;end=%{x}&lt;br&gt;resource=%{y}&lt;extra&gt;&lt;/extra&gt;&quot;, &quot;legendgroup&quot;: &quot;job36&quot;, &quot;marker&quot;: {&quot;color&quot;: &quot;#FF6692&quot;, &quot;opacity&quot;: 0.5, &quot;pattern&quot;: {&quot;shape&quot;: &quot;&quot;}}, &quot;name&quot;: &quot;job36&quot;, &quot;orientation&quot;: &quot;h&quot;, &quot;showlegend&quot;: true, &quot;textposition&quot;: &quot;auto&quot;, &quot;x&quot;: {&quot;dtype&quot;: &quot;i4&quot;, &quot;bdata&quot;: &quot;ALhMCgCYfzMAKOYeAHCZFAA8WS4AzL8ZAHCZFABwmRQAuEwKADxZLgDMvxkAKOYeAHCZFAAo5h4A4DIp&quot;}, &quot;xaxis&quot;: &quot;x&quot;, &quot;y&quot;: [&quot;machine13&quot;, &quot;machine1&quot;, &quot;machine2&quot;, &quot;machine14&quot;, &quot;machine5&quot;, &quot;machine12&quot;, &quot;machine7&quot;, &quot;machine6&quot;, &quot;machine9&quot;, &quot;machine8&quot;, &quot;machine0&quot;, &quot;machine10&quot;, &quot;machine11&quot;, &quot;machine4&quot;, &quot;machine3&quot;], &quot;yaxis&quot;: &quot;y&quot;, &quot;type&quot;: &quot;bar&quot;}, {&quot;base&quot;: [&quot;2025-06-19T00:00:00.000000000&quot;, &quot;2025-06-25T00:00:00.000000000&quot;, &quot;2025-08-19T00:00:00.000000000&quot;, &quot;2025-08-23T00:00:00.000000000&quot;, &quot;2025-08-26T00:00:00.000000000&quot;, &quot;2025-09-04T00:00:00.000000000&quot;, &quot;2025-09-29T00:00:00.000000000&quot;, &quot;2025-11-23T00:00:00.000000000&quot;, &quot;2025-11-28T00:00:00.000000000&quot;, &quot;2025-12-02T00:00:00.000000000&quot;, &quot;2025-12-11T00:00:00.000000000&quot;, &quot;2025-12-15T00:00:00.000000000&quot;, &quot;2025-12-22T00:00:00.000000000&quot;, &quot;2026-02-02T00:00:00.000000000&quot;, &quot;2026-03-17T00:00:00.000000000&quot;], &quot;hovertemplate&quot;: &quot;job=job37&lt;br&gt;start=%{base}&lt;br&gt;end=%{x}&lt;br&gt;resource=%{y}&lt;extra&gt;&lt;/extra&gt;&quot;, &quot;legendgroup&quot;: &quot;job37&quot;, &quot;marker&quot;: {&quot;color&quot;: &quot;#B6E880&quot;, &quot;opacity&quot;: 0.5, &quot;pattern&quot;: {&quot;shape&quot;: &quot;&quot;}}, &quot;name&quot;: &quot;job37&quot;, &quot;orientation&quot;: &quot;h&quot;, &quot;showlegend&quot;: true, &quot;textposition&quot;: &quot;auto&quot;, &quot;x&quot;: {&quot;dtype&quot;: &quot;i4&quot;, &quot;bdata&quot;: &quot;ABRzDwA8WS4AuEwKABRzDwBwmRQA4DIpAJh/MwBwmRQAcJkUABRzDwBwmRQAhAwkACjmHgCYfzMAmH8z&quot;}, &quot;xaxis&quot;: &quot;x&quot;, &quot;y&quot;: [&quot;machine6&quot;, &quot;machine7&quot;, &quot;machine3&quot;, &quot;machine1&quot;, &quot;machine10&quot;, &quot;machine14&quot;, &quot;machine11&quot;, &quot;machine5&quot;, &quot;machine13&quot;, &quot;machine8&quot;, &quot;machine0&quot;, &quot;machine12&quot;, &quot;machine2&quot;, &quot;machine9&quot;, &quot;machine4&quot;], &quot;yaxis&quot;: &quot;y&quot;, &quot;type&quot;: &quot;bar&quot;}, {&quot;base&quot;: [&quot;2025-06-29T00:00:00.000000000&quot;, &quot;2025-07-07T00:00:00.000000000&quot;, &quot;2025-08-15T00:00:00.000000000&quot;, &quot;2025-09-04T00:00:00.000000000&quot;, &quot;2025-10-04T00:00:00.000000000&quot;, &quot;2025-10-06T00:00:00.000000000&quot;, &quot;2025-10-31T00:00:00.000000000&quot;, &quot;2025-11-27T00:00:00.000000000&quot;, &quot;2025-12-07T00:00:00.000000000&quot;, &quot;2025-12-19T00:00:00.000000000&quot;, &quot;2026-01-13T00:00:00.000000000&quot;, &quot;2026-01-20T00:00:00.000000000&quot;, &quot;2026-01-27T00:00:00.000000000&quot;, &quot;2026-03-27T00:00:00.000000000&quot;, &quot;2026-03-28T00:00:00.000000000&quot;], &quot;hovertemplate&quot;: &quot;job=job38&lt;br&gt;start=%{base}&lt;br&gt;end=%{x}&lt;br&gt;resource=%{y}&lt;extra&gt;&lt;/extra&gt;&quot;, &quot;legendgroup&quot;: &quot;job38&quot;, &quot;marker&quot;: {&quot;color&quot;: &quot;#FF97FF&quot;, &quot;opacity&quot;: 0.5, &quot;pattern&quot;: {&quot;shape&quot;: &quot;&quot;}}, &quot;name&quot;: &quot;job38&quot;, &quot;orientation&quot;: &quot;h&quot;, &quot;showlegend&quot;: true, &quot;textposition&quot;: &quot;auto&quot;, &quot;x&quot;: {&quot;dtype&quot;: &quot;i4&quot;, &quot;bdata&quot;: &quot;AOAyKQDgMikAPFkuACjmHgC4TAoAzL8ZABRzDwCYfzMAhAwkAHCZFAAo5h4AzL8ZAIQMJABcJgUAcJkU&quot;}, &quot;xaxis&quot;: &quot;x&quot;, &quot;y&quot;: [&quot;machine11&quot;, &quot;machine4&quot;, &quot;machine12&quot;, &quot;machine13&quot;, &quot;machine14&quot;, &quot;machine6&quot;, &quot;machine3&quot;, &quot;machine5&quot;, &quot;machine8&quot;, &quot;machine0&quot;, &quot;machine9&quot;, &quot;machine1&quot;, &quot;machine7&quot;, &quot;machine10&quot;, &quot;machine2&quot;], &quot;yaxis&quot;: &quot;y&quot;, &quot;type&quot;: &quot;bar&quot;}, {&quot;base&quot;: [&quot;2025-09-10T00:00:00.000000000&quot;, &quot;2025-09-28T00:00:00.000000000&quot;, &quot;2025-10-24T00:00:00.000000000&quot;, &quot;2025-10-30T00:00:00.000000000&quot;, &quot;2025-11-13T00:00:00.000000000&quot;, &quot;2026-01-05T00:00:00.000000000&quot;, &quot;2026-01-27T00:00:00.000000000&quot;, &quot;2026-02-05T00:00:00.000000000&quot;, &quot;2026-02-25T00:00:00.000000000&quot;, &quot;2026-02-27T00:00:00.000000000&quot;, &quot;2026-03-03T00:00:00.000000000&quot;, &quot;2026-03-09T00:00:00.000000000&quot;, &quot;2026-03-10T00:00:00.000000000&quot;, &quot;2026-03-26T00:00:00.000000000&quot;, &quot;2026-04-10T00:00:00.000000000&quot;], &quot;hovertemplate&quot;: &quot;job=job39&lt;br&gt;start=%{base}&lt;br&gt;end=%{x}&lt;br&gt;resource=%{y}&lt;extra&gt;&lt;/extra&gt;&quot;, &quot;legendgroup&quot;: &quot;job39&quot;, &quot;marker&quot;: {&quot;color&quot;: &quot;#FECB52&quot;, &quot;opacity&quot;: 0.5, &quot;pattern&quot;: {&quot;shape&quot;: &quot;&quot;}}, &quot;name&quot;: &quot;job39&quot;, &quot;orientation&quot;: &quot;h&quot;, &quot;showlegend&quot;: true, &quot;textposition&quot;: &quot;auto&quot;, &quot;x&quot;: {&quot;dtype&quot;: &quot;i4&quot;, &quot;bdata&quot;: &quot;AJh/MwA8WS4AXCYFABRzDwAo5h4AXCYFAOAyKQBcJgUAXCYFAHCZFABcJgUAXCYFAHCZFAAo5h4AuEwK&quot;}, &quot;xaxis&quot;: &quot;x&quot;, &quot;y&quot;: [&quot;machine8&quot;, &quot;machine4&quot;, &quot;machine14&quot;, &quot;machine9&quot;, &quot;machine1&quot;, &quot;machine6&quot;, &quot;machine2&quot;, &quot;machine10&quot;, &quot;machine7&quot;, &quot;machine13&quot;, &quot;machine3&quot;, &quot;machine12&quot;, &quot;machine11&quot;, &quot;machine5&quot;, &quot;machine0&quot;], &quot;yaxis&quot;: &quot;y&quot;, &quot;type&quot;: &quot;bar&quot;}, {&quot;base&quot;: [&quot;2025-07-07T00:00:00.000000000&quot;, &quot;2025-08-08T00:00:00.000000000&quot;, &quot;2025-08-15T00:00:00.000000000&quot;, &quot;2025-08-16T00:00:00.000000000&quot;, &quot;2025-08-26T00:00:00.000000000&quot;, &quot;2025-09-06T00:00:00.000000000&quot;, &quot;2025-11-15T00:00:00.000000000&quot;, &quot;2025-11-26T00:00:00.000000000&quot;, &quot;2026-01-03T00:00:00.000000000&quot;, &quot;2026-01-07T00:00:00.000000000&quot;, &quot;2026-02-07T00:00:00.000000000&quot;, &quot;2026-02-15T00:00:00.000000000&quot;, &quot;2026-03-19T00:00:00.000000000&quot;, &quot;2026-04-07T00:00:00.000000000&quot;, &quot;2026-04-10T00:00:00.000000000&quot;], &quot;hovertemplate&quot;: &quot;job=job40&lt;br&gt;start=%{base}&lt;br&gt;end=%{x}&lt;br&gt;resource=%{y}&lt;extra&gt;&lt;/extra&gt;&quot;, &quot;legendgroup&quot;: &quot;job40&quot;, &quot;marker&quot;: {&quot;color&quot;: &quot;#636efa&quot;, &quot;opacity&quot;: 0.5, &quot;pattern&quot;: {&quot;shape&quot;: &quot;&quot;}}, &quot;name&quot;: &quot;job40&quot;, &quot;orientation&quot;: &quot;h&quot;, &quot;showlegend&quot;: true, &quot;textposition&quot;: &quot;auto&quot;, &quot;x&quot;: {&quot;dtype&quot;: &quot;i4&quot;, &quot;bdata&quot;: &quot;AIQMJACEDCQAXCYFAIQMJADMvxkAPFkuADxZLgDgMikAXCYFAJh/MwC4TAoAhAwkAIQMJAAUcw8AXCYF&quot;}, &quot;xaxis&quot;: &quot;x&quot;, &quot;y&quot;: [&quot;machine11&quot;, &quot;machine12&quot;, &quot;machine14&quot;, &quot;machine4&quot;, &quot;machine9&quot;, &quot;machine1&quot;, &quot;machine8&quot;, &quot;machine7&quot;, &quot;machine3&quot;, &quot;machine2&quot;, &quot;machine6&quot;, &quot;machine10&quot;, &quot;machine5&quot;, &quot;machine0&quot;, &quot;machine13&quot;], &quot;yaxis&quot;: &quot;y&quot;, &quot;type&quot;: &quot;bar&quot;}, {&quot;base&quot;: [&quot;2025-06-23T00:00:00.000000000&quot;, &quot;2025-07-23T00:00:00.000000000&quot;, &quot;2025-09-01T00:00:00.000000000&quot;, &quot;2025-09-11T00:00:00.000000000&quot;, &quot;2025-09-14T00:00:00.000000000&quot;, &quot;2025-09-24T00:00:00.000000000&quot;, &quot;2025-11-08T00:00:00.000000000&quot;, &quot;2025-12-23T00:00:00.000000000&quot;, &quot;2026-01-10T00:00:00.000000000&quot;, &quot;2026-01-20T00:00:00.000000000&quot;, &quot;2026-01-26T00:00:00.000000000&quot;, &quot;2026-03-11T00:00:00.000000000&quot;, &quot;2026-03-17T00:00:00.000000000&quot;, &quot;2026-03-24T00:00:00.000000000&quot;, &quot;2026-03-25T00:00:00.000000000&quot;], &quot;hovertemplate&quot;: &quot;job=job41&lt;br&gt;start=%{base}&lt;br&gt;end=%{x}&lt;br&gt;resource=%{y}&lt;extra&gt;&lt;/extra&gt;&quot;, &quot;legendgroup&quot;: &quot;job41&quot;, &quot;marker&quot;: {&quot;color&quot;: &quot;#EF553B&quot;, &quot;opacity&quot;: 0.5, &quot;pattern&quot;: {&quot;shape&quot;: &quot;&quot;}}, &quot;name&quot;: &quot;job41&quot;, &quot;orientation&quot;: &quot;h&quot;, &quot;showlegend&quot;: true, &quot;textposition&quot;: &quot;auto&quot;, &quot;x&quot;: {&quot;dtype&quot;: &quot;i4&quot;, &quot;bdata&quot;: &quot;ALhMCgCEDCQAmH8zALhMCgCYfzMA4DIpABRzDwCYfzMAmH8zAFwmBQDMvxkAKOYeAIQMJABcJgUAXCYF&quot;}, &quot;xaxis&quot;: &quot;x&quot;, &quot;y&quot;: [&quot;machine4&quot;, &quot;machine12&quot;, &quot;machine3&quot;, &quot;machine0&quot;, &quot;machine7&quot;, &quot;machine6&quot;, &quot;machine11&quot;, &quot;machine5&quot;, &quot;machine1&quot;, &quot;machine13&quot;, &quot;machine14&quot;, &quot;machine10&quot;, &quot;machine9&quot;, &quot;machine2&quot;, &quot;machine8&quot;], &quot;yaxis&quot;: &quot;y&quot;, &quot;type&quot;: &quot;bar&quot;}, {&quot;base&quot;: [&quot;2025-06-19T00:00:00.000000000&quot;, &quot;2025-07-02T00:00:00.000000000&quot;, &quot;2025-07-29T00:00:00.000000000&quot;, &quot;2025-07-30T00:00:00.000000000&quot;, &quot;2025-08-12T00:00:00.000000000&quot;, &quot;2025-08-21T00:00:00.000000000&quot;, &quot;2025-09-14T00:00:00.000000000&quot;, &quot;2025-10-23T00:00:00.000000000&quot;, &quot;2025-10-31T00:00:00.000000000&quot;, &quot;2025-11-15T00:00:00.000000000&quot;, &quot;2025-11-26T00:00:00.000000000&quot;, &quot;2025-12-09T00:00:00.000000000&quot;, &quot;2025-12-18T00:00:00.000000000&quot;, &quot;2025-12-23T00:00:00.000000000&quot;, &quot;2025-12-24T00:00:00.000000000&quot;], &quot;hovertemplate&quot;: &quot;job=job42&lt;br&gt;start=%{base}&lt;br&gt;end=%{x}&lt;br&gt;resource=%{y}&lt;extra&gt;&lt;/extra&gt;&quot;, &quot;legendgroup&quot;: &quot;job42&quot;, &quot;marker&quot;: {&quot;color&quot;: &quot;#00cc96&quot;, &quot;opacity&quot;: 0.5, &quot;pattern&quot;: {&quot;shape&quot;: &quot;&quot;}}, &quot;name&quot;: &quot;job42&quot;, &quot;orientation&quot;: &quot;h&quot;, &quot;showlegend&quot;: true, &quot;textposition&quot;: &quot;auto&quot;, &quot;x&quot;: {&quot;dtype&quot;: &quot;i4&quot;, &quot;bdata&quot;: &quot;AOAyKQCEDCQAXCYFAMy/GQA8WS4AzL8ZADxZLgDgMikAXCYFADxZLgCYfzMAPFkuAMy/GQBcJgUA4DIp&quot;}, &quot;xaxis&quot;: &quot;x&quot;, &quot;y&quot;: [&quot;machine0&quot;, &quot;machine12&quot;, &quot;machine6&quot;, &quot;machine8&quot;, &quot;machine13&quot;, &quot;machine9&quot;, &quot;machine11&quot;, &quot;machine3&quot;, &quot;machine14&quot;, &quot;machine2&quot;, &quot;machine10&quot;, &quot;machine4&quot;, &quot;machine5&quot;, &quot;machine1&quot;, &quot;machine7&quot;], &quot;yaxis&quot;: &quot;y&quot;, &quot;type&quot;: &quot;bar&quot;}, {&quot;base&quot;: [&quot;2025-06-19T00:00:00.000000000&quot;, &quot;2025-06-23T00:00:00.000000000&quot;, &quot;2025-07-05T00:00:00.000000000&quot;, &quot;2025-07-19T00:00:00.000000000&quot;, &quot;2025-07-29T00:00:00.000000000&quot;, &quot;2025-09-24T00:00:00.000000000&quot;, &quot;2025-09-30T00:00:00.000000000&quot;, &quot;2025-10-05T00:00:00.000000000&quot;, &quot;2025-10-07T00:00:00.000000000&quot;, &quot;2025-11-02T00:00:00.000000000&quot;, &quot;2026-01-07T00:00:00.000000000&quot;, &quot;2026-01-16T00:00:00.000000000&quot;, &quot;2026-02-02T00:00:00.000000000&quot;, &quot;2026-02-20T00:00:00.000000000&quot;, &quot;2026-03-01T00:00:00.000000000&quot;], &quot;hovertemplate&quot;: &quot;job=job43&lt;br&gt;start=%{base}&lt;br&gt;end=%{x}&lt;br&gt;resource=%{y}&lt;extra&gt;&lt;/extra&gt;&quot;, &quot;legendgroup&quot;: &quot;job43&quot;, &quot;marker&quot;: {&quot;color&quot;: &quot;#ab63fa&quot;, &quot;opacity&quot;: 0.5, &quot;pattern&quot;: {&quot;shape&quot;: &quot;&quot;}}, &quot;name&quot;: &quot;job43&quot;, &quot;orientation&quot;: &quot;h&quot;, &quot;showlegend&quot;: true, &quot;textposition&quot;: &quot;auto&quot;, &quot;x&quot;: {&quot;dtype&quot;: &quot;i4&quot;, &quot;bdata&quot;: &quot;AHCZFAA8WS4APFkuACjmHgCEDCQAzL8ZAHCZFAC4TAoAmH8zACjmHgBwmRQAmH8zADxZLgAo5h4AFHMP&quot;}, &quot;xaxis&quot;: &quot;x&quot;, &quot;y&quot;: [&quot;machine4&quot;, &quot;machine12&quot;, &quot;machine3&quot;, &quot;machine13&quot;, &quot;machine9&quot;, &quot;machine10&quot;, &quot;machine2&quot;, &quot;machine8&quot;, &quot;machine0&quot;, &quot;machine7&quot;, &quot;machine5&quot;, &quot;machine14&quot;, &quot;machine1&quot;, &quot;machine11&quot;, &quot;machine6&quot;], &quot;yaxis&quot;: &quot;y&quot;, &quot;type&quot;: &quot;bar&quot;}, {&quot;base&quot;: [&quot;2025-06-27T00:00:00.000000000&quot;, &quot;2025-08-09T00:00:00.000000000&quot;, &quot;2025-08-26T00:00:00.000000000&quot;, &quot;2025-09-02T00:00:00.000000000&quot;, &quot;2025-10-09T00:00:00.000000000&quot;, &quot;2025-10-11T00:00:00.000000000&quot;, &quot;2025-10-14T00:00:00.000000000&quot;, &quot;2025-11-05T00:00:00.000000000&quot;, &quot;2025-11-06T00:00:00.000000000&quot;, &quot;2025-11-14T00:00:00.000000000&quot;, &quot;2025-11-20T00:00:00.000000000&quot;, &quot;2025-12-16T00:00:00.000000000&quot;, &quot;2026-02-04T00:00:00.000000000&quot;, &quot;2026-02-14T00:00:00.000000000&quot;, &quot;2026-02-22T00:00:00.000000000&quot;], &quot;hovertemplate&quot;: &quot;job=job44&lt;br&gt;start=%{base}&lt;br&gt;end=%{x}&lt;br&gt;resource=%{y}&lt;extra&gt;&lt;/extra&gt;&quot;, &quot;legendgroup&quot;: &quot;job44&quot;, &quot;marker&quot;: {&quot;color&quot;: &quot;#FFA15A&quot;, &quot;opacity&quot;: 0.5, &quot;pattern&quot;: {&quot;shape&quot;: &quot;&quot;}}, &quot;name&quot;: &quot;job44&quot;, &quot;orientation&quot;: &quot;h&quot;, &quot;showlegend&quot;: true, &quot;textposition&quot;: &quot;auto&quot;, &quot;x&quot;: {&quot;dtype&quot;: &quot;i4&quot;, &quot;bdata&quot;: &quot;AIQMJACYfzMAhAwkABRzDwBcJgUAFHMPAJh/MwBcJgUA4DIpABRzDwAo5h4AXCYFAOAyKQDMvxkAmH8z&quot;}, &quot;xaxis&quot;: &quot;x&quot;, &quot;y&quot;: [&quot;machine8&quot;, &quot;machine3&quot;, &quot;machine1&quot;, &quot;machine4&quot;, &quot;machine11&quot;, &quot;machine6&quot;, &quot;machine7&quot;, &quot;machine12&quot;, &quot;machine10&quot;, &quot;machine9&quot;, &quot;machine0&quot;, &quot;machine5&quot;, &quot;machine2&quot;, &quot;machine13&quot;, &quot;machine14&quot;], &quot;yaxis&quot;: &quot;y&quot;, &quot;type&quot;: &quot;bar&quot;}], &quot;layout&quot;: {&quot;template&quot;: {&quot;data&quot;: {&quot;histogram2dcontour&quot;: [{&quot;type&quot;: &quot;histogram2dcontour&quot;, &quot;colorbar&quot;: {&quot;outlinewidth&quot;: 0, &quot;ticks&quot;: &quot;&quot;}, &quot;colorscale&quot;: [[0.0, &quot;#0d0887&quot;], [0.1111111111111111, &quot;#46039f&quot;], [0.2222222222222222, &quot;#7201a8&quot;], [0.3333333333333333, &quot;#9c179e&quot;], [0.4444444444444444, &quot;#bd3786&quot;], [0.5555555555555556, &quot;#d8576b&quot;], [0.6666666666666666, &quot;#ed7953&quot;], [0.7777777777777778, &quot;#fb9f3a&quot;], [0.8888888888888888, &quot;#fdca26&quot;], [1.0, &quot;#f0f921&quot;]]}], &quot;choropleth&quot;: [{&quot;type&quot;: &quot;choropleth&quot;, &quot;colorbar&quot;: {&quot;outlinewidth&quot;: 0, &quot;ticks&quot;: &quot;&quot;}}], &quot;histogram2d&quot;: [{&quot;type&quot;: &quot;histogram2d&quot;, &quot;colorbar&quot;: {&quot;outlinewidth&quot;: 0, &quot;ticks&quot;: &quot;&quot;}, &quot;colorscale&quot;: [[0.0, &quot;#0d0887&quot;], [0.1111111111111111, &quot;#46039f&quot;], [0.2222222222222222, &quot;#7201a8&quot;], [0.3333333333333333, &quot;#9c179e&quot;], [0.4444444444444444, &quot;#bd3786&quot;], [0.5555555555555556, &quot;#d8576b&quot;], [0.6666666666666666, &quot;#ed7953&quot;], [0.7777777777777778, &quot;#fb9f3a&quot;], [0.8888888888888888, &quot;#fdca26&quot;], [1.0, &quot;#f0f921&quot;]]}], &quot;heatmap&quot;: [{&quot;type&quot;: &quot;heatmap&quot;, &quot;colorbar&quot;: {&quot;outlinewidth&quot;: 0, &quot;ticks&quot;: &quot;&quot;}, &quot;colorscale&quot;: [[0.0, &quot;#0d0887&quot;], [0.1111111111111111, &quot;#46039f&quot;], [0.2222222222222222, &quot;#7201a8&quot;], [0.3333333333333333, &quot;#9c179e&quot;], [0.4444444444444444, &quot;#bd3786&quot;], [0.5555555555555556, &quot;#d8576b&quot;], [0.6666666666666666, &quot;#ed7953&quot;], [0.7777777777777778, &quot;#fb9f3a&quot;], [0.8888888888888888, &quot;#fdca26&quot;], [1.0, &quot;#f0f921&quot;]]}], &quot;contourcarpet&quot;: [{&quot;type&quot;: &quot;contourcarpet&quot;, &quot;colorbar&quot;: {&quot;outlinewidth&quot;: 0, &quot;ticks&quot;: &quot;&quot;}}], &quot;contour&quot;: [{&quot;type&quot;: &quot;contour&quot;, &quot;colorbar&quot;: {&quot;outlinewidth&quot;: 0, &quot;ticks&quot;: &quot;&quot;}, &quot;colorscale&quot;: [[0.0, &quot;#0d0887&quot;], [0.1111111111111111, &quot;#46039f&quot;], [0.2222222222222222, &quot;#7201a8&quot;], [0.3333333333333333, &quot;#9c179e&quot;], [0.4444444444444444, &quot;#bd3786&quot;], [0.5555555555555556, &quot;#d8576b&quot;], [0.6666666666666666, &quot;#ed7953&quot;], [0.7777777777777778, &quot;#fb9f3a&quot;], [0.8888888888888888, &quot;#fdca26&quot;], [1.0, &quot;#f0f921&quot;]]}], &quot;surface&quot;: [{&quot;type&quot;: &quot;surface&quot;, &quot;colorbar&quot;: {&quot;outlinewidth&quot;: 0, &quot;ticks&quot;: &quot;&quot;}, &quot;colorscale&quot;: [[0.0, &quot;#0d0887&quot;], [0.1111111111111111, &quot;#46039f&quot;], [0.2222222222222222, &quot;#7201a8&quot;], [0.3333333333333333, &quot;#9c179e&quot;], [0.4444444444444444, &quot;#bd3786&quot;], [0.5555555555555556, &quot;#d8576b&quot;], [0.6666666666666666, &quot;#ed7953&quot;], [0.7777777777777778, &quot;#fb9f3a&quot;], [0.8888888888888888, &quot;#fdca26&quot;], [1.0, &quot;#f0f921&quot;]]}], &quot;mesh3d&quot;: [{&quot;type&quot;: &quot;mesh3d&quot;, &quot;colorbar&quot;: {&quot;outlinewidth&quot;: 0, &quot;ticks&quot;: &quot;&quot;}}], &quot;scatter&quot;: [{&quot;fillpattern&quot;: {&quot;fillmode&quot;: &quot;overlay&quot;, &quot;size&quot;: 10, &quot;solidity&quot;: 0.2}, &quot;type&quot;: &quot;scatter&quot;}], &quot;parcoords&quot;: [{&quot;type&quot;: &quot;parcoords&quot;, &quot;line&quot;: {&quot;colorbar&quot;: {&quot;outlinewidth&quot;: 0, &quot;ticks&quot;: &quot;&quot;}}}], &quot;scatterpolargl&quot;: [{&quot;type&quot;: &quot;scatterpolargl&quot;, &quot;marker&quot;: {&quot;colorbar&quot;: {&quot;outlinewidth&quot;: 0, &quot;ticks&quot;: &quot;&quot;}}}], &quot;bar&quot;: [{&quot;error_x&quot;: {&quot;color&quot;: &quot;#2a3f5f&quot;}, &quot;error_y&quot;: {&quot;color&quot;: &quot;#2a3f5f&quot;}, &quot;marker&quot;: {&quot;line&quot;: {&quot;color&quot;: &quot;#E5ECF6&quot;, &quot;width&quot;: 0.5}, &quot;pattern&quot;: {&quot;fillmode&quot;: &quot;overlay&quot;, &quot;size&quot;: 10, &quot;solidity&quot;: 0.2}}, &quot;type&quot;: &quot;bar&quot;}], &quot;scattergeo&quot;: [{&quot;type&quot;: &quot;scattergeo&quot;, &quot;marker&quot;: {&quot;colorbar&quot;: {&quot;outlinewidth&quot;: 0, &quot;ticks&quot;: &quot;&quot;}}}], &quot;scatterpolar&quot;: [{&quot;type&quot;: &quot;scatterpolar&quot;, &quot;marker&quot;: {&quot;colorbar&quot;: {&quot;outlinewidth&quot;: 0, &quot;ticks&quot;: &quot;&quot;}}}], &quot;histogram&quot;: [{&quot;marker&quot;: {&quot;pattern&quot;: {&quot;fillmode&quot;: &quot;overlay&quot;, &quot;size&quot;: 10, &quot;solidity&quot;: 0.2}}, &quot;type&quot;: &quot;histogram&quot;}], &quot;scattergl&quot;: [{&quot;type&quot;: &quot;scattergl&quot;, &quot;marker&quot;: {&quot;colorbar&quot;: {&quot;outlinewidth&quot;: 0, &quot;ticks&quot;: &quot;&quot;}}}], &quot;scatter3d&quot;: [{&quot;type&quot;: &quot;scatter3d&quot;, &quot;line&quot;: {&quot;colorbar&quot;: {&quot;outlinewidth&quot;: 0, &quot;ticks&quot;: &quot;&quot;}}, &quot;marker&quot;: {&quot;colorbar&quot;: {&quot;outlinewidth&quot;: 0, &quot;ticks&quot;: &quot;&quot;}}}], &quot;scattermap&quot;: [{&quot;type&quot;: &quot;scattermap&quot;, &quot;marker&quot;: {&quot;colorbar&quot;: {&quot;outlinewidth&quot;: 0, &quot;ticks&quot;: &quot;&quot;}}}], &quot;scattermapbox&quot;: [{&quot;type&quot;: &quot;scattermapbox&quot;, &quot;marker&quot;: {&quot;colorbar&quot;: {&quot;outlinewidth&quot;: 0, &quot;ticks&quot;: &quot;&quot;}}}], &quot;scatterternary&quot;: [{&quot;type&quot;: &quot;scatterternary&quot;, &quot;marker&quot;: {&quot;colorbar&quot;: {&quot;outlinewidth&quot;: 0, &quot;ticks&quot;: &quot;&quot;}}}], &quot;scattercarpet&quot;: [{&quot;type&quot;: &quot;scattercarpet&quot;, &quot;marker&quot;: {&quot;colorbar&quot;: {&quot;outlinewidth&quot;: 0, &quot;ticks&quot;: &quot;&quot;}}}], &quot;carpet&quot;: [{&quot;aaxis&quot;: {&quot;endlinecolor&quot;: &quot;#2a3f5f&quot;, &quot;gridcolor&quot;: &quot;white&quot;, &quot;linecolor&quot;: &quot;white&quot;, &quot;minorgridcolor&quot;: &quot;white&quot;, &quot;startlinecolor&quot;: &quot;#2a3f5f&quot;}, &quot;baxis&quot;: {&quot;endlinecolor&quot;: &quot;#2a3f5f&quot;, &quot;gridcolor&quot;: &quot;white&quot;, &quot;linecolor&quot;: &quot;white&quot;, &quot;minorgridcolor&quot;: &quot;white&quot;, &quot;startlinecolor&quot;: &quot;#2a3f5f&quot;}, &quot;type&quot;: &quot;carpet&quot;}], &quot;table&quot;: [{&quot;cells&quot;: {&quot;fill&quot;: {&quot;color&quot;: &quot;#EBF0F8&quot;}, &quot;line&quot;: {&quot;color&quot;: &quot;white&quot;}}, &quot;header&quot;: {&quot;fill&quot;: {&quot;color&quot;: &quot;#C8D4E3&quot;}, &quot;line&quot;: {&quot;color&quot;: &quot;white&quot;}}, &quot;type&quot;: &quot;table&quot;}], &quot;barpolar&quot;: [{&quot;marker&quot;: {&quot;line&quot;: {&quot;color&quot;: &quot;#E5ECF6&quot;, &quot;width&quot;: 0.5}, &quot;pattern&quot;: {&quot;fillmode&quot;: &quot;overlay&quot;, &quot;size&quot;: 10, &quot;solidity&quot;: 0.2}}, &quot;type&quot;: &quot;barpolar&quot;}], &quot;pie&quot;: [{&quot;automargin&quot;: true, &quot;type&quot;: &quot;pie&quot;}]}, &quot;layout&quot;: {&quot;autotypenumbers&quot;: &quot;strict&quot;, &quot;colorway&quot;: [&quot;#636efa&quot;, &quot;#EF553B&quot;, &quot;#00cc96&quot;, &quot;#ab63fa&quot;, &quot;#FFA15A&quot;, &quot;#19d3f3&quot;, &quot;#FF6692&quot;, &quot;#B6E880&quot;, &quot;#FF97FF&quot;, &quot;#FECB52&quot;], &quot;font&quot;: {&quot;color&quot;: &quot;#2a3f5f&quot;}, &quot;hovermode&quot;: &quot;closest&quot;, &quot;hoverlabel&quot;: {&quot;align&quot;: &quot;left&quot;}, &quot;paper_bgcolor&quot;: &quot;white&quot;, &quot;plot_bgcolor&quot;: &quot;#E5ECF6&quot;, &quot;polar&quot;: {&quot;bgcolor&quot;: &quot;#E5ECF6&quot;, &quot;angularaxis&quot;: {&quot;gridcolor&quot;: &quot;white&quot;, &quot;linecolor&quot;: &quot;white&quot;, &quot;ticks&quot;: &quot;&quot;}, &quot;radialaxis&quot;: {&quot;gridcolor&quot;: &quot;white&quot;, &quot;linecolor&quot;: &quot;white&quot;, &quot;ticks&quot;: &quot;&quot;}}, &quot;ternary&quot;: {&quot;bgcolor&quot;: &quot;#E5ECF6&quot;, &quot;aaxis&quot;: {&quot;gridcolor&quot;: &quot;white&quot;, &quot;linecolor&quot;: &quot;white&quot;, &quot;ticks&quot;: &quot;&quot;}, &quot;baxis&quot;: {&quot;gridcolor&quot;: &quot;white&quot;, &quot;linecolor&quot;: &quot;white&quot;, &quot;ticks&quot;: &quot;&quot;}, &quot;caxis&quot;: {&quot;gridcolor&quot;: &quot;white&quot;, &quot;linecolor&quot;: &quot;white&quot;, &quot;ticks&quot;: &quot;&quot;}}, &quot;coloraxis&quot;: {&quot;colorbar&quot;: {&quot;outlinewidth&quot;: 0, &quot;ticks&quot;: &quot;&quot;}}, &quot;colorscale&quot;: {&quot;sequential&quot;: [[0.0, &quot;#0d0887&quot;], [0.1111111111111111, &quot;#46039f&quot;], [0.2222222222222222, &quot;#7201a8&quot;], [0.3333333333333333, &quot;#9c179e&quot;], [0.4444444444444444, &quot;#bd3786&quot;], [0.5555555555555556, &quot;#d8576b&quot;], [0.6666666666666666, &quot;#ed7953&quot;], [0.7777777777777778, &quot;#fb9f3a&quot;], [0.8888888888888888, &quot;#fdca26&quot;], [1.0, &quot;#f0f921&quot;]], &quot;sequentialminus&quot;: [[0.0, &quot;#0d0887&quot;], [0.1111111111111111, &quot;#46039f&quot;], [0.2222222222222222, &quot;#7201a8&quot;], [0.3333333333333333, &quot;#9c179e&quot;], [0.4444444444444444, &quot;#bd3786&quot;], [0.5555555555555556, &quot;#d8576b&quot;], [0.6666666666666666, &quot;#ed7953&quot;], [0.7777777777777778, &quot;#fb9f3a&quot;], [0.8888888888888888, &quot;#fdca26&quot;], [1.0, &quot;#f0f921&quot;]], &quot;diverging&quot;: [[0, &quot;#8e0152&quot;], [0.1, &quot;#c51b7d&quot;], [0.2, &quot;#de77ae&quot;], [0.3, &quot;#f1b6da&quot;], [0.4, &quot;#fde0ef&quot;], [0.5, &quot;#f7f7f7&quot;], [0.6, &quot;#e6f5d0&quot;], [0.7, &quot;#b8e186&quot;], [0.8, &quot;#7fbc41&quot;], [0.9, &quot;#4d9221&quot;], [1, &quot;#276419&quot;]]}, &quot;xaxis&quot;: {&quot;gridcolor&quot;: &quot;white&quot;, &quot;linecolor&quot;: &quot;white&quot;, &quot;ticks&quot;: &quot;&quot;, &quot;title&quot;: {&quot;standoff&quot;: 15}, &quot;zerolinecolor&quot;: &quot;white&quot;, &quot;automargin&quot;: true, &quot;zerolinewidth&quot;: 2}, &quot;yaxis&quot;: {&quot;gridcolor&quot;: &quot;white&quot;, &quot;linecolor&quot;: &quot;white&quot;, &quot;ticks&quot;: &quot;&quot;, &quot;title&quot;: {&quot;standoff&quot;: 15}, &quot;zerolinecolor&quot;: &quot;white&quot;, &quot;automargin&quot;: true, &quot;zerolinewidth&quot;: 2}, &quot;scene&quot;: {&quot;xaxis&quot;: {&quot;backgroundcolor&quot;: &quot;#E5ECF6&quot;, &quot;gridcolor&quot;: &quot;white&quot;, &quot;linecolor&quot;: &quot;white&quot;, &quot;showbackground&quot;: true, &quot;ticks&quot;: &quot;&quot;, &quot;zerolinecolor&quot;: &quot;white&quot;, &quot;gridwidth&quot;: 2}, &quot;yaxis&quot;: {&quot;backgroundcolor&quot;: &quot;#E5ECF6&quot;, &quot;gridcolor&quot;: &quot;white&quot;, &quot;linecolor&quot;: &quot;white&quot;, &quot;showbackground&quot;: true, &quot;ticks&quot;: &quot;&quot;, &quot;zerolinecolor&quot;: &quot;white&quot;, &quot;gridwidth&quot;: 2}, &quot;zaxis&quot;: {&quot;backgroundcolor&quot;: &quot;#E5ECF6&quot;, &quot;gridcolor&quot;: &quot;white&quot;, &quot;linecolor&quot;: &quot;white&quot;, &quot;showbackground&quot;: true, &quot;ticks&quot;: &quot;&quot;, &quot;zerolinecolor&quot;: &quot;white&quot;, &quot;gridwidth&quot;: 2}}, &quot;shapedefaults&quot;: {&quot;line&quot;: {&quot;color&quot;: &quot;#2a3f5f&quot;}}, &quot;annotationdefaults&quot;: {&quot;arrowcolor&quot;: &quot;#2a3f5f&quot;, &quot;arrowhead&quot;: 0, &quot;arrowwidth&quot;: 1}, &quot;geo&quot;: {&quot;bgcolor&quot;: &quot;white&quot;, &quot;landcolor&quot;: &quot;#E5ECF6&quot;, &quot;subunitcolor&quot;: &quot;white&quot;, &quot;showland&quot;: true, &quot;showlakes&quot;: true, &quot;lakecolor&quot;: &quot;white&quot;}, &quot;title&quot;: {&quot;x&quot;: 0.05}, &quot;mapbox&quot;: {&quot;style&quot;: &quot;light&quot;}}}, &quot;xaxis&quot;: {&quot;anchor&quot;: &quot;y&quot;, &quot;domain&quot;: [0.0, 1.0], &quot;type&quot;: &quot;date&quot;}, &quot;yaxis&quot;: {&quot;anchor&quot;: &quot;x&quot;, &quot;domain&quot;: [0.0, 1.0], &quot;title&quot;: {&quot;text&quot;: &quot;resource&quot;}, &quot;categoryorder&quot;: &quot;category descending&quot;}, &quot;legend&quot;: {&quot;title&quot;: {&quot;text&quot;: &quot;job&quot;}, &quot;tracegroupgap&quot;: 0}, &quot;margin&quot;: {&quot;t&quot;: 60}, &quot;barmode&quot;: &quot;overlay&quot;, &quot;dragmode&quot;: &quot;zoom&quot;}}' data-config='{}'></marimo-plotly>"
      ]
     },
     "metadata": {},
     "output_type": "display_data"
    }
   ],
   "source": [
    "plot_plotly(model2_amplify.to_df())"
   ]
  },
  {
   "cell_type": "markdown",
   "id": "yCnT",
   "metadata": {
    "marimo": {
     "config": {
      "hide_code": true
     }
    }
   },
   "source": [
    "## 他のインスタンス"
   ]
  },
  {
   "cell_type": "markdown",
   "id": "wlCL",
   "metadata": {
    "marimo": {
     "config": {
      "hide_code": true
     }
    }
   },
   "source": [
    "ta50 は最適解は知られていない.\n",
    "\n",
    "bounds\n",
    "\n",
    "- upper: 1923\n",
    "- lower: 1833"
   ]
  },
  {
   "cell_type": "code",
   "execution_count": null,
   "id": "kqZH",
   "metadata": {},
   "outputs": [],
   "source": [
    "instance_dir = os.path.join(parent, \"jsplib/instances\")"
   ]
  },
  {
   "cell_type": "code",
   "execution_count": null,
   "id": "wAgl",
   "metadata": {},
   "outputs": [
    {
     "name": "stdout",
     "output_type": "stream",
     "text": [
      "n=30, m=20\n"
     ]
    }
   ],
   "source": [
    "fname3 = os.path.join(instance_dir, \"ta50\")\n",
    "jobs3 = Job.from_file(fname3)"
   ]
  },
  {
   "cell_type": "code",
   "execution_count": null,
   "id": "rEll",
   "metadata": {},
   "outputs": [
    {
     "data": {
      "text/html": [
       "<span class=\"markdown prose dark:prose-invert\"><span class=\"paragraph\">makespan = 2116</span></span>"
      ]
     },
     "metadata": {},
     "output_type": "display_data"
    }
   ],
   "source": [
    "model3_amplify = ModelAmplifySe(jobs3)\n",
    "model3_amplify.solve(timeout=10)\n",
    "\n",
    "mo.md(f\"makespan = {model3_amplify.get_makespan()}\")"
   ]
  },
  {
   "cell_type": "code",
   "execution_count": null,
   "id": "dGlV",
   "metadata": {},
   "outputs": [
    {
     "data": {
      "text/html": [
       "<marimo-plotly data-figure='{&quot;data&quot;: [{&quot;base&quot;: [&quot;2025-06-19T00:00:00.000000000&quot;, &quot;2025-12-10T00:00:00.000000000&quot;, &quot;2026-02-15T00:00:00.000000000&quot;, &quot;2026-04-23T00:00:00.000000000&quot;, &quot;2026-07-02T00:00:00.000000000&quot;, &quot;2026-08-14T00:00:00.000000000&quot;, &quot;2026-08-31T00:00:00.000000000&quot;, &quot;2026-10-02T00:00:00.000000000&quot;, &quot;2026-12-11T00:00:00.000000000&quot;, &quot;2027-03-11T00:00:00.000000000&quot;, &quot;2027-05-06T00:00:00.000000000&quot;, &quot;2027-07-28T00:00:00.000000000&quot;, &quot;2027-10-02T00:00:00.000000000&quot;, &quot;2027-12-15T00:00:00.000000000&quot;, &quot;2028-01-08T00:00:00.000000000&quot;, &quot;2028-04-02T00:00:00.000000000&quot;, &quot;2028-05-19T00:00:00.000000000&quot;, &quot;2028-08-15T00:00:00.000000000&quot;, &quot;2030-11-13T00:00:00.000000000&quot;, &quot;2030-12-30T00:00:00.000000000&quot;], &quot;hovertemplate&quot;: &quot;job=job0&lt;br&gt;start=%{base}&lt;br&gt;end=%{x}&lt;br&gt;resource=%{y}&lt;extra&gt;&lt;/extra&gt;&quot;, &quot;legendgroup&quot;: &quot;job0&quot;, &quot;marker&quot;: {&quot;color&quot;: &quot;#636efa&quot;, &quot;opacity&quot;: 0.5, &quot;pattern&quot;: {&quot;shape&quot;: &quot;&quot;}}, &quot;name&quot;: &quot;job0&quot;, &quot;orientation&quot;: &quot;h&quot;, &quot;showlegend&quot;: true, &quot;textposition&quot;: &quot;auto&quot;, &quot;x&quot;: [8294400000, 2246400000, 2851200000, 1641600000, 3715200000, 1468800000, 2246400000, 5702400000, 7257600000, 4838400000, 7171200000, 5702400000, 6393600000, 2073600000, 7344000000, 4060800000, 7603200000, 8380800000, 3542400000, 6652800000], &quot;xaxis&quot;: &quot;x&quot;, &quot;y&quot;: [&quot;machine2&quot;, &quot;machine8&quot;, &quot;machine6&quot;, &quot;machine0&quot;, &quot;machine4&quot;, &quot;machine15&quot;, &quot;machine16&quot;, &quot;machine13&quot;, &quot;machine5&quot;, &quot;machine12&quot;, &quot;machine10&quot;, &quot;machine7&quot;, &quot;machine14&quot;, &quot;machine19&quot;, &quot;machine1&quot;, &quot;machine3&quot;, &quot;machine18&quot;, &quot;machine17&quot;, &quot;machine9&quot;, &quot;machine11&quot;], &quot;yaxis&quot;: &quot;y&quot;, &quot;type&quot;: &quot;bar&quot;}, {&quot;base&quot;: [&quot;2025-06-19T00:00:00.000000000&quot;, &quot;2025-10-25T00:00:00.000000000&quot;, &quot;2025-12-16T00:00:00.000000000&quot;, &quot;2026-03-24T00:00:00.000000000&quot;, &quot;2026-07-10T00:00:00.000000000&quot;, &quot;2026-08-29T00:00:00.000000000&quot;, &quot;2027-04-11T00:00:00.000000000&quot;, &quot;2027-11-04T00:00:00.000000000&quot;, &quot;2028-08-13T00:00:00.000000000&quot;, &quot;2028-11-20T00:00:00.000000000&quot;, &quot;2029-05-14T00:00:00.000000000&quot;, &quot;2029-09-02T00:00:00.000000000&quot;, &quot;2029-09-12T00:00:00.000000000&quot;, &quot;2029-11-17T00:00:00.000000000&quot;, &quot;2030-02-04T00:00:00.000000000&quot;, &quot;2030-03-27T00:00:00.000000000&quot;, &quot;2030-04-11T00:00:00.000000000&quot;, &quot;2030-08-12T00:00:00.000000000&quot;, &quot;2030-09-23T00:00:00.000000000&quot;, &quot;2030-12-25T00:00:00.000000000&quot;], &quot;hovertemplate&quot;: &quot;job=job1&lt;br&gt;start=%{base}&lt;br&gt;end=%{x}&lt;br&gt;resource=%{y}&lt;extra&gt;&lt;/extra&gt;&quot;, &quot;legendgroup&quot;: &quot;job1&quot;, &quot;marker&quot;: {&quot;color&quot;: &quot;#EF553B&quot;, &quot;opacity&quot;: 0.5, &quot;pattern&quot;: {&quot;shape&quot;: &quot;&quot;}}, &quot;name&quot;: &quot;job1&quot;, &quot;orientation&quot;: &quot;h&quot;, &quot;showlegend&quot;: true, &quot;textposition&quot;: &quot;auto&quot;, &quot;x&quot;: [6048000000, 3974400000, 7776000000, 5270400000, 2073600000, 5443200000, 8208000000, 2937600000, 4060800000, 4320000000, 5356800000, 864000000, 5702400000, 4492800000, 4233600000, 345600000, 8121600000, 3283200000, 8035200000, 7257600000], &quot;xaxis&quot;: &quot;x&quot;, &quot;y&quot;: [&quot;machine0&quot;, &quot;machine10&quot;, &quot;machine13&quot;, &quot;machine3&quot;, &quot;machine2&quot;, &quot;machine7&quot;, &quot;machine1&quot;, &quot;machine16&quot;, &quot;machine9&quot;, &quot;machine17&quot;, &quot;machine18&quot;, &quot;machine15&quot;, &quot;machine11&quot;, &quot;machine8&quot;, &quot;machine19&quot;, &quot;machine5&quot;, &quot;machine4&quot;, &quot;machine12&quot;, &quot;machine14&quot;, &quot;machine6&quot;], &quot;yaxis&quot;: &quot;y&quot;, &quot;type&quot;: &quot;bar&quot;}, {&quot;base&quot;: [&quot;2025-08-28T00:00:00.000000000&quot;, &quot;2026-03-14T00:00:00.000000000&quot;, &quot;2026-06-06T00:00:00.000000000&quot;, &quot;2026-12-29T00:00:00.000000000&quot;, &quot;2027-01-23T00:00:00.000000000&quot;, &quot;2028-10-21T00:00:00.000000000&quot;, &quot;2029-01-28T00:00:00.000000000&quot;, &quot;2029-03-25T00:00:00.000000000&quot;, &quot;2029-04-26T00:00:00.000000000&quot;, &quot;2029-05-27T00:00:00.000000000&quot;, &quot;2029-07-02T00:00:00.000000000&quot;, &quot;2029-09-14T00:00:00.000000000&quot;, &quot;2029-12-10T00:00:00.000000000&quot;, &quot;2030-03-11T00:00:00.000000000&quot;, &quot;2030-04-09T00:00:00.000000000&quot;, &quot;2030-06-01T00:00:00.000000000&quot;, &quot;2030-07-21T00:00:00.000000000&quot;, &quot;2030-10-04T00:00:00.000000000&quot;, &quot;2030-11-09T00:00:00.000000000&quot;, &quot;2030-12-12T00:00:00.000000000&quot;], &quot;hovertemplate&quot;: &quot;job=job2&lt;br&gt;start=%{base}&lt;br&gt;end=%{x}&lt;br&gt;resource=%{y}&lt;extra&gt;&lt;/extra&gt;&quot;, &quot;legendgroup&quot;: &quot;job2&quot;, &quot;marker&quot;: {&quot;color&quot;: &quot;#00cc96&quot;, &quot;opacity&quot;: 0.5, &quot;pattern&quot;: {&quot;shape&quot;: &quot;&quot;}}, &quot;name&quot;: &quot;job2&quot;, &quot;orientation&quot;: &quot;h&quot;, &quot;showlegend&quot;: true, &quot;textposition&quot;: &quot;auto&quot;, &quot;x&quot;: [4147200000, 5184000000, 1296000000, 2160000000, 1814400000, 8553600000, 4838400000, 2764800000, 2678400000, 3110400000, 6393600000, 6220800000, 7862400000, 2505600000, 2937600000, 4320000000, 1814400000, 3110400000, 86400000, 2592000000], &quot;xaxis&quot;: &quot;x&quot;, &quot;y&quot;: [&quot;machine0&quot;, &quot;machine19&quot;, &quot;machine11&quot;, &quot;machine9&quot;, &quot;machine15&quot;, &quot;machine3&quot;, &quot;machine13&quot;, &quot;machine18&quot;, &quot;machine1&quot;, &quot;machine5&quot;, &quot;machine7&quot;, &quot;machine6&quot;, &quot;machine10&quot;, &quot;machine4&quot;, &quot;machine14&quot;, &quot;machine8&quot;, &quot;machine12&quot;, &quot;machine2&quot;, &quot;machine16&quot;, &quot;machine17&quot;], &quot;yaxis&quot;: &quot;y&quot;, &quot;type&quot;: &quot;bar&quot;}, {&quot;base&quot;: [&quot;2025-07-02T00:00:00.000000000&quot;, &quot;2025-08-21T00:00:00.000000000&quot;, &quot;2026-01-30T00:00:00.000000000&quot;, &quot;2026-06-21T00:00:00.000000000&quot;, &quot;2026-08-02T00:00:00.000000000&quot;, &quot;2026-10-27T00:00:00.000000000&quot;, &quot;2026-12-08T00:00:00.000000000&quot;, &quot;2027-01-08T00:00:00.000000000&quot;, &quot;2027-03-11T00:00:00.000000000&quot;, &quot;2027-08-03T00:00:00.000000000&quot;, &quot;2027-10-13T00:00:00.000000000&quot;, &quot;2027-12-04T00:00:00.000000000&quot;, &quot;2028-02-26T00:00:00.000000000&quot;, &quot;2029-01-28T00:00:00.000000000&quot;, &quot;2029-07-07T00:00:00.000000000&quot;, &quot;2029-08-25T00:00:00.000000000&quot;, &quot;2029-12-31T00:00:00.000000000&quot;, &quot;2030-03-09T00:00:00.000000000&quot;, &quot;2030-07-19T00:00:00.000000000&quot;, &quot;2030-09-01T00:00:00.000000000&quot;], &quot;hovertemplate&quot;: &quot;job=job3&lt;br&gt;start=%{base}&lt;br&gt;end=%{x}&lt;br&gt;resource=%{y}&lt;extra&gt;&lt;/extra&gt;&quot;, &quot;legendgroup&quot;: &quot;job3&quot;, &quot;marker&quot;: {&quot;color&quot;: &quot;#ab63fa&quot;, &quot;opacity&quot;: 0.5, &quot;pattern&quot;: {&quot;shape&quot;: &quot;&quot;}}, &quot;name&quot;: &quot;job3&quot;, &quot;orientation&quot;: &quot;h&quot;, &quot;showlegend&quot;: true, &quot;textposition&quot;: &quot;auto&quot;, &quot;x&quot;: [4320000000, 7257600000, 6393600000, 3024000000, 7430400000, 3628800000, 2678400000, 5356800000, 7084800000, 5702400000, 3369600000, 4147200000, 8467200000, 8553600000, 4147200000, 6652800000, 2678400000, 4406400000, 3801600000, 3542400000], &quot;xaxis&quot;: &quot;x&quot;, &quot;y&quot;: [&quot;machine7&quot;, &quot;machine19&quot;, &quot;machine10&quot;, &quot;machine11&quot;, &quot;machine9&quot;, &quot;machine14&quot;, &quot;machine6&quot;, &quot;machine12&quot;, &quot;machine16&quot;, &quot;machine13&quot;, &quot;machine5&quot;, &quot;machine15&quot;, &quot;machine4&quot;, &quot;machine3&quot;, &quot;machine17&quot;, &quot;machine8&quot;, &quot;machine1&quot;, &quot;machine18&quot;, &quot;machine2&quot;, &quot;machine0&quot;], &quot;yaxis&quot;: &quot;y&quot;, &quot;type&quot;: &quot;bar&quot;}, {&quot;base&quot;: [&quot;2025-10-21T00:00:00.000000000&quot;, &quot;2026-01-19T00:00:00.000000000&quot;, &quot;2026-04-07T00:00:00.000000000&quot;, &quot;2026-05-25T00:00:00.000000000&quot;, &quot;2026-09-02T00:00:00.000000000&quot;, &quot;2028-01-30T00:00:00.000000000&quot;, &quot;2028-10-01T00:00:00.000000000&quot;, &quot;2029-01-10T00:00:00.000000000&quot;, &quot;2029-04-08T00:00:00.000000000&quot;, &quot;2029-05-30T00:00:00.000000000&quot;, &quot;2029-07-02T00:00:00.000000000&quot;, &quot;2029-10-26T00:00:00.000000000&quot;, &quot;2029-11-25T00:00:00.000000000&quot;, &quot;2029-12-01T00:00:00.000000000&quot;, &quot;2029-12-04T00:00:00.000000000&quot;, &quot;2029-12-14T00:00:00.000000000&quot;, &quot;2030-01-24T00:00:00.000000000&quot;, &quot;2030-04-08T00:00:00.000000000&quot;, &quot;2030-05-29T00:00:00.000000000&quot;, &quot;2030-07-03T00:00:00.000000000&quot;], &quot;hovertemplate&quot;: &quot;job=job4&lt;br&gt;start=%{base}&lt;br&gt;end=%{x}&lt;br&gt;resource=%{y}&lt;extra&gt;&lt;/extra&gt;&quot;, &quot;legendgroup&quot;: &quot;job4&quot;, &quot;marker&quot;: {&quot;color&quot;: &quot;#FFA15A&quot;, &quot;opacity&quot;: 0.5, &quot;pattern&quot;: {&quot;shape&quot;: &quot;&quot;}}, &quot;name&quot;: &quot;job4&quot;, &quot;orientation&quot;: &quot;h&quot;, &quot;showlegend&quot;: true, &quot;textposition&quot;: &quot;auto&quot;, &quot;x&quot;: [7776000000, 2332800000, 2592000000, 5875200000, 2160000000, 8121600000, 5702400000, 4147200000, 4060800000, 1382400000, 7776000000, 1987200000, 432000000, 259200000, 864000000, 3196800000, 6393600000, 2419200000, 2160000000, 7430400000], &quot;xaxis&quot;: &quot;x&quot;, &quot;y&quot;: [&quot;machine0&quot;, &quot;machine6&quot;, &quot;machine11&quot;, &quot;machine1&quot;, &quot;machine3&quot;, &quot;machine16&quot;, &quot;machine19&quot;, &quot;machine12&quot;, &quot;machine10&quot;, &quot;machine7&quot;, &quot;machine5&quot;, &quot;machine2&quot;, &quot;machine15&quot;, &quot;machine4&quot;, &quot;machine18&quot;, &quot;machine14&quot;, &quot;machine9&quot;, &quot;machine8&quot;, &quot;machine13&quot;, &quot;machine17&quot;], &quot;yaxis&quot;: &quot;y&quot;, &quot;type&quot;: &quot;bar&quot;}, {&quot;base&quot;: [&quot;2025-06-19T00:00:00.000000000&quot;, &quot;2025-09-25T00:00:00.000000000&quot;, &quot;2026-02-13T00:00:00.000000000&quot;, &quot;2026-03-14T00:00:00.000000000&quot;, &quot;2026-05-13T00:00:00.000000000&quot;, &quot;2026-07-12T00:00:00.000000000&quot;, &quot;2026-08-05T00:00:00.000000000&quot;, &quot;2026-08-20T00:00:00.000000000&quot;, &quot;2027-03-08T00:00:00.000000000&quot;, &quot;2027-08-19T00:00:00.000000000&quot;, &quot;2028-04-03T00:00:00.000000000&quot;, &quot;2028-06-22T00:00:00.000000000&quot;, &quot;2028-08-22T00:00:00.000000000&quot;, &quot;2028-10-17T00:00:00.000000000&quot;, &quot;2029-05-15T00:00:00.000000000&quot;, &quot;2029-09-13T00:00:00.000000000&quot;, &quot;2030-01-08T00:00:00.000000000&quot;, &quot;2030-08-25T00:00:00.000000000&quot;, &quot;2030-11-13T00:00:00.000000000&quot;, &quot;2031-02-01T00:00:00.000000000&quot;], &quot;hovertemplate&quot;: &quot;job=job5&lt;br&gt;start=%{base}&lt;br&gt;end=%{x}&lt;br&gt;resource=%{y}&lt;extra&gt;&lt;/extra&gt;&quot;, &quot;legendgroup&quot;: &quot;job5&quot;, &quot;marker&quot;: {&quot;color&quot;: &quot;#19d3f3&quot;, &quot;opacity&quot;: 0.5, &quot;pattern&quot;: {&quot;shape&quot;: &quot;&quot;}}, &quot;name&quot;: &quot;job5&quot;, &quot;orientation&quot;: &quot;h&quot;, &quot;showlegend&quot;: true, &quot;textposition&quot;: &quot;auto&quot;, &quot;x&quot;: [2764800000, 6566400000, 2505600000, 5184000000, 5184000000, 1814400000, 172800000, 5616000000, 1900800000, 3110400000, 6912000000, 5270400000, 4752000000, 7257600000, 8553600000, 2160000000, 5875200000, 6912000000, 5788800000, 4320000000], &quot;xaxis&quot;: &quot;x&quot;, &quot;y&quot;: [&quot;machine17&quot;, &quot;machine8&quot;, &quot;machine19&quot;, &quot;machine16&quot;, &quot;machine0&quot;, &quot;machine12&quot;, &quot;machine13&quot;, &quot;machine14&quot;, &quot;machine3&quot;, &quot;machine2&quot;, &quot;machine1&quot;, &quot;machine10&quot;, &quot;machine7&quot;, &quot;machine9&quot;, &quot;machine15&quot;, &quot;machine4&quot;, &quot;machine6&quot;, &quot;machine11&quot;, &quot;machine18&quot;, &quot;machine5&quot;], &quot;yaxis&quot;: &quot;y&quot;, &quot;type&quot;: &quot;bar&quot;}, {&quot;base&quot;: [&quot;2025-08-13T00:00:00.000000000&quot;, &quot;2025-11-11T00:00:00.000000000&quot;, &quot;2026-01-12T00:00:00.000000000&quot;, &quot;2026-02-28T00:00:00.000000000&quot;, &quot;2026-04-07T00:00:00.000000000&quot;, &quot;2027-01-19T00:00:00.000000000&quot;, &quot;2027-07-14T00:00:00.000000000&quot;, &quot;2028-06-20T00:00:00.000000000&quot;, &quot;2028-11-04T00:00:00.000000000&quot;, &quot;2029-01-27T00:00:00.000000000&quot;, &quot;2029-04-08T00:00:00.000000000&quot;, &quot;2029-06-07T00:00:00.000000000&quot;, &quot;2029-07-24T00:00:00.000000000&quot;, &quot;2029-09-25T00:00:00.000000000&quot;, &quot;2030-04-27T00:00:00.000000000&quot;, &quot;2030-07-08T00:00:00.000000000&quot;, &quot;2030-07-12T00:00:00.000000000&quot;, &quot;2030-09-28T00:00:00.000000000&quot;, &quot;2030-10-28T00:00:00.000000000&quot;, &quot;2030-12-27T00:00:00.000000000&quot;], &quot;hovertemplate&quot;: &quot;job=job6&lt;br&gt;start=%{base}&lt;br&gt;end=%{x}&lt;br&gt;resource=%{y}&lt;extra&gt;&lt;/extra&gt;&quot;, &quot;legendgroup&quot;: &quot;job6&quot;, &quot;marker&quot;: {&quot;color&quot;: &quot;#FF6692&quot;, &quot;opacity&quot;: 0.5, &quot;pattern&quot;: {&quot;shape&quot;: &quot;&quot;}}, &quot;name&quot;: &quot;job6&quot;, &quot;orientation&quot;: &quot;h&quot;, &quot;showlegend&quot;: true, &quot;textposition&quot;: &quot;auto&quot;, &quot;x&quot;: [7776000000, 777600000, 2419200000, 3283200000, 3110400000, 1641600000, 345600000, 3974400000, 7257600000, 6134400000, 5184000000, 1987200000, 5443200000, 6652800000, 6220800000, 172800000, 5443200000, 2073600000, 5184000000, 8553600000], &quot;xaxis&quot;: &quot;x&quot;, &quot;y&quot;: [&quot;machine18&quot;, &quot;machine1&quot;, &quot;machine9&quot;, &quot;machine11&quot;, &quot;machine17&quot;, &quot;machine0&quot;, &quot;machine2&quot;, &quot;machine6&quot;, &quot;machine16&quot;, &quot;machine10&quot;, &quot;machine4&quot;, &quot;machine14&quot;, &quot;machine19&quot;, &quot;machine12&quot;, &quot;machine15&quot;, &quot;machine7&quot;, &quot;machine3&quot;, &quot;machine5&quot;, &quot;machine8&quot;, &quot;machine13&quot;], &quot;yaxis&quot;: &quot;y&quot;, &quot;type&quot;: &quot;bar&quot;}, {&quot;base&quot;: [&quot;2025-06-19T00:00:00.000000000&quot;, &quot;2025-09-23T00:00:00.000000000&quot;, &quot;2025-12-11T00:00:00.000000000&quot;, &quot;2026-04-09T00:00:00.000000000&quot;, &quot;2026-10-17T00:00:00.000000000&quot;, &quot;2026-12-19T00:00:00.000000000&quot;, &quot;2027-03-30T00:00:00.000000000&quot;, &quot;2027-04-09T00:00:00.000000000&quot;, &quot;2027-04-11T00:00:00.000000000&quot;, &quot;2027-06-30T00:00:00.000000000&quot;, &quot;2027-10-04T00:00:00.000000000&quot;, &quot;2028-01-14T00:00:00.000000000&quot;, &quot;2028-01-27T00:00:00.000000000&quot;, &quot;2028-08-15T00:00:00.000000000&quot;, &quot;2028-10-26T00:00:00.000000000&quot;, &quot;2029-03-17T00:00:00.000000000&quot;, &quot;2029-07-25T00:00:00.000000000&quot;, &quot;2030-05-21T00:00:00.000000000&quot;, &quot;2030-10-26T00:00:00.000000000&quot;, &quot;2031-02-01T00:00:00.000000000&quot;], &quot;hovertemplate&quot;: &quot;job=job7&lt;br&gt;start=%{base}&lt;br&gt;end=%{x}&lt;br&gt;resource=%{y}&lt;extra&gt;&lt;/extra&gt;&quot;, &quot;legendgroup&quot;: &quot;job7&quot;, &quot;marker&quot;: {&quot;color&quot;: &quot;#B6E880&quot;, &quot;opacity&quot;: 0.5, &quot;pattern&quot;: {&quot;shape&quot;: &quot;&quot;}}, &quot;name&quot;: &quot;job7&quot;, &quot;orientation&quot;: &quot;h&quot;, &quot;showlegend&quot;: true, &quot;textposition&quot;: &quot;auto&quot;, &quot;x&quot;: [8294400000, 6739200000, 6825600000, 7776000000, 5443200000, 6912000000, 864000000, 172800000, 5788800000, 8294400000, 5961600000, 1123200000, 3628800000, 4665600000, 6566400000, 2764800000, 6480000000, 4492800000, 8467200000, 1382400000], &quot;xaxis&quot;: &quot;x&quot;, &quot;y&quot;: [&quot;machine14&quot;, &quot;machine9&quot;, &quot;machine11&quot;, &quot;machine8&quot;, &quot;machine2&quot;, &quot;machine16&quot;, &quot;machine4&quot;, &quot;machine1&quot;, &quot;machine19&quot;, &quot;machine6&quot;, &quot;machine0&quot;, &quot;machine7&quot;, &quot;machine15&quot;, &quot;machine18&quot;, &quot;machine12&quot;, &quot;machine17&quot;, &quot;machine13&quot;, &quot;machine3&quot;, &quot;machine5&quot;, &quot;machine10&quot;], &quot;yaxis&quot;: &quot;y&quot;, &quot;type&quot;: &quot;bar&quot;}, {&quot;base&quot;: [&quot;2025-06-19T00:00:00.000000000&quot;, &quot;2026-02-22T00:00:00.000000000&quot;, &quot;2026-05-17T00:00:00.000000000&quot;, &quot;2026-09-15T00:00:00.000000000&quot;, &quot;2027-04-26T00:00:00.000000000&quot;, &quot;2027-07-28T00:00:00.000000000&quot;, &quot;2027-10-31T00:00:00.000000000&quot;, &quot;2028-01-07T00:00:00.000000000&quot;, &quot;2028-03-28T00:00:00.000000000&quot;, &quot;2028-05-03T00:00:00.000000000&quot;, &quot;2028-08-29T00:00:00.000000000&quot;, &quot;2028-10-23T00:00:00.000000000&quot;, &quot;2028-12-22T00:00:00.000000000&quot;, &quot;2028-12-26T00:00:00.000000000&quot;, &quot;2029-02-05T00:00:00.000000000&quot;, &quot;2029-03-17T00:00:00.000000000&quot;, &quot;2029-06-09T00:00:00.000000000&quot;, &quot;2029-12-14T00:00:00.000000000&quot;, &quot;2030-07-21T00:00:00.000000000&quot;, &quot;2030-12-14T00:00:00.000000000&quot;], &quot;hovertemplate&quot;: &quot;job=job8&lt;br&gt;start=%{base}&lt;br&gt;end=%{x}&lt;br&gt;resource=%{y}&lt;extra&gt;&lt;/extra&gt;&quot;, &quot;legendgroup&quot;: &quot;job8&quot;, &quot;marker&quot;: {&quot;color&quot;: &quot;#FF97FF&quot;, &quot;opacity&quot;: 0.5, &quot;pattern&quot;: {&quot;shape&quot;: &quot;&quot;}}, &quot;name&quot;: &quot;job8&quot;, &quot;orientation&quot;: &quot;h&quot;, &quot;showlegend&quot;: true, &quot;textposition&quot;: &quot;auto&quot;, &quot;x&quot;: [2678400000, 6912000000, 6652800000, 4838400000, 7344000000, 8208000000, 5097600000, 3974400000, 345600000, 7344000000, 3628800000, 1209600000, 345600000, 3456000000, 3456000000, 4147200000, 7776000000, 7084800000, 345600000, 7516800000], &quot;xaxis&quot;: &quot;x&quot;, &quot;y&quot;: [&quot;machine3&quot;, &quot;machine14&quot;, &quot;machine9&quot;, &quot;machine0&quot;, &quot;machine11&quot;, &quot;machine10&quot;, &quot;machine4&quot;, &quot;machine12&quot;, &quot;machine5&quot;, &quot;machine16&quot;, &quot;machine2&quot;, &quot;machine1&quot;, &quot;machine13&quot;, &quot;machine7&quot;, &quot;machine17&quot;, &quot;machine19&quot;, &quot;machine6&quot;, &quot;machine18&quot;, &quot;machine8&quot;, &quot;machine15&quot;], &quot;yaxis&quot;: &quot;y&quot;, &quot;type&quot;: &quot;bar&quot;}, {&quot;base&quot;: [&quot;2025-06-19T00:00:00.000000000&quot;, &quot;2025-09-04T00:00:00.000000000&quot;, &quot;2025-12-10T00:00:00.000000000&quot;, &quot;2026-01-20T00:00:00.000000000&quot;, &quot;2026-09-27T00:00:00.000000000&quot;, &quot;2026-12-03T00:00:00.000000000&quot;, &quot;2027-01-01T00:00:00.000000000&quot;, &quot;2027-03-07T00:00:00.000000000&quot;, &quot;2027-03-30T00:00:00.000000000&quot;, &quot;2027-05-22T00:00:00.000000000&quot;, &quot;2027-07-24T00:00:00.000000000&quot;, &quot;2027-10-04T00:00:00.000000000&quot;, &quot;2027-10-06T00:00:00.000000000&quot;, &quot;2027-12-10T00:00:00.000000000&quot;, &quot;2029-05-27T00:00:00.000000000&quot;, &quot;2030-06-26T00:00:00.000000000&quot;, &quot;2030-08-22T00:00:00.000000000&quot;, &quot;2030-10-20T00:00:00.000000000&quot;, &quot;2030-12-01T00:00:00.000000000&quot;, &quot;2031-03-24T00:00:00.000000000&quot;], &quot;hovertemplate&quot;: &quot;job=job9&lt;br&gt;start=%{base}&lt;br&gt;end=%{x}&lt;br&gt;resource=%{y}&lt;extra&gt;&lt;/extra&gt;&quot;, &quot;legendgroup&quot;: &quot;job9&quot;, &quot;marker&quot;: {&quot;color&quot;: &quot;#FECB52&quot;, &quot;opacity&quot;: 0.5, &quot;pattern&quot;: {&quot;shape&quot;: &quot;&quot;}}, &quot;name&quot;: &quot;job9&quot;, &quot;orientation&quot;: &quot;h&quot;, &quot;showlegend&quot;: true, &quot;textposition&quot;: &quot;auto&quot;, &quot;x&quot;: [259200000, 4579200000, 2851200000, 8035200000, 5356800000, 1468800000, 5616000000, 1987200000, 864000000, 3801600000, 4233600000, 172800000, 4665600000, 2160000000, 3628800000, 4924800000, 1987200000, 1382400000, 6566400000, 1036800000], &quot;xaxis&quot;: &quot;x&quot;, &quot;y&quot;: [&quot;machine13&quot;, &quot;machine7&quot;, &quot;machine9&quot;, &quot;machine0&quot;, &quot;machine3&quot;, &quot;machine8&quot;, &quot;machine11&quot;, &quot;machine4&quot;, &quot;machine5&quot;, &quot;machine14&quot;, &quot;machine15&quot;, &quot;machine6&quot;, &quot;machine2&quot;, &quot;machine17&quot;, &quot;machine1&quot;, &quot;machine10&quot;, &quot;machine19&quot;, &quot;machine18&quot;, &quot;machine16&quot;, &quot;machine12&quot;], &quot;yaxis&quot;: &quot;y&quot;, &quot;type&quot;: &quot;bar&quot;}, {&quot;base&quot;: [&quot;2025-06-19T00:00:00.000000000&quot;, &quot;2025-08-26T00:00:00.000000000&quot;, &quot;2026-08-03T00:00:00.000000000&quot;, &quot;2026-11-04T00:00:00.000000000&quot;, &quot;2026-12-03T00:00:00.000000000&quot;, &quot;2027-01-01T00:00:00.000000000&quot;, &quot;2027-04-13T00:00:00.000000000&quot;, &quot;2027-04-30T00:00:00.000000000&quot;, &quot;2027-12-27T00:00:00.000000000&quot;, &quot;2028-01-06T00:00:00.000000000&quot;, &quot;2028-09-27T00:00:00.000000000&quot;, &quot;2028-10-23T00:00:00.000000000&quot;, &quot;2028-10-31T00:00:00.000000000&quot;, &quot;2029-01-15T00:00:00.000000000&quot;, &quot;2029-10-09T00:00:00.000000000&quot;, &quot;2029-11-16T00:00:00.000000000&quot;, &quot;2030-01-30T00:00:00.000000000&quot;, &quot;2030-05-26T00:00:00.000000000&quot;, &quot;2030-08-15T00:00:00.000000000&quot;, &quot;2031-02-04T00:00:00.000000000&quot;], &quot;hovertemplate&quot;: &quot;job=job10&lt;br&gt;start=%{base}&lt;br&gt;end=%{x}&lt;br&gt;resource=%{y}&lt;extra&gt;&lt;/extra&gt;&quot;, &quot;legendgroup&quot;: &quot;job10&quot;, &quot;marker&quot;: {&quot;color&quot;: &quot;#636efa&quot;, &quot;opacity&quot;: 0.5, &quot;pattern&quot;: {&quot;shape&quot;: &quot;&quot;}}, &quot;name&quot;: &quot;job10&quot;, &quot;orientation&quot;: &quot;h&quot;, &quot;showlegend&quot;: true, &quot;textposition&quot;: &quot;auto&quot;, &quot;x&quot;: [5875200000, 4665600000, 6480000000, 2505600000, 2505600000, 8467200000, 1468800000, 345600000, 864000000, 6134400000, 2246400000, 259200000, 4406400000, 6825600000, 2592000000, 5011200000, 6566400000, 6998400000, 5443200000, 5184000000], &quot;xaxis&quot;: &quot;x&quot;, &quot;y&quot;: [&quot;machine4&quot;, &quot;machine17&quot;, &quot;machine2&quot;, &quot;machine8&quot;, &quot;machine11&quot;, &quot;machine19&quot;, &quot;machine18&quot;, &quot;machine13&quot;, &quot;machine12&quot;, &quot;machine3&quot;, &quot;machine1&quot;, &quot;machine10&quot;, &quot;machine5&quot;, &quot;machine15&quot;, &quot;machine14&quot;, &quot;machine9&quot;, &quot;machine16&quot;, &quot;machine6&quot;, &quot;machine7&quot;, &quot;machine0&quot;], &quot;yaxis&quot;: &quot;y&quot;, &quot;type&quot;: &quot;bar&quot;}, {&quot;base&quot;: [&quot;2025-06-19T00:00:00.000000000&quot;, &quot;2025-10-15T00:00:00.000000000&quot;, &quot;2025-11-27T00:00:00.000000000&quot;, &quot;2026-02-01T00:00:00.000000000&quot;, &quot;2026-03-26T00:00:00.000000000&quot;, &quot;2027-02-18T00:00:00.000000000&quot;, &quot;2027-06-17T00:00:00.000000000&quot;, &quot;2027-08-28T00:00:00.000000000&quot;, &quot;2027-11-04T00:00:00.000000000&quot;, &quot;2028-01-24T00:00:00.000000000&quot;, &quot;2028-03-15T00:00:00.000000000&quot;, &quot;2028-10-11T00:00:00.000000000&quot;, &quot;2029-02-05T00:00:00.000000000&quot;, &quot;2029-03-25T00:00:00.000000000&quot;, &quot;2029-04-17T00:00:00.000000000&quot;, &quot;2029-06-07T00:00:00.000000000&quot;, &quot;2030-02-22T00:00:00.000000000&quot;, &quot;2030-10-24T00:00:00.000000000&quot;, &quot;2030-12-18T00:00:00.000000000&quot;, &quot;2031-01-09T00:00:00.000000000&quot;], &quot;hovertemplate&quot;: &quot;job=job11&lt;br&gt;start=%{base}&lt;br&gt;end=%{x}&lt;br&gt;resource=%{y}&lt;extra&gt;&lt;/extra&gt;&quot;, &quot;legendgroup&quot;: &quot;job11&quot;, &quot;marker&quot;: {&quot;color&quot;: &quot;#EF553B&quot;, &quot;opacity&quot;: 0.5, &quot;pattern&quot;: {&quot;shape&quot;: &quot;&quot;}}, &quot;name&quot;: &quot;job11&quot;, &quot;orientation&quot;: &quot;h&quot;, &quot;showlegend&quot;: true, &quot;textposition&quot;: &quot;auto&quot;, &quot;x&quot;: [8467200000, 518400000, 5702400000, 4579200000, 5184000000, 8035200000, 4492800000, 5875200000, 6998400000, 4406400000, 7344000000, 6393600000, 1036800000, 1987200000, 3715200000, 8467200000, 2246400000, 4406400000, 1900800000, 2246400000], &quot;xaxis&quot;: &quot;x&quot;, &quot;y&quot;: [&quot;machine6&quot;, &quot;machine0&quot;, &quot;machine12&quot;, &quot;machine18&quot;, &quot;machine1&quot;, &quot;machine14&quot;, &quot;machine19&quot;, &quot;machine16&quot;, &quot;machine10&quot;, &quot;machine8&quot;, &quot;machine17&quot;, &quot;machine11&quot;, &quot;machine2&quot;, &quot;machine13&quot;, &quot;machine7&quot;, &quot;machine4&quot;, &quot;machine5&quot;, &quot;machine15&quot;, &quot;machine3&quot;, &quot;machine9&quot;], &quot;yaxis&quot;: &quot;y&quot;, &quot;type&quot;: &quot;bar&quot;}, {&quot;base&quot;: [&quot;2025-11-17T00:00:00.000000000&quot;, &quot;2026-02-15T00:00:00.000000000&quot;, &quot;2026-04-23T00:00:00.000000000&quot;, &quot;2026-07-12T00:00:00.000000000&quot;, &quot;2026-07-19T00:00:00.000000000&quot;, &quot;2027-01-24T00:00:00.000000000&quot;, &quot;2027-02-03T00:00:00.000000000&quot;, &quot;2027-03-16T00:00:00.000000000&quot;, &quot;2027-06-01T00:00:00.000000000&quot;, &quot;2027-07-29T00:00:00.000000000&quot;, &quot;2027-09-08T00:00:00.000000000&quot;, &quot;2027-10-13T00:00:00.000000000&quot;, &quot;2028-01-04T00:00:00.000000000&quot;, &quot;2028-02-03T00:00:00.000000000&quot;, &quot;2028-03-03T00:00:00.000000000&quot;, &quot;2028-04-04T00:00:00.000000000&quot;, &quot;2028-10-26T00:00:00.000000000&quot;, &quot;2030-03-25T00:00:00.000000000&quot;, &quot;2030-09-27T00:00:00.000000000&quot;, &quot;2030-12-30T00:00:00.000000000&quot;], &quot;hovertemplate&quot;: &quot;job=job12&lt;br&gt;start=%{base}&lt;br&gt;end=%{x}&lt;br&gt;resource=%{y}&lt;extra&gt;&lt;/extra&gt;&quot;, &quot;legendgroup&quot;: &quot;job12&quot;, &quot;marker&quot;: {&quot;color&quot;: &quot;#00cc96&quot;, &quot;opacity&quot;: 0.5, &quot;pattern&quot;: {&quot;shape&quot;: &quot;&quot;}}, &quot;name&quot;: &quot;job12&quot;, &quot;orientation&quot;: &quot;h&quot;, &quot;showlegend&quot;: true, &quot;textposition&quot;: &quot;auto&quot;, &quot;x&quot;: [7776000000, 3024000000, 6566400000, 604800000, 5788800000, 864000000, 3542400000, 3542400000, 1555200000, 3542400000, 3024000000, 1123200000, 2592000000, 2419200000, 2764800000, 8208000000, 7948800000, 6134400000, 6566400000, 6739200000], &quot;xaxis&quot;: &quot;x&quot;, &quot;y&quot;: [&quot;machine2&quot;, &quot;machine7&quot;, &quot;machine13&quot;, &quot;machine0&quot;, &quot;machine19&quot;, &quot;machine4&quot;, &quot;machine9&quot;, &quot;machine11&quot;, &quot;machine16&quot;, &quot;machine3&quot;, &quot;machine5&quot;, &quot;machine6&quot;, &quot;machine14&quot;, &quot;machine18&quot;, &quot;machine12&quot;, &quot;machine15&quot;, &quot;machine10&quot;, &quot;machine1&quot;, &quot;machine17&quot;, &quot;machine8&quot;], &quot;yaxis&quot;: &quot;y&quot;, &quot;type&quot;: &quot;bar&quot;}, {&quot;base&quot;: [&quot;2025-12-19T00:00:00.000000000&quot;, &quot;2026-01-19T00:00:00.000000000&quot;, &quot;2026-03-24T00:00:00.000000000&quot;, &quot;2026-04-14T00:00:00.000000000&quot;, &quot;2026-07-08T00:00:00.000000000&quot;, &quot;2026-09-24T00:00:00.000000000&quot;, &quot;2027-01-03T00:00:00.000000000&quot;, &quot;2027-04-09T00:00:00.000000000&quot;, &quot;2027-06-22T00:00:00.000000000&quot;, &quot;2027-07-18T00:00:00.000000000&quot;, &quot;2027-07-29T00:00:00.000000000&quot;, &quot;2027-09-08T00:00:00.000000000&quot;, &quot;2028-08-14T00:00:00.000000000&quot;, &quot;2029-07-26T00:00:00.000000000&quot;, &quot;2029-10-08T00:00:00.000000000&quot;, &quot;2029-10-26T00:00:00.000000000&quot;, &quot;2030-04-12T00:00:00.000000000&quot;, &quot;2030-05-11T00:00:00.000000000&quot;, &quot;2030-06-27T00:00:00.000000000&quot;, &quot;2030-10-03T00:00:00.000000000&quot;], &quot;hovertemplate&quot;: &quot;job=job13&lt;br&gt;start=%{base}&lt;br&gt;end=%{x}&lt;br&gt;resource=%{y}&lt;extra&gt;&lt;/extra&gt;&quot;, &quot;legendgroup&quot;: &quot;job13&quot;, &quot;marker&quot;: {&quot;color&quot;: &quot;#ab63fa&quot;, &quot;opacity&quot;: 0.5, &quot;pattern&quot;: {&quot;shape&quot;: &quot;&quot;}}, &quot;name&quot;: &quot;job13&quot;, &quot;orientation&quot;: &quot;h&quot;, &quot;showlegend&quot;: true, &quot;textposition&quot;: &quot;auto&quot;, &quot;x&quot;: [2678400000, 5529600000, 1814400000, 6220800000, 6739200000, 7603200000, 345600000, 6393600000, 2246400000, 950400000, 3542400000, 8035200000, 2764800000, 6393600000, 1555200000, 3196800000, 2419200000, 4060800000, 8467200000, 5616000000], &quot;xaxis&quot;: &quot;x&quot;, &quot;y&quot;: [&quot;machine14&quot;, &quot;machine3&quot;, &quot;machine6&quot;, &quot;machine7&quot;, &quot;machine8&quot;, &quot;machine12&quot;, &quot;machine15&quot;, &quot;machine5&quot;, &quot;machine16&quot;, &quot;machine4&quot;, &quot;machine0&quot;, &quot;machine17&quot;, &quot;machine1&quot;, &quot;machine18&quot;, &quot;machine2&quot;, &quot;machine19&quot;, &quot;machine10&quot;, &quot;machine11&quot;, &quot;machine9&quot;, &quot;machine13&quot;], &quot;yaxis&quot;: &quot;y&quot;, &quot;type&quot;: &quot;bar&quot;}, {&quot;base&quot;: [&quot;2025-06-19T00:00:00.000000000&quot;, &quot;2025-10-18T00:00:00.000000000&quot;, &quot;2026-02-15T00:00:00.000000000&quot;, &quot;2026-07-31T00:00:00.000000000&quot;, &quot;2026-08-28T00:00:00.000000000&quot;, &quot;2027-04-09T00:00:00.000000000&quot;, &quot;2027-07-12T00:00:00.000000000&quot;, &quot;2027-10-08T00:00:00.000000000&quot;, &quot;2028-07-09T00:00:00.000000000&quot;, &quot;2028-11-17T00:00:00.000000000&quot;, &quot;2029-03-08T00:00:00.000000000&quot;, &quot;2029-04-23T00:00:00.000000000&quot;, &quot;2029-09-15T00:00:00.000000000&quot;, &quot;2029-12-11T00:00:00.000000000&quot;, &quot;2030-01-09T00:00:00.000000000&quot;, &quot;2030-10-03T00:00:00.000000000&quot;, &quot;2030-10-19T00:00:00.000000000&quot;, &quot;2030-10-23T00:00:00.000000000&quot;, &quot;2030-12-20T00:00:00.000000000&quot;, &quot;2031-01-11T00:00:00.000000000&quot;], &quot;hovertemplate&quot;: &quot;job=job14&lt;br&gt;start=%{base}&lt;br&gt;end=%{x}&lt;br&gt;resource=%{y}&lt;extra&gt;&lt;/extra&gt;&quot;, &quot;legendgroup&quot;: &quot;job14&quot;, &quot;marker&quot;: {&quot;color&quot;: &quot;#FFA15A&quot;, &quot;opacity&quot;: 0.5, &quot;pattern&quot;: {&quot;shape&quot;: &quot;&quot;}}, &quot;name&quot;: &quot;job14&quot;, &quot;orientation&quot;: &quot;h&quot;, &quot;showlegend&quot;: true, &quot;textposition&quot;: &quot;auto&quot;, &quot;x&quot;: [864000000, 3196800000, 8553600000, 2419200000, 7257600000, 7948800000, 1036800000, 6220800000, 7257600000, 7776000000, 3024000000, 3456000000, 5443200000, 2505600000, 7689600000, 1382400000, 345600000, 3283200000, 1900800000, 7257600000], &quot;xaxis&quot;: &quot;x&quot;, &quot;y&quot;: [&quot;machine18&quot;, &quot;machine11&quot;, &quot;machine2&quot;, &quot;machine3&quot;, &quot;machine5&quot;, &quot;machine4&quot;, &quot;machine15&quot;, &quot;machine13&quot;, &quot;machine19&quot;, &quot;machine6&quot;, &quot;machine1&quot;, &quot;machine14&quot;, &quot;machine0&quot;, &quot;machine12&quot;, &quot;machine8&quot;, &quot;machine9&quot;, &quot;machine16&quot;, &quot;machine7&quot;, &quot;machine10&quot;, &quot;machine17&quot;], &quot;yaxis&quot;: &quot;y&quot;, &quot;type&quot;: &quot;bar&quot;}, {&quot;base&quot;: [&quot;2025-12-20T00:00:00.000000000&quot;, &quot;2026-03-16T00:00:00.000000000&quot;, &quot;2026-05-13T00:00:00.000000000&quot;, &quot;2027-03-28T00:00:00.000000000&quot;, &quot;2027-06-01T00:00:00.000000000&quot;, &quot;2027-09-15T00:00:00.000000000&quot;, &quot;2027-11-18T00:00:00.000000000&quot;, &quot;2028-04-01T00:00:00.000000000&quot;, &quot;2028-06-11T00:00:00.000000000&quot;, &quot;2028-07-09T00:00:00.000000000&quot;, &quot;2028-08-31T00:00:00.000000000&quot;, &quot;2030-01-01T00:00:00.000000000&quot;, &quot;2030-03-16T00:00:00.000000000&quot;, &quot;2030-04-01T00:00:00.000000000&quot;, &quot;2030-04-29T00:00:00.000000000&quot;, &quot;2030-05-05T00:00:00.000000000&quot;, &quot;2030-07-19T00:00:00.000000000&quot;, &quot;2030-09-25T00:00:00.000000000&quot;, &quot;2030-12-01T00:00:00.000000000&quot;, &quot;2031-02-08T00:00:00.000000000&quot;], &quot;hovertemplate&quot;: &quot;job=job15&lt;br&gt;start=%{base}&lt;br&gt;end=%{x}&lt;br&gt;resource=%{y}&lt;extra&gt;&lt;/extra&gt;&quot;, &quot;legendgroup&quot;: &quot;job15&quot;, &quot;marker&quot;: {&quot;color&quot;: &quot;#19d3f3&quot;, &quot;opacity&quot;: 0.5, &quot;pattern&quot;: {&quot;shape&quot;: &quot;&quot;}}, &quot;name&quot;: &quot;job15&quot;, &quot;orientation&quot;: &quot;h&quot;, &quot;showlegend&quot;: true, &quot;textposition&quot;: &quot;auto&quot;, &quot;x&quot;: [3542400000, 3283200000, 6134400000, 5616000000, 7430400000, 2592000000, 4924800000, 6134400000, 2073600000, 864000000, 6739200000, 6393600000, 1382400000, 2160000000, 518400000, 6480000000, 5875200000, 5788800000, 5961600000, 4838400000], &quot;xaxis&quot;: &quot;x&quot;, &quot;y&quot;: [&quot;machine10&quot;, &quot;machine13&quot;, &quot;machine16&quot;, &quot;machine8&quot;, &quot;machine17&quot;, &quot;machine11&quot;, &quot;machine7&quot;, &quot;machine5&quot;, &quot;machine14&quot;, &quot;machine15&quot;, &quot;machine6&quot;, &quot;machine3&quot;, &quot;machine0&quot;, &quot;machine19&quot;, &quot;machine18&quot;, &quot;machine2&quot;, &quot;machine4&quot;, &quot;machine12&quot;, &quot;machine1&quot;, &quot;machine9&quot;], &quot;yaxis&quot;: &quot;y&quot;, &quot;type&quot;: &quot;bar&quot;}, {&quot;base&quot;: [&quot;2026-05-25T00:00:00.000000000&quot;, &quot;2026-07-20T00:00:00.000000000&quot;, &quot;2026-10-07T00:00:00.000000000&quot;, &quot;2026-11-12T00:00:00.000000000&quot;, &quot;2026-11-25T00:00:00.000000000&quot;, &quot;2026-11-28T00:00:00.000000000&quot;, &quot;2027-10-26T00:00:00.000000000&quot;, &quot;2028-01-30T00:00:00.000000000&quot;, &quot;2028-03-25T00:00:00.000000000&quot;, &quot;2028-04-12T00:00:00.000000000&quot;, &quot;2028-09-14T00:00:00.000000000&quot;, &quot;2028-11-06T00:00:00.000000000&quot;, &quot;2029-02-06T00:00:00.000000000&quot;, &quot;2029-05-22T00:00:00.000000000&quot;, &quot;2029-07-23T00:00:00.000000000&quot;, &quot;2029-08-24T00:00:00.000000000&quot;, &quot;2029-09-08T00:00:00.000000000&quot;, &quot;2029-09-30T00:00:00.000000000&quot;, &quot;2030-01-01T00:00:00.000000000&quot;, &quot;2030-04-03T00:00:00.000000000&quot;], &quot;hovertemplate&quot;: &quot;job=job16&lt;br&gt;start=%{base}&lt;br&gt;end=%{x}&lt;br&gt;resource=%{y}&lt;extra&gt;&lt;/extra&gt;&quot;, &quot;legendgroup&quot;: &quot;job16&quot;, &quot;marker&quot;: {&quot;color&quot;: &quot;#FF6692&quot;, &quot;opacity&quot;: 0.5, &quot;pattern&quot;: {&quot;shape&quot;: &quot;&quot;}}, &quot;name&quot;: &quot;job16&quot;, &quot;orientation&quot;: &quot;h&quot;, &quot;showlegend&quot;: true, &quot;textposition&quot;: &quot;auto&quot;, &quot;x&quot;: [3974400000, 6825600000, 3110400000, 1123200000, 259200000, 4924800000, 6825600000, 4579200000, 950400000, 3888000000, 3369600000, 7516800000, 2160000000, 5356800000, 2764800000, 1123200000, 1900800000, 8035200000, 7776000000, 7776000000], &quot;xaxis&quot;: &quot;x&quot;, &quot;y&quot;: [&quot;machine2&quot;, &quot;machine10&quot;, &quot;machine19&quot;, &quot;machine7&quot;, &quot;machine18&quot;, &quot;machine4&quot;, &quot;machine6&quot;, &quot;machine5&quot;, &quot;machine0&quot;, &quot;machine11&quot;, &quot;machine13&quot;, &quot;machine1&quot;, &quot;machine9&quot;, &quot;machine12&quot;, &quot;machine8&quot;, &quot;machine16&quot;, &quot;machine14&quot;, &quot;machine3&quot;, &quot;machine15&quot;, &quot;machine17&quot;], &quot;yaxis&quot;: &quot;y&quot;, &quot;type&quot;: &quot;bar&quot;}, {&quot;base&quot;: [&quot;2025-08-04T00:00:00.000000000&quot;, &quot;2025-10-07T00:00:00.000000000&quot;, &quot;2026-07-26T00:00:00.000000000&quot;, &quot;2027-04-13T00:00:00.000000000&quot;, &quot;2027-07-14T00:00:00.000000000&quot;, &quot;2027-07-29T00:00:00.000000000&quot;, &quot;2027-08-30T00:00:00.000000000&quot;, &quot;2027-09-05T00:00:00.000000000&quot;, &quot;2027-12-10T00:00:00.000000000&quot;, &quot;2028-01-31T00:00:00.000000000&quot;, &quot;2028-04-27T00:00:00.000000000&quot;, &quot;2028-07-19T00:00:00.000000000&quot;, &quot;2028-10-02T00:00:00.000000000&quot;, &quot;2028-12-25T00:00:00.000000000&quot;, &quot;2029-03-05T00:00:00.000000000&quot;, &quot;2029-03-15T00:00:00.000000000&quot;, &quot;2029-04-23T00:00:00.000000000&quot;, &quot;2030-07-01T00:00:00.000000000&quot;, &quot;2030-12-01T00:00:00.000000000&quot;, &quot;2031-03-09T00:00:00.000000000&quot;], &quot;hovertemplate&quot;: &quot;job=job17&lt;br&gt;start=%{base}&lt;br&gt;end=%{x}&lt;br&gt;resource=%{y}&lt;extra&gt;&lt;/extra&gt;&quot;, &quot;legendgroup&quot;: &quot;job17&quot;, &quot;marker&quot;: {&quot;color&quot;: &quot;#B6E880&quot;, &quot;opacity&quot;: 0.5, &quot;pattern&quot;: {&quot;shape&quot;: &quot;&quot;}}, &quot;name&quot;: &quot;job17&quot;, &quot;orientation&quot;: &quot;h&quot;, &quot;showlegend&quot;: true, &quot;textposition&quot;: &quot;auto&quot;, &quot;x&quot;: [5529600000, 6048000000, 777600000, 7948800000, 1296000000, 2764800000, 518400000, 8294400000, 4406400000, 7516800000, 4233600000, 6480000000, 7257600000, 86400000, 864000000, 3369600000, 259200000, 7689600000, 1123200000, 1814400000], &quot;xaxis&quot;: &quot;x&quot;, &quot;y&quot;: [&quot;machine1&quot;, &quot;machine13&quot;, &quot;machine11&quot;, &quot;machine2&quot;, &quot;machine3&quot;, &quot;machine18&quot;, &quot;machine17&quot;, &quot;machine9&quot;, &quot;machine16&quot;, &quot;machine6&quot;, &quot;machine12&quot;, &quot;machine15&quot;, &quot;machine0&quot;, &quot;machine4&quot;, &quot;machine7&quot;, &quot;machine14&quot;, &quot;machine8&quot;, &quot;machine5&quot;, &quot;machine10&quot;, &quot;machine19&quot;], &quot;yaxis&quot;: &quot;y&quot;, &quot;type&quot;: &quot;bar&quot;}, {&quot;base&quot;: [&quot;2025-06-29T00:00:00.000000000&quot;, &quot;2025-09-15T00:00:00.000000000&quot;, &quot;2025-11-13T00:00:00.000000000&quot;, &quot;2025-11-27T00:00:00.000000000&quot;, &quot;2026-02-04T00:00:00.000000000&quot;, &quot;2026-08-24T00:00:00.000000000&quot;, &quot;2027-10-17T00:00:00.000000000&quot;, &quot;2028-01-15T00:00:00.000000000&quot;, &quot;2028-07-04T00:00:00.000000000&quot;, &quot;2028-08-13T00:00:00.000000000&quot;, &quot;2028-12-21T00:00:00.000000000&quot;, &quot;2029-02-17T00:00:00.000000000&quot;, &quot;2029-04-28T00:00:00.000000000&quot;, &quot;2029-06-30T00:00:00.000000000&quot;, &quot;2029-09-30T00:00:00.000000000&quot;, &quot;2030-03-17T00:00:00.000000000&quot;, &quot;2030-07-23T00:00:00.000000000&quot;, &quot;2030-11-06T00:00:00.000000000&quot;, &quot;2030-12-09T00:00:00.000000000&quot;, &quot;2031-01-09T00:00:00.000000000&quot;], &quot;hovertemplate&quot;: &quot;job=job18&lt;br&gt;start=%{base}&lt;br&gt;end=%{x}&lt;br&gt;resource=%{y}&lt;extra&gt;&lt;/extra&gt;&quot;, &quot;legendgroup&quot;: &quot;job18&quot;, &quot;marker&quot;: {&quot;color&quot;: &quot;#FF97FF&quot;, &quot;opacity&quot;: 0.5, &quot;pattern&quot;: {&quot;shape&quot;: &quot;&quot;}}, &quot;name&quot;: &quot;job18&quot;, &quot;orientation&quot;: &quot;h&quot;, &quot;showlegend&quot;: true, &quot;textposition&quot;: &quot;auto&quot;, &quot;x&quot;: [3888000000, 3456000000, 1209600000, 5961600000, 3888000000, 8467200000, 7776000000, 1641600000, 3456000000, 172800000, 4060800000, 6048000000, 3974400000, 6048000000, 8035200000, 6048000000, 8035200000, 2851200000, 777600000, 7344000000], &quot;xaxis&quot;: &quot;x&quot;, &quot;y&quot;: [&quot;machine18&quot;, &quot;machine10&quot;, &quot;machine12&quot;, &quot;machine16&quot;, &quot;machine1&quot;, &quot;machine11&quot;, &quot;machine8&quot;, &quot;machine19&quot;, &quot;machine9&quot;, &quot;machine17&quot;, &quot;machine5&quot;, &quot;machine2&quot;, &quot;machine13&quot;, &quot;machine14&quot;, &quot;machine7&quot;, &quot;machine6&quot;, &quot;machine15&quot;, &quot;machine0&quot;, &quot;machine3&quot;, &quot;machine4&quot;], &quot;yaxis&quot;: &quot;y&quot;, &quot;type&quot;: &quot;bar&quot;}, {&quot;base&quot;: [&quot;2025-06-19T00:00:00.000000000&quot;, &quot;2025-07-02T00:00:00.000000000&quot;, &quot;2026-01-19T00:00:00.000000000&quot;, &quot;2026-05-07T00:00:00.000000000&quot;, &quot;2026-10-07T00:00:00.000000000&quot;, &quot;2026-12-16T00:00:00.000000000&quot;, &quot;2027-02-15T00:00:00.000000000&quot;, &quot;2027-07-18T00:00:00.000000000&quot;, &quot;2027-08-28T00:00:00.000000000&quot;, &quot;2027-11-29T00:00:00.000000000&quot;, &quot;2028-03-02T00:00:00.000000000&quot;, &quot;2028-05-19T00:00:00.000000000&quot;, &quot;2028-07-30T00:00:00.000000000&quot;, &quot;2028-10-04T00:00:00.000000000&quot;, &quot;2029-02-01T00:00:00.000000000&quot;, &quot;2029-02-27T00:00:00.000000000&quot;, &quot;2029-04-04T00:00:00.000000000&quot;, &quot;2029-05-21T00:00:00.000000000&quot;, &quot;2029-08-17T00:00:00.000000000&quot;, &quot;2029-11-18T00:00:00.000000000&quot;], &quot;hovertemplate&quot;: &quot;job=job19&lt;br&gt;start=%{base}&lt;br&gt;end=%{x}&lt;br&gt;resource=%{y}&lt;extra&gt;&lt;/extra&gt;&quot;, &quot;legendgroup&quot;: &quot;job19&quot;, &quot;marker&quot;: {&quot;color&quot;: &quot;#FECB52&quot;, &quot;opacity&quot;: 0.5, &quot;pattern&quot;: {&quot;shape&quot;: &quot;&quot;}}, &quot;name&quot;: &quot;job19&quot;, &quot;orientation&quot;: &quot;h&quot;, &quot;showlegend&quot;: true, &quot;textposition&quot;: &quot;auto&quot;, &quot;x&quot;: [1123200000, 7344000000, 2764800000, 2592000000, 6048000000, 5270400000, 3628800000, 3542400000, 7948800000, 7516800000, 3110400000, 5011200000, 5702400000, 6048000000, 1814400000, 1900800000, 3542400000, 7603200000, 7862400000, 8121600000], &quot;xaxis&quot;: &quot;x&quot;, &quot;y&quot;: [&quot;machine7&quot;, &quot;machine8&quot;, &quot;machine14&quot;, &quot;machine11&quot;, &quot;machine10&quot;, &quot;machine13&quot;, &quot;machine6&quot;, &quot;machine16&quot;, &quot;machine19&quot;, &quot;machine2&quot;, &quot;machine18&quot;, &quot;machine3&quot;, &quot;machine5&quot;, &quot;machine4&quot;, &quot;machine1&quot;, &quot;machine12&quot;, &quot;machine15&quot;, &quot;machine0&quot;, &quot;machine9&quot;, &quot;machine17&quot;], &quot;yaxis&quot;: &quot;y&quot;, &quot;type&quot;: &quot;bar&quot;}, {&quot;base&quot;: [&quot;2025-06-19T00:00:00.000000000&quot;, &quot;2025-09-25T00:00:00.000000000&quot;, &quot;2025-11-15T00:00:00.000000000&quot;, &quot;2026-01-05T00:00:00.000000000&quot;, &quot;2026-04-21T00:00:00.000000000&quot;, &quot;2027-05-06T00:00:00.000000000&quot;, &quot;2027-08-13T00:00:00.000000000&quot;, &quot;2027-12-12T00:00:00.000000000&quot;, &quot;2028-04-04T00:00:00.000000000&quot;, &quot;2028-05-04T00:00:00.000000000&quot;, &quot;2028-07-27T00:00:00.000000000&quot;, &quot;2028-10-08T00:00:00.000000000&quot;, &quot;2029-04-28T00:00:00.000000000&quot;, &quot;2029-05-09T00:00:00.000000000&quot;, &quot;2029-07-25T00:00:00.000000000&quot;, &quot;2029-12-02T00:00:00.000000000&quot;, &quot;2030-01-20T00:00:00.000000000&quot;, &quot;2030-02-12T00:00:00.000000000&quot;, &quot;2030-03-31T00:00:00.000000000&quot;, &quot;2030-07-01T00:00:00.000000000&quot;], &quot;hovertemplate&quot;: &quot;job=job20&lt;br&gt;start=%{base}&lt;br&gt;end=%{x}&lt;br&gt;resource=%{y}&lt;extra&gt;&lt;/extra&gt;&quot;, &quot;legendgroup&quot;: &quot;job20&quot;, &quot;marker&quot;: {&quot;color&quot;: &quot;#636efa&quot;, &quot;opacity&quot;: 0.5, &quot;pattern&quot;: {&quot;shape&quot;: &quot;&quot;}}, &quot;name&quot;: &quot;job20&quot;, &quot;orientation&quot;: &quot;h&quot;, &quot;showlegend&quot;: true, &quot;textposition&quot;: &quot;auto&quot;, &quot;x&quot;: [1641600000, 4406400000, 691200000, 8121600000, 6220800000, 8553600000, 1555200000, 3369600000, 2592000000, 5270400000, 1641600000, 6393600000, 172800000, 6652800000, 5702400000, 2419200000, 1987200000, 1209600000, 7948800000, 7776000000], &quot;xaxis&quot;: &quot;x&quot;, &quot;y&quot;: [&quot;machine11&quot;, &quot;machine6&quot;, &quot;machine17&quot;, &quot;machine8&quot;, &quot;machine4&quot;, &quot;machine12&quot;, &quot;machine1&quot;, &quot;machine0&quot;, &quot;machine19&quot;, &quot;machine9&quot;, &quot;machine16&quot;, &quot;machine18&quot;, &quot;machine2&quot;, &quot;machine3&quot;, &quot;machine10&quot;, &quot;machine15&quot;, &quot;machine14&quot;, &quot;machine7&quot;, &quot;machine5&quot;, &quot;machine13&quot;], &quot;yaxis&quot;: &quot;y&quot;, &quot;type&quot;: &quot;bar&quot;}, {&quot;base&quot;: [&quot;2025-06-19T00:00:00.000000000&quot;, &quot;2025-11-13T00:00:00.000000000&quot;, &quot;2026-03-18T00:00:00.000000000&quot;, &quot;2026-04-21T00:00:00.000000000&quot;, &quot;2026-05-24T00:00:00.000000000&quot;, &quot;2026-07-31T00:00:00.000000000&quot;, &quot;2026-11-02T00:00:00.000000000&quot;, &quot;2027-01-03T00:00:00.000000000&quot;, &quot;2027-03-27T00:00:00.000000000&quot;, &quot;2027-04-28T00:00:00.000000000&quot;, &quot;2028-01-24T00:00:00.000000000&quot;, &quot;2028-02-22T00:00:00.000000000&quot;, &quot;2028-05-27T00:00:00.000000000&quot;, &quot;2028-06-26T00:00:00.000000000&quot;, &quot;2028-09-12T00:00:00.000000000&quot;, &quot;2028-10-25T00:00:00.000000000&quot;, &quot;2029-01-18T00:00:00.000000000&quot;, &quot;2029-02-15T00:00:00.000000000&quot;, &quot;2029-04-18T00:00:00.000000000&quot;, &quot;2030-03-08T00:00:00.000000000&quot;], &quot;hovertemplate&quot;: &quot;job=job21&lt;br&gt;start=%{base}&lt;br&gt;end=%{x}&lt;br&gt;resource=%{y}&lt;extra&gt;&lt;/extra&gt;&quot;, &quot;legendgroup&quot;: &quot;job21&quot;, &quot;marker&quot;: {&quot;color&quot;: &quot;#EF553B&quot;, &quot;opacity&quot;: 0.5, &quot;pattern&quot;: {&quot;shape&quot;: &quot;&quot;}}, &quot;name&quot;: &quot;job21&quot;, &quot;orientation&quot;: &quot;h&quot;, &quot;showlegend&quot;: true, &quot;textposition&quot;: &quot;auto&quot;, &quot;x&quot;: [8294400000, 7948800000, 2937600000, 864000000, 5875200000, 8121600000, 5356800000, 7171200000, 2246400000, 7516800000, 2505600000, 8208000000, 2592000000, 4233600000, 3715200000, 7344000000, 86400000, 5184000000, 6912000000, 4147200000], &quot;xaxis&quot;: &quot;x&quot;, &quot;y&quot;: [&quot;machine16&quot;, &quot;machine19&quot;, &quot;machine4&quot;, &quot;machine5&quot;, &quot;machine3&quot;, &quot;machine18&quot;, &quot;machine15&quot;, &quot;machine8&quot;, &quot;machine13&quot;, &quot;machine0&quot;, &quot;machine10&quot;, &quot;machine14&quot;, &quot;machine11&quot;, &quot;machine1&quot;, &quot;machine12&quot;, &quot;machine2&quot;, &quot;machine9&quot;, &quot;machine6&quot;, &quot;machine17&quot;, &quot;machine7&quot;], &quot;yaxis&quot;: &quot;y&quot;, &quot;type&quot;: &quot;bar&quot;}, {&quot;base&quot;: [&quot;2025-07-20T00:00:00.000000000&quot;, &quot;2025-08-31T00:00:00.000000000&quot;, &quot;2025-09-23T00:00:00.000000000&quot;, &quot;2026-02-09T00:00:00.000000000&quot;, &quot;2026-06-25T00:00:00.000000000&quot;, &quot;2026-09-26T00:00:00.000000000&quot;, &quot;2027-02-07T00:00:00.000000000&quot;, &quot;2027-06-22T00:00:00.000000000&quot;, &quot;2027-12-19T00:00:00.000000000&quot;, &quot;2028-02-24T00:00:00.000000000&quot;, &quot;2028-06-12T00:00:00.000000000&quot;, &quot;2028-08-27T00:00:00.000000000&quot;, &quot;2029-03-16T00:00:00.000000000&quot;, &quot;2029-05-25T00:00:00.000000000&quot;, &quot;2029-08-24T00:00:00.000000000&quot;, &quot;2029-11-26T00:00:00.000000000&quot;, &quot;2030-02-11T00:00:00.000000000&quot;, &quot;2030-04-05T00:00:00.000000000&quot;, &quot;2030-06-06T00:00:00.000000000&quot;, &quot;2030-09-14T00:00:00.000000000&quot;], &quot;hovertemplate&quot;: &quot;job=job22&lt;br&gt;start=%{base}&lt;br&gt;end=%{x}&lt;br&gt;resource=%{y}&lt;extra&gt;&lt;/extra&gt;&quot;, &quot;legendgroup&quot;: &quot;job22&quot;, &quot;marker&quot;: {&quot;color&quot;: &quot;#00cc96&quot;, &quot;opacity&quot;: 0.5, &quot;pattern&quot;: {&quot;shape&quot;: &quot;&quot;}}, &quot;name&quot;: &quot;job22&quot;, &quot;orientation&quot;: &quot;h&quot;, &quot;showlegend&quot;: true, &quot;textposition&quot;: &quot;auto&quot;, &quot;x&quot;: [3628800000, 1209600000, 4752000000, 8380800000, 5616000000, 5443200000, 6393600000, 5443200000, 5788800000, 4147200000, 5443200000, 6998400000, 691200000, 604800000, 1900800000, 3715200000, 4579200000, 1900800000, 8035200000, 7689600000], &quot;xaxis&quot;: &quot;x&quot;, &quot;y&quot;: [&quot;machine3&quot;, &quot;machine4&quot;, &quot;machine2&quot;, &quot;machine9&quot;, &quot;machine7&quot;, &quot;machine16&quot;, &quot;machine0&quot;, &quot;machine5&quot;, &quot;machine13&quot;, &quot;machine11&quot;, &quot;machine8&quot;, &quot;machine14&quot;, &quot;machine18&quot;, &quot;machine10&quot;, &quot;machine17&quot;, &quot;machine6&quot;, &quot;machine12&quot;, &quot;machine15&quot;, &quot;machine1&quot;, &quot;machine19&quot;], &quot;yaxis&quot;: &quot;y&quot;, &quot;type&quot;: &quot;bar&quot;}, {&quot;base&quot;: [&quot;2025-08-21T00:00:00.000000000&quot;, &quot;2026-12-19T00:00:00.000000000&quot;, &quot;2027-01-02T00:00:00.000000000&quot;, &quot;2027-03-06T00:00:00.000000000&quot;, &quot;2027-03-29T00:00:00.000000000&quot;, &quot;2027-12-31T00:00:00.000000000&quot;, &quot;2028-02-28T00:00:00.000000000&quot;, &quot;2028-03-14T00:00:00.000000000&quot;, &quot;2028-03-23T00:00:00.000000000&quot;, &quot;2028-08-15T00:00:00.000000000&quot;, &quot;2028-12-21T00:00:00.000000000&quot;, &quot;2029-03-21T00:00:00.000000000&quot;, &quot;2029-06-29T00:00:00.000000000&quot;, &quot;2029-09-15T00:00:00.000000000&quot;, &quot;2029-11-18T00:00:00.000000000&quot;, &quot;2030-05-06T00:00:00.000000000&quot;, &quot;2030-09-25T00:00:00.000000000&quot;, &quot;2030-12-07T00:00:00.000000000&quot;, &quot;2030-12-13T00:00:00.000000000&quot;, &quot;2031-03-09T00:00:00.000000000&quot;], &quot;hovertemplate&quot;: &quot;job=job23&lt;br&gt;start=%{base}&lt;br&gt;end=%{x}&lt;br&gt;resource=%{y}&lt;extra&gt;&lt;/extra&gt;&quot;, &quot;legendgroup&quot;: &quot;job23&quot;, &quot;marker&quot;: {&quot;color&quot;: &quot;#ab63fa&quot;, &quot;opacity&quot;: 0.5, &quot;pattern&quot;: {&quot;shape&quot;: &quot;&quot;}}, &quot;name&quot;: &quot;job23&quot;, &quot;orientation&quot;: &quot;h&quot;, &quot;showlegend&quot;: true, &quot;textposition&quot;: &quot;auto&quot;, &quot;x&quot;: [1209600000, 172800000, 691200000, 1900800000, 8035200000, 5097600000, 1296000000, 777600000, 864000000, 6998400000, 7344000000, 5356800000, 6048000000, 5529600000, 8035200000, 2246400000, 2592000000, 518400000, 7430400000, 2332800000], &quot;xaxis&quot;: &quot;x&quot;, &quot;y&quot;: [&quot;machine7&quot;, &quot;machine2&quot;, &quot;machine14&quot;, &quot;machine5&quot;, &quot;machine6&quot;, &quot;machine9&quot;, &quot;machine10&quot;, &quot;machine15&quot;, &quot;machine3&quot;, &quot;machine16&quot;, &quot;machine18&quot;, &quot;machine12&quot;, &quot;machine11&quot;, &quot;machine17&quot;, &quot;machine0&quot;, &quot;machine8&quot;, &quot;machine4&quot;, &quot;machine13&quot;, &quot;machine19&quot;, &quot;machine1&quot;], &quot;yaxis&quot;: &quot;y&quot;, &quot;type&quot;: &quot;bar&quot;}, {&quot;base&quot;: [&quot;2025-07-21T00:00:00.000000000&quot;, &quot;2025-09-09T00:00:00.000000000&quot;, &quot;2025-11-11T00:00:00.000000000&quot;, &quot;2026-01-06T00:00:00.000000000&quot;, &quot;2026-03-28T00:00:00.000000000&quot;, &quot;2026-08-14T00:00:00.000000000&quot;, &quot;2026-12-16T00:00:00.000000000&quot;, &quot;2027-03-30T00:00:00.000000000&quot;, &quot;2028-03-15T00:00:00.000000000&quot;, &quot;2028-06-03T00:00:00.000000000&quot;, &quot;2028-07-20T00:00:00.000000000&quot;, &quot;2028-09-29T00:00:00.000000000&quot;, &quot;2028-12-03T00:00:00.000000000&quot;, &quot;2029-01-16T00:00:00.000000000&quot;, &quot;2029-04-16T00:00:00.000000000&quot;, &quot;2030-01-31T00:00:00.000000000&quot;, &quot;2030-04-19T00:00:00.000000000&quot;, &quot;2030-07-20T00:00:00.000000000&quot;, &quot;2030-10-22T00:00:00.000000000&quot;, &quot;2030-12-09T00:00:00.000000000&quot;], &quot;hovertemplate&quot;: &quot;job=job24&lt;br&gt;start=%{base}&lt;br&gt;end=%{x}&lt;br&gt;resource=%{y}&lt;extra&gt;&lt;/extra&gt;&quot;, &quot;legendgroup&quot;: &quot;job24&quot;, &quot;marker&quot;: {&quot;color&quot;: &quot;#FFA15A&quot;, &quot;opacity&quot;: 0.5, &quot;pattern&quot;: {&quot;shape&quot;: &quot;&quot;}}, &quot;name&quot;: &quot;job24&quot;, &quot;orientation&quot;: &quot;h&quot;, &quot;showlegend&quot;: true, &quot;textposition&quot;: &quot;auto&quot;, &quot;x&quot;: [864000000, 3369600000, 4838400000, 1987200000, 3801600000, 8035200000, 7776000000, 8553600000, 6912000000, 4060800000, 3283200000, 1296000000, 3542400000, 2246400000, 4147200000, 4492800000, 6480000000, 5616000000, 345600000, 4924800000], &quot;xaxis&quot;: &quot;x&quot;, &quot;y&quot;: [&quot;machine17&quot;, &quot;machine11&quot;, &quot;machine18&quot;, &quot;machine7&quot;, &quot;machine12&quot;, &quot;machine4&quot;, &quot;machine10&quot;, &quot;machine3&quot;, &quot;machine8&quot;, &quot;machine13&quot;, &quot;machine2&quot;, &quot;machine9&quot;, &quot;machine15&quot;, &quot;machine19&quot;, &quot;machine6&quot;, &quot;machine1&quot;, &quot;machine16&quot;, &quot;machine14&quot;, &quot;machine5&quot;, &quot;machine0&quot;], &quot;yaxis&quot;: &quot;y&quot;, &quot;type&quot;: &quot;bar&quot;}, {&quot;base&quot;: [&quot;2025-06-19T00:00:00.000000000&quot;, &quot;2025-09-14T00:00:00.000000000&quot;, &quot;2025-12-10T00:00:00.000000000&quot;, &quot;2025-12-20T00:00:00.000000000&quot;, &quot;2026-07-19T00:00:00.000000000&quot;, &quot;2026-10-27T00:00:00.000000000&quot;, &quot;2027-07-16T00:00:00.000000000&quot;, &quot;2027-11-25T00:00:00.000000000&quot;, &quot;2028-03-09T00:00:00.000000000&quot;, &quot;2028-04-18T00:00:00.000000000&quot;, &quot;2028-05-01T00:00:00.000000000&quot;, &quot;2028-07-16T00:00:00.000000000&quot;, &quot;2028-12-06T00:00:00.000000000&quot;, &quot;2029-01-27T00:00:00.000000000&quot;, &quot;2029-05-02T00:00:00.000000000&quot;, &quot;2029-07-23T00:00:00.000000000&quot;, &quot;2029-09-18T00:00:00.000000000&quot;, &quot;2030-02-20T00:00:00.000000000&quot;, &quot;2030-04-03T00:00:00.000000000&quot;, &quot;2030-07-25T00:00:00.000000000&quot;], &quot;hovertemplate&quot;: &quot;job=job25&lt;br&gt;start=%{base}&lt;br&gt;end=%{x}&lt;br&gt;resource=%{y}&lt;extra&gt;&lt;/extra&gt;&quot;, &quot;legendgroup&quot;: &quot;job25&quot;, &quot;marker&quot;: {&quot;color&quot;: &quot;#19d3f3&quot;, &quot;opacity&quot;: 0.5, &quot;pattern&quot;: {&quot;shape&quot;: &quot;&quot;}}, &quot;name&quot;: &quot;job25&quot;, &quot;orientation&quot;: &quot;h&quot;, &quot;showlegend&quot;: true, &quot;textposition&quot;: &quot;auto&quot;, &quot;x&quot;: [3974400000, 6739200000, 864000000, 1123200000, 2764800000, 5443200000, 6134400000, 5702400000, 3456000000, 1123200000, 4320000000, 8380800000, 3542400000, 8208000000, 5011200000, 4924800000, 5443200000, 3628800000, 4838400000, 2678400000], &quot;xaxis&quot;: &quot;x&quot;, &quot;y&quot;: [&quot;machine1&quot;, &quot;machine4&quot;, &quot;machine10&quot;, &quot;machine7&quot;, &quot;machine0&quot;, &quot;machine9&quot;, &quot;machine14&quot;, &quot;machine5&quot;, &quot;machine2&quot;, &quot;machine18&quot;, &quot;machine6&quot;, &quot;machine3&quot;, &quot;machine19&quot;, &quot;machine16&quot;, &quot;machine11&quot;, &quot;machine12&quot;, &quot;machine15&quot;, &quot;machine17&quot;, &quot;machine13&quot;, &quot;machine8&quot;], &quot;yaxis&quot;: &quot;y&quot;, &quot;type&quot;: &quot;bar&quot;}, {&quot;base&quot;: [&quot;2025-06-19T00:00:00.000000000&quot;, &quot;2026-02-20T00:00:00.000000000&quot;, &quot;2026-02-22T00:00:00.000000000&quot;, &quot;2026-04-14T00:00:00.000000000&quot;, &quot;2026-05-03T00:00:00.000000000&quot;, &quot;2027-01-13T00:00:00.000000000&quot;, &quot;2027-05-11T00:00:00.000000000&quot;, &quot;2027-09-07T00:00:00.000000000&quot;, &quot;2028-02-28T00:00:00.000000000&quot;, &quot;2028-05-04T00:00:00.000000000&quot;, &quot;2028-07-09T00:00:00.000000000&quot;, &quot;2028-10-02T00:00:00.000000000&quot;, &quot;2029-01-09T00:00:00.000000000&quot;, &quot;2029-02-05T00:00:00.000000000&quot;, &quot;2029-03-05T00:00:00.000000000&quot;, &quot;2029-03-10T00:00:00.000000000&quot;, &quot;2029-11-22T00:00:00.000000000&quot;, &quot;2030-03-16T00:00:00.000000000&quot;, &quot;2030-09-07T00:00:00.000000000&quot;, &quot;2030-11-03T00:00:00.000000000&quot;], &quot;hovertemplate&quot;: &quot;job=job26&lt;br&gt;start=%{base}&lt;br&gt;end=%{x}&lt;br&gt;resource=%{y}&lt;extra&gt;&lt;/extra&gt;&quot;, &quot;legendgroup&quot;: &quot;job26&quot;, &quot;marker&quot;: {&quot;color&quot;: &quot;#FF6692&quot;, &quot;opacity&quot;: 0.5, &quot;pattern&quot;: {&quot;shape&quot;: &quot;&quot;}}, &quot;name&quot;: &quot;job26&quot;, &quot;orientation&quot;: &quot;h&quot;, &quot;showlegend&quot;: true, &quot;textposition&quot;: &quot;auto&quot;, &quot;x&quot;: [7603200000, 172800000, 2937600000, 1641600000, 7430400000, 7776000000, 7257600000, 3456000000, 4492800000, 5702400000, 6566400000, 5356800000, 2332800000, 2419200000, 432000000, 6220800000, 4665600000, 3974400000, 4924800000, 5702400000], &quot;xaxis&quot;: &quot;x&quot;, &quot;y&quot;: [&quot;machine10&quot;, &quot;machine14&quot;, &quot;machine12&quot;, &quot;machine6&quot;, &quot;machine18&quot;, &quot;machine2&quot;, &quot;machine13&quot;, &quot;machine8&quot;, &quot;machine9&quot;, &quot;machine19&quot;, &quot;machine11&quot;, &quot;machine15&quot;, &quot;machine17&quot;, &quot;machine7&quot;, &quot;machine0&quot;, &quot;machine5&quot;, &quot;machine16&quot;, &quot;machine3&quot;, &quot;machine1&quot;, &quot;machine4&quot;], &quot;yaxis&quot;: &quot;y&quot;, &quot;type&quot;: &quot;bar&quot;}, {&quot;base&quot;: [&quot;2026-05-13T00:00:00.000000000&quot;, &quot;2026-08-19T00:00:00.000000000&quot;, &quot;2026-10-07T00:00:00.000000000&quot;, &quot;2026-11-21T00:00:00.000000000&quot;, &quot;2027-02-27T00:00:00.000000000&quot;, &quot;2027-07-20T00:00:00.000000000&quot;, &quot;2027-08-19T00:00:00.000000000&quot;, &quot;2027-08-30T00:00:00.000000000&quot;, &quot;2027-11-26T00:00:00.000000000&quot;, &quot;2028-06-15T00:00:00.000000000&quot;, &quot;2029-05-04T00:00:00.000000000&quot;, &quot;2029-08-17T00:00:00.000000000&quot;, &quot;2029-09-29T00:00:00.000000000&quot;, &quot;2030-04-08T00:00:00.000000000&quot;, &quot;2030-07-02T00:00:00.000000000&quot;, &quot;2030-09-21T00:00:00.000000000&quot;, &quot;2030-11-30T00:00:00.000000000&quot;, &quot;2031-03-11T00:00:00.000000000&quot;, &quot;2031-03-22T00:00:00.000000000&quot;, &quot;2031-04-02T00:00:00.000000000&quot;], &quot;hovertemplate&quot;: &quot;job=job27&lt;br&gt;start=%{base}&lt;br&gt;end=%{x}&lt;br&gt;resource=%{y}&lt;extra&gt;&lt;/extra&gt;&quot;, &quot;legendgroup&quot;: &quot;job27&quot;, &quot;marker&quot;: {&quot;color&quot;: &quot;#B6E880&quot;, &quot;opacity&quot;: 0.5, &quot;pattern&quot;: {&quot;shape&quot;: &quot;&quot;}}, &quot;name&quot;: &quot;job27&quot;, &quot;orientation&quot;: &quot;h&quot;, &quot;showlegend&quot;: true, &quot;textposition&quot;: &quot;auto&quot;, &quot;x&quot;: [8467200000, 3801600000, 2851200000, 1728000000, 6393600000, 2592000000, 345600000, 7603200000, 1641600000, 7344000000, 6998400000, 2505600000, 6220800000, 6825600000, 4665600000, 3196800000, 8208000000, 950400000, 950400000, 172800000], &quot;xaxis&quot;: &quot;x&quot;, &quot;y&quot;: [&quot;machine14&quot;, &quot;machine13&quot;, &quot;machine1&quot;, &quot;machine5&quot;, &quot;machine17&quot;, &quot;machine2&quot;, &quot;machine4&quot;, &quot;machine18&quot;, &quot;machine3&quot;, &quot;machine12&quot;, &quot;machine19&quot;, &quot;machine0&quot;, &quot;machine10&quot;, &quot;machine9&quot;, &quot;machine11&quot;, &quot;machine8&quot;, &quot;machine7&quot;, &quot;machine15&quot;, &quot;machine16&quot;, &quot;machine6&quot;], &quot;yaxis&quot;: &quot;y&quot;, &quot;type&quot;: &quot;bar&quot;}, {&quot;base&quot;: [&quot;2025-06-19T00:00:00.000000000&quot;, &quot;2025-08-06T00:00:00.000000000&quot;, &quot;2025-09-23T00:00:00.000000000&quot;, &quot;2025-10-18T00:00:00.000000000&quot;, &quot;2025-11-13T00:00:00.000000000&quot;, &quot;2026-04-14T00:00:00.000000000&quot;, &quot;2026-08-20T00:00:00.000000000&quot;, &quot;2026-12-21T00:00:00.000000000&quot;, &quot;2027-01-13T00:00:00.000000000&quot;, &quot;2027-02-18T00:00:00.000000000&quot;, &quot;2027-06-01T00:00:00.000000000&quot;, &quot;2027-08-31T00:00:00.000000000&quot;, &quot;2027-12-06T00:00:00.000000000&quot;, &quot;2027-12-12T00:00:00.000000000&quot;, &quot;2028-01-04T00:00:00.000000000&quot;, &quot;2028-03-23T00:00:00.000000000&quot;, &quot;2029-02-11T00:00:00.000000000&quot;, &quot;2029-06-03T00:00:00.000000000&quot;, &quot;2029-07-25T00:00:00.000000000&quot;, &quot;2030-02-01T00:00:00.000000000&quot;], &quot;hovertemplate&quot;: &quot;job=job28&lt;br&gt;start=%{base}&lt;br&gt;end=%{x}&lt;br&gt;resource=%{y}&lt;extra&gt;&lt;/extra&gt;&quot;, &quot;legendgroup&quot;: &quot;job28&quot;, &quot;marker&quot;: {&quot;color&quot;: &quot;#FF97FF&quot;, &quot;opacity&quot;: 0.5, &quot;pattern&quot;: {&quot;shape&quot;: &quot;&quot;}}, &quot;name&quot;: &quot;job28&quot;, &quot;orientation&quot;: &quot;h&quot;, &quot;showlegend&quot;: true, &quot;textposition&quot;: &quot;auto&quot;, &quot;x&quot;: [4147200000, 2937600000, 2160000000, 2246400000, 4579200000, 8380800000, 2246400000, 1987200000, 3110400000, 1468800000, 5616000000, 8380800000, 432000000, 1123200000, 6134400000, 2764800000, 2246400000, 518400000, 4060800000, 4924800000], &quot;xaxis&quot;: &quot;x&quot;, &quot;y&quot;: [&quot;machine5&quot;, &quot;machine11&quot;, &quot;machine16&quot;, &quot;machine12&quot;, &quot;machine15&quot;, &quot;machine10&quot;, &quot;machine0&quot;, &quot;machine2&quot;, &quot;machine14&quot;, &quot;machine4&quot;, &quot;machine8&quot;, &quot;machine1&quot;, &quot;machine18&quot;, &quot;machine9&quot;, &quot;machine17&quot;, &quot;machine7&quot;, &quot;machine19&quot;, &quot;machine6&quot;, &quot;machine3&quot;, &quot;machine13&quot;], &quot;yaxis&quot;: &quot;y&quot;, &quot;type&quot;: &quot;bar&quot;}, {&quot;base&quot;: [&quot;2025-06-19T00:00:00.000000000&quot;, &quot;2025-09-23T00:00:00.000000000&quot;, &quot;2025-12-19T00:00:00.000000000&quot;, &quot;2026-09-24T00:00:00.000000000&quot;, &quot;2026-11-10T00:00:00.000000000&quot;, &quot;2027-01-19T00:00:00.000000000&quot;, &quot;2027-02-23T00:00:00.000000000&quot;, &quot;2027-05-29T00:00:00.000000000&quot;, &quot;2027-09-08T00:00:00.000000000&quot;, &quot;2027-11-04T00:00:00.000000000&quot;, &quot;2028-01-13T00:00:00.000000000&quot;, &quot;2028-02-29T00:00:00.000000000&quot;, &quot;2028-06-08T00:00:00.000000000&quot;, &quot;2028-11-16T00:00:00.000000000&quot;, &quot;2029-01-01T00:00:00.000000000&quot;, &quot;2029-05-21T00:00:00.000000000&quot;, &quot;2029-11-18T00:00:00.000000000&quot;, &quot;2030-02-22T00:00:00.000000000&quot;, &quot;2030-05-05T00:00:00.000000000&quot;, &quot;2030-09-02T00:00:00.000000000&quot;], &quot;hovertemplate&quot;: &quot;job=job29&lt;br&gt;start=%{base}&lt;br&gt;end=%{x}&lt;br&gt;resource=%{y}&lt;extra&gt;&lt;/extra&gt;&quot;, &quot;legendgroup&quot;: &quot;job29&quot;, &quot;marker&quot;: {&quot;color&quot;: &quot;#FECB52&quot;, &quot;opacity&quot;: 0.5, &quot;pattern&quot;: {&quot;shape&quot;: &quot;&quot;}}, &quot;name&quot;: &quot;job29&quot;, &quot;orientation&quot;: &quot;h&quot;, &quot;showlegend&quot;: true, &quot;textposition&quot;: &quot;auto&quot;, &quot;x&quot;: [1900800000, 7516800000, 7689600000, 3542400000, 6048000000, 3024000000, 8208000000, 5356800000, 4924800000, 4492800000, 1555200000, 8121600000, 5184000000, 2937600000, 7516800000, 1900800000, 8294400000, 5097600000, 6998400000, 7776000000], &quot;xaxis&quot;: &quot;x&quot;, &quot;y&quot;: [&quot;machine19&quot;, &quot;machine14&quot;, &quot;machine4&quot;, &quot;machine8&quot;, &quot;machine0&quot;, &quot;machine1&quot;, &quot;machine15&quot;, &quot;machine9&quot;, &quot;machine3&quot;, &quot;machine12&quot;, &quot;machine6&quot;, &quot;machine13&quot;, &quot;machine17&quot;, &quot;machine7&quot;, &quot;machine11&quot;, &quot;machine16&quot;, &quot;machine5&quot;, &quot;machine2&quot;, &quot;machine18&quot;, &quot;machine10&quot;], &quot;yaxis&quot;: &quot;y&quot;, &quot;type&quot;: &quot;bar&quot;}], &quot;layout&quot;: {&quot;template&quot;: {&quot;data&quot;: {&quot;histogram2dcontour&quot;: [{&quot;type&quot;: &quot;histogram2dcontour&quot;, &quot;colorbar&quot;: {&quot;outlinewidth&quot;: 0, &quot;ticks&quot;: &quot;&quot;}, &quot;colorscale&quot;: [[0.0, &quot;#0d0887&quot;], [0.1111111111111111, &quot;#46039f&quot;], [0.2222222222222222, &quot;#7201a8&quot;], [0.3333333333333333, &quot;#9c179e&quot;], [0.4444444444444444, &quot;#bd3786&quot;], [0.5555555555555556, &quot;#d8576b&quot;], [0.6666666666666666, &quot;#ed7953&quot;], [0.7777777777777778, &quot;#fb9f3a&quot;], [0.8888888888888888, &quot;#fdca26&quot;], [1.0, &quot;#f0f921&quot;]]}], &quot;choropleth&quot;: [{&quot;type&quot;: &quot;choropleth&quot;, &quot;colorbar&quot;: {&quot;outlinewidth&quot;: 0, &quot;ticks&quot;: &quot;&quot;}}], &quot;histogram2d&quot;: [{&quot;type&quot;: &quot;histogram2d&quot;, &quot;colorbar&quot;: {&quot;outlinewidth&quot;: 0, &quot;ticks&quot;: &quot;&quot;}, &quot;colorscale&quot;: [[0.0, &quot;#0d0887&quot;], [0.1111111111111111, &quot;#46039f&quot;], [0.2222222222222222, &quot;#7201a8&quot;], [0.3333333333333333, &quot;#9c179e&quot;], [0.4444444444444444, &quot;#bd3786&quot;], [0.5555555555555556, &quot;#d8576b&quot;], [0.6666666666666666, &quot;#ed7953&quot;], [0.7777777777777778, &quot;#fb9f3a&quot;], [0.8888888888888888, &quot;#fdca26&quot;], [1.0, &quot;#f0f921&quot;]]}], &quot;heatmap&quot;: [{&quot;type&quot;: &quot;heatmap&quot;, &quot;colorbar&quot;: {&quot;outlinewidth&quot;: 0, &quot;ticks&quot;: &quot;&quot;}, &quot;colorscale&quot;: [[0.0, &quot;#0d0887&quot;], [0.1111111111111111, &quot;#46039f&quot;], [0.2222222222222222, &quot;#7201a8&quot;], [0.3333333333333333, &quot;#9c179e&quot;], [0.4444444444444444, &quot;#bd3786&quot;], [0.5555555555555556, &quot;#d8576b&quot;], [0.6666666666666666, &quot;#ed7953&quot;], [0.7777777777777778, &quot;#fb9f3a&quot;], [0.8888888888888888, &quot;#fdca26&quot;], [1.0, &quot;#f0f921&quot;]]}], &quot;contourcarpet&quot;: [{&quot;type&quot;: &quot;contourcarpet&quot;, &quot;colorbar&quot;: {&quot;outlinewidth&quot;: 0, &quot;ticks&quot;: &quot;&quot;}}], &quot;contour&quot;: [{&quot;type&quot;: &quot;contour&quot;, &quot;colorbar&quot;: {&quot;outlinewidth&quot;: 0, &quot;ticks&quot;: &quot;&quot;}, &quot;colorscale&quot;: [[0.0, &quot;#0d0887&quot;], [0.1111111111111111, &quot;#46039f&quot;], [0.2222222222222222, &quot;#7201a8&quot;], [0.3333333333333333, &quot;#9c179e&quot;], [0.4444444444444444, &quot;#bd3786&quot;], [0.5555555555555556, &quot;#d8576b&quot;], [0.6666666666666666, &quot;#ed7953&quot;], [0.7777777777777778, &quot;#fb9f3a&quot;], [0.8888888888888888, &quot;#fdca26&quot;], [1.0, &quot;#f0f921&quot;]]}], &quot;surface&quot;: [{&quot;type&quot;: &quot;surface&quot;, &quot;colorbar&quot;: {&quot;outlinewidth&quot;: 0, &quot;ticks&quot;: &quot;&quot;}, &quot;colorscale&quot;: [[0.0, &quot;#0d0887&quot;], [0.1111111111111111, &quot;#46039f&quot;], [0.2222222222222222, &quot;#7201a8&quot;], [0.3333333333333333, &quot;#9c179e&quot;], [0.4444444444444444, &quot;#bd3786&quot;], [0.5555555555555556, &quot;#d8576b&quot;], [0.6666666666666666, &quot;#ed7953&quot;], [0.7777777777777778, &quot;#fb9f3a&quot;], [0.8888888888888888, &quot;#fdca26&quot;], [1.0, &quot;#f0f921&quot;]]}], &quot;mesh3d&quot;: [{&quot;type&quot;: &quot;mesh3d&quot;, &quot;colorbar&quot;: {&quot;outlinewidth&quot;: 0, &quot;ticks&quot;: &quot;&quot;}}], &quot;scatter&quot;: [{&quot;fillpattern&quot;: {&quot;fillmode&quot;: &quot;overlay&quot;, &quot;size&quot;: 10, &quot;solidity&quot;: 0.2}, &quot;type&quot;: &quot;scatter&quot;}], &quot;parcoords&quot;: [{&quot;type&quot;: &quot;parcoords&quot;, &quot;line&quot;: {&quot;colorbar&quot;: {&quot;outlinewidth&quot;: 0, &quot;ticks&quot;: &quot;&quot;}}}], &quot;scatterpolargl&quot;: [{&quot;type&quot;: &quot;scatterpolargl&quot;, &quot;marker&quot;: {&quot;colorbar&quot;: {&quot;outlinewidth&quot;: 0, &quot;ticks&quot;: &quot;&quot;}}}], &quot;bar&quot;: [{&quot;error_x&quot;: {&quot;color&quot;: &quot;#2a3f5f&quot;}, &quot;error_y&quot;: {&quot;color&quot;: &quot;#2a3f5f&quot;}, &quot;marker&quot;: {&quot;line&quot;: {&quot;color&quot;: &quot;#E5ECF6&quot;, &quot;width&quot;: 0.5}, &quot;pattern&quot;: {&quot;fillmode&quot;: &quot;overlay&quot;, &quot;size&quot;: 10, &quot;solidity&quot;: 0.2}}, &quot;type&quot;: &quot;bar&quot;}], &quot;scattergeo&quot;: [{&quot;type&quot;: &quot;scattergeo&quot;, &quot;marker&quot;: {&quot;colorbar&quot;: {&quot;outlinewidth&quot;: 0, &quot;ticks&quot;: &quot;&quot;}}}], &quot;scatterpolar&quot;: [{&quot;type&quot;: &quot;scatterpolar&quot;, &quot;marker&quot;: {&quot;colorbar&quot;: {&quot;outlinewidth&quot;: 0, &quot;ticks&quot;: &quot;&quot;}}}], &quot;histogram&quot;: [{&quot;marker&quot;: {&quot;pattern&quot;: {&quot;fillmode&quot;: &quot;overlay&quot;, &quot;size&quot;: 10, &quot;solidity&quot;: 0.2}}, &quot;type&quot;: &quot;histogram&quot;}], &quot;scattergl&quot;: [{&quot;type&quot;: &quot;scattergl&quot;, &quot;marker&quot;: {&quot;colorbar&quot;: {&quot;outlinewidth&quot;: 0, &quot;ticks&quot;: &quot;&quot;}}}], &quot;scatter3d&quot;: [{&quot;type&quot;: &quot;scatter3d&quot;, &quot;line&quot;: {&quot;colorbar&quot;: {&quot;outlinewidth&quot;: 0, &quot;ticks&quot;: &quot;&quot;}}, &quot;marker&quot;: {&quot;colorbar&quot;: {&quot;outlinewidth&quot;: 0, &quot;ticks&quot;: &quot;&quot;}}}], &quot;scattermap&quot;: [{&quot;type&quot;: &quot;scattermap&quot;, &quot;marker&quot;: {&quot;colorbar&quot;: {&quot;outlinewidth&quot;: 0, &quot;ticks&quot;: &quot;&quot;}}}], &quot;scattermapbox&quot;: [{&quot;type&quot;: &quot;scattermapbox&quot;, &quot;marker&quot;: {&quot;colorbar&quot;: {&quot;outlinewidth&quot;: 0, &quot;ticks&quot;: &quot;&quot;}}}], &quot;scatterternary&quot;: [{&quot;type&quot;: &quot;scatterternary&quot;, &quot;marker&quot;: {&quot;colorbar&quot;: {&quot;outlinewidth&quot;: 0, &quot;ticks&quot;: &quot;&quot;}}}], &quot;scattercarpet&quot;: [{&quot;type&quot;: &quot;scattercarpet&quot;, &quot;marker&quot;: {&quot;colorbar&quot;: {&quot;outlinewidth&quot;: 0, &quot;ticks&quot;: &quot;&quot;}}}], &quot;carpet&quot;: [{&quot;aaxis&quot;: {&quot;endlinecolor&quot;: &quot;#2a3f5f&quot;, &quot;gridcolor&quot;: &quot;white&quot;, &quot;linecolor&quot;: &quot;white&quot;, &quot;minorgridcolor&quot;: &quot;white&quot;, &quot;startlinecolor&quot;: &quot;#2a3f5f&quot;}, &quot;baxis&quot;: {&quot;endlinecolor&quot;: &quot;#2a3f5f&quot;, &quot;gridcolor&quot;: &quot;white&quot;, &quot;linecolor&quot;: &quot;white&quot;, &quot;minorgridcolor&quot;: &quot;white&quot;, &quot;startlinecolor&quot;: &quot;#2a3f5f&quot;}, &quot;type&quot;: &quot;carpet&quot;}], &quot;table&quot;: [{&quot;cells&quot;: {&quot;fill&quot;: {&quot;color&quot;: &quot;#EBF0F8&quot;}, &quot;line&quot;: {&quot;color&quot;: &quot;white&quot;}}, &quot;header&quot;: {&quot;fill&quot;: {&quot;color&quot;: &quot;#C8D4E3&quot;}, &quot;line&quot;: {&quot;color&quot;: &quot;white&quot;}}, &quot;type&quot;: &quot;table&quot;}], &quot;barpolar&quot;: [{&quot;marker&quot;: {&quot;line&quot;: {&quot;color&quot;: &quot;#E5ECF6&quot;, &quot;width&quot;: 0.5}, &quot;pattern&quot;: {&quot;fillmode&quot;: &quot;overlay&quot;, &quot;size&quot;: 10, &quot;solidity&quot;: 0.2}}, &quot;type&quot;: &quot;barpolar&quot;}], &quot;pie&quot;: [{&quot;automargin&quot;: true, &quot;type&quot;: &quot;pie&quot;}]}, &quot;layout&quot;: {&quot;autotypenumbers&quot;: &quot;strict&quot;, &quot;colorway&quot;: [&quot;#636efa&quot;, &quot;#EF553B&quot;, &quot;#00cc96&quot;, &quot;#ab63fa&quot;, &quot;#FFA15A&quot;, &quot;#19d3f3&quot;, &quot;#FF6692&quot;, &quot;#B6E880&quot;, &quot;#FF97FF&quot;, &quot;#FECB52&quot;], &quot;font&quot;: {&quot;color&quot;: &quot;#2a3f5f&quot;}, &quot;hovermode&quot;: &quot;closest&quot;, &quot;hoverlabel&quot;: {&quot;align&quot;: &quot;left&quot;}, &quot;paper_bgcolor&quot;: &quot;white&quot;, &quot;plot_bgcolor&quot;: &quot;#E5ECF6&quot;, &quot;polar&quot;: {&quot;bgcolor&quot;: &quot;#E5ECF6&quot;, &quot;angularaxis&quot;: {&quot;gridcolor&quot;: &quot;white&quot;, &quot;linecolor&quot;: &quot;white&quot;, &quot;ticks&quot;: &quot;&quot;}, &quot;radialaxis&quot;: {&quot;gridcolor&quot;: &quot;white&quot;, &quot;linecolor&quot;: &quot;white&quot;, &quot;ticks&quot;: &quot;&quot;}}, &quot;ternary&quot;: {&quot;bgcolor&quot;: &quot;#E5ECF6&quot;, &quot;aaxis&quot;: {&quot;gridcolor&quot;: &quot;white&quot;, &quot;linecolor&quot;: &quot;white&quot;, &quot;ticks&quot;: &quot;&quot;}, &quot;baxis&quot;: {&quot;gridcolor&quot;: &quot;white&quot;, &quot;linecolor&quot;: &quot;white&quot;, &quot;ticks&quot;: &quot;&quot;}, &quot;caxis&quot;: {&quot;gridcolor&quot;: &quot;white&quot;, &quot;linecolor&quot;: &quot;white&quot;, &quot;ticks&quot;: &quot;&quot;}}, &quot;coloraxis&quot;: {&quot;colorbar&quot;: {&quot;outlinewidth&quot;: 0, &quot;ticks&quot;: &quot;&quot;}}, &quot;colorscale&quot;: {&quot;sequential&quot;: [[0.0, &quot;#0d0887&quot;], [0.1111111111111111, &quot;#46039f&quot;], [0.2222222222222222, &quot;#7201a8&quot;], [0.3333333333333333, &quot;#9c179e&quot;], [0.4444444444444444, &quot;#bd3786&quot;], [0.5555555555555556, &quot;#d8576b&quot;], [0.6666666666666666, &quot;#ed7953&quot;], [0.7777777777777778, &quot;#fb9f3a&quot;], [0.8888888888888888, &quot;#fdca26&quot;], [1.0, &quot;#f0f921&quot;]], &quot;sequentialminus&quot;: [[0.0, &quot;#0d0887&quot;], [0.1111111111111111, &quot;#46039f&quot;], [0.2222222222222222, &quot;#7201a8&quot;], [0.3333333333333333, &quot;#9c179e&quot;], [0.4444444444444444, &quot;#bd3786&quot;], [0.5555555555555556, &quot;#d8576b&quot;], [0.6666666666666666, &quot;#ed7953&quot;], [0.7777777777777778, &quot;#fb9f3a&quot;], [0.8888888888888888, &quot;#fdca26&quot;], [1.0, &quot;#f0f921&quot;]], &quot;diverging&quot;: [[0, &quot;#8e0152&quot;], [0.1, &quot;#c51b7d&quot;], [0.2, &quot;#de77ae&quot;], [0.3, &quot;#f1b6da&quot;], [0.4, &quot;#fde0ef&quot;], [0.5, &quot;#f7f7f7&quot;], [0.6, &quot;#e6f5d0&quot;], [0.7, &quot;#b8e186&quot;], [0.8, &quot;#7fbc41&quot;], [0.9, &quot;#4d9221&quot;], [1, &quot;#276419&quot;]]}, &quot;xaxis&quot;: {&quot;gridcolor&quot;: &quot;white&quot;, &quot;linecolor&quot;: &quot;white&quot;, &quot;ticks&quot;: &quot;&quot;, &quot;title&quot;: {&quot;standoff&quot;: 15}, &quot;zerolinecolor&quot;: &quot;white&quot;, &quot;automargin&quot;: true, &quot;zerolinewidth&quot;: 2}, &quot;yaxis&quot;: {&quot;gridcolor&quot;: &quot;white&quot;, &quot;linecolor&quot;: &quot;white&quot;, &quot;ticks&quot;: &quot;&quot;, &quot;title&quot;: {&quot;standoff&quot;: 15}, &quot;zerolinecolor&quot;: &quot;white&quot;, &quot;automargin&quot;: true, &quot;zerolinewidth&quot;: 2}, &quot;scene&quot;: {&quot;xaxis&quot;: {&quot;backgroundcolor&quot;: &quot;#E5ECF6&quot;, &quot;gridcolor&quot;: &quot;white&quot;, &quot;linecolor&quot;: &quot;white&quot;, &quot;showbackground&quot;: true, &quot;ticks&quot;: &quot;&quot;, &quot;zerolinecolor&quot;: &quot;white&quot;, &quot;gridwidth&quot;: 2}, &quot;yaxis&quot;: {&quot;backgroundcolor&quot;: &quot;#E5ECF6&quot;, &quot;gridcolor&quot;: &quot;white&quot;, &quot;linecolor&quot;: &quot;white&quot;, &quot;showbackground&quot;: true, &quot;ticks&quot;: &quot;&quot;, &quot;zerolinecolor&quot;: &quot;white&quot;, &quot;gridwidth&quot;: 2}, &quot;zaxis&quot;: {&quot;backgroundcolor&quot;: &quot;#E5ECF6&quot;, &quot;gridcolor&quot;: &quot;white&quot;, &quot;linecolor&quot;: &quot;white&quot;, &quot;showbackground&quot;: true, &quot;ticks&quot;: &quot;&quot;, &quot;zerolinecolor&quot;: &quot;white&quot;, &quot;gridwidth&quot;: 2}}, &quot;shapedefaults&quot;: {&quot;line&quot;: {&quot;color&quot;: &quot;#2a3f5f&quot;}}, &quot;annotationdefaults&quot;: {&quot;arrowcolor&quot;: &quot;#2a3f5f&quot;, &quot;arrowhead&quot;: 0, &quot;arrowwidth&quot;: 1}, &quot;geo&quot;: {&quot;bgcolor&quot;: &quot;white&quot;, &quot;landcolor&quot;: &quot;#E5ECF6&quot;, &quot;subunitcolor&quot;: &quot;white&quot;, &quot;showland&quot;: true, &quot;showlakes&quot;: true, &quot;lakecolor&quot;: &quot;white&quot;}, &quot;title&quot;: {&quot;x&quot;: 0.05}, &quot;mapbox&quot;: {&quot;style&quot;: &quot;light&quot;}}}, &quot;xaxis&quot;: {&quot;anchor&quot;: &quot;y&quot;, &quot;domain&quot;: [0.0, 1.0], &quot;type&quot;: &quot;date&quot;}, &quot;yaxis&quot;: {&quot;anchor&quot;: &quot;x&quot;, &quot;domain&quot;: [0.0, 1.0], &quot;title&quot;: {&quot;text&quot;: &quot;resource&quot;}, &quot;categoryorder&quot;: &quot;category descending&quot;}, &quot;legend&quot;: {&quot;title&quot;: {&quot;text&quot;: &quot;job&quot;}, &quot;tracegroupgap&quot;: 0}, &quot;margin&quot;: {&quot;t&quot;: 60}, &quot;barmode&quot;: &quot;overlay&quot;, &quot;dragmode&quot;: &quot;zoom&quot;}}' data-config='{}'></marimo-plotly>"
      ]
     },
     "metadata": {},
     "output_type": "display_data"
    }
   ],
   "source": [
    "plot_plotly(model3_amplify.to_df())"
   ]
  },
  {
   "cell_type": "code",
   "execution_count": null,
   "id": "SdmI",
   "metadata": {},
   "outputs": [
    {
     "name": "stdout",
     "output_type": "stream",
     "text": [
      "\n",
      "Starting CP-SAT solver v9.13.4784\n",
      "Parameters: max_time_in_seconds: 10 log_search_progress: true\n",
      "Setting number of workers to 12\n",
      "\n",
      "Initial optimization model '': (model_fingerprint: 0x33f82f20921558d4)\n",
      "#Variables: 601 (#ints: 1 in objective) (600 primary variables)\n",
      "  - 601 in [0,30657]\n",
      "#kInterval: 600\n",
      "#kLinMax: 1 (#expressions: 30)\n",
      "#kLinear2: 570\n",
      "#kNoOverlap: 20 (#intervals: 600)\n",
      "\n",
      "Starting presolve at 0.00s\n",
      "  1.17e-04s  0.00e+00d  [DetectDominanceRelations] \n",
      "  7.35e-03s  0.00e+00d  [PresolveToFixPoint] #num_loops=21 #num_dual_strengthening=1 \n",
      "  4.04e-06s  0.00e+00d  [ExtractEncodingFromLinear] \n",
      "  2.61e-05s  0.00e+00d  [DetectDuplicateColumns] \n",
      "  1.40e-04s  0.00e+00d  [DetectDuplicateConstraints] \n",
      "[Symmetry] Graph for symmetry has 2'392 nodes and 2'971 arcs.\n",
      "[Symmetry] Symmetry computation done. time: 0.000201232 dtime: 0.0002559\n"
     ]
    },
    {
     "name": "stdout",
     "output_type": "stream",
     "text": [
      "  1.48e-04s  0.00e+00d  [DetectDuplicateConstraintsWithDifferentEnforcements] \n",
      "  1.10e-03s  4.72e-06d  [Probe] #new_bounds=1 \n",
      "  3.18e-06s  0.00e+00d  [MaxClique] \n",
      "  9.81e-05s  0.00e+00d  [DetectDominanceRelations] \n",
      "  8.55e-04s  0.00e+00d  [PresolveToFixPoint] #num_loops=2 #num_dual_strengthening=1 \n",
      "  7.04e-05s  0.00e+00d  [ProcessAtMostOneAndLinear] \n",
      "  1.42e-04s  0.00e+00d  [DetectDuplicateConstraints] \n",
      "  1.70e-04s  0.00e+00d  [DetectDuplicateConstraintsWithDifferentEnforcements] \n",
      "  6.18e-05s  3.60e-06d  [DetectDominatedLinearConstraints] #relevant_constraints=600 \n",
      "  6.98e-05s  0.00e+00d  [DetectDifferentVariables] \n",
      "  3.46e-06s  0.00e+00d  [ProcessSetPPC] \n",
      "  3.54e-06s  0.00e+00d  [FindAlmostIdenticalLinearConstraints] \n",
      "  2.15e-05s  0.00e+00d  [FindBigAtMostOneAndLinearOverlap] \n",
      "  2.61e-05s  2.13e-05d  [FindBigVerticalLinearOverlap] \n",
      "  2.60e-06s  0.00e+00d  [FindBigHorizontalLinearOverlap] \n",
      "  2.52e-06s  0.00e+00d  [MergeClauses] \n",
      "  9.67e-05s  0.00e+00d  [DetectDominanceRelations] \n",
      "  7.92e-04s  0.00e+00d  [PresolveToFixPoint] #num_loops=1 #num_dual_strengthening=1 \n",
      "  9.46e-05s  0.00e+00d  [DetectDominanceRelations] \n",
      "  7.80e-04s  0.00e+00d  [PresolveToFixPoint] #num_loops=1 #num_dual_strengthening=1 \n",
      "  1.69e-05s  0.00e+00d  [DetectDuplicateColumns] \n",
      "  1.37e-04s  0.00e+00d  [DetectDuplicateConstraints] \n",
      "[Symmetry] Graph for symmetry has 2'392 nodes and 2'971 arcs.\n",
      "[Symmetry] Symmetry computation done. time: 0.000119506 dtime: 0.0002559\n",
      "  1.39e-04s  0.00e+00d  [DetectDuplicateConstraintsWithDifferentEnforcements] \n",
      "  9.14e-04s  4.61e-06d  [Probe] \n",
      "  2.28e-06s  0.00e+00d  [MaxClique] \n",
      "  9.63e-05s  0.00e+00d  [DetectDominanceRelations] \n",
      "  8.06e-04s  0.00e+00d  [PresolveToFixPoint] #num_loops=1 #num_dual_strengthening=1 \n",
      "  7.06e-05s  0.00e+00d  [ProcessAtMostOneAndLinear] \n",
      "  1.35e-04s  0.00e+00d  [DetectDuplicateConstraints] \n",
      "  1.35e-04s  0.00e+00d  [DetectDuplicateConstraintsWithDifferentEnforcements] \n",
      "  5.32e-05s  3.60e-06d  [DetectDominatedLinearConstraints] #relevant_constraints=600 \n",
      "  7.38e-05s  0.00e+00d  [DetectDifferentVariables] \n",
      "  3.30e-06s  0.00e+00d  [ProcessSetPPC] \n",
      "  3.77e-06s  0.00e+00d  [FindAlmostIdenticalLinearConstraints] \n",
      "  1.55e-05s  0.00e+00d  [FindBigAtMostOneAndLinearOverlap] \n",
      "  2.59e-05s  2.13e-05d  [FindBigVerticalLinearOverlap] \n",
      "  2.37e-06s  0.00e+00d  [FindBigHorizontalLinearOverlap] \n",
      "  2.21e-06s  0.00e+00d  [MergeClauses] \n",
      "  9.40e-05s  0.00e+00d  [DetectDominanceRelations] \n",
      "  7.93e-04s  0.00e+00d  [PresolveToFixPoint] #num_loops=1 #num_dual_strengthening=1 \n",
      "  1.16e-05s  0.00e+00d  [ExpandObjective] \n",
      "\n",
      "Presolve summary:\n",
      "  - 0 affine relations were detected.\n",
      "  - rule 'TODO dual: only one blocking constraint?' was applied 180 times.\n",
      "  - rule 'TODO dual: only one unspecified blocking constraint?' was applied 6 times.\n",
      "  - rule 'lin_max: reduced expression domain.' was applied 30 times.\n",
      "  - rule 'lin_max: rewrite with precedences' was applied 1 time.\n",
      "  - rule 'lin_max: target domain reduced' was applied 1 time.\n",
      "  - rule 'linear: reduced variable domains' was applied 6'270 times.\n",
      "  - rule 'presolve: 0 unused variables removed.' was applied 1 time.\n",
      "  - rule 'presolve: iteration' was applied 2 times.\n",
      "\n",
      "Presolved optimization model '': (model_fingerprint: 0x792ac348c196630b)\n",
      "#Variables: 601 (#ints: 1 in objective) (600 primary variables)\n",
      "  - 596 different domains in [0,30657] with a largest complexity of 1.\n",
      "#kInterval: 600\n",
      "#kLinear2: 600\n",
      "#kNoOverlap: 20 (#intervals: 600)\n",
      "[Symmetry] Graph for symmetry has 2'392 nodes and 2'971 arcs.\n",
      "[Symmetry] Symmetry computation done. time: 0.000134786 dtime: 0.0002559\n",
      "\n",
      "Preloading model.\n",
      "#Bound   0.02s best:inf   next:[1267,30657] initial_domain\n",
      "#Model   0.02s var:601/601 constraints:1220/1220\n",
      "\n",
      "Starting search at 0.02s with 12 workers.\n",
      "8 full problem subsolvers: [default_lp, fixed, max_lp, no_lp, pseudo_costs, quick_restart, quick_restart_no_lp, reduced_costs]\n",
      "4 first solution subsolvers: [fj(2), fs_random, fs_random_no_lp]\n",
      "14 interleaved subsolvers: [feasibility_pump, graph_arc_lns, graph_cst_lns, graph_dec_lns, graph_var_lns, ls, ls_lin, rins/rens, rnd_cst_lns, rnd_var_lns, scheduling_intervals_lns, scheduling_precedences_lns, scheduling_resource_windows_lns, scheduling_time_window_lns]\n",
      "3 helper subsolvers: [neighborhood_helper, synchronization_agent, update_gap_integral]\n",
      "\n"
     ]
    },
    {
     "name": "stdout",
     "output_type": "stream",
     "text": [
      "#1       0.05s best:2492  next:[1267,2491] no_lp\n",
      "#Bound   0.05s best:2492  next:[1804,2491] no_lp\n"
     ]
    },
    {
     "name": "stdout",
     "output_type": "stream",
     "text": [
      "#2       0.09s best:2402  next:[1804,2401] rnd_cst_lns (d=5.00e-01 s=14 t=0.10 p=0.00 stall=0 h=base)\n",
      "#3       0.10s best:2371  next:[1804,2370] graph_var_lns (d=5.00e-01 s=15 t=0.10 p=0.00 stall=0 h=base)\n"
     ]
    },
    {
     "name": "stdout",
     "output_type": "stream",
     "text": [
      "#4       0.19s best:2366  next:[1804,2365] fixed\n"
     ]
    },
    {
     "name": "stdout",
     "output_type": "stream",
     "text": [
      "#5       0.47s best:2363  next:[1804,2362] fixed\n"
     ]
    },
    {
     "name": "stdout",
     "output_type": "stream",
     "text": [
      "#6       0.50s best:2340  next:[1804,2339] rnd_cst_lns (d=7.07e-01 s=28 t=0.10 p=1.00 stall=0 h=base)\n"
     ]
    },
    {
     "name": "stdout",
     "output_type": "stream",
     "text": [
      "#7       0.56s best:2336  next:[1804,2335] graph_var_lns (d=7.07e-01 s=29 t=0.10 p=1.00 stall=0 h=base)\n"
     ]
    },
    {
     "name": "stdout",
     "output_type": "stream",
     "text": [
      "#8       0.72s best:2333  next:[1804,2332] fixed\n"
     ]
    },
    {
     "name": "stdout",
     "output_type": "stream",
     "text": [
      "#9       0.80s best:2330  next:[1804,2329] fixed\n"
     ]
    },
    {
     "name": "stdout",
     "output_type": "stream",
     "text": [
      "#10      0.89s best:2329  next:[1804,2328] rnd_var_lns (d=8.14e-01 s=38 t=0.10 p=1.00 stall=0 h=base) [hint]\n"
     ]
    },
    {
     "name": "stdout",
     "output_type": "stream",
     "text": [
      "#11      1.03s best:2308  next:[1804,2307] quick_restart_no_lp\n"
     ]
    },
    {
     "name": "stdout",
     "output_type": "stream",
     "text": [
      "#12      1.11s best:2291  next:[1804,2290] quick_restart_no_lp\n"
     ]
    },
    {
     "name": "stdout",
     "output_type": "stream",
     "text": [
      "#13      1.15s best:2285  next:[1804,2284] graph_var_lns (d=8.14e-01 s=40 t=0.10 p=1.00 stall=0 h=base)\n"
     ]
    },
    {
     "name": "stdout",
     "output_type": "stream",
     "text": [
      "#14      1.23s best:2284  next:[1804,2283] no_lp\n"
     ]
    },
    {
     "name": "stdout",
     "output_type": "stream",
     "text": [
      "#15      1.28s best:2282  next:[1804,2281] no_lp\n"
     ]
    },
    {
     "name": "stdout",
     "output_type": "stream",
     "text": [
      "#16      1.33s best:2281  next:[1804,2280] no_lp\n"
     ]
    },
    {
     "name": "stdout",
     "output_type": "stream",
     "text": [
      "#17      1.38s best:2280  next:[1804,2279] no_lp\n"
     ]
    },
    {
     "name": "stdout",
     "output_type": "stream",
     "text": [
      "#18      1.42s best:2279  next:[1804,2278] no_lp\n"
     ]
    },
    {
     "name": "stdout",
     "output_type": "stream",
     "text": [
      "#19      1.47s best:2278  next:[1804,2277] no_lp\n"
     ]
    },
    {
     "name": "stdout",
     "output_type": "stream",
     "text": [
      "#20      1.52s best:2277  next:[1804,2276] no_lp\n"
     ]
    },
    {
     "name": "stdout",
     "output_type": "stream",
     "text": [
      "#21      1.54s best:2276  next:[1804,2275] fixed\n"
     ]
    },
    {
     "name": "stdout",
     "output_type": "stream",
     "text": [
      "#22      1.56s best:2275  next:[1804,2274] no_lp\n"
     ]
    },
    {
     "name": "stdout",
     "output_type": "stream",
     "text": [
      "#23      1.72s best:2274  next:[1804,2273] fixed\n"
     ]
    },
    {
     "name": "stdout",
     "output_type": "stream",
     "text": [
      "#24      1.80s best:2273  next:[1804,2272] fixed\n"
     ]
    },
    {
     "name": "stdout",
     "output_type": "stream",
     "text": [
      "#25      1.88s best:2262  next:[1804,2261] quick_restart\n"
     ]
    },
    {
     "name": "stdout",
     "output_type": "stream",
     "text": [
      "#Bound   2.22s best:2262  next:[1806,2261] reduced_costs\n"
     ]
    },
    {
     "name": "stdout",
     "output_type": "stream",
     "text": [
      "#26      2.29s best:2260  next:[1806,2259] no_lp\n"
     ]
    },
    {
     "name": "stdout",
     "output_type": "stream",
     "text": [
      "#27      2.33s best:2259  next:[1806,2258] no_lp\n"
     ]
    },
    {
     "name": "stdout",
     "output_type": "stream",
     "text": [
      "#28      2.39s best:2258  next:[1806,2257] no_lp\n"
     ]
    },
    {
     "name": "stdout",
     "output_type": "stream",
     "text": [
      "#29      2.42s best:2257  next:[1806,2256] quick_restart_no_lp\n"
     ]
    },
    {
     "name": "stdout",
     "output_type": "stream",
     "text": [
      "#30      2.48s best:2256  next:[1806,2255] no_lp\n",
      "#Bound   2.48s best:2256  next:[1807,2255] reduced_costs\n"
     ]
    },
    {
     "name": "stdout",
     "output_type": "stream",
     "text": [
      "#31      2.52s best:2255  next:[1807,2254] no_lp\n"
     ]
    },
    {
     "name": "stdout",
     "output_type": "stream",
     "text": [
      "#32      2.57s best:2254  next:[1807,2253] no_lp\n"
     ]
    },
    {
     "name": "stdout",
     "output_type": "stream",
     "text": [
      "#33      2.61s best:2253  next:[1807,2252] no_lp\n"
     ]
    },
    {
     "name": "stdout",
     "output_type": "stream",
     "text": [
      "#34      2.65s best:2252  next:[1807,2251] no_lp\n"
     ]
    },
    {
     "name": "stdout",
     "output_type": "stream",
     "text": [
      "#35      2.70s best:2251  next:[1807,2250] no_lp\n"
     ]
    },
    {
     "name": "stdout",
     "output_type": "stream",
     "text": [
      "#36      2.74s best:2248  next:[1807,2247] no_lp\n"
     ]
    },
    {
     "name": "stdout",
     "output_type": "stream",
     "text": [
      "#37      2.78s best:2247  next:[1807,2246] no_lp\n"
     ]
    },
    {
     "name": "stdout",
     "output_type": "stream",
     "text": [
      "#38      2.83s best:2246  next:[1807,2245] no_lp\n"
     ]
    },
    {
     "name": "stdout",
     "output_type": "stream",
     "text": [
      "#39      2.87s best:2245  next:[1807,2244] no_lp\n"
     ]
    },
    {
     "name": "stdout",
     "output_type": "stream",
     "text": [
      "#40      2.91s best:2242  next:[1807,2241] no_lp\n"
     ]
    },
    {
     "name": "stdout",
     "output_type": "stream",
     "text": [
      "#41      2.96s best:2241  next:[1807,2240] no_lp\n"
     ]
    },
    {
     "name": "stdout",
     "output_type": "stream",
     "text": [
      "#42      3.00s best:2240  next:[1807,2239] no_lp\n"
     ]
    },
    {
     "name": "stdout",
     "output_type": "stream",
     "text": [
      "#43      3.05s best:2239  next:[1807,2238] no_lp\n"
     ]
    },
    {
     "name": "stdout",
     "output_type": "stream",
     "text": [
      "#44      3.09s best:2238  next:[1807,2237] no_lp\n"
     ]
    },
    {
     "name": "stdout",
     "output_type": "stream",
     "text": [
      "#45      3.13s best:2237  next:[1807,2236] no_lp\n"
     ]
    },
    {
     "name": "stdout",
     "output_type": "stream",
     "text": [
      "#46      3.17s best:2236  next:[1807,2235] no_lp\n"
     ]
    },
    {
     "name": "stdout",
     "output_type": "stream",
     "text": [
      "#47      3.23s best:2235  next:[1807,2234] no_lp\n"
     ]
    },
    {
     "name": "stdout",
     "output_type": "stream",
     "text": [
      "#48      3.28s best:2234  next:[1807,2233] no_lp\n"
     ]
    },
    {
     "name": "stdout",
     "output_type": "stream",
     "text": [
      "#49      3.33s best:2232  next:[1807,2231] no_lp\n"
     ]
    },
    {
     "name": "stdout",
     "output_type": "stream",
     "text": [
      "#50      3.37s best:2231  next:[1807,2230] no_lp\n"
     ]
    },
    {
     "name": "stdout",
     "output_type": "stream",
     "text": [
      "#51      3.44s best:2230  next:[1807,2229] no_lp\n"
     ]
    },
    {
     "name": "stdout",
     "output_type": "stream",
     "text": [
      "#52      3.49s best:2229  next:[1807,2228] no_lp\n"
     ]
    },
    {
     "name": "stdout",
     "output_type": "stream",
     "text": [
      "#53      3.54s best:2228  next:[1807,2227] no_lp\n"
     ]
    },
    {
     "name": "stdout",
     "output_type": "stream",
     "text": [
      "#54      3.59s best:2227  next:[1807,2226] no_lp\n"
     ]
    },
    {
     "name": "stdout",
     "output_type": "stream",
     "text": [
      "#55      3.63s best:2226  next:[1807,2225] no_lp\n"
     ]
    },
    {
     "name": "stdout",
     "output_type": "stream",
     "text": [
      "#56      3.67s best:2225  next:[1807,2224] no_lp\n"
     ]
    },
    {
     "name": "stdout",
     "output_type": "stream",
     "text": [
      "#57      3.72s best:2223  next:[1807,2222] no_lp\n"
     ]
    },
    {
     "name": "stdout",
     "output_type": "stream",
     "text": [
      "#58      3.76s best:2222  next:[1807,2221] no_lp\n"
     ]
    },
    {
     "name": "stdout",
     "output_type": "stream",
     "text": [
      "#59      3.80s best:2221  next:[1807,2220] no_lp\n"
     ]
    },
    {
     "name": "stdout",
     "output_type": "stream",
     "text": [
      "#60      3.84s best:2220  next:[1807,2219] no_lp\n"
     ]
    },
    {
     "name": "stdout",
     "output_type": "stream",
     "text": [
      "#61      3.88s best:2219  next:[1807,2218] no_lp\n"
     ]
    },
    {
     "name": "stdout",
     "output_type": "stream",
     "text": [
      "#62      3.94s best:2218  next:[1807,2217] no_lp\n"
     ]
    },
    {
     "name": "stdout",
     "output_type": "stream",
     "text": [
      "#63      3.98s best:2217  next:[1807,2216] no_lp\n"
     ]
    },
    {
     "name": "stdout",
     "output_type": "stream",
     "text": [
      "#64      4.02s best:2216  next:[1807,2215] no_lp\n"
     ]
    },
    {
     "name": "stdout",
     "output_type": "stream",
     "text": [
      "#65      4.06s best:2215  next:[1807,2214] no_lp\n"
     ]
    },
    {
     "name": "stdout",
     "output_type": "stream",
     "text": [
      "#66      4.11s best:2214  next:[1807,2213] no_lp\n"
     ]
    },
    {
     "name": "stdout",
     "output_type": "stream",
     "text": [
      "#67      4.15s best:2213  next:[1807,2212] no_lp\n"
     ]
    },
    {
     "name": "stdout",
     "output_type": "stream",
     "text": [
      "#68      4.20s best:2212  next:[1807,2211] no_lp\n"
     ]
    },
    {
     "name": "stdout",
     "output_type": "stream",
     "text": [
      "#69      4.24s best:2211  next:[1807,2210] no_lp\n"
     ]
    },
    {
     "name": "stdout",
     "output_type": "stream",
     "text": [
      "#70      4.28s best:2210  next:[1807,2209] no_lp\n"
     ]
    },
    {
     "name": "stdout",
     "output_type": "stream",
     "text": [
      "#71      4.33s best:2209  next:[1807,2208] no_lp\n"
     ]
    },
    {
     "name": "stdout",
     "output_type": "stream",
     "text": [
      "#72      4.37s best:2208  next:[1807,2207] no_lp\n"
     ]
    },
    {
     "name": "stdout",
     "output_type": "stream",
     "text": [
      "#73      4.42s best:2207  next:[1807,2206] no_lp\n"
     ]
    },
    {
     "name": "stdout",
     "output_type": "stream",
     "text": [
      "#74      4.46s best:2206  next:[1807,2205] no_lp\n"
     ]
    },
    {
     "name": "stdout",
     "output_type": "stream",
     "text": [
      "#75      5.83s best:2205  next:[1807,2204] no_lp\n"
     ]
    },
    {
     "name": "stdout",
     "output_type": "stream",
     "text": [
      "#76      5.87s best:2204  next:[1807,2203] no_lp\n"
     ]
    },
    {
     "name": "stdout",
     "output_type": "stream",
     "text": [
      "#77      5.92s best:2203  next:[1807,2202] no_lp\n"
     ]
    },
    {
     "name": "stdout",
     "output_type": "stream",
     "text": [
      "#78      5.96s best:2202  next:[1807,2201] no_lp\n"
     ]
    },
    {
     "name": "stdout",
     "output_type": "stream",
     "text": [
      "#79      6.00s best:2201  next:[1807,2200] no_lp\n"
     ]
    },
    {
     "name": "stdout",
     "output_type": "stream",
     "text": [
      "#Bound   6.04s best:2201  next:[1808,2200] reduced_costs\n",
      "#80      6.05s best:2200  next:[1808,2199] no_lp\n"
     ]
    },
    {
     "name": "stdout",
     "output_type": "stream",
     "text": [
      "#81      6.09s best:2199  next:[1808,2198] no_lp\n"
     ]
    },
    {
     "name": "stdout",
     "output_type": "stream",
     "text": [
      "#82      6.14s best:2198  next:[1808,2197] no_lp\n"
     ]
    },
    {
     "name": "stdout",
     "output_type": "stream",
     "text": [
      "#83      6.19s best:2197  next:[1808,2196] no_lp\n"
     ]
    },
    {
     "name": "stdout",
     "output_type": "stream",
     "text": [
      "#84      6.24s best:2196  next:[1808,2195] no_lp\n"
     ]
    },
    {
     "name": "stdout",
     "output_type": "stream",
     "text": [
      "#85      6.28s best:2195  next:[1808,2194] no_lp\n"
     ]
    },
    {
     "name": "stdout",
     "output_type": "stream",
     "text": [
      "#Bound   6.32s best:2195  next:[1809,2194] reduced_costs\n",
      "#86      6.32s best:2194  next:[1809,2193] no_lp\n"
     ]
    },
    {
     "name": "stdout",
     "output_type": "stream",
     "text": [
      "#87      6.36s best:2193  next:[1809,2192] no_lp\n"
     ]
    },
    {
     "name": "stdout",
     "output_type": "stream",
     "text": [
      "#88      6.41s best:2192  next:[1809,2191] no_lp\n"
     ]
    },
    {
     "name": "stdout",
     "output_type": "stream",
     "text": [
      "#89      6.45s best:2191  next:[1809,2190] no_lp\n"
     ]
    },
    {
     "name": "stdout",
     "output_type": "stream",
     "text": [
      "#90      6.49s best:2190  next:[1809,2189] no_lp\n"
     ]
    },
    {
     "name": "stdout",
     "output_type": "stream",
     "text": [
      "#91      6.54s best:2189  next:[1809,2188] no_lp\n"
     ]
    },
    {
     "name": "stdout",
     "output_type": "stream",
     "text": [
      "#92      6.58s best:2188  next:[1809,2187] no_lp\n"
     ]
    },
    {
     "name": "stdout",
     "output_type": "stream",
     "text": [
      "#93      6.62s best:2187  next:[1809,2186] no_lp\n"
     ]
    },
    {
     "name": "stdout",
     "output_type": "stream",
     "text": [
      "#94      6.67s best:2186  next:[1809,2185] no_lp\n"
     ]
    },
    {
     "name": "stdout",
     "output_type": "stream",
     "text": [
      "#Bound   6.69s best:2186  next:[1810,2185] reduced_costs\n"
     ]
    },
    {
     "name": "stdout",
     "output_type": "stream",
     "text": [
      "#95      6.71s best:2185  next:[1810,2184] no_lp\n"
     ]
    },
    {
     "name": "stdout",
     "output_type": "stream",
     "text": [
      "#96      6.79s best:2184  next:[1810,2183] no_lp\n"
     ]
    },
    {
     "name": "stdout",
     "output_type": "stream",
     "text": [
      "#97      6.89s best:2183  next:[1810,2182] no_lp\n"
     ]
    },
    {
     "name": "stdout",
     "output_type": "stream",
     "text": [
      "#98      6.93s best:2182  next:[1810,2181] no_lp\n"
     ]
    },
    {
     "name": "stdout",
     "output_type": "stream",
     "text": [
      "#99      6.98s best:2181  next:[1810,2180] no_lp\n",
      "#Bound   6.98s best:2181  next:[1811,2180] reduced_costs\n"
     ]
    },
    {
     "name": "stdout",
     "output_type": "stream",
     "text": [
      "#100     7.03s best:2180  next:[1811,2179] no_lp\n"
     ]
    },
    {
     "name": "stdout",
     "output_type": "stream",
     "text": [
      "#101     7.10s best:2179  next:[1811,2178] no_lp\n"
     ]
    },
    {
     "name": "stdout",
     "output_type": "stream",
     "text": [
      "#102     7.14s best:2178  next:[1811,2177] no_lp\n"
     ]
    },
    {
     "name": "stdout",
     "output_type": "stream",
     "text": [
      "#103     7.18s best:2177  next:[1811,2176] no_lp\n"
     ]
    },
    {
     "name": "stdout",
     "output_type": "stream",
     "text": [
      "#104     7.27s best:2176  next:[1811,2175] no_lp\n"
     ]
    },
    {
     "name": "stdout",
     "output_type": "stream",
     "text": [
      "#105     7.31s best:2175  next:[1811,2174] no_lp\n"
     ]
    },
    {
     "name": "stdout",
     "output_type": "stream",
     "text": [
      "#106     7.35s best:2174  next:[1811,2173] no_lp\n"
     ]
    },
    {
     "name": "stdout",
     "output_type": "stream",
     "text": [
      "#107     7.41s best:2173  next:[1811,2172] no_lp\n"
     ]
    },
    {
     "name": "stdout",
     "output_type": "stream",
     "text": [
      "#108     7.45s best:2172  next:[1811,2171] no_lp\n"
     ]
    },
    {
     "name": "stdout",
     "output_type": "stream",
     "text": [
      "#109     7.50s best:2171  next:[1811,2170] no_lp\n"
     ]
    },
    {
     "name": "stdout",
     "output_type": "stream",
     "text": [
      "#110     7.54s best:2170  next:[1811,2169] no_lp\n"
     ]
    },
    {
     "name": "stdout",
     "output_type": "stream",
     "text": [
      "#111     7.58s best:2169  next:[1811,2168] no_lp\n"
     ]
    },
    {
     "name": "stdout",
     "output_type": "stream",
     "text": [
      "#112     7.62s best:2168  next:[1811,2167] no_lp\n"
     ]
    },
    {
     "name": "stdout",
     "output_type": "stream",
     "text": [
      "#113     7.67s best:2167  next:[1811,2166] no_lp\n"
     ]
    },
    {
     "name": "stdout",
     "output_type": "stream",
     "text": [
      "#114     7.72s best:2166  next:[1811,2165] no_lp\n"
     ]
    },
    {
     "name": "stdout",
     "output_type": "stream",
     "text": [
      "#115     7.90s best:2165  next:[1811,2164] no_lp\n"
     ]
    },
    {
     "name": "stdout",
     "output_type": "stream",
     "text": [
      "#116     8.15s best:2164  next:[1811,2163] no_lp\n"
     ]
    },
    {
     "name": "stdout",
     "output_type": "stream",
     "text": [
      "#117     8.19s best:2163  next:[1811,2162] no_lp\n"
     ]
    },
    {
     "name": "stdout",
     "output_type": "stream",
     "text": [
      "#118     8.25s best:2162  next:[1811,2161] no_lp\n"
     ]
    },
    {
     "name": "stdout",
     "output_type": "stream",
     "text": [
      "#119     8.29s best:2161  next:[1811,2160] no_lp\n"
     ]
    },
    {
     "name": "stdout",
     "output_type": "stream",
     "text": [
      "#120     8.39s best:2160  next:[1811,2159] no_lp\n"
     ]
    },
    {
     "name": "stdout",
     "output_type": "stream",
     "text": [
      "#121     8.53s best:2159  next:[1811,2158] no_lp\n"
     ]
    },
    {
     "name": "stdout",
     "output_type": "stream",
     "text": [
      "#122     9.17s best:2158  next:[1811,2157] no_lp\n"
     ]
    },
    {
     "name": "stdout",
     "output_type": "stream",
     "text": [
      "#123     9.37s best:2157  next:[1811,2156] quick_restart_no_lp\n"
     ]
    },
    {
     "name": "stdout",
     "output_type": "stream",
     "text": [
      "\n",
      "Task timing                                  n [     min,      max]      avg      dev     time         n [     min,      max]      avg      dev    dtime\n",
      "                       'default_lp':         1 [   9.98s,    9.98s]    9.98s   0.00ns    9.98s         1 [   1.04s,    1.04s]    1.04s   0.00ns    1.04s\n",
      "                 'feasibility_pump':         3 [300.39us,   5.08ms]   2.95ms   1.99ms   8.85ms         2 [ 82.54us, 937.32us] 509.93us 427.39us   1.02ms\n",
      "                            'fixed':         1 [   9.98s,    9.98s]    9.98s   0.00ns    9.98s         1 [741.84ms, 741.84ms] 741.84ms   0.00ns 741.84ms\n",
      "                               'fj':         1 [ 47.03ms,  47.03ms]  47.03ms   0.00ns  47.03ms         1 [100.13ms, 100.13ms] 100.13ms   0.00ns 100.13ms\n",
      "                               'fj':         1 [ 71.84ms,  71.84ms]  71.84ms   0.00ns  71.84ms         1 [100.14ms, 100.14ms] 100.14ms   0.00ns 100.14ms\n",
      "                        'fs_random':         1 [ 34.36ms,  34.36ms]  34.36ms   0.00ns  34.36ms         1 [333.76us, 333.76us] 333.76us   0.00ns 333.76us\n",
      "                  'fs_random_no_lp':         1 [ 34.04ms,  34.04ms]  34.04ms   0.00ns  34.04ms         1 [953.38us, 953.38us] 953.38us   0.00ns 953.38us\n",
      "                    'graph_arc_lns':         3 [ 10.52ms,  30.87ms]  22.37ms   8.64ms  67.10ms         3 [ 55.69us, 677.54us] 378.51us 254.43us   1.14ms\n",
      "                    'graph_cst_lns':         3 [  1.24ms,  14.06ms]   9.75ms   6.02ms  29.26ms         2 [ 55.62us,  93.20us]  74.41us  18.79us 148.82us\n",
      "                    'graph_dec_lns':         3 [  1.22ms,  11.53ms]   7.85ms   4.69ms  23.54ms         2 [ 40.41us,  66.46us]  53.44us  13.03us 106.87us\n",
      "                    'graph_var_lns':         3 [ 33.76ms, 227.73ms] 107.84ms  85.55ms 323.53ms         3 [  1.18ms,   8.28ms]   3.76ms   3.20ms  11.28ms\n",
      "                               'ls':         3 [ 48.36ms,  67.72ms]  56.27ms   8.29ms 168.80ms         3 [100.00ms, 100.03ms] 100.01ms  10.28us 300.04ms\n",
      "                           'ls_lin':         3 [ 44.31ms,  47.68ms]  46.29ms   1.44ms 138.88ms         3 [100.04ms, 100.09ms] 100.06ms  19.56us 300.18ms\n",
      "                           'max_lp':         1 [   9.98s,    9.98s]    9.98s   0.00ns    9.98s         1 [   1.36s,    1.36s]    1.36s   0.00ns    1.36s\n",
      "                            'no_lp':         1 [   9.99s,    9.99s]    9.99s   0.00ns    9.99s         1 [579.38ms, 579.38ms] 579.38ms   0.00ns 579.38ms\n",
      "                     'pseudo_costs':         1 [   9.98s,    9.98s]    9.98s   0.00ns    9.98s         1 [   1.78s,    1.78s]    1.78s   0.00ns    1.78s\n",
      "                    'quick_restart':         1 [   9.98s,    9.98s]    9.98s   0.00ns    9.98s         1 [380.20ms, 380.20ms] 380.20ms   0.00ns 380.20ms\n",
      "              'quick_restart_no_lp':         1 [   9.99s,    9.99s]    9.99s   0.00ns    9.99s         1 [431.79ms, 431.79ms] 431.79ms   0.00ns 431.79ms\n",
      "                    'reduced_costs':         1 [   9.98s,    9.98s]    9.98s   0.00ns    9.98s         1 [984.08ms, 984.08ms] 984.08ms   0.00ns 984.08ms\n",
      "                        'rins/rens':         3 [110.34us, 810.74us] 555.77us 316.07us   1.67ms         0 [  0.00ns,   0.00ns]   0.00ns   0.00ns   0.00ns\n",
      "                      'rnd_cst_lns':         3 [ 26.78ms, 119.07ms]  61.57ms  40.96ms 184.72ms         3 [583.71us,   3.23ms]   1.67ms   1.13ms   5.01ms\n",
      "                      'rnd_var_lns':         3 [ 12.55ms,  32.45ms]  19.30ms   9.30ms  57.91ms         3 [ 27.39us, 587.32us] 252.72us 241.30us 758.15us\n",
      "         'scheduling_intervals_lns':         2 [   8.69s,    9.90s]    9.30s 605.43ms   18.60s         2 [ 20.07ms,  20.63ms]  20.35ms 276.71us  40.70ms\n",
      "       'scheduling_precedences_lns':         1 [   9.88s,    9.88s]    9.88s   0.00ns    9.88s         1 [ 25.51ms,  25.51ms]  25.51ms   0.00ns  25.51ms\n",
      "  'scheduling_resource_windows_lns':         2 [144.55ms, 157.43ms] 150.99ms   6.44ms 301.98ms         2 [  1.17ms,   1.35ms]   1.26ms  88.95us   2.52ms\n",
      "       'scheduling_time_window_lns':         1 [   9.84s,    9.84s]    9.84s   0.00ns    9.84s         1 [100.05ms, 100.05ms] 100.05ms   0.00ns 100.05ms\n",
      "\n",
      "Search stats               Bools  Conflicts  Branches  Restarts  BoolPropag  IntegerPropag\n",
      "           'default_lp':   4'419      7'606    29'161     3'567   1'969'274      5'671'820\n",
      "                'fixed':   5'880      3'205    43'898     3'839   1'423'131      2'077'428\n",
      "            'fs_random':      49          0        49         0           0          1'424\n",
      "      'fs_random_no_lp':     234          0       234         0           0          5'733\n",
      "               'max_lp':   3'966      6'171    29'820     4'065   1'199'410      3'168'839\n",
      "                'no_lp':   9'960      1'394   135'643     4'427   1'060'702      2'461'677\n",
      "         'pseudo_costs':   4'243      7'162    24'805     1'389   1'508'570      3'458'670\n",
      "        'quick_restart':  10'788        805    51'976     3'811     691'277      1'531'733\n",
      "  'quick_restart_no_lp':  11'325      1'028    61'630     3'105     971'265      1'950'754\n",
      "        'reduced_costs':   8'706        407    35'544    25'625     982'301        843'706\n",
      "\n",
      "SAT stats                 ClassicMinim  LitRemoved  LitLearned  LitForgotten  Subsumed  MClauses  MDecisions  MLitTrue  MSubsumed  MLitRemoved  MReused\n",
      "           'default_lp':         7'549      34'114     147'964             0         0         0           0         0          0            0        0\n",
      "                'fixed':         2'420      10'400     596'641             0         2         0           0         0          0            0        0\n",
      "            'fs_random':             0           0           0             0         0         0           0         0          0            0        0\n",
      "      'fs_random_no_lp':             0           0           0             0         0         0           0         0          0            0        0\n",
      "               'max_lp':         6'164      73'118     190'336             0         2         0           0         0          0            0        0\n",
      "                'no_lp':         1'386      25'584     148'647             0         4         0           0         0          0            0        0\n",
      "         'pseudo_costs':         7'127      38'695     296'563             0         2         0           0         0          0            0        0\n",
      "        'quick_restart':           797      13'261      80'300             0         0         6           6         0          0            0       12\n",
      "  'quick_restart_no_lp':         1'003      15'954     105'883             0         0         6          15         0          0            0        0\n",
      "        'reduced_costs':           369      16'141      10'208             0         4         0           0         0          0            0        0\n",
      "\n",
      "Lp stats            Component  Iterations  AddedCuts  OPTIMAL  DUAL_F.  DUAL_U.\n",
      "     'default_lp':          1           0          0   21'668        0        0\n",
      "          'fixed':          1           0          0   39'255        0        0\n",
      "      'fs_random':          1           0          0       53        0        0\n",
      "         'max_lp':          1      11'012      2'944   14'312      157        0\n",
      "   'pseudo_costs':          1      27'070      1'410   27'924      556        0\n",
      "  'quick_restart':          1           0          0   29'441        0        0\n",
      "  'reduced_costs':          1      17'283      3'400    2'153    1'003        0\n",
      "\n",
      "Lp dimension         Final dimension of first component\n",
      "     'default_lp':       0 rows, 601 columns, 0 entries\n",
      "          'fixed':       0 rows, 601 columns, 0 entries\n",
      "      'fs_random':       0 rows, 601 columns, 0 entries\n",
      "         'max_lp':  322 rows, 601 columns, 1564 entries\n",
      "   'pseudo_costs':   249 rows, 601 columns, 502 entries\n",
      "  'quick_restart':       0 rows, 601 columns, 0 entries\n",
      "  'reduced_costs':  648 rows, 601 columns, 1614 entries\n",
      "\n",
      "Lp debug            CutPropag  CutEqPropag  Adjust  Overflow     Bad  BadScaling\n",
      "     'default_lp':          0            0       0         0       0           0\n",
      "          'fixed':          0            0       0         0       0           0\n",
      "      'fs_random':          0            0       0         0       0           0\n",
      "         'max_lp':          0            0       0         0   3'684           0\n",
      "   'pseudo_costs':          0           58       0         0     576           0\n",
      "  'quick_restart':          0            0       0         0       0           0\n",
      "  'reduced_costs':          0           45       0         0  19'156           0\n",
      "\n",
      "Lp pool             Constraints  Updates  Simplif  Merged  Shortened  Split  Strenghtened    Cuts/Call\n",
      "     'default_lp':          600        0        0       0          0      0             0          0/0\n",
      "          'fixed':          600        0        0       0          0      0             0          0/0\n",
      "      'fs_random':          600        0        0       0          0      0             0          0/0\n",
      "         'max_lp':        2'376    1'016      415   1'168          0      0             0  2'944/3'992\n",
      "   'pseudo_costs':        1'587      140       41     423          0      0             0  1'410/1'923\n",
      "  'quick_restart':          600        0        0       0          0      0             0          0/0\n",
      "  'reduced_costs':        3'525    3'179    2'471     475          0      0            11  3'400/5'071\n",
      "\n",
      "Lp Cut                                                reduced_costs  max_lp  pseudo_costs\n",
      "                                              CG_FF:              2       -             -\n",
      "                                               CG_K:              5       5             2\n",
      "                                               CG_R:             23      56             6\n",
      "                                            MIR_1_K:              8       4             6\n",
      "                                            MIR_1_R:             22      51            15\n",
      "                                            MIR_2_R:              2       1             -\n",
      "                                            MIR_3_R:              1       2             -\n",
      "                                            MIR_4_R:              -       2             -\n",
      "                                            MIR_6_R:              -       1             -\n",
      "                  NoOverlapCompletionTimeExhaustive:            143      74            10\n",
      "           NoOverlapCompletionTimeExhaustive_lifted:            101      57            14\n",
      "  NoOverlapCompletionTimeExhaustive_lifted_weighted:            407     385           214\n",
      "         NoOverlapCompletionTimeExhaustive_weighted:            230     134            37\n",
      "                    NoOverlapCompletionTimeQueyrane:            435     323           178\n",
      "             NoOverlapCompletionTimeQueyrane_lifted:            979     740           404\n",
      "                        NoOverlapDetectedPrecedence:              3       -             -\n",
      "                          NoOverlapDisjunctionOnEnd:            342      27             3\n",
      "                        NoOverlapDisjunctionOnStart:            676   1'068           514\n",
      "                                        ZERO_HALF_R:             21      14             7\n",
      "\n",
      "LNS stats                             Improv/Calls  Closed  Difficulty  TimeLimit\n",
      "                    'graph_arc_lns':           1/3    100%    8.76e-01       0.10\n",
      "                    'graph_cst_lns':           3/3    100%    8.76e-01       0.10\n",
      "                    'graph_dec_lns':           3/3    100%    8.76e-01       0.10\n",
      "                    'graph_var_lns':           3/3    100%    8.76e-01       0.10\n",
      "                        'rins/rens':           2/2    100%    8.14e-01       0.10\n",
      "                      'rnd_cst_lns':           2/3    100%    8.76e-01       0.10\n",
      "                      'rnd_var_lns':           2/3    100%    8.76e-01       0.10\n",
      "         'scheduling_intervals_lns':           2/2      0%    1.86e-01       0.10\n",
      "       'scheduling_precedences_lns':           1/1      0%    2.93e-01       0.10\n",
      "  'scheduling_resource_windows_lns':           2/2    100%    8.14e-01       0.10\n",
      "       'scheduling_time_window_lns':           1/1      0%    2.93e-01       0.10\n",
      "\n",
      "LS stats                                    Batches  Restarts/Perturbs  LinMoves  GenMoves  CompoundMoves  Bactracks  WeightUpdates  ScoreComputed\n",
      "                             'fj_restart':        1                  1         0       579              0          0              3        164'828\n",
      "  'fj_restart_decay_compound_perturb_obj':        1                  1         0       847            440        196              0        164'651\n",
      "                         'ls_lin_restart':        1                  1         0       935              0          0          1'091        163'993\n",
      "                   'ls_lin_restart_decay':        1                  1         0     1'563              0          0             90        162'965\n",
      "                 'ls_lin_restart_perturb':        1                  1         0     1'085              0          0            274        163'742\n",
      "                    'ls_restart_compound':        1                  1         0     6'903              0      3'450            147        155'556\n",
      "            'ls_restart_compound_perturb':        1                  1         0     4'837             48      2'394             71        158'983\n",
      "                       'ls_restart_decay':        1                  1         0     1'573              0          0             74        162'951\n",
      "\n",
      "Solutions (123)           Num      Rank\n",
      "                'fixed':    7    [4,24]\n",
      "        'graph_var_lns':    3    [3,13]\n",
      "                'no_lp':  105   [1,122]\n",
      "        'quick_restart':    1   [25,25]\n",
      "  'quick_restart_no_lp':    4  [11,123]\n",
      "          'rnd_cst_lns':    2     [2,6]\n",
      "          'rnd_var_lns':    1   [10,10]\n",
      "\n",
      "Objective bounds     Num\n",
      "  'initial_domain':    1\n",
      "           'no_lp':    1\n",
      "   'reduced_costs':    6\n",
      "\n",
      "Solution repositories    Added  Queried  Synchro\n",
      "  'feasible solutions':    187       61      142\n",
      "   'fj solution hints':      0        0        0\n",
      "        'lp solutions':    286        2      102\n",
      "                'pump':      2        1\n",
      "\n",
      "Improving bounds shared       Num  Sym\n",
      "                 'fixed':   4'207    0\n",
      "                 'no_lp':  63'108    0\n",
      "         'quick_restart':   1'803    0\n",
      "   'quick_restart_no_lp':   4'209    0\n",
      "         'reduced_costs':       1    0\n",
      "\n",
      "CpSolverResponse summary:\n",
      "status: FEASIBLE\n",
      "objective: 2157\n",
      "best_bound: 1811\n",
      "integers: 601\n",
      "booleans: 234\n",
      "conflicts: 0\n",
      "branches: 234\n",
      "propagations: 0\n",
      "integer_propagations: 5733\n",
      "restarts: 0\n",
      "lp_iterations: 0\n",
      "walltime: 10.0119\n",
      "usertime: 10.0119\n",
      "deterministic_time: 8.2932\n",
      "gap_integral: 48.8859\n",
      "solution_fingerprint: 0xc5b19f064c95160f\n",
      "\n"
     ]
    }
   ],
   "source": [
    "model3_cpsat = ModelCpSat(jobs3)\n",
    "model3_cpsat.solve(timeout=10)\n",
    "\n",
    "mo.md(f\"makespan = {round(model3_cpsat.solver.objective_value)}\")"
   ]
  },
  {
   "cell_type": "code",
   "execution_count": null,
   "id": "lgWD",
   "metadata": {},
   "outputs": [
    {
     "data": {
      "text/html": [
       "<marimo-plotly data-figure='{&quot;data&quot;: [{&quot;base&quot;: [&quot;2025-06-20T00:00:00.000000000&quot;, &quot;2025-10-05T00:00:00.000000000&quot;, &quot;2026-01-25T00:00:00.000000000&quot;, &quot;2026-05-19T00:00:00.000000000&quot;, &quot;2026-07-09T00:00:00.000000000&quot;, &quot;2026-08-21T00:00:00.000000000&quot;, &quot;2026-10-06T00:00:00.000000000&quot;, &quot;2026-11-29T00:00:00.000000000&quot;, &quot;2027-02-07T00:00:00.000000000&quot;, &quot;2027-07-09T00:00:00.000000000&quot;, &quot;2028-05-31T00:00:00.000000000&quot;, &quot;2029-01-16T00:00:00.000000000&quot;, &quot;2029-04-13T00:00:00.000000000&quot;, &quot;2029-06-27T00:00:00.000000000&quot;, &quot;2029-07-21T00:00:00.000000000&quot;, &quot;2029-10-17T00:00:00.000000000&quot;, &quot;2029-12-03T00:00:00.000000000&quot;, &quot;2030-03-27T00:00:00.000000000&quot;, &quot;2030-12-02T00:00:00.000000000&quot;, &quot;2031-01-12T00:00:00.000000000&quot;], &quot;hovertemplate&quot;: &quot;job=job0&lt;br&gt;start=%{base}&lt;br&gt;end=%{x}&lt;br&gt;resource=%{y}&lt;extra&gt;&lt;/extra&gt;&quot;, &quot;legendgroup&quot;: &quot;job0&quot;, &quot;marker&quot;: {&quot;color&quot;: &quot;#636efa&quot;, &quot;opacity&quot;: 0.5, &quot;pattern&quot;: {&quot;shape&quot;: &quot;&quot;}}, &quot;name&quot;: &quot;job0&quot;, &quot;orientation&quot;: &quot;h&quot;, &quot;showlegend&quot;: true, &quot;textposition&quot;: &quot;auto&quot;, &quot;x&quot;: [8294400000, 2246400000, 2851200000, 1641600000, 3715200000, 1468800000, 2246400000, 5702400000, 7257600000, 4838400000, 7171200000, 5702400000, 6393600000, 2073600000, 7344000000, 4060800000, 7603200000, 8380800000, 3542400000, 6652800000], &quot;xaxis&quot;: &quot;x&quot;, &quot;y&quot;: [&quot;machine2&quot;, &quot;machine8&quot;, &quot;machine6&quot;, &quot;machine0&quot;, &quot;machine4&quot;, &quot;machine15&quot;, &quot;machine16&quot;, &quot;machine13&quot;, &quot;machine5&quot;, &quot;machine12&quot;, &quot;machine10&quot;, &quot;machine7&quot;, &quot;machine14&quot;, &quot;machine19&quot;, &quot;machine1&quot;, &quot;machine3&quot;, &quot;machine18&quot;, &quot;machine17&quot;, &quot;machine9&quot;, &quot;machine11&quot;], &quot;yaxis&quot;: &quot;y&quot;, &quot;type&quot;: &quot;bar&quot;}, {&quot;base&quot;: [&quot;2025-06-19T00:00:00.000000000&quot;, &quot;2025-09-15T00:00:00.000000000&quot;, &quot;2025-11-01T00:00:00.000000000&quot;, &quot;2026-01-30T00:00:00.000000000&quot;, &quot;2026-04-01T00:00:00.000000000&quot;, &quot;2026-05-21T00:00:00.000000000&quot;, &quot;2026-12-15T00:00:00.000000000&quot;, &quot;2027-08-06T00:00:00.000000000&quot;, &quot;2027-09-09T00:00:00.000000000&quot;, &quot;2027-10-26T00:00:00.000000000&quot;, &quot;2027-12-17T00:00:00.000000000&quot;, &quot;2028-02-17T00:00:00.000000000&quot;, &quot;2029-06-12T00:00:00.000000000&quot;, &quot;2029-08-17T00:00:00.000000000&quot;, &quot;2029-11-01T00:00:00.000000000&quot;, &quot;2029-12-20T00:00:00.000000000&quot;, &quot;2029-12-24T00:00:00.000000000&quot;, &quot;2030-06-13T00:00:00.000000000&quot;, &quot;2030-11-17T00:00:00.000000000&quot;, &quot;2031-02-18T00:00:00.000000000&quot;], &quot;hovertemplate&quot;: &quot;job=job1&lt;br&gt;start=%{base}&lt;br&gt;end=%{x}&lt;br&gt;resource=%{y}&lt;extra&gt;&lt;/extra&gt;&quot;, &quot;legendgroup&quot;: &quot;job1&quot;, &quot;marker&quot;: {&quot;color&quot;: &quot;#EF553B&quot;, &quot;opacity&quot;: 0.5, &quot;pattern&quot;: {&quot;shape&quot;: &quot;&quot;}}, &quot;name&quot;: &quot;job1&quot;, &quot;orientation&quot;: &quot;h&quot;, &quot;showlegend&quot;: true, &quot;textposition&quot;: &quot;auto&quot;, &quot;x&quot;: [6048000000, 3974400000, 7776000000, 5270400000, 2073600000, 5443200000, 8208000000, 2937600000, 4060800000, 4320000000, 5356800000, 864000000, 5702400000, 4492800000, 4233600000, 345600000, 8121600000, 3283200000, 8035200000, 7257600000], &quot;xaxis&quot;: &quot;x&quot;, &quot;y&quot;: [&quot;machine0&quot;, &quot;machine10&quot;, &quot;machine13&quot;, &quot;machine3&quot;, &quot;machine2&quot;, &quot;machine7&quot;, &quot;machine1&quot;, &quot;machine16&quot;, &quot;machine9&quot;, &quot;machine17&quot;, &quot;machine18&quot;, &quot;machine15&quot;, &quot;machine11&quot;, &quot;machine8&quot;, &quot;machine19&quot;, &quot;machine5&quot;, &quot;machine4&quot;, &quot;machine12&quot;, &quot;machine14&quot;, &quot;machine6&quot;], &quot;yaxis&quot;: &quot;y&quot;, &quot;type&quot;: &quot;bar&quot;}, {&quot;base&quot;: [&quot;2025-12-11T00:00:00.000000000&quot;, &quot;2026-03-01T00:00:00.000000000&quot;, &quot;2026-07-01T00:00:00.000000000&quot;, &quot;2027-10-28T00:00:00.000000000&quot;, &quot;2027-11-22T00:00:00.000000000&quot;, &quot;2028-05-27T00:00:00.000000000&quot;, &quot;2028-12-28T00:00:00.000000000&quot;, &quot;2029-03-26T00:00:00.000000000&quot;, &quot;2029-05-25T00:00:00.000000000&quot;, &quot;2029-06-26T00:00:00.000000000&quot;, &quot;2029-09-04T00:00:00.000000000&quot;, &quot;2029-12-05T00:00:00.000000000&quot;, &quot;2030-02-15T00:00:00.000000000&quot;, &quot;2030-05-17T00:00:00.000000000&quot;, &quot;2030-07-22T00:00:00.000000000&quot;, &quot;2030-08-25T00:00:00.000000000&quot;, &quot;2030-11-17T00:00:00.000000000&quot;, &quot;2030-12-08T00:00:00.000000000&quot;, &quot;2031-01-13T00:00:00.000000000&quot;, &quot;2031-01-22T00:00:00.000000000&quot;], &quot;hovertemplate&quot;: &quot;job=job2&lt;br&gt;start=%{base}&lt;br&gt;end=%{x}&lt;br&gt;resource=%{y}&lt;extra&gt;&lt;/extra&gt;&quot;, &quot;legendgroup&quot;: &quot;job2&quot;, &quot;marker&quot;: {&quot;color&quot;: &quot;#00cc96&quot;, &quot;opacity&quot;: 0.5, &quot;pattern&quot;: {&quot;shape&quot;: &quot;&quot;}}, &quot;name&quot;: &quot;job2&quot;, &quot;orientation&quot;: &quot;h&quot;, &quot;showlegend&quot;: true, &quot;textposition&quot;: &quot;auto&quot;, &quot;x&quot;: [4147200000, 5184000000, 1296000000, 2160000000, 1814400000, 8553600000, 4838400000, 2764800000, 2678400000, 3110400000, 6393600000, 6220800000, 7862400000, 2505600000, 2937600000, 4320000000, 1814400000, 3110400000, 86400000, 2592000000], &quot;xaxis&quot;: &quot;x&quot;, &quot;y&quot;: [&quot;machine0&quot;, &quot;machine19&quot;, &quot;machine11&quot;, &quot;machine9&quot;, &quot;machine15&quot;, &quot;machine3&quot;, &quot;machine13&quot;, &quot;machine18&quot;, &quot;machine1&quot;, &quot;machine5&quot;, &quot;machine7&quot;, &quot;machine6&quot;, &quot;machine10&quot;, &quot;machine4&quot;, &quot;machine14&quot;, &quot;machine8&quot;, &quot;machine12&quot;, &quot;machine2&quot;, &quot;machine16&quot;, &quot;machine17&quot;], &quot;yaxis&quot;: &quot;y&quot;, &quot;type&quot;: &quot;bar&quot;}, {&quot;base&quot;: [&quot;2025-06-19T00:00:00.000000000&quot;, &quot;2025-08-08T00:00:00.000000000&quot;, &quot;2025-10-31T00:00:00.000000000&quot;, &quot;2026-01-24T00:00:00.000000000&quot;, &quot;2026-03-19T00:00:00.000000000&quot;, &quot;2026-11-28T00:00:00.000000000&quot;, &quot;2027-01-09T00:00:00.000000000&quot;, &quot;2027-02-09T00:00:00.000000000&quot;, &quot;2027-05-16T00:00:00.000000000&quot;, &quot;2027-08-08T00:00:00.000000000&quot;, &quot;2028-01-20T00:00:00.000000000&quot;, &quot;2028-02-28T00:00:00.000000000&quot;, &quot;2028-05-27T00:00:00.000000000&quot;, &quot;2028-09-03T00:00:00.000000000&quot;, &quot;2029-01-18T00:00:00.000000000&quot;, &quot;2029-05-27T00:00:00.000000000&quot;, &quot;2030-02-23T00:00:00.000000000&quot;, &quot;2030-04-19T00:00:00.000000000&quot;, &quot;2030-08-31T00:00:00.000000000&quot;, &quot;2030-10-14T00:00:00.000000000&quot;], &quot;hovertemplate&quot;: &quot;job=job3&lt;br&gt;start=%{base}&lt;br&gt;end=%{x}&lt;br&gt;resource=%{y}&lt;extra&gt;&lt;/extra&gt;&quot;, &quot;legendgroup&quot;: &quot;job3&quot;, &quot;marker&quot;: {&quot;color&quot;: &quot;#ab63fa&quot;, &quot;opacity&quot;: 0.5, &quot;pattern&quot;: {&quot;shape&quot;: &quot;&quot;}}, &quot;name&quot;: &quot;job3&quot;, &quot;orientation&quot;: &quot;h&quot;, &quot;showlegend&quot;: true, &quot;textposition&quot;: &quot;auto&quot;, &quot;x&quot;: [4320000000, 7257600000, 6393600000, 3024000000, 7430400000, 3628800000, 2678400000, 5356800000, 7084800000, 5702400000, 3369600000, 4147200000, 8467200000, 8553600000, 4147200000, 6652800000, 2678400000, 4406400000, 3801600000, 3542400000], &quot;xaxis&quot;: &quot;x&quot;, &quot;y&quot;: [&quot;machine7&quot;, &quot;machine19&quot;, &quot;machine10&quot;, &quot;machine11&quot;, &quot;machine9&quot;, &quot;machine14&quot;, &quot;machine6&quot;, &quot;machine12&quot;, &quot;machine16&quot;, &quot;machine13&quot;, &quot;machine5&quot;, &quot;machine15&quot;, &quot;machine4&quot;, &quot;machine3&quot;, &quot;machine17&quot;, &quot;machine8&quot;, &quot;machine1&quot;, &quot;machine18&quot;, &quot;machine2&quot;, &quot;machine0&quot;], &quot;yaxis&quot;: &quot;y&quot;, &quot;type&quot;: &quot;bar&quot;}, {&quot;base&quot;: [&quot;2025-08-28T00:00:00.000000000&quot;, &quot;2025-11-28T00:00:00.000000000&quot;, &quot;2025-12-25T00:00:00.000000000&quot;, &quot;2026-01-24T00:00:00.000000000&quot;, &quot;2027-02-01T00:00:00.000000000&quot;, &quot;2028-01-17T00:00:00.000000000&quot;, &quot;2028-06-09T00:00:00.000000000&quot;, &quot;2028-08-27T00:00:00.000000000&quot;, &quot;2028-11-14T00:00:00.000000000&quot;, &quot;2028-12-31T00:00:00.000000000&quot;, &quot;2029-01-18T00:00:00.000000000&quot;, &quot;2029-05-11T00:00:00.000000000&quot;, &quot;2029-06-15T00:00:00.000000000&quot;, &quot;2029-08-11T00:00:00.000000000&quot;, &quot;2029-08-14T00:00:00.000000000&quot;, &quot;2029-10-18T00:00:00.000000000&quot;, &quot;2030-03-11T00:00:00.000000000&quot;, &quot;2030-05-24T00:00:00.000000000&quot;, &quot;2030-06-21T00:00:00.000000000&quot;, &quot;2030-08-13T00:00:00.000000000&quot;], &quot;hovertemplate&quot;: &quot;job=job4&lt;br&gt;start=%{base}&lt;br&gt;end=%{x}&lt;br&gt;resource=%{y}&lt;extra&gt;&lt;/extra&gt;&quot;, &quot;legendgroup&quot;: &quot;job4&quot;, &quot;marker&quot;: {&quot;color&quot;: &quot;#FFA15A&quot;, &quot;opacity&quot;: 0.5, &quot;pattern&quot;: {&quot;shape&quot;: &quot;&quot;}}, &quot;name&quot;: &quot;job4&quot;, &quot;orientation&quot;: &quot;h&quot;, &quot;showlegend&quot;: true, &quot;textposition&quot;: &quot;auto&quot;, &quot;x&quot;: [7776000000, 2332800000, 2592000000, 5875200000, 2160000000, 8121600000, 5702400000, 4147200000, 4060800000, 1382400000, 7776000000, 1987200000, 432000000, 259200000, 864000000, 3196800000, 6393600000, 2419200000, 2160000000, 7430400000], &quot;xaxis&quot;: &quot;x&quot;, &quot;y&quot;: [&quot;machine0&quot;, &quot;machine6&quot;, &quot;machine11&quot;, &quot;machine1&quot;, &quot;machine3&quot;, &quot;machine16&quot;, &quot;machine19&quot;, &quot;machine12&quot;, &quot;machine10&quot;, &quot;machine7&quot;, &quot;machine5&quot;, &quot;machine2&quot;, &quot;machine15&quot;, &quot;machine4&quot;, &quot;machine18&quot;, &quot;machine14&quot;, &quot;machine9&quot;, &quot;machine8&quot;, &quot;machine13&quot;, &quot;machine17&quot;], &quot;yaxis&quot;: &quot;y&quot;, &quot;type&quot;: &quot;bar&quot;}, {&quot;base&quot;: [&quot;2025-06-19T00:00:00.000000000&quot;, &quot;2025-07-21T00:00:00.000000000&quot;, &quot;2025-10-31T00:00:00.000000000&quot;, &quot;2025-12-01T00:00:00.000000000&quot;, &quot;2026-02-16T00:00:00.000000000&quot;, &quot;2026-12-31T00:00:00.000000000&quot;, &quot;2027-02-03T00:00:00.000000000&quot;, &quot;2027-03-21T00:00:00.000000000&quot;, &quot;2027-09-03T00:00:00.000000000&quot;, &quot;2027-09-25T00:00:00.000000000&quot;, &quot;2027-10-31T00:00:00.000000000&quot;, &quot;2028-03-31T00:00:00.000000000&quot;, &quot;2028-05-31T00:00:00.000000000&quot;, &quot;2028-07-25T00:00:00.000000000&quot;, &quot;2028-10-17T00:00:00.000000000&quot;, &quot;2029-09-08T00:00:00.000000000&quot;, &quot;2030-07-31T00:00:00.000000000&quot;, &quot;2030-10-07T00:00:00.000000000&quot;, &quot;2031-01-17T00:00:00.000000000&quot;, &quot;2031-03-25T00:00:00.000000000&quot;], &quot;hovertemplate&quot;: &quot;job=job5&lt;br&gt;start=%{base}&lt;br&gt;end=%{x}&lt;br&gt;resource=%{y}&lt;extra&gt;&lt;/extra&gt;&quot;, &quot;legendgroup&quot;: &quot;job5&quot;, &quot;marker&quot;: {&quot;color&quot;: &quot;#19d3f3&quot;, &quot;opacity&quot;: 0.5, &quot;pattern&quot;: {&quot;shape&quot;: &quot;&quot;}}, &quot;name&quot;: &quot;job5&quot;, &quot;orientation&quot;: &quot;h&quot;, &quot;showlegend&quot;: true, &quot;textposition&quot;: &quot;auto&quot;, &quot;x&quot;: [2764800000, 6566400000, 2505600000, 5184000000, 5184000000, 1814400000, 172800000, 5616000000, 1900800000, 3110400000, 6912000000, 5270400000, 4752000000, 7257600000, 8553600000, 2160000000, 5875200000, 6912000000, 5788800000, 4320000000], &quot;xaxis&quot;: &quot;x&quot;, &quot;y&quot;: [&quot;machine17&quot;, &quot;machine8&quot;, &quot;machine19&quot;, &quot;machine16&quot;, &quot;machine0&quot;, &quot;machine12&quot;, &quot;machine13&quot;, &quot;machine14&quot;, &quot;machine3&quot;, &quot;machine2&quot;, &quot;machine1&quot;, &quot;machine10&quot;, &quot;machine7&quot;, &quot;machine9&quot;, &quot;machine15&quot;, &quot;machine4&quot;, &quot;machine6&quot;, &quot;machine11&quot;, &quot;machine18&quot;, &quot;machine5&quot;], &quot;yaxis&quot;: &quot;y&quot;, &quot;type&quot;: &quot;bar&quot;}, {&quot;base&quot;: [&quot;2025-06-29T00:00:00.000000000&quot;, &quot;2025-09-27T00:00:00.000000000&quot;, &quot;2026-11-04T00:00:00.000000000&quot;, &quot;2027-03-25T00:00:00.000000000&quot;, &quot;2027-05-03T00:00:00.000000000&quot;, &quot;2027-07-02T00:00:00.000000000&quot;, &quot;2027-08-23T00:00:00.000000000&quot;, &quot;2027-09-06T00:00:00.000000000&quot;, &quot;2027-10-25T00:00:00.000000000&quot;, &quot;2028-01-17T00:00:00.000000000&quot;, &quot;2028-03-28T00:00:00.000000000&quot;, &quot;2028-06-26T00:00:00.000000000&quot;, &quot;2030-01-15T00:00:00.000000000&quot;, &quot;2030-03-19T00:00:00.000000000&quot;, &quot;2030-06-29T00:00:00.000000000&quot;, &quot;2030-09-09T00:00:00.000000000&quot;, &quot;2030-09-11T00:00:00.000000000&quot;, &quot;2030-11-13T00:00:00.000000000&quot;, &quot;2030-12-07T00:00:00.000000000&quot;, &quot;2031-02-05T00:00:00.000000000&quot;], &quot;hovertemplate&quot;: &quot;job=job6&lt;br&gt;start=%{base}&lt;br&gt;end=%{x}&lt;br&gt;resource=%{y}&lt;extra&gt;&lt;/extra&gt;&quot;, &quot;legendgroup&quot;: &quot;job6&quot;, &quot;marker&quot;: {&quot;color&quot;: &quot;#FF6692&quot;, &quot;opacity&quot;: 0.5, &quot;pattern&quot;: {&quot;shape&quot;: &quot;&quot;}}, &quot;name&quot;: &quot;job6&quot;, &quot;orientation&quot;: &quot;h&quot;, &quot;showlegend&quot;: true, &quot;textposition&quot;: &quot;auto&quot;, &quot;x&quot;: [7776000000, 777600000, 2419200000, 3283200000, 3110400000, 1641600000, 345600000, 3974400000, 7257600000, 6134400000, 5184000000, 1987200000, 5443200000, 6652800000, 6220800000, 172800000, 5443200000, 2073600000, 5184000000, 8553600000], &quot;xaxis&quot;: &quot;x&quot;, &quot;y&quot;: [&quot;machine18&quot;, &quot;machine1&quot;, &quot;machine9&quot;, &quot;machine11&quot;, &quot;machine17&quot;, &quot;machine0&quot;, &quot;machine2&quot;, &quot;machine6&quot;, &quot;machine16&quot;, &quot;machine10&quot;, &quot;machine4&quot;, &quot;machine14&quot;, &quot;machine19&quot;, &quot;machine12&quot;, &quot;machine15&quot;, &quot;machine7&quot;, &quot;machine3&quot;, &quot;machine5&quot;, &quot;machine8&quot;, &quot;machine13&quot;], &quot;yaxis&quot;: &quot;y&quot;, &quot;type&quot;: &quot;bar&quot;}, {&quot;base&quot;: [&quot;2025-06-19T00:00:00.000000000&quot;, &quot;2025-09-23T00:00:00.000000000&quot;, &quot;2026-02-28T00:00:00.000000000&quot;, &quot;2026-06-08T00:00:00.000000000&quot;, &quot;2026-09-06T00:00:00.000000000&quot;, &quot;2026-11-08T00:00:00.000000000&quot;, &quot;2027-05-14T00:00:00.000000000&quot;, &quot;2027-06-19T00:00:00.000000000&quot;, &quot;2027-12-09T00:00:00.000000000&quot;, &quot;2028-02-14T00:00:00.000000000&quot;, &quot;2028-05-20T00:00:00.000000000&quot;, &quot;2028-07-28T00:00:00.000000000&quot;, &quot;2028-09-04T00:00:00.000000000&quot;, &quot;2029-01-31T00:00:00.000000000&quot;, &quot;2029-04-25T00:00:00.000000000&quot;, &quot;2029-08-23T00:00:00.000000000&quot;, &quot;2029-11-05T00:00:00.000000000&quot;, &quot;2030-02-17T00:00:00.000000000&quot;, &quot;2030-04-24T00:00:00.000000000&quot;, &quot;2031-04-19T00:00:00.000000000&quot;], &quot;hovertemplate&quot;: &quot;job=job7&lt;br&gt;start=%{base}&lt;br&gt;end=%{x}&lt;br&gt;resource=%{y}&lt;extra&gt;&lt;/extra&gt;&quot;, &quot;legendgroup&quot;: &quot;job7&quot;, &quot;marker&quot;: {&quot;color&quot;: &quot;#B6E880&quot;, &quot;opacity&quot;: 0.5, &quot;pattern&quot;: {&quot;shape&quot;: &quot;&quot;}}, &quot;name&quot;: &quot;job7&quot;, &quot;orientation&quot;: &quot;h&quot;, &quot;showlegend&quot;: true, &quot;textposition&quot;: &quot;auto&quot;, &quot;x&quot;: [8294400000, 6739200000, 6825600000, 7776000000, 5443200000, 6912000000, 864000000, 172800000, 5788800000, 8294400000, 5961600000, 1123200000, 3628800000, 4665600000, 6566400000, 2764800000, 6480000000, 4492800000, 8467200000, 1382400000], &quot;xaxis&quot;: &quot;x&quot;, &quot;y&quot;: [&quot;machine14&quot;, &quot;machine9&quot;, &quot;machine11&quot;, &quot;machine8&quot;, &quot;machine2&quot;, &quot;machine16&quot;, &quot;machine4&quot;, &quot;machine1&quot;, &quot;machine19&quot;, &quot;machine6&quot;, &quot;machine0&quot;, &quot;machine7&quot;, &quot;machine15&quot;, &quot;machine18&quot;, &quot;machine12&quot;, &quot;machine17&quot;, &quot;machine13&quot;, &quot;machine3&quot;, &quot;machine5&quot;, &quot;machine10&quot;], &quot;yaxis&quot;: &quot;y&quot;, &quot;type&quot;: &quot;bar&quot;}, {&quot;base&quot;: [&quot;2025-06-19T00:00:00.000000000&quot;, &quot;2026-05-31T00:00:00.000000000&quot;, &quot;2026-08-19T00:00:00.000000000&quot;, &quot;2026-11-04T00:00:00.000000000&quot;, &quot;2026-12-30T00:00:00.000000000&quot;, &quot;2027-03-25T00:00:00.000000000&quot;, &quot;2027-06-29T00:00:00.000000000&quot;, &quot;2027-11-08T00:00:00.000000000&quot;, &quot;2028-02-28T00:00:00.000000000&quot;, &quot;2028-04-20T00:00:00.000000000&quot;, &quot;2028-07-15T00:00:00.000000000&quot;, &quot;2028-10-11T00:00:00.000000000&quot;, &quot;2028-10-25T00:00:00.000000000&quot;, &quot;2028-10-29T00:00:00.000000000&quot;, &quot;2028-12-09T00:00:00.000000000&quot;, &quot;2029-03-04T00:00:00.000000000&quot;, &quot;2030-02-21T00:00:00.000000000&quot;, &quot;2030-06-09T00:00:00.000000000&quot;, &quot;2030-10-17T00:00:00.000000000&quot;, &quot;2031-02-11T00:00:00.000000000&quot;], &quot;hovertemplate&quot;: &quot;job=job8&lt;br&gt;start=%{base}&lt;br&gt;end=%{x}&lt;br&gt;resource=%{y}&lt;extra&gt;&lt;/extra&gt;&quot;, &quot;legendgroup&quot;: &quot;job8&quot;, &quot;marker&quot;: {&quot;color&quot;: &quot;#FF97FF&quot;, &quot;opacity&quot;: 0.5, &quot;pattern&quot;: {&quot;shape&quot;: &quot;&quot;}}, &quot;name&quot;: &quot;job8&quot;, &quot;orientation&quot;: &quot;h&quot;, &quot;showlegend&quot;: true, &quot;textposition&quot;: &quot;auto&quot;, &quot;x&quot;: [2678400000, 6912000000, 6652800000, 4838400000, 7344000000, 8208000000, 5097600000, 3974400000, 345600000, 7344000000, 3628800000, 1209600000, 345600000, 3456000000, 3456000000, 4147200000, 7776000000, 7084800000, 345600000, 7516800000], &quot;xaxis&quot;: &quot;x&quot;, &quot;y&quot;: [&quot;machine3&quot;, &quot;machine14&quot;, &quot;machine9&quot;, &quot;machine0&quot;, &quot;machine11&quot;, &quot;machine10&quot;, &quot;machine4&quot;, &quot;machine12&quot;, &quot;machine5&quot;, &quot;machine16&quot;, &quot;machine2&quot;, &quot;machine1&quot;, &quot;machine13&quot;, &quot;machine7&quot;, &quot;machine17&quot;, &quot;machine19&quot;, &quot;machine6&quot;, &quot;machine18&quot;, &quot;machine8&quot;, &quot;machine15&quot;], &quot;yaxis&quot;: &quot;y&quot;, &quot;type&quot;: &quot;bar&quot;}, {&quot;base&quot;: [&quot;2025-06-19T00:00:00.000000000&quot;, &quot;2025-09-04T00:00:00.000000000&quot;, &quot;2027-01-13T00:00:00.000000000&quot;, &quot;2027-03-14T00:00:00.000000000&quot;, &quot;2028-01-28T00:00:00.000000000&quot;, &quot;2028-04-18T00:00:00.000000000&quot;, &quot;2028-06-08T00:00:00.000000000&quot;, &quot;2028-09-02T00:00:00.000000000&quot;, &quot;2028-11-21T00:00:00.000000000&quot;, &quot;2028-12-01T00:00:00.000000000&quot;, &quot;2029-01-24T00:00:00.000000000&quot;, &quot;2029-03-14T00:00:00.000000000&quot;, &quot;2029-03-16T00:00:00.000000000&quot;, &quot;2029-05-26T00:00:00.000000000&quot;, &quot;2029-12-05T00:00:00.000000000&quot;, &quot;2030-08-20T00:00:00.000000000&quot;, &quot;2030-10-16T00:00:00.000000000&quot;, &quot;2031-01-01T00:00:00.000000000&quot;, &quot;2031-02-11T00:00:00.000000000&quot;, &quot;2031-04-29T00:00:00.000000000&quot;], &quot;hovertemplate&quot;: &quot;job=job9&lt;br&gt;start=%{base}&lt;br&gt;end=%{x}&lt;br&gt;resource=%{y}&lt;extra&gt;&lt;/extra&gt;&quot;, &quot;legendgroup&quot;: &quot;job9&quot;, &quot;marker&quot;: {&quot;color&quot;: &quot;#FECB52&quot;, &quot;opacity&quot;: 0.5, &quot;pattern&quot;: {&quot;shape&quot;: &quot;&quot;}}, &quot;name&quot;: &quot;job9&quot;, &quot;orientation&quot;: &quot;h&quot;, &quot;showlegend&quot;: true, &quot;textposition&quot;: &quot;auto&quot;, &quot;x&quot;: [259200000, 4579200000, 2851200000, 8035200000, 5356800000, 1468800000, 5616000000, 1987200000, 864000000, 3801600000, 4233600000, 172800000, 4665600000, 2160000000, 3628800000, 4924800000, 1987200000, 1382400000, 6566400000, 1036800000], &quot;xaxis&quot;: &quot;x&quot;, &quot;y&quot;: [&quot;machine13&quot;, &quot;machine7&quot;, &quot;machine9&quot;, &quot;machine0&quot;, &quot;machine3&quot;, &quot;machine8&quot;, &quot;machine11&quot;, &quot;machine4&quot;, &quot;machine5&quot;, &quot;machine14&quot;, &quot;machine15&quot;, &quot;machine6&quot;, &quot;machine2&quot;, &quot;machine17&quot;, &quot;machine1&quot;, &quot;machine10&quot;, &quot;machine19&quot;, &quot;machine18&quot;, &quot;machine16&quot;, &quot;machine12&quot;], &quot;yaxis&quot;: &quot;y&quot;, &quot;type&quot;: &quot;bar&quot;}, {&quot;base&quot;: [&quot;2025-06-19T00:00:00.000000000&quot;, &quot;2025-08-27T00:00:00.000000000&quot;, &quot;2025-11-18T00:00:00.000000000&quot;, &quot;2026-11-11T00:00:00.000000000&quot;, &quot;2027-05-02T00:00:00.000000000&quot;, &quot;2027-06-09T00:00:00.000000000&quot;, &quot;2027-10-08T00:00:00.000000000&quot;, &quot;2027-10-25T00:00:00.000000000&quot;, &quot;2027-10-29T00:00:00.000000000&quot;, &quot;2027-11-08T00:00:00.000000000&quot;, &quot;2028-01-19T00:00:00.000000000&quot;, &quot;2028-03-28T00:00:00.000000000&quot;, &quot;2028-03-31T00:00:00.000000000&quot;, &quot;2028-06-17T00:00:00.000000000&quot;, &quot;2028-10-30T00:00:00.000000000&quot;, &quot;2030-06-09T00:00:00.000000000&quot;, &quot;2030-08-06T00:00:00.000000000&quot;, &quot;2030-10-24T00:00:00.000000000&quot;, &quot;2031-01-13T00:00:00.000000000&quot;, &quot;2031-03-17T00:00:00.000000000&quot;], &quot;hovertemplate&quot;: &quot;job=job10&lt;br&gt;start=%{base}&lt;br&gt;end=%{x}&lt;br&gt;resource=%{y}&lt;extra&gt;&lt;/extra&gt;&quot;, &quot;legendgroup&quot;: &quot;job10&quot;, &quot;marker&quot;: {&quot;color&quot;: &quot;#636efa&quot;, &quot;opacity&quot;: 0.5, &quot;pattern&quot;: {&quot;shape&quot;: &quot;&quot;}}, &quot;name&quot;: &quot;job10&quot;, &quot;orientation&quot;: &quot;h&quot;, &quot;showlegend&quot;: true, &quot;textposition&quot;: &quot;auto&quot;, &quot;x&quot;: [5875200000, 4665600000, 6480000000, 2505600000, 2505600000, 8467200000, 1468800000, 345600000, 864000000, 6134400000, 2246400000, 259200000, 4406400000, 6825600000, 2592000000, 5011200000, 6566400000, 6998400000, 5443200000, 5184000000], &quot;xaxis&quot;: &quot;x&quot;, &quot;y&quot;: [&quot;machine4&quot;, &quot;machine17&quot;, &quot;machine2&quot;, &quot;machine8&quot;, &quot;machine11&quot;, &quot;machine19&quot;, &quot;machine18&quot;, &quot;machine13&quot;, &quot;machine12&quot;, &quot;machine3&quot;, &quot;machine1&quot;, &quot;machine10&quot;, &quot;machine5&quot;, &quot;machine15&quot;, &quot;machine14&quot;, &quot;machine9&quot;, &quot;machine16&quot;, &quot;machine6&quot;, &quot;machine7&quot;, &quot;machine0&quot;], &quot;yaxis&quot;: &quot;y&quot;, &quot;type&quot;: &quot;bar&quot;}, {&quot;base&quot;: [&quot;2025-06-19T00:00:00.000000000&quot;, &quot;2025-11-26T00:00:00.000000000&quot;, &quot;2025-12-02T00:00:00.000000000&quot;, &quot;2026-02-08T00:00:00.000000000&quot;, &quot;2026-04-02T00:00:00.000000000&quot;, &quot;2026-08-19T00:00:00.000000000&quot;, &quot;2026-11-20T00:00:00.000000000&quot;, &quot;2027-03-09T00:00:00.000000000&quot;, &quot;2027-06-28T00:00:00.000000000&quot;, &quot;2028-02-27T00:00:00.000000000&quot;, &quot;2028-05-18T00:00:00.000000000&quot;, &quot;2028-09-13T00:00:00.000000000&quot;, &quot;2029-01-28T00:00:00.000000000&quot;, &quot;2029-02-22T00:00:00.000000000&quot;, &quot;2029-03-23T00:00:00.000000000&quot;, &quot;2029-05-05T00:00:00.000000000&quot;, &quot;2029-11-17T00:00:00.000000000&quot;, &quot;2030-12-11T00:00:00.000000000&quot;, &quot;2031-02-04T00:00:00.000000000&quot;, &quot;2031-03-20T00:00:00.000000000&quot;], &quot;hovertemplate&quot;: &quot;job=job11&lt;br&gt;start=%{base}&lt;br&gt;end=%{x}&lt;br&gt;resource=%{y}&lt;extra&gt;&lt;/extra&gt;&quot;, &quot;legendgroup&quot;: &quot;job11&quot;, &quot;marker&quot;: {&quot;color&quot;: &quot;#EF553B&quot;, &quot;opacity&quot;: 0.5, &quot;pattern&quot;: {&quot;shape&quot;: &quot;&quot;}}, &quot;name&quot;: &quot;job11&quot;, &quot;orientation&quot;: &quot;h&quot;, &quot;showlegend&quot;: true, &quot;textposition&quot;: &quot;auto&quot;, &quot;x&quot;: [8467200000, 518400000, 5702400000, 4579200000, 5184000000, 8035200000, 4492800000, 5875200000, 6998400000, 4406400000, 7344000000, 6393600000, 1036800000, 1987200000, 3715200000, 8467200000, 2246400000, 4406400000, 1900800000, 2246400000], &quot;xaxis&quot;: &quot;x&quot;, &quot;y&quot;: [&quot;machine6&quot;, &quot;machine0&quot;, &quot;machine12&quot;, &quot;machine18&quot;, &quot;machine1&quot;, &quot;machine14&quot;, &quot;machine19&quot;, &quot;machine16&quot;, &quot;machine10&quot;, &quot;machine8&quot;, &quot;machine17&quot;, &quot;machine11&quot;, &quot;machine2&quot;, &quot;machine13&quot;, &quot;machine7&quot;, &quot;machine4&quot;, &quot;machine5&quot;, &quot;machine15&quot;, &quot;machine3&quot;, &quot;machine9&quot;], &quot;yaxis&quot;: &quot;y&quot;, &quot;type&quot;: &quot;bar&quot;}, {&quot;base&quot;: [&quot;2028-01-26T00:00:00.000000000&quot;, &quot;2028-04-25T00:00:00.000000000&quot;, &quot;2028-07-16T00:00:00.000000000&quot;, &quot;2028-09-30T00:00:00.000000000&quot;, &quot;2028-10-07T00:00:00.000000000&quot;, &quot;2028-12-13T00:00:00.000000000&quot;, &quot;2028-12-23T00:00:00.000000000&quot;, &quot;2029-02-21T00:00:00.000000000&quot;, &quot;2029-04-18T00:00:00.000000000&quot;, &quot;2029-06-21T00:00:00.000000000&quot;, &quot;2029-08-01T00:00:00.000000000&quot;, &quot;2029-09-05T00:00:00.000000000&quot;, &quot;2029-09-18T00:00:00.000000000&quot;, &quot;2029-10-18T00:00:00.000000000&quot;, &quot;2029-11-22T00:00:00.000000000&quot;, &quot;2029-12-25T00:00:00.000000000&quot;, &quot;2030-05-20T00:00:00.000000000&quot;, &quot;2030-08-24T00:00:00.000000000&quot;, &quot;2030-11-07T00:00:00.000000000&quot;, &quot;2031-02-05T00:00:00.000000000&quot;], &quot;hovertemplate&quot;: &quot;job=job12&lt;br&gt;start=%{base}&lt;br&gt;end=%{x}&lt;br&gt;resource=%{y}&lt;extra&gt;&lt;/extra&gt;&quot;, &quot;legendgroup&quot;: &quot;job12&quot;, &quot;marker&quot;: {&quot;color&quot;: &quot;#00cc96&quot;, &quot;opacity&quot;: 0.5, &quot;pattern&quot;: {&quot;shape&quot;: &quot;&quot;}}, &quot;name&quot;: &quot;job12&quot;, &quot;orientation&quot;: &quot;h&quot;, &quot;showlegend&quot;: true, &quot;textposition&quot;: &quot;auto&quot;, &quot;x&quot;: [7776000000, 3024000000, 6566400000, 604800000, 5788800000, 864000000, 3542400000, 3542400000, 1555200000, 3542400000, 3024000000, 1123200000, 2592000000, 2419200000, 2764800000, 8208000000, 7948800000, 6134400000, 6566400000, 6739200000], &quot;xaxis&quot;: &quot;x&quot;, &quot;y&quot;: [&quot;machine2&quot;, &quot;machine7&quot;, &quot;machine13&quot;, &quot;machine0&quot;, &quot;machine19&quot;, &quot;machine4&quot;, &quot;machine9&quot;, &quot;machine11&quot;, &quot;machine16&quot;, &quot;machine3&quot;, &quot;machine5&quot;, &quot;machine6&quot;, &quot;machine14&quot;, &quot;machine18&quot;, &quot;machine12&quot;, &quot;machine15&quot;, &quot;machine10&quot;, &quot;machine1&quot;, &quot;machine17&quot;, &quot;machine8&quot;], &quot;yaxis&quot;: &quot;y&quot;, &quot;type&quot;: &quot;bar&quot;}, {&quot;base&quot;: [&quot;2025-12-21T00:00:00.000000000&quot;, &quot;2026-04-10T00:00:00.000000000&quot;, &quot;2026-07-20T00:00:00.000000000&quot;, &quot;2026-08-10T00:00:00.000000000&quot;, &quot;2026-12-10T00:00:00.000000000&quot;, &quot;2027-04-12T00:00:00.000000000&quot;, &quot;2027-07-09T00:00:00.000000000&quot;, &quot;2027-07-14T00:00:00.000000000&quot;, &quot;2027-09-26T00:00:00.000000000&quot;, &quot;2027-10-22T00:00:00.000000000&quot;, &quot;2027-11-04T00:00:00.000000000&quot;, &quot;2027-12-15T00:00:00.000000000&quot;, &quot;2028-11-29T00:00:00.000000000&quot;, &quot;2029-04-27T00:00:00.000000000&quot;, &quot;2029-07-10T00:00:00.000000000&quot;, &quot;2029-07-28T00:00:00.000000000&quot;, &quot;2029-09-03T00:00:00.000000000&quot;, &quot;2029-10-01T00:00:00.000000000&quot;, &quot;2029-12-03T00:00:00.000000000&quot;, &quot;2030-03-11T00:00:00.000000000&quot;], &quot;hovertemplate&quot;: &quot;job=job13&lt;br&gt;start=%{base}&lt;br&gt;end=%{x}&lt;br&gt;resource=%{y}&lt;extra&gt;&lt;/extra&gt;&quot;, &quot;legendgroup&quot;: &quot;job13&quot;, &quot;marker&quot;: {&quot;color&quot;: &quot;#ab63fa&quot;, &quot;opacity&quot;: 0.5, &quot;pattern&quot;: {&quot;shape&quot;: &quot;&quot;}}, &quot;name&quot;: &quot;job13&quot;, &quot;orientation&quot;: &quot;h&quot;, &quot;showlegend&quot;: true, &quot;textposition&quot;: &quot;auto&quot;, &quot;x&quot;: [2678400000, 5529600000, 1814400000, 6220800000, 6739200000, 7603200000, 345600000, 6393600000, 2246400000, 950400000, 3542400000, 8035200000, 2764800000, 6393600000, 1555200000, 3196800000, 2419200000, 4060800000, 8467200000, 5616000000], &quot;xaxis&quot;: &quot;x&quot;, &quot;y&quot;: [&quot;machine14&quot;, &quot;machine3&quot;, &quot;machine6&quot;, &quot;machine7&quot;, &quot;machine8&quot;, &quot;machine12&quot;, &quot;machine15&quot;, &quot;machine5&quot;, &quot;machine16&quot;, &quot;machine4&quot;, &quot;machine0&quot;, &quot;machine17&quot;, &quot;machine1&quot;, &quot;machine18&quot;, &quot;machine2&quot;, &quot;machine19&quot;, &quot;machine10&quot;, &quot;machine11&quot;, &quot;machine9&quot;, &quot;machine13&quot;], &quot;yaxis&quot;: &quot;y&quot;, &quot;type&quot;: &quot;bar&quot;}, {&quot;base&quot;: [&quot;2025-06-19T00:00:00.000000000&quot;, &quot;2025-07-08T00:00:00.000000000&quot;, &quot;2026-04-25T00:00:00.000000000&quot;, &quot;2026-08-25T00:00:00.000000000&quot;, &quot;2026-09-22T00:00:00.000000000&quot;, &quot;2026-12-16T00:00:00.000000000&quot;, &quot;2027-03-31T00:00:00.000000000&quot;, &quot;2027-05-02T00:00:00.000000000&quot;, &quot;2028-03-15T00:00:00.000000000&quot;, &quot;2028-07-09T00:00:00.000000000&quot;, &quot;2028-10-25T00:00:00.000000000&quot;, &quot;2029-01-14T00:00:00.000000000&quot;, &quot;2029-04-02T00:00:00.000000000&quot;, &quot;2029-09-01T00:00:00.000000000&quot;, &quot;2029-10-08T00:00:00.000000000&quot;, &quot;2030-05-24T00:00:00.000000000&quot;, &quot;2030-06-09T00:00:00.000000000&quot;, &quot;2030-06-13T00:00:00.000000000&quot;, &quot;2030-10-16T00:00:00.000000000&quot;, &quot;2031-02-21T00:00:00.000000000&quot;], &quot;hovertemplate&quot;: &quot;job=job14&lt;br&gt;start=%{base}&lt;br&gt;end=%{x}&lt;br&gt;resource=%{y}&lt;extra&gt;&lt;/extra&gt;&quot;, &quot;legendgroup&quot;: &quot;job14&quot;, &quot;marker&quot;: {&quot;color&quot;: &quot;#FFA15A&quot;, &quot;opacity&quot;: 0.5, &quot;pattern&quot;: {&quot;shape&quot;: &quot;&quot;}}, &quot;name&quot;: &quot;job14&quot;, &quot;orientation&quot;: &quot;h&quot;, &quot;showlegend&quot;: true, &quot;textposition&quot;: &quot;auto&quot;, &quot;x&quot;: [864000000, 3196800000, 8553600000, 2419200000, 7257600000, 7948800000, 1036800000, 6220800000, 7257600000, 7776000000, 3024000000, 3456000000, 5443200000, 2505600000, 7689600000, 1382400000, 345600000, 3283200000, 1900800000, 7257600000], &quot;xaxis&quot;: &quot;x&quot;, &quot;y&quot;: [&quot;machine18&quot;, &quot;machine11&quot;, &quot;machine2&quot;, &quot;machine3&quot;, &quot;machine5&quot;, &quot;machine4&quot;, &quot;machine15&quot;, &quot;machine13&quot;, &quot;machine19&quot;, &quot;machine6&quot;, &quot;machine1&quot;, &quot;machine14&quot;, &quot;machine0&quot;, &quot;machine12&quot;, &quot;machine8&quot;, &quot;machine9&quot;, &quot;machine16&quot;, &quot;machine7&quot;, &quot;machine10&quot;, &quot;machine17&quot;], &quot;yaxis&quot;: &quot;y&quot;, &quot;type&quot;: &quot;bar&quot;}, {&quot;base&quot;: [&quot;2026-03-04T00:00:00.000000000&quot;, &quot;2026-04-17T00:00:00.000000000&quot;, &quot;2026-05-25T00:00:00.000000000&quot;, &quot;2026-09-07T00:00:00.000000000&quot;, &quot;2026-11-22T00:00:00.000000000&quot;, &quot;2027-07-12T00:00:00.000000000&quot;, &quot;2027-08-11T00:00:00.000000000&quot;, &quot;2028-05-21T00:00:00.000000000&quot;, &quot;2029-03-20T00:00:00.000000000&quot;, &quot;2029-06-05T00:00:00.000000000&quot;, &quot;2029-09-18T00:00:00.000000000&quot;, &quot;2029-12-05T00:00:00.000000000&quot;, &quot;2030-03-02T00:00:00.000000000&quot;, &quot;2030-03-19T00:00:00.000000000&quot;, &quot;2030-04-13T00:00:00.000000000&quot;, &quot;2030-04-19T00:00:00.000000000&quot;, &quot;2030-07-03T00:00:00.000000000&quot;, &quot;2030-09-09T00:00:00.000000000&quot;, &quot;2030-11-15T00:00:00.000000000&quot;, &quot;2031-01-23T00:00:00.000000000&quot;], &quot;hovertemplate&quot;: &quot;job=job15&lt;br&gt;start=%{base}&lt;br&gt;end=%{x}&lt;br&gt;resource=%{y}&lt;extra&gt;&lt;/extra&gt;&quot;, &quot;legendgroup&quot;: &quot;job15&quot;, &quot;marker&quot;: {&quot;color&quot;: &quot;#19d3f3&quot;, &quot;opacity&quot;: 0.5, &quot;pattern&quot;: {&quot;shape&quot;: &quot;&quot;}}, &quot;name&quot;: &quot;job15&quot;, &quot;orientation&quot;: &quot;h&quot;, &quot;showlegend&quot;: true, &quot;textposition&quot;: &quot;auto&quot;, &quot;x&quot;: [3542400000, 3283200000, 6134400000, 5616000000, 7430400000, 2592000000, 4924800000, 6134400000, 2073600000, 864000000, 6739200000, 6393600000, 1382400000, 2160000000, 518400000, 6480000000, 5875200000, 5788800000, 5961600000, 4838400000], &quot;xaxis&quot;: &quot;x&quot;, &quot;y&quot;: [&quot;machine10&quot;, &quot;machine13&quot;, &quot;machine16&quot;, &quot;machine8&quot;, &quot;machine17&quot;, &quot;machine11&quot;, &quot;machine7&quot;, &quot;machine5&quot;, &quot;machine14&quot;, &quot;machine15&quot;, &quot;machine6&quot;, &quot;machine3&quot;, &quot;machine0&quot;, &quot;machine19&quot;, &quot;machine18&quot;, &quot;machine2&quot;, &quot;machine4&quot;, &quot;machine12&quot;, &quot;machine1&quot;, &quot;machine9&quot;], &quot;yaxis&quot;: &quot;y&quot;, &quot;type&quot;: &quot;bar&quot;}, {&quot;base&quot;: [&quot;2026-02-01T00:00:00.000000000&quot;, &quot;2026-09-28T00:00:00.000000000&quot;, &quot;2027-01-11T00:00:00.000000000&quot;, &quot;2027-02-16T00:00:00.000000000&quot;, &quot;2027-03-01T00:00:00.000000000&quot;, &quot;2027-03-18T00:00:00.000000000&quot;, &quot;2027-05-20T00:00:00.000000000&quot;, &quot;2027-09-26T00:00:00.000000000&quot;, &quot;2027-12-25T00:00:00.000000000&quot;, &quot;2028-02-04T00:00:00.000000000&quot;, &quot;2028-06-07T00:00:00.000000000&quot;, &quot;2028-07-16T00:00:00.000000000&quot;, &quot;2028-10-17T00:00:00.000000000&quot;, &quot;2028-11-11T00:00:00.000000000&quot;, &quot;2029-01-12T00:00:00.000000000&quot;, &quot;2029-02-13T00:00:00.000000000&quot;, &quot;2029-02-26T00:00:00.000000000&quot;, &quot;2029-03-20T00:00:00.000000000&quot;, &quot;2029-06-21T00:00:00.000000000&quot;, &quot;2029-09-24T00:00:00.000000000&quot;], &quot;hovertemplate&quot;: &quot;job=job16&lt;br&gt;start=%{base}&lt;br&gt;end=%{x}&lt;br&gt;resource=%{y}&lt;extra&gt;&lt;/extra&gt;&quot;, &quot;legendgroup&quot;: &quot;job16&quot;, &quot;marker&quot;: {&quot;color&quot;: &quot;#FF6692&quot;, &quot;opacity&quot;: 0.5, &quot;pattern&quot;: {&quot;shape&quot;: &quot;&quot;}}, &quot;name&quot;: &quot;job16&quot;, &quot;orientation&quot;: &quot;h&quot;, &quot;showlegend&quot;: true, &quot;textposition&quot;: &quot;auto&quot;, &quot;x&quot;: [3974400000, 6825600000, 3110400000, 1123200000, 259200000, 4924800000, 6825600000, 4579200000, 950400000, 3888000000, 3369600000, 7516800000, 2160000000, 5356800000, 2764800000, 1123200000, 1900800000, 8035200000, 7776000000, 7776000000], &quot;xaxis&quot;: &quot;x&quot;, &quot;y&quot;: [&quot;machine2&quot;, &quot;machine10&quot;, &quot;machine19&quot;, &quot;machine7&quot;, &quot;machine18&quot;, &quot;machine4&quot;, &quot;machine6&quot;, &quot;machine5&quot;, &quot;machine0&quot;, &quot;machine11&quot;, &quot;machine13&quot;, &quot;machine1&quot;, &quot;machine9&quot;, &quot;machine12&quot;, &quot;machine8&quot;, &quot;machine16&quot;, &quot;machine14&quot;, &quot;machine3&quot;, &quot;machine15&quot;, &quot;machine17&quot;], &quot;yaxis&quot;: &quot;y&quot;, &quot;type&quot;: &quot;bar&quot;}, {&quot;base&quot;: [&quot;2025-10-06T00:00:00.000000000&quot;, &quot;2026-01-30T00:00:00.000000000&quot;, &quot;2026-11-07T00:00:00.000000000&quot;, &quot;2027-03-31T00:00:00.000000000&quot;, &quot;2027-08-19T00:00:00.000000000&quot;, &quot;2027-09-06T00:00:00.000000000&quot;, &quot;2027-10-08T00:00:00.000000000&quot;, &quot;2028-01-18T00:00:00.000000000&quot;, &quot;2029-02-26T00:00:00.000000000&quot;, &quot;2029-04-18T00:00:00.000000000&quot;, &quot;2029-07-14T00:00:00.000000000&quot;, &quot;2029-09-19T00:00:00.000000000&quot;, &quot;2029-12-08T00:00:00.000000000&quot;, &quot;2030-04-28T00:00:00.000000000&quot;, &quot;2030-05-23T00:00:00.000000000&quot;, &quot;2030-08-25T00:00:00.000000000&quot;, &quot;2030-10-14T00:00:00.000000000&quot;, &quot;2030-12-25T00:00:00.000000000&quot;, &quot;2031-04-06T00:00:00.000000000&quot;, &quot;2031-04-19T00:00:00.000000000&quot;], &quot;hovertemplate&quot;: &quot;job=job17&lt;br&gt;start=%{base}&lt;br&gt;end=%{x}&lt;br&gt;resource=%{y}&lt;extra&gt;&lt;/extra&gt;&quot;, &quot;legendgroup&quot;: &quot;job17&quot;, &quot;marker&quot;: {&quot;color&quot;: &quot;#B6E880&quot;, &quot;opacity&quot;: 0.5, &quot;pattern&quot;: {&quot;shape&quot;: &quot;&quot;}}, &quot;name&quot;: &quot;job17&quot;, &quot;orientation&quot;: &quot;h&quot;, &quot;showlegend&quot;: true, &quot;textposition&quot;: &quot;auto&quot;, &quot;x&quot;: [5529600000, 6048000000, 777600000, 7948800000, 1296000000, 2764800000, 518400000, 8294400000, 4406400000, 7516800000, 4233600000, 6480000000, 7257600000, 86400000, 864000000, 3369600000, 259200000, 7689600000, 1123200000, 1814400000], &quot;xaxis&quot;: &quot;x&quot;, &quot;y&quot;: [&quot;machine1&quot;, &quot;machine13&quot;, &quot;machine11&quot;, &quot;machine2&quot;, &quot;machine3&quot;, &quot;machine18&quot;, &quot;machine17&quot;, &quot;machine9&quot;, &quot;machine16&quot;, &quot;machine6&quot;, &quot;machine12&quot;, &quot;machine15&quot;, &quot;machine0&quot;, &quot;machine4&quot;, &quot;machine7&quot;, &quot;machine14&quot;, &quot;machine8&quot;, &quot;machine5&quot;, &quot;machine10&quot;, &quot;machine19&quot;], &quot;yaxis&quot;: &quot;y&quot;, &quot;type&quot;: &quot;bar&quot;}, {&quot;base&quot;: [&quot;2025-09-27T00:00:00.000000000&quot;, &quot;2026-01-13T00:00:00.000000000&quot;, &quot;2026-02-22T00:00:00.000000000&quot;, &quot;2026-03-10T00:00:00.000000000&quot;, &quot;2026-06-01T00:00:00.000000000&quot;, &quot;2026-07-16T00:00:00.000000000&quot;, &quot;2027-06-29T00:00:00.000000000&quot;, &quot;2027-11-20T00:00:00.000000000&quot;, &quot;2027-12-09T00:00:00.000000000&quot;, &quot;2028-03-17T00:00:00.000000000&quot;, &quot;2028-07-31T00:00:00.000000000&quot;, &quot;2028-11-19T00:00:00.000000000&quot;, &quot;2029-05-21T00:00:00.000000000&quot;, &quot;2029-07-06T00:00:00.000000000&quot;, &quot;2029-11-21T00:00:00.000000000&quot;, &quot;2030-05-22T00:00:00.000000000&quot;, &quot;2030-09-09T00:00:00.000000000&quot;, &quot;2030-12-11T00:00:00.000000000&quot;, &quot;2031-01-13T00:00:00.000000000&quot;, &quot;2031-02-13T00:00:00.000000000&quot;], &quot;hovertemplate&quot;: &quot;job=job18&lt;br&gt;start=%{base}&lt;br&gt;end=%{x}&lt;br&gt;resource=%{y}&lt;extra&gt;&lt;/extra&gt;&quot;, &quot;legendgroup&quot;: &quot;job18&quot;, &quot;marker&quot;: {&quot;color&quot;: &quot;#FF97FF&quot;, &quot;opacity&quot;: 0.5, &quot;pattern&quot;: {&quot;shape&quot;: &quot;&quot;}}, &quot;name&quot;: &quot;job18&quot;, &quot;orientation&quot;: &quot;h&quot;, &quot;showlegend&quot;: true, &quot;textposition&quot;: &quot;auto&quot;, &quot;x&quot;: [3888000000, 3456000000, 1209600000, 5961600000, 3888000000, 8467200000, 7776000000, 1641600000, 3456000000, 172800000, 4060800000, 6048000000, 3974400000, 6048000000, 8035200000, 6048000000, 8035200000, 2851200000, 777600000, 7344000000], &quot;xaxis&quot;: &quot;x&quot;, &quot;y&quot;: [&quot;machine18&quot;, &quot;machine10&quot;, &quot;machine12&quot;, &quot;machine16&quot;, &quot;machine1&quot;, &quot;machine11&quot;, &quot;machine8&quot;, &quot;machine19&quot;, &quot;machine9&quot;, &quot;machine17&quot;, &quot;machine5&quot;, &quot;machine2&quot;, &quot;machine13&quot;, &quot;machine14&quot;, &quot;machine7&quot;, &quot;machine6&quot;, &quot;machine15&quot;, &quot;machine0&quot;, &quot;machine3&quot;, &quot;machine4&quot;], &quot;yaxis&quot;: &quot;y&quot;, &quot;type&quot;: &quot;bar&quot;}, {&quot;base&quot;: [&quot;2025-08-08T00:00:00.000000000&quot;, &quot;2025-10-31T00:00:00.000000000&quot;, &quot;2026-04-29T00:00:00.000000000&quot;, &quot;2026-06-01T00:00:00.000000000&quot;, &quot;2026-07-20T00:00:00.000000000&quot;, &quot;2026-09-28T00:00:00.000000000&quot;, &quot;2026-11-28T00:00:00.000000000&quot;, &quot;2027-01-27T00:00:00.000000000&quot;, &quot;2027-03-09T00:00:00.000000000&quot;, &quot;2027-10-31T00:00:00.000000000&quot;, &quot;2028-02-17T00:00:00.000000000&quot;, &quot;2028-03-30T00:00:00.000000000&quot;, &quot;2028-09-16T00:00:00.000000000&quot;, &quot;2028-12-23T00:00:00.000000000&quot;, &quot;2029-03-03T00:00:00.000000000&quot;, &quot;2029-04-03T00:00:00.000000000&quot;, &quot;2029-04-25T00:00:00.000000000&quot;, &quot;2029-06-05T00:00:00.000000000&quot;, &quot;2029-09-03T00:00:00.000000000&quot;, &quot;2029-12-23T00:00:00.000000000&quot;], &quot;hovertemplate&quot;: &quot;job=job19&lt;br&gt;start=%{base}&lt;br&gt;end=%{x}&lt;br&gt;resource=%{y}&lt;extra&gt;&lt;/extra&gt;&quot;, &quot;legendgroup&quot;: &quot;job19&quot;, &quot;marker&quot;: {&quot;color&quot;: &quot;#FECB52&quot;, &quot;opacity&quot;: 0.5, &quot;pattern&quot;: {&quot;shape&quot;: &quot;&quot;}}, &quot;name&quot;: &quot;job19&quot;, &quot;orientation&quot;: &quot;h&quot;, &quot;showlegend&quot;: true, &quot;textposition&quot;: &quot;auto&quot;, &quot;x&quot;: [1123200000, 7344000000, 2764800000, 2592000000, 6048000000, 5270400000, 3628800000, 3542400000, 7948800000, 7516800000, 3110400000, 5011200000, 5702400000, 6048000000, 1814400000, 1900800000, 3542400000, 7603200000, 7862400000, 8121600000], &quot;xaxis&quot;: &quot;x&quot;, &quot;y&quot;: [&quot;machine7&quot;, &quot;machine8&quot;, &quot;machine14&quot;, &quot;machine11&quot;, &quot;machine10&quot;, &quot;machine13&quot;, &quot;machine6&quot;, &quot;machine16&quot;, &quot;machine19&quot;, &quot;machine2&quot;, &quot;machine18&quot;, &quot;machine3&quot;, &quot;machine5&quot;, &quot;machine4&quot;, &quot;machine1&quot;, &quot;machine12&quot;, &quot;machine15&quot;, &quot;machine0&quot;, &quot;machine9&quot;, &quot;machine17&quot;], &quot;yaxis&quot;: &quot;y&quot;, &quot;type&quot;: &quot;bar&quot;}, {&quot;base&quot;: [&quot;2025-06-19T00:00:00.000000000&quot;, &quot;2025-09-25T00:00:00.000000000&quot;, &quot;2025-11-15T00:00:00.000000000&quot;, &quot;2026-01-24T00:00:00.000000000&quot;, &quot;2026-04-28T00:00:00.000000000&quot;, &quot;2026-07-09T00:00:00.000000000&quot;, &quot;2026-11-06T00:00:00.000000000&quot;, &quot;2028-01-05T00:00:00.000000000&quot;, &quot;2028-02-14T00:00:00.000000000&quot;, &quot;2028-04-23T00:00:00.000000000&quot;, &quot;2028-07-14T00:00:00.000000000&quot;, &quot;2028-08-02T00:00:00.000000000&quot;, &quot;2029-05-09T00:00:00.000000000&quot;, &quot;2029-08-01T00:00:00.000000000&quot;, &quot;2029-10-17T00:00:00.000000000&quot;, &quot;2030-06-01T00:00:00.000000000&quot;, &quot;2030-06-29T00:00:00.000000000&quot;, &quot;2030-07-22T00:00:00.000000000&quot;, &quot;2030-08-05T00:00:00.000000000&quot;, &quot;2030-11-06T00:00:00.000000000&quot;], &quot;hovertemplate&quot;: &quot;job=job20&lt;br&gt;start=%{base}&lt;br&gt;end=%{x}&lt;br&gt;resource=%{y}&lt;extra&gt;&lt;/extra&gt;&quot;, &quot;legendgroup&quot;: &quot;job20&quot;, &quot;marker&quot;: {&quot;color&quot;: &quot;#636efa&quot;, &quot;opacity&quot;: 0.5, &quot;pattern&quot;: {&quot;shape&quot;: &quot;&quot;}}, &quot;name&quot;: &quot;job20&quot;, &quot;orientation&quot;: &quot;h&quot;, &quot;showlegend&quot;: true, &quot;textposition&quot;: &quot;auto&quot;, &quot;x&quot;: [1641600000, 4406400000, 691200000, 8121600000, 6220800000, 8553600000, 1555200000, 3369600000, 2592000000, 5270400000, 1641600000, 6393600000, 172800000, 6652800000, 5702400000, 2419200000, 1987200000, 1209600000, 7948800000, 7776000000], &quot;xaxis&quot;: &quot;x&quot;, &quot;y&quot;: [&quot;machine11&quot;, &quot;machine6&quot;, &quot;machine17&quot;, &quot;machine8&quot;, &quot;machine4&quot;, &quot;machine12&quot;, &quot;machine1&quot;, &quot;machine0&quot;, &quot;machine19&quot;, &quot;machine9&quot;, &quot;machine16&quot;, &quot;machine18&quot;, &quot;machine2&quot;, &quot;machine3&quot;, &quot;machine10&quot;, &quot;machine15&quot;, &quot;machine14&quot;, &quot;machine7&quot;, &quot;machine5&quot;, &quot;machine13&quot;], &quot;yaxis&quot;: &quot;y&quot;, &quot;type&quot;: &quot;bar&quot;}, {&quot;base&quot;: [&quot;2025-06-19T00:00:00.000000000&quot;, &quot;2025-11-29T00:00:00.000000000&quot;, &quot;2026-03-18T00:00:00.000000000&quot;, &quot;2026-04-21T00:00:00.000000000&quot;, &quot;2026-06-13T00:00:00.000000000&quot;, &quot;2026-09-07T00:00:00.000000000&quot;, &quot;2026-12-26T00:00:00.000000000&quot;, &quot;2027-02-26T00:00:00.000000000&quot;, &quot;2027-07-13T00:00:00.000000000&quot;, &quot;2027-08-09T00:00:00.000000000&quot;, &quot;2027-11-04T00:00:00.000000000&quot;, &quot;2027-12-03T00:00:00.000000000&quot;, &quot;2028-03-20T00:00:00.000000000&quot;, &quot;2028-05-26T00:00:00.000000000&quot;, &quot;2028-07-14T00:00:00.000000000&quot;, &quot;2028-08-26T00:00:00.000000000&quot;, &quot;2028-11-19T00:00:00.000000000&quot;, &quot;2028-11-20T00:00:00.000000000&quot;, &quot;2029-03-07T00:00:00.000000000&quot;, &quot;2031-03-22T00:00:00.000000000&quot;], &quot;hovertemplate&quot;: &quot;job=job21&lt;br&gt;start=%{base}&lt;br&gt;end=%{x}&lt;br&gt;resource=%{y}&lt;extra&gt;&lt;/extra&gt;&quot;, &quot;legendgroup&quot;: &quot;job21&quot;, &quot;marker&quot;: {&quot;color&quot;: &quot;#EF553B&quot;, &quot;opacity&quot;: 0.5, &quot;pattern&quot;: {&quot;shape&quot;: &quot;&quot;}}, &quot;name&quot;: &quot;job21&quot;, &quot;orientation&quot;: &quot;h&quot;, &quot;showlegend&quot;: true, &quot;textposition&quot;: &quot;auto&quot;, &quot;x&quot;: [8294400000, 7948800000, 2937600000, 864000000, 5875200000, 8121600000, 5356800000, 7171200000, 2246400000, 7516800000, 2505600000, 8208000000, 2592000000, 4233600000, 3715200000, 7344000000, 86400000, 5184000000, 6912000000, 4147200000], &quot;xaxis&quot;: &quot;x&quot;, &quot;y&quot;: [&quot;machine16&quot;, &quot;machine19&quot;, &quot;machine4&quot;, &quot;machine5&quot;, &quot;machine3&quot;, &quot;machine18&quot;, &quot;machine15&quot;, &quot;machine8&quot;, &quot;machine13&quot;, &quot;machine0&quot;, &quot;machine10&quot;, &quot;machine14&quot;, &quot;machine11&quot;, &quot;machine1&quot;, &quot;machine12&quot;, &quot;machine2&quot;, &quot;machine9&quot;, &quot;machine6&quot;, &quot;machine17&quot;, &quot;machine7&quot;], &quot;yaxis&quot;: &quot;y&quot;, &quot;type&quot;: &quot;bar&quot;}, {&quot;base&quot;: [&quot;2025-07-20T00:00:00.000000000&quot;, &quot;2025-08-31T00:00:00.000000000&quot;, &quot;2025-09-24T00:00:00.000000000&quot;, &quot;2025-12-10T00:00:00.000000000&quot;, &quot;2026-03-17T00:00:00.000000000&quot;, &quot;2026-08-04T00:00:00.000000000&quot;, &quot;2026-12-30T00:00:00.000000000&quot;, &quot;2027-11-18T00:00:00.000000000&quot;, &quot;2028-02-14T00:00:00.000000000&quot;, &quot;2028-04-21T00:00:00.000000000&quot;, &quot;2028-06-08T00:00:00.000000000&quot;, &quot;2028-08-10T00:00:00.000000000&quot;, &quot;2028-10-30T00:00:00.000000000&quot;, &quot;2028-11-07T00:00:00.000000000&quot;, &quot;2028-11-17T00:00:00.000000000&quot;, &quot;2029-01-19T00:00:00.000000000&quot;, &quot;2029-09-30T00:00:00.000000000&quot;, &quot;2029-12-03T00:00:00.000000000&quot;, &quot;2030-03-26T00:00:00.000000000&quot;, &quot;2030-06-27T00:00:00.000000000&quot;], &quot;hovertemplate&quot;: &quot;job=job22&lt;br&gt;start=%{base}&lt;br&gt;end=%{x}&lt;br&gt;resource=%{y}&lt;extra&gt;&lt;/extra&gt;&quot;, &quot;legendgroup&quot;: &quot;job22&quot;, &quot;marker&quot;: {&quot;color&quot;: &quot;#00cc96&quot;, &quot;opacity&quot;: 0.5, &quot;pattern&quot;: {&quot;shape&quot;: &quot;&quot;}}, &quot;name&quot;: &quot;job22&quot;, &quot;orientation&quot;: &quot;h&quot;, &quot;showlegend&quot;: true, &quot;textposition&quot;: &quot;auto&quot;, &quot;x&quot;: [3628800000, 1209600000, 4752000000, 8380800000, 5616000000, 5443200000, 6393600000, 5443200000, 5788800000, 4147200000, 5443200000, 6998400000, 691200000, 604800000, 1900800000, 3715200000, 4579200000, 1900800000, 8035200000, 7689600000], &quot;xaxis&quot;: &quot;x&quot;, &quot;y&quot;: [&quot;machine3&quot;, &quot;machine4&quot;, &quot;machine2&quot;, &quot;machine9&quot;, &quot;machine7&quot;, &quot;machine16&quot;, &quot;machine0&quot;, &quot;machine5&quot;, &quot;machine13&quot;, &quot;machine11&quot;, &quot;machine8&quot;, &quot;machine14&quot;, &quot;machine18&quot;, &quot;machine10&quot;, &quot;machine17&quot;, &quot;machine6&quot;, &quot;machine12&quot;, &quot;machine15&quot;, &quot;machine1&quot;, &quot;machine19&quot;], &quot;yaxis&quot;: &quot;y&quot;, &quot;type&quot;: &quot;bar&quot;}, {&quot;base&quot;: [&quot;2025-08-21T00:00:00.000000000&quot;, &quot;2026-03-19T00:00:00.000000000&quot;, &quot;2026-11-20T00:00:00.000000000&quot;, &quot;2026-12-15T00:00:00.000000000&quot;, &quot;2027-02-09T00:00:00.000000000&quot;, &quot;2027-05-15T00:00:00.000000000&quot;, &quot;2027-09-17T00:00:00.000000000&quot;, &quot;2027-10-02T00:00:00.000000000&quot;, &quot;2028-01-18T00:00:00.000000000&quot;, &quot;2028-08-02T00:00:00.000000000&quot;, &quot;2028-11-07T00:00:00.000000000&quot;, &quot;2029-01-31T00:00:00.000000000&quot;, &quot;2029-04-03T00:00:00.000000000&quot;, &quot;2029-06-20T00:00:00.000000000&quot;, &quot;2029-09-06T00:00:00.000000000&quot;, &quot;2030-03-01T00:00:00.000000000&quot;, &quot;2030-03-29T00:00:00.000000000&quot;, &quot;2030-05-26T00:00:00.000000000&quot;, &quot;2030-12-29T00:00:00.000000000&quot;, &quot;2031-03-28T00:00:00.000000000&quot;], &quot;hovertemplate&quot;: &quot;job=job23&lt;br&gt;start=%{base}&lt;br&gt;end=%{x}&lt;br&gt;resource=%{y}&lt;extra&gt;&lt;/extra&gt;&quot;, &quot;legendgroup&quot;: &quot;job23&quot;, &quot;marker&quot;: {&quot;color&quot;: &quot;#ab63fa&quot;, &quot;opacity&quot;: 0.5, &quot;pattern&quot;: {&quot;shape&quot;: &quot;&quot;}}, &quot;name&quot;: &quot;job23&quot;, &quot;orientation&quot;: &quot;h&quot;, &quot;showlegend&quot;: true, &quot;textposition&quot;: &quot;auto&quot;, &quot;x&quot;: [1209600000, 172800000, 691200000, 1900800000, 8035200000, 5097600000, 1296000000, 777600000, 864000000, 6998400000, 7344000000, 5356800000, 6048000000, 5529600000, 8035200000, 2246400000, 2592000000, 518400000, 7430400000, 2332800000], &quot;xaxis&quot;: &quot;x&quot;, &quot;y&quot;: [&quot;machine7&quot;, &quot;machine2&quot;, &quot;machine14&quot;, &quot;machine5&quot;, &quot;machine6&quot;, &quot;machine9&quot;, &quot;machine10&quot;, &quot;machine15&quot;, &quot;machine3&quot;, &quot;machine16&quot;, &quot;machine18&quot;, &quot;machine12&quot;, &quot;machine11&quot;, &quot;machine17&quot;, &quot;machine0&quot;, &quot;machine8&quot;, &quot;machine4&quot;, &quot;machine13&quot;, &quot;machine19&quot;, &quot;machine1&quot;], &quot;yaxis&quot;: &quot;y&quot;, &quot;type&quot;: &quot;bar&quot;}, {&quot;base&quot;: [&quot;2025-07-21T00:00:00.000000000&quot;, &quot;2025-09-17T00:00:00.000000000&quot;, &quot;2025-11-11T00:00:00.000000000&quot;, &quot;2026-01-07T00:00:00.000000000&quot;, &quot;2026-03-08T00:00:00.000000000&quot;, &quot;2026-08-22T00:00:00.000000000&quot;, &quot;2026-12-16T00:00:00.000000000&quot;, &quot;2027-03-16T00:00:00.000000000&quot;, &quot;2027-09-27T00:00:00.000000000&quot;, &quot;2028-04-21T00:00:00.000000000&quot;, &quot;2028-06-07T00:00:00.000000000&quot;, &quot;2028-11-20T00:00:00.000000000&quot;, &quot;2029-03-14T00:00:00.000000000&quot;, &quot;2029-06-01T00:00:00.000000000&quot;, &quot;2029-07-14T00:00:00.000000000&quot;, &quot;2029-10-14T00:00:00.000000000&quot;, &quot;2030-01-21T00:00:00.000000000&quot;, &quot;2030-04-06T00:00:00.000000000&quot;, &quot;2030-12-21T00:00:00.000000000&quot;, &quot;2031-01-13T00:00:00.000000000&quot;], &quot;hovertemplate&quot;: &quot;job=job24&lt;br&gt;start=%{base}&lt;br&gt;end=%{x}&lt;br&gt;resource=%{y}&lt;extra&gt;&lt;/extra&gt;&quot;, &quot;legendgroup&quot;: &quot;job24&quot;, &quot;marker&quot;: {&quot;color&quot;: &quot;#FFA15A&quot;, &quot;opacity&quot;: 0.5, &quot;pattern&quot;: {&quot;shape&quot;: &quot;&quot;}}, &quot;name&quot;: &quot;job24&quot;, &quot;orientation&quot;: &quot;h&quot;, &quot;showlegend&quot;: true, &quot;textposition&quot;: &quot;auto&quot;, &quot;x&quot;: [864000000, 3369600000, 4838400000, 1987200000, 3801600000, 8035200000, 7776000000, 8553600000, 6912000000, 4060800000, 3283200000, 1296000000, 3542400000, 2246400000, 4147200000, 4492800000, 6480000000, 5616000000, 345600000, 4924800000], &quot;xaxis&quot;: &quot;x&quot;, &quot;y&quot;: [&quot;machine17&quot;, &quot;machine11&quot;, &quot;machine18&quot;, &quot;machine7&quot;, &quot;machine12&quot;, &quot;machine4&quot;, &quot;machine10&quot;, &quot;machine3&quot;, &quot;machine8&quot;, &quot;machine13&quot;, &quot;machine2&quot;, &quot;machine9&quot;, &quot;machine15&quot;, &quot;machine19&quot;, &quot;machine6&quot;, &quot;machine1&quot;, &quot;machine16&quot;, &quot;machine14&quot;, &quot;machine5&quot;, &quot;machine0&quot;], &quot;yaxis&quot;: &quot;y&quot;, &quot;type&quot;: &quot;bar&quot;}, {&quot;base&quot;: [&quot;2025-06-21T00:00:00.000000000&quot;, &quot;2025-09-15T00:00:00.000000000&quot;, &quot;2026-02-22T00:00:00.000000000&quot;, &quot;2026-03-04T00:00:00.000000000&quot;, &quot;2026-04-17T00:00:00.000000000&quot;, &quot;2026-06-13T00:00:00.000000000&quot;, &quot;2027-01-09T00:00:00.000000000&quot;, &quot;2027-05-09T00:00:00.000000000&quot;, &quot;2027-07-14T00:00:00.000000000&quot;, &quot;2028-03-24T00:00:00.000000000&quot;, &quot;2028-05-20T00:00:00.000000000&quot;, &quot;2028-12-11T00:00:00.000000000&quot;, &quot;2029-04-21T00:00:00.000000000&quot;, &quot;2029-06-01T00:00:00.000000000&quot;, &quot;2029-11-17T00:00:00.000000000&quot;, &quot;2030-01-14T00:00:00.000000000&quot;, &quot;2030-03-30T00:00:00.000000000&quot;, &quot;2030-07-02T00:00:00.000000000&quot;, &quot;2030-09-11T00:00:00.000000000&quot;, &quot;2030-11-06T00:00:00.000000000&quot;], &quot;hovertemplate&quot;: &quot;job=job25&lt;br&gt;start=%{base}&lt;br&gt;end=%{x}&lt;br&gt;resource=%{y}&lt;extra&gt;&lt;/extra&gt;&quot;, &quot;legendgroup&quot;: &quot;job25&quot;, &quot;marker&quot;: {&quot;color&quot;: &quot;#19d3f3&quot;, &quot;opacity&quot;: 0.5, &quot;pattern&quot;: {&quot;shape&quot;: &quot;&quot;}}, &quot;name&quot;: &quot;job25&quot;, &quot;orientation&quot;: &quot;h&quot;, &quot;showlegend&quot;: true, &quot;textposition&quot;: &quot;auto&quot;, &quot;x&quot;: [3974400000, 6739200000, 864000000, 1123200000, 2764800000, 5443200000, 6134400000, 5702400000, 3456000000, 1123200000, 4320000000, 8380800000, 3542400000, 8208000000, 5011200000, 4924800000, 5443200000, 3628800000, 4838400000, 2678400000], &quot;xaxis&quot;: &quot;x&quot;, &quot;y&quot;: [&quot;machine1&quot;, &quot;machine4&quot;, &quot;machine10&quot;, &quot;machine7&quot;, &quot;machine0&quot;, &quot;machine9&quot;, &quot;machine14&quot;, &quot;machine5&quot;, &quot;machine2&quot;, &quot;machine18&quot;, &quot;machine6&quot;, &quot;machine3&quot;, &quot;machine19&quot;, &quot;machine16&quot;, &quot;machine11&quot;, &quot;machine12&quot;, &quot;machine15&quot;, &quot;machine17&quot;, &quot;machine13&quot;, &quot;machine8&quot;], &quot;yaxis&quot;: &quot;y&quot;, &quot;type&quot;: &quot;bar&quot;}, {&quot;base&quot;: [&quot;2025-06-19T00:00:00.000000000&quot;, &quot;2025-12-19T00:00:00.000000000&quot;, &quot;2026-04-21T00:00:00.000000000&quot;, &quot;2026-05-25T00:00:00.000000000&quot;, &quot;2026-06-13T00:00:00.000000000&quot;, &quot;2026-11-08T00:00:00.000000000&quot;, &quot;2027-02-07T00:00:00.000000000&quot;, &quot;2027-05-20T00:00:00.000000000&quot;, &quot;2027-07-13T00:00:00.000000000&quot;, &quot;2027-09-15T00:00:00.000000000&quot;, &quot;2027-11-20T00:00:00.000000000&quot;, &quot;2028-04-16T00:00:00.000000000&quot;, &quot;2028-10-21T00:00:00.000000000&quot;, &quot;2029-05-05T00:00:00.000000000&quot;, &quot;2029-09-01T00:00:00.000000000&quot;, &quot;2029-09-06T00:00:00.000000000&quot;, &quot;2029-11-28T00:00:00.000000000&quot;, &quot;2030-04-10T00:00:00.000000000&quot;, &quot;2030-06-27T00:00:00.000000000&quot;, &quot;2030-12-09T00:00:00.000000000&quot;], &quot;hovertemplate&quot;: &quot;job=job26&lt;br&gt;start=%{base}&lt;br&gt;end=%{x}&lt;br&gt;resource=%{y}&lt;extra&gt;&lt;/extra&gt;&quot;, &quot;legendgroup&quot;: &quot;job26&quot;, &quot;marker&quot;: {&quot;color&quot;: &quot;#FF6692&quot;, &quot;opacity&quot;: 0.5, &quot;pattern&quot;: {&quot;shape&quot;: &quot;&quot;}}, &quot;name&quot;: &quot;job26&quot;, &quot;orientation&quot;: &quot;h&quot;, &quot;showlegend&quot;: true, &quot;textposition&quot;: &quot;auto&quot;, &quot;x&quot;: [7603200000, 172800000, 2937600000, 1641600000, 7430400000, 7776000000, 7257600000, 3456000000, 4492800000, 5702400000, 6566400000, 5356800000, 2332800000, 2419200000, 432000000, 6220800000, 4665600000, 3974400000, 4924800000, 5702400000], &quot;xaxis&quot;: &quot;x&quot;, &quot;y&quot;: [&quot;machine10&quot;, &quot;machine14&quot;, &quot;machine12&quot;, &quot;machine6&quot;, &quot;machine18&quot;, &quot;machine2&quot;, &quot;machine13&quot;, &quot;machine8&quot;, &quot;machine9&quot;, &quot;machine19&quot;, &quot;machine11&quot;, &quot;machine15&quot;, &quot;machine17&quot;, &quot;machine7&quot;, &quot;machine0&quot;, &quot;machine5&quot;, &quot;machine16&quot;, &quot;machine3&quot;, &quot;machine1&quot;, &quot;machine4&quot;], &quot;yaxis&quot;: &quot;y&quot;, &quot;type&quot;: &quot;bar&quot;}, {&quot;base&quot;: [&quot;2026-01-21T00:00:00.000000000&quot;, &quot;2026-05-25T00:00:00.000000000&quot;, &quot;2026-07-16T00:00:00.000000000&quot;, &quot;2026-08-18T00:00:00.000000000&quot;, &quot;2026-09-07T00:00:00.000000000&quot;, &quot;2027-02-06T00:00:00.000000000&quot;, &quot;2027-06-06T00:00:00.000000000&quot;, &quot;2027-06-10T00:00:00.000000000&quot;, &quot;2027-09-25T00:00:00.000000000&quot;, &quot;2028-04-13T00:00:00.000000000&quot;, &quot;2028-12-13T00:00:00.000000000&quot;, &quot;2029-03-04T00:00:00.000000000&quot;, &quot;2029-04-02T00:00:00.000000000&quot;, &quot;2029-06-16T00:00:00.000000000&quot;, &quot;2030-05-04T00:00:00.000000000&quot;, &quot;2030-06-27T00:00:00.000000000&quot;, &quot;2030-09-11T00:00:00.000000000&quot;, &quot;2031-01-31T00:00:00.000000000&quot;, &quot;2031-04-28T00:00:00.000000000&quot;, &quot;2031-05-13T00:00:00.000000000&quot;], &quot;hovertemplate&quot;: &quot;job=job27&lt;br&gt;start=%{base}&lt;br&gt;end=%{x}&lt;br&gt;resource=%{y}&lt;extra&gt;&lt;/extra&gt;&quot;, &quot;legendgroup&quot;: &quot;job27&quot;, &quot;marker&quot;: {&quot;color&quot;: &quot;#B6E880&quot;, &quot;opacity&quot;: 0.5, &quot;pattern&quot;: {&quot;shape&quot;: &quot;&quot;}}, &quot;name&quot;: &quot;job27&quot;, &quot;orientation&quot;: &quot;h&quot;, &quot;showlegend&quot;: true, &quot;textposition&quot;: &quot;auto&quot;, &quot;x&quot;: [8467200000, 3801600000, 2851200000, 1728000000, 6393600000, 2592000000, 345600000, 7603200000, 1641600000, 7344000000, 6998400000, 2505600000, 6220800000, 6825600000, 4665600000, 3196800000, 8208000000, 950400000, 950400000, 172800000], &quot;xaxis&quot;: &quot;x&quot;, &quot;y&quot;: [&quot;machine14&quot;, &quot;machine13&quot;, &quot;machine1&quot;, &quot;machine5&quot;, &quot;machine17&quot;, &quot;machine2&quot;, &quot;machine4&quot;, &quot;machine18&quot;, &quot;machine3&quot;, &quot;machine12&quot;, &quot;machine19&quot;, &quot;machine0&quot;, &quot;machine10&quot;, &quot;machine9&quot;, &quot;machine11&quot;, &quot;machine8&quot;, &quot;machine7&quot;, &quot;machine15&quot;, &quot;machine16&quot;, &quot;machine6&quot;], &quot;yaxis&quot;: &quot;y&quot;, &quot;type&quot;: &quot;bar&quot;}, {&quot;base&quot;: [&quot;2025-06-19T00:00:00.000000000&quot;, &quot;2025-08-14T00:00:00.000000000&quot;, &quot;2025-09-23T00:00:00.000000000&quot;, &quot;2025-10-18T00:00:00.000000000&quot;, &quot;2025-11-13T00:00:00.000000000&quot;, &quot;2026-04-14T00:00:00.000000000&quot;, &quot;2026-08-18T00:00:00.000000000&quot;, &quot;2027-03-08T00:00:00.000000000&quot;, &quot;2027-07-16T00:00:00.000000000&quot;, &quot;2027-08-29T00:00:00.000000000&quot;, &quot;2027-12-16T00:00:00.000000000&quot;, &quot;2028-02-19T00:00:00.000000000&quot;, &quot;2028-05-27T00:00:00.000000000&quot;, &quot;2028-06-23T00:00:00.000000000&quot;, &quot;2028-08-11T00:00:00.000000000&quot;, &quot;2029-06-02T00:00:00.000000000&quot;, &quot;2029-12-20T00:00:00.000000000&quot;, &quot;2030-02-15T00:00:00.000000000&quot;, &quot;2030-05-26T00:00:00.000000000&quot;, &quot;2030-07-16T00:00:00.000000000&quot;], &quot;hovertemplate&quot;: &quot;job=job28&lt;br&gt;start=%{base}&lt;br&gt;end=%{x}&lt;br&gt;resource=%{y}&lt;extra&gt;&lt;/extra&gt;&quot;, &quot;legendgroup&quot;: &quot;job28&quot;, &quot;marker&quot;: {&quot;color&quot;: &quot;#FF97FF&quot;, &quot;opacity&quot;: 0.5, &quot;pattern&quot;: {&quot;shape&quot;: &quot;&quot;}}, &quot;name&quot;: &quot;job28&quot;, &quot;orientation&quot;: &quot;h&quot;, &quot;showlegend&quot;: true, &quot;textposition&quot;: &quot;auto&quot;, &quot;x&quot;: [4147200000, 2937600000, 2160000000, 2246400000, 4579200000, 8380800000, 2246400000, 1987200000, 3110400000, 1468800000, 5616000000, 8380800000, 432000000, 1123200000, 6134400000, 2764800000, 2246400000, 518400000, 4060800000, 4924800000], &quot;xaxis&quot;: &quot;x&quot;, &quot;y&quot;: [&quot;machine5&quot;, &quot;machine11&quot;, &quot;machine16&quot;, &quot;machine12&quot;, &quot;machine15&quot;, &quot;machine10&quot;, &quot;machine0&quot;, &quot;machine2&quot;, &quot;machine14&quot;, &quot;machine4&quot;, &quot;machine8&quot;, &quot;machine1&quot;, &quot;machine18&quot;, &quot;machine9&quot;, &quot;machine17&quot;, &quot;machine7&quot;, &quot;machine19&quot;, &quot;machine6&quot;, &quot;machine3&quot;, &quot;machine13&quot;], &quot;yaxis&quot;: &quot;y&quot;, &quot;type&quot;: &quot;bar&quot;}, {&quot;base&quot;: [&quot;2025-06-19T00:00:00.000000000&quot;, &quot;2025-09-23T00:00:00.000000000&quot;, &quot;2025-12-19T00:00:00.000000000&quot;, &quot;2026-04-28T00:00:00.000000000&quot;, &quot;2026-06-09T00:00:00.000000000&quot;, &quot;2026-08-18T00:00:00.000000000&quot;, &quot;2026-09-22T00:00:00.000000000&quot;, &quot;2027-03-09T00:00:00.000000000&quot;, &quot;2027-06-23T00:00:00.000000000&quot;, &quot;2027-09-03T00:00:00.000000000&quot;, &quot;2027-10-25T00:00:00.000000000&quot;, &quot;2027-11-12T00:00:00.000000000&quot;, &quot;2028-03-19T00:00:00.000000000&quot;, &quot;2028-09-12T00:00:00.000000000&quot;, &quot;2028-11-26T00:00:00.000000000&quot;, &quot;2029-11-06T00:00:00.000000000&quot;, &quot;2030-01-09T00:00:00.000000000&quot;, &quot;2030-07-03T00:00:00.000000000&quot;, &quot;2030-08-31T00:00:00.000000000&quot;, &quot;2030-11-20T00:00:00.000000000&quot;], &quot;hovertemplate&quot;: &quot;job=job29&lt;br&gt;start=%{base}&lt;br&gt;end=%{x}&lt;br&gt;resource=%{y}&lt;extra&gt;&lt;/extra&gt;&quot;, &quot;legendgroup&quot;: &quot;job29&quot;, &quot;marker&quot;: {&quot;color&quot;: &quot;#FECB52&quot;, &quot;opacity&quot;: 0.5, &quot;pattern&quot;: {&quot;shape&quot;: &quot;&quot;}}, &quot;name&quot;: &quot;job29&quot;, &quot;orientation&quot;: &quot;h&quot;, &quot;showlegend&quot;: true, &quot;textposition&quot;: &quot;auto&quot;, &quot;x&quot;: [1900800000, 7516800000, 7689600000, 3542400000, 6048000000, 3024000000, 8208000000, 5356800000, 4924800000, 4492800000, 1555200000, 8121600000, 5184000000, 2937600000, 7516800000, 1900800000, 8294400000, 5097600000, 6998400000, 7776000000], &quot;xaxis&quot;: &quot;x&quot;, &quot;y&quot;: [&quot;machine19&quot;, &quot;machine14&quot;, &quot;machine4&quot;, &quot;machine8&quot;, &quot;machine0&quot;, &quot;machine1&quot;, &quot;machine15&quot;, &quot;machine9&quot;, &quot;machine3&quot;, &quot;machine12&quot;, &quot;machine6&quot;, &quot;machine13&quot;, &quot;machine17&quot;, &quot;machine7&quot;, &quot;machine11&quot;, &quot;machine16&quot;, &quot;machine5&quot;, &quot;machine2&quot;, &quot;machine18&quot;, &quot;machine10&quot;], &quot;yaxis&quot;: &quot;y&quot;, &quot;type&quot;: &quot;bar&quot;}], &quot;layout&quot;: {&quot;template&quot;: {&quot;data&quot;: {&quot;histogram2dcontour&quot;: [{&quot;type&quot;: &quot;histogram2dcontour&quot;, &quot;colorbar&quot;: {&quot;outlinewidth&quot;: 0, &quot;ticks&quot;: &quot;&quot;}, &quot;colorscale&quot;: [[0.0, &quot;#0d0887&quot;], [0.1111111111111111, &quot;#46039f&quot;], [0.2222222222222222, &quot;#7201a8&quot;], [0.3333333333333333, &quot;#9c179e&quot;], [0.4444444444444444, &quot;#bd3786&quot;], [0.5555555555555556, &quot;#d8576b&quot;], [0.6666666666666666, &quot;#ed7953&quot;], [0.7777777777777778, &quot;#fb9f3a&quot;], [0.8888888888888888, &quot;#fdca26&quot;], [1.0, &quot;#f0f921&quot;]]}], &quot;choropleth&quot;: [{&quot;type&quot;: &quot;choropleth&quot;, &quot;colorbar&quot;: {&quot;outlinewidth&quot;: 0, &quot;ticks&quot;: &quot;&quot;}}], &quot;histogram2d&quot;: [{&quot;type&quot;: &quot;histogram2d&quot;, &quot;colorbar&quot;: {&quot;outlinewidth&quot;: 0, &quot;ticks&quot;: &quot;&quot;}, &quot;colorscale&quot;: [[0.0, &quot;#0d0887&quot;], [0.1111111111111111, &quot;#46039f&quot;], [0.2222222222222222, &quot;#7201a8&quot;], [0.3333333333333333, &quot;#9c179e&quot;], [0.4444444444444444, &quot;#bd3786&quot;], [0.5555555555555556, &quot;#d8576b&quot;], [0.6666666666666666, &quot;#ed7953&quot;], [0.7777777777777778, &quot;#fb9f3a&quot;], [0.8888888888888888, &quot;#fdca26&quot;], [1.0, &quot;#f0f921&quot;]]}], &quot;heatmap&quot;: [{&quot;type&quot;: &quot;heatmap&quot;, &quot;colorbar&quot;: {&quot;outlinewidth&quot;: 0, &quot;ticks&quot;: &quot;&quot;}, &quot;colorscale&quot;: [[0.0, &quot;#0d0887&quot;], [0.1111111111111111, &quot;#46039f&quot;], [0.2222222222222222, &quot;#7201a8&quot;], [0.3333333333333333, &quot;#9c179e&quot;], [0.4444444444444444, &quot;#bd3786&quot;], [0.5555555555555556, &quot;#d8576b&quot;], [0.6666666666666666, &quot;#ed7953&quot;], [0.7777777777777778, &quot;#fb9f3a&quot;], [0.8888888888888888, &quot;#fdca26&quot;], [1.0, &quot;#f0f921&quot;]]}], &quot;contourcarpet&quot;: [{&quot;type&quot;: &quot;contourcarpet&quot;, &quot;colorbar&quot;: {&quot;outlinewidth&quot;: 0, &quot;ticks&quot;: &quot;&quot;}}], &quot;contour&quot;: [{&quot;type&quot;: &quot;contour&quot;, &quot;colorbar&quot;: {&quot;outlinewidth&quot;: 0, &quot;ticks&quot;: &quot;&quot;}, &quot;colorscale&quot;: [[0.0, &quot;#0d0887&quot;], [0.1111111111111111, &quot;#46039f&quot;], [0.2222222222222222, &quot;#7201a8&quot;], [0.3333333333333333, &quot;#9c179e&quot;], [0.4444444444444444, &quot;#bd3786&quot;], [0.5555555555555556, &quot;#d8576b&quot;], [0.6666666666666666, &quot;#ed7953&quot;], [0.7777777777777778, &quot;#fb9f3a&quot;], [0.8888888888888888, &quot;#fdca26&quot;], [1.0, &quot;#f0f921&quot;]]}], &quot;surface&quot;: [{&quot;type&quot;: &quot;surface&quot;, &quot;colorbar&quot;: {&quot;outlinewidth&quot;: 0, &quot;ticks&quot;: &quot;&quot;}, &quot;colorscale&quot;: [[0.0, &quot;#0d0887&quot;], [0.1111111111111111, &quot;#46039f&quot;], [0.2222222222222222, &quot;#7201a8&quot;], [0.3333333333333333, &quot;#9c179e&quot;], [0.4444444444444444, &quot;#bd3786&quot;], [0.5555555555555556, &quot;#d8576b&quot;], [0.6666666666666666, &quot;#ed7953&quot;], [0.7777777777777778, &quot;#fb9f3a&quot;], [0.8888888888888888, &quot;#fdca26&quot;], [1.0, &quot;#f0f921&quot;]]}], &quot;mesh3d&quot;: [{&quot;type&quot;: &quot;mesh3d&quot;, &quot;colorbar&quot;: {&quot;outlinewidth&quot;: 0, &quot;ticks&quot;: &quot;&quot;}}], &quot;scatter&quot;: [{&quot;fillpattern&quot;: {&quot;fillmode&quot;: &quot;overlay&quot;, &quot;size&quot;: 10, &quot;solidity&quot;: 0.2}, &quot;type&quot;: &quot;scatter&quot;}], &quot;parcoords&quot;: [{&quot;type&quot;: &quot;parcoords&quot;, &quot;line&quot;: {&quot;colorbar&quot;: {&quot;outlinewidth&quot;: 0, &quot;ticks&quot;: &quot;&quot;}}}], &quot;scatterpolargl&quot;: [{&quot;type&quot;: &quot;scatterpolargl&quot;, &quot;marker&quot;: {&quot;colorbar&quot;: {&quot;outlinewidth&quot;: 0, &quot;ticks&quot;: &quot;&quot;}}}], &quot;bar&quot;: [{&quot;error_x&quot;: {&quot;color&quot;: &quot;#2a3f5f&quot;}, &quot;error_y&quot;: {&quot;color&quot;: &quot;#2a3f5f&quot;}, &quot;marker&quot;: {&quot;line&quot;: {&quot;color&quot;: &quot;#E5ECF6&quot;, &quot;width&quot;: 0.5}, &quot;pattern&quot;: {&quot;fillmode&quot;: &quot;overlay&quot;, &quot;size&quot;: 10, &quot;solidity&quot;: 0.2}}, &quot;type&quot;: &quot;bar&quot;}], &quot;scattergeo&quot;: [{&quot;type&quot;: &quot;scattergeo&quot;, &quot;marker&quot;: {&quot;colorbar&quot;: {&quot;outlinewidth&quot;: 0, &quot;ticks&quot;: &quot;&quot;}}}], &quot;scatterpolar&quot;: [{&quot;type&quot;: &quot;scatterpolar&quot;, &quot;marker&quot;: {&quot;colorbar&quot;: {&quot;outlinewidth&quot;: 0, &quot;ticks&quot;: &quot;&quot;}}}], &quot;histogram&quot;: [{&quot;marker&quot;: {&quot;pattern&quot;: {&quot;fillmode&quot;: &quot;overlay&quot;, &quot;size&quot;: 10, &quot;solidity&quot;: 0.2}}, &quot;type&quot;: &quot;histogram&quot;}], &quot;scattergl&quot;: [{&quot;type&quot;: &quot;scattergl&quot;, &quot;marker&quot;: {&quot;colorbar&quot;: {&quot;outlinewidth&quot;: 0, &quot;ticks&quot;: &quot;&quot;}}}], &quot;scatter3d&quot;: [{&quot;type&quot;: &quot;scatter3d&quot;, &quot;line&quot;: {&quot;colorbar&quot;: {&quot;outlinewidth&quot;: 0, &quot;ticks&quot;: &quot;&quot;}}, &quot;marker&quot;: {&quot;colorbar&quot;: {&quot;outlinewidth&quot;: 0, &quot;ticks&quot;: &quot;&quot;}}}], &quot;scattermap&quot;: [{&quot;type&quot;: &quot;scattermap&quot;, &quot;marker&quot;: {&quot;colorbar&quot;: {&quot;outlinewidth&quot;: 0, &quot;ticks&quot;: &quot;&quot;}}}], &quot;scattermapbox&quot;: [{&quot;type&quot;: &quot;scattermapbox&quot;, &quot;marker&quot;: {&quot;colorbar&quot;: {&quot;outlinewidth&quot;: 0, &quot;ticks&quot;: &quot;&quot;}}}], &quot;scatterternary&quot;: [{&quot;type&quot;: &quot;scatterternary&quot;, &quot;marker&quot;: {&quot;colorbar&quot;: {&quot;outlinewidth&quot;: 0, &quot;ticks&quot;: &quot;&quot;}}}], &quot;scattercarpet&quot;: [{&quot;type&quot;: &quot;scattercarpet&quot;, &quot;marker&quot;: {&quot;colorbar&quot;: {&quot;outlinewidth&quot;: 0, &quot;ticks&quot;: &quot;&quot;}}}], &quot;carpet&quot;: [{&quot;aaxis&quot;: {&quot;endlinecolor&quot;: &quot;#2a3f5f&quot;, &quot;gridcolor&quot;: &quot;white&quot;, &quot;linecolor&quot;: &quot;white&quot;, &quot;minorgridcolor&quot;: &quot;white&quot;, &quot;startlinecolor&quot;: &quot;#2a3f5f&quot;}, &quot;baxis&quot;: {&quot;endlinecolor&quot;: &quot;#2a3f5f&quot;, &quot;gridcolor&quot;: &quot;white&quot;, &quot;linecolor&quot;: &quot;white&quot;, &quot;minorgridcolor&quot;: &quot;white&quot;, &quot;startlinecolor&quot;: &quot;#2a3f5f&quot;}, &quot;type&quot;: &quot;carpet&quot;}], &quot;table&quot;: [{&quot;cells&quot;: {&quot;fill&quot;: {&quot;color&quot;: &quot;#EBF0F8&quot;}, &quot;line&quot;: {&quot;color&quot;: &quot;white&quot;}}, &quot;header&quot;: {&quot;fill&quot;: {&quot;color&quot;: &quot;#C8D4E3&quot;}, &quot;line&quot;: {&quot;color&quot;: &quot;white&quot;}}, &quot;type&quot;: &quot;table&quot;}], &quot;barpolar&quot;: [{&quot;marker&quot;: {&quot;line&quot;: {&quot;color&quot;: &quot;#E5ECF6&quot;, &quot;width&quot;: 0.5}, &quot;pattern&quot;: {&quot;fillmode&quot;: &quot;overlay&quot;, &quot;size&quot;: 10, &quot;solidity&quot;: 0.2}}, &quot;type&quot;: &quot;barpolar&quot;}], &quot;pie&quot;: [{&quot;automargin&quot;: true, &quot;type&quot;: &quot;pie&quot;}]}, &quot;layout&quot;: {&quot;autotypenumbers&quot;: &quot;strict&quot;, &quot;colorway&quot;: [&quot;#636efa&quot;, &quot;#EF553B&quot;, &quot;#00cc96&quot;, &quot;#ab63fa&quot;, &quot;#FFA15A&quot;, &quot;#19d3f3&quot;, &quot;#FF6692&quot;, &quot;#B6E880&quot;, &quot;#FF97FF&quot;, &quot;#FECB52&quot;], &quot;font&quot;: {&quot;color&quot;: &quot;#2a3f5f&quot;}, &quot;hovermode&quot;: &quot;closest&quot;, &quot;hoverlabel&quot;: {&quot;align&quot;: &quot;left&quot;}, &quot;paper_bgcolor&quot;: &quot;white&quot;, &quot;plot_bgcolor&quot;: &quot;#E5ECF6&quot;, &quot;polar&quot;: {&quot;bgcolor&quot;: &quot;#E5ECF6&quot;, &quot;angularaxis&quot;: {&quot;gridcolor&quot;: &quot;white&quot;, &quot;linecolor&quot;: &quot;white&quot;, &quot;ticks&quot;: &quot;&quot;}, &quot;radialaxis&quot;: {&quot;gridcolor&quot;: &quot;white&quot;, &quot;linecolor&quot;: &quot;white&quot;, &quot;ticks&quot;: &quot;&quot;}}, &quot;ternary&quot;: {&quot;bgcolor&quot;: &quot;#E5ECF6&quot;, &quot;aaxis&quot;: {&quot;gridcolor&quot;: &quot;white&quot;, &quot;linecolor&quot;: &quot;white&quot;, &quot;ticks&quot;: &quot;&quot;}, &quot;baxis&quot;: {&quot;gridcolor&quot;: &quot;white&quot;, &quot;linecolor&quot;: &quot;white&quot;, &quot;ticks&quot;: &quot;&quot;}, &quot;caxis&quot;: {&quot;gridcolor&quot;: &quot;white&quot;, &quot;linecolor&quot;: &quot;white&quot;, &quot;ticks&quot;: &quot;&quot;}}, &quot;coloraxis&quot;: {&quot;colorbar&quot;: {&quot;outlinewidth&quot;: 0, &quot;ticks&quot;: &quot;&quot;}}, &quot;colorscale&quot;: {&quot;sequential&quot;: [[0.0, &quot;#0d0887&quot;], [0.1111111111111111, &quot;#46039f&quot;], [0.2222222222222222, &quot;#7201a8&quot;], [0.3333333333333333, &quot;#9c179e&quot;], [0.4444444444444444, &quot;#bd3786&quot;], [0.5555555555555556, &quot;#d8576b&quot;], [0.6666666666666666, &quot;#ed7953&quot;], [0.7777777777777778, &quot;#fb9f3a&quot;], [0.8888888888888888, &quot;#fdca26&quot;], [1.0, &quot;#f0f921&quot;]], &quot;sequentialminus&quot;: [[0.0, &quot;#0d0887&quot;], [0.1111111111111111, &quot;#46039f&quot;], [0.2222222222222222, &quot;#7201a8&quot;], [0.3333333333333333, &quot;#9c179e&quot;], [0.4444444444444444, &quot;#bd3786&quot;], [0.5555555555555556, &quot;#d8576b&quot;], [0.6666666666666666, &quot;#ed7953&quot;], [0.7777777777777778, &quot;#fb9f3a&quot;], [0.8888888888888888, &quot;#fdca26&quot;], [1.0, &quot;#f0f921&quot;]], &quot;diverging&quot;: [[0, &quot;#8e0152&quot;], [0.1, &quot;#c51b7d&quot;], [0.2, &quot;#de77ae&quot;], [0.3, &quot;#f1b6da&quot;], [0.4, &quot;#fde0ef&quot;], [0.5, &quot;#f7f7f7&quot;], [0.6, &quot;#e6f5d0&quot;], [0.7, &quot;#b8e186&quot;], [0.8, &quot;#7fbc41&quot;], [0.9, &quot;#4d9221&quot;], [1, &quot;#276419&quot;]]}, &quot;xaxis&quot;: {&quot;gridcolor&quot;: &quot;white&quot;, &quot;linecolor&quot;: &quot;white&quot;, &quot;ticks&quot;: &quot;&quot;, &quot;title&quot;: {&quot;standoff&quot;: 15}, &quot;zerolinecolor&quot;: &quot;white&quot;, &quot;automargin&quot;: true, &quot;zerolinewidth&quot;: 2}, &quot;yaxis&quot;: {&quot;gridcolor&quot;: &quot;white&quot;, &quot;linecolor&quot;: &quot;white&quot;, &quot;ticks&quot;: &quot;&quot;, &quot;title&quot;: {&quot;standoff&quot;: 15}, &quot;zerolinecolor&quot;: &quot;white&quot;, &quot;automargin&quot;: true, &quot;zerolinewidth&quot;: 2}, &quot;scene&quot;: {&quot;xaxis&quot;: {&quot;backgroundcolor&quot;: &quot;#E5ECF6&quot;, &quot;gridcolor&quot;: &quot;white&quot;, &quot;linecolor&quot;: &quot;white&quot;, &quot;showbackground&quot;: true, &quot;ticks&quot;: &quot;&quot;, &quot;zerolinecolor&quot;: &quot;white&quot;, &quot;gridwidth&quot;: 2}, &quot;yaxis&quot;: {&quot;backgroundcolor&quot;: &quot;#E5ECF6&quot;, &quot;gridcolor&quot;: &quot;white&quot;, &quot;linecolor&quot;: &quot;white&quot;, &quot;showbackground&quot;: true, &quot;ticks&quot;: &quot;&quot;, &quot;zerolinecolor&quot;: &quot;white&quot;, &quot;gridwidth&quot;: 2}, &quot;zaxis&quot;: {&quot;backgroundcolor&quot;: &quot;#E5ECF6&quot;, &quot;gridcolor&quot;: &quot;white&quot;, &quot;linecolor&quot;: &quot;white&quot;, &quot;showbackground&quot;: true, &quot;ticks&quot;: &quot;&quot;, &quot;zerolinecolor&quot;: &quot;white&quot;, &quot;gridwidth&quot;: 2}}, &quot;shapedefaults&quot;: {&quot;line&quot;: {&quot;color&quot;: &quot;#2a3f5f&quot;}}, &quot;annotationdefaults&quot;: {&quot;arrowcolor&quot;: &quot;#2a3f5f&quot;, &quot;arrowhead&quot;: 0, &quot;arrowwidth&quot;: 1}, &quot;geo&quot;: {&quot;bgcolor&quot;: &quot;white&quot;, &quot;landcolor&quot;: &quot;#E5ECF6&quot;, &quot;subunitcolor&quot;: &quot;white&quot;, &quot;showland&quot;: true, &quot;showlakes&quot;: true, &quot;lakecolor&quot;: &quot;white&quot;}, &quot;title&quot;: {&quot;x&quot;: 0.05}, &quot;mapbox&quot;: {&quot;style&quot;: &quot;light&quot;}}}, &quot;xaxis&quot;: {&quot;anchor&quot;: &quot;y&quot;, &quot;domain&quot;: [0.0, 1.0], &quot;type&quot;: &quot;date&quot;}, &quot;yaxis&quot;: {&quot;anchor&quot;: &quot;x&quot;, &quot;domain&quot;: [0.0, 1.0], &quot;title&quot;: {&quot;text&quot;: &quot;resource&quot;}, &quot;categoryorder&quot;: &quot;category descending&quot;}, &quot;legend&quot;: {&quot;title&quot;: {&quot;text&quot;: &quot;job&quot;}, &quot;tracegroupgap&quot;: 0}, &quot;margin&quot;: {&quot;t&quot;: 60}, &quot;barmode&quot;: &quot;overlay&quot;, &quot;dragmode&quot;: &quot;zoom&quot;}}' data-config='{}'></marimo-plotly>"
      ]
     },
     "metadata": {},
     "output_type": "display_data"
    }
   ],
   "source": [
    "plot_plotly(model3_cpsat.to_df())"
   ]
  },
  {
   "cell_type": "markdown",
   "id": "yOPj",
   "metadata": {
    "marimo": {
     "config": {
      "hide_code": true
     }
    }
   },
   "source": [
    "## didp での求解"
   ]
  },
  {
   "cell_type": "markdown",
   "id": "fwwy",
   "metadata": {
    "marimo": {
     "config": {
      "hide_code": true
     }
    }
   },
   "source": [
    "### 状態\n",
    "\n",
    "- $\\text{Q}$: set 変数. 配置されていないタスクの集合を表す.\n",
    "- $\\text{tm}_m \\space (\\forall m: \\text{machine})$: 機械ごとに makespan を保持する.\n",
    "- $\\text{tj}_j \\space (\\forall j: \\text{job})$: ジョブごとに makespan を保持する.\n",
    "\n",
    "### 目的関数\n",
    "\n",
    "- $\\text{makespan} := \\max \\{ \\text{tm}_m, \\text{tj}_j \\mid m: \\text{machine}, \\space j: \\text{job} \\}$\n",
    "\n",
    "### 更新規則\n",
    "\n",
    "- タスク $\\text{task} \\in Q$ は全ての先行タスクが $Q$ に属していない時配置可能.\n",
    "- $\\text{task}$ が配置された場合, それを $Q$ から取り除く.\n",
    "- $\\text{task}$ が配置された場合, タスクを処理する機械 $m$ とタスクの属するジョブ $j$ に対して以下のように更新する.\n",
    "    - $\\text{tm}_m \\leftarrow \\max(\\text{tm}_m + t_\\text{task}, \\space \\text{tj}_j + t_\\text{task})$\n",
    "    - $\\text{tj}_j \\leftarrow \\max(\\text{tm}_m + t_\\text{task}, \\space \\text{tj}_j + t_\\text{task})$\n",
    "- 上記更新の後, 目的関数を再計算する."
   ]
  },
  {
   "cell_type": "code",
   "execution_count": null,
   "id": "LJZf",
   "metadata": {},
   "outputs": [],
   "source": [
    "class ModelDidp:\n",
    "    def __init__(self, jobs: list[Job]):\n",
    "        self.jobs = jobs\n",
    "        n_tasks = sum(len(job.tasks) for job in self.jobs)\n",
    "        n_machines = len(\n",
    "            set(task.machine for job in self.jobs for task in job.tasks)\n",
    "        )\n",
    "\n",
    "        self.model = didppy.Model()\n",
    "\n",
    "        objtype_task = self.model.add_object_type(number=n_tasks)\n",
    "\n",
    "        remaining = self.model.add_set_var(\n",
    "            object_type=objtype_task, target=list(range(n_tasks))\n",
    "        )\n",
    "\n",
    "        cur_time_per_machine = [\n",
    "            # self.model.add_int_var(target=0) for _ in range(n_machines)\n",
    "            self.model.add_int_resource_var(target=0, less_is_better=True)\n",
    "            for _ in range(n_machines)\n",
    "        ]\n",
    "        cur_time_per_job = [\n",
    "            # self.model.add_int_var(target=0) for _ in self.jobs\n",
    "            self.model.add_int_resource_var(target=0, less_is_better=True)\n",
    "            for _ in self.jobs\n",
    "        ]\n",
    "\n",
    "        self.model.add_base_case([remaining.is_empty()])\n",
    "\n",
    "        # task_to_time = self.model.add_int_table(\n",
    "        #     [task.time for job in self.jobs for task in job.tasks]\n",
    "        # )\n",
    "        # task_to_machine = self.model.add_int_table(\n",
    "        #     [task.machine for job in self.jobs for task in job.tasks]\n",
    "        # )\n",
    "\n",
    "        precs = []\n",
    "        id_jobtask = 0\n",
    "        for id_job, job in enumerate(self.jobs):\n",
    "            prec = set()\n",
    "            for id_task, task in enumerate(job.tasks):\n",
    "                precs.append(prec.copy())\n",
    "                prec.add(id_jobtask)\n",
    "                id_jobtask += 1\n",
    "\n",
    "        task_to_prec = self.model.add_set_table(\n",
    "            precs, object_type=objtype_task\n",
    "        )\n",
    "\n",
    "        id_jobtask = 0\n",
    "        for id_job, job in enumerate(self.jobs):\n",
    "            for id_task, task in enumerate(job.tasks):\n",
    "                sched = didppy.Transition(\n",
    "                    name=f\"sched_job{id_job}_task{id_task}\",\n",
    "                    cost=(\n",
    "                        didppy.max(\n",
    "                            didppy.IntExpr.state_cost(),\n",
    "                            didppy.max(\n",
    "                                cur_time_per_machine[task.machine] + task.time,\n",
    "                                cur_time_per_job[id_job] + task.time,\n",
    "                            ),\n",
    "                        )\n",
    "                    ),\n",
    "                    effects=[\n",
    "                        (remaining, remaining.remove(id_jobtask)),\n",
    "                        (\n",
    "                            cur_time_per_job[id_job],\n",
    "                            didppy.max(\n",
    "                                cur_time_per_machine[task.machine] + task.time,\n",
    "                                cur_time_per_job[id_job] + task.time,\n",
    "                            ),\n",
    "                        ),\n",
    "                        (\n",
    "                            cur_time_per_machine[task.machine],\n",
    "                            didppy.max(\n",
    "                                cur_time_per_machine[task.machine] + task.time,\n",
    "                                cur_time_per_job[id_job] + task.time,\n",
    "                            ),\n",
    "                        ),\n",
    "                    ],\n",
    "                    preconditions=[\n",
    "                        remaining.contains(id_jobtask),\n",
    "                        remaining.isdisjoint(task_to_prec[id_jobtask]),\n",
    "                    ],\n",
    "                )\n",
    "                self.model.add_transition(sched)\n",
    "\n",
    "                id_jobtask += 1\n",
    "\n",
    "        task_to_min_cost = []\n",
    "        for job in self.jobs:\n",
    "            cost = sum(task.time for task in job.tasks)\n",
    "            for task in job.tasks:\n",
    "                task_to_min_cost.append(cost)\n",
    "                cost -= task.time\n",
    "        task_to_min_cost_table = self.model.add_int_table(task_to_min_cost)\n",
    "        self.model.add_dual_bound(\n",
    "            remaining.is_empty().if_then_else(0, task_to_min_cost_table.min(remaining))\n",
    "        )\n",
    "\n",
    "    def solve(self, timeout=10, threads: int = 8) -> None:\n",
    "        self.solver = didppy.CABS(\n",
    "            self.model, threads=threads, quiet=False, time_limit=timeout\n",
    "        )\n",
    "        # self.solver = didppy.LNBS(\n",
    "        #     self.model, threads=threads, quiet=False, time_limit=timeout\n",
    "        # )\n",
    "        self.solution: didppy.Solution = self.solver.search()"
   ]
  },
  {
   "cell_type": "code",
   "execution_count": null,
   "id": "urSm",
   "metadata": {},
   "outputs": [
    {
     "name": "stdout",
     "output_type": "stream",
     "text": [
      "Solver: CABS from DIDPPy v0.9.0\n",
      "Searched with beam size: 1, threads: 10, kept: 174, sent: 0\n",
      "Searched with beam size: 1, expanded: 36, elapsed time: 0.001700887\n",
      "New primal bound: 84, expanded: 36, elapsed time: 0.001703622\n",
      "Searched with beam size: 2, threads: 10, kept: 165, sent: 182\n",
      "Searched with beam size: 2, expanded: 105, elapsed time: 0.002063455\n",
      "New dual bound: 4, expanded: 105, elapsed time: 0.002064767\n",
      "New primal bound: 77, expanded: 105, elapsed time: 0.002082311\n",
      "Searched with beam size: 4, threads: 10, kept: 169, sent: 521\n",
      "Searched with beam size: 4, expanded: 240, elapsed time: 0.002601706\n",
      "New primal bound: 65, expanded: 240, elapsed time: 0.002634638\n",
      "Searched with beam size: 8, threads: 10, kept: 179, sent: 1149\n",
      "Searched with beam size: 8, expanded: 492, elapsed time: 0.003257901\n",
      "Searched with beam size: 16, threads: 10, kept: 241, sent: 2294\n",
      "Searched with beam size: 16, expanded: 983, elapsed time: 0.00417466\n",
      "New dual bound: 6, expanded: 983, elapsed time: 0.004177385\n",
      "Searched with beam size: 32, threads: 10, kept: 498, sent: 4627\n",
      "Searched with beam size: 32, expanded: 1971, elapsed time: 0.005607808\n",
      "New dual bound: 7, expanded: 1971, elapsed time: 0.005609401\n",
      "Searched with beam size: 64, threads: 10, kept: 993, sent: 9074\n",
      "Searched with beam size: 64, expanded: 3930, elapsed time: 0.007911157\n",
      "New dual bound: 9, expanded: 3930, elapsed time: 0.00791273\n",
      "Searched with beam size: 128, threads: 10, kept: 1996, sent: 17784\n",
      "Searched with beam size: 128, expanded: 7789, elapsed time: 0.012063974\n",
      "New dual bound: 12, expanded: 7789, elapsed time: 0.012065467\n",
      "Searched with beam size: 256, threads: 10, kept: 3854, sent: 34993\n",
      "Searched with beam size: 256, expanded: 15431, elapsed time: 0.020939078\n",
      "New dual bound: 15, expanded: 15431, elapsed time: 0.02094028\n",
      "New primal bound: 64, expanded: 15431, elapsed time: 0.020964606\n",
      "Searched with beam size: 512, threads: 10, kept: 7450, sent: 68397\n",
      "Searched with beam size: 512, expanded: 30434, elapsed time: 0.034091585\n",
      "New dual bound: 16, expanded: 30434, elapsed time: 0.034092727\n",
      "New primal bound: 60, expanded: 30434, elapsed time: 0.034106584\n",
      "Searched with beam size: 1024, threads: 10, kept: 14179, sent: 130913\n",
      "Searched with beam size: 1024, expanded: 59105, elapsed time: 0.059390811\n",
      "New dual bound: 18, expanded: 59105, elapsed time: 0.059392414\n",
      "Searched with beam size: 2048, threads: 10, kept: 27756, sent: 255075\n",
      "Searched with beam size: 2048, expanded: 115377, elapsed time: 0.110206297\n",
      "New dual bound: 20, expanded: 115377, elapsed time: 0.11020747\n",
      "New primal bound: 58, expanded: 115377, elapsed time: 0.110222117\n",
      "Searched with beam size: 4096, threads: 10, kept: 52667, sent: 486891\n",
      "Searched with beam size: 4096, expanded: 222570, elapsed time: 0.215935954\n",
      "New dual bound: 22, expanded: 222570, elapsed time: 0.215937867\n",
      "Searched with beam size: 8192, threads: 10, kept: 101029, sent: 934844\n",
      "Searched with beam size: 8192, expanded: 430010, elapsed time: 0.457424827\n",
      "New dual bound: 24, expanded: 430010, elapsed time: 0.457426901\n",
      "New primal bound: 56, expanded: 430010, elapsed time: 0.457466717\n",
      "Searched with beam size: 16384, threads: 10, kept: 189027, sent: 1745111\n",
      "Searched with beam size: 16384, expanded: 817319, elapsed time: 0.972686311\n",
      "New dual bound: 27, expanded: 817319, elapsed time: 0.972688475\n",
      "Searched with beam size: 32768, threads: 10, kept: 357666, sent: 3291707\n",
      "Searched with beam size: 32768, expanded: 1554006, elapsed time: 2.164212756\n",
      "New dual bound: 29, expanded: 1554006, elapsed time: 2.164215532\n",
      "Searched with beam size: 65536, threads: 10, kept: 668005, sent: 6124171\n",
      "Searched with beam size: 65536, expanded: 2937435, elapsed time: 5.299482887\n",
      "New dual bound: 32, expanded: 2937435, elapsed time: 5.299485602\n",
      "Searched with beam size: 131072, threads: 10, kept: 882516, sent: 8036080\n",
      "Searched with beam size: 131072, expanded: 4525342, elapsed time: 10.464463917\n",
      "Reached time limit.\n"
     ]
    }
   ],
   "source": [
    "model1_didp = ModelDidp(jobs1)\n",
    "model1_didp.solve(threads=10, timeout=10)\n",
    "\n",
    "mo.md(f\"makespan = {round(model1_didp.solution.cost)}\")"
   ]
  },
  {
   "cell_type": "code",
   "execution_count": null,
   "id": "jxvo",
   "metadata": {},
   "outputs": [
    {
     "data": {
      "text/html": [
       "<pre style='font-size: 12px'>False</pre>"
      ]
     },
     "metadata": {},
     "output_type": "display_data"
    }
   ],
   "source": [
    "model1_didp.solution.is_optimal"
   ]
  },
  {
   "cell_type": "code",
   "execution_count": null,
   "id": "mWxS",
   "metadata": {},
   "outputs": [
    {
     "name": "stdout",
     "output_type": "stream",
     "text": [
      "sched_job2_task0\n",
      "sched_job0_task0\n",
      "sched_job1_task0\n",
      "sched_job1_task1\n",
      "sched_job4_task0\n",
      "sched_job2_task1\n",
      "sched_job5_task0\n",
      "sched_job0_task1\n",
      "sched_job5_task1\n",
      "sched_job3_task0\n",
      "sched_job2_task2\n",
      "sched_job3_task1\n",
      "sched_job5_task2\n",
      "sched_job0_task2\n",
      "sched_job3_task2\n",
      "sched_job1_task2\n",
      "sched_job4_task1\n",
      "sched_job2_task3\n",
      "sched_job4_task2\n",
      "sched_job2_task4\n",
      "sched_job0_task3\n",
      "sched_job1_task3\n",
      "sched_job3_task3\n",
      "sched_job2_task5\n",
      "sched_job5_task3\n",
      "sched_job4_task3\n",
      "sched_job0_task4\n",
      "sched_job3_task4\n",
      "sched_job5_task4\n",
      "sched_job1_task4\n",
      "sched_job1_task5\n",
      "sched_job3_task5\n",
      "sched_job0_task5\n",
      "sched_job4_task4\n",
      "sched_job4_task5\n",
      "sched_job5_task5\n"
     ]
    }
   ],
   "source": [
    "for _t in model1_didp.solution.transitions:\n",
    "    print(_t.name)"
   ]
  },
  {
   "cell_type": "code",
   "execution_count": null,
   "id": "CcZR",
   "metadata": {},
   "outputs": [
    {
     "name": "stdout",
     "output_type": "stream",
     "text": [
      "Solver: CABS from DIDPPy v0.9.0\n",
      "Searched with beam size: 1, threads: 10, kept: 23775, sent: 0\n",
      "Searched with beam size: 1, expanded: 675, elapsed time: 0.034590592\n",
      "New primal bound: 370, expanded: 675, elapsed time: 0.034592966\n",
      "Searched with beam size: 2, threads: 10, kept: 23733, sent: 23575\n",
      "Searched with beam size: 2, expanded: 2021, elapsed time: 0.075615247\n",
      "New dual bound: 2, expanded: 2021, elapsed time: 0.075616519\n",
      "New primal bound: 367, expanded: 2021, elapsed time: 0.076169899\n",
      "Searched with beam size: 4, threads: 10, kept: 23741, sent: 71009\n",
      "Searched with beam size: 4, expanded: 4708, elapsed time: 0.12512166\n",
      "New primal bound: 353, expanded: 4708, elapsed time: 0.125813412\n",
      "Searched with beam size: 8, threads: 10, kept: 23755, sent: 164220\n",
      "Searched with beam size: 8, expanded: 10069, elapsed time: 0.207351483\n",
      "Searched with beam size: 16, threads: 10, kept: 38087, sent: 339766\n",
      "Searched with beam size: 16, expanded: 20795, elapsed time: 0.364703437\n",
      "New primal bound: 343, expanded: 20795, elapsed time: 0.365532659\n",
      "Searched with beam size: 32, threads: 10, kept: 72793, sent: 663811\n",
      "Searched with beam size: 32, expanded: 42206, elapsed time: 0.666511283\n",
      "Searched with beam size: 64, threads: 10, kept: 148511, sent: 1335392\n",
      "Searched with beam size: 64, expanded: 84974, elapsed time: 1.199703388\n",
      "Searched with beam size: 128, threads: 10, kept: 307408, sent: 2763993\n",
      "Searched with beam size: 128, expanded: 170456, elapsed time: 2.230652804\n",
      "New dual bound: 3, expanded: 170456, elapsed time: 2.230654768\n",
      "Searched with beam size: 256, threads: 10, kept: 602759, sent: 5420809\n",
      "Searched with beam size: 256, expanded: 342479, elapsed time: 4.235390805\n",
      "New primal bound: 336, expanded: 342479, elapsed time: 4.236265624\n",
      "Searched with beam size: 512, threads: 10, kept: 1216214, sent: 10952016\n",
      "Searched with beam size: 512, expanded: 684027, elapsed time: 8.245662286\n",
      "Searched with beam size: 1024, threads: 10, kept: 422781, sent: 3818199\n",
      "Searched with beam size: 1024, expanded: 778271, elapsed time: 10.009153944\n",
      "Reached time limit.\n"
     ]
    }
   ],
   "source": [
    "model2_didp = ModelDidp(jobs2)\n",
    "model2_didp.solve(threads=10, timeout=10)\n",
    "\n",
    "mo.md(f\"makespan = {round(model2_didp.solution.cost)}\")"
   ]
  },
  {
   "cell_type": "code",
   "execution_count": null,
   "id": "YWSi",
   "metadata": {},
   "outputs": [
    {
     "name": "stdout",
     "output_type": "stream",
     "text": [
      "Solver: CABS from DIDPPy v0.9.0\n",
      "Searched with beam size: 1, threads: 10, kept: 15086, sent: 0\n",
      "Searched with beam size: 1, expanded: 600, elapsed time: 0.023599223\n",
      "New primal bound: 2756, expanded: 600, elapsed time: 0.023601978\n",
      "Searched with beam size: 2, threads: 10, kept: 15864, sent: 15790\n",
      "Searched with beam size: 2, expanded: 1798, elapsed time: 0.052234147\n",
      "New dual bound: 12, expanded: 1798, elapsed time: 0.05223566\n",
      "New primal bound: 2612, expanded: 1798, elapsed time: 0.05284758\n",
      "Searched with beam size: 4, threads: 10, kept: 15529, sent: 46409\n",
      "Searched with beam size: 4, expanded: 4172, elapsed time: 0.086004753\n",
      "Searched with beam size: 8, threads: 10, kept: 15816, sent: 110259\n",
      "Searched with beam size: 8, expanded: 8955, elapsed time: 0.140949471\n",
      "New primal bound: 2512, expanded: 8955, elapsed time: 0.141479276\n",
      "Searched with beam size: 16, threads: 10, kept: 25300, sent: 225307\n",
      "Searched with beam size: 16, expanded: 18451, elapsed time: 0.248606915\n",
      "Searched with beam size: 32, threads: 10, kept: 49459, sent: 440736\n",
      "Searched with beam size: 32, expanded: 37568, elapsed time: 0.449365903\n",
      "New dual bound: 18, expanded: 37568, elapsed time: 0.449367325\n",
      "New primal bound: 2453, expanded: 37568, elapsed time: 0.44998629\n",
      "Searched with beam size: 64, threads: 10, kept: 98126, sent: 884731\n",
      "Searched with beam size: 64, expanded: 75362, elapsed time: 0.812617295\n",
      "New dual bound: 24, expanded: 75362, elapsed time: 0.81261968\n",
      "Searched with beam size: 128, threads: 10, kept: 200094, sent: 1807544\n",
      "Searched with beam size: 128, expanded: 151850, elapsed time: 1.516673544\n",
      "New dual bound: 29, expanded: 151850, elapsed time: 1.51667675\n",
      "New primal bound: 2341, expanded: 151850, elapsed time: 1.517245529\n",
      "Searched with beam size: 256, threads: 10, kept: 393983, sent: 3549958\n",
      "Searched with beam size: 256, expanded: 302323, elapsed time: 2.864775014\n",
      "New dual bound: 33, expanded: 302323, elapsed time: 2.864777118\n",
      "Searched with beam size: 512, threads: 10, kept: 803526, sent: 7229448\n",
      "Searched with beam size: 512, expanded: 604991, elapsed time: 5.571243626\n",
      "New dual bound: 34, expanded: 604991, elapsed time: 5.571247062\n",
      "Searched with beam size: 1024, threads: 10, kept: 1197385, sent: 10803877\n",
      "Searched with beam size: 1024, expanded: 1005890, elapsed time: 10.002255422\n",
      "New dual bound: 43, expanded: 1005890, elapsed time: 10.002257336\n",
      "Reached time limit.\n"
     ]
    }
   ],
   "source": [
    "model3_didp = ModelDidp(jobs3)\n",
    "model3_didp.solve(threads=10, timeout=10)\n",
    "\n",
    "mo.md(f\"makespan = {round(model3_didp.solution.cost)}\")"
   ]
  },
  {
   "cell_type": "markdown",
   "id": "zlud",
   "metadata": {
    "marimo": {
     "config": {
      "hide_code": true
     }
    }
   },
   "source": [
    "## 離接定式化のグラフによる表示"
   ]
  },
  {
   "cell_type": "markdown",
   "id": "tZnO",
   "metadata": {
    "marimo": {
     "config": {
      "hide_code": true
     }
    }
   },
   "source": [
    "JSP は タスクをノード, 依存関係や同時処理禁止規則をエッジで表現したグラフからエッジを選択する問題として表現することができる.\n",
    "\n",
    "### 参考\n",
    "\n",
    "- https://acrogenesis.com/or-tools/documentation/user_manual/manual/ls/jobshop_def_data.html\n",
    "- https://zenn.dev/fusic/articles/0fed6d5dfbdeb5"
   ]
  },
  {
   "cell_type": "markdown",
   "id": "xvXZ",
   "metadata": {
    "marimo": {
     "config": {
      "hide_code": true
     }
    }
   },
   "source": [
    "### 定数\n",
    "\n",
    "- $J$: ジョブの集合\n",
    "- $M$: マシンの集合\n",
    "- $O$: オペレーションの集合\n",
    "- $O_j$: ジョブ $j$ のオペレーションの集合\n",
    "- $O_m$: マシン $m$ で処理するオペレーションの集合\n",
    "- $t_o$: オペレーション $o$ の処理時間\n",
    "\n",
    "### グラフ\n",
    "\n",
    "- ノード $N := O \\cup \\{ \\text{source}, \\text{target} \\}$\n",
    "- エッジ $E := E^c \\cup E^d$\n",
    "    - Conjunctive Edges $E^c$: オペレーション $o$ と $o'$ が同じジョブに属しており, $o$ の後に $o'$ を処理しなければならない場合, $(o, o') \\in E^c$.\n",
    "      また, $o$ があるジョブの最初のオペレーションであるとき $(\\text{source}, o) \\in E^c$.\n",
    "      $o$ があるジョブの最後のオペレーションであるとき $(o, \\text{target}) \\in E^c$.\n",
    "    - Disjunctive Edges $E^d$: オペレーション $o$ と $o'$ が同じマシンで処理されるとき, $(o, o') \\in E^d$ かつ $(o', o) \\in E^d$.\n",
    "      このエッジは双方向のうちどちらかを選択し, 選択されたエッジによりオペレーションの処理順序が定まる.\n",
    "\n",
    "このグラフのエッジで繋がれたノード(オペレーション)の間には処理順序の関係がある.\n",
    "Conjunctive edge は同一ジョブ内オペレーションの順序関係を表し,\n",
    "Disjunctive edge は同一マシンで処理するオペレーションの間の順序関係を表す.\n",
    "\n",
    "### 決定変数\n",
    "\n",
    "- $x_e \\in \\{ 0, 1 \\} \\space (e \\in E)$: エッジ $e$ を選択する場合のみ $1$.\n",
    "- $s_n \\in \\mathbb{Z} \\space (n \\in N)$: オペレーションの開始時刻. $\\text{source}$ ノードの開始時刻は 0, 処理時間も 0 とする.\n",
    "\n",
    "### 制約条件\n",
    "\n",
    "- $e = (u, v)$ とする. このとき $x_e = 1 \\Rightarrow s_u + t_u \\leq s_v$\n",
    "    - $e \\in E^c \\Rightarrow x_e = 1$\n",
    "    - $(u, v) \\in E^d \\Rightarrow x_{(u,v)} + x_{(v,u)} = 1$\n",
    "\n",
    "### 目的関数\n",
    "\n",
    "- $s_\\text{target}$ が makespan を表す. これを最小化する."
   ]
  },
  {
   "cell_type": "markdown",
   "id": "CLip",
   "metadata": {
    "marimo": {
     "config": {
      "hide_code": true
     }
    }
   },
   "source": [
    "## 巡回路制約を用いた実装"
   ]
  },
  {
   "cell_type": "markdown",
   "id": "YECM",
   "metadata": {
    "marimo": {
     "config": {
      "hide_code": true
     }
    }
   },
   "source": [
    "上記のグラフにマシン自体をノードとして足し,\n",
    "disjunctive edge のみを辿ってマシンごとに順回路を作成することでマシン内での実行順を記述することができる."
   ]
  },
  {
   "cell_type": "code",
   "execution_count": null,
   "id": "cEAS",
   "metadata": {},
   "outputs": [],
   "source": [
    "class ModelCpSatArc:\n",
    "    def __init__(self, jobs: list[Job]):\n",
    "        machines = sorted(\n",
    "            list(set(task.machine for job in jobs for task in job.tasks))\n",
    "        )\n",
    "\n",
    "        # タスクに 0 から番号を割り振る.\n",
    "        # source と target はそれぞれ -1, -2 とする.\n",
    "        task_indices = []\n",
    "        idx = 0\n",
    "        for job in jobs:\n",
    "            indices = []\n",
    "            for task in job.tasks:\n",
    "                indices.append(idx)\n",
    "                idx += 1\n",
    "            task_indices.append(indices)\n",
    "\n",
    "        all_tasks = [task for job in jobs for task in job.tasks]\n",
    "\n",
    "        horizon = sum(task.time for job in jobs for task in job.tasks)\n",
    "\n",
    "        model = cp_model.CpModel()\n",
    "\n",
    "        edges = {}\n",
    "        starts = {}\n",
    "\n",
    "        # start time\n",
    "        starts[-1] = model.new_constant(0)\n",
    "        starts[-2] = model.new_int_var(0, horizon, \"\")\n",
    "        for indices in task_indices:\n",
    "            for idx in indices:\n",
    "                starts[idx] = model.new_int_var(0, horizon, \"\")\n",
    "\n",
    "        # Conjunctive Edges\n",
    "        for indices in task_indices:\n",
    "            edges[(-1, indices[0])] = model.new_constant(1)\n",
    "            edges[(indices[-1], -2)] = model.new_constant(1)\n",
    "            for i, _ in enumerate(indices):\n",
    "                if i == 0:\n",
    "                    continue\n",
    "                edges[(indices[i - 1], indices[i])] = model.new_constant(1)\n",
    "\n",
    "        # Disjunctive Edges\n",
    "        for m in machines:\n",
    "            indices_m = [\n",
    "                idx\n",
    "                for indices, job in zip(task_indices, jobs)\n",
    "                for idx, task in zip(indices, job.tasks)\n",
    "                if task.machine == m\n",
    "            ] + [-3 - m]\n",
    "\n",
    "            edges_m = {\n",
    "                (u, v): model.new_bool_var(\"\")\n",
    "                for u in indices_m\n",
    "                for v in indices_m\n",
    "                if u != v\n",
    "            }\n",
    "            model.add_circuit((u, v, var) for (u, v), var in edges_m.items())\n",
    "\n",
    "            edges |= edges_m\n",
    "\n",
    "        for (u, v), var in edges.items():\n",
    "            if u < -2 or v < -2:\n",
    "                continue\n",
    "\n",
    "            if u == -1:\n",
    "                model.add(starts[u] <= starts[v])\n",
    "            else:\n",
    "                model.add(\n",
    "                    starts[u] + all_tasks[u].time <= starts[v]\n",
    "                ).only_enforce_if(edges[(u, v)])\n",
    "\n",
    "        model.minimize(starts[-2])\n",
    "\n",
    "        self.model = model\n",
    "        self.objective = starts[-2]\n",
    "\n",
    "    def solve(self, timeout: int = 10):\n",
    "        self.solver = cp_model.CpSolver()\n",
    "        self.solver.parameters.log_search_progress = True\n",
    "        self.solver.parameters.max_time_in_seconds = timeout\n",
    "        self.status = self.solver.solve(self.model)"
   ]
  },
  {
   "cell_type": "code",
   "execution_count": null,
   "id": "iXej",
   "metadata": {},
   "outputs": [
    {
     "name": "stdout",
     "output_type": "stream",
     "text": [
      "\n",
      "Starting CP-SAT solver v9.13.4784\n",
      "Parameters: max_time_in_seconds: 10 log_search_progress: true\n",
      "Setting number of workers to 12\n",
      "\n",
      "Initial optimization model '': (model_fingerprint: 0xaacdc7c50f505cd1)\n",
      "#Variables: 291 (#ints: 1 in objective) (291 primary variables)\n",
      "  - 252 Booleans in [0,1]\n",
      "  - 37 in [0,197]\n",
      "  - 2 constants in {0,1} \n",
      "#kCircuit: 6\n",
      "#kLinear2: 222 (#enforced: 216)\n",
      "\n",
      "Starting presolve at 0.00s\n",
      "  4.80e-05s  0.00e+00d  [DetectDominanceRelations] \n",
      "  1.52e-03s  0.00e+00d  [PresolveToFixPoint] #num_loops=6 #num_dual_strengthening=1 \n",
      "  1.62e-06s  0.00e+00d  [ExtractEncodingFromLinear] \n",
      "  8.09e-06s  0.00e+00d  [DetectDuplicateColumns] \n",
      "  1.24e-05s  0.00e+00d  [DetectDuplicateConstraints] \n",
      "[Symmetry] Graph for symmetry has 836 nodes and 1'403 arcs.\n",
      "[Symmetry] Symmetry computation done. time: 8.6504e-05 dtime: 0.00010138\n",
      "  1.29e-05s  0.00e+00d  [DetectDuplicateConstraintsWithDifferentEnforcements] \n",
      "  1.40e-03s  6.08e-04d  [Probe] #probed=504 #new_binary_clauses=126 \n",
      "  2.18e-06s  0.00e+00d  [MaxClique] \n",
      "  4.46e-05s  0.00e+00d  [DetectDominanceRelations] \n",
      "  8.50e-04s  0.00e+00d  [PresolveToFixPoint] #num_loops=2 #num_dual_strengthening=1 \n",
      "  2.66e-05s  0.00e+00d  [ProcessAtMostOneAndLinear] \n",
      "  9.99e-06s  0.00e+00d  [DetectDuplicateConstraints] \n",
      "  7.19e-06s  0.00e+00d  [DetectDuplicateConstraintsWithDifferentEnforcements] \n",
      "  8.57e-06s  2.16e-07d  [DetectDominatedLinearConstraints] #relevant_constraints=36 \n",
      "  8.35e-05s  0.00e+00d  [DetectDifferentVariables] #different=36 \n",
      "  1.41e-06s  0.00e+00d  [ProcessSetPPC] \n",
      "  1.86e-06s  0.00e+00d  [FindAlmostIdenticalLinearConstraints] \n",
      "  1.00e-05s  2.70e-06d  [FindBigAtMostOneAndLinearOverlap] \n",
      "  2.99e-05s  1.83e-05d  [FindBigVerticalLinearOverlap] \n",
      "  1.16e-06s  0.00e+00d  [FindBigHorizontalLinearOverlap] \n",
      "  2.89e-06s  0.00e+00d  [MergeClauses] \n",
      "  4.86e-05s  0.00e+00d  [DetectDominanceRelations] \n",
      "  5.62e-04s  0.00e+00d  [PresolveToFixPoint] #num_loops=1 #num_dual_strengthening=1 \n",
      "  4.73e-05s  0.00e+00d  [DetectDominanceRelations] \n",
      "  5.31e-04s  0.00e+00d  [PresolveToFixPoint] #num_loops=1 #num_dual_strengthening=1 \n",
      "  8.33e-06s  0.00e+00d  [DetectDuplicateColumns] \n",
      "  1.09e-05s  0.00e+00d  [DetectDuplicateConstraints] \n",
      "[Symmetry] Graph for symmetry has 1'196 nodes and 1'943 arcs.\n",
      "[Symmetry] Symmetry computation done. time: 0.000117303 dtime: 0.00023881\n",
      "[SAT presolve] num removable Booleans: 0 / 252\n",
      "[SAT presolve] num trivial clauses: 0\n",
      "[SAT presolve] [0s] clauses:90 literals:180 vars:180 one_side_vars:180 simple_definition:0 singleton_clauses:0\n",
      "[SAT presolve] [8.055e-06s] clauses:90 literals:180 vars:180 one_side_vars:180 simple_definition:0 singleton_clauses:0\n",
      "[SAT presolve] [1.5119e-05s] clauses:90 literals:180 vars:180 one_side_vars:180 simple_definition:0 singleton_clauses:0\n",
      "  1.20e-05s  0.00e+00d  [DetectDuplicateConstraintsWithDifferentEnforcements] \n",
      "  1.26e-03s  6.10e-04d  [Probe] #probed=504 #new_binary_clauses=36 \n",
      "  5.83e-05s  4.58e-05d  [MaxClique] \n",
      "  4.93e-05s  0.00e+00d  [DetectDominanceRelations] \n",
      "  5.90e-04s  0.00e+00d  [PresolveToFixPoint] #num_loops=1 #num_dual_strengthening=1 \n",
      "  3.63e-05s  0.00e+00d  [ProcessAtMostOneAndLinear] \n",
      "  1.26e-05s  0.00e+00d  [DetectDuplicateConstraints] \n",
      "  8.55e-06s  0.00e+00d  [DetectDuplicateConstraintsWithDifferentEnforcements] \n",
      "  7.35e-06s  2.16e-07d  [DetectDominatedLinearConstraints] #relevant_constraints=36 \n",
      "  8.67e-05s  0.00e+00d  [DetectDifferentVariables] #different=36 \n",
      "  2.11e-05s  5.40e-07d  [ProcessSetPPC] #relevant_constraints=90 \n",
      "  2.73e-06s  0.00e+00d  [FindAlmostIdenticalLinearConstraints] \n",
      "  2.68e-05s  1.98e-05d  [FindBigAtMostOneAndLinearOverlap] \n",
      "  2.97e-05s  1.92e-05d  [FindBigVerticalLinearOverlap] \n",
      "  2.54e-06s  0.00e+00d  [FindBigHorizontalLinearOverlap] \n",
      "  3.42e-06s  0.00e+00d  [MergeClauses] \n",
      "  5.37e-05s  0.00e+00d  [DetectDominanceRelations] \n",
      "  5.79e-04s  0.00e+00d  [PresolveToFixPoint] #num_loops=1 #num_dual_strengthening=1 \n",
      "  5.29e-05s  0.00e+00d  [DetectDominanceRelations] \n",
      "  5.69e-04s  0.00e+00d  [PresolveToFixPoint] #num_loops=1 #num_dual_strengthening=1 \n",
      "  8.40e-06s  0.00e+00d  [DetectDuplicateColumns] \n",
      "  2.15e-05s  0.00e+00d  [DetectDuplicateConstraints] #duplicates=90 \n",
      "[Symmetry] Graph for symmetry has 1'196 nodes and 1'943 arcs.\n",
      "[Symmetry] Symmetry computation done. time: 0.000119116 dtime: 0.00023881\n",
      "[SAT presolve] num removable Booleans: 0 / 252\n",
      "[SAT presolve] num trivial clauses: 0\n",
      "[SAT presolve] [0s] clauses:90 literals:180 vars:180 one_side_vars:180 simple_definition:0 singleton_clauses:0\n",
      "[SAT presolve] [7.054e-06s] clauses:90 literals:180 vars:180 one_side_vars:180 simple_definition:0 singleton_clauses:0\n",
      "[SAT presolve] [1.3927e-05s] clauses:90 literals:180 vars:180 one_side_vars:180 simple_definition:0 singleton_clauses:0\n"
     ]
    },
    {
     "name": "stdout",
     "output_type": "stream",
     "text": [
      "  1.26e-05s  0.00e+00d  [DetectDuplicateConstraintsWithDifferentEnforcements] \n",
      "  1.26e-03s  6.10e-04d  [Probe] #probed=504 #new_binary_clauses=36 \n",
      "  6.49e-05s  4.58e-05d  [MaxClique] \n",
      "  5.03e-05s  0.00e+00d  [DetectDominanceRelations] \n",
      "  5.94e-04s  0.00e+00d  [PresolveToFixPoint] #num_loops=1 #num_dual_strengthening=1 \n",
      "  3.51e-05s  0.00e+00d  [ProcessAtMostOneAndLinear] \n",
      "  1.24e-05s  0.00e+00d  [DetectDuplicateConstraints] \n",
      "  8.63e-06s  0.00e+00d  [DetectDuplicateConstraintsWithDifferentEnforcements] \n",
      "  7.45e-06s  2.16e-07d  [DetectDominatedLinearConstraints] #relevant_constraints=36 \n",
      "  9.13e-05s  0.00e+00d  [DetectDifferentVariables] #different=36 \n",
      "  2.14e-05s  5.40e-07d  [ProcessSetPPC] #relevant_constraints=90 \n",
      "  3.18e-06s  0.00e+00d  [FindAlmostIdenticalLinearConstraints] \n",
      "  2.87e-05s  1.98e-05d  [FindBigAtMostOneAndLinearOverlap] \n",
      "  3.23e-05s  1.92e-05d  [FindBigVerticalLinearOverlap] \n",
      "  2.64e-06s  0.00e+00d  [FindBigHorizontalLinearOverlap] \n",
      "  3.98e-06s  0.00e+00d  [MergeClauses] \n",
      "  5.52e-05s  0.00e+00d  [DetectDominanceRelations] \n",
      "  5.89e-04s  0.00e+00d  [PresolveToFixPoint] #num_loops=1 #num_dual_strengthening=1 \n",
      "  6.80e-06s  0.00e+00d  [ExpandObjective] \n",
      "\n",
      "Presolve summary:\n",
      "  - 0 affine relations were detected.\n",
      "  - rule 'TODO dual: only one blocking constraint?' was applied 2'916 times.\n",
      "  - rule 'TODO dual: only one unspecified blocking constraint?' was applied 9 times.\n",
      "  - rule 'deductions: 292 stored' was applied 1 time.\n",
      "  - rule 'duplicate: removed constraint' was applied 90 times.\n",
      "  - rule 'incompatible linear: add implication' was applied 270 times.\n",
      "  - rule 'linear: always true' was applied 6 times.\n",
      "  - rule 'linear: reduced variable domains' was applied 98 times.\n",
      "  - rule 'presolve: 2 unused variables removed.' was applied 1 time.\n",
      "  - rule 'presolve: iteration' was applied 3 times.\n",
      "\n",
      "Presolved optimization model '': (model_fingerprint: 0x38032ad1dbe6b7ef)\n",
      "#Variables: 289 (#ints: 1 in objective) (288 primary variables)\n",
      "  - 252 Booleans in [0,1]\n",
      "  - 1 in [0,150]\n",
      "  - 1 in [0,162]\n",
      "  - 1 in [0,163]\n",
      "  - 1 in [0,167]\n",
      "  - 1 in [0,171]\n",
      "  - 1 in [0,172]\n",
      "  - 1 in [1,172]\n",
      "  - 1 in [3,170]\n",
      "  - 1 in [4,175]\n",
      "  - 1 in [5,167]\n",
      "  - 1 in [5,168]\n",
      "  - 1 in [6,173]\n",
      "  - 1 in [8,158]\n",
      "  - 1 in [9,172]\n",
      "  - 1 in [9,181]\n",
      "  - 1 in [10,172]\n",
      "  - 1 in [10,181]\n",
      "  - 1 in [12,184]\n",
      "  - 1 in [13,163]\n",
      "  - 1 in [15,177]\n",
      "  - 1 in [15,182]\n",
      "  - 1 in [17,180]\n",
      "  - 1 in [17,188]\n",
      "  - 1 in [17,189]\n",
      "  - 1 in [18,180]\n",
      "  - 1 in [20,191]\n",
      "  - 1 in [21,193]\n",
      "  - 1 in [23,173]\n",
      "  - 1 in [24,196]\n",
      "  - 1 in [25,192]\n",
      "  - 1 in [26,188]\n",
      "  - 1 in [26,189]\n",
      "  - 1 in [27,190]\n",
      "  - 1 in [29,196]\n",
      "  - 1 in [33,183]\n",
      "  - 1 in [43,193]\n",
      "  - 1 in [47,197]\n",
      "#kBoolAnd: 180 (#enforced: 180) (#literals: 360)\n",
      "#kCircuit: 6\n",
      "#kLinear2: 216 (#enforced: 180)\n",
      "[Symmetry] Graph for symmetry has 1'194 nodes and 1'943 arcs.\n",
      "[Symmetry] Symmetry computation done. time: 0.000113725 dtime: 0.00023869\n",
      "\n",
      "Preloading model.\n",
      "#Bound   0.01s best:inf   next:[47,197]   initial_domain\n",
      "#Model   0.01s var:289/289 constraints:402/402\n",
      "\n",
      "Starting search at 0.01s with 12 workers.\n",
      "8 full problem subsolvers: [default_lp, lb_tree_search, max_lp, no_lp, pseudo_costs, quick_restart, quick_restart_no_lp, reduced_costs]\n",
      "4 first solution subsolvers: [fj(2), fs_random, fs_random_no_lp]\n",
      "13 interleaved subsolvers: [feasibility_pump, graph_arc_lns, graph_cst_lns, graph_dec_lns, graph_var_lns, ls, ls_lin, rins/rens, rnd_cst_lns, rnd_var_lns, routing_full_path_lns, routing_path_lns, routing_random_lns]\n",
      "3 helper subsolvers: [neighborhood_helper, synchronization_agent, update_gap_integral]\n",
      "\n",
      "#1       0.02s best:144   next:[47,143]   no_lp\n"
     ]
    },
    {
     "name": "stdout",
     "output_type": "stream",
     "text": [
      "#2       0.02s best:139   next:[47,138]   quick_restart\n",
      "#3       0.02s best:130   next:[47,129]   default_lp\n",
      "#4       0.02s best:128   next:[47,127]   no_lp\n",
      "#5       0.02s best:122   next:[47,121]   no_lp\n",
      "#6       0.02s best:98    next:[47,97]    no_lp\n",
      "#7       0.03s best:95    next:[47,94]    no_lp\n",
      "#8       0.03s best:93    next:[47,92]    no_lp\n",
      "#9       0.03s best:91    next:[47,90]    quick_restart_no_lp\n",
      "#10      0.03s best:90    next:[47,89]    no_lp\n",
      "#11      0.03s best:89    next:[47,88]    no_lp\n",
      "#12      0.03s best:88    next:[47,87]    no_lp\n",
      "#13      0.03s best:87    next:[47,86]    quick_restart_no_lp\n",
      "#14      0.03s best:86    next:[47,85]    no_lp\n",
      "#15      0.03s best:84    next:[47,83]    no_lp\n",
      "#16      0.03s best:83    next:[47,82]    no_lp\n",
      "#17      0.03s best:82    next:[47,81]    no_lp\n",
      "#18      0.03s best:77    next:[47,76]    no_lp\n",
      "#19      0.03s best:76    next:[47,75]    no_lp\n",
      "#20      0.03s best:75    next:[47,74]    no_lp\n",
      "#21      0.03s best:73    next:[47,72]    no_lp\n",
      "#22      0.03s best:72    next:[47,71]    no_lp\n",
      "#Model   0.03s var:285/289 constraints:390/402\n",
      "#23      0.03s best:71    next:[47,70]    no_lp\n",
      "#24      0.03s best:70    next:[47,69]    quick_restart_no_lp\n",
      "#25      0.03s best:69    next:[47,68]    no_lp\n",
      "#26      0.03s best:68    next:[47,67]    no_lp\n",
      "#27      0.03s best:67    next:[47,66]    no_lp\n",
      "#28      0.03s best:66    next:[47,65]    no_lp\n",
      "#29      0.03s best:65    next:[47,64]    no_lp\n",
      "#30      0.03s best:64    next:[47,63]    no_lp\n"
     ]
    },
    {
     "name": "stdout",
     "output_type": "stream",
     "text": [
      "#Model   0.03s var:280/289 constraints:375/402\n",
      "#31      0.04s best:63    next:[47,62]    quick_restart_no_lp\n",
      "#32      0.04s best:62    next:[47,61]    quick_restart_no_lp\n",
      "#33      0.04s best:61    next:[47,60]    quick_restart_no_lp\n",
      "#34      0.04s best:60    next:[47,59]    no_lp\n",
      "#35      0.04s best:59    next:[47,58]    no_lp\n",
      "#Model   0.04s var:271/289 constraints:349/402\n",
      "#36      0.04s best:58    next:[47,57]    no_lp\n",
      "#37      0.04s best:57    next:[47,56]    no_lp\n",
      "#Model   0.04s var:263/289 constraints:328/402\n",
      "#Model   0.04s var:259/289 constraints:315/402\n",
      "#38      0.04s best:56    next:[47,55]    quick_restart\n",
      "#39      0.04s best:55    next:[47,54]    no_lp\n"
     ]
    },
    {
     "name": "stdout",
     "output_type": "stream",
     "text": [
      "#Model   0.05s var:244/289 constraints:295/402\n",
      "#Model   0.05s var:221/289 constraints:260/402\n",
      "#Bound   0.05s best:55    next:[49,54]    quick_restart_no_lp\n",
      "#Done    0.05s quick_restart_no_lp\n",
      "\n",
      "Task timing                        n [     min,      max]      avg      dev     time         n [     min,      max]      avg      dev    dtime\n",
      "             'default_lp':         1 [ 34.53ms,  34.53ms]  34.53ms   0.00ns  34.53ms         1 [  5.37ms,   5.37ms]   5.37ms   0.00ns   5.37ms\n",
      "       'feasibility_pump':         1 [  1.02ms,   1.02ms]   1.02ms   0.00ns   1.02ms         0 [  0.00ns,   0.00ns]   0.00ns   0.00ns   0.00ns\n",
      "                     'fj':         1 [  5.75ms,   5.75ms]   5.75ms   0.00ns   5.75ms         1 [  4.79ms,   4.79ms]   4.79ms   0.00ns   4.79ms\n",
      "                     'fj':         1 [ 16.17ms,  16.17ms]  16.17ms   0.00ns  16.17ms         1 [ 15.20ms,  15.20ms]  15.20ms   0.00ns  15.20ms\n",
      "              'fs_random':         1 [  4.62ms,   4.62ms]   4.62ms   0.00ns   4.62ms         0 [  0.00ns,   0.00ns]   0.00ns   0.00ns   0.00ns\n",
      "        'fs_random_no_lp':         1 [  4.36ms,   4.36ms]   4.36ms   0.00ns   4.36ms         1 [115.16us, 115.16us] 115.16us   0.00ns 115.16us\n",
      "          'graph_arc_lns':         2 [  3.26ms,   4.44ms]   3.85ms 586.39us   7.70ms         2 [ 11.00us,  51.06us]  31.03us  20.03us  62.07us\n",
      "          'graph_cst_lns':         2 [397.31us,   4.47ms]   2.43ms   2.04ms   4.87ms         1 [ 11.13us,  11.13us]  11.13us   0.00ns  11.13us\n",
      "          'graph_dec_lns':         2 [387.60us,   1.05ms] 719.12us 331.52us   1.44ms         1 [ 20.00ns,  20.00ns]  20.00ns   0.00ns  20.00ns\n",
      "          'graph_var_lns':         2 [519.89us,   7.22ms]   3.87ms   3.35ms   7.74ms         0 [  0.00ns,   0.00ns]   0.00ns   0.00ns   0.00ns\n",
      "         'lb_tree_search':         1 [ 34.30ms,  34.30ms]  34.30ms   0.00ns  34.30ms         1 [987.57us, 987.57us] 987.57us   0.00ns 987.57us\n",
      "                     'ls':         1 [290.17us, 290.17us] 290.17us   0.00ns 290.17us         0 [  0.00ns,   0.00ns]   0.00ns   0.00ns   0.00ns\n",
      "                 'ls_lin':         1 [  2.16ms,   2.16ms]   2.16ms   0.00ns   2.16ms         1 [  1.56ms,   1.56ms]   1.56ms   0.00ns   1.56ms\n",
      "                 'max_lp':         1 [ 34.56ms,  34.56ms]  34.56ms   0.00ns  34.56ms         1 [673.40us, 673.40us] 673.40us   0.00ns 673.40us\n",
      "                  'no_lp':         1 [ 34.53ms,  34.53ms]  34.53ms   0.00ns  34.53ms         1 [  9.18ms,   9.18ms]   9.18ms   0.00ns   9.18ms\n",
      "           'pseudo_costs':         1 [ 34.49ms,  34.49ms]  34.49ms   0.00ns  34.49ms         1 [  4.56ms,   4.56ms]   4.56ms   0.00ns   4.56ms\n",
      "          'quick_restart':         1 [ 34.43ms,  34.43ms]  34.43ms   0.00ns  34.43ms         1 [  4.96ms,   4.96ms]   4.96ms   0.00ns   4.96ms\n",
      "    'quick_restart_no_lp':         1 [ 34.10ms,  34.10ms]  34.10ms   0.00ns  34.10ms         1 [  8.60ms,   8.60ms]   8.60ms   0.00ns   8.60ms\n",
      "          'reduced_costs':         1 [ 34.49ms,  34.49ms]  34.49ms   0.00ns  34.49ms         1 [  1.20ms,   1.20ms]   1.20ms   0.00ns   1.20ms\n",
      "              'rins/rens':         0 [  0.00ns,   0.00ns]   0.00ns   0.00ns   0.00ns         0 [  0.00ns,   0.00ns]   0.00ns   0.00ns   0.00ns\n",
      "            'rnd_cst_lns':         2 [  1.48ms,   4.23ms]   2.85ms   1.37ms   5.71ms         2 [110.00ns,   5.16us]   2.64us   2.53us   5.27us\n",
      "            'rnd_var_lns':         2 [897.75us,   2.82ms]   1.86ms 960.83us   3.72ms         2 [ 10.00ns, 906.00ns] 458.00ns 448.00ns 916.00ns\n",
      "  'routing_full_path_lns':         1 [ 23.73ms,  23.73ms]  23.73ms   0.00ns  23.73ms         1 [  2.39ms,   2.39ms]   2.39ms   0.00ns   2.39ms\n",
      "       'routing_path_lns':         1 [ 24.05ms,  24.05ms]  24.05ms   0.00ns  24.05ms         1 [  1.32ms,   1.32ms]   1.32ms   0.00ns   1.32ms\n",
      "     'routing_random_lns':         1 [ 17.54ms,  17.54ms]  17.54ms   0.00ns  17.54ms         1 [  1.20ms,   1.20ms]   1.20ms   0.00ns   1.20ms\n",
      "\n",
      "Search stats              Bools  Conflicts  Branches  Restarts  BoolPropag  IntegerPropag\n",
      "           'default_lp':    345        148     2'444       950      15'977         34'418\n",
      "            'fs_random':    252          0       494       494       2'717          7'302\n",
      "      'fs_random_no_lp':    252          0       530       504       2'986          4'771\n",
      "       'lb_tree_search':    252          0       504       504       2'772          7'523\n",
      "               'max_lp':    252          0       504       504       2'772          7'523\n",
      "                'no_lp':    455        340     3'863       968      33'972         28'271\n",
      "         'pseudo_costs':    252          1       530       504       2'911          7'894\n",
      "        'quick_restart':    371         87     2'460       958      14'358         31'365\n",
      "  'quick_restart_no_lp':    556        306     3'621       988      33'229         25'870\n",
      "        'reduced_costs':    253          0       504       504       2'783          7'571\n",
      "\n",
      "SAT stats                 ClassicMinim  LitRemoved  LitLearned  LitForgotten  Subsumed  MClauses  MDecisions  MLitTrue  MSubsumed  MLitRemoved  MReused\n",
      "           'default_lp':           121         850       1'184             0         2       170         841         0          0            0        3\n",
      "            'fs_random':             0           0           0             0         0         0           0         0          0            0        0\n",
      "      'fs_random_no_lp':             0           0           0             0         0         0           0         0          0            0        0\n",
      "       'lb_tree_search':             0           0           0             0         0         0           0         0          0            0        0\n",
      "               'max_lp':             0           0           0             0         0         0           0         0          0            0        0\n",
      "                'no_lp':           273       1'765       3'284             0         1       168         835         0          0            0        5\n",
      "         'pseudo_costs':             1           1          19             0         0         0           0         0          0            0        0\n",
      "        'quick_restart':            54         274         948             0         0       168         838         0          0            0        2\n",
      "  'quick_restart_no_lp':           230       1'191       3'109             0         0       168         840         0          0            0        0\n",
      "        'reduced_costs':             0           0           0             0         0         0           0         0          0            0        0\n",
      "\n",
      "Lp stats             Component  Iterations  AddedCuts  OPTIMAL  DUAL_F.  DUAL_U.\n",
      "      'default_lp':          7         413          0      686        0        0\n",
      "       'fs_random':          7           0          0        0        0        0\n",
      "  'lb_tree_search':          1         210        422        5        0        0\n",
      "          'max_lp':          1         190        423        5        0        0\n",
      "    'pseudo_costs':          1         402        523       20       14        0\n",
      "   'quick_restart':          7         436          0      769        0        0\n",
      "   'reduced_costs':          1         218        534       11        0        0\n",
      "\n",
      "Lp dimension          Final dimension of first component\n",
      "      'default_lp':      14 rows, 42 columns, 68 entries\n",
      "       'fs_random':        0 rows, 42 columns, 0 entries\n",
      "  'lb_tree_search':  503 rows, 289 columns, 2115 entries\n",
      "          'max_lp':  501 rows, 289 columns, 2024 entries\n",
      "    'pseudo_costs':  359 rows, 289 columns, 1962 entries\n",
      "   'quick_restart':      14 rows, 42 columns, 68 entries\n",
      "   'reduced_costs':  273 rows, 289 columns, 1506 entries\n",
      "\n",
      "Lp debug             CutPropag  CutEqPropag  Adjust  Overflow    Bad  BadScaling\n",
      "      'default_lp':          0            0       0         0      0           0\n",
      "       'fs_random':          0            0       0         0      0           0\n",
      "  'lb_tree_search':          0            0       0         0  1'890           0\n",
      "          'max_lp':          0            0       0         0  1'790           0\n",
      "    'pseudo_costs':          0            0       0         0    994           0\n",
      "   'quick_restart':          0            0       0         0      0           0\n",
      "   'reduced_costs':          0            2       0         0  1'992           0\n",
      "\n",
      "Lp pool              Constraints  Updates  Simplif  Merged  Shortened  Split  Strenghtened  Cuts/Call\n",
      "      'default_lp':          120        0       75      84         75      0             0        0/0\n",
      "       'fs_random':          120        0        0      84          0      0             0        0/0\n",
      "  'lb_tree_search':          812       32        0      84          0      0            41    422/647\n",
      "          'max_lp':          813       33        0      84          0      0            44    423/665\n",
      "    'pseudo_costs':          905       65      180      92          0      4           180    523/780\n",
      "   'quick_restart':          120        0       76      84         76      0             0        0/0\n",
      "   'reduced_costs':          923       99      354      85        191      0           204    534/948\n",
      "\n",
      "Lp Cut            max_lp  reduced_costs  pseudo_costs  lb_tree_search\n",
      "          CG_FF:      15             23            25              16\n",
      "           CG_K:      13             10            17              12\n",
      "          CG_KL:       -              -             -               1\n",
      "           CG_R:       2             17            23              10\n",
      "          CG_RB:      10             19            17               4\n",
      "         CG_RBP:       2              -             1               1\n",
      "        Circuit:      11             25            35              12\n",
      "   CircuitExact:       -              -             1               -\n",
      "         Clique:       4              2             3               3\n",
      "             IB:     124            243           289             134\n",
      "       MIR_1_FF:      15             12            10              12\n",
      "        MIR_1_K:       1              2             -               2\n",
      "       MIR_1_RB:      13              4            10               6\n",
      "      MIR_1_RBP:       4              -             -               2\n",
      "       MIR_2_FF:      23             25            11              16\n",
      "        MIR_2_K:       3              2             -               3\n",
      "        MIR_2_R:       3              8             4               3\n",
      "       MIR_2_RB:      23              9            10              20\n",
      "      MIR_2_RBP:       6              -             -               1\n",
      "       MIR_3_FF:      14             13             4              12\n",
      "        MIR_3_K:       1              3             -               1\n",
      "        MIR_3_R:       2              7             2               3\n",
      "       MIR_3_RB:      12              5            11              16\n",
      "      MIR_3_RBP:       1              -             -               3\n",
      "       MIR_4_FF:      14              8             4               9\n",
      "        MIR_4_K:       3              2             -               1\n",
      "        MIR_4_R:       1              5             3               3\n",
      "       MIR_4_RB:       9              6             6               8\n",
      "      MIR_4_RBP:       2              -             -               4\n",
      "       MIR_5_FF:      14             15            10              16\n",
      "        MIR_5_K:       1              1             -               -\n",
      "        MIR_5_R:       1              2             -               3\n",
      "       MIR_5_RB:       3              2             3               9\n",
      "      MIR_5_RBP:       -              1             -               1\n",
      "       MIR_6_FF:       7              9             1              11\n",
      "        MIR_6_K:       -              2             -               1\n",
      "        MIR_6_R:       1              -             2               4\n",
      "       MIR_6_RB:       1              3             4               5\n",
      "      MIR_6_RBP:       1              -             -               2\n",
      "   ZERO_HALF_FF:      22             14             5              17\n",
      "    ZERO_HALF_K:       1              3             1               2\n",
      "    ZERO_HALF_R:      27             28             8              25\n",
      "   ZERO_HALF_RB:      13              3             3               8\n",
      "  ZERO_HALF_RBP:       -              1             -               -\n",
      "\n",
      "LNS stats                   Improv/Calls  Closed  Difficulty  TimeLimit\n",
      "          'graph_arc_lns':           2/2    100%    8.14e-01       0.10\n",
      "          'graph_cst_lns':           2/2    100%    8.14e-01       0.10\n",
      "          'graph_dec_lns':           2/2    100%    8.14e-01       0.10\n",
      "          'graph_var_lns':           1/1    100%    7.07e-01       0.10\n",
      "              'rins/rens':           0/0      0%    5.00e-01       0.10\n",
      "            'rnd_cst_lns':           2/2    100%    8.14e-01       0.10\n",
      "            'rnd_var_lns':           0/2    100%    8.14e-01       0.10\n",
      "  'routing_full_path_lns':           1/1      0%    2.93e-01       0.10\n",
      "       'routing_path_lns':           1/1      0%    2.93e-01       0.10\n",
      "     'routing_random_lns':           1/1    100%    7.07e-01       0.10\n",
      "\n",
      "LS stats                                    Batches  Restarts/Perturbs  LinMoves  GenMoves  CompoundMoves  Bactracks  WeightUpdates  ScoreComputed\n",
      "                             'fj_restart':        1                  1     2'068         0              0          0            785         21'914\n",
      "  'fj_restart_decay_compound_perturb_obj':        1                  1         0     2'506            326      1'090              7         29'080\n",
      "                 'ls_lin_restart_perturb':        1                  1       708         0              0          0            331          6'864\n",
      "                       'ls_restart_decay':        1                  1         0         0              0          0              0              0\n",
      "\n",
      "Solutions (39)            Num    Rank\n",
      "           'default_lp':    1   [3,3]\n",
      "                'no_lp':   30  [1,39]\n",
      "        'quick_restart':    2  [2,38]\n",
      "  'quick_restart_no_lp':    6  [9,33]\n",
      "\n",
      "Objective bounds          Num\n",
      "       'initial_domain':    1\n",
      "  'quick_restart_no_lp':    1\n",
      "\n",
      "Solution repositories    Added  Queried  Synchro\n",
      "  'feasible solutions':     83       32       51\n",
      "   'fj solution hints':      0        0        0\n",
      "        'lp solutions':      0        0        0\n",
      "                'pump':      0        0\n",
      "\n",
      "Improving bounds shared      Num  Sym\n",
      "            'default_lp':     40    0\n",
      "                 'no_lp':  1'096    0\n",
      "         'quick_restart':     89    0\n",
      "   'quick_restart_no_lp':    311    0\n",
      "\n",
      "Clauses shared            Num\n",
      "           'default_lp':    8\n",
      "                'no_lp':   14\n",
      "        'quick_restart':    2\n",
      "  'quick_restart_no_lp':    9\n",
      "\n",
      "CpSolverResponse summary:\n",
      "status: OPTIMAL\n",
      "objective: 55\n",
      "best_bound: 55\n",
      "integers: 37\n",
      "booleans: 252\n",
      "conflicts: 0\n",
      "branches: 530\n",
      "propagations: 2986\n",
      "integer_propagations: 4771\n",
      "restarts: 504\n",
      "lp_iterations: 0\n",
      "walltime: 0.0508396\n",
      "usertime: 0.0508397\n",
      "deterministic_time: 0.0641909\n",
      "gap_integral: 0.114155\n",
      "solution_fingerprint: 0xe16901cad6174630\n",
      "\n"
     ]
    }
   ],
   "source": [
    "model1_cpsatarc = ModelCpSatArc(jobs1)\n",
    "model1_cpsatarc.solve()\n",
    "\n",
    "mo.md(f\"makespan = {round(model1_cpsatarc.solver.objective_value)}\")"
   ]
  },
  {
   "cell_type": "code",
   "execution_count": null,
   "id": "EJmg",
   "metadata": {},
   "outputs": [
    {
     "name": "stdout",
     "output_type": "stream",
     "text": [
      "\n",
      "Starting CP-SAT solver v9.13.4784\n",
      "Parameters: max_time_in_seconds: 10 log_search_progress: true\n",
      "Setting number of workers to 12\n",
      "\n",
      "Initial optimization model '': (model_fingerprint: 0x50689656cfb32057)\n",
      "#Variables: 19'203 (#ints: 1 in objective) (19'203 primary variables)\n",
      "  - 18'600 Booleans in [0,1]\n",
      "  - 601 in [0,30657]\n",
      "  - 2 constants in {0,1} \n",
      "#kCircuit: 20\n",
      "#kLinear2: 18'030 (#enforced: 18'000)\n",
      "\n",
      "Starting presolve at 0.00s\n"
     ]
    },
    {
     "name": "stdout",
     "output_type": "stream",
     "text": [
      "  3.56e-03s  0.00e+00d  [DetectDominanceRelations] \n",
      "  2.34e-01s  0.00e+00d  [PresolveToFixPoint] #num_loops=20 #num_dual_strengthening=1 \n",
      "  6.67e-05s  0.00e+00d  [ExtractEncodingFromLinear] \n",
      "  7.38e-04s  0.00e+00d  [DetectDuplicateColumns] \n",
      "  4.57e-04s  0.00e+00d  [DetectDuplicateConstraints] \n"
     ]
    },
    {
     "name": "stdout",
     "output_type": "stream",
     "text": [
      "[Symmetry] Graph for symmetry has 57'022 nodes and 109'799 arcs.\n",
      "[Symmetry] Symmetry computation done. time: 0.00541642 dtime: 0.00701877\n"
     ]
    },
    {
     "name": "stdout",
     "output_type": "stream",
     "text": [
      "  5.36e-04s  0.00e+00d  [DetectDuplicateConstraintsWithDifferentEnforcements] \n",
      "  3.54e-01s  1.85e-01d  [Probe] #probed=37'200 #new_binary_clauses=9'300 \n",
      "  6.20e-05s  0.00e+00d  [MaxClique] \n"
     ]
    },
    {
     "name": "stdout",
     "output_type": "stream",
     "text": [
      "  2.88e-03s  0.00e+00d  [DetectDominanceRelations] \n",
      "  4.50e-02s  0.00e+00d  [PresolveToFixPoint] #num_loops=2 #num_dual_strengthening=1 \n",
      "  2.06e-03s  0.00e+00d  [ProcessAtMostOneAndLinear] \n",
      "  4.90e-04s  0.00e+00d  [DetectDuplicateConstraints] \n",
      "  4.66e-04s  0.00e+00d  [DetectDuplicateConstraintsWithDifferentEnforcements] \n",
      "  1.17e-04s  3.60e-06d  [DetectDominatedLinearConstraints] #relevant_constraints=600 \n",
      "  5.09e-03s  0.00e+00d  [DetectDifferentVariables] #different=600 \n",
      "  1.29e-04s  0.00e+00d  [ProcessSetPPC] \n",
      "  1.47e-04s  0.00e+00d  [FindAlmostIdenticalLinearConstraints] \n",
      "  8.54e-04s  2.61e-04d  [FindBigAtMostOneAndLinearOverlap] \n"
     ]
    },
    {
     "name": "stdout",
     "output_type": "stream",
     "text": [
      "  2.55e-03s  1.60e-03d  [FindBigVerticalLinearOverlap] \n",
      "  6.41e-05s  0.00e+00d  [FindBigHorizontalLinearOverlap] \n",
      "  5.76e-05s  0.00e+00d  [MergeClauses] \n"
     ]
    },
    {
     "name": "stdout",
     "output_type": "stream",
     "text": [
      "  3.49e-03s  0.00e+00d  [DetectDominanceRelations] \n",
      "  3.47e-02s  0.00e+00d  [PresolveToFixPoint] #num_loops=1 #num_dual_strengthening=1 \n"
     ]
    },
    {
     "name": "stdout",
     "output_type": "stream",
     "text": [
      "  3.46e-03s  0.00e+00d  [DetectDominanceRelations] \n",
      "  3.39e-02s  0.00e+00d  [PresolveToFixPoint] #num_loops=1 #num_dual_strengthening=1 \n",
      "  5.24e-04s  0.00e+00d  [DetectDuplicateColumns] \n",
      "  6.35e-04s  0.00e+00d  [DetectDuplicateConstraints] \n",
      "[Symmetry] Graph for symmetry has 91'822 nodes and 161'999 arcs.\n"
     ]
    },
    {
     "name": "stdout",
     "output_type": "stream",
     "text": [
      "[Symmetry] Symmetry computation done. time: 0.0093823 dtime: 0.0201511\n",
      "[SAT presolve] num removable Booleans: 0 / 18600\n",
      "[SAT presolve] num trivial clauses: 0\n",
      "[SAT presolve] [0s] clauses:8700 literals:17400 vars:17400 one_side_vars:17400 simple_definition:0 singleton_clauses:0\n",
      "[SAT presolve] [0.000250194s] clauses:8700 literals:17400 vars:17400 one_side_vars:17400 simple_definition:0 singleton_clauses:0\n",
      "[SAT presolve] [0.000466715s] clauses:8700 literals:17400 vars:17400 one_side_vars:17400 simple_definition:0 singleton_clauses:0\n"
     ]
    },
    {
     "name": "stdout",
     "output_type": "stream",
     "text": [
      "  7.68e-04s  0.00e+00d  [DetectDuplicateConstraintsWithDifferentEnforcements] \n",
      "  3.47e-01s  1.85e-01d  [Probe] #probed=37'200 #new_binary_clauses=600 \n",
      "  9.95e-03s  2.11e-02d  [MaxClique] \n"
     ]
    },
    {
     "name": "stdout",
     "output_type": "stream",
     "text": [
      "  3.46e-03s  0.00e+00d  [DetectDominanceRelations] \n",
      "  3.67e-02s  0.00e+00d  [PresolveToFixPoint] #num_loops=1 #num_dual_strengthening=1 \n",
      "  2.82e-03s  0.00e+00d  [ProcessAtMostOneAndLinear] \n",
      "  6.93e-04s  0.00e+00d  [DetectDuplicateConstraints] \n",
      "  6.69e-04s  0.00e+00d  [DetectDuplicateConstraintsWithDifferentEnforcements] \n",
      "  1.62e-04s  3.60e-06d  [DetectDominatedLinearConstraints] #relevant_constraints=600 \n"
     ]
    },
    {
     "name": "stdout",
     "output_type": "stream",
     "text": [
      "  6.44e-03s  0.00e+00d  [DetectDifferentVariables] #different=600 \n",
      "  1.99e-03s  5.22e-05d  [ProcessSetPPC] #relevant_constraints=8'700 \n",
      "  3.41e-04s  0.00e+00d  [FindAlmostIdenticalLinearConstraints] \n",
      "  3.07e-03s  1.91e-03d  [FindBigAtMostOneAndLinearOverlap] \n",
      "  3.20e-03s  1.69e-03d  [FindBigVerticalLinearOverlap] \n"
     ]
    },
    {
     "name": "stdout",
     "output_type": "stream",
     "text": [
      "  6.24e-04s  0.00e+00d  [FindBigHorizontalLinearOverlap] \n",
      "  2.99e-04s  0.00e+00d  [MergeClauses] \n"
     ]
    },
    {
     "name": "stdout",
     "output_type": "stream",
     "text": [
      "  4.21e-03s  0.00e+00d  [DetectDominanceRelations] \n",
      "  4.05e-02s  0.00e+00d  [PresolveToFixPoint] #num_loops=1 #num_dual_strengthening=1 \n"
     ]
    },
    {
     "name": "stdout",
     "output_type": "stream",
     "text": [
      "  4.19e-03s  0.00e+00d  [DetectDominanceRelations] \n",
      "  4.07e-02s  0.00e+00d  [PresolveToFixPoint] #num_loops=1 #num_dual_strengthening=1 \n",
      "  5.96e-04s  0.00e+00d  [DetectDuplicateColumns] \n",
      "  3.10e-03s  0.00e+00d  [DetectDuplicateConstraints] #duplicates=8'700 \n"
     ]
    },
    {
     "name": "stdout",
     "output_type": "stream",
     "text": [
      "[Symmetry] Graph for symmetry has 91'822 nodes and 161'999 arcs.\n",
      "[Symmetry] Symmetry computation done. time: 0.00992772 dtime: 0.0201511\n"
     ]
    },
    {
     "name": "stdout",
     "output_type": "stream",
     "text": [
      "[SAT presolve] num removable Booleans: 0 / 18600\n",
      "[SAT presolve] num trivial clauses: 0\n",
      "[SAT presolve] [0s] clauses:8700 literals:17400 vars:17400 one_side_vars:17400 simple_definition:0 singleton_clauses:0\n",
      "[SAT presolve] [0.000293296s] clauses:8700 literals:17400 vars:17400 one_side_vars:17400 simple_definition:0 singleton_clauses:0\n",
      "[SAT presolve] [0.000501832s] clauses:8700 literals:17400 vars:17400 one_side_vars:17400 simple_definition:0 singleton_clauses:0\n"
     ]
    },
    {
     "name": "stdout",
     "output_type": "stream",
     "text": [
      "  1.23e-03s  0.00e+00d  [DetectDuplicateConstraintsWithDifferentEnforcements] \n",
      "  3.50e-01s  1.85e-01d  [Probe] #probed=37'200 #new_binary_clauses=600 \n"
     ]
    },
    {
     "name": "stdout",
     "output_type": "stream",
     "text": [
      "  1.18e-02s  2.11e-02d  [MaxClique] \n"
     ]
    },
    {
     "name": "stdout",
     "output_type": "stream",
     "text": [
      "  3.87e-03s  0.00e+00d  [DetectDominanceRelations] \n",
      "  3.85e-02s  0.00e+00d  [PresolveToFixPoint] #num_loops=1 #num_dual_strengthening=1 \n",
      "  4.63e-03s  0.00e+00d  [ProcessAtMostOneAndLinear] \n",
      "  1.11e-03s  0.00e+00d  [DetectDuplicateConstraints] \n",
      "  8.42e-04s  0.00e+00d  [DetectDuplicateConstraintsWithDifferentEnforcements] \n",
      "  2.97e-04s  3.60e-06d  [DetectDominatedLinearConstraints] #relevant_constraints=600 \n"
     ]
    },
    {
     "name": "stdout",
     "output_type": "stream",
     "text": [
      "  5.29e-03s  0.00e+00d  [DetectDifferentVariables] #different=600 \n",
      "  2.77e-03s  5.22e-05d  [ProcessSetPPC] #relevant_constraints=8'700 \n",
      "  6.42e-04s  0.00e+00d  [FindAlmostIdenticalLinearConstraints] \n",
      "  3.36e-03s  1.91e-03d  [FindBigAtMostOneAndLinearOverlap] \n"
     ]
    },
    {
     "name": "stdout",
     "output_type": "stream",
     "text": [
      "  3.82e-03s  1.69e-03d  [FindBigVerticalLinearOverlap] \n",
      "  1.18e-03s  0.00e+00d  [FindBigHorizontalLinearOverlap] \n",
      "  4.17e-04s  0.00e+00d  [MergeClauses] \n"
     ]
    },
    {
     "name": "stdout",
     "output_type": "stream",
     "text": [
      "  4.67e-03s  0.00e+00d  [DetectDominanceRelations] \n",
      "  4.22e-02s  0.00e+00d  [PresolveToFixPoint] #num_loops=1 #num_dual_strengthening=1 \n",
      "  5.52e-04s  0.00e+00d  [ExpandObjective] \n",
      "\n",
      "Presolve summary:\n",
      "  - 0 affine relations were detected.\n",
      "  - rule 'TODO dual: only one blocking constraint?' was applied 178'200 times.\n",
      "  - rule 'TODO dual: only one unspecified blocking constraint?' was applied 9 times.\n",
      "  - rule 'deductions: 26862 stored' was applied 1 time.\n",
      "  - rule 'duplicate: removed constraint' was applied 8'700 times.\n",
      "  - rule 'incompatible linear: add implication' was applied 26'100 times.\n",
      "  - rule 'linear: always true' was applied 30 times.\n",
      "  - rule 'linear: reduced variable domains' was applied 5'733 times.\n",
      "  - rule 'presolve: 2 unused variables removed.' was applied 1 time.\n",
      "  - rule 'presolve: iteration' was applied 3 times.\n"
     ]
    },
    {
     "name": "stdout",
     "output_type": "stream",
     "text": [
      "\n",
      "Presolved optimization model '': (model_fingerprint: 0x66223e856c90b4ba)\n",
      "#Variables: 19'201 (#ints: 1 in objective) (19'200 primary variables)\n",
      "  - 18'600 Booleans in [0,1]\n",
      "  - 596 different domains in [0,30657] with a largest complexity of 1.\n",
      "#kBoolAnd: 17'400 (#enforced: 17'400) (#literals: 34'800)\n",
      "#kCircuit: 20\n",
      "#kLinear2: 18'000 (#enforced: 17'400)\n"
     ]
    },
    {
     "name": "stdout",
     "output_type": "stream",
     "text": [
      "[Symmetry] Graph for symmetry has 91'820 nodes and 161'999 arcs.\n",
      "[Symmetry] Symmetry computation done. time: 0.00891953 dtime: 0.020151\n",
      "\n",
      "Preloading model.\n",
      "#Bound   1.81s best:inf   next:[1251,30657] initial_domain\n"
     ]
    },
    {
     "name": "stdout",
     "output_type": "stream",
     "text": [
      "#Model   1.82s var:19201/19201 constraints:35420/35420\n",
      "\n",
      "Starting search at 1.82s with 12 workers.\n",
      "8 full problem subsolvers: [default_lp, lb_tree_search, max_lp, no_lp, pseudo_costs, quick_restart, quick_restart_no_lp, reduced_costs]\n",
      "4 first solution subsolvers: [fj(2), fs_random, fs_random_no_lp]\n",
      "13 interleaved subsolvers: [feasibility_pump, graph_arc_lns, graph_cst_lns, graph_dec_lns, graph_var_lns, ls, ls_lin, rins/rens, rnd_cst_lns, rnd_var_lns, routing_full_path_lns, routing_path_lns, routing_random_lns]\n",
      "3 helper subsolvers: [neighborhood_helper, synchronization_agent, update_gap_integral]\n",
      "\n"
     ]
    },
    {
     "name": "stdout",
     "output_type": "stream",
     "text": [
      "#Bound   8.27s best:inf   next:[1252,30657] reduced_costs\n"
     ]
    },
    {
     "name": "stdout",
     "output_type": "stream",
     "text": [
      "#1       8.32s best:24255 next:[1252,24254] no_lp\n"
     ]
    },
    {
     "name": "stdout",
     "output_type": "stream",
     "text": [
      "#2       8.67s best:24254 next:[1252,24253] graph_arc_lns (d=5.00e-01 s=235 t=0.10 p=0.00 stall=0 h=base) [hint]\n"
     ]
    },
    {
     "name": "stdout",
     "output_type": "stream",
     "text": [
      "#3       8.86s best:23887 next:[1252,23886] graph_dec_lns (d=5.00e-01 s=237 t=0.10 p=0.00 stall=0 h=base) [hint]\n"
     ]
    },
    {
     "name": "stdout",
     "output_type": "stream",
     "text": [
      "\n",
      "Task timing                        n [     min,      max]      avg      dev     time         n [     min,      max]      avg      dev    dtime\n",
      "             'default_lp':         1 [   8.23s,    8.23s]    8.23s   0.00ns    8.23s         1 [228.05ms, 228.05ms] 228.05ms   0.00ns 228.05ms\n",
      "       'feasibility_pump':        60 [  2.49ms, 200.15ms]   7.10ms  26.74ms 425.79ms        59 [625.76us, 117.24ms]   2.60ms  15.05ms 153.53ms\n",
      "                     'fj':        45 [ 20.05ms, 257.83ms] 136.09ms  85.61ms    6.12s        45 [100.14ms, 111.74ms] 101.31ms   1.86ms    4.56s\n",
      "                     'fj':        58 [ 19.11ms, 252.99ms] 105.49ms  93.28ms    6.12s        58 [100.14ms, 119.97ms] 101.98ms   3.58ms    5.92s\n",
      "              'fs_random':         1 [   6.50s,    6.50s]    6.50s   0.00ns    6.50s         1 [ 10.03ms,  10.03ms]  10.03ms   0.00ns  10.03ms\n",
      "        'fs_random_no_lp':         1 [   6.49s,    6.49s]    6.49s   0.00ns    6.49s         1 [  3.15ms,   3.15ms]   3.15ms   0.00ns   3.15ms\n",
      "          'graph_arc_lns':         1 [310.89ms, 310.89ms] 310.89ms   0.00ns 310.89ms         1 [460.00us, 460.00us] 460.00us   0.00ns 460.00us\n",
      "          'graph_cst_lns':         1 [   1.62s,    1.62s]    1.62s   0.00ns    1.62s         0 [  0.00ns,   0.00ns]   0.00ns   0.00ns   0.00ns\n",
      "          'graph_dec_lns':         1 [186.46ms, 186.46ms] 186.46ms   0.00ns 186.46ms         1 [ 97.10us,  97.10us]  97.10us   0.00ns  97.10us\n",
      "          'graph_var_lns':         1 [442.07ms, 442.07ms] 442.07ms   0.00ns 442.07ms         1 [  1.14ms,   1.14ms]   1.14ms   0.00ns   1.14ms\n",
      "         'lb_tree_search':         1 [   8.21s,    8.21s]    8.21s   0.00ns    8.21s         1 [312.36ms, 312.36ms] 312.36ms   0.00ns 312.36ms\n",
      "                     'ls':         0 [  0.00ns,   0.00ns]   0.00ns   0.00ns   0.00ns         0 [  0.00ns,   0.00ns]   0.00ns   0.00ns   0.00ns\n",
      "                 'ls_lin':         0 [  0.00ns,   0.00ns]   0.00ns   0.00ns   0.00ns         0 [  0.00ns,   0.00ns]   0.00ns   0.00ns   0.00ns\n",
      "                 'max_lp':         1 [   8.18s,    8.18s]    8.18s   0.00ns    8.18s         1 [684.00ms, 684.00ms] 684.00ms   0.00ns 684.00ms\n",
      "                  'no_lp':         1 [   8.19s,    8.19s]    8.19s   0.00ns    8.19s         1 [333.36ms, 333.36ms] 333.36ms   0.00ns 333.36ms\n",
      "           'pseudo_costs':         1 [   8.24s,    8.24s]    8.24s   0.00ns    8.24s         1 [133.13ms, 133.13ms] 133.13ms   0.00ns 133.13ms\n",
      "          'quick_restart':         1 [   8.19s,    8.19s]    8.19s   0.00ns    8.19s         1 [233.46ms, 233.46ms] 233.46ms   0.00ns 233.46ms\n",
      "    'quick_restart_no_lp':         1 [   8.19s,    8.19s]    8.19s   0.00ns    8.19s         1 [361.72ms, 361.72ms] 361.72ms   0.00ns 361.72ms\n",
      "          'reduced_costs':         1 [   8.19s,    8.19s]    8.19s   0.00ns    8.19s         1 [312.60ms, 312.60ms] 312.60ms   0.00ns 312.60ms\n",
      "              'rins/rens':        59 [  6.08ms,   9.19ms]   6.47ms 529.53us 381.93ms         0 [  0.00ns,   0.00ns]   0.00ns   0.00ns   0.00ns\n",
      "            'rnd_cst_lns':         1 [   1.70s,    1.70s]    1.70s   0.00ns    1.70s         0 [  0.00ns,   0.00ns]   0.00ns   0.00ns   0.00ns\n",
      "            'rnd_var_lns':         1 [ 91.51ms,  91.51ms]  91.51ms   0.00ns  91.51ms         1 [ 26.49us,  26.49us]  26.49us   0.00ns  26.49us\n",
      "  'routing_full_path_lns':         0 [  0.00ns,   0.00ns]   0.00ns   0.00ns   0.00ns         0 [  0.00ns,   0.00ns]   0.00ns   0.00ns   0.00ns\n",
      "       'routing_path_lns':         1 [   1.17s,    1.17s]    1.17s   0.00ns    1.17s         0 [  0.00ns,   0.00ns]   0.00ns   0.00ns   0.00ns\n",
      "     'routing_random_lns':         1 [   1.24s,    1.24s]    1.24s   0.00ns    1.24s         0 [  0.00ns,   0.00ns]   0.00ns   0.00ns   0.00ns\n",
      "\n",
      "Search stats               Bools  Conflicts  Branches  Restarts  BoolPropag  IntegerPropag\n",
      "           'default_lp':  18'602          2    13'089    12'780     381'578      4'684'716\n",
      "            'fs_random':  18'600          0    13'275    12'780     377'566      3'855'993\n",
      "      'fs_random_no_lp':  18'600          0    18'583    18'568     548'459      3'283'961\n",
      "       'lb_tree_search':  18'600          0    12'780    12'780     377'010      3'827'690\n",
      "               'max_lp':  18'600          0    12'911    12'780     377'578      3'834'991\n",
      "                'no_lp':  18'729          0    32'021    21'358     720'434      4'307'561\n",
      "         'pseudo_costs':  18'600          1    13'120    12'780     381'898      4'112'242\n",
      "        'quick_restart':  18'600         10    20'514    14'133     470'323      4'462'673\n",
      "  'quick_restart_no_lp':  18'602         11    29'143    21'601     737'865      4'392'611\n",
      "        'reduced_costs':  18'602          1    18'316    15'548     543'626      4'917'658\n",
      "\n",
      "SAT stats                 ClassicMinim  LitRemoved  LitLearned  LitForgotten  Subsumed  MClauses  MDecisions  MLitTrue  MSubsumed  MLitRemoved  MReused\n",
      "           'default_lp':             1          46         360             0         0         0           0         0          0            0        0\n",
      "            'fs_random':             0           0           0             0         0         0           0         0          0            0        0\n",
      "      'fs_random_no_lp':             0           0           0             0         0         0           0         0          0            0        0\n",
      "       'lb_tree_search':             0           0           0             0         0         0           0         0          0            0        0\n",
      "               'max_lp':             0           0           0             0         0         0           0         0          0            0        0\n",
      "                'no_lp':             0           0           0             0         0         0           0         0          0            0        0\n",
      "         'pseudo_costs':             1          17         384             0         0         0           0         0          0            0        0\n",
      "        'quick_restart':             9         590       7'591             0         0         0           0         0          0            0        0\n",
      "  'quick_restart_no_lp':             3          30         481             0         0         0           0         0          0            0        0\n",
      "        'reduced_costs':             0           0           1             0         0         0           0         0          0            0        0\n",
      "\n",
      "Lp stats             Component  Iterations  AddedCuts  OPTIMAL  DUAL_F.  DUAL_U.\n",
      "      'default_lp':         21       2'981          0      182        0        0\n",
      "       'fs_random':         21       3'071          0      208        0        0\n",
      "  'lb_tree_search':          1       8'219      3'905        7        0        0\n",
      "          'max_lp':          1       8'860      1'823        4       35        0\n",
      "    'pseudo_costs':          1       3'193      1'227       25       64        0\n",
      "   'quick_restart':         21       6'850          0    1'412        0        0\n",
      "   'reduced_costs':          1       2'656        581       11        1        0\n",
      "\n",
      "Lp dimension                Final dimension of first component\n",
      "      'default_lp':         62 rows, 930 columns, 1860 entries\n",
      "       'fs_random':         62 rows, 930 columns, 1860 entries\n",
      "  'lb_tree_search':  28095 rows, 19201 columns, 108373 entries\n",
      "          'max_lp':  28040 rows, 19201 columns, 108255 entries\n",
      "    'pseudo_costs':    1699 rows, 19201 columns, 53328 entries\n",
      "   'quick_restart':         62 rows, 930 columns, 1860 entries\n",
      "   'reduced_costs':    1250 rows, 19201 columns, 39356 entries\n",
      "\n",
      "Lp debug             CutPropag  CutEqPropag  Adjust  Overflow     Bad  BadScaling\n",
      "      'default_lp':          0            0       0         0       0           0\n",
      "       'fs_random':          0            0       0         0       0           0\n",
      "  'lb_tree_search':          0            0       0         0  25'037           0\n",
      "          'max_lp':          0            0       0         0  13'042           0\n",
      "    'pseudo_costs':          0            0       0         0   2'417           0\n",
      "   'quick_restart':          0            0       0         0       0           0\n",
      "   'reduced_costs':          0            0       0         0   6'780           0\n",
      "\n",
      "Lp pool              Constraints  Updates  Simplif  Merged  Shortened  Split  Strenghtened    Cuts/Call\n",
      "      'default_lp':        1'840        0        0   1'240          0      0             0          0/0\n",
      "       'fs_random':        1'840        0        0   1'240          0      0             0          0/0\n",
      "  'lb_tree_search':       31'809      328   17'445   1'276          0      0        17'812  3'905/7'575\n",
      "          'max_lp':       29'745      324   17'400   1'258          0      0        17'511  1'823/3'582\n",
      "    'pseudo_costs':       29'167        0   17'400   1'240          0      0        17'400  1'227/1'913\n",
      "   'quick_restart':        1'840        0        0   1'240          0      0             0          0/0\n",
      "   'reduced_costs':       28'519        1   17'401   1'242          0      0        17'401    581/1'240\n",
      "\n",
      "Lp Cut             max_lp  reduced_costs  lb_tree_search  pseudo_costs\n",
      "           CG_FF:      20             44              22            33\n",
      "            CG_K:      20              -              16             -\n",
      "            CG_R:       1              -               4             3\n",
      "           CG_RB:       3              -              14             -\n",
      "         Circuit:     124            205             139           309\n",
      "  CircuitBlossom:       -              2               -             1\n",
      "    CircuitExact:       -              -               1            13\n",
      "          Clique:       3              -               -             1\n",
      "              IB:     100            250             200           840\n",
      "        MIR_1_FF:     217              2             420             -\n",
      "         MIR_1_K:      37              2              50             -\n",
      "         MIR_1_R:      74              -             116             -\n",
      "        MIR_1_RB:      58              -             199             -\n",
      "       MIR_1_RBP:       -              -              13             -\n",
      "        MIR_2_FF:     159              -             352             -\n",
      "         MIR_2_K:       9              -              21             -\n",
      "         MIR_2_R:      60              -             114             -\n",
      "        MIR_2_RB:      50              -             115             -\n",
      "       MIR_2_RBP:       -              -               7             -\n",
      "        MIR_3_FF:     117              -             209             -\n",
      "         MIR_3_K:       4              -              13             -\n",
      "         MIR_3_R:      38              -              80             -\n",
      "        MIR_3_RB:      22              -              67             -\n",
      "       MIR_3_RBP:       -              -               2             -\n",
      "        MIR_4_FF:      96              -             172             -\n",
      "         MIR_4_K:      10              -              14             -\n",
      "         MIR_4_R:      28              -              70             -\n",
      "        MIR_4_RB:      17              -              56             -\n",
      "       MIR_4_RBP:       -              -               4             -\n",
      "        MIR_5_FF:      82             13             154             2\n",
      "         MIR_5_K:       6              -              10             -\n",
      "         MIR_5_R:      29              -              70             -\n",
      "        MIR_5_RB:      16              -              70             -\n",
      "        MIR_6_FF:      44              3              80             2\n",
      "         MIR_6_K:      11              -               9             -\n",
      "         MIR_6_R:      23              -              45             -\n",
      "        MIR_6_RB:      11              -              35             -\n",
      "    ZERO_HALF_FF:     158             60             384            23\n",
      "     ZERO_HALF_K:      23              -              24             -\n",
      "     ZERO_HALF_R:     104              -             296             -\n",
      "    ZERO_HALF_RB:      49              -             236             -\n",
      "   ZERO_HALF_RBP:       -              -               2             -\n",
      "\n",
      "LNS stats                   Improv/Calls  Closed  Difficulty  TimeLimit\n",
      "          'graph_arc_lns':           1/1    100%    7.07e-01       0.10\n",
      "          'graph_cst_lns':           0/0      0%    5.00e-01       0.10\n",
      "          'graph_dec_lns':           1/1    100%    7.07e-01       0.10\n",
      "          'graph_var_lns':           1/1    100%    7.07e-01       0.10\n",
      "              'rins/rens':           0/0      0%    5.00e-01       0.10\n",
      "            'rnd_cst_lns':           0/0      0%    5.00e-01       0.10\n",
      "            'rnd_var_lns':           0/1    100%    7.07e-01       0.10\n",
      "  'routing_full_path_lns':           0/0      0%    5.00e-01       0.10\n",
      "       'routing_path_lns':           0/0      0%    5.00e-01       0.10\n",
      "     'routing_random_lns':           0/0      0%    5.00e-01       0.10\n",
      "\n",
      "LS stats                                    Batches  Restarts/Perturbs  LinMoves  GenMoves  CompoundMoves  Bactracks  WeightUpdates  ScoreComputed\n",
      "                             'fj_restart':        4                  3    16'440         0              0          0             95      2'088'681\n",
      "                    'fj_restart_compound':        4                  3         0     1'098            388          0              0         41'945\n",
      "                'fj_restart_compound_obj':        2                  1         0       406            384          0              0         21'341\n",
      "            'fj_restart_compound_perturb':        2                  2         0       600            591          0              0         21'168\n",
      "        'fj_restart_compound_perturb_obj':        1                  1         0       317            304          0              0         10'629\n",
      "                       'fj_restart_decay':        4                  3    17'759         0              0          0             53      1'920'542\n",
      "              'fj_restart_decay_compound':        5                  4         0     1'458          1'054          0              0         51'791\n",
      "          'fj_restart_decay_compound_obj':       12                  3         0     1'224            826          0              0        134'906\n",
      "      'fj_restart_decay_compound_perturb':       13                  6         0     2'632          2'598          0              0        140'650\n",
      "  'fj_restart_decay_compound_perturb_obj':        9                  5         0     1'866          1'786          0              0         97'015\n",
      "                   'fj_restart_decay_obj':       13                  4    61'534         0              0          0            181      5'994'349\n",
      "               'fj_restart_decay_perturb':        5                  4    22'222         0              0          0             61      2'424'300\n",
      "           'fj_restart_decay_perturb_obj':        5                  4    22'277         0              0          0             60      2'421'707\n",
      "                         'fj_restart_obj':       13                  5    53'517         0              0          0            375      6'835'888\n",
      "                     'fj_restart_perturb':        2                  1     8'116         0              0          0             51      1'062'459\n",
      "                 'fj_restart_perturb_obj':        9                  3    37'431         0              0          0            253      4'748'810\n",
      "\n",
      "Solutions (3)       Num   Rank\n",
      "  'graph_arc_lns':    1  [2,2]\n",
      "  'graph_dec_lns':    1  [3,3]\n",
      "          'no_lp':    1  [1,1]\n",
      "\n",
      "Objective bounds     Num\n",
      "  'initial_domain':    1\n",
      "   'reduced_costs':    1\n",
      "\n",
      "Solution repositories    Added  Queried  Synchro\n",
      "  'feasible solutions':      7       16        7\n",
      "   'fj solution hints':     44        0       44\n",
      "        'lp solutions':      4        0        4\n",
      "                'pump':     59       59\n",
      "\n",
      "Improving bounds shared    Num  Sym\n",
      "            'default_lp':    1    0\n",
      "                 'no_lp':  601    0\n",
      "          'pseudo_costs':  601    0\n",
      "         'quick_restart':  601    0\n",
      "\n",
      "Clauses shared            Num\n",
      "  'quick_restart_no_lp':    1\n",
      "\n",
      "CpSolverResponse summary:\n",
      "status: FEASIBLE\n",
      "objective: 23887\n",
      "best_bound: 1252\n",
      "integers: 601\n",
      "booleans: 18600\n",
      "conflicts: 0\n",
      "branches: 18583\n",
      "propagations: 548459\n",
      "integer_propagations: 3283961\n",
      "restarts: 18568\n",
      "lp_iterations: 0\n",
      "walltime: 10.0772\n",
      "usertime: 10.0772\n",
      "deterministic_time: 13.8469\n",
      "gap_integral: 135.506\n",
      "solution_fingerprint: 0x6bdfadc912c63299\n",
      "\n"
     ]
    }
   ],
   "source": [
    "model3_cpsatarc = ModelCpSatArc(jobs3)\n",
    "model3_cpsatarc.solve(timeout=10)\n",
    "\n",
    "mo.md(f\"makespan = {round(model3_cpsatarc.solver.objective_value)}\")"
   ]
  },
  {
   "cell_type": "markdown",
   "id": "UmEG",
   "metadata": {
    "marimo": {
     "config": {
      "hide_code": true
     }
    }
   },
   "source": [
    "なんか全然ダメだった...\n",
    "\n",
    "区間変数より circuit constraint の方がいい場合もあるらしい[^1]が, 今回はダメそう.\n",
    "\n",
    "[^1]: https://d-krupke.github.io/cpsat-primer/04B_advanced_modelling.html"
   ]
  }
 ],
 "metadata": {},
 "nbformat": 4,
 "nbformat_minor": 5
}
