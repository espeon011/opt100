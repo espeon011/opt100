{
 "cells": [
  {
   "cell_type": "code",
   "execution_count": null,
   "id": "Hbol",
   "metadata": {},
   "outputs": [],
   "source": [
    "import marimo as mo"
   ]
  },
  {
   "cell_type": "code",
   "execution_count": null,
   "id": "MJUe",
   "metadata": {},
   "outputs": [],
   "source": [
    "import os\n",
    "from typing import Self\n",
    "from pathlib import Path\n",
    "import pydantic\n",
    "import highspy\n",
    "from ortools.sat.python import cp_model"
   ]
  },
  {
   "cell_type": "markdown",
   "id": "vblA",
   "metadata": {
    "marimo": {
     "config": {
      "hide_code": true
     }
    }
   },
   "source": [
    "# 資源制約付きプロジェクトスケジューリング問題"
   ]
  },
  {
   "cell_type": "markdown",
   "id": "bkHC",
   "metadata": {
    "marimo": {
     "config": {
      "hide_code": true
     }
    }
   },
   "source": [
    "### 入力データ\n",
    "\n",
    "- ジョブの集合 $\\mathrm{Job}$, 添字は $j, k$\n",
    "- 資源の集合 $\\mathrm{Res}$, 添字は $r$\n",
    "- ジョブ間の時間成約を表す集合 $\\mathrm{Prec} \\subset \\mathrm{Job} \\times \\mathrm{Job}$\n",
    "    - $(j,k) \\in \\mathrm{Prec}$ のとき ジョブ $j$ とジョブ $k$ の時刻間に何かしらの関係がある.\n",
    "- 最大の期数 $T$, 添字は $t, s \\in \\{1, \\dots, T \\}$\n",
    "    - 期間 $t$ は時刻 $t-1$ から時刻 $t$ までであるとする.\n",
    "- ジョブ $j$ の処理時間 $p_j$\n",
    "- ジョブ $j$ を期 $t$ に開始したときの費用 $\\mathrm{Cost}_{jt}$\n",
    "- ジョブ $j$ の開始後 $t$ 期経過時の処理に要する資源 $r$ の量 $a_{jrt}$\n",
    "- 期 $t$ における資源 $r$ の使用可能量上限 $\\mathrm{RUB}_{rt}$"
   ]
  },
  {
   "cell_type": "markdown",
   "id": "lEQa",
   "metadata": {
    "marimo": {
     "config": {
      "hide_code": true
     }
    }
   },
   "source": [
    "### 変数\n",
    "\n",
    "- $x_{jt} \\in \\{ 0, 1 \\}$: ジョブ $j$ を期 $t$ に開始するとき $1$, それ以外は $0$"
   ]
  },
  {
   "cell_type": "markdown",
   "id": "PKri",
   "metadata": {
    "marimo": {
     "config": {
      "hide_code": true
     }
    }
   },
   "source": [
    "### 目的関数\n",
    "\n",
    "$$\n",
    "\\min \\sum_{j \\in \\mathrm{Job}} \\sum_{t=1}^{T-p_j+1} \\mathrm{Cost}_{jt} x_{jt}\n",
    "$$"
   ]
  },
  {
   "cell_type": "markdown",
   "id": "Xref",
   "metadata": {
    "marimo": {
     "config": {
      "hide_code": true
     }
    }
   },
   "source": [
    "### 制約条件\n",
    "\n",
    "- ジョブ遂行成約:\n",
    "  $\\sum_{t=1}^{T-p_j+1} x_{jt} = 1 \\quad (\\forall j \\in \\mathrm{Job})$\n",
    "- 資源成約:\n",
    "  $\\sum_{j \\in \\mathrm{Job}} \\sum_{s = \\max(t - p_j + 1, 1)}^{\\min(t, T - p_j + 1)} a_{jr,t-s} x_{js} \\leq \\mathrm{RUB}_{rt} \\quad (\\forall r \\in \\mathrm{Res}, \\forall t \\in \\{ 1, \\dots, T \\})$\n",
    "- 時間制約: $\\sum_{t=2}^{T-p_j+1} (t-1)x_{jt} + p_j \\leq \\sum_{t=2}^{T-p_k+1} (t-1) x_{kt} \\quad (\\forall (j,k) \\in \\mathrm{Prec})$"
   ]
  },
  {
   "cell_type": "code",
   "execution_count": null,
   "id": "SFPL",
   "metadata": {
    "marimo": {
     "name": "*multidict"
    }
   },
   "outputs": [],
   "source": [
    "# https://scmopt.github.io/manual/15mypulp.html#multidict%E9%96%A2%E6%95%B0\n",
    "\n",
    "def multidict(d: dict):\n",
    "    ret = [list(d.keys())]\n",
    "    for k, arr in d.items():\n",
    "        if type(arr) is not list:\n",
    "            arr = [arr]\n",
    "        append_num = 1 + len(arr) - len(ret)\n",
    "        if append_num > 0:\n",
    "            ret = ret + [{} for _ in range(append_num)]\n",
    "        for i, val in enumerate(arr):\n",
    "            ret[i + 1][k] = val\n",
    "    return ret"
   ]
  },
  {
   "cell_type": "code",
   "execution_count": null,
   "id": "BYtC",
   "metadata": {
    "marimo": {
     "name": "*make_1r"
    }
   },
   "outputs": [],
   "source": [
    "def make_1r():\n",
    "    J, p = multidict(\n",
    "        {  # jobs, processing times\n",
    "            1: 1,\n",
    "            2: 3,\n",
    "            3: 2,\n",
    "            4: 2,\n",
    "        }\n",
    "    )\n",
    "    P = [(1, 2), (1, 3), (2, 4)]\n",
    "    R = [1]\n",
    "    T = 6\n",
    "    c = {}\n",
    "    for j in J:\n",
    "        for t in range(1, T - p[j] + 2):\n",
    "            c[j, t] = 1 * (t - 1 + p[j])\n",
    "    a = {\n",
    "        (1, 1, 0): 2,\n",
    "        (2, 1, 0): 2,\n",
    "        (2, 1, 1): 1,\n",
    "        (2, 1, 2): 1,\n",
    "        (3, 1, 0): 1,\n",
    "        (3, 1, 1): 1,\n",
    "        (4, 1, 0): 1,\n",
    "        (4, 1, 1): 2,\n",
    "    }\n",
    "    RUB = {(1, 1): 2, (1, 2): 2, (1, 3): 1, (1, 4): 2, (1, 5): 2, (1, 6): 2}\n",
    "    return (J, P, R, T, p, c, a, RUB)"
   ]
  },
  {
   "cell_type": "code",
   "execution_count": null,
   "id": "RGSE",
   "metadata": {
    "marimo": {
     "name": "*make_2r"
    }
   },
   "outputs": [],
   "source": [
    "def make_2r():\n",
    "    J, p = multidict(\n",
    "        {  # jobs, processing times\n",
    "            1: 2,\n",
    "            2: 2,\n",
    "            3: 3,\n",
    "            4: 2,\n",
    "            5: 5,\n",
    "        }\n",
    "    )\n",
    "    P = [(1, 2), (1, 3), (2, 4)]\n",
    "    R = [1, 2]\n",
    "    T = 6\n",
    "    c = {}\n",
    "    for j in J:\n",
    "        for t in range(1, T - p[j] + 2):\n",
    "            c[j, t] = 1 * (t - 1 + p[j])\n",
    "    a = {\n",
    "        # resource 1:\n",
    "        (1, 1, 0): 2,\n",
    "        (1, 1, 1): 2,\n",
    "        (2, 1, 0): 1,\n",
    "        (2, 1, 1): 1,\n",
    "        (3, 1, 0): 1,\n",
    "        (3, 1, 1): 1,\n",
    "        (3, 1, 2): 1,\n",
    "        (4, 1, 0): 1,\n",
    "        (4, 1, 1): 1,\n",
    "        (5, 1, 0): 0,\n",
    "        (5, 1, 1): 0,\n",
    "        (5, 1, 2): 1,\n",
    "        (5, 1, 3): 0,\n",
    "        (5, 1, 4): 0,\n",
    "        # resource 2:\n",
    "        (1, 2, 0): 1,\n",
    "        (1, 2, 1): 0,\n",
    "        (2, 2, 0): 1,\n",
    "        (2, 2, 1): 1,\n",
    "        (3, 2, 0): 0,\n",
    "        (3, 2, 1): 0,\n",
    "        (3, 2, 2): 0,\n",
    "        (4, 2, 0): 1,\n",
    "        (4, 2, 1): 2,\n",
    "        (5, 2, 0): 1,\n",
    "        (5, 2, 1): 2,\n",
    "        (5, 2, 2): 1,\n",
    "        (5, 2, 3): 1,\n",
    "        (5, 2, 4): 1,\n",
    "    }\n",
    "    RUB = {\n",
    "        (1, 1): 2,\n",
    "        (1, 2): 2,\n",
    "        (1, 3): 2,\n",
    "        (1, 4): 2,\n",
    "        (1, 5): 2,\n",
    "        (1, 6): 2,\n",
    "        (1, 7): 2,\n",
    "        (2, 1): 2,\n",
    "        (2, 2): 2,\n",
    "        (2, 3): 2,\n",
    "        (2, 4): 2,\n",
    "        (2, 5): 2,\n",
    "        (2, 6): 2,\n",
    "        (2, 7): 2,\n",
    "    }\n",
    "    return (J, P, R, T, p, c, a, RUB)"
   ]
  },
  {
   "cell_type": "markdown",
   "id": "Kclp",
   "metadata": {
    "marimo": {
     "config": {
      "hide_code": true
     }
    }
   },
   "source": [
    "## HiGHS によるモデリング"
   ]
  },
  {
   "cell_type": "code",
   "execution_count": null,
   "id": "emfo",
   "metadata": {},
   "outputs": [],
   "source": [
    "class Model1Highs:\n",
    "    def __init__(self, J, P, R, T, p, c, a, RUB):\n",
    "        self.model = highspy.Highs()\n",
    "\n",
    "        # s - start time variable\n",
    "        # x=1 if job j starts on period t\n",
    "        self.s, self.x = {}, {}\n",
    "        for j in J:\n",
    "            self.s[j] = self.model.addVariable()\n",
    "            for t in range(1, T - p[j] + 2):\n",
    "                self.x[j, t] = self.model.addBinary()\n",
    "\n",
    "        for j in J:\n",
    "            # job execution constraints\n",
    "            self.model.addConstr(\n",
    "                sum(self.x[j, t] for t in range(1, T - p[j] + 2)) == 1\n",
    "            )\n",
    "\n",
    "            # start time constraints\n",
    "            self.model.addConstr(\n",
    "                sum((t - 1) * self.x[j, t] for t in range(2, T - p[j] + 2)) == self.s[j]\n",
    "            )\n",
    "\n",
    "        # resource upper bound constraints\n",
    "        for t in range(1, T+1):\n",
    "            for r in R:\n",
    "                self.model.addConstr(\n",
    "                    sum(\n",
    "                        a[j, r, t - t_] * self.x[j, t_]\n",
    "                        for j in J\n",
    "                        for t_ in range(max(t - p[j] + 1, 1), min(t + 1, T - p[j] + 2))\n",
    "                    )\n",
    "                    <= RUB[r, t]\n",
    "                )\n",
    "\n",
    "        # time (precedence) constraints, i.e., s[k]-s[j] >= p[j]\n",
    "        for (j, k) in P:\n",
    "            self.model.addConstr(self.s[k] - self.s[j] >= p[j])\n",
    "\n",
    "        self.objective = sum(c[j, t] * self.x[j, t] for (j, t) in self.x)\n",
    "        # self.model.minimize(self.objective)\n",
    "\n",
    "    def solve(self) -> None:\n",
    "        # self.model.run()\n",
    "        self.model.minimize(self.objective)\n",
    "        self.solution = self.model.getSolution()\n",
    "        self.info = self.model.getInfo()"
   ]
  },
  {
   "cell_type": "code",
   "execution_count": null,
   "id": "Hstk",
   "metadata": {},
   "outputs": [
    {
     "name": "stdout",
     "output_type": "stream",
     "text": [
      "Running HiGHS 1.11.0 (git hash: 364c83a): Copyright (c) 2025 HiGHS under MIT licence terms\n",
      "MIP  has 17 rows; 24 cols; 84 nonzeros; 20 integer variables (20 binary)\n",
      "Coefficient ranges:\n",
      "  Matrix [1e+00, 5e+00]\n",
      "  Cost   [1e+00, 6e+00]\n",
      "  Bound  [1e+00, 1e+00]\n",
      "  RHS    [1e+00, 3e+00]\n",
      "Presolving model\n",
      "17 rows, 21 cols, 72 nonzeros  0s\n",
      "14 rows, 18 cols, 67 nonzeros  0s\n",
      "12 rows, 14 cols, 59 nonzeros  0s\n",
      "0 rows, 0 cols, 0 nonzeros  0s\n",
      "Presolve: Optimal\n",
      "\n",
      "Src: B => Branching; C => Central rounding; F => Feasibility pump; J => Feasibility jump;\n",
      "     H => Heuristic; L => Sub-MIP; P => Empty MIP; R => Randomized rounding; Z => ZI Round;\n",
      "     I => Shifting; S => Solve LP; T => Evaluate node; U => Unbounded; X => User solution;\n",
      "     z => Trivial zero; l => Trivial lower; u => Trivial upper; p => Trivial point\n",
      "\n",
      "        Nodes      |    B&B Tree     |            Objective Bounds              |  Dynamic Constraints |       Work      \n",
      "Src  Proc. InQueue |  Leaves   Expl. | BestBound       BestSol              Gap |   Cuts   InLp Confl. | LpIters     Time\n",
      "\n",
      "         0       0         0   0.00%   16              16                 0.00%        0      0      0         0     0.0s\n",
      "\n",
      "Solving report\n",
      "  Status            Optimal\n",
      "  Primal bound      16\n",
      "  Dual bound        16\n",
      "  Gap               0% (tolerance: 0.01%)\n",
      "  P-D integral      0\n",
      "  Solution status   feasible\n",
      "                    16 (objective)\n",
      "                    0 (bound viol.)\n",
      "                    0 (int. viol.)\n",
      "                    0 (row viol.)\n",
      "  Timing            0.00 (total)\n",
      "                    0.00 (presolve)\n",
      "                    0.00 (solve)\n",
      "                    0.00 (postsolve)\n",
      "  Max sub-MIP depth 0\n",
      "  Nodes             0\n",
      "  Repair LPs        0 (0 feasible; 0 iterations)\n",
      "  LP iterations     0 (total)\n",
      "                    0 (strong br.)\n",
      "                    0 (separation)\n",
      "                    0 (heuristics)\n"
     ]
    }
   ],
   "source": [
    "(J1, P1, R1, T1, p1, c1, a1, RUB1) = make_1r()\n",
    "model1 = Model1Highs(J1, P1, R1, T1, p1, c1, a1, RUB1)\n",
    "\n",
    "model1.solve()"
   ]
  },
  {
   "cell_type": "code",
   "execution_count": null,
   "id": "nWHF",
   "metadata": {},
   "outputs": [
    {
     "name": "stdout",
     "output_type": "stream",
     "text": [
      "Opt.value = 16.0\n",
      "x[1,1] = 1.0\n",
      "x[2,2] = 1.0\n",
      "x[3,4] = 1.0\n",
      "x[4,5] = 1.0\n",
      "s[1] = 0.0\n",
      "s[2] = 1.0\n",
      "s[3] = 3.0\n",
      "s[4] = 4.0\n"
     ]
    }
   ],
   "source": [
    "print (f\"Opt.value = {model1.info.objective_function_value}\")\n",
    "\n",
    "for (_j, _t) in model1.x:\n",
    "    _val = model1.solution.col_value[model1.x[_j, _t].index]\n",
    "    if _val > 0.5:\n",
    "        print(f\"x[{_j},{_t}] = {_val}\")\n",
    "\n",
    "for _j in model1.s:\n",
    "    _val = model1.solution.col_value[model1.s[_j].index]\n",
    "    print(f\"s[{_j}] = {_val}\")"
   ]
  },
  {
   "cell_type": "code",
   "execution_count": null,
   "id": "iLit",
   "metadata": {},
   "outputs": [
    {
     "name": "stdout",
     "output_type": "stream",
     "text": [
      "Running HiGHS 1.11.0 (git hash: 364c83a): Copyright (c) 2025 HiGHS under MIT licence terms\n",
      "MIP  has 25 rows; 26 cols; 127 nonzeros; 21 integer variables (21 binary)\n",
      "Coefficient ranges:\n",
      "  Matrix [1e+00, 4e+00]\n",
      "  Cost   [2e+00, 6e+00]\n",
      "  Bound  [1e+00, 1e+00]\n",
      "  RHS    [1e+00, 2e+00]\n",
      "Presolving model\n",
      "23 rows, 20 cols, 94 nonzeros  0s\n",
      "0 rows, 0 cols, 0 nonzeros  0s\n",
      "Presolve: Optimal\n",
      "\n",
      "Src: B => Branching; C => Central rounding; F => Feasibility pump; J => Feasibility jump;\n",
      "     H => Heuristic; L => Sub-MIP; P => Empty MIP; R => Randomized rounding; Z => ZI Round;\n",
      "     I => Shifting; S => Solve LP; T => Evaluate node; U => Unbounded; X => User solution;\n",
      "     z => Trivial zero; l => Trivial lower; u => Trivial upper; p => Trivial point\n",
      "\n",
      "        Nodes      |    B&B Tree     |            Objective Bounds              |  Dynamic Constraints |       Work      \n",
      "Src  Proc. InQueue |  Leaves   Expl. | BestBound       BestSol              Gap |   Cuts   InLp Confl. | LpIters     Time\n",
      "\n",
      "         0       0         0   0.00%   23              23                 0.00%        0      0      0         0     0.0s\n",
      "\n",
      "Solving report\n",
      "  Status            Optimal\n",
      "  Primal bound      23\n",
      "  Dual bound        23\n",
      "  Gap               0% (tolerance: 0.01%)\n",
      "  P-D integral      0\n",
      "  Solution status   feasible\n",
      "                    23 (objective)\n",
      "                    0 (bound viol.)\n",
      "                    0 (int. viol.)\n",
      "                    0 (row viol.)\n",
      "  Timing            0.00 (total)\n",
      "                    0.00 (presolve)\n",
      "                    0.00 (solve)\n",
      "                    0.00 (postsolve)\n",
      "  Max sub-MIP depth 0\n",
      "  Nodes             0\n",
      "  Repair LPs        0 (0 feasible; 0 iterations)\n",
      "  LP iterations     0 (total)\n",
      "                    0 (strong br.)\n",
      "                    0 (separation)\n",
      "                    0 (heuristics)\n"
     ]
    }
   ],
   "source": [
    "(J2, P2, R2, T2, p2, c2, a2, RUB2) = make_2r()\n",
    "model2 = Model1Highs(J2, P2, R2, T2, p2, c2, a2, RUB2)\n",
    "\n",
    "model2.solve()"
   ]
  },
  {
   "cell_type": "code",
   "execution_count": null,
   "id": "ZHCJ",
   "metadata": {},
   "outputs": [
    {
     "name": "stdout",
     "output_type": "stream",
     "text": [
      "Opt.value = 23.0\n",
      "x[1,1] = 1.0\n",
      "x[2,3] = 1.0\n",
      "x[3,4] = 1.0\n",
      "x[4,5] = 1.0\n",
      "x[5,1] = 1.0\n",
      "s[1] = 0.0\n",
      "s[2] = 2.0\n",
      "s[3] = 3.0\n",
      "s[4] = 4.0\n",
      "s[5] = 0.0\n"
     ]
    }
   ],
   "source": [
    "print (f\"Opt.value = {model2.info.objective_function_value}\")\n",
    "\n",
    "for (_j, _t) in model2.x:\n",
    "    _val = model2.solution.col_value[model2.x[_j, _t].index]\n",
    "    if _val > 0.5:\n",
    "        print(f\"x[{_j},{_t}] = {_val}\")\n",
    "\n",
    "for _j in model2.s:\n",
    "    _val = model2.solution.col_value[model2.s[_j].index]\n",
    "    print(f\"s[{_j}] = {_val}\")"
   ]
  },
  {
   "cell_type": "markdown",
   "id": "ROlb",
   "metadata": {
    "marimo": {
     "config": {
      "hide_code": true
     }
    }
   },
   "source": [
    "## インスタンス"
   ]
  },
  {
   "cell_type": "markdown",
   "id": "qnkX",
   "metadata": {
    "marimo": {
     "config": {
      "hide_code": true
     }
    }
   },
   "source": [
    "### kobe-scheduling\n",
    "\n",
    "- リンク: https://github.com/ptal/kobe-scheduling\n",
    "- データフォーマットはデータによって異なり, 特に説明もない.\n",
    "  https://github.com/ptal/kobe-scheduling/data/rcpsp/patterson.rcp であれば (多分)\n",
    "    - 1 行目: ジョブの数, リソースの種類\n",
    "    - 3 行目: 各リソースの上限値\n",
    "    - 5 行目以降: ジョブの情報が並ぶ.\n",
    "      処理時間, [リソースの消費数, ...], 後続ジョブ数, [後続ジョブ番号, ...]\n",
    "- 目的関数は makespan (多分)"
   ]
  },
  {
   "cell_type": "code",
   "execution_count": null,
   "id": "TqIu",
   "metadata": {},
   "outputs": [],
   "source": [
    "parent = str(Path(os.path.abspath(__file__)).parent)\n",
    "data_dir = Path(parent, \"kobe-scheduling\", \"data\", \"rcpsp\", \"patterson.rcp\")"
   ]
  },
  {
   "cell_type": "code",
   "execution_count": null,
   "id": "Vxnm",
   "metadata": {},
   "outputs": [],
   "source": [
    "class Job(pydantic.BaseModel):\n",
    "    model_config = pydantic.ConfigDict(frozen=True)\n",
    "    id: int\n",
    "    time: int\n",
    "    res_usages: list[int]\n",
    "\n",
    "class Resource(pydantic.BaseModel):\n",
    "    model_config = pydantic.ConfigDict(frozen=True)\n",
    "    ub: int\n",
    "\n",
    "class Condition(pydantic.BaseModel):\n",
    "    model_config = pydantic.ConfigDict(frozen=True)\n",
    "    jobs: list[Job]\n",
    "    ress: list[Resource]\n",
    "    prec: set[tuple[int,int]]\n",
    "\n",
    "    @staticmethod\n",
    "    def from_file(filepath) -> Self:\n",
    "        prec = set()\n",
    "        with open(filepath) as f:\n",
    "            _njobs, _nress = map(lambda s: int(s), f.readline().split())\n",
    "\n",
    "            f.readline()\n",
    "\n",
    "            resubs = list(map(lambda s: int(s), f.readline().split()))\n",
    "\n",
    "            ress = [Resource(ub=resub) for resub in resubs]\n",
    "\n",
    "            jobs = []\n",
    "            job_id = 0\n",
    "            while (line := f.readline()):\n",
    "                datas = list(map(lambda s: int(s), line.split()))\n",
    "                if len(datas) == 0:\n",
    "                    continue\n",
    "\n",
    "                idx = 0\n",
    "                time = datas[idx]\n",
    "                idx += 1\n",
    "                res_usages = [datas[idx + jdx] for jdx in range(_nress)]\n",
    "                idx += _nress\n",
    "\n",
    "                # 次から始まる数値列の長さなのでスキップ\n",
    "                idx += 1\n",
    "\n",
    "                while idx < len(datas):\n",
    "                    prec.add((job_id, datas[idx] - 1))\n",
    "                    idx += 1\n",
    "\n",
    "                jobs.append(Job(id=job_id, time=time, res_usages=res_usages))\n",
    "                job_id += 1\n",
    "\n",
    "        return Condition(jobs=jobs, ress=ress, prec=prec)"
   ]
  },
  {
   "cell_type": "code",
   "execution_count": null,
   "id": "DnEU",
   "metadata": {},
   "outputs": [],
   "source": [
    "_filepath = data_dir / Path(\"pat1.rcp\")\n",
    "cond1 = Condition.from_file(_filepath)"
   ]
  },
  {
   "cell_type": "code",
   "execution_count": null,
   "id": "ulZA",
   "metadata": {},
   "outputs": [
    {
     "data": {
      "application/json": "{\"jobs\": [{\"id\": 0, \"time\": 0, \"res_usages\": [0, 0, 0]}, {\"id\": 1, \"time\": 6, \"res_usages\": [1, 0, 0]}, {\"id\": 2, \"time\": 4, \"res_usages\": [0, 0, 0]}, {\"id\": 3, \"time\": 3, \"res_usages\": [0, 0, 0]}, {\"id\": 4, \"time\": 1, \"res_usages\": [0, 0, 0]}, {\"id\": 5, \"time\": 6, \"res_usages\": [1, 0, 1]}, {\"id\": 6, \"time\": 2, \"res_usages\": [1, 0, 0]}, {\"id\": 7, \"time\": 1, \"res_usages\": [0, 0, 0]}, {\"id\": 8, \"time\": 4, \"res_usages\": [0, 1, 1]}, {\"id\": 9, \"time\": 3, \"res_usages\": [0, 0, 1]}, {\"id\": 10, \"time\": 2, \"res_usages\": [0, 0, 1]}, {\"id\": 11, \"time\": 3, \"res_usages\": [0, 1, 0]}, {\"id\": 12, \"time\": 5, \"res_usages\": [0, 0, 0]}, {\"id\": 13, \"time\": 0, \"res_usages\": [0, 0, 0]}], \"ress\": [{\"ub\": 2}, {\"ub\": 1}, {\"ub\": 2}], \"prec\": \"text/plain+set:{(4, 9), (3, 7), (12, 13), (3, 10), (0, 2), (9, 11), (2, 5), (1, 9), (0, 1), (2, 4), (10, 11), (1, 8), (6, 7), (7, 12), (6, 10), (5, 11), (0, 3), (8, 13), (11, 12), (2, 6)}\"}"
     },
     "metadata": {},
     "output_type": "display_data"
    }
   ],
   "source": [
    "cond1.model_dump()"
   ]
  },
  {
   "cell_type": "code",
   "execution_count": null,
   "id": "ecfG",
   "metadata": {},
   "outputs": [],
   "source": [
    "class Model2Highs:\n",
    "    def __init__(self, cond: Condition):\n",
    "        self.model = highspy.Highs()\n",
    "\n",
    "        horizon = sum(job.time for job in cond.jobs)\n",
    "\n",
    "        # s[j]: ジョブ j の開始期\n",
    "        self.s = [self.model.addVariable(ub=horizon - 1) for job in cond.jobs]\n",
    "        # e[j]: ジョブ j の終了期 \"の次の期\"\n",
    "        self.e = [self.s[jdx] + job.time for jdx, job in enumerate(cond.jobs)]\n",
    "        # x[j][t]: ジョブ j を期 t に開始する時だけ 1\n",
    "        self.x = [[self.model.addBinary() for t in range(horizon)] for job in cond.jobs]\n",
    "\n",
    "        # 各ジョブは必ず処理される\n",
    "        for jdx, job in enumerate(cond.jobs):\n",
    "            self.model.addConstr(\n",
    "                sum(self.x[jdx][t] for t in range(horizon - max(0, job.time - 1))) == 1\n",
    "            )\n",
    "            for t in range(horizon - max(0, job.time - 1), horizon):\n",
    "                self.model.addConstr(self.x[jdx][t] == 0)\n",
    "\n",
    "        # s と x の関係\n",
    "        self.model.addConstrs(\n",
    "            [\n",
    "                sum(t * self.x[jdx][t] for t in range(horizon)) == self.s[jdx]\n",
    "                for jdx, _ in enumerate(cond.jobs)\n",
    "            ]\n",
    "        )\n",
    "\n",
    "        # ジョブ依存関係\n",
    "        for idx, jdx in cond.prec:\n",
    "            self.model.addConstr(self.e[idx] <= self.s[jdx])\n",
    "\n",
    "        # 資源制約\n",
    "        for id_res, res in enumerate(cond.ress):\n",
    "            for t in range(horizon):\n",
    "                self.model.addConstr(\n",
    "                    sum(\n",
    "                        sum(\n",
    "                            self.x[id_job][_t]\n",
    "                            for _t in range(max(0, t - job.time + 1), t + 1)\n",
    "                        ) * job.res_usages[id_res]\n",
    "                        for id_job, job in enumerate(cond.jobs)\n",
    "                    ) <= res.ub\n",
    "                )\n",
    "\n",
    "        # 目的関数: makespan\n",
    "        self.objective = self.model.addVariable(ub=horizon)\n",
    "        for jdx, job in enumerate(cond.jobs):\n",
    "            self.model.addConstr(self.objective >= self.e[jdx])\n",
    "\n",
    "    def solve(self) -> None:\n",
    "        # self.model.run()\n",
    "        self.model.minimize(self.objective)\n",
    "        self.solution = self.model.getSolution()\n",
    "        self.info = self.model.getInfo()"
   ]
  },
  {
   "cell_type": "code",
   "execution_count": null,
   "id": "Pvdt",
   "metadata": {},
   "outputs": [
    {
     "name": "stdout",
     "output_type": "stream",
     "text": [
      "Running HiGHS 1.11.0 (git hash: 364c83a): Copyright (c) 2025 HiGHS under MIT licence terms\n",
      "MIP  has 210 rows; 575 cols; 2563 nonzeros; 560 integer variables (560 binary)\n",
      "Coefficient ranges:\n",
      "  Matrix [1e+00, 4e+01]\n",
      "  Cost   [1e+00, 1e+00]\n",
      "  Bound  [1e+00, 4e+01]\n",
      "  RHS    [1e+00, 6e+00]\n",
      "Presolving model\n",
      "182 rows, 547 cols, 2442 nonzeros  0s\n"
     ]
    },
    {
     "name": "stdout",
     "output_type": "stream",
     "text": [
      "154 rows, 350 cols, 1877 nonzeros  0s\n",
      "145 rows, 350 cols, 1894 nonzeros  0s\n",
      "Objective function is integral with scale 1\n",
      "\n",
      "Solving MIP model with:\n",
      "   145 rows\n",
      "   350 cols (335 binary, 0 integer, 15 implied int., 0 continuous, 0 domain fixed)\n",
      "   1894 nonzeros\n"
     ]
    },
    {
     "name": "stdout",
     "output_type": "stream",
     "text": [
      "\n",
      "Src: B => Branching; C => Central rounding; F => Feasibility pump; J => Feasibility jump;\n",
      "     H => Heuristic; L => Sub-MIP; P => Empty MIP; R => Randomized rounding; Z => ZI Round;\n",
      "     I => Shifting; S => Solve LP; T => Evaluate node; U => Unbounded; X => User solution;\n",
      "     z => Trivial zero; l => Trivial lower; u => Trivial upper; p => Trivial point\n",
      "\n",
      "        Nodes      |    B&B Tree     |            Objective Bounds              |  Dynamic Constraints |       Work      \n",
      "Src  Proc. InQueue |  Leaves   Expl. | BestBound       BestSol              Gap |   Cuts   InLp Confl. | LpIters     Time\n",
      "\n",
      "         0       0         0   0.00%   18              inf                  inf        0      0      0         0     0.0s\n",
      "         0       0         0   0.00%   18              inf                  inf        0      0      5        64     0.0s\n"
     ]
    },
    {
     "name": "stdout",
     "output_type": "stream",
     "text": [
      " R       0       0         0 100.00%   19              19                 0.00%      449     25     18       145     0.1s\n",
      "         1       0         1 100.00%   19              19                 0.00%      336     25     18       145     0.1s\n",
      "\n",
      "Solving report\n",
      "  Status            Optimal\n",
      "  Primal bound      19\n",
      "  Dual bound        19\n",
      "  Gap               0% (tolerance: 0.01%)\n",
      "  P-D integral      0\n",
      "  Solution status   feasible\n",
      "                    19 (objective)\n",
      "                    0 (bound viol.)\n",
      "                    0 (int. viol.)\n",
      "                    0 (row viol.)\n",
      "  Timing            0.06 (total)\n",
      "                    0.00 (presolve)\n",
      "                    0.00 (solve)\n",
      "                    0.00 (postsolve)\n",
      "  Max sub-MIP depth 0\n",
      "  Nodes             1\n",
      "  Repair LPs        0 (0 feasible; 0 iterations)\n",
      "  LP iterations     145 (total)\n",
      "                    0 (strong br.)\n",
      "                    81 (separation)\n",
      "                    0 (heuristics)\n"
     ]
    }
   ],
   "source": [
    "model3 = Model2Highs(cond1)\n",
    "model3.solve()"
   ]
  },
  {
   "cell_type": "code",
   "execution_count": null,
   "id": "ZBYS",
   "metadata": {},
   "outputs": [
    {
     "name": "stdout",
     "output_type": "stream",
     "text": [
      "Opt.value = 19.0\n",
      "s[0] = 0.0\n",
      "s[1] = 0.0\n",
      "s[2] = 0.0\n",
      "s[3] = 1.0\n",
      "s[4] = 5.0\n",
      "s[5] = 5.0\n",
      "s[6] = 6.0\n",
      "s[7] = 13.0\n",
      "s[8] = 14.0\n",
      "s[9] = 6.0\n",
      "s[10] = 9.0\n",
      "s[11] = 11.0\n",
      "s[12] = 14.0\n",
      "s[13] = 19.0\n"
     ]
    }
   ],
   "source": [
    "print (f\"Opt.value = {model3.info.objective_function_value}\")\n",
    "\n",
    "for _id_job, s in enumerate(model3.s):\n",
    "    _val = model3.solution.col_value[s.index]\n",
    "    print(f\"s[{_id_job}] = {_val}\")"
   ]
  },
  {
   "cell_type": "code",
   "execution_count": null,
   "id": "aLJB",
   "metadata": {},
   "outputs": [],
   "source": [
    "class Model2CpSat:\n",
    "    def __init__(self, cond: Condition):\n",
    "        self.model = cp_model.CpModel()\n",
    "\n",
    "        horizon = sum(job.time for job in cond.jobs)\n",
    "\n",
    "        self.starts = [self.model.new_int_var(lb=0, ub=horizon-job.time, name=\"\") for job in cond.jobs]\n",
    "        self.jobs = [\n",
    "            self.model.new_fixed_size_interval_var(self.starts[id_job], job.time, name=\"\")\n",
    "            for id_job, job in enumerate(cond.jobs)\n",
    "        ]\n",
    "\n",
    "        # ジョブ間依存関係\n",
    "        for idx, jdx in cond.prec:\n",
    "            self.model.add(self.jobs[idx].end_expr() <= self.jobs[jdx].start_expr())\n",
    "\n",
    "        # 資源制約\n",
    "        for id_res, res in enumerate(cond.ress):\n",
    "            capacity = res.ub\n",
    "            intervals = []\n",
    "            demands = []\n",
    "            for id_job, job in enumerate(cond.jobs):\n",
    "                if job.res_usages[id_res] == 0:\n",
    "                    continue\n",
    "                intervals.append(self.jobs[id_job])\n",
    "                demands.append(job.res_usages[id_res])\n",
    "\n",
    "            self.model.add_cumulative(intervals, demands, capacity)\n",
    "\n",
    "        # 目的関数: makespan\n",
    "        self.objective = self.model.new_int_var(lb=0, ub=horizon, name=\"\")\n",
    "        self.model.add_max_equality(self.objective, [interval.end_expr() for interval in self.jobs])\n",
    "        self.model.minimize(self.objective)\n",
    "\n",
    "    def solve(self, timeout: int = 180):\n",
    "        self.solver = cp_model.CpSolver()\n",
    "        self.solver.parameters.log_search_progress = True\n",
    "        self.solver.parameters.max_time_in_seconds = timeout\n",
    "        self.status = self.solver.solve(self.model)"
   ]
  },
  {
   "cell_type": "code",
   "execution_count": null,
   "id": "nHfw",
   "metadata": {},
   "outputs": [
    {
     "name": "stdout",
     "output_type": "stream",
     "text": [
      "\n",
      "Starting CP-SAT solver v9.13.4784\n",
      "Parameters: max_time_in_seconds: 180 log_search_progress: true\n",
      "Setting number of workers to 12\n",
      "\n",
      "Initial optimization model '': (model_fingerprint: 0x274e8745b400f59d)\n",
      "#Variables: 15 (#ints: 1 in objective) (14 primary variables)\n",
      "  - 2 in [0,34]\n",
      "  - 1 in [0,35]\n",
      "  - 2 in [0,36]\n",
      "  - 3 in [0,37]\n",
      "  - 2 in [0,38]\n",
      "  - 2 in [0,39]\n",
      "  - 3 in [0,40]\n",
      "#kCumulative: 3 (#intervals: 9)\n",
      "#kInterval: 14\n",
      "#kLinMax: 1 (#expressions: 14)\n",
      "#kLinear2: 20\n",
      "\n",
      "Starting presolve at 0.00s\n",
      "  1.33e-05s  0.00e+00d  [DetectDominanceRelations] \n",
      "  5.17e-04s  0.00e+00d  [PresolveToFixPoint] #num_loops=8 #num_dual_strengthening=4 \n",
      "  1.29e-06s  0.00e+00d  [ExtractEncodingFromLinear] \n",
      "  3.23e-06s  0.00e+00d  [DetectDuplicateColumns] \n",
      "  1.21e-05s  0.00e+00d  [DetectDuplicateConstraints] \n",
      "[Symmetry] Graph for symmetry has 63 nodes and 75 arcs.\n",
      "[Symmetry] Symmetry computation done. time: 1.4217e-05 dtime: 7.23e-06\n",
      "  8.68e-06s  0.00e+00d  [DetectDuplicateConstraintsWithDifferentEnforcements] \n",
      "  8.53e-05s  1.74e-07d  [Probe] \n",
      "  1.50e-06s  0.00e+00d  [MaxClique] \n",
      "  8.64e-06s  0.00e+00d  [DetectDominanceRelations] \n",
      "  1.72e-04s  0.00e+00d  [PresolveToFixPoint] #num_loops=1 #num_dual_strengthening=1 \n",
      "  4.58e-06s  0.00e+00d  [ProcessAtMostOneAndLinear] \n",
      "  6.99e-06s  0.00e+00d  [DetectDuplicateConstraints] \n",
      "  4.20e-06s  0.00e+00d  [DetectDuplicateConstraintsWithDifferentEnforcements] \n",
      "  7.67e-06s  1.26e-07d  [DetectDominatedLinearConstraints] #relevant_constraints=21 \n",
      "  4.65e-06s  0.00e+00d  [DetectDifferentVariables] \n",
      "  8.51e-07s  0.00e+00d  [ProcessSetPPC] \n",
      "  8.42e-07s  0.00e+00d  [FindAlmostIdenticalLinearConstraints] \n",
      "  7.91e-07s  0.00e+00d  [FindBigAtMostOneAndLinearOverlap] \n",
      "  3.72e-06s  7.70e-07d  [FindBigVerticalLinearOverlap] \n",
      "  6.91e-07s  0.00e+00d  [FindBigHorizontalLinearOverlap] \n",
      "  1.06e-06s  0.00e+00d  [MergeClauses] \n",
      "  7.88e-06s  0.00e+00d  [DetectDominanceRelations] \n",
      "  1.76e-04s  0.00e+00d  [PresolveToFixPoint] #num_loops=1 #num_dual_strengthening=1 \n",
      "  7.49e-06s  0.00e+00d  [DetectDominanceRelations] \n",
      "  1.50e-04s  0.00e+00d  [PresolveToFixPoint] #num_loops=1 #num_dual_strengthening=1 \n",
      "  2.47e-06s  0.00e+00d  [DetectDuplicateColumns] \n",
      "  7.55e-06s  0.00e+00d  [DetectDuplicateConstraints] \n",
      "[Symmetry] Graph for symmetry has 63 nodes and 75 arcs.\n",
      "[Symmetry] Symmetry computation done. time: 1.014e-05 dtime: 7.23e-06\n",
      "  7.74e-06s  0.00e+00d  [DetectDuplicateConstraintsWithDifferentEnforcements] \n",
      "  6.05e-05s  1.74e-07d  [Probe] \n",
      "  8.42e-07s  0.00e+00d  [MaxClique] \n",
      "  7.70e-06s  0.00e+00d  [DetectDominanceRelations] \n",
      "  1.60e-04s  0.00e+00d  [PresolveToFixPoint] #num_loops=1 #num_dual_strengthening=1 \n",
      "  3.98e-06s  0.00e+00d  [ProcessAtMostOneAndLinear] \n",
      "  6.87e-06s  0.00e+00d  [DetectDuplicateConstraints] \n",
      "  4.73e-06s  0.00e+00d  [DetectDuplicateConstraintsWithDifferentEnforcements] \n",
      "  6.22e-06s  1.26e-07d  [DetectDominatedLinearConstraints] #relevant_constraints=21 \n",
      "  3.92e-06s  0.00e+00d  [DetectDifferentVariables] \n",
      "  6.71e-07s  0.00e+00d  [ProcessSetPPC] \n",
      "  6.11e-07s  0.00e+00d  [FindAlmostIdenticalLinearConstraints] \n",
      "  6.71e-07s  0.00e+00d  [FindBigAtMostOneAndLinearOverlap] \n",
      "  2.65e-06s  7.70e-07d  [FindBigVerticalLinearOverlap] \n",
      "  5.01e-07s  0.00e+00d  [FindBigHorizontalLinearOverlap] \n",
      "  7.42e-07s  0.00e+00d  [MergeClauses] \n",
      "  7.48e-06s  0.00e+00d  [DetectDominanceRelations] \n",
      "  1.53e-04s  0.00e+00d  [PresolveToFixPoint] #num_loops=1 #num_dual_strengthening=1 \n",
      "  2.88e-06s  0.00e+00d  [ExpandObjective] \n",
      "\n",
      "Presolve summary:\n",
      "  - 0 affine relations were detected.\n",
      "  - rule 'TODO dual: only one blocking constraint?' was applied 42 times.\n",
      "  - rule 'TODO dual: only one unspecified blocking constraint?' was applied 9 times.\n",
      "  - rule 'cumulative: convert to no_overlap' was applied 1 time.\n",
      "  - rule 'dual: fix variable' was applied 4 times.\n",
      "  - rule 'dual: reduced domain' was applied 3 times.\n",
      "  - rule 'intervals: removed unused interval' was applied 7 times.\n",
      "  - rule 'lin_max: rewrite with precedences' was applied 1 time.\n",
      "  - rule 'lin_max: target domain reduced' was applied 1 time.\n",
      "  - rule 'linear: always true' was applied 13 times.\n",
      "  - rule 'linear: fixed or dup variables' was applied 13 times.\n",
      "  - rule 'linear: reduced variable domains' was applied 35 times.\n",
      "  - rule 'presolve: 4 unused variables removed.' was applied 1 time.\n",
      "  - rule 'presolve: iteration' was applied 2 times.\n",
      "\n",
      "Presolved optimization model '': (model_fingerprint: 0xc045726b4f9435db)\n",
      "#Variables: 11 (#ints: 1 in objective) (10 primary variables)\n",
      "  - 1 in [0,23]\n",
      "  - 1 in [4,26]\n",
      "  - 1 in [4,28]\n",
      "  - 1 in [6,29]\n",
      "  - 1 in [6,30]\n",
      "  - 1 in [6,36]\n",
      "  - 1 in [10,32]\n",
      "  - 1 in [12,30]\n",
      "  - 1 in [13,35]\n",
      "  - 2 in [18,40]\n",
      "#kCumulative: 2 (#intervals: 7)\n",
      "#kInterval: 7\n",
      "#kLinear2: 21\n",
      "#kNoOverlap: 1 (#intervals: 2)\n",
      "[Symmetry] Graph for symmetry has 59 nodes and 75 arcs.\n",
      "[Symmetry] Symmetry computation done. time: 8.977e-06 dtime: 6.99e-06\n",
      "\n",
      "Preloading model.\n",
      "#Bound   0.00s best:inf   next:[18,40]    initial_domain\n",
      "#Model   0.00s var:11/11 constraints:31/31\n",
      "\n",
      "Starting search at 0.00s with 12 workers.\n",
      "8 full problem subsolvers: [default_lp, fixed, max_lp, no_lp, pseudo_costs, quick_restart, quick_restart_no_lp, reduced_costs]\n",
      "4 first solution subsolvers: [fj(2), fs_random, fs_random_no_lp]\n",
      "14 interleaved subsolvers: [feasibility_pump, graph_arc_lns, graph_cst_lns, graph_dec_lns, graph_var_lns, ls, ls_lin, rins/rens, rnd_cst_lns, rnd_var_lns, scheduling_intervals_lns, scheduling_precedences_lns, scheduling_resource_windows_lns, scheduling_time_window_lns]\n",
      "3 helper subsolvers: [neighborhood_helper, synchronization_agent, update_gap_integral]\n",
      "\n",
      "#1       0.00s best:22    next:[18,21]    no_lp\n",
      "#2       0.00s best:21    next:[18,20]    no_lp\n",
      "#3       0.00s best:19    next:[18,18]    quick_restart_no_lp\n",
      "#Done    0.00s quick_restart_no_lp\n",
      "#Done    0.00s no_lp\n",
      "#Done    0.00s quick_restart\n",
      "\n",
      "Task timing                                  n [     min,      max]      avg      dev     time         n [     min,      max]      avg      dev    dtime\n",
      "                       'default_lp':         1 [  3.88ms,   3.88ms]   3.88ms   0.00ns   3.88ms         1 [ 21.91us,  21.91us]  21.91us   0.00ns  21.91us\n",
      "                 'feasibility_pump':         0 [  0.00ns,   0.00ns]   0.00ns   0.00ns   0.00ns         0 [  0.00ns,   0.00ns]   0.00ns   0.00ns   0.00ns\n",
      "                            'fixed':         1 [  3.79ms,   3.79ms]   3.79ms   0.00ns   3.79ms         1 [  8.16us,   8.16us]   8.16us   0.00ns   8.16us\n",
      "                               'fj':         0 [  0.00ns,   0.00ns]   0.00ns   0.00ns   0.00ns         0 [  0.00ns,   0.00ns]   0.00ns   0.00ns   0.00ns\n",
      "                               'fj':         0 [  0.00ns,   0.00ns]   0.00ns   0.00ns   0.00ns         0 [  0.00ns,   0.00ns]   0.00ns   0.00ns   0.00ns\n",
      "                        'fs_random':         0 [  0.00ns,   0.00ns]   0.00ns   0.00ns   0.00ns         0 [  0.00ns,   0.00ns]   0.00ns   0.00ns   0.00ns\n",
      "                  'fs_random_no_lp':         0 [  0.00ns,   0.00ns]   0.00ns   0.00ns   0.00ns         0 [  0.00ns,   0.00ns]   0.00ns   0.00ns   0.00ns\n",
      "                    'graph_arc_lns':         0 [  0.00ns,   0.00ns]   0.00ns   0.00ns   0.00ns         0 [  0.00ns,   0.00ns]   0.00ns   0.00ns   0.00ns\n",
      "                    'graph_cst_lns':         0 [  0.00ns,   0.00ns]   0.00ns   0.00ns   0.00ns         0 [  0.00ns,   0.00ns]   0.00ns   0.00ns   0.00ns\n",
      "                    'graph_dec_lns':         0 [  0.00ns,   0.00ns]   0.00ns   0.00ns   0.00ns         0 [  0.00ns,   0.00ns]   0.00ns   0.00ns   0.00ns\n",
      "                    'graph_var_lns':         0 [  0.00ns,   0.00ns]   0.00ns   0.00ns   0.00ns         0 [  0.00ns,   0.00ns]   0.00ns   0.00ns   0.00ns\n",
      "                               'ls':         0 [  0.00ns,   0.00ns]   0.00ns   0.00ns   0.00ns         0 [  0.00ns,   0.00ns]   0.00ns   0.00ns   0.00ns\n",
      "                           'ls_lin':         0 [  0.00ns,   0.00ns]   0.00ns   0.00ns   0.00ns         0 [  0.00ns,   0.00ns]   0.00ns   0.00ns   0.00ns\n",
      "                           'max_lp':         1 [  3.67ms,   3.67ms]   3.67ms   0.00ns   3.67ms         1 [ 11.44us,  11.44us]  11.44us   0.00ns  11.44us\n",
      "                            'no_lp':         1 [634.02us, 634.02us] 634.02us   0.00ns 634.02us         1 [ 21.40us,  21.40us]  21.40us   0.00ns  21.40us\n",
      "                     'pseudo_costs':         1 [  3.37ms,   3.37ms]   3.37ms   0.00ns   3.37ms         0 [  0.00ns,   0.00ns]   0.00ns   0.00ns   0.00ns\n",
      "                    'quick_restart':         1 [534.63us, 534.63us] 534.63us   0.00ns 534.63us         1 [  4.95us,   4.95us]   4.95us   0.00ns   4.95us\n",
      "              'quick_restart_no_lp':         1 [311.06us, 311.06us] 311.06us   0.00ns 311.06us         1 [  4.50us,   4.50us]   4.50us   0.00ns   4.50us\n",
      "                    'reduced_costs':         1 [462.59us, 462.59us] 462.59us   0.00ns 462.59us         0 [  0.00ns,   0.00ns]   0.00ns   0.00ns   0.00ns\n",
      "                        'rins/rens':         0 [  0.00ns,   0.00ns]   0.00ns   0.00ns   0.00ns         0 [  0.00ns,   0.00ns]   0.00ns   0.00ns   0.00ns\n",
      "                      'rnd_cst_lns':         1 [  3.24ms,   3.24ms]   3.24ms   0.00ns   3.24ms         0 [  0.00ns,   0.00ns]   0.00ns   0.00ns   0.00ns\n",
      "                      'rnd_var_lns':         1 [  3.31ms,   3.31ms]   3.31ms   0.00ns   3.31ms         0 [  0.00ns,   0.00ns]   0.00ns   0.00ns   0.00ns\n",
      "         'scheduling_intervals_lns':         0 [  0.00ns,   0.00ns]   0.00ns   0.00ns   0.00ns         0 [  0.00ns,   0.00ns]   0.00ns   0.00ns   0.00ns\n",
      "       'scheduling_precedences_lns':         0 [  0.00ns,   0.00ns]   0.00ns   0.00ns   0.00ns         0 [  0.00ns,   0.00ns]   0.00ns   0.00ns   0.00ns\n",
      "  'scheduling_resource_windows_lns':         0 [  0.00ns,   0.00ns]   0.00ns   0.00ns   0.00ns         0 [  0.00ns,   0.00ns]   0.00ns   0.00ns   0.00ns\n",
      "       'scheduling_time_window_lns':         0 [  0.00ns,   0.00ns]   0.00ns   0.00ns   0.00ns         0 [  0.00ns,   0.00ns]   0.00ns   0.00ns   0.00ns\n",
      "\n",
      "Search stats              Bools  Conflicts  Branches  Restarts  BoolPropag  IntegerPropag\n",
      "           'default_lp':     16          0        34        15          28            156\n",
      "                'fixed':     16          0        22         2           6             67\n",
      "            'fs_random':      0          0         0         0           0              0\n",
      "      'fs_random_no_lp':      0          0         0         0           0              0\n",
      "               'max_lp':      0          0         0         0           0              0\n",
      "                'no_lp':     13          1        37        15          20            170\n",
      "         'pseudo_costs':      0          0         0         0           0              0\n",
      "        'quick_restart':     11          1        11         1           9             48\n",
      "  'quick_restart_no_lp':     11          1        11         1           9             48\n",
      "        'reduced_costs':      1          0         2         2           0              7\n",
      "\n",
      "SAT stats                 ClassicMinim  LitRemoved  LitLearned  LitForgotten  Subsumed  MClauses  MDecisions  MLitTrue  MSubsumed  MLitRemoved  MReused\n",
      "           'default_lp':             0           0           0             0         0         0           0         0          0            0        0\n",
      "                'fixed':             0           0           0             0         0         0           0         0          0            0        0\n",
      "            'fs_random':             0           0           0             0         0         0           0         0          0            0        0\n",
      "      'fs_random_no_lp':             0           0           0             0         0         0           0         0          0            0        0\n",
      "               'max_lp':             0           0           0             0         0         0           0         0          0            0        0\n",
      "                'no_lp':             0           0           2             0         0         0           0         0          0            0        0\n",
      "         'pseudo_costs':             0           0           0             0         0         0           0         0          0            0        0\n",
      "        'quick_restart':             0           0           0             0         0         0           0         0          0            0        0\n",
      "  'quick_restart_no_lp':             0           0           0             0         0         0           0         0          0            0        0\n",
      "        'reduced_costs':             0           0           0             0         0         0           0         0          0            0        0\n",
      "\n",
      "Lp stats            Component  Iterations  AddedCuts  OPTIMAL  DUAL_F.  DUAL_U.\n",
      "     'default_lp':          1           0          0       11        0        0\n",
      "          'fixed':          1           0          0       10        0        0\n",
      "         'max_lp':          3           9          5        9        0        0\n",
      "   'pseudo_costs':          3           0          0        3        0        0\n",
      "  'quick_restart':          1           0          0        6        0        0\n",
      "  'reduced_costs':          3           0          0        3        0        0\n",
      "\n",
      "Lp dimension        Final dimension of first component\n",
      "     'default_lp':       0 rows, 11 columns, 0 entries\n",
      "          'fixed':       0 rows, 11 columns, 0 entries\n",
      "         'max_lp':     26 rows, 11 columns, 60 entries\n",
      "   'pseudo_costs':       0 rows, 11 columns, 0 entries\n",
      "  'quick_restart':       0 rows, 11 columns, 0 entries\n",
      "  'reduced_costs':       0 rows, 11 columns, 0 entries\n",
      "\n",
      "Lp debug            CutPropag  CutEqPropag  Adjust  Overflow  Bad  BadScaling\n",
      "     'default_lp':          0            0       0         0    0           0\n",
      "          'fixed':          0            0       0         0    0           0\n",
      "         'max_lp':          0            0       0         0   24           0\n",
      "   'pseudo_costs':          0            0       0         0    0           0\n",
      "  'quick_restart':          0            0       0         0    0           0\n",
      "  'reduced_costs':          0            0       0         0    0           0\n",
      "\n",
      "Lp pool             Constraints  Updates  Simplif  Merged  Shortened  Split  Strenghtened  Cuts/Call\n",
      "     'default_lp':           21        0       38       0         12      0             0        0/0\n",
      "          'fixed':           21        0        8       0          0      0             0        0/0\n",
      "         'max_lp':           26        0        0       0          0      0             0        5/9\n",
      "   'pseudo_costs':           21        0        0       0          0      0             0        0/0\n",
      "  'quick_restart':           21        0        8       0          0      0             0        0/0\n",
      "  'reduced_costs':           21        0        0       0          0      0             0        0/0\n",
      "\n",
      "Lp Cut                                          max_lp\n",
      "                                         CG_R:       1\n",
      "           CumulativeCompletionTimeExhaustive:       3\n",
      "  CumulativeCompletionTimeExhaustive_weighted:       1\n",
      "\n",
      "LNS stats                             Improv/Calls  Closed  Difficulty  TimeLimit\n",
      "                    'graph_arc_lns':           0/0      0%    5.00e-01       0.10\n",
      "                    'graph_cst_lns':           0/0      0%    5.00e-01       0.10\n",
      "                    'graph_dec_lns':           0/0      0%    5.00e-01       0.10\n",
      "                    'graph_var_lns':           0/0      0%    5.00e-01       0.10\n",
      "                        'rins/rens':           0/0      0%    5.00e-01       0.10\n",
      "                      'rnd_cst_lns':           0/0      0%    5.00e-01       0.10\n",
      "                      'rnd_var_lns':           0/0      0%    5.00e-01       0.10\n",
      "         'scheduling_intervals_lns':           0/0      0%    5.00e-01       0.10\n",
      "       'scheduling_precedences_lns':           0/0      0%    5.00e-01       0.10\n",
      "  'scheduling_resource_windows_lns':           0/0      0%    5.00e-01       0.10\n",
      "       'scheduling_time_window_lns':           0/0      0%    5.00e-01       0.10\n",
      "\n",
      "Solutions (3)             Num   Rank\n",
      "                'no_lp':    2  [1,2]\n",
      "  'quick_restart_no_lp':    1  [3,3]\n",
      "\n",
      "Objective bounds     Num\n",
      "  'initial_domain':    1\n",
      "\n",
      "Solution repositories    Added  Queried  Synchro\n",
      "  'feasible solutions':     10        4        5\n",
      "   'fj solution hints':      0        0        0\n",
      "        'lp solutions':      0        0        0\n",
      "                'pump':      0        0\n",
      "\n",
      "Improving bounds shared    Num  Sym\n",
      "                 'no_lp':   34    0\n",
      "\n",
      "CpSolverResponse summary:\n",
      "status: OPTIMAL\n",
      "objective: 19\n",
      "best_bound: 19\n",
      "integers: 0\n",
      "booleans: 0\n",
      "conflicts: 0\n",
      "branches: 0\n",
      "propagations: 0\n",
      "integer_propagations: 0\n",
      "restarts: 0\n",
      "lp_iterations: 0\n",
      "walltime: 0.00727201\n",
      "usertime: 0.00727207\n",
      "deterministic_time: 7.54752e-05\n",
      "gap_integral: 4.27763e-05\n",
      "solution_fingerprint: 0x6b80dd723eb3abe9\n",
      "\n"
     ]
    }
   ],
   "source": [
    "model4 = Model2CpSat(cond1)\n",
    "model4.solve()"
   ]
  },
  {
   "cell_type": "code",
   "execution_count": null,
   "id": "xXTn",
   "metadata": {},
   "outputs": [
    {
     "name": "stdout",
     "output_type": "stream",
     "text": [
      "Opt.value = 19\n",
      "s[0] = 0\n",
      "s[1] = 0\n",
      "s[2] = 0\n",
      "s[3] = 3\n",
      "s[4] = 5\n",
      "s[5] = 4\n",
      "s[6] = 6\n",
      "s[7] = 12\n",
      "s[8] = 14\n",
      "s[9] = 6\n",
      "s[10] = 9\n",
      "s[11] = 11\n",
      "s[12] = 14\n",
      "s[13] = 19\n"
     ]
    }
   ],
   "source": [
    "print (f\"Opt.value = {model4.solver.value(model4.objective)}\")\n",
    "\n",
    "for _id_job, interval in enumerate(model4.jobs):\n",
    "    _val = model4.solver.value(interval.start_expr())\n",
    "    print(f\"s[{_id_job}] = {_val}\")"
   ]
  },
  {
   "cell_type": "code",
   "execution_count": null,
   "id": "AjVT",
   "metadata": {},
   "outputs": [],
   "source": [
    "_filepath = data_dir / Path(\"pat104.rcp\")\n",
    "cond2 = Condition.from_file(_filepath)"
   ]
  },
  {
   "cell_type": "code",
   "execution_count": null,
   "id": "pHFh",
   "metadata": {},
   "outputs": [
    {
     "name": "stdout",
     "output_type": "stream",
     "text": [
      "Running HiGHS 1.11.0 (git hash: 364c83a): Copyright (c) 2025 HiGHS under MIT licence terms\n"
     ]
    },
    {
     "name": "stdout",
     "output_type": "stream",
     "text": [
      "MIP  has 941 rows; 9691 cols; 125568 nonzeros; 9639 integer variables (9639 binary)\n",
      "Coefficient ranges:\n",
      "  Matrix [1e+00, 2e+02]\n",
      "  Cost   [1e+00, 1e+00]\n",
      "  Bound  [1e+00, 2e+02]\n",
      "  RHS    [1e+00, 1e+01]\n"
     ]
    },
    {
     "name": "stdout",
     "output_type": "stream",
     "text": [
      "Presolving model\n"
     ]
    },
    {
     "name": "stdout",
     "output_type": "stream",
     "text": [
      "801 rows, 9551 cols, 124151 nonzeros  0s\n"
     ]
    },
    {
     "name": "stdout",
     "output_type": "stream",
     "text": [
      "795 rows, 7407 cols, 96558 nonzeros  1s\n"
     ]
    },
    {
     "name": "stdout",
     "output_type": "stream",
     "text": [
      "795 rows, 7274 cols, 94868 nonzeros  3s\n"
     ]
    },
    {
     "name": "stdout",
     "output_type": "stream",
     "text": [
      "Objective function is integral with scale 1\n",
      "\n",
      "Solving MIP model with:\n",
      "   795 rows\n",
      "   7274 cols (7222 binary, 0 integer, 52 implied int., 0 continuous, 0 domain fixed)\n",
      "   94868 nonzeros\n"
     ]
    },
    {
     "name": "stdout",
     "output_type": "stream",
     "text": [
      "\n",
      "Src: B => Branching; C => Central rounding; F => Feasibility pump; J => Feasibility jump;\n",
      "     H => Heuristic; L => Sub-MIP; P => Empty MIP; R => Randomized rounding; Z => ZI Round;\n",
      "     I => Shifting; S => Solve LP; T => Evaluate node; U => Unbounded; X => User solution;\n",
      "     z => Trivial zero; l => Trivial lower; u => Trivial upper; p => Trivial point\n",
      "\n",
      "        Nodes      |    B&B Tree     |            Objective Bounds              |  Dynamic Constraints |       Work      \n",
      "Src  Proc. InQueue |  Leaves   Expl. | BestBound       BestSol              Gap |   Cuts   InLp Confl. | LpIters     Time\n",
      "\n",
      "         0       0         0   0.00%   78              inf                  inf        0      0      0         0     3.9s\n"
     ]
    },
    {
     "name": "stdout",
     "output_type": "stream",
     "text": [
      "         0       0         0   0.00%   78              inf                  inf        0      0      2       646     4.0s\n"
     ]
    },
    {
     "name": "stdout",
     "output_type": "stream",
     "text": [
      " L       0       0         0   0.00%   79              125               36.80%     1414    229     40     11187     9.1s\n"
     ]
    },
    {
     "name": "stdout",
     "output_type": "stream",
     "text": [
      "\n",
      "51.3% inactive integer columns, restarting\n"
     ]
    },
    {
     "name": "stdout",
     "output_type": "stream",
     "text": [
      "Model after restart has 580 rows, 2676 cols (2624 bin., 0 int., 52 impl., 0 cont., 0 dom.fix.), and 34525 nonzeros\n",
      "\n",
      "         0       0         0   0.00%   79              125               36.80%       77      0      0     23184    13.2s\n"
     ]
    },
    {
     "name": "stdout",
     "output_type": "stream",
     "text": [
      "         0       0         0   0.00%   79              125               36.80%       77     30     18     23811    13.2s\n"
     ]
    },
    {
     "name": "stdout",
     "output_type": "stream",
     "text": [
      " T      78       4        22  62.61%   79              96                17.71%     2573     90    135     27009    13.9s\n"
     ]
    },
    {
     "name": "stdout",
     "output_type": "stream",
     "text": [
      " B      83       4        24  62.61%   79              91                13.19%     2573     90    201     27090    14.0s\n",
      " T      83       4        24  62.61%   79              90                12.22%     2573     90    203     27090    14.0s\n"
     ]
    },
    {
     "name": "stdout",
     "output_type": "stream",
     "text": [
      " T      86       3        25  62.61%   79              88                10.23%     2574     90    279     27170    14.1s\n"
     ]
    },
    {
     "name": "stdout",
     "output_type": "stream",
     "text": [
      " T      92       0        26  62.61%   79              87                 9.20%     2575     90    297     27328    14.1s\n"
     ]
    },
    {
     "name": "stdout",
     "output_type": "stream",
     "text": [
      " B      94       0        27  62.61%   79              86                 8.14%     2577     90    360     27357    14.2s\n"
     ]
    },
    {
     "name": "stdout",
     "output_type": "stream",
     "text": [
      " T     108      16        28  62.63%   79              85                 7.06%     3211    119    488     28786    15.2s\n"
     ]
    },
    {
     "name": "stdout",
     "output_type": "stream",
     "text": [
      " B     124      16        30  62.64%   79              84                 5.95%     3212    119    515     29414    15.3s\n",
      " T     124      16        30  62.64%   79              83                 4.82%     3212    119    517     29414    15.3s\n"
     ]
    },
    {
     "name": "stdout",
     "output_type": "stream",
     "text": [
      " B     129      16        32  62.64%   79              82                 3.66%     3214    119    540     29547    15.3s\n"
     ]
    },
    {
     "name": "stdout",
     "output_type": "stream",
     "text": [
      "\n",
      "Restarting search from the root node\n"
     ]
    },
    {
     "name": "stdout",
     "output_type": "stream",
     "text": [
      "Model after restart has 392 rows, 402 cols (371 bin., 0 int., 31 impl., 0 cont., 0 dom.fix.), and 4399 nonzeros\n",
      "\n"
     ]
    },
    {
     "name": "stdout",
     "output_type": "stream",
     "text": [
      "       133       0         0   0.00%   79              82                 3.66%       93      0      0     29610    15.6s\n",
      "       133       0         0   0.00%   79              82                 3.66%       93     40      6     29826    15.7s\n"
     ]
    },
    {
     "name": "stdout",
     "output_type": "stream",
     "text": [
      " L     133       0         0 100.00%   79              79                 0.00%     4510    164      6     30894    16.0s\n",
      "       134       0         1 100.00%   79              79                 0.00%     4510    164      6     30973    16.0s\n",
      "\n",
      "Solving report\n",
      "  Status            Optimal\n",
      "  Primal bound      79\n",
      "  Dual bound        79\n",
      "  Gap               0% (tolerance: 0.01%)\n",
      "  P-D integral      1.91742902409\n",
      "  Solution status   feasible\n",
      "                    79 (objective)\n",
      "                    0 (bound viol.)\n",
      "                    0 (int. viol.)\n",
      "                    0 (row viol.)\n",
      "  Timing            16.02 (total)\n",
      "                    0.00 (presolve)\n",
      "                    0.00 (solve)\n",
      "                    0.00 (postsolve)\n",
      "  Max sub-MIP depth 2\n",
      "  Nodes             134\n",
      "  Repair LPs        0 (0 feasible; 0 iterations)\n",
      "  LP iterations     30973 (total)\n",
      "                    1286 (strong br.)\n",
      "                    13870 (separation)\n",
      "                    11442 (heuristics)\n"
     ]
    }
   ],
   "source": [
    "model5 = Model2Highs(cond2)\n",
    "model5.solve()"
   ]
  },
  {
   "cell_type": "code",
   "execution_count": null,
   "id": "NCOB",
   "metadata": {},
   "outputs": [
    {
     "name": "stdout",
     "output_type": "stream",
     "text": [
      "\n",
      "Starting CP-SAT solver v9.13.4784\n",
      "Parameters: max_time_in_seconds: 180 log_search_progress: true\n",
      "Setting number of workers to 12\n",
      "\n",
      "Initial optimization model '': (model_fingerprint: 0xe4d929acad86d0b6)\n",
      "#Variables: 52 (#ints: 1 in objective) (51 primary variables)\n",
      "  - 2 in [0,180]\n",
      "  - 2 in [0,181]\n",
      "  - 6 in [0,183]\n",
      "  - 11 in [0,184]\n",
      "  - 2 in [0,185]\n",
      "  - 9 in [0,186]\n",
      "  - 12 in [0,187]\n",
      "  - 5 in [0,188]\n",
      "  - 3 in [0,189]\n",
      "#kCumulative: 3 (#intervals: 147)\n",
      "#kInterval: 51\n",
      "#kLinMax: 1 (#expressions: 51)\n",
      "#kLinear2: 81\n",
      "\n",
      "Starting presolve at 0.00s\n",
      "  2.33e-05s  0.00e+00d  [DetectDominanceRelations] \n",
      "  1.75e-03s  0.00e+00d  [PresolveToFixPoint] #num_loops=11 #num_dual_strengthening=2 \n",
      "  1.76e-06s  0.00e+00d  [ExtractEncodingFromLinear] \n",
      "  1.13e-05s  0.00e+00d  [DetectDuplicateColumns] \n",
      "  2.77e-05s  0.00e+00d  [DetectDuplicateConstraints] \n",
      "[Symmetry] Graph for symmetry has 430 nodes and 650 arcs.\n",
      "[Symmetry] Symmetry computation done. time: 4.19e-05 dtime: 6.216e-05\n",
      "  2.53e-05s  0.00e+00d  [DetectDuplicateConstraintsWithDifferentEnforcements] \n",
      "  1.59e-04s  6.02e-07d  [Probe] \n",
      "  2.20e-06s  0.00e+00d  [MaxClique] \n",
      "  2.38e-05s  0.00e+00d  [DetectDominanceRelations] \n",
      "  8.86e-04s  0.00e+00d  [PresolveToFixPoint] #num_loops=1 #num_dual_strengthening=1 \n",
      "  1.68e-05s  0.00e+00d  [ProcessAtMostOneAndLinear] \n",
      "  2.81e-05s  0.00e+00d  [DetectDuplicateConstraints] \n",
      "  2.09e-05s  0.00e+00d  [DetectDuplicateConstraintsWithDifferentEnforcements] \n",
      "  1.71e-05s  7.68e-07d  [DetectDominatedLinearConstraints] #relevant_constraints=128 \n",
      "  9.52e-05s  0.00e+00d  [DetectDifferentVariables] #different=127 #cliques=33 #size=99 \n",
      "  1.57e-06s  0.00e+00d  [ProcessSetPPC] \n",
      "  3.20e-06s  0.00e+00d  [FindAlmostIdenticalLinearConstraints] \n",
      "  1.71e-06s  0.00e+00d  [FindBigAtMostOneAndLinearOverlap] \n",
      "  1.11e-05s  5.08e-06d  [FindBigVerticalLinearOverlap] \n",
      "  1.02e-06s  0.00e+00d  [FindBigHorizontalLinearOverlap] \n",
      "  9.32e-07s  0.00e+00d  [MergeClauses] \n",
      "  2.55e-05s  0.00e+00d  [DetectDominanceRelations] \n",
      "  8.85e-04s  0.00e+00d  [PresolveToFixPoint] #num_loops=1 #num_dual_strengthening=1 \n",
      "  2.56e-05s  0.00e+00d  [DetectDominanceRelations] \n",
      "  8.70e-04s  0.00e+00d  [PresolveToFixPoint] #num_loops=1 #num_dual_strengthening=1 \n",
      "  9.18e-06s  0.00e+00d  [DetectDuplicateColumns] \n",
      "  3.38e-05s  0.00e+00d  [DetectDuplicateConstraints] \n",
      "[Symmetry] Graph for symmetry has 512 nodes and 798 arcs.\n",
      "[Symmetry] Symmetry computation done. time: 4.712e-05 dtime: 7.609e-05\n",
      "  3.26e-05s  0.00e+00d  [DetectDuplicateConstraintsWithDifferentEnforcements] \n",
      "  1.88e-04s  9.32e-07d  [Probe] \n",
      "  1.19e-06s  0.00e+00d  [MaxClique] \n",
      "  2.45e-05s  0.00e+00d  [DetectDominanceRelations] \n",
      "  8.97e-04s  0.00e+00d  [PresolveToFixPoint] #num_loops=1 #num_dual_strengthening=1 \n",
      "  1.73e-05s  0.00e+00d  [ProcessAtMostOneAndLinear] \n",
      "  3.75e-05s  0.00e+00d  [DetectDuplicateConstraints] \n",
      "  2.97e-05s  0.00e+00d  [DetectDuplicateConstraintsWithDifferentEnforcements] \n",
      "  1.64e-05s  7.68e-07d  [DetectDominatedLinearConstraints] #relevant_constraints=128 \n",
      "  1.66e-05s  0.00e+00d  [DetectDifferentVariables] \n",
      "  1.16e-06s  0.00e+00d  [ProcessSetPPC] \n",
      "  1.16e-06s  0.00e+00d  [FindAlmostIdenticalLinearConstraints] \n",
      "  1.58e-06s  0.00e+00d  [FindBigAtMostOneAndLinearOverlap] \n",
      "  9.67e-06s  5.08e-06d  [FindBigVerticalLinearOverlap] \n",
      "  8.81e-07s  0.00e+00d  [FindBigHorizontalLinearOverlap] \n",
      "  6.52e-07s  0.00e+00d  [MergeClauses] \n",
      "  2.44e-05s  0.00e+00d  [DetectDominanceRelations] \n",
      "  8.77e-04s  0.00e+00d  [PresolveToFixPoint] #num_loops=1 #num_dual_strengthening=1 \n",
      "  8.17e-06s  0.00e+00d  [ExpandObjective] \n",
      "\n",
      "Presolve summary:\n",
      "  - 0 affine relations were detected.\n",
      "  - rule 'TODO dual: only one blocking constraint?' was applied 13 times.\n",
      "  - rule 'TODO dual: only one unspecified blocking constraint?' was applied 3 times.\n",
      "  - rule 'TODO no_overlap: with task always last' was applied 33 times.\n",
      "  - rule 'all_diff: inferred from x != y constraints' was applied 33 times.\n",
      "  - rule 'dual: fix variable' was applied 1 time.\n",
      "  - rule 'intervals: removed unused interval' was applied 2 times.\n",
      "  - rule 'lin_max: rewrite with precedences' was applied 1 time.\n",
      "  - rule 'lin_max: target domain reduced' was applied 1 time.\n",
      "  - rule 'linear: always true' was applied 4 times.\n",
      "  - rule 'linear: fixed or dup variables' was applied 4 times.\n",
      "  - rule 'linear: reduced variable domains' was applied 362 times.\n",
      "  - rule 'presolve: 1 unused variables removed.' was applied 1 time.\n",
      "  - rule 'presolve: iteration' was applied 2 times.\n",
      "\n",
      "Presolved optimization model '': (model_fingerprint: 0x9f0a0e204a68922f)\n",
      "#Variables: 51 (#ints: 1 in objective) (51 primary variables)\n",
      "  - 1 in [0,111]\n",
      "  - 1 in [0,112]\n",
      "  - 1 in [0,115]\n",
      "  - 1 in [5,116]\n",
      "  - 1 in [5,117]\n",
      "  - 1 in [5,118]\n",
      "  - 1 in [5,119]\n",
      "  - 1 in [7,118]\n",
      "  - 1 in [8,120]\n",
      "  - 1 in [8,122]\n",
      "  - 1 in [8,128]\n",
      "  - 1 in [9,131]\n",
      "  - 1 in [12,123]\n",
      "  - 1 in [12,130]\n",
      "  - 1 in [14,134]\n",
      "  - 1 in [14,136]\n",
      "  - 1 in [16,136]\n",
      "  - 1 in [21,132]\n",
      "  - 1 in [25,136]\n",
      "  - 1 in [25,142]\n",
      "  - 1 in [27,145]\n",
      "  - 1 in [27,148]\n",
      "  - 1 in [32,150]\n",
      "  - 1 in [32,151]\n",
      "  - 1 in [33,144]\n",
      "  - 1 in [35,153]\n",
      "  - 1 in [38,149]\n",
      "  - 1 in [38,152]\n",
      "  - 1 in [40,151]\n",
      "  - 1 in [41,155]\n",
      "  - 1 in [41,161]\n",
      "  - 1 in [42,164]\n",
      "  - 1 in [45,156]\n",
      "  - 1 in [45,163]\n",
      "  - 1 in [47,167]\n",
      "  - 1 in [47,169]\n",
      "  - 1 in [49,169]\n",
      "  - 1 in [54,165]\n",
      "  - 1 in [58,169]\n",
      "  - 1 in [58,175]\n",
      "  - 1 in [60,178]\n",
      "  - 1 in [60,181]\n",
      "  - 1 in [65,183]\n",
      "  - 1 in [65,184]\n",
      "  - 1 in [66,177]\n",
      "  - 1 in [68,186]\n",
      "  - 1 in [71,182]\n",
      "  - 1 in [71,186]\n",
      "  - 1 in [73,184]\n",
      "  - 2 in [78,189]\n",
      "#kAllDiff: 33\n",
      "#kCumulative: 3 (#intervals: 147)\n",
      "#kInterval: 49\n",
      "#kLinear2: 128\n",
      "[Symmetry] Graph for symmetry has 511 nodes and 798 arcs.\n",
      "[Symmetry] Symmetry computation done. time: 4.4604e-05 dtime: 7.603e-05\n",
      "\n",
      "Preloading model.\n",
      "#Bound   0.01s best:inf   next:[78,189]   initial_domain\n",
      "#Model   0.01s var:51/51 constraints:213/213\n",
      "\n",
      "Starting search at 0.01s with 12 workers.\n",
      "8 full problem subsolvers: [default_lp, fixed, max_lp, no_lp, pseudo_costs, quick_restart, quick_restart_no_lp, reduced_costs]\n",
      "4 first solution subsolvers: [fj(2), fs_random, fs_random_no_lp]\n",
      "13 interleaved subsolvers: [feasibility_pump, graph_arc_lns, graph_cst_lns, graph_dec_lns, graph_var_lns, ls, ls_lin, rins/rens, rnd_cst_lns, rnd_var_lns, scheduling_intervals_lns, scheduling_precedences_lns, scheduling_time_window_lns]\n",
      "3 helper subsolvers: [neighborhood_helper, synchronization_agent, update_gap_integral]\n",
      "\n",
      "#1       0.01s best:80    next:[78,79]    no_lp\n"
     ]
    },
    {
     "name": "stdout",
     "output_type": "stream",
     "text": [
      "#2       0.01s best:79    next:[78,78]    no_lp\n",
      "#Done    0.01s no_lp\n",
      "#Done    0.01s default_lp\n",
      "#Done    0.01s quick_restart\n"
     ]
    },
    {
     "name": "stdout",
     "output_type": "stream",
     "text": [
      "\n",
      "Task timing                             n [     min,      max]      avg      dev     time         n [     min,      max]      avg      dev    dtime\n",
      "                  'default_lp':         1 [  2.41ms,   2.41ms]   2.41ms   0.00ns   2.41ms         1 [ 58.11us,  58.11us]  58.11us   0.00ns  58.11us\n",
      "            'feasibility_pump':         1 [  1.25ms,   1.25ms]   1.25ms   0.00ns   1.25ms         0 [  0.00ns,   0.00ns]   0.00ns   0.00ns   0.00ns\n",
      "                       'fixed':         1 [  2.70ms,   2.70ms]   2.70ms   0.00ns   2.70ms         1 [ 59.53us,  59.53us]  59.53us   0.00ns  59.53us\n",
      "                          'fj':         0 [  0.00ns,   0.00ns]   0.00ns   0.00ns   0.00ns         0 [  0.00ns,   0.00ns]   0.00ns   0.00ns   0.00ns\n",
      "                          'fj':         0 [  0.00ns,   0.00ns]   0.00ns   0.00ns   0.00ns         0 [  0.00ns,   0.00ns]   0.00ns   0.00ns   0.00ns\n",
      "                   'fs_random':         1 [826.01us, 826.01us] 826.01us   0.00ns 826.01us         0 [  0.00ns,   0.00ns]   0.00ns   0.00ns   0.00ns\n",
      "             'fs_random_no_lp':         1 [720.49us, 720.49us] 720.49us   0.00ns 720.49us         0 [  0.00ns,   0.00ns]   0.00ns   0.00ns   0.00ns\n",
      "               'graph_arc_lns':         0 [  0.00ns,   0.00ns]   0.00ns   0.00ns   0.00ns         0 [  0.00ns,   0.00ns]   0.00ns   0.00ns   0.00ns\n",
      "               'graph_cst_lns':         0 [  0.00ns,   0.00ns]   0.00ns   0.00ns   0.00ns         0 [  0.00ns,   0.00ns]   0.00ns   0.00ns   0.00ns\n",
      "               'graph_dec_lns':         0 [  0.00ns,   0.00ns]   0.00ns   0.00ns   0.00ns         0 [  0.00ns,   0.00ns]   0.00ns   0.00ns   0.00ns\n",
      "               'graph_var_lns':         0 [  0.00ns,   0.00ns]   0.00ns   0.00ns   0.00ns         0 [  0.00ns,   0.00ns]   0.00ns   0.00ns   0.00ns\n",
      "                          'ls':         0 [  0.00ns,   0.00ns]   0.00ns   0.00ns   0.00ns         0 [  0.00ns,   0.00ns]   0.00ns   0.00ns   0.00ns\n",
      "                      'ls_lin':         0 [  0.00ns,   0.00ns]   0.00ns   0.00ns   0.00ns         0 [  0.00ns,   0.00ns]   0.00ns   0.00ns   0.00ns\n",
      "                      'max_lp':         1 [ 13.95ms,  13.95ms]  13.95ms   0.00ns  13.95ms         0 [  0.00ns,   0.00ns]   0.00ns   0.00ns   0.00ns\n",
      "                       'no_lp':         1 [  2.34ms,   2.34ms]   2.34ms   0.00ns   2.34ms         1 [103.10us, 103.10us] 103.10us   0.00ns 103.10us\n",
      "                'pseudo_costs':         1 [  1.84ms,   1.84ms]   1.84ms   0.00ns   1.84ms         0 [  0.00ns,   0.00ns]   0.00ns   0.00ns   0.00ns\n",
      "               'quick_restart':         1 [  2.36ms,   2.36ms]   2.36ms   0.00ns   2.36ms         1 [ 58.43us,  58.43us]  58.43us   0.00ns  58.43us\n",
      "         'quick_restart_no_lp':         1 [  2.59ms,   2.59ms]   2.59ms   0.00ns   2.59ms         1 [ 90.88us,  90.88us]  90.88us   0.00ns  90.88us\n",
      "               'reduced_costs':         1 [ 14.25ms,  14.25ms]  14.25ms   0.00ns  14.25ms         1 [  1.13us,   1.13us]   1.13us   0.00ns   1.13us\n",
      "                   'rins/rens':         0 [  0.00ns,   0.00ns]   0.00ns   0.00ns   0.00ns         0 [  0.00ns,   0.00ns]   0.00ns   0.00ns   0.00ns\n",
      "                 'rnd_cst_lns':         1 [377.24us, 377.24us] 377.24us   0.00ns 377.24us         0 [  0.00ns,   0.00ns]   0.00ns   0.00ns   0.00ns\n",
      "                 'rnd_var_lns':         1 [390.38us, 390.38us] 390.38us   0.00ns 390.38us         0 [  0.00ns,   0.00ns]   0.00ns   0.00ns   0.00ns\n",
      "    'scheduling_intervals_lns':         0 [  0.00ns,   0.00ns]   0.00ns   0.00ns   0.00ns         0 [  0.00ns,   0.00ns]   0.00ns   0.00ns   0.00ns\n",
      "  'scheduling_precedences_lns':         0 [  0.00ns,   0.00ns]   0.00ns   0.00ns   0.00ns         0 [  0.00ns,   0.00ns]   0.00ns   0.00ns   0.00ns\n",
      "  'scheduling_time_window_lns':         0 [  0.00ns,   0.00ns]   0.00ns   0.00ns   0.00ns         0 [  0.00ns,   0.00ns]   0.00ns   0.00ns   0.00ns\n",
      "\n",
      "Search stats              Bools  Conflicts  Branches  Restarts  BoolPropag  IntegerPropag\n",
      "           'default_lp':     51          1        51         1          32            385\n",
      "                'fixed':     51          1        55         1          25            373\n",
      "            'fs_random':      0          0         0         0           0              0\n",
      "      'fs_random_no_lp':      0          0         0         0           0              0\n",
      "               'max_lp':      0          0         0         0           0              0\n",
      "                'no_lp':     77          4       127         2          68            779\n",
      "         'pseudo_costs':      0          0         0         0           0              0\n",
      "        'quick_restart':     53          1        53         1          32            387\n",
      "  'quick_restart_no_lp':     61          3       107         1          58            677\n",
      "        'reduced_costs':      1          1         2         2           1             53\n",
      "\n",
      "SAT stats                 ClassicMinim  LitRemoved  LitLearned  LitForgotten  Subsumed  MClauses  MDecisions  MLitTrue  MSubsumed  MLitRemoved  MReused\n",
      "           'default_lp':             0           0           0             0         0         0           0         0          0            0        0\n",
      "                'fixed':             0           0           3             0         0         0           0         0          0            0        0\n",
      "            'fs_random':             0           0           0             0         0         0           0         0          0            0        0\n",
      "      'fs_random_no_lp':             0           0           0             0         0         0           0         0          0            0        0\n",
      "               'max_lp':             0           0           0             0         0         0           0         0          0            0        0\n",
      "                'no_lp':             0           0           8             0         0         0           0         0          0            0        0\n",
      "         'pseudo_costs':             0           0           0             0         0         0           0         0          0            0        0\n",
      "        'quick_restart':             0           0           0             0         0         0           0         0          0            0        0\n",
      "  'quick_restart_no_lp':             0           0           8             0         0         0           0         0          0            0        0\n",
      "        'reduced_costs':             0           0           1             0         0         0           0         0          0            0        0\n",
      "\n",
      "Lp stats            Component  Iterations  AddedCuts  OPTIMAL  DUAL_F.  DUAL_U.\n",
      "     'default_lp':          1           0          0       22        0        0\n",
      "          'fixed':          1           0          0       23        0        0\n",
      "         'max_lp':          4           0         22        1        0        0\n",
      "  'quick_restart':          1           0          0       22        0        0\n",
      "  'reduced_costs':          4           0         22        5        0        0\n",
      "\n",
      "Lp dimension        Final dimension of first component\n",
      "     'default_lp':       0 rows, 51 columns, 0 entries\n",
      "          'fixed':       0 rows, 51 columns, 0 entries\n",
      "         'max_lp':   144 rows, 51 columns, 389 entries\n",
      "  'quick_restart':       0 rows, 51 columns, 0 entries\n",
      "  'reduced_costs':    16 rows, 51 columns, 133 entries\n",
      "\n",
      "Lp debug            CutPropag  CutEqPropag  Adjust  Overflow  Bad  BadScaling\n",
      "     'default_lp':          0            0       0         0    0           0\n",
      "          'fixed':          0            0       0         0    0           0\n",
      "         'max_lp':          0            0       0         0    0           0\n",
      "  'quick_restart':          0            0       0         0    0           0\n",
      "  'reduced_costs':          0            0       0         0    0           0\n",
      "\n",
      "Lp pool             Constraints  Updates  Simplif  Merged  Shortened  Split  Strenghtened  Cuts/Call\n",
      "     'default_lp':          128        0        0       0          0      0             0        0/0\n",
      "          'fixed':          128        0       48       0          0      0             0        0/0\n",
      "         'max_lp':          150        0        0       0          0      0             6      22/23\n",
      "  'quick_restart':          128        0        0       0          0      0             0        0/0\n",
      "  'reduced_costs':          150        0        0       0          0      0             6      22/23\n",
      "\n",
      "Lp Cut                                                      max_lp  reduced_costs\n",
      "  CumulativeCompletionTimeExhaustive_lifted_prec_weighted:       2              2\n",
      "                  CumulativeCompletionTimeExhaustive_prec:       3              3\n",
      "           CumulativeCompletionTimeExhaustive_prec_lifted:       9              9\n",
      "                         CumulativeCompletionTimeQueyrane:       2              2\n",
      "                  CumulativeCompletionTimeQueyrane_lifted:       6              6\n",
      "\n",
      "LNS stats                        Improv/Calls  Closed  Difficulty  TimeLimit\n",
      "               'graph_arc_lns':           0/0      0%    5.00e-01       0.10\n",
      "               'graph_cst_lns':           0/0      0%    5.00e-01       0.10\n",
      "               'graph_dec_lns':           0/0      0%    5.00e-01       0.10\n",
      "               'graph_var_lns':           0/0      0%    5.00e-01       0.10\n",
      "                   'rins/rens':           0/0      0%    5.00e-01       0.10\n",
      "                 'rnd_cst_lns':           0/0      0%    5.00e-01       0.10\n",
      "                 'rnd_var_lns':           0/0      0%    5.00e-01       0.10\n",
      "    'scheduling_intervals_lns':           0/0      0%    5.00e-01       0.10\n",
      "  'scheduling_precedences_lns':           0/0      0%    5.00e-01       0.10\n",
      "  'scheduling_time_window_lns':           0/0      0%    5.00e-01       0.10\n",
      "\n",
      "Solutions (2)    Num   Rank\n",
      "       'no_lp':    2  [1,2]\n",
      "\n",
      "Objective bounds     Num\n",
      "  'initial_domain':    1\n",
      "\n",
      "Solution repositories    Added  Queried  Synchro\n",
      "  'feasible solutions':      6        4        2\n",
      "   'fj solution hints':      0        0        0\n",
      "        'lp solutions':      0        0        0\n",
      "                'pump':      0        0\n",
      "\n",
      "Improving bounds shared    Num  Sym\n",
      "                 'no_lp':   51    0\n",
      "\n",
      "CpSolverResponse summary:\n",
      "status: OPTIMAL\n",
      "objective: 79\n",
      "best_bound: 79\n",
      "integers: 51\n",
      "booleans: 0\n",
      "conflicts: 0\n",
      "branches: 0\n",
      "propagations: 0\n",
      "integer_propagations: 0\n",
      "restarts: 0\n",
      "lp_iterations: 0\n",
      "walltime: 0.0232238\n",
      "usertime: 0.0232239\n",
      "deterministic_time: 0.000386916\n",
      "gap_integral: 0\n",
      "solution_fingerprint: 0x979f0875bdfd17a4\n",
      "\n"
     ]
    }
   ],
   "source": [
    "model6 = Model2CpSat(cond2)\n",
    "model6.solve()"
   ]
  },
  {
   "cell_type": "code",
   "execution_count": null,
   "id": "aqbW",
   "metadata": {},
   "outputs": [],
   "source": []
  }
 ],
 "metadata": {},
 "nbformat": 4,
 "nbformat_minor": 5
}
