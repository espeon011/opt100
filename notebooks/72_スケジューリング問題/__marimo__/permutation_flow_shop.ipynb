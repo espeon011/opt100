{
 "cells": [
  {
   "cell_type": "code",
   "execution_count": null,
   "id": "Hbol",
   "metadata": {},
   "outputs": [],
   "source": [
    "import marimo as mo"
   ]
  },
  {
   "cell_type": "code",
   "execution_count": null,
   "id": "MJUe",
   "metadata": {},
   "outputs": [],
   "source": [
    "import random\n",
    "import pyscipopt as scip"
   ]
  },
  {
   "cell_type": "markdown",
   "id": "vblA",
   "metadata": {
    "marimo": {
     "config": {
      "hide_code": true
     }
    }
   },
   "source": [
    "# 順列フローショップ問題"
   ]
  },
  {
   "cell_type": "markdown",
   "id": "bkHC",
   "metadata": {
    "marimo": {
     "config": {
      "hide_code": true
     }
    }
   },
   "source": [
    "$n$ 個のジョブを $m$ 台のマシンで順番に処理する.\n",
    "各ジョブはマシン 1, マシン 2, ... で順に処理されマシン $m$ で処理されると完了になる.\n",
    "\n",
    "![](https://www.researchgate.net/profile/Mariusz-Makuchowski/publication/280775329/figure/fig1/AS:284468087672848@1444833885900/Schedules-of-the-different-variants-of-the-flow-shop-problem.png)"
   ]
  },
  {
   "cell_type": "markdown",
   "id": "lEQa",
   "metadata": {
    "marimo": {
     "config": {
      "hide_code": true
     }
    }
   },
   "source": [
    "## 位置データ定式化"
   ]
  },
  {
   "cell_type": "markdown",
   "id": "PKri",
   "metadata": {
    "marimo": {
     "config": {
      "hide_code": true
     }
    }
   },
   "source": [
    "## 定数\n",
    "\n",
    "- ジョブ: $J = \\{ 1, \\dots, n \\}$\n",
    "- マシン: $M = \\{ 1, \\dots, m \\}$\n",
    "- 処理時間: $p_{ij} \\ (\\forall i \\in M, \\forall j \\in J)$\n",
    "\n",
    "## 決定変数\n",
    "\n",
    "- $x_{j \\kappa} \\in \\{ 0, 1 \\}$: ジョブ $j$ を並べた時の順番が $\\kappa$ 番目であるとき $1$.\n",
    "- $s_{i \\kappa}$: マシン $i$ の $\\kappa$ 番目に並べられているジョブの開始時刻\n",
    "- $f_{i \\kappa}$: マシン $i$ の $\\kappa$ 番目に並べられているジョブの終了時刻"
   ]
  },
  {
   "cell_type": "markdown",
   "id": "Xref",
   "metadata": {
    "marimo": {
     "config": {
      "hide_code": true
     }
    }
   },
   "source": [
    "\\begin{align*}\n",
    "&\\text{minimize} &f_{mn} \\\\\n",
    "&\\text{s.t.} &\\sum_{\\kappa} x_{j \\kappa} &= 1 \\ &(\\forall j \\in J) \\\\\n",
    "& &\\sum_{j \\in J} x_{j \\kappa} &= 1 \\ &(\\forall \\kappa = 1, \\dots, n) \\\\\n",
    "& &f_{i \\kappa} &\\leq s_{i,\\kappa+1} \\ &(\\forall i \\in M, \\forall \\kappa = 1, \\dots, n-1) \\\\\n",
    "& &s_{i \\kappa} + \\sum_{j \\in J} p_{ij} x_{j \\kappa} &\\leq f_{i \\kappa} \\ &(\\forall i \\in M, \\forall \\kappa = 1, \\dots, n) \\\\\n",
    "& &f_{i \\kappa} &\\leq s_{i+1, \\kappa} \\ &(\\forall i \\in M \\setminus \\{m\\}, \\forall \\kappa = 1, \\dots, n) \\\\\n",
    "& &x_{j \\kappa} &\\in \\{ 0, 1 \\} \\ &(\\forall j \\in J, \\kappa = 1, \\dots, n) \\\\\n",
    "& &s_{i \\kappa} &\\geq 0 \\ &(\\forall i \\in M, \\kappa = 1, \\dots, n) \\\\\n",
    "& &f_{i \\kappa} &\\geq 0 \\ &(\\forall i \\in M, \\kappa = 1, \\dots, n) \\\\\n",
    "\\end{align*}"
   ]
  },
  {
   "cell_type": "markdown",
   "id": "SFPL",
   "metadata": {
    "marimo": {
     "config": {
      "hide_code": true
     }
    }
   },
   "source": [
    "## 実装"
   ]
  },
  {
   "cell_type": "code",
   "execution_count": null,
   "id": "BYtC",
   "metadata": {},
   "outputs": [],
   "source": [
    "def make_data_permutation_flow_shop(n, m):\n",
    "    \"\"\"make_data: prepare matrix of m times n random processing times\"\"\"\n",
    "    p = {}\n",
    "    for i in range(1, m + 1):\n",
    "        for j in range(1, n + 1):\n",
    "            p[i, j] = random.randint(1, 10)\n",
    "    return p"
   ]
  },
  {
   "cell_type": "code",
   "execution_count": null,
   "id": "RGSE",
   "metadata": {},
   "outputs": [],
   "source": [
    "def permutation_flow_shop(n, m, p):\n",
    "    \"\"\"permutation_flow_shop problem\n",
    "    Parameters:\n",
    "        - n: number of jobs\n",
    "        - m: number of machines\n",
    "        - p[i,j]: processing time of job i on machine j\n",
    "    Returns a model, ready to be solved.\n",
    "    \"\"\"\n",
    "    model = scip.Model(\"permutation flow shop\")\n",
    "    x, s, f = {}, {}, {}\n",
    "    for j in range(1, n + 1):\n",
    "        for k in range(1, n + 1):\n",
    "            x[j, k] = model.addVar(vtype=\"B\", name=\"x(%s,%s)\" % (j, k))\n",
    "\n",
    "    for i in range(1, m + 1):\n",
    "        for k in range(1, n + 1):\n",
    "            s[i, k] = model.addVar(vtype=\"C\", name=\"start(%s,%s)\" % (i, k))\n",
    "            f[i, k] = model.addVar(vtype=\"C\", name=\"finish(%s,%s)\" % (i, k))\n",
    "\n",
    "    for j in range(1, n + 1):\n",
    "        model.addCons(\n",
    "            scip.quicksum(x[j, k] for k in range(1, n + 1)) == 1,\n",
    "            \"Assign1(%s)\" % (j),\n",
    "        )\n",
    "        model.addCons(\n",
    "            scip.quicksum(x[k, j] for k in range(1, n + 1)) == 1,\n",
    "            \"Assign2(%s)\" % (j),\n",
    "        )\n",
    "\n",
    "    for i in range(1, m + 1):\n",
    "        for k in range(1, n + 1):\n",
    "            if k != n:\n",
    "                model.addCons(\n",
    "                    f[i, k] <= s[i, k + 1], \"FinishStart(%s,%s)\" % (i, k)\n",
    "                )\n",
    "            if i != m:\n",
    "                model.addCons(\n",
    "                    f[i, k] <= s[i + 1, k], \"Machine(%s,%s)\" % (i, k)\n",
    "                )\n",
    "\n",
    "            model.addCons(\n",
    "                s[i, k]\n",
    "                + scip.quicksum(p[i, j] * x[j, k] for j in range(1, n + 1))\n",
    "                <= f[i, k],\n",
    "                \"StartFinish(%s,%s)\" % (i, k),\n",
    "            )\n",
    "\n",
    "    model.setObjective(f[m, n], sense=\"minimize\")\n",
    "\n",
    "    return model, x, s, f"
   ]
  },
  {
   "cell_type": "code",
   "execution_count": null,
   "id": "Kclp",
   "metadata": {},
   "outputs": [
    {
     "name": "stdout",
     "output_type": "stream",
     "text": [
      "presolving:\n",
      "(round 1, fast)       1 del vars, 0 del conss, 0 add conss, 1 chg bounds, 0 chg sides, 0 chg coeffs, 0 upgd conss, 0 impls, 20 clqs\n",
      "(round 2, fast)       3 del vars, 2 del conss, 0 add conss, 1 chg bounds, 0 chg sides, 0 chg coeffs, 0 upgd conss, 0 impls, 20 clqs\n",
      "(round 3, exhaustive) 5 del vars, 4 del conss, 0 add conss, 3 chg bounds, 0 chg sides, 0 chg coeffs, 0 upgd conss, 0 impls, 20 clqs\n",
      "(round 4, fast)       5 del vars, 4 del conss, 0 add conss, 6 chg bounds, 0 chg sides, 0 chg coeffs, 0 upgd conss, 0 impls, 20 clqs\n",
      "(round 5, fast)       7 del vars, 6 del conss, 0 add conss, 6 chg bounds, 0 chg sides, 0 chg coeffs, 0 upgd conss, 0 impls, 20 clqs\n",
      "(round 6, fast)       7 del vars, 6 del conss, 0 add conss, 9 chg bounds, 0 chg sides, 0 chg coeffs, 0 upgd conss, 0 impls, 20 clqs\n",
      "(round 7, fast)       9 del vars, 8 del conss, 0 add conss, 9 chg bounds, 0 chg sides, 0 chg coeffs, 0 upgd conss, 0 impls, 20 clqs\n",
      "(round 8, fast)       9 del vars, 8 del conss, 0 add conss, 13 chg bounds, 0 chg sides, 0 chg coeffs, 0 upgd conss, 0 impls, 20 clqs\n",
      "(round 9, fast)       11 del vars, 10 del conss, 0 add conss, 13 chg bounds, 0 chg sides, 0 chg coeffs, 0 upgd conss, 0 impls, 20 clqs\n",
      "(round 10, fast)       11 del vars, 10 del conss, 0 add conss, 17 chg bounds, 0 chg sides, 0 chg coeffs, 0 upgd conss, 0 impls, 20 clqs\n",
      "(round 11, fast)       13 del vars, 12 del conss, 0 add conss, 17 chg bounds, 0 chg sides, 0 chg coeffs, 0 upgd conss, 0 impls, 20 clqs\n",
      "(round 12, fast)       13 del vars, 12 del conss, 0 add conss, 22 chg bounds, 0 chg sides, 0 chg coeffs, 0 upgd conss, 0 impls, 20 clqs\n",
      "(round 13, fast)       15 del vars, 14 del conss, 0 add conss, 22 chg bounds, 0 chg sides, 0 chg coeffs, 0 upgd conss, 0 impls, 20 clqs\n",
      "(round 14, fast)       15 del vars, 14 del conss, 0 add conss, 27 chg bounds, 0 chg sides, 0 chg coeffs, 0 upgd conss, 0 impls, 20 clqs\n",
      "(round 15, fast)       17 del vars, 16 del conss, 0 add conss, 27 chg bounds, 0 chg sides, 0 chg coeffs, 0 upgd conss, 0 impls, 20 clqs\n",
      "(round 16, fast)       17 del vars, 16 del conss, 0 add conss, 33 chg bounds, 0 chg sides, 0 chg coeffs, 0 upgd conss, 0 impls, 20 clqs\n",
      "(round 17, fast)       21 del vars, 20 del conss, 0 add conss, 33 chg bounds, 0 chg sides, 0 chg coeffs, 0 upgd conss, 0 impls, 20 clqs\n",
      "(round 18, fast)       21 del vars, 20 del conss, 0 add conss, 37 chg bounds, 0 chg sides, 0 chg coeffs, 0 upgd conss, 0 impls, 20 clqs\n",
      "(round 19, fast)       21 del vars, 20 del conss, 0 add conss, 42 chg bounds, 0 chg sides, 0 chg coeffs, 0 upgd conss, 0 impls, 20 clqs\n",
      "(round 20, fast)       21 del vars, 20 del conss, 0 add conss, 47 chg bounds, 0 chg sides, 0 chg coeffs, 0 upgd conss, 0 impls, 20 clqs\n",
      "(round 21, fast)       21 del vars, 20 del conss, 0 add conss, 53 chg bounds, 0 chg sides, 0 chg coeffs, 0 upgd conss, 0 impls, 20 clqs\n",
      "(round 22, fast)       21 del vars, 20 del conss, 0 add conss, 59 chg bounds, 0 chg sides, 0 chg coeffs, 0 upgd conss, 0 impls, 20 clqs\n",
      "(round 23, fast)       21 del vars, 20 del conss, 0 add conss, 66 chg bounds, 0 chg sides, 0 chg coeffs, 0 upgd conss, 0 impls, 20 clqs\n",
      "(round 24, fast)       21 del vars, 20 del conss, 0 add conss, 73 chg bounds, 0 chg sides, 0 chg coeffs, 0 upgd conss, 0 impls, 20 clqs\n",
      "(round 25, fast)       21 del vars, 20 del conss, 0 add conss, 81 chg bounds, 0 chg sides, 0 chg coeffs, 0 upgd conss, 0 impls, 20 clqs\n",
      "(round 26, fast)       21 del vars, 20 del conss, 0 add conss, 89 chg bounds, 0 chg sides, 0 chg coeffs, 0 upgd conss, 0 impls, 20 clqs\n",
      "(round 27, fast)       21 del vars, 20 del conss, 0 add conss, 98 chg bounds, 0 chg sides, 0 chg coeffs, 0 upgd conss, 0 impls, 20 clqs\n",
      "(round 28, fast)       23 del vars, 22 del conss, 0 add conss, 98 chg bounds, 0 chg sides, 0 chg coeffs, 0 upgd conss, 0 impls, 20 clqs\n",
      "(round 29, fast)       23 del vars, 22 del conss, 0 add conss, 105 chg bounds, 0 chg sides, 0 chg coeffs, 0 upgd conss, 0 impls, 20 clqs\n",
      "(round 30, fast)       23 del vars, 22 del conss, 0 add conss, 113 chg bounds, 0 chg sides, 0 chg coeffs, 0 upgd conss, 0 impls, 20 clqs\n",
      "(round 31, fast)       25 del vars, 24 del conss, 0 add conss, 113 chg bounds, 0 chg sides, 0 chg coeffs, 0 upgd conss, 0 impls, 20 clqs\n",
      "(round 32, fast)       25 del vars, 24 del conss, 0 add conss, 119 chg bounds, 0 chg sides, 0 chg coeffs, 0 upgd conss, 0 impls, 20 clqs\n",
      "(round 33, fast)       25 del vars, 24 del conss, 0 add conss, 126 chg bounds, 0 chg sides, 0 chg coeffs, 0 upgd conss, 0 impls, 20 clqs\n",
      "(round 34, fast)       27 del vars, 26 del conss, 0 add conss, 126 chg bounds, 0 chg sides, 0 chg coeffs, 0 upgd conss, 0 impls, 20 clqs\n",
      "(round 35, fast)       27 del vars, 26 del conss, 0 add conss, 131 chg bounds, 0 chg sides, 0 chg coeffs, 0 upgd conss, 0 impls, 20 clqs\n",
      "(round 36, fast)       27 del vars, 26 del conss, 0 add conss, 137 chg bounds, 0 chg sides, 0 chg coeffs, 0 upgd conss, 0 impls, 20 clqs\n",
      "(round 37, fast)       29 del vars, 28 del conss, 0 add conss, 137 chg bounds, 0 chg sides, 0 chg coeffs, 0 upgd conss, 0 impls, 20 clqs\n",
      "(round 38, fast)       29 del vars, 28 del conss, 0 add conss, 141 chg bounds, 0 chg sides, 0 chg coeffs, 0 upgd conss, 0 impls, 20 clqs\n",
      "(round 39, fast)       29 del vars, 28 del conss, 0 add conss, 146 chg bounds, 0 chg sides, 0 chg coeffs, 0 upgd conss, 0 impls, 20 clqs\n",
      "(round 40, fast)       31 del vars, 30 del conss, 0 add conss, 146 chg bounds, 0 chg sides, 0 chg coeffs, 0 upgd conss, 0 impls, 20 clqs\n",
      "(round 41, fast)       31 del vars, 30 del conss, 0 add conss, 149 chg bounds, 0 chg sides, 0 chg coeffs, 0 upgd conss, 0 impls, 20 clqs\n",
      "(round 42, fast)       31 del vars, 30 del conss, 0 add conss, 153 chg bounds, 0 chg sides, 0 chg coeffs, 0 upgd conss, 0 impls, 20 clqs\n",
      "(round 43, fast)       33 del vars, 32 del conss, 0 add conss, 153 chg bounds, 0 chg sides, 0 chg coeffs, 0 upgd conss, 0 impls, 20 clqs\n",
      "(round 44, exhaustive) 33 del vars, 32 del conss, 0 add conss, 158 chg bounds, 0 chg sides, 0 chg coeffs, 0 upgd conss, 0 impls, 20 clqs\n",
      "(round 45, fast)       35 del vars, 34 del conss, 0 add conss, 158 chg bounds, 0 chg sides, 0 chg coeffs, 0 upgd conss, 0 impls, 20 clqs\n",
      "(round 46, exhaustive) 35 del vars, 34 del conss, 0 add conss, 161 chg bounds, 0 chg sides, 0 chg coeffs, 0 upgd conss, 0 impls, 20 clqs\n",
      "(round 47, fast)       37 del vars, 36 del conss, 0 add conss, 161 chg bounds, 0 chg sides, 0 chg coeffs, 0 upgd conss, 0 impls, 20 clqs\n",
      "(round 48, exhaustive) 38 del vars, 37 del conss, 0 add conss, 162 chg bounds, 0 chg sides, 0 chg coeffs, 0 upgd conss, 0 impls, 20 clqs\n",
      "(round 49, exhaustive) 38 del vars, 37 del conss, 0 add conss, 162 chg bounds, 0 chg sides, 0 chg coeffs, 20 upgd conss, 0 impls, 20 clqs\n",
      "   (0.0s) sparsify finished: 268/1675 (16.0%) nonzeros canceled - in total 268 canceled nonzeros, 990 changed coefficients, 0 added nonzeros\n",
      "(round 50, exhaustive) 38 del vars, 37 del conss, 0 add conss, 162 chg bounds, 0 chg sides, 990 chg coeffs, 20 upgd conss, 0 impls, 20 clqs\n",
      "(round 51, fast)       38 del vars, 37 del conss, 0 add conss, 193 chg bounds, 0 chg sides, 990 chg coeffs, 20 upgd conss, 0 impls, 20 clqs\n",
      "(round 52, fast)       38 del vars, 37 del conss, 0 add conss, 227 chg bounds, 0 chg sides, 990 chg coeffs, 20 upgd conss, 0 impls, 20 clqs\n",
      "(round 53, fast)       38 del vars, 37 del conss, 0 add conss, 260 chg bounds, 0 chg sides, 990 chg coeffs, 20 upgd conss, 0 impls, 20 clqs\n",
      "(round 54, fast)       38 del vars, 37 del conss, 0 add conss, 286 chg bounds, 0 chg sides, 990 chg coeffs, 20 upgd conss, 0 impls, 20 clqs\n",
      "(round 55, fast)       38 del vars, 37 del conss, 0 add conss, 311 chg bounds, 0 chg sides, 990 chg coeffs, 20 upgd conss, 0 impls, 20 clqs\n",
      "(round 56, fast)       38 del vars, 37 del conss, 0 add conss, 331 chg bounds, 0 chg sides, 990 chg coeffs, 20 upgd conss, 0 impls, 20 clqs\n",
      "(round 57, fast)       38 del vars, 37 del conss, 0 add conss, 348 chg bounds, 0 chg sides, 990 chg coeffs, 20 upgd conss, 0 impls, 20 clqs\n",
      "(round 58, fast)       38 del vars, 37 del conss, 0 add conss, 361 chg bounds, 0 chg sides, 990 chg coeffs, 20 upgd conss, 0 impls, 20 clqs\n",
      "(round 59, fast)       38 del vars, 37 del conss, 0 add conss, 371 chg bounds, 0 chg sides, 990 chg coeffs, 20 upgd conss, 0 impls, 20 clqs\n",
      "(round 60, fast)       38 del vars, 37 del conss, 0 add conss, 377 chg bounds, 0 chg sides, 990 chg coeffs, 20 upgd conss, 0 impls, 20 clqs\n",
      "(round 61, exhaustive) 38 del vars, 37 del conss, 0 add conss, 434 chg bounds, 0 chg sides, 990 chg coeffs, 20 upgd conss, 0 impls, 20 clqs\n",
      "(round 62, fast)       38 del vars, 37 del conss, 0 add conss, 489 chg bounds, 0 chg sides, 990 chg coeffs, 20 upgd conss, 0 impls, 20 clqs\n",
      "(round 63, fast)       38 del vars, 37 del conss, 0 add conss, 540 chg bounds, 0 chg sides, 990 chg coeffs, 20 upgd conss, 0 impls, 20 clqs\n",
      "(round 64, fast)       38 del vars, 37 del conss, 0 add conss, 590 chg bounds, 0 chg sides, 990 chg coeffs, 20 upgd conss, 0 impls, 20 clqs\n",
      "(round 65, fast)       38 del vars, 37 del conss, 0 add conss, 635 chg bounds, 0 chg sides, 990 chg coeffs, 20 upgd conss, 0 impls, 20 clqs\n",
      "(round 66, fast)       38 del vars, 37 del conss, 0 add conss, 682 chg bounds, 0 chg sides, 990 chg coeffs, 20 upgd conss, 0 impls, 20 clqs\n",
      "(round 67, fast)       38 del vars, 37 del conss, 0 add conss, 723 chg bounds, 0 chg sides, 990 chg coeffs, 20 upgd conss, 0 impls, 20 clqs\n",
      "(round 68, fast)       38 del vars, 37 del conss, 0 add conss, 767 chg bounds, 0 chg sides, 990 chg coeffs, 20 upgd conss, 0 impls, 20 clqs\n",
      "(round 69, fast)       38 del vars, 37 del conss, 0 add conss, 804 chg bounds, 0 chg sides, 990 chg coeffs, 20 upgd conss, 0 impls, 20 clqs\n",
      "(round 70, fast)       38 del vars, 37 del conss, 0 add conss, 843 chg bounds, 0 chg sides, 990 chg coeffs, 20 upgd conss, 0 impls, 20 clqs\n",
      "(round 71, fast)       38 del vars, 37 del conss, 0 add conss, 875 chg bounds, 0 chg sides, 990 chg coeffs, 20 upgd conss, 0 impls, 20 clqs\n",
      "(round 72, fast)       38 del vars, 37 del conss, 0 add conss, 911 chg bounds, 0 chg sides, 990 chg coeffs, 20 upgd conss, 0 impls, 20 clqs\n",
      "(round 73, fast)       38 del vars, 37 del conss, 0 add conss, 944 chg bounds, 0 chg sides, 990 chg coeffs, 20 upgd conss, 0 impls, 20 clqs\n",
      "(round 74, fast)       38 del vars, 37 del conss, 0 add conss, 982 chg bounds, 0 chg sides, 990 chg coeffs, 20 upgd conss, 0 impls, 20 clqs\n",
      "(round 75, fast)       38 del vars, 37 del conss, 0 add conss, 1018 chg bounds, 0 chg sides, 990 chg coeffs, 20 upgd conss, 0 impls, 20 clqs\n",
      "(round 76, fast)       38 del vars, 37 del conss, 0 add conss, 1059 chg bounds, 0 chg sides, 990 chg coeffs, 20 upgd conss, 0 impls, 20 clqs\n",
      "(round 77, fast)       38 del vars, 37 del conss, 0 add conss, 1095 chg bounds, 0 chg sides, 990 chg coeffs, 20 upgd conss, 0 impls, 20 clqs\n",
      "(round 78, fast)       38 del vars, 37 del conss, 0 add conss, 1134 chg bounds, 0 chg sides, 990 chg coeffs, 20 upgd conss, 0 impls, 20 clqs\n",
      "(round 79, fast)       38 del vars, 37 del conss, 0 add conss, 1166 chg bounds, 0 chg sides, 990 chg coeffs, 20 upgd conss, 0 impls, 20 clqs\n",
      "(round 80, fast)       38 del vars, 37 del conss, 0 add conss, 1200 chg bounds, 0 chg sides, 990 chg coeffs, 20 upgd conss, 0 impls, 20 clqs\n",
      "(round 81, fast)       38 del vars, 37 del conss, 0 add conss, 1227 chg bounds, 0 chg sides, 990 chg coeffs, 20 upgd conss, 0 impls, 20 clqs\n",
      "(round 82, fast)       38 del vars, 37 del conss, 0 add conss, 1256 chg bounds, 0 chg sides, 990 chg coeffs, 20 upgd conss, 0 impls, 20 clqs\n",
      "(round 83, fast)       38 del vars, 37 del conss, 0 add conss, 1278 chg bounds, 0 chg sides, 990 chg coeffs, 20 upgd conss, 0 impls, 20 clqs\n",
      "(round 84, fast)       38 del vars, 37 del conss, 0 add conss, 1301 chg bounds, 0 chg sides, 990 chg coeffs, 20 upgd conss, 0 impls, 20 clqs\n",
      "(round 85, fast)       38 del vars, 37 del conss, 0 add conss, 1316 chg bounds, 0 chg sides, 990 chg coeffs, 20 upgd conss, 0 impls, 20 clqs\n",
      "(round 86, fast)       38 del vars, 37 del conss, 0 add conss, 1334 chg bounds, 0 chg sides, 990 chg coeffs, 20 upgd conss, 0 impls, 20 clqs\n",
      "(round 87, fast)       38 del vars, 37 del conss, 0 add conss, 1345 chg bounds, 0 chg sides, 990 chg coeffs, 20 upgd conss, 0 impls, 20 clqs\n",
      "(round 88, fast)       38 del vars, 37 del conss, 0 add conss, 1357 chg bounds, 0 chg sides, 990 chg coeffs, 20 upgd conss, 0 impls, 20 clqs\n",
      "(round 89, fast)       38 del vars, 37 del conss, 0 add conss, 1364 chg bounds, 0 chg sides, 990 chg coeffs, 20 upgd conss, 0 impls, 20 clqs\n",
      "(round 90, fast)       38 del vars, 37 del conss, 0 add conss, 1371 chg bounds, 0 chg sides, 990 chg coeffs, 20 upgd conss, 0 impls, 20 clqs\n",
      "(round 91, fast)       38 del vars, 37 del conss, 0 add conss, 1375 chg bounds, 0 chg sides, 990 chg coeffs, 20 upgd conss, 0 impls, 20 clqs\n",
      "(round 92, fast)       38 del vars, 37 del conss, 0 add conss, 1378 chg bounds, 0 chg sides, 990 chg coeffs, 20 upgd conss, 0 impls, 20 clqs\n",
      "   (0.0s) probing cycle finished: starting next cycle\n",
      "(round 93, exhaustive) 38 del vars, 37 del conss, 0 add conss, 1499 chg bounds, 0 chg sides, 990 chg coeffs, 20 upgd conss, 7350 impls, 20 clqs\n",
      "   (0.0s) probing cycle finished: starting next cycle\n",
      "(round 94, exhaustive) 38 del vars, 37 del conss, 0 add conss, 1527 chg bounds, 0 chg sides, 990 chg coeffs, 20 upgd conss, 7463 impls, 20 clqs\n",
      "   (0.0s) probing cycle finished: starting next cycle\n",
      "(round 95, exhaustive) 38 del vars, 37 del conss, 0 add conss, 1553 chg bounds, 0 chg sides, 990 chg coeffs, 20 upgd conss, 7527 impls, 20 clqs\n",
      "   (0.0s) probing cycle finished: starting next cycle\n",
      "(round 96, exhaustive) 38 del vars, 37 del conss, 0 add conss, 1568 chg bounds, 0 chg sides, 990 chg coeffs, 20 upgd conss, 7571 impls, 20 clqs\n",
      "   (0.1s) probing cycle finished: starting next cycle\n",
      "(round 97, exhaustive) 38 del vars, 37 del conss, 0 add conss, 1573 chg bounds, 0 chg sides, 990 chg coeffs, 20 upgd conss, 7576 impls, 20 clqs\n",
      "   (0.1s) probing: 73/100 (73.0%) - 0 fixings, 0 aggregations, 9281 implications, 194 bound changes\n",
      "   (0.1s) probing aborted: 50/50 successive totally useless probings\n",
      "   (0.1s) symmetry computation started: requiring (bin +, int +, cont +), (fixed: bin -, int -, cont -)\n",
      "   (0.1s) no symmetry present (symcode time: 0.00)\n",
      "presolving (98 rounds: 98 fast, 13 medium, 13 exhaustive):\n",
      " 38 deleted vars, 37 deleted constraints, 0 added constraints, 1574 tightened bounds, 0 added holes, 0 changed sides, 990 changed coefficients\n",
      " 7578 implications, 20 cliques\n",
      "presolved problem has 262 variables (100 bin, 0 int, 0 impl, 162 cont) and 263 constraints\n",
      "     20 constraints of type <setppc>\n",
      "    243 constraints of type <linear>\n",
      "Presolving Time: 0.06\n",
      "\n",
      " time | node  | left  |LP iter|LP it/n|mem/heur|mdpt |vars |cons |rows |cuts |sepa|confs|strbr|  dualbound   | primalbound  |  gap   | compl. \n",
      "p 0.1s|     1 |     0 |   109 |     - |  clique|   0 | 262 | 263 | 263 |   0 |  0 |   0 |   0 | 0.000000e+00 | 1.330000e+02 |    Inf | unknown\n",
      "  0.1s|     1 |     0 |  1274 |     - |  4643k |   0 | 262 | 264 | 263 |   0 |  0 |   1 |   0 | 1.067289e+02 | 1.330000e+02 |  24.61%| unknown\n",
      "  0.1s|     1 |     0 |  1274 |     - |  5037k |   0 | 262 | 265 | 263 |   0 |  0 |   2 |   0 | 1.067289e+02 | 1.330000e+02 |  24.61%| unknown\n",
      "  0.1s|     1 |     0 |  1351 |     - |  5599k |   0 | 262 | 265 | 265 |   2 |  1 |   2 |   0 | 1.078753e+02 | 1.330000e+02 |  23.29%| unknown\n",
      "  0.1s|     1 |     0 |  1364 |     - |  6566k |   0 | 262 | 265 | 266 |   3 |  2 |   2 |   0 | 1.078996e+02 | 1.330000e+02 |  23.26%| unknown\n",
      "  0.1s|     1 |     0 |  1386 |     - |  8287k |   0 | 262 | 265 | 267 |   4 |  3 |   2 |   0 | 1.079267e+02 | 1.330000e+02 |  23.23%| unknown\n",
      "  0.1s|     1 |     0 |  1471 |     - |  8854k |   0 | 262 | 265 | 269 |   6 |  4 |   2 |   0 | 1.082702e+02 | 1.330000e+02 |  22.84%| unknown\n",
      "  0.2s|     1 |     0 |  1563 |     - |  9696k |   0 | 262 | 265 | 271 |   8 |  5 |   2 |   0 | 1.086120e+02 | 1.330000e+02 |  22.45%| unknown\n",
      "  0.2s|     1 |     0 |  1627 |     - |    10M |   0 | 262 | 265 | 273 |  10 |  6 |   2 |   0 | 1.087656e+02 | 1.330000e+02 |  22.28%| unknown\n",
      "  0.2s|     1 |     0 |  1653 |     - |    11M |   0 | 262 | 265 | 275 |  12 |  7 |   2 |   0 | 1.088273e+02 | 1.330000e+02 |  22.21%| unknown\n",
      "  0.2s|     1 |     0 |  1667 |     - |    11M |   0 | 262 | 266 | 276 |  13 |  8 |   3 |   0 | 1.088357e+02 | 1.330000e+02 |  22.20%| unknown\n",
      "  0.2s|     1 |     0 |  1742 |     - |    13M |   0 | 262 | 266 | 277 |  14 |  9 |   3 |   0 | 1.089488e+02 | 1.330000e+02 |  22.08%| unknown\n",
      "  0.2s|     1 |     0 |  1747 |     - |    13M |   0 | 262 | 267 | 279 |  16 | 10 |   4 |   0 | 1.089499e+02 | 1.330000e+02 |  22.07%| unknown\n",
      "  0.3s|     1 |     0 |  1762 |     - |    13M |   0 | 262 | 268 | 280 |  17 | 11 |   5 |   0 | 1.089665e+02 | 1.330000e+02 |  22.06%| unknown\n",
      "  0.3s|     1 |     0 |  1811 |     - |    13M |   0 | 262 | 268 | 281 |  18 | 12 |   5 |   0 | 1.089902e+02 | 1.330000e+02 |  22.03%| unknown\n",
      " time | node  | left  |LP iter|LP it/n|mem/heur|mdpt |vars |cons |rows |cuts |sepa|confs|strbr|  dualbound   | primalbound  |  gap   | compl. \n",
      "  0.3s|     1 |     0 |  1828 |     - |    13M |   0 | 262 | 268 | 282 |  19 | 13 |   5 |   0 | 1.089959e+02 | 1.330000e+02 |  22.02%| unknown\n",
      "  0.3s|     1 |     0 |  1840 |     - |    14M |   0 | 262 | 270 | 284 |  21 | 14 |   7 |   0 | 1.090043e+02 | 1.330000e+02 |  22.01%| unknown\n",
      "  0.3s|     1 |     0 |  1850 |     - |    14M |   0 | 262 | 271 | 280 |  22 | 15 |   8 |   0 | 1.090101e+02 | 1.330000e+02 |  22.01%| unknown\n",
      "  0.4s|     1 |     0 |  1856 |     - |    14M |   0 | 262 | 271 | 281 |  23 | 16 |   8 |   0 | 1.090135e+02 | 1.330000e+02 |  22.00%| unknown\n",
      "  0.4s|     1 |     0 |  1861 |     - |    14M |   0 | 262 | 271 | 282 |  24 | 17 |   8 |   0 | 1.090170e+02 | 1.330000e+02 |  22.00%| unknown\n",
      "  0.4s|     1 |     0 |  1872 |     - |    14M |   0 | 262 | 271 | 283 |  25 | 18 |   8 |   0 | 1.090196e+02 | 1.330000e+02 |  22.00%| unknown\n",
      "  0.4s|     1 |     0 |  1875 |     - |    14M |   0 | 262 | 271 | 284 |  26 | 19 |   8 |   0 | 1.090201e+02 | 1.330000e+02 |  22.00%| unknown\n",
      "  0.4s|     1 |     0 |  1876 |     - |    14M |   0 | 262 | 271 | 285 |  27 | 20 |   8 |   0 | 1.090204e+02 | 1.330000e+02 |  22.00%| unknown\n",
      "  0.4s|     1 |     0 |  1893 |     - |    14M |   0 | 262 | 271 | 280 |  28 | 21 |   8 |   0 | 1.090261e+02 | 1.330000e+02 |  21.99%| unknown\n",
      "  0.5s|     1 |     0 |  1894 |     - |    14M |   0 | 262 | 271 | 281 |  29 | 22 |   8 |   0 | 1.090261e+02 | 1.330000e+02 |  21.99%| unknown\n",
      "d 0.5s|     1 |     0 |  2798 |     - |farkasdi|   0 | 262 | 271 | 281 |   0 | 22 |   8 |   0 | 1.090261e+02 | 1.270000e+02 |  16.49%| unknown\n",
      "L 0.9s|     1 |     0 |  4063 |     - |    rens|   0 | 262 | 271 | 281 |  29 | 22 |   8 |   0 | 1.090261e+02 | 1.190000e+02 |   9.15%| unknown\n",
      "  0.9s|     1 |     0 |  4063 |     - |    14M |   0 | 262 | 271 | 281 |  29 | 22 |   8 |   0 | 1.090261e+02 | 1.190000e+02 |   9.15%| unknown\n",
      "  0.9s|     1 |     0 |  4063 |     - |    14M |   0 | 262 | 271 | 281 |  29 | 22 |   8 |   0 | 1.090261e+02 | 1.190000e+02 |   9.15%| unknown\n",
      "  0.9s|     1 |     0 |  4067 |     - |    14M |   0 | 262 | 271 | 282 |  30 | 23 |   8 |   0 | 1.090262e+02 | 1.190000e+02 |   9.15%| unknown\n",
      " time | node  | left  |LP iter|LP it/n|mem/heur|mdpt |vars |cons |rows |cuts |sepa|confs|strbr|  dualbound   | primalbound  |  gap   | compl. \n",
      "  1.0s|     1 |     0 |  4067 |     - |    14M |   0 | 262 | 272 | 282 |  30 | 24 |   9 |  14 | 1.091522e+02 | 1.190000e+02 |   9.02%| unknown\n",
      "  1.1s|     1 |     0 |  4067 |     - |    14M |   0 | 262 | 272 | 282 |  30 | 25 |   9 |  15 | 1.091522e+02 | 1.190000e+02 |   9.02%| unknown\n",
      "  1.1s|     1 |     0 |  4067 |     - |    14M |   0 | 262 | 272 | 282 |  30 | 26 |   9 |  24 | 1.091522e+02 | 1.190000e+02 |   9.02%| unknown\n",
      "  1.2s|     1 |     0 |  4067 |     - |    14M |   0 | 262 | 272 | 282 |  30 | 27 |   9 |  33 | 1.098333e+02 | 1.190000e+02 |   8.35%| unknown\n",
      "  1.3s|     1 |     0 |  4067 |     - |    14M |   0 | 262 | 272 | 282 |  30 | 28 |   9 |  41 | 1.098333e+02 | 1.190000e+02 |   8.35%| unknown\n",
      "  1.4s|     1 |     2 |  4067 |     - |    14M |   0 | 262 | 272 | 282 |  30 | 29 |   9 |  45 | 1.098333e+02 | 1.190000e+02 |   8.35%| unknown\n",
      "  2.7s|   100 |    15 | 12576 | 109.1 |    25M |  16 | 262 | 340 | 279 |  75 |  0 | 100 | 430 | 1.140000e+02 | 1.190000e+02 |   4.39%|  61.71%\n",
      "  3.2s|   200 |    33 | 18825 |  85.7 |    31M |  19 | 262 | 352 | 281 | 123 |  1 | 119 | 561 | 1.141734e+02 | 1.190000e+02 |   4.23%|  62.46%\n",
      "* 3.7s|   299 |     7 | 22926 |  71.0 |    LP  |  25 | 262 | 362 | 280 | 142 |  1 | 137 | 644 | 1.153169e+02 | 1.180000e+02 |   2.33%|  78.93%\n",
      "  3.7s|   300 |     8 | 22940 |  70.8 |    31M |  25 | 262 | 362 | 281 | 142 |  2 | 137 | 644 | 1.153169e+02 | 1.180000e+02 |   2.33%|  78.94%\n",
      "  4.1s|   400 |     2 | 28148 |  66.1 |    32M |  25 | 262 | 332 | 279 | 170 |  0 | 154 | 687 | 1.170000e+02 | 1.180000e+02 |   0.85%|  98.39%\n",
      "\n",
      "SCIP Status        : problem is solved [optimal solution found]\n",
      "Solving Time (sec) : 4.10\n",
      "Solving Nodes      : 406\n",
      "Primal Bound       : +1.18000000000000e+02 (5 solutions)\n",
      "Dual Bound         : +1.18000000000000e+02\n",
      "Gap                : 0.00 %\n",
      "Opt.value= 118.0\n"
     ]
    }
   ],
   "source": [
    "n = 10\n",
    "m = 10\n",
    "p = make_data_permutation_flow_shop(n, m)\n",
    "\n",
    "model, x, s, f = permutation_flow_shop(n, m, p)\n",
    "model.optimize()\n",
    "print(\"Opt.value=\", model.getObjVal())"
   ]
  },
  {
   "cell_type": "code",
   "execution_count": null,
   "id": "emfo",
   "metadata": {},
   "outputs": [],
   "source": []
  }
 ],
 "metadata": {},
 "nbformat": 4,
 "nbformat_minor": 5
}
