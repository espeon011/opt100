{
 "cells": [
  {
   "cell_type": "code",
   "execution_count": null,
   "id": "Hbol",
   "metadata": {},
   "outputs": [],
   "source": [
    "import marimo as mo"
   ]
  },
  {
   "cell_type": "code",
   "execution_count": null,
   "id": "MJUe",
   "metadata": {},
   "outputs": [],
   "source": [
    "import random\n",
    "import pyscipopt as scip\n",
    "from ortools.sat.python import cp_model"
   ]
  },
  {
   "cell_type": "markdown",
   "id": "vblA",
   "metadata": {
    "marimo": {
     "config": {
      "hide_code": true
     }
    }
   },
   "source": [
    "# 1 機械リリース時刻付き重み付き完了時刻和最小化問題"
   ]
  },
  {
   "cell_type": "markdown",
   "id": "bkHC",
   "metadata": {
    "marimo": {
     "config": {
      "hide_code": true
     }
    }
   },
   "source": [
    "- 機械: 1 つだけ\n",
    "- ジョブ $J = \\{ 1, \\dots, n \\}$\n",
    "- 各ジョブの処理時間: $p_j \\ (\\forall j \\in J)$\n",
    "- 各ジョブの重要度: $w_j \\ (\\forall j \\in J)$\n",
    "- 各ジョブのリリース時刻: $r_j \\ (\\forall j \\in J)$\n",
    "- 各ジョブの処理完了時刻: $C_j \\ (\\forall j \\in J)$\n",
    "\n",
    "$C_j$ の重み付き和を最小化する."
   ]
  },
  {
   "cell_type": "markdown",
   "id": "lEQa",
   "metadata": {
    "marimo": {
     "config": {
      "hide_code": true
     }
    }
   },
   "source": [
    "## 離接定式化(Disjunctive formulation)"
   ]
  },
  {
   "cell_type": "markdown",
   "id": "PKri",
   "metadata": {
    "marimo": {
     "config": {
      "hide_code": true
     }
    }
   },
   "source": [
    "$M$ を大きな定数として\n",
    "\n",
    "\\begin{align*}\n",
    "&\\text{minimize} &\\sum_{j=1}^n w_j s_j + \\sum_{j=1}^n w_j p_j \\\\\n",
    "&\\text{s.t.} &s_j + p_j - M (1 - x_{jk}) &\\leq s_k \\ &(\\forall j \\neq k) \\\\\n",
    "& &x_{jk} + x_{kj} &= 1 \\ &(\\forall j < k) \\\\\n",
    "& &s_j &\\geq r_j \\ &(\\forall j \\in J) \\\\\n",
    "& &x_{jk} &\\in \\{0, 1\\} \\ &(\\forall j \\neq k)\n",
    "\\end{align*}\n",
    "\n",
    "- 決定変数\n",
    "    - $s_j$: ジョブ $j$ の開始時刻\n",
    "    - $x_{jk}$: ジョブ $j$ がジョブ $k$ に先行するとき $1$\n",
    "- 補足\n",
    "    - 目的関数の第 2 項目は定数であるため第 1 項だけを最小化すればよい"
   ]
  },
  {
   "cell_type": "markdown",
   "id": "Xref",
   "metadata": {
    "marimo": {
     "config": {
      "hide_code": true
     }
    }
   },
   "source": [
    "## 実装"
   ]
  },
  {
   "cell_type": "code",
   "execution_count": null,
   "id": "SFPL",
   "metadata": {},
   "outputs": [],
   "source": [
    "def make_data(n):\n",
    "    \"\"\"\n",
    "    Data generator for the one machine scheduling problem.\n",
    "    \"\"\"\n",
    "\n",
    "    random.seed(0)\n",
    "    p, r, d, w = {}, {}, {}, {}\n",
    "\n",
    "    J = range(1, n + 1)\n",
    "\n",
    "    for j in J:\n",
    "        p[j] = random.randint(1, 4)\n",
    "        w[j] = random.randint(1, 3)\n",
    "\n",
    "    T = sum(p)\n",
    "    for j in J:\n",
    "        r[j] = random.randint(0, 5)\n",
    "        d[j] = r[j] + random.randint(0, 5)\n",
    "\n",
    "    return J, p, r, d, w"
   ]
  },
  {
   "cell_type": "code",
   "execution_count": null,
   "id": "BYtC",
   "metadata": {},
   "outputs": [],
   "source": [
    "class ModelDisjunctiveScip:\n",
    "    def __init__(self, J, p, r, w):\n",
    "        self.J = J\n",
    "        self.p = p\n",
    "        self.r = r\n",
    "        self.w = w\n",
    "\n",
    "        self.scip = scip.Model(\"scheduling: disjunctive\")\n",
    "\n",
    "        # Big M\n",
    "        M = max(self.r.values()) + sum(self.p.values())\n",
    "\n",
    "        # start time variable, x[j,k] = 1 if job j precedes job k, 0 otherwise\n",
    "        self.x = {}\n",
    "        self.s = {}\n",
    "\n",
    "        ub = sum(self.p[j] for j in self.J)\n",
    "        for j in self.J:\n",
    "            self.s[j] = self.scip.addVar(lb=r[j], ub=ub, vtype=\"C\", name=f\"s[{j}]\")\n",
    "            for k in self.J:\n",
    "                if j != k:\n",
    "                    self.x[j, k] = self.scip.addVar(vtype=\"B\", name=f\"x[{j},{k}]\")\n",
    "\n",
    "        for j in self.J:\n",
    "            for k in self.J:\n",
    "                if j != k:\n",
    "                    self.scip.addCons(\n",
    "                        self.s[j] - self.s[k] + M * self.x[j, k] <= (M - self.p[j]), f\"Bound[{j},{k}]\"\n",
    "                    )\n",
    "\n",
    "                if j < k:\n",
    "                    self.scip.addCons(self.x[j, k] + self.x[k, j] == 1, f\"Disjunctive[{j},{k}]\")\n",
    "\n",
    "        self.scip.setObjective(scip.quicksum(self.w[_j] * self.s[_j] for _j in self.J), sense=\"minimize\")\n",
    "\n",
    "    def solve(self) -> None:\n",
    "        self.scip.optimize()\n",
    "\n",
    "    def get_z(self):\n",
    "        return self.scip.getObjVal() + sum([self.w[_j] * self.p[_j] for _j in self.J])\n",
    "\n",
    "    def get_seq(self):\n",
    "        return [_j for (_t, _j) in sorted([(int(self.scip.getVal(self.s[_j]) + 0.5), _j) for _j in self.s])]"
   ]
  },
  {
   "cell_type": "code",
   "execution_count": null,
   "id": "RGSE",
   "metadata": {},
   "outputs": [],
   "source": [
    "class _MyInterval:\n",
    "    # [start, end)\n",
    "    def __init__(self, scip: scip.Model, lb: int, ub: int, size: int):\n",
    "        self.lb = lb\n",
    "        self.ub = ub\n",
    "        self.size = size\n",
    "        self.start = scip.addVar(lb=self.lb, ub=self.ub - self.size, vtype='C')\n",
    "        self.end = self.start + self.size\n",
    "\n",
    "def _my_add_no_overlap(scip: scip.Model, jobs: dict[int, _MyInterval]):\n",
    "    if len(jobs) == 0:\n",
    "        return\n",
    "    for _j1 in jobs.keys():\n",
    "        for _j2 in jobs.keys():\n",
    "            if _j2 <= _j1:\n",
    "                continue\n",
    "            big_m = max(jobs[_j1].ub - jobs[_j2].lb, jobs[_j2].ub - jobs[_j1].lb)\n",
    "            tmp1 = scip.addVar(vtype='B')\n",
    "            scip.addCons(\n",
    "                jobs[_j1].end <= jobs[_j2].start + big_m * (1 - tmp1)\n",
    "            )\n",
    "            tmp2 = scip.addVar(vtype='B')\n",
    "            scip.addCons(\n",
    "                jobs[_j2].end <= jobs[_j1].start + big_m * (1 - tmp2)\n",
    "            )\n",
    "            scip.addCons(tmp1 + tmp2 >= 1)\n",
    "\n",
    "class ModelIntervalScip:\n",
    "    def __init__(self, J, p, r, w):\n",
    "        self.J = J\n",
    "        self.p = p\n",
    "        self.r = r\n",
    "        self.w = w\n",
    "\n",
    "        self.scip = scip.Model(\"scheduling: disjunctive\")\n",
    "\n",
    "        ub = sum(p[_j] for _j in J)\n",
    "        self.jobs = {_j: _MyInterval(self.scip, self.r[_j], ub, self.p[_j]) for _j in self.J}\n",
    "        _my_add_no_overlap(self.scip, self.jobs)\n",
    "\n",
    "        self.scip.setObjective(scip.quicksum(self.w[_j] * self.jobs[_j].start for _j in self.J), sense=\"minimize\")\n",
    "\n",
    "    def solve(self) -> None:\n",
    "            self.scip.optimize()\n",
    "\n",
    "    def get_z(self):\n",
    "        return self.scip.getObjVal() + sum([self.w[_j] * self.p[_j] for _j in self.J])\n",
    "\n",
    "    def get_seq(self):\n",
    "        return [_j for (_t, _j) in sorted([(int(self.scip.getVal(self.jobs[_j].start) + 0.5), _j) for _j in self.jobs])]"
   ]
  },
  {
   "cell_type": "code",
   "execution_count": null,
   "id": "Kclp",
   "metadata": {},
   "outputs": [],
   "source": [
    "class ModelDisjunctiveCpSat:\n",
    "    def __init__(self, J, p, r, w):\n",
    "        self.J = J\n",
    "        self.p = p\n",
    "        self.r = r\n",
    "        self.w = w\n",
    "\n",
    "        self.cp = cp_model.CpModel()\n",
    "        self.solver = cp_model.CpSolver()\n",
    "\n",
    "        # Big M\n",
    "        M = max(r.values()) + sum(p.values())\n",
    "\n",
    "        # start time variable, x[j,k] = 1 if job j precedes job k, 0 otherwise\n",
    "        self.x = {}\n",
    "        self.s = {}\n",
    "\n",
    "        ub = sum(p[j] for j in J)\n",
    "        for j in J:\n",
    "            self.s[j] = self.cp.new_int_var(lb=r[j], ub=ub, name=f\"s[{j}]\")\n",
    "            for k in J:\n",
    "                if j != k:\n",
    "                    self.x[j, k] = self.cp.new_bool_var(name=f\"x[{j},{k}]\")\n",
    "\n",
    "        for j in J:\n",
    "            for k in J:\n",
    "                if j != k:\n",
    "                    self.cp.add(self.s[j] - self.s[k] + M * self.x[j, k] <= (M - p[j]))\n",
    "\n",
    "                if j < k:\n",
    "                    self.cp.add(self.x[j, k] + self.x[k, j] == 1)\n",
    "\n",
    "        self.cp.minimize(sum(self.w[j] * self.s[j] for j in J))\n",
    "\n",
    "    def solve(self) -> None:\n",
    "        self.solver.parameters.log_search_progress = True\n",
    "        self.solver.solve(self.cp)\n",
    "\n",
    "    def get_z(self):\n",
    "        return self.solver.objective_value + sum([self.w[_j] * self.p[_j] for _j in self.J])\n",
    "\n",
    "    def get_seq(self):\n",
    "        return [_j for (_t, _j) in sorted([(int(self.solver.value(self.s[_j]) + 0.5), _j) for _j in self.s])]"
   ]
  },
  {
   "cell_type": "code",
   "execution_count": null,
   "id": "emfo",
   "metadata": {},
   "outputs": [],
   "source": [
    "class ModelIntervalCpSat:\n",
    "    def __init__(self, J, p, r, w):\n",
    "        self.J = J\n",
    "        self.p = p\n",
    "        self.r = r\n",
    "        self.w = w\n",
    "\n",
    "        self.cp = cp_model.CpModel()\n",
    "        self.solver = cp_model.CpSolver()\n",
    "\n",
    "        ub = sum(p[_j] for _j in J)\n",
    "        s = {_j: self.cp.new_int_var(lb=self.r[_j], ub=ub, name=f\"s[{_j}]\") for _j in self.J}\n",
    "        self.jobs = {_j: self.cp.new_fixed_size_interval_var(s[_j], self.p[_j], f\"jobs[{_j}]\") for _j in self.J}\n",
    "        self.cp.add_no_overlap(self.jobs.values())\n",
    "\n",
    "        self.cp.minimize(sum(self.w[_j] * self.jobs[_j].start_expr() for _j in J))\n",
    "\n",
    "    def solve(self) -> None:\n",
    "        self.solver.parameters.log_search_progress = True\n",
    "        self.solver.solve(self.cp)\n",
    "\n",
    "    def get_z(self):\n",
    "        return self.solver.objective_value + sum([self.w[_j] * self.p[_j] for _j in self.J])\n",
    "\n",
    "    def get_seq(self):\n",
    "        return [_j for (_t, _j) in sorted([(self.solver.value(self.jobs[_j].start_expr()), _j) for _j in self.jobs])]"
   ]
  },
  {
   "cell_type": "code",
   "execution_count": null,
   "id": "Hstk",
   "metadata": {},
   "outputs": [],
   "source": [
    "n = 30\n",
    "J, p, r, d, w = make_data(n)"
   ]
  },
  {
   "cell_type": "code",
   "execution_count": null,
   "id": "nWHF",
   "metadata": {
    "marimo": {
     "config": {
      "hide_code": true
     }
    }
   },
   "outputs": [
    {
     "data": {
      "text/html": [
       "<marimo-ui-element object-id='nWHF-0' random-id='94b5936f-f468-3ab3-c0fa-24db77390656'><marimo-button data-initial-value='0' data-label='&quot;&lt;span class=&#92;&quot;markdown prose dark:prose-invert&#92;&quot;&gt;&lt;span class=&#92;&quot;paragraph&#92;&quot;&gt;Run&lt;/span&gt;&lt;/span&gt;&quot;' data-kind='&quot;neutral&quot;' data-disabled='false' data-full-width='true'></marimo-button></marimo-ui-element>"
      ]
     },
     "metadata": {},
     "output_type": "display_data"
    }
   ],
   "source": [
    "run_scip_disj = mo.ui.run_button(label=\"Run\", full_width=True)\n",
    "run_scip_disj"
   ]
  },
  {
   "cell_type": "code",
   "execution_count": null,
   "id": "iLit",
   "metadata": {},
   "outputs": [],
   "source": [
    "if run_scip_disj.value:\n",
    "    _model = ModelDisjunctiveScip(J, p, r, w)\n",
    "    with mo.redirect_stderr():\n",
    "        _model.solve()\n",
    "\n",
    "    _z = _model.get_z()\n",
    "    _seq = _model.get_seq()\n",
    "    mo.md(f\"\"\"\n",
    "    - Opt.value by Disjunctive Formulation: {_z}\n",
    "    - Solution: {_seq}\n",
    "    \"\"\")"
   ]
  },
  {
   "cell_type": "code",
   "execution_count": null,
   "id": "ZHCJ",
   "metadata": {
    "marimo": {
     "config": {
      "hide_code": true
     }
    }
   },
   "outputs": [
    {
     "data": {
      "text/html": [
       "<marimo-ui-element object-id='ZHCJ-0' random-id='73c72c62-30b6-01cf-1774-5281a48a4e13'><marimo-button data-initial-value='0' data-label='&quot;&lt;span class=&#92;&quot;markdown prose dark:prose-invert&#92;&quot;&gt;&lt;span class=&#92;&quot;paragraph&#92;&quot;&gt;Run&lt;/span&gt;&lt;/span&gt;&quot;' data-kind='&quot;neutral&quot;' data-disabled='false' data-full-width='true'></marimo-button></marimo-ui-element>"
      ]
     },
     "metadata": {},
     "output_type": "display_data"
    }
   ],
   "source": [
    "run_scip_interval = mo.ui.run_button(label=\"Run\", full_width=True)\n",
    "run_scip_interval"
   ]
  },
  {
   "cell_type": "code",
   "execution_count": null,
   "id": "ROlb",
   "metadata": {},
   "outputs": [],
   "source": [
    "if run_scip_interval.value:\n",
    "    _model = ModelIntervalScip(J, p, r, w)\n",
    "    with mo.redirect_stderr():\n",
    "        _model.solve()\n",
    "\n",
    "    _z = _model.get_z()\n",
    "    _seq = _model.get_seq()\n",
    "    mo.md(f\"\"\"\n",
    "    - Optimal value: {_z}\n",
    "    - Solution: {_seq}\n",
    "    \"\"\")"
   ]
  },
  {
   "cell_type": "code",
   "execution_count": null,
   "id": "qnkX",
   "metadata": {},
   "outputs": [
    {
     "name": "stdout",
     "output_type": "stream",
     "text": [
      "\n",
      "Starting CP-SAT solver v9.13.4784\n",
      "Parameters: log_search_progress: true\n",
      "Setting number of workers to 12\n",
      "\n",
      "Initial optimization model '': (model_fingerprint: 0x89d2d6e0295b344b)\n",
      "#Variables: 900 (#ints: 30 in objective) (464 primary variables)\n",
      "  - 870 Booleans in [0,1]\n",
      "  - 5 in [0,74]\n",
      "  - 4 in [1,74]\n",
      "  - 9 in [2,74]\n",
      "  - 4 in [3,74]\n",
      "  - 2 in [4,74]\n",
      "  - 6 in [5,74]\n",
      "#kLinear2: 435\n",
      "#kLinear3: 870\n",
      "\n",
      "Starting presolve at 0.00s\n",
      "  1.44e-04s  0.00e+00d  [DetectDominanceRelations] \n",
      "  3.16e-03s  0.00e+00d  [PresolveToFixPoint] #num_loops=2 #num_dual_strengthening=1 \n",
      "  9.48e-06s  0.00e+00d  [ExtractEncodingFromLinear] \n",
      "  4.27e-05s  0.00e+00d  [DetectDuplicateColumns] \n",
      "  1.36e-04s  0.00e+00d  [DetectDuplicateConstraints] \n",
      "[Symmetry] Graph for symmetry has 2'234 nodes and 3'074 arcs.\n",
      "[Symmetry] Symmetry computation done. time: 0.000337891 dtime: 0.00044344\n",
      "  1.40e-04s  0.00e+00d  [DetectDuplicateConstraintsWithDifferentEnforcements] \n",
      "  2.54e-03s  5.07e-04d  [Probe] #probed=1'740 \n",
      "  3.43e-06s  0.00e+00d  [MaxClique] \n",
      "  1.28e-04s  0.00e+00d  [DetectDominanceRelations] \n",
      "  1.05e-03s  0.00e+00d  [PresolveToFixPoint] #num_loops=1 #num_dual_strengthening=1 \n",
      "  1.06e-04s  0.00e+00d  [ProcessAtMostOneAndLinear] \n",
      "  1.28e-04s  0.00e+00d  [DetectDuplicateConstraints] \n",
      "  1.13e-04s  0.00e+00d  [DetectDuplicateConstraintsWithDifferentEnforcements] \n",
      "  4.13e-06s  0.00e+00d  [DetectDominatedLinearConstraints] \n"
     ]
    },
    {
     "name": "stdout",
     "output_type": "stream",
     "text": [
      "  2.39e-04s  0.00e+00d  [DetectDifferentVariables] #different=435 #cliques=1 #size=30 \n",
      "  5.58e-06s  0.00e+00d  [ProcessSetPPC] \n",
      "  5.88e-06s  0.00e+00d  [FindAlmostIdenticalLinearConstraints] \n",
      "  2.45e-05s  0.00e+00d  [FindBigAtMostOneAndLinearOverlap] \n",
      "  1.30e-04s  6.99e-05d  [FindBigVerticalLinearOverlap] \n",
      "  4.41e-06s  0.00e+00d  [FindBigHorizontalLinearOverlap] \n",
      "  2.83e-06s  0.00e+00d  [MergeClauses] \n",
      "  1.40e-04s  0.00e+00d  [DetectDominanceRelations] \n",
      "  1.08e-03s  0.00e+00d  [PresolveToFixPoint] #num_loops=1 #num_dual_strengthening=1 \n",
      "  1.39e-04s  0.00e+00d  [DetectDominanceRelations] \n",
      "  1.05e-03s  0.00e+00d  [PresolveToFixPoint] #num_loops=1 #num_dual_strengthening=1 \n",
      "  2.59e-05s  0.00e+00d  [DetectDuplicateColumns] \n",
      "  1.39e-04s  0.00e+00d  [DetectDuplicateConstraints] \n",
      "[Symmetry] Graph for symmetry has 2'265 nodes and 3'134 arcs.\n",
      "[Symmetry] Symmetry computation done. time: 0.000248331 dtime: 0.00044797\n",
      "  1.56e-04s  0.00e+00d  [DetectDuplicateConstraintsWithDifferentEnforcements] \n",
      "  6.11e-03s  6.03e-04d  [Probe] #probed=1'740 \n",
      "  3.14e-06s  0.00e+00d  [MaxClique] \n"
     ]
    },
    {
     "name": "stdout",
     "output_type": "stream",
     "text": [
      "  1.43e-04s  0.00e+00d  [DetectDominanceRelations] \n",
      "  1.07e-03s  0.00e+00d  [PresolveToFixPoint] #num_loops=1 #num_dual_strengthening=1 \n",
      "  1.02e-04s  0.00e+00d  [ProcessAtMostOneAndLinear] \n",
      "  1.37e-04s  0.00e+00d  [DetectDuplicateConstraints] \n",
      "  1.21e-04s  0.00e+00d  [DetectDuplicateConstraintsWithDifferentEnforcements] \n",
      "  4.31e-06s  0.00e+00d  [DetectDominatedLinearConstraints] \n",
      "  1.19e-04s  0.00e+00d  [DetectDifferentVariables] \n",
      "  4.32e-06s  0.00e+00d  [ProcessSetPPC] \n",
      "  5.19e-06s  0.00e+00d  [FindAlmostIdenticalLinearConstraints] \n",
      "  2.34e-05s  0.00e+00d  [FindBigAtMostOneAndLinearOverlap] \n",
      "  1.13e-04s  6.99e-05d  [FindBigVerticalLinearOverlap] \n",
      "  3.88e-06s  0.00e+00d  [FindBigHorizontalLinearOverlap] \n",
      "  2.49e-06s  0.00e+00d  [MergeClauses] \n",
      "  1.36e-04s  0.00e+00d  [DetectDominanceRelations] \n",
      "  1.07e-03s  0.00e+00d  [PresolveToFixPoint] #num_loops=1 #num_dual_strengthening=1 \n",
      "  1.28e-04s  0.00e+00d  [ExpandObjective] \n",
      "\n",
      "Presolve summary:\n",
      "  - 435 affine relations were detected.\n",
      "  - rule 'TODO dual: only one blocking enforced constraint?' was applied 5'220 times.\n",
      "  - rule 'affine: new relation' was applied 435 times.\n",
      "  - rule 'deductions: 1547 stored' was applied 1 time.\n",
      "  - rule 'linear: extracted enforcement literal' was applied 870 times.\n",
      "  - rule 'linear: remapped using affine relations' was applied 435 times.\n",
      "  - rule 'no_overlap: inferred from x != y constraints' was applied 1 time.\n",
      "  - rule 'presolve: 0 unused variables removed.' was applied 1 time.\n",
      "  - rule 'presolve: iteration' was applied 2 times.\n",
      "\n",
      "Presolved optimization model '': (model_fingerprint: 0x11ab455e049cc254)\n",
      "#Variables: 465 (#ints: 30 in objective) (465 primary variables)\n",
      "  - 435 Booleans in [0,1]\n",
      "  - 5 in [0,74]\n",
      "  - 4 in [1,74]\n",
      "  - 9 in [2,74]\n",
      "  - 4 in [3,74]\n",
      "  - 2 in [4,74]\n",
      "  - 6 in [5,74]\n",
      "#kInterval: 30\n",
      "#kLinear2: 870 (#enforced: 870)\n",
      "#kNoOverlap: 1 (#intervals: 30)\n",
      "[Symmetry] Graph for symmetry has 1'830 nodes and 3'134 arcs.\n",
      "[Symmetry] Symmetry computation done. time: 0.000218395 dtime: 0.00042187\n",
      "\n",
      "Preloading model.\n",
      "#Bound   0.02s best:inf   next:[157,4736] initial_domain\n",
      "#Model   0.02s var:465/465 constraints:901/901\n",
      "\n",
      "Starting search at 0.02s with 12 workers.\n",
      "8 full problem subsolvers: [core, default_lp, fixed, max_lp, no_lp, quick_restart, quick_restart_no_lp, reduced_costs]\n",
      "4 first solution subsolvers: [fj(2), fs_random, fs_random_no_lp]\n",
      "13 interleaved subsolvers: [feasibility_pump, graph_arc_lns, graph_cst_lns, graph_dec_lns, graph_var_lns, ls, ls_lin, rins/rens, rnd_cst_lns, rnd_var_lns, scheduling_intervals_lns, scheduling_precedences_lns, scheduling_time_window_lns]\n",
      "3 helper subsolvers: [neighborhood_helper, synchronization_agent, update_gap_integral]\n",
      "\n"
     ]
    },
    {
     "name": "stdout",
     "output_type": "stream",
     "text": [
      "#1       0.04s best:1650  next:[157,1649] fixed\n",
      "#2       0.05s best:1618  next:[157,1617] fixed\n",
      "#3       0.05s best:1615  next:[157,1614] fixed\n"
     ]
    },
    {
     "name": "stdout",
     "output_type": "stream",
     "text": [
      "#Bound   0.06s best:1615  next:[159,1614] quick_restart_no_lp\n",
      "#Bound   0.06s best:1615  next:[1208,1614] max_lp\n",
      "#4       0.06s best:1609  next:[1208,1608] quick_restart_no_lp\n"
     ]
    },
    {
     "name": "stdout",
     "output_type": "stream",
     "text": [
      "#Bound   0.07s best:1609  next:[1324,1608] max_lp\n"
     ]
    },
    {
     "name": "stdout",
     "output_type": "stream",
     "text": [
      "#5       0.10s best:1605  next:[1324,1604] quick_restart_no_lp\n",
      "#Bound   0.10s best:1605  next:[1418,1604] reduced_costs\n",
      "#6       0.10s best:1602  next:[1418,1601] quick_restart_no_lp\n"
     ]
    },
    {
     "name": "stdout",
     "output_type": "stream",
     "text": [
      "#7       0.12s best:1588  next:[1418,1587] quick_restart\n"
     ]
    },
    {
     "name": "stdout",
     "output_type": "stream",
     "text": [
      "#Bound   0.13s best:1588  next:[1431,1587] reduced_costs\n"
     ]
    },
    {
     "name": "stdout",
     "output_type": "stream",
     "text": [
      "#8       0.14s best:1570  next:[1431,1569] quick_restart_no_lp\n"
     ]
    },
    {
     "name": "stdout",
     "output_type": "stream",
     "text": [
      "#Bound   0.16s best:1570  next:[1432,1569] reduced_costs\n",
      "#Bound   0.17s best:1570  next:[1435,1569] max_lp\n"
     ]
    },
    {
     "name": "stdout",
     "output_type": "stream",
     "text": [
      "#9       0.35s best:1568  next:[1435,1567] quick_restart\n"
     ]
    },
    {
     "name": "stdout",
     "output_type": "stream",
     "text": [
      "#10      0.41s best:1565  next:[1435,1564] quick_restart\n",
      "#11      0.41s best:1563  next:[1435,1562] quick_restart\n"
     ]
    },
    {
     "name": "stdout",
     "output_type": "stream",
     "text": [
      "#12      0.43s best:1559  next:[1435,1558] quick_restart_no_lp\n"
     ]
    },
    {
     "name": "stdout",
     "output_type": "stream",
     "text": [
      "#13      0.55s best:1558  next:[1435,1557] quick_restart_no_lp\n"
     ]
    },
    {
     "name": "stdout",
     "output_type": "stream",
     "text": [
      "#14      0.59s best:1557  next:[1435,1556] quick_restart_no_lp\n"
     ]
    },
    {
     "name": "stdout",
     "output_type": "stream",
     "text": [
      "#15      0.71s best:1529  next:[1435,1528] graph_dec_lns (d=5.00e-01 s=19 t=0.10 p=0.00 stall=0 h=base)\n"
     ]
    },
    {
     "name": "stdout",
     "output_type": "stream",
     "text": [
      "#16      1.05s best:1486  next:[1435,1485] rins_lp_lns (d=5.00e-01 s=18 t=0.10 p=0.00 stall=0 h=base)\n"
     ]
    },
    {
     "name": "stdout",
     "output_type": "stream",
     "text": [
      "#Model   1.40s var:464/465 constraints:900/901\n"
     ]
    },
    {
     "name": "stdout",
     "output_type": "stream",
     "text": [
      "#Bound   1.42s best:1486  next:[1440,1485] reduced_costs\n"
     ]
    },
    {
     "name": "stdout",
     "output_type": "stream",
     "text": [
      "#17      1.50s best:1484  next:[1440,1483] quick_restart\n"
     ]
    },
    {
     "name": "stdout",
     "output_type": "stream",
     "text": [
      "#Bound   1.53s best:1484  next:[1441,1483] reduced_costs\n"
     ]
    },
    {
     "name": "stdout",
     "output_type": "stream",
     "text": [
      "#18      1.61s best:1480  next:[1441,1479] graph_dec_lns (d=7.07e-01 s=26 t=0.10 p=1.00 stall=0 h=base)\n"
     ]
    },
    {
     "name": "stdout",
     "output_type": "stream",
     "text": [
      "#19      1.75s best:1479  next:[1441,1478] rnd_var_lns (d=8.14e-01 s=30 t=0.10 p=1.00 stall=0 h=base) [combined with: quick_restart...]\n"
     ]
    },
    {
     "name": "stdout",
     "output_type": "stream",
     "text": [
      "#20      2.21s best:1476  next:[1441,1475] rnd_var_lns (d=7.21e-01 s=49 t=0.10 p=0.67 stall=0 h=base)\n"
     ]
    },
    {
     "name": "stdout",
     "output_type": "stream",
     "text": [
      "#21      2.33s best:1474  next:[1441,1473] graph_arc_lns (d=2.93e-01 s=51 t=0.10 p=0.00 stall=0 h=base)\n"
     ]
    },
    {
     "name": "stdout",
     "output_type": "stream",
     "text": [
      "#22      2.54s best:1473  next:[1441,1472] graph_var_lns (d=2.93e-01 s=57 t=0.10 p=0.00 stall=0 h=base)\n"
     ]
    },
    {
     "name": "stdout",
     "output_type": "stream",
     "text": [
      "#23      3.03s best:1472  next:[1441,1471] rnd_var_lns (d=5.97e-01 s=67 t=0.10 p=0.50 stall=0 h=base)\n"
     ]
    },
    {
     "name": "stdout",
     "output_type": "stream",
     "text": [
      "#Model   4.48s var:463/465 constraints:899/901\n"
     ]
    },
    {
     "name": "stdout",
     "output_type": "stream",
     "text": [
      "#Model   4.56s var:462/465 constraints:898/901\n"
     ]
    },
    {
     "name": "stdout",
     "output_type": "stream",
     "text": [
      "#Bound   4.85s best:1472  next:[1442,1471] reduced_costs\n"
     ]
    },
    {
     "name": "stdout",
     "output_type": "stream",
     "text": [
      "#Bound   4.94s best:1472  next:[1443,1471] reduced_costs\n"
     ]
    },
    {
     "name": "stdout",
     "output_type": "stream",
     "text": [
      "#Model   5.17s var:461/465 constraints:896/901\n"
     ]
    },
    {
     "name": "stdout",
     "output_type": "stream",
     "text": [
      "#Bound   5.37s best:1472  next:[1447,1471] max_lp\n"
     ]
    },
    {
     "name": "stdout",
     "output_type": "stream",
     "text": [
      "#Bound   5.41s best:1472  next:[1448,1471] reduced_costs\n"
     ]
    },
    {
     "name": "stdout",
     "output_type": "stream",
     "text": [
      "#Bound   5.52s best:1472  next:[1449,1471] reduced_costs\n"
     ]
    },
    {
     "name": "stdout",
     "output_type": "stream",
     "text": [
      "#Model   5.57s var:458/465 constraints:890/901\n"
     ]
    },
    {
     "name": "stdout",
     "output_type": "stream",
     "text": [
      "#Model   5.65s var:457/465 constraints:889/901\n"
     ]
    },
    {
     "name": "stdout",
     "output_type": "stream",
     "text": [
      "#Bound   5.81s best:1472  next:[1451,1471] max_lp\n"
     ]
    },
    {
     "name": "stdout",
     "output_type": "stream",
     "text": [
      "#Model   6.36s var:455/465 constraints:886/901\n"
     ]
    },
    {
     "name": "stdout",
     "output_type": "stream",
     "text": [
      "#Model   7.15s var:454/465 constraints:883/901\n"
     ]
    },
    {
     "name": "stdout",
     "output_type": "stream",
     "text": [
      "#Bound   7.39s best:1472  next:[1453,1471] reduced_costs\n"
     ]
    },
    {
     "name": "stdout",
     "output_type": "stream",
     "text": [
      "#Model   7.50s var:453/465 constraints:880/901\n"
     ]
    },
    {
     "name": "stdout",
     "output_type": "stream",
     "text": [
      "#Model   8.38s var:452/465 constraints:879/901\n"
     ]
    },
    {
     "name": "stdout",
     "output_type": "stream",
     "text": [
      "#Model   9.32s var:447/465 constraints:870/901\n"
     ]
    },
    {
     "name": "stdout",
     "output_type": "stream",
     "text": [
      "#Model   9.47s var:446/465 constraints:868/901\n"
     ]
    },
    {
     "name": "stdout",
     "output_type": "stream",
     "text": [
      "#Model   9.57s var:445/465 constraints:867/901\n"
     ]
    },
    {
     "name": "stdout",
     "output_type": "stream",
     "text": [
      "#Model  14.94s var:444/465 constraints:864/901\n"
     ]
    },
    {
     "name": "stdout",
     "output_type": "stream",
     "text": [
      "#Model  15.92s var:443/465 constraints:862/901\n"
     ]
    },
    {
     "name": "stdout",
     "output_type": "stream",
     "text": [
      "#Model  16.42s var:440/465 constraints:853/901\n"
     ]
    },
    {
     "name": "stdout",
     "output_type": "stream",
     "text": [
      "#Bound  18.44s best:1472  next:[1466,1471] reduced_costs\n"
     ]
    },
    {
     "name": "stdout",
     "output_type": "stream",
     "text": [
      "#Model  18.51s var:439/465 constraints:850/901\n"
     ]
    },
    {
     "name": "stdout",
     "output_type": "stream",
     "text": [
      "#Bound  18.61s best:1472  next:[1467,1471] reduced_costs\n"
     ]
    },
    {
     "name": "stdout",
     "output_type": "stream",
     "text": [
      "#Model  18.80s var:437/465 constraints:846/901\n"
     ]
    },
    {
     "name": "stdout",
     "output_type": "stream",
     "text": [
      "#Bound  19.02s best:1472  next:[1470,1471] reduced_costs\n"
     ]
    },
    {
     "name": "stdout",
     "output_type": "stream",
     "text": [
      "#Bound  19.07s best:1472  next:[1471,1471] reduced_costs\n"
     ]
    },
    {
     "name": "stdout",
     "output_type": "stream",
     "text": [
      "#Model  19.14s var:425/465 constraints:834/901\n"
     ]
    },
    {
     "name": "stdout",
     "output_type": "stream",
     "text": [
      "#Done   19.23s reduced_costs\n",
      "#Done   19.23s core\n"
     ]
    },
    {
     "name": "stdout",
     "output_type": "stream",
     "text": [
      "\n",
      "Task timing                             n [     min,      max]      avg      dev     time         n [     min,      max]      avg      dev    dtime\n",
      "                        'core':         1 [  19.21s,   19.21s]   19.21s   0.00ns   19.21s         1 [  14.32s,   14.32s]   14.32s   0.00ns   14.32s\n",
      "                  'default_lp':         1 [  19.21s,   19.21s]   19.21s   0.00ns   19.21s         1 [   5.41s,    5.41s]    5.41s   0.00ns    5.41s\n",
      "            'feasibility_pump':         1 [  4.49ms,   4.49ms]   4.49ms   0.00ns   4.49ms         0 [  0.00ns,   0.00ns]   0.00ns   0.00ns   0.00ns\n",
      "                       'fixed':         1 [  19.21s,   19.21s]   19.21s   0.00ns   19.21s         1 [  12.48s,   12.48s]   12.48s   0.00ns   12.48s\n",
      "                          'fj':         1 [ 48.93ms,  48.93ms]  48.93ms   0.00ns  48.93ms         1 [100.25ms, 100.25ms] 100.25ms   0.00ns 100.25ms\n",
      "                          'fj':         1 [ 66.17ms,  66.17ms]  66.17ms   0.00ns  66.17ms         1 [ 95.29ms,  95.29ms]  95.29ms   0.00ns  95.29ms\n",
      "                   'fs_random':         1 [ 11.11ms,  11.11ms]  11.11ms   0.00ns  11.11ms         0 [  0.00ns,   0.00ns]   0.00ns   0.00ns   0.00ns\n",
      "             'fs_random_no_lp':         1 [ 11.15ms,  11.15ms]  11.15ms   0.00ns  11.15ms         1 [ 85.52us,  85.52us]  85.52us   0.00ns  85.52us\n",
      "               'graph_arc_lns':        22 [ 11.22ms, 620.93ms] 311.96ms 228.91ms    6.86s        22 [140.65us, 100.25ms]  58.79ms  45.90ms    1.29s\n",
      "               'graph_cst_lns':        23 [ 10.46ms, 710.44ms] 344.61ms 268.18ms    7.93s        23 [ 98.86us, 100.07ms]  58.80ms  47.31ms    1.35s\n",
      "               'graph_dec_lns':        23 [ 11.58ms, 565.32ms] 280.27ms 199.94ms    6.45s        23 [181.53us, 100.04ms]  58.80ms  44.96ms    1.35s\n",
      "               'graph_var_lns':        15 [ 34.74ms, 700.44ms] 443.22ms 221.01ms    6.65s        15 [  2.01ms, 100.14ms]  67.00ms  39.01ms    1.01s\n",
      "                          'ls':        64 [ 45.34ms, 156.05ms]  69.16ms  29.15ms    4.43s        64 [100.00ms, 100.39ms] 100.08ms  99.57us    6.41s\n",
      "                      'ls_lin':        64 [ 30.92ms, 133.37ms]  67.41ms  21.08ms    4.31s        64 [ 64.12ms, 100.29ms]  99.51ms   4.46ms    6.37s\n",
      "                      'max_lp':         1 [  19.21s,   19.21s]   19.21s   0.00ns   19.21s         1 [   7.90s,    7.90s]    7.90s   0.00ns    7.90s\n",
      "                       'no_lp':         1 [  19.21s,   19.21s]   19.21s   0.00ns   19.21s         1 [   5.57s,    5.57s]    5.57s   0.00ns    5.57s\n",
      "               'quick_restart':         1 [  19.21s,   19.21s]   19.21s   0.00ns   19.21s         1 [   5.52s,    5.52s]    5.52s   0.00ns    5.52s\n",
      "         'quick_restart_no_lp':         1 [  19.21s,   19.21s]   19.21s   0.00ns   19.21s         1 [   5.44s,    5.44s]    5.44s   0.00ns    5.44s\n",
      "               'reduced_costs':         1 [  19.21s,   19.21s]   19.21s   0.00ns   19.21s         1 [   7.56s,    7.56s]    7.56s   0.00ns    7.56s\n",
      "                   'rins/rens':        26 [132.69us, 773.78ms] 311.28ms 276.18ms    8.09s        20 [564.62us, 100.09ms]  72.54ms  42.38ms    1.45s\n",
      "                 'rnd_cst_lns':        25 [ 16.22ms, 697.46ms] 319.57ms 237.08ms    7.99s        25 [472.16us, 100.03ms]  56.09ms  44.27ms    1.40s\n",
      "                 'rnd_var_lns':        29 [  2.95ms, 632.75ms] 268.03ms 218.57ms    7.77s        29 [ 22.00ns, 100.13ms]  57.67ms  46.69ms    1.67s\n",
      "    'scheduling_intervals_lns':        18 [ 30.76ms, 823.14ms] 482.95ms 260.87ms    8.69s        18 [  1.97ms, 100.06ms]  72.23ms  40.33ms    1.30s\n",
      "  'scheduling_precedences_lns':        10 [244.12ms, 873.40ms] 660.29ms 202.45ms    6.60s        10 [ 24.62ms, 100.06ms]  84.94ms  27.13ms 849.40ms\n",
      "  'scheduling_time_window_lns':        64 [  8.63ms,  26.09ms]  12.28ms   4.00ms 785.68ms        64 [316.00ns,  58.57us]   8.17us  14.08us 522.67us\n",
      "\n",
      "Search stats              Bools  Conflicts  Branches  Restarts  BoolPropag  IntegerPropag\n",
      "                 'core':  1'698     96'767   253'934    43'038  35'998'154      7'122'482\n",
      "           'default_lp':  1'085     94'360   170'640    17'162  15'122'955      5'305'043\n",
      "                'fixed':    816    288'502   292'575     2'529  16'660'568     11'125'208\n",
      "            'fs_random':    435          0       908       870         205          1'881\n",
      "      'fs_random_no_lp':    435          0       964       870           0          1'843\n",
      "               'max_lp':    435      8'986    39'859    19'243     404'280        885'405\n",
      "                'no_lp':    962     93'702   155'042    15'209  11'771'357      5'766'079\n",
      "        'quick_restart':  1'922     54'410   379'580    15'287  14'761'617      4'750'680\n",
      "  'quick_restart_no_lp':  1'942     53'510   372'122    16'092  14'800'076      4'705'745\n",
      "        'reduced_costs':  1'525      7'169   253'511    90'699   1'935'739      1'356'392\n",
      "\n",
      "SAT stats                 ClassicMinim  LitRemoved  LitLearned  LitForgotten  Subsumed  MClauses  MDecisions  MLitTrue  MSubsumed  MLitRemoved  MReused\n",
      "                 'core':        92'981   1'125'093   1'453'575       217'212       141    50'812     132'885         0      2'142       20'294   11'151\n",
      "           'default_lp':        89'160   2'611'762   5'223'276     3'559'337       167     8'445      27'085         0         75          625    1'487\n",
      "                'fixed':        31'017      54'517   8'870'684     8'269'864     1'053         0           0         0          0            0        0\n",
      "            'fs_random':             0           0           0             0         0         0           0         0          0            0        0\n",
      "      'fs_random_no_lp':             0           0           0             0         0         0           0         0          0            0        0\n",
      "               'max_lp':         7'843      83'550     295'317             0       162     4'033       9'005         0          4           18      110\n",
      "                'no_lp':        91'684   3'053'876   6'459'948     3'822'967        99     7'392      26'586         0        129          988    1'471\n",
      "        'quick_restart':        34'390     511'580   2'029'396       998'759       163     2'292       7'061         0         27          233      119\n",
      "  'quick_restart_no_lp':        33'991     489'450   1'994'663     1'049'853       213     2'829       9'513         0         29          281      109\n",
      "        'reduced_costs':         4'761      21'351     173'540             0        54     1'844      13'731         0         15          186      882\n",
      "\n",
      "Lp stats            Component  Iterations  AddedCuts  OPTIMAL  DUAL_F.  DUAL_U.\n",
      "         'max_lp':          1     370'051      6'445   17'888   27'802        0\n",
      "  'reduced_costs':          1     266'996      9'815    7'925   18'154        0\n",
      "\n",
      "Lp dimension          Final dimension of first component\n",
      "         'max_lp':   692 rows, 465 columns, 3224 entries\n",
      "  'reduced_costs':  1248 rows, 465 columns, 7416 entries\n",
      "\n",
      "Lp debug            CutPropag  CutEqPropag  Adjust  Overflow     Bad  BadScaling\n",
      "         'max_lp':          0            3  27'949         0   9'376           0\n",
      "  'reduced_costs':          0           12  10'011         0  23'157           0\n",
      "\n",
      "Lp pool             Constraints  Updates  Simplif  Merged  Shortened  Split  Strenghtened     Cuts/Call\n",
      "         'max_lp':        7'091      814    2'689     224        889  1'066         1'810  6'445/17'285\n",
      "  'reduced_costs':       10'354    1'879    7'286     331      3'866  1'562         3'015  9'815/24'144\n",
      "\n",
      "Lp Cut                                                reduced_costs  max_lp\n",
      "                                              CG_FF:             79      86\n",
      "                                               CG_K:             37      22\n",
      "                                               CG_R:            130      91\n",
      "                                              CG_RB:            411     277\n",
      "                                             CG_RBP:            119      86\n",
      "                                             Clique:             87      60\n",
      "                                                 IB:            427     417\n",
      "                                           MIR_1_FF:          1'342   1'271\n",
      "                                            MIR_1_K:            108      90\n",
      "                                           MIR_1_KL:              1       2\n",
      "                                            MIR_1_R:             37      15\n",
      "                                           MIR_1_RB:          1'474     823\n",
      "                                          MIR_1_RBP:            226     168\n",
      "                                           MIR_2_FF:            327     255\n",
      "                                            MIR_2_K:             61      47\n",
      "                                           MIR_2_KL:              1       1\n",
      "                                            MIR_2_R:            120      53\n",
      "                                           MIR_2_RB:            346     200\n",
      "                                          MIR_2_RBP:             44      55\n",
      "                                           MIR_3_FF:            138      63\n",
      "                                            MIR_3_K:             18       9\n",
      "                                           MIR_3_KL:              1       -\n",
      "                                            MIR_3_R:             65      25\n",
      "                                           MIR_3_RB:            138      67\n",
      "                                          MIR_3_RBP:             27      20\n",
      "                                           MIR_4_FF:             53      32\n",
      "                                            MIR_4_K:              6       3\n",
      "                                            MIR_4_R:             40      14\n",
      "                                           MIR_4_RB:             84      50\n",
      "                                          MIR_4_RBP:             12       5\n",
      "                                           MIR_5_FF:             14      13\n",
      "                                            MIR_5_K:              2       -\n",
      "                                            MIR_5_R:             21       8\n",
      "                                           MIR_5_RB:             29      16\n",
      "                                          MIR_5_RBP:              6       7\n",
      "                                           MIR_6_FF:              7       1\n",
      "                                            MIR_6_K:              4       -\n",
      "                                            MIR_6_R:             13       2\n",
      "                                           MIR_6_RB:             28       7\n",
      "                                          MIR_6_RBP:              4       1\n",
      "                  NoOverlapCompletionTimeExhaustive:             16      14\n",
      "           NoOverlapCompletionTimeExhaustive_lifted:             20      26\n",
      "  NoOverlapCompletionTimeExhaustive_lifted_weighted:             86      66\n",
      "         NoOverlapCompletionTimeExhaustive_weighted:             33      14\n",
      "                    NoOverlapCompletionTimeQueyrane:             79      52\n",
      "             NoOverlapCompletionTimeQueyrane_lifted:            147     103\n",
      "                          NoOverlapDisjunctionOnEnd:             35      29\n",
      "                        NoOverlapDisjunctionOnStart:             43      30\n",
      "                                       ZERO_HALF_FF:            172     176\n",
      "                                        ZERO_HALF_K:             21      19\n",
      "                                        ZERO_HALF_R:          2'641   1'271\n",
      "                                       ZERO_HALF_RB:            406     231\n",
      "                                      ZERO_HALF_RBP:             29      52\n",
      "\n",
      "LNS stats                        Improv/Calls  Closed  Difficulty  TimeLimit\n",
      "               'graph_arc_lns':          3/22     45%    3.04e-01       0.10\n",
      "               'graph_cst_lns':          1/23     43%    2.51e-01       0.10\n",
      "               'graph_dec_lns':          2/23     52%    5.82e-01       0.10\n",
      "               'graph_var_lns':          3/15     53%    5.26e-01       0.10\n",
      "                   'rins/rens':          4/23     39%    1.29e-01       0.10\n",
      "                 'rnd_cst_lns':          2/25     44%    2.67e-01       0.10\n",
      "                 'rnd_var_lns':          4/29     52%    7.24e-01       0.10\n",
      "    'scheduling_intervals_lns':          2/18     33%    6.97e-02       0.10\n",
      "  'scheduling_precedences_lns':          1/10     30%    8.97e-02       0.10\n",
      "  'scheduling_time_window_lns':          0/64    100%    1.00e+00       0.10\n",
      "\n",
      "LS stats                                    Batches  Restarts/Perturbs  LinMoves  GenMoves  CompoundMoves  Bactracks  WeightUpdates  ScoreComputed\n",
      "                             'fj_restart':        1                  1     3'618         0              0          0            552        141'937\n",
      "  'fj_restart_decay_compound_perturb_obj':        1                  1         0     1'094            542        274              0         86'219\n",
      "                         'ls_lin_restart':        9                  7    28'651         0              0          0          8'548      1'341'177\n",
      "                'ls_lin_restart_compound':        5                  5         0     2'156             14      1'062              8        391'608\n",
      "        'ls_lin_restart_compound_perturb':        7                  4         0     3'273            140      1'554              5        590'746\n",
      "                   'ls_lin_restart_decay':       11                  8    47'830         0              0          0          3'206      1'615'220\n",
      "          'ls_lin_restart_decay_compound':       10                  7         0     4'420            110      2'131              5        844'226\n",
      "  'ls_lin_restart_decay_compound_perturb':        6                  6         0     2'672              0      1'313              0        506'110\n",
      "           'ls_lin_restart_decay_perturb':        7                  4    31'140         0              0          0          1'888      1'026'730\n",
      "                 'ls_lin_restart_perturb':        9                  6    29'008         0              0          0          8'543      1'340'042\n",
      "                             'ls_restart':       10                  6    32'183         0              0          0         10'470      1'492'019\n",
      "                    'ls_restart_compound':        5                  4         0     2'245             42      1'086              1        422'169\n",
      "            'ls_restart_compound_perturb':       10                  9         0     4'265             10      2'101              2        844'472\n",
      "                       'ls_restart_decay':       13                  8    57'000         0              0          0          3'653      1'908'688\n",
      "              'ls_restart_decay_compound':       11                  8         0     4'584            100      2'230             18        930'167\n",
      "      'ls_restart_decay_compound_perturb':        4                  4         0     2'090              0      1'034              0        336'725\n",
      "               'ls_restart_decay_perturb':        5                  5    21'134         0              0          0          1'534        736'338\n",
      "                     'ls_restart_perturb':        6                  3    19'426         0              0          0          6'669        895'915\n",
      "\n",
      "Solutions (23)            Num     Rank\n",
      "                'fixed':    3    [1,3]\n",
      "        'graph_arc_lns':    1  [21,21]\n",
      "        'graph_dec_lns':    2  [15,18]\n",
      "        'graph_var_lns':    1  [22,22]\n",
      "        'quick_restart':    5   [7,17]\n",
      "  'quick_restart_no_lp':    7   [4,14]\n",
      "          'rins_lp_lns':    1  [16,16]\n",
      "          'rnd_var_lns':    3  [19,23]\n",
      "\n",
      "Objective bounds          Num\n",
      "       'initial_domain':    1\n",
      "               'max_lp':    5\n",
      "  'quick_restart_no_lp':    1\n",
      "        'reduced_costs':   14\n",
      "\n",
      "Solution repositories    Added  Queried  Synchro\n",
      "  'feasible solutions':    114      624       83\n",
      "   'fj solution hints':      0        0        0\n",
      "        'lp solutions':    248       26      176\n",
      "                'pump':      0        0\n",
      "\n",
      "Improving bounds shared    Num  Sym\n",
      "                'max_lp':   29    0\n",
      "         'reduced_costs':   98    0\n",
      "\n",
      "Clauses shared            Num\n",
      "                 'core':    4\n",
      "           'default_lp':   49\n",
      "               'max_lp':  138\n",
      "                'no_lp':   15\n",
      "        'quick_restart':   16\n",
      "  'quick_restart_no_lp':   51\n",
      "        'reduced_costs':  831\n",
      "\n",
      "CpSolverResponse summary:\n",
      "status: OPTIMAL\n",
      "objective: 1472\n",
      "best_bound: 1472\n",
      "integers: 31\n",
      "booleans: 435\n",
      "conflicts: 0\n",
      "branches: 964\n",
      "propagations: 0\n",
      "integer_propagations: 1843\n",
      "restarts: 870\n",
      "lp_iterations: 0\n",
      "walltime: 19.2411\n",
      "usertime: 19.2411\n",
      "deterministic_time: 88.8502\n",
      "gap_integral: 76.008\n",
      "solution_fingerprint: 0x830ef58496aff846\n",
      "\n"
     ]
    }
   ],
   "source": [
    "_model = ModelDisjunctiveCpSat(J, p, r, w)\n",
    "with mo.redirect_stderr():\n",
    "    _model.solve()\n",
    "\n",
    "_z = _model.get_z()\n",
    "_seq = _model.get_seq()\n",
    "mo.md(f\"\"\"\n",
    "- Opt.value by Disjunctive Formulation: {_z}\n",
    "- Solution: {_seq}\n",
    "\"\"\")"
   ]
  },
  {
   "cell_type": "code",
   "execution_count": null,
   "id": "TqIu",
   "metadata": {},
   "outputs": [
    {
     "name": "stdout",
     "output_type": "stream",
     "text": [
      "\n",
      "Starting CP-SAT solver v9.13.4784\n",
      "Parameters: log_search_progress: true\n",
      "Setting number of workers to 12\n",
      "\n",
      "Initial optimization model '': (model_fingerprint: 0x77d9b8aa7f03b1b1)\n",
      "#Variables: 30 (#ints: 30 in objective) (30 primary variables)\n",
      "  - 5 in [0,74]\n",
      "  - 4 in [1,74]\n",
      "  - 9 in [2,74]\n",
      "  - 4 in [3,74]\n",
      "  - 2 in [4,74]\n",
      "  - 6 in [5,74]\n",
      "#kInterval: 30\n",
      "#kNoOverlap: 1 (#intervals: 30)\n",
      "\n",
      "Starting presolve at 0.00s\n",
      "  1.43e-05s  0.00e+00d  [DetectDominanceRelations] \n",
      "  5.40e-05s  0.00e+00d  [PresolveToFixPoint] #num_loops=2 #num_dual_strengthening=1 \n",
      "  1.23e-06s  0.00e+00d  [ExtractEncodingFromLinear] \n",
      "  2.70e-06s  0.00e+00d  [DetectDuplicateColumns] \n",
      "  1.18e-04s  0.00e+00d  [DetectDuplicateConstraints] \n",
      "[Symmetry] Graph for symmetry has 61 nodes and 60 arcs.\n",
      "[Symmetry] Symmetry computation done. time: 2.3064e-05 dtime: 8.17e-06\n",
      "[Symmetry] #generators: 2, average support size: 2\n",
      "[Symmetry] 2 orbits on 4 variables with sizes: 2,2\n",
      "[Symmetry] Found orbitope of size 1 x 2\n",
      "  1.09e-04s  0.00e+00d  [DetectDuplicateConstraintsWithDifferentEnforcements] \n",
      "  1.78e-04s  1.10e-07d  [Probe] \n",
      "  1.86e-06s  0.00e+00d  [MaxClique] \n",
      "  8.04e-06s  0.00e+00d  [DetectDominanceRelations] \n",
      "  3.25e-05s  0.00e+00d  [PresolveToFixPoint] #num_loops=1 #num_dual_strengthening=1 \n",
      "  5.31e-07s  0.00e+00d  [ProcessAtMostOneAndLinear] \n",
      "  1.03e-04s  0.00e+00d  [DetectDuplicateConstraints] \n",
      "  1.00e-04s  0.00e+00d  [DetectDuplicateConstraintsWithDifferentEnforcements] \n",
      "  5.10e-07s  0.00e+00d  [DetectDominatedLinearConstraints] \n",
      "  3.80e-07s  0.00e+00d  [DetectDifferentVariables] \n",
      "  9.52e-07s  0.00e+00d  [ProcessSetPPC] \n",
      "  6.01e-07s  0.00e+00d  [FindAlmostIdenticalLinearConstraints] \n",
      "  1.15e-06s  0.00e+00d  [FindBigAtMostOneAndLinearOverlap] \n",
      "  8.12e-07s  3.00e-07d  [FindBigVerticalLinearOverlap] \n",
      "  7.61e-07s  0.00e+00d  [FindBigHorizontalLinearOverlap] \n",
      "  6.91e-07s  0.00e+00d  [MergeClauses] \n",
      "  6.73e-06s  0.00e+00d  [DetectDominanceRelations] \n",
      "  2.48e-05s  0.00e+00d  [PresolveToFixPoint] #num_loops=1 #num_dual_strengthening=1 \n",
      "  8.21e-05s  0.00e+00d  [ExpandObjective] \n",
      "\n",
      "Presolve summary:\n",
      "  - 0 affine relations were detected.\n",
      "  - rule 'TODO dual: only one blocking constraint?' was applied 90 times.\n",
      "  - rule 'presolve: 0 unused variables removed.' was applied 1 time.\n",
      "  - rule 'presolve: iteration' was applied 1 time.\n",
      "\n",
      "Presolved optimization model '': (model_fingerprint: 0x47b6f70236671c2e)\n",
      "#Variables: 30 (#ints: 30 in objective) (30 primary variables)\n",
      "  - 5 in [0,74]\n",
      "  - 4 in [1,74]\n",
      "  - 9 in [2,74]\n",
      "  - 4 in [3,74]\n",
      "  - 2 in [4,74]\n",
      "  - 6 in [5,74]\n",
      "#kInterval: 30\n",
      "#kNoOverlap: 1 (#intervals: 30)\n",
      "[Symmetry] Graph for symmetry has 61 nodes and 60 arcs.\n",
      "[Symmetry] Symmetry computation done. time: 1.4658e-05 dtime: 8.17e-06\n",
      "[Symmetry] #generators: 2, average support size: 2\n",
      "[Symmetry] 2 orbits on 4 variables with sizes: 2,2\n",
      "[Symmetry] Found orbitope of size 1 x 2\n",
      "\n",
      "Preloading model.\n",
      "#Bound   0.00s best:inf   next:[157,4736] initial_domain\n",
      "#Model   0.00s var:30/30 constraints:31/31\n",
      "\n",
      "Starting search at 0.00s with 12 workers.\n",
      "8 full problem subsolvers: [core, default_lp, fixed, max_lp_sym, no_lp, quick_restart, quick_restart_no_lp, reduced_costs]\n",
      "4 first solution subsolvers: [fj(2), fs_random, fs_random_no_lp]\n",
      "13 interleaved subsolvers: [feasibility_pump, graph_arc_lns, graph_cst_lns, graph_dec_lns, graph_var_lns, ls, ls_lin, rins/rens, rnd_cst_lns, rnd_var_lns, scheduling_intervals_lns, scheduling_precedences_lns, scheduling_time_window_lns]\n",
      "3 helper subsolvers: [neighborhood_helper, synchronization_agent, update_gap_integral]\n",
      "\n",
      "#Bound   0.00s best:inf   next:[160,4736] bool_core (num_cores=1 [size:2 mw:3 d:1] a=29 d=1 fixed=0/30 clauses=0)\n",
      "#Bound   0.00s best:inf   next:[163,4736] bool_core (num_cores=1 [cover] a=29 d=1 fixed=0/33 clauses=1)\n",
      "#Bound   0.00s best:inf   next:[166,4736] bool_core (num_cores=1 [cover] a=29 d=1 fixed=1/36 clauses=3)\n",
      "#1       0.00s best:1610  next:[166,1609] no_lp\n",
      "#Bound   0.00s best:1610  next:[1208,1609] max_lp_sym\n",
      "#2       0.00s best:1606  next:[1208,1605] fixed\n",
      "#Bound   0.00s best:1606  next:[1323,1605] max_lp_sym\n",
      "#Bound   0.00s best:1606  next:[1369,1605] max_lp_sym\n",
      "#Bound   0.01s best:1606  next:[1395,1605] max_lp_sym\n",
      "#3       0.01s best:1605  next:[1395,1604] quick_restart_no_lp\n",
      "#Bound   0.01s best:1605  next:[1409,1604] max_lp_sym\n"
     ]
    },
    {
     "name": "stdout",
     "output_type": "stream",
     "text": [
      "#4       0.01s best:1596  next:[1409,1595] quick_restart\n",
      "#Bound   0.01s best:1596  next:[1410,1595] max_lp_sym\n",
      "#Bound   0.02s best:1596  next:[1418,1595] max_lp_sym\n",
      "#5       0.02s best:1588  next:[1418,1587] quick_restart_no_lp\n"
     ]
    },
    {
     "name": "stdout",
     "output_type": "stream",
     "text": [
      "#6       0.03s best:1584  next:[1418,1583] quick_restart\n",
      "#7       0.03s best:1583  next:[1418,1582] quick_restart_no_lp\n"
     ]
    },
    {
     "name": "stdout",
     "output_type": "stream",
     "text": [
      "#8       0.05s best:1582  next:[1418,1581] quick_restart_no_lp\n",
      "#9       0.05s best:1579  next:[1418,1578] quick_restart\n",
      "#10      0.05s best:1575  next:[1418,1574] quick_restart_no_lp\n",
      "#11      0.05s best:1569  next:[1418,1568] quick_restart\n"
     ]
    },
    {
     "name": "stdout",
     "output_type": "stream",
     "text": [
      "#12      0.06s best:1565  next:[1418,1564] quick_restart_no_lp\n",
      "#13      0.06s best:1564  next:[1418,1563] quick_restart_no_lp\n"
     ]
    },
    {
     "name": "stdout",
     "output_type": "stream",
     "text": [
      "#14      0.07s best:1563  next:[1418,1562] quick_restart_no_lp\n"
     ]
    },
    {
     "name": "stdout",
     "output_type": "stream",
     "text": [
      "#15      0.09s best:1561  next:[1418,1560] quick_restart_no_lp\n"
     ]
    },
    {
     "name": "stdout",
     "output_type": "stream",
     "text": [
      "#16      0.11s best:1560  next:[1418,1559] quick_restart_no_lp\n"
     ]
    },
    {
     "name": "stdout",
     "output_type": "stream",
     "text": [
      "#17      0.15s best:1556  next:[1418,1555] quick_restart\n"
     ]
    },
    {
     "name": "stdout",
     "output_type": "stream",
     "text": [
      "#18      0.17s best:1555  next:[1418,1554] quick_restart\n",
      "#19      0.18s best:1553  next:[1418,1552] quick_restart_no_lp\n",
      "#20      0.18s best:1550  next:[1418,1549] quick_restart_no_lp\n"
     ]
    },
    {
     "name": "stdout",
     "output_type": "stream",
     "text": [
      "#21      0.19s best:1549  next:[1418,1548] quick_restart_no_lp\n",
      "#22      0.19s best:1547  next:[1418,1546] quick_restart_no_lp\n",
      "#23      0.19s best:1546  next:[1418,1545] quick_restart_no_lp\n",
      "#24      0.20s best:1542  next:[1418,1541] quick_restart_no_lp\n"
     ]
    },
    {
     "name": "stdout",
     "output_type": "stream",
     "text": [
      "#25      0.20s best:1541  next:[1418,1540] quick_restart_no_lp\n",
      "#26      0.20s best:1540  next:[1418,1539] quick_restart_no_lp\n"
     ]
    },
    {
     "name": "stdout",
     "output_type": "stream",
     "text": [
      "#27      0.21s best:1539  next:[1418,1538] quick_restart_no_lp\n",
      "#28      0.22s best:1538  next:[1418,1537] quick_restart\n"
     ]
    },
    {
     "name": "stdout",
     "output_type": "stream",
     "text": [
      "#29      0.22s best:1535  next:[1418,1534] quick_restart\n",
      "#30      0.23s best:1534  next:[1418,1533] quick_restart_no_lp\n",
      "#31      0.23s best:1533  next:[1418,1532] quick_restart\n"
     ]
    },
    {
     "name": "stdout",
     "output_type": "stream",
     "text": [
      "#32      0.24s best:1532  next:[1418,1531] quick_restart\n"
     ]
    },
    {
     "name": "stdout",
     "output_type": "stream",
     "text": [
      "#33      0.25s best:1526  next:[1418,1525] quick_restart\n"
     ]
    },
    {
     "name": "stdout",
     "output_type": "stream",
     "text": [
      "#34      0.26s best:1525  next:[1418,1524] quick_restart_no_lp\n"
     ]
    },
    {
     "name": "stdout",
     "output_type": "stream",
     "text": [
      "#35      0.29s best:1522  next:[1418,1521] quick_restart\n",
      "#36      0.30s best:1519  next:[1418,1518] quick_restart_no_lp\n"
     ]
    },
    {
     "name": "stdout",
     "output_type": "stream",
     "text": [
      "#37      0.31s best:1518  next:[1418,1517] quick_restart\n",
      "#38      0.31s best:1512  next:[1418,1511] quick_restart_no_lp\n"
     ]
    },
    {
     "name": "stdout",
     "output_type": "stream",
     "text": [
      "#39      0.44s best:1509  next:[1418,1508] quick_restart\n"
     ]
    },
    {
     "name": "stdout",
     "output_type": "stream",
     "text": [
      "#40      0.46s best:1506  next:[1418,1505] quick_restart_no_lp\n"
     ]
    },
    {
     "name": "stdout",
     "output_type": "stream",
     "text": [
      "#41      0.52s best:1501  next:[1418,1500] quick_restart_no_lp\n",
      "#42      0.52s best:1498  next:[1418,1497] quick_restart_no_lp\n"
     ]
    },
    {
     "name": "stdout",
     "output_type": "stream",
     "text": [
      "#43      0.58s best:1495  next:[1418,1494] quick_restart_no_lp\n"
     ]
    },
    {
     "name": "stdout",
     "output_type": "stream",
     "text": [
      "#Bound   0.64s best:1495  next:[1423,1494] max_lp_sym\n",
      "#Bound   0.64s best:1495  next:[1431,1494] max_lp_sym\n",
      "#Bound   0.64s best:1495  next:[1434,1494] max_lp_sym\n",
      "#Bound   0.65s best:1495  next:[1435,1494] max_lp_sym\n"
     ]
    },
    {
     "name": "stdout",
     "output_type": "stream",
     "text": [
      "#Bound   0.65s best:1495  next:[1436,1494] max_lp_sym\n"
     ]
    },
    {
     "name": "stdout",
     "output_type": "stream",
     "text": [
      "#44      0.66s best:1491  next:[1436,1490] graph_arc_lns (d=5.00e-01 s=17 t=0.10 p=0.00 stall=0 h=base) [combined with: quick_restart_no_lp...]\n"
     ]
    },
    {
     "name": "stdout",
     "output_type": "stream",
     "text": [
      "#45      0.68s best:1490  next:[1436,1489] quick_restart\n"
     ]
    },
    {
     "name": "stdout",
     "output_type": "stream",
     "text": [
      "#46      0.71s best:1488  next:[1436,1487] quick_restart\n",
      "#47      0.72s best:1487  next:[1436,1486] quick_restart_no_lp\n"
     ]
    },
    {
     "name": "stdout",
     "output_type": "stream",
     "text": [
      "#48      0.74s best:1486  next:[1436,1485] quick_restart_no_lp\n"
     ]
    },
    {
     "name": "stdout",
     "output_type": "stream",
     "text": [
      "#49      0.78s best:1485  next:[1436,1484] quick_restart_no_lp\n"
     ]
    },
    {
     "name": "stdout",
     "output_type": "stream",
     "text": [
      "#50      0.81s best:1482  next:[1436,1481] quick_restart_no_lp\n"
     ]
    },
    {
     "name": "stdout",
     "output_type": "stream",
     "text": [
      "#51      0.89s best:1480  next:[1436,1479] quick_restart\n"
     ]
    },
    {
     "name": "stdout",
     "output_type": "stream",
     "text": [
      "#52      0.94s best:1478  next:[1436,1477] quick_restart_no_lp\n"
     ]
    },
    {
     "name": "stdout",
     "output_type": "stream",
     "text": [
      "#53      1.02s best:1477  next:[1436,1476] quick_restart\n",
      "#54      1.02s best:1476  next:[1436,1475] quick_restart\n"
     ]
    },
    {
     "name": "stdout",
     "output_type": "stream",
     "text": [
      "#55      1.05s best:1474  next:[1436,1473] graph_arc_lns (d=2.93e-01 s=33 t=0.10 p=0.00 stall=0 h=base)\n"
     ]
    },
    {
     "name": "stdout",
     "output_type": "stream",
     "text": [
      "#56      1.11s best:1473  next:[1436,1472] rins_lp_lns (d=2.93e-01 s=34 t=0.10 p=0.00 stall=0 h=base)\n"
     ]
    },
    {
     "name": "stdout",
     "output_type": "stream",
     "text": [
      "#57      1.32s best:1472  next:[1436,1471] quick_restart_no_lp\n"
     ]
    },
    {
     "name": "stdout",
     "output_type": "stream",
     "text": [
      "#Bound   1.79s best:1472  next:[1437,1471] max_lp_sym\n"
     ]
    },
    {
     "name": "stdout",
     "output_type": "stream",
     "text": [
      "#Bound   1.82s best:1472  next:[1439,1471] max_lp_sym\n"
     ]
    },
    {
     "name": "stdout",
     "output_type": "stream",
     "text": [
      "#Bound   1.86s best:1472  next:[1442,1471] max_lp_sym\n"
     ]
    },
    {
     "name": "stdout",
     "output_type": "stream",
     "text": [
      "#Bound   1.90s best:1472  next:[1443,1471] max_lp_sym\n"
     ]
    },
    {
     "name": "stdout",
     "output_type": "stream",
     "text": [
      "#Bound   2.20s best:1472  next:[1444,1471] max_lp_sym\n",
      "#Bound   2.20s best:1472  next:[1445,1471] max_lp_sym\n"
     ]
    },
    {
     "name": "stdout",
     "output_type": "stream",
     "text": [
      "#Bound   2.22s best:1472  next:[1449,1471] max_lp_sym\n"
     ]
    },
    {
     "name": "stdout",
     "output_type": "stream",
     "text": [
      "#Done    2.43s max_lp_sym\n"
     ]
    },
    {
     "name": "stdout",
     "output_type": "stream",
     "text": [
      "#Bound   2.43s best:1472  next:[1471,1471] max_lp_sym [skipped_logs=5]\n",
      "\n",
      "Task timing                             n [     min,      max]      avg      dev     time         n [     min,      max]      avg      dev    dtime\n",
      "                        'core':         1 [   2.43s,    2.43s]    2.43s   0.00ns    2.43s         1 [   2.66s,    2.66s]    2.66s   0.00ns    2.66s\n",
      "                  'default_lp':         1 [   2.43s,    2.43s]    2.43s   0.00ns    2.43s         1 [   1.17s,    1.17s]    1.17s   0.00ns    1.17s\n",
      "            'feasibility_pump':         1 [ 79.03us,  79.03us]  79.03us   0.00ns  79.03us         0 [  0.00ns,   0.00ns]   0.00ns   0.00ns   0.00ns\n",
      "                       'fixed':         1 [   2.43s,    2.43s]    2.43s   0.00ns    2.43s         1 [   2.25s,    2.25s]    2.25s   0.00ns    2.25s\n",
      "                          'fj':         1 [ 41.21ms,  41.21ms]  41.21ms   0.00ns  41.21ms         1 [100.07ms, 100.07ms] 100.07ms   0.00ns 100.07ms\n",
      "                          'fj':         1 [196.72ms, 196.72ms] 196.72ms   0.00ns 196.72ms         1 [100.01ms, 100.01ms] 100.01ms   0.00ns 100.01ms\n",
      "                   'fs_random':         1 [278.67us, 278.67us] 278.67us   0.00ns 278.67us         1 [  7.04us,   7.04us]   7.04us   0.00ns   7.04us\n",
      "             'fs_random_no_lp':         1 [234.14us, 234.14us] 234.14us   0.00ns 234.14us         0 [  0.00ns,   0.00ns]   0.00ns   0.00ns   0.00ns\n",
      "               'graph_arc_lns':         5 [  4.01ms, 347.89ms] 195.10ms 155.44ms 975.48ms         5 [321.24us, 100.01ms]  60.25ms  48.70ms 301.23ms\n",
      "               'graph_cst_lns':         5 [  5.57ms, 378.69ms] 209.70ms 167.07ms    1.05s         5 [499.19us, 100.01ms]  60.26ms  48.68ms 301.29ms\n",
      "               'graph_dec_lns':         5 [  2.93ms, 347.88ms] 180.43ms 149.83ms 902.16ms         5 [118.76us, 100.01ms]  50.14ms  44.54ms 250.69ms\n",
      "               'graph_var_lns':         3 [  2.63ms, 423.05ms] 260.69ms 184.49ms 782.07ms         3 [104.34us, 100.03ms]  66.72ms  47.10ms 200.15ms\n",
      "                          'ls':         8 [ 41.78ms,  48.34ms]  43.19ms   1.98ms 345.56ms         8 [100.02ms, 100.16ms] 100.06ms  45.21us 800.47ms\n",
      "                      'ls_lin':         8 [ 40.80ms,  41.73ms]  41.34ms 300.60us 330.70ms         8 [100.01ms, 100.18ms] 100.09ms  68.93us 800.71ms\n",
      "                  'max_lp_sym':         1 [   2.43s,    2.43s]    2.43s   0.00ns    2.43s         1 [638.82ms, 638.82ms] 638.82ms   0.00ns 638.82ms\n",
      "                       'no_lp':         1 [   2.43s,    2.43s]    2.43s   0.00ns    2.43s         1 [   1.13s,    1.13s]    1.13s   0.00ns    1.13s\n",
      "               'quick_restart':         1 [   2.43s,    2.43s]    2.43s   0.00ns    2.43s         1 [   1.15s,    1.15s]    1.15s   0.00ns    1.15s\n",
      "         'quick_restart_no_lp':         1 [   2.44s,    2.44s]    2.44s   0.00ns    2.44s         1 [   1.14s,    1.14s]    1.14s   0.00ns    1.14s\n",
      "               'reduced_costs':         1 [   2.43s,    2.43s]    2.43s   0.00ns    2.43s         1 [623.85ms, 623.85ms] 623.85ms   0.00ns 623.85ms\n",
      "                   'rins/rens':         6 [499.91us, 309.79ms] 157.57ms 139.65ms 945.43ms         4 [ 15.22ms, 100.02ms]  78.81ms  36.72ms 315.26ms\n",
      "                 'rnd_cst_lns':         3 [  3.08ms, 396.38ms] 261.70ms 182.92ms 785.09ms         3 [157.18us, 100.01ms]  66.72ms  47.07ms 200.17ms\n",
      "                 'rnd_var_lns':         4 [  7.56ms, 371.09ms] 228.14ms 147.57ms 912.55ms         4 [936.23us, 100.00ms]  61.12ms  41.70ms 244.48ms\n",
      "    'scheduling_intervals_lns':         3 [ 22.79ms, 390.37ms] 263.07ms 170.01ms 789.22ms         3 [  3.00ms, 100.02ms]  67.68ms  45.73ms 203.04ms\n",
      "  'scheduling_precedences_lns':         3 [175.48ms, 362.19ms] 287.85ms  80.83ms 863.54ms         3 [ 47.34ms, 100.02ms]  82.46ms  24.83ms 247.39ms\n",
      "  'scheduling_time_window_lns':         3 [ 47.43ms, 407.36ms] 259.42ms 153.76ms 778.27ms         3 [  6.67ms, 100.03ms]  68.90ms  44.01ms 206.70ms\n",
      "\n",
      "Search stats              Bools  Conflicts  Branches  Restarts  BoolPropag  IntegerPropag\n",
      "                 'core':    859     25'592    82'398    17'872   8'215'105      1'677'563\n",
      "           'default_lp':    583     45'619    57'560       960   2'489'403      2'893'844\n",
      "                'fixed':    357     56'234    57'404       123   3'234'386      1'665'484\n",
      "            'fs_random':      3          0         3         0           0             65\n",
      "      'fs_random_no_lp':      0          0         0         0           0              0\n",
      "           'max_lp_sym':    531     11'057    24'922       918     586'896        738'854\n",
      "                'no_lp':    579     51'231    66'180     1'101   2'223'775      2'601'949\n",
      "        'quick_restart':  1'247     17'563    95'714     2'681   3'036'075      1'525'815\n",
      "  'quick_restart_no_lp':  1'311     17'144    96'604     2'609   3'177'731      1'547'075\n",
      "        'reduced_costs':  1'188      9'703    28'027     7'253   1'143'428        465'839\n",
      "\n",
      "SAT stats                 ClassicMinim  LitRemoved  LitLearned  LitForgotten  Subsumed  MClauses  MDecisions  MLitTrue  MSubsumed  MLitRemoved  MReused\n",
      "                 'core':        24'154     277'922     302'465        12'016        52    22'539      51'610         0        753        6'132    5'065\n",
      "           'default_lp':        45'481     854'753     597'609       356'563         3         0           0         0          0            0        0\n",
      "                'fixed':        54'038     355'822   1'751'435     1'241'075        18         0           0         0          0            0        0\n",
      "            'fs_random':             0           0           0             0         0         0           0         0          0            0        0\n",
      "      'fs_random_no_lp':             0           0           0             0         0         0           0         0          0            0        0\n",
      "           'max_lp_sym':         9'737      38'965     197'437        95'953        28       548       5'212         0         23          226      676\n",
      "                'no_lp':        50'996   1'078'180     702'961       477'198        21         0           0         0          0            0        0\n",
      "        'quick_restart':        11'718      60'837     582'397       149'423       120        27         108         0          0            0       10\n",
      "  'quick_restart_no_lp':        10'935      56'240     566'085       148'026        90        15          49         0          0            0       56\n",
      "        'reduced_costs':         4'579      20'578     267'684             0        56       110         576         0          2           14      123\n",
      "\n",
      "Lp stats            Component  Iterations  AddedCuts  OPTIMAL  DUAL_F.  DUAL_U.\n",
      "     'max_lp_sym':          1      55'485        582   41'888       56        0\n",
      "  'reduced_costs':          1      35'439        510   25'847      236        0\n",
      "\n",
      "Lp dimension        Final dimension of first component\n",
      "     'max_lp_sym':  113 rows, 28 columns, 1151 entries\n",
      "  'reduced_costs':    33 rows, 30 columns, 418 entries\n",
      "\n",
      "Lp debug            CutPropag  CutEqPropag  Adjust  Overflow  Bad  BadScaling\n",
      "     'max_lp_sym':          0            2  17'846         0  520           0\n",
      "  'reduced_costs':          0            0   7'117         0  482           0\n",
      "\n",
      "Lp pool             Constraints  Updates  Simplif  Merged  Shortened  Split  Strenghtened  Cuts/Call\n",
      "     'max_lp_sym':          571      460      339      11        279      0            15    582/767\n",
      "  'reduced_costs':          489      183       15      21          0      1             0    510/700\n",
      "\n",
      "Lp Cut                                                max_lp_sym  reduced_costs\n",
      "                                               CG_K:           2              2\n",
      "                                               CG_R:          29             15\n",
      "                                            MIR_1_K:           3              5\n",
      "                                            MIR_1_R:          16             11\n",
      "                                            MIR_2_R:           1              -\n",
      "                  NoOverlapCompletionTimeExhaustive:          11             11\n",
      "           NoOverlapCompletionTimeExhaustive_lifted:          44             33\n",
      "  NoOverlapCompletionTimeExhaustive_lifted_weighted:          82             93\n",
      "         NoOverlapCompletionTimeExhaustive_weighted:          20             13\n",
      "                    NoOverlapCompletionTimeQueyrane:          71             58\n",
      "             NoOverlapCompletionTimeQueyrane_lifted:         156            149\n",
      "                          NoOverlapDisjunctionOnEnd:          33             49\n",
      "                        NoOverlapDisjunctionOnStart:          41             33\n",
      "                                        ZERO_HALF_K:           2              2\n",
      "                                        ZERO_HALF_R:          71             36\n",
      "\n",
      "LNS stats                        Improv/Calls  Closed  Difficulty  TimeLimit\n",
      "               'graph_arc_lns':           2/5     40%    3.17e-01       0.10\n",
      "               'graph_cst_lns':           2/5     40%    3.17e-01       0.10\n",
      "               'graph_dec_lns':           0/5     40%    3.17e-01       0.10\n",
      "               'graph_var_lns':           0/3     33%    3.08e-01       0.10\n",
      "                   'rins/rens':           4/6     50%    4.92e-01       0.10\n",
      "                 'rnd_cst_lns':           0/3     33%    3.08e-01       0.10\n",
      "                 'rnd_var_lns':           1/4     50%    4.81e-01       0.10\n",
      "    'scheduling_intervals_lns':           0/3      0%    1.24e-01       0.10\n",
      "  'scheduling_precedences_lns':           0/3      0%    1.24e-01       0.10\n",
      "  'scheduling_time_window_lns':           0/3      0%    1.24e-01       0.10\n",
      "\n",
      "LS stats                                    Batches  Restarts/Perturbs  LinMoves  GenMoves  CompoundMoves  Bactracks  WeightUpdates  ScoreComputed\n",
      "                             'fj_restart':        1                  1         0         0              0          0        312'500              0\n",
      "  'fj_restart_decay_compound_perturb_obj':        1                  1         0     1'280            193        541              0        164'501\n",
      "                         'ls_lin_restart':        2                  2         5     1'306              0          0            356        332'872\n",
      "                'ls_lin_restart_compound':        1                  1         0       731             87        318              5        166'142\n",
      "          'ls_lin_restart_decay_compound':        2                  2         0     1'518            130        692              8        332'307\n",
      "           'ls_lin_restart_decay_perturb':        1                  1         2       890              0          0            104        165'661\n",
      "                 'ls_lin_restart_perturb':        2                  2         4     1'207              0          0            530        333'077\n",
      "            'ls_restart_compound_perturb':        2                  2         0     1'574            133        714             11        332'024\n",
      "                       'ls_restart_decay':        1                  1         3     1'027              0          0            108        165'369\n",
      "               'ls_restart_decay_perturb':        1                  1         2       870              0          0             98        165'873\n",
      "                     'ls_restart_perturb':        4                  4         9     2'643              0          0            775        665'090\n",
      "\n",
      "Solutions (57)            Num     Rank\n",
      "                'fixed':    1    [2,2]\n",
      "        'graph_arc_lns':    2  [44,55]\n",
      "                'no_lp':    1    [1,1]\n",
      "        'quick_restart':   19   [4,54]\n",
      "  'quick_restart_no_lp':   33   [3,57]\n",
      "          'rins_lp_lns':    1  [56,56]\n",
      "\n",
      "Objective bounds     Num\n",
      "       'bool_core':    3\n",
      "  'initial_domain':    1\n",
      "      'max_lp_sym':   25\n",
      "\n",
      "Solution repositories    Added  Queried  Synchro\n",
      "  'feasible solutions':    104      100       74\n",
      "   'fj solution hints':      0        0        0\n",
      "        'lp solutions':    242        6       49\n",
      "                'pump':      0        0\n",
      "\n",
      "Improving bounds shared    Num  Sym\n",
      "            'max_lp_sym':   52    6\n",
      "         'reduced_costs':   35    0\n",
      "\n",
      "CpSolverResponse summary:\n",
      "status: OPTIMAL\n",
      "objective: 1472\n",
      "best_bound: 1472\n",
      "integers: 31\n",
      "booleans: 0\n",
      "conflicts: 0\n",
      "branches: 0\n",
      "propagations: 0\n",
      "integer_propagations: 0\n",
      "restarts: 0\n",
      "lp_iterations: 0\n",
      "walltime: 2.44025\n",
      "usertime: 2.44025\n",
      "deterministic_time: 15.0317\n",
      "gap_integral: 17.5174\n",
      "solution_fingerprint: 0xcd03e2768c660204\n",
      "\n"
     ]
    }
   ],
   "source": [
    "_model = ModelIntervalCpSat(J, p, r, w)\n",
    "with mo.redirect_stderr():\n",
    "    _model.solve()\n",
    "\n",
    "_z = _model.get_z()\n",
    "_seq = _model.get_seq()\n",
    "mo.md(f\"\"\"\n",
    "- Optimal value: {_z}\n",
    "- Solution: {_seq}\n",
    "\"\"\")"
   ]
  },
  {
   "cell_type": "code",
   "execution_count": null,
   "id": "Vxnm",
   "metadata": {},
   "outputs": [],
   "source": []
  }
 ],
 "metadata": {},
 "nbformat": 4,
 "nbformat_minor": 5
}
