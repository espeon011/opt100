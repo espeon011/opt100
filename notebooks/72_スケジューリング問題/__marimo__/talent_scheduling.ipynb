{
 "cells": [
  {
   "cell_type": "code",
   "execution_count": null,
   "id": "Hbol",
   "metadata": {},
   "outputs": [],
   "source": [
    "import marimo as mo"
   ]
  },
  {
   "cell_type": "code",
   "execution_count": null,
   "id": "MJUe",
   "metadata": {},
   "outputs": [],
   "source": [
    "import random\n",
    "from typing import Self\n",
    "import pydantic\n",
    "from ortools.sat.python import cp_model\n",
    "import didppy"
   ]
  },
  {
   "cell_type": "markdown",
   "id": "vblA",
   "metadata": {
    "marimo": {
     "config": {
      "hide_code": true
     }
    }
   },
   "source": [
    "# タレントスケジューリング問題"
   ]
  },
  {
   "cell_type": "markdown",
   "id": "bkHC",
   "metadata": {
    "marimo": {
     "config": {
      "hide_code": true
     }
    }
   },
   "source": [
    "## 問題"
   ]
  },
  {
   "cell_type": "markdown",
   "id": "lEQa",
   "metadata": {
    "marimo": {
     "config": {
      "hide_code": true
     }
    }
   },
   "source": [
    "映画の各シーンを撮影する.\n",
    "各シーンには出演する役者が決まっており,\n",
    "同じ役者が出演するシーンは同時に撮影することはできない.\n",
    "各役者には初回撮影日から最終撮影日までの日数分のギャラを支払わねばならない.\n",
    "間に撮影の無い日があってもその日の報酬も支払われることになる.\n",
    "この問題では支払うギャラを最小化する.\n",
    "\n",
    "- $S = \\{ 1, \\dots, n \\}$: 撮影シーン\n",
    "- $A = \\{ 1, \\dots, m \\}$: 役者\n",
    "- $A_s \\subset A \\space (\\forall s \\in S)$: シーン $s$ を撮るのに必要な役者\n",
    "- $d_s \\in \\mathbb{N} \\space (\\forall s \\in S)$: シーン $s$ を撮るのに必要な日数\n",
    "- $c_a \\in \\mathbb{N} \\space (\\forall a \\in A)$: 役者 $a$ を 1 日拘束することで発生するギャラ"
   ]
  },
  {
   "cell_type": "markdown",
   "id": "PKri",
   "metadata": {
    "marimo": {
     "config": {
      "hide_code": true
     }
    }
   },
   "source": [
    "## 実装"
   ]
  },
  {
   "cell_type": "code",
   "execution_count": null,
   "id": "Xref",
   "metadata": {},
   "outputs": [],
   "source": [
    "class Actor(pydantic.BaseModel):\n",
    "    model_config = pydantic.ConfigDict(frozen=True)\n",
    "    id: int\n",
    "    cost: int\n",
    "\n",
    "\n",
    "class Scene(pydantic.BaseModel):\n",
    "    model_config = pydantic.ConfigDict(frozen=True)\n",
    "    id: int\n",
    "    time: int\n",
    "    actors: set[int]\n",
    "\n",
    "\n",
    "class Condition(pydantic.BaseModel):\n",
    "    model_config = pydantic.ConfigDict(frozen=True)\n",
    "    actors: list[Actor]\n",
    "    scenes: list[Scene]\n",
    "\n",
    "    @staticmethod\n",
    "    def example(n_scene: int, n_actor: int) -> Self:\n",
    "        random.seed(0)\n",
    "\n",
    "        actors = [\n",
    "            Actor(id=i, cost=random.randint(1, 5)) for i in range(n_actor)\n",
    "        ]\n",
    "        scenes = [\n",
    "            Scene(\n",
    "                id=j,\n",
    "                time=random.randint(1, 5),\n",
    "                actors=random.sample(\n",
    "                    list(range(n_actor)), random.randint(2, n_actor)\n",
    "                ),\n",
    "            )\n",
    "            for j in range(n_scene)\n",
    "        ]\n",
    "\n",
    "        return Condition(actors=actors, scenes=scenes)"
   ]
  },
  {
   "cell_type": "code",
   "execution_count": null,
   "id": "SFPL",
   "metadata": {},
   "outputs": [],
   "source": [
    "# Toy problem from https://github.com/domain-independent-dp/didp-rs/blob/main/didppy/examples/talent-scheduling.ipynb\n",
    "\n",
    "_n = 4\n",
    "_m = 4\n",
    "\n",
    "_actors = [\n",
    "    Actor(id=0, cost=1),\n",
    "    Actor(id=1, cost=3),\n",
    "    Actor(id=2, cost=1),\n",
    "    Actor(id=3, cost=2),\n",
    "]\n",
    "\n",
    "_scenes = [\n",
    "    Scene(id=0, time=1, actors={0, 1, 3}),\n",
    "    Scene(id=1, time=1, actors={1, 2}),\n",
    "    Scene(id=2, time=1, actors={0, 2, 3}),\n",
    "    Scene(id=3, time=1, actors={0, 1, 2}),\n",
    "]\n",
    "\n",
    "cond1 = Condition(actors=_actors, scenes=_scenes)"
   ]
  },
  {
   "cell_type": "markdown",
   "id": "BYtC",
   "metadata": {
    "marimo": {
     "config": {
      "hide_code": true
     }
    }
   },
   "source": [
    "### Google OR-Tools でのモデリング"
   ]
  },
  {
   "cell_type": "markdown",
   "id": "RGSE",
   "metadata": {
    "marimo": {
     "config": {
      "hide_code": true
     }
    }
   },
   "source": [
    "#### 決定変数\n",
    "\n",
    "- $\\text{interval}_s = [\\text{start}_s, \\text{end}_s) \\space (\\forall s \\in S)$: 各シーンの撮影期間を表す区間変数.\n",
    "- $\\text{keep}_a \\space (\\forall a \\in A)$: 役者 $a$ が拘束された日数\n",
    "\n",
    "#### 目的関数\n",
    "\n",
    "\\[\n",
    "    \\sum_{a \\in A} c_a \\text{keep}_a\n",
    "\\]\n",
    "\n",
    "#### 制約\n",
    "\n",
    "- $\\text{start}_s + d_s = \\text{end}_s \\space (s \\in S)$\n",
    "- 役者 $a \\in A$ が拘束された日数: $\\text{keep}_a = \\max \\{ \\text{end}_s \\mid s \\in S, \\space a \\in A_s \\} - \\min \\{ \\text{start}_s \\mid s \\in S, \\space a \\in A_s \\}$\n",
    "- 各役者は同時に 1 つのシーンの撮影しかできない:\n",
    "  $\\text{no-overlap} \\{ I_s \\mid s \\in S, \\space a \\in A_s \\}$\n",
    "    - × $\\to$ どうやら撮影は平行に行えないらしい. 課すべき制約は $\\text{no-overlap} \\{ I_s \\mid s \\in S\\}$"
   ]
  },
  {
   "cell_type": "code",
   "execution_count": null,
   "id": "Kclp",
   "metadata": {},
   "outputs": [],
   "source": [
    "class ModelCpSat:\n",
    "    def __init__(self, cond: Condition):\n",
    "        self.model = cp_model.CpModel()\n",
    "\n",
    "        horizon = sum(scene.time for scene in cond.scenes)\n",
    "\n",
    "        self.starts = [\n",
    "            self.model.new_int_var(0, horizon, \"\") for _ in cond.scenes\n",
    "        ]\n",
    "        self.intervals = [\n",
    "            self.model.new_fixed_size_interval_var(\n",
    "                self.starts[id_scene], scene.time, \"\"\n",
    "            )\n",
    "            for id_scene, scene in enumerate(cond.scenes)\n",
    "        ]\n",
    "\n",
    "        # for id_act, actor in enumerate(cond.actors):\n",
    "        #     self.model.add_no_overlap(\n",
    "        #         [\n",
    "        #             self.intervals[id_scene]\n",
    "        #             for id_scene, scene in enumerate(cond.scenes)\n",
    "        #             if id_act in scene.actors\n",
    "        #         ]\n",
    "        #     )\n",
    "        self.model.add_no_overlap(self.intervals)\n",
    "\n",
    "        self.objective = 0\n",
    "        for id_act, actor in enumerate(cond.actors):\n",
    "            act_start = self.model.new_int_var(0, horizon, \"\")\n",
    "            act_end = self.model.new_int_var(0, horizon, \"\")\n",
    "            self.model.add_min_equality(\n",
    "                act_start,\n",
    "                [\n",
    "                    interval.start_expr()\n",
    "                    for scene, interval in zip(cond.scenes, self.intervals)\n",
    "                    if id_act in scene.actors\n",
    "                ],\n",
    "            )\n",
    "            self.model.add_max_equality(\n",
    "                act_end,\n",
    "                [\n",
    "                    interval.end_expr()\n",
    "                    for scene, interval in zip(cond.scenes, self.intervals)\n",
    "                    if id_act in scene.actors\n",
    "                ],\n",
    "            )\n",
    "\n",
    "            self.objective += actor.cost * (act_end - act_start)\n",
    "\n",
    "        self.model.minimize(self.objective)\n",
    "\n",
    "    def solve(self, timeout: int = 180) -> None:\n",
    "        self.solver = cp_model.CpSolver()\n",
    "        self.solver.parameters.log_search_progress = True\n",
    "        self.solver.parameters.max_time_in_seconds = timeout\n",
    "        self.status = self.solver.solve(self.model)\n",
    "\n",
    "    def print_solution(self) -> None:\n",
    "        shoots = [\n",
    "            (f\"Shoot {i}\", self.solver.value(interval.start_expr()))\n",
    "            for i, interval in enumerate(self.intervals)\n",
    "        ]\n",
    "        shoots.sort(key=lambda x: x[1])\n",
    "\n",
    "        for name, start in shoots:\n",
    "            print(f\"{name} starts at {start}\")"
   ]
  },
  {
   "cell_type": "code",
   "execution_count": null,
   "id": "emfo",
   "metadata": {},
   "outputs": [
    {
     "name": "stdout",
     "output_type": "stream",
     "text": [
      "\n",
      "Starting CP-SAT solver v9.13.4784\n",
      "Parameters: max_time_in_seconds: 180 log_search_progress: true\n",
      "Setting number of workers to 12\n",
      "\n",
      "Initial optimization model '': (model_fingerprint: 0x4d9da0179b3d1bee)\n",
      "#Variables: 12 (#ints: 8 in objective) (4 primary variables)\n",
      "  - 12 in [0,4]\n",
      "#kInterval: 4\n",
      "#kLinMax: 8 (#expressions: 22)\n",
      "#kNoOverlap: 1 (#intervals: 4)\n",
      "\n",
      "Starting presolve at 0.00s\n",
      "  1.39e-05s  0.00e+00d  [DetectDominanceRelations] \n",
      "  1.58e-04s  0.00e+00d  [PresolveToFixPoint] #num_loops=2 #num_dual_strengthening=1 \n",
      "  4.78e-06s  0.00e+00d  [ExtractEncodingFromLinear] \n",
      "  3.24e-06s  0.00e+00d  [DetectDuplicateColumns] \n",
      "  9.51e-06s  0.00e+00d  [DetectDuplicateConstraints] \n",
      "[Symmetry] Graph for symmetry has 47 nodes and 60 arcs.\n",
      "[Symmetry] Symmetry computation done. time: 1.7273e-05 dtime: 1.008e-05\n",
      "  9.04e-06s  0.00e+00d  [DetectDuplicateConstraintsWithDifferentEnforcements] \n",
      "  1.18e-04s  1.08e-07d  [Probe] \n",
      "  1.89e-06s  0.00e+00d  [MaxClique] \n",
      "  8.31e-06s  0.00e+00d  [DetectDominanceRelations] \n",
      "  4.17e-05s  0.00e+00d  [PresolveToFixPoint] #num_loops=1 #num_dual_strengthening=1 \n",
      "  4.18e-06s  0.00e+00d  [ProcessAtMostOneAndLinear] \n",
      "  4.56e-06s  0.00e+00d  [DetectDuplicateConstraints] \n",
      "  4.25e-06s  0.00e+00d  [DetectDuplicateConstraintsWithDifferentEnforcements] \n",
      "  8.80e-06s  1.32e-07d  [DetectDominatedLinearConstraints] #relevant_constraints=22 \n",
      "  4.24e-06s  0.00e+00d  [DetectDifferentVariables] \n",
      "  1.87e-06s  0.00e+00d  [ProcessSetPPC] \n",
      "  6.61e-07s  0.00e+00d  [FindAlmostIdenticalLinearConstraints] \n",
      "  7.42e-07s  0.00e+00d  [FindBigAtMostOneAndLinearOverlap] \n",
      "  1.75e-06s  7.20e-07d  [FindBigVerticalLinearOverlap] \n",
      "  5.41e-07s  0.00e+00d  [FindBigHorizontalLinearOverlap] \n",
      "  6.92e-07s  0.00e+00d  [MergeClauses] \n",
      "  5.64e-06s  0.00e+00d  [DetectDominanceRelations] \n",
      "  3.09e-05s  0.00e+00d  [PresolveToFixPoint] #num_loops=1 #num_dual_strengthening=1 \n",
      "  4.34e-06s  0.00e+00d  [DetectDominanceRelations] \n",
      "  2.81e-05s  0.00e+00d  [PresolveToFixPoint] #num_loops=1 #num_dual_strengthening=1 \n",
      "  2.21e-06s  0.00e+00d  [DetectDuplicateColumns] \n",
      "  3.98e-06s  0.00e+00d  [DetectDuplicateConstraints] \n",
      "[Symmetry] Graph for symmetry has 47 nodes and 60 arcs.\n",
      "[Symmetry] Symmetry computation done. time: 1.1772e-05 dtime: 1.008e-05\n",
      "  6.87e-06s  0.00e+00d  [DetectDuplicateConstraintsWithDifferentEnforcements] \n",
      "  5.33e-05s  1.08e-07d  [Probe] \n",
      "  8.32e-07s  0.00e+00d  [MaxClique] \n",
      "  6.90e-06s  0.00e+00d  [DetectDominanceRelations] \n",
      "  3.66e-05s  0.00e+00d  [PresolveToFixPoint] #num_loops=1 #num_dual_strengthening=1 \n",
      "  3.37e-06s  0.00e+00d  [ProcessAtMostOneAndLinear] \n",
      "  4.16e-06s  0.00e+00d  [DetectDuplicateConstraints] \n",
      "  3.06e-06s  0.00e+00d  [DetectDuplicateConstraintsWithDifferentEnforcements] \n",
      "  6.21e-06s  1.32e-07d  [DetectDominatedLinearConstraints] #relevant_constraints=22 \n",
      "  4.12e-06s  0.00e+00d  [DetectDifferentVariables] \n",
      "  5.51e-07s  0.00e+00d  [ProcessSetPPC] \n",
      "  4.11e-07s  0.00e+00d  [FindAlmostIdenticalLinearConstraints] \n",
      "  5.11e-07s  0.00e+00d  [FindBigAtMostOneAndLinearOverlap] \n",
      "  1.52e-06s  7.20e-07d  [FindBigVerticalLinearOverlap] \n",
      "  3.91e-07s  0.00e+00d  [FindBigHorizontalLinearOverlap] \n",
      "  4.40e-07s  0.00e+00d  [MergeClauses] \n",
      "  5.02e-06s  0.00e+00d  [DetectDominanceRelations] \n",
      "  2.90e-05s  0.00e+00d  [PresolveToFixPoint] #num_loops=1 #num_dual_strengthening=1 \n",
      "  3.30e-06s  0.00e+00d  [ExpandObjective] \n",
      "\n",
      "Presolve summary:\n",
      "  - 0 affine relations were detected.\n",
      "  - rule 'TODO dual: only one unspecified blocking constraint?' was applied 48 times.\n",
      "  - rule 'TODO no_overlap: only size one !' was applied 12 times.\n",
      "  - rule 'lin_max: reduced expression domain.' was applied 4 times.\n",
      "  - rule 'lin_max: rewrite with precedences' was applied 8 times.\n",
      "  - rule 'lin_max: target domain reduced' was applied 7 times.\n",
      "  - rule 'linear: reduced variable domains' was applied 1 time.\n",
      "  - rule 'presolve: 0 unused variables removed.' was applied 1 time.\n",
      "  - rule 'presolve: iteration' was applied 2 times.\n",
      "\n",
      "Presolved optimization model '': (model_fingerprint: 0xfd9496c1abe4cfbb)\n",
      "#Variables: 12 (#ints: 8 in objective) (4 primary variables)\n",
      "  - 8 in [0,3]\n",
      "  - 4 in [1,4]\n",
      "#kInterval: 4\n",
      "#kLinear2: 22\n",
      "#kNoOverlap: 1 (#intervals: 4)\n",
      "[Symmetry] Graph for symmetry has 47 nodes and 60 arcs.\n",
      "[Symmetry] Symmetry computation done. time: 1.1802e-05 dtime: 1.008e-05\n",
      "\n",
      "Preloading model.\n",
      "#Bound   0.00s best:inf   next:[-14,28]   initial_domain\n",
      "#Model   0.00s var:12/12 constraints:27/27\n",
      "\n",
      "Starting search at 0.00s with 12 workers.\n",
      "8 full problem subsolvers: [core, default_lp, fixed, max_lp, no_lp, quick_restart, quick_restart_no_lp, reduced_costs]\n",
      "4 first solution subsolvers: [fj(2), fs_random, fs_random_no_lp]\n",
      "13 interleaved subsolvers: [feasibility_pump, graph_arc_lns, graph_cst_lns, graph_dec_lns, graph_var_lns, ls, ls_lin, rins/rens, rnd_cst_lns, rnd_var_lns, scheduling_intervals_lns, scheduling_precedences_lns, scheduling_time_window_lns]\n",
      "3 helper subsolvers: [neighborhood_helper, synchronization_agent, update_gap_integral]\n",
      "\n",
      "#Bound   0.00s best:inf   next:[-12,28]   bool_core (num_cores=0 [cover] a=8 d=0 fixed=0/8 clauses=0)\n",
      "#1       0.00s best:23    next:[-12,22]   no_lp\n",
      "#Bound   0.00s best:23    next:[-10,22]   no_lp\n",
      "#Bound   0.00s best:23    next:[-7,22]    bool_core (num_cores=1 [size:1 mw:3] a=8 d=0 fixed=2/9 clauses=0)\n",
      "#Bound   0.00s best:23    next:[-6,22]    no_lp\n",
      "#Bound   0.00s best:23    next:[7,22]     max_lp\n",
      "#2       0.00s best:22    next:[7,21]     no_lp\n",
      "#Bound   0.00s best:22    next:[9,21]     bool_core (num_cores=5 [size:2 mw:3 d:1] a=7 d=1 fixed=10/13 clauses=0)\n",
      "#3       0.00s best:20    next:[9,19]     core\n",
      "#Bound   0.00s best:20    next:[11,19]    bool_core (num_cores=6 [size:2 mw:2 d:1] a=6 d=1 fixed=10/17 clauses=1)\n",
      "#Bound   0.00s best:20    next:[12,19]    no_lp\n",
      "#Bound   0.00s best:20    next:[13,19]    bool_core (num_cores=6 [cover] a=6 d=1 fixed=10/20 clauses=2)\n",
      "#Bound   0.00s best:20    next:[15,19]    no_lp\n",
      "#Bound   0.00s best:20    next:[16,19]    quick_restart_no_lp\n",
      "#Done    0.00s no_lp\n",
      "#Done    0.00s quick_restart_no_lp\n",
      "#Done    0.00s core\n",
      "#Done    0.00s max_lp\n",
      "\n",
      "Task timing                             n [     min,      max]      avg      dev     time         n [     min,      max]      avg      dev    dtime\n",
      "                        'core':         1 [  3.57ms,   3.57ms]   3.57ms   0.00ns   3.57ms         1 [ 62.23us,  62.23us]  62.23us   0.00ns  62.23us\n",
      "                  'default_lp':         1 [  3.67ms,   3.67ms]   3.67ms   0.00ns   3.67ms         1 [ 17.05us,  17.05us]  17.05us   0.00ns  17.05us\n",
      "            'feasibility_pump':         0 [  0.00ns,   0.00ns]   0.00ns   0.00ns   0.00ns         0 [  0.00ns,   0.00ns]   0.00ns   0.00ns   0.00ns\n",
      "                       'fixed':         1 [  3.55ms,   3.55ms]   3.55ms   0.00ns   3.55ms         0 [  0.00ns,   0.00ns]   0.00ns   0.00ns   0.00ns\n",
      "                          'fj':         0 [  0.00ns,   0.00ns]   0.00ns   0.00ns   0.00ns         0 [  0.00ns,   0.00ns]   0.00ns   0.00ns   0.00ns\n",
      "                          'fj':         0 [  0.00ns,   0.00ns]   0.00ns   0.00ns   0.00ns         0 [  0.00ns,   0.00ns]   0.00ns   0.00ns   0.00ns\n",
      "                   'fs_random':         0 [  0.00ns,   0.00ns]   0.00ns   0.00ns   0.00ns         0 [  0.00ns,   0.00ns]   0.00ns   0.00ns   0.00ns\n",
      "             'fs_random_no_lp':         0 [  0.00ns,   0.00ns]   0.00ns   0.00ns   0.00ns         0 [  0.00ns,   0.00ns]   0.00ns   0.00ns   0.00ns\n",
      "               'graph_arc_lns':         0 [  0.00ns,   0.00ns]   0.00ns   0.00ns   0.00ns         0 [  0.00ns,   0.00ns]   0.00ns   0.00ns   0.00ns\n",
      "               'graph_cst_lns':         0 [  0.00ns,   0.00ns]   0.00ns   0.00ns   0.00ns         0 [  0.00ns,   0.00ns]   0.00ns   0.00ns   0.00ns\n",
      "               'graph_dec_lns':         0 [  0.00ns,   0.00ns]   0.00ns   0.00ns   0.00ns         0 [  0.00ns,   0.00ns]   0.00ns   0.00ns   0.00ns\n",
      "               'graph_var_lns':         0 [  0.00ns,   0.00ns]   0.00ns   0.00ns   0.00ns         0 [  0.00ns,   0.00ns]   0.00ns   0.00ns   0.00ns\n",
      "                          'ls':         0 [  0.00ns,   0.00ns]   0.00ns   0.00ns   0.00ns         0 [  0.00ns,   0.00ns]   0.00ns   0.00ns   0.00ns\n",
      "                      'ls_lin':         0 [  0.00ns,   0.00ns]   0.00ns   0.00ns   0.00ns         0 [  0.00ns,   0.00ns]   0.00ns   0.00ns   0.00ns\n",
      "                      'max_lp':         1 [  3.44ms,   3.44ms]   3.44ms   0.00ns   3.44ms         1 [  9.95us,   9.95us]   9.95us   0.00ns   9.95us\n",
      "                       'no_lp':         1 [  3.49ms,   3.49ms]   3.49ms   0.00ns   3.49ms         1 [ 60.36us,  60.36us]  60.36us   0.00ns  60.36us\n",
      "               'quick_restart':         1 [  3.38ms,   3.38ms]   3.38ms   0.00ns   3.38ms         0 [  0.00ns,   0.00ns]   0.00ns   0.00ns   0.00ns\n",
      "         'quick_restart_no_lp':         1 [  3.20ms,   3.20ms]   3.20ms   0.00ns   3.20ms         1 [ 13.19us,  13.19us]  13.19us   0.00ns  13.19us\n",
      "               'reduced_costs':         1 [  3.31ms,   3.31ms]   3.31ms   0.00ns   3.31ms         1 [ 22.51us,  22.51us]  22.51us   0.00ns  22.51us\n",
      "                   'rins/rens':         0 [  0.00ns,   0.00ns]   0.00ns   0.00ns   0.00ns         0 [  0.00ns,   0.00ns]   0.00ns   0.00ns   0.00ns\n",
      "                 'rnd_cst_lns':         0 [  0.00ns,   0.00ns]   0.00ns   0.00ns   0.00ns         0 [  0.00ns,   0.00ns]   0.00ns   0.00ns   0.00ns\n",
      "                 'rnd_var_lns':         0 [  0.00ns,   0.00ns]   0.00ns   0.00ns   0.00ns         0 [  0.00ns,   0.00ns]   0.00ns   0.00ns   0.00ns\n",
      "    'scheduling_intervals_lns':         0 [  0.00ns,   0.00ns]   0.00ns   0.00ns   0.00ns         0 [  0.00ns,   0.00ns]   0.00ns   0.00ns   0.00ns\n",
      "  'scheduling_precedences_lns':         0 [  0.00ns,   0.00ns]   0.00ns   0.00ns   0.00ns         0 [  0.00ns,   0.00ns]   0.00ns   0.00ns   0.00ns\n",
      "  'scheduling_time_window_lns':         0 [  0.00ns,   0.00ns]   0.00ns   0.00ns   0.00ns         0 [  0.00ns,   0.00ns]   0.00ns   0.00ns   0.00ns\n",
      "\n",
      "Search stats              Bools  Conflicts  Branches  Restarts  BoolPropag  IntegerPropag\n",
      "                 'core':     23         22        74        63         159            508\n",
      "           'default_lp':      1          0         0         0           0             11\n",
      "                'fixed':      0          0         0         0           0              0\n",
      "            'fs_random':      0          0         0         0           0              0\n",
      "      'fs_random_no_lp':      0          0         0         0           0              0\n",
      "               'max_lp':      0          0         0         0           0              4\n",
      "                'no_lp':     12         19        50        22          69            486\n",
      "        'quick_restart':      0          0         0         0           0              0\n",
      "  'quick_restart_no_lp':      4          7        10         7           9            128\n",
      "        'reduced_costs':      6          0        12        12           0             51\n",
      "\n",
      "SAT stats                 ClassicMinim  LitRemoved  LitLearned  LitForgotten  Subsumed  MClauses  MDecisions  MLitTrue  MSubsumed  MLitRemoved  MReused\n",
      "                 'core':             0           0          20             0         0         0           0         0          0            0        0\n",
      "           'default_lp':             0           0           0             0         0         0           0         0          0            0        0\n",
      "                'fixed':             0           0           0             0         0         0           0         0          0            0        0\n",
      "            'fs_random':             0           0           0             0         0         0           0         0          0            0        0\n",
      "      'fs_random_no_lp':             0           0           0             0         0         0           0         0          0            0        0\n",
      "               'max_lp':             0           0           0             0         0         0           0         0          0            0        0\n",
      "                'no_lp':             7          14          36             0         0         0           0         0          0            0        0\n",
      "        'quick_restart':             0           0           0             0         0         0           0         0          0            0        0\n",
      "  'quick_restart_no_lp':             0           0          10             0         1         0           0         0          0            0        0\n",
      "        'reduced_costs':             0           0           0             0         0         0           0         0          0            0        0\n",
      "\n",
      "Lp stats            Component  Iterations  AddedCuts  OPTIMAL  DUAL_F.  DUAL_U.\n",
      "     'default_lp':          1          15          0        7        0        0\n",
      "          'fixed':          1           4          0        2        0        0\n",
      "         'max_lp':          1          13          7        6        0        0\n",
      "  'quick_restart':          1           4          0        2        0        0\n",
      "  'reduced_costs':          1          13          2        6        0        0\n",
      "\n",
      "Lp dimension        Final dimension of first component\n",
      "     'default_lp':     22 rows, 12 columns, 44 entries\n",
      "          'fixed':     11 rows, 12 columns, 22 entries\n",
      "         'max_lp':     29 rows, 12 columns, 61 entries\n",
      "  'quick_restart':     11 rows, 12 columns, 22 entries\n",
      "  'reduced_costs':     24 rows, 12 columns, 50 entries\n",
      "\n",
      "Lp debug            CutPropag  CutEqPropag  Adjust  Overflow  Bad  BadScaling\n",
      "     'default_lp':          0            0       0         0    0           0\n",
      "          'fixed':          0            0       0         0    0           0\n",
      "         'max_lp':          1            0       0         0  200           0\n",
      "  'quick_restart':          0            0       0         0    0           0\n",
      "  'reduced_costs':          0            0       3         0  118           0\n",
      "\n",
      "Lp pool             Constraints  Updates  Simplif  Merged  Shortened  Split  Strenghtened  Cuts/Call\n",
      "     'default_lp':           22        0        0       0          0      0             0        0/0\n",
      "          'fixed':           22        0        0       0          0      0             0        0/0\n",
      "         'max_lp':           29        0        0       0          0      0             0        7/7\n",
      "  'quick_restart':           22        0        0       0          0      0             0        0/0\n",
      "  'reduced_costs':           24        0        0       0          0      0             0        2/4\n",
      "\n",
      "Lp Cut                                         max_lp  reduced_costs\n",
      "                                    MIR_5_FF:       -              1\n",
      "  NoOverlapCompletionTimeExhaustive_weighted:       2              1\n",
      "                   NoOverlapDisjunctionOnEnd:       5              -\n",
      "\n",
      "LNS stats                        Improv/Calls  Closed  Difficulty  TimeLimit\n",
      "               'graph_arc_lns':           0/0      0%    5.00e-01       0.10\n",
      "               'graph_cst_lns':           0/0      0%    5.00e-01       0.10\n",
      "               'graph_dec_lns':           0/0      0%    5.00e-01       0.10\n",
      "               'graph_var_lns':           0/0      0%    5.00e-01       0.10\n",
      "                   'rins/rens':           0/0      0%    5.00e-01       0.10\n",
      "                 'rnd_cst_lns':           0/0      0%    5.00e-01       0.10\n",
      "                 'rnd_var_lns':           0/0      0%    5.00e-01       0.10\n",
      "    'scheduling_intervals_lns':           0/0      0%    5.00e-01       0.10\n",
      "  'scheduling_precedences_lns':           0/0      0%    5.00e-01       0.10\n",
      "  'scheduling_time_window_lns':           0/0      0%    5.00e-01       0.10\n",
      "\n",
      "Solutions (3)    Num   Rank\n",
      "        'core':    1  [3,3]\n",
      "       'no_lp':    2  [1,2]\n",
      "\n",
      "Objective bounds          Num\n",
      "            'bool_core':    5\n",
      "       'initial_domain':    1\n",
      "               'max_lp':    1\n",
      "                'no_lp':    4\n",
      "  'quick_restart_no_lp':    1\n",
      "\n",
      "Solution repositories    Added  Queried  Synchro\n",
      "  'feasible solutions':      4        0        4\n",
      "   'fj solution hints':      0        0        0\n",
      "        'lp solutions':      0        0        0\n",
      "                'pump':      0        0\n",
      "\n",
      "Improving bounds shared    Num  Sym\n",
      "                  'core':   10    0\n",
      "                 'no_lp':   14    0\n",
      "   'quick_restart_no_lp':    8    0\n",
      "\n",
      "CpSolverResponse summary:\n",
      "status: OPTIMAL\n",
      "objective: 20\n",
      "best_bound: 20\n",
      "integers: 0\n",
      "booleans: 0\n",
      "conflicts: 0\n",
      "branches: 0\n",
      "propagations: 0\n",
      "integer_propagations: 0\n",
      "restarts: 0\n",
      "lp_iterations: 0\n",
      "walltime: 0.0074522\n",
      "usertime: 0.00745227\n",
      "deterministic_time: 0.000187207\n",
      "gap_integral: 0.000647857\n",
      "solution_fingerprint: 0xdddaab349abdcb33\n",
      "\n"
     ]
    }
   ],
   "source": [
    "model1 = ModelCpSat(cond1)\n",
    "model1.solve()\n",
    "\n",
    "mo.md(f\"Time: {model1.solver.wall_time:.9f}\")"
   ]
  },
  {
   "cell_type": "code",
   "execution_count": null,
   "id": "Hstk",
   "metadata": {},
   "outputs": [
    {
     "name": "stdout",
     "output_type": "stream",
     "text": [
      "Shoot 2 starts at 0\n",
      "Shoot 0 starts at 1\n",
      "Shoot 3 starts at 2\n",
      "Shoot 1 starts at 3\n"
     ]
    }
   ],
   "source": [
    "model1.print_solution()"
   ]
  },
  {
   "cell_type": "markdown",
   "id": "nWHF",
   "metadata": {
    "marimo": {
     "config": {
      "hide_code": true
     }
    }
   },
   "source": [
    "### didp でのモデリング"
   ]
  },
  {
   "cell_type": "markdown",
   "id": "iLit",
   "metadata": {
    "marimo": {
     "config": {
      "hide_code": true
     }
    }
   },
   "source": [
    "#### DP Formulation\n",
    "\n",
    "シーンの撮影が途中まで完了し, 残りが $Q \\subset S$ であるとする.\n",
    "次に $s \\in Q$ を撮る場合, 拘束される役者の集合 $L(s, Q)$ は\n",
    "\n",
    "\\[\n",
    "    L(s, Q) = A_s \\cup \\left( \\bigcup_{s' \\in S \\setminus Q} A_{s'} \\cap \\bigcup_{s' \\in Q} A_{s'} \\right)\n",
    "\\]\n",
    "\n",
    "となる.\n",
    "右辺の大括弧内は今までのシーン $S \\setminus Q$ の撮影で既に呼び寄せていて,\n",
    "この先も撮影があるため解放できない役者の集合を表す.\n",
    "シーン $s$ の撮影が終わると支払われるギャラが $d_s \\sum_{a \\in L(s, Q)} c_a$ だけ増加し,\n",
    "$Q$ が $Q \\setminus \\{ s \\}$ で更新される.\n",
    "\n",
    "\\begin{align*}\n",
    "    &\\text{compute} & &V(S) \\\\\n",
    "    &\\text{s.t.} & &V(Q) = \\begin{dcases}\n",
    "            \\min_{s \\in Q} \\left( d_s \\sum_{a \\in L(s, Q)} c_a + V(Q \\setminus \\{s\\}) \\right) & \\text{if } Q \\neq \\emptyset \\\\\n",
    "            0 & \\text{if } Q = \\emptyset\n",
    "        \\end{dcases}\n",
    "\\end{align*}\n",
    "\n",
    "$V(Q)$ は $Q$ だけを撮影するコストを表していることに注意.\n",
    "\n",
    "#### Force Transition\n",
    "\n",
    "シーン $s \\in Q$ に必要な役者がすでに現場に拘束されておりかつ,\n",
    "$s$ がその全員を必要とする撮影の場合, つまり\n",
    "\n",
    "\\[\n",
    "    A_s = \\bigcup_{s' \\in S \\setminus Q} A_{s'} \\cap \\bigcup_{s' \\in Q} A_{s'} \\quad (s \\in Q)\n",
    "\\]\n",
    "\n",
    "のとき, シーン $s$ を直ちに撮影するのが最適となる.\n",
    "この場合, 上記の更新規則より高い優先順位で下記の更新を行う.\n",
    "\n",
    "\\[\n",
    "    V(Q) = d_s \\sum_{a \\in A_s} c_a + V(Q \\setminus \\{ s \\})\n",
    "\\]\n",
    "\n",
    "#### Dual Bound\n",
    "\n",
    "ドメイン知識で計算の高速化ができるっぽい.\n",
    "今回のケースだと下記のような制約を入れる.\n",
    "\n",
    "\\[\n",
    "    V(Q) \\geq \\sum_{s \\in Q} d_s \\sum_{a \\in A_s} c_a\n",
    "\\]"
   ]
  },
  {
   "cell_type": "code",
   "execution_count": null,
   "id": "ZHCJ",
   "metadata": {},
   "outputs": [],
   "source": [
    "class ModelDidp:\n",
    "    def __init__(self, cond: Condition):\n",
    "        self.model: didppy.Model = didppy.Model()\n",
    "\n",
    "        scene_indices: list[int] = list(range(len(cond.scenes)))\n",
    "\n",
    "        # S, A\n",
    "        objtype_scene: didppy.ObjectType = self.model.add_object_type(\n",
    "            number=len(cond.scenes)\n",
    "        )\n",
    "        objtype_actor: didppy.ObjectType = self.model.add_object_type(\n",
    "            number=len(cond.actors)\n",
    "        )\n",
    "\n",
    "        # Q\n",
    "        remaining: didppy.SetVar = self.model.add_set_var(\n",
    "            object_type=objtype_scene,\n",
    "            target=scene_indices,\n",
    "        )\n",
    "\n",
    "        # 各シーンの撮影に必要な役者の集合のリスト\n",
    "        # didp の example では object_type が scene だったが多分 actor が正しい.\n",
    "        scene_to_actors_table: didppy.SetTable1D = self.model.add_set_table(\n",
    "            [scene.actors for scene in cond.scenes], object_type=objtype_actor\n",
    "        )\n",
    "\n",
    "        # 各役者の日ごとのギャラ\n",
    "        actor_to_cost: didppy.IntTable1D = self.model.add_int_table(\n",
    "            [actor.cost for actor in cond.actors]\n",
    "        )\n",
    "\n",
    "        # 既に来てもらった役者の集合. 現地に留まっているとは限らず, 帰ってる可能性もある.\n",
    "        # 必須役者集合のリスト scene_to_actors_table に remaining の補集合を入れることで求める\n",
    "        came_to_location: didppy.SetExpr = scene_to_actors_table.union(\n",
    "            remaining.complement()\n",
    "        )\n",
    "\n",
    "        # これから撮影のある役者\n",
    "        # 必須役者集合のリスト scene_to_actors_table に remaining を入れることで求める\n",
    "        standby: didppy.SetExpr = scene_to_actors_table.union(remaining)\n",
    "\n",
    "        # 既に来てもらったことのある役者とこれから撮影のある役者の共通部分.\n",
    "        # 次の撮影時にギャラを支払う必要がある.\n",
    "        # Define a state function to avoid redundant evaluation of an expensive expression\n",
    "        on_location: didppy.SetExpr = self.model.add_set_state_fun(\n",
    "            came_to_location & standby\n",
    "        )\n",
    "\n",
    "        # Base Case\n",
    "        self.model.add_base_case(conditions=[remaining.is_empty()], cost=0)\n",
    "\n",
    "        # Transition\n",
    "        for s in scene_indices:\n",
    "            # 残ってもらっている役者と s の撮影に必要な役者の和集合.\n",
    "            # 彼らに対してのみギャラを支払う.\n",
    "            on_location_s: didppy.SetExpr = (\n",
    "                scene_to_actors_table[s] | on_location\n",
    "            )\n",
    "\n",
    "            shoot: didppy.Transition = didppy.Transition(\n",
    "                name=f\"shoot {s}\",\n",
    "                cost=cond.scenes[s].time * actor_to_cost[on_location_s]\n",
    "                + didppy.IntExpr.state_cost(),\n",
    "                effects=[(remaining, remaining.remove(s))],\n",
    "                preconditions=[remaining.contains(s)],\n",
    "            )\n",
    "            self.model.add_transition(shoot)\n",
    "\n",
    "        # Dual Bound: 各シーンを撮影する最低コスト\n",
    "        scene_to_min_cost: didppy.IntTable1D = self.model.add_int_table(\n",
    "            [\n",
    "                cond.scenes[s].time\n",
    "                * sum(cond.actors[a].cost for a in cond.scenes[s].actors)\n",
    "                for s in scene_indices\n",
    "            ]\n",
    "        )\n",
    "        self.model.add_dual_bound(scene_to_min_cost[remaining])\n",
    "\n",
    "        # Force Transition\n",
    "        for s in scene_indices:\n",
    "            shoot: didppy.Transition = didppy.Transition(\n",
    "                name=f\"forced shoot {s}\",\n",
    "                cost=scene_to_min_cost[s] + didppy.IntExpr.state_cost(),\n",
    "                effects=[(remaining, remaining.remove(s))],\n",
    "                preconditions=[\n",
    "                    remaining.contains(s),\n",
    "                    scene_to_actors_table[s] == on_location,\n",
    "                ],\n",
    "            )\n",
    "            self.model.add_transition(shoot, forced=True)\n",
    "\n",
    "    def solve(self, timeout=180, threads: int = 8) -> None:\n",
    "        self.solver: didppy.CABS = didppy.CABS(\n",
    "            self.model, threads=threads, quiet=False, time_limit=timeout\n",
    "        )\n",
    "        self.solution: didppy.Solution = self.solver.search()\n",
    "\n",
    "    def print_solution(self) -> None:\n",
    "        print(\"Transitions to apply:\")\n",
    "        print(\"\")\n",
    "\n",
    "        for _t in self.solution.transitions:\n",
    "            print(_t.name)\n",
    "\n",
    "        print()\n",
    "        print(f\"Cost: {self.solution.cost}\")"
   ]
  },
  {
   "cell_type": "code",
   "execution_count": null,
   "id": "ROlb",
   "metadata": {},
   "outputs": [
    {
     "name": "stdout",
     "output_type": "stream",
     "text": [
      "Solver: CABS from DIDPPy v0.9.0\n",
      "Searched with beam size: 1, threads: 8, kept: 10, sent: 0\n",
      "Searched with beam size: 1, expanded: 4, elapsed time: 0.005840198\n",
      "New primal bound: 24, expanded: 4, elapsed time: 0.005850627\n",
      "Searched with beam size: 2, threads: 8, kept: 9, sent: 7\n",
      "Searched with beam size: 2, expanded: 11, elapsed time: 0.005952541\n",
      "New dual bound: 19, expanded: 11, elapsed time: 0.005953803\n",
      "New primal bound: 20, expanded: 11, elapsed time: 0.005956048\n",
      "Searched with beam size: 4, threads: 8, kept: 2, sent: 3\n",
      "Searched with beam size: 4, expanded: 16, elapsed time: 0.006056217\n",
      "Searched with beam size: 8, threads: 8, kept: 0, sent: 5\n",
      "Searched with beam size: 8, expanded: 21, elapsed time: 0.006309398\n",
      "Searched with beam size: 16, threads: 8, kept: 0, sent: 5\n",
      "Searched with beam size: 16, expanded: 27, elapsed time: 0.006506171\n"
     ]
    }
   ],
   "source": [
    "model2 = ModelDidp(cond1)\n",
    "model2.solve()\n",
    "mo.md(f\"Time: {model2.solution.time:.9f}\")"
   ]
  },
  {
   "cell_type": "code",
   "execution_count": null,
   "id": "qnkX",
   "metadata": {},
   "outputs": [
    {
     "name": "stdout",
     "output_type": "stream",
     "text": [
      "Transitions to apply:\n",
      "\n",
      "shoot 1\n",
      "shoot 3\n",
      "shoot 0\n",
      "forced shoot 2\n",
      "\n",
      "Cost: 20\n"
     ]
    }
   ],
   "source": [
    "model2.print_solution()"
   ]
  },
  {
   "cell_type": "code",
   "execution_count": null,
   "id": "TqIu",
   "metadata": {},
   "outputs": [
    {
     "data": {
      "application/json": "{\"actors\": [{\"id\": 0, \"cost\": 4}, {\"id\": 1, \"cost\": 4}, {\"id\": 2, \"cost\": 1}, {\"id\": 3, \"cost\": 3}, {\"id\": 4, \"cost\": 5}, {\"id\": 5, \"cost\": 4}, {\"id\": 6, \"cost\": 4}, {\"id\": 7, \"cost\": 3}, {\"id\": 8, \"cost\": 4}, {\"id\": 9, \"cost\": 3}], \"scenes\": [{\"id\": 0, \"time\": 5, \"actors\": \"text/plain+set:{0, 1, 2, 4, 8}\"}, {\"id\": 1, \"time\": 5, \"actors\": \"text/plain+set:{0, 2, 4, 5, 6, 8}\"}, {\"id\": 2, \"time\": 3, \"actors\": \"text/plain+set:{1, 2, 3, 4, 5, 6, 7, 8, 9}\"}, {\"id\": 3, \"time\": 4, \"actors\": \"text/plain+set:{0, 1, 2, 3, 4, 5, 6, 7, 8, 9}\"}, {\"id\": 4, \"time\": 2, \"actors\": \"text/plain+set:{1, 3, 4, 6, 7, 8, 9}\"}, {\"id\": 5, \"time\": 1, \"actors\": \"text/plain+set:{8, 5, 7}\"}, {\"id\": 6, \"time\": 1, \"actors\": \"text/plain+set:{1, 2, 4, 6, 8, 9}\"}, {\"id\": 7, \"time\": 2, \"actors\": \"text/plain+set:{0, 1, 2, 3, 4, 5, 6, 7, 8, 9}\"}, {\"id\": 8, \"time\": 2, \"actors\": \"text/plain+set:{0, 2, 3, 4, 8}\"}, {\"id\": 9, \"time\": 1, \"actors\": \"text/plain+set:{0, 1, 2, 5}\"}, {\"id\": 10, \"time\": 5, \"actors\": \"text/plain+set:{1, 2, 3, 4, 6, 7, 8, 9}\"}, {\"id\": 11, \"time\": 3, \"actors\": \"text/plain+set:{0, 1, 2, 3, 4, 5, 6, 7, 9}\"}, {\"id\": 12, \"time\": 2, \"actors\": \"text/plain+set:{0, 1, 4, 5, 7}\"}, {\"id\": 13, \"time\": 3, \"actors\": \"text/plain+set:{0, 5, 6, 7}\"}, {\"id\": 14, \"time\": 2, \"actors\": \"text/plain+set:{0, 1, 6, 8, 9}\"}, {\"id\": 15, \"time\": 2, \"actors\": \"text/plain+set:{1, 5, 6}\"}, {\"id\": 16, \"time\": 1, \"actors\": \"text/plain+set:{0, 9}\"}, {\"id\": 17, \"time\": 2, \"actors\": \"text/plain+set:{1, 3, 5, 7}\"}, {\"id\": 18, \"time\": 1, \"actors\": \"text/plain+set:{8, 6}\"}, {\"id\": 19, \"time\": 5, \"actors\": \"text/plain+set:{1, 3, 4}\"}]}"
     },
     "metadata": {},
     "output_type": "display_data"
    }
   ],
   "source": [
    "cond2 = Condition.example(n_scene=20, n_actor=10)\n",
    "\n",
    "cond2.model_dump()"
   ]
  },
  {
   "cell_type": "code",
   "execution_count": null,
   "id": "Vxnm",
   "metadata": {},
   "outputs": [
    {
     "name": "stdout",
     "output_type": "stream",
     "text": [
      "\n",
      "Starting CP-SAT solver v9.13.4784\n",
      "Parameters: max_time_in_seconds: 180 log_search_progress: true\n",
      "Setting number of workers to 12\n",
      "\n",
      "Initial optimization model '': (model_fingerprint: 0x41b4b1f1b6986984)\n",
      "#Variables: 40 (#ints: 20 in objective) (20 primary variables)\n",
      "  - 40 in [0,52]\n",
      "#kInterval: 20\n",
      "#kLinMax: 20 (#expressions: 220)\n",
      "#kNoOverlap: 1 (#intervals: 20)\n",
      "\n",
      "Starting presolve at 0.00s\n",
      "  4.26e-05s  0.00e+00d  [DetectDominanceRelations] \n",
      "  5.98e-04s  0.00e+00d  [PresolveToFixPoint] #num_loops=2 #num_dual_strengthening=1 \n",
      "  2.08e-06s  0.00e+00d  [ExtractEncodingFromLinear] \n",
      "  1.91e-05s  0.00e+00d  [DetectDuplicateColumns] \n",
      "  1.76e-04s  0.00e+00d  [DetectDuplicateConstraints] \n",
      "[Symmetry] Graph for symmetry has 301 nodes and 500 arcs.\n",
      "[Symmetry] Symmetry computation done. time: 4.3352e-05 dtime: 6.596e-05\n",
      "  6.58e-05s  0.00e+00d  [DetectDuplicateConstraintsWithDifferentEnforcements] \n",
      "  2.96e-04s  3.00e-06d  [Probe] #new_bounds=20 \n",
      "  2.37e-06s  0.00e+00d  [MaxClique] \n",
      "  3.52e-05s  0.00e+00d  [DetectDominanceRelations] \n",
      "  3.83e-04s  0.00e+00d  [PresolveToFixPoint] #num_loops=2 #num_dual_strengthening=1 \n",
      "  2.56e-05s  0.00e+00d  [ProcessAtMostOneAndLinear] \n",
      "  4.74e-05s  0.00e+00d  [DetectDuplicateConstraints] \n",
      "  3.18e-05s  0.00e+00d  [DetectDuplicateConstraintsWithDifferentEnforcements] \n",
      "  2.41e-05s  1.32e-06d  [DetectDominatedLinearConstraints] #relevant_constraints=220 \n",
      "  2.38e-05s  0.00e+00d  [DetectDifferentVariables] \n",
      "  1.43e-06s  0.00e+00d  [ProcessSetPPC] \n",
      "  1.28e-06s  0.00e+00d  [FindAlmostIdenticalLinearConstraints] \n",
      "  1.39e-06s  0.00e+00d  [FindBigAtMostOneAndLinearOverlap] \n",
      "  2.35e-05s  1.03e-05d  [FindBigVerticalLinearOverlap] \n",
      "  9.31e-07s  0.00e+00d  [FindBigHorizontalLinearOverlap] \n",
      "  9.91e-07s  0.00e+00d  [MergeClauses] \n",
      "  3.18e-05s  0.00e+00d  [DetectDominanceRelations] \n",
      "  2.13e-04s  0.00e+00d  [PresolveToFixPoint] #num_loops=1 #num_dual_strengthening=1 \n",
      "  3.06e-05s  0.00e+00d  [DetectDominanceRelations] \n",
      "  2.15e-04s  0.00e+00d  [PresolveToFixPoint] #num_loops=1 #num_dual_strengthening=1 \n",
      "  7.68e-06s  0.00e+00d  [DetectDuplicateColumns] \n",
      "  3.71e-05s  0.00e+00d  [DetectDuplicateConstraints] \n",
      "[Symmetry] Graph for symmetry has 301 nodes and 500 arcs.\n",
      "[Symmetry] Symmetry computation done. time: 3.5888e-05 dtime: 6.312e-05\n",
      "  4.26e-05s  0.00e+00d  [DetectDuplicateConstraintsWithDifferentEnforcements] \n",
      "  2.06e-04s  1.00e-06d  [Probe] \n",
      "  1.47e-06s  0.00e+00d  [MaxClique] \n",
      "  3.34e-05s  0.00e+00d  [DetectDominanceRelations] \n",
      "  2.19e-04s  0.00e+00d  [PresolveToFixPoint] #num_loops=1 #num_dual_strengthening=1 \n",
      "  2.52e-05s  0.00e+00d  [ProcessAtMostOneAndLinear] \n",
      "  3.82e-05s  0.00e+00d  [DetectDuplicateConstraints] \n",
      "  2.90e-05s  0.00e+00d  [DetectDuplicateConstraintsWithDifferentEnforcements] \n",
      "  2.27e-05s  1.32e-06d  [DetectDominatedLinearConstraints] #relevant_constraints=220 \n",
      "  2.24e-05s  0.00e+00d  [DetectDifferentVariables] \n",
      "  1.12e-06s  0.00e+00d  [ProcessSetPPC] \n",
      "  1.14e-06s  0.00e+00d  [FindAlmostIdenticalLinearConstraints] \n",
      "  1.31e-06s  0.00e+00d  [FindBigAtMostOneAndLinearOverlap] \n",
      "  2.10e-05s  1.03e-05d  [FindBigVerticalLinearOverlap] \n",
      "  7.42e-07s  0.00e+00d  [FindBigHorizontalLinearOverlap] \n",
      "  7.32e-07s  0.00e+00d  [MergeClauses] \n",
      "  3.15e-05s  0.00e+00d  [DetectDominanceRelations] \n",
      "  2.19e-04s  0.00e+00d  [PresolveToFixPoint] #num_loops=1 #num_dual_strengthening=1 \n",
      "  2.96e-05s  0.00e+00d  [ExpandObjective] \n",
      "\n",
      "Presolve summary:\n",
      "  - 0 affine relations were detected.\n",
      "  - rule 'TODO dual: only one unspecified blocking constraint?' was applied 120 times.\n",
      "  - rule 'lin_max: reduced expression domain.' was applied 20 times.\n",
      "  - rule 'lin_max: rewrite with precedences' was applied 20 times.\n",
      "  - rule 'lin_max: target domain reduced' was applied 19 times.\n",
      "  - rule 'linear: reduced variable domains' was applied 3 times.\n",
      "  - rule 'presolve: 0 unused variables removed.' was applied 1 time.\n",
      "  - rule 'presolve: iteration' was applied 2 times.\n",
      "\n",
      "Presolved optimization model '': (model_fingerprint: 0xe1bb661c7e0b5a38)\n",
      "#Variables: 40 (#ints: 20 in objective) (20 primary variables)\n",
      "  - 2 in [0,13]\n",
      "  - 2 in [0,19]\n",
      "  - 1 in [0,21]\n",
      "  - 1 in [0,22]\n",
      "  - 2 in [0,24]\n",
      "  - 1 in [0,25]\n",
      "  - 1 in [0,29]\n",
      "  - 4 in [0,47]\n",
      "  - 1 in [0,48]\n",
      "  - 3 in [0,49]\n",
      "  - 7 in [0,50]\n",
      "  - 5 in [0,51]\n",
      "  - 1 in [23,52]\n",
      "  - 1 in [27,52]\n",
      "  - 2 in [28,52]\n",
      "  - 1 in [30,52]\n",
      "  - 1 in [31,52]\n",
      "  - 2 in [33,52]\n",
      "  - 2 in [39,52]\n",
      "#kInterval: 20\n",
      "#kLinear2: 220\n",
      "#kNoOverlap: 1 (#intervals: 20)\n",
      "[Symmetry] Graph for symmetry has 301 nodes and 500 arcs.\n",
      "[Symmetry] Symmetry computation done. time: 3.5507e-05 dtime: 6.312e-05\n",
      "\n",
      "Preloading model.\n",
      "#Bound   0.00s best:inf   next:[404,1820] initial_domain\n",
      "#Model   0.00s var:40/40 constraints:241/241\n",
      "\n",
      "Starting search at 0.00s with 12 workers.\n",
      "8 full problem subsolvers: [core, default_lp, fixed, max_lp, no_lp, quick_restart, quick_restart_no_lp, reduced_costs]\n",
      "4 first solution subsolvers: [fj(2), fs_random, fs_random_no_lp]\n",
      "13 interleaved subsolvers: [feasibility_pump, graph_arc_lns, graph_cst_lns, graph_dec_lns, graph_var_lns, ls, ls_lin, rins/rens, rnd_cst_lns, rnd_var_lns, scheduling_intervals_lns, scheduling_precedences_lns, scheduling_time_window_lns]\n",
      "3 helper subsolvers: [neighborhood_helper, synchronization_agent, update_gap_integral]\n",
      "\n",
      "#1       0.01s best:1632  next:[404,1631] no_lp\n",
      "#Bound   0.01s best:1632  next:[453,1631] fixed\n",
      "#Bound   0.01s best:1632  next:[454,1631] bool_core (num_cores=1 [cover] a=19 d=1 fixed=8/47 clauses=45)\n",
      "#2       0.01s best:1524  next:[454,1523] no_lp\n",
      "#Bound   0.01s best:1524  next:[459,1523] bool_core (num_cores=1 [cover] a=19 d=1 fixed=9/50 clauses=55)\n",
      "#Bound   0.01s best:1524  next:[464,1523] bool_core (num_cores=1 [cover] a=19 d=1 fixed=10/53 clauses=66)\n",
      "#Bound   0.01s best:1524  next:[469,1523] bool_core (num_cores=1 [cover] a=19 d=1 fixed=11/56 clauses=78)\n",
      "#3       0.01s best:1496  next:[469,1495] no_lp\n",
      "#4       0.01s best:1480  next:[469,1479] no_lp\n"
     ]
    },
    {
     "name": "stdout",
     "output_type": "stream",
     "text": [
      "#5       0.01s best:1456  next:[469,1455] no_lp\n",
      "#6       0.01s best:1447  next:[469,1446] no_lp\n",
      "#7       0.01s best:1445  next:[469,1444] no_lp\n",
      "#Bound   0.01s best:1445  next:[473,1444] bool_core (num_cores=2 [size:2 mw:4 d:1] a=18 d=1 fixed=12/84 clauses=13)\n",
      "#Bound   0.01s best:1445  next:[477,1444] bool_core (num_cores=2 [cover] a=18 d=1 fixed=12/87 clauses=14)\n",
      "#Bound   0.01s best:1445  next:[481,1444] bool_core (num_cores=2 [cover] a=18 d=1 fixed=13/90 clauses=16)\n",
      "#Bound   0.01s best:1445  next:[485,1444] bool_core (num_cores=2 [cover] a=18 d=1 fixed=14/93 clauses=19)\n",
      "#Bound   0.01s best:1445  next:[489,1444] bool_core (num_cores=2 [cover] a=18 d=1 fixed=15/96 clauses=23)\n",
      "#Bound   0.01s best:1445  next:[493,1444] bool_core (num_cores=2 [cover] a=18 d=1 fixed=16/99 clauses=28)\n",
      "#Bound   0.01s best:1445  next:[497,1444] bool_core (num_cores=2 [cover] a=18 d=1 fixed=17/102 clauses=34)\n",
      "#Bound   0.01s best:1445  next:[501,1444] bool_core (num_cores=2 [cover] a=18 d=1 fixed=18/105 clauses=41)\n",
      "#8       0.01s best:1438  next:[501,1437] no_lp\n",
      "#9       0.01s best:1427  next:[501,1426] no_lp\n",
      "#Bound   0.01s best:1427  next:[505,1426] bool_core (num_cores=3 [size:2 mw:4 d:1] a=17 d=1 fixed=19/108 clauses=50)\n",
      "#Bound   0.01s best:1427  next:[509,1426] bool_core (num_cores=3 [cover] a=17 d=1 fixed=19/111 clauses=51)\n",
      "#Bound   0.01s best:1427  next:[513,1426] bool_core (num_cores=3 [cover] a=17 d=1 fixed=20/114 clauses=53)\n",
      "#Bound   0.01s best:1427  next:[517,1426] bool_core (num_cores=3 [cover] a=17 d=1 fixed=21/117 clauses=56)\n",
      "#Bound   0.01s best:1427  next:[521,1426] bool_core (num_cores=3 [cover] a=17 d=1 fixed=22/120 clauses=60)\n",
      "#Bound   0.01s best:1427  next:[525,1426] bool_core (num_cores=3 [cover] a=17 d=1 fixed=23/123 clauses=65)\n",
      "#Bound   0.02s best:1427  next:[529,1426] bool_core (num_cores=3 [cover] a=17 d=1 fixed=24/126 clauses=71)\n",
      "#10      0.02s best:1423  next:[605,1422] no_lp\n"
     ]
    },
    {
     "name": "stdout",
     "output_type": "stream",
     "text": [
      "#11      0.03s best:1420  next:[773,1419] no_lp\n"
     ]
    },
    {
     "name": "stdout",
     "output_type": "stream",
     "text": [
      "#12      0.05s best:1415  next:[797,1414] no_lp\n"
     ]
    },
    {
     "name": "stdout",
     "output_type": "stream",
     "text": [
      "#13      0.07s best:1412  next:[797,1411] no_lp\n"
     ]
    },
    {
     "name": "stdout",
     "output_type": "stream",
     "text": [
      "#14      0.10s best:1410  next:[801,1409] quick_restart_no_lp\n"
     ]
    },
    {
     "name": "stdout",
     "output_type": "stream",
     "text": [
      "#15      0.16s best:1409  next:[801,1408] no_lp\n",
      "#16      0.16s best:1408  next:[801,1407] no_lp\n",
      "#17      0.16s best:1407  next:[801,1406] no_lp\n",
      "#18      0.17s best:1405  next:[801,1404] no_lp\n"
     ]
    },
    {
     "name": "stdout",
     "output_type": "stream",
     "text": [
      "#Bound   0.67s best:1405  next:[993,1404] bool_core (num_cores=11 [cover] a=10 d=5 fixed=132/658 clauses=9'731) [skipped_logs=115]\n"
     ]
    },
    {
     "name": "stdout",
     "output_type": "stream",
     "text": [
      "#Bound   1.95s best:1405  next:[1185,1404] bool_core (num_cores=15 [cover] a=6 d=5 fixed=192/947 clauses=8'662) [skipped_logs=63]\n"
     ]
    },
    {
     "name": "stdout",
     "output_type": "stream",
     "text": [
      "#19      2.14s best:1403  next:[1206,1402] no_lp\n",
      "#20      2.14s best:1402  next:[1206,1401] no_lp\n",
      "#21      2.14s best:1401  next:[1209,1400] no_lp\n",
      "#22      2.14s best:1398  next:[1209,1397] no_lp\n",
      "#23      2.14s best:1395  next:[1209,1394] no_lp\n",
      "#24      2.14s best:1392  next:[1209,1391] no_lp\n",
      "#25      2.15s best:1389  next:[1209,1388] no_lp\n",
      "#26      2.15s best:1386  next:[1209,1385] no_lp\n",
      "#27      2.15s best:1385  next:[1209,1384] no_lp\n",
      "#28      2.15s best:1382  next:[1209,1381] no_lp\n",
      "#29      2.15s best:1379  next:[1209,1378] no_lp\n",
      "#30      2.15s best:1376  next:[1209,1375] no_lp\n",
      "#31      2.15s best:1375  next:[1209,1374] no_lp\n"
     ]
    },
    {
     "name": "stdout",
     "output_type": "stream",
     "text": [
      "#32      2.17s best:1372  next:[1212,1371] quick_restart_no_lp\n",
      "#33      2.17s best:1369  next:[1212,1368] quick_restart_no_lp\n"
     ]
    },
    {
     "name": "stdout",
     "output_type": "stream",
     "text": [
      "#Bound   2.74s best:1369  next:[1233,1368] bool_core (num_cores=17 [size:1 mw:3] a=5 d=5 fixed=207/1024 clauses=15'981) [skipped_logs=15]\n"
     ]
    },
    {
     "name": "stdout",
     "output_type": "stream",
     "text": [
      "#34      3.42s best:1368  next:[1240,1367] rins_lp_lns (d=8.73e-01 s=82 t=0.10 p=0.80 stall=3 h=base)\n"
     ]
    },
    {
     "name": "stdout",
     "output_type": "stream",
     "text": [
      "#Bound   3.89s best:1368  next:[1258,1367] bool_core (num_cores=20 [size:1 mw:3] a=5 d=6 fixed=219/1078 clauses=16'401) [skipped_logs=7]\n"
     ]
    },
    {
     "name": "stdout",
     "output_type": "stream",
     "text": [
      "#35      4.14s best:1366  next:[1258,1365] quick_restart\n"
     ]
    },
    {
     "name": "stdout",
     "output_type": "stream",
     "text": [
      "#Bound   4.68s best:1366  next:[1267,1365] bool_core (num_cores=23 [size:1 mw:3] a=5 d=6 fixed=222/1099 clauses=25'098) [skipped_logs=2]\n"
     ]
    },
    {
     "name": "stdout",
     "output_type": "stream",
     "text": [
      "#Bound   5.79s best:1366  next:[1273,1365] bool_core (num_cores=25 [size:1 mw:3] a=5 d=6 fixed=224/1113 clauses=37'741) [skipped_logs=1]\n"
     ]
    },
    {
     "name": "stdout",
     "output_type": "stream",
     "text": [
      "#Bound   7.75s best:1366  next:[1276,1365] bool_core (num_cores=26 [size:1 mw:3] a=5 d=6 fixed=226/1120 clauses=25'948)\n"
     ]
    },
    {
     "name": "stdout",
     "output_type": "stream",
     "text": [
      "#Bound   8.03s best:1366  next:[1279,1365] bool_core (num_cores=27 [size:1 mw:3] a=5 d=6 fixed=230/1127 clauses=29'158)\n"
     ]
    },
    {
     "name": "stdout",
     "output_type": "stream",
     "text": [
      "#Bound   8.29s best:1366  next:[1282,1365] bool_core (num_cores=28 [size:1 mw:3] a=5 d=6 fixed=232/1134 clauses=32'174) [skipped_logs=0]\n"
     ]
    },
    {
     "name": "stdout",
     "output_type": "stream",
     "text": [
      "#Bound   9.44s best:1366  next:[1285,1365] bool_core (num_cores=29 [size:1 mw:3] a=5 d=6 fixed=236/1140 clauses=45'921) [skipped_logs=0]\n"
     ]
    },
    {
     "name": "stdout",
     "output_type": "stream",
     "text": [
      "#Bound  10.69s best:1366  next:[1288,1365] bool_core (num_cores=30 [size:1 mw:3] a=5 d=6 fixed=237/1146 clauses=34'705) [skipped_logs=0]\n"
     ]
    },
    {
     "name": "stdout",
     "output_type": "stream",
     "text": [
      "#Bound  12.33s best:1366  next:[1291,1365] bool_core (num_cores=31 [size:1 mw:3] a=5 d=6 fixed=239/1152 clauses=33'386)\n"
     ]
    },
    {
     "name": "stdout",
     "output_type": "stream",
     "text": [
      "#Bound  13.41s best:1366  next:[1294,1365] bool_core (num_cores=32 [size:1 mw:3] a=5 d=6 fixed=241/1158 clauses=45'431)\n"
     ]
    },
    {
     "name": "stdout",
     "output_type": "stream",
     "text": [
      "#Bound  14.93s best:1366  next:[1297,1365] bool_core (num_cores=33 [size:1 mw:3] a=5 d=6 fixed=242/1164 clauses=29'962)\n"
     ]
    },
    {
     "name": "stdout",
     "output_type": "stream",
     "text": [
      "#Bound  16.21s best:1366  next:[1300,1365] bool_core (num_cores=34 [size:1 mw:3] a=5 d=6 fixed=243/1170 clauses=45'074)\n"
     ]
    },
    {
     "name": "stdout",
     "output_type": "stream",
     "text": [
      "#Bound  17.79s best:1366  next:[1304,1365] bool_core (num_cores=35 [size:1 mw:3] a=5 d=6 fixed=247/1176 clauses=44'476)\n"
     ]
    },
    {
     "name": "stdout",
     "output_type": "stream",
     "text": [
      "#Bound  19.13s best:1366  next:[1307,1365] bool_core (num_cores=36 [size:1 mw:3] a=5 d=6 fixed=252/1182 clauses=33'902)\n"
     ]
    },
    {
     "name": "stdout",
     "output_type": "stream",
     "text": [
      "#Bound  20.16s best:1366  next:[1310,1365] bool_core (num_cores=37 [size:1 mw:3] a=5 d=6 fixed=258/1188 clauses=45'220)\n"
     ]
    },
    {
     "name": "stdout",
     "output_type": "stream",
     "text": [
      "#Bound  22.71s best:1366  next:[1313,1365] bool_core (num_cores=38 [size:1 mw:3] a=5 d=6 fixed=259/1193 clauses=52'687)\n"
     ]
    },
    {
     "name": "stdout",
     "output_type": "stream",
     "text": [
      "#Bound  26.21s best:1366  next:[1316,1365] bool_core (num_cores=39 [size:1 mw:3] a=5 d=6 fixed=263/1198 clauses=58'005)\n"
     ]
    },
    {
     "name": "stdout",
     "output_type": "stream",
     "text": [
      "#Bound  29.65s best:1366  next:[1318,1365] bool_core (num_cores=40 [size:1 mw:1] a=5 d=6 fixed=269/1212 clauses=41'564)\n",
      "#Bound  29.65s best:1366  next:[1319,1365] bool_core (num_cores=41 [size:1 mw:1] a=5 d=6 fixed=269/1213 clauses=41'564)\n",
      "#Bound  29.67s best:1366  next:[1320,1365] bool_core (num_cores=42 [size:2 mw:1 d:6] a=4 d=6 fixed=269/1214 clauses=41'578)\n"
     ]
    },
    {
     "name": "stdout",
     "output_type": "stream",
     "text": [
      "#Bound  29.67s best:1366  next:[1321,1365] bool_core (num_cores=42 [cover] a=4 d=6 fixed=269/1215 clauses=41'595)\n",
      "#Bound  29.68s best:1366  next:[1322,1365] bool_core (num_cores=42 [cover] a=4 d=6 fixed=270/1216 clauses=41'628)\n"
     ]
    },
    {
     "name": "stdout",
     "output_type": "stream",
     "text": [
      "#Bound  29.69s best:1366  next:[1323,1365] bool_core (num_cores=42 [cover] a=4 d=6 fixed=271/1217 clauses=41'683)\n"
     ]
    },
    {
     "name": "stdout",
     "output_type": "stream",
     "text": [
      "#Bound  29.70s best:1366  next:[1324,1365] bool_core (num_cores=43 [size:2 mw:1 d:1] a=3 d=6 fixed=272/1218 clauses=41'709)\n",
      "#Bound  29.70s best:1366  next:[1325,1365] bool_core (num_cores=43 [cover] a=3 d=6 fixed=272/1221 clauses=41'710)\n",
      "#Bound  29.70s best:1366  next:[1326,1365] bool_core (num_cores=43 [cover] a=3 d=6 fixed=273/1224 clauses=41'712)\n"
     ]
    },
    {
     "name": "stdout",
     "output_type": "stream",
     "text": [
      "#Bound  30.05s best:1366  next:[1346,1365] bool_core (num_cores=44 [cover] a=3 d=7 fixed=292/1303 clauses=44'936) [skipped_logs=19]\n"
     ]
    },
    {
     "name": "stdout",
     "output_type": "stream",
     "text": [
      "#Bound  30.37s best:1366  next:[1348,1365] bool_core (num_cores=46 [size:1 mw:1] a=3 d=7 fixed=294/1317 clauses=47'538) [skipped_logs=1]\n"
     ]
    },
    {
     "name": "stdout",
     "output_type": "stream",
     "text": [
      "#Bound  31.99s best:1366  next:[1351,1365] bool_core (num_cores=49 [size:1 mw:1] a=3 d=7 fixed=307/1324 clauses=48'506) [skipped_logs=2]\n"
     ]
    },
    {
     "name": "stdout",
     "output_type": "stream",
     "text": [
      "#Bound  32.91s best:1366  next:[1354,1365] bool_core (num_cores=52 [size:1 mw:1] a=2 d=8 fixed=309/1332 clauses=50'491) [skipped_logs=2]\n"
     ]
    },
    {
     "name": "stdout",
     "output_type": "stream",
     "text": [
      "#Bound  33.37s best:1366  next:[1355,1365] bool_core (num_cores=53 [size:1 mw:1] a=2 d=8 fixed=310/1335 clauses=54'239) [skipped_logs=0]\n"
     ]
    },
    {
     "name": "stdout",
     "output_type": "stream",
     "text": [
      "#Bound  34.38s best:1366  next:[1356,1365] bool_core (num_cores=54 [size:2 mw:1 d:9] a=1 d=9 fixed=311/1338 clauses=62'789) [skipped_logs=0]\n"
     ]
    },
    {
     "name": "stdout",
     "output_type": "stream",
     "text": [
      "#Bound  36.25s best:1366  next:[1357,1365] bool_core (num_cores=55 [size:1 mw:1] a=1 d=9 fixed=312/1344 clauses=63'058)\n"
     ]
    },
    {
     "name": "stdout",
     "output_type": "stream",
     "text": [
      "#Bound  37.17s best:1366  next:[1358,1365] bool_core (num_cores=56 [size:1 mw:1] a=1 d=9 fixed=315/1350 clauses=70'227)\n"
     ]
    },
    {
     "name": "stdout",
     "output_type": "stream",
     "text": [
      "#Bound  38.71s best:1366  next:[1359,1365] bool_core (num_cores=57 [size:1 mw:1] a=1 d=9 fixed=316/1356 clauses=71'259)\n"
     ]
    },
    {
     "name": "stdout",
     "output_type": "stream",
     "text": [
      "#Bound  40.98s best:1366  next:[1360,1365] bool_core (num_cores=58 [size:1 mw:1] a=1 d=9 fixed=321/1362 clauses=74'835)\n"
     ]
    },
    {
     "name": "stdout",
     "output_type": "stream",
     "text": [
      "#Bound  41.96s best:1366  next:[1361,1365] bool_core (num_cores=59 [size:1 mw:1] a=1 d=9 fixed=324/1368 clauses=71'201)\n"
     ]
    },
    {
     "name": "stdout",
     "output_type": "stream",
     "text": [
      "#Bound  42.73s best:1366  next:[1362,1365] bool_core (num_cores=60 [size:1 mw:1] a=1 d=9 fixed=326/1374 clauses=76'280)\n"
     ]
    },
    {
     "name": "stdout",
     "output_type": "stream",
     "text": [
      "#Bound  44.50s best:1366  next:[1363,1365] bool_core (num_cores=61 [size:1 mw:1] a=1 d=9 fixed=328/1380 clauses=75'719)\n"
     ]
    },
    {
     "name": "stdout",
     "output_type": "stream",
     "text": [
      "#Bound  45.49s best:1366  next:[1364,1365] bool_core (num_cores=62 [size:1 mw:1] a=1 d=9 fixed=333/1386 clauses=75'036)\n"
     ]
    },
    {
     "name": "stdout",
     "output_type": "stream",
     "text": [
      "#Bound  48.67s best:1366  next:[1365,1365] bool_core (num_cores=63 [size:1 mw:1] a=1 d=9 fixed=334/1392 clauses=89'324)\n"
     ]
    },
    {
     "name": "stdout",
     "output_type": "stream",
     "text": [
      "#Done   52.94s core\n",
      "#Done   52.94s quick_restart\n"
     ]
    },
    {
     "name": "stdout",
     "output_type": "stream",
     "text": [
      "\n",
      "Task timing                             n [     min,      max]      avg      dev     time         n [     min,      max]      avg      dev    dtime\n",
      "                        'core':         1 [  52.94s,   52.94s]   52.94s   0.00ns   52.94s         1 [   1.36m,    1.36m]    1.36m   0.00ns    1.36m\n",
      "                  'default_lp':         1 [  52.95s,   52.95s]   52.95s   0.00ns   52.95s         1 [  19.01s,   19.01s]   19.01s   0.00ns   19.01s\n",
      "            'feasibility_pump':       177 [ 38.17us,   1.31ms]  86.14us 107.21us  15.25ms       176 [ 16.73us,   1.84ms]  27.08us 136.93us   4.77ms\n",
      "                       'fixed':         1 [  52.95s,   52.95s]   52.95s   0.00ns   52.95s         1 [  39.71s,   39.71s]   39.71s   0.00ns   39.71s\n",
      "                          'fj':         0 [  0.00ns,   0.00ns]   0.00ns   0.00ns   0.00ns         0 [  0.00ns,   0.00ns]   0.00ns   0.00ns   0.00ns\n",
      "                          'fj':         1 [ 25.35ms,  25.35ms]  25.35ms   0.00ns  25.35ms         1 [ 46.05ms,  46.05ms]  46.05ms   0.00ns  46.05ms\n",
      "                   'fs_random':         1 [918.51us, 918.51us] 918.51us   0.00ns 918.51us         0 [  0.00ns,   0.00ns]   0.00ns   0.00ns   0.00ns\n",
      "             'fs_random_no_lp':         1 [  1.08ms,   1.08ms]   1.08ms   0.00ns   1.08ms         1 [ 29.30us,  29.30us]  29.30us   0.00ns  29.30us\n",
      "               'graph_arc_lns':        49 [  1.56ms,    1.03s] 420.56ms 349.51ms   20.61s        49 [ 10.96us, 100.07ms]  56.12ms  46.88ms    2.75s\n",
      "               'graph_cst_lns':        51 [  1.17ms, 785.53ms] 350.82ms 295.89ms   17.89s        51 [  7.17us, 100.06ms]  52.54ms  45.71ms    2.68s\n",
      "               'graph_dec_lns':        53 [891.01us, 944.26ms] 361.15ms 322.38ms   19.14s        53 [  7.64us, 100.06ms]  51.26ms  46.74ms    2.72s\n",
      "               'graph_var_lns':        45 [  2.04ms,    1.09s] 449.62ms 324.27ms   20.23s        45 [ 12.69us, 100.05ms]  60.69ms  42.99ms    2.73s\n",
      "                          'ls':       177 [ 31.90ms, 155.83ms]  70.05ms  15.31ms   12.40s       177 [ 36.71ms, 100.09ms]  99.67ms   4.75ms   17.64s\n",
      "                      'ls_lin':       177 [ 27.82ms, 158.00ms]  67.28ms  14.79ms   11.91s       177 [ 34.22ms, 100.09ms]  99.66ms   4.93ms   17.64s\n",
      "                      'max_lp':         1 [  52.95s,   52.95s]   52.95s   0.00ns   52.95s         1 [  15.61s,   15.61s]   15.61s   0.00ns   15.61s\n",
      "                       'no_lp':         1 [  52.95s,   52.95s]   52.95s   0.00ns   52.95s         1 [  23.83s,   23.83s]   23.83s   0.00ns   23.83s\n",
      "               'quick_restart':         1 [  52.94s,   52.94s]   52.94s   0.00ns   52.94s         1 [  24.54s,   24.54s]   24.54s   0.00ns   24.54s\n",
      "         'quick_restart_no_lp':         1 [  52.96s,   52.96s]   52.96s   0.00ns   52.96s         1 [  32.51s,   32.51s]   32.51s   0.00ns   32.51s\n",
      "               'reduced_costs':         1 [  52.95s,   52.95s]   52.95s   0.00ns   52.95s         1 [  15.88s,   15.88s]   15.88s   0.00ns   15.88s\n",
      "                   'rins/rens':       131 [ 13.25us, 603.92ms] 140.80ms 213.26ms   18.44s        57 [  1.16us, 100.07ms]  64.65ms  44.55ms    3.68s\n",
      "                 'rnd_cst_lns':        47 [  2.25ms, 781.17ms] 379.13ms 302.99ms   17.82s        47 [ 43.60us, 100.15ms]  55.99ms  46.00ms    2.63s\n",
      "                 'rnd_var_lns':        53 [  1.24ms, 725.14ms] 333.72ms 272.81ms   17.69s        53 [  7.12us, 100.07ms]  52.32ms  44.96ms    2.77s\n",
      "    'scheduling_intervals_lns':        38 [  7.68ms, 931.91ms] 496.55ms 298.85ms   18.87s        38 [304.99us, 100.07ms]  66.15ms  40.63ms    2.51s\n",
      "  'scheduling_precedences_lns':        39 [  4.81ms, 884.61ms] 479.28ms 327.95ms   18.69s        39 [ 51.92us, 100.06ms]  61.40ms  42.87ms    2.39s\n",
      "  'scheduling_time_window_lns':        40 [  4.32ms, 840.81ms] 448.25ms 304.83ms   17.93s        40 [ 17.28us, 100.09ms]  60.83ms  41.62ms    2.43s\n",
      "\n",
      "Search stats              Bools  Conflicts  Branches  Restarts   BoolPropag  IntegerPropag\n",
      "                 'core':  1'398    401'675   695'344    44'135  127'801'935     10'126'993\n",
      "           'default_lp':    966    323'427   669'317    26'105   42'615'284     20'227'643\n",
      "                'fixed':    302    445'438   456'400         1   15'600'911     19'544'089\n",
      "            'fs_random':      0          0         0         0            0              0\n",
      "      'fs_random_no_lp':     12          0        12         0            0            242\n",
      "               'max_lp':    832    216'648   520'374    41'255   32'629'114     16'053'327\n",
      "                'no_lp':    401    545'266   950'880    75'119   37'944'711     31'510'883\n",
      "        'quick_restart':  1'260    169'768   656'884    36'573   45'222'752     15'326'105\n",
      "  'quick_restart_no_lp':  1'235    245'545   875'546    48'744   63'571'438     21'598'158\n",
      "        'reduced_costs':    435    222'530   488'824    42'341   18'065'612     12'252'801\n",
      "\n",
      "SAT stats                 ClassicMinim  LitRemoved  LitLearned  LitForgotten  Subsumed  MClauses  MDecisions  MLitTrue  MSubsumed  MLitRemoved  MReused\n",
      "                 'core':       366'883   4'271'607   4'662'708       955'384       529    54'937     235'270         0     14'096      128'723   14'969\n",
      "           'default_lp':       308'459   5'217'085   5'526'628     3'589'699     1'019    28'074     296'461         0     13'272      204'042    9'296\n",
      "                'fixed':       410'791   1'007'822   9'150'691     8'015'618     2'000         0           0         0          0            0        0\n",
      "            'fs_random':             0           0           0             0         0         0           0         0          0            0        0\n",
      "      'fs_random_no_lp':             0           0           0             0         0         0           0         0          0            0        0\n",
      "               'max_lp':       170'695   1'539'474   2'964'712     2'230'705       911    46'911     225'411       963      9'778       73'981   11'175\n",
      "                'no_lp':       538'658   7'334'922   5'190'562     3'043'789     2'083    86'914     317'691        48     46'242      300'668   24'870\n",
      "        'quick_restart':       161'030   1'804'070   4'163'541     3'135'957       440    24'091     266'309         1      8'269      139'329    9'198\n",
      "  'quick_restart_no_lp':       236'663   2'796'076   5'953'643     4'813'879       584    30'798     293'328       328     11'276      176'356   13'355\n",
      "        'reduced_costs':       217'694   6'486'455   1'757'524       764'993       694    45'892     243'855       245     25'586      212'307   17'405\n",
      "\n",
      "Lp stats            Component  Iterations  AddedCuts    OPTIMAL  DUAL_F.  DUAL_U.\n",
      "     'default_lp':          1     601'194          0    734'382        0        0\n",
      "          'fixed':          1         122          0  1'012'784        0        0\n",
      "      'fs_random':          1           0          0          0        0        0\n",
      "         'max_lp':          1     838'004        428    513'170    4'827        0\n",
      "  'quick_restart':          1     722'137          0    558'365        0        0\n",
      "  'reduced_costs':          1     852'503        212    498'629    6'902        0\n",
      "\n",
      "Lp dimension        Final dimension of first component\n",
      "     'default_lp':    77 rows, 40 columns, 154 entries\n",
      "          'fixed':       3 rows, 40 columns, 6 entries\n",
      "      'fs_random':       0 rows, 40 columns, 0 entries\n",
      "         'max_lp':     31 rows, 40 columns, 80 entries\n",
      "  'quick_restart':     35 rows, 40 columns, 70 entries\n",
      "  'reduced_costs':    50 rows, 40 columns, 136 entries\n",
      "\n",
      "Lp debug            CutPropag  CutEqPropag  Adjust  Overflow  Bad  BadScaling\n",
      "     'default_lp':          0            0      13         0    0           0\n",
      "          'fixed':          0            0       0         0    0           0\n",
      "      'fs_random':          0            0       0         0    0           0\n",
      "         'max_lp':          0            0  60'969         0   48           0\n",
      "  'quick_restart':          0            0      38         0    0           0\n",
      "  'reduced_costs':          0            0  41'379         0  246           0\n",
      "\n",
      "Lp pool             Constraints  Updates  Simplif  Merged  Shortened  Split  Strenghtened  Cuts/Call\n",
      "     'default_lp':          220        0        0       0          0      0             0        0/0\n",
      "          'fixed':          220        0        0       0          0      0             0        0/0\n",
      "      'fs_random':          220        0        0       0          0      0             0        0/0\n",
      "         'max_lp':          648       13       96       0          0      4            18    428/516\n",
      "  'quick_restart':          220        0        0       0          0      0             0        0/0\n",
      "  'reduced_costs':          431        9      203       1          0      0             0    212/492\n",
      "\n",
      "Lp Cut                                                max_lp  reduced_costs\n",
      "                                              CG_FF:       -              1\n",
      "                                               CG_K:       -              1\n",
      "                                               CG_R:       2              5\n",
      "                  NoOverlapCompletionTimeExhaustive:       4              2\n",
      "  NoOverlapCompletionTimeExhaustive_lifted_weighted:      11              2\n",
      "         NoOverlapCompletionTimeExhaustive_weighted:     229             81\n",
      "                    NoOverlapCompletionTimeQueyrane:      74             58\n",
      "             NoOverlapCompletionTimeQueyrane_lifted:       2              -\n",
      "                          NoOverlapDisjunctionOnEnd:      52             28\n",
      "                        NoOverlapDisjunctionOnStart:      52             29\n",
      "                                        ZERO_HALF_R:       2              5\n",
      "\n",
      "LNS stats                        Improv/Calls  Closed  Difficulty  TimeLimit\n",
      "               'graph_arc_lns':         27/49     49%    7.84e-01       0.10\n",
      "               'graph_cst_lns':         23/51     55%    8.91e-01       0.10\n",
      "               'graph_dec_lns':         27/53     55%    8.89e-01       0.10\n",
      "               'graph_var_lns':         20/45     49%    7.92e-01       0.10\n",
      "                   'rins/rens':         13/65     49%    8.00e-01       0.10\n",
      "                 'rnd_cst_lns':         26/47     51%    8.16e-01       0.10\n",
      "                 'rnd_var_lns':         33/53     53%    8.54e-01       0.10\n",
      "    'scheduling_intervals_lns':         29/38     45%    2.25e-01       0.10\n",
      "  'scheduling_precedences_lns':         31/39     49%    2.75e-01       0.10\n",
      "  'scheduling_time_window_lns':         31/40     52%    5.32e-01       0.10\n",
      "\n",
      "LS stats                                    Batches  Restarts/Perturbs  LinMoves  GenMoves  CompoundMoves  Bactracks  WeightUpdates  ScoreComputed\n",
      "                             'fj_restart':        1                  1         0     1'122              0          0            346         97'549\n",
      "                         'ls_lin_restart':       35                 14       101    65'939              0          0         32'292      7'699'861\n",
      "                'ls_lin_restart_compound':       27                 10         0   178'206          3'112     87'521            559      7'020'605\n",
      "        'ls_lin_restart_compound_perturb':       11                  6         0    90'298          1'605     44'320            262      3'169'220\n",
      "                   'ls_lin_restart_decay':       14                 11        55    52'623              0          0          3'420      3'321'117\n",
      "          'ls_lin_restart_decay_compound':       15                 10         0   115'417          2'602     56'377            304      4'197'531\n",
      "  'ls_lin_restart_decay_compound_perturb':       28                 15         0   204'441          4'404     99'971            473      7'685'942\n",
      "           'ls_lin_restart_decay_perturb':       25                 13        76    87'557              0          0          5'860      5'838'775\n",
      "                 'ls_lin_restart_perturb':       22                 12        52    47'767              0          0         22'855      4'915'213\n",
      "                             'ls_restart':       30                 10        63    59'166              0          0         32'629      6'626'451\n",
      "                    'ls_restart_compound':       25                 11         0   194'176          3'652     95'219            477      7'060'581\n",
      "            'ls_restart_compound_perturb':       21                  8         0   148'028          2'632     72'673            452      5'583'486\n",
      "                       'ls_restart_decay':       22                 14        77    78'661              0          0          5'018      5'180'283\n",
      "              'ls_restart_decay_compound':       15                 11         0   112'225          2'504     54'830            314      4'148'958\n",
      "      'ls_restart_decay_compound_perturb':       23                 14         0   180'701          4'208     88'207            454      6'487'239\n",
      "               'ls_restart_decay_perturb':       25                 10        67    86'472              0          0          5'517      5'828'622\n",
      "                     'ls_restart_perturb':       16                 13        48    36'031              0          0         13'187      3'582'570\n",
      "\n",
      "Solutions (35)            Num     Rank\n",
      "                'no_lp':   30   [1,31]\n",
      "        'quick_restart':    1  [35,35]\n",
      "  'quick_restart_no_lp':    3  [14,33]\n",
      "          'rins_lp_lns':    1  [34,34]\n",
      "\n",
      "Objective bounds     Num\n",
      "       'bool_core':  290\n",
      "           'fixed':    1\n",
      "  'initial_domain':    1\n",
      "\n",
      "Solution repositories    Added  Queried  Synchro\n",
      "  'feasible solutions':    265    1'373      156\n",
      "   'fj solution hints':      0        0        0\n",
      "        'lp solutions':  4'804       56      919\n",
      "                'pump':    176       75\n",
      "\n",
      "Improving bounds shared    Num  Sym\n",
      "            'default_lp':    3    0\n",
      "                'max_lp':    2    0\n",
      "                 'no_lp':   30    0\n",
      "         'quick_restart':    2    0\n",
      "   'quick_restart_no_lp':    9    0\n",
      "         'reduced_costs':    4    0\n",
      "\n",
      "CpSolverResponse summary:\n",
      "status: OPTIMAL\n",
      "objective: 1366\n",
      "best_bound: 1366\n",
      "integers: 41\n",
      "booleans: 12\n",
      "conflicts: 0\n",
      "branches: 12\n",
      "propagations: 0\n",
      "integer_propagations: 242\n",
      "restarts: 0\n",
      "lp_iterations: 0\n",
      "walltime: 52.9636\n",
      "usertime: 52.9636\n",
      "deterministic_time: 315.519\n",
      "gap_integral: 191.048\n",
      "solution_fingerprint: 0xc26ca475fbcdaeb1\n",
      "\n"
     ]
    }
   ],
   "source": [
    "model3 = ModelCpSat(cond2)\n",
    "model3.solve()\n",
    "mo.md(f\"Time: {model3.solver.wall_time:.9f}\")"
   ]
  },
  {
   "cell_type": "code",
   "execution_count": null,
   "id": "DnEU",
   "metadata": {},
   "outputs": [
    {
     "name": "stdout",
     "output_type": "stream",
     "text": [
      "Shoot 18 starts at 0\n",
      "Shoot 5 starts at 1\n",
      "Shoot 13 starts at 2\n",
      "Shoot 1 starts at 5\n",
      "Shoot 12 starts at 10\n",
      "Shoot 15 starts at 12\n",
      "Shoot 9 starts at 14\n",
      "Shoot 17 starts at 15\n",
      "Shoot 2 starts at 17\n",
      "Shoot 11 starts at 20\n",
      "Shoot 3 starts at 23\n",
      "Shoot 7 starts at 27\n",
      "Shoot 4 starts at 29\n",
      "Shoot 10 starts at 31\n",
      "Shoot 14 starts at 36\n",
      "Shoot 6 starts at 38\n",
      "Shoot 16 starts at 39\n",
      "Shoot 0 starts at 40\n",
      "Shoot 8 starts at 45\n",
      "Shoot 19 starts at 47\n"
     ]
    }
   ],
   "source": [
    "model3.print_solution()"
   ]
  },
  {
   "cell_type": "code",
   "execution_count": null,
   "id": "ulZA",
   "metadata": {},
   "outputs": [
    {
     "name": "stdout",
     "output_type": "stream",
     "text": [
      "Solver: CABS from DIDPPy v0.9.0\n",
      "Searched with beam size: 1, threads: 10, kept: 192, sent: 0\n",
      "Searched with beam size: 1, expanded: 20, elapsed time: 0.000178639\n",
      "New primal bound: 1599, expanded: 20, elapsed time: 0.000180753\n",
      "Searched with beam size: 2, threads: 10, kept: 173, sent: 173\n",
      "Searched with beam size: 2, expanded: 58, elapsed time: 0.000428313\n",
      "New dual bound: 1112, expanded: 58, elapsed time: 0.000429255\n",
      "New primal bound: 1526, expanded: 58, elapsed time: 0.000436098\n",
      "Searched with beam size: 4, threads: 10, kept: 160, sent: 524\n",
      "Searched with beam size: 4, expanded: 127, elapsed time: 0.000712452\n",
      "Searched with beam size: 8, threads: 10, kept: 177, sent: 1165\n",
      "Searched with beam size: 8, expanded: 271, elapsed time: 0.001207581\n",
      "New primal bound: 1471, expanded: 271, elapsed time: 0.001219223\n",
      "Searched with beam size: 16, threads: 10, kept: 230, sent: 2313\n",
      "Searched with beam size: 16, expanded: 553, elapsed time: 0.004337678\n",
      "New primal bound: 1448, expanded: 553, elapsed time: 0.00434418\n",
      "Searched with beam size: 32, threads: 10, kept: 468, sent: 4243\n",
      "Searched with beam size: 32, expanded: 1110, elapsed time: 0.005239578\n",
      "New primal bound: 1423, expanded: 1110, elapsed time: 0.005246952\n",
      "Searched with beam size: 64, threads: 10, kept: 855, sent: 8105\n",
      "Searched with beam size: 64, expanded: 2168, elapsed time: 0.00660053\n",
      "New primal bound: 1413, expanded: 2168, elapsed time: 0.006608275\n",
      "Searched with beam size: 128, threads: 10, kept: 1697, sent: 15577\n",
      "Searched with beam size: 128, expanded: 4191, elapsed time: 0.008942041\n",
      "New dual bound: 1116, expanded: 4191, elapsed time: 0.008943284\n",
      "New primal bound: 1408, expanded: 4191, elapsed time: 0.008950427\n",
      "Searched with beam size: 256, threads: 10, kept: 3279, sent: 29386\n",
      "Searched with beam size: 256, expanded: 8030, elapsed time: 0.013099348\n",
      "New dual bound: 1122, expanded: 8030, elapsed time: 0.01310083\n",
      "Searched with beam size: 512, threads: 10, kept: 6112, sent: 54736\n",
      "Searched with beam size: 512, expanded: 15307, elapsed time: 0.020571892\n",
      "New dual bound: 1130, expanded: 15307, elapsed time: 0.020573354\n",
      "New primal bound: 1402, expanded: 15307, elapsed time: 0.020583524\n",
      "Searched with beam size: 1024, threads: 10, kept: 11458, sent: 102077\n",
      "Searched with beam size: 1024, expanded: 29191, elapsed time: 0.035377626\n",
      "New dual bound: 1137, expanded: 29191, elapsed time: 0.035379079\n",
      "Searched with beam size: 2048, threads: 10, kept: 20869, sent: 186294\n",
      "Searched with beam size: 2048, expanded: 55400, elapsed time: 0.059834617\n",
      "New dual bound: 1148, expanded: 55400, elapsed time: 0.05983593\n",
      "New primal bound: 1397, expanded: 55400, elapsed time: 0.059845167\n",
      "Searched with beam size: 4096, threads: 10, kept: 38028, sent: 341305\n",
      "Searched with beam size: 4096, expanded: 104698, elapsed time: 0.105211319\n",
      "New dual bound: 1159, expanded: 104698, elapsed time: 0.105212591\n",
      "New primal bound: 1396, expanded: 104698, elapsed time: 0.105219084\n",
      "Searched with beam size: 8192, threads: 10, kept: 68059, sent: 609471\n",
      "Searched with beam size: 8192, expanded: 196106, elapsed time: 0.188261391\n",
      "New dual bound: 1180, expanded: 196106, elapsed time: 0.188263345\n",
      "New primal bound: 1377, expanded: 196106, elapsed time: 0.188273043\n",
      "Searched with beam size: 16384, threads: 10, kept: 113821, sent: 1023385\n",
      "Searched with beam size: 16384, expanded: 357306, elapsed time: 0.339161032\n",
      "New dual bound: 1209, expanded: 357306, elapsed time: 0.339163517\n",
      "New primal bound: 1366, expanded: 357306, elapsed time: 0.339178135\n",
      "Searched with beam size: 32768, threads: 10, kept: 178452, sent: 1602626\n",
      "Searched with beam size: 32768, expanded: 626909, elapsed time: 0.603256127\n",
      "New dual bound: 1258, expanded: 626909, elapsed time: 0.60325811\n",
      "Searched with beam size: 65536, threads: 10, kept: 210724, sent: 1893245\n",
      "Searched with beam size: 65536, expanded: 953879, elapsed time: 0.912995931\n"
     ]
    }
   ],
   "source": [
    "model4 = ModelDidp(cond2)\n",
    "model4.solve(threads=10)\n",
    "mo.md(f\"Time: {model4.solution.time:.9f}\")"
   ]
  },
  {
   "cell_type": "code",
   "execution_count": null,
   "id": "ecfG",
   "metadata": {},
   "outputs": [
    {
     "name": "stdout",
     "output_type": "stream",
     "text": [
      "Transitions to apply:\n",
      "\n",
      "shoot 19\n",
      "shoot 0\n",
      "shoot 8\n",
      "shoot 16\n",
      "shoot 14\n",
      "shoot 6\n",
      "shoot 10\n",
      "shoot 4\n",
      "shoot 11\n",
      "forced shoot 3\n",
      "forced shoot 7\n",
      "shoot 2\n",
      "shoot 17\n",
      "shoot 15\n",
      "shoot 12\n",
      "shoot 9\n",
      "shoot 1\n",
      "shoot 13\n",
      "shoot 5\n",
      "forced shoot 18\n",
      "\n",
      "Cost: 1366\n"
     ]
    }
   ],
   "source": [
    "model4.print_solution()"
   ]
  }
 ],
 "metadata": {},
 "nbformat": 4,
 "nbformat_minor": 5
}
