{
 "cells": [
  {
   "cell_type": "code",
   "execution_count": null,
   "id": "Hbol",
   "metadata": {},
   "outputs": [],
   "source": [
    "import marimo as mo"
   ]
  },
  {
   "cell_type": "markdown",
   "id": "MJUe",
   "metadata": {
    "marimo": {
     "config": {
      "hide_code": true
     }
    }
   },
   "source": [
    "# 充足可能性問題と重み付き制約充足問題"
   ]
  },
  {
   "cell_type": "markdown",
   "id": "vblA",
   "metadata": {
    "marimo": {
     "config": {
      "hide_code": true
     }
    }
   },
   "source": [
    "## 重み付き制約充足問題"
   ]
  },
  {
   "cell_type": "markdown",
   "id": "bkHC",
   "metadata": {
    "marimo": {
     "config": {
      "hide_code": true
     }
    }
   },
   "source": [
    "- 変数 $x_j \\in D_j$ ($j = 1, \\dots, n$) (各 $D_j$ は有限集合)\n",
    "- 制約 $C_i \\subset D_1 \\times \\dots \\times D_n$ ($i = 1, \\dots, m$)\n",
    "\n",
    "制約充足問題とは, 上記条件を満たす $(x_1, \\dots, x_n)$ を 1 組見つける(か解がないことを証明するか)問題のこと.\n",
    "\n",
    "制約からの逸脱量 $g_i(x)$ が定義できればこれを最小にする問題としても定式化できる.\n",
    "各制約の重みを $w_i$ として重み付き制約充足問題は\n",
    "\n",
    "\\begin{align}\n",
    "&\\text{minimize} \\quad \\sum_{i=1}^m w_i g_i(x) \\\\\n",
    "&\\text{s.t.} \\quad x_j \\in D_j \\quad \\text{(for $j = 1, \\dots, n$)}\n",
    "\\end{align}\n",
    "\n",
    "最適化ソルバー SCOP が紹介されているが, 時間があればやる..."
   ]
  },
  {
   "cell_type": "markdown",
   "id": "lEQa",
   "metadata": {
    "marimo": {
     "config": {
      "hide_code": true
     }
    }
   },
   "source": [
    "## 時間割作成問題"
   ]
  },
  {
   "cell_type": "markdown",
   "id": "PKri",
   "metadata": {
    "marimo": {
     "config": {
      "hide_code": true
     }
    }
   },
   "source": [
    "### パラメータ\n",
    "\n",
    "- 授業 $i$\n",
    "- 教室 $k$\n",
    "- 教員 $l$\n",
    "- 学生\n",
    "- 期 $t$: ここでは 1 週間(5 日もしくは 6 日）の各時限を考える.\n",
    "\n",
    "### 時間割を組む条件\n",
    "\n",
    "- すべての授業をいずれか期へ割当\n",
    "- すべての授業をいずれか教室へ割当\n",
    "- 各期, 1 つの教室では 1 つ以下の授業\n",
    "- 同じ教員の受持ち講義は異なる期へ\n",
    "- 割当教室は受講学生数以上の容量をもつ\n",
    "- 同じ学生が受ける可能性がある授業の集合(カリキュラム)は, 異なる期へ割り当てなければならない\n",
    "\n",
    "### 付加条件\n",
    "\n",
    "- 1 日の最後の期に割り当てられると履修学生数分のペナルティ\n",
    "- 1 人の学生が履修する授業が 3 連続するとペナルティ\n",
    "- 1 人の学生の授業数が 1 日に 1 つならばペナルティ(0 か 2 以上が望ましい)\n",
    "\n",
    "### 定式化\n",
    "\n",
    "#### 変数\n",
    "\n",
    "- $x_{it}$: 授業 $i$ を期 $t$ に割り当てるとき $1$, そうでないとき $0$\n",
    "- $y_{ik}$: 授業 $i$ を教室 $k$ に割り当てるとき $1$, そうでないとき $0$\n",
    "\n",
    "#### 制約\n",
    "\n",
    "- すべての授業をいずれか期へ割当\n",
    "  - $\\sum_{t} x_{it} = 1$ (for all $i$)\n",
    "- すべての授業をいずれか教室へ割当\n",
    "  - $\\sum_{k} y_{ik} = 1$ (for all $i$)\n",
    "- 各期 $t$ の各教室 $k$ への割り当て授業は $1$ 以下\n",
    "  - $\\sum_{i} x_{it} y_{ik} \\leq 1$ (for all $t, k$) ※ AND 制約なので線形制約で表現可能\n",
    "- 同じ教員の受持ち講義は異なる期へ割り当て\n",
    "  - 教員 $l$ の受け持ち講義の集合を $E_l$ とする\n",
    "  - $\\sum_{i \\in E_l} x_{it} \\leq 1$ (for all $l, t$)\n",
    "- 割当教室は受講学生数以上の容量をもつ\n",
    "  - 授業 $i$ ができない(容量を超過する)教室の集合を $K_i$ とする\n",
    "  - $\\sum_i \\sum_{k \\in K_i} y_{ik} \\leq 0$\n",
    "- 同じ学生が受ける可能性がある授業の集合(カリキュラム)は異なる期へ割り当てなければならない\n",
    "  - カリキュラム $j$ に含まれる授業の集合を $C_j$ とする\n",
    "  - $\\sum_{i \\in C_j} x_{it} \\leq 1$ (for all $j, t$)\n",
    "- 1 日の最後の期に割り当てられると履修学生数分のペナルティ\n",
    "  - 1日の最後の期の集合を $L$, 授業 $i$ の履修学生数を $w_i$ とする\n",
    "  - $\\sum_{i} \\sum_{t \\in L} w_i x_{it} \\leq 0$\n",
    "- 1 人の学生が履修する授業が 3 連続すると 1 ペナルティ\n",
    "  - $T$ を 1 日のうちで最後の 2 時間でない期の集合とする\n",
    "  - $\\sum_{i \\in C_j} (x_{i, t} + x_{i, t+1} + x_{i, t+2}) \\leq 2$ (for all $t \\in T$)\n",
    "- 1 人の学生の授業数が 1 日に 1 つならば 1 ペナルティ(0 か 2 以上が望ましい)\n",
    "  - 各日 $d$ に含まれる期の集合を $T_d$ とする\n",
    "  - 日 $d$ におけるカリキュラム $j$ に含まれる授業数が $0$ か $2$ 以上なのかを表す 0-1 変数 $z_{jd}$ とする\n",
    "  - $\\sum_{t \\in T_d} \\sum_{i \\in C_j} x_{it} \\leq |T_d| z_{jd}$ (for all $d, j$)\n",
    "  - $\\sum_{t \\in T_d} \\sum_{i \\in C_j} x_{it} \\geq 2 z_{jd}$ (for all $d, j$)"
   ]
  },
  {
   "cell_type": "markdown",
   "id": "Xref",
   "metadata": {
    "marimo": {
     "config": {
      "hide_code": true
     }
    }
   },
   "source": [
    "## OR-tools (cp-sat)"
   ]
  },
  {
   "cell_type": "code",
   "execution_count": null,
   "id": "SFPL",
   "metadata": {},
   "outputs": [
    {
     "data": {
      "text/html": [
       "<pre style='font-size: 12px'>&#x27;9.13.4784&#x27;</pre>"
      ]
     },
     "metadata": {},
     "output_type": "display_data"
    }
   ],
   "source": [
    "from ortools.sat.python import cp_model\n",
    "import ortools\n",
    "\n",
    "ortools.__version__"
   ]
  },
  {
   "cell_type": "markdown",
   "id": "BYtC",
   "metadata": {
    "marimo": {
     "config": {
      "hide_code": true
     }
    }
   },
   "source": [
    "### 簡単な例"
   ]
  },
  {
   "cell_type": "code",
   "execution_count": null,
   "id": "RGSE",
   "metadata": {},
   "outputs": [
    {
     "name": "stdout",
     "output_type": "stream",
     "text": [
      "Maximum of objective function: 35.0\n",
      "\n",
      "x value: 7\n",
      "y value: 3\n",
      "z value: 5\n"
     ]
    }
   ],
   "source": [
    "_model = cp_model.CpModel()\n",
    "_var_upper_bound = max(50, 45, 37)\n",
    "_x = _model.new_int_var(0, _var_upper_bound, \"x\")\n",
    "_y = _model.new_int_var(0, _var_upper_bound, \"y\")\n",
    "_z = _model.new_int_var(0, _var_upper_bound, \"z\")\n",
    "_model.add(2 * _x + 7 * _y + 3 * _z <= 50)\n",
    "_model.add(3 * _x - 5 * _y + 7 * _z <= 45)\n",
    "_model.add(5 * _x + 2 * _y - 6 * _z <= 37)\n",
    "_model.maximize(2 * _x + 2 * _y + 3 * _z)\n",
    "_solver = cp_model.CpSolver()\n",
    "_status = _solver.solve(_model)\n",
    "\n",
    "if _status == cp_model.OPTIMAL:\n",
    "    print(f\"Maximum of objective function: {_solver.objective_value}\")\n",
    "    print()\n",
    "    print(f\"x value: {_solver.value(_x)}\")\n",
    "    print(f\"y value: {_solver.value(_y)}\")\n",
    "    print(f\"z value: {_solver.value(_z)}\")"
   ]
  },
  {
   "cell_type": "markdown",
   "id": "Kclp",
   "metadata": {
    "marimo": {
     "config": {
      "hide_code": true
     }
    }
   },
   "source": [
    "### 全ての解の列挙"
   ]
  },
  {
   "cell_type": "code",
   "execution_count": null,
   "id": "emfo",
   "metadata": {},
   "outputs": [],
   "source": [
    "class VarArraySolutionPrinter(cp_model.CpSolverSolutionCallback):\n",
    "    \"\"\"Print intermediate solutions.\"\"\"\n",
    "\n",
    "    def __init__(self, variables):\n",
    "        cp_model.CpSolverSolutionCallback.__init__(self)\n",
    "        self.__variables = variables\n",
    "        self.__solution_count = 0\n",
    "\n",
    "    def on_solution_callback(self):\n",
    "        self.__solution_count = self.__solution_count + 1\n",
    "        for v in self.__variables:\n",
    "            print('%s=%i' % (v, self.value(v)), end=' ')\n",
    "        print()\n",
    "\n",
    "    @property\n",
    "    def solution_count(self):\n",
    "        return self.__solution_count"
   ]
  },
  {
   "cell_type": "code",
   "execution_count": null,
   "id": "Hstk",
   "metadata": {},
   "outputs": [
    {
     "name": "stdout",
     "output_type": "stream",
     "text": [
      "x=1 y=0 z=0 \n",
      "x=2 y=0 z=0 \n",
      "x=2 y=0 z=1 \n",
      "x=1 y=0 z=1 \n",
      "x=2 y=1 z=1 \n",
      "x=2 y=1 z=0 \n",
      "x=2 y=1 z=2 \n",
      "x=2 y=0 z=2 \n",
      "x=1 y=0 z=2 \n",
      "x=0 y=1 z=2 \n",
      "x=0 y=1 z=1 \n",
      "x=0 y=2 z=1 \n",
      "x=0 y=2 z=2 \n",
      "x=1 y=2 z=2 \n",
      "x=1 y=2 z=1 \n",
      "x=1 y=2 z=0 \n",
      "x=0 y=2 z=0 \n",
      "x=0 y=1 z=0 \n",
      "Status = OPTIMAL\n",
      "Number of solutions found: 18\n"
     ]
    }
   ],
   "source": [
    "# Creates the model.\n",
    "_model = cp_model.CpModel()\n",
    "\n",
    "# Creates the variables.\n",
    "_num_vals = 3\n",
    "_x = _model.new_int_var(0, _num_vals - 1, 'x')\n",
    "_y = _model.new_int_var(0, _num_vals - 1, 'y')\n",
    "_z = _model.new_int_var(0, _num_vals - 1, 'z')\n",
    "\n",
    "# Create the constraints.\n",
    "_model.add(_x != _y)\n",
    "\n",
    "# Create a solver and solve.\n",
    "_solver = cp_model.CpSolver()\n",
    "_solution_printer = VarArraySolutionPrinter([_x, _y, _z])\n",
    "_solver.parameters.enumerate_all_solutions = True\n",
    "_status = _solver.solve(_model, _solution_printer)\n",
    "\n",
    "print('Status = %s' % _solver.StatusName(_status))\n",
    "print(f'Number of solutions found: {_solution_printer.solution_count}')"
   ]
  },
  {
   "cell_type": "markdown",
   "id": "nWHF",
   "metadata": {
    "marimo": {
     "config": {
      "hide_code": true
     }
    }
   },
   "source": [
    "### 例題: 覆面算"
   ]
  },
  {
   "cell_type": "markdown",
   "id": "iLit",
   "metadata": {
    "marimo": {
     "config": {
      "hide_code": true
     }
    }
   },
   "source": [
    "各文字に $0$ から $9$ の数字を入れて等式 $SEND+MORE=MONEY$ を成立させたい.\n",
    "ただし, 数字に重複があってはならず先頭の文字に $0$ を入れることはできない."
   ]
  },
  {
   "cell_type": "code",
   "execution_count": null,
   "id": "ZHCJ",
   "metadata": {},
   "outputs": [
    {
     "name": "stdout",
     "output_type": "stream",
     "text": [
      "S = 9\n",
      "E = 5\n",
      "N = 6\n",
      "D = 7\n",
      "M = 1\n",
      "O = 0\n",
      "R = 8\n",
      "Y = 2\n"
     ]
    }
   ],
   "source": [
    "model = cp_model.CpModel()\n",
    "S = model.new_int_var(1, 9, 'S')\n",
    "E = model.new_int_var(0, 9, 'E')\n",
    "N = model.new_int_var(0, 9, 'N')\n",
    "D = model.new_int_var(0, 9, 'D')\n",
    "M = model.new_int_var(1, 9, 'M')\n",
    "O = model.new_int_var(0, 9, 'O')\n",
    "R = model.new_int_var(0, 9, 'R')\n",
    "Y = model.new_int_var(0, 9, 'Y')\n",
    "model.add(1000 * S + 100 * E + 10 * N + D + 1000 * M + 100 * O + 10 * R + E == 10000 * M + 1000 * O + 100 * N + 10 * E + Y)\n",
    "model.add_all_different([S, E, N, D, M, O, R, Y])\n",
    "_solver = cp_model.CpSolver()\n",
    "_status = _solver.solve(model)\n",
    "if _status == cp_model.OPTIMAL:\n",
    "    for _v in [S, E, N, D, M, O, R, Y]:\n",
    "        print(f'{_v} = {_solver.value(_v)}')"
   ]
  },
  {
   "cell_type": "code",
   "execution_count": null,
   "id": "ROlb",
   "metadata": {},
   "outputs": [
    {
     "name": "stdout",
     "output_type": "stream",
     "text": [
      "S=9 E=5 N=6 D=7 M=1 O=0 R=8 Y=2 \n",
      "Status = OPTIMAL\n",
      "Number of solutions found: 1\n"
     ]
    }
   ],
   "source": [
    "_solution_printer = VarArraySolutionPrinter([S, E, N, D, M, O, R, Y])\n",
    "_solver = cp_model.CpSolver()\n",
    "_solver.parameters.enumerate_all_solutions = True\n",
    "_status = _solver.solve(model, _solution_printer)\n",
    "print(f\"Status = {_solver.status_name(_status)}\")\n",
    "print(f\"Number of solutions found: {_solution_printer.solution_count}\")"
   ]
  },
  {
   "cell_type": "markdown",
   "id": "qnkX",
   "metadata": {
    "marimo": {
     "config": {
      "hide_code": true
     }
    }
   },
   "source": [
    "### 練習問題: 覆面算\n",
    "\n",
    "あとでやろう..."
   ]
  },
  {
   "cell_type": "markdown",
   "id": "TqIu",
   "metadata": {
    "marimo": {
     "config": {
      "hide_code": true
     }
    }
   },
   "source": [
    "### 例題: 魔方陣"
   ]
  },
  {
   "cell_type": "markdown",
   "id": "Vxnm",
   "metadata": {
    "marimo": {
     "config": {
      "hide_code": true
     }
    }
   },
   "source": [
    "魔方陣とは $n \\times n$の正方形の方陣に $1$ から $n^2$ までの整数を1つずつ入れて縦・横・対角線のいずれの列の和も同じになるものをいう.\n",
    "(一列の和は $n (n^2 + 1) / 2$ となる)"
   ]
  },
  {
   "cell_type": "code",
   "execution_count": null,
   "id": "DnEU",
   "metadata": {},
   "outputs": [
    {
     "name": "stdout",
     "output_type": "stream",
     "text": [
      "1 134 39 12 143 9 10 135 137 139 2 109 \n",
      "34 140 113 29 22 100 102 98 105 32 28 67 \n",
      "81 130 45 64 131 48 56 61 63 33 120 38 \n",
      "116 132 7 138 144 5 142 20 11 8 141 6 \n",
      "94 14 73 118 21 58 121 99 70 103 55 44 \n",
      "80 4 84 117 42 112 27 74 89 115 76 50 \n",
      "97 15 101 31 95 104 26 91 35 65 114 96 \n",
      "78 16 60 119 129 88 77 57 37 71 72 66 \n",
      "90 136 79 106 41 49 51 75 68 52 69 54 \n",
      "19 3 124 24 17 128 126 18 36 127 125 123 \n",
      "93 13 92 30 23 122 86 83 111 85 25 107 \n",
      "87 133 53 82 62 47 46 59 108 40 43 110 \n"
     ]
    }
   ],
   "source": [
    "_n = 12 # n = 12 より大きい値で試さないこと(別に試しても問題はない)\n",
    "_model = cp_model.CpModel()\n",
    "_x = {}\n",
    "for _i in range(_n):\n",
    "    for _j in range(_n):\n",
    "        _x[_i, _j] = _model.new_int_var(1, _n * _n, f'x({_i},{_j})')\n",
    "_x_list = [_x[_i, _j] for _i in range(_n) for _j in range(_n)]\n",
    "_model.add_all_different(_x_list)\n",
    "_s = _n * (_n ** 2 + 1) // 2\n",
    "for _i in range(_n):\n",
    "    _model.add(sum([_x[_i, _j] for _j in range(_n)]) == _s)\n",
    "for _j in range(_n):\n",
    "    _model.add(sum([_x[_i, _j] for _i in range(_n)]) == _s)\n",
    "_model.add(sum([_x[_i, _i] for _i in range(_n)]) == _s)\n",
    "_model.add(sum([_x[_i, _n - _i - 1] for _i in range(_n)]) == _s)\n",
    "_solver = cp_model.CpSolver()\n",
    "_status = _solver.solve(_model)\n",
    "for _i in range(_n):\n",
    "    for _j in range(_n):\n",
    "        print(_solver.value(_x[_i, _j]), end=' ')\n",
    "    print()"
   ]
  },
  {
   "cell_type": "markdown",
   "id": "ulZA",
   "metadata": {
    "marimo": {
     "config": {
      "hide_code": true
     }
    }
   },
   "source": [
    "### 練習問題: 完全方陣\n",
    "\n",
    "あとでやろう..."
   ]
  },
  {
   "cell_type": "markdown",
   "id": "ecfG",
   "metadata": {
    "marimo": {
     "config": {
      "hide_code": true
     }
    }
   },
   "source": [
    "### 例題: 数独"
   ]
  },
  {
   "cell_type": "markdown",
   "id": "Pvdt",
   "metadata": {
    "marimo": {
     "config": {
      "hide_code": true
     }
    }
   },
   "source": [
    "数独は $9 \\times 9$ の正方形の枠内に $1$ から $n$ までの数字を入れるパズルである.\n",
    "初期配置に与えられた数字はそのままとし, 縦・横の各列とブロックとよばれる $3 \\times 3$ の小正方形の枠内には同じ数字を重複して入れてはいけないものとする.\n",
    "\n",
    "以下のデータでは, 数字の $0$ が入っている枠は空白であるとする."
   ]
  },
  {
   "cell_type": "code",
   "execution_count": null,
   "id": "ZBYS",
   "metadata": {},
   "outputs": [
    {
     "name": "stdout",
     "output_type": "stream",
     "text": [
      "1 6 2 8 5 7 4 9 3 \n",
      "5 3 4 1 2 9 6 7 8 \n",
      "7 8 9 6 4 3 5 2 1 \n",
      "4 7 5 3 1 2 9 8 6 \n",
      "9 1 3 5 8 6 7 4 2 \n",
      "6 2 8 7 9 4 1 3 5 \n",
      "3 5 6 4 7 8 2 1 9 \n",
      "2 4 1 9 3 5 8 6 7 \n",
      "8 9 7 2 6 1 3 5 4 \n"
     ]
    }
   ],
   "source": [
    "import math\n",
    "_problem = [\n",
    "    [1, 0, 0, 0, 0, 7, 0, 9, 0],\n",
    "    [0, 3, 0, 0, 2, 0, 0, 0, 8],\n",
    "    [0, 0, 9, 6, 0, 0, 5, 0, 0],\n",
    "    [0, 0, 5, 3, 0, 0, 9, 0, 0],\n",
    "    [0, 1, 0, 0, 8, 0, 0, 0, 2],\n",
    "    [6, 0, 0, 0, 0, 4, 0, 0, 0],\n",
    "    [3, 0, 0, 0, 0, 0, 0, 1, 0],\n",
    "    [0, 4, 0, 0, 0, 0, 0, 0, 7],\n",
    "    [0, 0, 7, 0, 0, 0, 3, 0, 0]\n",
    "]\n",
    "model_sudoku = cp_model.CpModel()\n",
    "_n = len(_problem)\n",
    "_cell_size = math.ceil(math.sqrt(_n))\n",
    "_line_size = _cell_size ** 2\n",
    "line = range(0, _line_size)\n",
    "_cell = range(0, _cell_size)\n",
    "x = {}\n",
    "for _i in line:\n",
    "    for _j in line:\n",
    "        x[_i, _j] = model_sudoku.new_int_var(1, _line_size, f'x({_i},{_j})')\n",
    "for _i in line:\n",
    "    model_sudoku.add_all_different([x[_i, _j] for _j in line])\n",
    "for _j in line:\n",
    "    model_sudoku.add_all_different([x[_i, _j] for _i in line])\n",
    "for _i in _cell:\n",
    "    for _j in _cell:\n",
    "        _one_cell = []\n",
    "        for _di in _cell:\n",
    "            for _dj in _cell:\n",
    "                _one_cell.append(x[_i * _cell_size + _di, _j * _cell_size + _dj])\n",
    "        model_sudoku.add_all_different(_one_cell)\n",
    "for _i in line:\n",
    "    for _j in line:\n",
    "        if _problem[_i][_j]:\n",
    "            model_sudoku.add(x[_i, _j] == _problem[_i][_j])\n",
    "_solver = cp_model.CpSolver()\n",
    "_status = _solver.solve(model_sudoku)\n",
    "for _i in line:\n",
    "    for _j in line:\n",
    "        print(_solver.value(x[_i, _j]), end=' ')\n",
    "    print()"
   ]
  },
  {
   "cell_type": "code",
   "execution_count": null,
   "id": "aLJB",
   "metadata": {},
   "outputs": [
    {
     "name": "stdout",
     "output_type": "stream",
     "text": [
      "x(0,0)=1 x(0,1)=6 x(0,2)=2 x(0,3)=8 x(0,4)=5 x(0,5)=7 x(0,6)=4 x(0,7)=9 x(0,8)=3 x(1,0)=5 x(1,1)=3 x(1,2)=4 x(1,3)=1 x(1,4)=2 x(1,5)=9 x(1,6)=6 x(1,7)=7 x(1,8)=8 x(2,0)=7 x(2,1)=8 x(2,2)=9 x(2,3)=6 x(2,4)=4 x(2,5)=3 x(2,6)=5 x(2,7)=2 x(2,8)=1 x(3,0)=4 x(3,1)=7 x(3,2)=5 x(3,3)=3 x(3,4)=1 x(3,5)=2 x(3,6)=9 x(3,7)=8 x(3,8)=6 x(4,0)=9 x(4,1)=1 x(4,2)=3 x(4,3)=5 x(4,4)=8 x(4,5)=6 x(4,6)=7 x(4,7)=4 x(4,8)=2 x(5,0)=6 x(5,1)=2 x(5,2)=8 x(5,3)=7 x(5,4)=9 x(5,5)=4 x(5,6)=1 x(5,7)=3 x(5,8)=5 x(6,0)=3 x(6,1)=5 x(6,2)=6 x(6,3)=4 x(6,4)=7 x(6,5)=8 x(6,6)=2 x(6,7)=1 x(6,8)=9 x(7,0)=2 x(7,1)=4 x(7,2)=1 x(7,3)=9 x(7,4)=3 x(7,5)=5 x(7,6)=8 x(7,7)=6 x(7,8)=7 x(8,0)=8 x(8,1)=9 x(8,2)=7 x(8,3)=2 x(8,4)=6 x(8,5)=1 x(8,6)=3 x(8,7)=5 x(8,8)=4 \n",
      "Status = OPTIMAL\n",
      "Number of solutions found: 1\n"
     ]
    }
   ],
   "source": [
    "_solver = cp_model.CpSolver()\n",
    "_solution_printer = VarArraySolutionPrinter([x[_i, _j] for _i in line for _j in line])\n",
    "_solver.parameters.enumerate_all_solutions = True\n",
    "_status = _solver.solve(model_sudoku, _solution_printer)\n",
    "print('Status = %s' % _solver.status_name(_status))\n",
    "print('Number of solutions found: %i' % _solution_printer.solution_count)"
   ]
  },
  {
   "cell_type": "markdown",
   "id": "nHfw",
   "metadata": {
    "marimo": {
     "config": {
      "hide_code": true
     }
    }
   },
   "source": [
    "### 練習問題: 数独\n",
    "\n",
    "気が向いたらやる..."
   ]
  },
  {
   "cell_type": "markdown",
   "id": "xXTn",
   "metadata": {
    "marimo": {
     "config": {
      "hide_code": true
     }
    }
   },
   "source": [
    "### 練習問題: 不等式パズル\n",
    "\n",
    "やっておきたい"
   ]
  }
 ],
 "metadata": {},
 "nbformat": 4,
 "nbformat_minor": 5
}
