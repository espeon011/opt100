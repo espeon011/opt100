{
 "cells": [
  {
   "cell_type": "markdown",
   "id": "29ad7a35-0662-45d0-9381-6df82b7019aa",
   "metadata": {},
   "source": [
    "# 充足可能性問題と重み付き制約充足問題"
   ]
  },
  {
   "cell_type": "markdown",
   "id": "3775641e-1b4b-4480-9591-9295fb05af78",
   "metadata": {},
   "source": [
    "## 重み付き制約充足問題"
   ]
  },
  {
   "cell_type": "markdown",
   "id": "a9fc0596-c24f-4d49-b68f-5c30c37ff533",
   "metadata": {},
   "source": [
    "- 変数 $x_j \\in D_j$ ($j = 1, \\dots, n$) (各 $D_j$ は有限集合)\n",
    "- 制約 $C_i \\subset D_1 \\times \\dots \\times D_n$ ($i = 1, \\dots, m$)\n",
    "\n",
    "制約充足問題とは, 上記条件を満たす $(x_1, \\dots, x_n)$ を 1 組見つける(か解がないことを証明するか)問題のこと. \n",
    "\n",
    "制約からの逸脱量 $g_i(x)$ が定義できればこれを最小にする問題としても定式化できる. \n",
    "各制約の重みを $w_i$ として重み付き制約充足問題は\n",
    "\n",
    "\\begin{align}\n",
    "&\\text{minimize} \\quad \\sum_{i=1}^m w_i g_i(x) \\\\\n",
    "&\\text{s.t.} \\quad x_j \\in D_j \\quad \\text{(for $j = 1, \\dots, n$)}\n",
    "\\end{align}\n",
    "\n",
    "最適化ソルバー SCOP が紹介されているが, 時間があればやる..."
   ]
  },
  {
   "cell_type": "markdown",
   "id": "543919d5-e428-433d-8805-6715635d8fc3",
   "metadata": {},
   "source": [
    "## 時間割作成問題"
   ]
  },
  {
   "cell_type": "markdown",
   "id": "79e84d3d-3b4f-4568-be2d-608db87ae326",
   "metadata": {},
   "source": [
    "### パラメータ\n",
    "\n",
    "- 授業 $i$\n",
    "- 教室 $k$\n",
    "- 教員 $l$\n",
    "- 学生\n",
    "- 期 $t$: ここでは 1 週間(5 日もしくは 6 日）の各時限を考える. \n",
    "\n",
    "### 時間割を組む条件\n",
    "\n",
    "- すべての授業をいずれか期へ割当\n",
    "- すべての授業をいずれか教室へ割当\n",
    "- 各期, 1 つの教室では 1 つ以下の授業\n",
    "- 同じ教員の受持ち講義は異なる期へ\n",
    "- 割当教室は受講学生数以上の容量をもつ\n",
    "- 同じ学生が受ける可能性がある授業の集合(カリキュラム)は, 異なる期へ割り当てなければならない\n",
    "\n",
    "### 付加条件\n",
    "\n",
    "- 1 日の最後の期に割り当てられると履修学生数分のペナルティ\n",
    "- 1 人の学生が履修する授業が 3 連続するとペナルティ\n",
    "- 1 人の学生の授業数が 1 日に 1 つならばペナルティ(0 か 2 以上が望ましい)\n",
    "\n",
    "### 定式化\n",
    "\n",
    "#### 変数\n",
    "\n",
    "- $x_{it}$: 授業 $i$ を期 $t$ に割り当てるとき $1$, そうでないとき $0$\n",
    "- $y_{ik}$: 授業 $i$ を教室 $k$ に割り当てるとき $1$, そうでないとき $0$\n",
    "\n",
    "#### 制約\n",
    "\n",
    "- すべての授業をいずれか期へ割当\n",
    "  - $\\sum_{t} x_{it} = 1$ (for all $i$)\n",
    "- すべての授業をいずれか教室へ割当\n",
    "  - $\\sum_{k} y_{ik} = 1$ (for all $i$)\n",
    "- 各期 $t$ の各教室 $k$ への割り当て授業は $1$ 以下\n",
    "  - $\\sum_{i} x_{it} y_{ik} \\leq 1$ (for all $t, k$) ※ AND 制約なので線形制約で表現可能\n",
    "- 同じ教員の受持ち講義は異なる期へ割り当て\n",
    "  - 教員 $l$ の受け持ち講義の集合を $E_l$ とする\n",
    "  - $\\sum_{i \\in E_l} x_{it} \\leq 1$ (for all $l, t$)\n",
    "- 割当教室は受講学生数以上の容量をもつ\n",
    "  - 授業 $i$ ができない(容量を超過する)教室の集合を $K_i$ とする\n",
    "  - $\\sum_i \\sum_{k \\in K_i} y_{ik} \\leq 0$\n",
    "- 同じ学生が受ける可能性がある授業の集合(カリキュラム)は異なる期へ割り当てなければならない\n",
    "  - カリキュラム $j$ に含まれる授業の集合を $C_j$ とする\n",
    "  - $\\sum_{i \\in C_j} x_{it} \\leq 1$ (for all $j, t$)\n",
    "- 1 日の最後の期に割り当てられると履修学生数分のペナルティ\n",
    "  - 1日の最後の期の集合を $L$, 授業 $i$ の履修学生数を $w_i$ とする\n",
    "  - $\\sum_{i} \\sum_{t \\in L} w_i x_{it} \\leq 0$\n",
    "- 1 人の学生が履修する授業が 3 連続すると 1 ペナルティ\n",
    "  - $T$ を 1 日のうちで最後の 2 時間でない期の集合とする\n",
    "  - $\\sum_{i \\in C_j} (x_{i, t} + x_{i, t+1} + x_{i, t+2}) \\leq 2$ (for all $t \\in T$)\n",
    "- 1 人の学生の授業数が 1 日に 1 つならば 1 ペナルティ(0 か 2 以上が望ましい)\n",
    "  - 各日 $d$ に含まれる期の集合を $T_d$ とする\n",
    "  - 日 $d$ におけるカリキュラム $j$ に含まれる授業数が $0$ か $2$ 以上なのかを表す 0-1 変数 $z_{jd}$ とする\n",
    "  - $\\sum_{t \\in T_d} \\sum_{i \\in C_j} x_{it} \\leq |T_d| z_{jd}$ (for all $d, j$)\n",
    "  - $\\sum_{t \\in T_d} \\sum_{i \\in C_j} x_{it} \\geq 2 z_{jd}$ (for all $d, j$)"
   ]
  },
  {
   "cell_type": "markdown",
   "id": "afcdb1a7-74a7-4cd7-b092-fb558c28a45f",
   "metadata": {},
   "source": [
    "## OR-tools (cp-sat)"
   ]
  },
  {
   "cell_type": "code",
   "execution_count": 1,
   "id": "e93feeca-174a-435c-9f57-a26fd9da7fce",
   "metadata": {},
   "outputs": [
    {
     "data": {
      "text/plain": [
       "'9.11.4210'"
      ]
     },
     "execution_count": 1,
     "metadata": {},
     "output_type": "execute_result"
    }
   ],
   "source": [
    "from ortools.sat.python import cp_model\n",
    "import ortools\n",
    "\n",
    "ortools.__version__"
   ]
  },
  {
   "cell_type": "markdown",
   "id": "8aa56adc-3a63-4faf-a765-c85e6b1f2067",
   "metadata": {},
   "source": [
    "### 簡単な例"
   ]
  },
  {
   "cell_type": "code",
   "execution_count": 2,
   "id": "82248e3a-921f-45c2-84da-cc8b13234fbc",
   "metadata": {},
   "outputs": [
    {
     "name": "stdout",
     "output_type": "stream",
     "text": [
      "Maximum of objective function: 35\n",
      "\n",
      "x value:  7\n",
      "y value:  3\n",
      "z value:  5\n"
     ]
    }
   ],
   "source": [
    "model = cp_model.CpModel()\n",
    "var_upper_bound = max(50, 45, 37)\n",
    "x = model.new_int_var(0, var_upper_bound, \"x\")\n",
    "y = model.new_int_var(0, var_upper_bound, \"y\")\n",
    "z = model.new_int_var(0, var_upper_bound, \"z\")\n",
    "\n",
    "model.add(2 * x + 7 * y + 3 * z <= 50)\n",
    "model.add(3 * x - 5 * y + 7 * z <= 45)\n",
    "model.add(5 * x + 2 * y - 6 * z <= 37)\n",
    "\n",
    "model.maximize(2 * x + 2 * y + 3 * z)\n",
    "\n",
    "solver = cp_model.CpSolver()\n",
    "status = solver.solve(model)\n",
    "\n",
    "if status == cp_model.OPTIMAL:\n",
    "    print(\"Maximum of objective function: %i\" % solver.ObjectiveValue())\n",
    "    print()\n",
    "    print(\"x value: \", solver.Value(x))\n",
    "    print(\"y value: \", solver.Value(y))\n",
    "    print(\"z value: \", solver.Value(z))"
   ]
  },
  {
   "cell_type": "markdown",
   "id": "6c85c3e6-e1b2-4d80-b168-93371599db8d",
   "metadata": {},
   "source": [
    "### 全ての解の列挙"
   ]
  },
  {
   "cell_type": "code",
   "execution_count": 3,
   "id": "920b8cc4-14bc-4f40-90df-291f72ef0b34",
   "metadata": {
    "editable": true,
    "slideshow": {
     "slide_type": ""
    },
    "tags": []
   },
   "outputs": [
    {
     "name": "stdout",
     "output_type": "stream",
     "text": [
      "x=1 y=0 z=0 \n",
      "x=2 y=0 z=0 \n",
      "x=2 y=0 z=1 \n",
      "x=1 y=0 z=1 \n",
      "x=2 y=1 z=1 \n",
      "x=2 y=1 z=0 \n",
      "x=2 y=1 z=2 \n",
      "x=2 y=0 z=2 \n",
      "x=1 y=0 z=2 \n",
      "x=0 y=1 z=2 \n",
      "x=0 y=1 z=1 \n",
      "x=0 y=2 z=1 \n",
      "x=0 y=2 z=2 \n",
      "x=1 y=2 z=2 \n",
      "x=1 y=2 z=1 \n",
      "x=1 y=2 z=0 \n",
      "x=0 y=2 z=0 \n",
      "x=0 y=1 z=0 \n",
      "Status = OPTIMAL\n",
      "Number of solutions found: 18\n"
     ]
    }
   ],
   "source": [
    "class VarArraySolutionPrinter(cp_model.CpSolverSolutionCallback):\n",
    "    \"\"\"Print intermediate solutions.\"\"\"\n",
    "\n",
    "    def __init__(self, variables):\n",
    "        cp_model.CpSolverSolutionCallback.__init__(self)\n",
    "        self.__variables = variables\n",
    "        self.__solution_count = 0\n",
    "\n",
    "    def on_solution_callback(self):\n",
    "        self.__solution_count += 1\n",
    "        for v in self.__variables:\n",
    "            print(\"%s=%i\" % (v, self.value(v)), end=\" \")\n",
    "        print()\n",
    "\n",
    "    @property\n",
    "    def solution_count(self):\n",
    "        return self.__solution_count\n",
    "\n",
    "\n",
    "# Creates the model.\n",
    "model = cp_model.CpModel()\n",
    "\n",
    "# Creates the variables.\n",
    "num_vals = 3\n",
    "x = model.new_int_var(0, num_vals - 1, \"x\")\n",
    "y = model.new_int_var(0, num_vals - 1, \"y\")\n",
    "z = model.new_int_var(0, num_vals - 1, \"z\")\n",
    "\n",
    "# Create the constraints.\n",
    "model.add(x != y)\n",
    "\n",
    "# Create a solver and solve.\n",
    "solver = cp_model.CpSolver()\n",
    "solution_printer = VarArraySolutionPrinter([x, y, z])\n",
    "solver.parameters.enumerate_all_solutions = True\n",
    "status = solver.solve(model, solution_printer)\n",
    "\n",
    "print(\"Status = %s\" % solver.StatusName(status))\n",
    "print(f\"Number of solutions found: {solution_printer.solution_count}\")"
   ]
  },
  {
   "cell_type": "markdown",
   "id": "621f2ed3-637c-449b-9344-29c1f6dd4271",
   "metadata": {},
   "source": [
    "### 例題: 覆面算"
   ]
  },
  {
   "cell_type": "markdown",
   "id": "f35f4780-a050-47ca-afd4-a63905b13da6",
   "metadata": {},
   "source": [
    "各文字に $0$ から $9$ の数字を入れて等式 $SEND+MORE=MONEY$ を成立させたい. \n",
    "ただし, 数字に重複があってはならず先頭の文字に $0$ を入れることはできない. "
   ]
  },
  {
   "cell_type": "code",
   "execution_count": 4,
   "id": "4c8386b5-d022-48c6-af2a-34c5936f1172",
   "metadata": {},
   "outputs": [
    {
     "name": "stdout",
     "output_type": "stream",
     "text": [
      "S = 9\n",
      "E = 5\n",
      "N = 6\n",
      "D = 7\n",
      "M = 1\n",
      "O = 0\n",
      "R = 8\n",
      "Y = 2\n"
     ]
    }
   ],
   "source": [
    "model = cp_model.CpModel()\n",
    "S = model.new_int_var(1,9,\"S\")\n",
    "E = model.new_int_var(0,9,\"E\")\n",
    "N = model.new_int_var(0,9,\"N\")\n",
    "D = model.new_int_var(0,9,\"D\")\n",
    "M = model.new_int_var(1,9,\"M\")\n",
    "O = model.new_int_var(0,9,\"O\")\n",
    "R = model.new_int_var(0,9,\"R\")\n",
    "Y = model.new_int_var(0,9,\"Y\")\n",
    "\n",
    "model.add(   1000*S + 100*E + 10*N + D + \n",
    "             1000*M + 100*O + 10*R + E \n",
    " == 10000*M +1000*O + 100*N + 10*E + Y)\n",
    "\n",
    "model.add_all_different([S,E,N,D,M,O,R,Y])\n",
    "\n",
    "solver = cp_model.CpSolver()\n",
    "status = solver.solve(model)\n",
    "\n",
    "if status == cp_model.OPTIMAL:\n",
    "    for v in [S,E,N,D,M,O,R,Y]:\n",
    "        print(f\"{v} = {solver.Value(v)}\")"
   ]
  },
  {
   "cell_type": "code",
   "execution_count": 5,
   "id": "3dc5f9b7-dd15-41f2-987b-1a44c0a6855b",
   "metadata": {
    "editable": true,
    "slideshow": {
     "slide_type": ""
    },
    "tags": []
   },
   "outputs": [
    {
     "name": "stdout",
     "output_type": "stream",
     "text": [
      "S=9 E=5 N=6 D=7 M=1 O=0 R=8 Y=2 \n",
      "Status = OPTIMAL\n",
      "Number of solutions found: 1\n"
     ]
    }
   ],
   "source": [
    "solution_printer = VarArraySolutionPrinter([S,E,N,D,M,O,R,Y])\n",
    "solver.parameters.enumerate_all_solutions = True\n",
    "status = solver.solve(model, solution_printer)\n",
    "\n",
    "print(\"Status = %s\" % solver.StatusName(status))\n",
    "print(\"Number of solutions found: %i\" % solution_printer.solution_count)"
   ]
  },
  {
   "cell_type": "markdown",
   "id": "4c57c357-4f32-4a53-98c0-7c69d23a3118",
   "metadata": {},
   "source": [
    "### 練習問題: 覆面算"
   ]
  },
  {
   "cell_type": "markdown",
   "id": "2d8fafc2-9b2f-4a22-a8da-be8b95366837",
   "metadata": {},
   "source": [
    "あとでやろう..."
   ]
  },
  {
   "cell_type": "markdown",
   "id": "b17e493d-aba5-4c89-bcd4-d6a9b4b0b0cb",
   "metadata": {},
   "source": [
    "### 例題: 魔方陣"
   ]
  },
  {
   "cell_type": "markdown",
   "id": "48519353-b1ea-4a43-acbb-c32790e2724e",
   "metadata": {},
   "source": [
    "魔方陣とは $n \\times n$の正方形の方陣に $1$ から $n^2$ までの整数を1つずつ入れて縦・横・対角線のいずれの列の和も同じになるものをいう. \n",
    "(一列の和は $n (n^2 + 1) / 2$ となる)"
   ]
  },
  {
   "cell_type": "code",
   "execution_count": 6,
   "id": "516dd58b-cb89-44e6-88fb-cc9df911f8c3",
   "metadata": {},
   "outputs": [
    {
     "name": "stdout",
     "output_type": "stream",
     "text": [
      "90 1 44 12 34 37 143 160 42 94 158 126 164 \n",
      "64 33 6 168 45 78 156 67 63 169 76 149 31 \n",
      "127 167 120 51 11 84 95 135 134 22 49 3 107 \n",
      "74 21 9 39 108 152 119 43 18 150 157 122 93 \n",
      "30 154 75 155 140 70 142 131 72 15 52 29 40 \n",
      "86 139 166 138 73 124 23 54 27 115 28 100 32 \n",
      "114 16 57 41 103 125 83 5 121 77 117 87 159 \n",
      "99 162 146 8 62 7 48 17 145 105 118 82 106 \n",
      "137 136 163 69 153 65 25 130 61 36 13 98 19 \n",
      "46 133 88 66 113 147 56 14 111 58 59 91 123 \n",
      "151 68 101 161 38 4 79 148 50 47 97 81 80 \n",
      "85 55 26 53 165 116 112 92 129 89 71 102 10 \n",
      "2 20 104 144 60 96 24 109 132 128 110 35 141 \n"
     ]
    }
   ],
   "source": [
    "n = 13 # n = 12 より大きい値で試さないこと\n",
    "model = cp_model.CpModel()\n",
    "x = {}\n",
    "for i in range(n):\n",
    "    for j in range(n):\n",
    "        x[i, j] = model.new_int_var(1, n * n, f\"x({i},{j})\")\n",
    "\n",
    "x_list = [x[i,j] for i in range(n) for j in range(n)]\n",
    "model.add_all_different(x_list)\n",
    "\n",
    "s = n*(n**2+1)//2\n",
    "\n",
    "for i in range(n):\n",
    "    model.add(sum([x[i, j] for j in range(n)]) == s) \n",
    "for j in range(n):\n",
    "    model.add(sum([x[i, j] for i in range(n)]) == s) \n",
    "\n",
    "model.add(sum([x[i, i] for i in range(n)]) == s) \n",
    "model.add(sum([x[i, n - i - 1] for i in range(n)]) == s)\n",
    "\n",
    "solver = cp_model.CpSolver()\n",
    "status = solver.solve(model)\n",
    "\n",
    "for i in range(n):\n",
    "    for j in range(n):\n",
    "        print(solver.value(x[i,j]), end=\" \")\n",
    "    print()"
   ]
  },
  {
   "cell_type": "markdown",
   "id": "8d350894-e287-4cfa-912f-4b669286b17f",
   "metadata": {},
   "source": [
    "### 練習問題: 完全方陣"
   ]
  },
  {
   "cell_type": "markdown",
   "id": "78cf30ed-e0d9-4c6e-9e8a-bbb8e702f631",
   "metadata": {},
   "source": [
    "あとでやろう..."
   ]
  },
  {
   "cell_type": "markdown",
   "id": "421ef5cf-3fbc-4b00-aa51-0ade0adacd16",
   "metadata": {},
   "source": [
    "### 例題: 数独"
   ]
  },
  {
   "cell_type": "markdown",
   "id": "0e8ac0ba-9f5d-4da9-a668-fcc296524167",
   "metadata": {},
   "source": [
    "数独は $9 \\times 9$ の正方形の枠内に $1$ から $n$ までの数字を入れるパズルである. \n",
    "初期配置に与えられた数字はそのままとし, 縦・横の各列とブロックとよばれる $3 \\times 3$ の小正方形の枠内には同じ数字を重複して入れてはいけないものとする. \n",
    "\n",
    "以下のデータでは, 数字の $0$ が入っている枠は空白であるとする. "
   ]
  },
  {
   "cell_type": "code",
   "execution_count": 7,
   "id": "64ba4142-4175-4709-846a-8876e6b05c48",
   "metadata": {},
   "outputs": [
    {
     "name": "stdout",
     "output_type": "stream",
     "text": [
      "1 6 2 8 5 7 4 9 3 \n",
      "5 3 4 1 2 9 6 7 8 \n",
      "7 8 9 6 4 3 5 2 1 \n",
      "4 7 5 3 1 2 9 8 6 \n",
      "9 1 3 5 8 6 7 4 2 \n",
      "6 2 8 7 9 4 1 3 5 \n",
      "3 5 6 4 7 8 2 1 9 \n",
      "2 4 1 9 3 5 8 6 7 \n",
      "8 9 7 2 6 1 3 5 4 \n"
     ]
    }
   ],
   "source": [
    "import math\n",
    "\n",
    "problem = [\n",
    "[1,0,0, 0,0,7, 0,9,0],\n",
    "[0,3,0, 0,2,0, 0,0,8],\n",
    "[0,0,9, 6,0,0, 5,0,0],\n",
    "\n",
    "[0,0,5, 3,0,0, 9,0,0],\n",
    "[0,1,0, 0,8,0, 0,0,2],\n",
    "[6,0,0, 0,0,4, 0,0,0],\n",
    "\n",
    "[3,0,0, 0,0,0, 0,1,0],\n",
    "[0,4,0, 0,0,0, 0,0,7],\n",
    "[0,0,7, 0,0,0, 3,0,0]]\n",
    "\n",
    "model = cp_model.CpModel()  \n",
    "n = len(problem)\n",
    "\n",
    "cell_size = math.ceil(math.sqrt(n))\n",
    "line_size = cell_size ** 2\n",
    "line = range(0, line_size)\n",
    "cell = range(0, cell_size)\n",
    "\n",
    "x = {}\n",
    "for i in line:\n",
    "    for j in line:\n",
    "        x[i, j] = model.new_int_var(1, line_size, f\"x({i},{j})\")\n",
    "\n",
    "for i in line:\n",
    "    model.add_all_different([x[i, j] for j in line])\n",
    "\n",
    "for j in line:\n",
    "    model.add_all_different([x[i, j] for i in line])\n",
    "\n",
    "for i in cell:\n",
    "    for j in cell:\n",
    "        one_cell = []\n",
    "        for di in cell:\n",
    "            for dj in cell:\n",
    "                one_cell.append(x[(i * cell_size + di, j * cell_size + dj)])\n",
    "        model.add_all_different(one_cell)\n",
    "    \n",
    "for i in line:\n",
    "    for j in line:\n",
    "        if problem[i][j]:\n",
    "            model.add(x[i, j] == problem[i][j])\n",
    "            \n",
    "solver = cp_model.CpSolver()\n",
    "status = solver.solve(model)\n",
    "\n",
    "for i in line:\n",
    "    for j in line:\n",
    "        print(solver.value(x[i,j]), end=\" \")\n",
    "    print()"
   ]
  },
  {
   "cell_type": "code",
   "execution_count": 8,
   "id": "a9184645-5066-4954-822e-7980718a7f01",
   "metadata": {
    "editable": true,
    "slideshow": {
     "slide_type": ""
    },
    "tags": []
   },
   "outputs": [
    {
     "name": "stdout",
     "output_type": "stream",
     "text": [
      "x(0,0)=1 x(0,1)=6 x(0,2)=2 x(0,3)=8 x(0,4)=5 x(0,5)=7 x(0,6)=4 x(0,7)=9 x(0,8)=3 x(1,0)=5 x(1,1)=3 x(1,2)=4 x(1,3)=1 x(1,4)=2 x(1,5)=9 x(1,6)=6 x(1,7)=7 x(1,8)=8 x(2,0)=7 x(2,1)=8 x(2,2)=9 x(2,3)=6 x(2,4)=4 x(2,5)=3 x(2,6)=5 x(2,7)=2 x(2,8)=1 x(3,0)=4 x(3,1)=7 x(3,2)=5 x(3,3)=3 x(3,4)=1 x(3,5)=2 x(3,6)=9 x(3,7)=8 x(3,8)=6 x(4,0)=9 x(4,1)=1 x(4,2)=3 x(4,3)=5 x(4,4)=8 x(4,5)=6 x(4,6)=7 x(4,7)=4 x(4,8)=2 x(5,0)=6 x(5,1)=2 x(5,2)=8 x(5,3)=7 x(5,4)=9 x(5,5)=4 x(5,6)=1 x(5,7)=3 x(5,8)=5 x(6,0)=3 x(6,1)=5 x(6,2)=6 x(6,3)=4 x(6,4)=7 x(6,5)=8 x(6,6)=2 x(6,7)=1 x(6,8)=9 x(7,0)=2 x(7,1)=4 x(7,2)=1 x(7,3)=9 x(7,4)=3 x(7,5)=5 x(7,6)=8 x(7,7)=6 x(7,8)=7 x(8,0)=8 x(8,1)=9 x(8,2)=7 x(8,3)=2 x(8,4)=6 x(8,5)=1 x(8,6)=3 x(8,7)=5 x(8,8)=4 \n",
      "Status = OPTIMAL\n",
      "Number of solutions found: 1\n"
     ]
    }
   ],
   "source": [
    "solution_printer = VarArraySolutionPrinter([x[i,j] for i in line for j in line])\n",
    "solver.parameters.enumerate_all_solutions = True\n",
    "status = solver.solve(model, solution_printer)\n",
    "\n",
    "print(\"Status = %s\" % solver.StatusName(status))\n",
    "print(\"Number of solutions found: %i\" % solution_printer.solution_count)"
   ]
  },
  {
   "cell_type": "markdown",
   "id": "4c2fd224-2483-490b-9ed7-4a870602c0d5",
   "metadata": {},
   "source": [
    "### 練習問題: 数独"
   ]
  },
  {
   "cell_type": "markdown",
   "id": "d806e591-f61f-4fa9-8758-5472b88de7d1",
   "metadata": {},
   "source": [
    "気が向いたらやる..."
   ]
  },
  {
   "cell_type": "markdown",
   "id": "f0521e3b-5c0d-43e2-a2e4-85ed04542b9e",
   "metadata": {},
   "source": [
    "### 練習問題: 不等式パズル"
   ]
  },
  {
   "cell_type": "markdown",
   "id": "041c8194-7e01-4cb8-8511-860592a64fe2",
   "metadata": {},
   "source": [
    "やっておきたい"
   ]
  }
 ],
 "metadata": {
  "kernelspec": {
   "display_name": "Python 3 (ipykernel)",
   "language": "python",
   "name": "python3"
  },
  "language_info": {
   "codemirror_mode": {
    "name": "ipython",
    "version": 3
   },
   "file_extension": ".py",
   "mimetype": "text/x-python",
   "name": "python",
   "nbconvert_exporter": "python",
   "pygments_lexer": "ipython3",
   "version": "3.12.2"
  }
 },
 "nbformat": 4,
 "nbformat_minor": 5
}
