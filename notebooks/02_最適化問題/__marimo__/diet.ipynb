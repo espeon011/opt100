{
 "cells": [
  {
   "cell_type": "code",
   "execution_count": null,
   "id": "Hbol",
   "metadata": {},
   "outputs": [],
   "source": [
    "import marimo as mo"
   ]
  },
  {
   "cell_type": "markdown",
   "id": "MJUe",
   "metadata": {
    "marimo": {
     "config": {
      "hide_code": true
     }
    }
   },
   "source": [
    "# 栄養問題"
   ]
  },
  {
   "cell_type": "markdown",
   "id": "vblA",
   "metadata": {
    "marimo": {
     "config": {
      "hide_code": true
     }
    }
   },
   "source": [
    "- 定数\n",
    "  - $F$: 商品の集合\n",
    "  - $N$: 栄養素の集合\n",
    "  - $a_i$: 栄養素 $i$ の 1 日の摂取量の下限\n",
    "  - $b_i$: 栄養素 $i$ の 1 日の摂取量の上限\n",
    "  - $c_j$: 商品 $j$ の価格\n",
    "  - $n_{ij}$: 商品 $j$ に含まれる栄養素 $i$ の量\n",
    "- 決定変数\n",
    "  - $x_j \\in \\mathbb{R}_{\\geq 0}$: 商品 $j$ を購入する個数\n",
    "\n",
    "\\begin{align}\n",
    "&\\text{minimize} & \\sum_{j \\in F} c_j x_j \\\\\n",
    "&\\text{s.t.} & a_i \\leq \\sum_{j \\in F} n_{ij} x_j \\leq b_i \\ (\\forall i \\in N) \\\\\n",
    "& & x_j \\geq 0 \\ (\\forall j \\in F)\n",
    "\\end{align}"
   ]
  },
  {
   "cell_type": "code",
   "execution_count": null,
   "id": "bkHC",
   "metadata": {},
   "outputs": [],
   "source": [
    "from ortools.math_opt.python import mathopt\n",
    "import pyscipopt\n",
    "import pandas as pd"
   ]
  },
  {
   "cell_type": "markdown",
   "id": "lEQa",
   "metadata": {
    "marimo": {
     "config": {
      "hide_code": true
     }
    }
   },
   "source": [
    "## 実行不能のケース"
   ]
  },
  {
   "cell_type": "markdown",
   "id": "PKri",
   "metadata": {
    "marimo": {
     "config": {
      "hide_code": true
     }
    }
   },
   "source": [
    "\\begin{align}\n",
    "&\\text{maximize} & x_1 + x_2 \\\\\n",
    "&\\text{s.t.} & x_1 - x_2 \\leq -1 \\\\\n",
    "& & - x_1 + x_2 \\leq -1 \\\\\n",
    "& & x_1, x_2 \\geq 0\n",
    "\\end{align}"
   ]
  },
  {
   "cell_type": "code",
   "execution_count": null,
   "id": "Xref",
   "metadata": {},
   "outputs": [
    {
     "name": "stdout",
     "output_type": "stream",
     "text": [
      "LP   has 2 rows; 2 cols; 4 nonzeros\n",
      "Coefficient ranges:\n",
      "  Matrix [1e+00, 1e+00]\n",
      "  Cost   [1e+00, 1e+00]\n",
      "  Bound  [0e+00, 0e+00]\n",
      "  RHS    [1e+00, 1e+00]\n",
      "Presolving model\n",
      "2 rows, 2 cols, 4 nonzeros  0s\n",
      "Problem status detected on presolve: Infeasible\n",
      "Model status        : Infeasible\n",
      "Objective value     :  0.0000000000e+00\n",
      "HiGHS run time      :          0.00\n"
     ]
    }
   ],
   "source": [
    "_model = mathopt.Model()\n",
    "_x1 = _model.add_variable(lb=0)\n",
    "_x2 = _model.add_variable(lb=0)\n",
    "\n",
    "_model.add_linear_constraint(_x1 - _x2 <= -1)\n",
    "_model.add_linear_constraint(-_x1 + _x2 <= -1)\n",
    "\n",
    "_model.maximize(_x1 + _x2)\n",
    "\n",
    "_params = mathopt.SolveParameters(enable_output=True)\n",
    "_result = mathopt.solve(_model, mathopt.SolverType.HIGHS, params=_params)\n",
    "\n",
    "_result.termination.reason"
   ]
  },
  {
   "cell_type": "markdown",
   "id": "SFPL",
   "metadata": {
    "marimo": {
     "config": {
      "hide_code": true
     }
    }
   },
   "source": [
    "## 非有界のケース"
   ]
  },
  {
   "cell_type": "markdown",
   "id": "BYtC",
   "metadata": {
    "marimo": {
     "config": {
      "hide_code": true
     }
    }
   },
   "source": [
    "\\begin{align}\n",
    "&\\text{maximize} & x_1 + x_2 \\\\\n",
    "&\\text{s.t.} & x_1 - x_2 \\geq -1 \\\\\n",
    "& & - x_1 + x_2 \\geq -1 \\\\\n",
    "& & x_1, x_2 \\geq 0\n",
    "\\end{align}"
   ]
  },
  {
   "cell_type": "code",
   "execution_count": null,
   "id": "RGSE",
   "metadata": {},
   "outputs": [
    {
     "name": "stdout",
     "output_type": "stream",
     "text": [
      "LP   has 2 rows; 2 cols; 4 nonzeros\n",
      "Coefficient ranges:\n",
      "  Matrix [1e+00, 1e+00]\n",
      "  Cost   [1e+00, 1e+00]\n",
      "  Bound  [0e+00, 0e+00]\n",
      "  RHS    [1e+00, 1e+00]\n",
      "Presolving model\n",
      "2 rows, 2 cols, 4 nonzeros  0s\n",
      "Problem status detected on presolve: Primal infeasible or unbounded\n",
      "Solving the original LP with primal simplex to determine infeasible or unbounded\n",
      "Using EKK primal simplex solver\n",
      "  Iteration        Objective     Infeasibilities num(sum)\n",
      "          0    -5.3672046609e-07 Pr: 0(0); Du: 2(2) 0s\n",
      "          1     1.0000000000e+00 Pr: 0(0); Du: 1(2) 0s\n",
      "Model status        : Unbounded\n",
      "Simplex   iterations: 1\n",
      "Objective value     :  1.0000000000e+00\n",
      "Relative P-D gap    :  0.0000000000e+00\n",
      "HiGHS run time      :          0.00\n"
     ]
    }
   ],
   "source": [
    "_model = mathopt.Model()\n",
    "_x1 = _model.add_variable(lb=0)\n",
    "_x2 = _model.add_variable(lb=0)\n",
    "\n",
    "_model.add_linear_constraint(_x1 - _x2 >= -1)\n",
    "_model.add_linear_constraint(-_x1 + _x2 >= -1)\n",
    "\n",
    "_model.maximize(_x1 + _x2)\n",
    "\n",
    "_params = mathopt.SolveParameters(enable_output=True)\n",
    "_result = mathopt.solve(_model, mathopt.SolverType.HIGHS, params=_params)\n",
    "\n",
    "_result.termination.reason"
   ]
  },
  {
   "cell_type": "markdown",
   "id": "Kclp",
   "metadata": {
    "marimo": {
     "config": {
      "hide_code": true
     }
    }
   },
   "source": [
    "## 実行不可能性の対処法(制約の逸脱を許すモデル化)"
   ]
  },
  {
   "cell_type": "markdown",
   "id": "emfo",
   "metadata": {
    "marimo": {
     "config": {
      "hide_code": true
     }
    }
   },
   "source": [
    "栄養素摂取量制約の逸脱を許すために摂取量の不足分と超過分を表す決定変数を用意する.\n",
    "\n",
    "- $d_i \\in \\mathbb{R}_{\\geq 0}$: 栄養素 $i$ に対する不足変数\n",
    "- $s_i \\in \\mathbb{R}_{\\geq 0}$: 栄養素 $i$ に対する超過変数\n",
    "\n",
    "制約を以下のように変更する.\n",
    "\n",
    "$$\n",
    "a_i - d_i \\leq \\sum_{j \\in F} n_{ij} x_j \\leq b_i + s_i \\ (\\forall i \\in N)\n",
    "$$\n",
    "\n",
    "目的関数には以下の逸脱ペナルティを追加する($M$ は十分大きな定数).\n",
    "\n",
    "$$\n",
    "\\text{minimize} \\sum_{j \\in F} c_j x_j + M \\sum_{i \\in N} (d_i + s_i)\n",
    "$$\n",
    "\n",
    "結果, 以下のような定式化になる.\n",
    "\n",
    "\\begin{align}\n",
    "&\\text{minimize} & \\sum_{j \\in F} c_j x_j + M \\sum_{i \\in N} (d_i + s_i) \\\\\n",
    "&\\text{s.t.} & a_i - d_i \\leq \\sum_{j \\in F} n_{ij} x_j \\leq b_i + s_i \\ (\\forall i \\in N) \\\\\n",
    "& & x_j \\geq 0 \\ (\\forall j \\in F)\n",
    "\\end{align}"
   ]
  },
  {
   "cell_type": "code",
   "execution_count": null,
   "id": "Hstk",
   "metadata": {
    "marimo": {
     "name": "*multidict"
    }
   },
   "outputs": [],
   "source": [
    "# https://scmopt.github.io/manual/15mypulp.html#multidict%E9%96%A2%E6%95%B0\n",
    "\n",
    "\n",
    "def multidict(d: dict):\n",
    "    ret = [list(d.keys())]\n",
    "    for k, arr in d.items():\n",
    "        if type(arr) is not list:\n",
    "            arr = [arr]\n",
    "        append_num = 1 + len(arr) - len(ret)\n",
    "        if append_num > 0:\n",
    "            ret = ret + [{} for _ in range(append_num)]\n",
    "        for i, val in enumerate(arr):\n",
    "            ret[i + 1][k] = val\n",
    "    return ret"
   ]
  },
  {
   "cell_type": "code",
   "execution_count": null,
   "id": "nWHF",
   "metadata": {},
   "outputs": [
    {
     "name": "stdout",
     "output_type": "stream",
     "text": [
      "[1, 2, 3, 4, 5] {1: 80, 2: 270, 3: 250, 4: 160, 5: 180}\n",
      "[1, 2, 3] {1: 500, 2: 800, 3: 500} {1: 600, 2: 500, 3: 100}\n"
     ]
    }
   ],
   "source": [
    "_I, _d = multidict({1: 80, 2: 270, 3: 250, 4: 160, 5: 180})\n",
    "_J, _M, _N = multidict({1: [500, 600], 2: [800, 500], 3: [500, 100]})\n",
    "print(_I, _d)\n",
    "print(_J, _M, _N)"
   ]
  },
  {
   "cell_type": "code",
   "execution_count": null,
   "id": "iLit",
   "metadata": {},
   "outputs": [],
   "source": [
    "F, c, n = multidict(\n",
    "    {\n",
    "        \"CQPounder\": [\n",
    "            360,\n",
    "            {\n",
    "                \"Cal\": 556,\n",
    "                \"Carbo\": 39,\n",
    "                \"Protein\": 30,\n",
    "                \"VitA\": 147,\n",
    "                \"VitC\": 10,\n",
    "                \"Calc\": 221,\n",
    "                \"Iron\": 2.4,\n",
    "            },\n",
    "        ],\n",
    "        \"Big M\": [\n",
    "            320,\n",
    "            {\n",
    "                \"Cal\": 556,\n",
    "                \"Carbo\": 46,\n",
    "                \"Protein\": 26,\n",
    "                \"VitA\": 97,\n",
    "                \"VitC\": 9,\n",
    "                \"Calc\": 142,\n",
    "                \"Iron\": 2.4,\n",
    "            },\n",
    "        ],\n",
    "        \"FFilet\": [\n",
    "            270,\n",
    "            {\n",
    "                \"Cal\": 356,\n",
    "                \"Carbo\": 42,\n",
    "                \"Protein\": 14,\n",
    "                \"VitA\": 28,\n",
    "                \"VitC\": 1,\n",
    "                \"Calc\": 76,\n",
    "                \"Iron\": 0.7,\n",
    "            },\n",
    "        ],\n",
    "        \"Chicken\": [\n",
    "            290,\n",
    "            {\n",
    "                \"Cal\": 431,\n",
    "                \"Carbo\": 45,\n",
    "                \"Protein\": 20,\n",
    "                \"VitA\": 9,\n",
    "                \"VitC\": 2,\n",
    "                \"Calc\": 37,\n",
    "                \"Iron\": 0.9,\n",
    "            },\n",
    "        ],\n",
    "        \"Fries\": [\n",
    "            190,\n",
    "            {\n",
    "                \"Cal\": 249,\n",
    "                \"Carbo\": 30,\n",
    "                \"Protein\": 3,\n",
    "                \"VitA\": 0,\n",
    "                \"VitC\": 5,\n",
    "                \"Calc\": 7,\n",
    "                \"Iron\": 0.6,\n",
    "            },\n",
    "        ],\n",
    "        \"Milk\": [\n",
    "            170,\n",
    "            {\n",
    "                \"Cal\": 138,\n",
    "                \"Carbo\": 10,\n",
    "                \"Protein\": 7,\n",
    "                \"VitA\": 80,\n",
    "                \"VitC\": 2,\n",
    "                \"Calc\": 227,\n",
    "                \"Iron\": 0,\n",
    "            },\n",
    "        ],\n",
    "        \"VegJuice\": [\n",
    "            100,\n",
    "            {\n",
    "                \"Cal\": 69,\n",
    "                \"Carbo\": 17,\n",
    "                \"Protein\": 1,\n",
    "                \"VitA\": 750,\n",
    "                \"VitC\": 2,\n",
    "                \"Calc\": 18,\n",
    "                \"Iron\": 0,\n",
    "            },\n",
    "        ],\n",
    "    }\n",
    ")"
   ]
  },
  {
   "cell_type": "code",
   "execution_count": null,
   "id": "ZHCJ",
   "metadata": {},
   "outputs": [],
   "source": [
    "N, a, b = multidict(\n",
    "    {\n",
    "        \"Cal\": [2000, 3000],\n",
    "        \"Carbo\": [300, 375],\n",
    "        \"Protein\": [50, 60],\n",
    "        \"VitA\": [500, 750],\n",
    "        \"VitC\": [85, 100],\n",
    "        \"Calc\": [660, 900],\n",
    "        \"Iron\": [6.0, 7.5],\n",
    "    }\n",
    ")"
   ]
  },
  {
   "cell_type": "code",
   "execution_count": null,
   "id": "ROlb",
   "metadata": {},
   "outputs": [
    {
     "name": "stdout",
     "output_type": "stream",
     "text": [
      "presolving:\n",
      "(round 1, fast)       7 del vars, 0 del conss, 0 add conss, 15 chg bounds, 0 chg sides, 0 chg coeffs, 0 upgd conss, 0 impls, 0 clqs\n",
      "(round 2, fast)       7 del vars, 0 del conss, 0 add conss, 22 chg bounds, 0 chg sides, 0 chg coeffs, 0 upgd conss, 0 impls, 0 clqs\n",
      "   Deactivated symmetry handling methods, since SCIP was built without symmetry detector (SYM=none).\n",
      "   Deactivated symmetry handling methods, since SCIP was built without symmetry detector (SYM=none).\n",
      "presolving (3 rounds: 3 fast, 1 medium, 1 exhaustive):\n",
      " 7 deleted vars, 0 deleted constraints, 0 added constraints, 22 tightened bounds, 0 added holes, 0 changed sides, 0 changed coefficients\n",
      " 0 implications, 0 cliques\n",
      "presolved problem has 14 variables (0 bin, 0 int, 0 impl, 14 cont) and 14 constraints\n",
      "     14 constraints of type <linear>\n",
      "Presolving Time: 0.00\n",
      "\n",
      " time | node  | left  |LP iter|LP it/n|mem/heur|mdpt |vars |cons |rows |cuts |sepa|confs|strbr|  dualbound   | primalbound  |  gap   | compl. \n",
      "* 0.0s|     1 |     0 |     7 |     - |    LP  |   0 |  14 |  14 |  14 |   0 |  0 |   0 |   0 | 2.651192e+05 | 2.651192e+05 |   0.00%| unknown\n",
      "  0.0s|     1 |     0 |     7 |     - |   699k |   0 |  14 |  14 |  14 |   0 |  0 |   0 |   0 | 2.651192e+05 | 2.651192e+05 |   0.00%| unknown\n",
      "\n",
      "SCIP Status        : problem is solved [optimal solution found]\n",
      "Solving Time (sec) : 0.00\n",
      "Solving Nodes      : 1\n",
      "Primal Bound       : +2.65119187592678e+05 (1 solutions)\n",
      "Dual Bound         : +2.65119187592678e+05\n",
      "Gap                : 0.00 %\n"
     ]
    }
   ],
   "source": [
    "model0 = mathopt.Model()\n",
    "\n",
    "x1 = {_j: model0.add_variable(lb=0.0, name=f\"x[{_j}]\") for _j in F}\n",
    "s1 = {_i: model0.add_variable(lb=0.0, name=f\"s[{_i}]\") for _i in N}\n",
    "d1 = {_i: model0.add_variable(lb=0.0, name=f\"d[{_i}]\") for _i in N}\n",
    "\n",
    "for _i in N:\n",
    "    model0.add_linear_constraint(\n",
    "        sum((n[_j][_i] * x1[_j] for _j in F)) >= a[_i] - d1[_i]\n",
    "    )\n",
    "    model0.add_linear_constraint(\n",
    "        sum((n[_j][_i] * x1[_j] for _j in F)) <= b[_i] - s1[_i]\n",
    "    )\n",
    "\n",
    "_M = 9999\n",
    "_objective = sum((c[_j] * x1[_j] for _j in F)) + _M * sum(\n",
    "    (d1[_i] + s1[_i] for _i in N)\n",
    ")\n",
    "model0.minimize(_objective)\n",
    "\n",
    "_params = mathopt.SolveParameters(enable_output=True)\n",
    "result1 = mathopt.solve(model0, mathopt.SolverType.GSCIP, params=_params)\n",
    "if result1.termination.reason != mathopt.TerminationReason.OPTIMAL:\n",
    "    raise RuntimeError(f\"model failed to solve: {result1.termination}\")"
   ]
  },
  {
   "cell_type": "code",
   "execution_count": null,
   "id": "qnkX",
   "metadata": {},
   "outputs": [
    {
     "name": "stdout",
     "output_type": "stream",
     "text": [
      "[正常]栄養素 Cal     摂取量 3000.00, 正常範囲: [2000.0, 3000.0]\n",
      "[正常]栄養素 Carbo   摂取量  350.74, 正常範囲: [ 300.0,  375.0]\n",
      "[違反]栄養素 Protein 摂取量   50.00, 正常範囲: [  50.0,   60.0]\n",
      "[正常]栄養素 VitA    摂取量  750.00, 正常範囲: [ 500.0,  750.0]\n",
      "[正常]栄養素 VitC    摂取量   58.73, 正常範囲: [  85.0,  100.0]\n",
      "[違反]栄養素 Calc    摂取量  660.00, 正常範囲: [ 660.0,  900.0]\n",
      "[正常]栄養素 Iron    摂取量    6.29, 正常範囲: [   6.0,    7.5]\n"
     ]
    }
   ],
   "source": [
    "x1val = {_j: result1.variable_values()[x1[_j]] for _j in F}\n",
    "s1val = {_i: result1.variable_values()[s1[_i]] for _i in N}\n",
    "d1val = {_i: result1.variable_values()[d1[_i]] for _i in N}\n",
    "\n",
    "for _i in N:\n",
    "    _info = \"正常\"\n",
    "    if (\n",
    "        sum(n[_j][_i] * x1val[_j] for _j in F) < a[_i] - d1val[_i]\n",
    "        or sum(n[_j][_i] * x1val[_j] for _j in F) > b[_i] - s1val[_i]\n",
    "    ):\n",
    "        _info = \"違反\"\n",
    "    print(\n",
    "        f\"[{_info}]栄養素 {_i:<7} 摂取量 {sum(n[_j][_i] * x1val[_j] for _j in F):>7.2f}, 正常範囲: [{a[_i]:>6.1f}, {b[_i]:>6.1f}]\"\n",
    "    )"
   ]
  },
  {
   "cell_type": "code",
   "execution_count": null,
   "id": "TqIu",
   "metadata": {},
   "outputs": [
    {
     "data": {
      "text/html": [
       "<pre style='font-size: 12px'>2485.5814442683773</pre>"
      ]
     },
     "metadata": {},
     "output_type": "display_data"
    }
   ],
   "source": [
    "sum(c[_j] * x1val[_j] for _j in F)"
   ]
  },
  {
   "cell_type": "code",
   "execution_count": null,
   "id": "Vxnm",
   "metadata": {},
   "outputs": [
    {
     "data": {
      "text/html": [
       "<pre style='font-size: 12px'>265119.187592678</pre>"
      ]
     },
     "metadata": {},
     "output_type": "display_data"
    }
   ],
   "source": [
    "result1.objective_value()"
   ]
  },
  {
   "cell_type": "markdown",
   "id": "DnEU",
   "metadata": {
    "marimo": {
     "config": {
      "hide_code": true
     }
    }
   },
   "source": [
    "# 逸脱最小化"
   ]
  },
  {
   "cell_type": "markdown",
   "id": "ulZA",
   "metadata": {
    "marimo": {
     "config": {
      "hide_code": true
     }
    }
   },
   "source": [
    "整数変数の連続変数化, 制約の逸脱をコスト関数化."
   ]
  },
  {
   "cell_type": "code",
   "execution_count": null,
   "id": "ecfG",
   "metadata": {},
   "outputs": [
    {
     "name": "stdout",
     "output_type": "stream",
     "text": [
      "presolving:\n",
      "(round 1, fast)       0 del vars, 0 del conss, 0 add conss, 29 chg bounds, 0 chg sides, 0 chg coeffs, 0 upgd conss, 0 impls, 0 clqs\n",
      "   (0.0s) symmetry computation started: requiring (bin +, int +, cont +), (fixed: bin -, int -, cont -)\n",
      "   (0.0s) no symmetry present (symcode time: 0.00)\n",
      "presolving (2 rounds: 2 fast, 1 medium, 1 exhaustive):\n",
      " 0 deleted vars, 0 deleted constraints, 0 added constraints, 29 tightened bounds, 0 added holes, 0 changed sides, 0 changed coefficients\n",
      " 0 implications, 0 cliques\n",
      "presolved problem has 35 variables (0 bin, 0 int, 0 impl, 35 cont) and 28 constraints\n",
      "     14 constraints of type <linear>\n",
      "     14 constraints of type <nonlinear>\n",
      "Presolving Time: 0.00\n",
      "\n",
      " time | node  | left  |LP iter|LP it/n|mem/heur|mdpt |vars |cons |rows |cuts |sepa|confs|strbr|  dualbound   | primalbound  |  gap   | compl. \n",
      "  0.0s|     1 |     0 |    10 |     - |  1083k |   0 |  63 |  28 |  77 |   0 |  0 |   0 |   0 | 1.674022e+03 |      --      |    Inf | unknown\n",
      "L 0.0s|     1 |     0 |    10 |     - |undercov|   0 |  63 |  28 |  77 |   0 |  0 |   0 |   0 | 1.674022e+03 | 1.171354e+07 |  Large | unknown\n",
      "L 0.0s|     1 |     0 |    10 |     - |undercov|   0 |  63 |  28 |  77 |   0 |  0 |   0 |   0 | 1.674022e+03 | 6.913896e+05 |  Large | unknown\n",
      "  0.1s|     1 |     0 |    20 |     - |  1132k |   0 |  63 |  28 |  81 |   4 |  1 |   0 |   0 | 2.201207e+03 | 6.913896e+05 |  Large | unknown\n",
      "  0.1s|     1 |     0 |    20 |     - |  1132k |   0 |  63 |  28 |  81 |   4 |  1 |   0 |   0 | 2.201207e+03 | 6.913896e+05 |  Large | unknown\n",
      "  0.1s|     1 |     0 |    30 |     - |  1132k |   0 |  63 |  28 |  85 |   8 |  2 |   0 |   0 | 6.627654e+05 | 6.913896e+05 |   4.32%| unknown\n",
      "  0.1s|     1 |     0 |    35 |     - |  1132k |   0 |  63 |  28 |  90 |  13 |  3 |   0 |   0 | 6.899383e+05 | 6.913896e+05 |   0.21%| unknown\n",
      "  0.1s|     1 |     0 |    40 |     - |  1162k |   0 |  63 |  28 |  95 |  18 |  4 |   0 |   0 | 6.906684e+05 | 6.913896e+05 |   0.10%| unknown\n",
      "  0.1s|     1 |     0 |    45 |     - |  1162k |   0 |  63 |  28 | 100 |  23 |  5 |   0 |   0 | 6.910334e+05 | 6.913896e+05 |   0.05%| unknown\n",
      "  0.1s|     1 |     0 |    50 |     - |  1162k |   0 |  63 |  28 | 105 |  28 |  6 |   0 |   0 | 6.912159e+05 | 6.913896e+05 |   0.03%| unknown\n",
      "  0.1s|     1 |     0 |    54 |     - |  1165k |   0 |  63 |  28 | 109 |  32 |  7 |   0 |   0 | 6.913071e+05 | 6.913896e+05 |   0.01%| unknown\n",
      "  0.1s|     1 |     0 |    58 |     - |  1165k |   0 |  63 |  28 | 113 |  36 |  8 |   0 |   0 | 6.913528e+05 | 6.913896e+05 |   0.01%| unknown\n",
      "  0.1s|     1 |     0 |    62 |     - |  1165k |   0 |  63 |  28 | 117 |  40 |  9 |   0 |   0 | 6.913756e+05 | 6.913896e+05 |   0.00%| unknown\n",
      "  0.1s|     1 |     0 |    66 |     - |  1165k |   0 |  63 |  28 | 121 |  44 | 10 |   0 |   0 | 6.913870e+05 | 6.913896e+05 |   0.00%| unknown\n",
      "  0.1s|     1 |     0 |    69 |     - |  1173k |   0 |  63 |  28 |  75 |  48 | 11 |   0 |   0 | 6.913887e+05 | 6.913896e+05 |   0.00%| unknown\n",
      " time | node  | left  |LP iter|LP it/n|mem/heur|mdpt |vars |cons |rows |cuts |sepa|confs|strbr|  dualbound   | primalbound  |  gap   | compl. \n",
      "  0.1s|     1 |     0 |    72 |     - |  1173k |   0 |  63 |  28 |  78 |  51 | 12 |   0 |   0 | 6.913896e+05 | 6.913896e+05 |   0.00%| unknown\n",
      "  0.1s|     1 |     0 |    75 |     - |  1173k |   0 |  63 |  28 |  81 |  54 | 13 |   0 |   0 | 6.913896e+05 | 6.913896e+05 |   0.00%| unknown\n",
      "  0.1s|     1 |     0 |    78 |     - |  1173k |   0 |  63 |  28 |  84 |  57 | 14 |   0 |   0 | 6.913896e+05 | 6.913896e+05 |   0.00%| unknown\n",
      "  0.1s|     1 |     0 |    80 |     - |  1173k |   0 |  63 |  28 |  87 |  60 | 15 |   0 |   0 | 6.913896e+05 | 6.913896e+05 |   0.00%| unknown\n",
      "  0.1s|     1 |     0 |    80 |     - |  1173k |   0 |  63 |  28 |  87 |  60 | 15 |   0 |   0 | 6.913896e+05 | 6.913896e+05 |   0.00%| unknown\n",
      "\n",
      "SCIP Status        : problem is solved [optimal solution found]\n",
      "Solving Time (sec) : 0.05\n",
      "Solving Nodes      : 1\n",
      "Primal Bound       : +6.91389636697376e+05 (4 solutions)\n",
      "Dual Bound         : +6.91389636697376e+05\n",
      "Gap                : 0.00 %\n"
     ]
    }
   ],
   "source": [
    "model1 = pyscipopt.Model()\n",
    "\n",
    "x2 = {_j: model1.addVar(vtype=\"C\", lb=0.0) for _j in F}\n",
    "s2 = {_i: model1.addVar(vtype=\"C\", lb=0.0) for _i in N}\n",
    "d2 = {_i: model1.addVar(vtype=\"C\", lb=0.0) for _i in N}\n",
    "\n",
    "for _i in N:\n",
    "    model1.addCons(\n",
    "        pyscipopt.quicksum((n[_j][_i] * x2[_j] for _j in F)) >= a[_i] - d2[_i]\n",
    "    )\n",
    "    model1.addCons(\n",
    "        pyscipopt.quicksum((n[_j][_i] * x2[_j] for _j in F)) <= b[_i] - s2[_i]\n",
    "    )\n",
    "\n",
    "_M = 999  # ここを大きくし過ぎると計算時間が肥大化する.\n",
    "_objective = 0\n",
    "for _i in N:\n",
    "    _s2q = model1.addVar(vtype=\"C\", lb=0.0)\n",
    "    _d2q = model1.addVar(vtype=\"C\", lb=0.0)\n",
    "    model1.addCons(_s2q == s2[_i] * s2[_i])\n",
    "    model1.addCons(_d2q == d2[_i] * d2[_i])\n",
    "    _objective += _s2q + _d2q\n",
    "_objective = _M * _objective + pyscipopt.quicksum((c[_j] * x2[_j] for _j in F))\n",
    "model1.setObjective(_objective, sense=\"minimize\")\n",
    "\n",
    "model1.optimize()"
   ]
  },
  {
   "cell_type": "code",
   "execution_count": null,
   "id": "Pvdt",
   "metadata": {},
   "outputs": [
    {
     "name": "stdout",
     "output_type": "stream",
     "text": [
      "[違反]栄養素 Cal     摂取量 3000.00, 正常範囲: [2000.0, 3000.0]\n",
      "[正常]栄養素 Carbo   摂取量  351.05, 正常範囲: [ 300.0,  375.0]\n",
      "[違反]栄養素 Protein 摂取量   49.76, 正常範囲: [  50.0,   60.0]\n",
      "[違反]栄養素 VitA    摂取量  750.00, 正常範囲: [ 500.0,  750.0]\n",
      "[違反]栄養素 VitC    摂取量   58.74, 正常範囲: [  85.0,  100.0]\n",
      "[違反]栄養素 Calc    摂取量  659.91, 正常範囲: [ 660.0,  900.0]\n",
      "[正常]栄養素 Iron    摂取量    6.27, 正常範囲: [   6.0,    7.5]\n"
     ]
    }
   ],
   "source": [
    "x2val = {_j: model1.getVal(x2[_j]) for _j in F}\n",
    "s2val = {_i: model1.getVal(s2[_i]) for _i in N}\n",
    "d2val = {_i: model1.getVal(d2[_i]) for _i in N}\n",
    "\n",
    "for _i in N:\n",
    "    _info = \"正常\"\n",
    "    if (\n",
    "        sum(n[_j][_i] * x2val[_j] for _j in F) < a[_i] - d2val[_i]\n",
    "        or sum(n[_j][_i] * x2val[_j] for _j in F) > b[_i] - s2val[_i]\n",
    "    ):\n",
    "        _info = \"違反\"\n",
    "    print(\n",
    "        f\"[{_info}]栄養素 {_i:<7} 摂取量 {sum(n[_j][_i] * x2val[_j] for _j in F):>7.2f}, 正常範囲: [{a[_i]:>6.1f}, {b[_i]:>6.1f}]\"\n",
    "    )"
   ]
  },
  {
   "cell_type": "code",
   "execution_count": null,
   "id": "ZBYS",
   "metadata": {},
   "outputs": [
    {
     "data": {
      "text/html": [
       "<pre style='font-size: 12px'>2487.2403653457077</pre>"
      ]
     },
     "metadata": {},
     "output_type": "display_data"
    }
   ],
   "source": [
    "sum(c[_j] * x2val[_j] for _j in F)"
   ]
  },
  {
   "cell_type": "code",
   "execution_count": null,
   "id": "aLJB",
   "metadata": {},
   "outputs": [
    {
     "data": {
      "text/html": [
       "<pre style='font-size: 12px'>691389.6366973758</pre>"
      ]
     },
     "metadata": {},
     "output_type": "display_data"
    }
   ],
   "source": [
    "model1.getObjVal()"
   ]
  },
  {
   "cell_type": "markdown",
   "id": "nHfw",
   "metadata": {
    "marimo": {
     "config": {
      "hide_code": true
     }
    }
   },
   "source": [
    "# 既約不整合部分系"
   ]
  },
  {
   "cell_type": "markdown",
   "id": "xXTn",
   "metadata": {
    "marimo": {
     "config": {
      "hide_code": true
     }
    }
   },
   "source": [
    "既約不整合部分系 (irreducible Inconsistent Subsystem: IIS)\n",
    "\n",
    "- 実行不可能\n",
    "- 上下限もしくは制約を1つ除くと実行可能になる"
   ]
  },
  {
   "cell_type": "markdown",
   "id": "AjVT",
   "metadata": {
    "marimo": {
     "config": {
      "hide_code": true
     }
    }
   },
   "source": [
    "# 混合問題"
   ]
  },
  {
   "cell_type": "markdown",
   "id": "pHFh",
   "metadata": {
    "marimo": {
     "config": {
      "hide_code": true
     }
    }
   },
   "source": [
    "- 定数\n",
    "  - $I$: 原料の集合\n",
    "  - $K$: 成分の集合\n",
    "  - $p_i$: 原料 $i$ の価格\n",
    "  - $a_{ik}$: 原料 $i$ に含まれる成分 $k$ の比率\n",
    "  - $LB_k$: 製品に含まれる成分 $k$ の比率の下限\n",
    "  - $\\varepsilon$: 誤差の 2 乗和の上限\n",
    "- 決定変数\n",
    "  - $x_i$: 原料 $i$ の含有比率\n",
    "\n",
    "\\begin{align}\n",
    "&\\text{minimize} & \\sum_{i \\in I} p_i x_i \\\\\n",
    "&\\text{s.t.} & \\sum_{i \\in I} x_i = 1 \\\\\n",
    "& & \\sqrt{\\varepsilon^2 \\sum_{i \\in I} x_i^2} \\leq -LB_k + \\sum_{i \\in I} a_{ik} x_i \\quad (\\forall k \\in K) \\\\\n",
    "& & x_i \\geq 0 \\quad (\\forall i \\in I)\n",
    "\\end{align}"
   ]
  },
  {
   "cell_type": "code",
   "execution_count": null,
   "id": "NCOB",
   "metadata": {
    "marimo": {
     "name": "*make_data"
    }
   },
   "outputs": [],
   "source": [
    "def make_data():\n",
    "    a = {\n",
    "        (1, 1): 0.25,\n",
    "        (1, 2): 0.15,\n",
    "        (1, 3): 0.2,\n",
    "        (2, 1): 0.3,\n",
    "        (2, 2): 0.3,\n",
    "        (2, 3): 0.1,\n",
    "        (3, 1): 0.15,\n",
    "        (3, 2): 0.65,\n",
    "        (3, 3): 0.05,\n",
    "        (4, 1): 0.1,\n",
    "        (4, 2): 0.05,\n",
    "        (4, 3): 0.8,\n",
    "    }\n",
    "    epsilon = 0.01\n",
    "    I, p = multidict({1: 5, 2: 6, 3: 8, 4: 20})\n",
    "    K, LB = multidict({1: 0.2, 2: 0.3, 3: 0.2})\n",
    "    return I, K, a, p, epsilon, LB"
   ]
  },
  {
   "cell_type": "code",
   "execution_count": null,
   "id": "aqbW",
   "metadata": {},
   "outputs": [],
   "source": [
    "def prodmix(I, K, a, p, epsilon, LB):\n",
    "    \"\"\"prodmix:  robust production planning using soco\n",
    "    Parameters:\n",
    "        I - set of materials\n",
    "        K - set of components\n",
    "        a[i][k] -  coef. matrix\n",
    "        p[i] - price of material i\n",
    "        LB[k] - amount needed for k\n",
    "    Returns a model, ready to be solved.\n",
    "    \"\"\"\n",
    "\n",
    "    model = pyscipopt.Model()\n",
    "    x = {i: model.addVar(vtype=\"C\", lb=0.0) for i in I}\n",
    "    rhs = {k: model.addVar(vtype=\"C\") for k in K}\n",
    "\n",
    "    model.addCons(pyscipopt.quicksum(x[i] for i in I) == 1)\n",
    "\n",
    "    for k in K:\n",
    "        model.addCons(\n",
    "            rhs[k] == -LB[k] + pyscipopt.quicksum(a[i, k] * x[i] for i in I)\n",
    "        )\n",
    "        model.addCons(\n",
    "            pyscipopt.quicksum(epsilon**2 * x[i] * x[i] for i in I)\n",
    "            <= rhs[k] * rhs[k]\n",
    "        )\n",
    "\n",
    "    objective = pyscipopt.quicksum(p[i] * x[i] for i in I)\n",
    "    model.setObjective(objective, sense=\"minimize\")\n",
    "\n",
    "    return model"
   ]
  },
  {
   "cell_type": "code",
   "execution_count": null,
   "id": "TRpd",
   "metadata": {},
   "outputs": [
    {
     "name": "stdout",
     "output_type": "stream",
     "text": [
      "[7.1315789473684355, 7.477013882429289, 7.862008318680805, 8.228861392496697, 8.788372400122121]\n"
     ]
    }
   ],
   "source": [
    "_I, _K, _a, _p, _epsilon, _LB = make_data()\n",
    "obj_list = []\n",
    "for _i in range(5):\n",
    "    _epsilon = _i * 0.01\n",
    "    _model = prodmix(_I, _K, _a, _p, _epsilon, _LB)\n",
    "    _model.hideOutput()\n",
    "    _model.optimize()\n",
    "    obj_list.append(_model.getObjVal())\n",
    "\n",
    "print(obj_list)"
   ]
  },
  {
   "cell_type": "code",
   "execution_count": null,
   "id": "TXez",
   "metadata": {},
   "outputs": [
    {
     "data": {
      "image/png": "[encoded data removed]"
     },
     "metadata": {},
     "output_type": "display_data"
    }
   ],
   "source": [
    "import matplotlib as plt\n",
    "\n",
    "pd.Series(obj_list).plot()"
   ]
  }
 ],
 "metadata": {},
 "nbformat": 4,
 "nbformat_minor": 5
}
