{
 "cells": [
  {
   "cell_type": "markdown",
   "id": "7ebad2c2-6268-4e7b-9dd9-2fdffefc59fa",
   "metadata": {},
   "source": [
    "# 線形最適化問題"
   ]
  },
  {
   "cell_type": "markdown",
   "id": "ca8ca4de-8813-443b-a649-bd1f17d70074",
   "metadata": {},
   "source": [
    "\\begin{align}\n",
    "&\\text{maximize} & 15x_1 + 18 x_2 & \\\\\n",
    "&\\text{s.t.} & 2x_1 + x_2 &\\leq 60 \\\\\n",
    "& & x_1 + 2 x_2 &\\leq 60 \\\\\n",
    "& & x_1, x_2 &\\geq 0\n",
    "\\end{align}"
   ]
  },
  {
   "cell_type": "code",
   "execution_count": 1,
   "id": "66462013-87d7-417f-b7bb-300d62b72ff5",
   "metadata": {},
   "outputs": [
    {
     "name": "stdout",
     "output_type": "stream",
     "text": [
      "(CVXPY) Nov 10 03:46:08 PM: Encountered unexpected exception importing solver GLOP:\n",
      "RuntimeError('Unrecognized new version of ortools (9.11.4210). Expected < 9.10.0. Please open a feature request on cvxpy to enable support for this version.')\n",
      "(CVXPY) Nov 10 03:46:08 PM: Encountered unexpected exception importing solver PDLP:\n",
      "RuntimeError('Unrecognized new version of ortools (9.11.4210). Expected < 9.10.0. Please open a feature request on cvxpy to enable support for this version.')\n"
     ]
    }
   ],
   "source": [
    "import cvxpy as cp"
   ]
  },
  {
   "cell_type": "code",
   "execution_count": 2,
   "id": "829a7d6b-041a-4779-858c-cdf8c6e22b88",
   "metadata": {},
   "outputs": [
    {
     "data": {
      "text/plain": [
       "Variable((2,), var1, nonneg=True)"
      ]
     },
     "execution_count": 2,
     "metadata": {},
     "output_type": "execute_result"
    }
   ],
   "source": [
    "var = cp.Variable(2, nonneg=True)\n",
    "x1 = var[0]\n",
    "x2 = var[1]\n",
    "\n",
    "var"
   ]
  },
  {
   "cell_type": "code",
   "execution_count": 3,
   "id": "fa7bfb8f-6c9d-4610-83e4-df0506f3512f",
   "metadata": {},
   "outputs": [
    {
     "data": {
      "text/plain": [
       "[Inequality(Expression(AFFINE, NONNEGATIVE, ())),\n",
       " Inequality(Expression(AFFINE, NONNEGATIVE, ()))]"
      ]
     },
     "execution_count": 3,
     "metadata": {},
     "output_type": "execute_result"
    }
   ],
   "source": [
    "constraints = []\n",
    "constraints.append(2 * x1 +     x2 <= 60)\n",
    "constraints.append(    x1 + 2 * x2 <= 60)\n",
    "\n",
    "constraints"
   ]
  },
  {
   "cell_type": "code",
   "execution_count": 4,
   "id": "daa67435-0394-47d1-b0fb-fc6e205d4976",
   "metadata": {},
   "outputs": [
    {
     "data": {
      "text/plain": [
       "Expression(AFFINE, NONNEGATIVE, ())"
      ]
     },
     "execution_count": 4,
     "metadata": {},
     "output_type": "execute_result"
    }
   ],
   "source": [
    "objective = 15 * x1 + 18 * x2\n",
    "\n",
    "objective"
   ]
  },
  {
   "cell_type": "code",
   "execution_count": 5,
   "id": "7b72c7ab-0141-4a63-a386-2dc98c5fbe41",
   "metadata": {},
   "outputs": [
    {
     "data": {
      "text/plain": [
       "Problem(Maximize(Expression(AFFINE, NONNEGATIVE, ())), [Inequality(Expression(AFFINE, NONNEGATIVE, ())), Inequality(Expression(AFFINE, NONNEGATIVE, ()))])"
      ]
     },
     "execution_count": 5,
     "metadata": {},
     "output_type": "execute_result"
    }
   ],
   "source": [
    "problem = cp.Problem(cp.Maximize(objective), constraints)\n",
    "\n",
    "problem"
   ]
  },
  {
   "cell_type": "code",
   "execution_count": 6,
   "id": "f3779912-3181-4c81-9156-18724c47c8a0",
   "metadata": {},
   "outputs": [
    {
     "name": "stdout",
     "output_type": "stream",
     "text": [
      "===============================================================================\n",
      "                                     CVXPY                                     \n",
      "                                     v1.5.3                                    \n",
      "===============================================================================\n",
      "(CVXPY) Nov 10 03:46:08 PM: Your problem has 2 variables, 2 constraints, and 0 parameters.\n",
      "(CVXPY) Nov 10 03:46:08 PM: It is compliant with the following grammars: DCP, DQCP\n",
      "(CVXPY) Nov 10 03:46:08 PM: (If you need to solve this problem multiple times, but with different data, consider using parameters.)\n",
      "(CVXPY) Nov 10 03:46:08 PM: CVXPY will first compile your problem; then, it will invoke a numerical solver to obtain a solution.\n",
      "(CVXPY) Nov 10 03:46:08 PM: Your problem is compiled with the CPP canonicalization backend.\n",
      "-------------------------------------------------------------------------------\n",
      "                                  Compilation                                  \n",
      "-------------------------------------------------------------------------------\n",
      "(CVXPY) Nov 10 03:46:08 PM: Compiling problem (target solver=CLARABEL).\n",
      "(CVXPY) Nov 10 03:46:08 PM: Reduction chain: FlipObjective -> Dcp2Cone -> CvxAttr2Constr -> ConeMatrixStuffing -> CLARABEL\n",
      "(CVXPY) Nov 10 03:46:08 PM: Applying reduction FlipObjective\n",
      "(CVXPY) Nov 10 03:46:08 PM: Applying reduction Dcp2Cone\n",
      "(CVXPY) Nov 10 03:46:08 PM: Applying reduction CvxAttr2Constr\n",
      "(CVXPY) Nov 10 03:46:08 PM: Applying reduction ConeMatrixStuffing\n",
      "(CVXPY) Nov 10 03:46:08 PM: Applying reduction CLARABEL\n",
      "(CVXPY) Nov 10 03:46:08 PM: Finished problem compilation (took 4.224e-03 seconds).\n",
      "-------------------------------------------------------------------------------\n",
      "                                Numerical solver                               \n",
      "-------------------------------------------------------------------------------\n",
      "(CVXPY) Nov 10 03:46:08 PM: Invoking solver CLARABEL  to obtain a solution.\n",
      "-------------------------------------------------------------\n",
      "           Clarabel.rs v0.9.0  -  Clever Acronym                \n",
      "\n",
      "                   (c) Paul Goulart                          \n",
      "                University of Oxford, 2022                   \n",
      "-------------------------------------------------------------\n",
      "\n",
      "problem:\n",
      "  variables     = 2\n",
      "  constraints   = 4\n",
      "  nnz(P)        = 0\n",
      "  nnz(A)        = 6\n",
      "  cones (total) = 1\n",
      "    : Nonnegative = 1,  numel = 4\n",
      "\n",
      "settings:\n",
      "  linear algebra: direct / qdldl, precision: 64 bit\n",
      "  max iter = 200, time limit = Inf,  max step = 0.990\n",
      "  tol_feas = 1.0e-8, tol_gap_abs = 1.0e-8, tol_gap_rel = 1.0e-8,\n",
      "  static reg : on, ϵ1 = 1.0e-8, ϵ2 = 4.9e-32\n",
      "  dynamic reg: on, ϵ = 1.0e-13, δ = 2.0e-7\n",
      "  iter refine: on, reltol = 1.0e-13, abstol = 1.0e-12,\n",
      "               max iter = 10, stop ratio = 5.0\n",
      "  equilibrate: on, min_scale = 1.0e-4, max_scale = 1.0e4\n",
      "               max iter = 10\n",
      "\n",
      "iter    pcost        dcost       gap       pres      dres      k/t        μ       step      \n",
      "---------------------------------------------------------------------------------------------\n",
      "  0  -4.5711e+02  -9.1853e+02  1.01e+00  0.00e+00  6.90e-02  1.00e+00  7.11e+01   ------   \n",
      "  1  -6.3408e+02  -6.8635e+02  8.24e-02  0.00e+00  7.52e-03  4.60e+00  9.84e+00  9.34e-01  \n",
      "  2  -6.5968e+02  -6.6064e+02  1.46e-03  3.01e-17  1.41e-04  1.18e-01  1.92e-01  9.89e-01  \n",
      "  3  -6.6000e+02  -6.6001e+02  1.46e-05  7.37e-17  1.41e-06  1.18e-03  1.92e-03  9.90e-01  \n",
      "  4  -6.6000e+02  -6.6000e+02  1.46e-07  8.50e-17  1.41e-08  1.18e-05  1.92e-05  9.90e-01  \n",
      "  5  -6.6000e+02  -6.6000e+02  1.46e-09  9.02e-17  1.41e-10  1.18e-07  1.92e-07  9.90e-01  \n",
      "---------------------------------------------------------------------------------------------\n",
      "Terminated with status = Solved\n",
      "solve time = 47.043µs\n",
      "-------------------------------------------------------------------------------\n",
      "                                    Summary                                    \n",
      "-------------------------------------------------------------------------------\n",
      "(CVXPY) Nov 10 03:46:08 PM: Problem status: optimal\n",
      "(CVXPY) Nov 10 03:46:08 PM: Optimal value: 6.600e+02\n",
      "(CVXPY) Nov 10 03:46:08 PM: Compilation took 4.224e-03 seconds\n",
      "(CVXPY) Nov 10 03:46:08 PM: Solver (including time spent in interface) took 4.320e-04 seconds\n"
     ]
    },
    {
     "data": {
      "text/plain": [
       "np.float64(659.999999675603)"
      ]
     },
     "execution_count": 6,
     "metadata": {},
     "output_type": "execute_result"
    }
   ],
   "source": [
    "result = problem.solve(verbose=True)\n",
    "\n",
    "result"
   ]
  },
  {
   "cell_type": "code",
   "execution_count": 7,
   "id": "262e7fe2-495d-4665-be57-8dd116808372",
   "metadata": {},
   "outputs": [
    {
     "name": "stdout",
     "output_type": "stream",
     "text": [
      "x1 = 19.999999967462355\n",
      "x2 = 20.000000009092652\n",
      "objective = 659.999999675603\n"
     ]
    }
   ],
   "source": [
    "print(f\"x1 = {x1.value}\")\n",
    "print(f\"x2 = {x2.value}\")\n",
    "print(f\"objective = {objective.value}\")"
   ]
  },
  {
   "cell_type": "code",
   "execution_count": null,
   "id": "31aec194-ee93-4698-9c22-caa1e77d7d0c",
   "metadata": {},
   "outputs": [],
   "source": []
  }
 ],
 "metadata": {
  "kernelspec": {
   "display_name": "Python 3 (ipykernel)",
   "language": "python",
   "name": "python3"
  },
  "language_info": {
   "codemirror_mode": {
    "name": "ipython",
    "version": 3
   },
   "file_extension": ".py",
   "mimetype": "text/x-python",
   "name": "python",
   "nbconvert_exporter": "python",
   "pygments_lexer": "ipython3",
   "version": "3.12.2"
  }
 },
 "nbformat": 4,
 "nbformat_minor": 5
}
