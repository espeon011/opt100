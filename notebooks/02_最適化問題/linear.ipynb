{
 "cells": [
  {
   "cell_type": "code",
   "execution_count": null,
   "id": "Hbol",
   "metadata": {},
   "outputs": [],
   "source": [
    "import marimo as mo"
   ]
  },
  {
   "cell_type": "markdown",
   "id": "MJUe",
   "metadata": {
    "marimo": {
     "config": {
      "hide_code": true
     }
    }
   },
   "source": [
    "# 線形最適化問題"
   ]
  },
  {
   "cell_type": "markdown",
   "id": "vblA",
   "metadata": {
    "marimo": {
     "config": {
      "hide_code": true
     }
    }
   },
   "source": [
    "\\begin{align}\n",
    "&\\text{maximize} & 15x_1 + 18 x_2 & \\\\\n",
    "&\\text{s.t.} & 2x_1 + x_2 &\\leq 60 \\\\\n",
    "& & x_1 + 2 x_2 &\\leq 60 \\\\\n",
    "& & x_1, x_2 &\\geq 0\n",
    "\\end{align}"
   ]
  },
  {
   "cell_type": "code",
   "execution_count": null,
   "id": "bkHC",
   "metadata": {},
   "outputs": [],
   "source": [
    "from ortools.math_opt.python import mathopt"
   ]
  },
  {
   "cell_type": "code",
   "execution_count": null,
   "id": "lEQa",
   "metadata": {},
   "outputs": [],
   "source": [
    "model = mathopt.Model(name=\"getting_started_lp\")\n",
    "\n",
    "x1 = model.add_variable(lb=0, name=\"x1\")\n",
    "x2 = model.add_variable(lb=0, name=\"c2\")\n",
    "\n",
    "model.add_linear_constraint(2 * x1 + x2 <= 60)\n",
    "model.add_linear_constraint(x1 + 2 * x2 <= 60)\n",
    "\n",
    "model.maximize(15 * x1 + 18 * x2)"
   ]
  },
  {
   "cell_type": "code",
   "execution_count": null,
   "id": "PKri",
   "metadata": {},
   "outputs": [
    {
     "name": "stdout",
     "output_type": "stream",
     "text": [
      "\n",
      "Initial problem: 2 rows, 2 columns, 4 entries with magnitude in [1.000000e+00, 2.000000e+00]\n",
      "Objective stats: 2 non-zeros, range [1.500000e+01, 1.800000e+01]\n",
      "Bounds stats: 2 non-zeros, range [6.000000e+01, 6.000000e+01]\n",
      "Parameters: log_search_progress: true\n",
      "\n",
      "Starting presolve...\n",
      "Reached fixed point after presolve pass #0\n",
      "ScalingPreprocessor                          : 2(0) rows, 2(0) columns, 4(0) entries. (0.000001s)\n",
      "\n",
      "Presolved problem: 2 rows, 2 columns, 4 entries with magnitude in [5.000000e-01, 1.000000e+00]\n",
      "Objective stats: 2 non-zeros, range [1.000000e+00, 1.200000e+00]\n",
      "Bounds stats: 2 non-zeros, range [1.000000e+00, 1.000000e+00]\n",
      "\n",
      "Starting basis: create from scratch.\n",
      "Crash is set to 2 but there is no equality rows to remove from initial all slack basis. Starting from there.\n",
      "The matrix with slacks has 2 rows, 4 columns, 6 entries.\n",
      "Number of basic infeasible variables: 0\n",
      "Number of basic slack variables: 2\n",
      "Number of basic variables at bound: 0\n",
      "Number of basic fixed variables: 0\n",
      "Number of basic free variables: 0\n",
      "Number of super-basic variables: 0\n",
      "\n",
      "Primal feasibility phase, iteration # 0, sum_primal_infeasibilities = 0.000000000000000E+00 [norms]\n",
      "Current status: PRIMAL_FEASIBLE\n",
      "Primal infeasibility (bounds) = 0\n",
      "Primal residual |A.x - b| = 0\n",
      "Dual infeasibility (reduced costs) = 1.2\n",
      "Dual residual |c_B - y.B| = 0\n",
      "\n",
      "Primal optimization phase, iteration # 0, objective = -0.000000000000000E+00\n",
      "Primal optimization phase, iteration # 2, objective = 6.600000000000000E+02 [check]\n",
      "Current status: OPTIMAL\n",
      "Primal infeasibility (bounds) = 0\n",
      "Primal residual |A.x - b| = 0\n",
      "Dual infeasibility (reduced costs) = 0\n",
      "Dual residual |c_B - y.B| = 0\n",
      "\n",
      "Final unscaled solution:\n",
      "Primal objective (before moving primal/dual values) = 6.600000000000000E+02\n",
      "Dual objective (before moving primal/dual values) = 6.600000000000000E+02\n",
      "Max. primal values move = 0\n",
      "Max. dual values move = 0\n",
      "Primal objective (after moving primal/dual values) = 6.600000000000000E+02\n",
      "Max. rhs perturbation = 7.10543e-15\n",
      "Max. cost perturbation = 1.77636e-15\n",
      "Max. primal infeasibility = 0\n",
      "Max. dual infeasibility = 1.77636e-15\n",
      "Objective error <= 0.00066\n",
      "status: OPTIMAL\n",
      "objective: 660\n",
      "iterations: 2\n",
      "time: 0.001995\n",
      "deterministic_time: 3.18e-07\n",
      "\n"
     ]
    }
   ],
   "source": [
    "params = mathopt.SolveParameters(enable_output=True)\n",
    "result = mathopt.solve(model, mathopt.SolverType.GLOP, params=params)\n",
    "if result.termination.reason != mathopt.TerminationReason.OPTIMAL:\n",
    "    raise RuntimeError(f\"model failed to solve: {result.termination}\")"
   ]
  },
  {
   "cell_type": "code",
   "execution_count": null,
   "id": "Xref",
   "metadata": {},
   "outputs": [
    {
     "name": "stdout",
     "output_type": "stream",
     "text": [
      "x1 = 19.999999999999996\n",
      "x2 = 20.0\n",
      "objective = 660.0\n"
     ]
    }
   ],
   "source": [
    "print(f\"x1 = {result.variable_values()[x1]}\")\n",
    "print(f\"x2 = {result.variable_values()[x2]}\")\n",
    "print(f\"objective = {result.objective_value()}\")"
   ]
  }
 ],
 "metadata": {},
 "nbformat": 4,
 "nbformat_minor": 5
}
