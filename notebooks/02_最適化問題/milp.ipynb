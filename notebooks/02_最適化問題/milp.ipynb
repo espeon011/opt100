{
 "cells": [
  {
   "cell_type": "markdown",
   "id": "5e983f93-f273-4a49-8970-7be323c8396b",
   "metadata": {},
   "source": [
    "# 整数最適化問題"
   ]
  },
  {
   "cell_type": "markdown",
   "id": "14621bdd-10c0-4a76-8d9b-2ee69e47d1df",
   "metadata": {},
   "source": [
    "\\begin{align}\n",
    "&\\text{maximize} & y + z \\\\\n",
    "&\\text{s.t.} & x + y + z = 32 \\\\\n",
    "& & 2 x + 4 y + 8 z \\leq 80 \\\\\n",
    "& & x, y, z \\in \\mathbb{Z}_{\\geq 0}\n",
    "\\end{align}"
   ]
  },
  {
   "cell_type": "code",
   "execution_count": 1,
   "id": "c112dec6-4449-4570-8bf7-22507704aecb",
   "metadata": {},
   "outputs": [
    {
     "name": "stdout",
     "output_type": "stream",
     "text": [
      "(CVXPY) Nov 10 03:46:35 PM: Encountered unexpected exception importing solver GLOP:\n",
      "RuntimeError('Unrecognized new version of ortools (9.11.4210). Expected < 9.10.0. Please open a feature request on cvxpy to enable support for this version.')\n",
      "(CVXPY) Nov 10 03:46:35 PM: Encountered unexpected exception importing solver PDLP:\n",
      "RuntimeError('Unrecognized new version of ortools (9.11.4210). Expected < 9.10.0. Please open a feature request on cvxpy to enable support for this version.')\n"
     ]
    }
   ],
   "source": [
    "import cvxpy as cp"
   ]
  },
  {
   "cell_type": "code",
   "execution_count": 2,
   "id": "3c49f6b0-eff7-4c03-96b3-c5229620c1f4",
   "metadata": {},
   "outputs": [
    {
     "data": {
      "text/plain": [
       "Variable((3,), var1, integer=True)"
      ]
     },
     "execution_count": 2,
     "metadata": {},
     "output_type": "execute_result"
    }
   ],
   "source": [
    "var = cp.Variable(3, integer=True)\n",
    "x = var[0]\n",
    "y = var[1]\n",
    "z = var[2]\n",
    "\n",
    "var"
   ]
  },
  {
   "cell_type": "code",
   "execution_count": 3,
   "id": "75790746-ccb8-4fbf-9d78-557c260ade1c",
   "metadata": {},
   "outputs": [
    {
     "data": {
      "text/plain": [
       "[Inequality(Constant(CONSTANT, ZERO, ())),\n",
       " Equality(Expression(AFFINE, UNKNOWN, ()), Constant(CONSTANT, NONNEGATIVE, ())),\n",
       " Equality(Expression(AFFINE, UNKNOWN, ()), Constant(CONSTANT, NONNEGATIVE, ()))]"
      ]
     },
     "execution_count": 3,
     "metadata": {},
     "output_type": "execute_result"
    }
   ],
   "source": [
    "constraints = []\n",
    "constraints.append(var >= 0)\n",
    "constraints.append(cp.sum(var) == 32)\n",
    "constraints.append(2 * x + 4 * y + 8 * z == 80)\n",
    "\n",
    "constraints"
   ]
  },
  {
   "cell_type": "code",
   "execution_count": 4,
   "id": "2026993a-65e2-45b3-a397-3a80749dc630",
   "metadata": {},
   "outputs": [
    {
     "data": {
      "text/plain": [
       "Expression(AFFINE, UNKNOWN, ())"
      ]
     },
     "execution_count": 4,
     "metadata": {},
     "output_type": "execute_result"
    }
   ],
   "source": [
    "objective = y + z\n",
    "\n",
    "objective"
   ]
  },
  {
   "cell_type": "code",
   "execution_count": 5,
   "id": "8b194e7c-05b4-4a0a-b345-5041c05a41e9",
   "metadata": {},
   "outputs": [
    {
     "data": {
      "text/plain": [
       "Problem(Minimize(Expression(AFFINE, UNKNOWN, ())), [Inequality(Constant(CONSTANT, ZERO, ())), Equality(Expression(AFFINE, UNKNOWN, ()), Constant(CONSTANT, NONNEGATIVE, ())), Equality(Expression(AFFINE, UNKNOWN, ()), Constant(CONSTANT, NONNEGATIVE, ()))])"
      ]
     },
     "execution_count": 5,
     "metadata": {},
     "output_type": "execute_result"
    }
   ],
   "source": [
    "problem = cp.Problem(cp.Minimize(objective), constraints)\n",
    "\n",
    "problem"
   ]
  },
  {
   "cell_type": "code",
   "execution_count": 6,
   "id": "445d72ae-e430-4e1f-a25f-5e66da8febdc",
   "metadata": {},
   "outputs": [
    {
     "name": "stdout",
     "output_type": "stream",
     "text": [
      "===============================================================================\n",
      "                                     CVXPY                                     \n",
      "                                     v1.5.3                                    \n",
      "===============================================================================\n",
      "(CVXPY) Nov 10 03:46:35 PM: Your problem has 3 variables, 5 constraints, and 0 parameters.\n",
      "(CVXPY) Nov 10 03:46:35 PM: It is compliant with the following grammars: DCP, DQCP\n",
      "(CVXPY) Nov 10 03:46:35 PM: (If you need to solve this problem multiple times, but with different data, consider using parameters.)\n",
      "(CVXPY) Nov 10 03:46:35 PM: CVXPY will first compile your problem; then, it will invoke a numerical solver to obtain a solution.\n",
      "(CVXPY) Nov 10 03:46:35 PM: Your problem is compiled with the CPP canonicalization backend.\n",
      "-------------------------------------------------------------------------------\n",
      "                                  Compilation                                  \n",
      "-------------------------------------------------------------------------------\n",
      "(CVXPY) Nov 10 03:46:35 PM: Compiling problem (target solver=SCIP).\n",
      "(CVXPY) Nov 10 03:46:35 PM: Reduction chain: Dcp2Cone -> CvxAttr2Constr -> ConeMatrixStuffing -> SCIP\n",
      "(CVXPY) Nov 10 03:46:35 PM: Applying reduction Dcp2Cone\n",
      "(CVXPY) Nov 10 03:46:35 PM: Applying reduction CvxAttr2Constr\n",
      "(CVXPY) Nov 10 03:46:35 PM: Applying reduction ConeMatrixStuffing\n",
      "(CVXPY) Nov 10 03:46:35 PM: Applying reduction SCIP\n",
      "(CVXPY) Nov 10 03:46:35 PM: Finished problem compilation (took 3.447e-03 seconds).\n",
      "-------------------------------------------------------------------------------\n",
      "                                Numerical solver                               \n",
      "-------------------------------------------------------------------------------\n",
      "(CVXPY) Nov 10 03:46:35 PM: Invoking solver SCIP  to obtain a solution.\n",
      "presolving:\n",
      "(round 1, fast)       0 del vars, 3 del conss, 0 add conss, 3 chg bounds, 0 chg sides, 0 chg coeffs, 0 upgd conss, 0 impls, 0 clqs\n",
      "(round 2, fast)       0 del vars, 3 del conss, 0 add conss, 8 chg bounds, 0 chg sides, 0 chg coeffs, 0 upgd conss, 0 impls, 0 clqs\n",
      "(round 3, fast)       2 del vars, 5 del conss, 0 add conss, 12 chg bounds, 0 chg sides, 0 chg coeffs, 0 upgd conss, 0 impls, 0 clqs\n",
      "presolving (4 rounds: 4 fast, 1 medium, 1 exhaustive):\n",
      " 3 deleted vars, 5 deleted constraints, 0 added constraints, 12 tightened bounds, 0 added holes, 0 changed sides, 0 changed coefficients\n",
      " 0 implications, 0 cliques\n",
      "transformed 1/1 original solutions to the transformed problem space\n",
      "Presolving Time: 0.00\n",
      "\n",
      "SCIP Status        : problem is solved [optimal solution found]\n",
      "Solving Time (sec) : 0.00\n",
      "Solving Nodes      : 0\n",
      "Primal Bound       : +4.00000000000000e+00 (1 solutions)\n",
      "Dual Bound         : +4.00000000000000e+00\n",
      "Gap                : 0.00 %\n",
      "-------------------------------------------------------------------------------\n",
      "                                    Summary                                    \n",
      "-------------------------------------------------------------------------------\n",
      "(CVXPY) Nov 10 03:46:35 PM: Problem status: optimal\n",
      "(CVXPY) Nov 10 03:46:35 PM: Optimal value: 4.000e+00\n",
      "(CVXPY) Nov 10 03:46:35 PM: Compilation took 3.447e-03 seconds\n",
      "(CVXPY) Nov 10 03:46:35 PM: Solver (including time spent in interface) took 2.098e-03 seconds\n"
     ]
    },
    {
     "data": {
      "text/plain": [
       "np.float64(4.0)"
      ]
     },
     "execution_count": 6,
     "metadata": {},
     "output_type": "execute_result"
    }
   ],
   "source": [
    "result = problem.solve(verbose=True)\n",
    "\n",
    "result"
   ]
  },
  {
   "cell_type": "code",
   "execution_count": 7,
   "id": "05b53d01-f168-4ad4-a6f0-d85906519076",
   "metadata": {},
   "outputs": [
    {
     "name": "stdout",
     "output_type": "stream",
     "text": [
      "x = 28.0\n",
      "y = 2.0\n",
      "z = 2.0\n",
      "objective = 4.0\n"
     ]
    }
   ],
   "source": [
    "print(f\"x = {x.value}\")\n",
    "print(f\"y = {y.value}\")\n",
    "print(f\"z = {z.value}\")\n",
    "print(f\"objective = {objective.value}\")"
   ]
  },
  {
   "cell_type": "code",
   "execution_count": null,
   "id": "eb77e9e6-4996-475c-a694-ad2e0cbe78c3",
   "metadata": {},
   "outputs": [],
   "source": []
  }
 ],
 "metadata": {
  "kernelspec": {
   "display_name": "Python 3 (ipykernel)",
   "language": "python",
   "name": "python3"
  },
  "language_info": {
   "codemirror_mode": {
    "name": "ipython",
    "version": 3
   },
   "file_extension": ".py",
   "mimetype": "text/x-python",
   "name": "python",
   "nbconvert_exporter": "python",
   "pygments_lexer": "ipython3",
   "version": "3.12.2"
  }
 },
 "nbformat": 4,
 "nbformat_minor": 5
}
