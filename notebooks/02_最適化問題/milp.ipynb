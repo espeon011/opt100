{
 "cells": [
  {
   "cell_type": "code",
   "execution_count": null,
   "id": "Hbol",
   "metadata": {},
   "outputs": [],
   "source": [
    "import marimo as mo"
   ]
  },
  {
   "cell_type": "markdown",
   "id": "MJUe",
   "metadata": {
    "marimo": {
     "config": {
      "hide_code": true
     }
    }
   },
   "source": [
    "# 整数最適化問題"
   ]
  },
  {
   "cell_type": "markdown",
   "id": "vblA",
   "metadata": {
    "marimo": {
     "config": {
      "hide_code": true
     }
    }
   },
   "source": [
    "\\begin{align}\n",
    "&\\text{maximize} & y + z \\\\\n",
    "&\\text{s.t.} & x + y + z = 32 \\\\\n",
    "& & 2 x + 4 y + 8 z \\leq 80 \\\\\n",
    "& & x, y, z \\in \\mathbb{Z}_{\\geq 0}\n",
    "\\end{align}"
   ]
  },
  {
   "cell_type": "code",
   "execution_count": null,
   "id": "bkHC",
   "metadata": {},
   "outputs": [],
   "source": [
    "from ortools.math_opt.python import mathopt"
   ]
  },
  {
   "cell_type": "code",
   "execution_count": null,
   "id": "lEQa",
   "metadata": {},
   "outputs": [],
   "source": [
    "model = mathopt.Model(name=\"getting_started_milp\")\n",
    "x = model.add_integer_variable(lb=0, name=\"x\")\n",
    "y = model.add_integer_variable(lb=0, name=\"y\")\n",
    "z = model.add_integer_variable(lb=0, name=\"z\")\n",
    "\n",
    "model.add_linear_constraint(x + y + z == 32)\n",
    "model.add_linear_constraint(2 * x + 4 * y + 8 * z <= 80)\n",
    "\n",
    "model.maximize(y + z)"
   ]
  },
  {
   "cell_type": "code",
   "execution_count": null,
   "id": "PKri",
   "metadata": {},
   "outputs": [
    {
     "name": "stdout",
     "output_type": "stream",
     "text": [
      "Coefficient ranges:\n",
      "  Matrix [1e+00, 8e+00]\n",
      "  Cost   [1e+00, 1e+00]\n",
      "  Bound  [0e+00, 0e+00]\n",
      "  RHS    [3e+01, 8e+01]\n",
      "Presolving model\n",
      "2 rows, 3 cols, 6 nonzeros  0s\n",
      "1 rows, 2 cols, 2 nonzeros  0s\n",
      "0 rows, 1 cols, 0 nonzeros  0s\n",
      "0 rows, 0 cols, 0 nonzeros  0s\n",
      "Presolve: Optimal\n",
      "\n",
      "Solving report\n",
      "  Status            Optimal\n",
      "  Primal bound      8\n",
      "  Dual bound        8\n",
      "  Gap               0% (tolerance: 0.01%)\n",
      "  Solution status   feasible\n",
      "                    8 (objective)\n",
      "                    0 (bound viol.)\n",
      "                    0 (int. viol.)\n",
      "                    0 (row viol.)\n",
      "  Timing            0.00 (total)\n",
      "                    0.00 (presolve)\n",
      "                    0.00 (postsolve)\n",
      "  Nodes             0\n",
      "  LP iterations     0 (total)\n",
      "                    0 (strong br.)\n",
      "                    0 (separation)\n",
      "                    0 (heuristics)\n"
     ]
    }
   ],
   "source": [
    "params = mathopt.SolveParameters(enable_output=True)\n",
    "result = mathopt.solve(model, mathopt.SolverType.HIGHS, params=params)\n",
    "if result.termination.reason != mathopt.TerminationReason.OPTIMAL:\n",
    "    raise RuntimeError(f\"model failed to solve: {result.termination}\")"
   ]
  },
  {
   "cell_type": "code",
   "execution_count": null,
   "id": "Xref",
   "metadata": {},
   "outputs": [
    {
     "name": "stdout",
     "output_type": "stream",
     "text": [
      "x = 24.0\n",
      "y = 8.0\n",
      "z = 0.0\n",
      "objective = 8.0\n"
     ]
    }
   ],
   "source": [
    "print(f\"x = {result.variable_values()[x]}\")\n",
    "print(f\"y = {result.variable_values()[y]}\")\n",
    "print(f\"z = {result.variable_values()[z]}\")\n",
    "print(f\"objective = {result.objective_value()}\")"
   ]
  },
  {
   "cell_type": "code",
   "execution_count": null,
   "id": "SFPL",
   "metadata": {},
   "outputs": [],
   "source": []
  }
 ],
 "metadata": {},
 "nbformat": 4,
 "nbformat_minor": 5
}
