{
 "cells": [
  {
   "cell_type": "markdown",
   "id": "be763c56-10c7-4b6a-b11a-d7bde87c8f01",
   "metadata": {},
   "source": [
    "# 錐最適化問題"
   ]
  },
  {
   "cell_type": "markdown",
   "id": "63e1bae3-3986-40f8-b8a8-a537400eb88f",
   "metadata": {},
   "source": [
    "\\begin{align}\n",
    "&\\text{maximize} & 2 x + 2 y + z \\\\\n",
    "&\\text{s.t.} & x^2 + y^2 \\leq z^2 \\\\\n",
    "& & 2 x + 3 y + 4 z \\leq 10 \\\\\n",
    "& & x, y, z \\geq 0\n",
    "\\end{align}"
   ]
  },
  {
   "cell_type": "code",
   "execution_count": 1,
   "id": "94ea6203-304c-41aa-9c0d-4cc51c258885",
   "metadata": {},
   "outputs": [
    {
     "name": "stdout",
     "output_type": "stream",
     "text": [
      "(CVXPY) Nov 10 03:46:56 PM: Encountered unexpected exception importing solver GLOP:\n",
      "RuntimeError('Unrecognized new version of ortools (9.11.4210). Expected < 9.10.0. Please open a feature request on cvxpy to enable support for this version.')\n",
      "(CVXPY) Nov 10 03:46:56 PM: Encountered unexpected exception importing solver PDLP:\n",
      "RuntimeError('Unrecognized new version of ortools (9.11.4210). Expected < 9.10.0. Please open a feature request on cvxpy to enable support for this version.')\n"
     ]
    }
   ],
   "source": [
    "import cvxpy as cp"
   ]
  },
  {
   "cell_type": "code",
   "execution_count": 2,
   "id": "d3d038ad-6517-4699-8827-22a22dcf6ff9",
   "metadata": {},
   "outputs": [
    {
     "data": {
      "text/plain": [
       "Variable((3,), var1, nonneg=True)"
      ]
     },
     "execution_count": 2,
     "metadata": {},
     "output_type": "execute_result"
    }
   ],
   "source": [
    "var = cp.Variable(3, nonneg=True)\n",
    "x = var[0]\n",
    "y = var[1]\n",
    "z = var[2]\n",
    "xy = var[0:2]\n",
    "\n",
    "var"
   ]
  },
  {
   "cell_type": "code",
   "execution_count": 3,
   "id": "3d15d3e4-dfc2-48c7-bf4a-17a5e0d91fe0",
   "metadata": {},
   "outputs": [
    {
     "data": {
      "text/plain": [
       "[SOC(Expression(AFFINE, NONNEGATIVE, (1,))),\n",
       " Inequality(Expression(AFFINE, NONNEGATIVE, ()))]"
      ]
     },
     "execution_count": 3,
     "metadata": {},
     "output_type": "execute_result"
    }
   ],
   "source": [
    "constraints = []\n",
    "# constraints.append(x**2 + y**2 <= z**2) # これはできない\n",
    "constraints.append(cp.SOC(z, xy))  # x^2 + y^2 <= z^2\n",
    "constraints.append(2 * x + 3 * y + 4 * z <= 10)\n",
    "\n",
    "constraints"
   ]
  },
  {
   "cell_type": "code",
   "execution_count": 4,
   "id": "cf0b27d2-98db-4ec8-b1cd-43da29d82fde",
   "metadata": {},
   "outputs": [
    {
     "data": {
      "text/plain": [
       "Expression(AFFINE, NONNEGATIVE, ())"
      ]
     },
     "execution_count": 4,
     "metadata": {},
     "output_type": "execute_result"
    }
   ],
   "source": [
    "objective = 2 * x + 2 * y + z\n",
    "\n",
    "objective"
   ]
  },
  {
   "cell_type": "code",
   "execution_count": 5,
   "id": "9230c1da-e727-4a9a-89c8-9e9cdf2ab1d1",
   "metadata": {},
   "outputs": [
    {
     "data": {
      "text/plain": [
       "Problem(Maximize(Expression(AFFINE, NONNEGATIVE, ())), [SOC(Expression(AFFINE, NONNEGATIVE, (1,))), Inequality(Expression(AFFINE, NONNEGATIVE, ()))])"
      ]
     },
     "execution_count": 5,
     "metadata": {},
     "output_type": "execute_result"
    }
   ],
   "source": [
    "problem = cp.Problem(cp.Maximize(objective), constraints)\n",
    "\n",
    "problem"
   ]
  },
  {
   "cell_type": "code",
   "execution_count": 6,
   "id": "9fe6c8cf-15de-4f98-b46d-83185bc30529",
   "metadata": {},
   "outputs": [
    {
     "name": "stdout",
     "output_type": "stream",
     "text": [
      "===============================================================================\n",
      "                                     CVXPY                                     \n",
      "                                     v1.5.3                                    \n",
      "===============================================================================\n",
      "(CVXPY) Nov 10 03:46:56 PM: Your problem has 3 variables, 2 constraints, and 0 parameters.\n",
      "(CVXPY) Nov 10 03:46:56 PM: It is compliant with the following grammars: DCP, DQCP\n",
      "(CVXPY) Nov 10 03:46:56 PM: (If you need to solve this problem multiple times, but with different data, consider using parameters.)\n",
      "(CVXPY) Nov 10 03:46:56 PM: CVXPY will first compile your problem; then, it will invoke a numerical solver to obtain a solution.\n",
      "(CVXPY) Nov 10 03:46:56 PM: Your problem is compiled with the CPP canonicalization backend.\n",
      "-------------------------------------------------------------------------------\n",
      "                                  Compilation                                  \n",
      "-------------------------------------------------------------------------------\n",
      "(CVXPY) Nov 10 03:46:56 PM: Compiling problem (target solver=CLARABEL).\n",
      "(CVXPY) Nov 10 03:46:56 PM: Reduction chain: FlipObjective -> Dcp2Cone -> CvxAttr2Constr -> ConeMatrixStuffing -> CLARABEL\n",
      "(CVXPY) Nov 10 03:46:56 PM: Applying reduction FlipObjective\n",
      "(CVXPY) Nov 10 03:46:56 PM: Applying reduction Dcp2Cone\n",
      "(CVXPY) Nov 10 03:46:56 PM: Applying reduction CvxAttr2Constr\n",
      "(CVXPY) Nov 10 03:46:56 PM: Applying reduction ConeMatrixStuffing\n",
      "(CVXPY) Nov 10 03:46:56 PM: Applying reduction CLARABEL\n",
      "(CVXPY) Nov 10 03:46:56 PM: Finished problem compilation (took 3.926e-03 seconds).\n",
      "-------------------------------------------------------------------------------\n",
      "                                Numerical solver                               \n",
      "-------------------------------------------------------------------------------\n",
      "(CVXPY) Nov 10 03:46:56 PM: Invoking solver CLARABEL  to obtain a solution.\n",
      "-------------------------------------------------------------\n",
      "           Clarabel.rs v0.9.0  -  Clever Acronym                \n",
      "\n",
      "                   (c) Paul Goulart                          \n",
      "                University of Oxford, 2022                   \n",
      "-------------------------------------------------------------\n",
      "\n",
      "problem:\n",
      "  variables     = 3\n",
      "  constraints   = 7\n",
      "  nnz(P)        = 0\n",
      "  nnz(A)        = 9\n",
      "  cones (total) = 2\n",
      "    : Nonnegative = 1,  numel = 4\n",
      "    : SecondOrder = 1,  numel = 3\n",
      "\n",
      "settings:\n",
      "  linear algebra: direct / qdldl, precision: 64 bit\n",
      "  max iter = 200, time limit = Inf,  max step = 0.990\n",
      "  tol_feas = 1.0e-8, tol_gap_abs = 1.0e-8, tol_gap_rel = 1.0e-8,\n",
      "  static reg : on, ϵ1 = 1.0e-8, ϵ2 = 4.9e-32\n",
      "  dynamic reg: on, ϵ = 1.0e-13, δ = 2.0e-7\n",
      "  iter refine: on, reltol = 1.0e-13, abstol = 1.0e-12,\n",
      "               max iter = 10, stop ratio = 5.0\n",
      "  equilibrate: on, min_scale = 1.0e-4, max_scale = 1.0e4\n",
      "               max iter = 10\n",
      "\n",
      "iter    pcost        dcost       gap       pres      dres      k/t        μ       step      \n",
      "---------------------------------------------------------------------------------------------\n",
      "  0  -3.0990e+00  -1.1112e+01  2.59e+00  1.54e-01  2.53e-01  1.00e+00  3.57e+00   ------   \n",
      "  1  -4.3720e+00  -5.3709e+00  2.28e-01  2.34e-02  3.60e-02  2.00e-01  6.59e-01  8.44e-01  \n",
      "  2  -5.1342e+00  -5.1894e+00  1.07e-02  1.33e-03  1.95e-03  1.54e-02  3.94e-02  9.53e-01  \n",
      "  3  -5.1652e+00  -5.1711e+00  1.15e-03  1.52e-04  2.22e-04  2.19e-03  4.53e-03  9.78e-01  \n",
      "  4  -5.1660e+00  -5.1663e+00  4.80e-05  6.35e-06  9.28e-06  9.13e-05  1.89e-04  9.58e-01  \n",
      "  5  -5.1661e+00  -5.1661e+00  5.08e-06  6.82e-07  9.97e-07  1.02e-05  2.04e-05  9.90e-01  \n",
      "  6  -5.1661e+00  -5.1661e+00  1.64e-07  2.20e-08  3.22e-08  3.29e-07  6.57e-07  9.68e-01  \n",
      "  7  -5.1661e+00  -5.1661e+00  1.09e-08  1.47e-09  2.15e-09  2.20e-08  4.38e-08  9.46e-01  \n",
      "  8  -5.1661e+00  -5.1661e+00  1.20e-10  1.61e-11  2.35e-11  2.41e-10  4.81e-10  9.90e-01  \n",
      "---------------------------------------------------------------------------------------------\n",
      "Terminated with status = Solved\n",
      "solve time = 60.291µs\n",
      "-------------------------------------------------------------------------------\n",
      "                                    Summary                                    \n",
      "-------------------------------------------------------------------------------\n",
      "(CVXPY) Nov 10 03:46:56 PM: Problem status: optimal\n",
      "(CVXPY) Nov 10 03:46:56 PM: Optimal value: 5.166e+00\n",
      "(CVXPY) Nov 10 03:46:56 PM: Compilation took 3.926e-03 seconds\n",
      "(CVXPY) Nov 10 03:46:56 PM: Solver (including time spent in interface) took 3.831e-04 seconds\n"
     ]
    },
    {
     "data": {
      "text/plain": [
       "np.float64(5.166114783969634)"
      ]
     },
     "execution_count": 6,
     "metadata": {},
     "output_type": "execute_result"
    }
   ],
   "source": [
    "result = problem.solve(verbose=True)\n",
    "\n",
    "result"
   ]
  },
  {
   "cell_type": "code",
   "execution_count": 7,
   "id": "a7a6455c-d6f1-4f1c-b5f2-47cdebff5518",
   "metadata": {},
   "outputs": [
    {
     "name": "stdout",
     "output_type": "stream",
     "text": [
      "x = 1.2805262157644564\n",
      "y = 0.5962603683028201\n",
      "z = 1.4125416158350816\n",
      "objective = 5.166114783969634\n",
      "x^2 + y^2 <= z^2 ?: True\n"
     ]
    }
   ],
   "source": [
    "print(f\"x = {x.value}\")\n",
    "print(f\"y = {y.value}\")\n",
    "print(f\"z = {z.value}\")\n",
    "print(f\"objective = {objective.value}\")\n",
    "print(f\"x^2 + y^2 <= z^2 ?: {x.value ** 2 + y.value ** 2 <= z.value ** 2}\")"
   ]
  },
  {
   "cell_type": "code",
   "execution_count": 8,
   "id": "49ea2d6a-2b89-474c-a14d-d26f22ffbd06",
   "metadata": {},
   "outputs": [
    {
     "name": "stdout",
     "output_type": "stream",
     "text": [
      "(CVXPY) Nov 10 03:46:56 PM: Encountered unexpected exception importing solver GLOP:\n",
      "RuntimeError('Unrecognized new version of ortools (9.11.4210). Expected < 9.10.0. Please open a feature request on cvxpy to enable support for this version.')\n",
      "(CVXPY) Nov 10 03:46:56 PM: Encountered unexpected exception importing solver PDLP:\n",
      "RuntimeError('Unrecognized new version of ortools (9.11.4210). Expected < 9.10.0. Please open a feature request on cvxpy to enable support for this version.')\n"
     ]
    },
    {
     "data": {
      "text/plain": [
       "['CLARABEL', 'ECOS', 'ECOS_BB', 'OSQP', 'SCIP', 'SCIPY', 'SCS']"
      ]
     },
     "execution_count": 8,
     "metadata": {},
     "output_type": "execute_result"
    }
   ],
   "source": [
    "cp.installed_solvers()"
   ]
  },
  {
   "cell_type": "code",
   "execution_count": null,
   "id": "070cc3be-7c31-4486-9e3d-76d31d637734",
   "metadata": {},
   "outputs": [],
   "source": []
  }
 ],
 "metadata": {
  "kernelspec": {
   "display_name": "Python 3 (ipykernel)",
   "language": "python",
   "name": "python3"
  },
  "language_info": {
   "codemirror_mode": {
    "name": "ipython",
    "version": 3
   },
   "file_extension": ".py",
   "mimetype": "text/x-python",
   "name": "python",
   "nbconvert_exporter": "python",
   "pygments_lexer": "ipython3",
   "version": "3.12.2"
  }
 },
 "nbformat": 4,
 "nbformat_minor": 5
}
