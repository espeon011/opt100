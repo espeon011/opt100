{
 "cells": [
  {
   "cell_type": "code",
   "execution_count": null,
   "id": "Hbol",
   "metadata": {},
   "outputs": [],
   "source": [
    "import marimo as mo"
   ]
  },
  {
   "cell_type": "markdown",
   "id": "MJUe",
   "metadata": {
    "marimo": {
     "config": {
      "hide_code": true
     }
    }
   },
   "source": [
    "# 錐最適化問題"
   ]
  },
  {
   "cell_type": "markdown",
   "id": "vblA",
   "metadata": {
    "marimo": {
     "config": {
      "hide_code": true
     }
    }
   },
   "source": [
    "\\begin{align}\n",
    "&\\text{maximize} & 2 x + 2 y + z \\\\\n",
    "&\\text{s.t.} & x^2 + y^2 \\leq z^2 \\\\\n",
    "& & 2 x + 3 y + 4 z \\leq 10 \\\\\n",
    "& & x, y, z \\geq 0\n",
    "\\end{align}"
   ]
  },
  {
   "cell_type": "code",
   "execution_count": null,
   "id": "bkHC",
   "metadata": {},
   "outputs": [],
   "source": [
    "from pyscipopt import Model"
   ]
  },
  {
   "cell_type": "code",
   "execution_count": null,
   "id": "lEQa",
   "metadata": {},
   "outputs": [
    {
     "name": "stdout",
     "output_type": "stream",
     "text": [
      "feasible solution found by trivial heuristic after 0.0 seconds, objective value 0.000000e+00\n",
      "presolving:\n",
      "(round 1, fast)       0 del vars, 0 del conss, 0 add conss, 5 chg bounds, 0 chg sides, 0 chg coeffs, 0 upgd conss, 0 impls, 0 clqs\n",
      "   (0.0s) symmetry computation started: requiring (bin +, int +, cont +), (fixed: bin -, int -, cont -)\n",
      "   (0.0s) no symmetry present (symcode time: 0.00)\n",
      "presolving (2 rounds: 2 fast, 1 medium, 1 exhaustive):\n",
      " 0 deleted vars, 0 deleted constraints, 0 added constraints, 5 tightened bounds, 0 added holes, 0 changed sides, 0 changed coefficients\n",
      " 0 implications, 0 cliques\n",
      "presolved problem has 3 variables (0 bin, 0 int, 0 impl, 3 cont) and 2 constraints\n",
      "      1 constraints of type <linear>\n",
      "      1 constraints of type <nonlinear>\n",
      "Presolving Time: 0.00\n",
      "transformed 1/1 original solutions to the transformed problem space\n",
      "\n",
      " time | node  | left  |LP iter|LP it/n|mem/heur|mdpt |vars |cons |rows |cuts |sepa|confs|strbr|  dualbound   | primalbound  |  gap   | compl. \n",
      "t 0.0s|     1 |     0 |     0 |     - | trivial|   0 |   3 |   2 |   0 |   0 |  0 |   0 |   0 | 1.250000e+01 | 1.250000e+00 | 900.00%| unknown\n",
      "  0.0s|     1 |     0 |     3 |     - |   631k |   0 |   4 |   2 |   3 |   0 |  0 |   0 |   0 | 5.606602e+00 | 1.250000e+00 | 348.53%| unknown\n",
      "L 0.0s|     1 |     0 |     3 |     - |  subnlp|   0 |   4 |   2 |   3 |   0 |  0 |   0 |   0 | 5.606602e+00 | 5.166115e+00 |   8.53%| unknown\n",
      "  0.0s|     1 |     0 |     4 |     - |   635k |   0 |   4 |   2 |   4 |   1 |  1 |   0 |   0 | 5.285955e+00 | 5.166115e+00 |   2.32%| unknown\n",
      "  0.0s|     1 |     0 |     5 |     - |   635k |   0 |   4 |   2 |   5 |   2 |  2 |   0 |   0 | 5.177131e+00 | 5.166115e+00 |   0.21%| unknown\n",
      "  0.0s|     1 |     0 |     6 |     - |   635k |   0 |   4 |   2 |   6 |   3 |  3 |   0 |   0 | 5.171028e+00 | 5.166115e+00 |   0.10%| unknown\n",
      "  0.0s|     1 |     0 |     7 |     - |   635k |   0 |   4 |   2 |   7 |   4 |  4 |   0 |   0 | 5.167901e+00 | 5.166115e+00 |   0.03%| unknown\n",
      "  0.0s|     1 |     0 |     8 |     - |   635k |   0 |   4 |   2 |   8 |   5 |  5 |   0 |   0 | 5.166311e+00 | 5.166115e+00 |   0.00%| unknown\n",
      "  0.0s|     1 |     0 |     9 |     - |   635k |   0 |   4 |   2 |   9 |   6 |  6 |   0 |   0 | 5.166199e+00 | 5.166115e+00 |   0.00%| unknown\n",
      "  0.0s|     1 |     0 |    10 |     - |   641k |   0 |   4 |   2 |  10 |   7 |  7 |   0 |   0 | 5.166143e+00 | 5.166115e+00 |   0.00%| unknown\n",
      "  0.0s|     1 |     0 |    11 |     - |   641k |   0 |   4 |   2 |  11 |   8 |  8 |   0 |   0 | 5.166115e+00 | 5.166115e+00 |   0.00%| unknown\n",
      "  0.0s|     1 |     0 |    12 |     - |   679k |   0 |   4 |   2 |  12 |   9 |  9 |   0 |   0 | 5.166115e+00 | 5.166115e+00 |   0.00%| unknown\n",
      "  0.0s|     1 |     0 |    13 |     - |   679k |   0 |   4 |   2 |  13 |  10 | 10 |   0 |   0 | 5.166115e+00 | 5.166115e+00 |   0.00%| unknown\n",
      "  0.0s|     1 |     0 |    13 |     - |   679k |   0 |   4 |   2 |  13 |  10 | 11 |   0 |   0 | 5.166115e+00 | 5.166115e+00 |   0.00%| unknown\n",
      "  0.0s|     1 |     0 |    14 |     - |   681k |   0 |   4 |   2 |  13 |  11 | 12 |   0 |   0 | 5.166115e+00 | 5.166115e+00 |   0.00%| unknown\n",
      " time | node  | left  |LP iter|LP it/n|mem/heur|mdpt |vars |cons |rows |cuts |sepa|confs|strbr|  dualbound   | primalbound  |  gap   | compl. \n",
      "* 0.0s|     1 |     0 |    14 |     - |    LP  |   0 |   4 |   2 |  13 |  11 | 13 |   0 |   0 | 5.166115e+00 | 5.166115e+00 |   0.00%| unknown\n",
      "\n",
      "SCIP Status        : problem is solved [optimal solution found]\n",
      "Solving Time (sec) : 0.02\n",
      "Solving Nodes      : 1\n",
      "Primal Bound       : +5.16611484637208e+00 (4 solutions)\n",
      "Dual Bound         : +5.16611484637208e+00\n",
      "Gap                : 0.00 %\n"
     ]
    }
   ],
   "source": [
    "model = Model()\n",
    "\n",
    "x = model.addVar(vtype='C', lb=0, ub=None, name='x')\n",
    "y = model.addVar(vtype='C', lb=0, ub=None, name='y')\n",
    "z = model.addVar(vtype='C', lb=0, ub=None, name='z')\n",
    "\n",
    "cons_lin = model.addCons(2 * x + 3 * y + 4 * z <= 10)\n",
    "cons_socp = model.addCons(x * x + y * y <= z * z)\n",
    "\n",
    "model.setObjective(2 * x + 2 * y + z, sense=\"maximize\")\n",
    "\n",
    "model.optimize()"
   ]
  },
  {
   "cell_type": "code",
   "execution_count": null,
   "id": "PKri",
   "metadata": {},
   "outputs": [
    {
     "name": "stdout",
     "output_type": "stream",
     "text": [
      "x = 1.2802898166486563\n",
      "y = 0.5965440971192746\n",
      "z = 1.4124470188362162\n",
      "objective = 5.166114846372078\n",
      "x^2 + y^2 <= z^2 ?: False\n"
     ]
    }
   ],
   "source": [
    "x_val = model.getVal(x)\n",
    "y_val = model.getVal(y)\n",
    "z_val = model.getVal(z)\n",
    "\n",
    "print(f\"x = {x_val}\")\n",
    "print(f\"y = {y_val}\")\n",
    "print(f\"z = {z_val}\")\n",
    "print(f\"objective = {model.getObjVal()}\")\n",
    "\n",
    "# SCIP の連続変数の最適解は微妙に制約を破っていたりする\n",
    "print(f\"x^2 + y^2 <= z^2 ?: {x_val ** 2 + y_val ** 2 <= z_val ** 2}\")"
   ]
  }
 ],
 "metadata": {},
 "nbformat": 4,
 "nbformat_minor": 5
}
