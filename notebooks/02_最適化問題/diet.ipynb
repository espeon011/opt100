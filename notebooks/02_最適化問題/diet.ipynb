{
 "cells": [
  {
   "cell_type": "markdown",
   "id": "f82c74cf-6095-427c-ba54-3c506e01b0d6",
   "metadata": {},
   "source": [
    "# 栄養問題"
   ]
  },
  {
   "cell_type": "markdown",
   "id": "13a8ec4c-a7ab-40d2-ac78-55b5dd8535c6",
   "metadata": {},
   "source": [
    "- 定数\n",
    "  - $F$: 商品の集合\n",
    "  - $N$: 栄養素の集合\n",
    "  - $a_i$: 栄養素 $i$ の 1 日の摂取量の下限\n",
    "  - $b_i$: 栄養素 $i$ の 1 日の摂取量の上限\n",
    "  - $c_j$: 商品 $j$ の価格\n",
    "  - $n_{ij}$: 商品 $j$ に含まれる栄養素 $i$ の量\n",
    "- 決定変数\n",
    "  - $x_j \\in \\mathbb{R}_{\\geq 0}$: 商品 $j$ を購入する個数\n",
    "\n",
    "\\begin{align}\n",
    "&\\text{minimize} & \\sum_{j \\in F} c_j x_j \\\\\n",
    "&\\text{s.t.} & a_i \\leq \\sum_{j \\in F} n_{ij} x_j \\leq b_i \\ (\\forall i \\in N) \\\\\n",
    "& & x_j \\geq 0 \\ (\\forall j \\in F)\n",
    "\\end{align}"
   ]
  },
  {
   "cell_type": "code",
   "execution_count": 1,
   "id": "de720bc5-1840-4dec-96c8-e2e678547f33",
   "metadata": {},
   "outputs": [
    {
     "name": "stdout",
     "output_type": "stream",
     "text": [
      "(CVXPY) Nov 10 03:45:35 PM: Encountered unexpected exception importing solver GLOP:\n",
      "RuntimeError('Unrecognized new version of ortools (9.11.4210). Expected < 9.10.0. Please open a feature request on cvxpy to enable support for this version.')\n",
      "(CVXPY) Nov 10 03:45:35 PM: Encountered unexpected exception importing solver PDLP:\n",
      "RuntimeError('Unrecognized new version of ortools (9.11.4210). Expected < 9.10.0. Please open a feature request on cvxpy to enable support for this version.')\n"
     ]
    }
   ],
   "source": [
    "import cvxpy as cp\n",
    "import pandas as pd"
   ]
  },
  {
   "cell_type": "markdown",
   "id": "730b3f7d-d7dc-40a0-9d2d-574b1f36e2a6",
   "metadata": {},
   "source": [
    "## 実行不能のケース"
   ]
  },
  {
   "cell_type": "markdown",
   "id": "6d552f43-bde9-433f-b349-f6e7307dcaf9",
   "metadata": {},
   "source": [
    "\\begin{align}\n",
    "&\\text{maximize} & x_1 + x_2 \\\\\n",
    "&\\text{s.t.} & x_1 - x_2 \\leq -1 \\\\\n",
    "& & - x_1 + x_2 \\leq -1 \\\\\n",
    "& & x_1, x_2 \\geq 0\n",
    "\\end{align}"
   ]
  },
  {
   "cell_type": "code",
   "execution_count": 2,
   "id": "aac743bd-b8c1-4649-ba7a-04ca24875a96",
   "metadata": {},
   "outputs": [
    {
     "data": {
      "text/plain": [
       "Variable((2,), var1, nonneg=True)"
      ]
     },
     "execution_count": 2,
     "metadata": {},
     "output_type": "execute_result"
    }
   ],
   "source": [
    "var = cp.Variable(2, nonneg=True)\n",
    "x1 = var[0]\n",
    "x2 = var[1]\n",
    "\n",
    "var"
   ]
  },
  {
   "cell_type": "code",
   "execution_count": 3,
   "id": "8f67fbb9-2b58-4bcf-89cc-4b7ea2a1f107",
   "metadata": {},
   "outputs": [
    {
     "data": {
      "text/plain": [
       "[Inequality(Expression(AFFINE, UNKNOWN, ())),\n",
       " Inequality(Expression(AFFINE, UNKNOWN, ()))]"
      ]
     },
     "execution_count": 3,
     "metadata": {},
     "output_type": "execute_result"
    }
   ],
   "source": [
    "constraints = []\n",
    "constraints.append(x1 - x2 <= -1)\n",
    "constraints.append(-x1 + x2 <= -1)\n",
    "\n",
    "constraints"
   ]
  },
  {
   "cell_type": "code",
   "execution_count": 4,
   "id": "b9c6d67e-0047-479e-bea5-d90378008ff5",
   "metadata": {},
   "outputs": [
    {
     "data": {
      "text/plain": [
       "Expression(AFFINE, NONNEGATIVE, ())"
      ]
     },
     "execution_count": 4,
     "metadata": {},
     "output_type": "execute_result"
    }
   ],
   "source": [
    "objective = x1 + x2\n",
    "\n",
    "objective"
   ]
  },
  {
   "cell_type": "code",
   "execution_count": 5,
   "id": "fa192af6-a982-43ee-affa-55cc1afa2a52",
   "metadata": {},
   "outputs": [
    {
     "data": {
      "text/plain": [
       "Problem(Maximize(Expression(AFFINE, NONNEGATIVE, ())), [Inequality(Expression(AFFINE, UNKNOWN, ())), Inequality(Expression(AFFINE, UNKNOWN, ()))])"
      ]
     },
     "execution_count": 5,
     "metadata": {},
     "output_type": "execute_result"
    }
   ],
   "source": [
    "problem = cp.Problem(cp.Maximize(objective), constraints)\n",
    "\n",
    "problem"
   ]
  },
  {
   "cell_type": "code",
   "execution_count": 6,
   "id": "dbd628ee-2141-4db3-807e-9fee0e5756fa",
   "metadata": {},
   "outputs": [
    {
     "name": "stdout",
     "output_type": "stream",
     "text": [
      "===============================================================================\n",
      "                                     CVXPY                                     \n",
      "                                     v1.5.3                                    \n",
      "===============================================================================\n",
      "(CVXPY) Nov 10 03:45:35 PM: Your problem has 2 variables, 2 constraints, and 0 parameters.\n",
      "(CVXPY) Nov 10 03:45:35 PM: It is compliant with the following grammars: DCP, DQCP\n",
      "(CVXPY) Nov 10 03:45:35 PM: (If you need to solve this problem multiple times, but with different data, consider using parameters.)\n",
      "(CVXPY) Nov 10 03:45:35 PM: CVXPY will first compile your problem; then, it will invoke a numerical solver to obtain a solution.\n",
      "(CVXPY) Nov 10 03:45:35 PM: Your problem is compiled with the CPP canonicalization backend.\n",
      "-------------------------------------------------------------------------------\n",
      "                                  Compilation                                  \n",
      "-------------------------------------------------------------------------------\n",
      "(CVXPY) Nov 10 03:45:35 PM: Compiling problem (target solver=CLARABEL).\n",
      "(CVXPY) Nov 10 03:45:35 PM: Reduction chain: FlipObjective -> Dcp2Cone -> CvxAttr2Constr -> ConeMatrixStuffing -> CLARABEL\n",
      "(CVXPY) Nov 10 03:45:35 PM: Applying reduction FlipObjective\n",
      "(CVXPY) Nov 10 03:45:35 PM: Applying reduction Dcp2Cone\n",
      "(CVXPY) Nov 10 03:45:35 PM: Applying reduction CvxAttr2Constr\n",
      "(CVXPY) Nov 10 03:45:35 PM: Applying reduction ConeMatrixStuffing\n",
      "(CVXPY) Nov 10 03:45:35 PM: Applying reduction CLARABEL\n",
      "(CVXPY) Nov 10 03:45:35 PM: Finished problem compilation (took 7.914e-03 seconds).\n",
      "-------------------------------------------------------------------------------\n",
      "                                Numerical solver                               \n",
      "-------------------------------------------------------------------------------\n",
      "(CVXPY) Nov 10 03:45:35 PM: Invoking solver CLARABEL  to obtain a solution.\n",
      "-------------------------------------------------------------\n",
      "           Clarabel.rs v0.9.0  -  Clever Acronym                \n",
      "\n",
      "                   (c) Paul Goulart                          \n",
      "                University of Oxford, 2022                   \n",
      "-------------------------------------------------------------\n",
      "\n",
      "problem:\n",
      "  variables     = 2\n",
      "  constraints   = 4\n",
      "  nnz(P)        = 0\n",
      "  nnz(A)        = 6\n",
      "  cones (total) = 1\n",
      "    : Nonnegative = 1,  numel = 4\n",
      "\n",
      "settings:\n",
      "  linear algebra: direct / qdldl, precision: 64 bit\n",
      "  max iter = 200, time limit = Inf,  max step = 0.990\n",
      "  tol_feas = 1.0e-8, tol_gap_abs = 1.0e-8, tol_gap_rel = 1.0e-8,\n",
      "  static reg : on, ϵ1 = 1.0e-8, ϵ2 = 4.9e-32\n",
      "  dynamic reg: on, ϵ = 1.0e-13, δ = 2.0e-7\n",
      "  iter refine: on, reltol = 1.0e-13, abstol = 1.0e-12,\n",
      "               max iter = 10, stop ratio = 5.0\n",
      "  equilibrate: on, min_scale = 1.0e-4, max_scale = 1.0e4\n",
      "               max iter = 10\n",
      "\n",
      "iter    pcost        dcost       gap       pres      dres      k/t        μ       step      \n",
      "---------------------------------------------------------------------------------------------\n",
      "  0  +0.0000e+00  +4.0000e+00  4.00e+00  9.61e-01  6.80e-01  1.00e+00  1.80e+00   ------   \n",
      "  1  -7.8515e+01  +2.2675e+02  3.89e+00  5.99e-01  4.24e-01  1.94e+02  6.67e-01  6.87e-01  \n",
      "  2  -2.6839e+01  +3.0384e+01  2.13e+00  8.54e-02  6.04e-02  5.46e+01  1.25e-01  9.90e-01  \n",
      "  3  -2.8613e+03  +2.8651e+03  2.00e+00  9.46e-04  6.69e-04  5.72e+03  1.35e-03  9.89e-01  \n",
      "  4  -2.8633e+05  +2.8634e+05  2.00e+00  9.46e-06  6.69e-06  5.73e+05  1.35e-05  9.90e-01  \n",
      "  5  -2.8634e+07  +2.8634e+07  2.00e+00  9.46e-08  6.69e-08  5.73e+07  1.35e-07  9.90e-01  \n",
      "  6  -2.8623e+09  +2.8623e+09  2.00e+00  9.46e-10  6.69e-10  5.72e+09  1.36e-09  9.90e-01  \n",
      "---------------------------------------------------------------------------------------------\n",
      "Terminated with status = PrimalInfeasible\n",
      "solve time = 130.209µs\n",
      "-------------------------------------------------------------------------------\n",
      "                                    Summary                                    \n",
      "-------------------------------------------------------------------------------\n",
      "(CVXPY) Nov 10 03:45:35 PM: Problem status: infeasible\n",
      "(CVXPY) Nov 10 03:45:35 PM: Optimal value: -inf\n",
      "(CVXPY) Nov 10 03:45:35 PM: Compilation took 7.914e-03 seconds\n",
      "(CVXPY) Nov 10 03:45:35 PM: Solver (including time spent in interface) took 4.780e-04 seconds\n"
     ]
    },
    {
     "data": {
      "text/plain": [
       "-inf"
      ]
     },
     "execution_count": 6,
     "metadata": {},
     "output_type": "execute_result"
    }
   ],
   "source": [
    "result = problem.solve(verbose=True)\n",
    "\n",
    "result"
   ]
  },
  {
   "cell_type": "code",
   "execution_count": 7,
   "id": "85cd5d4c-ebf8-453c-938b-b072ba258a07",
   "metadata": {},
   "outputs": [
    {
     "data": {
      "text/plain": [
       "'infeasible'"
      ]
     },
     "execution_count": 7,
     "metadata": {},
     "output_type": "execute_result"
    }
   ],
   "source": [
    "problem.status"
   ]
  },
  {
   "cell_type": "markdown",
   "id": "4424afce-093e-4b4c-8e98-6150e9e23a88",
   "metadata": {},
   "source": [
    "## 非有界のケース"
   ]
  },
  {
   "cell_type": "markdown",
   "id": "22a5bfbd-c004-4dbc-9a9a-41a92a80bdc1",
   "metadata": {},
   "source": [
    "\\begin{align}\n",
    "&\\text{maximize} & x_1 + x_2 \\\\\n",
    "&\\text{s.t.} & x_1 - x_2 \\geq -1 \\\\\n",
    "& & - x_1 + x_2 \\geq -1 \\\\\n",
    "& & x_1, x_2 \\geq 0\n",
    "\\end{align}"
   ]
  },
  {
   "cell_type": "code",
   "execution_count": 8,
   "id": "b7a17930-ae17-4037-95e2-8d48d9d5e008",
   "metadata": {},
   "outputs": [
    {
     "data": {
      "text/plain": [
       "Variable((2,), var75, nonneg=True)"
      ]
     },
     "execution_count": 8,
     "metadata": {},
     "output_type": "execute_result"
    }
   ],
   "source": [
    "var = cp.Variable(2, nonneg=True)\n",
    "x1 = var[0]\n",
    "x2 = var[1]\n",
    "\n",
    "var"
   ]
  },
  {
   "cell_type": "code",
   "execution_count": 9,
   "id": "e5dfdd0a-9a54-4c4a-8d87-36a68d650445",
   "metadata": {},
   "outputs": [
    {
     "data": {
      "text/plain": [
       "[Inequality(Constant(CONSTANT, NONPOSITIVE, ())),\n",
       " Inequality(Constant(CONSTANT, NONPOSITIVE, ()))]"
      ]
     },
     "execution_count": 9,
     "metadata": {},
     "output_type": "execute_result"
    }
   ],
   "source": [
    "constraints = []\n",
    "constraints.append(x1 - x2 >= -1)\n",
    "constraints.append(-x1 + x2 >= -1)\n",
    "\n",
    "constraints"
   ]
  },
  {
   "cell_type": "code",
   "execution_count": 10,
   "id": "26261554-354b-4555-a5e5-7770f5f2e338",
   "metadata": {},
   "outputs": [
    {
     "data": {
      "text/plain": [
       "Expression(AFFINE, NONNEGATIVE, ())"
      ]
     },
     "execution_count": 10,
     "metadata": {},
     "output_type": "execute_result"
    }
   ],
   "source": [
    "objective = x1 + x2\n",
    "\n",
    "objective"
   ]
  },
  {
   "cell_type": "code",
   "execution_count": 11,
   "id": "93730a1b-81ab-4e36-aea9-a980e29e4203",
   "metadata": {},
   "outputs": [
    {
     "data": {
      "text/plain": [
       "Problem(Maximize(Expression(AFFINE, NONNEGATIVE, ())), [Inequality(Constant(CONSTANT, NONPOSITIVE, ())), Inequality(Constant(CONSTANT, NONPOSITIVE, ()))])"
      ]
     },
     "execution_count": 11,
     "metadata": {},
     "output_type": "execute_result"
    }
   ],
   "source": [
    "problem = cp.Problem(cp.Maximize(objective), constraints)\n",
    "\n",
    "problem"
   ]
  },
  {
   "cell_type": "code",
   "execution_count": 12,
   "id": "f2015124-ad65-4303-a0cf-fe853a0d7203",
   "metadata": {
    "scrolled": true
   },
   "outputs": [
    {
     "name": "stdout",
     "output_type": "stream",
     "text": [
      "===============================================================================\n",
      "                                     CVXPY                                     \n",
      "                                     v1.5.3                                    \n",
      "===============================================================================\n",
      "(CVXPY) Nov 10 03:45:35 PM: Your problem has 2 variables, 2 constraints, and 0 parameters.\n",
      "(CVXPY) Nov 10 03:45:35 PM: It is compliant with the following grammars: DCP, DQCP\n",
      "(CVXPY) Nov 10 03:45:35 PM: (If you need to solve this problem multiple times, but with different data, consider using parameters.)\n",
      "(CVXPY) Nov 10 03:45:35 PM: CVXPY will first compile your problem; then, it will invoke a numerical solver to obtain a solution.\n",
      "(CVXPY) Nov 10 03:45:35 PM: Your problem is compiled with the CPP canonicalization backend.\n",
      "-------------------------------------------------------------------------------\n",
      "                                  Compilation                                  \n",
      "-------------------------------------------------------------------------------\n",
      "(CVXPY) Nov 10 03:45:35 PM: Compiling problem (target solver=CLARABEL).\n",
      "(CVXPY) Nov 10 03:45:35 PM: Reduction chain: FlipObjective -> Dcp2Cone -> CvxAttr2Constr -> ConeMatrixStuffing -> CLARABEL\n",
      "(CVXPY) Nov 10 03:45:35 PM: Applying reduction FlipObjective\n",
      "(CVXPY) Nov 10 03:45:35 PM: Applying reduction Dcp2Cone\n",
      "(CVXPY) Nov 10 03:45:35 PM: Applying reduction CvxAttr2Constr\n",
      "(CVXPY) Nov 10 03:45:35 PM: Applying reduction ConeMatrixStuffing\n",
      "(CVXPY) Nov 10 03:45:35 PM: Applying reduction CLARABEL\n",
      "(CVXPY) Nov 10 03:45:35 PM: Finished problem compilation (took 2.976e-03 seconds).\n",
      "-------------------------------------------------------------------------------\n",
      "                                Numerical solver                               \n",
      "-------------------------------------------------------------------------------\n",
      "(CVXPY) Nov 10 03:45:35 PM: Invoking solver CLARABEL  to obtain a solution.\n",
      "-------------------------------------------------------------\n",
      "           Clarabel.rs v0.9.0  -  Clever Acronym                \n",
      "\n",
      "                   (c) Paul Goulart                          \n",
      "                University of Oxford, 2022                   \n",
      "-------------------------------------------------------------\n",
      "\n",
      "problem:\n",
      "  variables     = 2\n",
      "  constraints   = 4\n",
      "  nnz(P)        = 0\n",
      "  nnz(A)        = 6\n",
      "  cones (total) = 1\n",
      "    : Nonnegative = 1,  numel = 4\n",
      "\n",
      "settings:\n",
      "  linear algebra: direct / qdldl, precision: 64 bit\n",
      "  max iter = 200, time limit = Inf,  max step = 0.990\n",
      "  tol_feas = 1.0e-8, tol_gap_abs = 1.0e-8, tol_gap_rel = 1.0e-8,\n",
      "  static reg : on, ϵ1 = 1.0e-8, ϵ2 = 4.9e-32\n",
      "  dynamic reg: on, ϵ = 1.0e-13, δ = 2.0e-7\n",
      "  iter refine: on, reltol = 1.0e-13, abstol = 1.0e-12,\n",
      "               max iter = 10, stop ratio = 5.0\n",
      "  equilibrate: on, min_scale = 1.0e-4, max_scale = 1.0e4\n",
      "               max iter = 10\n",
      "\n",
      "iter    pcost        dcost       gap       pres      dres      k/t        μ       step      \n",
      "---------------------------------------------------------------------------------------------\n",
      "  0  +0.0000e+00  -4.0000e+00  4.00e+00  4.81e-01  6.80e-01  1.00e+00  2.20e+00   ------   \n",
      "  1  -1.0592e+01  -1.0571e+01  2.02e-03  6.08e-02  9.16e-02  2.61e+00  3.40e-01  8.93e-01  \n",
      "  2  -1.3079e+03  -1.0516e+03  2.44e-01  6.40e-04  1.00e-03  2.59e+02  3.91e-03  9.90e-01  \n",
      "  3  -1.3106e+05  -1.0514e+05  2.47e-01  6.40e-06  1.00e-05  2.59e+04  3.91e-05  9.90e-01  \n",
      "  4  -1.3106e+07  -1.0514e+07  2.47e-01  6.40e-08  1.00e-07  2.59e+06  3.91e-07  9.90e-01  \n",
      "  5  -1.3106e+09  -1.0514e+09  2.47e-01  6.40e-10  1.00e-09  2.59e+08  3.91e-09  9.90e-01  \n",
      "  6  -1.2809e+11  -1.0545e+11  2.15e-01  1.11e-10  1.71e-11  2.26e+10  2.75e-10  9.21e-01  \n",
      "---------------------------------------------------------------------------------------------\n",
      "Terminated with status = DualInfeasible\n",
      "solve time = 52.206µs\n",
      "-------------------------------------------------------------------------------\n",
      "                                    Summary                                    \n",
      "-------------------------------------------------------------------------------\n",
      "(CVXPY) Nov 10 03:45:35 PM: Problem status: unbounded\n",
      "(CVXPY) Nov 10 03:45:35 PM: Optimal value: inf\n",
      "(CVXPY) Nov 10 03:45:35 PM: Compilation took 2.976e-03 seconds\n",
      "(CVXPY) Nov 10 03:45:35 PM: Solver (including time spent in interface) took 4.249e-04 seconds\n"
     ]
    },
    {
     "data": {
      "text/plain": [
       "inf"
      ]
     },
     "execution_count": 12,
     "metadata": {},
     "output_type": "execute_result"
    }
   ],
   "source": [
    "result = problem.solve(verbose=True)\n",
    "\n",
    "result"
   ]
  },
  {
   "cell_type": "code",
   "execution_count": 13,
   "id": "94317468-90a3-4eae-a591-e9de420cad81",
   "metadata": {},
   "outputs": [
    {
     "data": {
      "text/plain": [
       "'unbounded'"
      ]
     },
     "execution_count": 13,
     "metadata": {},
     "output_type": "execute_result"
    }
   ],
   "source": [
    "problem.status"
   ]
  },
  {
   "cell_type": "code",
   "execution_count": 14,
   "id": "387c09dc-0b23-4b13-9606-b93b46d124a7",
   "metadata": {},
   "outputs": [],
   "source": [
    "x1.value"
   ]
  },
  {
   "cell_type": "markdown",
   "id": "50cfed51-1425-494b-a19b-018a6e0c155d",
   "metadata": {},
   "source": [
    "## 実行不可能性の対処法(制約の逸脱を許すモデル化)"
   ]
  },
  {
   "cell_type": "markdown",
   "id": "d9dfeaeb-98db-45b2-97d1-116cd413d94f",
   "metadata": {},
   "source": [
    "栄養素摂取量制約の逸脱を許すために摂取量の不足分と超過分を表す決定変数を用意する. \n",
    "\n",
    "- $d_i \\in \\mathbb{R}_{\\geq 0}$: 栄養素 $i$ に対する不足変数\n",
    "- $s_i \\in \\mathbb{R}_{\\geq 0}$: 栄養素 $i$ に対する超過変数\n",
    "\n",
    "制約を以下のように変更する. \n",
    "\n",
    "$$\n",
    "a_i - d_i \\leq \\sum_{j \\in F} n_{ij} x_j \\leq b_i + s_i \\ (\\forall i \\in N)\n",
    "$$\n",
    "\n",
    "目的関数には以下の逸脱ペナルティを追加する($M$ は十分大きな定数). \n",
    "\n",
    "$$\n",
    "\\text{minimize} \\sum_{j \\in F} c_j x_j + M \\sum_{i \\in N} (d_i + s_i)\n",
    "$$\n",
    "\n",
    "結果, 以下のような定式化になる. \n",
    "\n",
    "\\begin{align}\n",
    "&\\text{minimize} & \\sum_{j \\in F} c_j x_j + M \\sum_{i \\in N} (d_i + s_i) \\\\\n",
    "&\\text{s.t.} & a_i - d_i \\leq \\sum_{j \\in F} n_{ij} x_j \\leq b_i + s_i \\ (\\forall i \\in N) \\\\\n",
    "& & x_j \\geq 0 \\ (\\forall j \\in F)\n",
    "\\end{align}"
   ]
  },
  {
   "cell_type": "code",
   "execution_count": 15,
   "id": "e35106a6-9feb-4093-b601-857c279e7a2b",
   "metadata": {},
   "outputs": [
    {
     "name": "stdout",
     "output_type": "stream",
     "text": [
      "[1, 2, 3, 4, 5] {1: 80, 2: 270, 3: 250, 4: 160, 5: 180}\n",
      "[1, 2, 3] {1: 500, 2: 800, 3: 500} {1: 600, 2: 500, 3: 100}\n"
     ]
    }
   ],
   "source": [
    "# https://scmopt.github.io/manual/15mypulp.html#multidict%E9%96%A2%E6%95%B0\n",
    "\n",
    "def multidict(d: dict):\n",
    "  ret = [list(d.keys())]\n",
    "  for k, arr in d.items():\n",
    "    if type(arr) is not list:\n",
    "      arr = [arr]\n",
    "    append_num = (1 + len(arr)) - len(ret)\n",
    "    if append_num > 0:\n",
    "      ret += [{} for _ in range(append_num)]\n",
    "\n",
    "    for i, val in enumerate(arr):\n",
    "      ret[i+1][k] = val\n",
    "\n",
    "  return ret\n",
    "\n",
    "I,d = multidict({1:80, 2:270, 3:250 , 4:160, 5:180})\n",
    "J,M,N = multidict({1:[500,600], 2:[800,500], 3:[500,100]})\n",
    "print(I,d)\n",
    "print(J,M,N)"
   ]
  },
  {
   "cell_type": "code",
   "execution_count": 16,
   "id": "734580d2-b1cc-4b0b-a5fc-7190ea5b4c98",
   "metadata": {
    "jupyter": {
     "source_hidden": true
    }
   },
   "outputs": [],
   "source": [
    "F, c, n = multidict(\n",
    "    {\n",
    "        \"CQPounder\": [\n",
    "            360,\n",
    "            {\n",
    "                \"Cal\": 556,\n",
    "                \"Carbo\": 39,\n",
    "                \"Protein\": 30,\n",
    "                \"VitA\": 147,\n",
    "                \"VitC\": 10,\n",
    "                \"Calc\": 221,\n",
    "                \"Iron\": 2.4,\n",
    "            },\n",
    "        ],\n",
    "        \"Big M\": [\n",
    "            320,\n",
    "            {\n",
    "                \"Cal\": 556,\n",
    "                \"Carbo\": 46,\n",
    "                \"Protein\": 26,\n",
    "                \"VitA\": 97,\n",
    "                \"VitC\": 9,\n",
    "                \"Calc\": 142,\n",
    "                \"Iron\": 2.4,\n",
    "            },\n",
    "        ],\n",
    "        \"FFilet\": [\n",
    "            270,\n",
    "            {\n",
    "                \"Cal\": 356,\n",
    "                \"Carbo\": 42,\n",
    "                \"Protein\": 14,\n",
    "                \"VitA\": 28,\n",
    "                \"VitC\": 1,\n",
    "                \"Calc\": 76,\n",
    "                \"Iron\": 0.7,\n",
    "            },\n",
    "        ],\n",
    "        \"Chicken\": [\n",
    "            290,\n",
    "            {\n",
    "                \"Cal\": 431,\n",
    "                \"Carbo\": 45,\n",
    "                \"Protein\": 20,\n",
    "                \"VitA\": 9,\n",
    "                \"VitC\": 2,\n",
    "                \"Calc\": 37,\n",
    "                \"Iron\": 0.9,\n",
    "            },\n",
    "        ],\n",
    "        \"Fries\": [\n",
    "            190,\n",
    "            {\n",
    "                \"Cal\": 249,\n",
    "                \"Carbo\": 30,\n",
    "                \"Protein\": 3,\n",
    "                \"VitA\": 0,\n",
    "                \"VitC\": 5,\n",
    "                \"Calc\": 7,\n",
    "                \"Iron\": 0.6,\n",
    "            },\n",
    "        ],\n",
    "        \"Milk\": [\n",
    "            170,\n",
    "            {\n",
    "                \"Cal\": 138,\n",
    "                \"Carbo\": 10,\n",
    "                \"Protein\": 7,\n",
    "                \"VitA\": 80,\n",
    "                \"VitC\": 2,\n",
    "                \"Calc\": 227,\n",
    "                \"Iron\": 0,\n",
    "            },\n",
    "        ],\n",
    "        \"VegJuice\": [\n",
    "            100,\n",
    "            {\n",
    "                \"Cal\": 69,\n",
    "                \"Carbo\": 17,\n",
    "                \"Protein\": 1,\n",
    "                \"VitA\": 750,\n",
    "                \"VitC\": 2,\n",
    "                \"Calc\": 18,\n",
    "                \"Iron\": 0,\n",
    "            },\n",
    "        ],\n",
    "    }\n",
    ")"
   ]
  },
  {
   "cell_type": "code",
   "execution_count": 17,
   "id": "bb711452-8bd2-4e74-9027-afff124dec42",
   "metadata": {},
   "outputs": [],
   "source": [
    "N, a, b = multidict(\n",
    "    {\n",
    "        \"Cal\": [2000, 3000],\n",
    "        \"Carbo\": [300, 375],\n",
    "        \"Protein\": [50, 60],\n",
    "        \"VitA\": [500, 750],\n",
    "        \"VitC\": [85, 100],\n",
    "        \"Calc\": [660, 900],\n",
    "        \"Iron\": [6.0, 7.5],\n",
    "    }\n",
    ")"
   ]
  },
  {
   "cell_type": "code",
   "execution_count": 18,
   "id": "1337f5ad-3597-4b88-9e56-3cd1ac72a230",
   "metadata": {},
   "outputs": [],
   "source": [
    "x, s, d = {}, {}, {}\n",
    "for j in F:\n",
    "    x[j] = cp.Variable(nonneg=True)\n",
    "for i in N:\n",
    "    s[i] = cp.Variable(nonneg=True)\n",
    "    d[i] = cp.Variable(nonneg=True)"
   ]
  },
  {
   "cell_type": "code",
   "execution_count": 19,
   "id": "14e60262-757e-4736-99da-5d68f5f4c683",
   "metadata": {},
   "outputs": [],
   "source": [
    "constraints = []\n",
    "constraints += [sum(n[j][i] * x[j] for j in F) >= a[i] - d[i] for i in N]\n",
    "constraints += [sum(n[j][i] * x[j] for j in F) <= b[i] - s[i] for i in N]"
   ]
  },
  {
   "cell_type": "code",
   "execution_count": 20,
   "id": "77827d4a-12af-4807-9662-ef4f3864cf19",
   "metadata": {},
   "outputs": [],
   "source": [
    "M = cp.Parameter(value=9999)\n",
    "objective = sum(c[j] * x[j] for j in F) + M * sum(d[i] + s[i] for i in N)"
   ]
  },
  {
   "cell_type": "code",
   "execution_count": 21,
   "id": "734e5dcd-dedb-488a-aced-d3b0a2f8d5e8",
   "metadata": {},
   "outputs": [],
   "source": [
    "problem = cp.Problem(cp.Minimize(objective), constraints)"
   ]
  },
  {
   "cell_type": "code",
   "execution_count": 22,
   "id": "4f122577-c6b3-4a89-b148-bb5dee3e29ac",
   "metadata": {},
   "outputs": [
    {
     "name": "stdout",
     "output_type": "stream",
     "text": [
      "===============================================================================\n",
      "                                     CVXPY                                     \n",
      "                                     v1.5.3                                    \n",
      "===============================================================================\n",
      "(CVXPY) Nov 10 03:45:35 PM: Your problem has 21 variables, 14 constraints, and 1 parameters.\n",
      "(CVXPY) Nov 10 03:45:35 PM: It is compliant with the following grammars: DCP, DQCP\n",
      "(CVXPY) Nov 10 03:45:35 PM: CVXPY will first compile your problem; then, it will invoke a numerical solver to obtain a solution.\n",
      "(CVXPY) Nov 10 03:45:35 PM: Your problem is compiled with the CPP canonicalization backend.\n",
      "-------------------------------------------------------------------------------\n",
      "                                  Compilation                                  \n",
      "-------------------------------------------------------------------------------\n",
      "(CVXPY) Nov 10 03:45:35 PM: Compiling problem (target solver=CLARABEL).\n",
      "(CVXPY) Nov 10 03:45:35 PM: Reduction chain: Dcp2Cone -> CvxAttr2Constr -> ConeMatrixStuffing -> CLARABEL\n",
      "(CVXPY) Nov 10 03:45:35 PM: Applying reduction Dcp2Cone\n",
      "(CVXPY) Nov 10 03:45:35 PM: Applying reduction CvxAttr2Constr\n",
      "(CVXPY) Nov 10 03:45:35 PM: Applying reduction ConeMatrixStuffing\n",
      "(CVXPY) Nov 10 03:45:35 PM: Applying reduction CLARABEL\n",
      "(CVXPY) Nov 10 03:45:35 PM: Finished problem compilation (took 9.685e-03 seconds).\n",
      "(CVXPY) Nov 10 03:45:35 PM: (Subsequent compilations of this problem, using the same arguments, should take less time.)\n",
      "-------------------------------------------------------------------------------\n",
      "                                Numerical solver                               \n",
      "-------------------------------------------------------------------------------\n",
      "(CVXPY) Nov 10 03:45:35 PM: Invoking solver CLARABEL  to obtain a solution.\n",
      "-------------------------------------------------------------\n",
      "           Clarabel.rs v0.9.0  -  Clever Acronym                \n",
      "\n",
      "                   (c) Paul Goulart                          \n",
      "                University of Oxford, 2022                   \n",
      "-------------------------------------------------------------\n",
      "\n",
      "problem:\n",
      "  variables     = 21\n",
      "  constraints   = 35\n",
      "  nnz(P)        = 0\n",
      "  nnz(A)        = 127\n",
      "  cones (total) = 1\n",
      "    : Nonnegative = 1,  numel = 35\n",
      "\n",
      "settings:\n",
      "  linear algebra: direct / qdldl, precision: 64 bit\n",
      "  max iter = 200, time limit = Inf,  max step = 0.990\n",
      "  tol_feas = 1.0e-8, tol_gap_abs = 1.0e-8, tol_gap_rel = 1.0e-8,\n",
      "  static reg : on, ϵ1 = 1.0e-8, ϵ2 = 4.9e-32\n",
      "  dynamic reg: on, ϵ = 1.0e-13, δ = 2.0e-7\n",
      "  iter refine: on, reltol = 1.0e-13, abstol = 1.0e-12,\n",
      "               max iter = 10, stop ratio = 5.0\n",
      "  equilibrate: on, min_scale = 1.0e-4, max_scale = 1.0e4\n",
      "               max iter = 10\n",
      "\n",
      "iter    pcost        dcost       gap       pres      dres      k/t        μ       step      \n",
      "---------------------------------------------------------------------------------------------\n",
      "  0  +4.3915e+05  -1.7331e+05  3.53e+00  2.20e-01  8.30e-01  1.00e+00  2.31e+05   ------   \n",
      "  1  +2.7594e+05  +1.5188e+05  8.17e-01  5.75e-02  2.95e-01  1.89e+04  6.81e+04  8.09e-01  \n",
      "  2  +2.6442e+05  +2.3055e+05  1.47e-01  1.58e-02  1.40e-01  5.59e+03  2.15e+04  6.97e-01  \n",
      "  3  +2.6566e+05  +2.6151e+05  1.59e-02  1.94e-03  1.65e-02  7.54e+02  2.86e+03  8.86e-01  \n",
      "  4  +2.6524e+05  +2.6408e+05  4.39e-03  5.62e-04  4.88e-03  2.90e+02  8.50e+02  8.46e-01  \n",
      "  5  +2.6490e+05  +2.6469e+05  7.82e-04  1.01e-04  8.91e-04  5.76e+01  1.55e+02  8.92e-01  \n",
      "  6  +2.6510e+05  +2.6507e+05  9.91e-05  1.30e-05  1.15e-04  7.78e+00  2.00e+01  9.27e-01  \n",
      "  7  +2.6512e+05  +2.6512e+05  1.02e-06  1.34e-07  1.18e-06  8.00e-02  2.06e-01  9.90e-01  \n",
      "  8  +2.6512e+05  +2.6512e+05  1.02e-08  1.34e-09  1.18e-08  8.00e-04  2.06e-03  9.90e-01  \n",
      "  9  +2.6512e+05  +2.6512e+05  1.02e-10  1.34e-11  1.18e-10  8.00e-06  2.06e-05  9.90e-01  \n",
      "---------------------------------------------------------------------------------------------\n",
      "Terminated with status = Solved\n",
      "solve time = 140.041µs\n",
      "-------------------------------------------------------------------------------\n",
      "                                    Summary                                    \n",
      "-------------------------------------------------------------------------------\n",
      "(CVXPY) Nov 10 03:45:35 PM: Problem status: optimal\n",
      "(CVXPY) Nov 10 03:45:35 PM: Optimal value: 2.651e+05\n",
      "(CVXPY) Nov 10 03:45:35 PM: Compilation took 9.685e-03 seconds\n",
      "(CVXPY) Nov 10 03:45:35 PM: Solver (including time spent in interface) took 4.780e-04 seconds\n"
     ]
    },
    {
     "data": {
      "text/plain": [
       "np.float64(265119.1876290786)"
      ]
     },
     "execution_count": 22,
     "metadata": {},
     "output_type": "execute_result"
    }
   ],
   "source": [
    "result = problem.solve(verbose=True)\n",
    "\n",
    "result"
   ]
  },
  {
   "cell_type": "code",
   "execution_count": 23,
   "id": "99c52b43-870b-4a18-8cc1-be66dc3b441d",
   "metadata": {},
   "outputs": [
    {
     "name": "stdout",
     "output_type": "stream",
     "text": [
      "[正常]栄養素 Cal     摂取量 3000.00, 正常範囲: [2000.0, 3000.0]\n",
      "[正常]栄養素 Carbo   摂取量  350.74, 正常範囲: [ 300.0,  375.0]\n",
      "[正常]栄養素 Protein 摂取量   50.00, 正常範囲: [  50.0,   60.0]\n",
      "[正常]栄養素 VitA    摂取量  750.00, 正常範囲: [ 500.0,  750.0]\n",
      "[違反]栄養素 VitC    摂取量   58.73, 正常範囲: [  85.0,  100.0]\n",
      "[正常]栄養素 Calc    摂取量  660.00, 正常範囲: [ 660.0,  900.0]\n",
      "[正常]栄養素 Iron    摂取量    6.29, 正常範囲: [   6.0,    7.5]\n"
     ]
    }
   ],
   "source": [
    "for i in N:\n",
    "    info = \"正常\"\n",
    "    if sum(n[j][i] * x[j].value for j in F) < a[i] - d[i].value or sum(n[j][i] * x[j].value for j in F) > b[i] - s[i].value:\n",
    "        info = \"違反\"\n",
    "    print(f\"[{info}]栄養素 {i:<7} 摂取量 {sum(n[j][i] * x[j].value for j in F):>7.2f}, 正常範囲: [{a[i]:>6.1f}, {b[i]:>6.1f}]\")"
   ]
  },
  {
   "cell_type": "code",
   "execution_count": 24,
   "id": "638e2858-8d0f-4c7a-b159-296e92fb3e19",
   "metadata": {},
   "outputs": [
    {
     "data": {
      "text/plain": [
       "np.float64(2485.5814440224326)"
      ]
     },
     "execution_count": 24,
     "metadata": {},
     "output_type": "execute_result"
    }
   ],
   "source": [
    "sum(c[j] * x[j] for j in F).value"
   ]
  },
  {
   "cell_type": "code",
   "execution_count": 25,
   "id": "f41c901b-2775-4145-a979-082d6b3dd3c0",
   "metadata": {},
   "outputs": [
    {
     "data": {
      "text/plain": [
       "np.float64(265119.1876290786)"
      ]
     },
     "execution_count": 25,
     "metadata": {},
     "output_type": "execute_result"
    }
   ],
   "source": [
    "objective.value"
   ]
  },
  {
   "cell_type": "markdown",
   "id": "d939f860-417b-4128-8fad-6adfdd8a848b",
   "metadata": {},
   "source": [
    "# 逸脱最小化"
   ]
  },
  {
   "cell_type": "markdown",
   "id": "c7522a85-d2b1-4d7c-a219-c235a7d63857",
   "metadata": {},
   "source": [
    "整数変数の連続変数化, 制約の逸脱をコスト関数化. "
   ]
  },
  {
   "cell_type": "code",
   "execution_count": 26,
   "id": "74104cd1-3652-4a14-a4a4-13aecf8dde7a",
   "metadata": {},
   "outputs": [],
   "source": [
    "x, s, d = {}, {}, {}\n",
    "for j in F:\n",
    "    x[j] = cp.Variable(nonneg=True)\n",
    "for i in N:\n",
    "    s[i] = cp.Variable(nonneg=True)\n",
    "    d[i] = cp.Variable(nonneg=True)"
   ]
  },
  {
   "cell_type": "code",
   "execution_count": 27,
   "id": "bb7c7592-330f-4d36-aec8-9dd8a5be4e80",
   "metadata": {},
   "outputs": [],
   "source": [
    "constraints = []\n",
    "constraints += [sum(n[j][i] * x[j] for j in F) >= a[i] - d[i] for i in N]\n",
    "constraints += [sum(n[j][i] * x[j] for j in F) <= b[i] - s[i] for i in N]"
   ]
  },
  {
   "cell_type": "code",
   "execution_count": 28,
   "id": "7c72f28a-3df3-448c-ae35-eed199d79930",
   "metadata": {},
   "outputs": [],
   "source": [
    "M = 9999\n",
    "\n",
    "svec = cp.Variable(len(N), nonneg=True)\n",
    "dvec = cp.Variable(len(N), nonneg=True)\n",
    "\n",
    "for idx, i in enumerate(N):\n",
    "    constraints.append(svec[idx] == s[i])\n",
    "    constraints.append(dvec[idx] == d[i])\n",
    "\n",
    "# objective = sum(c[j] * x[j] for j in F) + M * sum(d[i] * d[i] + s[i] * s[i] for i in N)\n",
    "objective = sum(c[j] * x[j] for j in F) + M * (cp.sum_squares(svec) + cp.sum_squares(dvec))"
   ]
  },
  {
   "cell_type": "code",
   "execution_count": 29,
   "id": "40cc9fb7-dabb-4e98-8a7b-303e5c65f359",
   "metadata": {},
   "outputs": [],
   "source": [
    "problem = cp.Problem(cp.Minimize(objective), constraints)"
   ]
  },
  {
   "cell_type": "code",
   "execution_count": 30,
   "id": "d0cf32d0-9e99-4902-b638-f34b27b7f0d1",
   "metadata": {},
   "outputs": [
    {
     "name": "stdout",
     "output_type": "stream",
     "text": [
      "===============================================================================\n",
      "                                     CVXPY                                     \n",
      "                                     v1.5.3                                    \n",
      "===============================================================================\n",
      "(CVXPY) Nov 10 03:45:35 PM: Your problem has 35 variables, 28 constraints, and 0 parameters.\n",
      "(CVXPY) Nov 10 03:45:35 PM: It is compliant with the following grammars: DCP, DQCP\n",
      "(CVXPY) Nov 10 03:45:35 PM: (If you need to solve this problem multiple times, but with different data, consider using parameters.)\n",
      "(CVXPY) Nov 10 03:45:35 PM: CVXPY will first compile your problem; then, it will invoke a numerical solver to obtain a solution.\n",
      "(CVXPY) Nov 10 03:45:35 PM: Your problem is compiled with the CPP canonicalization backend.\n",
      "-------------------------------------------------------------------------------\n",
      "                                  Compilation                                  \n",
      "-------------------------------------------------------------------------------\n",
      "(CVXPY) Nov 10 03:45:35 PM: Compiling problem (target solver=CLARABEL).\n",
      "(CVXPY) Nov 10 03:45:35 PM: Reduction chain: Dcp2Cone -> CvxAttr2Constr -> ConeMatrixStuffing -> CLARABEL\n",
      "(CVXPY) Nov 10 03:45:35 PM: Applying reduction Dcp2Cone\n",
      "(CVXPY) Nov 10 03:45:35 PM: Applying reduction CvxAttr2Constr\n",
      "(CVXPY) Nov 10 03:45:35 PM: Applying reduction ConeMatrixStuffing\n",
      "(CVXPY) Nov 10 03:45:35 PM: Applying reduction CLARABEL\n",
      "(CVXPY) Nov 10 03:45:35 PM: Finished problem compilation (took 1.142e-02 seconds).\n",
      "-------------------------------------------------------------------------------\n",
      "                                Numerical solver                               \n",
      "-------------------------------------------------------------------------------\n",
      "(CVXPY) Nov 10 03:45:35 PM: Invoking solver CLARABEL  to obtain a solution.\n",
      "-------------------------------------------------------------\n",
      "           Clarabel.rs v0.9.0  -  Clever Acronym                \n",
      "\n",
      "                   (c) Paul Goulart                          \n",
      "                University of Oxford, 2022                   \n",
      "-------------------------------------------------------------\n",
      "\n",
      "problem:\n",
      "  variables     = 35\n",
      "  constraints   = 63\n",
      "  nnz(P)        = 14\n",
      "  nnz(A)        = 169\n",
      "  cones (total) = 2\n",
      "    :        Zero = 1,  numel = 14\n",
      "    : Nonnegative = 1,  numel = 49\n",
      "\n",
      "settings:\n",
      "  linear algebra: direct / qdldl, precision: 64 bit\n",
      "  max iter = 200, time limit = Inf,  max step = 0.990\n",
      "  tol_feas = 1.0e-8, tol_gap_abs = 1.0e-8, tol_gap_rel = 1.0e-8,\n",
      "  static reg : on, ϵ1 = 1.0e-8, ϵ2 = 4.9e-32\n",
      "  dynamic reg: on, ϵ = 1.0e-13, δ = 2.0e-7\n",
      "  iter refine: on, reltol = 1.0e-13, abstol = 1.0e-12,\n",
      "               max iter = 10, stop ratio = 5.0\n",
      "  equilibrate: on, min_scale = 1.0e-4, max_scale = 1.0e4\n",
      "               max iter = 10\n",
      "\n",
      "iter    pcost        dcost       gap       pres      dres      k/t        μ       step      \n",
      "---------------------------------------------------------------------------------------------\n",
      "  0  +2.0166e+03  +9.4676e+04  4.59e+01  3.15e-01  1.96e+00  1.00e+00  2.16e+03   ------   \n",
      "  1  +1.0601e+05  -6.0465e+04  2.75e+00  9.44e-02  3.39e-01  1.69e+02  5.28e+02  8.25e-01  \n",
      "  2  +6.0197e+08  -5.7847e+08  2.04e+00  1.34e-01  1.24e-01  6.37e+04  3.07e+02  7.63e-01  \n",
      "  3  +1.6962e+08  -1.5756e+08  2.08e+00  1.47e-02  8.97e-03  4.12e+05  3.26e+01  9.84e-01  \n",
      "  4  +6.1441e+07  -5.0649e+07  2.21e+00  4.10e-03  1.97e-03  1.93e+05  6.83e+00  8.74e-01  \n",
      "  5  +1.9958e+07  -7.1167e+06  3.80e+00  1.03e-04  4.70e-05  5.49e+04  9.61e-01  9.90e-01  \n",
      "  6  +1.0946e+07  +2.7619e+06  2.96e+00  2.20e-05  8.38e-06  1.76e+04  2.09e-01  9.12e-01  \n",
      "  7  +8.3682e+06  +4.1743e+06  1.00e+00  1.03e-05  3.96e-06  7.22e+03  7.66e-02  9.90e-01  \n",
      "  8  +7.1788e+06  +6.5429e+06  9.72e-02  1.52e-07  5.38e-08  9.36e+02  9.27e-03  9.90e-01  \n",
      "  9  +6.9534e+06  +6.8236e+06  1.90e-02  7.83e-09  2.74e-09  1.75e+02  1.44e-03  9.90e-01  \n",
      " 10  +6.9078e+06  +6.8839e+06  3.47e-03  1.45e-10  5.08e-11  2.93e+01  2.00e-04  9.90e-01  \n",
      " 11  +6.8995e+06  +6.8952e+06  6.27e-04  3.19e-12  1.11e-12  5.01e+00  2.74e-05  9.86e-01  \n",
      " 12  +6.8980e+06  +6.8973e+06  1.12e-04  4.68e-14  1.60e-14  8.24e-01  3.69e-06  9.90e-01  \n",
      " 13  +6.8978e+06  +6.8976e+06  2.00e-05  1.26e-15  2.66e-16  1.36e-01  4.94e-07  9.90e-01  \n",
      " 14  +6.8977e+06  +6.8977e+06  3.63e-06  7.29e-16  3.26e-16  2.32e-02  6.69e-08  9.90e-01  \n",
      " 15  +6.8977e+06  +6.8977e+06  6.70e-07  6.37e-16  2.22e-16  4.00e-03  9.14e-09  9.90e-01  \n",
      " 16  +6.8977e+06  +6.8977e+06  1.28e-07  1.03e-13  3.04e-16  7.22e-04  1.28e-09  9.90e-01  \n",
      " 17  +6.8977e+06  +6.8977e+06  2.51e-08  3.61e-13  2.99e-16  1.36e-04  1.81e-10  9.90e-01  \n",
      " 18  +6.8977e+06  +6.8977e+06  5.00e-09  2.56e-13  4.12e-16  2.62e-05  2.58e-11  9.90e-01  \n",
      "---------------------------------------------------------------------------------------------\n",
      "Terminated with status = Solved\n",
      "solve time = 294.793µs\n",
      "-------------------------------------------------------------------------------\n",
      "                                    Summary                                    \n",
      "-------------------------------------------------------------------------------\n",
      "(CVXPY) Nov 10 03:45:35 PM: Problem status: optimal\n",
      "(CVXPY) Nov 10 03:45:35 PM: Optimal value: 6.898e+06\n",
      "(CVXPY) Nov 10 03:45:35 PM: Compilation took 1.142e-02 seconds\n",
      "(CVXPY) Nov 10 03:45:35 PM: Solver (including time spent in interface) took 6.757e-04 seconds\n"
     ]
    },
    {
     "data": {
      "text/plain": [
       "np.float64(6897718.082394719)"
      ]
     },
     "execution_count": 30,
     "metadata": {},
     "output_type": "execute_result"
    }
   ],
   "source": [
    "# result = problem.solve(verbose=True)\n",
    "result = problem.solve(verbose=True, solver=cp.CLARABEL)\n",
    "\n",
    "result"
   ]
  },
  {
   "cell_type": "code",
   "execution_count": 31,
   "id": "b71f16ee-bfff-4b0e-a289-7aed946436c9",
   "metadata": {},
   "outputs": [
    {
     "name": "stdout",
     "output_type": "stream",
     "text": [
      "[正常]栄養素 Cal     摂取量 3000.00, 正常範囲: [2000.0, 3000.0]\n",
      "[正常]栄養素 Carbo   摂取量  351.05, 正常範囲: [ 300.0,  375.0]\n",
      "[違反]栄養素 Protein 摂取量   49.76, 正常範囲: [  50.0,   60.0]\n",
      "[正常]栄養素 VitA    摂取量  750.00, 正常範囲: [ 500.0,  750.0]\n",
      "[違反]栄養素 VitC    摂取量   58.74, 正常範囲: [  85.0,  100.0]\n",
      "[違反]栄養素 Calc    摂取量  659.91, 正常範囲: [ 660.0,  900.0]\n",
      "[正常]栄養素 Iron    摂取量    6.27, 正常範囲: [   6.0,    7.5]\n"
     ]
    }
   ],
   "source": [
    "for i in N:\n",
    "    info = \"正常\"\n",
    "    if sum(n[j][i] * x[j].value for j in F) < a[i] or sum(n[j][i] * x[j].value for j in F) > b[i]:\n",
    "        info = \"違反\"\n",
    "    print(f\"[{info}]栄養素 {i:<7} 摂取量 {sum(n[j][i] * x[j].value for j in F):>7.2f}, 正常範囲: [{a[i]:>6.1f}, {b[i]:>6.1f}]\")"
   ]
  },
  {
   "cell_type": "code",
   "execution_count": 32,
   "id": "6e7dae2c-6f20-4ded-92d6-3487ce2b2d2e",
   "metadata": {},
   "outputs": [
    {
     "data": {
      "text/plain": [
       "np.float64(2487.240393581563)"
      ]
     },
     "execution_count": 32,
     "metadata": {},
     "output_type": "execute_result"
    }
   ],
   "source": [
    "sum(c[j] * x[j] for j in F).value"
   ]
  },
  {
   "cell_type": "markdown",
   "id": "ffe4d328-83d8-46ce-8f2b-3d276737cf0e",
   "metadata": {},
   "source": [
    "# 既約不整合部分系"
   ]
  },
  {
   "cell_type": "markdown",
   "id": "9caa45c4-a7e0-4a54-94e8-257d95896e04",
   "metadata": {
    "jp-MarkdownHeadingCollapsed": true
   },
   "source": [
    "既約不整合部分系 (irreducible Inconsistent Subsystem: IIS)\n",
    "\n",
    "- 実行不可能\n",
    "- 上下限もしくは制約を1つ除くと実行可能になる"
   ]
  },
  {
   "cell_type": "markdown",
   "id": "36cf146d-f007-4bc5-95aa-b1f83c0488a6",
   "metadata": {},
   "source": [
    "# 混合問題"
   ]
  },
  {
   "cell_type": "markdown",
   "id": "0bae6ada-0bf7-4358-91cc-ffd0e4249530",
   "metadata": {},
   "source": [
    "- 定数\n",
    "  - $I$: 原料の集合\n",
    "  - $K$: 成分の集合\n",
    "  - $p_i$: 原料 $i$ の価格\n",
    "  - $a_{ik}$: 原料 $i$ に含まれる成分 $k$ の比率\n",
    "  - $LB_k$: 製品に含まれる成分 $k$ の比率の下限\n",
    "  - $\\varepsilon$: 誤差の 2 乗和の上限\n",
    "- 決定変数\n",
    "  - $x_i$: 原料 $i$ の含有比率\n",
    "\n",
    "\\begin{align}\n",
    "&\\text{minimize} & \\sum_{i \\in I} p_i x_i \\\\\n",
    "&\\text{s.t.} & \\sum_{i \\in I} x_i = 1 \\\\\n",
    "& & \\sqrt{\\varepsilon^2 \\sum_{i \\in I} x_i^2} \\leq -LB_k + \\sum_{i \\in I} a_{ik} x_i \\quad (\\forall k \\in K) \\\\\n",
    "& & x_i \\geq 0 \\quad (\\forall i \\in I)\n",
    "\\end{align}"
   ]
  },
  {
   "cell_type": "code",
   "execution_count": 33,
   "id": "5cb53d5f-3817-4ada-98c6-2a488d9ee118",
   "metadata": {},
   "outputs": [],
   "source": [
    "def make_data():\n",
    "    a = {\n",
    "        (1, 1): 0.25,\n",
    "        (1, 2): 0.15,\n",
    "        (1, 3): 0.2,\n",
    "        (2, 1): 0.3,\n",
    "        (2, 2): 0.3,\n",
    "        (2, 3): 0.1,\n",
    "        (3, 1): 0.15,\n",
    "        (3, 2): 0.65,\n",
    "        (3, 3): 0.05,\n",
    "        (4, 1): 0.1,\n",
    "        (4, 2): 0.05,\n",
    "        (4, 3): 0.8,\n",
    "    }\n",
    "    epsilon = 0.01\n",
    "    I, p = multidict({1: 5, 2: 6, 3: 8, 4: 20})\n",
    "    K, LB = multidict({1: 0.2, 2: 0.3, 3: 0.2})\n",
    "    return I, K, a, p, epsilon, LB"
   ]
  },
  {
   "cell_type": "code",
   "execution_count": 34,
   "id": "af97d477-05c0-437d-88fd-a3d742a7078c",
   "metadata": {},
   "outputs": [],
   "source": [
    "def prodmix(I, K, a, p, epsilon, LB):\n",
    "    \"\"\"prodmix:  robust production planning using soco\n",
    "    Parameters:\n",
    "        I - set of materials\n",
    "        K - set of components\n",
    "        a[i][k] -  coef. matrix\n",
    "        p[i] - price of material i\n",
    "        LB[k] - amount needed for k\n",
    "    Returns a model, ready to be solved.\n",
    "    \"\"\"\n",
    "\n",
    "    xvar = cp.Variable(len(I), nonneg=True)\n",
    "    x = {i: xvar[i-1] for i in I}\n",
    "\n",
    "    constraints = []\n",
    "    constraints.append(sum(x[i] for i in I) == 1)\n",
    "\n",
    "    for k in K:\n",
    "        rhs = cp.Variable()\n",
    "        if epsilon != 0:\n",
    "            constraints.append(epsilon * rhs == -LB[k] + sum(a[i,k] * x[i] for i in I))\n",
    "            constraints.append(cp.SOC(rhs, xvar)) # ||x||^2 <= rhs^2\n",
    "        else:\n",
    "            constraints.append(0 <= -LB[k] + sum(a[i,k] * x[i] for i in I))\n",
    "\n",
    "    objective = sum(p[i] * x[i] for i in I)\n",
    "    problem = cp.Problem(cp.Minimize(objective), constraints)\n",
    "\n",
    "    return problem"
   ]
  },
  {
   "cell_type": "code",
   "execution_count": 35,
   "id": "90a5bfb8-c7e1-4c39-b29e-938965c10d9e",
   "metadata": {},
   "outputs": [
    {
     "name": "stdout",
     "output_type": "stream",
     "text": [
      "obj: 7.131578929528664\n",
      "obj: 7.4789501280846\n",
      "obj: 7.862788106052839\n",
      "obj: 8.229077698905884\n",
      "obj: 8.79202952701788\n"
     ]
    }
   ],
   "source": [
    "I, K, a, p, epsilon, LB = make_data()\n",
    "obj_list = []\n",
    "for i in range(5):\n",
    "    epsilon = i * 0.01\n",
    "    model = prodmix(I, K, a, p, epsilon, LB)\n",
    "    model.solve(verbose=False)\n",
    "    print(f\"obj: {model.objective.value}\")\n",
    "    obj_list.append(model.objective.value)"
   ]
  },
  {
   "cell_type": "code",
   "execution_count": 36,
   "id": "05321015-8dcf-4e84-be0d-3ca45c53fb8b",
   "metadata": {},
   "outputs": [
    {
     "data": {
      "text/plain": [
       "<Axes: >"
      ]
     },
     "execution_count": 36,
     "metadata": {},
     "output_type": "execute_result"
    },
    {
     "data": {
      "image/png": "[encoded data removed]",
      "text/plain": [
       "<Figure size 640x480 with 1 Axes>"
      ]
     },
     "metadata": {},
     "output_type": "display_data"
    }
   ],
   "source": [
    "pd.Series(obj_list).plot()"
   ]
  },
  {
   "cell_type": "code",
   "execution_count": 37,
   "id": "f890d3b4-cd48-4a3c-9679-33ce1dce41cc",
   "metadata": {},
   "outputs": [
    {
     "name": "stdout",
     "output_type": "stream",
     "text": [
      "===============================================================================\n",
      "                                     CVXPY                                     \n",
      "                                     v1.5.3                                    \n",
      "===============================================================================\n",
      "(CVXPY) Nov 10 03:45:36 PM: Your problem has 4 variables, 4 constraints, and 0 parameters.\n",
      "(CVXPY) Nov 10 03:45:36 PM: It is compliant with the following grammars: DCP, DQCP\n",
      "(CVXPY) Nov 10 03:45:36 PM: (If you need to solve this problem multiple times, but with different data, consider using parameters.)\n",
      "(CVXPY) Nov 10 03:45:36 PM: CVXPY will first compile your problem; then, it will invoke a numerical solver to obtain a solution.\n",
      "(CVXPY) Nov 10 03:45:36 PM: Your problem is compiled with the CPP canonicalization backend.\n",
      "-------------------------------------------------------------------------------\n",
      "                                  Compilation                                  \n",
      "-------------------------------------------------------------------------------\n",
      "(CVXPY) Nov 10 03:45:36 PM: Compiling problem (target solver=CLARABEL).\n",
      "(CVXPY) Nov 10 03:45:36 PM: Reduction chain: Dcp2Cone -> CvxAttr2Constr -> ConeMatrixStuffing -> CLARABEL\n",
      "(CVXPY) Nov 10 03:45:36 PM: Applying reduction Dcp2Cone\n",
      "(CVXPY) Nov 10 03:45:36 PM: Applying reduction CvxAttr2Constr\n",
      "(CVXPY) Nov 10 03:45:36 PM: Applying reduction ConeMatrixStuffing\n",
      "(CVXPY) Nov 10 03:45:36 PM: Applying reduction CLARABEL\n",
      "(CVXPY) Nov 10 03:45:36 PM: Finished problem compilation (took 4.203e-03 seconds).\n",
      "-------------------------------------------------------------------------------\n",
      "                                Numerical solver                               \n",
      "-------------------------------------------------------------------------------\n",
      "(CVXPY) Nov 10 03:45:36 PM: Invoking solver CLARABEL  to obtain a solution.\n",
      "-------------------------------------------------------------\n",
      "           Clarabel.rs v0.9.0  -  Clever Acronym                \n",
      "\n",
      "                   (c) Paul Goulart                          \n",
      "                University of Oxford, 2022                   \n",
      "-------------------------------------------------------------\n",
      "\n",
      "problem:\n",
      "  variables     = 4\n",
      "  constraints   = 8\n",
      "  nnz(P)        = 0\n",
      "  nnz(A)        = 20\n",
      "  cones (total) = 2\n",
      "    :        Zero = 1,  numel = 1\n",
      "    : Nonnegative = 1,  numel = 7\n",
      "\n",
      "settings:\n",
      "  linear algebra: direct / qdldl, precision: 64 bit\n",
      "  max iter = 200, time limit = Inf,  max step = 0.990\n",
      "  tol_feas = 1.0e-8, tol_gap_abs = 1.0e-8, tol_gap_rel = 1.0e-8,\n",
      "  static reg : on, ϵ1 = 1.0e-8, ϵ2 = 4.9e-32\n",
      "  dynamic reg: on, ϵ = 1.0e-13, δ = 2.0e-7\n",
      "  iter refine: on, reltol = 1.0e-13, abstol = 1.0e-12,\n",
      "               max iter = 10, stop ratio = 5.0\n",
      "  equilibrate: on, min_scale = 1.0e-4, max_scale = 1.0e4\n",
      "               max iter = 10\n",
      "\n",
      "iter    pcost        dcost       gap       pres      dres      k/t        μ       step      \n",
      "---------------------------------------------------------------------------------------------\n",
      "  0  +9.2240e+00  +1.6142e+01  7.50e-01  5.34e-01  6.40e-01  1.00e+00  5.19e+00   ------   \n",
      "  1  +5.7011e+00  +6.1353e+00  7.62e-02  6.35e-02  5.12e-02  2.78e-02  4.41e-01  9.19e-01  \n",
      "  2  +7.0489e+00  +7.3132e+00  3.75e-02  3.08e-02  1.90e-02  7.95e-02  1.58e-01  8.33e-01  \n",
      "  3  +7.1153e+00  +7.1299e+00  2.05e-03  1.67e-03  1.09e-03  4.17e-03  9.44e-03  9.42e-01  \n",
      "  4  +7.1314e+00  +7.1316e+00  2.29e-05  1.83e-05  1.21e-05  4.92e-05  1.07e-04  9.90e-01  \n",
      "  5  +7.1316e+00  +7.1316e+00  2.29e-07  1.83e-07  1.21e-07  4.92e-07  1.07e-06  9.90e-01  \n",
      "  6  +7.1316e+00  +7.1316e+00  2.29e-09  1.83e-09  1.21e-09  4.92e-09  1.07e-08  9.90e-01  \n",
      "---------------------------------------------------------------------------------------------\n",
      "Terminated with status = Solved\n",
      "solve time = 44.876µs\n",
      "-------------------------------------------------------------------------------\n",
      "                                    Summary                                    \n",
      "-------------------------------------------------------------------------------\n",
      "(CVXPY) Nov 10 03:45:36 PM: Problem status: optimal\n",
      "(CVXPY) Nov 10 03:45:36 PM: Optimal value: 7.132e+00\n",
      "(CVXPY) Nov 10 03:45:36 PM: Compilation took 4.203e-03 seconds\n",
      "(CVXPY) Nov 10 03:45:36 PM: Solver (including time spent in interface) took 3.929e-04 seconds\n"
     ]
    },
    {
     "data": {
      "text/plain": [
       "np.float64(7.131578929528664)"
      ]
     },
     "execution_count": 37,
     "metadata": {},
     "output_type": "execute_result"
    }
   ],
   "source": [
    "I, K, a, p, epsilon, LB = make_data()\n",
    "i = 0\n",
    "epsilon = i * 0.01\n",
    "model = prodmix(I, K, a, p, epsilon, LB)\n",
    "model.solve(verbose=True)"
   ]
  },
  {
   "cell_type": "code",
   "execution_count": 38,
   "id": "37985bbb-df56-4294-8a48-2b5a64e40f8a",
   "metadata": {},
   "outputs": [
    {
     "name": "stdout",
     "output_type": "stream",
     "text": [
      "===============================================================================\n",
      "                                     CVXPY                                     \n",
      "                                     v1.5.3                                    \n",
      "===============================================================================\n",
      "(CVXPY) Nov 10 03:45:36 PM: Your problem has 7 variables, 7 constraints, and 0 parameters.\n",
      "(CVXPY) Nov 10 03:45:36 PM: It is compliant with the following grammars: DCP, DQCP\n",
      "(CVXPY) Nov 10 03:45:36 PM: (If you need to solve this problem multiple times, but with different data, consider using parameters.)\n",
      "(CVXPY) Nov 10 03:45:36 PM: CVXPY will first compile your problem; then, it will invoke a numerical solver to obtain a solution.\n",
      "(CVXPY) Nov 10 03:45:36 PM: Your problem is compiled with the CPP canonicalization backend.\n",
      "-------------------------------------------------------------------------------\n",
      "                                  Compilation                                  \n",
      "-------------------------------------------------------------------------------\n",
      "(CVXPY) Nov 10 03:45:36 PM: Compiling problem (target solver=SCIP).\n",
      "(CVXPY) Nov 10 03:45:36 PM: Reduction chain: Dcp2Cone -> CvxAttr2Constr -> ConeMatrixStuffing -> SCIP\n",
      "(CVXPY) Nov 10 03:45:36 PM: Applying reduction Dcp2Cone\n",
      "(CVXPY) Nov 10 03:45:36 PM: Applying reduction CvxAttr2Constr\n",
      "(CVXPY) Nov 10 03:45:36 PM: Applying reduction ConeMatrixStuffing\n",
      "(CVXPY) Nov 10 03:45:36 PM: Applying reduction SCIP\n",
      "(CVXPY) Nov 10 03:45:36 PM: Finished problem compilation (took 4.446e-03 seconds).\n",
      "-------------------------------------------------------------------------------\n",
      "                                Numerical solver                               \n",
      "-------------------------------------------------------------------------------\n",
      "(CVXPY) Nov 10 03:45:36 PM: Invoking solver SCIP  to obtain a solution.\n",
      "presolving:\n",
      "(round 1, fast)       15 del vars, 19 del conss, 0 add conss, 19 chg bounds, 0 chg sides, 0 chg coeffs, 0 upgd conss, 0 impls, 0 clqs\n",
      "(round 2, fast)       15 del vars, 19 del conss, 0 add conss, 26 chg bounds, 0 chg sides, 0 chg coeffs, 0 upgd conss, 0 impls, 0 clqs\n",
      "   (0.0s) symmetry computation started: requiring (bin +, int +, cont +), (fixed: bin -, int -, cont -)\n",
      "   (0.0s) no symmetry present (symcode time: 0.00)\n",
      "presolving (3 rounds: 3 fast, 1 medium, 1 exhaustive):\n",
      " 15 deleted vars, 19 deleted constraints, 0 added constraints, 26 tightened bounds, 0 added holes, 0 changed sides, 0 changed coefficients\n",
      " 0 implications, 0 cliques\n",
      "presolved problem has 7 variables (0 bin, 0 int, 0 impl, 7 cont) and 7 constraints\n",
      "      4 constraints of type <linear>\n",
      "      3 constraints of type <nonlinear>\n",
      "Presolving Time: 0.00\n",
      "\n",
      " time | node  | left  |LP iter|LP it/n|mem/heur|mdpt |vars |cons |rows |cuts |sepa|confs|strbr|  dualbound   | primalbound  |  gap   | compl. \n",
      "  0.0s|     1 |     0 |    18 |     - |   857k |   0 |  22 |   7 |  31 |   0 |  0 |   0 |   0 | 7.405958e+00 |      --      |    Inf | unknown\n",
      "L 0.0s|     1 |     0 |    18 |     - |  subnlp|   0 |  22 |   7 |  31 |   0 |  0 |   0 |   0 | 7.405958e+00 | 7.478950e+00 |   0.99%| unknown\n",
      "  0.0s|     1 |     0 |    24 |     - |   865k |   0 |  22 |   7 |  37 |   6 |  1 |   0 |   0 | 7.440494e+00 | 7.478950e+00 |   0.52%| unknown\n",
      "  0.0s|     1 |     0 |    24 |     - |   865k |   0 |  22 |   7 |  37 |   6 |  1 |   0 |   0 | 7.440494e+00 | 7.478950e+00 |   0.52%| unknown\n",
      "  0.0s|     1 |     0 |    30 |     - |   882k |   0 |  22 |   7 |  43 |  12 |  2 |   0 |   0 | 7.461142e+00 | 7.478950e+00 |   0.24%| unknown\n",
      "  0.0s|     1 |     0 |    35 |     - |   883k |   0 |  22 |   7 |  49 |  18 |  3 |   0 |   0 | 7.477756e+00 | 7.478950e+00 |   0.02%| unknown\n",
      "  0.0s|     1 |     0 |    45 |     - |   883k |   0 |  22 |   7 |  59 |  28 |  4 |   0 |   0 | 7.478936e+00 | 7.478950e+00 |   0.00%| unknown\n",
      "  0.0s|     1 |     0 |    46 |     - |   883k |   0 |  22 |   7 |  60 |  29 |  5 |   0 |   0 | 7.478947e+00 | 7.478950e+00 |   0.00%| unknown\n",
      "  0.0s|     1 |     0 |    47 |     - |   883k |   0 |  22 |   7 |  61 |  30 |  6 |   0 |   0 | 7.478950e+00 | 7.478950e+00 |   0.00%| unknown\n",
      "  0.0s|     1 |     0 |    47 |     - |   883k |   0 |  22 |   7 |  61 |  30 |  7 |   0 |   0 | 7.478950e+00 | 7.478950e+00 |   0.00%| unknown\n",
      "  0.0s|     1 |     0 |    48 |     - |   884k |   0 |  22 |   7 |  62 |  31 |  8 |   0 |   0 | 7.478950e+00 | 7.478950e+00 |   0.00%| unknown\n",
      "* 0.0s|     1 |     0 |    48 |     - |    LP  |   0 |  22 |   7 |  62 |  31 |  9 |   0 |   0 | 7.478950e+00 | 7.478950e+00 |   0.00%| unknown\n",
      "\n",
      "SCIP Status        : problem is solved [optimal solution found]\n",
      "Solving Time (sec) : 0.02\n",
      "Solving Nodes      : 1\n",
      "Primal Bound       : +7.47894991787327e+00 (2 solutions)\n",
      "Dual Bound         : +7.47894991787327e+00\n",
      "Gap                : 0.00 %\n",
      "-------------------------------------------------------------------------------\n",
      "                                    Summary                                    \n",
      "-------------------------------------------------------------------------------\n",
      "(CVXPY) Nov 10 03:45:36 PM: Problem status: optimal\n",
      "(CVXPY) Nov 10 03:45:36 PM: Optimal value: 7.479e+00\n",
      "(CVXPY) Nov 10 03:45:36 PM: Compilation took 4.446e-03 seconds\n",
      "(CVXPY) Nov 10 03:45:36 PM: Solver (including time spent in interface) took 2.209e-02 seconds\n"
     ]
    },
    {
     "data": {
      "text/plain": [
       "np.float64(7.478949917873269)"
      ]
     },
     "execution_count": 38,
     "metadata": {},
     "output_type": "execute_result"
    }
   ],
   "source": [
    "I, K, a, p, epsilon, LB = make_data()\n",
    "i = 1\n",
    "epsilon = i * 0.01\n",
    "model = prodmix(I, K, a, p, epsilon, LB)\n",
    "model.solve(verbose=True, solver=cp.SCIP)"
   ]
  },
  {
   "cell_type": "code",
   "execution_count": null,
   "id": "d4f21a76-1e3a-40e6-a14e-c2d6b05b9e62",
   "metadata": {},
   "outputs": [],
   "source": []
  }
 ],
 "metadata": {
  "kernelspec": {
   "display_name": "Python 3 (ipykernel)",
   "language": "python",
   "name": "python3"
  },
  "language_info": {
   "codemirror_mode": {
    "name": "ipython",
    "version": 3
   },
   "file_extension": ".py",
   "mimetype": "text/x-python",
   "name": "python",
   "nbconvert_exporter": "python",
   "pygments_lexer": "ipython3",
   "version": "3.12.2"
  }
 },
 "nbformat": 4,
 "nbformat_minor": 5
}
